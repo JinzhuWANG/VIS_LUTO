{
 "cells": [
  {
   "cell_type": "code",
   "execution_count": null,
   "metadata": {},
   "outputs": [],
   "source": []
  },
  {
   "cell_type": "markdown",
   "metadata": {},
   "source": [
    "# The Greenhouse Gas (GHS) emissions"
   ]
  },
  {
   "cell_type": "code",
   "execution_count": 1,
   "metadata": {
    "tags": [
     "remove-cell"
    ]
   },
   "outputs": [],
   "source": [
    "# HIDDEN\n",
    "%load_ext autoreload\n",
    "%autoreload 2"
   ]
  },
  {
   "cell_type": "code",
   "execution_count": null,
   "metadata": {},
   "outputs": [],
   "source": []
  },
  {
   "cell_type": "markdown",
   "metadata": {},
   "source": [
    "## Get GHG emission from agricultural land-use"
   ]
  },
  {
   "cell_type": "code",
   "execution_count": 2,
   "metadata": {
    "tags": [
     "remove-cell"
    ]
   },
   "outputs": [
    {
     "name": "stderr",
     "output_type": "stream",
     "text": [
      "/Users/gigi/miniconda3/envs/jbook/lib/python3.12/site-packages/tqdm/auto.py:21: TqdmWarning: IProgress not found. Please update jupyter and ipywidgets. See https://ipywidgets.readthedocs.io/en/stable/user_install.html\n",
      "  from .autonotebook import tqdm as notebook_tqdm\n"
     ]
    }
   ],
   "source": [
    "# HIDDEN\n",
    "import altair as alt\n",
    "\n",
    "from tools import get_all_files, get_GHG_file_df\n",
    "from tools.Plot_GHG import get_GHG_plots,plot_GHG_total"
   ]
  },
  {
   "cell_type": "code",
   "execution_count": null,
   "metadata": {},
   "outputs": [],
   "source": []
  },
  {
   "cell_type": "markdown",
   "metadata": {},
   "source": [
    "## Data preparing"
   ]
  },
  {
   "cell_type": "code",
   "execution_count": null,
   "metadata": {},
   "outputs": [],
   "source": []
  },
  {
   "cell_type": "code",
   "execution_count": 3,
   "metadata": {
    "tags": [
     "remove-cell",
     "hide-input"
    ]
   },
   "outputs": [
    {
     "name": "stdout",
     "output_type": "stream",
     "text": [
      "['GHG' 'dvar' 'ammap' 'lmmap' 'lumap_separate_Agricultural Land-use'\n",
      " 'lumap_separate_Non-Agricultural Land-use' 'lumap' 'water' 'cross_table'\n",
      " 'quantity'] \n",
      "\n"
     ]
    }
   ],
   "source": [
    "# HIDE CODE\n",
    "# Get all output files\n",
    "from PARAMETERS import DATA_ROOT\n",
    "files = get_all_files(DATA_ROOT)\n",
    "\n",
    "\n",
    "# Select files based on criteria\n",
    "files_selc = files.query('year <= 2050')\n",
    "print(files_selc['catetory'].unique(),'\\n')"
   ]
  },
  {
   "cell_type": "code",
   "execution_count": null,
   "metadata": {},
   "outputs": [],
   "source": []
  },
  {
   "cell_type": "code",
   "execution_count": null,
   "metadata": {},
   "outputs": [],
   "source": []
  },
  {
   "cell_type": "code",
   "execution_count": null,
   "metadata": {},
   "outputs": [],
   "source": []
  },
  {
   "cell_type": "markdown",
   "metadata": {},
   "source": [
    "Filter the GHG data"
   ]
  },
  {
   "cell_type": "code",
   "execution_count": 4,
   "metadata": {
    "tags": [
     "remove-input"
    ]
   },
   "outputs": [
    {
     "data": {
      "text/html": [
       "<div>\n",
       "<style scoped>\n",
       "    .dataframe tbody tr th:only-of-type {\n",
       "        vertical-align: middle;\n",
       "    }\n",
       "\n",
       "    .dataframe tbody tr th {\n",
       "        vertical-align: top;\n",
       "    }\n",
       "\n",
       "    .dataframe thead th {\n",
       "        text-align: right;\n",
       "    }\n",
       "</style>\n",
       "<table border=\"1\" class=\"dataframe\">\n",
       "  <thead>\n",
       "    <tr style=\"text-align: right;\">\n",
       "      <th></th>\n",
       "      <th>year</th>\n",
       "      <th>catetory</th>\n",
       "      <th>base_name</th>\n",
       "      <th>base_ext</th>\n",
       "      <th>path</th>\n",
       "      <th>GHG_sum_t</th>\n",
       "      <th>GHG_sum_Mt</th>\n",
       "    </tr>\n",
       "  </thead>\n",
       "  <tbody>\n",
       "    <tr>\n",
       "      <th>2</th>\n",
       "      <td>2010</td>\n",
       "      <td>GHG</td>\n",
       "      <td>Non-Agricultural Landuse</td>\n",
       "      <td>.csv</td>\n",
       "      <td>../LUTO_DATA/2023_11_21__05_26_04__hard_mincos...</td>\n",
       "      <td>-1.077782e+05</td>\n",
       "      <td>-0.107778</td>\n",
       "    </tr>\n",
       "    <tr>\n",
       "      <th>1</th>\n",
       "      <td>2010</td>\n",
       "      <td>GHG</td>\n",
       "      <td>Agricultural Management</td>\n",
       "      <td>.csv</td>\n",
       "      <td>../LUTO_DATA/2023_11_21__05_26_04__hard_mincos...</td>\n",
       "      <td>0.000000e+00</td>\n",
       "      <td>0.000000</td>\n",
       "    </tr>\n",
       "    <tr>\n",
       "      <th>3</th>\n",
       "      <td>2010</td>\n",
       "      <td>GHG</td>\n",
       "      <td>Transition Penalty</td>\n",
       "      <td>.csv</td>\n",
       "      <td>../LUTO_DATA/2023_11_21__05_26_04__hard_mincos...</td>\n",
       "      <td>0.000000e+00</td>\n",
       "      <td>0.000000</td>\n",
       "    </tr>\n",
       "    <tr>\n",
       "      <th>0</th>\n",
       "      <td>2010</td>\n",
       "      <td>GHG</td>\n",
       "      <td>Agricultural Landuse</td>\n",
       "      <td>.csv</td>\n",
       "      <td>../LUTO_DATA/2023_11_21__05_26_04__hard_mincos...</td>\n",
       "      <td>9.051190e+07</td>\n",
       "      <td>90.511903</td>\n",
       "    </tr>\n",
       "    <tr>\n",
       "      <th>6</th>\n",
       "      <td>2011</td>\n",
       "      <td>GHG</td>\n",
       "      <td>Non-Agricultural Landuse</td>\n",
       "      <td>.csv</td>\n",
       "      <td>../LUTO_DATA/2023_11_21__05_26_04__hard_mincos...</td>\n",
       "      <td>-8.273422e+06</td>\n",
       "      <td>-8.273422</td>\n",
       "    </tr>\n",
       "    <tr>\n",
       "      <th>...</th>\n",
       "      <td>...</td>\n",
       "      <td>...</td>\n",
       "      <td>...</td>\n",
       "      <td>...</td>\n",
       "      <td>...</td>\n",
       "      <td>...</td>\n",
       "      <td>...</td>\n",
       "    </tr>\n",
       "    <tr>\n",
       "      <th>156</th>\n",
       "      <td>2049</td>\n",
       "      <td>GHG</td>\n",
       "      <td>Agricultural Landuse</td>\n",
       "      <td>.csv</td>\n",
       "      <td>../LUTO_DATA/2023_11_21__05_26_04__hard_mincos...</td>\n",
       "      <td>7.590731e+07</td>\n",
       "      <td>75.907306</td>\n",
       "    </tr>\n",
       "    <tr>\n",
       "      <th>162</th>\n",
       "      <td>2050</td>\n",
       "      <td>GHG</td>\n",
       "      <td>Non-Agricultural Landuse</td>\n",
       "      <td>.csv</td>\n",
       "      <td>../LUTO_DATA/2023_11_21__05_26_04__hard_mincos...</td>\n",
       "      <td>-3.799907e+08</td>\n",
       "      <td>-379.990720</td>\n",
       "    </tr>\n",
       "    <tr>\n",
       "      <th>161</th>\n",
       "      <td>2050</td>\n",
       "      <td>GHG</td>\n",
       "      <td>Agricultural Management</td>\n",
       "      <td>.csv</td>\n",
       "      <td>../LUTO_DATA/2023_11_21__05_26_04__hard_mincos...</td>\n",
       "      <td>-3.439199e+07</td>\n",
       "      <td>-34.391990</td>\n",
       "    </tr>\n",
       "    <tr>\n",
       "      <th>163</th>\n",
       "      <td>2050</td>\n",
       "      <td>GHG</td>\n",
       "      <td>Transition Penalty</td>\n",
       "      <td>.csv</td>\n",
       "      <td>../LUTO_DATA/2023_11_21__05_26_04__hard_mincos...</td>\n",
       "      <td>6.538516e+04</td>\n",
       "      <td>0.065385</td>\n",
       "    </tr>\n",
       "    <tr>\n",
       "      <th>160</th>\n",
       "      <td>2050</td>\n",
       "      <td>GHG</td>\n",
       "      <td>Agricultural Landuse</td>\n",
       "      <td>.csv</td>\n",
       "      <td>../LUTO_DATA/2023_11_21__05_26_04__hard_mincos...</td>\n",
       "      <td>7.736741e+07</td>\n",
       "      <td>77.367415</td>\n",
       "    </tr>\n",
       "  </tbody>\n",
       "</table>\n",
       "<p>164 rows × 7 columns</p>\n",
       "</div>"
      ],
      "text/plain": [
       "     year catetory                 base_name base_ext  \\\n",
       "2    2010      GHG  Non-Agricultural Landuse     .csv   \n",
       "1    2010      GHG   Agricultural Management     .csv   \n",
       "3    2010      GHG        Transition Penalty     .csv   \n",
       "0    2010      GHG      Agricultural Landuse     .csv   \n",
       "6    2011      GHG  Non-Agricultural Landuse     .csv   \n",
       "..    ...      ...                       ...      ...   \n",
       "156  2049      GHG      Agricultural Landuse     .csv   \n",
       "162  2050      GHG  Non-Agricultural Landuse     .csv   \n",
       "161  2050      GHG   Agricultural Management     .csv   \n",
       "163  2050      GHG        Transition Penalty     .csv   \n",
       "160  2050      GHG      Agricultural Landuse     .csv   \n",
       "\n",
       "                                                  path     GHG_sum_t  \\\n",
       "2    ../LUTO_DATA/2023_11_21__05_26_04__hard_mincos... -1.077782e+05   \n",
       "1    ../LUTO_DATA/2023_11_21__05_26_04__hard_mincos...  0.000000e+00   \n",
       "3    ../LUTO_DATA/2023_11_21__05_26_04__hard_mincos...  0.000000e+00   \n",
       "0    ../LUTO_DATA/2023_11_21__05_26_04__hard_mincos...  9.051190e+07   \n",
       "6    ../LUTO_DATA/2023_11_21__05_26_04__hard_mincos... -8.273422e+06   \n",
       "..                                                 ...           ...   \n",
       "156  ../LUTO_DATA/2023_11_21__05_26_04__hard_mincos...  7.590731e+07   \n",
       "162  ../LUTO_DATA/2023_11_21__05_26_04__hard_mincos... -3.799907e+08   \n",
       "161  ../LUTO_DATA/2023_11_21__05_26_04__hard_mincos... -3.439199e+07   \n",
       "163  ../LUTO_DATA/2023_11_21__05_26_04__hard_mincos...  6.538516e+04   \n",
       "160  ../LUTO_DATA/2023_11_21__05_26_04__hard_mincos...  7.736741e+07   \n",
       "\n",
       "     GHG_sum_Mt  \n",
       "2     -0.107778  \n",
       "1      0.000000  \n",
       "3      0.000000  \n",
       "0     90.511903  \n",
       "6     -8.273422  \n",
       "..          ...  \n",
       "156   75.907306  \n",
       "162 -379.990720  \n",
       "161  -34.391990  \n",
       "163    0.065385  \n",
       "160   77.367415  \n",
       "\n",
       "[164 rows x 7 columns]"
      ]
     },
     "execution_count": 4,
     "metadata": {},
     "output_type": "execute_result"
    }
   ],
   "source": [
    "# NO CODE\n",
    "# Get the GHG files\n",
    "GHG_files = get_GHG_file_df(files_selc)\n",
    "GHG_files = GHG_files.reset_index(drop=True).sort_values(['year','GHG_sum_t'])\n",
    "GHG_files['GHG_sum_Mt'] = GHG_files['GHG_sum_t'] / 1e6\n",
    "GHG_files"
   ]
  },
  {
   "cell_type": "code",
   "execution_count": null,
   "metadata": {},
   "outputs": [],
   "source": []
  },
  {
   "cell_type": "code",
   "execution_count": null,
   "metadata": {},
   "outputs": [],
   "source": []
  },
  {
   "cell_type": "markdown",
   "metadata": {},
   "source": [
    "Calculate the net emissions"
   ]
  },
  {
   "cell_type": "code",
   "execution_count": 5,
   "metadata": {
    "tags": [
     "remove-cell"
    ]
   },
   "outputs": [
    {
     "data": {
      "text/html": [
       "<div>\n",
       "<style scoped>\n",
       "    .dataframe tbody tr th:only-of-type {\n",
       "        vertical-align: middle;\n",
       "    }\n",
       "\n",
       "    .dataframe tbody tr th {\n",
       "        vertical-align: top;\n",
       "    }\n",
       "\n",
       "    .dataframe thead th {\n",
       "        text-align: right;\n",
       "    }\n",
       "</style>\n",
       "<table border=\"1\" class=\"dataframe\">\n",
       "  <thead>\n",
       "    <tr style=\"text-align: right;\">\n",
       "      <th></th>\n",
       "      <th>year</th>\n",
       "      <th>Net_emission</th>\n",
       "      <th>Net_emission_cum</th>\n",
       "    </tr>\n",
       "  </thead>\n",
       "  <tbody>\n",
       "    <tr>\n",
       "      <th>0</th>\n",
       "      <td>2010</td>\n",
       "      <td>90.404125</td>\n",
       "      <td>90.404125</td>\n",
       "    </tr>\n",
       "    <tr>\n",
       "      <th>1</th>\n",
       "      <td>2011</td>\n",
       "      <td>79.323406</td>\n",
       "      <td>169.727530</td>\n",
       "    </tr>\n",
       "    <tr>\n",
       "      <th>2</th>\n",
       "      <td>2012</td>\n",
       "      <td>68.648003</td>\n",
       "      <td>238.375533</td>\n",
       "    </tr>\n",
       "  </tbody>\n",
       "</table>\n",
       "</div>"
      ],
      "text/plain": [
       "   year  Net_emission  Net_emission_cum\n",
       "0  2010     90.404125         90.404125\n",
       "1  2011     79.323406        169.727530\n",
       "2  2012     68.648003        238.375533"
      ]
     },
     "execution_count": 5,
     "metadata": {},
     "output_type": "execute_result"
    }
   ],
   "source": [
    "# HIDDEN\n",
    "# Calculate the net emissions\n",
    "Net_emission = GHG_files.groupby('year')['GHG_sum_Mt'].sum(numeric_only = True).reset_index()\n",
    "Net_emission = Net_emission.rename(columns={'GHG_sum_Mt':'Net_emission'})\n",
    "\n",
    "Net_emission['Net_emission_cum'] = Net_emission['Net_emission'].cumsum()\n",
    "Net_emission.head(3)"
   ]
  },
  {
   "cell_type": "code",
   "execution_count": null,
   "metadata": {},
   "outputs": [],
   "source": []
  },
  {
   "cell_type": "markdown",
   "metadata": {
    "tags": []
   },
   "source": [
    "## Total GHG emissions across years"
   ]
  },
  {
   "cell_type": "code",
   "execution_count": null,
   "metadata": {},
   "outputs": [],
   "source": []
  },
  {
   "cell_type": "code",
   "execution_count": 6,
   "metadata": {
    "tags": [
     "hide-input"
    ]
   },
   "outputs": [
    {
     "data": {
      "text/html": [
       "\n",
       "<style>\n",
       "  #altair-viz-d2b5b8e2885d490b9aedbc1794f2814a.vega-embed {\n",
       "    width: 100%;\n",
       "    display: flex;\n",
       "  }\n",
       "\n",
       "  #altair-viz-d2b5b8e2885d490b9aedbc1794f2814a.vega-embed details,\n",
       "  #altair-viz-d2b5b8e2885d490b9aedbc1794f2814a.vega-embed details summary {\n",
       "    position: relative;\n",
       "  }\n",
       "</style>\n",
       "<div id=\"altair-viz-d2b5b8e2885d490b9aedbc1794f2814a\"></div>\n",
       "<script type=\"text/javascript\">\n",
       "  var VEGA_DEBUG = (typeof VEGA_DEBUG == \"undefined\") ? {} : VEGA_DEBUG;\n",
       "  (function(spec, embedOpt){\n",
       "    let outputDiv = document.currentScript.previousElementSibling;\n",
       "    if (outputDiv.id !== \"altair-viz-d2b5b8e2885d490b9aedbc1794f2814a\") {\n",
       "      outputDiv = document.getElementById(\"altair-viz-d2b5b8e2885d490b9aedbc1794f2814a\");\n",
       "    }\n",
       "    const paths = {\n",
       "      \"vega\": \"https://cdn.jsdelivr.net/npm/vega@5?noext\",\n",
       "      \"vega-lib\": \"https://cdn.jsdelivr.net/npm/vega-lib?noext\",\n",
       "      \"vega-lite\": \"https://cdn.jsdelivr.net/npm/vega-lite@5.15.1?noext\",\n",
       "      \"vega-embed\": \"https://cdn.jsdelivr.net/npm/vega-embed@6?noext\",\n",
       "    };\n",
       "\n",
       "    function maybeLoadScript(lib, version) {\n",
       "      var key = `${lib.replace(\"-\", \"\")}_version`;\n",
       "      return (VEGA_DEBUG[key] == version) ?\n",
       "        Promise.resolve(paths[lib]) :\n",
       "        new Promise(function(resolve, reject) {\n",
       "          var s = document.createElement('script');\n",
       "          document.getElementsByTagName(\"head\")[0].appendChild(s);\n",
       "          s.async = true;\n",
       "          s.onload = () => {\n",
       "            VEGA_DEBUG[key] = version;\n",
       "            return resolve(paths[lib]);\n",
       "          };\n",
       "          s.onerror = () => reject(`Error loading script: ${paths[lib]}`);\n",
       "          s.src = paths[lib];\n",
       "        });\n",
       "    }\n",
       "\n",
       "    function showError(err) {\n",
       "      outputDiv.innerHTML = `<div class=\"error\" style=\"color:red;\">${err}</div>`;\n",
       "      throw err;\n",
       "    }\n",
       "\n",
       "    function displayChart(vegaEmbed) {\n",
       "      vegaEmbed(outputDiv, spec, embedOpt)\n",
       "        .catch(err => showError(`Javascript Error: ${err.message}<br>This usually means there's a typo in your chart specification. See the javascript console for the full traceback.`));\n",
       "    }\n",
       "\n",
       "    if(typeof define === \"function\" && define.amd) {\n",
       "      requirejs.config({paths});\n",
       "      require([\"vega-embed\"], displayChart, err => showError(`Error loading script: ${err.message}`));\n",
       "    } else {\n",
       "      maybeLoadScript(\"vega\", \"5\")\n",
       "        .then(() => maybeLoadScript(\"vega-lite\", \"5.15.1\"))\n",
       "        .then(() => maybeLoadScript(\"vega-embed\", \"6\"))\n",
       "        .catch(showError)\n",
       "        .then(() => displayChart(vegaEmbed));\n",
       "    }\n",
       "  })({\"config\": {\"view\": {\"continuousWidth\": 300, \"continuousHeight\": 300}}, \"layer\": [{\"data\": {\"name\": \"data-4b6d0cb2f9784ad26ad0948327d7c43f\"}, \"mark\": {\"type\": \"bar\", \"color\": \"grey\", \"opacity\": 0.2}, \"encoding\": {\"color\": {\"field\": \"Cumulative_emissions\", \"legend\": {\"direction\": \"vertical\", \"legendX\": 610, \"legendY\": 202.5, \"orient\": \"none\", \"title\": null, \"titleAnchor\": \"middle\"}, \"scale\": {\"range\": [\"#181818\"]}, \"type\": \"nominal\"}, \"tooltip\": [{\"field\": \"Net_emission_cum\", \"title\": \"Cumulative Quantity (Mt CO2e)\", \"type\": \"quantitative\"}], \"x\": {\"field\": \"year\", \"type\": \"ordinal\"}, \"y\": {\"field\": \"Net_emission_cum\", \"title\": \"Emissions (Mt CO2e)\", \"type\": \"quantitative\"}}, \"transform\": [{\"calculate\": \"datum.year > 0 ? \\\"Cumulative emissions\\\" : \\\"Cumulative emissions\\\"\", \"as\": \"Cumulative_emissions\"}]}, {\"data\": {\"name\": \"data-e3c378251118a70850efb01f2b4a3d46\"}, \"mark\": {\"type\": \"bar\"}, \"encoding\": {\"color\": {\"field\": \"base_name\", \"legend\": {\"direction\": \"vertical\", \"legendX\": 610, \"legendY\": 135.0, \"orient\": \"none\", \"title\": null, \"titleAnchor\": \"middle\"}, \"type\": \"nominal\"}, \"tooltip\": [{\"field\": \"base_name\", \"title\": \"GHG Category\", \"type\": \"nominal\"}, {\"field\": \"GHG_sum_Mt\", \"title\": \"Emissions (Mt CO2e)\", \"type\": \"quantitative\"}], \"x\": {\"axis\": {\"labelAngle\": -90, \"title\": \"Year\"}, \"field\": \"year\", \"type\": \"ordinal\"}, \"y\": {\"field\": \"GHG_sum_Mt\", \"title\": \"Emissions (Mt CO2e)\", \"type\": \"quantitative\"}}}, {\"data\": {\"name\": \"data-4b6d0cb2f9784ad26ad0948327d7c43f\"}, \"mark\": {\"type\": \"line\", \"opacity\": 0.6}, \"encoding\": {\"color\": {\"field\": \"Net_emission_color\", \"legend\": {\"direction\": \"vertical\", \"legendX\": 610, \"legendY\": 216.0, \"orient\": \"none\", \"title\": null, \"titleAnchor\": \"middle\"}, \"scale\": {\"range\": [\"black\"]}, \"type\": \"nominal\"}, \"tooltip\": [{\"field\": \"Net_emission\", \"title\": \"Net Quantity (Mt CO2e)\", \"type\": \"quantitative\"}], \"x\": {\"field\": \"year\", \"type\": \"ordinal\"}, \"y\": {\"field\": \"Net_emission\", \"title\": \"Emissions (Mt CO2e)\", \"type\": \"quantitative\"}}, \"transform\": [{\"calculate\": \"datum.year > 0 ? \\\"Net emissions\\\" : \\\"Net emissions\\\"\", \"as\": \"Net_emission_color\"}]}], \"height\": 450, \"resolve\": {\"scale\": {\"color\": \"independent\"}}, \"width\": 600, \"$schema\": \"https://vega.github.io/schema/vega-lite/v5.15.1.json\", \"datasets\": {\"data-4b6d0cb2f9784ad26ad0948327d7c43f\": [{\"year\": 2010, \"Net_emission\": 90.40412470334977, \"Net_emission_cum\": 90.40412470334977}, {\"year\": 2011, \"Net_emission\": 79.32340563313254, \"Net_emission_cum\": 169.7275303364823}, {\"year\": 2012, \"Net_emission\": 68.64800312662449, \"Net_emission_cum\": 238.37553346310676}, {\"year\": 2013, \"Net_emission\": 57.96252076086512, \"Net_emission_cum\": 296.3380542239719}, {\"year\": 2014, \"Net_emission\": 47.299759102258456, \"Net_emission_cum\": 343.63781332623034}, {\"year\": 2015, \"Net_emission\": 36.6228343785296, \"Net_emission_cum\": 380.26064770475995}, {\"year\": 2016, \"Net_emission\": 25.95000083021639, \"Net_emission_cum\": 406.2106485349763}, {\"year\": 2017, \"Net_emission\": 15.274145479112406, \"Net_emission_cum\": 421.4847940140887}, {\"year\": 2018, \"Net_emission\": 4.598194668198886, \"Net_emission_cum\": 426.0829886822876}, {\"year\": 2019, \"Net_emission\": -6.079420422368912, \"Net_emission_cum\": 420.00356825991867}, {\"year\": 2020, \"Net_emission\": -16.752530995403944, \"Net_emission_cum\": 403.2510372645147}, {\"year\": 2021, \"Net_emission\": -27.42722035969136, \"Net_emission_cum\": 375.82381690482333}, {\"year\": 2022, \"Net_emission\": -38.10219394765426, \"Net_emission_cum\": 337.7216229571691}, {\"year\": 2023, \"Net_emission\": -48.78082489911519, \"Net_emission_cum\": 288.9407980580539}, {\"year\": 2024, \"Net_emission\": -59.45612859597961, \"Net_emission_cum\": 229.48466946207427}, {\"year\": 2025, \"Net_emission\": -70.1262497160447, \"Net_emission_cum\": 159.35841974602957}, {\"year\": 2026, \"Net_emission\": -80.7999947007156, \"Net_emission_cum\": 78.55842504531397}, {\"year\": 2027, \"Net_emission\": -91.47546233233324, \"Net_emission_cum\": -12.91703728701927}, {\"year\": 2028, \"Net_emission\": -102.15897580400558, \"Net_emission_cum\": -115.07601309102485}, {\"year\": 2029, \"Net_emission\": -112.84147330232514, \"Net_emission_cum\": -227.91748639334998}, {\"year\": 2030, \"Net_emission\": -123.50185005926376, \"Net_emission_cum\": -351.4193364526137}, {\"year\": 2031, \"Net_emission\": -134.17725696910225, \"Net_emission_cum\": -485.59659342171597}, {\"year\": 2032, \"Net_emission\": -144.85142197860995, \"Net_emission_cum\": -630.4480154003259}, {\"year\": 2033, \"Net_emission\": -155.52649775605406, \"Net_emission_cum\": -785.9745131563799}, {\"year\": 2034, \"Net_emission\": -166.20108723087571, \"Net_emission_cum\": -952.1756003872556}, {\"year\": 2035, \"Net_emission\": -176.8792511318734, \"Net_emission_cum\": -1129.054851519129}, {\"year\": 2036, \"Net_emission\": -187.5550655497234, \"Net_emission_cum\": -1316.6099170688524}, {\"year\": 2037, \"Net_emission\": -198.22500875736972, \"Net_emission_cum\": -1514.8349258262222}, {\"year\": 2038, \"Net_emission\": -208.90108610868268, \"Net_emission_cum\": -1723.7360119349048}, {\"year\": 2039, \"Net_emission\": -219.58053185894588, \"Net_emission_cum\": -1943.3165437938508}, {\"year\": 2040, \"Net_emission\": -230.1851692501839, \"Net_emission_cum\": -2173.5017130440347}, {\"year\": 2041, \"Net_emission\": -240.8607589767014, \"Net_emission_cum\": -2414.3624720207363}, {\"year\": 2042, \"Net_emission\": -251.544309925223, \"Net_emission_cum\": -2665.906781945959}, {\"year\": 2043, \"Net_emission\": -262.21287873713703, \"Net_emission_cum\": -2928.1196606830963}, {\"year\": 2044, \"Net_emission\": -272.88975297683345, \"Net_emission_cum\": -3201.0094136599296}, {\"year\": 2045, \"Net_emission\": -283.5646719967681, \"Net_emission_cum\": -3484.5740856566977}, {\"year\": 2046, \"Net_emission\": -294.236036359045, \"Net_emission_cum\": -3778.8101220157428}, {\"year\": 2047, \"Net_emission\": -304.9182902208882, \"Net_emission_cum\": -4083.728412236631}, {\"year\": 2048, \"Net_emission\": -315.5884633121424, \"Net_emission_cum\": -4399.316875548773}, {\"year\": 2049, \"Net_emission\": -326.2690728020837, \"Net_emission_cum\": -4725.585948350857}, {\"year\": 2050, \"Net_emission\": -336.9499100396637, \"Net_emission_cum\": -5062.53585839052}], \"data-e3c378251118a70850efb01f2b4a3d46\": [{\"year\": 2010, \"catetory\": \"GHG\", \"base_name\": \"Non-Agricultural Landuse\", \"base_ext\": \".csv\", \"path\": \"../LUTO_DATA/2023_11_21__05_26_04__hard_mincost_RF5_P1e5_2010-2050_timeseries_-337Mt/out_2010/GHG_emissions_separate_no_ag_reduction.csv\", \"GHG_sum_t\": -107778.2, \"GHG_sum_Mt\": -0.10777819999999999}, {\"year\": 2010, \"catetory\": \"GHG\", \"base_name\": \"Agricultural Management\", \"base_ext\": \".csv\", \"path\": \"../LUTO_DATA/2023_11_21__05_26_04__hard_mincost_RF5_P1e5_2010-2050_timeseries_-337Mt/out_2010/GHG_emissions_separate_agricultural_management.csv\", \"GHG_sum_t\": 0.0, \"GHG_sum_Mt\": 0.0}, {\"year\": 2010, \"catetory\": \"GHG\", \"base_name\": \"Transition Penalty\", \"base_ext\": \".csv\", \"path\": \"../LUTO_DATA/2023_11_21__05_26_04__hard_mincost_RF5_P1e5_2010-2050_timeseries_-337Mt/out_2010/GHG_emissions_separate_transition_penalty.csv\", \"GHG_sum_t\": 0.0, \"GHG_sum_Mt\": 0.0}, {\"year\": 2010, \"catetory\": \"GHG\", \"base_name\": \"Agricultural Landuse\", \"base_ext\": \".csv\", \"path\": \"../LUTO_DATA/2023_11_21__05_26_04__hard_mincost_RF5_P1e5_2010-2050_timeseries_-337Mt/out_2010/GHG_emissions_separate_agricultural_landuse.csv\", \"GHG_sum_t\": 90511902.90334976, \"GHG_sum_Mt\": 90.51190290334976}, {\"year\": 2011, \"catetory\": \"GHG\", \"base_name\": \"Non-Agricultural Landuse\", \"base_ext\": \".csv\", \"path\": \"../LUTO_DATA/2023_11_21__05_26_04__hard_mincost_RF5_P1e5_2010-2050_timeseries_-337Mt/out_2011/GHG_emissions_separate_no_ag_reduction.csv\", \"GHG_sum_t\": -8273422.0, \"GHG_sum_Mt\": -8.273422}, {\"year\": 2011, \"catetory\": \"GHG\", \"base_name\": \"Agricultural Management\", \"base_ext\": \".csv\", \"path\": \"../LUTO_DATA/2023_11_21__05_26_04__hard_mincost_RF5_P1e5_2010-2050_timeseries_-337Mt/out_2011/GHG_emissions_separate_agricultural_management.csv\", \"GHG_sum_t\": -1737981.2, \"GHG_sum_Mt\": -1.7379812}, {\"year\": 2011, \"catetory\": \"GHG\", \"base_name\": \"Transition Penalty\", \"base_ext\": \".csv\", \"path\": \"../LUTO_DATA/2023_11_21__05_26_04__hard_mincost_RF5_P1e5_2010-2050_timeseries_-337Mt/out_2011/GHG_emissions_separate_transition_penalty.csv\", \"GHG_sum_t\": 0.0, \"GHG_sum_Mt\": 0.0}, {\"year\": 2011, \"catetory\": \"GHG\", \"base_name\": \"Agricultural Landuse\", \"base_ext\": \".csv\", \"path\": \"../LUTO_DATA/2023_11_21__05_26_04__hard_mincost_RF5_P1e5_2010-2050_timeseries_-337Mt/out_2011/GHG_emissions_separate_agricultural_landuse.csv\", \"GHG_sum_t\": 89334808.83313254, \"GHG_sum_Mt\": 89.33480883313254}, {\"year\": 2012, \"catetory\": \"GHG\", \"base_name\": \"Non-Agricultural Landuse\", \"base_ext\": \".csv\", \"path\": \"../LUTO_DATA/2023_11_21__05_26_04__hard_mincost_RF5_P1e5_2010-2050_timeseries_-337Mt/out_2012/GHG_emissions_separate_no_ag_reduction.csv\", \"GHG_sum_t\": -18029216.0, \"GHG_sum_Mt\": -18.029216}, {\"year\": 2012, \"catetory\": \"GHG\", \"base_name\": \"Agricultural Management\", \"base_ext\": \".csv\", \"path\": \"../LUTO_DATA/2023_11_21__05_26_04__hard_mincost_RF5_P1e5_2010-2050_timeseries_-337Mt/out_2012/GHG_emissions_separate_agricultural_management.csv\", \"GHG_sum_t\": -2679200.2, \"GHG_sum_Mt\": -2.6792002000000004}, {\"year\": 2012, \"catetory\": \"GHG\", \"base_name\": \"Transition Penalty\", \"base_ext\": \".csv\", \"path\": \"../LUTO_DATA/2023_11_21__05_26_04__hard_mincost_RF5_P1e5_2010-2050_timeseries_-337Mt/out_2012/GHG_emissions_separate_transition_penalty.csv\", \"GHG_sum_t\": 0.0, \"GHG_sum_Mt\": 0.0}, {\"year\": 2012, \"catetory\": \"GHG\", \"base_name\": \"Agricultural Landuse\", \"base_ext\": \".csv\", \"path\": \"../LUTO_DATA/2023_11_21__05_26_04__hard_mincost_RF5_P1e5_2010-2050_timeseries_-337Mt/out_2012/GHG_emissions_separate_agricultural_landuse.csv\", \"GHG_sum_t\": 89356419.32662448, \"GHG_sum_Mt\": 89.35641932662449}, {\"year\": 2013, \"catetory\": \"GHG\", \"base_name\": \"Non-Agricultural Landuse\", \"base_ext\": \".csv\", \"path\": \"../LUTO_DATA/2023_11_21__05_26_04__hard_mincost_RF5_P1e5_2010-2050_timeseries_-337Mt/out_2013/GHG_emissions_separate_no_ag_reduction.csv\", \"GHG_sum_t\": -27828004.0, \"GHG_sum_Mt\": -27.828004}, {\"year\": 2013, \"catetory\": \"GHG\", \"base_name\": \"Agricultural Management\", \"base_ext\": \".csv\", \"path\": \"../LUTO_DATA/2023_11_21__05_26_04__hard_mincost_RF5_P1e5_2010-2050_timeseries_-337Mt/out_2013/GHG_emissions_separate_agricultural_management.csv\", \"GHG_sum_t\": -3417735.2, \"GHG_sum_Mt\": -3.4177352}, {\"year\": 2013, \"catetory\": \"GHG\", \"base_name\": \"Transition Penalty\", \"base_ext\": \".csv\", \"path\": \"../LUTO_DATA/2023_11_21__05_26_04__hard_mincost_RF5_P1e5_2010-2050_timeseries_-337Mt/out_2013/GHG_emissions_separate_transition_penalty.csv\", \"GHG_sum_t\": 0.0, \"GHG_sum_Mt\": 0.0}, {\"year\": 2013, \"catetory\": \"GHG\", \"base_name\": \"Agricultural Landuse\", \"base_ext\": \".csv\", \"path\": \"../LUTO_DATA/2023_11_21__05_26_04__hard_mincost_RF5_P1e5_2010-2050_timeseries_-337Mt/out_2013/GHG_emissions_separate_agricultural_landuse.csv\", \"GHG_sum_t\": 89208259.96086513, \"GHG_sum_Mt\": 89.20825996086512}, {\"year\": 2014, \"catetory\": \"GHG\", \"base_name\": \"Non-Agricultural Landuse\", \"base_ext\": \".csv\", \"path\": \"../LUTO_DATA/2023_11_21__05_26_04__hard_mincost_RF5_P1e5_2010-2050_timeseries_-337Mt/out_2014/GHG_emissions_separate_no_ag_reduction.csv\", \"GHG_sum_t\": -37684548.0, \"GHG_sum_Mt\": -37.684548}, {\"year\": 2014, \"catetory\": \"GHG\", \"base_name\": \"Agricultural Management\", \"base_ext\": \".csv\", \"path\": \"../LUTO_DATA/2023_11_21__05_26_04__hard_mincost_RF5_P1e5_2010-2050_timeseries_-337Mt/out_2014/GHG_emissions_separate_agricultural_management.csv\", \"GHG_sum_t\": -4085506.2, \"GHG_sum_Mt\": -4.0855062}, {\"year\": 2014, \"catetory\": \"GHG\", \"base_name\": \"Transition Penalty\", \"base_ext\": \".csv\", \"path\": \"../LUTO_DATA/2023_11_21__05_26_04__hard_mincost_RF5_P1e5_2010-2050_timeseries_-337Mt/out_2014/GHG_emissions_separate_transition_penalty.csv\", \"GHG_sum_t\": 0.0, \"GHG_sum_Mt\": 0.0}, {\"year\": 2014, \"catetory\": \"GHG\", \"base_name\": \"Agricultural Landuse\", \"base_ext\": \".csv\", \"path\": \"../LUTO_DATA/2023_11_21__05_26_04__hard_mincost_RF5_P1e5_2010-2050_timeseries_-337Mt/out_2014/GHG_emissions_separate_agricultural_landuse.csv\", \"GHG_sum_t\": 89069813.30225845, \"GHG_sum_Mt\": 89.06981330225845}, {\"year\": 2015, \"catetory\": \"GHG\", \"base_name\": \"Non-Agricultural Landuse\", \"base_ext\": \".csv\", \"path\": \"../LUTO_DATA/2023_11_21__05_26_04__hard_mincost_RF5_P1e5_2010-2050_timeseries_-337Mt/out_2015/GHG_emissions_separate_no_ag_reduction.csv\", \"GHG_sum_t\": -47690070.0, \"GHG_sum_Mt\": -47.69007}, {\"year\": 2015, \"catetory\": \"GHG\", \"base_name\": \"Agricultural Management\", \"base_ext\": \".csv\", \"path\": \"../LUTO_DATA/2023_11_21__05_26_04__hard_mincost_RF5_P1e5_2010-2050_timeseries_-337Mt/out_2015/GHG_emissions_separate_agricultural_management.csv\", \"GHG_sum_t\": -4649849.0, \"GHG_sum_Mt\": -4.649849}, {\"year\": 2015, \"catetory\": \"GHG\", \"base_name\": \"Transition Penalty\", \"base_ext\": \".csv\", \"path\": \"../LUTO_DATA/2023_11_21__05_26_04__hard_mincost_RF5_P1e5_2010-2050_timeseries_-337Mt/out_2015/GHG_emissions_separate_transition_penalty.csv\", \"GHG_sum_t\": 0.0, \"GHG_sum_Mt\": 0.0}, {\"year\": 2015, \"catetory\": \"GHG\", \"base_name\": \"Agricultural Landuse\", \"base_ext\": \".csv\", \"path\": \"../LUTO_DATA/2023_11_21__05_26_04__hard_mincost_RF5_P1e5_2010-2050_timeseries_-337Mt/out_2015/GHG_emissions_separate_agricultural_landuse.csv\", \"GHG_sum_t\": 88962753.3785296, \"GHG_sum_Mt\": 88.9627533785296}, {\"year\": 2016, \"catetory\": \"GHG\", \"base_name\": \"Non-Agricultural Landuse\", \"base_ext\": \".csv\", \"path\": \"../LUTO_DATA/2023_11_21__05_26_04__hard_mincost_RF5_P1e5_2010-2050_timeseries_-337Mt/out_2016/GHG_emissions_separate_no_ag_reduction.csv\", \"GHG_sum_t\": -57810372.0, \"GHG_sum_Mt\": -57.810372}, {\"year\": 2016, \"catetory\": \"GHG\", \"base_name\": \"Agricultural Management\", \"base_ext\": \".csv\", \"path\": \"../LUTO_DATA/2023_11_21__05_26_04__hard_mincost_RF5_P1e5_2010-2050_timeseries_-337Mt/out_2016/GHG_emissions_separate_agricultural_management.csv\", \"GHG_sum_t\": -5055552.5, \"GHG_sum_Mt\": -5.0555525}, {\"year\": 2016, \"catetory\": \"GHG\", \"base_name\": \"Transition Penalty\", \"base_ext\": \".csv\", \"path\": \"../LUTO_DATA/2023_11_21__05_26_04__hard_mincost_RF5_P1e5_2010-2050_timeseries_-337Mt/out_2016/GHG_emissions_separate_transition_penalty.csv\", \"GHG_sum_t\": 0.0, \"GHG_sum_Mt\": 0.0}, {\"year\": 2016, \"catetory\": \"GHG\", \"base_name\": \"Agricultural Landuse\", \"base_ext\": \".csv\", \"path\": \"../LUTO_DATA/2023_11_21__05_26_04__hard_mincost_RF5_P1e5_2010-2050_timeseries_-337Mt/out_2016/GHG_emissions_separate_agricultural_landuse.csv\", \"GHG_sum_t\": 88815925.3302164, \"GHG_sum_Mt\": 88.81592533021639}, {\"year\": 2017, \"catetory\": \"GHG\", \"base_name\": \"Non-Agricultural Landuse\", \"base_ext\": \".csv\", \"path\": \"../LUTO_DATA/2023_11_21__05_26_04__hard_mincost_RF5_P1e5_2010-2050_timeseries_-337Mt/out_2017/GHG_emissions_separate_no_ag_reduction.csv\", \"GHG_sum_t\": -68105496.0, \"GHG_sum_Mt\": -68.105496}, {\"year\": 2017, \"catetory\": \"GHG\", \"base_name\": \"Agricultural Management\", \"base_ext\": \".csv\", \"path\": \"../LUTO_DATA/2023_11_21__05_26_04__hard_mincost_RF5_P1e5_2010-2050_timeseries_-337Mt/out_2017/GHG_emissions_separate_agricultural_management.csv\", \"GHG_sum_t\": -5213839.0, \"GHG_sum_Mt\": -5.213839}, {\"year\": 2017, \"catetory\": \"GHG\", \"base_name\": \"Transition Penalty\", \"base_ext\": \".csv\", \"path\": \"../LUTO_DATA/2023_11_21__05_26_04__hard_mincost_RF5_P1e5_2010-2050_timeseries_-337Mt/out_2017/GHG_emissions_separate_transition_penalty.csv\", \"GHG_sum_t\": 0.0, \"GHG_sum_Mt\": 0.0}, {\"year\": 2017, \"catetory\": \"GHG\", \"base_name\": \"Agricultural Landuse\", \"base_ext\": \".csv\", \"path\": \"../LUTO_DATA/2023_11_21__05_26_04__hard_mincost_RF5_P1e5_2010-2050_timeseries_-337Mt/out_2017/GHG_emissions_separate_agricultural_landuse.csv\", \"GHG_sum_t\": 88593480.47911242, \"GHG_sum_Mt\": 88.59348047911242}, {\"year\": 2018, \"catetory\": \"GHG\", \"base_name\": \"Non-Agricultural Landuse\", \"base_ext\": \".csv\", \"path\": \"../LUTO_DATA/2023_11_21__05_26_04__hard_mincost_RF5_P1e5_2010-2050_timeseries_-337Mt/out_2018/GHG_emissions_separate_no_ag_reduction.csv\", \"GHG_sum_t\": -78365390.0, \"GHG_sum_Mt\": -78.36539}, {\"year\": 2018, \"catetory\": \"GHG\", \"base_name\": \"Agricultural Management\", \"base_ext\": \".csv\", \"path\": \"../LUTO_DATA/2023_11_21__05_26_04__hard_mincost_RF5_P1e5_2010-2050_timeseries_-337Mt/out_2018/GHG_emissions_separate_agricultural_management.csv\", \"GHG_sum_t\": -5388347.0, \"GHG_sum_Mt\": -5.388347}, {\"year\": 2018, \"catetory\": \"GHG\", \"base_name\": \"Transition Penalty\", \"base_ext\": \".csv\", \"path\": \"../LUTO_DATA/2023_11_21__05_26_04__hard_mincost_RF5_P1e5_2010-2050_timeseries_-337Mt/out_2018/GHG_emissions_separate_transition_penalty.csv\", \"GHG_sum_t\": 0.0, \"GHG_sum_Mt\": 0.0}, {\"year\": 2018, \"catetory\": \"GHG\", \"base_name\": \"Agricultural Landuse\", \"base_ext\": \".csv\", \"path\": \"../LUTO_DATA/2023_11_21__05_26_04__hard_mincost_RF5_P1e5_2010-2050_timeseries_-337Mt/out_2018/GHG_emissions_separate_agricultural_landuse.csv\", \"GHG_sum_t\": 88351931.66819888, \"GHG_sum_Mt\": 88.35193166819889}, {\"year\": 2019, \"catetory\": \"GHG\", \"base_name\": \"Non-Agricultural Landuse\", \"base_ext\": \".csv\", \"path\": \"../LUTO_DATA/2023_11_21__05_26_04__hard_mincost_RF5_P1e5_2010-2050_timeseries_-337Mt/out_2019/GHG_emissions_separate_no_ag_reduction.csv\", \"GHG_sum_t\": -88625050.0, \"GHG_sum_Mt\": -88.62505}, {\"year\": 2019, \"catetory\": \"GHG\", \"base_name\": \"Agricultural Management\", \"base_ext\": \".csv\", \"path\": \"../LUTO_DATA/2023_11_21__05_26_04__hard_mincost_RF5_P1e5_2010-2050_timeseries_-337Mt/out_2019/GHG_emissions_separate_agricultural_management.csv\", \"GHG_sum_t\": -5560613.0, \"GHG_sum_Mt\": -5.560613}, {\"year\": 2019, \"catetory\": \"GHG\", \"base_name\": \"Transition Penalty\", \"base_ext\": \".csv\", \"path\": \"../LUTO_DATA/2023_11_21__05_26_04__hard_mincost_RF5_P1e5_2010-2050_timeseries_-337Mt/out_2019/GHG_emissions_separate_transition_penalty.csv\", \"GHG_sum_t\": 0.0, \"GHG_sum_Mt\": 0.0}, {\"year\": 2019, \"catetory\": \"GHG\", \"base_name\": \"Agricultural Landuse\", \"base_ext\": \".csv\", \"path\": \"../LUTO_DATA/2023_11_21__05_26_04__hard_mincost_RF5_P1e5_2010-2050_timeseries_-337Mt/out_2019/GHG_emissions_separate_agricultural_landuse.csv\", \"GHG_sum_t\": 88106242.57763109, \"GHG_sum_Mt\": 88.1062425776311}, {\"year\": 2020, \"catetory\": \"GHG\", \"base_name\": \"Non-Agricultural Landuse\", \"base_ext\": \".csv\", \"path\": \"../LUTO_DATA/2023_11_21__05_26_04__hard_mincost_RF5_P1e5_2010-2050_timeseries_-337Mt/out_2020/GHG_emissions_separate_no_ag_reduction.csv\", \"GHG_sum_t\": -99037576.0, \"GHG_sum_Mt\": -99.037576}, {\"year\": 2020, \"catetory\": \"GHG\", \"base_name\": \"Agricultural Management\", \"base_ext\": \".csv\", \"path\": \"../LUTO_DATA/2023_11_21__05_26_04__hard_mincost_RF5_P1e5_2010-2050_timeseries_-337Mt/out_2020/GHG_emissions_separate_agricultural_management.csv\", \"GHG_sum_t\": -5578097.5, \"GHG_sum_Mt\": -5.5780975}, {\"year\": 2020, \"catetory\": \"GHG\", \"base_name\": \"Transition Penalty\", \"base_ext\": \".csv\", \"path\": \"../LUTO_DATA/2023_11_21__05_26_04__hard_mincost_RF5_P1e5_2010-2050_timeseries_-337Mt/out_2020/GHG_emissions_separate_transition_penalty.csv\", \"GHG_sum_t\": 0.0, \"GHG_sum_Mt\": 0.0}, {\"year\": 2020, \"catetory\": \"GHG\", \"base_name\": \"Agricultural Landuse\", \"base_ext\": \".csv\", \"path\": \"../LUTO_DATA/2023_11_21__05_26_04__hard_mincost_RF5_P1e5_2010-2050_timeseries_-337Mt/out_2020/GHG_emissions_separate_agricultural_landuse.csv\", \"GHG_sum_t\": 87863142.50459605, \"GHG_sum_Mt\": 87.86314250459606}, {\"year\": 2021, \"catetory\": \"GHG\", \"base_name\": \"Non-Agricultural Landuse\", \"base_ext\": \".csv\", \"path\": \"../LUTO_DATA/2023_11_21__05_26_04__hard_mincost_RF5_P1e5_2010-2050_timeseries_-337Mt/out_2021/GHG_emissions_separate_no_ag_reduction.csv\", \"GHG_sum_t\": -109391340.0, \"GHG_sum_Mt\": -109.39134}, {\"year\": 2021, \"catetory\": \"GHG\", \"base_name\": \"Agricultural Management\", \"base_ext\": \".csv\", \"path\": \"../LUTO_DATA/2023_11_21__05_26_04__hard_mincost_RF5_P1e5_2010-2050_timeseries_-337Mt/out_2021/GHG_emissions_separate_agricultural_management.csv\", \"GHG_sum_t\": -5367368.0, \"GHG_sum_Mt\": -5.367368}, {\"year\": 2021, \"catetory\": \"GHG\", \"base_name\": \"Transition Penalty\", \"base_ext\": \".csv\", \"path\": \"../LUTO_DATA/2023_11_21__05_26_04__hard_mincost_RF5_P1e5_2010-2050_timeseries_-337Mt/out_2021/GHG_emissions_separate_transition_penalty.csv\", \"GHG_sum_t\": 0.0, \"GHG_sum_Mt\": 0.0}, {\"year\": 2021, \"catetory\": \"GHG\", \"base_name\": \"Agricultural Landuse\", \"base_ext\": \".csv\", \"path\": \"../LUTO_DATA/2023_11_21__05_26_04__hard_mincost_RF5_P1e5_2010-2050_timeseries_-337Mt/out_2021/GHG_emissions_separate_agricultural_landuse.csv\", \"GHG_sum_t\": 87331487.64030863, \"GHG_sum_Mt\": 87.33148764030864}, {\"year\": 2022, \"catetory\": \"GHG\", \"base_name\": \"Non-Agricultural Landuse\", \"base_ext\": \".csv\", \"path\": \"../LUTO_DATA/2023_11_21__05_26_04__hard_mincost_RF5_P1e5_2010-2050_timeseries_-337Mt/out_2022/GHG_emissions_separate_no_ag_reduction.csv\", \"GHG_sum_t\": -119897830.0, \"GHG_sum_Mt\": -119.89783}, {\"year\": 2022, \"catetory\": \"GHG\", \"base_name\": \"Agricultural Management\", \"base_ext\": \".csv\", \"path\": \"../LUTO_DATA/2023_11_21__05_26_04__hard_mincost_RF5_P1e5_2010-2050_timeseries_-337Mt/out_2022/GHG_emissions_separate_agricultural_management.csv\", \"GHG_sum_t\": -4993533.0, \"GHG_sum_Mt\": -4.993533}, {\"year\": 2022, \"catetory\": \"GHG\", \"base_name\": \"Transition Penalty\", \"base_ext\": \".csv\", \"path\": \"../LUTO_DATA/2023_11_21__05_26_04__hard_mincost_RF5_P1e5_2010-2050_timeseries_-337Mt/out_2022/GHG_emissions_separate_transition_penalty.csv\", \"GHG_sum_t\": 0.0, \"GHG_sum_Mt\": 0.0}, {\"year\": 2022, \"catetory\": \"GHG\", \"base_name\": \"Agricultural Landuse\", \"base_ext\": \".csv\", \"path\": \"../LUTO_DATA/2023_11_21__05_26_04__hard_mincost_RF5_P1e5_2010-2050_timeseries_-337Mt/out_2022/GHG_emissions_separate_agricultural_landuse.csv\", \"GHG_sum_t\": 86789169.05234574, \"GHG_sum_Mt\": 86.78916905234574}, {\"year\": 2023, \"catetory\": \"GHG\", \"base_name\": \"Non-Agricultural Landuse\", \"base_ext\": \".csv\", \"path\": \"../LUTO_DATA/2023_11_21__05_26_04__hard_mincost_RF5_P1e5_2010-2050_timeseries_-337Mt/out_2023/GHG_emissions_separate_no_ag_reduction.csv\", \"GHG_sum_t\": -130345256.0, \"GHG_sum_Mt\": -130.345256}, {\"year\": 2023, \"catetory\": \"GHG\", \"base_name\": \"Agricultural Management\", \"base_ext\": \".csv\", \"path\": \"../LUTO_DATA/2023_11_21__05_26_04__hard_mincost_RF5_P1e5_2010-2050_timeseries_-337Mt/out_2023/GHG_emissions_separate_agricultural_management.csv\", \"GHG_sum_t\": -4695318.5, \"GHG_sum_Mt\": -4.6953185}, {\"year\": 2023, \"catetory\": \"GHG\", \"base_name\": \"Transition Penalty\", \"base_ext\": \".csv\", \"path\": \"../LUTO_DATA/2023_11_21__05_26_04__hard_mincost_RF5_P1e5_2010-2050_timeseries_-337Mt/out_2023/GHG_emissions_separate_transition_penalty.csv\", \"GHG_sum_t\": 0.0, \"GHG_sum_Mt\": 0.0}, {\"year\": 2023, \"catetory\": \"GHG\", \"base_name\": \"Agricultural Landuse\", \"base_ext\": \".csv\", \"path\": \"../LUTO_DATA/2023_11_21__05_26_04__hard_mincost_RF5_P1e5_2010-2050_timeseries_-337Mt/out_2023/GHG_emissions_separate_agricultural_landuse.csv\", \"GHG_sum_t\": 86259749.60088481, \"GHG_sum_Mt\": 86.25974960088482}, {\"year\": 2024, \"catetory\": \"GHG\", \"base_name\": \"Non-Agricultural Landuse\", \"base_ext\": \".csv\", \"path\": \"../LUTO_DATA/2023_11_21__05_26_04__hard_mincost_RF5_P1e5_2010-2050_timeseries_-337Mt/out_2024/GHG_emissions_separate_no_ag_reduction.csv\", \"GHG_sum_t\": -140333100.0, \"GHG_sum_Mt\": -140.3331}, {\"year\": 2024, \"catetory\": \"GHG\", \"base_name\": \"Agricultural Management\", \"base_ext\": \".csv\", \"path\": \"../LUTO_DATA/2023_11_21__05_26_04__hard_mincost_RF5_P1e5_2010-2050_timeseries_-337Mt/out_2024/GHG_emissions_separate_agricultural_management.csv\", \"GHG_sum_t\": -4930902.0, \"GHG_sum_Mt\": -4.930902}, {\"year\": 2024, \"catetory\": \"GHG\", \"base_name\": \"Transition Penalty\", \"base_ext\": \".csv\", \"path\": \"../LUTO_DATA/2023_11_21__05_26_04__hard_mincost_RF5_P1e5_2010-2050_timeseries_-337Mt/out_2024/GHG_emissions_separate_transition_penalty.csv\", \"GHG_sum_t\": 0.0, \"GHG_sum_Mt\": 0.0}, {\"year\": 2024, \"catetory\": \"GHG\", \"base_name\": \"Agricultural Landuse\", \"base_ext\": \".csv\", \"path\": \"../LUTO_DATA/2023_11_21__05_26_04__hard_mincost_RF5_P1e5_2010-2050_timeseries_-337Mt/out_2024/GHG_emissions_separate_agricultural_landuse.csv\", \"GHG_sum_t\": 85807873.4040204, \"GHG_sum_Mt\": 85.8078734040204}, {\"year\": 2025, \"catetory\": \"GHG\", \"base_name\": \"Non-Agricultural Landuse\", \"base_ext\": \".csv\", \"path\": \"../LUTO_DATA/2023_11_21__05_26_04__hard_mincost_RF5_P1e5_2010-2050_timeseries_-337Mt/out_2025/GHG_emissions_separate_no_ag_reduction.csv\", \"GHG_sum_t\": -150066720.0, \"GHG_sum_Mt\": -150.06672}, {\"year\": 2025, \"catetory\": \"GHG\", \"base_name\": \"Agricultural Management\", \"base_ext\": \".csv\", \"path\": \"../LUTO_DATA/2023_11_21__05_26_04__hard_mincost_RF5_P1e5_2010-2050_timeseries_-337Mt/out_2025/GHG_emissions_separate_agricultural_management.csv\", \"GHG_sum_t\": -5474238.0, \"GHG_sum_Mt\": -5.474238}, {\"year\": 2025, \"catetory\": \"GHG\", \"base_name\": \"Transition Penalty\", \"base_ext\": \".csv\", \"path\": \"../LUTO_DATA/2023_11_21__05_26_04__hard_mincost_RF5_P1e5_2010-2050_timeseries_-337Mt/out_2025/GHG_emissions_separate_transition_penalty.csv\", \"GHG_sum_t\": 0.0, \"GHG_sum_Mt\": 0.0}, {\"year\": 2025, \"catetory\": \"GHG\", \"base_name\": \"Agricultural Landuse\", \"base_ext\": \".csv\", \"path\": \"../LUTO_DATA/2023_11_21__05_26_04__hard_mincost_RF5_P1e5_2010-2050_timeseries_-337Mt/out_2025/GHG_emissions_separate_agricultural_landuse.csv\", \"GHG_sum_t\": 85414708.2839553, \"GHG_sum_Mt\": 85.4147082839553}, {\"year\": 2026, \"catetory\": \"GHG\", \"base_name\": \"Non-Agricultural Landuse\", \"base_ext\": \".csv\", \"path\": \"../LUTO_DATA/2023_11_21__05_26_04__hard_mincost_RF5_P1e5_2010-2050_timeseries_-337Mt/out_2026/GHG_emissions_separate_no_ag_reduction.csv\", \"GHG_sum_t\": -158273230.0, \"GHG_sum_Mt\": -158.27323}, {\"year\": 2026, \"catetory\": \"GHG\", \"base_name\": \"Agricultural Management\", \"base_ext\": \".csv\", \"path\": \"../LUTO_DATA/2023_11_21__05_26_04__hard_mincost_RF5_P1e5_2010-2050_timeseries_-337Mt/out_2026/GHG_emissions_separate_agricultural_management.csv\", \"GHG_sum_t\": -7524961.5, \"GHG_sum_Mt\": -7.5249615}, {\"year\": 2026, \"catetory\": \"GHG\", \"base_name\": \"Transition Penalty\", \"base_ext\": \".csv\", \"path\": \"../LUTO_DATA/2023_11_21__05_26_04__hard_mincost_RF5_P1e5_2010-2050_timeseries_-337Mt/out_2026/GHG_emissions_separate_transition_penalty.csv\", \"GHG_sum_t\": 0.0, \"GHG_sum_Mt\": 0.0}, {\"year\": 2026, \"catetory\": \"GHG\", \"base_name\": \"Agricultural Landuse\", \"base_ext\": \".csv\", \"path\": \"../LUTO_DATA/2023_11_21__05_26_04__hard_mincost_RF5_P1e5_2010-2050_timeseries_-337Mt/out_2026/GHG_emissions_separate_agricultural_landuse.csv\", \"GHG_sum_t\": 84998196.79928441, \"GHG_sum_Mt\": 84.99819679928441}, {\"year\": 2027, \"catetory\": \"GHG\", \"base_name\": \"Non-Agricultural Landuse\", \"base_ext\": \".csv\", \"path\": \"../LUTO_DATA/2023_11_21__05_26_04__hard_mincost_RF5_P1e5_2010-2050_timeseries_-337Mt/out_2027/GHG_emissions_separate_no_ag_reduction.csv\", \"GHG_sum_t\": -167213730.0, \"GHG_sum_Mt\": -167.21373}, {\"year\": 2027, \"catetory\": \"GHG\", \"base_name\": \"Agricultural Management\", \"base_ext\": \".csv\", \"path\": \"../LUTO_DATA/2023_11_21__05_26_04__hard_mincost_RF5_P1e5_2010-2050_timeseries_-337Mt/out_2027/GHG_emissions_separate_agricultural_management.csv\", \"GHG_sum_t\": -8826015.0, \"GHG_sum_Mt\": -8.826015}, {\"year\": 2027, \"catetory\": \"GHG\", \"base_name\": \"Transition Penalty\", \"base_ext\": \".csv\", \"path\": \"../LUTO_DATA/2023_11_21__05_26_04__hard_mincost_RF5_P1e5_2010-2050_timeseries_-337Mt/out_2027/GHG_emissions_separate_transition_penalty.csv\", \"GHG_sum_t\": 0.0, \"GHG_sum_Mt\": 0.0}, {\"year\": 2027, \"catetory\": \"GHG\", \"base_name\": \"Agricultural Landuse\", \"base_ext\": \".csv\", \"path\": \"../LUTO_DATA/2023_11_21__05_26_04__hard_mincost_RF5_P1e5_2010-2050_timeseries_-337Mt/out_2027/GHG_emissions_separate_agricultural_landuse.csv\", \"GHG_sum_t\": 84564282.66766676, \"GHG_sum_Mt\": 84.56428266766676}, {\"year\": 2028, \"catetory\": \"GHG\", \"base_name\": \"Non-Agricultural Landuse\", \"base_ext\": \".csv\", \"path\": \"../LUTO_DATA/2023_11_21__05_26_04__hard_mincost_RF5_P1e5_2010-2050_timeseries_-337Mt/out_2028/GHG_emissions_separate_no_ag_reduction.csv\", \"GHG_sum_t\": -175291800.0, \"GHG_sum_Mt\": -175.2918}, {\"year\": 2028, \"catetory\": \"GHG\", \"base_name\": \"Agricultural Management\", \"base_ext\": \".csv\", \"path\": \"../LUTO_DATA/2023_11_21__05_26_04__hard_mincost_RF5_P1e5_2010-2050_timeseries_-337Mt/out_2028/GHG_emissions_separate_agricultural_management.csv\", \"GHG_sum_t\": -11038546.0, \"GHG_sum_Mt\": -11.038546}, {\"year\": 2028, \"catetory\": \"GHG\", \"base_name\": \"Transition Penalty\", \"base_ext\": \".csv\", \"path\": \"../LUTO_DATA/2023_11_21__05_26_04__hard_mincost_RF5_P1e5_2010-2050_timeseries_-337Mt/out_2028/GHG_emissions_separate_transition_penalty.csv\", \"GHG_sum_t\": 0.0, \"GHG_sum_Mt\": 0.0}, {\"year\": 2028, \"catetory\": \"GHG\", \"base_name\": \"Agricultural Landuse\", \"base_ext\": \".csv\", \"path\": \"../LUTO_DATA/2023_11_21__05_26_04__hard_mincost_RF5_P1e5_2010-2050_timeseries_-337Mt/out_2028/GHG_emissions_separate_agricultural_landuse.csv\", \"GHG_sum_t\": 84171370.1959944, \"GHG_sum_Mt\": 84.17137019599441}, {\"year\": 2029, \"catetory\": \"GHG\", \"base_name\": \"Non-Agricultural Landuse\", \"base_ext\": \".csv\", \"path\": \"../LUTO_DATA/2023_11_21__05_26_04__hard_mincost_RF5_P1e5_2010-2050_timeseries_-337Mt/out_2029/GHG_emissions_separate_no_ag_reduction.csv\", \"GHG_sum_t\": -184780020.0, \"GHG_sum_Mt\": -184.78002}, {\"year\": 2029, \"catetory\": \"GHG\", \"base_name\": \"Agricultural Management\", \"base_ext\": \".csv\", \"path\": \"../LUTO_DATA/2023_11_21__05_26_04__hard_mincost_RF5_P1e5_2010-2050_timeseries_-337Mt/out_2029/GHG_emissions_separate_agricultural_management.csv\", \"GHG_sum_t\": -11782188.0, \"GHG_sum_Mt\": -11.782188}, {\"year\": 2029, \"catetory\": \"GHG\", \"base_name\": \"Transition Penalty\", \"base_ext\": \".csv\", \"path\": \"../LUTO_DATA/2023_11_21__05_26_04__hard_mincost_RF5_P1e5_2010-2050_timeseries_-337Mt/out_2029/GHG_emissions_separate_transition_penalty.csv\", \"GHG_sum_t\": 0.0, \"GHG_sum_Mt\": 0.0}, {\"year\": 2029, \"catetory\": \"GHG\", \"base_name\": \"Agricultural Landuse\", \"base_ext\": \".csv\", \"path\": \"../LUTO_DATA/2023_11_21__05_26_04__hard_mincost_RF5_P1e5_2010-2050_timeseries_-337Mt/out_2029/GHG_emissions_separate_agricultural_landuse.csv\", \"GHG_sum_t\": 83720734.69767487, \"GHG_sum_Mt\": 83.72073469767487}, {\"year\": 2030, \"catetory\": \"GHG\", \"base_name\": \"Non-Agricultural Landuse\", \"base_ext\": \".csv\", \"path\": \"../LUTO_DATA/2023_11_21__05_26_04__hard_mincost_RF5_P1e5_2010-2050_timeseries_-337Mt/out_2030/GHG_emissions_separate_no_ag_reduction.csv\", \"GHG_sum_t\": -193905330.0, \"GHG_sum_Mt\": -193.90533}, {\"year\": 2030, \"catetory\": \"GHG\", \"base_name\": \"Agricultural Management\", \"base_ext\": \".csv\", \"path\": \"../LUTO_DATA/2023_11_21__05_26_04__hard_mincost_RF5_P1e5_2010-2050_timeseries_-337Mt/out_2030/GHG_emissions_separate_agricultural_management.csv\", \"GHG_sum_t\": -12983835.0, \"GHG_sum_Mt\": -12.983835}, {\"year\": 2030, \"catetory\": \"GHG\", \"base_name\": \"Transition Penalty\", \"base_ext\": \".csv\", \"path\": \"../LUTO_DATA/2023_11_21__05_26_04__hard_mincost_RF5_P1e5_2010-2050_timeseries_-337Mt/out_2030/GHG_emissions_separate_transition_penalty.csv\", \"GHG_sum_t\": 0.0, \"GHG_sum_Mt\": 0.0}, {\"year\": 2030, \"catetory\": \"GHG\", \"base_name\": \"Agricultural Landuse\", \"base_ext\": \".csv\", \"path\": \"../LUTO_DATA/2023_11_21__05_26_04__hard_mincost_RF5_P1e5_2010-2050_timeseries_-337Mt/out_2030/GHG_emissions_separate_agricultural_landuse.csv\", \"GHG_sum_t\": 83387314.94073623, \"GHG_sum_Mt\": 83.38731494073623}, {\"year\": 2031, \"catetory\": \"GHG\", \"base_name\": \"Non-Agricultural Landuse\", \"base_ext\": \".csv\", \"path\": \"../LUTO_DATA/2023_11_21__05_26_04__hard_mincost_RF5_P1e5_2010-2050_timeseries_-337Mt/out_2031/GHG_emissions_separate_no_ag_reduction.csv\", \"GHG_sum_t\": -201612540.0, \"GHG_sum_Mt\": -201.61254}, {\"year\": 2031, \"catetory\": \"GHG\", \"base_name\": \"Agricultural Management\", \"base_ext\": \".csv\", \"path\": \"../LUTO_DATA/2023_11_21__05_26_04__hard_mincost_RF5_P1e5_2010-2050_timeseries_-337Mt/out_2031/GHG_emissions_separate_agricultural_management.csv\", \"GHG_sum_t\": -15619055.0, \"GHG_sum_Mt\": -15.619055}, {\"year\": 2031, \"catetory\": \"GHG\", \"base_name\": \"Transition Penalty\", \"base_ext\": \".csv\", \"path\": \"../LUTO_DATA/2023_11_21__05_26_04__hard_mincost_RF5_P1e5_2010-2050_timeseries_-337Mt/out_2031/GHG_emissions_separate_transition_penalty.csv\", \"GHG_sum_t\": 0.0, \"GHG_sum_Mt\": 0.0}, {\"year\": 2031, \"catetory\": \"GHG\", \"base_name\": \"Agricultural Landuse\", \"base_ext\": \".csv\", \"path\": \"../LUTO_DATA/2023_11_21__05_26_04__hard_mincost_RF5_P1e5_2010-2050_timeseries_-337Mt/out_2031/GHG_emissions_separate_agricultural_landuse.csv\", \"GHG_sum_t\": 83054338.03089775, \"GHG_sum_Mt\": 83.05433803089775}, {\"year\": 2032, \"catetory\": \"GHG\", \"base_name\": \"Non-Agricultural Landuse\", \"base_ext\": \".csv\", \"path\": \"../LUTO_DATA/2023_11_21__05_26_04__hard_mincost_RF5_P1e5_2010-2050_timeseries_-337Mt/out_2032/GHG_emissions_separate_no_ag_reduction.csv\", \"GHG_sum_t\": -211466780.0, \"GHG_sum_Mt\": -211.46678}, {\"year\": 2032, \"catetory\": \"GHG\", \"base_name\": \"Agricultural Management\", \"base_ext\": \".csv\", \"path\": \"../LUTO_DATA/2023_11_21__05_26_04__hard_mincost_RF5_P1e5_2010-2050_timeseries_-337Mt/out_2032/GHG_emissions_separate_agricultural_management.csv\", \"GHG_sum_t\": -15880438.0, \"GHG_sum_Mt\": -15.880438}, {\"year\": 2032, \"catetory\": \"GHG\", \"base_name\": \"Transition Penalty\", \"base_ext\": \".csv\", \"path\": \"../LUTO_DATA/2023_11_21__05_26_04__hard_mincost_RF5_P1e5_2010-2050_timeseries_-337Mt/out_2032/GHG_emissions_separate_transition_penalty.csv\", \"GHG_sum_t\": 0.0, \"GHG_sum_Mt\": 0.0}, {\"year\": 2032, \"catetory\": \"GHG\", \"base_name\": \"Agricultural Landuse\", \"base_ext\": \".csv\", \"path\": \"../LUTO_DATA/2023_11_21__05_26_04__hard_mincost_RF5_P1e5_2010-2050_timeseries_-337Mt/out_2032/GHG_emissions_separate_agricultural_landuse.csv\", \"GHG_sum_t\": 82495796.02139005, \"GHG_sum_Mt\": 82.49579602139005}, {\"year\": 2033, \"catetory\": \"GHG\", \"base_name\": \"Non-Agricultural Landuse\", \"base_ext\": \".csv\", \"path\": \"../LUTO_DATA/2023_11_21__05_26_04__hard_mincost_RF5_P1e5_2010-2050_timeseries_-337Mt/out_2033/GHG_emissions_separate_no_ag_reduction.csv\", \"GHG_sum_t\": -221420140.0, \"GHG_sum_Mt\": -221.42014}, {\"year\": 2033, \"catetory\": \"GHG\", \"base_name\": \"Agricultural Management\", \"base_ext\": \".csv\", \"path\": \"../LUTO_DATA/2023_11_21__05_26_04__hard_mincost_RF5_P1e5_2010-2050_timeseries_-337Mt/out_2033/GHG_emissions_separate_agricultural_management.csv\", \"GHG_sum_t\": -16218746.0, \"GHG_sum_Mt\": -16.218746}, {\"year\": 2033, \"catetory\": \"GHG\", \"base_name\": \"Transition Penalty\", \"base_ext\": \".csv\", \"path\": \"../LUTO_DATA/2023_11_21__05_26_04__hard_mincost_RF5_P1e5_2010-2050_timeseries_-337Mt/out_2033/GHG_emissions_separate_transition_penalty.csv\", \"GHG_sum_t\": 0.0, \"GHG_sum_Mt\": 0.0}, {\"year\": 2033, \"catetory\": \"GHG\", \"base_name\": \"Agricultural Landuse\", \"base_ext\": \".csv\", \"path\": \"../LUTO_DATA/2023_11_21__05_26_04__hard_mincost_RF5_P1e5_2010-2050_timeseries_-337Mt/out_2033/GHG_emissions_separate_agricultural_landuse.csv\", \"GHG_sum_t\": 82112388.24394594, \"GHG_sum_Mt\": 82.11238824394594}, {\"year\": 2034, \"catetory\": \"GHG\", \"base_name\": \"Non-Agricultural Landuse\", \"base_ext\": \".csv\", \"path\": \"../LUTO_DATA/2023_11_21__05_26_04__hard_mincost_RF5_P1e5_2010-2050_timeseries_-337Mt/out_2034/GHG_emissions_separate_no_ag_reduction.csv\", \"GHG_sum_t\": -231505070.0, \"GHG_sum_Mt\": -231.50507}, {\"year\": 2034, \"catetory\": \"GHG\", \"base_name\": \"Agricultural Management\", \"base_ext\": \".csv\", \"path\": \"../LUTO_DATA/2023_11_21__05_26_04__hard_mincost_RF5_P1e5_2010-2050_timeseries_-337Mt/out_2034/GHG_emissions_separate_agricultural_management.csv\", \"GHG_sum_t\": -16300601.0, \"GHG_sum_Mt\": -16.300601}, {\"year\": 2034, \"catetory\": \"GHG\", \"base_name\": \"Transition Penalty\", \"base_ext\": \".csv\", \"path\": \"../LUTO_DATA/2023_11_21__05_26_04__hard_mincost_RF5_P1e5_2010-2050_timeseries_-337Mt/out_2034/GHG_emissions_separate_transition_penalty.csv\", \"GHG_sum_t\": 0.0, \"GHG_sum_Mt\": 0.0}, {\"year\": 2034, \"catetory\": \"GHG\", \"base_name\": \"Agricultural Landuse\", \"base_ext\": \".csv\", \"path\": \"../LUTO_DATA/2023_11_21__05_26_04__hard_mincost_RF5_P1e5_2010-2050_timeseries_-337Mt/out_2034/GHG_emissions_separate_agricultural_landuse.csv\", \"GHG_sum_t\": 81604583.76912428, \"GHG_sum_Mt\": 81.60458376912429}, {\"year\": 2035, \"catetory\": \"GHG\", \"base_name\": \"Non-Agricultural Landuse\", \"base_ext\": \".csv\", \"path\": \"../LUTO_DATA/2023_11_21__05_26_04__hard_mincost_RF5_P1e5_2010-2050_timeseries_-337Mt/out_2035/GHG_emissions_separate_no_ag_reduction.csv\", \"GHG_sum_t\": -241769620.0, \"GHG_sum_Mt\": -241.76962}, {\"year\": 2035, \"catetory\": \"GHG\", \"base_name\": \"Agricultural Management\", \"base_ext\": \".csv\", \"path\": \"../LUTO_DATA/2023_11_21__05_26_04__hard_mincost_RF5_P1e5_2010-2050_timeseries_-337Mt/out_2035/GHG_emissions_separate_agricultural_management.csv\", \"GHG_sum_t\": -16278186.0, \"GHG_sum_Mt\": -16.278186}, {\"year\": 2035, \"catetory\": \"GHG\", \"base_name\": \"Transition Penalty\", \"base_ext\": \".csv\", \"path\": \"../LUTO_DATA/2023_11_21__05_26_04__hard_mincost_RF5_P1e5_2010-2050_timeseries_-337Mt/out_2035/GHG_emissions_separate_transition_penalty.csv\", \"GHG_sum_t\": 0.0, \"GHG_sum_Mt\": 0.0}, {\"year\": 2035, \"catetory\": \"GHG\", \"base_name\": \"Agricultural Landuse\", \"base_ext\": \".csv\", \"path\": \"../LUTO_DATA/2023_11_21__05_26_04__hard_mincost_RF5_P1e5_2010-2050_timeseries_-337Mt/out_2035/GHG_emissions_separate_agricultural_landuse.csv\", \"GHG_sum_t\": 81168554.86812662, \"GHG_sum_Mt\": 81.16855486812662}, {\"year\": 2036, \"catetory\": \"GHG\", \"base_name\": \"Non-Agricultural Landuse\", \"base_ext\": \".csv\", \"path\": \"../LUTO_DATA/2023_11_21__05_26_04__hard_mincost_RF5_P1e5_2010-2050_timeseries_-337Mt/out_2036/GHG_emissions_separate_no_ag_reduction.csv\", \"GHG_sum_t\": -252134100.0, \"GHG_sum_Mt\": -252.1341}, {\"year\": 2036, \"catetory\": \"GHG\", \"base_name\": \"Agricultural Management\", \"base_ext\": \".csv\", \"path\": \"../LUTO_DATA/2023_11_21__05_26_04__hard_mincost_RF5_P1e5_2010-2050_timeseries_-337Mt/out_2036/GHG_emissions_separate_agricultural_management.csv\", \"GHG_sum_t\": -16032968.0, \"GHG_sum_Mt\": -16.032968}, {\"year\": 2036, \"catetory\": \"GHG\", \"base_name\": \"Transition Penalty\", \"base_ext\": \".csv\", \"path\": \"../LUTO_DATA/2023_11_21__05_26_04__hard_mincost_RF5_P1e5_2010-2050_timeseries_-337Mt/out_2036/GHG_emissions_separate_transition_penalty.csv\", \"GHG_sum_t\": 0.0, \"GHG_sum_Mt\": 0.0}, {\"year\": 2036, \"catetory\": \"GHG\", \"base_name\": \"Agricultural Landuse\", \"base_ext\": \".csv\", \"path\": \"../LUTO_DATA/2023_11_21__05_26_04__hard_mincost_RF5_P1e5_2010-2050_timeseries_-337Mt/out_2036/GHG_emissions_separate_agricultural_landuse.csv\", \"GHG_sum_t\": 80612002.4502766, \"GHG_sum_Mt\": 80.61200245027659}, {\"year\": 2037, \"catetory\": \"GHG\", \"base_name\": \"Non-Agricultural Landuse\", \"base_ext\": \".csv\", \"path\": \"../LUTO_DATA/2023_11_21__05_26_04__hard_mincost_RF5_P1e5_2010-2050_timeseries_-337Mt/out_2037/GHG_emissions_separate_no_ag_reduction.csv\", \"GHG_sum_t\": -262265000.0, \"GHG_sum_Mt\": -262.265}, {\"year\": 2037, \"catetory\": \"GHG\", \"base_name\": \"Agricultural Management\", \"base_ext\": \".csv\", \"path\": \"../LUTO_DATA/2023_11_21__05_26_04__hard_mincost_RF5_P1e5_2010-2050_timeseries_-337Mt/out_2037/GHG_emissions_separate_agricultural_management.csv\", \"GHG_sum_t\": -16101000.0, \"GHG_sum_Mt\": -16.101}, {\"year\": 2037, \"catetory\": \"GHG\", \"base_name\": \"Transition Penalty\", \"base_ext\": \".csv\", \"path\": \"../LUTO_DATA/2023_11_21__05_26_04__hard_mincost_RF5_P1e5_2010-2050_timeseries_-337Mt/out_2037/GHG_emissions_separate_transition_penalty.csv\", \"GHG_sum_t\": 0.0, \"GHG_sum_Mt\": 0.0}, {\"year\": 2037, \"catetory\": \"GHG\", \"base_name\": \"Agricultural Landuse\", \"base_ext\": \".csv\", \"path\": \"../LUTO_DATA/2023_11_21__05_26_04__hard_mincost_RF5_P1e5_2010-2050_timeseries_-337Mt/out_2037/GHG_emissions_separate_agricultural_landuse.csv\", \"GHG_sum_t\": 80140991.24263024, \"GHG_sum_Mt\": 80.14099124263025}, {\"year\": 2038, \"catetory\": \"GHG\", \"base_name\": \"Non-Agricultural Landuse\", \"base_ext\": \".csv\", \"path\": \"../LUTO_DATA/2023_11_21__05_26_04__hard_mincost_RF5_P1e5_2010-2050_timeseries_-337Mt/out_2038/GHG_emissions_separate_no_ag_reduction.csv\", \"GHG_sum_t\": -272567580.0, \"GHG_sum_Mt\": -272.56758}, {\"year\": 2038, \"catetory\": \"GHG\", \"base_name\": \"Agricultural Management\", \"base_ext\": \".csv\", \"path\": \"../LUTO_DATA/2023_11_21__05_26_04__hard_mincost_RF5_P1e5_2010-2050_timeseries_-337Mt/out_2038/GHG_emissions_separate_agricultural_management.csv\", \"GHG_sum_t\": -15890797.0, \"GHG_sum_Mt\": -15.890797}, {\"year\": 2038, \"catetory\": \"GHG\", \"base_name\": \"Transition Penalty\", \"base_ext\": \".csv\", \"path\": \"../LUTO_DATA/2023_11_21__05_26_04__hard_mincost_RF5_P1e5_2010-2050_timeseries_-337Mt/out_2038/GHG_emissions_separate_transition_penalty.csv\", \"GHG_sum_t\": 0.0, \"GHG_sum_Mt\": 0.0}, {\"year\": 2038, \"catetory\": \"GHG\", \"base_name\": \"Agricultural Landuse\", \"base_ext\": \".csv\", \"path\": \"../LUTO_DATA/2023_11_21__05_26_04__hard_mincost_RF5_P1e5_2010-2050_timeseries_-337Mt/out_2038/GHG_emissions_separate_agricultural_landuse.csv\", \"GHG_sum_t\": 79557290.89131735, \"GHG_sum_Mt\": 79.55729089131735}, {\"year\": 2039, \"catetory\": \"GHG\", \"base_name\": \"Non-Agricultural Landuse\", \"base_ext\": \".csv\", \"path\": \"../LUTO_DATA/2023_11_21__05_26_04__hard_mincost_RF5_P1e5_2010-2050_timeseries_-337Mt/out_2039/GHG_emissions_separate_no_ag_reduction.csv\", \"GHG_sum_t\": -282584060.0, \"GHG_sum_Mt\": -282.58406}, {\"year\": 2039, \"catetory\": \"GHG\", \"base_name\": \"Agricultural Management\", \"base_ext\": \".csv\", \"path\": \"../LUTO_DATA/2023_11_21__05_26_04__hard_mincost_RF5_P1e5_2010-2050_timeseries_-337Mt/out_2039/GHG_emissions_separate_agricultural_management.csv\", \"GHG_sum_t\": -15972685.0, \"GHG_sum_Mt\": -15.972685}, {\"year\": 2039, \"catetory\": \"GHG\", \"base_name\": \"Transition Penalty\", \"base_ext\": \".csv\", \"path\": \"../LUTO_DATA/2023_11_21__05_26_04__hard_mincost_RF5_P1e5_2010-2050_timeseries_-337Mt/out_2039/GHG_emissions_separate_transition_penalty.csv\", \"GHG_sum_t\": 64509.12, \"GHG_sum_Mt\": 0.06450912}, {\"year\": 2039, \"catetory\": \"GHG\", \"base_name\": \"Agricultural Landuse\", \"base_ext\": \".csv\", \"path\": \"../LUTO_DATA/2023_11_21__05_26_04__hard_mincost_RF5_P1e5_2010-2050_timeseries_-337Mt/out_2039/GHG_emissions_separate_agricultural_landuse.csv\", \"GHG_sum_t\": 78911704.02105415, \"GHG_sum_Mt\": 78.91170402105415}, {\"year\": 2040, \"catetory\": \"GHG\", \"base_name\": \"Non-Agricultural Landuse\", \"base_ext\": \".csv\", \"path\": \"../LUTO_DATA/2023_11_21__05_26_04__hard_mincost_RF5_P1e5_2010-2050_timeseries_-337Mt/out_2040/GHG_emissions_separate_no_ag_reduction.csv\", \"GHG_sum_t\": -292187600.0, \"GHG_sum_Mt\": -292.1876}, {\"year\": 2040, \"catetory\": \"GHG\", \"base_name\": \"Agricultural Management\", \"base_ext\": \".csv\", \"path\": \"../LUTO_DATA/2023_11_21__05_26_04__hard_mincost_RF5_P1e5_2010-2050_timeseries_-337Mt/out_2040/GHG_emissions_separate_agricultural_management.csv\", \"GHG_sum_t\": -16323800.0, \"GHG_sum_Mt\": -16.3238}, {\"year\": 2040, \"catetory\": \"GHG\", \"base_name\": \"Transition Penalty\", \"base_ext\": \".csv\", \"path\": \"../LUTO_DATA/2023_11_21__05_26_04__hard_mincost_RF5_P1e5_2010-2050_timeseries_-337Mt/out_2040/GHG_emissions_separate_transition_penalty.csv\", \"GHG_sum_t\": 65385.156, \"GHG_sum_Mt\": 0.065385156}, {\"year\": 2040, \"catetory\": \"GHG\", \"base_name\": \"Agricultural Landuse\", \"base_ext\": \".csv\", \"path\": \"../LUTO_DATA/2023_11_21__05_26_04__hard_mincost_RF5_P1e5_2010-2050_timeseries_-337Mt/out_2040/GHG_emissions_separate_agricultural_landuse.csv\", \"GHG_sum_t\": 78260845.59381607, \"GHG_sum_Mt\": 78.26084559381607}, {\"year\": 2041, \"catetory\": \"GHG\", \"base_name\": \"Non-Agricultural Landuse\", \"base_ext\": \".csv\", \"path\": \"../LUTO_DATA/2023_11_21__05_26_04__hard_mincost_RF5_P1e5_2010-2050_timeseries_-337Mt/out_2041/GHG_emissions_separate_no_ag_reduction.csv\", \"GHG_sum_t\": -301748900.0, \"GHG_sum_Mt\": -301.7489}, {\"year\": 2041, \"catetory\": \"GHG\", \"base_name\": \"Agricultural Management\", \"base_ext\": \".csv\", \"path\": \"../LUTO_DATA/2023_11_21__05_26_04__hard_mincost_RF5_P1e5_2010-2050_timeseries_-337Mt/out_2041/GHG_emissions_separate_agricultural_management.csv\", \"GHG_sum_t\": -16839840.0, \"GHG_sum_Mt\": -16.83984}, {\"year\": 2041, \"catetory\": \"GHG\", \"base_name\": \"Transition Penalty\", \"base_ext\": \".csv\", \"path\": \"../LUTO_DATA/2023_11_21__05_26_04__hard_mincost_RF5_P1e5_2010-2050_timeseries_-337Mt/out_2041/GHG_emissions_separate_transition_penalty.csv\", \"GHG_sum_t\": 65385.156, \"GHG_sum_Mt\": 0.065385156}, {\"year\": 2041, \"catetory\": \"GHG\", \"base_name\": \"Agricultural Landuse\", \"base_ext\": \".csv\", \"path\": \"../LUTO_DATA/2023_11_21__05_26_04__hard_mincost_RF5_P1e5_2010-2050_timeseries_-337Mt/out_2041/GHG_emissions_separate_agricultural_landuse.csv\", \"GHG_sum_t\": 77662595.86729859, \"GHG_sum_Mt\": 77.66259586729859}, {\"year\": 2042, \"catetory\": \"GHG\", \"base_name\": \"Non-Agricultural Landuse\", \"base_ext\": \".csv\", \"path\": \"../LUTO_DATA/2023_11_21__05_26_04__hard_mincost_RF5_P1e5_2010-2050_timeseries_-337Mt/out_2042/GHG_emissions_separate_no_ag_reduction.csv\", \"GHG_sum_t\": -311152700.0, \"GHG_sum_Mt\": -311.1527}, {\"year\": 2042, \"catetory\": \"GHG\", \"base_name\": \"Agricultural Management\", \"base_ext\": \".csv\", \"path\": \"../LUTO_DATA/2023_11_21__05_26_04__hard_mincost_RF5_P1e5_2010-2050_timeseries_-337Mt/out_2042/GHG_emissions_separate_agricultural_management.csv\", \"GHG_sum_t\": -17425834.0, \"GHG_sum_Mt\": -17.425834}, {\"year\": 2042, \"catetory\": \"GHG\", \"base_name\": \"Transition Penalty\", \"base_ext\": \".csv\", \"path\": \"../LUTO_DATA/2023_11_21__05_26_04__hard_mincost_RF5_P1e5_2010-2050_timeseries_-337Mt/out_2042/GHG_emissions_separate_transition_penalty.csv\", \"GHG_sum_t\": 65385.156, \"GHG_sum_Mt\": 0.065385156}, {\"year\": 2042, \"catetory\": \"GHG\", \"base_name\": \"Agricultural Landuse\", \"base_ext\": \".csv\", \"path\": \"../LUTO_DATA/2023_11_21__05_26_04__hard_mincost_RF5_P1e5_2010-2050_timeseries_-337Mt/out_2042/GHG_emissions_separate_agricultural_landuse.csv\", \"GHG_sum_t\": 76968838.918777, \"GHG_sum_Mt\": 76.96883891877701}, {\"year\": 2043, \"catetory\": \"GHG\", \"base_name\": \"Non-Agricultural Landuse\", \"base_ext\": \".csv\", \"path\": \"../LUTO_DATA/2023_11_21__05_26_04__hard_mincost_RF5_P1e5_2010-2050_timeseries_-337Mt/out_2043/GHG_emissions_separate_no_ag_reduction.csv\", \"GHG_sum_t\": -320403970.0, \"GHG_sum_Mt\": -320.40397}, {\"year\": 2043, \"catetory\": \"GHG\", \"base_name\": \"Agricultural Management\", \"base_ext\": \".csv\", \"path\": \"../LUTO_DATA/2023_11_21__05_26_04__hard_mincost_RF5_P1e5_2010-2050_timeseries_-337Mt/out_2043/GHG_emissions_separate_agricultural_management.csv\", \"GHG_sum_t\": -18223724.0, \"GHG_sum_Mt\": -18.223724}, {\"year\": 2043, \"catetory\": \"GHG\", \"base_name\": \"Transition Penalty\", \"base_ext\": \".csv\", \"path\": \"../LUTO_DATA/2023_11_21__05_26_04__hard_mincost_RF5_P1e5_2010-2050_timeseries_-337Mt/out_2043/GHG_emissions_separate_transition_penalty.csv\", \"GHG_sum_t\": 65385.156, \"GHG_sum_Mt\": 0.065385156}, {\"year\": 2043, \"catetory\": \"GHG\", \"base_name\": \"Agricultural Landuse\", \"base_ext\": \".csv\", \"path\": \"../LUTO_DATA/2023_11_21__05_26_04__hard_mincost_RF5_P1e5_2010-2050_timeseries_-337Mt/out_2043/GHG_emissions_separate_agricultural_landuse.csv\", \"GHG_sum_t\": 76349430.10686298, \"GHG_sum_Mt\": 76.34943010686298}, {\"year\": 2044, \"catetory\": \"GHG\", \"base_name\": \"Non-Agricultural Landuse\", \"base_ext\": \".csv\", \"path\": \"../LUTO_DATA/2023_11_21__05_26_04__hard_mincost_RF5_P1e5_2010-2050_timeseries_-337Mt/out_2044/GHG_emissions_separate_no_ag_reduction.csv\", \"GHG_sum_t\": -330257760.0, \"GHG_sum_Mt\": -330.25776}, {\"year\": 2044, \"catetory\": \"GHG\", \"base_name\": \"Agricultural Management\", \"base_ext\": \".csv\", \"path\": \"../LUTO_DATA/2023_11_21__05_26_04__hard_mincost_RF5_P1e5_2010-2050_timeseries_-337Mt/out_2044/GHG_emissions_separate_agricultural_management.csv\", \"GHG_sum_t\": -18407856.0, \"GHG_sum_Mt\": -18.407856}, {\"year\": 2044, \"catetory\": \"GHG\", \"base_name\": \"Transition Penalty\", \"base_ext\": \".csv\", \"path\": \"../LUTO_DATA/2023_11_21__05_26_04__hard_mincost_RF5_P1e5_2010-2050_timeseries_-337Mt/out_2044/GHG_emissions_separate_transition_penalty.csv\", \"GHG_sum_t\": 65385.156, \"GHG_sum_Mt\": 0.065385156}, {\"year\": 2044, \"catetory\": \"GHG\", \"base_name\": \"Agricultural Landuse\", \"base_ext\": \".csv\", \"path\": \"../LUTO_DATA/2023_11_21__05_26_04__hard_mincost_RF5_P1e5_2010-2050_timeseries_-337Mt/out_2044/GHG_emissions_separate_agricultural_landuse.csv\", \"GHG_sum_t\": 75710477.86716656, \"GHG_sum_Mt\": 75.71047786716656}, {\"year\": 2045, \"catetory\": \"GHG\", \"base_name\": \"Non-Agricultural Landuse\", \"base_ext\": \".csv\", \"path\": \"../LUTO_DATA/2023_11_21__05_26_04__hard_mincost_RF5_P1e5_2010-2050_timeseries_-337Mt/out_2045/GHG_emissions_separate_no_ag_reduction.csv\", \"GHG_sum_t\": -340243000.0, \"GHG_sum_Mt\": -340.243}, {\"year\": 2045, \"catetory\": \"GHG\", \"base_name\": \"Agricultural Management\", \"base_ext\": \".csv\", \"path\": \"../LUTO_DATA/2023_11_21__05_26_04__hard_mincost_RF5_P1e5_2010-2050_timeseries_-337Mt/out_2045/GHG_emissions_separate_agricultural_management.csv\", \"GHG_sum_t\": -18542536.0, \"GHG_sum_Mt\": -18.542536}, {\"year\": 2045, \"catetory\": \"GHG\", \"base_name\": \"Transition Penalty\", \"base_ext\": \".csv\", \"path\": \"../LUTO_DATA/2023_11_21__05_26_04__hard_mincost_RF5_P1e5_2010-2050_timeseries_-337Mt/out_2045/GHG_emissions_separate_transition_penalty.csv\", \"GHG_sum_t\": 65385.156, \"GHG_sum_Mt\": 0.065385156}, {\"year\": 2045, \"catetory\": \"GHG\", \"base_name\": \"Agricultural Landuse\", \"base_ext\": \".csv\", \"path\": \"../LUTO_DATA/2023_11_21__05_26_04__hard_mincost_RF5_P1e5_2010-2050_timeseries_-337Mt/out_2045/GHG_emissions_separate_agricultural_landuse.csv\", \"GHG_sum_t\": 75155478.84723188, \"GHG_sum_Mt\": 75.15547884723188}, {\"year\": 2046, \"catetory\": \"GHG\", \"base_name\": \"Non-Agricultural Landuse\", \"base_ext\": \".csv\", \"path\": \"../LUTO_DATA/2023_11_21__05_26_04__hard_mincost_RF5_P1e5_2010-2050_timeseries_-337Mt/out_2046/GHG_emissions_separate_no_ag_reduction.csv\", \"GHG_sum_t\": -345379040.0, \"GHG_sum_Mt\": -345.37904}, {\"year\": 2046, \"catetory\": \"GHG\", \"base_name\": \"Agricultural Management\", \"base_ext\": \".csv\", \"path\": \"../LUTO_DATA/2023_11_21__05_26_04__hard_mincost_RF5_P1e5_2010-2050_timeseries_-337Mt/out_2046/GHG_emissions_separate_agricultural_management.csv\", \"GHG_sum_t\": -23923156.0, \"GHG_sum_Mt\": -23.923156}, {\"year\": 2046, \"catetory\": \"GHG\", \"base_name\": \"Transition Penalty\", \"base_ext\": \".csv\", \"path\": \"../LUTO_DATA/2023_11_21__05_26_04__hard_mincost_RF5_P1e5_2010-2050_timeseries_-337Mt/out_2046/GHG_emissions_separate_transition_penalty.csv\", \"GHG_sum_t\": 65385.156, \"GHG_sum_Mt\": 0.065385156}, {\"year\": 2046, \"catetory\": \"GHG\", \"base_name\": \"Agricultural Landuse\", \"base_ext\": \".csv\", \"path\": \"../LUTO_DATA/2023_11_21__05_26_04__hard_mincost_RF5_P1e5_2010-2050_timeseries_-337Mt/out_2046/GHG_emissions_separate_agricultural_landuse.csv\", \"GHG_sum_t\": 75000774.484955, \"GHG_sum_Mt\": 75.000774484955}, {\"year\": 2047, \"catetory\": \"GHG\", \"base_name\": \"Non-Agricultural Landuse\", \"base_ext\": \".csv\", \"path\": \"../LUTO_DATA/2023_11_21__05_26_04__hard_mincost_RF5_P1e5_2010-2050_timeseries_-337Mt/out_2047/GHG_emissions_separate_no_ag_reduction.csv\", \"GHG_sum_t\": -350024580.0, \"GHG_sum_Mt\": -350.02458}, {\"year\": 2047, \"catetory\": \"GHG\", \"base_name\": \"Agricultural Management\", \"base_ext\": \".csv\", \"path\": \"../LUTO_DATA/2023_11_21__05_26_04__hard_mincost_RF5_P1e5_2010-2050_timeseries_-337Mt/out_2047/GHG_emissions_separate_agricultural_management.csv\", \"GHG_sum_t\": -29897764.0, \"GHG_sum_Mt\": -29.897764}, {\"year\": 2047, \"catetory\": \"GHG\", \"base_name\": \"Transition Penalty\", \"base_ext\": \".csv\", \"path\": \"../LUTO_DATA/2023_11_21__05_26_04__hard_mincost_RF5_P1e5_2010-2050_timeseries_-337Mt/out_2047/GHG_emissions_separate_transition_penalty.csv\", \"GHG_sum_t\": 65385.156, \"GHG_sum_Mt\": 0.065385156}, {\"year\": 2047, \"catetory\": \"GHG\", \"base_name\": \"Agricultural Landuse\", \"base_ext\": \".csv\", \"path\": \"../LUTO_DATA/2023_11_21__05_26_04__hard_mincost_RF5_P1e5_2010-2050_timeseries_-337Mt/out_2047/GHG_emissions_separate_agricultural_landuse.csv\", \"GHG_sum_t\": 74938668.62311181, \"GHG_sum_Mt\": 74.93866862311181}, {\"year\": 2048, \"catetory\": \"GHG\", \"base_name\": \"Non-Agricultural Landuse\", \"base_ext\": \".csv\", \"path\": \"../LUTO_DATA/2023_11_21__05_26_04__hard_mincost_RF5_P1e5_2010-2050_timeseries_-337Mt/out_2048/GHG_emissions_separate_no_ag_reduction.csv\", \"GHG_sum_t\": -359300300.0, \"GHG_sum_Mt\": -359.3003}, {\"year\": 2048, \"catetory\": \"GHG\", \"base_name\": \"Agricultural Management\", \"base_ext\": \".csv\", \"path\": \"../LUTO_DATA/2023_11_21__05_26_04__hard_mincost_RF5_P1e5_2010-2050_timeseries_-337Mt/out_2048/GHG_emissions_separate_agricultural_management.csv\", \"GHG_sum_t\": -31231440.0, \"GHG_sum_Mt\": -31.23144}, {\"year\": 2048, \"catetory\": \"GHG\", \"base_name\": \"Transition Penalty\", \"base_ext\": \".csv\", \"path\": \"../LUTO_DATA/2023_11_21__05_26_04__hard_mincost_RF5_P1e5_2010-2050_timeseries_-337Mt/out_2048/GHG_emissions_separate_transition_penalty.csv\", \"GHG_sum_t\": 65385.156, \"GHG_sum_Mt\": 0.065385156}, {\"year\": 2048, \"catetory\": \"GHG\", \"base_name\": \"Agricultural Landuse\", \"base_ext\": \".csv\", \"path\": \"../LUTO_DATA/2023_11_21__05_26_04__hard_mincost_RF5_P1e5_2010-2050_timeseries_-337Mt/out_2048/GHG_emissions_separate_agricultural_landuse.csv\", \"GHG_sum_t\": 74877891.53185764, \"GHG_sum_Mt\": 74.87789153185764}, {\"year\": 2049, \"catetory\": \"GHG\", \"base_name\": \"Non-Agricultural Landuse\", \"base_ext\": \".csv\", \"path\": \"../LUTO_DATA/2023_11_21__05_26_04__hard_mincost_RF5_P1e5_2010-2050_timeseries_-337Mt/out_2049/GHG_emissions_separate_no_ag_reduction.csv\", \"GHG_sum_t\": -369427520.0, \"GHG_sum_Mt\": -369.42752}, {\"year\": 2049, \"catetory\": \"GHG\", \"base_name\": \"Agricultural Management\", \"base_ext\": \".csv\", \"path\": \"../LUTO_DATA/2023_11_21__05_26_04__hard_mincost_RF5_P1e5_2010-2050_timeseries_-337Mt/out_2049/GHG_emissions_separate_agricultural_management.csv\", \"GHG_sum_t\": -32814244.0, \"GHG_sum_Mt\": -32.814244}, {\"year\": 2049, \"catetory\": \"GHG\", \"base_name\": \"Transition Penalty\", \"base_ext\": \".csv\", \"path\": \"../LUTO_DATA/2023_11_21__05_26_04__hard_mincost_RF5_P1e5_2010-2050_timeseries_-337Mt/out_2049/GHG_emissions_separate_transition_penalty.csv\", \"GHG_sum_t\": 65385.156, \"GHG_sum_Mt\": 0.065385156}, {\"year\": 2049, \"catetory\": \"GHG\", \"base_name\": \"Agricultural Landuse\", \"base_ext\": \".csv\", \"path\": \"../LUTO_DATA/2023_11_21__05_26_04__hard_mincost_RF5_P1e5_2010-2050_timeseries_-337Mt/out_2049/GHG_emissions_separate_agricultural_landuse.csv\", \"GHG_sum_t\": 75907306.04191628, \"GHG_sum_Mt\": 75.90730604191629}, {\"year\": 2050, \"catetory\": \"GHG\", \"base_name\": \"Non-Agricultural Landuse\", \"base_ext\": \".csv\", \"path\": \"../LUTO_DATA/2023_11_21__05_26_04__hard_mincost_RF5_P1e5_2010-2050_timeseries_-337Mt/out_2050/GHG_emissions_separate_no_ag_reduction.csv\", \"GHG_sum_t\": -379990720.0, \"GHG_sum_Mt\": -379.99072}, {\"year\": 2050, \"catetory\": \"GHG\", \"base_name\": \"Agricultural Management\", \"base_ext\": \".csv\", \"path\": \"../LUTO_DATA/2023_11_21__05_26_04__hard_mincost_RF5_P1e5_2010-2050_timeseries_-337Mt/out_2050/GHG_emissions_separate_agricultural_management.csv\", \"GHG_sum_t\": -34391990.0, \"GHG_sum_Mt\": -34.39199}, {\"year\": 2050, \"catetory\": \"GHG\", \"base_name\": \"Transition Penalty\", \"base_ext\": \".csv\", \"path\": \"../LUTO_DATA/2023_11_21__05_26_04__hard_mincost_RF5_P1e5_2010-2050_timeseries_-337Mt/out_2050/GHG_emissions_separate_transition_penalty.csv\", \"GHG_sum_t\": 65385.156, \"GHG_sum_Mt\": 0.065385156}, {\"year\": 2050, \"catetory\": \"GHG\", \"base_name\": \"Agricultural Landuse\", \"base_ext\": \".csv\", \"path\": \"../LUTO_DATA/2023_11_21__05_26_04__hard_mincost_RF5_P1e5_2010-2050_timeseries_-337Mt/out_2050/GHG_emissions_separate_agricultural_landuse.csv\", \"GHG_sum_t\": 77367414.80433634, \"GHG_sum_Mt\": 77.36741480433633}]}}, {\"mode\": \"vega-lite\"});\n",
       "</script>"
      ],
      "text/plain": [
       "alt.LayerChart(...)"
      ]
     },
     "execution_count": 6,
     "metadata": {},
     "output_type": "execute_result"
    }
   ],
   "source": [
    "# HIDE CODE  \n",
    "plot_GHG_total(GHG_files, Net_emission)"
   ]
  },
  {
   "cell_type": "code",
   "execution_count": null,
   "metadata": {},
   "outputs": [],
   "source": []
  },
  {
   "cell_type": "code",
   "execution_count": null,
   "metadata": {},
   "outputs": [],
   "source": []
  },
  {
   "cell_type": "code",
   "execution_count": null,
   "metadata": {},
   "outputs": [],
   "source": []
  },
  {
   "cell_type": "markdown",
   "metadata": {},
   "source": [
    "## Agricultural Land use Emissions"
   ]
  },
  {
   "cell_type": "code",
   "execution_count": null,
   "metadata": {},
   "outputs": [],
   "source": []
  },
  {
   "cell_type": "markdown",
   "metadata": {},
   "source": [
    "Get the Agricultural land-use data"
   ]
  },
  {
   "cell_type": "code",
   "execution_count": 7,
   "metadata": {
    "tags": [
     "remove-cell"
    ]
   },
   "outputs": [],
   "source": [
    "# HIDDEN\n",
    "# Initialize the class\n",
    "ag_lucc_GHG = get_GHG_plots(GHG_files,'Agricultural Landuse','GHG emissions (Mt CO2e)')"
   ]
  },
  {
   "cell_type": "markdown",
   "metadata": {},
   "source": [
    "### Emissions by Crops/Livestocks"
   ]
  },
  {
   "cell_type": "code",
   "execution_count": null,
   "metadata": {},
   "outputs": [],
   "source": []
  },
  {
   "cell_type": "code",
   "execution_count": 8,
   "metadata": {
    "tags": [
     "hide-input"
    ]
   },
   "outputs": [
    {
     "data": {
      "text/html": [
       "\n",
       "<style>\n",
       "  #altair-viz-6980fa54ff81425b83ae3629ae9410c5.vega-embed {\n",
       "    width: 100%;\n",
       "    display: flex;\n",
       "  }\n",
       "\n",
       "  #altair-viz-6980fa54ff81425b83ae3629ae9410c5.vega-embed details,\n",
       "  #altair-viz-6980fa54ff81425b83ae3629ae9410c5.vega-embed details summary {\n",
       "    position: relative;\n",
       "  }\n",
       "</style>\n",
       "<div id=\"altair-viz-6980fa54ff81425b83ae3629ae9410c5\"></div>\n",
       "<script type=\"text/javascript\">\n",
       "  var VEGA_DEBUG = (typeof VEGA_DEBUG == \"undefined\") ? {} : VEGA_DEBUG;\n",
       "  (function(spec, embedOpt){\n",
       "    let outputDiv = document.currentScript.previousElementSibling;\n",
       "    if (outputDiv.id !== \"altair-viz-6980fa54ff81425b83ae3629ae9410c5\") {\n",
       "      outputDiv = document.getElementById(\"altair-viz-6980fa54ff81425b83ae3629ae9410c5\");\n",
       "    }\n",
       "    const paths = {\n",
       "      \"vega\": \"https://cdn.jsdelivr.net/npm/vega@5?noext\",\n",
       "      \"vega-lib\": \"https://cdn.jsdelivr.net/npm/vega-lib?noext\",\n",
       "      \"vega-lite\": \"https://cdn.jsdelivr.net/npm/vega-lite@5.15.1?noext\",\n",
       "      \"vega-embed\": \"https://cdn.jsdelivr.net/npm/vega-embed@6?noext\",\n",
       "    };\n",
       "\n",
       "    function maybeLoadScript(lib, version) {\n",
       "      var key = `${lib.replace(\"-\", \"\")}_version`;\n",
       "      return (VEGA_DEBUG[key] == version) ?\n",
       "        Promise.resolve(paths[lib]) :\n",
       "        new Promise(function(resolve, reject) {\n",
       "          var s = document.createElement('script');\n",
       "          document.getElementsByTagName(\"head\")[0].appendChild(s);\n",
       "          s.async = true;\n",
       "          s.onload = () => {\n",
       "            VEGA_DEBUG[key] = version;\n",
       "            return resolve(paths[lib]);\n",
       "          };\n",
       "          s.onerror = () => reject(`Error loading script: ${paths[lib]}`);\n",
       "          s.src = paths[lib];\n",
       "        });\n",
       "    }\n",
       "\n",
       "    function showError(err) {\n",
       "      outputDiv.innerHTML = `<div class=\"error\" style=\"color:red;\">${err}</div>`;\n",
       "      throw err;\n",
       "    }\n",
       "\n",
       "    function displayChart(vegaEmbed) {\n",
       "      vegaEmbed(outputDiv, spec, embedOpt)\n",
       "        .catch(err => showError(`Javascript Error: ${err.message}<br>This usually means there's a typo in your chart specification. See the javascript console for the full traceback.`));\n",
       "    }\n",
       "\n",
       "    if(typeof define === \"function\" && define.amd) {\n",
       "      requirejs.config({paths});\n",
       "      require([\"vega-embed\"], displayChart, err => showError(`Error loading script: ${err.message}`));\n",
       "    } else {\n",
       "      maybeLoadScript(\"vega\", \"5\")\n",
       "        .then(() => maybeLoadScript(\"vega-lite\", \"5.15.1\"))\n",
       "        .then(() => maybeLoadScript(\"vega-embed\", \"6\"))\n",
       "        .catch(showError)\n",
       "        .then(() => displayChart(vegaEmbed));\n",
       "    }\n",
       "  })({\"config\": {\"view\": {\"continuousWidth\": 300, \"continuousHeight\": 300}}, \"layer\": [{\"mark\": {\"type\": \"bar\"}, \"encoding\": {\"color\": {\"field\": \"Landuse_land_cat\", \"legend\": {\"direction\": \"horizontal\", \"legendX\": 138.0, \"legendY\": -30, \"orient\": \"none\", \"title\": \"Landuse type\", \"titleAnchor\": \"middle\"}, \"type\": \"nominal\"}, \"tooltip\": [{\"field\": \"Landuse_land_cat\", \"title\": \"Landuse type\", \"type\": \"ordinal\"}, {\"field\": \"Quantity (Mt CO2e)\", \"title\": \"GHG emissions (Mt CO2e)\", \"type\": \"quantitative\"}], \"x\": {\"axis\": {\"labelAngle\": -90, \"title\": \"Year\"}, \"field\": \"Year\", \"type\": \"ordinal\"}, \"y\": {\"field\": \"Quantity (Mt CO2e)\", \"scale\": {\"reverse\": false, \"zero\": false}, \"title\": \"GHG emissions (Mt CO2e)\", \"type\": \"quantitative\"}}}], \"data\": {\"name\": \"data-619bc50c0b623ae766e4ba80cc71a934\"}, \"height\": 450, \"width\": 600, \"$schema\": \"https://vega.github.io/schema/vega-lite/v5.15.1.json\", \"datasets\": {\"data-619bc50c0b623ae766e4ba80cc71a934\": [{\"Year\": 2010, \"Land use category\": \"Crop\", \"Land category\": \"Crop\", \"Quantity (Mt CO2e)\": 14.227128074294038, \"Landuse_land_cat\": \"Crop\"}, {\"Year\": 2010, \"Land use category\": \"Livestock\", \"Land category\": \"modified land\", \"Quantity (Mt CO2e)\": 54.500770613386024, \"Landuse_land_cat\": \"Livestock - modified land\"}, {\"Year\": 2010, \"Land use category\": \"Livestock\", \"Land category\": \"natural land\", \"Quantity (Mt CO2e)\": 21.784004215669686, \"Landuse_land_cat\": \"Livestock - natural land\"}, {\"Year\": 2011, \"Land use category\": \"Crop\", \"Land category\": \"Crop\", \"Quantity (Mt CO2e)\": 13.63422894826687, \"Landuse_land_cat\": \"Crop\"}, {\"Year\": 2011, \"Land use category\": \"Livestock\", \"Land category\": \"modified land\", \"Quantity (Mt CO2e)\": 53.7964941191326, \"Landuse_land_cat\": \"Livestock - modified land\"}, {\"Year\": 2011, \"Land use category\": \"Livestock\", \"Land category\": \"natural land\", \"Quantity (Mt CO2e)\": 21.88927125351507, \"Landuse_land_cat\": \"Livestock - natural land\"}, {\"Year\": 2012, \"Land use category\": \"Crop\", \"Land category\": \"Crop\", \"Quantity (Mt CO2e)\": 13.660411789181104, \"Landuse_land_cat\": \"Crop\"}, {\"Year\": 2012, \"Land use category\": \"Livestock\", \"Land category\": \"modified land\", \"Quantity (Mt CO2e)\": 53.559890271202576, \"Landuse_land_cat\": \"Livestock - modified land\"}, {\"Year\": 2012, \"Land use category\": \"Livestock\", \"Land category\": \"natural land\", \"Quantity (Mt CO2e)\": 22.123831616327397, \"Landuse_land_cat\": \"Livestock - natural land\"}, {\"Year\": 2013, \"Land use category\": \"Crop\", \"Land category\": \"Crop\", \"Quantity (Mt CO2e)\": 13.693107274852967, \"Landuse_land_cat\": \"Crop\"}, {\"Year\": 2013, \"Land use category\": \"Livestock\", \"Land category\": \"modified land\", \"Quantity (Mt CO2e)\": 53.15909271118812, \"Landuse_land_cat\": \"Livestock - modified land\"}, {\"Year\": 2013, \"Land use category\": \"Livestock\", \"Land category\": \"natural land\", \"Quantity (Mt CO2e)\": 22.352155197858547, \"Landuse_land_cat\": \"Livestock - natural land\"}, {\"Year\": 2014, \"Land use category\": \"Crop\", \"Land category\": \"Crop\", \"Quantity (Mt CO2e)\": 13.688469795182904, \"Landuse_land_cat\": \"Crop\"}, {\"Year\": 2014, \"Land use category\": \"Livestock\", \"Land category\": \"modified land\", \"Quantity (Mt CO2e)\": 52.80568381684096, \"Landuse_land_cat\": \"Livestock - modified land\"}, {\"Year\": 2014, \"Land use category\": \"Livestock\", \"Land category\": \"natural land\", \"Quantity (Mt CO2e)\": 22.57134483954709, \"Landuse_land_cat\": \"Livestock - natural land\"}, {\"Year\": 2015, \"Land use category\": \"Crop\", \"Land category\": \"Crop\", \"Quantity (Mt CO2e)\": 13.659463138975465, \"Landuse_land_cat\": \"Crop\"}, {\"Year\": 2015, \"Land use category\": \"Livestock\", \"Land category\": \"modified land\", \"Quantity (Mt CO2e)\": 52.5076710846147, \"Landuse_land_cat\": \"Livestock - modified land\"}, {\"Year\": 2015, \"Land use category\": \"Livestock\", \"Land category\": \"natural land\", \"Quantity (Mt CO2e)\": 22.79037977185864, \"Landuse_land_cat\": \"Livestock - natural land\"}, {\"Year\": 2016, \"Land use category\": \"Crop\", \"Land category\": \"Crop\", \"Quantity (Mt CO2e)\": 13.661767355016204, \"Landuse_land_cat\": \"Crop\"}, {\"Year\": 2016, \"Land use category\": \"Livestock\", \"Land category\": \"modified land\", \"Quantity (Mt CO2e)\": 52.11611975838593, \"Landuse_land_cat\": \"Livestock - modified land\"}, {\"Year\": 2016, \"Land use category\": \"Livestock\", \"Land category\": \"natural land\", \"Quantity (Mt CO2e)\": 23.036802350655133, \"Landuse_land_cat\": \"Livestock - natural land\"}, {\"Year\": 2017, \"Land use category\": \"Crop\", \"Land category\": \"Crop\", \"Quantity (Mt CO2e)\": 13.6248915004305, \"Landuse_land_cat\": \"Crop\"}, {\"Year\": 2017, \"Land use category\": \"Livestock\", \"Land category\": \"modified land\", \"Quantity (Mt CO2e)\": 51.68917937144995, \"Landuse_land_cat\": \"Livestock - modified land\"}, {\"Year\": 2017, \"Land use category\": \"Livestock\", \"Land category\": \"natural land\", \"Quantity (Mt CO2e)\": 23.277113469366977, \"Landuse_land_cat\": \"Livestock - natural land\"}, {\"Year\": 2018, \"Land use category\": \"Crop\", \"Land category\": \"Crop\", \"Quantity (Mt CO2e)\": 13.564101251717238, \"Landuse_land_cat\": \"Crop\"}, {\"Year\": 2018, \"Land use category\": \"Livestock\", \"Land category\": \"modified land\", \"Quantity (Mt CO2e)\": 51.26972061479668, \"Landuse_land_cat\": \"Livestock - modified land\"}, {\"Year\": 2018, \"Land use category\": \"Livestock\", \"Land category\": \"natural land\", \"Quantity (Mt CO2e)\": 23.511866121326396, \"Landuse_land_cat\": \"Livestock - natural land\"}, {\"Year\": 2019, \"Land use category\": \"Crop\", \"Land category\": \"Crop\", \"Quantity (Mt CO2e)\": 13.523379728123668, \"Landuse_land_cat\": \"Crop\"}, {\"Year\": 2019, \"Land use category\": \"Livestock\", \"Land category\": \"modified land\", \"Quantity (Mt CO2e)\": 50.83544146428993, \"Landuse_land_cat\": \"Livestock - modified land\"}, {\"Year\": 2019, \"Land use category\": \"Livestock\", \"Land category\": \"natural land\", \"Quantity (Mt CO2e)\": 23.746210845643848, \"Landuse_land_cat\": \"Livestock - natural land\"}, {\"Year\": 2020, \"Land use category\": \"Crop\", \"Land category\": \"Crop\", \"Quantity (Mt CO2e)\": 13.505452842752174, \"Landuse_land_cat\": \"Crop\"}, {\"Year\": 2020, \"Land use category\": \"Livestock\", \"Land category\": \"modified land\", \"Quantity (Mt CO2e)\": 50.37443684357344, \"Landuse_land_cat\": \"Livestock - modified land\"}, {\"Year\": 2020, \"Land use category\": \"Livestock\", \"Land category\": \"natural land\", \"Quantity (Mt CO2e)\": 23.98117721871608, \"Landuse_land_cat\": \"Livestock - natural land\"}, {\"Year\": 2021, \"Land use category\": \"Crop\", \"Land category\": \"Crop\", \"Quantity (Mt CO2e)\": 13.545219126996377, \"Landuse_land_cat\": \"Crop\"}, {\"Year\": 2021, \"Land use category\": \"Livestock\", \"Land category\": \"modified land\", \"Quantity (Mt CO2e)\": 49.75439245660874, \"Landuse_land_cat\": \"Livestock - modified land\"}, {\"Year\": 2021, \"Land use category\": \"Livestock\", \"Land category\": \"natural land\", \"Quantity (Mt CO2e)\": 24.029620967897163, \"Landuse_land_cat\": \"Livestock - natural land\"}, {\"Year\": 2022, \"Land use category\": \"Crop\", \"Land category\": \"Crop\", \"Quantity (Mt CO2e)\": 13.576482114484033, \"Landuse_land_cat\": \"Crop\"}, {\"Year\": 2022, \"Land use category\": \"Livestock\", \"Land category\": \"modified land\", \"Quantity (Mt CO2e)\": 49.13492084012905, \"Landuse_land_cat\": \"Livestock - modified land\"}, {\"Year\": 2022, \"Land use category\": \"Livestock\", \"Land category\": \"natural land\", \"Quantity (Mt CO2e)\": 24.077514815012755, \"Landuse_land_cat\": \"Livestock - natural land\"}, {\"Year\": 2023, \"Land use category\": \"Crop\", \"Land category\": \"Crop\", \"Quantity (Mt CO2e)\": 13.595860491451523, \"Landuse_land_cat\": \"Crop\"}, {\"Year\": 2023, \"Land use category\": \"Livestock\", \"Land category\": \"modified land\", \"Quantity (Mt CO2e)\": 48.48725261377016, \"Landuse_land_cat\": \"Livestock - modified land\"}, {\"Year\": 2023, \"Land use category\": \"Livestock\", \"Land category\": \"natural land\", \"Quantity (Mt CO2e)\": 24.174238861007833, \"Landuse_land_cat\": \"Livestock - natural land\"}, {\"Year\": 2024, \"Land use category\": \"Crop\", \"Land category\": \"Crop\", \"Quantity (Mt CO2e)\": 13.63869886734126, \"Landuse_land_cat\": \"Crop\"}, {\"Year\": 2024, \"Land use category\": \"Livestock\", \"Land category\": \"modified land\", \"Quantity (Mt CO2e)\": 47.92361421925391, \"Landuse_land_cat\": \"Livestock - modified land\"}, {\"Year\": 2024, \"Land use category\": \"Livestock\", \"Land category\": \"natural land\", \"Quantity (Mt CO2e)\": 24.245308327538822, \"Landuse_land_cat\": \"Livestock - natural land\"}, {\"Year\": 2025, \"Land use category\": \"Crop\", \"Land category\": \"Crop\", \"Quantity (Mt CO2e)\": 13.689692251686129, \"Landuse_land_cat\": \"Crop\"}, {\"Year\": 2025, \"Land use category\": \"Livestock\", \"Land category\": \"modified land\", \"Quantity (Mt CO2e)\": 47.39330606185158, \"Landuse_land_cat\": \"Livestock - modified land\"}, {\"Year\": 2025, \"Land use category\": \"Livestock\", \"Land category\": \"natural land\", \"Quantity (Mt CO2e)\": 24.331127449423363, \"Landuse_land_cat\": \"Livestock - natural land\"}, {\"Year\": 2026, \"Land use category\": \"Crop\", \"Land category\": \"Crop\", \"Quantity (Mt CO2e)\": 13.687386369067333, \"Landuse_land_cat\": \"Crop\"}, {\"Year\": 2026, \"Land use category\": \"Livestock\", \"Land category\": \"modified land\", \"Quantity (Mt CO2e)\": 46.90083448379999, \"Landuse_land_cat\": \"Livestock - modified land\"}, {\"Year\": 2026, \"Land use category\": \"Livestock\", \"Land category\": \"natural land\", \"Quantity (Mt CO2e)\": 24.409890591367027, \"Landuse_land_cat\": \"Livestock - natural land\"}, {\"Year\": 2027, \"Land use category\": \"Crop\", \"Land category\": \"Crop\", \"Quantity (Mt CO2e)\": 13.692614419540101, \"Landuse_land_cat\": \"Crop\"}, {\"Year\": 2027, \"Land use category\": \"Livestock\", \"Land category\": \"modified land\", \"Quantity (Mt CO2e)\": 46.39572855366652, \"Landuse_land_cat\": \"Livestock - modified land\"}, {\"Year\": 2027, \"Land use category\": \"Livestock\", \"Land category\": \"natural land\", \"Quantity (Mt CO2e)\": 24.474991789624493, \"Landuse_land_cat\": \"Livestock - natural land\"}, {\"Year\": 2028, \"Land use category\": \"Crop\", \"Land category\": \"Crop\", \"Quantity (Mt CO2e)\": 13.721385143260218, \"Landuse_land_cat\": \"Crop\"}, {\"Year\": 2028, \"Land use category\": \"Livestock\", \"Land category\": \"modified land\", \"Quantity (Mt CO2e)\": 45.87074780898998, \"Landuse_land_cat\": \"Livestock - modified land\"}, {\"Year\": 2028, \"Land use category\": \"Livestock\", \"Land category\": \"natural land\", \"Quantity (Mt CO2e)\": 24.57795774143265, \"Landuse_land_cat\": \"Livestock - natural land\"}, {\"Year\": 2029, \"Land use category\": \"Crop\", \"Land category\": \"Crop\", \"Quantity (Mt CO2e)\": 13.710167343439716, \"Landuse_land_cat\": \"Crop\"}, {\"Year\": 2029, \"Land use category\": \"Livestock\", \"Land category\": \"modified land\", \"Quantity (Mt CO2e)\": 45.303014555447376, \"Landuse_land_cat\": \"Livestock - modified land\"}, {\"Year\": 2029, \"Land use category\": \"Livestock\", \"Land category\": \"natural land\", \"Quantity (Mt CO2e)\": 24.70649232263392, \"Landuse_land_cat\": \"Livestock - natural land\"}, {\"Year\": 2030, \"Land use category\": \"Crop\", \"Land category\": \"Crop\", \"Quantity (Mt CO2e)\": 13.7633869582536, \"Landuse_land_cat\": \"Crop\"}, {\"Year\": 2030, \"Land use category\": \"Livestock\", \"Land category\": \"modified land\", \"Quantity (Mt CO2e)\": 44.7963496448917, \"Landuse_land_cat\": \"Livestock - modified land\"}, {\"Year\": 2030, \"Land use category\": \"Livestock\", \"Land category\": \"natural land\", \"Quantity (Mt CO2e)\": 24.827490017731904, \"Landuse_land_cat\": \"Livestock - natural land\"}, {\"Year\": 2031, \"Land use category\": \"Crop\", \"Land category\": \"Crop\", \"Quantity (Mt CO2e)\": 13.780829081579189, \"Landuse_land_cat\": \"Crop\"}, {\"Year\": 2031, \"Land use category\": \"Livestock\", \"Land category\": \"modified land\", \"Quantity (Mt CO2e)\": 44.32641866463472, \"Landuse_land_cat\": \"Livestock - modified land\"}, {\"Year\": 2031, \"Land use category\": \"Livestock\", \"Land category\": \"natural land\", \"Quantity (Mt CO2e)\": 24.946898379446143, \"Landuse_land_cat\": \"Livestock - natural land\"}, {\"Year\": 2032, \"Land use category\": \"Crop\", \"Land category\": \"Crop\", \"Quantity (Mt CO2e)\": 13.749929960504469, \"Landuse_land_cat\": \"Crop\"}, {\"Year\": 2032, \"Land use category\": \"Livestock\", \"Land category\": \"modified land\", \"Quantity (Mt CO2e)\": 43.61376147268432, \"Landuse_land_cat\": \"Livestock - modified land\"}, {\"Year\": 2032, \"Land use category\": \"Livestock\", \"Land category\": \"natural land\", \"Quantity (Mt CO2e)\": 25.131575080367504, \"Landuse_land_cat\": \"Livestock - natural land\"}, {\"Year\": 2033, \"Land use category\": \"Crop\", \"Land category\": \"Crop\", \"Quantity (Mt CO2e)\": 13.718675420041432, \"Landuse_land_cat\": \"Crop\"}, {\"Year\": 2033, \"Land use category\": \"Livestock\", \"Land category\": \"modified land\", \"Quantity (Mt CO2e)\": 42.98483823501639, \"Landuse_land_cat\": \"Livestock - modified land\"}, {\"Year\": 2033, \"Land use category\": \"Livestock\", \"Land category\": \"natural land\", \"Quantity (Mt CO2e)\": 25.408769632484113, \"Landuse_land_cat\": \"Livestock - natural land\"}, {\"Year\": 2034, \"Land use category\": \"Crop\", \"Land category\": \"Crop\", \"Quantity (Mt CO2e)\": 13.621540781997494, \"Landuse_land_cat\": \"Crop\"}, {\"Year\": 2034, \"Land use category\": \"Livestock\", \"Land category\": \"modified land\", \"Quantity (Mt CO2e)\": 42.33023334908804, \"Landuse_land_cat\": \"Livestock - modified land\"}, {\"Year\": 2034, \"Land use category\": \"Livestock\", \"Land category\": \"natural land\", \"Quantity (Mt CO2e)\": 25.652313949834085, \"Landuse_land_cat\": \"Livestock - natural land\"}, {\"Year\": 2035, \"Land use category\": \"Crop\", \"Land category\": \"Crop\", \"Quantity (Mt CO2e)\": 13.542638353184, \"Landuse_land_cat\": \"Crop\"}, {\"Year\": 2035, \"Land use category\": \"Livestock\", \"Land category\": \"modified land\", \"Quantity (Mt CO2e)\": 41.672741248322644, \"Landuse_land_cat\": \"Livestock - modified land\"}, {\"Year\": 2035, \"Land use category\": \"Livestock\", \"Land category\": \"natural land\", \"Quantity (Mt CO2e)\": 25.953122101673966, \"Landuse_land_cat\": \"Livestock - natural land\"}, {\"Year\": 2036, \"Land use category\": \"Crop\", \"Land category\": \"Crop\", \"Quantity (Mt CO2e)\": 13.471818014061418, \"Landuse_land_cat\": \"Crop\"}, {\"Year\": 2036, \"Land use category\": \"Livestock\", \"Land category\": \"modified land\", \"Quantity (Mt CO2e)\": 40.80982143519649, \"Landuse_land_cat\": \"Livestock - modified land\"}, {\"Year\": 2036, \"Land use category\": \"Livestock\", \"Land category\": \"natural land\", \"Quantity (Mt CO2e)\": 26.32961324704693, \"Landuse_land_cat\": \"Livestock - natural land\"}, {\"Year\": 2037, \"Land use category\": \"Crop\", \"Land category\": \"Crop\", \"Quantity (Mt CO2e)\": 13.409440657165145, \"Landuse_land_cat\": \"Crop\"}, {\"Year\": 2037, \"Land use category\": \"Livestock\", \"Land category\": \"modified land\", \"Quantity (Mt CO2e)\": 40.03476734089931, \"Landuse_land_cat\": \"Livestock - modified land\"}, {\"Year\": 2037, \"Land use category\": \"Livestock\", \"Land category\": \"natural land\", \"Quantity (Mt CO2e)\": 26.695722298235793, \"Landuse_land_cat\": \"Livestock - natural land\"}, {\"Year\": 2038, \"Land use category\": \"Crop\", \"Land category\": \"Crop\", \"Quantity (Mt CO2e)\": 13.294673287309616, \"Landuse_land_cat\": \"Crop\"}, {\"Year\": 2038, \"Land use category\": \"Livestock\", \"Land category\": \"modified land\", \"Quantity (Mt CO2e)\": 39.123660012634446, \"Landuse_land_cat\": \"Livestock - modified land\"}, {\"Year\": 2038, \"Land use category\": \"Livestock\", \"Land category\": \"natural land\", \"Quantity (Mt CO2e)\": 27.13224801589516, \"Landuse_land_cat\": \"Livestock - natural land\"}, {\"Year\": 2039, \"Land use category\": \"Crop\", \"Land category\": \"Crop\", \"Quantity (Mt CO2e)\": 13.05988488208785, \"Landuse_land_cat\": \"Crop\"}, {\"Year\": 2039, \"Land use category\": \"Livestock\", \"Land category\": \"modified land\", \"Quantity (Mt CO2e)\": 38.25760628399734, \"Landuse_land_cat\": \"Livestock - modified land\"}, {\"Year\": 2039, \"Land use category\": \"Livestock\", \"Land category\": \"natural land\", \"Quantity (Mt CO2e)\": 27.587966145647638, \"Landuse_land_cat\": \"Livestock - natural land\"}, {\"Year\": 2040, \"Land use category\": \"Crop\", \"Land category\": \"Crop\", \"Quantity (Mt CO2e)\": 12.7529781104103, \"Landuse_land_cat\": \"Crop\"}, {\"Year\": 2040, \"Land use category\": \"Livestock\", \"Land category\": \"modified land\", \"Quantity (Mt CO2e)\": 37.49951760477441, \"Landuse_land_cat\": \"Livestock - modified land\"}, {\"Year\": 2040, \"Land use category\": \"Livestock\", \"Land category\": \"natural land\", \"Quantity (Mt CO2e)\": 28.00196216099773, \"Landuse_land_cat\": \"Livestock - natural land\"}, {\"Year\": 2041, \"Land use category\": \"Crop\", \"Land category\": \"Crop\", \"Quantity (Mt CO2e)\": 12.489424194436312, \"Landuse_land_cat\": \"Crop\"}, {\"Year\": 2041, \"Land use category\": \"Livestock\", \"Land category\": \"modified land\", \"Quantity (Mt CO2e)\": 36.62659406225264, \"Landuse_land_cat\": \"Livestock - modified land\"}, {\"Year\": 2041, \"Land use category\": \"Livestock\", \"Land category\": \"natural land\", \"Quantity (Mt CO2e)\": 28.537999559682586, \"Landuse_land_cat\": \"Livestock - natural land\"}, {\"Year\": 2042, \"Land use category\": \"Crop\", \"Land category\": \"Crop\", \"Quantity (Mt CO2e)\": 12.129536479134108, \"Landuse_land_cat\": \"Crop\"}, {\"Year\": 2042, \"Land use category\": \"Livestock\", \"Land category\": \"modified land\", \"Quantity (Mt CO2e)\": 35.723972781984244, \"Landuse_land_cat\": \"Livestock - modified land\"}, {\"Year\": 2042, \"Land use category\": \"Livestock\", \"Land category\": \"natural land\", \"Quantity (Mt CO2e)\": 29.115329657658688, \"Landuse_land_cat\": \"Livestock - natural land\"}, {\"Year\": 2043, \"Land use category\": \"Crop\", \"Land category\": \"Crop\", \"Quantity (Mt CO2e)\": 11.875712929166202, \"Landuse_land_cat\": \"Crop\"}, {\"Year\": 2043, \"Land use category\": \"Livestock\", \"Land category\": \"modified land\", \"Quantity (Mt CO2e)\": 34.6826598913116, \"Landuse_land_cat\": \"Livestock - modified land\"}, {\"Year\": 2043, \"Land use category\": \"Livestock\", \"Land category\": \"natural land\", \"Quantity (Mt CO2e)\": 29.791057286385193, \"Landuse_land_cat\": \"Livestock - natural land\"}, {\"Year\": 2044, \"Land use category\": \"Crop\", \"Land category\": \"Crop\", \"Quantity (Mt CO2e)\": 11.660347833904039, \"Landuse_land_cat\": \"Crop\"}, {\"Year\": 2044, \"Land use category\": \"Livestock\", \"Land category\": \"modified land\", \"Quantity (Mt CO2e)\": 33.480717873951875, \"Landuse_land_cat\": \"Livestock - modified land\"}, {\"Year\": 2044, \"Land use category\": \"Livestock\", \"Land category\": \"natural land\", \"Quantity (Mt CO2e)\": 30.568977505203307, \"Landuse_land_cat\": \"Livestock - natural land\"}, {\"Year\": 2045, \"Land use category\": \"Crop\", \"Land category\": \"Crop\", \"Quantity (Mt CO2e)\": 11.44373996564885, \"Landuse_land_cat\": \"Crop\"}, {\"Year\": 2045, \"Land use category\": \"Livestock\", \"Land category\": \"modified land\", \"Quantity (Mt CO2e)\": 32.254069102361, \"Landuse_land_cat\": \"Livestock - modified land\"}, {\"Year\": 2045, \"Land use category\": \"Livestock\", \"Land category\": \"natural land\", \"Quantity (Mt CO2e)\": 31.457669779222037, \"Landuse_land_cat\": \"Livestock - natural land\"}, {\"Year\": 2046, \"Land use category\": \"Crop\", \"Land category\": \"Crop\", \"Quantity (Mt CO2e)\": 11.433519601873607, \"Landuse_land_cat\": \"Crop\"}, {\"Year\": 2046, \"Land use category\": \"Livestock\", \"Land category\": \"modified land\", \"Quantity (Mt CO2e)\": 31.338260204971636, \"Landuse_land_cat\": \"Livestock - modified land\"}, {\"Year\": 2046, \"Land use category\": \"Livestock\", \"Land category\": \"natural land\", \"Quantity (Mt CO2e)\": 32.227908390622616, \"Landuse_land_cat\": \"Livestock - natural land\"}, {\"Year\": 2047, \"Land use category\": \"Crop\", \"Land category\": \"Crop\", \"Quantity (Mt CO2e)\": 11.42997360781643, \"Landuse_land_cat\": \"Crop\"}, {\"Year\": 2047, \"Land use category\": \"Livestock\", \"Land category\": \"modified land\", \"Quantity (Mt CO2e)\": 30.423865335982136, \"Landuse_land_cat\": \"Livestock - modified land\"}, {\"Year\": 2047, \"Land use category\": \"Livestock\", \"Land category\": \"natural land\", \"Quantity (Mt CO2e)\": 33.08482967931325, \"Landuse_land_cat\": \"Livestock - natural land\"}, {\"Year\": 2048, \"Land use category\": \"Crop\", \"Land category\": \"Crop\", \"Quantity (Mt CO2e)\": 11.35155569155838, \"Landuse_land_cat\": \"Crop\"}, {\"Year\": 2048, \"Land use category\": \"Livestock\", \"Land category\": \"modified land\", \"Quantity (Mt CO2e)\": 28.510273729263304, \"Landuse_land_cat\": \"Livestock - modified land\"}, {\"Year\": 2048, \"Land use category\": \"Livestock\", \"Land category\": \"natural land\", \"Quantity (Mt CO2e)\": 35.015997827191704, \"Landuse_land_cat\": \"Livestock - natural land\"}, {\"Year\": 2049, \"Land use category\": \"Crop\", \"Land category\": \"Crop\", \"Quantity (Mt CO2e)\": 11.274432530969712, \"Landuse_land_cat\": \"Crop\"}, {\"Year\": 2049, \"Land use category\": \"Livestock\", \"Land category\": \"modified land\", \"Quantity (Mt CO2e)\": 25.788140786317307, \"Landuse_land_cat\": \"Livestock - modified land\"}, {\"Year\": 2049, \"Land use category\": \"Livestock\", \"Land category\": \"natural land\", \"Quantity (Mt CO2e)\": 38.84463612351793, \"Landuse_land_cat\": \"Livestock - natural land\"}, {\"Year\": 2050, \"Land use category\": \"Crop\", \"Land category\": \"Crop\", \"Quantity (Mt CO2e)\": 11.194754610825418, \"Landuse_land_cat\": \"Crop\"}, {\"Year\": 2050, \"Land use category\": \"Livestock\", \"Land category\": \"modified land\", \"Quantity (Mt CO2e)\": 22.457511287616242, \"Landuse_land_cat\": \"Livestock - modified land\"}, {\"Year\": 2050, \"Land use category\": \"Livestock\", \"Land category\": \"natural land\", \"Quantity (Mt CO2e)\": 43.715148905894665, \"Landuse_land_cat\": \"Livestock - natural land\"}]}}, {\"mode\": \"vega-lite\"});\n",
       "</script>"
      ],
      "text/plain": [
       "alt.LayerChart(...)"
      ]
     },
     "execution_count": 8,
     "metadata": {},
     "output_type": "execute_result"
    }
   ],
   "source": [
    "# HIDE CODE\n",
    "# get the df and plot\n",
    "GHG_crop_lvstk_df,GHG_crop_lvstk_plot = ag_lucc_GHG.plot_GHG_crop_lvstk()\n",
    "GHG_crop_lvstk_plot"
   ]
  },
  {
   "cell_type": "code",
   "execution_count": null,
   "metadata": {},
   "outputs": [],
   "source": []
  },
  {
   "cell_type": "markdown",
   "metadata": {},
   "source": [
    "### Emissions by differrnt irrigation system"
   ]
  },
  {
   "cell_type": "code",
   "execution_count": 9,
   "metadata": {
    "tags": [
     "hide-input"
    ]
   },
   "outputs": [
    {
     "data": {
      "text/html": [
       "\n",
       "<style>\n",
       "  #altair-viz-327d37855ff444e2ae406047c8c19f0f.vega-embed {\n",
       "    width: 100%;\n",
       "    display: flex;\n",
       "  }\n",
       "\n",
       "  #altair-viz-327d37855ff444e2ae406047c8c19f0f.vega-embed details,\n",
       "  #altair-viz-327d37855ff444e2ae406047c8c19f0f.vega-embed details summary {\n",
       "    position: relative;\n",
       "  }\n",
       "</style>\n",
       "<div id=\"altair-viz-327d37855ff444e2ae406047c8c19f0f\"></div>\n",
       "<script type=\"text/javascript\">\n",
       "  var VEGA_DEBUG = (typeof VEGA_DEBUG == \"undefined\") ? {} : VEGA_DEBUG;\n",
       "  (function(spec, embedOpt){\n",
       "    let outputDiv = document.currentScript.previousElementSibling;\n",
       "    if (outputDiv.id !== \"altair-viz-327d37855ff444e2ae406047c8c19f0f\") {\n",
       "      outputDiv = document.getElementById(\"altair-viz-327d37855ff444e2ae406047c8c19f0f\");\n",
       "    }\n",
       "    const paths = {\n",
       "      \"vega\": \"https://cdn.jsdelivr.net/npm/vega@5?noext\",\n",
       "      \"vega-lib\": \"https://cdn.jsdelivr.net/npm/vega-lib?noext\",\n",
       "      \"vega-lite\": \"https://cdn.jsdelivr.net/npm/vega-lite@5.15.1?noext\",\n",
       "      \"vega-embed\": \"https://cdn.jsdelivr.net/npm/vega-embed@6?noext\",\n",
       "    };\n",
       "\n",
       "    function maybeLoadScript(lib, version) {\n",
       "      var key = `${lib.replace(\"-\", \"\")}_version`;\n",
       "      return (VEGA_DEBUG[key] == version) ?\n",
       "        Promise.resolve(paths[lib]) :\n",
       "        new Promise(function(resolve, reject) {\n",
       "          var s = document.createElement('script');\n",
       "          document.getElementsByTagName(\"head\")[0].appendChild(s);\n",
       "          s.async = true;\n",
       "          s.onload = () => {\n",
       "            VEGA_DEBUG[key] = version;\n",
       "            return resolve(paths[lib]);\n",
       "          };\n",
       "          s.onerror = () => reject(`Error loading script: ${paths[lib]}`);\n",
       "          s.src = paths[lib];\n",
       "        });\n",
       "    }\n",
       "\n",
       "    function showError(err) {\n",
       "      outputDiv.innerHTML = `<div class=\"error\" style=\"color:red;\">${err}</div>`;\n",
       "      throw err;\n",
       "    }\n",
       "\n",
       "    function displayChart(vegaEmbed) {\n",
       "      vegaEmbed(outputDiv, spec, embedOpt)\n",
       "        .catch(err => showError(`Javascript Error: ${err.message}<br>This usually means there's a typo in your chart specification. See the javascript console for the full traceback.`));\n",
       "    }\n",
       "\n",
       "    if(typeof define === \"function\" && define.amd) {\n",
       "      requirejs.config({paths});\n",
       "      require([\"vega-embed\"], displayChart, err => showError(`Error loading script: ${err.message}`));\n",
       "    } else {\n",
       "      maybeLoadScript(\"vega\", \"5\")\n",
       "        .then(() => maybeLoadScript(\"vega-lite\", \"5.15.1\"))\n",
       "        .then(() => maybeLoadScript(\"vega-embed\", \"6\"))\n",
       "        .catch(showError)\n",
       "        .then(() => displayChart(vegaEmbed));\n",
       "    }\n",
       "  })({\"config\": {\"view\": {\"continuousWidth\": 300, \"continuousHeight\": 300}}, \"layer\": [{\"mark\": {\"type\": \"bar\"}, \"encoding\": {\"color\": {\"field\": \"Irrigation\", \"legend\": {\"direction\": \"horizontal\", \"legendX\": 240.0, \"legendY\": -30, \"orient\": \"none\", \"title\": \"Irrigation\", \"titleAnchor\": \"middle\"}, \"type\": \"nominal\"}, \"tooltip\": [{\"field\": \"Irrigation\", \"title\": \"Irrigation\", \"type\": \"nominal\"}, {\"field\": \"Quantity (Mt CO2e)\", \"title\": \"GHG emissions (Mt CO2e)\", \"type\": \"quantitative\"}], \"x\": {\"axis\": {\"labelAngle\": -90, \"title\": \"Year\"}, \"field\": \"Year\", \"type\": \"ordinal\"}, \"y\": {\"field\": \"Quantity (Mt CO2e)\", \"scale\": {\"reverse\": false}, \"title\": \"GHG emissions (Mt CO2e)\", \"type\": \"quantitative\"}}}], \"data\": {\"name\": \"data-751d5cfd89bb45e11206d5d6cd15f317\"}, \"height\": 450, \"width\": 600, \"$schema\": \"https://vega.github.io/schema/vega-lite/v5.15.1.json\", \"datasets\": {\"data-751d5cfd89bb45e11206d5d6cd15f317\": [{\"Year\": 2010, \"Irrigation\": \"dry\", \"Quantity (Mt CO2e)\": 83.56158070647247}, {\"Year\": 2010, \"Irrigation\": \"irr\", \"Quantity (Mt CO2e)\": 6.950322196877289}, {\"Year\": 2011, \"Irrigation\": \"dry\", \"Quantity (Mt CO2e)\": 82.04872347817312}, {\"Year\": 2011, \"Irrigation\": \"irr\", \"Quantity (Mt CO2e)\": 7.271270842741436}, {\"Year\": 2012, \"Irrigation\": \"dry\", \"Quantity (Mt CO2e)\": 81.91810442427762}, {\"Year\": 2012, \"Irrigation\": \"irr\", \"Quantity (Mt CO2e)\": 7.4260292524334925}, {\"Year\": 2013, \"Irrigation\": \"dry\", \"Quantity (Mt CO2e)\": 81.36879609894446}, {\"Year\": 2013, \"Irrigation\": \"irr\", \"Quantity (Mt CO2e)\": 7.8355590849552}, {\"Year\": 2014, \"Irrigation\": \"dry\", \"Quantity (Mt CO2e)\": 80.89310354071694}, {\"Year\": 2014, \"Irrigation\": \"irr\", \"Quantity (Mt CO2e)\": 8.172394910854024}, {\"Year\": 2015, \"Irrigation\": \"dry\", \"Quantity (Mt CO2e)\": 80.29632794068094}, {\"Year\": 2015, \"Irrigation\": \"irr\", \"Quantity (Mt CO2e)\": 8.661186054767853}, {\"Year\": 2016, \"Irrigation\": \"dry\", \"Quantity (Mt CO2e)\": 79.84891850072296}, {\"Year\": 2016, \"Irrigation\": \"irr\", \"Quantity (Mt CO2e)\": 8.965770963334325}, {\"Year\": 2017, \"Irrigation\": \"dry\", \"Quantity (Mt CO2e)\": 79.48085353959621}, {\"Year\": 2017, \"Irrigation\": \"irr\", \"Quantity (Mt CO2e)\": 9.110330801651203}, {\"Year\": 2018, \"Irrigation\": \"dry\", \"Quantity (Mt CO2e)\": 79.06642819814209}, {\"Year\": 2018, \"Irrigation\": \"irr\", \"Quantity (Mt CO2e)\": 9.279259789698214}, {\"Year\": 2019, \"Irrigation\": \"dry\", \"Quantity (Mt CO2e)\": 78.69114082370395}, {\"Year\": 2019, \"Irrigation\": \"irr\", \"Quantity (Mt CO2e)\": 9.413891214353484}, {\"Year\": 2020, \"Irrigation\": \"dry\", \"Quantity (Mt CO2e)\": 78.29346985540577}, {\"Year\": 2020, \"Irrigation\": \"irr\", \"Quantity (Mt CO2e)\": 9.567597049635914}, {\"Year\": 2021, \"Irrigation\": \"dry\", \"Quantity (Mt CO2e)\": 77.70321722646354}, {\"Year\": 2021, \"Irrigation\": \"irr\", \"Quantity (Mt CO2e)\": 9.626015325038736}, {\"Year\": 2022, \"Irrigation\": \"dry\", \"Quantity (Mt CO2e)\": 77.09710091921423}, {\"Year\": 2022, \"Irrigation\": \"irr\", \"Quantity (Mt CO2e)\": 9.691816850411616}, {\"Year\": 2023, \"Irrigation\": \"dry\", \"Quantity (Mt CO2e)\": 76.49999016979804}, {\"Year\": 2023, \"Irrigation\": \"irr\", \"Quantity (Mt CO2e)\": 9.75736179643149}, {\"Year\": 2024, \"Irrigation\": \"dry\", \"Quantity (Mt CO2e)\": 75.91492424164696}, {\"Year\": 2024, \"Irrigation\": \"irr\", \"Quantity (Mt CO2e)\": 9.89269717248706}, {\"Year\": 2025, \"Irrigation\": \"dry\", \"Quantity (Mt CO2e)\": 75.4282765680738}, {\"Year\": 2025, \"Irrigation\": \"irr\", \"Quantity (Mt CO2e)\": 9.985849194887262}, {\"Year\": 2026, \"Irrigation\": \"dry\", \"Quantity (Mt CO2e)\": 74.91197925614685}, {\"Year\": 2026, \"Irrigation\": \"irr\", \"Quantity (Mt CO2e)\": 10.086132188087534}, {\"Year\": 2027, \"Irrigation\": \"dry\", \"Quantity (Mt CO2e)\": 74.43823465385249}, {\"Year\": 2027, \"Irrigation\": \"irr\", \"Quantity (Mt CO2e)\": 10.125100108978632}, {\"Year\": 2028, \"Irrigation\": \"dry\", \"Quantity (Mt CO2e)\": 73.97353126281061}, {\"Year\": 2028, \"Irrigation\": \"irr\", \"Quantity (Mt CO2e)\": 10.196559430872258}, {\"Year\": 2029, \"Irrigation\": \"dry\", \"Quantity (Mt CO2e)\": 73.45910494476819}, {\"Year\": 2029, \"Irrigation\": \"irr\", \"Quantity (Mt CO2e)\": 10.260569276752877}, {\"Year\": 2030, \"Irrigation\": \"dry\", \"Quantity (Mt CO2e)\": 73.06100107849781}, {\"Year\": 2030, \"Irrigation\": \"irr\", \"Quantity (Mt CO2e)\": 10.326225542379376}, {\"Year\": 2031, \"Irrigation\": \"dry\", \"Quantity (Mt CO2e)\": 72.69703622091295}, {\"Year\": 2031, \"Irrigation\": \"irr\", \"Quantity (Mt CO2e)\": 10.357109904747109}, {\"Year\": 2032, \"Irrigation\": \"dry\", \"Quantity (Mt CO2e)\": 71.9960698820963}, {\"Year\": 2032, \"Irrigation\": \"irr\", \"Quantity (Mt CO2e)\": 10.49919663146002}, {\"Year\": 2033, \"Irrigation\": \"dry\", \"Quantity (Mt CO2e)\": 71.52937427900137}, {\"Year\": 2033, \"Irrigation\": \"irr\", \"Quantity (Mt CO2e)\": 10.58290900854055}, {\"Year\": 2034, \"Irrigation\": \"dry\", \"Quantity (Mt CO2e)\": 70.79579410577425}, {\"Year\": 2034, \"Irrigation\": \"irr\", \"Quantity (Mt CO2e)\": 10.808293975145343}, {\"Year\": 2035, \"Irrigation\": \"dry\", \"Quantity (Mt CO2e)\": 70.23664226906547}, {\"Year\": 2035, \"Irrigation\": \"irr\", \"Quantity (Mt CO2e)\": 10.931859434115108}, {\"Year\": 2036, \"Irrigation\": \"dry\", \"Quantity (Mt CO2e)\": 69.57783046838139}, {\"Year\": 2036, \"Irrigation\": \"irr\", \"Quantity (Mt CO2e)\": 11.033422227923433}, {\"Year\": 2037, \"Irrigation\": \"dry\", \"Quantity (Mt CO2e)\": 68.93474807006419}, {\"Year\": 2037, \"Irrigation\": \"irr\", \"Quantity (Mt CO2e)\": 11.205182226236046}, {\"Year\": 2038, \"Irrigation\": \"dry\", \"Quantity (Mt CO2e)\": 68.12191413340638}, {\"Year\": 2038, \"Irrigation\": \"irr\", \"Quantity (Mt CO2e)\": 11.428667182432841}, {\"Year\": 2039, \"Irrigation\": \"dry\", \"Quantity (Mt CO2e)\": 67.43060490007619}, {\"Year\": 2039, \"Irrigation\": \"irr\", \"Quantity (Mt CO2e)\": 11.474852411656636}, {\"Year\": 2040, \"Irrigation\": \"dry\", \"Quantity (Mt CO2e)\": 66.73964290409944}, {\"Year\": 2040, \"Irrigation\": \"irr\", \"Quantity (Mt CO2e)\": 11.514814972082993}, {\"Year\": 2041, \"Irrigation\": \"dry\", \"Quantity (Mt CO2e)\": 66.14640189660567}, {\"Year\": 2041, \"Irrigation\": \"irr\", \"Quantity (Mt CO2e)\": 11.507615919765833}, {\"Year\": 2042, \"Irrigation\": \"dry\", \"Quantity (Mt CO2e)\": 65.39344997378285}, {\"Year\": 2042, \"Irrigation\": \"irr\", \"Quantity (Mt CO2e)\": 11.57538894499421}, {\"Year\": 2043, \"Irrigation\": \"dry\", \"Quantity (Mt CO2e)\": 64.83730730553657}, {\"Year\": 2043, \"Irrigation\": \"irr\", \"Quantity (Mt CO2e)\": 11.512122801326438}, {\"Year\": 2044, \"Irrigation\": \"dry\", \"Quantity (Mt CO2e)\": 64.16528320544691}, {\"Year\": 2044, \"Irrigation\": \"irr\", \"Quantity (Mt CO2e)\": 11.544760007612322}, {\"Year\": 2045, \"Irrigation\": \"dry\", \"Quantity (Mt CO2e)\": 63.760004084112886}, {\"Year\": 2045, \"Irrigation\": \"irr\", \"Quantity (Mt CO2e)\": 11.395474763118996}, {\"Year\": 2046, \"Irrigation\": \"dry\", \"Quantity (Mt CO2e)\": 63.55950479370881}, {\"Year\": 2046, \"Irrigation\": \"irr\", \"Quantity (Mt CO2e)\": 11.440183403759068}, {\"Year\": 2047, \"Irrigation\": \"dry\", \"Quantity (Mt CO2e)\": 63.55405882073698}, {\"Year\": 2047, \"Irrigation\": \"irr\", \"Quantity (Mt CO2e)\": 11.38460980237483}, {\"Year\": 2048, \"Irrigation\": \"dry\", \"Quantity (Mt CO2e)\": 63.92349262701213}, {\"Year\": 2048, \"Irrigation\": \"irr\", \"Quantity (Mt CO2e)\": 10.954334621001253}, {\"Year\": 2049, \"Irrigation\": \"dry\", \"Quantity (Mt CO2e)\": 65.91756556469608}, {\"Year\": 2049, \"Irrigation\": \"irr\", \"Quantity (Mt CO2e)\": 9.98964387610887}, {\"Year\": 2050, \"Irrigation\": \"dry\", \"Quantity (Mt CO2e)\": 68.6185393332004}, {\"Year\": 2050, \"Irrigation\": \"irr\", \"Quantity (Mt CO2e)\": 8.748875471135936}]}}, {\"mode\": \"vega-lite\"});\n",
       "</script>"
      ],
      "text/plain": [
       "alt.LayerChart(...)"
      ]
     },
     "execution_count": 9,
     "metadata": {},
     "output_type": "execute_result"
    }
   ],
   "source": [
    "# HIDE CODE\n",
    "# get the df and plot\n",
    "GHG_dry_irr_df,GHG_dry_irr_plot = ag_lucc_GHG.plot_GHG_dry_irr()\n",
    "GHG_dry_irr_plot"
   ]
  },
  {
   "cell_type": "code",
   "execution_count": null,
   "metadata": {},
   "outputs": [],
   "source": []
  },
  {
   "cell_type": "markdown",
   "metadata": {},
   "source": [
    "### Emissions by GHG category"
   ]
  },
  {
   "cell_type": "code",
   "execution_count": 27,
   "metadata": {
    "tags": [
     "hide-input"
    ]
   },
   "outputs": [
    {
     "data": {
      "text/html": [
       "\n",
       "<style>\n",
       "  #altair-viz-125542b4e4ef4192a6728d49b7048da4.vega-embed {\n",
       "    width: 100%;\n",
       "    display: flex;\n",
       "  }\n",
       "\n",
       "  #altair-viz-125542b4e4ef4192a6728d49b7048da4.vega-embed details,\n",
       "  #altair-viz-125542b4e4ef4192a6728d49b7048da4.vega-embed details summary {\n",
       "    position: relative;\n",
       "  }\n",
       "</style>\n",
       "<div id=\"altair-viz-125542b4e4ef4192a6728d49b7048da4\"></div>\n",
       "<script type=\"text/javascript\">\n",
       "  var VEGA_DEBUG = (typeof VEGA_DEBUG == \"undefined\") ? {} : VEGA_DEBUG;\n",
       "  (function(spec, embedOpt){\n",
       "    let outputDiv = document.currentScript.previousElementSibling;\n",
       "    if (outputDiv.id !== \"altair-viz-125542b4e4ef4192a6728d49b7048da4\") {\n",
       "      outputDiv = document.getElementById(\"altair-viz-125542b4e4ef4192a6728d49b7048da4\");\n",
       "    }\n",
       "    const paths = {\n",
       "      \"vega\": \"https://cdn.jsdelivr.net/npm/vega@5?noext\",\n",
       "      \"vega-lib\": \"https://cdn.jsdelivr.net/npm/vega-lib?noext\",\n",
       "      \"vega-lite\": \"https://cdn.jsdelivr.net/npm/vega-lite@5.15.1?noext\",\n",
       "      \"vega-embed\": \"https://cdn.jsdelivr.net/npm/vega-embed@6?noext\",\n",
       "    };\n",
       "\n",
       "    function maybeLoadScript(lib, version) {\n",
       "      var key = `${lib.replace(\"-\", \"\")}_version`;\n",
       "      return (VEGA_DEBUG[key] == version) ?\n",
       "        Promise.resolve(paths[lib]) :\n",
       "        new Promise(function(resolve, reject) {\n",
       "          var s = document.createElement('script');\n",
       "          document.getElementsByTagName(\"head\")[0].appendChild(s);\n",
       "          s.async = true;\n",
       "          s.onload = () => {\n",
       "            VEGA_DEBUG[key] = version;\n",
       "            return resolve(paths[lib]);\n",
       "          };\n",
       "          s.onerror = () => reject(`Error loading script: ${paths[lib]}`);\n",
       "          s.src = paths[lib];\n",
       "        });\n",
       "    }\n",
       "\n",
       "    function showError(err) {\n",
       "      outputDiv.innerHTML = `<div class=\"error\" style=\"color:red;\">${err}</div>`;\n",
       "      throw err;\n",
       "    }\n",
       "\n",
       "    function displayChart(vegaEmbed) {\n",
       "      vegaEmbed(outputDiv, spec, embedOpt)\n",
       "        .catch(err => showError(`Javascript Error: ${err.message}<br>This usually means there's a typo in your chart specification. See the javascript console for the full traceback.`));\n",
       "    }\n",
       "\n",
       "    if(typeof define === \"function\" && define.amd) {\n",
       "      requirejs.config({paths});\n",
       "      require([\"vega-embed\"], displayChart, err => showError(`Error loading script: ${err.message}`));\n",
       "    } else {\n",
       "      maybeLoadScript(\"vega\", \"5\")\n",
       "        .then(() => maybeLoadScript(\"vega-lite\", \"5.15.1\"))\n",
       "        .then(() => maybeLoadScript(\"vega-embed\", \"6\"))\n",
       "        .catch(showError)\n",
       "        .then(() => displayChart(vegaEmbed));\n",
       "    }\n",
       "  })({\"config\": {\"view\": {\"continuousWidth\": 300, \"continuousHeight\": 300}}, \"layer\": [{\"mark\": {\"type\": \"bar\"}, \"encoding\": {\"color\": {\"field\": \"GHG Category\", \"legend\": {\"direction\": \"vertical\", \"legendX\": 610, \"legendY\": 225.0, \"orient\": \"none\", \"title\": \"GHG Category\", \"titleAnchor\": \"middle\"}, \"type\": \"nominal\"}, \"tooltip\": [{\"field\": \"GHG Category\", \"title\": \"GHG Category\", \"type\": \"nominal\"}, {\"field\": \"Quantity (Mt CO2e)\", \"title\": \"GHG emissions (Mt CO2e)\", \"type\": \"quantitative\"}], \"x\": {\"axis\": {\"labelAngle\": -90, \"title\": \"Year\"}, \"field\": \"Year\", \"type\": \"ordinal\"}, \"y\": {\"field\": \"Quantity (Mt CO2e)\", \"scale\": {\"reverse\": false}, \"title\": \"GHG emissions (Mt CO2e)\", \"type\": \"quantitative\"}}}], \"data\": {\"name\": \"data-37febc337e911b9c5fbae1d6589bd901\"}, \"height\": 450, \"width\": 600, \"$schema\": \"https://vega.github.io/schema/vega-lite/v5.15.1.json\", \"datasets\": {\"data-37febc337e911b9c5fbae1d6589bd901\": [{\"Year\": 2010, \"GHG Category\": \"CH4\", \"Quantity (Mt CO2e)\": 57.741578064466474}, {\"Year\": 2010, \"GHG Category\": \"CO2\", \"Quantity (Mt CO2e)\": 30.021708951949996}, {\"Year\": 2010, \"GHG Category\": \"N2O\", \"Quantity (Mt CO2e)\": 2.7486158869332664}, {\"Year\": 2011, \"GHG Category\": \"CH4\", \"Quantity (Mt CO2e)\": 57.27443233773135}, {\"Year\": 2011, \"GHG Category\": \"CO2\", \"Quantity (Mt CO2e)\": 29.429279227411186}, {\"Year\": 2011, \"GHG Category\": \"N2O\", \"Quantity (Mt CO2e)\": 2.6162827557720383}, {\"Year\": 2012, \"GHG Category\": \"CH4\", \"Quantity (Mt CO2e)\": 57.28953269975309}, {\"Year\": 2012, \"GHG Category\": \"CO2\", \"Quantity (Mt CO2e)\": 29.415453699816446}, {\"Year\": 2012, \"GHG Category\": \"N2O\", \"Quantity (Mt CO2e)\": 2.63914727714156}, {\"Year\": 2013, \"GHG Category\": \"CH4\", \"Quantity (Mt CO2e)\": 57.12637086321789}, {\"Year\": 2013, \"GHG Category\": \"CO2\", \"Quantity (Mt CO2e)\": 29.392285329014705}, {\"Year\": 2013, \"GHG Category\": \"N2O\", \"Quantity (Mt CO2e)\": 2.685698991667037}, {\"Year\": 2014, \"GHG Category\": \"CH4\", \"Quantity (Mt CO2e)\": 57.02622460549047}, {\"Year\": 2014, \"GHG Category\": \"CO2\", \"Quantity (Mt CO2e)\": 29.32979243492812}, {\"Year\": 2014, \"GHG Category\": \"N2O\", \"Quantity (Mt CO2e)\": 2.7094814111523693}, {\"Year\": 2015, \"GHG Category\": \"CH4\", \"Quantity (Mt CO2e)\": 56.91859971500776}, {\"Year\": 2015, \"GHG Category\": \"CO2\", \"Quantity (Mt CO2e)\": 29.295942735142923}, {\"Year\": 2015, \"GHG Category\": \"N2O\", \"Quantity (Mt CO2e)\": 2.7429715452980776}, {\"Year\": 2016, \"GHG Category\": \"CH4\", \"Quantity (Mt CO2e)\": 56.799638003503475}, {\"Year\": 2016, \"GHG Category\": \"CO2\", \"Quantity (Mt CO2e)\": 29.23395691527263}, {\"Year\": 2016, \"GHG Category\": \"N2O\", \"Quantity (Mt CO2e)\": 2.781094545281157}, {\"Year\": 2017, \"GHG Category\": \"CH4\", \"Quantity (Mt CO2e)\": 56.64616730121961}, {\"Year\": 2017, \"GHG Category\": \"CO2\", \"Quantity (Mt CO2e)\": 29.14417315272952}, {\"Year\": 2017, \"GHG Category\": \"N2O\", \"Quantity (Mt CO2e)\": 2.8008438872982993}, {\"Year\": 2018, \"GHG Category\": \"CH4\", \"Quantity (Mt CO2e)\": 56.51348483685224}, {\"Year\": 2018, \"GHG Category\": \"CO2\", \"Quantity (Mt CO2e)\": 29.035088760170563}, {\"Year\": 2018, \"GHG Category\": \"N2O\", \"Quantity (Mt CO2e)\": 2.797114390817497}, {\"Year\": 2019, \"GHG Category\": \"CH4\", \"Quantity (Mt CO2e)\": 56.373623842685234}, {\"Year\": 2019, \"GHG Category\": \"CO2\", \"Quantity (Mt CO2e)\": 28.91986209216795}, {\"Year\": 2019, \"GHG Category\": \"N2O\", \"Quantity (Mt CO2e)\": 2.8115461032041997}, {\"Year\": 2020, \"GHG Category\": \"CH4\", \"Quantity (Mt CO2e)\": 56.228156837684686}, {\"Year\": 2020, \"GHG Category\": \"CO2\", \"Quantity (Mt CO2e)\": 28.80923197201686}, {\"Year\": 2020, \"GHG Category\": \"N2O\", \"Quantity (Mt CO2e)\": 2.823678095340123}, {\"Year\": 2021, \"GHG Category\": \"CH4\", \"Quantity (Mt CO2e)\": 55.75479071387818}, {\"Year\": 2021, \"GHG Category\": \"CO2\", \"Quantity (Mt CO2e)\": 28.752781602020114}, {\"Year\": 2021, \"GHG Category\": \"N2O\", \"Quantity (Mt CO2e)\": 2.8216602356039475}, {\"Year\": 2022, \"GHG Category\": \"CH4\", \"Quantity (Mt CO2e)\": 55.289422808604414}, {\"Year\": 2022, \"GHG Category\": \"CO2\", \"Quantity (Mt CO2e)\": 28.673482453821013}, {\"Year\": 2022, \"GHG Category\": \"N2O\", \"Quantity (Mt CO2e)\": 2.826012507200406}, {\"Year\": 2023, \"GHG Category\": \"CH4\", \"Quantity (Mt CO2e)\": 54.828310962384805}, {\"Year\": 2023, \"GHG Category\": \"CO2\", \"Quantity (Mt CO2e)\": 28.593996851058563}, {\"Year\": 2023, \"GHG Category\": \"N2O\", \"Quantity (Mt CO2e)\": 2.8350441527861694}, {\"Year\": 2024, \"GHG Category\": \"CH4\", \"Quantity (Mt CO2e)\": 54.407467361014945}, {\"Year\": 2024, \"GHG Category\": \"CO2\", \"Quantity (Mt CO2e)\": 28.54425884207803}, {\"Year\": 2024, \"GHG Category\": \"N2O\", \"Quantity (Mt CO2e)\": 2.8558952110410316}, {\"Year\": 2025, \"GHG Category\": \"CH4\", \"Quantity (Mt CO2e)\": 54.02713821481268}, {\"Year\": 2025, \"GHG Category\": \"CO2\", \"Quantity (Mt CO2e)\": 28.52599875173455}, {\"Year\": 2025, \"GHG Category\": \"N2O\", \"Quantity (Mt CO2e)\": 2.86098879641384}, {\"Year\": 2026, \"GHG Category\": \"CH4\", \"Quantity (Mt CO2e)\": 53.64350566629414}, {\"Year\": 2026, \"GHG Category\": \"CO2\", \"Quantity (Mt CO2e)\": 28.49211712938936}, {\"Year\": 2026, \"GHG Category\": \"N2O\", \"Quantity (Mt CO2e)\": 2.862488648550879}, {\"Year\": 2027, \"GHG Category\": \"CH4\", \"Quantity (Mt CO2e)\": 53.265786176257215}, {\"Year\": 2027, \"GHG Category\": \"CO2\", \"Quantity (Mt CO2e)\": 28.432156656913786}, {\"Year\": 2027, \"GHG Category\": \"N2O\", \"Quantity (Mt CO2e)\": 2.8653919296600905}, {\"Year\": 2028, \"GHG Category\": \"CH4\", \"Quantity (Mt CO2e)\": 52.9232930527092}, {\"Year\": 2028, \"GHG Category\": \"CO2\", \"Quantity (Mt CO2e)\": 28.380892344475743}, {\"Year\": 2028, \"GHG Category\": \"N2O\", \"Quantity (Mt CO2e)\": 2.8659052964979237}, {\"Year\": 2029, \"GHG Category\": \"CH4\", \"Quantity (Mt CO2e)\": 52.542777998801014}, {\"Year\": 2029, \"GHG Category\": \"CO2\", \"Quantity (Mt CO2e)\": 28.310385086043823}, {\"Year\": 2029, \"GHG Category\": \"N2O\", \"Quantity (Mt CO2e)\": 2.866511136676197}, {\"Year\": 2030, \"GHG Category\": \"CH4\", \"Quantity (Mt CO2e)\": 52.21872704186293}, {\"Year\": 2030, \"GHG Category\": \"CO2\", \"Quantity (Mt CO2e)\": 28.29571952587775}, {\"Year\": 2030, \"GHG Category\": \"N2O\", \"Quantity (Mt CO2e)\": 2.872780053136515}, {\"Year\": 2031, \"GHG Category\": \"CH4\", \"Quantity (Mt CO2e)\": 51.88730962773588}, {\"Year\": 2031, \"GHG Category\": \"CO2\", \"Quantity (Mt CO2e)\": 28.303865095432034}, {\"Year\": 2031, \"GHG Category\": \"N2O\", \"Quantity (Mt CO2e)\": 2.862971402492142}, {\"Year\": 2032, \"GHG Category\": \"CH4\", \"Quantity (Mt CO2e)\": 51.41141958944888}, {\"Year\": 2032, \"GHG Category\": \"CO2\", \"Quantity (Mt CO2e)\": 28.216099294155075}, {\"Year\": 2032, \"GHG Category\": \"N2O\", \"Quantity (Mt CO2e)\": 2.867747629952345}, {\"Year\": 2033, \"GHG Category\": \"CH4\", \"Quantity (Mt CO2e)\": 51.03001941311805}, {\"Year\": 2033, \"GHG Category\": \"CO2\", \"Quantity (Mt CO2e)\": 28.227798869880385}, {\"Year\": 2033, \"GHG Category\": \"N2O\", \"Quantity (Mt CO2e)\": 2.8544650045435054}, {\"Year\": 2034, \"GHG Category\": \"CH4\", \"Quantity (Mt CO2e)\": 50.60295164746629}, {\"Year\": 2034, \"GHG Category\": \"CO2\", \"Quantity (Mt CO2e)\": 28.136159057110017}, {\"Year\": 2034, \"GHG Category\": \"N2O\", \"Quantity (Mt CO2e)\": 2.864977376343295}, {\"Year\": 2035, \"GHG Category\": \"CH4\", \"Quantity (Mt CO2e)\": 50.2216884654237}, {\"Year\": 2035, \"GHG Category\": \"CO2\", \"Quantity (Mt CO2e)\": 28.08202616451596}, {\"Year\": 2035, \"GHG Category\": \"N2O\", \"Quantity (Mt CO2e)\": 2.8647870732408984}, {\"Year\": 2036, \"GHG Category\": \"CH4\", \"Quantity (Mt CO2e)\": 49.76638462570553}, {\"Year\": 2036, \"GHG Category\": \"CO2\", \"Quantity (Mt CO2e)\": 27.983029040810344}, {\"Year\": 2036, \"GHG Category\": \"N2O\", \"Quantity (Mt CO2e)\": 2.861839029788945}, {\"Year\": 2037, \"GHG Category\": \"CH4\", \"Quantity (Mt CO2e)\": 49.34177971152502}, {\"Year\": 2037, \"GHG Category\": \"CO2\", \"Quantity (Mt CO2e)\": 27.931888149197192}, {\"Year\": 2037, \"GHG Category\": \"N2O\", \"Quantity (Mt CO2e)\": 2.866262435578033}, {\"Year\": 2038, \"GHG Category\": \"CH4\", \"Quantity (Mt CO2e)\": 48.848603467724004}, {\"Year\": 2038, \"GHG Category\": \"CO2\", \"Quantity (Mt CO2e)\": 27.834025033801883}, {\"Year\": 2038, \"GHG Category\": \"N2O\", \"Quantity (Mt CO2e)\": 2.8679528143133486}, {\"Year\": 2039, \"GHG Category\": \"CH4\", \"Quantity (Mt CO2e)\": 48.427201883072215}, {\"Year\": 2039, \"GHG Category\": \"CO2\", \"Quantity (Mt CO2e)\": 27.6351070997828}, {\"Year\": 2039, \"GHG Category\": \"N2O\", \"Quantity (Mt CO2e)\": 2.8431483288778217}, {\"Year\": 2040, \"GHG Category\": \"CH4\", \"Quantity (Mt CO2e)\": 48.037857283439614}, {\"Year\": 2040, \"GHG Category\": \"CO2\", \"Quantity (Mt CO2e)\": 27.401990425157965}, {\"Year\": 2040, \"GHG Category\": \"N2O\", \"Quantity (Mt CO2e)\": 2.8146101675848527}, {\"Year\": 2041, \"GHG Category\": \"CH4\", \"Quantity (Mt CO2e)\": 47.70389361710008}, {\"Year\": 2041, \"GHG Category\": \"CO2\", \"Quantity (Mt CO2e)\": 27.162694958731485}, {\"Year\": 2041, \"GHG Category\": \"N2O\", \"Quantity (Mt CO2e)\": 2.7874292405399155}, {\"Year\": 2042, \"GHG Category\": \"CH4\", \"Quantity (Mt CO2e)\": 47.395062781594866}, {\"Year\": 2042, \"GHG Category\": \"CO2\", \"Quantity (Mt CO2e)\": 26.82299378887193}, {\"Year\": 2042, \"GHG Category\": \"N2O\", \"Quantity (Mt CO2e)\": 2.7507823483102585}, {\"Year\": 2043, \"GHG Category\": \"CH4\", \"Quantity (Mt CO2e)\": 47.05022926311108}, {\"Year\": 2043, \"GHG Category\": \"CO2\", \"Quantity (Mt CO2e)\": 26.579903815995515}, {\"Year\": 2043, \"GHG Category\": \"N2O\", \"Quantity (Mt CO2e)\": 2.719297027756415}, {\"Year\": 2044, \"GHG Category\": \"CH4\", \"Quantity (Mt CO2e)\": 46.59471395071343}, {\"Year\": 2044, \"GHG Category\": \"CO2\", \"Quantity (Mt CO2e)\": 26.4239787744332}, {\"Year\": 2044, \"GHG Category\": \"N2O\", \"Quantity (Mt CO2e)\": 2.6913504879125867}, {\"Year\": 2045, \"GHG Category\": \"CH4\", \"Quantity (Mt CO2e)\": 46.17544636944723}, {\"Year\": 2045, \"GHG Category\": \"CO2\", \"Quantity (Mt CO2e)\": 26.350231153743373}, {\"Year\": 2045, \"GHG Category\": \"N2O\", \"Quantity (Mt CO2e)\": 2.6298013240412677}, {\"Year\": 2046, \"GHG Category\": \"CH4\", \"Quantity (Mt CO2e)\": 45.951485808267634}, {\"Year\": 2046, \"GHG Category\": \"CO2\", \"Quantity (Mt CO2e)\": 26.44496342220921}, {\"Year\": 2046, \"GHG Category\": \"N2O\", \"Quantity (Mt CO2e)\": 2.6032389669910017}, {\"Year\": 2047, \"GHG Category\": \"CH4\", \"Quantity (Mt CO2e)\": 45.78818047494355}, {\"Year\": 2047, \"GHG Category\": \"CO2\", \"Quantity (Mt CO2e)\": 26.572115089274632}, {\"Year\": 2047, \"GHG Category\": \"N2O\", \"Quantity (Mt CO2e)\": 2.578373058893645}, {\"Year\": 2048, \"GHG Category\": \"CH4\", \"Quantity (Mt CO2e)\": 45.667883709365135}, {\"Year\": 2048, \"GHG Category\": \"CO2\", \"Quantity (Mt CO2e)\": 26.682568180248936}, {\"Year\": 2048, \"GHG Category\": \"N2O\", \"Quantity (Mt CO2e)\": 2.5273753583993064}, {\"Year\": 2049, \"GHG Category\": \"CH4\", \"Quantity (Mt CO2e)\": 46.71567113899026}, {\"Year\": 2049, \"GHG Category\": \"CO2\", \"Quantity (Mt CO2e)\": 26.75712743792372}, {\"Year\": 2049, \"GHG Category\": \"N2O\", \"Quantity (Mt CO2e)\": 2.4344108638909723}, {\"Year\": 2050, \"GHG Category\": \"CH4\", \"Quantity (Mt CO2e)\": 48.12300105331174}, {\"Year\": 2050, \"GHG Category\": \"CO2\", \"Quantity (Mt CO2e)\": 26.91687929616685}, {\"Year\": 2050, \"GHG Category\": \"N2O\", \"Quantity (Mt CO2e)\": 2.3275344548577626}]}}, {\"mode\": \"vega-lite\"});\n",
       "</script>"
      ],
      "text/plain": [
       "alt.LayerChart(...)"
      ]
     },
     "execution_count": 27,
     "metadata": {},
     "output_type": "execute_result"
    }
   ],
   "source": [
    "# HIDE CODE\n",
    "# get the df and plot\n",
    "GHG_catetory_df,GHG_atetory_plot = ag_lucc_GHG.plot_GHG_category()\n",
    "GHG_atetory_plot"
   ]
  },
  {
   "cell_type": "code",
   "execution_count": null,
   "metadata": {},
   "outputs": [],
   "source": []
  },
  {
   "cell_type": "markdown",
   "metadata": {},
   "source": [
    "### Emission by CO2 sources"
   ]
  },
  {
   "cell_type": "code",
   "execution_count": 11,
   "metadata": {
    "tags": [
     "hide-input"
    ]
   },
   "outputs": [
    {
     "data": {
      "text/html": [
       "\n",
       "<style>\n",
       "  #altair-viz-0b0db7a0b2c743fabecf00603ca7367f.vega-embed {\n",
       "    width: 100%;\n",
       "    display: flex;\n",
       "  }\n",
       "\n",
       "  #altair-viz-0b0db7a0b2c743fabecf00603ca7367f.vega-embed details,\n",
       "  #altair-viz-0b0db7a0b2c743fabecf00603ca7367f.vega-embed details summary {\n",
       "    position: relative;\n",
       "  }\n",
       "</style>\n",
       "<div id=\"altair-viz-0b0db7a0b2c743fabecf00603ca7367f\"></div>\n",
       "<script type=\"text/javascript\">\n",
       "  var VEGA_DEBUG = (typeof VEGA_DEBUG == \"undefined\") ? {} : VEGA_DEBUG;\n",
       "  (function(spec, embedOpt){\n",
       "    let outputDiv = document.currentScript.previousElementSibling;\n",
       "    if (outputDiv.id !== \"altair-viz-0b0db7a0b2c743fabecf00603ca7367f\") {\n",
       "      outputDiv = document.getElementById(\"altair-viz-0b0db7a0b2c743fabecf00603ca7367f\");\n",
       "    }\n",
       "    const paths = {\n",
       "      \"vega\": \"https://cdn.jsdelivr.net/npm/vega@5?noext\",\n",
       "      \"vega-lib\": \"https://cdn.jsdelivr.net/npm/vega-lib?noext\",\n",
       "      \"vega-lite\": \"https://cdn.jsdelivr.net/npm/vega-lite@5.15.1?noext\",\n",
       "      \"vega-embed\": \"https://cdn.jsdelivr.net/npm/vega-embed@6?noext\",\n",
       "    };\n",
       "\n",
       "    function maybeLoadScript(lib, version) {\n",
       "      var key = `${lib.replace(\"-\", \"\")}_version`;\n",
       "      return (VEGA_DEBUG[key] == version) ?\n",
       "        Promise.resolve(paths[lib]) :\n",
       "        new Promise(function(resolve, reject) {\n",
       "          var s = document.createElement('script');\n",
       "          document.getElementsByTagName(\"head\")[0].appendChild(s);\n",
       "          s.async = true;\n",
       "          s.onload = () => {\n",
       "            VEGA_DEBUG[key] = version;\n",
       "            return resolve(paths[lib]);\n",
       "          };\n",
       "          s.onerror = () => reject(`Error loading script: ${paths[lib]}`);\n",
       "          s.src = paths[lib];\n",
       "        });\n",
       "    }\n",
       "\n",
       "    function showError(err) {\n",
       "      outputDiv.innerHTML = `<div class=\"error\" style=\"color:red;\">${err}</div>`;\n",
       "      throw err;\n",
       "    }\n",
       "\n",
       "    function displayChart(vegaEmbed) {\n",
       "      vegaEmbed(outputDiv, spec, embedOpt)\n",
       "        .catch(err => showError(`Javascript Error: ${err.message}<br>This usually means there's a typo in your chart specification. See the javascript console for the full traceback.`));\n",
       "    }\n",
       "\n",
       "    if(typeof define === \"function\" && define.amd) {\n",
       "      requirejs.config({paths});\n",
       "      require([\"vega-embed\"], displayChart, err => showError(`Error loading script: ${err.message}`));\n",
       "    } else {\n",
       "      maybeLoadScript(\"vega\", \"5\")\n",
       "        .then(() => maybeLoadScript(\"vega-lite\", \"5.15.1\"))\n",
       "        .then(() => maybeLoadScript(\"vega-embed\", \"6\"))\n",
       "        .catch(showError)\n",
       "        .then(() => displayChart(vegaEmbed));\n",
       "    }\n",
       "  })({\"config\": {\"view\": {\"continuousWidth\": 300, \"continuousHeight\": 300}, \"legend\": {\"labelLimit\": 0}}, \"layer\": [{\"mark\": {\"type\": \"bar\"}, \"encoding\": {\"color\": {\"field\": \"Sources\", \"legend\": {\"direction\": \"vertical\", \"legendX\": 610, \"legendY\": 112.5, \"orient\": \"none\", \"title\": \"GHG Sources\", \"titleAnchor\": \"middle\"}, \"type\": \"nominal\"}, \"tooltip\": [{\"field\": \"Sources\", \"title\": \"GHG Sources\", \"type\": \"nominal\"}, {\"field\": \"Quantity (Mt CO2e)\", \"title\": \"GHG emissions (Mt CO2e)\", \"type\": \"quantitative\"}], \"x\": {\"axis\": {\"labelAngle\": -90, \"title\": \"Year\"}, \"field\": \"Year\", \"type\": \"ordinal\"}, \"y\": {\"field\": \"Quantity (Mt CO2e)\", \"scale\": {\"reverse\": false}, \"title\": \"GHG emissions (Mt CO2e)\", \"type\": \"quantitative\"}}}], \"data\": {\"name\": \"data-bdfa253b624b2bd24d543bc22dc06781\"}, \"height\": 450, \"width\": 600, \"$schema\": \"https://vega.github.io/schema/vega-lite/v5.15.1.json\", \"datasets\": {\"data-bdfa253b624b2bd24d543bc22dc06781\": [{\"Year\": 2010, \"Sources\": \"Agricultural soils: Animal production, dung and urine\", \"Quantity (Mt CO2e)\": 4.433428700008393}, {\"Year\": 2010, \"Sources\": \"Agricultural soils: Direct Soil Emissions (biogenic)\", \"Quantity (Mt CO2e)\": 2.7486158869332664}, {\"Year\": 2010, \"Sources\": \"Agricultural soils: Indirect leaching and runoff\", \"Quantity (Mt CO2e)\": 2.7155013232363463}, {\"Year\": 2010, \"Sources\": \"Chemical Application\", \"Quantity (Mt CO2e)\": 1.8637020013961796}, {\"Year\": 2010, \"Sources\": \"Crop Management\", \"Quantity (Mt CO2e)\": 0.03258934836706519}, {\"Year\": 2010, \"Sources\": \"Cultivation\", \"Quantity (Mt CO2e)\": 0.877268312080845}, {\"Year\": 2010, \"Sources\": \"Electricity Use livestock\", \"Quantity (Mt CO2e)\": 0.42419813347530366}, {\"Year\": 2010, \"Sources\": \"Fertiliser production\", \"Quantity (Mt CO2e)\": 5.3500663423597805}, {\"Year\": 2010, \"Sources\": \"Fodder production\", \"Quantity (Mt CO2e)\": 1.4573687149884944}, {\"Year\": 2010, \"Sources\": \"Fuel Use livestock\", \"Quantity (Mt CO2e)\": 5.984283024066434}, {\"Year\": 2010, \"Sources\": \"Harvesting\", \"Quantity (Mt CO2e)\": 0.3760521283593476}, {\"Year\": 2010, \"Sources\": \"Irrigation\", \"Quantity (Mt CO2e)\": 0.27673083430004114}, {\"Year\": 2010, \"Sources\": \"Livestock Enteric Fermentation (biogenic)\", \"Quantity (Mt CO2e)\": 55.524863714462285}, {\"Year\": 2010, \"Sources\": \"Livestock Manure Management (biogenic)\", \"Quantity (Mt CO2e)\": 0.32997065642377593}, {\"Year\": 2010, \"Sources\": \"Pasture Seed production\", \"Quantity (Mt CO2e)\": 4.675661380761691}, {\"Year\": 2010, \"Sources\": \"Pesticide production\", \"Quantity (Mt CO2e)\": 2.4779868948783874}, {\"Year\": 2010, \"Sources\": \"Sowing\", \"Quantity (Mt CO2e)\": 0.9636155072521269}, {\"Year\": 2011, \"Sources\": \"Agricultural soils: Animal production, dung and urine\", \"Quantity (Mt CO2e)\": 4.403146775187253}, {\"Year\": 2011, \"Sources\": \"Agricultural soils: Direct Soil Emissions (biogenic)\", \"Quantity (Mt CO2e)\": 2.6162827557720383}, {\"Year\": 2011, \"Sources\": \"Agricultural soils: Indirect leaching and runoff\", \"Quantity (Mt CO2e)\": 2.6762759579034108}, {\"Year\": 2011, \"Sources\": \"Chemical Application\", \"Quantity (Mt CO2e)\": 1.8124157712084088}, {\"Year\": 2011, \"Sources\": \"Crop Management\", \"Quantity (Mt CO2e)\": 0.028038596050719605}, {\"Year\": 2011, \"Sources\": \"Cultivation\", \"Quantity (Mt CO2e)\": 0.8394899861814866}, {\"Year\": 2011, \"Sources\": \"Electricity Use livestock\", \"Quantity (Mt CO2e)\": 0.420484047400515}, {\"Year\": 2011, \"Sources\": \"Fertiliser production\", \"Quantity (Mt CO2e)\": 5.126903400328963}, {\"Year\": 2011, \"Sources\": \"Fodder production\", \"Quantity (Mt CO2e)\": 1.4324748668845846}, {\"Year\": 2011, \"Sources\": \"Fuel Use livestock\", \"Quantity (Mt CO2e)\": 5.968421756633911}, {\"Year\": 2011, \"Sources\": \"Harvesting\", \"Quantity (Mt CO2e)\": 0.36016535055331594}, {\"Year\": 2011, \"Sources\": \"Irrigation\", \"Quantity (Mt CO2e)\": 0.21484339013873371}, {\"Year\": 2011, \"Sources\": \"Livestock Enteric Fermentation (biogenic)\", \"Quantity (Mt CO2e)\": 55.072858950137714}, {\"Year\": 2011, \"Sources\": \"Livestock Manure Management (biogenic)\", \"Quantity (Mt CO2e)\": 0.3239159167117672}, {\"Year\": 2011, \"Sources\": \"Pasture Seed production\", \"Quantity (Mt CO2e)\": 4.689555002595948}, {\"Year\": 2011, \"Sources\": \"Pesticide production\", \"Quantity (Mt CO2e)\": 2.3828381969702}, {\"Year\": 2011, \"Sources\": \"Sowing\", \"Quantity (Mt CO2e)\": 0.951883600255578}, {\"Year\": 2012, \"Sources\": \"Agricultural soils: Animal production, dung and urine\", \"Quantity (Mt CO2e)\": 4.402342300621271}, {\"Year\": 2012, \"Sources\": \"Agricultural soils: Direct Soil Emissions (biogenic)\", \"Quantity (Mt CO2e)\": 2.63914727714156}, {\"Year\": 2012, \"Sources\": \"Agricultural soils: Indirect leaching and runoff\", \"Quantity (Mt CO2e)\": 2.6750992478342215}, {\"Year\": 2012, \"Sources\": \"Chemical Application\", \"Quantity (Mt CO2e)\": 1.8131707337491163}, {\"Year\": 2012, \"Sources\": \"Crop Management\", \"Quantity (Mt CO2e)\": 0.027844680399609335}, {\"Year\": 2012, \"Sources\": \"Cultivation\", \"Quantity (Mt CO2e)\": 0.8428890946084345}, {\"Year\": 2012, \"Sources\": \"Electricity Use livestock\", \"Quantity (Mt CO2e)\": 0.4092211618088048}, {\"Year\": 2012, \"Sources\": \"Fertiliser production\", \"Quantity (Mt CO2e)\": 5.13124696232672}, {\"Year\": 2012, \"Sources\": \"Fodder production\", \"Quantity (Mt CO2e)\": 1.4324344588181894}, {\"Year\": 2012, \"Sources\": \"Fuel Use livestock\", \"Quantity (Mt CO2e)\": 5.924700928030616}, {\"Year\": 2012, \"Sources\": \"Harvesting\", \"Quantity (Mt CO2e)\": 0.35989199092378044}, {\"Year\": 2012, \"Sources\": \"Irrigation\", \"Quantity (Mt CO2e)\": 0.21323809857088044}, {\"Year\": 2012, \"Sources\": \"Livestock Enteric Fermentation (biogenic)\", \"Quantity (Mt CO2e)\": 55.08836154944245}, {\"Year\": 2012, \"Sources\": \"Livestock Manure Management (biogenic)\", \"Quantity (Mt CO2e)\": 0.3219344891060347}, {\"Year\": 2012, \"Sources\": \"Pasture Seed production\", \"Quantity (Mt CO2e)\": 4.7263466837422365}, {\"Year\": 2012, \"Sources\": \"Pesticide production\", \"Quantity (Mt CO2e)\": 2.383400559827845}, {\"Year\": 2012, \"Sources\": \"Sowing\", \"Quantity (Mt CO2e)\": 0.9528634597593136}, {\"Year\": 2013, \"Sources\": \"Agricultural soils: Animal production, dung and urine\", \"Quantity (Mt CO2e)\": 4.39203682333178}, {\"Year\": 2013, \"Sources\": \"Agricultural soils: Direct Soil Emissions (biogenic)\", \"Quantity (Mt CO2e)\": 2.685698991667037}, {\"Year\": 2013, \"Sources\": \"Agricultural soils: Indirect leaching and runoff\", \"Quantity (Mt CO2e)\": 2.6755876070628766}, {\"Year\": 2013, \"Sources\": \"Chemical Application\", \"Quantity (Mt CO2e)\": 1.8153696603407288}, {\"Year\": 2013, \"Sources\": \"Crop Management\", \"Quantity (Mt CO2e)\": 0.027820337132976346}, {\"Year\": 2013, \"Sources\": \"Cultivation\", \"Quantity (Mt CO2e)\": 0.8481401937977775}, {\"Year\": 2013, \"Sources\": \"Electricity Use livestock\", \"Quantity (Mt CO2e)\": 0.3888050238697862}, {\"Year\": 2013, \"Sources\": \"Fertiliser production\", \"Quantity (Mt CO2e)\": 5.146830441467942}, {\"Year\": 2013, \"Sources\": \"Fodder production\", \"Quantity (Mt CO2e)\": 1.4340249461174315}, {\"Year\": 2013, \"Sources\": \"Fuel Use livestock\", \"Quantity (Mt CO2e)\": 5.868187478590306}, {\"Year\": 2013, \"Sources\": \"Harvesting\", \"Quantity (Mt CO2e)\": 0.35969720421981877}, {\"Year\": 2013, \"Sources\": \"Irrigation\", \"Quantity (Mt CO2e)\": 0.21532271168105593}, {\"Year\": 2013, \"Sources\": \"Livestock Enteric Fermentation (biogenic)\", \"Quantity (Mt CO2e)\": 54.930352451552004}, {\"Year\": 2013, \"Sources\": \"Livestock Manure Management (biogenic)\", \"Quantity (Mt CO2e)\": 0.31775951849160217}, {\"Year\": 2013, \"Sources\": \"Pasture Seed production\", \"Quantity (Mt CO2e)\": 4.7592615238940805}, {\"Year\": 2013, \"Sources\": \"Pesticide production\", \"Quantity (Mt CO2e)\": 2.3848225579555815}, {\"Year\": 2013, \"Sources\": \"Sowing\", \"Quantity (Mt CO2e)\": 0.95463771272687}, {\"Year\": 2014, \"Sources\": \"Agricultural soils: Animal production, dung and urine\", \"Quantity (Mt CO2e)\": 4.383833493070917}, {\"Year\": 2014, \"Sources\": \"Agricultural soils: Direct Soil Emissions (biogenic)\", \"Quantity (Mt CO2e)\": 2.7094814111523693}, {\"Year\": 2014, \"Sources\": \"Agricultural soils: Indirect leaching and runoff\", \"Quantity (Mt CO2e)\": 2.6743489582748197}, {\"Year\": 2014, \"Sources\": \"Chemical Application\", \"Quantity (Mt CO2e)\": 1.8172930319054657}, {\"Year\": 2014, \"Sources\": \"Crop Management\", \"Quantity (Mt CO2e)\": 0.027595774672008116}, {\"Year\": 2014, \"Sources\": \"Cultivation\", \"Quantity (Mt CO2e)\": 0.8461870646280598}, {\"Year\": 2014, \"Sources\": \"Electricity Use livestock\", \"Quantity (Mt CO2e)\": 0.3548405962579946}, {\"Year\": 2014, \"Sources\": \"Fertiliser production\", \"Quantity (Mt CO2e)\": 5.14831621285172}, {\"Year\": 2014, \"Sources\": \"Fodder production\", \"Quantity (Mt CO2e)\": 1.43846153960981}, {\"Year\": 2014, \"Sources\": \"Fuel Use livestock\", \"Quantity (Mt CO2e)\": 5.811464091905528}, {\"Year\": 2014, \"Sources\": \"Harvesting\", \"Quantity (Mt CO2e)\": 0.3592858319255382}, {\"Year\": 2014, \"Sources\": \"Irrigation\", \"Quantity (Mt CO2e)\": 0.2154857410546793}, {\"Year\": 2014, \"Sources\": \"Livestock Enteric Fermentation (biogenic)\", \"Quantity (Mt CO2e)\": 54.834307858955015}, {\"Year\": 2014, \"Sources\": \"Livestock Manure Management (biogenic)\", \"Quantity (Mt CO2e)\": 0.3140270378614983}, {\"Year\": 2014, \"Sources\": \"Pasture Seed production\", \"Quantity (Mt CO2e)\": 4.788325810382766}, {\"Year\": 2014, \"Sources\": \"Pesticide production\", \"Quantity (Mt CO2e)\": 2.385354254666782}, {\"Year\": 2014, \"Sources\": \"Sowing\", \"Quantity (Mt CO2e)\": 0.95688974239598}, {\"Year\": 2015, \"Sources\": \"Agricultural soils: Animal production, dung and urine\", \"Quantity (Mt CO2e)\": 4.375131694020129}, {\"Year\": 2015, \"Sources\": \"Agricultural soils: Direct Soil Emissions (biogenic)\", \"Quantity (Mt CO2e)\": 2.7429715452980776}, {\"Year\": 2015, \"Sources\": \"Agricultural soils: Indirect leaching and runoff\", \"Quantity (Mt CO2e)\": 2.672462759698836}, {\"Year\": 2015, \"Sources\": \"Chemical Application\", \"Quantity (Mt CO2e)\": 1.8185967704011867}, {\"Year\": 2015, \"Sources\": \"Crop Management\", \"Quantity (Mt CO2e)\": 0.027289061307932787}, {\"Year\": 2015, \"Sources\": \"Cultivation\", \"Quantity (Mt CO2e)\": 0.8439611556643551}, {\"Year\": 2015, \"Sources\": \"Electricity Use livestock\", \"Quantity (Mt CO2e)\": 0.3429970500641313}, {\"Year\": 2015, \"Sources\": \"Fertiliser production\", \"Quantity (Mt CO2e)\": 5.1466497116076555}, {\"Year\": 2015, \"Sources\": \"Fodder production\", \"Quantity (Mt CO2e)\": 1.4423240979541574}, {\"Year\": 2015, \"Sources\": \"Fuel Use livestock\", \"Quantity (Mt CO2e)\": 5.781325021112274}, {\"Year\": 2015, \"Sources\": \"Harvesting\", \"Quantity (Mt CO2e)\": 0.3587202607251956}, {\"Year\": 2015, \"Sources\": \"Irrigation\", \"Quantity (Mt CO2e)\": 0.21597511912796125}, {\"Year\": 2015, \"Sources\": \"Livestock Enteric Fermentation (biogenic)\", \"Quantity (Mt CO2e)\": 54.731033867997695}, {\"Year\": 2015, \"Sources\": \"Livestock Manure Management (biogenic)\", \"Quantity (Mt CO2e)\": 0.3122013812853567}, {\"Year\": 2015, \"Sources\": \"Pasture Seed production\", \"Quantity (Mt CO2e)\": 4.804898466411054}, {\"Year\": 2015, \"Sources\": \"Pesticide production\", \"Quantity (Mt CO2e)\": 2.3822751752690046}, {\"Year\": 2015, \"Sources\": \"Sowing\", \"Quantity (Mt CO2e)\": 0.9587008575037888}, {\"Year\": 2016, \"Sources\": \"Agricultural soils: Animal production, dung and urine\", \"Quantity (Mt CO2e)\": 4.365493129159806}, {\"Year\": 2016, \"Sources\": \"Agricultural soils: Direct Soil Emissions (biogenic)\", \"Quantity (Mt CO2e)\": 2.781094545281157}, {\"Year\": 2016, \"Sources\": \"Agricultural soils: Indirect leaching and runoff\", \"Quantity (Mt CO2e)\": 2.666378853411703}, {\"Year\": 2016, \"Sources\": \"Chemical Application\", \"Quantity (Mt CO2e)\": 1.8175884721388784}, {\"Year\": 2016, \"Sources\": \"Crop Management\", \"Quantity (Mt CO2e)\": 0.027280816642771984}, {\"Year\": 2016, \"Sources\": \"Cultivation\", \"Quantity (Mt CO2e)\": 0.8416059273190034}, {\"Year\": 2016, \"Sources\": \"Electricity Use livestock\", \"Quantity (Mt CO2e)\": 0.3321350796670449}, {\"Year\": 2016, \"Sources\": \"Fertiliser production\", \"Quantity (Mt CO2e)\": 5.14370793600389}, {\"Year\": 2016, \"Sources\": \"Fodder production\", \"Quantity (Mt CO2e)\": 1.4423769541737672}, {\"Year\": 2016, \"Sources\": \"Fuel Use livestock\", \"Quantity (Mt CO2e)\": 5.727751957037352}, {\"Year\": 2016, \"Sources\": \"Harvesting\", \"Quantity (Mt CO2e)\": 0.3580166425285565}, {\"Year\": 2016, \"Sources\": \"Irrigation\", \"Quantity (Mt CO2e)\": 0.21915819418820348}, {\"Year\": 2016, \"Sources\": \"Livestock Enteric Fermentation (biogenic)\", \"Quantity (Mt CO2e)\": 54.616891438923574}, {\"Year\": 2016, \"Sources\": \"Livestock Manure Management (biogenic)\", \"Quantity (Mt CO2e)\": 0.30976993797969027}, {\"Year\": 2016, \"Sources\": \"Pasture Seed production\", \"Quantity (Mt CO2e)\": 4.828381605398008}, {\"Year\": 2016, \"Sources\": \"Pesticide production\", \"Quantity (Mt CO2e)\": 2.3782794753490517}, {\"Year\": 2016, \"Sources\": \"Sowing\", \"Quantity (Mt CO2e)\": 0.9587784988548151}, {\"Year\": 2017, \"Sources\": \"Agricultural soils: Animal production, dung and urine\", \"Quantity (Mt CO2e)\": 4.353688307557841}, {\"Year\": 2017, \"Sources\": \"Agricultural soils: Direct Soil Emissions (biogenic)\", \"Quantity (Mt CO2e)\": 2.8008438872982993}, {\"Year\": 2017, \"Sources\": \"Agricultural soils: Indirect leaching and runoff\", \"Quantity (Mt CO2e)\": 2.6614379350481503}, {\"Year\": 2017, \"Sources\": \"Chemical Application\", \"Quantity (Mt CO2e)\": 1.8154867245227637}, {\"Year\": 2017, \"Sources\": \"Crop Management\", \"Quantity (Mt CO2e)\": 0.027115159447250348}, {\"Year\": 2017, \"Sources\": \"Cultivation\", \"Quantity (Mt CO2e)\": 0.835474343592732}, {\"Year\": 2017, \"Sources\": \"Electricity Use livestock\", \"Quantity (Mt CO2e)\": 0.3288704776352238}, {\"Year\": 2017, \"Sources\": \"Fertiliser production\", \"Quantity (Mt CO2e)\": 5.12732615781547}, {\"Year\": 2017, \"Sources\": \"Fodder production\", \"Quantity (Mt CO2e)\": 1.4425233726669575}, {\"Year\": 2017, \"Sources\": \"Fuel Use livestock\", \"Quantity (Mt CO2e)\": 5.675894325136789}, {\"Year\": 2017, \"Sources\": \"Harvesting\", \"Quantity (Mt CO2e)\": 0.35706619175322907}, {\"Year\": 2017, \"Sources\": \"Irrigation\", \"Quantity (Mt CO2e)\": 0.21281426322828575}, {\"Year\": 2017, \"Sources\": \"Livestock Enteric Fermentation (biogenic)\", \"Quantity (Mt CO2e)\": 54.46932314744068}, {\"Year\": 2017, \"Sources\": \"Livestock Manure Management (biogenic)\", \"Quantity (Mt CO2e)\": 0.30795781699356417}, {\"Year\": 2017, \"Sources\": \"Pasture Seed production\", \"Quantity (Mt CO2e)\": 4.847178437775015}, {\"Year\": 2017, \"Sources\": \"Pesticide production\", \"Quantity (Mt CO2e)\": 2.3702244979898754}, {\"Year\": 2017, \"Sources\": \"Sowing\", \"Quantity (Mt CO2e)\": 0.9579592953452757}, {\"Year\": 2018, \"Sources\": \"Agricultural soils: Animal production, dung and urine\", \"Quantity (Mt CO2e)\": 4.341917987368943}, {\"Year\": 2018, \"Sources\": \"Agricultural soils: Direct Soil Emissions (biogenic)\", \"Quantity (Mt CO2e)\": 2.797114390817497}, {\"Year\": 2018, \"Sources\": \"Agricultural soils: Indirect leaching and runoff\", \"Quantity (Mt CO2e)\": 2.6548966161920147}, {\"Year\": 2018, \"Sources\": \"Chemical Application\", \"Quantity (Mt CO2e)\": 1.8128152627958045}, {\"Year\": 2018, \"Sources\": \"Crop Management\", \"Quantity (Mt CO2e)\": 0.026978405287311883}, {\"Year\": 2018, \"Sources\": \"Cultivation\", \"Quantity (Mt CO2e)\": 0.8282620632176729}, {\"Year\": 2018, \"Sources\": \"Electricity Use livestock\", \"Quantity (Mt CO2e)\": 0.31474078287521073}, {\"Year\": 2018, \"Sources\": \"Fertiliser production\", \"Quantity (Mt CO2e)\": 5.11384224337303}, {\"Year\": 2018, \"Sources\": \"Fodder production\", \"Quantity (Mt CO2e)\": 1.437827371937636}, {\"Year\": 2018, \"Sources\": \"Fuel Use livestock\", \"Quantity (Mt CO2e)\": 5.61707390573666}, {\"Year\": 2018, \"Sources\": \"Harvesting\", \"Quantity (Mt CO2e)\": 0.3544981029225828}, {\"Year\": 2018, \"Sources\": \"Irrigation\", \"Quantity (Mt CO2e)\": 0.20815475542077727}, {\"Year\": 2018, \"Sources\": \"Livestock Enteric Fermentation (biogenic)\", \"Quantity (Mt CO2e)\": 54.34252584316778}, {\"Year\": 2018, \"Sources\": \"Livestock Manure Management (biogenic)\", \"Quantity (Mt CO2e)\": 0.3037243073677678}, {\"Year\": 2018, \"Sources\": \"Pasture Seed production\", \"Quantity (Mt CO2e)\": 4.873621472225948}, {\"Year\": 2018, \"Sources\": \"Pesticide production\", \"Quantity (Mt CO2e)\": 2.360714587825643}, {\"Year\": 2018, \"Sources\": \"Sowing\", \"Quantity (Mt CO2e)\": 0.9569798893080292}, {\"Year\": 2019, \"Sources\": \"Agricultural soils: Animal production, dung and urine\", \"Quantity (Mt CO2e)\": 4.329660223641861}, {\"Year\": 2019, \"Sources\": \"Agricultural soils: Direct Soil Emissions (biogenic)\", \"Quantity (Mt CO2e)\": 2.8115461032041997}, {\"Year\": 2019, \"Sources\": \"Agricultural soils: Indirect leaching and runoff\", \"Quantity (Mt CO2e)\": 2.6478177290446854}, {\"Year\": 2019, \"Sources\": \"Chemical Application\", \"Quantity (Mt CO2e)\": 1.8089458391367235}, {\"Year\": 2019, \"Sources\": \"Crop Management\", \"Quantity (Mt CO2e)\": 0.026660270297681695}, {\"Year\": 2019, \"Sources\": \"Cultivation\", \"Quantity (Mt CO2e)\": 0.8213215885619817}, {\"Year\": 2019, \"Sources\": \"Electricity Use livestock\", \"Quantity (Mt CO2e)\": 0.29952622435319426}, {\"Year\": 2019, \"Sources\": \"Fertiliser production\", \"Quantity (Mt CO2e)\": 5.099455083961265}, {\"Year\": 2019, \"Sources\": \"Fodder production\", \"Quantity (Mt CO2e)\": 1.4319129183006076}, {\"Year\": 2019, \"Sources\": \"Fuel Use livestock\", \"Quantity (Mt CO2e)\": 5.57054774658178}, {\"Year\": 2019, \"Sources\": \"Harvesting\", \"Quantity (Mt CO2e)\": 0.3522551170195082}, {\"Year\": 2019, \"Sources\": \"Irrigation\", \"Quantity (Mt CO2e)\": 0.20472854286557232}, {\"Year\": 2019, \"Sources\": \"Livestock Enteric Fermentation (biogenic)\", \"Quantity (Mt CO2e)\": 54.20879373086431}, {\"Year\": 2019, \"Sources\": \"Livestock Manure Management (biogenic)\", \"Quantity (Mt CO2e)\": 0.29969432894086995}, {\"Year\": 2019, \"Sources\": \"Pasture Seed production\", \"Quantity (Mt CO2e)\": 4.8855091555830965}, {\"Year\": 2019, \"Sources\": \"Pesticide production\", \"Quantity (Mt CO2e)\": 2.351251510135211}, {\"Year\": 2019, \"Sources\": \"Sowing\", \"Quantity (Mt CO2e)\": 0.9554059255649024}, {\"Year\": 2020, \"Sources\": \"Agricultural soils: Animal production, dung and urine\", \"Quantity (Mt CO2e)\": 4.315493041948646}, {\"Year\": 2020, \"Sources\": \"Agricultural soils: Direct Soil Emissions (biogenic)\", \"Quantity (Mt CO2e)\": 2.823678095340123}, {\"Year\": 2020, \"Sources\": \"Agricultural soils: Indirect leaching and runoff\", \"Quantity (Mt CO2e)\": 2.638725931220252}, {\"Year\": 2020, \"Sources\": \"Chemical Application\", \"Quantity (Mt CO2e)\": 1.801635291748877}, {\"Year\": 2020, \"Sources\": \"Crop Management\", \"Quantity (Mt CO2e)\": 0.026573828499678796}, {\"Year\": 2020, \"Sources\": \"Cultivation\", \"Quantity (Mt CO2e)\": 0.8171947165559926}, {\"Year\": 2020, \"Sources\": \"Electricity Use livestock\", \"Quantity (Mt CO2e)\": 0.2867899929427422}, {\"Year\": 2020, \"Sources\": \"Fertiliser production\", \"Quantity (Mt CO2e)\": 5.099476973792771}, {\"Year\": 2020, \"Sources\": \"Fodder production\", \"Quantity (Mt CO2e)\": 1.426423015680226}, {\"Year\": 2020, \"Sources\": \"Fuel Use livestock\", \"Quantity (Mt CO2e)\": 5.51887093542584}, {\"Year\": 2020, \"Sources\": \"Harvesting\", \"Quantity (Mt CO2e)\": 0.35068030553855606}, {\"Year\": 2020, \"Sources\": \"Irrigation\", \"Quantity (Mt CO2e)\": 0.20093446978219992}, {\"Year\": 2020, \"Sources\": \"Livestock Enteric Fermentation (biogenic)\", \"Quantity (Mt CO2e)\": 54.070410316710365}, {\"Year\": 2020, \"Sources\": \"Livestock Manure Management (biogenic)\", \"Quantity (Mt CO2e)\": 0.2964281374450237}, {\"Year\": 2020, \"Sources\": \"Pasture Seed production\", \"Quantity (Mt CO2e)\": 4.895039107297111}, {\"Year\": 2020, \"Sources\": \"Pesticide production\", \"Quantity (Mt CO2e)\": 2.3413043167313443}, {\"Year\": 2020, \"Sources\": \"Sowing\", \"Quantity (Mt CO2e)\": 0.951408428381932}, {\"Year\": 2021, \"Sources\": \"Agricultural soils: Animal production, dung and urine\", \"Quantity (Mt CO2e)\": 4.279050169365989}, {\"Year\": 2021, \"Sources\": \"Agricultural soils: Direct Soil Emissions (biogenic)\", \"Quantity (Mt CO2e)\": 2.8216602356039475}, {\"Year\": 2021, \"Sources\": \"Agricultural soils: Indirect leaching and runoff\", \"Quantity (Mt CO2e)\": 2.6253916343452697}, {\"Year\": 2021, \"Sources\": \"Chemical Application\", \"Quantity (Mt CO2e)\": 1.8078133700536283}, {\"Year\": 2021, \"Sources\": \"Crop Management\", \"Quantity (Mt CO2e)\": 0.02655651349752353}, {\"Year\": 2021, \"Sources\": \"Cultivation\", \"Quantity (Mt CO2e)\": 0.8227809264109508}, {\"Year\": 2021, \"Sources\": \"Electricity Use livestock\", \"Quantity (Mt CO2e)\": 0.28099996033131447}, {\"Year\": 2021, \"Sources\": \"Fertiliser production\", \"Quantity (Mt CO2e)\": 5.1123676466594725}, {\"Year\": 2021, \"Sources\": \"Fodder production\", \"Quantity (Mt CO2e)\": 1.413531892631056}, {\"Year\": 2021, \"Sources\": \"Fuel Use livestock\", \"Quantity (Mt CO2e)\": 5.509266674545172}, {\"Year\": 2021, \"Sources\": \"Harvesting\", \"Quantity (Mt CO2e)\": 0.35781139897498526}, {\"Year\": 2021, \"Sources\": \"Irrigation\", \"Quantity (Mt CO2e)\": 0.19809398180872026}, {\"Year\": 2021, \"Sources\": \"Livestock Enteric Fermentation (biogenic)\", \"Quantity (Mt CO2e)\": 53.61526562919519}, {\"Year\": 2021, \"Sources\": \"Livestock Manure Management (biogenic)\", \"Quantity (Mt CO2e)\": 0.2944151816895232}, {\"Year\": 2021, \"Sources\": \"Pasture Seed production\", \"Quantity (Mt CO2e)\": 4.845749794809219}, {\"Year\": 2021, \"Sources\": \"Pesticide production\", \"Quantity (Mt CO2e)\": 2.3653393781920546}, {\"Year\": 2021, \"Sources\": \"Sowing\", \"Quantity (Mt CO2e)\": 0.953138163388267}, {\"Year\": 2022, \"Sources\": \"Agricultural soils: Animal production, dung and urine\", \"Quantity (Mt CO2e)\": 4.241241829200442}, {\"Year\": 2022, \"Sources\": \"Agricultural soils: Direct Soil Emissions (biogenic)\", \"Quantity (Mt CO2e)\": 2.826012507200406}, {\"Year\": 2022, \"Sources\": \"Agricultural soils: Indirect leaching and runoff\", \"Quantity (Mt CO2e)\": 2.609674794988057}, {\"Year\": 2022, \"Sources\": \"Chemical Application\", \"Quantity (Mt CO2e)\": 1.815150288455132}, {\"Year\": 2022, \"Sources\": \"Crop Management\", \"Quantity (Mt CO2e)\": 0.026560268022194262}, {\"Year\": 2022, \"Sources\": \"Cultivation\", \"Quantity (Mt CO2e)\": 0.8209035569834706}, {\"Year\": 2022, \"Sources\": \"Electricity Use livestock\", \"Quantity (Mt CO2e)\": 0.2782663218805619}, {\"Year\": 2022, \"Sources\": \"Fertiliser production\", \"Quantity (Mt CO2e)\": 5.127299430708193}, {\"Year\": 2022, \"Sources\": \"Fodder production\", \"Quantity (Mt CO2e)\": 1.3996177016829148}, {\"Year\": 2022, \"Sources\": \"Fuel Use livestock\", \"Quantity (Mt CO2e)\": 5.4808061306614615}, {\"Year\": 2022, \"Sources\": \"Harvesting\", \"Quantity (Mt CO2e)\": 0.36254187507003127}, {\"Year\": 2022, \"Sources\": \"Irrigation\", \"Quantity (Mt CO2e)\": 0.19513036735056774}, {\"Year\": 2022, \"Sources\": \"Livestock Enteric Fermentation (biogenic)\", \"Quantity (Mt CO2e)\": 53.16880189400419}, {\"Year\": 2022, \"Sources\": \"Livestock Manure Management (biogenic)\", \"Quantity (Mt CO2e)\": 0.2917383714477282}, {\"Year\": 2022, \"Sources\": \"Pasture Seed production\", \"Quantity (Mt CO2e)\": 4.807879839984245}, {\"Year\": 2022, \"Sources\": \"Pesticide production\", \"Quantity (Mt CO2e)\": 2.38124283959896}, {\"Year\": 2022, \"Sources\": \"Sowing\", \"Quantity (Mt CO2e)\": 0.9560497523872608}, {\"Year\": 2023, \"Sources\": \"Agricultural soils: Animal production, dung and urine\", \"Quantity (Mt CO2e)\": 4.2050074370050865}, {\"Year\": 2023, \"Sources\": \"Agricultural soils: Direct Soil Emissions (biogenic)\", \"Quantity (Mt CO2e)\": 2.8350441527861694}, {\"Year\": 2023, \"Sources\": \"Agricultural soils: Indirect leaching and runoff\", \"Quantity (Mt CO2e)\": 2.5954830098871966}, {\"Year\": 2023, \"Sources\": \"Chemical Application\", \"Quantity (Mt CO2e)\": 1.818444311785233}, {\"Year\": 2023, \"Sources\": \"Crop Management\", \"Quantity (Mt CO2e)\": 0.02645309391216564}, {\"Year\": 2023, \"Sources\": \"Cultivation\", \"Quantity (Mt CO2e)\": 0.8167736905045362}, {\"Year\": 2023, \"Sources\": \"Electricity Use livestock\", \"Quantity (Mt CO2e)\": 0.27638089017842454}, {\"Year\": 2023, \"Sources\": \"Fertiliser production\", \"Quantity (Mt CO2e)\": 5.151590876002386}, {\"Year\": 2023, \"Sources\": \"Fodder production\", \"Quantity (Mt CO2e)\": 1.3859760372681003}, {\"Year\": 2023, \"Sources\": \"Fuel Use livestock\", \"Quantity (Mt CO2e)\": 5.458772677384765}, {\"Year\": 2023, \"Sources\": \"Harvesting\", \"Quantity (Mt CO2e)\": 0.3637130852375713}, {\"Year\": 2023, \"Sources\": \"Irrigation\", \"Quantity (Mt CO2e)\": 0.19175810395907145}, {\"Year\": 2023, \"Sources\": \"Livestock Enteric Fermentation (biogenic)\", \"Quantity (Mt CO2e)\": 52.72580724388225}, {\"Year\": 2023, \"Sources\": \"Livestock Manure Management (biogenic)\", \"Quantity (Mt CO2e)\": 0.29024938869142325}, {\"Year\": 2023, \"Sources\": \"Pasture Seed production\", \"Quantity (Mt CO2e)\": 4.770702674734381}, {\"Year\": 2023, \"Sources\": \"Pesticide production\", \"Quantity (Mt CO2e)\": 2.3867217501940483}, {\"Year\": 2023, \"Sources\": \"Sowing\", \"Quantity (Mt CO2e)\": 0.9584735428167183}, {\"Year\": 2024, \"Sources\": \"Agricultural soils: Animal production, dung and urine\", \"Quantity (Mt CO2e)\": 4.170595181390266}, {\"Year\": 2024, \"Sources\": \"Agricultural soils: Direct Soil Emissions (biogenic)\", \"Quantity (Mt CO2e)\": 2.8558952110410316}, {\"Year\": 2024, \"Sources\": \"Agricultural soils: Indirect leaching and runoff\", \"Quantity (Mt CO2e)\": 2.581888730843589}, {\"Year\": 2024, \"Sources\": \"Chemical Application\", \"Quantity (Mt CO2e)\": 1.8232358679133955}, {\"Year\": 2024, \"Sources\": \"Crop Management\", \"Quantity (Mt CO2e)\": 0.026485422311129027}, {\"Year\": 2024, \"Sources\": \"Cultivation\", \"Quantity (Mt CO2e)\": 0.8135672560422692}, {\"Year\": 2024, \"Sources\": \"Electricity Use livestock\", \"Quantity (Mt CO2e)\": 0.27347351498876127}, {\"Year\": 2024, \"Sources\": \"Fertiliser production\", \"Quantity (Mt CO2e)\": 5.173054514615979}, {\"Year\": 2024, \"Sources\": \"Fodder production\", \"Quantity (Mt CO2e)\": 1.373918482432878}, {\"Year\": 2024, \"Sources\": \"Fuel Use livestock\", \"Quantity (Mt CO2e)\": 5.445760429077018}, {\"Year\": 2024, \"Sources\": \"Harvesting\", \"Quantity (Mt CO2e)\": 0.36458403665901984}, {\"Year\": 2024, \"Sources\": \"Irrigation\", \"Quantity (Mt CO2e)\": 0.19413174435185693}, {\"Year\": 2024, \"Sources\": \"Livestock Enteric Fermentation (biogenic)\", \"Quantity (Mt CO2e)\": 52.32216977031982}, {\"Year\": 2024, \"Sources\": \"Livestock Manure Management (biogenic)\", \"Quantity (Mt CO2e)\": 0.2879809143935612}, {\"Year\": 2024, \"Sources\": \"Pasture Seed production\", \"Quantity (Mt CO2e)\": 4.748110692051311}, {\"Year\": 2024, \"Sources\": \"Pesticide production\", \"Quantity (Mt CO2e)\": 2.3907925896423525}, {\"Year\": 2024, \"Sources\": \"Sowing\", \"Quantity (Mt CO2e)\": 0.9619770560597721}, {\"Year\": 2025, \"Sources\": \"Agricultural soils: Animal production, dung and urine\", \"Quantity (Mt CO2e)\": 4.141626619555727}, {\"Year\": 2025, \"Sources\": \"Agricultural soils: Direct Soil Emissions (biogenic)\", \"Quantity (Mt CO2e)\": 2.86098879641384}, {\"Year\": 2025, \"Sources\": \"Agricultural soils: Indirect leaching and runoff\", \"Quantity (Mt CO2e)\": 2.571081873029239}, {\"Year\": 2025, \"Sources\": \"Chemical Application\", \"Quantity (Mt CO2e)\": 1.8350083148454397}, {\"Year\": 2025, \"Sources\": \"Crop Management\", \"Quantity (Mt CO2e)\": 0.02632707825218359}, {\"Year\": 2025, \"Sources\": \"Cultivation\", \"Quantity (Mt CO2e)\": 0.812258006358927}, {\"Year\": 2025, \"Sources\": \"Electricity Use livestock\", \"Quantity (Mt CO2e)\": 0.2715705089458881}, {\"Year\": 2025, \"Sources\": \"Fertiliser production\", \"Quantity (Mt CO2e)\": 5.196971520517416}, {\"Year\": 2025, \"Sources\": \"Fodder production\", \"Quantity (Mt CO2e)\": 1.36418701806986}, {\"Year\": 2025, \"Sources\": \"Fuel Use livestock\", \"Quantity (Mt CO2e)\": 5.438174800158845}, {\"Year\": 2025, \"Sources\": \"Harvesting\", \"Quantity (Mt CO2e)\": 0.36673756781611117}, {\"Year\": 2025, \"Sources\": \"Irrigation\", \"Quantity (Mt CO2e)\": 0.19332220336634814}, {\"Year\": 2025, \"Sources\": \"Livestock Enteric Fermentation (biogenic)\", \"Quantity (Mt CO2e)\": 51.95632490503481}, {\"Year\": 2025, \"Sources\": \"Livestock Manure Management (biogenic)\", \"Quantity (Mt CO2e)\": 0.28735034652277286}, {\"Year\": 2025, \"Sources\": \"Pasture Seed production\", \"Quantity (Mt CO2e)\": 4.719632078570874}, {\"Year\": 2025, \"Sources\": \"Pesticide production\", \"Quantity (Mt CO2e)\": 2.403533477483411}, {\"Year\": 2025, \"Sources\": \"Sowing\", \"Quantity (Mt CO2e)\": 0.969030648019377}, {\"Year\": 2026, \"Sources\": \"Agricultural soils: Animal production, dung and urine\", \"Quantity (Mt CO2e)\": 4.114105405324356}, {\"Year\": 2026, \"Sources\": \"Agricultural soils: Direct Soil Emissions (biogenic)\", \"Quantity (Mt CO2e)\": 2.862488648550879}, {\"Year\": 2026, \"Sources\": \"Agricultural soils: Indirect leaching and runoff\", \"Quantity (Mt CO2e)\": 2.5623623364452977}, {\"Year\": 2026, \"Sources\": \"Chemical Application\", \"Quantity (Mt CO2e)\": 1.8400488392568783}, {\"Year\": 2026, \"Sources\": \"Crop Management\", \"Quantity (Mt CO2e)\": 0.026261683600515107}, {\"Year\": 2026, \"Sources\": \"Cultivation\", \"Quantity (Mt CO2e)\": 0.8078977187610817}, {\"Year\": 2026, \"Sources\": \"Electricity Use livestock\", \"Quantity (Mt CO2e)\": 0.2726677429290425}, {\"Year\": 2026, \"Sources\": \"Fertiliser production\", \"Quantity (Mt CO2e)\": 5.210864828854596}, {\"Year\": 2026, \"Sources\": \"Fodder production\", \"Quantity (Mt CO2e)\": 1.356667453162535}, {\"Year\": 2026, \"Sources\": \"Fuel Use livestock\", \"Quantity (Mt CO2e)\": 5.431403291172876}, {\"Year\": 2026, \"Sources\": \"Harvesting\", \"Quantity (Mt CO2e)\": 0.36751639452806784}, {\"Year\": 2026, \"Sources\": \"Irrigation\", \"Quantity (Mt CO2e)\": 0.19285207023244616}, {\"Year\": 2026, \"Sources\": \"Livestock Enteric Fermentation (biogenic)\", \"Quantity (Mt CO2e)\": 51.58645296363195}, {\"Year\": 2026, \"Sources\": \"Livestock Manure Management (biogenic)\", \"Quantity (Mt CO2e)\": 0.2867321103287372}, {\"Year\": 2026, \"Sources\": \"Pasture Seed production\", \"Quantity (Mt CO2e)\": 4.695567404587523}, {\"Year\": 2026, \"Sources\": \"Pesticide production\", \"Quantity (Mt CO2e)\": 2.411087289860396}, {\"Year\": 2026, \"Sources\": \"Sowing\", \"Quantity (Mt CO2e)\": 0.973135263007185}, {\"Year\": 2027, \"Sources\": \"Agricultural soils: Animal production, dung and urine\", \"Quantity (Mt CO2e)\": 4.086190109962646}, {\"Year\": 2027, \"Sources\": \"Agricultural soils: Direct Soil Emissions (biogenic)\", \"Quantity (Mt CO2e)\": 2.8653919296600905}, {\"Year\": 2027, \"Sources\": \"Agricultural soils: Indirect leaching and runoff\", \"Quantity (Mt CO2e)\": 2.5528687705784203}, {\"Year\": 2027, \"Sources\": \"Chemical Application\", \"Quantity (Mt CO2e)\": 1.8458883045073036}, {\"Year\": 2027, \"Sources\": \"Crop Management\", \"Quantity (Mt CO2e)\": 0.026346950413630943}, {\"Year\": 2027, \"Sources\": \"Cultivation\", \"Quantity (Mt CO2e)\": 0.7968227010451052}, {\"Year\": 2027, \"Sources\": \"Electricity Use livestock\", \"Quantity (Mt CO2e)\": 0.270975534945112}, {\"Year\": 2027, \"Sources\": \"Fertiliser production\", \"Quantity (Mt CO2e)\": 5.220876975007074}, {\"Year\": 2027, \"Sources\": \"Fodder production\", \"Quantity (Mt CO2e)\": 1.3486895894684376}, {\"Year\": 2027, \"Sources\": \"Fuel Use livestock\", \"Quantity (Mt CO2e)\": 5.412270659032422}, {\"Year\": 2027, \"Sources\": \"Harvesting\", \"Quantity (Mt CO2e)\": 0.3695366648441709}, {\"Year\": 2027, \"Sources\": \"Irrigation\", \"Quantity (Mt CO2e)\": 0.18985007101796278}, {\"Year\": 2027, \"Sources\": \"Livestock Enteric Fermentation (biogenic)\", \"Quantity (Mt CO2e)\": 51.22269112127589}, {\"Year\": 2027, \"Sources\": \"Livestock Manure Management (biogenic)\", \"Quantity (Mt CO2e)\": 0.2863538739921985}, {\"Year\": 2027, \"Sources\": \"Pasture Seed production\", \"Quantity (Mt CO2e)\": 4.67721134314292}, {\"Year\": 2027, \"Sources\": \"Pesticide production\", \"Quantity (Mt CO2e)\": 2.4152832259941683}, {\"Year\": 2027, \"Sources\": \"Sowing\", \"Quantity (Mt CO2e)\": 0.9760869379435501}, {\"Year\": 2028, \"Sources\": \"Agricultural soils: Animal production, dung and urine\", \"Quantity (Mt CO2e)\": 4.058152256166736}, {\"Year\": 2028, \"Sources\": \"Agricultural soils: Direct Soil Emissions (biogenic)\", \"Quantity (Mt CO2e)\": 2.8659052964979237}, {\"Year\": 2028, \"Sources\": \"Agricultural soils: Indirect leaching and runoff\", \"Quantity (Mt CO2e)\": 2.5405768024738355}, {\"Year\": 2028, \"Sources\": \"Chemical Application\", \"Quantity (Mt CO2e)\": 1.8463363735117575}, {\"Year\": 2028, \"Sources\": \"Crop Management\", \"Quantity (Mt CO2e)\": 0.026437035972785287}, {\"Year\": 2028, \"Sources\": \"Cultivation\", \"Quantity (Mt CO2e)\": 0.7903813439787252}, {\"Year\": 2028, \"Sources\": \"Electricity Use livestock\", \"Quantity (Mt CO2e)\": 0.27057563723206024}, {\"Year\": 2028, \"Sources\": \"Fertiliser production\", \"Quantity (Mt CO2e)\": 5.23553508807636}, {\"Year\": 2028, \"Sources\": \"Fodder production\", \"Quantity (Mt CO2e)\": 1.3372552591150761}, {\"Year\": 2028, \"Sources\": \"Fuel Use livestock\", \"Quantity (Mt CO2e)\": 5.40161765609808}, {\"Year\": 2028, \"Sources\": \"Harvesting\", \"Quantity (Mt CO2e)\": 0.3709796218271996}, {\"Year\": 2028, \"Sources\": \"Irrigation\", \"Quantity (Mt CO2e)\": 0.1885020844970303}, {\"Year\": 2028, \"Sources\": \"Livestock Enteric Fermentation (biogenic)\", \"Quantity (Mt CO2e)\": 50.89421692462582}, {\"Year\": 2028, \"Sources\": \"Livestock Manure Management (biogenic)\", \"Quantity (Mt CO2e)\": 0.28327740222836295}, {\"Year\": 2028, \"Sources\": \"Pasture Seed production\", \"Quantity (Mt CO2e)\": 4.653310451109121}, {\"Year\": 2028, \"Sources\": \"Pesticide production\", \"Quantity (Mt CO2e)\": 2.4275676296156203}, {\"Year\": 2028, \"Sources\": \"Sowing\", \"Quantity (Mt CO2e)\": 0.9794638306563556}, {\"Year\": 2029, \"Sources\": \"Agricultural soils: Animal production, dung and urine\", \"Quantity (Mt CO2e)\": 4.028257283216373}, {\"Year\": 2029, \"Sources\": \"Agricultural soils: Direct Soil Emissions (biogenic)\", \"Quantity (Mt CO2e)\": 2.866511136676197}, {\"Year\": 2029, \"Sources\": \"Agricultural soils: Indirect leaching and runoff\", \"Quantity (Mt CO2e)\": 2.5298941689960763}, {\"Year\": 2029, \"Sources\": \"Chemical Application\", \"Quantity (Mt CO2e)\": 1.84601771771582}, {\"Year\": 2029, \"Sources\": \"Crop Management\", \"Quantity (Mt CO2e)\": 0.026204630261821616}, {\"Year\": 2029, \"Sources\": \"Cultivation\", \"Quantity (Mt CO2e)\": 0.7833069798041284}, {\"Year\": 2029, \"Sources\": \"Electricity Use livestock\", \"Quantity (Mt CO2e)\": 0.27079288223596865}, {\"Year\": 2029, \"Sources\": \"Fertiliser production\", \"Quantity (Mt CO2e)\": 5.230082182599655}, {\"Year\": 2029, \"Sources\": \"Fodder production\", \"Quantity (Mt CO2e)\": 1.3300339308649907}, {\"Year\": 2029, \"Sources\": \"Fuel Use livestock\", \"Quantity (Mt CO2e)\": 5.401914865041709}, {\"Year\": 2029, \"Sources\": \"Harvesting\", \"Quantity (Mt CO2e)\": 0.37266701477581166}, {\"Year\": 2029, \"Sources\": \"Irrigation\", \"Quantity (Mt CO2e)\": 0.18667915430119836}, {\"Year\": 2029, \"Sources\": \"Livestock Enteric Fermentation (biogenic)\", \"Quantity (Mt CO2e)\": 50.52864935719283}, {\"Year\": 2029, \"Sources\": \"Livestock Manure Management (biogenic)\", \"Quantity (Mt CO2e)\": 0.2846204811834902}, {\"Year\": 2029, \"Sources\": \"Pasture Seed production\", \"Quantity (Mt CO2e)\": 4.620022282640254}, {\"Year\": 2029, \"Sources\": \"Pesticide production\", \"Quantity (Mt CO2e)\": 2.4323826933411166}, {\"Year\": 2029, \"Sources\": \"Sowing\", \"Quantity (Mt CO2e)\": 0.9816374606735917}, {\"Year\": 2030, \"Sources\": \"Agricultural soils: Animal production, dung and urine\", \"Quantity (Mt CO2e)\": 4.002768818064345}, {\"Year\": 2030, \"Sources\": \"Agricultural soils: Direct Soil Emissions (biogenic)\", \"Quantity (Mt CO2e)\": 2.872780053136515}, {\"Year\": 2030, \"Sources\": \"Agricultural soils: Indirect leaching and runoff\", \"Quantity (Mt CO2e)\": 2.521183034707403}, {\"Year\": 2030, \"Sources\": \"Chemical Application\", \"Quantity (Mt CO2e)\": 1.8532321461641195}, {\"Year\": 2030, \"Sources\": \"Crop Management\", \"Quantity (Mt CO2e)\": 0.026405038320923807}, {\"Year\": 2030, \"Sources\": \"Cultivation\", \"Quantity (Mt CO2e)\": 0.7856871242280403}, {\"Year\": 2030, \"Sources\": \"Electricity Use livestock\", \"Quantity (Mt CO2e)\": 0.265692804544972}, {\"Year\": 2030, \"Sources\": \"Fertiliser production\", \"Quantity (Mt CO2e)\": 5.242018555445562}, {\"Year\": 2030, \"Sources\": \"Fodder production\", \"Quantity (Mt CO2e)\": 1.3214316116893277}, {\"Year\": 2030, \"Sources\": \"Fuel Use livestock\", \"Quantity (Mt CO2e)\": 5.390799832310327}, {\"Year\": 2030, \"Sources\": \"Harvesting\", \"Quantity (Mt CO2e)\": 0.37925148340118786}, {\"Year\": 2030, \"Sources\": \"Irrigation\", \"Quantity (Mt CO2e)\": 0.18415632400069373}, {\"Year\": 2030, \"Sources\": \"Livestock Enteric Fermentation (biogenic)\", \"Quantity (Mt CO2e)\": 50.21734263283076}, {\"Year\": 2030, \"Sources\": \"Livestock Manure Management (biogenic)\", \"Quantity (Mt CO2e)\": 0.2812766666718372}, {\"Year\": 2030, \"Sources\": \"Pasture Seed production\", \"Quantity (Mt CO2e)\": 4.596592457188044}, {\"Year\": 2030, \"Sources\": \"Pesticide production\", \"Quantity (Mt CO2e)\": 2.461959774084691}, {\"Year\": 2030, \"Sources\": \"Sowing\", \"Quantity (Mt CO2e)\": 0.9846482640884536}, {\"Year\": 2031, \"Sources\": \"Agricultural soils: Animal production, dung and urine\", \"Quantity (Mt CO2e)\": 3.977723266916433}, {\"Year\": 2031, \"Sources\": \"Agricultural soils: Direct Soil Emissions (biogenic)\", \"Quantity (Mt CO2e)\": 2.862971402492142}, {\"Year\": 2031, \"Sources\": \"Agricultural soils: Indirect leaching and runoff\", \"Quantity (Mt CO2e)\": 2.515868399773155}, {\"Year\": 2031, \"Sources\": \"Chemical Application\", \"Quantity (Mt CO2e)\": 1.8618401553189692}, {\"Year\": 2031, \"Sources\": \"Crop Management\", \"Quantity (Mt CO2e)\": 0.026123265495016423}, {\"Year\": 2031, \"Sources\": \"Cultivation\", \"Quantity (Mt CO2e)\": 0.7852554668877535}, {\"Year\": 2031, \"Sources\": \"Electricity Use livestock\", \"Quantity (Mt CO2e)\": 0.26946512589716076}, {\"Year\": 2031, \"Sources\": \"Fertiliser production\", \"Quantity (Mt CO2e)\": 5.240494035083967}, {\"Year\": 2031, \"Sources\": \"Fodder production\", \"Quantity (Mt CO2e)\": 1.3170914276618888}, {\"Year\": 2031, \"Sources\": \"Fuel Use livestock\", \"Quantity (Mt CO2e)\": 5.398068801338034}, {\"Year\": 2031, \"Sources\": \"Harvesting\", \"Quantity (Mt CO2e)\": 0.38840783023071407}, {\"Year\": 2031, \"Sources\": \"Irrigation\", \"Quantity (Mt CO2e)\": 0.18193385821364716}, {\"Year\": 2031, \"Sources\": \"Livestock Enteric Fermentation (biogenic)\", \"Quantity (Mt CO2e)\": 49.89844799427765}, {\"Year\": 2031, \"Sources\": \"Livestock Manure Management (biogenic)\", \"Quantity (Mt CO2e)\": 0.28344634649356987}, {\"Year\": 2031, \"Sources\": \"Pasture Seed production\", \"Quantity (Mt CO2e)\": 4.570383932974092}, {\"Year\": 2031, \"Sources\": \"Pesticide production\", \"Quantity (Mt CO2e)\": 2.4888309437789826}, {\"Year\": 2031, \"Sources\": \"Sowing\", \"Quantity (Mt CO2e)\": 0.9877938728268767}, {\"Year\": 2032, \"Sources\": \"Agricultural soils: Animal production, dung and urine\", \"Quantity (Mt CO2e)\": 3.943243174218759}, {\"Year\": 2032, \"Sources\": \"Agricultural soils: Direct Soil Emissions (biogenic)\", \"Quantity (Mt CO2e)\": 2.867747629952345}, {\"Year\": 2032, \"Sources\": \"Agricultural soils: Indirect leaching and runoff\", \"Quantity (Mt CO2e)\": 2.504836560518747}, {\"Year\": 2032, \"Sources\": \"Chemical Application\", \"Quantity (Mt CO2e)\": 1.8573752574773186}, {\"Year\": 2032, \"Sources\": \"Crop Management\", \"Quantity (Mt CO2e)\": 0.025918168570680817}, {\"Year\": 2032, \"Sources\": \"Cultivation\", \"Quantity (Mt CO2e)\": 0.784475716270991}, {\"Year\": 2032, \"Sources\": \"Electricity Use livestock\", \"Quantity (Mt CO2e)\": 0.2734023309109015}, {\"Year\": 2032, \"Sources\": \"Fertiliser production\", \"Quantity (Mt CO2e)\": 5.2129798428830805}, {\"Year\": 2032, \"Sources\": \"Fodder production\", \"Quantity (Mt CO2e)\": 1.3047306369626002}, {\"Year\": 2032, \"Sources\": \"Fuel Use livestock\", \"Quantity (Mt CO2e)\": 5.388506873896743}, {\"Year\": 2032, \"Sources\": \"Harvesting\", \"Quantity (Mt CO2e)\": 0.39815829497556093}, {\"Year\": 2032, \"Sources\": \"Irrigation\", \"Quantity (Mt CO2e)\": 0.17994401789206493}, {\"Year\": 2032, \"Sources\": \"Livestock Enteric Fermentation (biogenic)\", \"Quantity (Mt CO2e)\": 49.439798002339494}, {\"Year\": 2032, \"Sources\": \"Livestock Manure Management (biogenic)\", \"Quantity (Mt CO2e)\": 0.28026618395368585}, {\"Year\": 2032, \"Sources\": \"Pasture Seed production\", \"Quantity (Mt CO2e)\": 4.5467769130597455}, {\"Year\": 2032, \"Sources\": \"Pesticide production\", \"Quantity (Mt CO2e)\": 2.5041067025189307}, {\"Year\": 2032, \"Sources\": \"Sowing\", \"Quantity (Mt CO2e)\": 0.983000207154642}, {\"Year\": 2033, \"Sources\": \"Agricultural soils: Animal production, dung and urine\", \"Quantity (Mt CO2e)\": 3.9152828431454414}, {\"Year\": 2033, \"Sources\": \"Agricultural soils: Direct Soil Emissions (biogenic)\", \"Quantity (Mt CO2e)\": 2.8544650045435054}, {\"Year\": 2033, \"Sources\": \"Agricultural soils: Indirect leaching and runoff\", \"Quantity (Mt CO2e)\": 2.4975670581846954}, {\"Year\": 2033, \"Sources\": \"Chemical Application\", \"Quantity (Mt CO2e)\": 1.8504716416785982}, {\"Year\": 2033, \"Sources\": \"Crop Management\", \"Quantity (Mt CO2e)\": 0.025593912995461054}, {\"Year\": 2033, \"Sources\": \"Cultivation\", \"Quantity (Mt CO2e)\": 0.7833804300564977}, {\"Year\": 2033, \"Sources\": \"Electricity Use livestock\", \"Quantity (Mt CO2e)\": 0.29331150330348965}, {\"Year\": 2033, \"Sources\": \"Fertiliser production\", \"Quantity (Mt CO2e)\": 5.192089279999769}, {\"Year\": 2033, \"Sources\": \"Fodder production\", \"Quantity (Mt CO2e)\": 1.2994789115523073}, {\"Year\": 2033, \"Sources\": \"Fuel Use livestock\", \"Quantity (Mt CO2e)\": 5.417251912374279}, {\"Year\": 2033, \"Sources\": \"Harvesting\", \"Quantity (Mt CO2e)\": 0.40634965240184945}, {\"Year\": 2033, \"Sources\": \"Irrigation\", \"Quantity (Mt CO2e)\": 0.17782166543058642}, {\"Year\": 2033, \"Sources\": \"Livestock Enteric Fermentation (biogenic)\", \"Quantity (Mt CO2e)\": 49.07237799154533}, {\"Year\": 2033, \"Sources\": \"Livestock Manure Management (biogenic)\", \"Quantity (Mt CO2e)\": 0.2857955720000836}, {\"Year\": 2033, \"Sources\": \"Pasture Seed production\", \"Quantity (Mt CO2e)\": 4.53145455292189}, {\"Year\": 2033, \"Sources\": \"Pesticide production\", \"Quantity (Mt CO2e)\": 2.530603382634061}, {\"Year\": 2033, \"Sources\": \"Sowing\", \"Quantity (Mt CO2e)\": 0.9789879727740879}, {\"Year\": 2034, \"Sources\": \"Agricultural soils: Animal production, dung and urine\", \"Quantity (Mt CO2e)\": 3.8836603450679803}, {\"Year\": 2034, \"Sources\": \"Agricultural soils: Direct Soil Emissions (biogenic)\", \"Quantity (Mt CO2e)\": 2.864977376343295}, {\"Year\": 2034, \"Sources\": \"Agricultural soils: Indirect leaching and runoff\", \"Quantity (Mt CO2e)\": 2.487667731209522}, {\"Year\": 2034, \"Sources\": \"Chemical Application\", \"Quantity (Mt CO2e)\": 1.8352833232912396}, {\"Year\": 2034, \"Sources\": \"Crop Management\", \"Quantity (Mt CO2e)\": 0.025441511368936773}, {\"Year\": 2034, \"Sources\": \"Cultivation\", \"Quantity (Mt CO2e)\": 0.781961755078565}, {\"Year\": 2034, \"Sources\": \"Electricity Use livestock\", \"Quantity (Mt CO2e)\": 0.31182571889417066}, {\"Year\": 2034, \"Sources\": \"Fertiliser production\", \"Quantity (Mt CO2e)\": 5.146765640144059}, {\"Year\": 2034, \"Sources\": \"Fodder production\", \"Quantity (Mt CO2e)\": 1.2914049156515173}, {\"Year\": 2034, \"Sources\": \"Fuel Use livestock\", \"Quantity (Mt CO2e)\": 5.445888853162503}, {\"Year\": 2034, \"Sources\": \"Harvesting\", \"Quantity (Mt CO2e)\": 0.40854437429954393}, {\"Year\": 2034, \"Sources\": \"Irrigation\", \"Quantity (Mt CO2e)\": 0.17501432615968268}, {\"Year\": 2034, \"Sources\": \"Livestock Enteric Fermentation (biogenic)\", \"Quantity (Mt CO2e)\": 48.66112147493231}, {\"Year\": 2034, \"Sources\": \"Livestock Manure Management (biogenic)\", \"Quantity (Mt CO2e)\": 0.28655854311356066}, {\"Year\": 2034, \"Sources\": \"Pasture Seed production\", \"Quantity (Mt CO2e)\": 4.503637348803576}, {\"Year\": 2034, \"Sources\": \"Pesticide production\", \"Quantity (Mt CO2e)\": 2.522936346456356}, {\"Year\": 2034, \"Sources\": \"Sowing\", \"Quantity (Mt CO2e)\": 0.971398496942801}, {\"Year\": 2035, \"Sources\": \"Agricultural soils: Animal production, dung and urine\", \"Quantity (Mt CO2e)\": 3.855922563698071}, {\"Year\": 2035, \"Sources\": \"Agricultural soils: Direct Soil Emissions (biogenic)\", \"Quantity (Mt CO2e)\": 2.8647870732408984}, {\"Year\": 2035, \"Sources\": \"Agricultural soils: Indirect leaching and runoff\", \"Quantity (Mt CO2e)\": 2.4836578228231576}, {\"Year\": 2035, \"Sources\": \"Chemical Application\", \"Quantity (Mt CO2e)\": 1.8219428284761228}, {\"Year\": 2035, \"Sources\": \"Crop Management\", \"Quantity (Mt CO2e)\": 0.025051986763935268}, {\"Year\": 2035, \"Sources\": \"Cultivation\", \"Quantity (Mt CO2e)\": 0.7887776295217318}, {\"Year\": 2035, \"Sources\": \"Electricity Use livestock\", \"Quantity (Mt CO2e)\": 0.32371953588251867}, {\"Year\": 2035, \"Sources\": \"Fertiliser production\", \"Quantity (Mt CO2e)\": 5.131614462966663}, {\"Year\": 2035, \"Sources\": \"Fodder production\", \"Quantity (Mt CO2e)\": 1.2848027284965406}, {\"Year\": 2035, \"Sources\": \"Fuel Use livestock\", \"Quantity (Mt CO2e)\": 5.4619655249071855}, {\"Year\": 2035, \"Sources\": \"Harvesting\", \"Quantity (Mt CO2e)\": 0.40940916885871176}, {\"Year\": 2035, \"Sources\": \"Irrigation\", \"Quantity (Mt CO2e)\": 0.1718127799256148}, {\"Year\": 2035, \"Sources\": \"Livestock Enteric Fermentation (biogenic)\", \"Quantity (Mt CO2e)\": 48.29372718357467}, {\"Year\": 2035, \"Sources\": \"Livestock Manure Management (biogenic)\", \"Quantity (Mt CO2e)\": 0.28933826961171505}, {\"Year\": 2035, \"Sources\": \"Pasture Seed production\", \"Quantity (Mt CO2e)\": 4.476473579889799}, {\"Year\": 2035, \"Sources\": \"Pesticide production\", \"Quantity (Mt CO2e)\": 2.5180607294095276}, {\"Year\": 2035, \"Sources\": \"Sowing\", \"Quantity (Mt CO2e)\": 0.9674378351337223}, {\"Year\": 2036, \"Sources\": \"Agricultural soils: Animal production, dung and urine\", \"Quantity (Mt CO2e)\": 3.8208697523243296}, {\"Year\": 2036, \"Sources\": \"Agricultural soils: Direct Soil Emissions (biogenic)\", \"Quantity (Mt CO2e)\": 2.861839029788945}, {\"Year\": 2036, \"Sources\": \"Agricultural soils: Indirect leaching and runoff\", \"Quantity (Mt CO2e)\": 2.470481423657775}, {\"Year\": 2036, \"Sources\": \"Chemical Application\", \"Quantity (Mt CO2e)\": 1.8039968004771212}, {\"Year\": 2036, \"Sources\": \"Crop Management\", \"Quantity (Mt CO2e)\": 0.024728306876453623}, {\"Year\": 2036, \"Sources\": \"Cultivation\", \"Quantity (Mt CO2e)\": 0.7912914518130519}, {\"Year\": 2036, \"Sources\": \"Electricity Use livestock\", \"Quantity (Mt CO2e)\": 0.3393331965833949}, {\"Year\": 2036, \"Sources\": \"Fertiliser production\", \"Quantity (Mt CO2e)\": 5.116584431890797}, {\"Year\": 2036, \"Sources\": \"Fodder production\", \"Quantity (Mt CO2e)\": 1.277405160108393}, {\"Year\": 2036, \"Sources\": \"Fuel Use livestock\", \"Quantity (Mt CO2e)\": 5.486366418648306}, {\"Year\": 2036, \"Sources\": \"Harvesting\", \"Quantity (Mt CO2e)\": 0.4083338008024242}, {\"Year\": 2036, \"Sources\": \"Irrigation\", \"Quantity (Mt CO2e)\": 0.16763228945365433}, {\"Year\": 2036, \"Sources\": \"Livestock Enteric Fermentation (biogenic)\", \"Quantity (Mt CO2e)\": 47.85594974954336}, {\"Year\": 2036, \"Sources\": \"Livestock Manure Management (biogenic)\", \"Quantity (Mt CO2e)\": 0.2875088070112902}, {\"Year\": 2036, \"Sources\": \"Pasture Seed production\", \"Quantity (Mt CO2e)\": 4.425964179461553}, {\"Year\": 2036, \"Sources\": \"Pesticide production\", \"Quantity (Mt CO2e)\": 2.5124052782631945}, {\"Year\": 2036, \"Sources\": \"Sowing\", \"Quantity (Mt CO2e)\": 0.9605626196007919}, {\"Year\": 2037, \"Sources\": \"Agricultural soils: Animal production, dung and urine\", \"Quantity (Mt CO2e)\": 3.790888229985011}, {\"Year\": 2037, \"Sources\": \"Agricultural soils: Direct Soil Emissions (biogenic)\", \"Quantity (Mt CO2e)\": 2.866262435578033}, {\"Year\": 2037, \"Sources\": \"Agricultural soils: Indirect leaching and runoff\", \"Quantity (Mt CO2e)\": 2.473563790051929}, {\"Year\": 2037, \"Sources\": \"Chemical Application\", \"Quantity (Mt CO2e)\": 1.7836357767591824}, {\"Year\": 2037, \"Sources\": \"Crop Management\", \"Quantity (Mt CO2e)\": 0.02487005253240372}, {\"Year\": 2037, \"Sources\": \"Cultivation\", \"Quantity (Mt CO2e)\": 0.7935977101709532}, {\"Year\": 2037, \"Sources\": \"Electricity Use livestock\", \"Quantity (Mt CO2e)\": 0.35857125252346844}, {\"Year\": 2037, \"Sources\": \"Fertiliser production\", \"Quantity (Mt CO2e)\": 5.1076005781547416}, {\"Year\": 2037, \"Sources\": \"Fodder production\", \"Quantity (Mt CO2e)\": 1.2787735630658423}, {\"Year\": 2037, \"Sources\": \"Fuel Use livestock\", \"Quantity (Mt CO2e)\": 5.5042563484932145}, {\"Year\": 2037, \"Sources\": \"Harvesting\", \"Quantity (Mt CO2e)\": 0.40832768921042484}, {\"Year\": 2037, \"Sources\": \"Irrigation\", \"Quantity (Mt CO2e)\": 0.1657266133987094}, {\"Year\": 2037, \"Sources\": \"Livestock Enteric Fermentation (biogenic)\", \"Quantity (Mt CO2e)\": 47.446335596532506}, {\"Year\": 2037, \"Sources\": \"Livestock Manure Management (biogenic)\", \"Quantity (Mt CO2e)\": 0.2975030083553377}, {\"Year\": 2037, \"Sources\": \"Pasture Seed production\", \"Quantity (Mt CO2e)\": 4.3811719785461225}, {\"Year\": 2037, \"Sources\": \"Pesticide production\", \"Quantity (Mt CO2e)\": 2.506925577068767}, {\"Year\": 2037, \"Sources\": \"Sowing\", \"Quantity (Mt CO2e)\": 0.9519200958735943}, {\"Year\": 2038, \"Sources\": \"Agricultural soils: Animal production, dung and urine\", \"Quantity (Mt CO2e)\": 3.758080438545958}, {\"Year\": 2038, \"Sources\": \"Agricultural soils: Direct Soil Emissions (biogenic)\", \"Quantity (Mt CO2e)\": 2.8679528143133486}, {\"Year\": 2038, \"Sources\": \"Agricultural soils: Indirect leaching and runoff\", \"Quantity (Mt CO2e)\": 2.4718443618256827}, {\"Year\": 2038, \"Sources\": \"Chemical Application\", \"Quantity (Mt CO2e)\": 1.7573321046597894}, {\"Year\": 2038, \"Sources\": \"Crop Management\", \"Quantity (Mt CO2e)\": 0.02479180169363635}, {\"Year\": 2038, \"Sources\": \"Cultivation\", \"Quantity (Mt CO2e)\": 0.7922838349632672}, {\"Year\": 2038, \"Sources\": \"Electricity Use livestock\", \"Quantity (Mt CO2e)\": 0.385900787736691}, {\"Year\": 2038, \"Sources\": \"Fertiliser production\", \"Quantity (Mt CO2e)\": 5.066608680184023}, {\"Year\": 2038, \"Sources\": \"Fodder production\", \"Quantity (Mt CO2e)\": 1.2738873260351005}, {\"Year\": 2038, \"Sources\": \"Fuel Use livestock\", \"Quantity (Mt CO2e)\": 5.531778839645448}, {\"Year\": 2038, \"Sources\": \"Harvesting\", \"Quantity (Mt CO2e)\": 0.4087118190962035}, {\"Year\": 2038, \"Sources\": \"Irrigation\", \"Quantity (Mt CO2e)\": 0.1681691989779915}, {\"Year\": 2038, \"Sources\": \"Livestock Enteric Fermentation (biogenic)\", \"Quantity (Mt CO2e)\": 46.96956324845103}, {\"Year\": 2038, \"Sources\": \"Livestock Manure Management (biogenic)\", \"Quantity (Mt CO2e)\": 0.3006118390696151}, {\"Year\": 2038, \"Sources\": \"Pasture Seed production\", \"Quantity (Mt CO2e)\": 4.33102013839132}, {\"Year\": 2038, \"Sources\": \"Pesticide production\", \"Quantity (Mt CO2e)\": 2.5034762604276217}, {\"Year\": 2038, \"Sources\": \"Sowing\", \"Quantity (Mt CO2e)\": 0.9385678218224939}, {\"Year\": 2039, \"Sources\": \"Agricultural soils: Animal production, dung and urine\", \"Quantity (Mt CO2e)\": 3.72947668612676}, {\"Year\": 2039, \"Sources\": \"Agricultural soils: Direct Soil Emissions (biogenic)\", \"Quantity (Mt CO2e)\": 2.8431483288778217}, {\"Year\": 2039, \"Sources\": \"Agricultural soils: Indirect leaching and runoff\", \"Quantity (Mt CO2e)\": 2.476550057372143}, {\"Year\": 2039, \"Sources\": \"Chemical Application\", \"Quantity (Mt CO2e)\": 1.708127129277792}, {\"Year\": 2039, \"Sources\": \"Crop Management\", \"Quantity (Mt CO2e)\": 0.024609556350595377}, {\"Year\": 2039, \"Sources\": \"Cultivation\", \"Quantity (Mt CO2e)\": 0.7878844560657825}, {\"Year\": 2039, \"Sources\": \"Electricity Use livestock\", \"Quantity (Mt CO2e)\": 0.4070040445578401}, {\"Year\": 2039, \"Sources\": \"Fertiliser production\", \"Quantity (Mt CO2e)\": 4.99005401926957}, {\"Year\": 2039, \"Sources\": \"Fodder production\", \"Quantity (Mt CO2e)\": 1.277441875364505}, {\"Year\": 2039, \"Sources\": \"Fuel Use livestock\", \"Quantity (Mt CO2e)\": 5.554256607283435}, {\"Year\": 2039, \"Sources\": \"Harvesting\", \"Quantity (Mt CO2e)\": 0.40506949532528325}, {\"Year\": 2039, \"Sources\": \"Irrigation\", \"Quantity (Mt CO2e)\": 0.16767197192839833}, {\"Year\": 2039, \"Sources\": \"Livestock Enteric Fermentation (biogenic)\", \"Quantity (Mt CO2e)\": 46.562463540008835}, {\"Year\": 2039, \"Sources\": \"Livestock Manure Management (biogenic)\", \"Quantity (Mt CO2e)\": 0.31065876081485644}, {\"Year\": 2039, \"Sources\": \"Pasture Seed production\", \"Quantity (Mt CO2e)\": 4.264906158055265}, {\"Year\": 2039, \"Sources\": \"Pesticide production\", \"Quantity (Mt CO2e)\": 2.479683895666617}, {\"Year\": 2039, \"Sources\": \"Sowing\", \"Quantity (Mt CO2e)\": 0.9164507293873209}, {\"Year\": 2040, \"Sources\": \"Agricultural soils: Animal production, dung and urine\", \"Quantity (Mt CO2e)\": 3.7059637873965094}, {\"Year\": 2040, \"Sources\": \"Agricultural soils: Direct Soil Emissions (biogenic)\", \"Quantity (Mt CO2e)\": 2.8146101675848527}, {\"Year\": 2040, \"Sources\": \"Agricultural soils: Indirect leaching and runoff\", \"Quantity (Mt CO2e)\": 2.477544635809457}, {\"Year\": 2040, \"Sources\": \"Chemical Application\", \"Quantity (Mt CO2e)\": 1.642247782450856}, {\"Year\": 2040, \"Sources\": \"Crop Management\", \"Quantity (Mt CO2e)\": 0.024412986934893757}, {\"Year\": 2040, \"Sources\": \"Cultivation\", \"Quantity (Mt CO2e)\": 0.7842172749990258}, {\"Year\": 2040, \"Sources\": \"Electricity Use livestock\", \"Quantity (Mt CO2e)\": 0.4332480007739492}, {\"Year\": 2040, \"Sources\": \"Fertiliser production\", \"Quantity (Mt CO2e)\": 4.876996815780613}, {\"Year\": 2040, \"Sources\": \"Fodder production\", \"Quantity (Mt CO2e)\": 1.2771382855186462}, {\"Year\": 2040, \"Sources\": \"Fuel Use livestock\", \"Quantity (Mt CO2e)\": 5.583410798860581}, {\"Year\": 2040, \"Sources\": \"Harvesting\", \"Quantity (Mt CO2e)\": 0.39795739443405154}, {\"Year\": 2040, \"Sources\": \"Irrigation\", \"Quantity (Mt CO2e)\": 0.1664406079397406}, {\"Year\": 2040, \"Sources\": \"Livestock Enteric Fermentation (biogenic)\", \"Quantity (Mt CO2e)\": 46.18487538974136}, {\"Year\": 2040, \"Sources\": \"Livestock Manure Management (biogenic)\", \"Quantity (Mt CO2e)\": 0.31625931486975684}, {\"Year\": 2040, \"Sources\": \"Pasture Seed production\", \"Quantity (Mt CO2e)\": 4.233028120131736}, {\"Year\": 2040, \"Sources\": \"Pesticide production\", \"Quantity (Mt CO2e)\": 2.4511610858610244}, {\"Year\": 2040, \"Sources\": \"Sowing\", \"Quantity (Mt CO2e)\": 0.8849454270953866}, {\"Year\": 2041, \"Sources\": \"Agricultural soils: Animal production, dung and urine\", \"Quantity (Mt CO2e)\": 3.6867726926093245}, {\"Year\": 2041, \"Sources\": \"Agricultural soils: Direct Soil Emissions (biogenic)\", \"Quantity (Mt CO2e)\": 2.7874292405399155}, {\"Year\": 2041, \"Sources\": \"Agricultural soils: Indirect leaching and runoff\", \"Quantity (Mt CO2e)\": 2.4863421301308373}, {\"Year\": 2041, \"Sources\": \"Chemical Application\", \"Quantity (Mt CO2e)\": 1.564969411370298}, {\"Year\": 2041, \"Sources\": \"Crop Management\", \"Quantity (Mt CO2e)\": 0.02444605146464751}, {\"Year\": 2041, \"Sources\": \"Cultivation\", \"Quantity (Mt CO2e)\": 0.793975463283625}, {\"Year\": 2041, \"Sources\": \"Electricity Use livestock\", \"Quantity (Mt CO2e)\": 0.4523605377414689}, {\"Year\": 2041, \"Sources\": \"Fertiliser production\", \"Quantity (Mt CO2e)\": 4.764582428029349}, {\"Year\": 2041, \"Sources\": \"Fodder production\", \"Quantity (Mt CO2e)\": 1.2817670275689963}, {\"Year\": 2041, \"Sources\": \"Fuel Use livestock\", \"Quantity (Mt CO2e)\": 5.6060426404752866}, {\"Year\": 2041, \"Sources\": \"Harvesting\", \"Quantity (Mt CO2e)\": 0.3937326730462353}, {\"Year\": 2041, \"Sources\": \"Irrigation\", \"Quantity (Mt CO2e)\": 0.16438515286390137}, {\"Year\": 2041, \"Sources\": \"Livestock Enteric Fermentation (biogenic)\", \"Quantity (Mt CO2e)\": 45.86050727079542}, {\"Year\": 2041, \"Sources\": \"Livestock Manure Management (biogenic)\", \"Quantity (Mt CO2e)\": 0.32582411740953654}, {\"Year\": 2041, \"Sources\": \"Pasture Seed production\", \"Quantity (Mt CO2e)\": 4.176221249505546}, {\"Year\": 2041, \"Sources\": \"Pesticide production\", \"Quantity (Mt CO2e)\": 2.438777005397017}, {\"Year\": 2041, \"Sources\": \"Sowing\", \"Quantity (Mt CO2e)\": 0.8458827241400981}, {\"Year\": 2042, \"Sources\": \"Agricultural soils: Animal production, dung and urine\", \"Quantity (Mt CO2e)\": 3.6688020408918463}, {\"Year\": 2042, \"Sources\": \"Agricultural soils: Direct Soil Emissions (biogenic)\", \"Quantity (Mt CO2e)\": 2.7507823483102585}, {\"Year\": 2042, \"Sources\": \"Agricultural soils: Indirect leaching and runoff\", \"Quantity (Mt CO2e)\": 2.485767737153575}, {\"Year\": 2042, \"Sources\": \"Chemical Application\", \"Quantity (Mt CO2e)\": 1.4887388616645256}, {\"Year\": 2042, \"Sources\": \"Crop Management\", \"Quantity (Mt CO2e)\": 0.024204850016541688}, {\"Year\": 2042, \"Sources\": \"Cultivation\", \"Quantity (Mt CO2e)\": 0.7834144977270043}, {\"Year\": 2042, \"Sources\": \"Electricity Use livestock\", \"Quantity (Mt CO2e)\": 0.47668281347176095}, {\"Year\": 2042, \"Sources\": \"Fertiliser production\", \"Quantity (Mt CO2e)\": 4.622464923983389}, {\"Year\": 2042, \"Sources\": \"Fodder production\", \"Quantity (Mt CO2e)\": 1.2821014466619298}, {\"Year\": 2042, \"Sources\": \"Fuel Use livestock\", \"Quantity (Mt CO2e)\": 5.626095949720127}, {\"Year\": 2042, \"Sources\": \"Harvesting\", \"Quantity (Mt CO2e)\": 0.38468829199770177}, {\"Year\": 2042, \"Sources\": \"Irrigation\", \"Quantity (Mt CO2e)\": 0.166308766173801}, {\"Year\": 2042, \"Sources\": \"Livestock Enteric Fermentation (biogenic)\", \"Quantity (Mt CO2e)\": 45.56066176114894}, {\"Year\": 2042, \"Sources\": \"Livestock Manure Management (biogenic)\", \"Quantity (Mt CO2e)\": 0.3290501607086451}, {\"Year\": 2042, \"Sources\": \"Pasture Seed production\", \"Quantity (Mt CO2e)\": 4.119204009731339}, {\"Year\": 2042, \"Sources\": \"Pesticide production\", \"Quantity (Mt CO2e)\": 2.3920790782524404}, {\"Year\": 2042, \"Sources\": \"Sowing\", \"Quantity (Mt CO2e)\": 0.8077913811632188}, {\"Year\": 2043, \"Sources\": \"Agricultural soils: Animal production, dung and urine\", \"Quantity (Mt CO2e)\": 3.649674765421927}, {\"Year\": 2043, \"Sources\": \"Agricultural soils: Direct Soil Emissions (biogenic)\", \"Quantity (Mt CO2e)\": 2.719297027756415}, {\"Year\": 2043, \"Sources\": \"Agricultural soils: Indirect leaching and runoff\", \"Quantity (Mt CO2e)\": 2.495764399201135}, {\"Year\": 2043, \"Sources\": \"Chemical Application\", \"Quantity (Mt CO2e)\": 1.4258936501512072}, {\"Year\": 2043, \"Sources\": \"Crop Management\", \"Quantity (Mt CO2e)\": 0.02375618337799993}, {\"Year\": 2043, \"Sources\": \"Cultivation\", \"Quantity (Mt CO2e)\": 0.7829647378244834}, {\"Year\": 2043, \"Sources\": \"Electricity Use livestock\", \"Quantity (Mt CO2e)\": 0.5116047839826772}, {\"Year\": 2043, \"Sources\": \"Fertiliser production\", \"Quantity (Mt CO2e)\": 4.529112712552479}, {\"Year\": 2043, \"Sources\": \"Fodder production\", \"Quantity (Mt CO2e)\": 1.2913092650456013}, {\"Year\": 2043, \"Sources\": \"Fuel Use livestock\", \"Quantity (Mt CO2e)\": 5.631568123523405}, {\"Year\": 2043, \"Sources\": \"Harvesting\", \"Quantity (Mt CO2e)\": 0.38175305253951225}, {\"Year\": 2043, \"Sources\": \"Irrigation\", \"Quantity (Mt CO2e)\": 0.16389998501446626}, {\"Year\": 2043, \"Sources\": \"Livestock Enteric Fermentation (biogenic)\", \"Quantity (Mt CO2e)\": 45.22539188040011}, {\"Year\": 2043, \"Sources\": \"Livestock Manure Management (biogenic)\", \"Quantity (Mt CO2e)\": 0.33959728588570426}, {\"Year\": 2043, \"Sources\": \"Pasture Seed production\", \"Quantity (Mt CO2e)\": 4.0280891359747075}, {\"Year\": 2043, \"Sources\": \"Pesticide production\", \"Quantity (Mt CO2e)\": 2.374898195606826}, {\"Year\": 2043, \"Sources\": \"Sowing\", \"Quantity (Mt CO2e)\": 0.7748549226043512}, {\"Year\": 2044, \"Sources\": \"Agricultural soils: Animal production, dung and urine\", \"Quantity (Mt CO2e)\": 3.615110927272668}, {\"Year\": 2044, \"Sources\": \"Agricultural soils: Direct Soil Emissions (biogenic)\", \"Quantity (Mt CO2e)\": 2.6913504879125867}, {\"Year\": 2044, \"Sources\": \"Agricultural soils: Indirect leaching and runoff\", \"Quantity (Mt CO2e)\": 2.489092898675949}, {\"Year\": 2044, \"Sources\": \"Chemical Application\", \"Quantity (Mt CO2e)\": 1.3769554386596923}, {\"Year\": 2044, \"Sources\": \"Crop Management\", \"Quantity (Mt CO2e)\": 0.024169280214622238}, {\"Year\": 2044, \"Sources\": \"Cultivation\", \"Quantity (Mt CO2e)\": 0.786758828379122}, {\"Year\": 2044, \"Sources\": \"Electricity Use livestock\", \"Quantity (Mt CO2e)\": 0.5734349601853521}, {\"Year\": 2044, \"Sources\": \"Fertiliser production\", \"Quantity (Mt CO2e)\": 4.456015509301821}, {\"Year\": 2044, \"Sources\": \"Fodder production\", \"Quantity (Mt CO2e)\": 1.2955952594169655}, {\"Year\": 2044, \"Sources\": \"Fuel Use livestock\", \"Quantity (Mt CO2e)\": 5.674822467725328}, {\"Year\": 2044, \"Sources\": \"Harvesting\", \"Quantity (Mt CO2e)\": 0.3804819820715259}, {\"Year\": 2044, \"Sources\": \"Irrigation\", \"Quantity (Mt CO2e)\": 0.15822560190432378}, {\"Year\": 2044, \"Sources\": \"Livestock Enteric Fermentation (biogenic)\", \"Quantity (Mt CO2e)\": 44.78715848707711}, {\"Year\": 2044, \"Sources\": \"Livestock Manure Management (biogenic)\", \"Quantity (Mt CO2e)\": 0.35073030834474295}, {\"Year\": 2044, \"Sources\": \"Pasture Seed production\", \"Quantity (Mt CO2e)\": 3.932122887183881}, {\"Year\": 2044, \"Sources\": \"Pesticide production\", \"Quantity (Mt CO2e)\": 2.371361644330473}, {\"Year\": 2044, \"Sources\": \"Sowing\", \"Quantity (Mt CO2e)\": 0.7466562444030724}, {\"Year\": 2045, \"Sources\": \"Agricultural soils: Animal production, dung and urine\", \"Quantity (Mt CO2e)\": 3.584690800783566}, {\"Year\": 2045, \"Sources\": \"Agricultural soils: Direct Soil Emissions (biogenic)\", \"Quantity (Mt CO2e)\": 2.6298013240412677}, {\"Year\": 2045, \"Sources\": \"Agricultural soils: Indirect leaching and runoff\", \"Quantity (Mt CO2e)\": 2.484294591747454}, {\"Year\": 2045, \"Sources\": \"Chemical Application\", \"Quantity (Mt CO2e)\": 1.3268845641134448}, {\"Year\": 2045, \"Sources\": \"Crop Management\", \"Quantity (Mt CO2e)\": 0.02362919527314439}, {\"Year\": 2045, \"Sources\": \"Cultivation\", \"Quantity (Mt CO2e)\": 0.7958664920943576}, {\"Year\": 2045, \"Sources\": \"Electricity Use livestock\", \"Quantity (Mt CO2e)\": 0.6458615342112254}, {\"Year\": 2045, \"Sources\": \"Fertiliser production\", \"Quantity (Mt CO2e)\": 4.367316545625177}, {\"Year\": 2045, \"Sources\": \"Fodder production\", \"Quantity (Mt CO2e)\": 1.3165840333582461}, {\"Year\": 2045, \"Sources\": \"Fuel Use livestock\", \"Quantity (Mt CO2e)\": 5.732015229035265}, {\"Year\": 2045, \"Sources\": \"Harvesting\", \"Quantity (Mt CO2e)\": 0.3766784339215587}, {\"Year\": 2045, \"Sources\": \"Irrigation\", \"Quantity (Mt CO2e)\": 0.15294922996890745}, {\"Year\": 2045, \"Sources\": \"Livestock Enteric Fermentation (biogenic)\", \"Quantity (Mt CO2e)\": 44.383100969055455}, {\"Year\": 2045, \"Sources\": \"Livestock Manure Management (biogenic)\", \"Quantity (Mt CO2e)\": 0.3680340043122548}, {\"Year\": 2045, \"Sources\": \"Pasture Seed production\", \"Quantity (Mt CO2e)\": 3.8903933769030887}, {\"Year\": 2045, \"Sources\": \"Pesticide production\", \"Quantity (Mt CO2e)\": 2.355926316869441}, {\"Year\": 2045, \"Sources\": \"Sowing\", \"Quantity (Mt CO2e)\": 0.7214522059180285}, {\"Year\": 2046, \"Sources\": \"Agricultural soils: Animal production, dung and urine\", \"Quantity (Mt CO2e)\": 3.573279670727022}, {\"Year\": 2046, \"Sources\": \"Agricultural soils: Direct Soil Emissions (biogenic)\", \"Quantity (Mt CO2e)\": 2.6032389669910017}, {\"Year\": 2046, \"Sources\": \"Agricultural soils: Indirect leaching and runoff\", \"Quantity (Mt CO2e)\": 2.479512361959386}, {\"Year\": 2046, \"Sources\": \"Chemical Application\", \"Quantity (Mt CO2e)\": 1.3235508109558072}, {\"Year\": 2046, \"Sources\": \"Crop Management\", \"Quantity (Mt CO2e)\": 0.02321976880832639}, {\"Year\": 2046, \"Sources\": \"Cultivation\", \"Quantity (Mt CO2e)\": 0.8016912791655986}, {\"Year\": 2046, \"Sources\": \"Electricity Use livestock\", \"Quantity (Mt CO2e)\": 0.6751211609997606}, {\"Year\": 2046, \"Sources\": \"Fertiliser production\", \"Quantity (Mt CO2e)\": 4.35831013642422}, {\"Year\": 2046, \"Sources\": \"Fodder production\", \"Quantity (Mt CO2e)\": 1.3163261006558276}, {\"Year\": 2046, \"Sources\": \"Fuel Use livestock\", \"Quantity (Mt CO2e)\": 5.744942708973526}, {\"Year\": 2046, \"Sources\": \"Harvesting\", \"Quantity (Mt CO2e)\": 0.38507000658689505}, {\"Year\": 2046, \"Sources\": \"Irrigation\", \"Quantity (Mt CO2e)\": 0.15497436865591818}, {\"Year\": 2046, \"Sources\": \"Livestock Enteric Fermentation (biogenic)\", \"Quantity (Mt CO2e)\": 44.164845972904125}, {\"Year\": 2046, \"Sources\": \"Livestock Manure Management (biogenic)\", \"Quantity (Mt CO2e)\": 0.3726593284235541}, {\"Year\": 2046, \"Sources\": \"Pasture Seed production\", \"Quantity (Mt CO2e)\": 3.9309040821666072}, {\"Year\": 2046, \"Sources\": \"Pesticide production\", \"Quantity (Mt CO2e)\": 2.374062866385518}, {\"Year\": 2046, \"Sources\": \"Sowing\", \"Quantity (Mt CO2e)\": 0.7179786066847532}, {\"Year\": 2047, \"Sources\": \"Agricultural soils: Animal production, dung and urine\", \"Quantity (Mt CO2e)\": 3.56822541650095}, {\"Year\": 2047, \"Sources\": \"Agricultural soils: Direct Soil Emissions (biogenic)\", \"Quantity (Mt CO2e)\": 2.578373058893645}, {\"Year\": 2047, \"Sources\": \"Agricultural soils: Indirect leaching and runoff\", \"Quantity (Mt CO2e)\": 2.478199260096079}, {\"Year\": 2047, \"Sources\": \"Chemical Application\", \"Quantity (Mt CO2e)\": 1.3212804742026323}, {\"Year\": 2047, \"Sources\": \"Crop Management\", \"Quantity (Mt CO2e)\": 0.022784193450516358}, {\"Year\": 2047, \"Sources\": \"Cultivation\", \"Quantity (Mt CO2e)\": 0.8077995141631378}, {\"Year\": 2047, \"Sources\": \"Electricity Use livestock\", \"Quantity (Mt CO2e)\": 0.6868268768316811}, {\"Year\": 2047, \"Sources\": \"Fertiliser production\", \"Quantity (Mt CO2e)\": 4.336164588184804}, {\"Year\": 2047, \"Sources\": \"Fodder production\", \"Quantity (Mt CO2e)\": 1.324355728553663}, {\"Year\": 2047, \"Sources\": \"Fuel Use livestock\", \"Quantity (Mt CO2e)\": 5.7445500018330415}, {\"Year\": 2047, \"Sources\": \"Harvesting\", \"Quantity (Mt CO2e)\": 0.39118032831197075}, {\"Year\": 2047, \"Sources\": \"Irrigation\", \"Quantity (Mt CO2e)\": 0.1534787257523571}, {\"Year\": 2047, \"Sources\": \"Livestock Enteric Fermentation (biogenic)\", \"Quantity (Mt CO2e)\": 44.004067766693076}, {\"Year\": 2047, \"Sources\": \"Livestock Manure Management (biogenic)\", \"Quantity (Mt CO2e)\": 0.37730153595596877}, {\"Year\": 2047, \"Sources\": \"Pasture Seed production\", \"Quantity (Mt CO2e)\": 4.027194516366961}, {\"Year\": 2047, \"Sources\": \"Pesticide production\", \"Quantity (Mt CO2e)\": 2.4015698516629764}, {\"Year\": 2047, \"Sources\": \"Sowing\", \"Quantity (Mt CO2e)\": 0.7153167856583529}, {\"Year\": 2048, \"Sources\": \"Agricultural soils: Animal production, dung and urine\", \"Quantity (Mt CO2e)\": 3.563564018205741}, {\"Year\": 2048, \"Sources\": \"Agricultural soils: Direct Soil Emissions (biogenic)\", \"Quantity (Mt CO2e)\": 2.5273753583993064}, {\"Year\": 2048, \"Sources\": \"Agricultural soils: Indirect leaching and runoff\", \"Quantity (Mt CO2e)\": 2.4755401653126556}, {\"Year\": 2048, \"Sources\": \"Chemical Application\", \"Quantity (Mt CO2e)\": 1.308130321829793}, {\"Year\": 2048, \"Sources\": \"Crop Management\", \"Quantity (Mt CO2e)\": 0.021874781728187076}, {\"Year\": 2048, \"Sources\": \"Cultivation\", \"Quantity (Mt CO2e)\": 0.8088411749744217}, {\"Year\": 2048, \"Sources\": \"Electricity Use livestock\", \"Quantity (Mt CO2e)\": 0.6981049242468595}, {\"Year\": 2048, \"Sources\": \"Fertiliser production\", \"Quantity (Mt CO2e)\": 4.2887062313148645}, {\"Year\": 2048, \"Sources\": \"Fodder production\", \"Quantity (Mt CO2e)\": 1.346226249097707}, {\"Year\": 2048, \"Sources\": \"Fuel Use livestock\", \"Quantity (Mt CO2e)\": 5.620307170325381}, {\"Year\": 2048, \"Sources\": \"Harvesting\", \"Quantity (Mt CO2e)\": 0.3901818038000004}, {\"Year\": 2048, \"Sources\": \"Irrigation\", \"Quantity (Mt CO2e)\": 0.14976984544187202}, {\"Year\": 2048, \"Sources\": \"Livestock Enteric Fermentation (biogenic)\", \"Quantity (Mt CO2e)\": 43.886101700262266}, {\"Year\": 2048, \"Sources\": \"Livestock Manure Management (biogenic)\", \"Quantity (Mt CO2e)\": 0.37607269570288604}, {\"Year\": 2048, \"Sources\": \"Pasture Seed production\", \"Quantity (Mt CO2e)\": 4.326641537092961}, {\"Year\": 2048, \"Sources\": \"Pesticide production\", \"Quantity (Mt CO2e)\": 2.382187630015375}, {\"Year\": 2048, \"Sources\": \"Sowing\", \"Quantity (Mt CO2e)\": 0.7082016402631136}, {\"Year\": 2049, \"Sources\": \"Agricultural soils: Animal production, dung and urine\", \"Quantity (Mt CO2e)\": 3.625632340999318}, {\"Year\": 2049, \"Sources\": \"Agricultural soils: Direct Soil Emissions (biogenic)\", \"Quantity (Mt CO2e)\": 2.4344108638909723}, {\"Year\": 2049, \"Sources\": \"Agricultural soils: Indirect leaching and runoff\", \"Quantity (Mt CO2e)\": 2.5098183818672752}, {\"Year\": 2049, \"Sources\": \"Chemical Application\", \"Quantity (Mt CO2e)\": 1.2960024334393312}, {\"Year\": 2049, \"Sources\": \"Crop Management\", \"Quantity (Mt CO2e)\": 0.021619445324463814}, {\"Year\": 2049, \"Sources\": \"Cultivation\", \"Quantity (Mt CO2e)\": 0.7881287741623004}, {\"Year\": 2049, \"Sources\": \"Electricity Use livestock\", \"Quantity (Mt CO2e)\": 0.6661369785125624}, {\"Year\": 2049, \"Sources\": \"Fertiliser production\", \"Quantity (Mt CO2e)\": 4.207077549711888}, {\"Year\": 2049, \"Sources\": \"Fodder production\", \"Quantity (Mt CO2e)\": 1.40349408272974}, {\"Year\": 2049, \"Sources\": \"Fuel Use livestock\", \"Quantity (Mt CO2e)\": 5.342018554715296}, {\"Year\": 2049, \"Sources\": \"Harvesting\", \"Quantity (Mt CO2e)\": 0.38618673453047686}, {\"Year\": 2049, \"Sources\": \"Irrigation\", \"Quantity (Mt CO2e)\": 0.1546088181720278}, {\"Year\": 2049, \"Sources\": \"Livestock Enteric Fermentation (biogenic)\", \"Quantity (Mt CO2e)\": 44.90285496849061}, {\"Year\": 2049, \"Sources\": \"Livestock Manure Management (biogenic)\", \"Quantity (Mt CO2e)\": 0.37747206644527825}, {\"Year\": 2049, \"Sources\": \"Pasture Seed production\", \"Quantity (Mt CO2e)\": 4.751513988443123}, {\"Year\": 2049, \"Sources\": \"Pesticide production\", \"Quantity (Mt CO2e)\": 2.3376702418663333}, {\"Year\": 2049, \"Sources\": \"Sowing\", \"Quantity (Mt CO2e)\": 0.7025632175039674}, {\"Year\": 2050, \"Sources\": \"Agricultural soils: Animal production, dung and urine\", \"Quantity (Mt CO2e)\": 3.703793904791297}, {\"Year\": 2050, \"Sources\": \"Agricultural soils: Direct Soil Emissions (biogenic)\", \"Quantity (Mt CO2e)\": 2.3275344548577626}, {\"Year\": 2050, \"Sources\": \"Agricultural soils: Indirect leaching and runoff\", \"Quantity (Mt CO2e)\": 2.5449852462723253}, {\"Year\": 2050, \"Sources\": \"Chemical Application\", \"Quantity (Mt CO2e)\": 1.2794122496342708}, {\"Year\": 2050, \"Sources\": \"Crop Management\", \"Quantity (Mt CO2e)\": 0.021468017461672585}, {\"Year\": 2050, \"Sources\": \"Cultivation\", \"Quantity (Mt CO2e)\": 0.7712146849069589}, {\"Year\": 2050, \"Sources\": \"Electricity Use livestock\", \"Quantity (Mt CO2e)\": 0.6287486271078209}, {\"Year\": 2050, \"Sources\": \"Fertiliser production\", \"Quantity (Mt CO2e)\": 4.110373127884762}, {\"Year\": 2050, \"Sources\": \"Fodder production\", \"Quantity (Mt CO2e)\": 1.4497812291614989}, {\"Year\": 2050, \"Sources\": \"Fuel Use livestock\", \"Quantity (Mt CO2e)\": 5.019062703233166}, {\"Year\": 2050, \"Sources\": \"Harvesting\", \"Quantity (Mt CO2e)\": 0.3833612014436004}, {\"Year\": 2050, \"Sources\": \"Irrigation\", \"Quantity (Mt CO2e)\": 0.15392221742341064}, {\"Year\": 2050, \"Sources\": \"Livestock Enteric Fermentation (biogenic)\", \"Quantity (Mt CO2e)\": 46.27110410091609}, {\"Year\": 2050, \"Sources\": \"Livestock Manure Management (biogenic)\", \"Quantity (Mt CO2e)\": 0.3838775535957253}, {\"Year\": 2050, \"Sources\": \"Pasture Seed production\", \"Quantity (Mt CO2e)\": 5.331183048683818}, {\"Year\": 2050, \"Sources\": \"Pesticide production\", \"Quantity (Mt CO2e)\": 2.29320976082359}, {\"Year\": 2050, \"Sources\": \"Sowing\", \"Quantity (Mt CO2e)\": 0.6943826761385689}]}}, {\"mode\": \"vega-lite\"});\n",
       "</script>"
      ],
      "text/plain": [
       "alt.LayerChart(...)"
      ]
     },
     "execution_count": 11,
     "metadata": {},
     "output_type": "execute_result"
    }
   ],
   "source": [
    "# HIDE CODE\n",
    "# get the df and plot\n",
    "GHG_sources_df,GHG_sources_plot = ag_lucc_GHG.plot_GHG_sources()\n",
    "GHG_sources_plot"
   ]
  },
  {
   "cell_type": "code",
   "execution_count": null,
   "metadata": {},
   "outputs": [],
   "source": []
  },
  {
   "cell_type": "markdown",
   "metadata": {},
   "source": [
    "### Emissions by {land-use}-{irrigation} cmobined"
   ]
  },
  {
   "cell_type": "code",
   "execution_count": null,
   "metadata": {},
   "outputs": [],
   "source": []
  },
  {
   "cell_type": "code",
   "execution_count": 12,
   "metadata": {
    "tags": [
     "hide-input"
    ]
   },
   "outputs": [
    {
     "data": {
      "text/html": [
       "\n",
       "<style>\n",
       "  #altair-viz-ee0c9578938d4ddc9ca9e08402c0551f.vega-embed {\n",
       "    width: 100%;\n",
       "    display: flex;\n",
       "  }\n",
       "\n",
       "  #altair-viz-ee0c9578938d4ddc9ca9e08402c0551f.vega-embed details,\n",
       "  #altair-viz-ee0c9578938d4ddc9ca9e08402c0551f.vega-embed details summary {\n",
       "    position: relative;\n",
       "  }\n",
       "</style>\n",
       "<div id=\"altair-viz-ee0c9578938d4ddc9ca9e08402c0551f\"></div>\n",
       "<script type=\"text/javascript\">\n",
       "  var VEGA_DEBUG = (typeof VEGA_DEBUG == \"undefined\") ? {} : VEGA_DEBUG;\n",
       "  (function(spec, embedOpt){\n",
       "    let outputDiv = document.currentScript.previousElementSibling;\n",
       "    if (outputDiv.id !== \"altair-viz-ee0c9578938d4ddc9ca9e08402c0551f\") {\n",
       "      outputDiv = document.getElementById(\"altair-viz-ee0c9578938d4ddc9ca9e08402c0551f\");\n",
       "    }\n",
       "    const paths = {\n",
       "      \"vega\": \"https://cdn.jsdelivr.net/npm/vega@5?noext\",\n",
       "      \"vega-lib\": \"https://cdn.jsdelivr.net/npm/vega-lib?noext\",\n",
       "      \"vega-lite\": \"https://cdn.jsdelivr.net/npm/vega-lite@5.15.1?noext\",\n",
       "      \"vega-embed\": \"https://cdn.jsdelivr.net/npm/vega-embed@6?noext\",\n",
       "    };\n",
       "\n",
       "    function maybeLoadScript(lib, version) {\n",
       "      var key = `${lib.replace(\"-\", \"\")}_version`;\n",
       "      return (VEGA_DEBUG[key] == version) ?\n",
       "        Promise.resolve(paths[lib]) :\n",
       "        new Promise(function(resolve, reject) {\n",
       "          var s = document.createElement('script');\n",
       "          document.getElementsByTagName(\"head\")[0].appendChild(s);\n",
       "          s.async = true;\n",
       "          s.onload = () => {\n",
       "            VEGA_DEBUG[key] = version;\n",
       "            return resolve(paths[lib]);\n",
       "          };\n",
       "          s.onerror = () => reject(`Error loading script: ${paths[lib]}`);\n",
       "          s.src = paths[lib];\n",
       "        });\n",
       "    }\n",
       "\n",
       "    function showError(err) {\n",
       "      outputDiv.innerHTML = `<div class=\"error\" style=\"color:red;\">${err}</div>`;\n",
       "      throw err;\n",
       "    }\n",
       "\n",
       "    function displayChart(vegaEmbed) {\n",
       "      vegaEmbed(outputDiv, spec, embedOpt)\n",
       "        .catch(err => showError(`Javascript Error: ${err.message}<br>This usually means there's a typo in your chart specification. See the javascript console for the full traceback.`));\n",
       "    }\n",
       "\n",
       "    if(typeof define === \"function\" && define.amd) {\n",
       "      requirejs.config({paths});\n",
       "      require([\"vega-embed\"], displayChart, err => showError(`Error loading script: ${err.message}`));\n",
       "    } else {\n",
       "      maybeLoadScript(\"vega\", \"5\")\n",
       "        .then(() => maybeLoadScript(\"vega-lite\", \"5.15.1\"))\n",
       "        .then(() => maybeLoadScript(\"vega-embed\", \"6\"))\n",
       "        .catch(showError)\n",
       "        .then(() => displayChart(vegaEmbed));\n",
       "    }\n",
       "  })({\"config\": {\"view\": {\"continuousWidth\": 300, \"continuousHeight\": 300}}, \"data\": {\"name\": \"data-e7043fcf2c4b88b1681c5d95f953e724\"}, \"mark\": {\"type\": \"bar\"}, \"encoding\": {\"color\": {\"field\": \"Irrigation\", \"legend\": {\"direction\": \"horizontal\", \"legendX\": 240.0, \"legendY\": -40, \"orient\": \"none\", \"title\": \"Irrigation\", \"titleAnchor\": \"middle\"}, \"type\": \"nominal\"}, \"tooltip\": [{\"field\": \"Land use\", \"title\": \"Landuse\", \"type\": \"ordinal\"}, {\"field\": \"Quantity (Mt CO2e)\", \"title\": \"GHG emissions (Mt CO2e)\", \"type\": \"quantitative\"}], \"x\": {\"field\": \"Quantity (Mt CO2e)\", \"type\": \"quantitative\"}, \"y\": {\"field\": \"Land use\", \"type\": \"ordinal\"}}, \"height\": 450, \"width\": 600, \"$schema\": \"https://vega.github.io/schema/vega-lite/v5.15.1.json\", \"datasets\": {\"data-e7043fcf2c4b88b1681c5d95f953e724\": [{\"Year\": 2050, \"Land use category\": \"Crop\", \"Land use\": \"Apples\", \"Irrigation\": \"dry\", \"Quantity (Mt CO2e)\": 0.0009149871905539115}, {\"Year\": 2050, \"Land use category\": \"Crop\", \"Land use\": \"Apples\", \"Irrigation\": \"irr\", \"Quantity (Mt CO2e)\": 0.006645370302553598}, {\"Year\": 2050, \"Land use category\": \"Crop\", \"Land use\": \"Citrus\", \"Irrigation\": \"dry\", \"Quantity (Mt CO2e)\": 0.06585144291831174}, {\"Year\": 2050, \"Land use category\": \"Crop\", \"Land use\": \"Citrus\", \"Irrigation\": \"irr\", \"Quantity (Mt CO2e)\": 0.026737060165405276}, {\"Year\": 2050, \"Land use category\": \"Crop\", \"Land use\": \"Cotton\", \"Irrigation\": \"dry\", \"Quantity (Mt CO2e)\": 0.2677973087449498}, {\"Year\": 2050, \"Land use category\": \"Crop\", \"Land use\": \"Cotton\", \"Irrigation\": \"irr\", \"Quantity (Mt CO2e)\": 0.0053030456027984615}, {\"Year\": 2050, \"Land use category\": \"Crop\", \"Land use\": \"Grapes\", \"Irrigation\": \"dry\", \"Quantity (Mt CO2e)\": 0.2225754932770101}, {\"Year\": 2050, \"Land use category\": \"Crop\", \"Land use\": \"Grapes\", \"Irrigation\": \"irr\", \"Quantity (Mt CO2e)\": 0.0}, {\"Year\": 2050, \"Land use category\": \"Crop\", \"Land use\": \"Hay\", \"Irrigation\": \"dry\", \"Quantity (Mt CO2e)\": 0.26890873179244995}, {\"Year\": 2050, \"Land use category\": \"Crop\", \"Land use\": \"Hay\", \"Irrigation\": \"irr\", \"Quantity (Mt CO2e)\": 0.10770231254959106}, {\"Year\": 2050, \"Land use category\": \"Crop\", \"Land use\": \"Nuts\", \"Irrigation\": \"dry\", \"Quantity (Mt CO2e)\": 0.09467743187438735}, {\"Year\": 2050, \"Land use category\": \"Crop\", \"Land use\": \"Nuts\", \"Irrigation\": \"irr\", \"Quantity (Mt CO2e)\": 0.005948499069213867}, {\"Year\": 2050, \"Land use category\": \"Crop\", \"Land use\": \"Other non-cereal crops\", \"Irrigation\": \"dry\", \"Quantity (Mt CO2e)\": 0.019241004430061676}, {\"Year\": 2050, \"Land use category\": \"Crop\", \"Land use\": \"Other non-cereal crops\", \"Irrigation\": \"irr\", \"Quantity (Mt CO2e)\": 0.0}, {\"Year\": 2050, \"Land use category\": \"Crop\", \"Land use\": \"Pears\", \"Irrigation\": \"dry\", \"Quantity (Mt CO2e)\": 0.0}, {\"Year\": 2050, \"Land use category\": \"Crop\", \"Land use\": \"Pears\", \"Irrigation\": \"irr\", \"Quantity (Mt CO2e)\": 0.00577568815612793}, {\"Year\": 2050, \"Land use category\": \"Crop\", \"Land use\": \"Plantation fruit\", \"Irrigation\": \"dry\", \"Quantity (Mt CO2e)\": 0.08031206149291992}, {\"Year\": 2050, \"Land use category\": \"Crop\", \"Land use\": \"Plantation fruit\", \"Irrigation\": \"irr\", \"Quantity (Mt CO2e)\": 0.0836016442952156}, {\"Year\": 2050, \"Land use category\": \"Crop\", \"Land use\": \"Rice\", \"Irrigation\": \"dry\", \"Quantity (Mt CO2e)\": 0.0}, {\"Year\": 2050, \"Land use category\": \"Crop\", \"Land use\": \"Rice\", \"Irrigation\": \"irr\", \"Quantity (Mt CO2e)\": 0.09829575831511617}, {\"Year\": 2050, \"Land use category\": \"Crop\", \"Land use\": \"Stone fruit\", \"Irrigation\": \"dry\", \"Quantity (Mt CO2e)\": 0.0}, {\"Year\": 2050, \"Land use category\": \"Crop\", \"Land use\": \"Stone fruit\", \"Irrigation\": \"irr\", \"Quantity (Mt CO2e)\": 0.05398286172731055}, {\"Year\": 2050, \"Land use category\": \"Crop\", \"Land use\": \"Sugar\", \"Irrigation\": \"dry\", \"Quantity (Mt CO2e)\": 0.5495947509124575}, {\"Year\": 2050, \"Land use category\": \"Crop\", \"Land use\": \"Sugar\", \"Irrigation\": \"irr\", \"Quantity (Mt CO2e)\": 0.2766435730628968}, {\"Year\": 2050, \"Land use category\": \"Crop\", \"Land use\": \"Summer cereals\", \"Irrigation\": \"dry\", \"Quantity (Mt CO2e)\": 0.22674146448516844}, {\"Year\": 2050, \"Land use category\": \"Crop\", \"Land use\": \"Summer cereals\", \"Irrigation\": \"irr\", \"Quantity (Mt CO2e)\": 0.002397728349685669}, {\"Year\": 2050, \"Land use category\": \"Crop\", \"Land use\": \"Summer legumes\", \"Irrigation\": \"dry\", \"Quantity (Mt CO2e)\": 0.0}, {\"Year\": 2050, \"Land use category\": \"Crop\", \"Land use\": \"Summer legumes\", \"Irrigation\": \"irr\", \"Quantity (Mt CO2e)\": 0.011532623109817505}, {\"Year\": 2050, \"Land use category\": \"Crop\", \"Land use\": \"Summer oilseeds\", \"Irrigation\": \"dry\", \"Quantity (Mt CO2e)\": 0.014010310816049372}, {\"Year\": 2050, \"Land use category\": \"Crop\", \"Land use\": \"Summer oilseeds\", \"Irrigation\": \"irr\", \"Quantity (Mt CO2e)\": 0.0}, {\"Year\": 2050, \"Land use category\": \"Crop\", \"Land use\": \"Tropical stone fruit\", \"Irrigation\": \"dry\", \"Quantity (Mt CO2e)\": 0.0}, {\"Year\": 2050, \"Land use category\": \"Crop\", \"Land use\": \"Tropical stone fruit\", \"Irrigation\": \"irr\", \"Quantity (Mt CO2e)\": 0.01116668846511841}, {\"Year\": 2050, \"Land use category\": \"Crop\", \"Land use\": \"Vegetables\", \"Irrigation\": \"dry\", \"Quantity (Mt CO2e)\": 0.0}, {\"Year\": 2050, \"Land use category\": \"Crop\", \"Land use\": \"Vegetables\", \"Irrigation\": \"irr\", \"Quantity (Mt CO2e)\": 0.3269487217425357}, {\"Year\": 2050, \"Land use category\": \"Crop\", \"Land use\": \"Winter cereals\", \"Irrigation\": \"dry\", \"Quantity (Mt CO2e)\": 6.3610249733895525}, {\"Year\": 2050, \"Land use category\": \"Crop\", \"Land use\": \"Winter cereals\", \"Irrigation\": \"irr\", \"Quantity (Mt CO2e)\": 0.8131398123203667}, {\"Year\": 2050, \"Land use category\": \"Crop\", \"Land use\": \"Winter legumes\", \"Irrigation\": \"dry\", \"Quantity (Mt CO2e)\": 0.3977757182376171}, {\"Year\": 2050, \"Land use category\": \"Crop\", \"Land use\": \"Winter legumes\", \"Irrigation\": \"irr\", \"Quantity (Mt CO2e)\": 0.0}, {\"Year\": 2050, \"Land use category\": \"Crop\", \"Land use\": \"Winter oilseeds\", \"Irrigation\": \"dry\", \"Quantity (Mt CO2e)\": 0.7853649514932632}, {\"Year\": 2050, \"Land use category\": \"Crop\", \"Land use\": \"Winter oilseeds\", \"Irrigation\": \"irr\", \"Quantity (Mt CO2e)\": 0.00414259253692627}, {\"Year\": 2050, \"Land use category\": \"Livestock\", \"Land use\": \"Beef\", \"Irrigation\": \"dry\", \"Quantity (Mt CO2e)\": 30.66243483672347}, {\"Year\": 2050, \"Land use category\": \"Livestock\", \"Land use\": \"Beef\", \"Irrigation\": \"irr\", \"Quantity (Mt CO2e)\": 4.968724314751199}, {\"Year\": 2050, \"Land use category\": \"Livestock\", \"Land use\": \"Dairy\", \"Irrigation\": \"dry\", \"Quantity (Mt CO2e)\": 7.194034767174901}, {\"Year\": 2050, \"Land use category\": \"Livestock\", \"Land use\": \"Dairy\", \"Irrigation\": \"irr\", \"Quantity (Mt CO2e)\": 1.9385588345451357}, {\"Year\": 2050, \"Land use category\": \"Livestock\", \"Land use\": \"Sheep\", \"Irrigation\": \"dry\", \"Quantity (Mt CO2e)\": 21.407279098247276}, {\"Year\": 2050, \"Land use category\": \"Livestock\", \"Land use\": \"Sheep\", \"Irrigation\": \"irr\", \"Quantity (Mt CO2e)\": 0.0016283420689206223}]}}, {\"mode\": \"vega-lite\"});\n",
       "</script>"
      ],
      "text/plain": [
       "alt.Chart(...)"
      ]
     },
     "execution_count": 12,
     "metadata": {},
     "output_type": "execute_result"
    }
   ],
   "source": [
    "# HIDE CODE\n",
    "# get the df and plot\n",
    "GHG_lu_lm_df,GHG_lu_lm_plot = ag_lucc_GHG.plot_GHG_lu_lm(2050)\n",
    "GHG_lu_lm_plot"
   ]
  },
  {
   "cell_type": "code",
   "execution_count": null,
   "metadata": {},
   "outputs": [],
   "source": []
  },
  {
   "cell_type": "code",
   "execution_count": null,
   "metadata": {
    "tags": []
   },
   "outputs": [],
   "source": []
  },
  {
   "cell_type": "markdown",
   "metadata": {},
   "source": [
    "### Emissions by {land-use}-{GHG source} combined"
   ]
  },
  {
   "cell_type": "code",
   "execution_count": 13,
   "metadata": {
    "tags": [
     "hide-input"
    ]
   },
   "outputs": [
    {
     "data": {
      "text/html": [
       "\n",
       "<style>\n",
       "  #altair-viz-833d5aea9bf142f9be119c845e135042.vega-embed {\n",
       "    width: 100%;\n",
       "    display: flex;\n",
       "  }\n",
       "\n",
       "  #altair-viz-833d5aea9bf142f9be119c845e135042.vega-embed details,\n",
       "  #altair-viz-833d5aea9bf142f9be119c845e135042.vega-embed details summary {\n",
       "    position: relative;\n",
       "  }\n",
       "</style>\n",
       "<div id=\"altair-viz-833d5aea9bf142f9be119c845e135042\"></div>\n",
       "<script type=\"text/javascript\">\n",
       "  var VEGA_DEBUG = (typeof VEGA_DEBUG == \"undefined\") ? {} : VEGA_DEBUG;\n",
       "  (function(spec, embedOpt){\n",
       "    let outputDiv = document.currentScript.previousElementSibling;\n",
       "    if (outputDiv.id !== \"altair-viz-833d5aea9bf142f9be119c845e135042\") {\n",
       "      outputDiv = document.getElementById(\"altair-viz-833d5aea9bf142f9be119c845e135042\");\n",
       "    }\n",
       "    const paths = {\n",
       "      \"vega\": \"https://cdn.jsdelivr.net/npm/vega@5?noext\",\n",
       "      \"vega-lib\": \"https://cdn.jsdelivr.net/npm/vega-lib?noext\",\n",
       "      \"vega-lite\": \"https://cdn.jsdelivr.net/npm/vega-lite@5.15.1?noext\",\n",
       "      \"vega-embed\": \"https://cdn.jsdelivr.net/npm/vega-embed@6?noext\",\n",
       "    };\n",
       "\n",
       "    function maybeLoadScript(lib, version) {\n",
       "      var key = `${lib.replace(\"-\", \"\")}_version`;\n",
       "      return (VEGA_DEBUG[key] == version) ?\n",
       "        Promise.resolve(paths[lib]) :\n",
       "        new Promise(function(resolve, reject) {\n",
       "          var s = document.createElement('script');\n",
       "          document.getElementsByTagName(\"head\")[0].appendChild(s);\n",
       "          s.async = true;\n",
       "          s.onload = () => {\n",
       "            VEGA_DEBUG[key] = version;\n",
       "            return resolve(paths[lib]);\n",
       "          };\n",
       "          s.onerror = () => reject(`Error loading script: ${paths[lib]}`);\n",
       "          s.src = paths[lib];\n",
       "        });\n",
       "    }\n",
       "\n",
       "    function showError(err) {\n",
       "      outputDiv.innerHTML = `<div class=\"error\" style=\"color:red;\">${err}</div>`;\n",
       "      throw err;\n",
       "    }\n",
       "\n",
       "    function displayChart(vegaEmbed) {\n",
       "      vegaEmbed(outputDiv, spec, embedOpt)\n",
       "        .catch(err => showError(`Javascript Error: ${err.message}<br>This usually means there's a typo in your chart specification. See the javascript console for the full traceback.`));\n",
       "    }\n",
       "\n",
       "    if(typeof define === \"function\" && define.amd) {\n",
       "      requirejs.config({paths});\n",
       "      require([\"vega-embed\"], displayChart, err => showError(`Error loading script: ${err.message}`));\n",
       "    } else {\n",
       "      maybeLoadScript(\"vega\", \"5\")\n",
       "        .then(() => maybeLoadScript(\"vega-lite\", \"5.15.1\"))\n",
       "        .then(() => maybeLoadScript(\"vega-embed\", \"6\"))\n",
       "        .catch(showError)\n",
       "        .then(() => displayChart(vegaEmbed));\n",
       "    }\n",
       "  })({\"config\": {\"view\": {\"continuousWidth\": 300, \"continuousHeight\": 300}}, \"data\": {\"name\": \"data-83ac64ae69956a54095e3cc4aa7be4c8\"}, \"mark\": {\"type\": \"circle\"}, \"encoding\": {\"color\": {\"field\": \"Irrigation\", \"legend\": {\"direction\": \"vertical\", \"legendX\": 610, \"legendY\": 135.0, \"orient\": \"none\", \"title\": \"Irrigation\", \"titleAnchor\": \"start\"}, \"type\": \"ordinal\"}, \"size\": {\"field\": \"Quantity (Mt CO2e)\", \"legend\": {\"direction\": \"vertical\", \"legendX\": 610, \"legendY\": 225.0, \"orient\": \"none\", \"title\": \"Qantity (Mt CO2e)\", \"titleAnchor\": \"start\"}, \"type\": \"quantitative\"}, \"tooltip\": [{\"field\": \"Land use\", \"title\": \"Landuse\", \"type\": \"ordinal\"}, {\"field\": \"Sources\", \"title\": \"GHG source\", \"type\": \"ordinal\"}, {\"field\": \"Quantity (Mt CO2e)\", \"title\": \"GHG emissions (Mt CO2e)\", \"type\": \"quantitative\"}], \"x\": {\"field\": \"Land use\", \"type\": \"ordinal\"}, \"y\": {\"axis\": {\"labelLimit\": 400}, \"field\": \"Sources\", \"type\": \"ordinal\"}}, \"height\": 450, \"width\": 600, \"$schema\": \"https://vega.github.io/schema/vega-lite/v5.15.1.json\", \"datasets\": {\"data-83ac64ae69956a54095e3cc4aa7be4c8\": [{\"Year\": 2050, \"Land use\": \"Apples\", \"Irrigation\": \"dry\", \"Sources\": \"Agricultural soils: Animal production, dung and urine\", \"Quantity (Mt CO2e)\": 7.092778241193855e-05}, {\"Year\": 2050, \"Land use\": \"Apples\", \"Irrigation\": \"dry\", \"Sources\": \"Agricultural soils: Direct Soil Emissions (biogenic)\", \"Quantity (Mt CO2e)\": 0.0}, {\"Year\": 2050, \"Land use\": \"Apples\", \"Irrigation\": \"dry\", \"Sources\": \"Agricultural soils: Indirect leaching and runoff\", \"Quantity (Mt CO2e)\": 9.01614192531606e-05}, {\"Year\": 2050, \"Land use\": \"Apples\", \"Irrigation\": \"dry\", \"Sources\": \"Chemical Application\", \"Quantity (Mt CO2e)\": 0.0}, {\"Year\": 2050, \"Land use\": \"Apples\", \"Irrigation\": \"dry\", \"Sources\": \"Crop Management\", \"Quantity (Mt CO2e)\": 0.0}, {\"Year\": 2050, \"Land use\": \"Apples\", \"Irrigation\": \"dry\", \"Sources\": \"Cultivation\", \"Quantity (Mt CO2e)\": 0.0}, {\"Year\": 2050, \"Land use\": \"Apples\", \"Irrigation\": \"dry\", \"Sources\": \"Electricity Use livestock\", \"Quantity (Mt CO2e)\": 6.1109232661249845e-06}, {\"Year\": 2050, \"Land use\": \"Apples\", \"Irrigation\": \"dry\", \"Sources\": \"Fertiliser production\", \"Quantity (Mt CO2e)\": 0.0}, {\"Year\": 2050, \"Land use\": \"Apples\", \"Irrigation\": \"dry\", \"Sources\": \"Fodder production\", \"Quantity (Mt CO2e)\": 6.374126552153848e-05}, {\"Year\": 2050, \"Land use\": \"Apples\", \"Irrigation\": \"dry\", \"Sources\": \"Fuel Use livestock\", \"Quantity (Mt CO2e)\": 2.2228815727195583e-06}, {\"Year\": 2050, \"Land use\": \"Apples\", \"Irrigation\": \"dry\", \"Sources\": \"Harvesting\", \"Quantity (Mt CO2e)\": 0.0}, {\"Year\": 2050, \"Land use\": \"Apples\", \"Irrigation\": \"dry\", \"Sources\": \"Irrigation\", \"Quantity (Mt CO2e)\": 0.0}, {\"Year\": 2050, \"Land use\": \"Apples\", \"Irrigation\": \"dry\", \"Sources\": \"Livestock Enteric Fermentation (biogenic)\", \"Quantity (Mt CO2e)\": 0.0006501927062853792}, {\"Year\": 2050, \"Land use\": \"Apples\", \"Irrigation\": \"dry\", \"Sources\": \"Livestock Manure Management (biogenic)\", \"Quantity (Mt CO2e)\": 2.308798237673932e-05}, {\"Year\": 2050, \"Land use\": \"Apples\", \"Irrigation\": \"dry\", \"Sources\": \"Pasture Seed production\", \"Quantity (Mt CO2e)\": 8.54222986631089e-06}, {\"Year\": 2050, \"Land use\": \"Apples\", \"Irrigation\": \"dry\", \"Sources\": \"Pesticide production\", \"Quantity (Mt CO2e)\": 0.0}, {\"Year\": 2050, \"Land use\": \"Apples\", \"Irrigation\": \"dry\", \"Sources\": \"Sowing\", \"Quantity (Mt CO2e)\": 0.0}, {\"Year\": 2050, \"Land use\": \"Apples\", \"Irrigation\": \"irr\", \"Sources\": \"Agricultural soils: Animal production, dung and urine\", \"Quantity (Mt CO2e)\": 0.0}, {\"Year\": 2050, \"Land use\": \"Apples\", \"Irrigation\": \"irr\", \"Sources\": \"Agricultural soils: Direct Soil Emissions (biogenic)\", \"Quantity (Mt CO2e)\": 0.0026427624987118326}, {\"Year\": 2050, \"Land use\": \"Apples\", \"Irrigation\": \"irr\", \"Sources\": \"Agricultural soils: Indirect leaching and runoff\", \"Quantity (Mt CO2e)\": 0.0}, {\"Year\": 2050, \"Land use\": \"Apples\", \"Irrigation\": \"irr\", \"Sources\": \"Chemical Application\", \"Quantity (Mt CO2e)\": 0.0009166553587552336}, {\"Year\": 2050, \"Land use\": \"Apples\", \"Irrigation\": \"irr\", \"Sources\": \"Crop Management\", \"Quantity (Mt CO2e)\": 0.0002643784556384553}, {\"Year\": 2050, \"Land use\": \"Apples\", \"Irrigation\": \"irr\", \"Sources\": \"Cultivation\", \"Quantity (Mt CO2e)\": 0.0005376277923889956}, {\"Year\": 2050, \"Land use\": \"Apples\", \"Irrigation\": \"irr\", \"Sources\": \"Electricity Use livestock\", \"Quantity (Mt CO2e)\": 0.0}, {\"Year\": 2050, \"Land use\": \"Apples\", \"Irrigation\": \"irr\", \"Sources\": \"Fertiliser production\", \"Quantity (Mt CO2e)\": 0.0008721410544030241}, {\"Year\": 2050, \"Land use\": \"Apples\", \"Irrigation\": \"irr\", \"Sources\": \"Fodder production\", \"Quantity (Mt CO2e)\": 0.0}, {\"Year\": 2050, \"Land use\": \"Apples\", \"Irrigation\": \"irr\", \"Sources\": \"Fuel Use livestock\", \"Quantity (Mt CO2e)\": 0.0}, {\"Year\": 2050, \"Land use\": \"Apples\", \"Irrigation\": \"irr\", \"Sources\": \"Harvesting\", \"Quantity (Mt CO2e)\": 0.00035322144251235843}, {\"Year\": 2050, \"Land use\": \"Apples\", \"Irrigation\": \"irr\", \"Sources\": \"Irrigation\", \"Quantity (Mt CO2e)\": 0.0003844567393181906}, {\"Year\": 2050, \"Land use\": \"Apples\", \"Irrigation\": \"irr\", \"Sources\": \"Livestock Enteric Fermentation (biogenic)\", \"Quantity (Mt CO2e)\": 0.0}, {\"Year\": 2050, \"Land use\": \"Apples\", \"Irrigation\": \"irr\", \"Sources\": \"Livestock Manure Management (biogenic)\", \"Quantity (Mt CO2e)\": 0.0}, {\"Year\": 2050, \"Land use\": \"Apples\", \"Irrigation\": \"irr\", \"Sources\": \"Pasture Seed production\", \"Quantity (Mt CO2e)\": 0.0}, {\"Year\": 2050, \"Land use\": \"Apples\", \"Irrigation\": \"irr\", \"Sources\": \"Pesticide production\", \"Quantity (Mt CO2e)\": 0.000674126960825508}, {\"Year\": 2050, \"Land use\": \"Apples\", \"Irrigation\": \"irr\", \"Sources\": \"Sowing\", \"Quantity (Mt CO2e)\": 0.0}, {\"Year\": 2050, \"Land use\": \"Beef\", \"Irrigation\": \"dry\", \"Sources\": \"Agricultural soils: Animal production, dung and urine\", \"Quantity (Mt CO2e)\": 1.3954506642859847}, {\"Year\": 2050, \"Land use\": \"Beef\", \"Irrigation\": \"dry\", \"Sources\": \"Agricultural soils: Direct Soil Emissions (biogenic)\", \"Quantity (Mt CO2e)\": 0.0}, {\"Year\": 2050, \"Land use\": \"Beef\", \"Irrigation\": \"dry\", \"Sources\": \"Agricultural soils: Indirect leaching and runoff\", \"Quantity (Mt CO2e)\": 0.8296820539992922}, {\"Year\": 2050, \"Land use\": \"Beef\", \"Irrigation\": \"dry\", \"Sources\": \"Chemical Application\", \"Quantity (Mt CO2e)\": 0.0}, {\"Year\": 2050, \"Land use\": \"Beef\", \"Irrigation\": \"dry\", \"Sources\": \"Crop Management\", \"Quantity (Mt CO2e)\": 0.0}, {\"Year\": 2050, \"Land use\": \"Beef\", \"Irrigation\": \"dry\", \"Sources\": \"Cultivation\", \"Quantity (Mt CO2e)\": 0.0}, {\"Year\": 2050, \"Land use\": \"Beef\", \"Irrigation\": \"dry\", \"Sources\": \"Electricity Use livestock\", \"Quantity (Mt CO2e)\": 0.0}, {\"Year\": 2050, \"Land use\": \"Beef\", \"Irrigation\": \"dry\", \"Sources\": \"Fertiliser production\", \"Quantity (Mt CO2e)\": 0.0}, {\"Year\": 2050, \"Land use\": \"Beef\", \"Irrigation\": \"dry\", \"Sources\": \"Fodder production\", \"Quantity (Mt CO2e)\": 0.3112016149092759}, {\"Year\": 2050, \"Land use\": \"Beef\", \"Irrigation\": \"dry\", \"Sources\": \"Fuel Use livestock\", \"Quantity (Mt CO2e)\": 0.6593017687714027}, {\"Year\": 2050, \"Land use\": \"Beef\", \"Irrigation\": \"dry\", \"Sources\": \"Harvesting\", \"Quantity (Mt CO2e)\": 0.0}, {\"Year\": 2050, \"Land use\": \"Beef\", \"Irrigation\": \"dry\", \"Sources\": \"Irrigation\", \"Quantity (Mt CO2e)\": 0.0}, {\"Year\": 2050, \"Land use\": \"Beef\", \"Irrigation\": \"dry\", \"Sources\": \"Livestock Enteric Fermentation (biogenic)\", \"Quantity (Mt CO2e)\": 23.012274421996988}, {\"Year\": 2050, \"Land use\": \"Beef\", \"Irrigation\": \"dry\", \"Sources\": \"Livestock Manure Management (biogenic)\", \"Quantity (Mt CO2e)\": 0.015376100878119888}, {\"Year\": 2050, \"Land use\": \"Beef\", \"Irrigation\": \"dry\", \"Sources\": \"Pasture Seed production\", \"Quantity (Mt CO2e)\": 4.439148211882408}, {\"Year\": 2050, \"Land use\": \"Beef\", \"Irrigation\": \"dry\", \"Sources\": \"Pesticide production\", \"Quantity (Mt CO2e)\": 0.0}, {\"Year\": 2050, \"Land use\": \"Beef\", \"Irrigation\": \"dry\", \"Sources\": \"Sowing\", \"Quantity (Mt CO2e)\": 0.0}, {\"Year\": 2050, \"Land use\": \"Beef\", \"Irrigation\": \"irr\", \"Sources\": \"Agricultural soils: Animal production, dung and urine\", \"Quantity (Mt CO2e)\": 0.2891281444404692}, {\"Year\": 2050, \"Land use\": \"Beef\", \"Irrigation\": \"irr\", \"Sources\": \"Agricultural soils: Direct Soil Emissions (biogenic)\", \"Quantity (Mt CO2e)\": 0.2718925909622964}, {\"Year\": 2050, \"Land use\": \"Beef\", \"Irrigation\": \"irr\", \"Sources\": \"Agricultural soils: Indirect leaching and runoff\", \"Quantity (Mt CO2e)\": 0.285022762891778}, {\"Year\": 2050, \"Land use\": \"Beef\", \"Irrigation\": \"irr\", \"Sources\": \"Chemical Application\", \"Quantity (Mt CO2e)\": 0.019612248009819266}, {\"Year\": 2050, \"Land use\": \"Beef\", \"Irrigation\": \"irr\", \"Sources\": \"Crop Management\", \"Quantity (Mt CO2e)\": 3.241408089305665e-05}, {\"Year\": 2050, \"Land use\": \"Beef\", \"Irrigation\": \"irr\", \"Sources\": \"Cultivation\", \"Quantity (Mt CO2e)\": 0.05057019936412802}, {\"Year\": 2050, \"Land use\": \"Beef\", \"Irrigation\": \"irr\", \"Sources\": \"Electricity Use livestock\", \"Quantity (Mt CO2e)\": 0.0}, {\"Year\": 2050, \"Land use\": \"Beef\", \"Irrigation\": \"irr\", \"Sources\": \"Fertiliser production\", \"Quantity (Mt CO2e)\": 0.13751307793437179}, {\"Year\": 2050, \"Land use\": \"Beef\", \"Irrigation\": \"irr\", \"Sources\": \"Fodder production\", \"Quantity (Mt CO2e)\": 0.048162275431503254}, {\"Year\": 2050, \"Land use\": \"Beef\", \"Irrigation\": \"irr\", \"Sources\": \"Fuel Use livestock\", \"Quantity (Mt CO2e)\": 0.726063262764274}, {\"Year\": 2050, \"Land use\": \"Beef\", \"Irrigation\": \"irr\", \"Sources\": \"Harvesting\", \"Quantity (Mt CO2e)\": 4.1997063777339195e-05}, {\"Year\": 2050, \"Land use\": \"Beef\", \"Irrigation\": \"irr\", \"Sources\": \"Irrigation\", \"Quantity (Mt CO2e)\": 0.025998895292776728}, {\"Year\": 2050, \"Land use\": \"Beef\", \"Irrigation\": \"irr\", \"Sources\": \"Livestock Enteric Fermentation (biogenic)\", \"Quantity (Mt CO2e)\": 3.0519632606374136}, {\"Year\": 2050, \"Land use\": \"Beef\", \"Irrigation\": \"irr\", \"Sources\": \"Livestock Manure Management (biogenic)\", \"Quantity (Mt CO2e)\": 0.0005153971530469109}, {\"Year\": 2050, \"Land use\": \"Beef\", \"Irrigation\": \"irr\", \"Sources\": \"Pasture Seed production\", \"Quantity (Mt CO2e)\": 0.010734830925313982}, {\"Year\": 2050, \"Land use\": \"Beef\", \"Irrigation\": \"irr\", \"Sources\": \"Pesticide production\", \"Quantity (Mt CO2e)\": 0.038112117799046684}, {\"Year\": 2050, \"Land use\": \"Beef\", \"Irrigation\": \"irr\", \"Sources\": \"Sowing\", \"Quantity (Mt CO2e)\": 0.013360840000290556}, {\"Year\": 2050, \"Land use\": \"Citrus\", \"Irrigation\": \"dry\", \"Sources\": \"Agricultural soils: Animal production, dung and urine\", \"Quantity (Mt CO2e)\": 0.0}, {\"Year\": 2050, \"Land use\": \"Citrus\", \"Irrigation\": \"dry\", \"Sources\": \"Agricultural soils: Direct Soil Emissions (biogenic)\", \"Quantity (Mt CO2e)\": 0.026622119708803016}, {\"Year\": 2050, \"Land use\": \"Citrus\", \"Irrigation\": \"dry\", \"Sources\": \"Agricultural soils: Indirect leaching and runoff\", \"Quantity (Mt CO2e)\": 0.0}, {\"Year\": 2050, \"Land use\": \"Citrus\", \"Irrigation\": \"dry\", \"Sources\": \"Chemical Application\", \"Quantity (Mt CO2e)\": 0.001765133814641713}, {\"Year\": 2050, \"Land use\": \"Citrus\", \"Irrigation\": \"dry\", \"Sources\": \"Crop Management\", \"Quantity (Mt CO2e)\": 0.0009000057047588934}, {\"Year\": 2050, \"Land use\": \"Citrus\", \"Irrigation\": \"dry\", \"Sources\": \"Cultivation\", \"Quantity (Mt CO2e)\": 0.0}, {\"Year\": 2050, \"Land use\": \"Citrus\", \"Irrigation\": \"dry\", \"Sources\": \"Electricity Use livestock\", \"Quantity (Mt CO2e)\": 0.0}, {\"Year\": 2050, \"Land use\": \"Citrus\", \"Irrigation\": \"dry\", \"Sources\": \"Fertiliser production\", \"Quantity (Mt CO2e)\": 0.028701133764804022}, {\"Year\": 2050, \"Land use\": \"Citrus\", \"Irrigation\": \"dry\", \"Sources\": \"Fodder production\", \"Quantity (Mt CO2e)\": 0.0}, {\"Year\": 2050, \"Land use\": \"Citrus\", \"Irrigation\": \"dry\", \"Sources\": \"Fuel Use livestock\", \"Quantity (Mt CO2e)\": 0.0}, {\"Year\": 2050, \"Land use\": \"Citrus\", \"Irrigation\": \"dry\", \"Sources\": \"Harvesting\", \"Quantity (Mt CO2e)\": 0.0}, {\"Year\": 2050, \"Land use\": \"Citrus\", \"Irrigation\": \"dry\", \"Sources\": \"Irrigation\", \"Quantity (Mt CO2e)\": 0.0}, {\"Year\": 2050, \"Land use\": \"Citrus\", \"Irrigation\": \"dry\", \"Sources\": \"Livestock Enteric Fermentation (biogenic)\", \"Quantity (Mt CO2e)\": 0.0}, {\"Year\": 2050, \"Land use\": \"Citrus\", \"Irrigation\": \"dry\", \"Sources\": \"Livestock Manure Management (biogenic)\", \"Quantity (Mt CO2e)\": 0.0}, {\"Year\": 2050, \"Land use\": \"Citrus\", \"Irrigation\": \"dry\", \"Sources\": \"Pasture Seed production\", \"Quantity (Mt CO2e)\": 0.0}, {\"Year\": 2050, \"Land use\": \"Citrus\", \"Irrigation\": \"dry\", \"Sources\": \"Pesticide production\", \"Quantity (Mt CO2e)\": 0.007863049925304098}, {\"Year\": 2050, \"Land use\": \"Citrus\", \"Irrigation\": \"dry\", \"Sources\": \"Sowing\", \"Quantity (Mt CO2e)\": 0.0}, {\"Year\": 2050, \"Land use\": \"Citrus\", \"Irrigation\": \"irr\", \"Sources\": \"Agricultural soils: Animal production, dung and urine\", \"Quantity (Mt CO2e)\": 0.0}, {\"Year\": 2050, \"Land use\": \"Citrus\", \"Irrigation\": \"irr\", \"Sources\": \"Agricultural soils: Direct Soil Emissions (biogenic)\", \"Quantity (Mt CO2e)\": 0.01016469091796875}, {\"Year\": 2050, \"Land use\": \"Citrus\", \"Irrigation\": \"irr\", \"Sources\": \"Agricultural soils: Indirect leaching and runoff\", \"Quantity (Mt CO2e)\": 0.0}, {\"Year\": 2050, \"Land use\": \"Citrus\", \"Irrigation\": \"irr\", \"Sources\": \"Chemical Application\", \"Quantity (Mt CO2e)\": 0.000802469970703125}, {\"Year\": 2050, \"Land use\": \"Citrus\", \"Irrigation\": \"irr\", \"Sources\": \"Crop Management\", \"Quantity (Mt CO2e)\": 0.00038744737243652337}, {\"Year\": 2050, \"Land use\": \"Citrus\", \"Irrigation\": \"irr\", \"Sources\": \"Cultivation\", \"Quantity (Mt CO2e)\": 0.0}, {\"Year\": 2050, \"Land use\": \"Citrus\", \"Irrigation\": \"irr\", \"Sources\": \"Electricity Use livestock\", \"Quantity (Mt CO2e)\": 0.0}, {\"Year\": 2050, \"Land use\": \"Citrus\", \"Irrigation\": \"irr\", \"Sources\": \"Fertiliser production\", \"Quantity (Mt CO2e)\": 0.0109584873046875}, {\"Year\": 2050, \"Land use\": \"Citrus\", \"Irrigation\": \"irr\", \"Sources\": \"Fodder production\", \"Quantity (Mt CO2e)\": 0.0}, {\"Year\": 2050, \"Land use\": \"Citrus\", \"Irrigation\": \"irr\", \"Sources\": \"Fuel Use livestock\", \"Quantity (Mt CO2e)\": 0.0}, {\"Year\": 2050, \"Land use\": \"Citrus\", \"Irrigation\": \"irr\", \"Sources\": \"Harvesting\", \"Quantity (Mt CO2e)\": 0.0}, {\"Year\": 2050, \"Land use\": \"Citrus\", \"Irrigation\": \"irr\", \"Sources\": \"Irrigation\", \"Quantity (Mt CO2e)\": 0.0014217440185546875}, {\"Year\": 2050, \"Land use\": \"Citrus\", \"Irrigation\": \"irr\", \"Sources\": \"Livestock Enteric Fermentation (biogenic)\", \"Quantity (Mt CO2e)\": 0.0}, {\"Year\": 2050, \"Land use\": \"Citrus\", \"Irrigation\": \"irr\", \"Sources\": \"Livestock Manure Management (biogenic)\", \"Quantity (Mt CO2e)\": 0.0}, {\"Year\": 2050, \"Land use\": \"Citrus\", \"Irrigation\": \"irr\", \"Sources\": \"Pasture Seed production\", \"Quantity (Mt CO2e)\": 0.0}, {\"Year\": 2050, \"Land use\": \"Citrus\", \"Irrigation\": \"irr\", \"Sources\": \"Pesticide production\", \"Quantity (Mt CO2e)\": 0.0030022205810546873}, {\"Year\": 2050, \"Land use\": \"Citrus\", \"Irrigation\": \"irr\", \"Sources\": \"Sowing\", \"Quantity (Mt CO2e)\": 0.0}, {\"Year\": 2050, \"Land use\": \"Cotton\", \"Irrigation\": \"dry\", \"Sources\": \"Agricultural soils: Animal production, dung and urine\", \"Quantity (Mt CO2e)\": 0.0}, {\"Year\": 2050, \"Land use\": \"Cotton\", \"Irrigation\": \"dry\", \"Sources\": \"Agricultural soils: Direct Soil Emissions (biogenic)\", \"Quantity (Mt CO2e)\": 0.04228701244911265}, {\"Year\": 2050, \"Land use\": \"Cotton\", \"Irrigation\": \"dry\", \"Sources\": \"Agricultural soils: Indirect leaching and runoff\", \"Quantity (Mt CO2e)\": 0.0}, {\"Year\": 2050, \"Land use\": \"Cotton\", \"Irrigation\": \"dry\", \"Sources\": \"Chemical Application\", \"Quantity (Mt CO2e)\": 0.034080413989484026}, {\"Year\": 2050, \"Land use\": \"Cotton\", \"Irrigation\": \"dry\", \"Sources\": \"Crop Management\", \"Quantity (Mt CO2e)\": 0.0}, {\"Year\": 2050, \"Land use\": \"Cotton\", \"Irrigation\": \"dry\", \"Sources\": \"Cultivation\", \"Quantity (Mt CO2e)\": 0.027583785309018467}, {\"Year\": 2050, \"Land use\": \"Cotton\", \"Irrigation\": \"dry\", \"Sources\": \"Electricity Use livestock\", \"Quantity (Mt CO2e)\": 0.0}, {\"Year\": 2050, \"Land use\": \"Cotton\", \"Irrigation\": \"dry\", \"Sources\": \"Fertiliser production\", \"Quantity (Mt CO2e)\": 0.03764823963712423}, {\"Year\": 2050, \"Land use\": \"Cotton\", \"Irrigation\": \"dry\", \"Sources\": \"Fodder production\", \"Quantity (Mt CO2e)\": 0.0}, {\"Year\": 2050, \"Land use\": \"Cotton\", \"Irrigation\": \"dry\", \"Sources\": \"Fuel Use livestock\", \"Quantity (Mt CO2e)\": 0.0}, {\"Year\": 2050, \"Land use\": \"Cotton\", \"Irrigation\": \"dry\", \"Sources\": \"Harvesting\", \"Quantity (Mt CO2e)\": 0.049326161384084855}, {\"Year\": 2050, \"Land use\": \"Cotton\", \"Irrigation\": \"dry\", \"Sources\": \"Irrigation\", \"Quantity (Mt CO2e)\": 0.0}, {\"Year\": 2050, \"Land use\": \"Cotton\", \"Irrigation\": \"dry\", \"Sources\": \"Livestock Enteric Fermentation (biogenic)\", \"Quantity (Mt CO2e)\": 0.0}, {\"Year\": 2050, \"Land use\": \"Cotton\", \"Irrigation\": \"dry\", \"Sources\": \"Livestock Manure Management (biogenic)\", \"Quantity (Mt CO2e)\": 0.0}, {\"Year\": 2050, \"Land use\": \"Cotton\", \"Irrigation\": \"dry\", \"Sources\": \"Pasture Seed production\", \"Quantity (Mt CO2e)\": 0.0}, {\"Year\": 2050, \"Land use\": \"Cotton\", \"Irrigation\": \"dry\", \"Sources\": \"Pesticide production\", \"Quantity (Mt CO2e)\": 0.0708788563609156}, {\"Year\": 2050, \"Land use\": \"Cotton\", \"Irrigation\": \"dry\", \"Sources\": \"Sowing\", \"Quantity (Mt CO2e)\": 0.0059928396152099305}, {\"Year\": 2050, \"Land use\": \"Cotton\", \"Irrigation\": \"irr\", \"Sources\": \"Agricultural soils: Animal production, dung and urine\", \"Quantity (Mt CO2e)\": 0.0}, {\"Year\": 2050, \"Land use\": \"Cotton\", \"Irrigation\": \"irr\", \"Sources\": \"Agricultural soils: Direct Soil Emissions (biogenic)\", \"Quantity (Mt CO2e)\": 0.0015046900634765625}, {\"Year\": 2050, \"Land use\": \"Cotton\", \"Irrigation\": \"irr\", \"Sources\": \"Agricultural soils: Indirect leaching and runoff\", \"Quantity (Mt CO2e)\": 0.0}, {\"Year\": 2050, \"Land use\": \"Cotton\", \"Irrigation\": \"irr\", \"Sources\": \"Chemical Application\", \"Quantity (Mt CO2e)\": 0.0005217041015625}, {\"Year\": 2050, \"Land use\": \"Cotton\", \"Irrigation\": \"irr\", \"Sources\": \"Crop Management\", \"Quantity (Mt CO2e)\": 0.0}, {\"Year\": 2050, \"Land use\": \"Cotton\", \"Irrigation\": \"irr\", \"Sources\": \"Cultivation\", \"Quantity (Mt CO2e)\": 0.00033184451293945315}, {\"Year\": 2050, \"Land use\": \"Cotton\", \"Irrigation\": \"irr\", \"Sources\": \"Electricity Use livestock\", \"Quantity (Mt CO2e)\": 0.0}, {\"Year\": 2050, \"Land use\": \"Cotton\", \"Irrigation\": \"irr\", \"Sources\": \"Fertiliser production\", \"Quantity (Mt CO2e)\": 0.001131499267578125}, {\"Year\": 2050, \"Land use\": \"Cotton\", \"Irrigation\": \"irr\", \"Sources\": \"Fodder production\", \"Quantity (Mt CO2e)\": 0.0}, {\"Year\": 2050, \"Land use\": \"Cotton\", \"Irrigation\": \"irr\", \"Sources\": \"Fuel Use livestock\", \"Quantity (Mt CO2e)\": 0.0}, {\"Year\": 2050, \"Land use\": \"Cotton\", \"Irrigation\": \"irr\", \"Sources\": \"Harvesting\", \"Quantity (Mt CO2e)\": 0.0003881726684570313}, {\"Year\": 2050, \"Land use\": \"Cotton\", \"Irrigation\": \"irr\", \"Sources\": \"Irrigation\", \"Quantity (Mt CO2e)\": 0.00022145451354980468}, {\"Year\": 2050, \"Land use\": \"Cotton\", \"Irrigation\": \"irr\", \"Sources\": \"Livestock Enteric Fermentation (biogenic)\", \"Quantity (Mt CO2e)\": 0.0}, {\"Year\": 2050, \"Land use\": \"Cotton\", \"Irrigation\": \"irr\", \"Sources\": \"Livestock Manure Management (biogenic)\", \"Quantity (Mt CO2e)\": 0.0}, {\"Year\": 2050, \"Land use\": \"Cotton\", \"Irrigation\": \"irr\", \"Sources\": \"Pasture Seed production\", \"Quantity (Mt CO2e)\": 0.0}, {\"Year\": 2050, \"Land use\": \"Cotton\", \"Irrigation\": \"irr\", \"Sources\": \"Pesticide production\", \"Quantity (Mt CO2e)\": 0.001176680908203125}, {\"Year\": 2050, \"Land use\": \"Cotton\", \"Irrigation\": \"irr\", \"Sources\": \"Sowing\", \"Quantity (Mt CO2e)\": 2.6999567031860353e-05}, {\"Year\": 2050, \"Land use\": \"Dairy\", \"Irrigation\": \"dry\", \"Sources\": \"Agricultural soils: Animal production, dung and urine\", \"Quantity (Mt CO2e)\": 0.4400644355482569}, {\"Year\": 2050, \"Land use\": \"Dairy\", \"Irrigation\": \"dry\", \"Sources\": \"Agricultural soils: Direct Soil Emissions (biogenic)\", \"Quantity (Mt CO2e)\": 1.7058715514897357e-05}, {\"Year\": 2050, \"Land use\": \"Dairy\", \"Irrigation\": \"dry\", \"Sources\": \"Agricultural soils: Indirect leaching and runoff\", \"Quantity (Mt CO2e)\": 0.5715941195508856}, {\"Year\": 2050, \"Land use\": \"Dairy\", \"Irrigation\": \"dry\", \"Sources\": \"Chemical Application\", \"Quantity (Mt CO2e)\": 1.634916129188241e-05}, {\"Year\": 2050, \"Land use\": \"Dairy\", \"Irrigation\": \"dry\", \"Sources\": \"Crop Management\", \"Quantity (Mt CO2e)\": 0.0}, {\"Year\": 2050, \"Land use\": \"Dairy\", \"Irrigation\": \"dry\", \"Sources\": \"Cultivation\", \"Quantity (Mt CO2e)\": 3.602062000665569e-06}, {\"Year\": 2050, \"Land use\": \"Dairy\", \"Irrigation\": \"dry\", \"Sources\": \"Electricity Use livestock\", \"Quantity (Mt CO2e)\": 0.5140066135909415}, {\"Year\": 2050, \"Land use\": \"Dairy\", \"Irrigation\": \"dry\", \"Sources\": \"Fertiliser production\", \"Quantity (Mt CO2e)\": 7.00313168955563e-05}, {\"Year\": 2050, \"Land use\": \"Dairy\", \"Irrigation\": \"dry\", \"Sources\": \"Fodder production\", \"Quantity (Mt CO2e)\": 0.6390848952891284}, {\"Year\": 2050, \"Land use\": \"Dairy\", \"Irrigation\": \"dry\", \"Sources\": \"Fuel Use livestock\", \"Quantity (Mt CO2e)\": 0.35477792920357876}, {\"Year\": 2050, \"Land use\": \"Dairy\", \"Irrigation\": \"dry\", \"Sources\": \"Harvesting\", \"Quantity (Mt CO2e)\": 5.012336638819477e-06}, {\"Year\": 2050, \"Land use\": \"Dairy\", \"Irrigation\": \"dry\", \"Sources\": \"Irrigation\", \"Quantity (Mt CO2e)\": 0.0}, {\"Year\": 2050, \"Land use\": \"Dairy\", \"Irrigation\": \"dry\", \"Sources\": \"Livestock Enteric Fermentation (biogenic)\", \"Quantity (Mt CO2e)\": 4.058926441009962}, {\"Year\": 2050, \"Land use\": \"Dairy\", \"Irrigation\": \"dry\", \"Sources\": \"Livestock Manure Management (biogenic)\", \"Quantity (Mt CO2e)\": 0.2982702964739318}, {\"Year\": 2050, \"Land use\": \"Dairy\", \"Irrigation\": \"dry\", \"Sources\": \"Pasture Seed production\", \"Quantity (Mt CO2e)\": 0.31714630678159467}, {\"Year\": 2050, \"Land use\": \"Dairy\", \"Irrigation\": \"dry\", \"Sources\": \"Pesticide production\", \"Quantity (Mt CO2e)\": 3.8522837516172796e-05}, {\"Year\": 2050, \"Land use\": \"Dairy\", \"Irrigation\": \"dry\", \"Sources\": \"Sowing\", \"Quantity (Mt CO2e)\": 1.3153296763011896e-05}, {\"Year\": 2050, \"Land use\": \"Dairy\", \"Irrigation\": \"irr\", \"Sources\": \"Agricultural soils: Animal production, dung and urine\", \"Quantity (Mt CO2e)\": 0.10395824963378907}, {\"Year\": 2050, \"Land use\": \"Dairy\", \"Irrigation\": \"irr\", \"Sources\": \"Agricultural soils: Direct Soil Emissions (biogenic)\", \"Quantity (Mt CO2e)\": 0.14462264831542967}, {\"Year\": 2050, \"Land use\": \"Dairy\", \"Irrigation\": \"irr\", \"Sources\": \"Agricultural soils: Indirect leaching and runoff\", \"Quantity (Mt CO2e)\": 0.13384590087890624}, {\"Year\": 2050, \"Land use\": \"Dairy\", \"Irrigation\": \"irr\", \"Sources\": \"Chemical Application\", \"Quantity (Mt CO2e)\": 0.00911480224609375}, {\"Year\": 2050, \"Land use\": \"Dairy\", \"Irrigation\": \"irr\", \"Sources\": \"Crop Management\", \"Quantity (Mt CO2e)\": 0.0}, {\"Year\": 2050, \"Land use\": \"Dairy\", \"Irrigation\": \"irr\", \"Sources\": \"Cultivation\", \"Quantity (Mt CO2e)\": 0.02292956898498535}, {\"Year\": 2050, \"Land use\": \"Dairy\", \"Irrigation\": \"irr\", \"Sources\": \"Electricity Use livestock\", \"Quantity (Mt CO2e)\": 0.11473590259361269}, {\"Year\": 2050, \"Land use\": \"Dairy\", \"Irrigation\": \"irr\", \"Sources\": \"Fertiliser production\", \"Quantity (Mt CO2e)\": 0.0687752933959961}, {\"Year\": 2050, \"Land use\": \"Dairy\", \"Irrigation\": \"irr\", \"Sources\": \"Fodder production\", \"Quantity (Mt CO2e)\": 0.1679637710571289}, {\"Year\": 2050, \"Land use\": \"Dairy\", \"Irrigation\": \"irr\", \"Sources\": \"Fuel Use livestock\", \"Quantity (Mt CO2e)\": 0.07274447393989562}, {\"Year\": 2050, \"Land use\": \"Dairy\", \"Irrigation\": \"irr\", \"Sources\": \"Harvesting\", \"Quantity (Mt CO2e)\": 0.0}, {\"Year\": 2050, \"Land use\": \"Dairy\", \"Irrigation\": \"irr\", \"Sources\": \"Irrigation\", \"Quantity (Mt CO2e)\": 0.015443033882141112}, {\"Year\": 2050, \"Land use\": \"Dairy\", \"Irrigation\": \"irr\", \"Sources\": \"Livestock Enteric Fermentation (biogenic)\", \"Quantity (Mt CO2e)\": 0.9509606318359376}, {\"Year\": 2050, \"Land use\": \"Dairy\", \"Irrigation\": \"irr\", \"Sources\": \"Livestock Manure Management (biogenic)\", \"Quantity (Mt CO2e)\": 0.06436963333129883}, {\"Year\": 2050, \"Land use\": \"Dairy\", \"Irrigation\": \"irr\", \"Sources\": \"Pasture Seed production\", \"Quantity (Mt CO2e)\": 0.046433358413696287}, {\"Year\": 2050, \"Land use\": \"Dairy\", \"Irrigation\": \"irr\", \"Sources\": \"Pesticide production\", \"Quantity (Mt CO2e)\": 0.017303738357543945}, {\"Year\": 2050, \"Land use\": \"Dairy\", \"Irrigation\": \"irr\", \"Sources\": \"Sowing\", \"Quantity (Mt CO2e)\": 0.00535782767868042}, {\"Year\": 2050, \"Land use\": \"Grapes\", \"Irrigation\": \"dry\", \"Sources\": \"Agricultural soils: Animal production, dung and urine\", \"Quantity (Mt CO2e)\": 0.0}, {\"Year\": 2050, \"Land use\": \"Grapes\", \"Irrigation\": \"dry\", \"Sources\": \"Agricultural soils: Direct Soil Emissions (biogenic)\", \"Quantity (Mt CO2e)\": 0.07416076927029375}, {\"Year\": 2050, \"Land use\": \"Grapes\", \"Irrigation\": \"dry\", \"Sources\": \"Agricultural soils: Indirect leaching and runoff\", \"Quantity (Mt CO2e)\": 0.0}, {\"Year\": 2050, \"Land use\": \"Grapes\", \"Irrigation\": \"dry\", \"Sources\": \"Chemical Application\", \"Quantity (Mt CO2e)\": 0.02583725688698125}, {\"Year\": 2050, \"Land use\": \"Grapes\", \"Irrigation\": \"dry\", \"Sources\": \"Crop Management\", \"Quantity (Mt CO2e)\": 0.010772879445307824}, {\"Year\": 2050, \"Land use\": \"Grapes\", \"Irrigation\": \"dry\", \"Sources\": \"Cultivation\", \"Quantity (Mt CO2e)\": 0.011055715273555925}, {\"Year\": 2050, \"Land use\": \"Grapes\", \"Irrigation\": \"dry\", \"Sources\": \"Electricity Use livestock\", \"Quantity (Mt CO2e)\": 0.0}, {\"Year\": 2050, \"Land use\": \"Grapes\", \"Irrigation\": \"dry\", \"Sources\": \"Fertiliser production\", \"Quantity (Mt CO2e)\": 0.05659904896615759}, {\"Year\": 2050, \"Land use\": \"Grapes\", \"Irrigation\": \"dry\", \"Sources\": \"Fodder production\", \"Quantity (Mt CO2e)\": 0.0}, {\"Year\": 2050, \"Land use\": \"Grapes\", \"Irrigation\": \"dry\", \"Sources\": \"Fuel Use livestock\", \"Quantity (Mt CO2e)\": 0.0}, {\"Year\": 2050, \"Land use\": \"Grapes\", \"Irrigation\": \"dry\", \"Sources\": \"Harvesting\", \"Quantity (Mt CO2e)\": 0.0016580733646342704}, {\"Year\": 2050, \"Land use\": \"Grapes\", \"Irrigation\": \"dry\", \"Sources\": \"Irrigation\", \"Quantity (Mt CO2e)\": 0.0}, {\"Year\": 2050, \"Land use\": \"Grapes\", \"Irrigation\": \"dry\", \"Sources\": \"Livestock Enteric Fermentation (biogenic)\", \"Quantity (Mt CO2e)\": 0.0}, {\"Year\": 2050, \"Land use\": \"Grapes\", \"Irrigation\": \"dry\", \"Sources\": \"Livestock Manure Management (biogenic)\", \"Quantity (Mt CO2e)\": 0.0}, {\"Year\": 2050, \"Land use\": \"Grapes\", \"Irrigation\": \"dry\", \"Sources\": \"Pasture Seed production\", \"Quantity (Mt CO2e)\": 0.0}, {\"Year\": 2050, \"Land use\": \"Grapes\", \"Irrigation\": \"dry\", \"Sources\": \"Pesticide production\", \"Quantity (Mt CO2e)\": 0.04246674070167976}, {\"Year\": 2050, \"Land use\": \"Grapes\", \"Irrigation\": \"dry\", \"Sources\": \"Sowing\", \"Quantity (Mt CO2e)\": 2.5009368399732463e-05}, {\"Year\": 2050, \"Land use\": \"Grapes\", \"Irrigation\": \"irr\", \"Sources\": \"Agricultural soils: Animal production, dung and urine\", \"Quantity (Mt CO2e)\": 0.0}, {\"Year\": 2050, \"Land use\": \"Grapes\", \"Irrigation\": \"irr\", \"Sources\": \"Agricultural soils: Direct Soil Emissions (biogenic)\", \"Quantity (Mt CO2e)\": 0.0}, {\"Year\": 2050, \"Land use\": \"Grapes\", \"Irrigation\": \"irr\", \"Sources\": \"Agricultural soils: Indirect leaching and runoff\", \"Quantity (Mt CO2e)\": 0.0}, {\"Year\": 2050, \"Land use\": \"Grapes\", \"Irrigation\": \"irr\", \"Sources\": \"Chemical Application\", \"Quantity (Mt CO2e)\": 0.0}, {\"Year\": 2050, \"Land use\": \"Grapes\", \"Irrigation\": \"irr\", \"Sources\": \"Crop Management\", \"Quantity (Mt CO2e)\": 0.0}, {\"Year\": 2050, \"Land use\": \"Grapes\", \"Irrigation\": \"irr\", \"Sources\": \"Cultivation\", \"Quantity (Mt CO2e)\": 0.0}, {\"Year\": 2050, \"Land use\": \"Grapes\", \"Irrigation\": \"irr\", \"Sources\": \"Electricity Use livestock\", \"Quantity (Mt CO2e)\": 0.0}, {\"Year\": 2050, \"Land use\": \"Grapes\", \"Irrigation\": \"irr\", \"Sources\": \"Fertiliser production\", \"Quantity (Mt CO2e)\": 0.0}, {\"Year\": 2050, \"Land use\": \"Grapes\", \"Irrigation\": \"irr\", \"Sources\": \"Fodder production\", \"Quantity (Mt CO2e)\": 0.0}, {\"Year\": 2050, \"Land use\": \"Grapes\", \"Irrigation\": \"irr\", \"Sources\": \"Fuel Use livestock\", \"Quantity (Mt CO2e)\": 0.0}, {\"Year\": 2050, \"Land use\": \"Grapes\", \"Irrigation\": \"irr\", \"Sources\": \"Harvesting\", \"Quantity (Mt CO2e)\": 0.0}, {\"Year\": 2050, \"Land use\": \"Grapes\", \"Irrigation\": \"irr\", \"Sources\": \"Irrigation\", \"Quantity (Mt CO2e)\": 0.0}, {\"Year\": 2050, \"Land use\": \"Grapes\", \"Irrigation\": \"irr\", \"Sources\": \"Livestock Enteric Fermentation (biogenic)\", \"Quantity (Mt CO2e)\": 0.0}, {\"Year\": 2050, \"Land use\": \"Grapes\", \"Irrigation\": \"irr\", \"Sources\": \"Livestock Manure Management (biogenic)\", \"Quantity (Mt CO2e)\": 0.0}, {\"Year\": 2050, \"Land use\": \"Grapes\", \"Irrigation\": \"irr\", \"Sources\": \"Pasture Seed production\", \"Quantity (Mt CO2e)\": 0.0}, {\"Year\": 2050, \"Land use\": \"Grapes\", \"Irrigation\": \"irr\", \"Sources\": \"Pesticide production\", \"Quantity (Mt CO2e)\": 0.0}, {\"Year\": 2050, \"Land use\": \"Grapes\", \"Irrigation\": \"irr\", \"Sources\": \"Sowing\", \"Quantity (Mt CO2e)\": 0.0}, {\"Year\": 2050, \"Land use\": \"Hay\", \"Irrigation\": \"dry\", \"Sources\": \"Agricultural soils: Animal production, dung and urine\", \"Quantity (Mt CO2e)\": 0.0}, {\"Year\": 2050, \"Land use\": \"Hay\", \"Irrigation\": \"dry\", \"Sources\": \"Agricultural soils: Direct Soil Emissions (biogenic)\", \"Quantity (Mt CO2e)\": 0.0}, {\"Year\": 2050, \"Land use\": \"Hay\", \"Irrigation\": \"dry\", \"Sources\": \"Agricultural soils: Indirect leaching and runoff\", \"Quantity (Mt CO2e)\": 0.0}, {\"Year\": 2050, \"Land use\": \"Hay\", \"Irrigation\": \"dry\", \"Sources\": \"Chemical Application\", \"Quantity (Mt CO2e)\": 0.003854336614608765}, {\"Year\": 2050, \"Land use\": \"Hay\", \"Irrigation\": \"dry\", \"Sources\": \"Crop Management\", \"Quantity (Mt CO2e)\": 0.0}, {\"Year\": 2050, \"Land use\": \"Hay\", \"Irrigation\": \"dry\", \"Sources\": \"Cultivation\", \"Quantity (Mt CO2e)\": 0.0673352619934082}, {\"Year\": 2050, \"Land use\": \"Hay\", \"Irrigation\": \"dry\", \"Sources\": \"Electricity Use livestock\", \"Quantity (Mt CO2e)\": 0.0}, {\"Year\": 2050, \"Land use\": \"Hay\", \"Irrigation\": \"dry\", \"Sources\": \"Fertiliser production\", \"Quantity (Mt CO2e)\": 0.14356854901123048}, {\"Year\": 2050, \"Land use\": \"Hay\", \"Irrigation\": \"dry\", \"Sources\": \"Fodder production\", \"Quantity (Mt CO2e)\": 0.0}, {\"Year\": 2050, \"Land use\": \"Hay\", \"Irrigation\": \"dry\", \"Sources\": \"Fuel Use livestock\", \"Quantity (Mt CO2e)\": 0.0}, {\"Year\": 2050, \"Land use\": \"Hay\", \"Irrigation\": \"dry\", \"Sources\": \"Harvesting\", \"Quantity (Mt CO2e)\": 0.0}, {\"Year\": 2050, \"Land use\": \"Hay\", \"Irrigation\": \"dry\", \"Sources\": \"Irrigation\", \"Quantity (Mt CO2e)\": 0.0}, {\"Year\": 2050, \"Land use\": \"Hay\", \"Irrigation\": \"dry\", \"Sources\": \"Livestock Enteric Fermentation (biogenic)\", \"Quantity (Mt CO2e)\": 0.0}, {\"Year\": 2050, \"Land use\": \"Hay\", \"Irrigation\": \"dry\", \"Sources\": \"Livestock Manure Management (biogenic)\", \"Quantity (Mt CO2e)\": 0.0}, {\"Year\": 2050, \"Land use\": \"Hay\", \"Irrigation\": \"dry\", \"Sources\": \"Pasture Seed production\", \"Quantity (Mt CO2e)\": 0.0}, {\"Year\": 2050, \"Land use\": \"Hay\", \"Irrigation\": \"dry\", \"Sources\": \"Pesticide production\", \"Quantity (Mt CO2e)\": 0.05029624755859375}, {\"Year\": 2050, \"Land use\": \"Hay\", \"Irrigation\": \"dry\", \"Sources\": \"Sowing\", \"Quantity (Mt CO2e)\": 0.003854336614608765}, {\"Year\": 2050, \"Land use\": \"Hay\", \"Irrigation\": \"irr\", \"Sources\": \"Agricultural soils: Animal production, dung and urine\", \"Quantity (Mt CO2e)\": 0.0}, {\"Year\": 2050, \"Land use\": \"Hay\", \"Irrigation\": \"irr\", \"Sources\": \"Agricultural soils: Direct Soil Emissions (biogenic)\", \"Quantity (Mt CO2e)\": 0.0}, {\"Year\": 2050, \"Land use\": \"Hay\", \"Irrigation\": \"irr\", \"Sources\": \"Agricultural soils: Indirect leaching and runoff\", \"Quantity (Mt CO2e)\": 0.0}, {\"Year\": 2050, \"Land use\": \"Hay\", \"Irrigation\": \"irr\", \"Sources\": \"Chemical Application\", \"Quantity (Mt CO2e)\": 0.001253515926361084}, {\"Year\": 2050, \"Land use\": \"Hay\", \"Irrigation\": \"irr\", \"Sources\": \"Crop Management\", \"Quantity (Mt CO2e)\": 0.0}, {\"Year\": 2050, \"Land use\": \"Hay\", \"Irrigation\": \"irr\", \"Sources\": \"Cultivation\", \"Quantity (Mt CO2e)\": 0.02189892367553711}, {\"Year\": 2050, \"Land use\": \"Hay\", \"Irrigation\": \"irr\", \"Sources\": \"Electricity Use livestock\", \"Quantity (Mt CO2e)\": 0.0}, {\"Year\": 2050, \"Land use\": \"Hay\", \"Irrigation\": \"irr\", \"Sources\": \"Fertiliser production\", \"Quantity (Mt CO2e)\": 0.04669168292236328}, {\"Year\": 2050, \"Land use\": \"Hay\", \"Irrigation\": \"irr\", \"Sources\": \"Fodder production\", \"Quantity (Mt CO2e)\": 0.0}, {\"Year\": 2050, \"Land use\": \"Hay\", \"Irrigation\": \"irr\", \"Sources\": \"Fuel Use livestock\", \"Quantity (Mt CO2e)\": 0.0}, {\"Year\": 2050, \"Land use\": \"Hay\", \"Irrigation\": \"irr\", \"Sources\": \"Harvesting\", \"Quantity (Mt CO2e)\": 0.0}, {\"Year\": 2050, \"Land use\": \"Hay\", \"Irrigation\": \"irr\", \"Sources\": \"Irrigation\", \"Quantity (Mt CO2e)\": 0.020247216579437257}, {\"Year\": 2050, \"Land use\": \"Hay\", \"Irrigation\": \"irr\", \"Sources\": \"Livestock Enteric Fermentation (biogenic)\", \"Quantity (Mt CO2e)\": 0.0}, {\"Year\": 2050, \"Land use\": \"Hay\", \"Irrigation\": \"irr\", \"Sources\": \"Livestock Manure Management (biogenic)\", \"Quantity (Mt CO2e)\": 0.0}, {\"Year\": 2050, \"Land use\": \"Hay\", \"Irrigation\": \"irr\", \"Sources\": \"Pasture Seed production\", \"Quantity (Mt CO2e)\": 0.0}, {\"Year\": 2050, \"Land use\": \"Hay\", \"Irrigation\": \"irr\", \"Sources\": \"Pesticide production\", \"Quantity (Mt CO2e)\": 0.01635745751953125}, {\"Year\": 2050, \"Land use\": \"Hay\", \"Irrigation\": \"irr\", \"Sources\": \"Sowing\", \"Quantity (Mt CO2e)\": 0.001253515926361084}, {\"Year\": 2050, \"Land use\": \"Nuts\", \"Irrigation\": \"dry\", \"Sources\": \"Agricultural soils: Animal production, dung and urine\", \"Quantity (Mt CO2e)\": 0.0}, {\"Year\": 2050, \"Land use\": \"Nuts\", \"Irrigation\": \"dry\", \"Sources\": \"Agricultural soils: Direct Soil Emissions (biogenic)\", \"Quantity (Mt CO2e)\": 0.03285961110398178}, {\"Year\": 2050, \"Land use\": \"Nuts\", \"Irrigation\": \"dry\", \"Sources\": \"Agricultural soils: Indirect leaching and runoff\", \"Quantity (Mt CO2e)\": 0.0}, {\"Year\": 2050, \"Land use\": \"Nuts\", \"Irrigation\": \"dry\", \"Sources\": \"Chemical Application\", \"Quantity (Mt CO2e)\": 0.00824869582767054}, {\"Year\": 2050, \"Land use\": \"Nuts\", \"Irrigation\": \"dry\", \"Sources\": \"Crop Management\", \"Quantity (Mt CO2e)\": 0.00229070781402712}, {\"Year\": 2050, \"Land use\": \"Nuts\", \"Irrigation\": \"dry\", \"Sources\": \"Cultivation\", \"Quantity (Mt CO2e)\": 0.005643555102665923}, {\"Year\": 2050, \"Land use\": \"Nuts\", \"Irrigation\": \"dry\", \"Sources\": \"Electricity Use livestock\", \"Quantity (Mt CO2e)\": 0.0}, {\"Year\": 2050, \"Land use\": \"Nuts\", \"Irrigation\": \"dry\", \"Sources\": \"Fertiliser production\", \"Quantity (Mt CO2e)\": 0.03073705801917694}, {\"Year\": 2050, \"Land use\": \"Nuts\", \"Irrigation\": \"dry\", \"Sources\": \"Fodder production\", \"Quantity (Mt CO2e)\": 0.0}, {\"Year\": 2050, \"Land use\": \"Nuts\", \"Irrigation\": \"dry\", \"Sources\": \"Fuel Use livestock\", \"Quantity (Mt CO2e)\": 0.0}, {\"Year\": 2050, \"Land use\": \"Nuts\", \"Irrigation\": \"dry\", \"Sources\": \"Harvesting\", \"Quantity (Mt CO2e)\": 0.0026946506132006333}, {\"Year\": 2050, \"Land use\": \"Nuts\", \"Irrigation\": \"dry\", \"Sources\": \"Irrigation\", \"Quantity (Mt CO2e)\": 0.0}, {\"Year\": 2050, \"Land use\": \"Nuts\", \"Irrigation\": \"dry\", \"Sources\": \"Livestock Enteric Fermentation (biogenic)\", \"Quantity (Mt CO2e)\": 0.0}, {\"Year\": 2050, \"Land use\": \"Nuts\", \"Irrigation\": \"dry\", \"Sources\": \"Livestock Manure Management (biogenic)\", \"Quantity (Mt CO2e)\": 0.0}, {\"Year\": 2050, \"Land use\": \"Nuts\", \"Irrigation\": \"dry\", \"Sources\": \"Pasture Seed production\", \"Quantity (Mt CO2e)\": 0.0}, {\"Year\": 2050, \"Land use\": \"Nuts\", \"Irrigation\": \"dry\", \"Sources\": \"Pesticide production\", \"Quantity (Mt CO2e)\": 0.011801510003213974}, {\"Year\": 2050, \"Land use\": \"Nuts\", \"Irrigation\": \"dry\", \"Sources\": \"Sowing\", \"Quantity (Mt CO2e)\": 0.00040164339045043525}, {\"Year\": 2050, \"Land use\": \"Nuts\", \"Irrigation\": \"irr\", \"Sources\": \"Agricultural soils: Animal production, dung and urine\", \"Quantity (Mt CO2e)\": 0.0}, {\"Year\": 2050, \"Land use\": \"Nuts\", \"Irrigation\": \"irr\", \"Sources\": \"Agricultural soils: Direct Soil Emissions (biogenic)\", \"Quantity (Mt CO2e)\": 0.002166193359375}, {\"Year\": 2050, \"Land use\": \"Nuts\", \"Irrigation\": \"irr\", \"Sources\": \"Agricultural soils: Indirect leaching and runoff\", \"Quantity (Mt CO2e)\": 0.0}, {\"Year\": 2050, \"Land use\": \"Nuts\", \"Irrigation\": \"irr\", \"Sources\": \"Chemical Application\", \"Quantity (Mt CO2e)\": 0.0004618931579589844}, {\"Year\": 2050, \"Land use\": \"Nuts\", \"Irrigation\": \"irr\", \"Sources\": \"Crop Management\", \"Quantity (Mt CO2e)\": 0.0001420674591064453}, {\"Year\": 2050, \"Land use\": \"Nuts\", \"Irrigation\": \"irr\", \"Sources\": \"Cultivation\", \"Quantity (Mt CO2e)\": 0.00038729678344726564}, {\"Year\": 2050, \"Land use\": \"Nuts\", \"Irrigation\": \"irr\", \"Sources\": \"Electricity Use livestock\", \"Quantity (Mt CO2e)\": 0.0}, {\"Year\": 2050, \"Land use\": \"Nuts\", \"Irrigation\": \"irr\", \"Sources\": \"Fertiliser production\", \"Quantity (Mt CO2e)\": 0.00159511572265625}, {\"Year\": 2050, \"Land use\": \"Nuts\", \"Irrigation\": \"irr\", \"Sources\": \"Fodder production\", \"Quantity (Mt CO2e)\": 0.0}, {\"Year\": 2050, \"Land use\": \"Nuts\", \"Irrigation\": \"irr\", \"Sources\": \"Fuel Use livestock\", \"Quantity (Mt CO2e)\": 0.0}, {\"Year\": 2050, \"Land use\": \"Nuts\", \"Irrigation\": \"irr\", \"Sources\": \"Harvesting\", \"Quantity (Mt CO2e)\": 0.00018406866455078125}, {\"Year\": 2050, \"Land use\": \"Nuts\", \"Irrigation\": \"irr\", \"Sources\": \"Irrigation\", \"Quantity (Mt CO2e)\": 0.0002482489471435547}, {\"Year\": 2050, \"Land use\": \"Nuts\", \"Irrigation\": \"irr\", \"Sources\": \"Livestock Enteric Fermentation (biogenic)\", \"Quantity (Mt CO2e)\": 0.0}, {\"Year\": 2050, \"Land use\": \"Nuts\", \"Irrigation\": \"irr\", \"Sources\": \"Livestock Manure Management (biogenic)\", \"Quantity (Mt CO2e)\": 0.0}, {\"Year\": 2050, \"Land use\": \"Nuts\", \"Irrigation\": \"irr\", \"Sources\": \"Pasture Seed production\", \"Quantity (Mt CO2e)\": 0.0}, {\"Year\": 2050, \"Land use\": \"Nuts\", \"Irrigation\": \"irr\", \"Sources\": \"Pesticide production\", \"Quantity (Mt CO2e)\": 0.0007408475341796875}, {\"Year\": 2050, \"Land use\": \"Nuts\", \"Irrigation\": \"irr\", \"Sources\": \"Sowing\", \"Quantity (Mt CO2e)\": 2.276744079589844e-05}, {\"Year\": 2050, \"Land use\": \"Other non-cereal crops\", \"Irrigation\": \"dry\", \"Sources\": \"Agricultural soils: Animal production, dung and urine\", \"Quantity (Mt CO2e)\": 0.0}, {\"Year\": 2050, \"Land use\": \"Other non-cereal crops\", \"Irrigation\": \"dry\", \"Sources\": \"Agricultural soils: Direct Soil Emissions (biogenic)\", \"Quantity (Mt CO2e)\": 0.0018587520543454528}, {\"Year\": 2050, \"Land use\": \"Other non-cereal crops\", \"Irrigation\": \"dry\", \"Sources\": \"Agricultural soils: Indirect leaching and runoff\", \"Quantity (Mt CO2e)\": 0.0}, {\"Year\": 2050, \"Land use\": \"Other non-cereal crops\", \"Irrigation\": \"dry\", \"Sources\": \"Chemical Application\", \"Quantity (Mt CO2e)\": 0.0022792714003925657}, {\"Year\": 2050, \"Land use\": \"Other non-cereal crops\", \"Irrigation\": \"dry\", \"Sources\": \"Crop Management\", \"Quantity (Mt CO2e)\": 0.0009800848485460943}, {\"Year\": 2050, \"Land use\": \"Other non-cereal crops\", \"Irrigation\": \"dry\", \"Sources\": \"Cultivation\", \"Quantity (Mt CO2e)\": 0.0020833382184779585}, {\"Year\": 2050, \"Land use\": \"Other non-cereal crops\", \"Irrigation\": \"dry\", \"Sources\": \"Electricity Use livestock\", \"Quantity (Mt CO2e)\": 0.0}, {\"Year\": 2050, \"Land use\": \"Other non-cereal crops\", \"Irrigation\": \"dry\", \"Sources\": \"Fertiliser production\", \"Quantity (Mt CO2e)\": 0.00654548682359922}, {\"Year\": 2050, \"Land use\": \"Other non-cereal crops\", \"Irrigation\": \"dry\", \"Sources\": \"Fodder production\", \"Quantity (Mt CO2e)\": 0.0}, {\"Year\": 2050, \"Land use\": \"Other non-cereal crops\", \"Irrigation\": \"dry\", \"Sources\": \"Fuel Use livestock\", \"Quantity (Mt CO2e)\": 0.0}, {\"Year\": 2050, \"Land use\": \"Other non-cereal crops\", \"Irrigation\": \"dry\", \"Sources\": \"Harvesting\", \"Quantity (Mt CO2e)\": 0.0005664982331138952}, {\"Year\": 2050, \"Land use\": \"Other non-cereal crops\", \"Irrigation\": \"dry\", \"Sources\": \"Irrigation\", \"Quantity (Mt CO2e)\": 0.0}, {\"Year\": 2050, \"Land use\": \"Other non-cereal crops\", \"Irrigation\": \"dry\", \"Sources\": \"Livestock Enteric Fermentation (biogenic)\", \"Quantity (Mt CO2e)\": 0.0}, {\"Year\": 2050, \"Land use\": \"Other non-cereal crops\", \"Irrigation\": \"dry\", \"Sources\": \"Livestock Manure Management (biogenic)\", \"Quantity (Mt CO2e)\": 0.0}, {\"Year\": 2050, \"Land use\": \"Other non-cereal crops\", \"Irrigation\": \"dry\", \"Sources\": \"Pasture Seed production\", \"Quantity (Mt CO2e)\": 0.0}, {\"Year\": 2050, \"Land use\": \"Other non-cereal crops\", \"Irrigation\": \"dry\", \"Sources\": \"Pesticide production\", \"Quantity (Mt CO2e)\": 0.0036552550964154165}, {\"Year\": 2050, \"Land use\": \"Other non-cereal crops\", \"Irrigation\": \"dry\", \"Sources\": \"Sowing\", \"Quantity (Mt CO2e)\": 0.0012723177551710741}, {\"Year\": 2050, \"Land use\": \"Other non-cereal crops\", \"Irrigation\": \"irr\", \"Sources\": \"Agricultural soils: Animal production, dung and urine\", \"Quantity (Mt CO2e)\": 0.0}, {\"Year\": 2050, \"Land use\": \"Other non-cereal crops\", \"Irrigation\": \"irr\", \"Sources\": \"Agricultural soils: Direct Soil Emissions (biogenic)\", \"Quantity (Mt CO2e)\": 0.0}, {\"Year\": 2050, \"Land use\": \"Other non-cereal crops\", \"Irrigation\": \"irr\", \"Sources\": \"Agricultural soils: Indirect leaching and runoff\", \"Quantity (Mt CO2e)\": 0.0}, {\"Year\": 2050, \"Land use\": \"Other non-cereal crops\", \"Irrigation\": \"irr\", \"Sources\": \"Chemical Application\", \"Quantity (Mt CO2e)\": 0.0}, {\"Year\": 2050, \"Land use\": \"Other non-cereal crops\", \"Irrigation\": \"irr\", \"Sources\": \"Crop Management\", \"Quantity (Mt CO2e)\": 0.0}, {\"Year\": 2050, \"Land use\": \"Other non-cereal crops\", \"Irrigation\": \"irr\", \"Sources\": \"Cultivation\", \"Quantity (Mt CO2e)\": 0.0}, {\"Year\": 2050, \"Land use\": \"Other non-cereal crops\", \"Irrigation\": \"irr\", \"Sources\": \"Electricity Use livestock\", \"Quantity (Mt CO2e)\": 0.0}, {\"Year\": 2050, \"Land use\": \"Other non-cereal crops\", \"Irrigation\": \"irr\", \"Sources\": \"Fertiliser production\", \"Quantity (Mt CO2e)\": 0.0}, {\"Year\": 2050, \"Land use\": \"Other non-cereal crops\", \"Irrigation\": \"irr\", \"Sources\": \"Fodder production\", \"Quantity (Mt CO2e)\": 0.0}, {\"Year\": 2050, \"Land use\": \"Other non-cereal crops\", \"Irrigation\": \"irr\", \"Sources\": \"Fuel Use livestock\", \"Quantity (Mt CO2e)\": 0.0}, {\"Year\": 2050, \"Land use\": \"Other non-cereal crops\", \"Irrigation\": \"irr\", \"Sources\": \"Harvesting\", \"Quantity (Mt CO2e)\": 0.0}, {\"Year\": 2050, \"Land use\": \"Other non-cereal crops\", \"Irrigation\": \"irr\", \"Sources\": \"Irrigation\", \"Quantity (Mt CO2e)\": 0.0}, {\"Year\": 2050, \"Land use\": \"Other non-cereal crops\", \"Irrigation\": \"irr\", \"Sources\": \"Livestock Enteric Fermentation (biogenic)\", \"Quantity (Mt CO2e)\": 0.0}, {\"Year\": 2050, \"Land use\": \"Other non-cereal crops\", \"Irrigation\": \"irr\", \"Sources\": \"Livestock Manure Management (biogenic)\", \"Quantity (Mt CO2e)\": 0.0}, {\"Year\": 2050, \"Land use\": \"Other non-cereal crops\", \"Irrigation\": \"irr\", \"Sources\": \"Pasture Seed production\", \"Quantity (Mt CO2e)\": 0.0}, {\"Year\": 2050, \"Land use\": \"Other non-cereal crops\", \"Irrigation\": \"irr\", \"Sources\": \"Pesticide production\", \"Quantity (Mt CO2e)\": 0.0}, {\"Year\": 2050, \"Land use\": \"Other non-cereal crops\", \"Irrigation\": \"irr\", \"Sources\": \"Sowing\", \"Quantity (Mt CO2e)\": 0.0}, {\"Year\": 2050, \"Land use\": \"Pears\", \"Irrigation\": \"dry\", \"Sources\": \"Agricultural soils: Animal production, dung and urine\", \"Quantity (Mt CO2e)\": 0.0}, {\"Year\": 2050, \"Land use\": \"Pears\", \"Irrigation\": \"dry\", \"Sources\": \"Agricultural soils: Direct Soil Emissions (biogenic)\", \"Quantity (Mt CO2e)\": 0.0}, {\"Year\": 2050, \"Land use\": \"Pears\", \"Irrigation\": \"dry\", \"Sources\": \"Agricultural soils: Indirect leaching and runoff\", \"Quantity (Mt CO2e)\": 0.0}, {\"Year\": 2050, \"Land use\": \"Pears\", \"Irrigation\": \"dry\", \"Sources\": \"Chemical Application\", \"Quantity (Mt CO2e)\": 0.0}, {\"Year\": 2050, \"Land use\": \"Pears\", \"Irrigation\": \"dry\", \"Sources\": \"Crop Management\", \"Quantity (Mt CO2e)\": 0.0}, {\"Year\": 2050, \"Land use\": \"Pears\", \"Irrigation\": \"dry\", \"Sources\": \"Cultivation\", \"Quantity (Mt CO2e)\": 0.0}, {\"Year\": 2050, \"Land use\": \"Pears\", \"Irrigation\": \"dry\", \"Sources\": \"Electricity Use livestock\", \"Quantity (Mt CO2e)\": 0.0}, {\"Year\": 2050, \"Land use\": \"Pears\", \"Irrigation\": \"dry\", \"Sources\": \"Fertiliser production\", \"Quantity (Mt CO2e)\": 0.0}, {\"Year\": 2050, \"Land use\": \"Pears\", \"Irrigation\": \"dry\", \"Sources\": \"Fodder production\", \"Quantity (Mt CO2e)\": 0.0}, {\"Year\": 2050, \"Land use\": \"Pears\", \"Irrigation\": \"dry\", \"Sources\": \"Fuel Use livestock\", \"Quantity (Mt CO2e)\": 0.0}, {\"Year\": 2050, \"Land use\": \"Pears\", \"Irrigation\": \"dry\", \"Sources\": \"Harvesting\", \"Quantity (Mt CO2e)\": 0.0}, {\"Year\": 2050, \"Land use\": \"Pears\", \"Irrigation\": \"dry\", \"Sources\": \"Irrigation\", \"Quantity (Mt CO2e)\": 0.0}, {\"Year\": 2050, \"Land use\": \"Pears\", \"Irrigation\": \"dry\", \"Sources\": \"Livestock Enteric Fermentation (biogenic)\", \"Quantity (Mt CO2e)\": 0.0}, {\"Year\": 2050, \"Land use\": \"Pears\", \"Irrigation\": \"dry\", \"Sources\": \"Livestock Manure Management (biogenic)\", \"Quantity (Mt CO2e)\": 0.0}, {\"Year\": 2050, \"Land use\": \"Pears\", \"Irrigation\": \"dry\", \"Sources\": \"Pasture Seed production\", \"Quantity (Mt CO2e)\": 0.0}, {\"Year\": 2050, \"Land use\": \"Pears\", \"Irrigation\": \"dry\", \"Sources\": \"Pesticide production\", \"Quantity (Mt CO2e)\": 0.0}, {\"Year\": 2050, \"Land use\": \"Pears\", \"Irrigation\": \"dry\", \"Sources\": \"Sowing\", \"Quantity (Mt CO2e)\": 0.0}, {\"Year\": 2050, \"Land use\": \"Pears\", \"Irrigation\": \"irr\", \"Sources\": \"Agricultural soils: Animal production, dung and urine\", \"Quantity (Mt CO2e)\": 0.0}, {\"Year\": 2050, \"Land use\": \"Pears\", \"Irrigation\": \"irr\", \"Sources\": \"Agricultural soils: Direct Soil Emissions (biogenic)\", \"Quantity (Mt CO2e)\": 0.0019864853515625}, {\"Year\": 2050, \"Land use\": \"Pears\", \"Irrigation\": \"irr\", \"Sources\": \"Agricultural soils: Indirect leaching and runoff\", \"Quantity (Mt CO2e)\": 0.0}, {\"Year\": 2050, \"Land use\": \"Pears\", \"Irrigation\": \"irr\", \"Sources\": \"Chemical Application\", \"Quantity (Mt CO2e)\": 0.00042357437133789063}, {\"Year\": 2050, \"Land use\": \"Pears\", \"Irrigation\": \"irr\", \"Sources\": \"Crop Management\", \"Quantity (Mt CO2e)\": 0.00013028150939941406}, {\"Year\": 2050, \"Land use\": \"Pears\", \"Irrigation\": \"irr\", \"Sources\": \"Cultivation\", \"Quantity (Mt CO2e)\": 0.00035516653442382813}, {\"Year\": 2050, \"Land use\": \"Pears\", \"Irrigation\": \"irr\", \"Sources\": \"Electricity Use livestock\", \"Quantity (Mt CO2e)\": 0.0}, {\"Year\": 2050, \"Land use\": \"Pears\", \"Irrigation\": \"irr\", \"Sources\": \"Fertiliser production\", \"Quantity (Mt CO2e)\": 0.001462784423828125}, {\"Year\": 2050, \"Land use\": \"Pears\", \"Irrigation\": \"irr\", \"Sources\": \"Fodder production\", \"Quantity (Mt CO2e)\": 0.0}, {\"Year\": 2050, \"Land use\": \"Pears\", \"Irrigation\": \"irr\", \"Sources\": \"Fuel Use livestock\", \"Quantity (Mt CO2e)\": 0.0}, {\"Year\": 2050, \"Land use\": \"Pears\", \"Irrigation\": \"irr\", \"Sources\": \"Harvesting\", \"Quantity (Mt CO2e)\": 0.00016879826354980468}, {\"Year\": 2050, \"Land use\": \"Pears\", \"Irrigation\": \"irr\", \"Sources\": \"Irrigation\", \"Quantity (Mt CO2e)\": 0.0005483324584960937}, {\"Year\": 2050, \"Land use\": \"Pears\", \"Irrigation\": \"irr\", \"Sources\": \"Livestock Enteric Fermentation (biogenic)\", \"Quantity (Mt CO2e)\": 0.0}, {\"Year\": 2050, \"Land use\": \"Pears\", \"Irrigation\": \"irr\", \"Sources\": \"Livestock Manure Management (biogenic)\", \"Quantity (Mt CO2e)\": 0.0}, {\"Year\": 2050, \"Land use\": \"Pears\", \"Irrigation\": \"irr\", \"Sources\": \"Pasture Seed production\", \"Quantity (Mt CO2e)\": 0.0}, {\"Year\": 2050, \"Land use\": \"Pears\", \"Irrigation\": \"irr\", \"Sources\": \"Pesticide production\", \"Quantity (Mt CO2e)\": 0.0006793865966796875}, {\"Year\": 2050, \"Land use\": \"Pears\", \"Irrigation\": \"irr\", \"Sources\": \"Sowing\", \"Quantity (Mt CO2e)\": 2.0878646850585938e-05}, {\"Year\": 2050, \"Land use\": \"Plantation fruit\", \"Irrigation\": \"dry\", \"Sources\": \"Agricultural soils: Animal production, dung and urine\", \"Quantity (Mt CO2e)\": 0.0}, {\"Year\": 2050, \"Land use\": \"Plantation fruit\", \"Irrigation\": \"dry\", \"Sources\": \"Agricultural soils: Direct Soil Emissions (biogenic)\", \"Quantity (Mt CO2e)\": 0.02457224609375}, {\"Year\": 2050, \"Land use\": \"Plantation fruit\", \"Irrigation\": \"dry\", \"Sources\": \"Agricultural soils: Indirect leaching and runoff\", \"Quantity (Mt CO2e)\": 0.0}, {\"Year\": 2050, \"Land use\": \"Plantation fruit\", \"Irrigation\": \"dry\", \"Sources\": \"Chemical Application\", \"Quantity (Mt CO2e)\": 0.005616163330078125}, {\"Year\": 2050, \"Land use\": \"Plantation fruit\", \"Irrigation\": \"dry\", \"Sources\": \"Crop Management\", \"Quantity (Mt CO2e)\": 0.0008514713745117187}, {\"Year\": 2050, \"Land use\": \"Plantation fruit\", \"Irrigation\": \"dry\", \"Sources\": \"Cultivation\", \"Quantity (Mt CO2e)\": 0.0015965087890625}, {\"Year\": 2050, \"Land use\": \"Plantation fruit\", \"Irrigation\": \"dry\", \"Sources\": \"Electricity Use livestock\", \"Quantity (Mt CO2e)\": 0.0}, {\"Year\": 2050, \"Land use\": \"Plantation fruit\", \"Irrigation\": \"dry\", \"Sources\": \"Fertiliser production\", \"Quantity (Mt CO2e)\": 0.044061572265625}, {\"Year\": 2050, \"Land use\": \"Plantation fruit\", \"Irrigation\": \"dry\", \"Sources\": \"Fodder production\", \"Quantity (Mt CO2e)\": 0.0}, {\"Year\": 2050, \"Land use\": \"Plantation fruit\", \"Irrigation\": \"dry\", \"Sources\": \"Fuel Use livestock\", \"Quantity (Mt CO2e)\": 0.0}, {\"Year\": 2050, \"Land use\": \"Plantation fruit\", \"Irrigation\": \"dry\", \"Sources\": \"Harvesting\", \"Quantity (Mt CO2e)\": 7.76967658996582e-05}, {\"Year\": 2050, \"Land use\": \"Plantation fruit\", \"Irrigation\": \"dry\", \"Sources\": \"Irrigation\", \"Quantity (Mt CO2e)\": 0.0}, {\"Year\": 2050, \"Land use\": \"Plantation fruit\", \"Irrigation\": \"dry\", \"Sources\": \"Livestock Enteric Fermentation (biogenic)\", \"Quantity (Mt CO2e)\": 0.0}, {\"Year\": 2050, \"Land use\": \"Plantation fruit\", \"Irrigation\": \"dry\", \"Sources\": \"Livestock Manure Management (biogenic)\", \"Quantity (Mt CO2e)\": 0.0}, {\"Year\": 2050, \"Land use\": \"Plantation fruit\", \"Irrigation\": \"dry\", \"Sources\": \"Pasture Seed production\", \"Quantity (Mt CO2e)\": 0.0}, {\"Year\": 2050, \"Land use\": \"Plantation fruit\", \"Irrigation\": \"dry\", \"Sources\": \"Pesticide production\", \"Quantity (Mt CO2e)\": 0.003483185913085937}, {\"Year\": 2050, \"Land use\": \"Plantation fruit\", \"Irrigation\": \"dry\", \"Sources\": \"Sowing\", \"Quantity (Mt CO2e)\": 5.321696090698242e-05}, {\"Year\": 2050, \"Land use\": \"Plantation fruit\", \"Irrigation\": \"irr\", \"Sources\": \"Agricultural soils: Animal production, dung and urine\", \"Quantity (Mt CO2e)\": 0.0}, {\"Year\": 2050, \"Land use\": \"Plantation fruit\", \"Irrigation\": \"irr\", \"Sources\": \"Agricultural soils: Direct Soil Emissions (biogenic)\", \"Quantity (Mt CO2e)\": 0.030930333984375}, {\"Year\": 2050, \"Land use\": \"Plantation fruit\", \"Irrigation\": \"irr\", \"Sources\": \"Agricultural soils: Indirect leaching and runoff\", \"Quantity (Mt CO2e)\": 0.0}, {\"Year\": 2050, \"Land use\": \"Plantation fruit\", \"Irrigation\": \"irr\", \"Sources\": \"Chemical Application\", \"Quantity (Mt CO2e)\": 0.0038729925537109374}, {\"Year\": 2050, \"Land use\": \"Plantation fruit\", \"Irrigation\": \"irr\", \"Sources\": \"Crop Management\", \"Quantity (Mt CO2e)\": 0.0007662105712890625}, {\"Year\": 2050, \"Land use\": \"Plantation fruit\", \"Irrigation\": \"irr\", \"Sources\": \"Cultivation\", \"Quantity (Mt CO2e)\": 0.0015055365295410157}, {\"Year\": 2050, \"Land use\": \"Plantation fruit\", \"Irrigation\": \"irr\", \"Sources\": \"Electricity Use livestock\", \"Quantity (Mt CO2e)\": 0.0}, {\"Year\": 2050, \"Land use\": \"Plantation fruit\", \"Irrigation\": \"irr\", \"Sources\": \"Fertiliser production\", \"Quantity (Mt CO2e)\": 0.0453481826171875}, {\"Year\": 2050, \"Land use\": \"Plantation fruit\", \"Irrigation\": \"irr\", \"Sources\": \"Fodder production\", \"Quantity (Mt CO2e)\": 0.0}, {\"Year\": 2050, \"Land use\": \"Plantation fruit\", \"Irrigation\": \"irr\", \"Sources\": \"Fuel Use livestock\", \"Quantity (Mt CO2e)\": 0.0}, {\"Year\": 2050, \"Land use\": \"Plantation fruit\", \"Irrigation\": \"irr\", \"Sources\": \"Harvesting\", \"Quantity (Mt CO2e)\": 0.0}, {\"Year\": 2050, \"Land use\": \"Plantation fruit\", \"Irrigation\": \"irr\", \"Sources\": \"Irrigation\", \"Quantity (Mt CO2e)\": 0.0002144227681159973}, {\"Year\": 2050, \"Land use\": \"Plantation fruit\", \"Irrigation\": \"irr\", \"Sources\": \"Livestock Enteric Fermentation (biogenic)\", \"Quantity (Mt CO2e)\": 0.0}, {\"Year\": 2050, \"Land use\": \"Plantation fruit\", \"Irrigation\": \"irr\", \"Sources\": \"Livestock Manure Management (biogenic)\", \"Quantity (Mt CO2e)\": 0.0}, {\"Year\": 2050, \"Land use\": \"Plantation fruit\", \"Irrigation\": \"irr\", \"Sources\": \"Pasture Seed production\", \"Quantity (Mt CO2e)\": 0.0}, {\"Year\": 2050, \"Land use\": \"Plantation fruit\", \"Irrigation\": \"irr\", \"Sources\": \"Pesticide production\", \"Quantity (Mt CO2e)\": 0.0009639652709960937}, {\"Year\": 2050, \"Land use\": \"Plantation fruit\", \"Irrigation\": \"irr\", \"Sources\": \"Sowing\", \"Quantity (Mt CO2e)\": 0.0}, {\"Year\": 2050, \"Land use\": \"Rice\", \"Irrigation\": \"dry\", \"Sources\": \"Agricultural soils: Animal production, dung and urine\", \"Quantity (Mt CO2e)\": 0.0}, {\"Year\": 2050, \"Land use\": \"Rice\", \"Irrigation\": \"dry\", \"Sources\": \"Agricultural soils: Direct Soil Emissions (biogenic)\", \"Quantity (Mt CO2e)\": 0.0}, {\"Year\": 2050, \"Land use\": \"Rice\", \"Irrigation\": \"dry\", \"Sources\": \"Agricultural soils: Indirect leaching and runoff\", \"Quantity (Mt CO2e)\": 0.0}, {\"Year\": 2050, \"Land use\": \"Rice\", \"Irrigation\": \"dry\", \"Sources\": \"Chemical Application\", \"Quantity (Mt CO2e)\": 0.0}, {\"Year\": 2050, \"Land use\": \"Rice\", \"Irrigation\": \"dry\", \"Sources\": \"Crop Management\", \"Quantity (Mt CO2e)\": 0.0}, {\"Year\": 2050, \"Land use\": \"Rice\", \"Irrigation\": \"dry\", \"Sources\": \"Cultivation\", \"Quantity (Mt CO2e)\": 0.0}, {\"Year\": 2050, \"Land use\": \"Rice\", \"Irrigation\": \"dry\", \"Sources\": \"Electricity Use livestock\", \"Quantity (Mt CO2e)\": 0.0}, {\"Year\": 2050, \"Land use\": \"Rice\", \"Irrigation\": \"dry\", \"Sources\": \"Fertiliser production\", \"Quantity (Mt CO2e)\": 0.0}, {\"Year\": 2050, \"Land use\": \"Rice\", \"Irrigation\": \"dry\", \"Sources\": \"Fodder production\", \"Quantity (Mt CO2e)\": 0.0}, {\"Year\": 2050, \"Land use\": \"Rice\", \"Irrigation\": \"dry\", \"Sources\": \"Fuel Use livestock\", \"Quantity (Mt CO2e)\": 0.0}, {\"Year\": 2050, \"Land use\": \"Rice\", \"Irrigation\": \"dry\", \"Sources\": \"Harvesting\", \"Quantity (Mt CO2e)\": 0.0}, {\"Year\": 2050, \"Land use\": \"Rice\", \"Irrigation\": \"dry\", \"Sources\": \"Irrigation\", \"Quantity (Mt CO2e)\": 0.0}, {\"Year\": 2050, \"Land use\": \"Rice\", \"Irrigation\": \"dry\", \"Sources\": \"Livestock Enteric Fermentation (biogenic)\", \"Quantity (Mt CO2e)\": 0.0}, {\"Year\": 2050, \"Land use\": \"Rice\", \"Irrigation\": \"dry\", \"Sources\": \"Livestock Manure Management (biogenic)\", \"Quantity (Mt CO2e)\": 0.0}, {\"Year\": 2050, \"Land use\": \"Rice\", \"Irrigation\": \"dry\", \"Sources\": \"Pasture Seed production\", \"Quantity (Mt CO2e)\": 0.0}, {\"Year\": 2050, \"Land use\": \"Rice\", \"Irrigation\": \"dry\", \"Sources\": \"Pesticide production\", \"Quantity (Mt CO2e)\": 0.0}, {\"Year\": 2050, \"Land use\": \"Rice\", \"Irrigation\": \"dry\", \"Sources\": \"Sowing\", \"Quantity (Mt CO2e)\": 0.0}, {\"Year\": 2050, \"Land use\": \"Rice\", \"Irrigation\": \"irr\", \"Sources\": \"Agricultural soils: Animal production, dung and urine\", \"Quantity (Mt CO2e)\": 0.0}, {\"Year\": 2050, \"Land use\": \"Rice\", \"Irrigation\": \"irr\", \"Sources\": \"Agricultural soils: Direct Soil Emissions (biogenic)\", \"Quantity (Mt CO2e)\": 0.05356945849609375}, {\"Year\": 2050, \"Land use\": \"Rice\", \"Irrigation\": \"irr\", \"Sources\": \"Agricultural soils: Indirect leaching and runoff\", \"Quantity (Mt CO2e)\": 0.0}, {\"Year\": 2050, \"Land use\": \"Rice\", \"Irrigation\": \"irr\", \"Sources\": \"Chemical Application\", \"Quantity (Mt CO2e)\": 0.0010103465099334716}, {\"Year\": 2050, \"Land use\": \"Rice\", \"Irrigation\": \"irr\", \"Sources\": \"Crop Management\", \"Quantity (Mt CO2e)\": 7.729384452104568e-06}, {\"Year\": 2050, \"Land use\": \"Rice\", \"Irrigation\": \"irr\", \"Sources\": \"Cultivation\", \"Quantity (Mt CO2e)\": 0.004598453323364258}, {\"Year\": 2050, \"Land use\": \"Rice\", \"Irrigation\": \"irr\", \"Sources\": \"Electricity Use livestock\", \"Quantity (Mt CO2e)\": 0.0}, {\"Year\": 2050, \"Land use\": \"Rice\", \"Irrigation\": \"irr\", \"Sources\": \"Fertiliser production\", \"Quantity (Mt CO2e)\": 0.023753327087402343}, {\"Year\": 2050, \"Land use\": \"Rice\", \"Irrigation\": \"irr\", \"Sources\": \"Fodder production\", \"Quantity (Mt CO2e)\": 0.0}, {\"Year\": 2050, \"Land use\": \"Rice\", \"Irrigation\": \"irr\", \"Sources\": \"Fuel Use livestock\", \"Quantity (Mt CO2e)\": 0.0}, {\"Year\": 2050, \"Land use\": \"Rice\", \"Irrigation\": \"irr\", \"Sources\": \"Harvesting\", \"Quantity (Mt CO2e)\": 0.0005893655548095704}, {\"Year\": 2050, \"Land use\": \"Rice\", \"Irrigation\": \"irr\", \"Sources\": \"Irrigation\", \"Quantity (Mt CO2e)\": 0.01333037808227539}, {\"Year\": 2050, \"Land use\": \"Rice\", \"Irrigation\": \"irr\", \"Sources\": \"Livestock Enteric Fermentation (biogenic)\", \"Quantity (Mt CO2e)\": 0.0}, {\"Year\": 2050, \"Land use\": \"Rice\", \"Irrigation\": \"irr\", \"Sources\": \"Livestock Manure Management (biogenic)\", \"Quantity (Mt CO2e)\": 0.0}, {\"Year\": 2050, \"Land use\": \"Rice\", \"Irrigation\": \"irr\", \"Sources\": \"Pasture Seed production\", \"Quantity (Mt CO2e)\": 0.0}, {\"Year\": 2050, \"Land use\": \"Rice\", \"Irrigation\": \"irr\", \"Sources\": \"Pesticide production\", \"Quantity (Mt CO2e)\": 0.000678848747253418}, {\"Year\": 2050, \"Land use\": \"Rice\", \"Irrigation\": \"irr\", \"Sources\": \"Sowing\", \"Quantity (Mt CO2e)\": 0.0007578511295318603}, {\"Year\": 2050, \"Land use\": \"Sheep\", \"Irrigation\": \"dry\", \"Sources\": \"Agricultural soils: Animal production, dung and urine\", \"Quantity (Mt CO2e)\": 1.4750338327335355}, {\"Year\": 2050, \"Land use\": \"Sheep\", \"Irrigation\": \"dry\", \"Sources\": \"Agricultural soils: Direct Soil Emissions (biogenic)\", \"Quantity (Mt CO2e)\": 0.0}, {\"Year\": 2050, \"Land use\": \"Sheep\", \"Irrigation\": \"dry\", \"Sources\": \"Agricultural soils: Indirect leaching and runoff\", \"Quantity (Mt CO2e)\": 0.724630661113862}, {\"Year\": 2050, \"Land use\": \"Sheep\", \"Irrigation\": \"dry\", \"Sources\": \"Chemical Application\", \"Quantity (Mt CO2e)\": 0.0}, {\"Year\": 2050, \"Land use\": \"Sheep\", \"Irrigation\": \"dry\", \"Sources\": \"Crop Management\", \"Quantity (Mt CO2e)\": 0.0}, {\"Year\": 2050, \"Land use\": \"Sheep\", \"Irrigation\": \"dry\", \"Sources\": \"Cultivation\", \"Quantity (Mt CO2e)\": 0.0}, {\"Year\": 2050, \"Land use\": \"Sheep\", \"Irrigation\": \"dry\", \"Sources\": \"Electricity Use livestock\", \"Quantity (Mt CO2e)\": 5.311843223730227e-16}, {\"Year\": 2050, \"Land use\": \"Sheep\", \"Irrigation\": \"dry\", \"Sources\": \"Fertiliser production\", \"Quantity (Mt CO2e)\": 0.0}, {\"Year\": 2050, \"Land use\": \"Sheep\", \"Irrigation\": \"dry\", \"Sources\": \"Fodder production\", \"Quantity (Mt CO2e)\": 0.28327259125741294}, {\"Year\": 2050, \"Land use\": \"Sheep\", \"Irrigation\": \"dry\", \"Sources\": \"Fuel Use livestock\", \"Quantity (Mt CO2e)\": 3.2059150818448066}, {\"Year\": 2050, \"Land use\": \"Sheep\", \"Irrigation\": \"dry\", \"Sources\": \"Harvesting\", \"Quantity (Mt CO2e)\": 0.0}, {\"Year\": 2050, \"Land use\": \"Sheep\", \"Irrigation\": \"dry\", \"Sources\": \"Irrigation\", \"Quantity (Mt CO2e)\": 0.0}, {\"Year\": 2050, \"Land use\": \"Sheep\", \"Irrigation\": \"dry\", \"Sources\": \"Livestock Enteric Fermentation (biogenic)\", \"Quantity (Mt CO2e)\": 15.195397886034549}, {\"Year\": 2050, \"Land use\": \"Sheep\", \"Irrigation\": \"dry\", \"Sources\": \"Livestock Manure Management (biogenic)\", \"Quantity (Mt CO2e)\": 0.005322879232026214}, {\"Year\": 2050, \"Land use\": \"Sheep\", \"Irrigation\": \"dry\", \"Sources\": \"Pasture Seed production\", \"Quantity (Mt CO2e)\": 0.5177061660310838}, {\"Year\": 2050, \"Land use\": \"Sheep\", \"Irrigation\": \"dry\", \"Sources\": \"Pesticide production\", \"Quantity (Mt CO2e)\": 0.0}, {\"Year\": 2050, \"Land use\": \"Sheep\", \"Irrigation\": \"dry\", \"Sources\": \"Sowing\", \"Quantity (Mt CO2e)\": 0.0}, {\"Year\": 2050, \"Land use\": \"Sheep\", \"Irrigation\": \"irr\", \"Sources\": \"Agricultural soils: Animal production, dung and urine\", \"Quantity (Mt CO2e)\": 8.765036684990264e-05}, {\"Year\": 2050, \"Land use\": \"Sheep\", \"Irrigation\": \"irr\", \"Sources\": \"Agricultural soils: Direct Soil Emissions (biogenic)\", \"Quantity (Mt CO2e)\": 9.650981647198478e-05}, {\"Year\": 2050, \"Land use\": \"Sheep\", \"Irrigation\": \"irr\", \"Sources\": \"Agricultural soils: Indirect leaching and runoff\", \"Quantity (Mt CO2e)\": 0.00011958641834794436}, {\"Year\": 2050, \"Land use\": \"Sheep\", \"Irrigation\": \"irr\", \"Sources\": \"Chemical Application\", \"Quantity (Mt CO2e)\": 6.1030574886345336e-06}, {\"Year\": 2050, \"Land use\": \"Sheep\", \"Irrigation\": \"irr\", \"Sources\": \"Crop Management\", \"Quantity (Mt CO2e)\": 0.0}, {\"Year\": 2050, \"Land use\": \"Sheep\", \"Irrigation\": \"irr\", \"Sources\": \"Cultivation\", \"Quantity (Mt CO2e)\": 2.008096756921418e-05}, {\"Year\": 2050, \"Land use\": \"Sheep\", \"Irrigation\": \"irr\", \"Sources\": \"Electricity Use livestock\", \"Quantity (Mt CO2e)\": 0.0}, {\"Year\": 2050, \"Land use\": \"Sheep\", \"Irrigation\": \"irr\", \"Sources\": \"Fertiliser production\", \"Quantity (Mt CO2e)\": 4.722714215133692e-05}, {\"Year\": 2050, \"Land use\": \"Sheep\", \"Irrigation\": \"irr\", \"Sources\": \"Fodder production\", \"Quantity (Mt CO2e)\": 3.233995152785951e-05}, {\"Year\": 2050, \"Land use\": \"Sheep\", \"Irrigation\": \"irr\", \"Sources\": \"Fuel Use livestock\", \"Quantity (Mt CO2e)\": 0.00025796382763628573}, {\"Year\": 2050, \"Land use\": \"Sheep\", \"Irrigation\": \"irr\", \"Sources\": \"Harvesting\", \"Quantity (Mt CO2e)\": 0.0}, {\"Year\": 2050, \"Land use\": \"Sheep\", \"Irrigation\": \"irr\", \"Sources\": \"Irrigation\", \"Quantity (Mt CO2e)\": 6.2372465182775724e-06}, {\"Year\": 2050, \"Land use\": \"Sheep\", \"Irrigation\": \"irr\", \"Sources\": \"Livestock Enteric Fermentation (biogenic)\", \"Quantity (Mt CO2e)\": 0.0009312666949537744}, {\"Year\": 2050, \"Land use\": \"Sheep\", \"Irrigation\": \"irr\", \"Sources\": \"Livestock Manure Management (biogenic)\", \"Quantity (Mt CO2e)\": 1.585449249402959e-07}, {\"Year\": 2050, \"Land use\": \"Sheep\", \"Irrigation\": \"irr\", \"Sources\": \"Pasture Seed production\", \"Quantity (Mt CO2e)\": 5.63241985489924e-06}, {\"Year\": 2050, \"Land use\": \"Sheep\", \"Irrigation\": \"irr\", \"Sources\": \"Pesticide production\", \"Quantity (Mt CO2e)\": 1.314382113569934e-05}, {\"Year\": 2050, \"Land use\": \"Sheep\", \"Irrigation\": \"irr\", \"Sources\": \"Sowing\", \"Quantity (Mt CO2e)\": 4.441793489868928e-06}, {\"Year\": 2050, \"Land use\": \"Stone fruit\", \"Irrigation\": \"dry\", \"Sources\": \"Agricultural soils: Animal production, dung and urine\", \"Quantity (Mt CO2e)\": 0.0}, {\"Year\": 2050, \"Land use\": \"Stone fruit\", \"Irrigation\": \"dry\", \"Sources\": \"Agricultural soils: Direct Soil Emissions (biogenic)\", \"Quantity (Mt CO2e)\": 0.0}, {\"Year\": 2050, \"Land use\": \"Stone fruit\", \"Irrigation\": \"dry\", \"Sources\": \"Agricultural soils: Indirect leaching and runoff\", \"Quantity (Mt CO2e)\": 0.0}, {\"Year\": 2050, \"Land use\": \"Stone fruit\", \"Irrigation\": \"dry\", \"Sources\": \"Chemical Application\", \"Quantity (Mt CO2e)\": 0.0}, {\"Year\": 2050, \"Land use\": \"Stone fruit\", \"Irrigation\": \"dry\", \"Sources\": \"Crop Management\", \"Quantity (Mt CO2e)\": 0.0}, {\"Year\": 2050, \"Land use\": \"Stone fruit\", \"Irrigation\": \"dry\", \"Sources\": \"Cultivation\", \"Quantity (Mt CO2e)\": 0.0}, {\"Year\": 2050, \"Land use\": \"Stone fruit\", \"Irrigation\": \"dry\", \"Sources\": \"Electricity Use livestock\", \"Quantity (Mt CO2e)\": 0.0}, {\"Year\": 2050, \"Land use\": \"Stone fruit\", \"Irrigation\": \"dry\", \"Sources\": \"Fertiliser production\", \"Quantity (Mt CO2e)\": 0.0}, {\"Year\": 2050, \"Land use\": \"Stone fruit\", \"Irrigation\": \"dry\", \"Sources\": \"Fodder production\", \"Quantity (Mt CO2e)\": 0.0}, {\"Year\": 2050, \"Land use\": \"Stone fruit\", \"Irrigation\": \"dry\", \"Sources\": \"Fuel Use livestock\", \"Quantity (Mt CO2e)\": 0.0}, {\"Year\": 2050, \"Land use\": \"Stone fruit\", \"Irrigation\": \"dry\", \"Sources\": \"Harvesting\", \"Quantity (Mt CO2e)\": 0.0}, {\"Year\": 2050, \"Land use\": \"Stone fruit\", \"Irrigation\": \"dry\", \"Sources\": \"Irrigation\", \"Quantity (Mt CO2e)\": 0.0}, {\"Year\": 2050, \"Land use\": \"Stone fruit\", \"Irrigation\": \"dry\", \"Sources\": \"Livestock Enteric Fermentation (biogenic)\", \"Quantity (Mt CO2e)\": 0.0}, {\"Year\": 2050, \"Land use\": \"Stone fruit\", \"Irrigation\": \"dry\", \"Sources\": \"Livestock Manure Management (biogenic)\", \"Quantity (Mt CO2e)\": 0.0}, {\"Year\": 2050, \"Land use\": \"Stone fruit\", \"Irrigation\": \"dry\", \"Sources\": \"Pasture Seed production\", \"Quantity (Mt CO2e)\": 0.0}, {\"Year\": 2050, \"Land use\": \"Stone fruit\", \"Irrigation\": \"dry\", \"Sources\": \"Pesticide production\", \"Quantity (Mt CO2e)\": 0.0}, {\"Year\": 2050, \"Land use\": \"Stone fruit\", \"Irrigation\": \"dry\", \"Sources\": \"Sowing\", \"Quantity (Mt CO2e)\": 0.0}, {\"Year\": 2050, \"Land use\": \"Stone fruit\", \"Irrigation\": \"irr\", \"Sources\": \"Agricultural soils: Animal production, dung and urine\", \"Quantity (Mt CO2e)\": 0.0}, {\"Year\": 2050, \"Land use\": \"Stone fruit\", \"Irrigation\": \"irr\", \"Sources\": \"Agricultural soils: Direct Soil Emissions (biogenic)\", \"Quantity (Mt CO2e)\": 0.023079474036162895}, {\"Year\": 2050, \"Land use\": \"Stone fruit\", \"Irrigation\": \"irr\", \"Sources\": \"Agricultural soils: Indirect leaching and runoff\", \"Quantity (Mt CO2e)\": 0.0}, {\"Year\": 2050, \"Land use\": \"Stone fruit\", \"Irrigation\": \"irr\", \"Sources\": \"Chemical Application\", \"Quantity (Mt CO2e)\": 0.005453221290657873}, {\"Year\": 2050, \"Land use\": \"Stone fruit\", \"Irrigation\": \"irr\", \"Sources\": \"Crop Management\", \"Quantity (Mt CO2e)\": 0.0015656777849143446}, {\"Year\": 2050, \"Land use\": \"Stone fruit\", \"Irrigation\": \"irr\", \"Sources\": \"Cultivation\", \"Quantity (Mt CO2e)\": 0.004563889042709432}, {\"Year\": 2050, \"Land use\": \"Stone fruit\", \"Irrigation\": \"irr\", \"Sources\": \"Electricity Use livestock\", \"Quantity (Mt CO2e)\": 0.0}, {\"Year\": 2050, \"Land use\": \"Stone fruit\", \"Irrigation\": \"irr\", \"Sources\": \"Fertiliser production\", \"Quantity (Mt CO2e)\": 0.007793401773155412}, {\"Year\": 2050, \"Land use\": \"Stone fruit\", \"Irrigation\": \"irr\", \"Sources\": \"Fodder production\", \"Quantity (Mt CO2e)\": 0.0}, {\"Year\": 2050, \"Land use\": \"Stone fruit\", \"Irrigation\": \"irr\", \"Sources\": \"Fuel Use livestock\", \"Quantity (Mt CO2e)\": 0.0}, {\"Year\": 2050, \"Land use\": \"Stone fruit\", \"Irrigation\": \"irr\", \"Sources\": \"Harvesting\", \"Quantity (Mt CO2e)\": 0.001084570085918781}, {\"Year\": 2050, \"Land use\": \"Stone fruit\", \"Irrigation\": \"irr\", \"Sources\": \"Irrigation\", \"Quantity (Mt CO2e)\": 0.001502188577944407}, {\"Year\": 2050, \"Land use\": \"Stone fruit\", \"Irrigation\": \"irr\", \"Sources\": \"Livestock Enteric Fermentation (biogenic)\", \"Quantity (Mt CO2e)\": 0.0}, {\"Year\": 2050, \"Land use\": \"Stone fruit\", \"Irrigation\": \"irr\", \"Sources\": \"Livestock Manure Management (biogenic)\", \"Quantity (Mt CO2e)\": 0.0}, {\"Year\": 2050, \"Land use\": \"Stone fruit\", \"Irrigation\": \"irr\", \"Sources\": \"Pasture Seed production\", \"Quantity (Mt CO2e)\": 0.0}, {\"Year\": 2050, \"Land use\": \"Stone fruit\", \"Irrigation\": \"irr\", \"Sources\": \"Pesticide production\", \"Quantity (Mt CO2e)\": 0.008861155978141152}, {\"Year\": 2050, \"Land use\": \"Stone fruit\", \"Irrigation\": \"irr\", \"Sources\": \"Sowing\", \"Quantity (Mt CO2e)\": 7.928315770626068e-05}, {\"Year\": 2050, \"Land use\": \"Sugar\", \"Irrigation\": \"dry\", \"Sources\": \"Agricultural soils: Animal production, dung and urine\", \"Quantity (Mt CO2e)\": 0.0}, {\"Year\": 2050, \"Land use\": \"Sugar\", \"Irrigation\": \"dry\", \"Sources\": \"Agricultural soils: Direct Soil Emissions (biogenic)\", \"Quantity (Mt CO2e)\": 0.3062622458532153}, {\"Year\": 2050, \"Land use\": \"Sugar\", \"Irrigation\": \"dry\", \"Sources\": \"Agricultural soils: Indirect leaching and runoff\", \"Quantity (Mt CO2e)\": 0.0}, {\"Year\": 2050, \"Land use\": \"Sugar\", \"Irrigation\": \"dry\", \"Sources\": \"Chemical Application\", \"Quantity (Mt CO2e)\": 0.013686723449092136}, {\"Year\": 2050, \"Land use\": \"Sugar\", \"Irrigation\": \"dry\", \"Sources\": \"Crop Management\", \"Quantity (Mt CO2e)\": 1.7805077154327137e-05}, {\"Year\": 2050, \"Land use\": \"Sugar\", \"Irrigation\": \"dry\", \"Sources\": \"Cultivation\", \"Quantity (Mt CO2e)\": 0.05025831645720604}, {\"Year\": 2050, \"Land use\": \"Sugar\", \"Irrigation\": \"dry\", \"Sources\": \"Electricity Use livestock\", \"Quantity (Mt CO2e)\": 0.0}, {\"Year\": 2050, \"Land use\": \"Sugar\", \"Irrigation\": \"dry\", \"Sources\": \"Fertiliser production\", \"Quantity (Mt CO2e)\": 0.10162806585868837}, {\"Year\": 2050, \"Land use\": \"Sugar\", \"Irrigation\": \"dry\", \"Sources\": \"Fodder production\", \"Quantity (Mt CO2e)\": 0.0}, {\"Year\": 2050, \"Land use\": \"Sugar\", \"Irrigation\": \"dry\", \"Sources\": \"Fuel Use livestock\", \"Quantity (Mt CO2e)\": 0.0}, {\"Year\": 2050, \"Land use\": \"Sugar\", \"Irrigation\": \"dry\", \"Sources\": \"Harvesting\", \"Quantity (Mt CO2e)\": 0.002336084930771747}, {\"Year\": 2050, \"Land use\": \"Sugar\", \"Irrigation\": \"dry\", \"Sources\": \"Irrigation\", \"Quantity (Mt CO2e)\": 0.0}, {\"Year\": 2050, \"Land use\": \"Sugar\", \"Irrigation\": \"dry\", \"Sources\": \"Livestock Enteric Fermentation (biogenic)\", \"Quantity (Mt CO2e)\": 0.0}, {\"Year\": 2050, \"Land use\": \"Sugar\", \"Irrigation\": \"dry\", \"Sources\": \"Livestock Manure Management (biogenic)\", \"Quantity (Mt CO2e)\": 0.0}, {\"Year\": 2050, \"Land use\": \"Sugar\", \"Irrigation\": \"dry\", \"Sources\": \"Pasture Seed production\", \"Quantity (Mt CO2e)\": 0.0}, {\"Year\": 2050, \"Land use\": \"Sugar\", \"Irrigation\": \"dry\", \"Sources\": \"Pesticide production\", \"Quantity (Mt CO2e)\": 0.06341601678510048}, {\"Year\": 2050, \"Land use\": \"Sugar\", \"Irrigation\": \"dry\", \"Sources\": \"Sowing\", \"Quantity (Mt CO2e)\": 0.011989492501229047}, {\"Year\": 2050, \"Land use\": \"Sugar\", \"Irrigation\": \"irr\", \"Sources\": \"Agricultural soils: Animal production, dung and urine\", \"Quantity (Mt CO2e)\": 0.0}, {\"Year\": 2050, \"Land use\": \"Sugar\", \"Irrigation\": \"irr\", \"Sources\": \"Agricultural soils: Direct Soil Emissions (biogenic)\", \"Quantity (Mt CO2e)\": 0.1474045251464844}, {\"Year\": 2050, \"Land use\": \"Sugar\", \"Irrigation\": \"irr\", \"Sources\": \"Agricultural soils: Indirect leaching and runoff\", \"Quantity (Mt CO2e)\": 0.0}, {\"Year\": 2050, \"Land use\": \"Sugar\", \"Irrigation\": \"irr\", \"Sources\": \"Chemical Application\", \"Quantity (Mt CO2e)\": 0.006047240814208985}, {\"Year\": 2050, \"Land use\": \"Sugar\", \"Irrigation\": \"irr\", \"Sources\": \"Crop Management\", \"Quantity (Mt CO2e)\": 0.0}, {\"Year\": 2050, \"Land use\": \"Sugar\", \"Irrigation\": \"irr\", \"Sources\": \"Cultivation\", \"Quantity (Mt CO2e)\": 0.021039555908203125}, {\"Year\": 2050, \"Land use\": \"Sugar\", \"Irrigation\": \"irr\", \"Sources\": \"Electricity Use livestock\", \"Quantity (Mt CO2e)\": 0.0}, {\"Year\": 2050, \"Land use\": \"Sugar\", \"Irrigation\": \"irr\", \"Sources\": \"Fertiliser production\", \"Quantity (Mt CO2e)\": 0.04446448522949219}, {\"Year\": 2050, \"Land use\": \"Sugar\", \"Irrigation\": \"irr\", \"Sources\": \"Fodder production\", \"Quantity (Mt CO2e)\": 0.0}, {\"Year\": 2050, \"Land use\": \"Sugar\", \"Irrigation\": \"irr\", \"Sources\": \"Fuel Use livestock\", \"Quantity (Mt CO2e)\": 0.0}, {\"Year\": 2050, \"Land use\": \"Sugar\", \"Irrigation\": \"irr\", \"Sources\": \"Harvesting\", \"Quantity (Mt CO2e)\": 0.0009732319221496582}, {\"Year\": 2050, \"Land use\": \"Sugar\", \"Irrigation\": \"irr\", \"Sources\": \"Irrigation\", \"Quantity (Mt CO2e)\": 0.020163765762329103}, {\"Year\": 2050, \"Land use\": \"Sugar\", \"Irrigation\": \"irr\", \"Sources\": \"Livestock Enteric Fermentation (biogenic)\", \"Quantity (Mt CO2e)\": 0.0}, {\"Year\": 2050, \"Land use\": \"Sugar\", \"Irrigation\": \"irr\", \"Sources\": \"Livestock Manure Management (biogenic)\", \"Quantity (Mt CO2e)\": 0.0}, {\"Year\": 2050, \"Land use\": \"Sugar\", \"Irrigation\": \"irr\", \"Sources\": \"Pasture Seed production\", \"Quantity (Mt CO2e)\": 0.0}, {\"Year\": 2050, \"Land use\": \"Sugar\", \"Irrigation\": \"irr\", \"Sources\": \"Pesticide production\", \"Quantity (Mt CO2e)\": 0.030270782836914062}, {\"Year\": 2050, \"Land use\": \"Sugar\", \"Irrigation\": \"irr\", \"Sources\": \"Sowing\", \"Quantity (Mt CO2e)\": 0.006279985443115235}, {\"Year\": 2050, \"Land use\": \"Summer cereals\", \"Irrigation\": \"dry\", \"Sources\": \"Agricultural soils: Animal production, dung and urine\", \"Quantity (Mt CO2e)\": 0.0}, {\"Year\": 2050, \"Land use\": \"Summer cereals\", \"Irrigation\": \"dry\", \"Sources\": \"Agricultural soils: Direct Soil Emissions (biogenic)\", \"Quantity (Mt CO2e)\": 0.012974435386657717}, {\"Year\": 2050, \"Land use\": \"Summer cereals\", \"Irrigation\": \"dry\", \"Sources\": \"Agricultural soils: Indirect leaching and runoff\", \"Quantity (Mt CO2e)\": 0.0}, {\"Year\": 2050, \"Land use\": \"Summer cereals\", \"Irrigation\": \"dry\", \"Sources\": \"Chemical Application\", \"Quantity (Mt CO2e)\": 0.01676859585571289}, {\"Year\": 2050, \"Land use\": \"Summer cereals\", \"Irrigation\": \"dry\", \"Sources\": \"Crop Management\", \"Quantity (Mt CO2e)\": 0.0}, {\"Year\": 2050, \"Land use\": \"Summer cereals\", \"Irrigation\": \"dry\", \"Sources\": \"Cultivation\", \"Quantity (Mt CO2e)\": 0.046663070892333985}, {\"Year\": 2050, \"Land use\": \"Summer cereals\", \"Irrigation\": \"dry\", \"Sources\": \"Electricity Use livestock\", \"Quantity (Mt CO2e)\": 0.0}, {\"Year\": 2050, \"Land use\": \"Summer cereals\", \"Irrigation\": \"dry\", \"Sources\": \"Fertiliser production\", \"Quantity (Mt CO2e)\": 0.05372271801757812}, {\"Year\": 2050, \"Land use\": \"Summer cereals\", \"Irrigation\": \"dry\", \"Sources\": \"Fodder production\", \"Quantity (Mt CO2e)\": 0.0}, {\"Year\": 2050, \"Land use\": \"Summer cereals\", \"Irrigation\": \"dry\", \"Sources\": \"Fuel Use livestock\", \"Quantity (Mt CO2e)\": 0.0}, {\"Year\": 2050, \"Land use\": \"Summer cereals\", \"Irrigation\": \"dry\", \"Sources\": \"Harvesting\", \"Quantity (Mt CO2e)\": 0.009997279178619384}, {\"Year\": 2050, \"Land use\": \"Summer cereals\", \"Irrigation\": \"dry\", \"Sources\": \"Irrigation\", \"Quantity (Mt CO2e)\": 0.0}, {\"Year\": 2050, \"Land use\": \"Summer cereals\", \"Irrigation\": \"dry\", \"Sources\": \"Livestock Enteric Fermentation (biogenic)\", \"Quantity (Mt CO2e)\": 0.0}, {\"Year\": 2050, \"Land use\": \"Summer cereals\", \"Irrigation\": \"dry\", \"Sources\": \"Livestock Manure Management (biogenic)\", \"Quantity (Mt CO2e)\": 0.0}, {\"Year\": 2050, \"Land use\": \"Summer cereals\", \"Irrigation\": \"dry\", \"Sources\": \"Pasture Seed production\", \"Quantity (Mt CO2e)\": 0.0}, {\"Year\": 2050, \"Land use\": \"Summer cereals\", \"Irrigation\": \"dry\", \"Sources\": \"Pesticide production\", \"Quantity (Mt CO2e)\": 0.07427935647583007}, {\"Year\": 2050, \"Land use\": \"Summer cereals\", \"Irrigation\": \"dry\", \"Sources\": \"Sowing\", \"Quantity (Mt CO2e)\": 0.01233600867843628}, {\"Year\": 2050, \"Land use\": \"Summer cereals\", \"Irrigation\": \"irr\", \"Sources\": \"Agricultural soils: Animal production, dung and urine\", \"Quantity (Mt CO2e)\": 0.0}, {\"Year\": 2050, \"Land use\": \"Summer cereals\", \"Irrigation\": \"irr\", \"Sources\": \"Agricultural soils: Direct Soil Emissions (biogenic)\", \"Quantity (Mt CO2e)\": 0.0005999714965820313}, {\"Year\": 2050, \"Land use\": \"Summer cereals\", \"Irrigation\": \"irr\", \"Sources\": \"Agricultural soils: Indirect leaching and runoff\", \"Quantity (Mt CO2e)\": 0.0}, {\"Year\": 2050, \"Land use\": \"Summer cereals\", \"Irrigation\": \"irr\", \"Sources\": \"Chemical Application\", \"Quantity (Mt CO2e)\": 0.00014744435119628906}, {\"Year\": 2050, \"Land use\": \"Summer cereals\", \"Irrigation\": \"irr\", \"Sources\": \"Crop Management\", \"Quantity (Mt CO2e)\": 0.0}, {\"Year\": 2050, \"Land use\": \"Summer cereals\", \"Irrigation\": \"irr\", \"Sources\": \"Cultivation\", \"Quantity (Mt CO2e)\": 0.0004555457763671875}, {\"Year\": 2050, \"Land use\": \"Summer cereals\", \"Irrigation\": \"irr\", \"Sources\": \"Electricity Use livestock\", \"Quantity (Mt CO2e)\": 0.0}, {\"Year\": 2050, \"Land use\": \"Summer cereals\", \"Irrigation\": \"irr\", \"Sources\": \"Fertiliser production\", \"Quantity (Mt CO2e)\": 0.0004205186157226562}, {\"Year\": 2050, \"Land use\": \"Summer cereals\", \"Irrigation\": \"irr\", \"Sources\": \"Fodder production\", \"Quantity (Mt CO2e)\": 0.0}, {\"Year\": 2050, \"Land use\": \"Summer cereals\", \"Irrigation\": \"irr\", \"Sources\": \"Fuel Use livestock\", \"Quantity (Mt CO2e)\": 0.0}, {\"Year\": 2050, \"Land use\": \"Summer cereals\", \"Irrigation\": \"irr\", \"Sources\": \"Harvesting\", \"Quantity (Mt CO2e)\": 3.047633171081543e-05}, {\"Year\": 2050, \"Land use\": \"Summer cereals\", \"Irrigation\": \"irr\", \"Sources\": \"Irrigation\", \"Quantity (Mt CO2e)\": 0.0002212558135986328}, {\"Year\": 2050, \"Land use\": \"Summer cereals\", \"Irrigation\": \"irr\", \"Sources\": \"Livestock Enteric Fermentation (biogenic)\", \"Quantity (Mt CO2e)\": 0.0}, {\"Year\": 2050, \"Land use\": \"Summer cereals\", \"Irrigation\": \"irr\", \"Sources\": \"Livestock Manure Management (biogenic)\", \"Quantity (Mt CO2e)\": 0.0}, {\"Year\": 2050, \"Land use\": \"Summer cereals\", \"Irrigation\": \"irr\", \"Sources\": \"Pasture Seed production\", \"Quantity (Mt CO2e)\": 0.0}, {\"Year\": 2050, \"Land use\": \"Summer cereals\", \"Irrigation\": \"irr\", \"Sources\": \"Pesticide production\", \"Quantity (Mt CO2e)\": 0.0004613658142089844}, {\"Year\": 2050, \"Land use\": \"Summer cereals\", \"Irrigation\": \"irr\", \"Sources\": \"Sowing\", \"Quantity (Mt CO2e)\": 6.115015029907227e-05}, {\"Year\": 2050, \"Land use\": \"Summer legumes\", \"Irrigation\": \"dry\", \"Sources\": \"Agricultural soils: Animal production, dung and urine\", \"Quantity (Mt CO2e)\": 0.0}, {\"Year\": 2050, \"Land use\": \"Summer legumes\", \"Irrigation\": \"dry\", \"Sources\": \"Agricultural soils: Direct Soil Emissions (biogenic)\", \"Quantity (Mt CO2e)\": 0.0}, {\"Year\": 2050, \"Land use\": \"Summer legumes\", \"Irrigation\": \"dry\", \"Sources\": \"Agricultural soils: Indirect leaching and runoff\", \"Quantity (Mt CO2e)\": 0.0}, {\"Year\": 2050, \"Land use\": \"Summer legumes\", \"Irrigation\": \"dry\", \"Sources\": \"Chemical Application\", \"Quantity (Mt CO2e)\": 0.0}, {\"Year\": 2050, \"Land use\": \"Summer legumes\", \"Irrigation\": \"dry\", \"Sources\": \"Crop Management\", \"Quantity (Mt CO2e)\": 0.0}, {\"Year\": 2050, \"Land use\": \"Summer legumes\", \"Irrigation\": \"dry\", \"Sources\": \"Cultivation\", \"Quantity (Mt CO2e)\": 0.0}, {\"Year\": 2050, \"Land use\": \"Summer legumes\", \"Irrigation\": \"dry\", \"Sources\": \"Electricity Use livestock\", \"Quantity (Mt CO2e)\": 0.0}, {\"Year\": 2050, \"Land use\": \"Summer legumes\", \"Irrigation\": \"dry\", \"Sources\": \"Fertiliser production\", \"Quantity (Mt CO2e)\": 0.0}, {\"Year\": 2050, \"Land use\": \"Summer legumes\", \"Irrigation\": \"dry\", \"Sources\": \"Fodder production\", \"Quantity (Mt CO2e)\": 0.0}, {\"Year\": 2050, \"Land use\": \"Summer legumes\", \"Irrigation\": \"dry\", \"Sources\": \"Fuel Use livestock\", \"Quantity (Mt CO2e)\": 0.0}, {\"Year\": 2050, \"Land use\": \"Summer legumes\", \"Irrigation\": \"dry\", \"Sources\": \"Harvesting\", \"Quantity (Mt CO2e)\": 0.0}, {\"Year\": 2050, \"Land use\": \"Summer legumes\", \"Irrigation\": \"dry\", \"Sources\": \"Irrigation\", \"Quantity (Mt CO2e)\": 0.0}, {\"Year\": 2050, \"Land use\": \"Summer legumes\", \"Irrigation\": \"dry\", \"Sources\": \"Livestock Enteric Fermentation (biogenic)\", \"Quantity (Mt CO2e)\": 0.0}, {\"Year\": 2050, \"Land use\": \"Summer legumes\", \"Irrigation\": \"dry\", \"Sources\": \"Livestock Manure Management (biogenic)\", \"Quantity (Mt CO2e)\": 0.0}, {\"Year\": 2050, \"Land use\": \"Summer legumes\", \"Irrigation\": \"dry\", \"Sources\": \"Pasture Seed production\", \"Quantity (Mt CO2e)\": 0.0}, {\"Year\": 2050, \"Land use\": \"Summer legumes\", \"Irrigation\": \"dry\", \"Sources\": \"Pesticide production\", \"Quantity (Mt CO2e)\": 0.0}, {\"Year\": 2050, \"Land use\": \"Summer legumes\", \"Irrigation\": \"dry\", \"Sources\": \"Sowing\", \"Quantity (Mt CO2e)\": 0.0}, {\"Year\": 2050, \"Land use\": \"Summer legumes\", \"Irrigation\": \"irr\", \"Sources\": \"Agricultural soils: Animal production, dung and urine\", \"Quantity (Mt CO2e)\": 0.0}, {\"Year\": 2050, \"Land use\": \"Summer legumes\", \"Irrigation\": \"irr\", \"Sources\": \"Agricultural soils: Direct Soil Emissions (biogenic)\", \"Quantity (Mt CO2e)\": 0.0004646172714233398}, {\"Year\": 2050, \"Land use\": \"Summer legumes\", \"Irrigation\": \"irr\", \"Sources\": \"Agricultural soils: Indirect leaching and runoff\", \"Quantity (Mt CO2e)\": 0.0}, {\"Year\": 2050, \"Land use\": \"Summer legumes\", \"Irrigation\": \"irr\", \"Sources\": \"Chemical Application\", \"Quantity (Mt CO2e)\": 0.002357891845703125}, {\"Year\": 2050, \"Land use\": \"Summer legumes\", \"Irrigation\": \"irr\", \"Sources\": \"Crop Management\", \"Quantity (Mt CO2e)\": 0.00010278013801574708}, {\"Year\": 2050, \"Land use\": \"Summer legumes\", \"Irrigation\": \"irr\", \"Sources\": \"Cultivation\", \"Quantity (Mt CO2e)\": 0.003835549957275391}, {\"Year\": 2050, \"Land use\": \"Summer legumes\", \"Irrigation\": \"irr\", \"Sources\": \"Electricity Use livestock\", \"Quantity (Mt CO2e)\": 0.0}, {\"Year\": 2050, \"Land use\": \"Summer legumes\", \"Irrigation\": \"irr\", \"Sources\": \"Fertiliser production\", \"Quantity (Mt CO2e)\": 0.0014424624557495115}, {\"Year\": 2050, \"Land use\": \"Summer legumes\", \"Irrigation\": \"irr\", \"Sources\": \"Fodder production\", \"Quantity (Mt CO2e)\": 0.0}, {\"Year\": 2050, \"Land use\": \"Summer legumes\", \"Irrigation\": \"irr\", \"Sources\": \"Fuel Use livestock\", \"Quantity (Mt CO2e)\": 0.0}, {\"Year\": 2050, \"Land use\": \"Summer legumes\", \"Irrigation\": \"irr\", \"Sources\": \"Harvesting\", \"Quantity (Mt CO2e)\": 0.0004772677764892578}, {\"Year\": 2050, \"Land use\": \"Summer legumes\", \"Irrigation\": \"irr\", \"Sources\": \"Irrigation\", \"Quantity (Mt CO2e)\": 0.0012067926788330078}, {\"Year\": 2050, \"Land use\": \"Summer legumes\", \"Irrigation\": \"irr\", \"Sources\": \"Livestock Enteric Fermentation (biogenic)\", \"Quantity (Mt CO2e)\": 0.0}, {\"Year\": 2050, \"Land use\": \"Summer legumes\", \"Irrigation\": \"irr\", \"Sources\": \"Livestock Manure Management (biogenic)\", \"Quantity (Mt CO2e)\": 0.0}, {\"Year\": 2050, \"Land use\": \"Summer legumes\", \"Irrigation\": \"irr\", \"Sources\": \"Pasture Seed production\", \"Quantity (Mt CO2e)\": 0.0}, {\"Year\": 2050, \"Land use\": \"Summer legumes\", \"Irrigation\": \"irr\", \"Sources\": \"Pesticide production\", \"Quantity (Mt CO2e)\": 0.001645260986328125}, {\"Year\": 2050, \"Land use\": \"Summer legumes\", \"Irrigation\": \"irr\", \"Sources\": \"Sowing\", \"Quantity (Mt CO2e)\": 0.0}, {\"Year\": 2050, \"Land use\": \"Summer oilseeds\", \"Irrigation\": \"dry\", \"Sources\": \"Agricultural soils: Animal production, dung and urine\", \"Quantity (Mt CO2e)\": 0.0}, {\"Year\": 2050, \"Land use\": \"Summer oilseeds\", \"Irrigation\": \"dry\", \"Sources\": \"Agricultural soils: Direct Soil Emissions (biogenic)\", \"Quantity (Mt CO2e)\": 0.0011776975653395448}, {\"Year\": 2050, \"Land use\": \"Summer oilseeds\", \"Irrigation\": \"dry\", \"Sources\": \"Agricultural soils: Indirect leaching and runoff\", \"Quantity (Mt CO2e)\": 0.0}, {\"Year\": 2050, \"Land use\": \"Summer oilseeds\", \"Irrigation\": \"dry\", \"Sources\": \"Chemical Application\", \"Quantity (Mt CO2e)\": 0.0014379259370052929}, {\"Year\": 2050, \"Land use\": \"Summer oilseeds\", \"Irrigation\": \"dry\", \"Sources\": \"Crop Management\", \"Quantity (Mt CO2e)\": 0.0}, {\"Year\": 2050, \"Land use\": \"Summer oilseeds\", \"Irrigation\": \"dry\", \"Sources\": \"Cultivation\", \"Quantity (Mt CO2e)\": 0.0}, {\"Year\": 2050, \"Land use\": \"Summer oilseeds\", \"Irrigation\": \"dry\", \"Sources\": \"Electricity Use livestock\", \"Quantity (Mt CO2e)\": 0.0}, {\"Year\": 2050, \"Land use\": \"Summer oilseeds\", \"Irrigation\": \"dry\", \"Sources\": \"Fertiliser production\", \"Quantity (Mt CO2e)\": 0.004803999566350436}, {\"Year\": 2050, \"Land use\": \"Summer oilseeds\", \"Irrigation\": \"dry\", \"Sources\": \"Fodder production\", \"Quantity (Mt CO2e)\": 0.0}, {\"Year\": 2050, \"Land use\": \"Summer oilseeds\", \"Irrigation\": \"dry\", \"Sources\": \"Fuel Use livestock\", \"Quantity (Mt CO2e)\": 0.0}, {\"Year\": 2050, \"Land use\": \"Summer oilseeds\", \"Irrigation\": \"dry\", \"Sources\": \"Harvesting\", \"Quantity (Mt CO2e)\": 0.0004358576940303885}, {\"Year\": 2050, \"Land use\": \"Summer oilseeds\", \"Irrigation\": \"dry\", \"Sources\": \"Irrigation\", \"Quantity (Mt CO2e)\": 0.0}, {\"Year\": 2050, \"Land use\": \"Summer oilseeds\", \"Irrigation\": \"dry\", \"Sources\": \"Livestock Enteric Fermentation (biogenic)\", \"Quantity (Mt CO2e)\": 0.0}, {\"Year\": 2050, \"Land use\": \"Summer oilseeds\", \"Irrigation\": \"dry\", \"Sources\": \"Livestock Manure Management (biogenic)\", \"Quantity (Mt CO2e)\": 0.0}, {\"Year\": 2050, \"Land use\": \"Summer oilseeds\", \"Irrigation\": \"dry\", \"Sources\": \"Pasture Seed production\", \"Quantity (Mt CO2e)\": 0.0}, {\"Year\": 2050, \"Land use\": \"Summer oilseeds\", \"Irrigation\": \"dry\", \"Sources\": \"Pesticide production\", \"Quantity (Mt CO2e)\": 0.0049366514194722376}, {\"Year\": 2050, \"Land use\": \"Summer oilseeds\", \"Irrigation\": \"dry\", \"Sources\": \"Sowing\", \"Quantity (Mt CO2e)\": 0.0012181786338514725}, {\"Year\": 2050, \"Land use\": \"Summer oilseeds\", \"Irrigation\": \"irr\", \"Sources\": \"Agricultural soils: Animal production, dung and urine\", \"Quantity (Mt CO2e)\": 0.0}, {\"Year\": 2050, \"Land use\": \"Summer oilseeds\", \"Irrigation\": \"irr\", \"Sources\": \"Agricultural soils: Direct Soil Emissions (biogenic)\", \"Quantity (Mt CO2e)\": 0.0}, {\"Year\": 2050, \"Land use\": \"Summer oilseeds\", \"Irrigation\": \"irr\", \"Sources\": \"Agricultural soils: Indirect leaching and runoff\", \"Quantity (Mt CO2e)\": 0.0}, {\"Year\": 2050, \"Land use\": \"Summer oilseeds\", \"Irrigation\": \"irr\", \"Sources\": \"Chemical Application\", \"Quantity (Mt CO2e)\": 0.0}, {\"Year\": 2050, \"Land use\": \"Summer oilseeds\", \"Irrigation\": \"irr\", \"Sources\": \"Crop Management\", \"Quantity (Mt CO2e)\": 0.0}, {\"Year\": 2050, \"Land use\": \"Summer oilseeds\", \"Irrigation\": \"irr\", \"Sources\": \"Cultivation\", \"Quantity (Mt CO2e)\": 0.0}, {\"Year\": 2050, \"Land use\": \"Summer oilseeds\", \"Irrigation\": \"irr\", \"Sources\": \"Electricity Use livestock\", \"Quantity (Mt CO2e)\": 0.0}, {\"Year\": 2050, \"Land use\": \"Summer oilseeds\", \"Irrigation\": \"irr\", \"Sources\": \"Fertiliser production\", \"Quantity (Mt CO2e)\": 0.0}, {\"Year\": 2050, \"Land use\": \"Summer oilseeds\", \"Irrigation\": \"irr\", \"Sources\": \"Fodder production\", \"Quantity (Mt CO2e)\": 0.0}, {\"Year\": 2050, \"Land use\": \"Summer oilseeds\", \"Irrigation\": \"irr\", \"Sources\": \"Fuel Use livestock\", \"Quantity (Mt CO2e)\": 0.0}, {\"Year\": 2050, \"Land use\": \"Summer oilseeds\", \"Irrigation\": \"irr\", \"Sources\": \"Harvesting\", \"Quantity (Mt CO2e)\": 0.0}, {\"Year\": 2050, \"Land use\": \"Summer oilseeds\", \"Irrigation\": \"irr\", \"Sources\": \"Irrigation\", \"Quantity (Mt CO2e)\": 0.0}, {\"Year\": 2050, \"Land use\": \"Summer oilseeds\", \"Irrigation\": \"irr\", \"Sources\": \"Livestock Enteric Fermentation (biogenic)\", \"Quantity (Mt CO2e)\": 0.0}, {\"Year\": 2050, \"Land use\": \"Summer oilseeds\", \"Irrigation\": \"irr\", \"Sources\": \"Livestock Manure Management (biogenic)\", \"Quantity (Mt CO2e)\": 0.0}, {\"Year\": 2050, \"Land use\": \"Summer oilseeds\", \"Irrigation\": \"irr\", \"Sources\": \"Pasture Seed production\", \"Quantity (Mt CO2e)\": 0.0}, {\"Year\": 2050, \"Land use\": \"Summer oilseeds\", \"Irrigation\": \"irr\", \"Sources\": \"Pesticide production\", \"Quantity (Mt CO2e)\": 0.0}, {\"Year\": 2050, \"Land use\": \"Summer oilseeds\", \"Irrigation\": \"irr\", \"Sources\": \"Sowing\", \"Quantity (Mt CO2e)\": 0.0}, {\"Year\": 2050, \"Land use\": \"Tropical stone fruit\", \"Irrigation\": \"dry\", \"Sources\": \"Agricultural soils: Animal production, dung and urine\", \"Quantity (Mt CO2e)\": 0.0}, {\"Year\": 2050, \"Land use\": \"Tropical stone fruit\", \"Irrigation\": \"dry\", \"Sources\": \"Agricultural soils: Direct Soil Emissions (biogenic)\", \"Quantity (Mt CO2e)\": 0.0}, {\"Year\": 2050, \"Land use\": \"Tropical stone fruit\", \"Irrigation\": \"dry\", \"Sources\": \"Agricultural soils: Indirect leaching and runoff\", \"Quantity (Mt CO2e)\": 0.0}, {\"Year\": 2050, \"Land use\": \"Tropical stone fruit\", \"Irrigation\": \"dry\", \"Sources\": \"Chemical Application\", \"Quantity (Mt CO2e)\": 0.0}, {\"Year\": 2050, \"Land use\": \"Tropical stone fruit\", \"Irrigation\": \"dry\", \"Sources\": \"Crop Management\", \"Quantity (Mt CO2e)\": 0.0}, {\"Year\": 2050, \"Land use\": \"Tropical stone fruit\", \"Irrigation\": \"dry\", \"Sources\": \"Cultivation\", \"Quantity (Mt CO2e)\": 0.0}, {\"Year\": 2050, \"Land use\": \"Tropical stone fruit\", \"Irrigation\": \"dry\", \"Sources\": \"Electricity Use livestock\", \"Quantity (Mt CO2e)\": 0.0}, {\"Year\": 2050, \"Land use\": \"Tropical stone fruit\", \"Irrigation\": \"dry\", \"Sources\": \"Fertiliser production\", \"Quantity (Mt CO2e)\": 0.0}, {\"Year\": 2050, \"Land use\": \"Tropical stone fruit\", \"Irrigation\": \"dry\", \"Sources\": \"Fodder production\", \"Quantity (Mt CO2e)\": 0.0}, {\"Year\": 2050, \"Land use\": \"Tropical stone fruit\", \"Irrigation\": \"dry\", \"Sources\": \"Fuel Use livestock\", \"Quantity (Mt CO2e)\": 0.0}, {\"Year\": 2050, \"Land use\": \"Tropical stone fruit\", \"Irrigation\": \"dry\", \"Sources\": \"Harvesting\", \"Quantity (Mt CO2e)\": 0.0}, {\"Year\": 2050, \"Land use\": \"Tropical stone fruit\", \"Irrigation\": \"dry\", \"Sources\": \"Irrigation\", \"Quantity (Mt CO2e)\": 0.0}, {\"Year\": 2050, \"Land use\": \"Tropical stone fruit\", \"Irrigation\": \"dry\", \"Sources\": \"Livestock Enteric Fermentation (biogenic)\", \"Quantity (Mt CO2e)\": 0.0}, {\"Year\": 2050, \"Land use\": \"Tropical stone fruit\", \"Irrigation\": \"dry\", \"Sources\": \"Livestock Manure Management (biogenic)\", \"Quantity (Mt CO2e)\": 0.0}, {\"Year\": 2050, \"Land use\": \"Tropical stone fruit\", \"Irrigation\": \"dry\", \"Sources\": \"Pasture Seed production\", \"Quantity (Mt CO2e)\": 0.0}, {\"Year\": 2050, \"Land use\": \"Tropical stone fruit\", \"Irrigation\": \"dry\", \"Sources\": \"Pesticide production\", \"Quantity (Mt CO2e)\": 0.0}, {\"Year\": 2050, \"Land use\": \"Tropical stone fruit\", \"Irrigation\": \"dry\", \"Sources\": \"Sowing\", \"Quantity (Mt CO2e)\": 0.0}, {\"Year\": 2050, \"Land use\": \"Tropical stone fruit\", \"Irrigation\": \"irr\", \"Sources\": \"Agricultural soils: Animal production, dung and urine\", \"Quantity (Mt CO2e)\": 0.0}, {\"Year\": 2050, \"Land use\": \"Tropical stone fruit\", \"Irrigation\": \"irr\", \"Sources\": \"Agricultural soils: Direct Soil Emissions (biogenic)\", \"Quantity (Mt CO2e)\": 0.00388978271484375}, {\"Year\": 2050, \"Land use\": \"Tropical stone fruit\", \"Irrigation\": \"irr\", \"Sources\": \"Agricultural soils: Indirect leaching and runoff\", \"Quantity (Mt CO2e)\": 0.0}, {\"Year\": 2050, \"Land use\": \"Tropical stone fruit\", \"Irrigation\": \"irr\", \"Sources\": \"Chemical Application\", \"Quantity (Mt CO2e)\": 0.0008294107055664062}, {\"Year\": 2050, \"Land use\": \"Tropical stone fruit\", \"Irrigation\": \"irr\", \"Sources\": \"Crop Management\", \"Quantity (Mt CO2e)\": 0.0002551072158813477}, {\"Year\": 2050, \"Land use\": \"Tropical stone fruit\", \"Irrigation\": \"irr\", \"Sources\": \"Cultivation\", \"Quantity (Mt CO2e)\": 0.0006954597778320313}, {\"Year\": 2050, \"Land use\": \"Tropical stone fruit\", \"Irrigation\": \"irr\", \"Sources\": \"Electricity Use livestock\", \"Quantity (Mt CO2e)\": 0.0}, {\"Year\": 2050, \"Land use\": \"Tropical stone fruit\", \"Irrigation\": \"irr\", \"Sources\": \"Fertiliser production\", \"Quantity (Mt CO2e)\": 0.00286431201171875}, {\"Year\": 2050, \"Land use\": \"Tropical stone fruit\", \"Irrigation\": \"irr\", \"Sources\": \"Fodder production\", \"Quantity (Mt CO2e)\": 0.0}, {\"Year\": 2050, \"Land use\": \"Tropical stone fruit\", \"Irrigation\": \"irr\", \"Sources\": \"Fuel Use livestock\", \"Quantity (Mt CO2e)\": 0.0}, {\"Year\": 2050, \"Land use\": \"Tropical stone fruit\", \"Irrigation\": \"irr\", \"Sources\": \"Harvesting\", \"Quantity (Mt CO2e)\": 0.0003305277862548828}, {\"Year\": 2050, \"Land use\": \"Tropical stone fruit\", \"Irrigation\": \"irr\", \"Sources\": \"Irrigation\", \"Quantity (Mt CO2e)\": 0.000930882781982422}, {\"Year\": 2050, \"Land use\": \"Tropical stone fruit\", \"Irrigation\": \"irr\", \"Sources\": \"Livestock Enteric Fermentation (biogenic)\", \"Quantity (Mt CO2e)\": 0.0}, {\"Year\": 2050, \"Land use\": \"Tropical stone fruit\", \"Irrigation\": \"irr\", \"Sources\": \"Livestock Manure Management (biogenic)\", \"Quantity (Mt CO2e)\": 0.0}, {\"Year\": 2050, \"Land use\": \"Tropical stone fruit\", \"Irrigation\": \"irr\", \"Sources\": \"Pasture Seed production\", \"Quantity (Mt CO2e)\": 0.0}, {\"Year\": 2050, \"Land use\": \"Tropical stone fruit\", \"Irrigation\": \"irr\", \"Sources\": \"Pesticide production\", \"Quantity (Mt CO2e)\": 0.001330322509765625}, {\"Year\": 2050, \"Land use\": \"Tropical stone fruit\", \"Irrigation\": \"irr\", \"Sources\": \"Sowing\", \"Quantity (Mt CO2e)\": 4.088296127319336e-05}, {\"Year\": 2050, \"Land use\": \"Vegetables\", \"Irrigation\": \"dry\", \"Sources\": \"Agricultural soils: Animal production, dung and urine\", \"Quantity (Mt CO2e)\": 0.0}, {\"Year\": 2050, \"Land use\": \"Vegetables\", \"Irrigation\": \"dry\", \"Sources\": \"Agricultural soils: Direct Soil Emissions (biogenic)\", \"Quantity (Mt CO2e)\": 0.0}, {\"Year\": 2050, \"Land use\": \"Vegetables\", \"Irrigation\": \"dry\", \"Sources\": \"Agricultural soils: Indirect leaching and runoff\", \"Quantity (Mt CO2e)\": 0.0}, {\"Year\": 2050, \"Land use\": \"Vegetables\", \"Irrigation\": \"dry\", \"Sources\": \"Chemical Application\", \"Quantity (Mt CO2e)\": 0.0}, {\"Year\": 2050, \"Land use\": \"Vegetables\", \"Irrigation\": \"dry\", \"Sources\": \"Crop Management\", \"Quantity (Mt CO2e)\": 0.0}, {\"Year\": 2050, \"Land use\": \"Vegetables\", \"Irrigation\": \"dry\", \"Sources\": \"Cultivation\", \"Quantity (Mt CO2e)\": 0.0}, {\"Year\": 2050, \"Land use\": \"Vegetables\", \"Irrigation\": \"dry\", \"Sources\": \"Electricity Use livestock\", \"Quantity (Mt CO2e)\": 0.0}, {\"Year\": 2050, \"Land use\": \"Vegetables\", \"Irrigation\": \"dry\", \"Sources\": \"Fertiliser production\", \"Quantity (Mt CO2e)\": 0.0}, {\"Year\": 2050, \"Land use\": \"Vegetables\", \"Irrigation\": \"dry\", \"Sources\": \"Fodder production\", \"Quantity (Mt CO2e)\": 0.0}, {\"Year\": 2050, \"Land use\": \"Vegetables\", \"Irrigation\": \"dry\", \"Sources\": \"Fuel Use livestock\", \"Quantity (Mt CO2e)\": 0.0}, {\"Year\": 2050, \"Land use\": \"Vegetables\", \"Irrigation\": \"dry\", \"Sources\": \"Harvesting\", \"Quantity (Mt CO2e)\": 0.0}, {\"Year\": 2050, \"Land use\": \"Vegetables\", \"Irrigation\": \"dry\", \"Sources\": \"Irrigation\", \"Quantity (Mt CO2e)\": 0.0}, {\"Year\": 2050, \"Land use\": \"Vegetables\", \"Irrigation\": \"dry\", \"Sources\": \"Livestock Enteric Fermentation (biogenic)\", \"Quantity (Mt CO2e)\": 0.0}, {\"Year\": 2050, \"Land use\": \"Vegetables\", \"Irrigation\": \"dry\", \"Sources\": \"Livestock Manure Management (biogenic)\", \"Quantity (Mt CO2e)\": 0.0}, {\"Year\": 2050, \"Land use\": \"Vegetables\", \"Irrigation\": \"dry\", \"Sources\": \"Pasture Seed production\", \"Quantity (Mt CO2e)\": 0.0}, {\"Year\": 2050, \"Land use\": \"Vegetables\", \"Irrigation\": \"dry\", \"Sources\": \"Pesticide production\", \"Quantity (Mt CO2e)\": 0.0}, {\"Year\": 2050, \"Land use\": \"Vegetables\", \"Irrigation\": \"dry\", \"Sources\": \"Sowing\", \"Quantity (Mt CO2e)\": 0.0}, {\"Year\": 2050, \"Land use\": \"Vegetables\", \"Irrigation\": \"irr\", \"Sources\": \"Agricultural soils: Animal production, dung and urine\", \"Quantity (Mt CO2e)\": 0.0}, {\"Year\": 2050, \"Land use\": \"Vegetables\", \"Irrigation\": \"irr\", \"Sources\": \"Agricultural soils: Direct Soil Emissions (biogenic)\", \"Quantity (Mt CO2e)\": 0.12274298503654146}, {\"Year\": 2050, \"Land use\": \"Vegetables\", \"Irrigation\": \"irr\", \"Sources\": \"Agricultural soils: Indirect leaching and runoff\", \"Quantity (Mt CO2e)\": 0.0}, {\"Year\": 2050, \"Land use\": \"Vegetables\", \"Irrigation\": \"irr\", \"Sources\": \"Chemical Application\", \"Quantity (Mt CO2e)\": 0.010263551342113472}, {\"Year\": 2050, \"Land use\": \"Vegetables\", \"Irrigation\": \"irr\", \"Sources\": \"Crop Management\", \"Quantity (Mt CO2e)\": 0.0019417263030696232}, {\"Year\": 2050, \"Land use\": \"Vegetables\", \"Irrigation\": \"irr\", \"Sources\": \"Cultivation\", \"Quantity (Mt CO2e)\": 0.009152400288641453}, {\"Year\": 2050, \"Land use\": \"Vegetables\", \"Irrigation\": \"irr\", \"Sources\": \"Electricity Use livestock\", \"Quantity (Mt CO2e)\": 0.0}, {\"Year\": 2050, \"Land use\": \"Vegetables\", \"Irrigation\": \"irr\", \"Sources\": \"Fertiliser production\", \"Quantity (Mt CO2e)\": 0.16427351543091434}, {\"Year\": 2050, \"Land use\": \"Vegetables\", \"Irrigation\": \"irr\", \"Sources\": \"Fodder production\", \"Quantity (Mt CO2e)\": 0.0}, {\"Year\": 2050, \"Land use\": \"Vegetables\", \"Irrigation\": \"irr\", \"Sources\": \"Fuel Use livestock\", \"Quantity (Mt CO2e)\": 0.0}, {\"Year\": 2050, \"Land use\": \"Vegetables\", \"Irrigation\": \"irr\", \"Sources\": \"Harvesting\", \"Quantity (Mt CO2e)\": 0.0011217865120836032}, {\"Year\": 2050, \"Land use\": \"Vegetables\", \"Irrigation\": \"irr\", \"Sources\": \"Irrigation\", \"Quantity (Mt CO2e)\": 0.008786147909387393}, {\"Year\": 2050, \"Land use\": \"Vegetables\", \"Irrigation\": \"irr\", \"Sources\": \"Livestock Enteric Fermentation (biogenic)\", \"Quantity (Mt CO2e)\": 0.0}, {\"Year\": 2050, \"Land use\": \"Vegetables\", \"Irrigation\": \"irr\", \"Sources\": \"Livestock Manure Management (biogenic)\", \"Quantity (Mt CO2e)\": 0.0}, {\"Year\": 2050, \"Land use\": \"Vegetables\", \"Irrigation\": \"irr\", \"Sources\": \"Pasture Seed production\", \"Quantity (Mt CO2e)\": 0.0}, {\"Year\": 2050, \"Land use\": \"Vegetables\", \"Irrigation\": \"irr\", \"Sources\": \"Pesticide production\", \"Quantity (Mt CO2e)\": 0.006848620541308801}, {\"Year\": 2050, \"Land use\": \"Vegetables\", \"Irrigation\": \"irr\", \"Sources\": \"Sowing\", \"Quantity (Mt CO2e)\": 0.0018179883784755447}, {\"Year\": 2050, \"Land use\": \"Winter cereals\", \"Irrigation\": \"dry\", \"Sources\": \"Agricultural soils: Animal production, dung and urine\", \"Quantity (Mt CO2e)\": 0.0}, {\"Year\": 2050, \"Land use\": \"Winter cereals\", \"Irrigation\": \"dry\", \"Sources\": \"Agricultural soils: Direct Soil Emissions (biogenic)\", \"Quantity (Mt CO2e)\": 0.5378264093606425}, {\"Year\": 2050, \"Land use\": \"Winter cereals\", \"Irrigation\": \"dry\", \"Sources\": \"Agricultural soils: Indirect leaching and runoff\", \"Quantity (Mt CO2e)\": 0.0}, {\"Year\": 2050, \"Land use\": \"Winter cereals\", \"Irrigation\": \"dry\", \"Sources\": \"Chemical Application\", \"Quantity (Mt CO2e)\": 0.8980197716044543}, {\"Year\": 2050, \"Land use\": \"Winter cereals\", \"Irrigation\": \"dry\", \"Sources\": \"Crop Management\", \"Quantity (Mt CO2e)\": 2.2544677801659532e-05}, {\"Year\": 2050, \"Land use\": \"Winter cereals\", \"Irrigation\": \"dry\", \"Sources\": \"Cultivation\", \"Quantity (Mt CO2e)\": 0.2560637952121876}, {\"Year\": 2050, \"Land use\": \"Winter cereals\", \"Irrigation\": \"dry\", \"Sources\": \"Electricity Use livestock\", \"Quantity (Mt CO2e)\": 0.0}, {\"Year\": 2050, \"Land use\": \"Winter cereals\", \"Irrigation\": \"dry\", \"Sources\": \"Fertiliser production\", \"Quantity (Mt CO2e)\": 2.3336148374399484}, {\"Year\": 2050, \"Land use\": \"Winter cereals\", \"Irrigation\": \"dry\", \"Sources\": \"Fodder production\", \"Quantity (Mt CO2e)\": 0.0}, {\"Year\": 2050, \"Land use\": \"Winter cereals\", \"Irrigation\": \"dry\", \"Sources\": \"Fuel Use livestock\", \"Quantity (Mt CO2e)\": 0.0}, {\"Year\": 2050, \"Land use\": \"Winter cereals\", \"Irrigation\": \"dry\", \"Sources\": \"Harvesting\", \"Quantity (Mt CO2e)\": 0.2680443453899024}, {\"Year\": 2050, \"Land use\": \"Winter cereals\", \"Irrigation\": \"dry\", \"Sources\": \"Irrigation\", \"Quantity (Mt CO2e)\": 0.0}, {\"Year\": 2050, \"Land use\": \"Winter cereals\", \"Irrigation\": \"dry\", \"Sources\": \"Livestock Enteric Fermentation (biogenic)\", \"Quantity (Mt CO2e)\": 0.0}, {\"Year\": 2050, \"Land use\": \"Winter cereals\", \"Irrigation\": \"dry\", \"Sources\": \"Livestock Manure Management (biogenic)\", \"Quantity (Mt CO2e)\": 0.0}, {\"Year\": 2050, \"Land use\": \"Winter cereals\", \"Irrigation\": \"dry\", \"Sources\": \"Pasture Seed production\", \"Quantity (Mt CO2e)\": 0.0}, {\"Year\": 2050, \"Land use\": \"Winter cereals\", \"Irrigation\": \"dry\", \"Sources\": \"Pesticide production\", \"Quantity (Mt CO2e)\": 1.5506937089765498}, {\"Year\": 2050, \"Land use\": \"Winter cereals\", \"Irrigation\": \"dry\", \"Sources\": \"Sowing\", \"Quantity (Mt CO2e)\": 0.5167395607280663}, {\"Year\": 2050, \"Land use\": \"Winter cereals\", \"Irrigation\": \"irr\", \"Sources\": \"Agricultural soils: Animal production, dung and urine\", \"Quantity (Mt CO2e)\": 0.0}, {\"Year\": 2050, \"Land use\": \"Winter cereals\", \"Irrigation\": \"irr\", \"Sources\": \"Agricultural soils: Direct Soil Emissions (biogenic)\", \"Quantity (Mt CO2e)\": 0.4053717259012163}, {\"Year\": 2050, \"Land use\": \"Winter cereals\", \"Irrigation\": \"irr\", \"Sources\": \"Agricultural soils: Indirect leaching and runoff\", \"Quantity (Mt CO2e)\": 0.0}, {\"Year\": 2050, \"Land use\": \"Winter cereals\", \"Irrigation\": \"irr\", \"Sources\": \"Chemical Application\", \"Quantity (Mt CO2e)\": 0.03035125133893049}, {\"Year\": 2050, \"Land use\": \"Winter cereals\", \"Irrigation\": \"irr\", \"Sources\": \"Crop Management\", \"Quantity (Mt CO2e)\": 3.669824446882459e-05}, {\"Year\": 2050, \"Land use\": \"Winter cereals\", \"Irrigation\": \"irr\", \"Sources\": \"Cultivation\", \"Quantity (Mt CO2e)\": 0.052953796667452764}, {\"Year\": 2050, \"Land use\": \"Winter cereals\", \"Irrigation\": \"irr\", \"Sources\": \"Electricity Use livestock\", \"Quantity (Mt CO2e)\": 0.0}, {\"Year\": 2050, \"Land use\": \"Winter cereals\", \"Irrigation\": \"irr\", \"Sources\": \"Fertiliser production\", \"Quantity (Mt CO2e)\": 0.1947665673574143}, {\"Year\": 2050, \"Land use\": \"Winter cereals\", \"Irrigation\": \"irr\", \"Sources\": \"Fodder production\", \"Quantity (Mt CO2e)\": 0.0}, {\"Year\": 2050, \"Land use\": \"Winter cereals\", \"Irrigation\": \"irr\", \"Sources\": \"Fuel Use livestock\", \"Quantity (Mt CO2e)\": 0.0}, {\"Year\": 2050, \"Land use\": \"Winter cereals\", \"Irrigation\": \"irr\", \"Sources\": \"Harvesting\", \"Quantity (Mt CO2e)\": 0.008310430101469509}, {\"Year\": 2050, \"Land use\": \"Winter cereals\", \"Irrigation\": \"irr\", \"Sources\": \"Irrigation\", \"Quantity (Mt CO2e)\": 0.04284045810367459}, {\"Year\": 2050, \"Land use\": \"Winter cereals\", \"Irrigation\": \"irr\", \"Sources\": \"Livestock Enteric Fermentation (biogenic)\", \"Quantity (Mt CO2e)\": 0.0}, {\"Year\": 2050, \"Land use\": \"Winter cereals\", \"Irrigation\": \"irr\", \"Sources\": \"Livestock Manure Management (biogenic)\", \"Quantity (Mt CO2e)\": 0.0}, {\"Year\": 2050, \"Land use\": \"Winter cereals\", \"Irrigation\": \"irr\", \"Sources\": \"Pasture Seed production\", \"Quantity (Mt CO2e)\": 0.0}, {\"Year\": 2050, \"Land use\": \"Winter cereals\", \"Irrigation\": \"irr\", \"Sources\": \"Pesticide production\", \"Quantity (Mt CO2e)\": 0.0571910070433594}, {\"Year\": 2050, \"Land use\": \"Winter cereals\", \"Irrigation\": \"irr\", \"Sources\": \"Sowing\", \"Quantity (Mt CO2e)\": 0.021317877562380537}, {\"Year\": 2050, \"Land use\": \"Winter legumes\", \"Irrigation\": \"dry\", \"Sources\": \"Agricultural soils: Animal production, dung and urine\", \"Quantity (Mt CO2e)\": 0.0}, {\"Year\": 2050, \"Land use\": \"Winter legumes\", \"Irrigation\": \"dry\", \"Sources\": \"Agricultural soils: Direct Soil Emissions (biogenic)\", \"Quantity (Mt CO2e)\": 0.0008291900883683888}, {\"Year\": 2050, \"Land use\": \"Winter legumes\", \"Irrigation\": \"dry\", \"Sources\": \"Agricultural soils: Indirect leaching and runoff\", \"Quantity (Mt CO2e)\": 0.0}, {\"Year\": 2050, \"Land use\": \"Winter legumes\", \"Irrigation\": \"dry\", \"Sources\": \"Chemical Application\", \"Quantity (Mt CO2e)\": 0.10377701169155373}, {\"Year\": 2050, \"Land use\": \"Winter legumes\", \"Irrigation\": \"dry\", \"Sources\": \"Crop Management\", \"Quantity (Mt CO2e)\": 0.0}, {\"Year\": 2050, \"Land use\": \"Winter legumes\", \"Irrigation\": \"dry\", \"Sources\": \"Cultivation\", \"Quantity (Mt CO2e)\": 0.008382114040374755}, {\"Year\": 2050, \"Land use\": \"Winter legumes\", \"Irrigation\": \"dry\", \"Sources\": \"Electricity Use livestock\", \"Quantity (Mt CO2e)\": 0.0}, {\"Year\": 2050, \"Land use\": \"Winter legumes\", \"Irrigation\": \"dry\", \"Sources\": \"Fertiliser production\", \"Quantity (Mt CO2e)\": 0.11318934336888176}, {\"Year\": 2050, \"Land use\": \"Winter legumes\", \"Irrigation\": \"dry\", \"Sources\": \"Fodder production\", \"Quantity (Mt CO2e)\": 0.0}, {\"Year\": 2050, \"Land use\": \"Winter legumes\", \"Irrigation\": \"dry\", \"Sources\": \"Fuel Use livestock\", \"Quantity (Mt CO2e)\": 0.0}, {\"Year\": 2050, \"Land use\": \"Winter legumes\", \"Irrigation\": \"dry\", \"Sources\": \"Harvesting\", \"Quantity (Mt CO2e)\": 0.005682020239383511}, {\"Year\": 2050, \"Land use\": \"Winter legumes\", \"Irrigation\": \"dry\", \"Sources\": \"Irrigation\", \"Quantity (Mt CO2e)\": 0.0}, {\"Year\": 2050, \"Land use\": \"Winter legumes\", \"Irrigation\": \"dry\", \"Sources\": \"Livestock Enteric Fermentation (biogenic)\", \"Quantity (Mt CO2e)\": 0.0}, {\"Year\": 2050, \"Land use\": \"Winter legumes\", \"Irrigation\": \"dry\", \"Sources\": \"Livestock Manure Management (biogenic)\", \"Quantity (Mt CO2e)\": 0.0}, {\"Year\": 2050, \"Land use\": \"Winter legumes\", \"Irrigation\": \"dry\", \"Sources\": \"Pasture Seed production\", \"Quantity (Mt CO2e)\": 0.0}, {\"Year\": 2050, \"Land use\": \"Winter legumes\", \"Irrigation\": \"dry\", \"Sources\": \"Pesticide production\", \"Quantity (Mt CO2e)\": 0.11476570220989547}, {\"Year\": 2050, \"Land use\": \"Winter legumes\", \"Irrigation\": \"dry\", \"Sources\": \"Sowing\", \"Quantity (Mt CO2e)\": 0.05115033659915947}, {\"Year\": 2050, \"Land use\": \"Winter legumes\", \"Irrigation\": \"irr\", \"Sources\": \"Agricultural soils: Animal production, dung and urine\", \"Quantity (Mt CO2e)\": 0.0}, {\"Year\": 2050, \"Land use\": \"Winter legumes\", \"Irrigation\": \"irr\", \"Sources\": \"Agricultural soils: Direct Soil Emissions (biogenic)\", \"Quantity (Mt CO2e)\": 0.0}, {\"Year\": 2050, \"Land use\": \"Winter legumes\", \"Irrigation\": \"irr\", \"Sources\": \"Agricultural soils: Indirect leaching and runoff\", \"Quantity (Mt CO2e)\": 0.0}, {\"Year\": 2050, \"Land use\": \"Winter legumes\", \"Irrigation\": \"irr\", \"Sources\": \"Chemical Application\", \"Quantity (Mt CO2e)\": 0.0}, {\"Year\": 2050, \"Land use\": \"Winter legumes\", \"Irrigation\": \"irr\", \"Sources\": \"Crop Management\", \"Quantity (Mt CO2e)\": 0.0}, {\"Year\": 2050, \"Land use\": \"Winter legumes\", \"Irrigation\": \"irr\", \"Sources\": \"Cultivation\", \"Quantity (Mt CO2e)\": 0.0}, {\"Year\": 2050, \"Land use\": \"Winter legumes\", \"Irrigation\": \"irr\", \"Sources\": \"Electricity Use livestock\", \"Quantity (Mt CO2e)\": 0.0}, {\"Year\": 2050, \"Land use\": \"Winter legumes\", \"Irrigation\": \"irr\", \"Sources\": \"Fertiliser production\", \"Quantity (Mt CO2e)\": 0.0}, {\"Year\": 2050, \"Land use\": \"Winter legumes\", \"Irrigation\": \"irr\", \"Sources\": \"Fodder production\", \"Quantity (Mt CO2e)\": 0.0}, {\"Year\": 2050, \"Land use\": \"Winter legumes\", \"Irrigation\": \"irr\", \"Sources\": \"Fuel Use livestock\", \"Quantity (Mt CO2e)\": 0.0}, {\"Year\": 2050, \"Land use\": \"Winter legumes\", \"Irrigation\": \"irr\", \"Sources\": \"Harvesting\", \"Quantity (Mt CO2e)\": 0.0}, {\"Year\": 2050, \"Land use\": \"Winter legumes\", \"Irrigation\": \"irr\", \"Sources\": \"Irrigation\", \"Quantity (Mt CO2e)\": 0.0}, {\"Year\": 2050, \"Land use\": \"Winter legumes\", \"Irrigation\": \"irr\", \"Sources\": \"Livestock Enteric Fermentation (biogenic)\", \"Quantity (Mt CO2e)\": 0.0}, {\"Year\": 2050, \"Land use\": \"Winter legumes\", \"Irrigation\": \"irr\", \"Sources\": \"Livestock Manure Management (biogenic)\", \"Quantity (Mt CO2e)\": 0.0}, {\"Year\": 2050, \"Land use\": \"Winter legumes\", \"Irrigation\": \"irr\", \"Sources\": \"Pasture Seed production\", \"Quantity (Mt CO2e)\": 0.0}, {\"Year\": 2050, \"Land use\": \"Winter legumes\", \"Irrigation\": \"irr\", \"Sources\": \"Pesticide production\", \"Quantity (Mt CO2e)\": 0.0}, {\"Year\": 2050, \"Land use\": \"Winter legumes\", \"Irrigation\": \"irr\", \"Sources\": \"Sowing\", \"Quantity (Mt CO2e)\": 0.0}, {\"Year\": 2050, \"Land use\": \"Winter oilseeds\", \"Irrigation\": \"dry\", \"Sources\": \"Agricultural soils: Animal production, dung and urine\", \"Quantity (Mt CO2e)\": 0.0}, {\"Year\": 2050, \"Land use\": \"Winter oilseeds\", \"Irrigation\": \"dry\", \"Sources\": \"Agricultural soils: Direct Soil Emissions (biogenic)\", \"Quantity (Mt CO2e)\": 0.04168280986118317}, {\"Year\": 2050, \"Land use\": \"Winter oilseeds\", \"Irrigation\": \"dry\", \"Sources\": \"Agricultural soils: Indirect leaching and runoff\", \"Quantity (Mt CO2e)\": 0.0}, {\"Year\": 2050, \"Land use\": \"Winter oilseeds\", \"Irrigation\": \"dry\", \"Sources\": \"Chemical Application\", \"Quantity (Mt CO2e)\": 0.07047400266265869}, {\"Year\": 2050, \"Land use\": \"Winter oilseeds\", \"Irrigation\": \"dry\", \"Sources\": \"Crop Management\", \"Quantity (Mt CO2e)\": 0.0}, {\"Year\": 2050, \"Land use\": \"Winter oilseeds\", \"Irrigation\": \"dry\", \"Sources\": \"Cultivation\", \"Quantity (Mt CO2e)\": 0.09862509935760498}, {\"Year\": 2050, \"Land use\": \"Winter oilseeds\", \"Irrigation\": \"dry\", \"Sources\": \"Electricity Use livestock\", \"Quantity (Mt CO2e)\": 0.0}, {\"Year\": 2050, \"Land use\": \"Winter oilseeds\", \"Irrigation\": \"dry\", \"Sources\": \"Fertiliser production\", \"Quantity (Mt CO2e)\": 0.3989532613983154}, {\"Year\": 2050, \"Land use\": \"Winter oilseeds\", \"Irrigation\": \"dry\", \"Sources\": \"Fodder production\", \"Quantity (Mt CO2e)\": 0.0}, {\"Year\": 2050, \"Land use\": \"Winter oilseeds\", \"Irrigation\": \"dry\", \"Sources\": \"Fuel Use livestock\", \"Quantity (Mt CO2e)\": 0.0}, {\"Year\": 2050, \"Land use\": \"Winter oilseeds\", \"Irrigation\": \"dry\", \"Sources\": \"Harvesting\", \"Quantity (Mt CO2e)\": 0.028434834812164307}, {\"Year\": 2050, \"Land use\": \"Winter oilseeds\", \"Irrigation\": \"dry\", \"Sources\": \"Irrigation\", \"Quantity (Mt CO2e)\": 0.0}, {\"Year\": 2050, \"Land use\": \"Winter oilseeds\", \"Irrigation\": \"dry\", \"Sources\": \"Livestock Enteric Fermentation (biogenic)\", \"Quantity (Mt CO2e)\": 0.0}, {\"Year\": 2050, \"Land use\": \"Winter oilseeds\", \"Irrigation\": \"dry\", \"Sources\": \"Livestock Manure Management (biogenic)\", \"Quantity (Mt CO2e)\": 0.0}, {\"Year\": 2050, \"Land use\": \"Winter oilseeds\", \"Irrigation\": \"dry\", \"Sources\": \"Pasture Seed production\", \"Quantity (Mt CO2e)\": 0.0}, {\"Year\": 2050, \"Land use\": \"Winter oilseeds\", \"Irrigation\": \"dry\", \"Sources\": \"Pesticide production\", \"Quantity (Mt CO2e)\": 0.10830241062927246}, {\"Year\": 2050, \"Land use\": \"Winter oilseeds\", \"Irrigation\": \"dry\", \"Sources\": \"Sowing\", \"Quantity (Mt CO2e)\": 0.03889253277206421}, {\"Year\": 2050, \"Land use\": \"Winter oilseeds\", \"Irrigation\": \"irr\", \"Sources\": \"Agricultural soils: Animal production, dung and urine\", \"Quantity (Mt CO2e)\": 0.0}, {\"Year\": 2050, \"Land use\": \"Winter oilseeds\", \"Irrigation\": \"irr\", \"Sources\": \"Agricultural soils: Direct Soil Emissions (biogenic)\", \"Quantity (Mt CO2e)\": 0.0012746519775390624}, {\"Year\": 2050, \"Land use\": \"Winter oilseeds\", \"Irrigation\": \"irr\", \"Sources\": \"Agricultural soils: Indirect leaching and runoff\", \"Quantity (Mt CO2e)\": 0.0}, {\"Year\": 2050, \"Land use\": \"Winter oilseeds\", \"Irrigation\": \"irr\", \"Sources\": \"Chemical Application\", \"Quantity (Mt CO2e)\": 0.00010428045654296876}, {\"Year\": 2050, \"Land use\": \"Winter oilseeds\", \"Irrigation\": \"irr\", \"Sources\": \"Crop Management\", \"Quantity (Mt CO2e)\": 0.0}, {\"Year\": 2050, \"Land use\": \"Winter oilseeds\", \"Irrigation\": \"irr\", \"Sources\": \"Cultivation\", \"Quantity (Mt CO2e)\": 8.962631225585938e-05}, {\"Year\": 2050, \"Land use\": \"Winter oilseeds\", \"Irrigation\": \"irr\", \"Sources\": \"Electricity Use livestock\", \"Quantity (Mt CO2e)\": 0.0}, {\"Year\": 2050, \"Land use\": \"Winter oilseeds\", \"Irrigation\": \"irr\", \"Sources\": \"Fertiliser production\", \"Quantity (Mt CO2e)\": 0.00235570068359375}, {\"Year\": 2050, \"Land use\": \"Winter oilseeds\", \"Irrigation\": \"irr\", \"Sources\": \"Fodder production\", \"Quantity (Mt CO2e)\": 0.0}, {\"Year\": 2050, \"Land use\": \"Winter oilseeds\", \"Irrigation\": \"irr\", \"Sources\": \"Fuel Use livestock\", \"Quantity (Mt CO2e)\": 0.0}, {\"Year\": 2050, \"Land use\": \"Winter oilseeds\", \"Irrigation\": \"irr\", \"Sources\": \"Harvesting\", \"Quantity (Mt CO2e)\": 4.87723274230957e-05}, {\"Year\": 2050, \"Land use\": \"Winter oilseeds\", \"Irrigation\": \"irr\", \"Sources\": \"Irrigation\", \"Quantity (Mt CO2e)\": 0.0002063052673339844}, {\"Year\": 2050, \"Land use\": \"Winter oilseeds\", \"Irrigation\": \"irr\", \"Sources\": \"Livestock Enteric Fermentation (biogenic)\", \"Quantity (Mt CO2e)\": 0.0}, {\"Year\": 2050, \"Land use\": \"Winter oilseeds\", \"Irrigation\": \"irr\", \"Sources\": \"Livestock Manure Management (biogenic)\", \"Quantity (Mt CO2e)\": 0.0}, {\"Year\": 2050, \"Land use\": \"Winter oilseeds\", \"Irrigation\": \"irr\", \"Sources\": \"Pasture Seed production\", \"Quantity (Mt CO2e)\": 0.0}, {\"Year\": 2050, \"Land use\": \"Winter oilseeds\", \"Irrigation\": \"irr\", \"Sources\": \"Pesticide production\", \"Quantity (Mt CO2e)\": 2.1496124267578126e-05}, {\"Year\": 2050, \"Land use\": \"Winter oilseeds\", \"Irrigation\": \"irr\", \"Sources\": \"Sowing\", \"Quantity (Mt CO2e)\": 4.17593879699707e-05}]}}, {\"mode\": \"vega-lite\"});\n",
       "</script>"
      ],
      "text/plain": [
       "alt.Chart(...)"
      ]
     },
     "execution_count": 13,
     "metadata": {},
     "output_type": "execute_result"
    }
   ],
   "source": [
    "# HIDE CODE\n",
    "# get the df and plot\n",
    "GHG_lu_source_df,GHG_lu_source_plot = ag_lucc_GHG.plot_GHG_lu_source(2050)\n",
    "GHG_lu_source_plot"
   ]
  },
  {
   "cell_type": "code",
   "execution_count": null,
   "metadata": {},
   "outputs": [],
   "source": []
  },
  {
   "cell_type": "markdown",
   "metadata": {},
   "source": [
    "## Non-Agricultural Land-use GHG sequestrations"
   ]
  },
  {
   "cell_type": "code",
   "execution_count": null,
   "metadata": {},
   "outputs": [],
   "source": []
  },
  {
   "cell_type": "markdown",
   "metadata": {},
   "source": [
    "### Data preparation"
   ]
  },
  {
   "cell_type": "code",
   "execution_count": null,
   "metadata": {},
   "outputs": [],
   "source": []
  },
  {
   "cell_type": "code",
   "execution_count": 14,
   "metadata": {
    "tags": [
     "remove-cell"
    ]
   },
   "outputs": [
    {
     "name": "stderr",
     "output_type": "stream",
     "text": [
      "/Users/gigi/Desktop/VIS_LUTO/tools/Plot_GHG.py:229: FutureWarning: The behavior of DataFrame concatenation with empty or all-NA entries is deprecated. In a future version, this will no longer exclude empty or all-NA columns when determining the result dtypes. To retain the old behavior, exclude the relevant entries before the concat operation.\n",
      "  return pd.concat([GHG_CO2,GHG_nonCO2],axis=0).reset_index(drop=True)\n"
     ]
    }
   ],
   "source": [
    "# HIDDEN\n",
    "# Initialize the class\n",
    "non_ag_lucc_GHG = get_GHG_plots(GHG_files,'Non-Agricultural Landuse','GHG sequestration (Mt CO2e)')"
   ]
  },
  {
   "cell_type": "code",
   "execution_count": 15,
   "metadata": {},
   "outputs": [
    {
     "data": {
      "text/html": [
       "<div>\n",
       "<style scoped>\n",
       "    .dataframe tbody tr th:only-of-type {\n",
       "        vertical-align: middle;\n",
       "    }\n",
       "\n",
       "    .dataframe tbody tr th {\n",
       "        vertical-align: top;\n",
       "    }\n",
       "\n",
       "    .dataframe thead th {\n",
       "        text-align: right;\n",
       "    }\n",
       "</style>\n",
       "<table border=\"1\" class=\"dataframe\">\n",
       "  <thead>\n",
       "    <tr style=\"text-align: right;\">\n",
       "      <th></th>\n",
       "      <th>Year</th>\n",
       "      <th>Land use</th>\n",
       "      <th>Land category</th>\n",
       "      <th>Land use category</th>\n",
       "      <th>Irrigation</th>\n",
       "      <th>Sources</th>\n",
       "      <th>Quantity (Mt CO2e)</th>\n",
       "      <th>GHG Category</th>\n",
       "    </tr>\n",
       "  </thead>\n",
       "  <tbody>\n",
       "    <tr>\n",
       "      <th>0</th>\n",
       "      <td>2011</td>\n",
       "      <td>Environmental Plantings</td>\n",
       "      <td>Non-Agricultural Landuse</td>\n",
       "      <td>Non-Agricultural Landuse</td>\n",
       "      <td>dry</td>\n",
       "      <td>TCO2E_Environmental Planting</td>\n",
       "      <td>-8.113680</td>\n",
       "      <td>CO2</td>\n",
       "    </tr>\n",
       "    <tr>\n",
       "      <th>1</th>\n",
       "      <td>2012</td>\n",
       "      <td>Environmental Plantings</td>\n",
       "      <td>Non-Agricultural Landuse</td>\n",
       "      <td>Non-Agricultural Landuse</td>\n",
       "      <td>dry</td>\n",
       "      <td>TCO2E_Environmental Planting</td>\n",
       "      <td>-17.694736</td>\n",
       "      <td>CO2</td>\n",
       "    </tr>\n",
       "    <tr>\n",
       "      <th>2</th>\n",
       "      <td>2013</td>\n",
       "      <td>Environmental Plantings</td>\n",
       "      <td>Non-Agricultural Landuse</td>\n",
       "      <td>Non-Agricultural Landuse</td>\n",
       "      <td>dry</td>\n",
       "      <td>TCO2E_Environmental Planting</td>\n",
       "      <td>-27.362048</td>\n",
       "      <td>CO2</td>\n",
       "    </tr>\n",
       "    <tr>\n",
       "      <th>3</th>\n",
       "      <td>2014</td>\n",
       "      <td>Environmental Plantings</td>\n",
       "      <td>Non-Agricultural Landuse</td>\n",
       "      <td>Non-Agricultural Landuse</td>\n",
       "      <td>dry</td>\n",
       "      <td>TCO2E_Environmental Planting</td>\n",
       "      <td>-37.123370</td>\n",
       "      <td>CO2</td>\n",
       "    </tr>\n",
       "    <tr>\n",
       "      <th>4</th>\n",
       "      <td>2015</td>\n",
       "      <td>Environmental Plantings</td>\n",
       "      <td>Non-Agricultural Landuse</td>\n",
       "      <td>Non-Agricultural Landuse</td>\n",
       "      <td>dry</td>\n",
       "      <td>TCO2E_Environmental Planting</td>\n",
       "      <td>-46.952744</td>\n",
       "      <td>CO2</td>\n",
       "    </tr>\n",
       "    <tr>\n",
       "      <th>...</th>\n",
       "      <td>...</td>\n",
       "      <td>...</td>\n",
       "      <td>...</td>\n",
       "      <td>...</td>\n",
       "      <td>...</td>\n",
       "      <td>...</td>\n",
       "      <td>...</td>\n",
       "      <td>...</td>\n",
       "    </tr>\n",
       "    <tr>\n",
       "      <th>75</th>\n",
       "      <td>2046</td>\n",
       "      <td>Environmental Plantings</td>\n",
       "      <td>Non-Agricultural Landuse</td>\n",
       "      <td>Non-Agricultural Landuse</td>\n",
       "      <td>irr</td>\n",
       "      <td>TCO2E_Environmental Planting</td>\n",
       "      <td>-7.520842</td>\n",
       "      <td>CO2</td>\n",
       "    </tr>\n",
       "    <tr>\n",
       "      <th>76</th>\n",
       "      <td>2047</td>\n",
       "      <td>Environmental Plantings</td>\n",
       "      <td>Non-Agricultural Landuse</td>\n",
       "      <td>Non-Agricultural Landuse</td>\n",
       "      <td>irr</td>\n",
       "      <td>TCO2E_Environmental Planting</td>\n",
       "      <td>-7.736231</td>\n",
       "      <td>CO2</td>\n",
       "    </tr>\n",
       "    <tr>\n",
       "      <th>77</th>\n",
       "      <td>2048</td>\n",
       "      <td>Environmental Plantings</td>\n",
       "      <td>Non-Agricultural Landuse</td>\n",
       "      <td>Non-Agricultural Landuse</td>\n",
       "      <td>irr</td>\n",
       "      <td>TCO2E_Environmental Planting</td>\n",
       "      <td>-8.345396</td>\n",
       "      <td>CO2</td>\n",
       "    </tr>\n",
       "    <tr>\n",
       "      <th>78</th>\n",
       "      <td>2049</td>\n",
       "      <td>Environmental Plantings</td>\n",
       "      <td>Non-Agricultural Landuse</td>\n",
       "      <td>Non-Agricultural Landuse</td>\n",
       "      <td>irr</td>\n",
       "      <td>TCO2E_Environmental Planting</td>\n",
       "      <td>-9.078595</td>\n",
       "      <td>CO2</td>\n",
       "    </tr>\n",
       "    <tr>\n",
       "      <th>79</th>\n",
       "      <td>2050</td>\n",
       "      <td>Environmental Plantings</td>\n",
       "      <td>Non-Agricultural Landuse</td>\n",
       "      <td>Non-Agricultural Landuse</td>\n",
       "      <td>irr</td>\n",
       "      <td>TCO2E_Environmental Planting</td>\n",
       "      <td>-9.625942</td>\n",
       "      <td>CO2</td>\n",
       "    </tr>\n",
       "  </tbody>\n",
       "</table>\n",
       "<p>80 rows × 8 columns</p>\n",
       "</div>"
      ],
      "text/plain": [
       "    Year                 Land use             Land category  \\\n",
       "0   2011  Environmental Plantings  Non-Agricultural Landuse   \n",
       "1   2012  Environmental Plantings  Non-Agricultural Landuse   \n",
       "2   2013  Environmental Plantings  Non-Agricultural Landuse   \n",
       "3   2014  Environmental Plantings  Non-Agricultural Landuse   \n",
       "4   2015  Environmental Plantings  Non-Agricultural Landuse   \n",
       "..   ...                      ...                       ...   \n",
       "75  2046  Environmental Plantings  Non-Agricultural Landuse   \n",
       "76  2047  Environmental Plantings  Non-Agricultural Landuse   \n",
       "77  2048  Environmental Plantings  Non-Agricultural Landuse   \n",
       "78  2049  Environmental Plantings  Non-Agricultural Landuse   \n",
       "79  2050  Environmental Plantings  Non-Agricultural Landuse   \n",
       "\n",
       "           Land use category Irrigation                       Sources  \\\n",
       "0   Non-Agricultural Landuse        dry  TCO2E_Environmental Planting   \n",
       "1   Non-Agricultural Landuse        dry  TCO2E_Environmental Planting   \n",
       "2   Non-Agricultural Landuse        dry  TCO2E_Environmental Planting   \n",
       "3   Non-Agricultural Landuse        dry  TCO2E_Environmental Planting   \n",
       "4   Non-Agricultural Landuse        dry  TCO2E_Environmental Planting   \n",
       "..                       ...        ...                           ...   \n",
       "75  Non-Agricultural Landuse        irr  TCO2E_Environmental Planting   \n",
       "76  Non-Agricultural Landuse        irr  TCO2E_Environmental Planting   \n",
       "77  Non-Agricultural Landuse        irr  TCO2E_Environmental Planting   \n",
       "78  Non-Agricultural Landuse        irr  TCO2E_Environmental Planting   \n",
       "79  Non-Agricultural Landuse        irr  TCO2E_Environmental Planting   \n",
       "\n",
       "    Quantity (Mt CO2e) GHG Category  \n",
       "0            -8.113680          CO2  \n",
       "1           -17.694736          CO2  \n",
       "2           -27.362048          CO2  \n",
       "3           -37.123370          CO2  \n",
       "4           -46.952744          CO2  \n",
       "..                 ...          ...  \n",
       "75           -7.520842          CO2  \n",
       "76           -7.736231          CO2  \n",
       "77           -8.345396          CO2  \n",
       "78           -9.078595          CO2  \n",
       "79           -9.625942          CO2  \n",
       "\n",
       "[80 rows x 8 columns]"
      ]
     },
     "execution_count": 15,
     "metadata": {},
     "output_type": "execute_result"
    }
   ],
   "source": [
    "non_ag_lucc_GHG.GHG_df_long"
   ]
  },
  {
   "cell_type": "code",
   "execution_count": null,
   "metadata": {},
   "outputs": [],
   "source": []
  },
  {
   "cell_type": "markdown",
   "metadata": {},
   "source": [
    "### Sequestrations in total"
   ]
  },
  {
   "cell_type": "code",
   "execution_count": 28,
   "metadata": {
    "tags": [
     "hide-input"
    ]
   },
   "outputs": [
    {
     "data": {
      "text/html": [
       "\n",
       "<style>\n",
       "  #altair-viz-784a0d9c14884f3b90a82a676edf0ed5.vega-embed {\n",
       "    width: 100%;\n",
       "    display: flex;\n",
       "  }\n",
       "\n",
       "  #altair-viz-784a0d9c14884f3b90a82a676edf0ed5.vega-embed details,\n",
       "  #altair-viz-784a0d9c14884f3b90a82a676edf0ed5.vega-embed details summary {\n",
       "    position: relative;\n",
       "  }\n",
       "</style>\n",
       "<div id=\"altair-viz-784a0d9c14884f3b90a82a676edf0ed5\"></div>\n",
       "<script type=\"text/javascript\">\n",
       "  var VEGA_DEBUG = (typeof VEGA_DEBUG == \"undefined\") ? {} : VEGA_DEBUG;\n",
       "  (function(spec, embedOpt){\n",
       "    let outputDiv = document.currentScript.previousElementSibling;\n",
       "    if (outputDiv.id !== \"altair-viz-784a0d9c14884f3b90a82a676edf0ed5\") {\n",
       "      outputDiv = document.getElementById(\"altair-viz-784a0d9c14884f3b90a82a676edf0ed5\");\n",
       "    }\n",
       "    const paths = {\n",
       "      \"vega\": \"https://cdn.jsdelivr.net/npm/vega@5?noext\",\n",
       "      \"vega-lib\": \"https://cdn.jsdelivr.net/npm/vega-lib?noext\",\n",
       "      \"vega-lite\": \"https://cdn.jsdelivr.net/npm/vega-lite@5.15.1?noext\",\n",
       "      \"vega-embed\": \"https://cdn.jsdelivr.net/npm/vega-embed@6?noext\",\n",
       "    };\n",
       "\n",
       "    function maybeLoadScript(lib, version) {\n",
       "      var key = `${lib.replace(\"-\", \"\")}_version`;\n",
       "      return (VEGA_DEBUG[key] == version) ?\n",
       "        Promise.resolve(paths[lib]) :\n",
       "        new Promise(function(resolve, reject) {\n",
       "          var s = document.createElement('script');\n",
       "          document.getElementsByTagName(\"head\")[0].appendChild(s);\n",
       "          s.async = true;\n",
       "          s.onload = () => {\n",
       "            VEGA_DEBUG[key] = version;\n",
       "            return resolve(paths[lib]);\n",
       "          };\n",
       "          s.onerror = () => reject(`Error loading script: ${paths[lib]}`);\n",
       "          s.src = paths[lib];\n",
       "        });\n",
       "    }\n",
       "\n",
       "    function showError(err) {\n",
       "      outputDiv.innerHTML = `<div class=\"error\" style=\"color:red;\">${err}</div>`;\n",
       "      throw err;\n",
       "    }\n",
       "\n",
       "    function displayChart(vegaEmbed) {\n",
       "      vegaEmbed(outputDiv, spec, embedOpt)\n",
       "        .catch(err => showError(`Javascript Error: ${err.message}<br>This usually means there's a typo in your chart specification. See the javascript console for the full traceback.`));\n",
       "    }\n",
       "\n",
       "    if(typeof define === \"function\" && define.amd) {\n",
       "      requirejs.config({paths});\n",
       "      require([\"vega-embed\"], displayChart, err => showError(`Error loading script: ${err.message}`));\n",
       "    } else {\n",
       "      maybeLoadScript(\"vega\", \"5\")\n",
       "        .then(() => maybeLoadScript(\"vega-lite\", \"5.15.1\"))\n",
       "        .then(() => maybeLoadScript(\"vega-embed\", \"6\"))\n",
       "        .catch(showError)\n",
       "        .then(() => displayChart(vegaEmbed));\n",
       "    }\n",
       "  })({\"config\": {\"view\": {\"continuousWidth\": 300, \"continuousHeight\": 300}}, \"layer\": [{\"mark\": {\"type\": \"bar\"}, \"encoding\": {\"color\": {\"field\": \"Landuse_land_cat\", \"legend\": {\"direction\": \"horizontal\", \"legendX\": 138.0, \"legendY\": -30, \"orient\": \"none\", \"title\": \"Landuse type\", \"titleAnchor\": \"middle\"}, \"type\": \"nominal\"}, \"tooltip\": [{\"field\": \"Landuse_land_cat\", \"title\": \"Landuse type\", \"type\": \"ordinal\"}, {\"field\": \"Quantity (Mt CO2e)\", \"title\": \"GHG sequestration (Mt CO2e)\", \"type\": \"quantitative\"}], \"x\": {\"axis\": {\"labelAngle\": -90, \"title\": \"Year\"}, \"field\": \"Year\", \"type\": \"ordinal\"}, \"y\": {\"field\": \"Quantity (Mt CO2e)\", \"scale\": {\"reverse\": true, \"zero\": false}, \"title\": \"GHG sequestration (Mt CO2e)\", \"type\": \"quantitative\"}}}], \"data\": {\"name\": \"data-d576fa4d99aa0a0aa38f6c7d855e9df3\"}, \"height\": 450, \"width\": 600, \"$schema\": \"https://vega.github.io/schema/vega-lite/v5.15.1.json\", \"datasets\": {\"data-d576fa4d99aa0a0aa38f6c7d855e9df3\": [{\"Year\": 2011, \"Land use category\": \"Non-Agricultural Landuse\", \"Land category\": \"Non-Agricultural Landuse\", \"Quantity (Mt CO2e)\": -8.27342202, \"Landuse_land_cat\": \"Non-Agricultural Landuse\"}, {\"Year\": 2012, \"Land use category\": \"Non-Agricultural Landuse\", \"Land category\": \"Non-Agricultural Landuse\", \"Quantity (Mt CO2e)\": -18.02921516, \"Landuse_land_cat\": \"Non-Agricultural Landuse\"}, {\"Year\": 2013, \"Land use category\": \"Non-Agricultural Landuse\", \"Land category\": \"Non-Agricultural Landuse\", \"Quantity (Mt CO2e)\": -27.82520788, \"Landuse_land_cat\": \"Non-Agricultural Landuse\"}, {\"Year\": 2014, \"Land use category\": \"Non-Agricultural Landuse\", \"Land category\": \"Non-Agricultural Landuse\", \"Quantity (Mt CO2e)\": -37.679173750000004, \"Landuse_land_cat\": \"Non-Agricultural Landuse\"}, {\"Year\": 2015, \"Land use category\": \"Non-Agricultural Landuse\", \"Land category\": \"Non-Agricultural Landuse\", \"Quantity (Mt CO2e)\": -47.690072300000004, \"Landuse_land_cat\": \"Non-Agricultural Landuse\"}, {\"Year\": 2016, \"Land use category\": \"Non-Agricultural Landuse\", \"Land category\": \"Non-Agricultural Landuse\", \"Quantity (Mt CO2e)\": -57.8080066, \"Landuse_land_cat\": \"Non-Agricultural Landuse\"}, {\"Year\": 2017, \"Land use category\": \"Non-Agricultural Landuse\", \"Land category\": \"Non-Agricultural Landuse\", \"Quantity (Mt CO2e)\": -68.08855444, \"Landuse_land_cat\": \"Non-Agricultural Landuse\"}, {\"Year\": 2018, \"Land use category\": \"Non-Agricultural Landuse\", \"Land category\": \"Non-Agricultural Landuse\", \"Quantity (Mt CO2e)\": -78.3506726, \"Landuse_land_cat\": \"Non-Agricultural Landuse\"}, {\"Year\": 2019, \"Land use category\": \"Non-Agricultural Landuse\", \"Land category\": \"Non-Agricultural Landuse\", \"Quantity (Mt CO2e)\": -88.5983874, \"Landuse_land_cat\": \"Non-Agricultural Landuse\"}, {\"Year\": 2020, \"Land use category\": \"Non-Agricultural Landuse\", \"Land category\": \"Non-Agricultural Landuse\", \"Quantity (Mt CO2e)\": -99.024714, \"Landuse_land_cat\": \"Non-Agricultural Landuse\"}, {\"Year\": 2021, \"Land use category\": \"Non-Agricultural Landuse\", \"Land category\": \"Non-Agricultural Landuse\", \"Quantity (Mt CO2e)\": -109.3749812, \"Landuse_land_cat\": \"Non-Agricultural Landuse\"}, {\"Year\": 2022, \"Land use category\": \"Non-Agricultural Landuse\", \"Land category\": \"Non-Agricultural Landuse\", \"Quantity (Mt CO2e)\": -119.856911, \"Landuse_land_cat\": \"Non-Agricultural Landuse\"}, {\"Year\": 2023, \"Land use category\": \"Non-Agricultural Landuse\", \"Land category\": \"Non-Agricultural Landuse\", \"Quantity (Mt CO2e)\": -130.3329688, \"Landuse_land_cat\": \"Non-Agricultural Landuse\"}, {\"Year\": 2024, \"Land use category\": \"Non-Agricultural Landuse\", \"Land category\": \"Non-Agricultural Landuse\", \"Quantity (Mt CO2e)\": -140.3210292, \"Landuse_land_cat\": \"Non-Agricultural Landuse\"}, {\"Year\": 2025, \"Land use category\": \"Non-Agricultural Landuse\", \"Land category\": \"Non-Agricultural Landuse\", \"Quantity (Mt CO2e)\": -150.0397532, \"Landuse_land_cat\": \"Non-Agricultural Landuse\"}, {\"Year\": 2026, \"Land use category\": \"Non-Agricultural Landuse\", \"Land category\": \"Non-Agricultural Landuse\", \"Quantity (Mt CO2e)\": -158.24848319999998, \"Landuse_land_cat\": \"Non-Agricultural Landuse\"}, {\"Year\": 2027, \"Land use category\": \"Non-Agricultural Landuse\", \"Land category\": \"Non-Agricultural Landuse\", \"Quantity (Mt CO2e)\": -167.189164, \"Landuse_land_cat\": \"Non-Agricultural Landuse\"}, {\"Year\": 2028, \"Land use category\": \"Non-Agricultural Landuse\", \"Land category\": \"Non-Agricultural Landuse\", \"Quantity (Mt CO2e)\": -175.28426950000002, \"Landuse_land_cat\": \"Non-Agricultural Landuse\"}, {\"Year\": 2029, \"Land use category\": \"Non-Agricultural Landuse\", \"Land category\": \"Non-Agricultural Landuse\", \"Quantity (Mt CO2e)\": -184.7607908, \"Landuse_land_cat\": \"Non-Agricultural Landuse\"}, {\"Year\": 2030, \"Land use category\": \"Non-Agricultural Landuse\", \"Land category\": \"Non-Agricultural Landuse\", \"Quantity (Mt CO2e)\": -193.89838650000002, \"Landuse_land_cat\": \"Non-Agricultural Landuse\"}, {\"Year\": 2031, \"Land use category\": \"Non-Agricultural Landuse\", \"Land category\": \"Non-Agricultural Landuse\", \"Quantity (Mt CO2e)\": -201.5772635, \"Landuse_land_cat\": \"Non-Agricultural Landuse\"}, {\"Year\": 2032, \"Land use category\": \"Non-Agricultural Landuse\", \"Land category\": \"Non-Agricultural Landuse\", \"Quantity (Mt CO2e)\": -211.437883, \"Landuse_land_cat\": \"Non-Agricultural Landuse\"}, {\"Year\": 2033, \"Land use category\": \"Non-Agricultural Landuse\", \"Land category\": \"Non-Agricultural Landuse\", \"Quantity (Mt CO2e)\": -221.4113105, \"Landuse_land_cat\": \"Non-Agricultural Landuse\"}, {\"Year\": 2034, \"Land use category\": \"Non-Agricultural Landuse\", \"Land category\": \"Non-Agricultural Landuse\", \"Quantity (Mt CO2e)\": -231.4743065, \"Landuse_land_cat\": \"Non-Agricultural Landuse\"}, {\"Year\": 2035, \"Land use category\": \"Non-Agricultural Landuse\", \"Land category\": \"Non-Agricultural Landuse\", \"Quantity (Mt CO2e)\": -241.74676599999998, \"Landuse_land_cat\": \"Non-Agricultural Landuse\"}, {\"Year\": 2036, \"Land use category\": \"Non-Agricultural Landuse\", \"Land category\": \"Non-Agricultural Landuse\", \"Quantity (Mt CO2e)\": -252.1187815, \"Landuse_land_cat\": \"Non-Agricultural Landuse\"}, {\"Year\": 2037, \"Land use category\": \"Non-Agricultural Landuse\", \"Land category\": \"Non-Agricultural Landuse\", \"Quantity (Mt CO2e)\": -262.2380175, \"Landuse_land_cat\": \"Non-Agricultural Landuse\"}, {\"Year\": 2038, \"Land use category\": \"Non-Agricultural Landuse\", \"Land category\": \"Non-Agricultural Landuse\", \"Quantity (Mt CO2e)\": -272.5249425, \"Landuse_land_cat\": \"Non-Agricultural Landuse\"}, {\"Year\": 2039, \"Land use category\": \"Non-Agricultural Landuse\", \"Land category\": \"Non-Agricultural Landuse\", \"Quantity (Mt CO2e)\": -282.5271205, \"Landuse_land_cat\": \"Non-Agricultural Landuse\"}, {\"Year\": 2040, \"Land use category\": \"Non-Agricultural Landuse\", \"Land category\": \"Non-Agricultural Landuse\", \"Quantity (Mt CO2e)\": -292.138354, \"Landuse_land_cat\": \"Non-Agricultural Landuse\"}, {\"Year\": 2041, \"Land use category\": \"Non-Agricultural Landuse\", \"Land category\": \"Non-Agricultural Landuse\", \"Quantity (Mt CO2e)\": -301.695099, \"Landuse_land_cat\": \"Non-Agricultural Landuse\"}, {\"Year\": 2042, \"Land use category\": \"Non-Agricultural Landuse\", \"Land category\": \"Non-Agricultural Landuse\", \"Quantity (Mt CO2e)\": -311.0847885, \"Landuse_land_cat\": \"Non-Agricultural Landuse\"}, {\"Year\": 2043, \"Land use category\": \"Non-Agricultural Landuse\", \"Land category\": \"Non-Agricultural Landuse\", \"Quantity (Mt CO2e)\": -320.3719965, \"Landuse_land_cat\": \"Non-Agricultural Landuse\"}, {\"Year\": 2044, \"Land use category\": \"Non-Agricultural Landuse\", \"Land category\": \"Non-Agricultural Landuse\", \"Quantity (Mt CO2e)\": -330.20714350000003, \"Landuse_land_cat\": \"Non-Agricultural Landuse\"}, {\"Year\": 2045, \"Land use category\": \"Non-Agricultural Landuse\", \"Land category\": \"Non-Agricultural Landuse\", \"Quantity (Mt CO2e)\": -340.20431249999996, \"Landuse_land_cat\": \"Non-Agricultural Landuse\"}, {\"Year\": 2046, \"Land use category\": \"Non-Agricultural Landuse\", \"Land category\": \"Non-Agricultural Landuse\", \"Quantity (Mt CO2e)\": -345.362182, \"Landuse_land_cat\": \"Non-Agricultural Landuse\"}, {\"Year\": 2047, \"Land use category\": \"Non-Agricultural Landuse\", \"Land category\": \"Non-Agricultural Landuse\", \"Quantity (Mt CO2e)\": -349.998501, \"Landuse_land_cat\": \"Non-Agricultural Landuse\"}, {\"Year\": 2048, \"Land use category\": \"Non-Agricultural Landuse\", \"Land category\": \"Non-Agricultural Landuse\", \"Quantity (Mt CO2e)\": -359.2646965, \"Landuse_land_cat\": \"Non-Agricultural Landuse\"}, {\"Year\": 2049, \"Land use category\": \"Non-Agricultural Landuse\", \"Land category\": \"Non-Agricultural Landuse\", \"Quantity (Mt CO2e)\": -369.401635, \"Landuse_land_cat\": \"Non-Agricultural Landuse\"}, {\"Year\": 2050, \"Land use category\": \"Non-Agricultural Landuse\", \"Land category\": \"Non-Agricultural Landuse\", \"Quantity (Mt CO2e)\": -379.969742, \"Landuse_land_cat\": \"Non-Agricultural Landuse\"}]}}, {\"mode\": \"vega-lite\"});\n",
       "</script>"
      ],
      "text/plain": [
       "alt.LayerChart(...)"
      ]
     },
     "execution_count": 28,
     "metadata": {},
     "output_type": "execute_result"
    }
   ],
   "source": [
    "# HIDE CODE\n",
    "# get the df and plot\n",
    "GHG_non_ag_crop_lvstk_df,GHG_non_ag_crop_lvstk_plot = non_ag_lucc_GHG.plot_GHG_crop_lvstk()\n",
    "GHG_non_ag_crop_lvstk_plot"
   ]
  },
  {
   "cell_type": "code",
   "execution_count": null,
   "metadata": {},
   "outputs": [],
   "source": []
  },
  {
   "cell_type": "markdown",
   "metadata": {},
   "source": [
    "### Sequestrations by irrigation system"
   ]
  },
  {
   "cell_type": "code",
   "execution_count": 17,
   "metadata": {
    "tags": [
     "hide-input"
    ]
   },
   "outputs": [],
   "source": [
    "# # HIDE CODE\n",
    "# # get the df and plot\n",
    "# GHG_non_ag_dry_irr_df,GHG_non_ag_dry_irr_plot = non_ag_lucc_GHG.plot_GHG_dry_irr()\n",
    "# GHG_non_ag_dry_irr_plot"
   ]
  },
  {
   "cell_type": "code",
   "execution_count": null,
   "metadata": {},
   "outputs": [],
   "source": []
  },
  {
   "cell_type": "code",
   "execution_count": null,
   "metadata": {},
   "outputs": [],
   "source": []
  },
  {
   "cell_type": "markdown",
   "metadata": {},
   "source": [
    "## Agricultural Management GHG sequestrations"
   ]
  },
  {
   "cell_type": "code",
   "execution_count": null,
   "metadata": {},
   "outputs": [],
   "source": []
  },
  {
   "cell_type": "markdown",
   "metadata": {},
   "source": [
    "### Data preparation"
   ]
  },
  {
   "cell_type": "code",
   "execution_count": 18,
   "metadata": {
    "tags": [
     "remove-cell"
    ]
   },
   "outputs": [],
   "source": [
    "# HIDDEN\n",
    "# Initialize the class\n",
    "ag_man_GHG = get_GHG_plots(GHG_files,'Agricultural Management','GHG sequestration (Mt CO2e)')"
   ]
  },
  {
   "cell_type": "code",
   "execution_count": 19,
   "metadata": {},
   "outputs": [
    {
     "data": {
      "text/html": [
       "<div>\n",
       "<style scoped>\n",
       "    .dataframe tbody tr th:only-of-type {\n",
       "        vertical-align: middle;\n",
       "    }\n",
       "\n",
       "    .dataframe tbody tr th {\n",
       "        vertical-align: top;\n",
       "    }\n",
       "\n",
       "    .dataframe thead th {\n",
       "        text-align: right;\n",
       "    }\n",
       "</style>\n",
       "<table border=\"1\" class=\"dataframe\">\n",
       "  <thead>\n",
       "    <tr style=\"text-align: right;\">\n",
       "      <th></th>\n",
       "      <th>Year</th>\n",
       "      <th>Land use</th>\n",
       "      <th>Land category</th>\n",
       "      <th>Land use category</th>\n",
       "      <th>Irrigation</th>\n",
       "      <th>Sources</th>\n",
       "      <th>Quantity (Mt CO2e)</th>\n",
       "      <th>GHG Category</th>\n",
       "    </tr>\n",
       "  </thead>\n",
       "  <tbody>\n",
       "    <tr>\n",
       "      <th>0</th>\n",
       "      <td>2010</td>\n",
       "      <td>Apples</td>\n",
       "      <td>Crop</td>\n",
       "      <td>Crop</td>\n",
       "      <td>dry</td>\n",
       "      <td>Asparagopsis taxiformis</td>\n",
       "      <td>0.0</td>\n",
       "      <td>Asparagopsis taxiformis</td>\n",
       "    </tr>\n",
       "    <tr>\n",
       "      <th>1</th>\n",
       "      <td>2010</td>\n",
       "      <td>Citrus</td>\n",
       "      <td>Crop</td>\n",
       "      <td>Crop</td>\n",
       "      <td>dry</td>\n",
       "      <td>Asparagopsis taxiformis</td>\n",
       "      <td>0.0</td>\n",
       "      <td>Asparagopsis taxiformis</td>\n",
       "    </tr>\n",
       "    <tr>\n",
       "      <th>2</th>\n",
       "      <td>2010</td>\n",
       "      <td>Cotton</td>\n",
       "      <td>Crop</td>\n",
       "      <td>Crop</td>\n",
       "      <td>dry</td>\n",
       "      <td>Asparagopsis taxiformis</td>\n",
       "      <td>0.0</td>\n",
       "      <td>Asparagopsis taxiformis</td>\n",
       "    </tr>\n",
       "    <tr>\n",
       "      <th>3</th>\n",
       "      <td>2010</td>\n",
       "      <td>Grapes</td>\n",
       "      <td>Crop</td>\n",
       "      <td>Crop</td>\n",
       "      <td>dry</td>\n",
       "      <td>Asparagopsis taxiformis</td>\n",
       "      <td>0.0</td>\n",
       "      <td>Asparagopsis taxiformis</td>\n",
       "    </tr>\n",
       "    <tr>\n",
       "      <th>4</th>\n",
       "      <td>2010</td>\n",
       "      <td>Hay</td>\n",
       "      <td>Crop</td>\n",
       "      <td>Crop</td>\n",
       "      <td>dry</td>\n",
       "      <td>Asparagopsis taxiformis</td>\n",
       "      <td>0.0</td>\n",
       "      <td>Asparagopsis taxiformis</td>\n",
       "    </tr>\n",
       "    <tr>\n",
       "      <th>...</th>\n",
       "      <td>...</td>\n",
       "      <td>...</td>\n",
       "      <td>...</td>\n",
       "      <td>...</td>\n",
       "      <td>...</td>\n",
       "      <td>...</td>\n",
       "      <td>...</td>\n",
       "      <td>...</td>\n",
       "    </tr>\n",
       "    <tr>\n",
       "      <th>6361</th>\n",
       "      <td>2050</td>\n",
       "      <td>Beef</td>\n",
       "      <td>natural land</td>\n",
       "      <td>Livestock</td>\n",
       "      <td>irr</td>\n",
       "      <td>Ecological Grazing</td>\n",
       "      <td>0.0</td>\n",
       "      <td>Ecological Grazing</td>\n",
       "    </tr>\n",
       "    <tr>\n",
       "      <th>6362</th>\n",
       "      <td>2050</td>\n",
       "      <td>Dairy</td>\n",
       "      <td>modified land</td>\n",
       "      <td>Livestock</td>\n",
       "      <td>irr</td>\n",
       "      <td>Ecological Grazing</td>\n",
       "      <td>0.0</td>\n",
       "      <td>Ecological Grazing</td>\n",
       "    </tr>\n",
       "    <tr>\n",
       "      <th>6363</th>\n",
       "      <td>2050</td>\n",
       "      <td>Dairy</td>\n",
       "      <td>natural land</td>\n",
       "      <td>Livestock</td>\n",
       "      <td>irr</td>\n",
       "      <td>Ecological Grazing</td>\n",
       "      <td>0.0</td>\n",
       "      <td>Ecological Grazing</td>\n",
       "    </tr>\n",
       "    <tr>\n",
       "      <th>6364</th>\n",
       "      <td>2050</td>\n",
       "      <td>Sheep</td>\n",
       "      <td>modified land</td>\n",
       "      <td>Livestock</td>\n",
       "      <td>irr</td>\n",
       "      <td>Ecological Grazing</td>\n",
       "      <td>0.0</td>\n",
       "      <td>Ecological Grazing</td>\n",
       "    </tr>\n",
       "    <tr>\n",
       "      <th>6365</th>\n",
       "      <td>2050</td>\n",
       "      <td>Sheep</td>\n",
       "      <td>natural land</td>\n",
       "      <td>Livestock</td>\n",
       "      <td>irr</td>\n",
       "      <td>Ecological Grazing</td>\n",
       "      <td>0.0</td>\n",
       "      <td>Ecological Grazing</td>\n",
       "    </tr>\n",
       "  </tbody>\n",
       "</table>\n",
       "<p>6366 rows × 8 columns</p>\n",
       "</div>"
      ],
      "text/plain": [
       "      Year Land use  Land category Land use category Irrigation  \\\n",
       "0     2010   Apples           Crop              Crop        dry   \n",
       "1     2010   Citrus           Crop              Crop        dry   \n",
       "2     2010   Cotton           Crop              Crop        dry   \n",
       "3     2010   Grapes           Crop              Crop        dry   \n",
       "4     2010      Hay           Crop              Crop        dry   \n",
       "...    ...      ...            ...               ...        ...   \n",
       "6361  2050     Beef   natural land         Livestock        irr   \n",
       "6362  2050    Dairy  modified land         Livestock        irr   \n",
       "6363  2050    Dairy   natural land         Livestock        irr   \n",
       "6364  2050    Sheep  modified land         Livestock        irr   \n",
       "6365  2050    Sheep   natural land         Livestock        irr   \n",
       "\n",
       "                      Sources Quantity (Mt CO2e)             GHG Category  \n",
       "0     Asparagopsis taxiformis                0.0  Asparagopsis taxiformis  \n",
       "1     Asparagopsis taxiformis                0.0  Asparagopsis taxiformis  \n",
       "2     Asparagopsis taxiformis                0.0  Asparagopsis taxiformis  \n",
       "3     Asparagopsis taxiformis                0.0  Asparagopsis taxiformis  \n",
       "4     Asparagopsis taxiformis                0.0  Asparagopsis taxiformis  \n",
       "...                       ...                ...                      ...  \n",
       "6361       Ecological Grazing                0.0       Ecological Grazing  \n",
       "6362       Ecological Grazing                0.0       Ecological Grazing  \n",
       "6363       Ecological Grazing                0.0       Ecological Grazing  \n",
       "6364       Ecological Grazing                0.0       Ecological Grazing  \n",
       "6365       Ecological Grazing                0.0       Ecological Grazing  \n",
       "\n",
       "[6366 rows x 8 columns]"
      ]
     },
     "execution_count": 19,
     "metadata": {},
     "output_type": "execute_result"
    }
   ],
   "source": [
    "ag_man_GHG.GHG_df_long"
   ]
  },
  {
   "cell_type": "code",
   "execution_count": null,
   "metadata": {},
   "outputs": [],
   "source": []
  },
  {
   "cell_type": "code",
   "execution_count": null,
   "metadata": {},
   "outputs": [],
   "source": []
  },
  {
   "cell_type": "markdown",
   "metadata": {},
   "source": [
    "### Sequestrations by Crops/Livestocks"
   ]
  },
  {
   "cell_type": "code",
   "execution_count": null,
   "metadata": {},
   "outputs": [],
   "source": []
  },
  {
   "cell_type": "code",
   "execution_count": 23,
   "metadata": {
    "tags": [
     "hide-input"
    ]
   },
   "outputs": [
    {
     "data": {
      "text/html": [
       "\n",
       "<style>\n",
       "  #altair-viz-70d47cb118194b08990197ef769d50da.vega-embed {\n",
       "    width: 100%;\n",
       "    display: flex;\n",
       "  }\n",
       "\n",
       "  #altair-viz-70d47cb118194b08990197ef769d50da.vega-embed details,\n",
       "  #altair-viz-70d47cb118194b08990197ef769d50da.vega-embed details summary {\n",
       "    position: relative;\n",
       "  }\n",
       "</style>\n",
       "<div id=\"altair-viz-70d47cb118194b08990197ef769d50da\"></div>\n",
       "<script type=\"text/javascript\">\n",
       "  var VEGA_DEBUG = (typeof VEGA_DEBUG == \"undefined\") ? {} : VEGA_DEBUG;\n",
       "  (function(spec, embedOpt){\n",
       "    let outputDiv = document.currentScript.previousElementSibling;\n",
       "    if (outputDiv.id !== \"altair-viz-70d47cb118194b08990197ef769d50da\") {\n",
       "      outputDiv = document.getElementById(\"altair-viz-70d47cb118194b08990197ef769d50da\");\n",
       "    }\n",
       "    const paths = {\n",
       "      \"vega\": \"https://cdn.jsdelivr.net/npm/vega@5?noext\",\n",
       "      \"vega-lib\": \"https://cdn.jsdelivr.net/npm/vega-lib?noext\",\n",
       "      \"vega-lite\": \"https://cdn.jsdelivr.net/npm/vega-lite@5.15.1?noext\",\n",
       "      \"vega-embed\": \"https://cdn.jsdelivr.net/npm/vega-embed@6?noext\",\n",
       "    };\n",
       "\n",
       "    function maybeLoadScript(lib, version) {\n",
       "      var key = `${lib.replace(\"-\", \"\")}_version`;\n",
       "      return (VEGA_DEBUG[key] == version) ?\n",
       "        Promise.resolve(paths[lib]) :\n",
       "        new Promise(function(resolve, reject) {\n",
       "          var s = document.createElement('script');\n",
       "          document.getElementsByTagName(\"head\")[0].appendChild(s);\n",
       "          s.async = true;\n",
       "          s.onload = () => {\n",
       "            VEGA_DEBUG[key] = version;\n",
       "            return resolve(paths[lib]);\n",
       "          };\n",
       "          s.onerror = () => reject(`Error loading script: ${paths[lib]}`);\n",
       "          s.src = paths[lib];\n",
       "        });\n",
       "    }\n",
       "\n",
       "    function showError(err) {\n",
       "      outputDiv.innerHTML = `<div class=\"error\" style=\"color:red;\">${err}</div>`;\n",
       "      throw err;\n",
       "    }\n",
       "\n",
       "    function displayChart(vegaEmbed) {\n",
       "      vegaEmbed(outputDiv, spec, embedOpt)\n",
       "        .catch(err => showError(`Javascript Error: ${err.message}<br>This usually means there's a typo in your chart specification. See the javascript console for the full traceback.`));\n",
       "    }\n",
       "\n",
       "    if(typeof define === \"function\" && define.amd) {\n",
       "      requirejs.config({paths});\n",
       "      require([\"vega-embed\"], displayChart, err => showError(`Error loading script: ${err.message}`));\n",
       "    } else {\n",
       "      maybeLoadScript(\"vega\", \"5\")\n",
       "        .then(() => maybeLoadScript(\"vega-lite\", \"5.15.1\"))\n",
       "        .then(() => maybeLoadScript(\"vega-embed\", \"6\"))\n",
       "        .catch(showError)\n",
       "        .then(() => displayChart(vegaEmbed));\n",
       "    }\n",
       "  })({\"config\": {\"view\": {\"continuousWidth\": 300, \"continuousHeight\": 300}}, \"layer\": [{\"mark\": {\"type\": \"bar\"}, \"encoding\": {\"color\": {\"field\": \"Landuse_land_cat\", \"legend\": {\"direction\": \"horizontal\", \"legendX\": 138.0, \"legendY\": -30, \"orient\": \"none\", \"title\": \"Landuse type\", \"titleAnchor\": \"middle\"}, \"type\": \"nominal\"}, \"tooltip\": [{\"field\": \"Landuse_land_cat\", \"title\": \"Landuse type\", \"type\": \"ordinal\"}, {\"field\": \"Quantity (Mt CO2e)\", \"title\": \"GHG sequestration (Mt CO2e)\", \"type\": \"quantitative\"}], \"x\": {\"axis\": {\"labelAngle\": -90, \"title\": \"Year\"}, \"field\": \"Year\", \"type\": \"ordinal\"}, \"y\": {\"field\": \"Quantity (Mt CO2e)\", \"scale\": {\"reverse\": true, \"zero\": false}, \"title\": \"GHG sequestration (Mt CO2e)\", \"type\": \"quantitative\"}}}], \"data\": {\"name\": \"data-669671d037d6938498c536252a1ef2b5\"}, \"height\": 450, \"width\": 600, \"$schema\": \"https://vega.github.io/schema/vega-lite/v5.15.1.json\", \"datasets\": {\"data-669671d037d6938498c536252a1ef2b5\": [{\"Year\": 2010, \"Land use category\": \"Crop\", \"Land category\": \"Crop\", \"Quantity (Mt CO2e)\": 0.0, \"Landuse_land_cat\": \"Crop\"}, {\"Year\": 2010, \"Land use category\": \"Livestock\", \"Land category\": \"modified land\", \"Quantity (Mt CO2e)\": 0.0, \"Landuse_land_cat\": \"Livestock - modified land\"}, {\"Year\": 2010, \"Land use category\": \"Livestock\", \"Land category\": \"natural land\", \"Quantity (Mt CO2e)\": 0.0, \"Landuse_land_cat\": \"Livestock - natural land\"}, {\"Year\": 2011, \"Land use category\": \"Crop\", \"Land category\": \"Crop\", \"Quantity (Mt CO2e)\": -0.07347190908399999, \"Landuse_land_cat\": \"Crop\"}, {\"Year\": 2011, \"Land use category\": \"Livestock\", \"Land category\": \"modified land\", \"Quantity (Mt CO2e)\": -1.6636725565, \"Landuse_land_cat\": \"Livestock - modified land\"}, {\"Year\": 2011, \"Land use category\": \"Livestock\", \"Land category\": \"natural land\", \"Quantity (Mt CO2e)\": 0.0, \"Landuse_land_cat\": \"Livestock - natural land\"}, {\"Year\": 2012, \"Land use category\": \"Crop\", \"Land category\": \"Crop\", \"Quantity (Mt CO2e)\": -0.07901897713, \"Landuse_land_cat\": \"Crop\"}, {\"Year\": 2012, \"Land use category\": \"Livestock\", \"Land category\": \"modified land\", \"Quantity (Mt CO2e)\": -2.59989587081, \"Landuse_land_cat\": \"Livestock - modified land\"}, {\"Year\": 2012, \"Land use category\": \"Livestock\", \"Land category\": \"natural land\", \"Quantity (Mt CO2e)\": 0.0, \"Landuse_land_cat\": \"Livestock - natural land\"}, {\"Year\": 2013, \"Land use category\": \"Crop\", \"Land category\": \"Crop\", \"Quantity (Mt CO2e)\": -0.08631632953799999, \"Landuse_land_cat\": \"Crop\"}, {\"Year\": 2013, \"Land use category\": \"Livestock\", \"Land category\": \"modified land\", \"Quantity (Mt CO2e)\": -3.3306749658400006, \"Landuse_land_cat\": \"Livestock - modified land\"}, {\"Year\": 2013, \"Land use category\": \"Livestock\", \"Land category\": \"natural land\", \"Quantity (Mt CO2e)\": 0.0, \"Landuse_land_cat\": \"Livestock - natural land\"}, {\"Year\": 2014, \"Land use category\": \"Crop\", \"Land category\": \"Crop\", \"Quantity (Mt CO2e)\": -0.08721462401, \"Landuse_land_cat\": \"Crop\"}, {\"Year\": 2014, \"Land use category\": \"Livestock\", \"Land category\": \"modified land\", \"Quantity (Mt CO2e)\": -3.99808998363, \"Landuse_land_cat\": \"Livestock - modified land\"}, {\"Year\": 2014, \"Land use category\": \"Livestock\", \"Land category\": \"natural land\", \"Quantity (Mt CO2e)\": 0.0, \"Landuse_land_cat\": \"Livestock - natural land\"}, {\"Year\": 2015, \"Land use category\": \"Crop\", \"Land category\": \"Crop\", \"Quantity (Mt CO2e)\": -0.090560049803, \"Landuse_land_cat\": \"Crop\"}, {\"Year\": 2015, \"Land use category\": \"Livestock\", \"Land category\": \"modified land\", \"Quantity (Mt CO2e)\": -4.5590262839, \"Landuse_land_cat\": \"Livestock - modified land\"}, {\"Year\": 2015, \"Land use category\": \"Livestock\", \"Land category\": \"natural land\", \"Quantity (Mt CO2e)\": 0.0, \"Landuse_land_cat\": \"Livestock - natural land\"}, {\"Year\": 2016, \"Land use category\": \"Crop\", \"Land category\": \"Crop\", \"Quantity (Mt CO2e)\": -0.09183205026699999, \"Landuse_land_cat\": \"Crop\"}, {\"Year\": 2016, \"Land use category\": \"Livestock\", \"Land category\": \"modified land\", \"Quantity (Mt CO2e)\": -4.9636613369300004, \"Landuse_land_cat\": \"Livestock - modified land\"}, {\"Year\": 2016, \"Land use category\": \"Livestock\", \"Land category\": \"natural land\", \"Quantity (Mt CO2e)\": 0.0, \"Landuse_land_cat\": \"Livestock - natural land\"}, {\"Year\": 2017, \"Land use category\": \"Crop\", \"Land category\": \"Crop\", \"Quantity (Mt CO2e)\": -0.10608471315399999, \"Landuse_land_cat\": \"Crop\"}, {\"Year\": 2017, \"Land use category\": \"Livestock\", \"Land category\": \"modified land\", \"Quantity (Mt CO2e)\": -5.107570046530001, \"Landuse_land_cat\": \"Livestock - modified land\"}, {\"Year\": 2017, \"Land use category\": \"Livestock\", \"Land category\": \"natural land\", \"Quantity (Mt CO2e)\": 0.0, \"Landuse_land_cat\": \"Livestock - natural land\"}, {\"Year\": 2018, \"Land use category\": \"Crop\", \"Land category\": \"Crop\", \"Quantity (Mt CO2e)\": -0.114819716427, \"Landuse_land_cat\": \"Crop\"}, {\"Year\": 2018, \"Land use category\": \"Livestock\", \"Land category\": \"modified land\", \"Quantity (Mt CO2e)\": -5.27352774643, \"Landuse_land_cat\": \"Livestock - modified land\"}, {\"Year\": 2018, \"Land use category\": \"Livestock\", \"Land category\": \"natural land\", \"Quantity (Mt CO2e)\": 0.0, \"Landuse_land_cat\": \"Livestock - natural land\"}, {\"Year\": 2019, \"Land use category\": \"Crop\", \"Land category\": \"Crop\", \"Quantity (Mt CO2e)\": -0.13597418082, \"Landuse_land_cat\": \"Crop\"}, {\"Year\": 2019, \"Land use category\": \"Livestock\", \"Land category\": \"modified land\", \"Quantity (Mt CO2e)\": -5.42463888324, \"Landuse_land_cat\": \"Livestock - modified land\"}, {\"Year\": 2019, \"Land use category\": \"Livestock\", \"Land category\": \"natural land\", \"Quantity (Mt CO2e)\": 0.0, \"Landuse_land_cat\": \"Livestock - natural land\"}, {\"Year\": 2020, \"Land use category\": \"Crop\", \"Land category\": \"Crop\", \"Quantity (Mt CO2e)\": -0.139234161326, \"Landuse_land_cat\": \"Crop\"}, {\"Year\": 2020, \"Land use category\": \"Livestock\", \"Land category\": \"modified land\", \"Quantity (Mt CO2e)\": -5.43875660726, \"Landuse_land_cat\": \"Livestock - modified land\"}, {\"Year\": 2020, \"Land use category\": \"Livestock\", \"Land category\": \"natural land\", \"Quantity (Mt CO2e)\": 0.0, \"Landuse_land_cat\": \"Livestock - natural land\"}, {\"Year\": 2021, \"Land use category\": \"Crop\", \"Land category\": \"Crop\", \"Quantity (Mt CO2e)\": -0.15735444937999996, \"Landuse_land_cat\": \"Crop\"}, {\"Year\": 2021, \"Land use category\": \"Livestock\", \"Land category\": \"modified land\", \"Quantity (Mt CO2e)\": -5.20993451922, \"Landuse_land_cat\": \"Livestock - modified land\"}, {\"Year\": 2021, \"Land use category\": \"Livestock\", \"Land category\": \"natural land\", \"Quantity (Mt CO2e)\": 0.0, \"Landuse_land_cat\": \"Livestock - natural land\"}, {\"Year\": 2022, \"Land use category\": \"Crop\", \"Land category\": \"Crop\", \"Quantity (Mt CO2e)\": -0.17808997589999997, \"Landuse_land_cat\": \"Crop\"}, {\"Year\": 2022, \"Land use category\": \"Livestock\", \"Land category\": \"modified land\", \"Quantity (Mt CO2e)\": -4.815416347376, \"Landuse_land_cat\": \"Livestock - modified land\"}, {\"Year\": 2022, \"Land use category\": \"Livestock\", \"Land category\": \"natural land\", \"Quantity (Mt CO2e)\": 0.0, \"Landuse_land_cat\": \"Livestock - natural land\"}, {\"Year\": 2023, \"Land use category\": \"Crop\", \"Land category\": \"Crop\", \"Quantity (Mt CO2e)\": -0.20305880536999998, \"Landuse_land_cat\": \"Crop\"}, {\"Year\": 2023, \"Land use category\": \"Livestock\", \"Land category\": \"modified land\", \"Quantity (Mt CO2e)\": -4.4922501456860005, \"Landuse_land_cat\": \"Livestock - modified land\"}, {\"Year\": 2023, \"Land use category\": \"Livestock\", \"Land category\": \"natural land\", \"Quantity (Mt CO2e)\": 0.0, \"Landuse_land_cat\": \"Livestock - natural land\"}, {\"Year\": 2024, \"Land use category\": \"Crop\", \"Land category\": \"Crop\", \"Quantity (Mt CO2e)\": -0.23924296159999997, \"Landuse_land_cat\": \"Crop\"}, {\"Year\": 2024, \"Land use category\": \"Livestock\", \"Land category\": \"modified land\", \"Quantity (Mt CO2e)\": -4.67920413641, \"Landuse_land_cat\": \"Livestock - modified land\"}, {\"Year\": 2024, \"Land use category\": \"Livestock\", \"Land category\": \"natural land\", \"Quantity (Mt CO2e)\": -0.012424649999999999, \"Landuse_land_cat\": \"Livestock - natural land\"}, {\"Year\": 2025, \"Land use category\": \"Crop\", \"Land category\": \"Crop\", \"Quantity (Mt CO2e)\": -0.26143200711, \"Landuse_land_cat\": \"Crop\"}, {\"Year\": 2025, \"Land use category\": \"Livestock\", \"Land category\": \"modified land\", \"Quantity (Mt CO2e)\": -5.182000632089999, \"Landuse_land_cat\": \"Livestock - modified land\"}, {\"Year\": 2025, \"Land use category\": \"Livestock\", \"Land category\": \"natural land\", \"Quantity (Mt CO2e)\": -0.030768576000000002, \"Landuse_land_cat\": \"Livestock - natural land\"}, {\"Year\": 2026, \"Land use category\": \"Crop\", \"Land category\": \"Crop\", \"Quantity (Mt CO2e)\": -0.32033660495000005, \"Landuse_land_cat\": \"Crop\"}, {\"Year\": 2026, \"Land use category\": \"Livestock\", \"Land category\": \"modified land\", \"Quantity (Mt CO2e)\": -7.1548797108499995, \"Landuse_land_cat\": \"Livestock - modified land\"}, {\"Year\": 2026, \"Land use category\": \"Livestock\", \"Land category\": \"natural land\", \"Quantity (Mt CO2e)\": -0.04974582, \"Landuse_land_cat\": \"Livestock - natural land\"}, {\"Year\": 2027, \"Land use category\": \"Crop\", \"Land category\": \"Crop\", \"Quantity (Mt CO2e)\": -0.36372145146, \"Landuse_land_cat\": \"Crop\"}, {\"Year\": 2027, \"Land use category\": \"Livestock\", \"Land category\": \"modified land\", \"Quantity (Mt CO2e)\": -8.400236784759999, \"Landuse_land_cat\": \"Livestock - modified land\"}, {\"Year\": 2027, \"Land use category\": \"Livestock\", \"Land category\": \"natural land\", \"Quantity (Mt CO2e)\": -0.062055777, \"Landuse_land_cat\": \"Livestock - natural land\"}, {\"Year\": 2028, \"Land use category\": \"Crop\", \"Land category\": \"Crop\", \"Quantity (Mt CO2e)\": -0.3797763592, \"Landuse_land_cat\": \"Crop\"}, {\"Year\": 2028, \"Land use category\": \"Livestock\", \"Land category\": \"modified land\", \"Quantity (Mt CO2e)\": -10.576958721474, \"Landuse_land_cat\": \"Livestock - modified land\"}, {\"Year\": 2028, \"Land use category\": \"Livestock\", \"Land category\": \"natural land\", \"Quantity (Mt CO2e)\": -0.07879363, \"Landuse_land_cat\": \"Livestock - natural land\"}, {\"Year\": 2029, \"Land use category\": \"Crop\", \"Land category\": \"Crop\", \"Quantity (Mt CO2e)\": -0.41402202393999993, \"Landuse_land_cat\": \"Crop\"}, {\"Year\": 2029, \"Land use category\": \"Livestock\", \"Land category\": \"modified land\", \"Quantity (Mt CO2e)\": -11.270300662293002, \"Landuse_land_cat\": \"Livestock - modified land\"}, {\"Year\": 2029, \"Land use category\": \"Livestock\", \"Land category\": \"natural land\", \"Quantity (Mt CO2e)\": -0.09760260000000001, \"Landuse_land_cat\": \"Livestock - natural land\"}, {\"Year\": 2030, \"Land use category\": \"Crop\", \"Land category\": \"Crop\", \"Quantity (Mt CO2e)\": -0.42365272426, \"Landuse_land_cat\": \"Crop\"}, {\"Year\": 2030, \"Land use category\": \"Livestock\", \"Land category\": \"modified land\", \"Quantity (Mt CO2e)\": -11.657136820060002, \"Landuse_land_cat\": \"Livestock - modified land\"}, {\"Year\": 2030, \"Land use category\": \"Livestock\", \"Land category\": \"natural land\", \"Quantity (Mt CO2e)\": -0.90269219, \"Landuse_land_cat\": \"Livestock - natural land\"}, {\"Year\": 2031, \"Land use category\": \"Crop\", \"Land category\": \"Crop\", \"Quantity (Mt CO2e)\": -0.43293583244000006, \"Landuse_land_cat\": \"Crop\"}, {\"Year\": 2031, \"Land use category\": \"Livestock\", \"Land category\": \"modified land\", \"Quantity (Mt CO2e)\": -11.76599425128, \"Landuse_land_cat\": \"Livestock - modified land\"}, {\"Year\": 2031, \"Land use category\": \"Livestock\", \"Land category\": \"natural land\", \"Quantity (Mt CO2e)\": -3.4192831249999998, \"Landuse_land_cat\": \"Livestock - natural land\"}, {\"Year\": 2032, \"Land use category\": \"Crop\", \"Land category\": \"Crop\", \"Quantity (Mt CO2e)\": -0.4430572025, \"Landuse_land_cat\": \"Crop\"}, {\"Year\": 2032, \"Land use category\": \"Livestock\", \"Land category\": \"modified land\", \"Quantity (Mt CO2e)\": -11.637215752880003, \"Landuse_land_cat\": \"Livestock - modified land\"}, {\"Year\": 2032, \"Land use category\": \"Livestock\", \"Land category\": \"natural land\", \"Quantity (Mt CO2e)\": -3.80002558, \"Landuse_land_cat\": \"Livestock - natural land\"}, {\"Year\": 2033, \"Land use category\": \"Crop\", \"Land category\": \"Crop\", \"Quantity (Mt CO2e)\": -0.4460531041000001, \"Landuse_land_cat\": \"Crop\"}, {\"Year\": 2033, \"Land use category\": \"Livestock\", \"Land category\": \"modified land\", \"Quantity (Mt CO2e)\": -11.40045221142, \"Landuse_land_cat\": \"Livestock - modified land\"}, {\"Year\": 2033, \"Land use category\": \"Livestock\", \"Land category\": \"natural land\", \"Quantity (Mt CO2e)\": -4.37198764, \"Landuse_land_cat\": \"Livestock - natural land\"}, {\"Year\": 2034, \"Land use category\": \"Crop\", \"Land category\": \"Crop\", \"Quantity (Mt CO2e)\": -0.48770289235, \"Landuse_land_cat\": \"Crop\"}, {\"Year\": 2034, \"Land use category\": \"Livestock\", \"Land category\": \"modified land\", \"Quantity (Mt CO2e)\": -11.200069546059998, \"Landuse_land_cat\": \"Livestock - modified land\"}, {\"Year\": 2034, \"Land use category\": \"Livestock\", \"Land category\": \"natural land\", \"Quantity (Mt CO2e)\": -4.61282838, \"Landuse_land_cat\": \"Livestock - natural land\"}, {\"Year\": 2035, \"Land use category\": \"Crop\", \"Land category\": \"Crop\", \"Quantity (Mt CO2e)\": -0.49638421935999993, \"Landuse_land_cat\": \"Crop\"}, {\"Year\": 2035, \"Land use category\": \"Livestock\", \"Land category\": \"modified land\", \"Quantity (Mt CO2e)\": -10.9626014893624, \"Landuse_land_cat\": \"Livestock - modified land\"}, {\"Year\": 2035, \"Land use category\": \"Livestock\", \"Land category\": \"natural land\", \"Quantity (Mt CO2e)\": -4.81790447, \"Landuse_land_cat\": \"Livestock - natural land\"}, {\"Year\": 2036, \"Land use category\": \"Crop\", \"Land category\": \"Crop\", \"Quantity (Mt CO2e)\": -0.5085772407379999, \"Landuse_land_cat\": \"Crop\"}, {\"Year\": 2036, \"Land use category\": \"Livestock\", \"Land category\": \"modified land\", \"Quantity (Mt CO2e)\": -10.464701959195999, \"Landuse_land_cat\": \"Livestock - modified land\"}, {\"Year\": 2036, \"Land use category\": \"Livestock\", \"Land category\": \"natural land\", \"Quantity (Mt CO2e)\": -5.058503030000001, \"Landuse_land_cat\": \"Livestock - natural land\"}, {\"Year\": 2037, \"Land use category\": \"Crop\", \"Land category\": \"Crop\", \"Quantity (Mt CO2e)\": -0.532302246113, \"Landuse_land_cat\": \"Crop\"}, {\"Year\": 2037, \"Land use category\": \"Livestock\", \"Land category\": \"modified land\", \"Quantity (Mt CO2e)\": -10.10573604376, \"Landuse_land_cat\": \"Livestock - modified land\"}, {\"Year\": 2037, \"Land use category\": \"Livestock\", \"Land category\": \"natural land\", \"Quantity (Mt CO2e)\": -5.462961969999999, \"Landuse_land_cat\": \"Livestock - natural land\"}, {\"Year\": 2038, \"Land use category\": \"Crop\", \"Land category\": \"Crop\", \"Quantity (Mt CO2e)\": -0.5737994062599998, \"Landuse_land_cat\": \"Crop\"}, {\"Year\": 2038, \"Land use category\": \"Livestock\", \"Land category\": \"modified land\", \"Quantity (Mt CO2e)\": -9.498455658733, \"Landuse_land_cat\": \"Livestock - modified land\"}, {\"Year\": 2038, \"Land use category\": \"Livestock\", \"Land category\": \"natural land\", \"Quantity (Mt CO2e)\": -5.81782375, \"Landuse_land_cat\": \"Livestock - natural land\"}, {\"Year\": 2039, \"Land use category\": \"Crop\", \"Land category\": \"Crop\", \"Quantity (Mt CO2e)\": -0.6318355986299999, \"Landuse_land_cat\": \"Crop\"}, {\"Year\": 2039, \"Land use category\": \"Livestock\", \"Land category\": \"modified land\", \"Quantity (Mt CO2e)\": -9.225307476829002, \"Landuse_land_cat\": \"Livestock - modified land\"}, {\"Year\": 2039, \"Land use category\": \"Livestock\", \"Land category\": \"natural land\", \"Quantity (Mt CO2e)\": -6.114859780000001, \"Landuse_land_cat\": \"Livestock - natural land\"}, {\"Year\": 2040, \"Land use category\": \"Crop\", \"Land category\": \"Crop\", \"Quantity (Mt CO2e)\": -0.73836407466, \"Landuse_land_cat\": \"Crop\"}, {\"Year\": 2040, \"Land use category\": \"Livestock\", \"Land category\": \"modified land\", \"Quantity (Mt CO2e)\": -8.949849661216, \"Landuse_land_cat\": \"Livestock - modified land\"}, {\"Year\": 2040, \"Land use category\": \"Livestock\", \"Land category\": \"natural land\", \"Quantity (Mt CO2e)\": -6.634781780000001, \"Landuse_land_cat\": \"Livestock - natural land\"}, {\"Year\": 2041, \"Land use category\": \"Crop\", \"Land category\": \"Crop\", \"Quantity (Mt CO2e)\": -0.8396034354040002, \"Landuse_land_cat\": \"Crop\"}, {\"Year\": 2041, \"Land use category\": \"Livestock\", \"Land category\": \"modified land\", \"Quantity (Mt CO2e)\": -8.884627936790002, \"Landuse_land_cat\": \"Livestock - modified land\"}, {\"Year\": 2041, \"Land use category\": \"Livestock\", \"Land category\": \"natural land\", \"Quantity (Mt CO2e)\": -7.114583, \"Landuse_land_cat\": \"Livestock - natural land\"}, {\"Year\": 2042, \"Land use category\": \"Crop\", \"Land category\": \"Crop\", \"Quantity (Mt CO2e)\": -1.022650609252, \"Landuse_land_cat\": \"Crop\"}, {\"Year\": 2042, \"Land use category\": \"Livestock\", \"Land category\": \"modified land\", \"Quantity (Mt CO2e)\": -8.746206261984002, \"Landuse_land_cat\": \"Livestock - modified land\"}, {\"Year\": 2042, \"Land use category\": \"Livestock\", \"Land category\": \"natural land\", \"Quantity (Mt CO2e)\": -7.655685, \"Landuse_land_cat\": \"Livestock - natural land\"}, {\"Year\": 2043, \"Land use category\": \"Crop\", \"Land category\": \"Crop\", \"Quantity (Mt CO2e)\": -1.149432451625, \"Landuse_land_cat\": \"Crop\"}, {\"Year\": 2043, \"Land use category\": \"Livestock\", \"Land category\": \"modified land\", \"Quantity (Mt CO2e)\": -8.655471585836999, \"Landuse_land_cat\": \"Livestock - modified land\"}, {\"Year\": 2043, \"Land use category\": \"Livestock\", \"Land category\": \"natural land\", \"Quantity (Mt CO2e)\": -8.4183717, \"Landuse_land_cat\": \"Livestock - natural land\"}, {\"Year\": 2044, \"Land use category\": \"Crop\", \"Land category\": \"Crop\", \"Quantity (Mt CO2e)\": -1.2330109560300002, \"Landuse_land_cat\": \"Crop\"}, {\"Year\": 2044, \"Land use category\": \"Livestock\", \"Land category\": \"modified land\", \"Quantity (Mt CO2e)\": -7.967027726785002, \"Landuse_land_cat\": \"Livestock - modified land\"}, {\"Year\": 2044, \"Land use category\": \"Livestock\", \"Land category\": \"natural land\", \"Quantity (Mt CO2e)\": -9.20739075, \"Landuse_land_cat\": \"Livestock - natural land\"}, {\"Year\": 2045, \"Land use category\": \"Crop\", \"Land category\": \"Crop\", \"Quantity (Mt CO2e)\": -1.3689520344469999, \"Landuse_land_cat\": \"Crop\"}, {\"Year\": 2045, \"Land use category\": \"Livestock\", \"Land category\": \"modified land\", \"Quantity (Mt CO2e)\": -7.59755976257, \"Landuse_land_cat\": \"Livestock - modified land\"}, {\"Year\": 2045, \"Land use category\": \"Livestock\", \"Land category\": \"natural land\", \"Quantity (Mt CO2e)\": -9.5755738728, \"Landuse_land_cat\": \"Livestock - natural land\"}, {\"Year\": 2046, \"Land use category\": \"Crop\", \"Land category\": \"Crop\", \"Quantity (Mt CO2e)\": -1.3758339028104996, \"Landuse_land_cat\": \"Crop\"}, {\"Year\": 2046, \"Land use category\": \"Livestock\", \"Land category\": \"modified land\", \"Quantity (Mt CO2e)\": -10.603655316887998, \"Landuse_land_cat\": \"Livestock - modified land\"}, {\"Year\": 2046, \"Land use category\": \"Livestock\", \"Land category\": \"natural land\", \"Quantity (Mt CO2e)\": -11.9430763, \"Landuse_land_cat\": \"Livestock - natural land\"}, {\"Year\": 2047, \"Land use category\": \"Crop\", \"Land category\": \"Crop\", \"Quantity (Mt CO2e)\": -1.3873097187030001, \"Landuse_land_cat\": \"Crop\"}, {\"Year\": 2047, \"Land use category\": \"Livestock\", \"Land category\": \"modified land\", \"Quantity (Mt CO2e)\": -13.931556463746597, \"Landuse_land_cat\": \"Livestock - modified land\"}, {\"Year\": 2047, \"Land use category\": \"Livestock\", \"Land category\": \"natural land\", \"Quantity (Mt CO2e)\": -14.57732844, \"Landuse_land_cat\": \"Livestock - natural land\"}, {\"Year\": 2048, \"Land use category\": \"Crop\", \"Land category\": \"Crop\", \"Quantity (Mt CO2e)\": -1.3897351593700003, \"Landuse_land_cat\": \"Crop\"}, {\"Year\": 2048, \"Land use category\": \"Livestock\", \"Land category\": \"modified land\", \"Quantity (Mt CO2e)\": -13.223943119900001, \"Landuse_land_cat\": \"Livestock - modified land\"}, {\"Year\": 2048, \"Land use category\": \"Livestock\", \"Land category\": \"natural land\", \"Quantity (Mt CO2e)\": -16.61712694, \"Landuse_land_cat\": \"Livestock - natural land\"}, {\"Year\": 2049, \"Land use category\": \"Crop\", \"Land category\": \"Crop\", \"Quantity (Mt CO2e)\": -1.387815207040001, \"Landuse_land_cat\": \"Crop\"}, {\"Year\": 2049, \"Land use category\": \"Livestock\", \"Land category\": \"modified land\", \"Quantity (Mt CO2e)\": -12.33705179425, \"Landuse_land_cat\": \"Livestock - modified land\"}, {\"Year\": 2049, \"Land use category\": \"Livestock\", \"Land category\": \"natural land\", \"Quantity (Mt CO2e)\": -19.0882511, \"Landuse_land_cat\": \"Livestock - natural land\"}, {\"Year\": 2050, \"Land use category\": \"Crop\", \"Land category\": \"Crop\", \"Quantity (Mt CO2e)\": -1.3861742587200003, \"Landuse_land_cat\": \"Crop\"}, {\"Year\": 2050, \"Land use category\": \"Livestock\", \"Land category\": \"modified land\", \"Quantity (Mt CO2e)\": -11.241327371001, \"Landuse_land_cat\": \"Livestock - modified land\"}, {\"Year\": 2050, \"Land use category\": \"Livestock\", \"Land category\": \"natural land\", \"Quantity (Mt CO2e)\": -21.762208700000002, \"Landuse_land_cat\": \"Livestock - natural land\"}]}}, {\"mode\": \"vega-lite\"});\n",
       "</script>"
      ],
      "text/plain": [
       "alt.LayerChart(...)"
      ]
     },
     "execution_count": 23,
     "metadata": {},
     "output_type": "execute_result"
    }
   ],
   "source": [
    "# HIDE CODE\n",
    "# get the df and plot\n",
    "GHG_ag_man_GHG_crop_lvstk_df,GHG_ag_man_GHG_crop_lvstk_plot = ag_man_GHG.plot_GHG_crop_lvstk()\n",
    "GHG_ag_man_GHG_crop_lvstk_plot"
   ]
  },
  {
   "cell_type": "code",
   "execution_count": null,
   "metadata": {},
   "outputs": [],
   "source": []
  },
  {
   "cell_type": "code",
   "execution_count": null,
   "metadata": {},
   "outputs": [],
   "source": []
  },
  {
   "cell_type": "markdown",
   "metadata": {},
   "source": [
    "### Sequestrations by irrigation system"
   ]
  },
  {
   "cell_type": "code",
   "execution_count": 24,
   "metadata": {
    "tags": [
     "hide-input"
    ]
   },
   "outputs": [
    {
     "data": {
      "text/html": [
       "\n",
       "<style>\n",
       "  #altair-viz-779148ac3ef243d880bddb1e2b6b1e68.vega-embed {\n",
       "    width: 100%;\n",
       "    display: flex;\n",
       "  }\n",
       "\n",
       "  #altair-viz-779148ac3ef243d880bddb1e2b6b1e68.vega-embed details,\n",
       "  #altair-viz-779148ac3ef243d880bddb1e2b6b1e68.vega-embed details summary {\n",
       "    position: relative;\n",
       "  }\n",
       "</style>\n",
       "<div id=\"altair-viz-779148ac3ef243d880bddb1e2b6b1e68\"></div>\n",
       "<script type=\"text/javascript\">\n",
       "  var VEGA_DEBUG = (typeof VEGA_DEBUG == \"undefined\") ? {} : VEGA_DEBUG;\n",
       "  (function(spec, embedOpt){\n",
       "    let outputDiv = document.currentScript.previousElementSibling;\n",
       "    if (outputDiv.id !== \"altair-viz-779148ac3ef243d880bddb1e2b6b1e68\") {\n",
       "      outputDiv = document.getElementById(\"altair-viz-779148ac3ef243d880bddb1e2b6b1e68\");\n",
       "    }\n",
       "    const paths = {\n",
       "      \"vega\": \"https://cdn.jsdelivr.net/npm/vega@5?noext\",\n",
       "      \"vega-lib\": \"https://cdn.jsdelivr.net/npm/vega-lib?noext\",\n",
       "      \"vega-lite\": \"https://cdn.jsdelivr.net/npm/vega-lite@5.15.1?noext\",\n",
       "      \"vega-embed\": \"https://cdn.jsdelivr.net/npm/vega-embed@6?noext\",\n",
       "    };\n",
       "\n",
       "    function maybeLoadScript(lib, version) {\n",
       "      var key = `${lib.replace(\"-\", \"\")}_version`;\n",
       "      return (VEGA_DEBUG[key] == version) ?\n",
       "        Promise.resolve(paths[lib]) :\n",
       "        new Promise(function(resolve, reject) {\n",
       "          var s = document.createElement('script');\n",
       "          document.getElementsByTagName(\"head\")[0].appendChild(s);\n",
       "          s.async = true;\n",
       "          s.onload = () => {\n",
       "            VEGA_DEBUG[key] = version;\n",
       "            return resolve(paths[lib]);\n",
       "          };\n",
       "          s.onerror = () => reject(`Error loading script: ${paths[lib]}`);\n",
       "          s.src = paths[lib];\n",
       "        });\n",
       "    }\n",
       "\n",
       "    function showError(err) {\n",
       "      outputDiv.innerHTML = `<div class=\"error\" style=\"color:red;\">${err}</div>`;\n",
       "      throw err;\n",
       "    }\n",
       "\n",
       "    function displayChart(vegaEmbed) {\n",
       "      vegaEmbed(outputDiv, spec, embedOpt)\n",
       "        .catch(err => showError(`Javascript Error: ${err.message}<br>This usually means there's a typo in your chart specification. See the javascript console for the full traceback.`));\n",
       "    }\n",
       "\n",
       "    if(typeof define === \"function\" && define.amd) {\n",
       "      requirejs.config({paths});\n",
       "      require([\"vega-embed\"], displayChart, err => showError(`Error loading script: ${err.message}`));\n",
       "    } else {\n",
       "      maybeLoadScript(\"vega\", \"5\")\n",
       "        .then(() => maybeLoadScript(\"vega-lite\", \"5.15.1\"))\n",
       "        .then(() => maybeLoadScript(\"vega-embed\", \"6\"))\n",
       "        .catch(showError)\n",
       "        .then(() => displayChart(vegaEmbed));\n",
       "    }\n",
       "  })({\"config\": {\"view\": {\"continuousWidth\": 300, \"continuousHeight\": 300}}, \"layer\": [{\"mark\": {\"type\": \"bar\"}, \"encoding\": {\"color\": {\"field\": \"Irrigation\", \"legend\": {\"direction\": \"horizontal\", \"legendX\": 240.0, \"legendY\": -30, \"orient\": \"none\", \"title\": \"Irrigation\", \"titleAnchor\": \"middle\"}, \"type\": \"nominal\"}, \"tooltip\": [{\"field\": \"Irrigation\", \"title\": \"Irrigation\", \"type\": \"nominal\"}, {\"field\": \"Quantity (Mt CO2e)\", \"title\": \"GHG sequestration (Mt CO2e)\", \"type\": \"quantitative\"}], \"x\": {\"axis\": {\"labelAngle\": -90, \"title\": \"Year\"}, \"field\": \"Year\", \"type\": \"ordinal\"}, \"y\": {\"field\": \"Quantity (Mt CO2e)\", \"scale\": {\"reverse\": true}, \"title\": \"GHG sequestration (Mt CO2e)\", \"type\": \"quantitative\"}}}], \"data\": {\"name\": \"data-f576429c9c6fae7c4fef874fc5415178\"}, \"height\": 450, \"width\": 600, \"$schema\": \"https://vega.github.io/schema/vega-lite/v5.15.1.json\", \"datasets\": {\"data-f576429c9c6fae7c4fef874fc5415178\": [{\"Year\": 2010, \"Irrigation\": \"dry\", \"Quantity (Mt CO2e)\": 0.0}, {\"Year\": 2010, \"Irrigation\": \"irr\", \"Quantity (Mt CO2e)\": 0.0}, {\"Year\": 2011, \"Irrigation\": \"dry\", \"Quantity (Mt CO2e)\": -1.6883409239399998}, {\"Year\": 2011, \"Irrigation\": \"irr\", \"Quantity (Mt CO2e)\": -0.048803541644}, {\"Year\": 2012, \"Irrigation\": \"dry\", \"Quantity (Mt CO2e)\": -2.62562051145}, {\"Year\": 2012, \"Irrigation\": \"irr\", \"Quantity (Mt CO2e)\": -0.05329433648999999}, {\"Year\": 2013, \"Irrigation\": \"dry\", \"Quantity (Mt CO2e)\": -3.3615379592000005}, {\"Year\": 2013, \"Irrigation\": \"irr\", \"Quantity (Mt CO2e)\": -0.055453336177999996}, {\"Year\": 2014, \"Irrigation\": \"dry\", \"Quantity (Mt CO2e)\": -4.02689097484}, {\"Year\": 2014, \"Irrigation\": \"irr\", \"Quantity (Mt CO2e)\": -0.0584136328}, {\"Year\": 2015, \"Irrigation\": \"dry\", \"Quantity (Mt CO2e)\": -4.58094757737}, {\"Year\": 2015, \"Irrigation\": \"irr\", \"Quantity (Mt CO2e)\": -0.068638756333}, {\"Year\": 2016, \"Irrigation\": \"dry\", \"Quantity (Mt CO2e)\": -4.98663293374}, {\"Year\": 2016, \"Irrigation\": \"irr\", \"Quantity (Mt CO2e)\": -0.068860453457}, {\"Year\": 2017, \"Irrigation\": \"dry\", \"Quantity (Mt CO2e)\": -5.13832883529}, {\"Year\": 2017, \"Irrigation\": \"irr\", \"Quantity (Mt CO2e)\": -0.07532592439399999}, {\"Year\": 2018, \"Irrigation\": \"dry\", \"Quantity (Mt CO2e)\": -5.30931823996}, {\"Year\": 2018, \"Irrigation\": \"irr\", \"Quantity (Mt CO2e)\": -0.07902922289700001}, {\"Year\": 2019, \"Irrigation\": \"dry\", \"Quantity (Mt CO2e)\": -5.45837112535}, {\"Year\": 2019, \"Irrigation\": \"irr\", \"Quantity (Mt CO2e)\": -0.10224193871000001}, {\"Year\": 2020, \"Irrigation\": \"dry\", \"Quantity (Mt CO2e)\": -5.470877245485999}, {\"Year\": 2020, \"Irrigation\": \"irr\", \"Quantity (Mt CO2e)\": -0.10711352310000002}, {\"Year\": 2021, \"Irrigation\": \"dry\", \"Quantity (Mt CO2e)\": -5.24932340898}, {\"Year\": 2021, \"Irrigation\": \"irr\", \"Quantity (Mt CO2e)\": -0.11796555962000001}, {\"Year\": 2022, \"Irrigation\": \"dry\", \"Quantity (Mt CO2e)\": -4.86274558329}, {\"Year\": 2022, \"Irrigation\": \"irr\", \"Quantity (Mt CO2e)\": -0.130760739986}, {\"Year\": 2023, \"Irrigation\": \"dry\", \"Quantity (Mt CO2e)\": -4.542733040190001}, {\"Year\": 2023, \"Irrigation\": \"irr\", \"Quantity (Mt CO2e)\": -0.152575910866}, {\"Year\": 2024, \"Irrigation\": \"dry\", \"Quantity (Mt CO2e)\": -4.77316924}, {\"Year\": 2024, \"Irrigation\": \"irr\", \"Quantity (Mt CO2e)\": -0.15770250801}, {\"Year\": 2025, \"Irrigation\": \"dry\", \"Quantity (Mt CO2e)\": -5.3094609007599995}, {\"Year\": 2025, \"Irrigation\": \"irr\", \"Quantity (Mt CO2e)\": -0.16474031444}, {\"Year\": 2026, \"Irrigation\": \"dry\", \"Quantity (Mt CO2e)\": -7.33961830642}, {\"Year\": 2026, \"Irrigation\": \"irr\", \"Quantity (Mt CO2e)\": -0.18534382938000005}, {\"Year\": 2027, \"Irrigation\": \"dry\", \"Quantity (Mt CO2e)\": -8.6263474347}, {\"Year\": 2027, \"Irrigation\": \"irr\", \"Quantity (Mt CO2e)\": -0.19966657852}, {\"Year\": 2028, \"Irrigation\": \"dry\", \"Quantity (Mt CO2e)\": -10.822342838393999}, {\"Year\": 2028, \"Irrigation\": \"irr\", \"Quantity (Mt CO2e)\": -0.21318587228000002}, {\"Year\": 2029, \"Irrigation\": \"dry\", \"Quantity (Mt CO2e)\": -11.541696933460003}, {\"Year\": 2029, \"Irrigation\": \"irr\", \"Quantity (Mt CO2e)\": -0.24022835277299998}, {\"Year\": 2030, \"Irrigation\": \"dry\", \"Quantity (Mt CO2e)\": -12.738644180619998}, {\"Year\": 2030, \"Irrigation\": \"irr\", \"Quantity (Mt CO2e)\": -0.24483755370000004}, {\"Year\": 2031, \"Irrigation\": \"dry\", \"Quantity (Mt CO2e)\": -15.367773396839997}, {\"Year\": 2031, \"Irrigation\": \"irr\", \"Quantity (Mt CO2e)\": -0.25043981188}, {\"Year\": 2032, \"Irrigation\": \"dry\", \"Quantity (Mt CO2e)\": -15.626408356800003}, {\"Year\": 2032, \"Irrigation\": \"irr\", \"Quantity (Mt CO2e)\": -0.25389017857999996}, {\"Year\": 2033, \"Irrigation\": \"dry\", \"Quantity (Mt CO2e)\": -15.965324466389998}, {\"Year\": 2033, \"Irrigation\": \"irr\", \"Quantity (Mt CO2e)\": -0.25316848913}, {\"Year\": 2034, \"Irrigation\": \"dry\", \"Quantity (Mt CO2e)\": -16.022181952489998}, {\"Year\": 2034, \"Irrigation\": \"irr\", \"Quantity (Mt CO2e)\": -0.27841886592}, {\"Year\": 2035, \"Irrigation\": \"dry\", \"Quantity (Mt CO2e)\": -16.014232775405}, {\"Year\": 2035, \"Irrigation\": \"irr\", \"Quantity (Mt CO2e)\": -0.26265740331740006}, {\"Year\": 2036, \"Irrigation\": \"dry\", \"Quantity (Mt CO2e)\": -15.775242712277997}, {\"Year\": 2036, \"Irrigation\": \"irr\", \"Quantity (Mt CO2e)\": -0.25653951765599997}, {\"Year\": 2037, \"Irrigation\": \"dry\", \"Quantity (Mt CO2e)\": -15.842639188023}, {\"Year\": 2037, \"Irrigation\": \"irr\", \"Quantity (Mt CO2e)\": -0.25836107185}, {\"Year\": 2038, \"Irrigation\": \"dry\", \"Quantity (Mt CO2e)\": -15.623871928183002}, {\"Year\": 2038, \"Irrigation\": \"irr\", \"Quantity (Mt CO2e)\": -0.26620688681000004}, {\"Year\": 2039, \"Irrigation\": \"dry\", \"Quantity (Mt CO2e)\": -15.666010954589}, {\"Year\": 2039, \"Irrigation\": \"irr\", \"Quantity (Mt CO2e)\": -0.30599190086999994}, {\"Year\": 2040, \"Irrigation\": \"dry\", \"Quantity (Mt CO2e)\": -15.911398344846}, {\"Year\": 2040, \"Irrigation\": \"irr\", \"Quantity (Mt CO2e)\": -0.41159717103000004}, {\"Year\": 2041, \"Irrigation\": \"dry\", \"Quantity (Mt CO2e)\": -16.198508518919997}, {\"Year\": 2041, \"Irrigation\": \"irr\", \"Quantity (Mt CO2e)\": -0.6403058532739999}, {\"Year\": 2042, \"Irrigation\": \"dry\", \"Quantity (Mt CO2e)\": -16.544571740231998}, {\"Year\": 2042, \"Irrigation\": \"irr\", \"Quantity (Mt CO2e)\": -0.8799701310040001}, {\"Year\": 2043, \"Irrigation\": \"dry\", \"Quantity (Mt CO2e)\": -16.968307667957003}, {\"Year\": 2043, \"Irrigation\": \"irr\", \"Quantity (Mt CO2e)\": -1.254968069505}, {\"Year\": 2044, \"Irrigation\": \"dry\", \"Quantity (Mt CO2e)\": -17.071780885345}, {\"Year\": 2044, \"Irrigation\": \"irr\", \"Quantity (Mt CO2e)\": -1.33564854747}, {\"Year\": 2045, \"Irrigation\": \"dry\", \"Quantity (Mt CO2e)\": -17.192947664347003}, {\"Year\": 2045, \"Irrigation\": \"irr\", \"Quantity (Mt CO2e)\": -1.34913800547}, {\"Year\": 2046, \"Irrigation\": \"dry\", \"Quantity (Mt CO2e)\": -22.530200582028495}, {\"Year\": 2046, \"Irrigation\": \"irr\", \"Quantity (Mt CO2e)\": -1.3923649376699998}, {\"Year\": 2047, \"Irrigation\": \"dry\", \"Quantity (Mt CO2e)\": -28.482042947419604}, {\"Year\": 2047, \"Irrigation\": \"irr\", \"Quantity (Mt CO2e)\": -1.4141516750300003}, {\"Year\": 2048, \"Irrigation\": \"dry\", \"Quantity (Mt CO2e)\": -29.840666850219996}, {\"Year\": 2048, \"Irrigation\": \"irr\", \"Quantity (Mt CO2e)\": -1.3901383690500004}, {\"Year\": 2049, \"Irrigation\": \"dry\", \"Quantity (Mt CO2e)\": -31.517404015879997}, {\"Year\": 2049, \"Irrigation\": \"irr\", \"Quantity (Mt CO2e)\": -1.2957140854100007}, {\"Year\": 2050, \"Irrigation\": \"dry\", \"Quantity (Mt CO2e)\": -33.215175876900986}, {\"Year\": 2050, \"Irrigation\": \"irr\", \"Quantity (Mt CO2e)\": -1.17453445282}]}}, {\"mode\": \"vega-lite\"});\n",
       "</script>"
      ],
      "text/plain": [
       "alt.LayerChart(...)"
      ]
     },
     "execution_count": 24,
     "metadata": {},
     "output_type": "execute_result"
    }
   ],
   "source": [
    "# HIDE CODE\n",
    "# get the df and plot\n",
    "GHG_ag_man_dry_irr_df,GHG_ag_man_dry_irr_plot = ag_man_GHG.plot_GHG_dry_irr()\n",
    "GHG_ag_man_dry_irr_plot"
   ]
  },
  {
   "cell_type": "code",
   "execution_count": null,
   "metadata": {},
   "outputs": [],
   "source": []
  },
  {
   "cell_type": "markdown",
   "metadata": {},
   "source": [
    "### Sequestrations by GHG category"
   ]
  },
  {
   "cell_type": "code",
   "execution_count": 26,
   "metadata": {
    "tags": [
     "hide-input"
    ]
   },
   "outputs": [
    {
     "data": {
      "text/html": [
       "\n",
       "<style>\n",
       "  #altair-viz-c22abd9d9bad4a01a13d1262f63347b5.vega-embed {\n",
       "    width: 100%;\n",
       "    display: flex;\n",
       "  }\n",
       "\n",
       "  #altair-viz-c22abd9d9bad4a01a13d1262f63347b5.vega-embed details,\n",
       "  #altair-viz-c22abd9d9bad4a01a13d1262f63347b5.vega-embed details summary {\n",
       "    position: relative;\n",
       "  }\n",
       "</style>\n",
       "<div id=\"altair-viz-c22abd9d9bad4a01a13d1262f63347b5\"></div>\n",
       "<script type=\"text/javascript\">\n",
       "  var VEGA_DEBUG = (typeof VEGA_DEBUG == \"undefined\") ? {} : VEGA_DEBUG;\n",
       "  (function(spec, embedOpt){\n",
       "    let outputDiv = document.currentScript.previousElementSibling;\n",
       "    if (outputDiv.id !== \"altair-viz-c22abd9d9bad4a01a13d1262f63347b5\") {\n",
       "      outputDiv = document.getElementById(\"altair-viz-c22abd9d9bad4a01a13d1262f63347b5\");\n",
       "    }\n",
       "    const paths = {\n",
       "      \"vega\": \"https://cdn.jsdelivr.net/npm/vega@5?noext\",\n",
       "      \"vega-lib\": \"https://cdn.jsdelivr.net/npm/vega-lib?noext\",\n",
       "      \"vega-lite\": \"https://cdn.jsdelivr.net/npm/vega-lite@5.15.1?noext\",\n",
       "      \"vega-embed\": \"https://cdn.jsdelivr.net/npm/vega-embed@6?noext\",\n",
       "    };\n",
       "\n",
       "    function maybeLoadScript(lib, version) {\n",
       "      var key = `${lib.replace(\"-\", \"\")}_version`;\n",
       "      return (VEGA_DEBUG[key] == version) ?\n",
       "        Promise.resolve(paths[lib]) :\n",
       "        new Promise(function(resolve, reject) {\n",
       "          var s = document.createElement('script');\n",
       "          document.getElementsByTagName(\"head\")[0].appendChild(s);\n",
       "          s.async = true;\n",
       "          s.onload = () => {\n",
       "            VEGA_DEBUG[key] = version;\n",
       "            return resolve(paths[lib]);\n",
       "          };\n",
       "          s.onerror = () => reject(`Error loading script: ${paths[lib]}`);\n",
       "          s.src = paths[lib];\n",
       "        });\n",
       "    }\n",
       "\n",
       "    function showError(err) {\n",
       "      outputDiv.innerHTML = `<div class=\"error\" style=\"color:red;\">${err}</div>`;\n",
       "      throw err;\n",
       "    }\n",
       "\n",
       "    function displayChart(vegaEmbed) {\n",
       "      vegaEmbed(outputDiv, spec, embedOpt)\n",
       "        .catch(err => showError(`Javascript Error: ${err.message}<br>This usually means there's a typo in your chart specification. See the javascript console for the full traceback.`));\n",
       "    }\n",
       "\n",
       "    if(typeof define === \"function\" && define.amd) {\n",
       "      requirejs.config({paths});\n",
       "      require([\"vega-embed\"], displayChart, err => showError(`Error loading script: ${err.message}`));\n",
       "    } else {\n",
       "      maybeLoadScript(\"vega\", \"5\")\n",
       "        .then(() => maybeLoadScript(\"vega-lite\", \"5.15.1\"))\n",
       "        .then(() => maybeLoadScript(\"vega-embed\", \"6\"))\n",
       "        .catch(showError)\n",
       "        .then(() => displayChart(vegaEmbed));\n",
       "    }\n",
       "  })({\"config\": {\"view\": {\"continuousWidth\": 300, \"continuousHeight\": 300}}, \"layer\": [{\"mark\": {\"type\": \"bar\"}, \"encoding\": {\"color\": {\"field\": \"GHG Category\", \"legend\": {\"direction\": \"vertical\", \"legendX\": 610, \"legendY\": 225.0, \"orient\": \"none\", \"title\": \"GHG Category\", \"titleAnchor\": \"middle\"}, \"type\": \"nominal\"}, \"tooltip\": [{\"field\": \"GHG Category\", \"title\": \"GHG Category\", \"type\": \"nominal\"}, {\"field\": \"Quantity (Mt CO2e)\", \"title\": \"GHG sequestration (Mt CO2e)\", \"type\": \"quantitative\"}], \"x\": {\"axis\": {\"labelAngle\": -90, \"title\": \"Year\"}, \"field\": \"Year\", \"type\": \"ordinal\"}, \"y\": {\"field\": \"Quantity (Mt CO2e)\", \"scale\": {\"reverse\": true}, \"title\": \"GHG sequestration (Mt CO2e)\", \"type\": \"quantitative\"}}}], \"data\": {\"name\": \"data-3e47f55780a02daccd83aa26e2626bd1\"}, \"height\": 450, \"width\": 600, \"$schema\": \"https://vega.github.io/schema/vega-lite/v5.15.1.json\", \"datasets\": {\"data-3e47f55780a02daccd83aa26e2626bd1\": [{\"Year\": 2010, \"GHG Category\": \"Asparagopsis taxiformis\", \"Quantity (Mt CO2e)\": 0.0}, {\"Year\": 2010, \"GHG Category\": \"Ecological Grazing\", \"Quantity (Mt CO2e)\": 0.0}, {\"Year\": 2010, \"GHG Category\": \"Precision Agriculture\", \"Quantity (Mt CO2e)\": 0.0}, {\"Year\": 2011, \"GHG Category\": \"Asparagopsis taxiformis\", \"Quantity (Mt CO2e)\": 0.0}, {\"Year\": 2011, \"GHG Category\": \"Ecological Grazing\", \"Quantity (Mt CO2e)\": -1.6639778869999997}, {\"Year\": 2011, \"GHG Category\": \"Precision Agriculture\", \"Quantity (Mt CO2e)\": -0.07316657858399998}, {\"Year\": 2012, \"GHG Category\": \"Asparagopsis taxiformis\", \"Quantity (Mt CO2e)\": 0.0}, {\"Year\": 2012, \"GHG Category\": \"Ecological Grazing\", \"Quantity (Mt CO2e)\": -2.6000204704900005}, {\"Year\": 2012, \"GHG Category\": \"Precision Agriculture\", \"Quantity (Mt CO2e)\": -0.07889437745}, {\"Year\": 2013, \"GHG Category\": \"Asparagopsis taxiformis\", \"Quantity (Mt CO2e)\": 0.0}, {\"Year\": 2013, \"GHG Category\": \"Ecological Grazing\", \"Quantity (Mt CO2e)\": -3.3306071702000004}, {\"Year\": 2013, \"GHG Category\": \"Precision Agriculture\", \"Quantity (Mt CO2e)\": -0.086384125178}, {\"Year\": 2014, \"GHG Category\": \"Asparagopsis taxiformis\", \"Quantity (Mt CO2e)\": 0.0}, {\"Year\": 2014, \"GHG Category\": \"Ecological Grazing\", \"Quantity (Mt CO2e)\": -3.9978082169499993}, {\"Year\": 2014, \"GHG Category\": \"Precision Agriculture\", \"Quantity (Mt CO2e)\": -0.08749639069}, {\"Year\": 2015, \"GHG Category\": \"Asparagopsis taxiformis\", \"Quantity (Mt CO2e)\": 0.0}, {\"Year\": 2015, \"GHG Category\": \"Ecological Grazing\", \"Quantity (Mt CO2e)\": -4.5587112523}, {\"Year\": 2015, \"GHG Category\": \"Precision Agriculture\", \"Quantity (Mt CO2e)\": -0.090875081403}, {\"Year\": 2016, \"GHG Category\": \"Asparagopsis taxiformis\", \"Quantity (Mt CO2e)\": 0.0}, {\"Year\": 2016, \"GHG Category\": \"Ecological Grazing\", \"Quantity (Mt CO2e)\": -4.96330331165}, {\"Year\": 2016, \"GHG Category\": \"Precision Agriculture\", \"Quantity (Mt CO2e)\": -0.09219007554699998}, {\"Year\": 2017, \"GHG Category\": \"Asparagopsis taxiformis\", \"Quantity (Mt CO2e)\": 0.0}, {\"Year\": 2017, \"GHG Category\": \"Ecological Grazing\", \"Quantity (Mt CO2e)\": -5.106915208300001}, {\"Year\": 2017, \"GHG Category\": \"Precision Agriculture\", \"Quantity (Mt CO2e)\": -0.10673955138399999}, {\"Year\": 2018, \"GHG Category\": \"Asparagopsis taxiformis\", \"Quantity (Mt CO2e)\": 0.0}, {\"Year\": 2018, \"GHG Category\": \"Ecological Grazing\", \"Quantity (Mt CO2e)\": -5.27307940574}, {\"Year\": 2018, \"GHG Category\": \"Precision Agriculture\", \"Quantity (Mt CO2e)\": -0.115268057117}, {\"Year\": 2019, \"GHG Category\": \"Asparagopsis taxiformis\", \"Quantity (Mt CO2e)\": 0.0}, {\"Year\": 2019, \"GHG Category\": \"Ecological Grazing\", \"Quantity (Mt CO2e)\": -5.42484503638}, {\"Year\": 2019, \"GHG Category\": \"Precision Agriculture\", \"Quantity (Mt CO2e)\": -0.13576802768}, {\"Year\": 2020, \"GHG Category\": \"Asparagopsis taxiformis\", \"Quantity (Mt CO2e)\": 0.0}, {\"Year\": 2020, \"GHG Category\": \"Ecological Grazing\", \"Quantity (Mt CO2e)\": -5.439099926086}, {\"Year\": 2020, \"GHG Category\": \"Precision Agriculture\", \"Quantity (Mt CO2e)\": -0.13889084250000003}, {\"Year\": 2021, \"GHG Category\": \"Asparagopsis taxiformis\", \"Quantity (Mt CO2e)\": 0.0}, {\"Year\": 2021, \"GHG Category\": \"Ecological Grazing\", \"Quantity (Mt CO2e)\": -5.21004958958}, {\"Year\": 2021, \"GHG Category\": \"Precision Agriculture\", \"Quantity (Mt CO2e)\": -0.15723937901999996}, {\"Year\": 2022, \"GHG Category\": \"Asparagopsis taxiformis\", \"Quantity (Mt CO2e)\": 0.0}, {\"Year\": 2022, \"GHG Category\": \"Ecological Grazing\", \"Quantity (Mt CO2e)\": -4.815127069150001}, {\"Year\": 2022, \"GHG Category\": \"Precision Agriculture\", \"Quantity (Mt CO2e)\": -0.17837925412599998}, {\"Year\": 2023, \"GHG Category\": \"Asparagopsis taxiformis\", \"Quantity (Mt CO2e)\": 0.0}, {\"Year\": 2023, \"GHG Category\": \"Ecological Grazing\", \"Quantity (Mt CO2e)\": -4.4918197508599995}, {\"Year\": 2023, \"GHG Category\": \"Precision Agriculture\", \"Quantity (Mt CO2e)\": -0.203489200196}, {\"Year\": 2024, \"GHG Category\": \"Asparagopsis taxiformis\", \"Quantity (Mt CO2e)\": -0.463563005}, {\"Year\": 2024, \"GHG Category\": \"Ecological Grazing\", \"Quantity (Mt CO2e)\": -4.2276173597}, {\"Year\": 2024, \"GHG Category\": \"Precision Agriculture\", \"Quantity (Mt CO2e)\": -0.23969138330999998}, {\"Year\": 2025, \"GHG Category\": \"Asparagopsis taxiformis\", \"Quantity (Mt CO2e)\": -1.1269117560000002}, {\"Year\": 2025, \"GHG Category\": \"Ecological Grazing\", \"Quantity (Mt CO2e)\": -4.0866270229}, {\"Year\": 2025, \"GHG Category\": \"Precision Agriculture\", \"Quantity (Mt CO2e)\": -0.26066243629999997}, {\"Year\": 2026, \"GHG Category\": \"Asparagopsis taxiformis\", \"Quantity (Mt CO2e)\": -3.2198878200000003}, {\"Year\": 2026, \"GHG Category\": \"Ecological Grazing\", \"Quantity (Mt CO2e)\": -3.98460295436}, {\"Year\": 2026, \"GHG Category\": \"Precision Agriculture\", \"Quantity (Mt CO2e)\": -0.32047136144}, {\"Year\": 2027, \"GHG Category\": \"Asparagopsis taxiformis\", \"Quantity (Mt CO2e)\": -4.632407877}, {\"Year\": 2027, \"GHG Category\": \"Ecological Grazing\", \"Quantity (Mt CO2e)\": -3.8290542421500002}, {\"Year\": 2027, \"GHG Category\": \"Precision Agriculture\", \"Quantity (Mt CO2e)\": -0.36455189407000005}, {\"Year\": 2028, \"GHG Category\": \"Asparagopsis taxiformis\", \"Quantity (Mt CO2e)\": -6.87942332126}, {\"Year\": 2028, \"GHG Category\": \"Ecological Grazing\", \"Quantity (Mt CO2e)\": -3.7761786300000004}, {\"Year\": 2028, \"GHG Category\": \"Precision Agriculture\", \"Quantity (Mt CO2e)\": -0.37992675941400006}, {\"Year\": 2029, \"GHG Category\": \"Asparagopsis taxiformis\", \"Quantity (Mt CO2e)\": -7.7495620236}, {\"Year\": 2029, \"GHG Category\": \"Ecological Grazing\", \"Quantity (Mt CO2e)\": -3.61835494563}, {\"Year\": 2029, \"GHG Category\": \"Precision Agriculture\", \"Quantity (Mt CO2e)\": -0.41400831700299995}, {\"Year\": 2030, \"GHG Category\": \"Asparagopsis taxiformis\", \"Quantity (Mt CO2e)\": -8.98700659}, {\"Year\": 2030, \"GHG Category\": \"Ecological Grazing\", \"Quantity (Mt CO2e)\": -3.57242783044}, {\"Year\": 2030, \"GHG Category\": \"Precision Agriculture\", \"Quantity (Mt CO2e)\": -0.42404731388}, {\"Year\": 2031, \"GHG Category\": \"Asparagopsis taxiformis\", \"Quantity (Mt CO2e)\": -11.7763721222}, {\"Year\": 2031, \"GHG Category\": \"Ecological Grazing\", \"Quantity (Mt CO2e)\": -3.40803460106}, {\"Year\": 2031, \"GHG Category\": \"Precision Agriculture\", \"Quantity (Mt CO2e)\": -0.4338064854600001}, {\"Year\": 2032, \"GHG Category\": \"Asparagopsis taxiformis\", \"Quantity (Mt CO2e)\": -12.219803545940001}, {\"Year\": 2032, \"GHG Category\": \"Ecological Grazing\", \"Quantity (Mt CO2e)\": -3.217241065}, {\"Year\": 2032, \"GHG Category\": \"Precision Agriculture\", \"Quantity (Mt CO2e)\": -0.44325392444}, {\"Year\": 2033, \"GHG Category\": \"Asparagopsis taxiformis\", \"Quantity (Mt CO2e)\": -12.693598014469998}, {\"Year\": 2033, \"GHG Category\": \"Ecological Grazing\", \"Quantity (Mt CO2e)\": -3.07865398}, {\"Year\": 2033, \"GHG Category\": \"Precision Agriculture\", \"Quantity (Mt CO2e)\": -0.4462409610500001}, {\"Year\": 2034, \"GHG Category\": \"Asparagopsis taxiformis\", \"Quantity (Mt CO2e)\": -12.87955994927}, {\"Year\": 2034, \"GHG Category\": \"Ecological Grazing\", \"Quantity (Mt CO2e)\": -2.93358495}, {\"Year\": 2034, \"GHG Category\": \"Precision Agriculture\", \"Quantity (Mt CO2e)\": -0.48745591913999997}, {\"Year\": 2035, \"GHG Category\": \"Asparagopsis taxiformis\", \"Quantity (Mt CO2e)\": -13.016335958600001}, {\"Year\": 2035, \"GHG Category\": \"Ecological Grazing\", \"Quantity (Mt CO2e)\": -2.7647367192}, {\"Year\": 2035, \"GHG Category\": \"Precision Agriculture\", \"Quantity (Mt CO2e)\": -0.49581750092239996}, {\"Year\": 2036, \"GHG Category\": \"Asparagopsis taxiformis\", \"Quantity (Mt CO2e)\": -13.059200769688001}, {\"Year\": 2036, \"GHG Category\": \"Ecological Grazing\", \"Quantity (Mt CO2e)\": -2.46398261062}, {\"Year\": 2036, \"GHG Category\": \"Precision Agriculture\", \"Quantity (Mt CO2e)\": -0.5085988496259999}, {\"Year\": 2037, \"GHG Category\": \"Asparagopsis taxiformis\", \"Quantity (Mt CO2e)\": -13.269811754680001}, {\"Year\": 2037, \"GHG Category\": \"Ecological Grazing\", \"Quantity (Mt CO2e)\": -2.300039792083}, {\"Year\": 2037, \"GHG Category\": \"Precision Agriculture\", \"Quantity (Mt CO2e)\": -0.5311487131099999}, {\"Year\": 2038, \"GHG Category\": \"Asparagopsis taxiformis\", \"Quantity (Mt CO2e)\": -13.236473102253001}, {\"Year\": 2038, \"GHG Category\": \"Ecological Grazing\", \"Quantity (Mt CO2e)\": -2.0816000149500002}, {\"Year\": 2038, \"GHG Category\": \"Precision Agriculture\", \"Quantity (Mt CO2e)\": -0.5720056977899999}, {\"Year\": 2039, \"GHG Category\": \"Asparagopsis taxiformis\", \"Quantity (Mt CO2e)\": -13.36253237825}, {\"Year\": 2039, \"GHG Category\": \"Ecological Grazing\", \"Quantity (Mt CO2e)\": -1.97691628972}, {\"Year\": 2039, \"GHG Category\": \"Precision Agriculture\", \"Quantity (Mt CO2e)\": -0.6325541874889999}, {\"Year\": 2040, \"GHG Category\": \"Asparagopsis taxiformis\", \"Quantity (Mt CO2e)\": -13.749892043800001}, {\"Year\": 2040, \"GHG Category\": \"Ecological Grazing\", \"Quantity (Mt CO2e)\": -1.83407632}, {\"Year\": 2040, \"GHG Category\": \"Precision Agriculture\", \"Quantity (Mt CO2e)\": -0.739027152076}, {\"Year\": 2041, \"GHG Category\": \"Asparagopsis taxiformis\", \"Quantity (Mt CO2e)\": -14.24225069958}, {\"Year\": 2041, \"GHG Category\": \"Ecological Grazing\", \"Quantity (Mt CO2e)\": -1.7568118499999998}, {\"Year\": 2041, \"GHG Category\": \"Precision Agriculture\", \"Quantity (Mt CO2e)\": -0.8397518226140002}, {\"Year\": 2042, \"GHG Category\": \"Asparagopsis taxiformis\", \"Quantity (Mt CO2e)\": -14.790557281929999}, {\"Year\": 2042, \"GHG Category\": \"Ecological Grazing\", \"Quantity (Mt CO2e)\": -1.612357915}, {\"Year\": 2042, \"GHG Category\": \"Precision Agriculture\", \"Quantity (Mt CO2e)\": -1.0216266743060003}, {\"Year\": 2043, \"GHG Category\": \"Asparagopsis taxiformis\", \"Quantity (Mt CO2e)\": -15.615103991389999}, {\"Year\": 2043, \"GHG Category\": \"Ecological Grazing\", \"Quantity (Mt CO2e)\": -1.4593965843600003}, {\"Year\": 2043, \"GHG Category\": \"Precision Agriculture\", \"Quantity (Mt CO2e)\": -1.1487751617120001}, {\"Year\": 2044, \"GHG Category\": \"Asparagopsis taxiformis\", \"Quantity (Mt CO2e)\": -15.929659198469999}, {\"Year\": 2044, \"GHG Category\": \"Ecological Grazing\", \"Quantity (Mt CO2e)\": -1.24419551246}, {\"Year\": 2044, \"GHG Category\": \"Precision Agriculture\", \"Quantity (Mt CO2e)\": -1.2335747218850002}, {\"Year\": 2045, \"GHG Category\": \"Asparagopsis taxiformis\", \"Quantity (Mt CO2e)\": -16.1007401554}, {\"Year\": 2045, \"GHG Category\": \"Ecological Grazing\", \"Quantity (Mt CO2e)\": -1.07418592919}, {\"Year\": 2045, \"GHG Category\": \"Precision Agriculture\", \"Quantity (Mt CO2e)\": -1.367159585227}, {\"Year\": 2046, \"GHG Category\": \"Asparagopsis taxiformis\", \"Quantity (Mt CO2e)\": -21.619310882527998}, {\"Year\": 2046, \"GHG Category\": \"Ecological Grazing\", \"Quantity (Mt CO2e)\": -0.9283988784}, {\"Year\": 2046, \"GHG Category\": \"Precision Agriculture\", \"Quantity (Mt CO2e)\": -1.3748557587704997}, {\"Year\": 2047, \"GHG Category\": \"Asparagopsis taxiformis\", \"Quantity (Mt CO2e)\": -27.6911861241}, {\"Year\": 2047, \"GHG Category\": \"Ecological Grazing\", \"Quantity (Mt CO2e)\": -0.8181223953}, {\"Year\": 2047, \"GHG Category\": \"Precision Agriculture\", \"Quantity (Mt CO2e)\": -1.3868861030496002}, {\"Year\": 2048, \"GHG Category\": \"Asparagopsis taxiformis\", \"Quantity (Mt CO2e)\": -29.118043139300003}, {\"Year\": 2048, \"GHG Category\": \"Ecological Grazing\", \"Quantity (Mt CO2e)\": -0.7233855200000001}, {\"Year\": 2048, \"GHG Category\": \"Precision Agriculture\", \"Quantity (Mt CO2e)\": -1.3893765599700003}, {\"Year\": 2049, \"GHG Category\": \"Asparagopsis taxiformis\", \"Quantity (Mt CO2e)\": -30.75193471426}, {\"Year\": 2049, \"GHG Category\": \"Ecological Grazing\", \"Quantity (Mt CO2e)\": -0.674955681}, {\"Year\": 2049, \"GHG Category\": \"Precision Agriculture\", \"Quantity (Mt CO2e)\": -1.3862277060300008}, {\"Year\": 2050, \"GHG Category\": \"Asparagopsis taxiformis\", \"Quantity (Mt CO2e)\": -32.4047783157}, {\"Year\": 2050, \"GHG Category\": \"Ecological Grazing\", \"Quantity (Mt CO2e)\": -0.5997234910000001}, {\"Year\": 2050, \"GHG Category\": \"Precision Agriculture\", \"Quantity (Mt CO2e)\": -1.3852085230210003}]}}, {\"mode\": \"vega-lite\"});\n",
       "</script>"
      ],
      "text/plain": [
       "alt.LayerChart(...)"
      ]
     },
     "execution_count": 26,
     "metadata": {},
     "output_type": "execute_result"
    }
   ],
   "source": [
    "# HIDE CODE\n",
    "# get the df and plot\n",
    "GHG_ag_man_df,GHG_ag_man_plot = ag_man_GHG.plot_GHG_category()\n",
    "GHG_ag_man_plot"
   ]
  },
  {
   "cell_type": "code",
   "execution_count": null,
   "metadata": {},
   "outputs": [],
   "source": []
  },
  {
   "cell_type": "code",
   "execution_count": null,
   "metadata": {},
   "outputs": [],
   "source": []
  },
  {
   "cell_type": "code",
   "execution_count": null,
   "metadata": {},
   "outputs": [],
   "source": []
  },
  {
   "cell_type": "code",
   "execution_count": null,
   "metadata": {},
   "outputs": [],
   "source": []
  },
  {
   "cell_type": "code",
   "execution_count": null,
   "metadata": {},
   "outputs": [],
   "source": []
  },
  {
   "cell_type": "code",
   "execution_count": null,
   "metadata": {},
   "outputs": [],
   "source": []
  },
  {
   "cell_type": "code",
   "execution_count": null,
   "metadata": {},
   "outputs": [],
   "source": []
  },
  {
   "cell_type": "code",
   "execution_count": null,
   "metadata": {},
   "outputs": [],
   "source": []
  },
  {
   "cell_type": "code",
   "execution_count": null,
   "metadata": {},
   "outputs": [],
   "source": []
  }
 ],
 "metadata": {
  "celltoolbar": "Tags",
  "kernelspec": {
   "display_name": "Python 3 (ipykernel)",
   "language": "python",
   "name": "python3"
  },
  "language_info": {
   "codemirror_mode": {
    "name": "ipython",
    "version": 3
   },
   "file_extension": ".py",
   "mimetype": "text/x-python",
   "name": "python",
   "nbconvert_exporter": "python",
   "pygments_lexer": "ipython3",
   "version": "3.12.0"
  },
  "toc-autonumbering": false,
  "toc-showmarkdowntxt": false
 },
 "nbformat": 4,
 "nbformat_minor": 4
}
