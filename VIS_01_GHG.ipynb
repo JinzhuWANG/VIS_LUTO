{
 "cells": [
  {
   "cell_type": "code",
   "execution_count": null,
   "metadata": {},
   "outputs": [],
   "source": []
  },
  {
   "cell_type": "markdown",
   "metadata": {},
   "source": [
    "# The Greenhouse Gas (GHS) emissions"
   ]
  },
  {
   "cell_type": "code",
   "execution_count": 21,
   "metadata": {
    "tags": [
     "remove-cell"
    ]
   },
   "outputs": [
    {
     "name": "stdout",
     "output_type": "stream",
     "text": [
      "The autoreload extension is already loaded. To reload it, use:\n",
      "  %reload_ext autoreload\n"
     ]
    }
   ],
   "source": [
    "# HIDDEN\n",
    "%load_ext autoreload\n",
    "%autoreload 2"
   ]
  },
  {
   "cell_type": "code",
   "execution_count": null,
   "metadata": {},
   "outputs": [],
   "source": []
  },
  {
   "cell_type": "markdown",
   "metadata": {},
   "source": [
    "## Get GHG emission from agricultural land-use"
   ]
  },
  {
   "cell_type": "code",
   "execution_count": 22,
   "metadata": {
    "tags": [
     "remove-cell"
    ]
   },
   "outputs": [],
   "source": [
    "# HIDDEN\n",
    "import altair as alt\n",
    "\n",
    "from tools import get_all_files, get_GHG_file_df\n",
    "from tools.Plot_GHG import get_GHG_plots"
   ]
  },
  {
   "cell_type": "code",
   "execution_count": null,
   "metadata": {},
   "outputs": [],
   "source": []
  },
  {
   "cell_type": "markdown",
   "metadata": {},
   "source": [
    "## Data preparing"
   ]
  },
  {
   "cell_type": "code",
   "execution_count": null,
   "metadata": {},
   "outputs": [],
   "source": []
  },
  {
   "cell_type": "code",
   "execution_count": 44,
   "metadata": {
    "tags": [
     "remove-cell",
     "hide-input"
    ]
   },
   "outputs": [
    {
     "name": "stdout",
     "output_type": "stream",
     "text": [
      "['GHG' 'dvar' 'ammap' 'lmmap' 'lumap_separate_Agricultural Land-use'\n",
      " 'lumap_separate_Non-Agricultural Land-use' 'lumap' 'water' 'cross_table'\n",
      " 'quantity'] \n",
      "\n"
     ]
    }
   ],
   "source": [
    "# HIDE CODE\n",
    "# Get all output files\n",
    "from PARAMETERS import DATA_ROOT\n",
    "files = get_all_files(DATA_ROOT)\n",
    "\n",
    "\n",
    "# Select files based on criteria\n",
    "files_selc = files.query('year <= 2050')\n",
    "print(files_selc['catetory'].unique(),'\\n')"
   ]
  },
  {
   "cell_type": "code",
   "execution_count": null,
   "metadata": {},
   "outputs": [],
   "source": []
  },
  {
   "cell_type": "markdown",
   "metadata": {},
   "source": [
    "Filter the GHG data"
   ]
  },
  {
   "cell_type": "code",
   "execution_count": 24,
   "metadata": {
    "tags": [
     "remove-input"
    ]
   },
   "outputs": [
    {
     "data": {
      "text/html": [
       "<div>\n",
       "<style scoped>\n",
       "    .dataframe tbody tr th:only-of-type {\n",
       "        vertical-align: middle;\n",
       "    }\n",
       "\n",
       "    .dataframe tbody tr th {\n",
       "        vertical-align: top;\n",
       "    }\n",
       "\n",
       "    .dataframe thead th {\n",
       "        text-align: right;\n",
       "    }\n",
       "</style>\n",
       "<table border=\"1\" class=\"dataframe\">\n",
       "  <thead>\n",
       "    <tr style=\"text-align: right;\">\n",
       "      <th></th>\n",
       "      <th>year</th>\n",
       "      <th>catetory</th>\n",
       "      <th>base_name</th>\n",
       "      <th>base_ext</th>\n",
       "      <th>path</th>\n",
       "      <th>GHG_sum_t</th>\n",
       "      <th>GHG_sum_Mt</th>\n",
       "    </tr>\n",
       "  </thead>\n",
       "  <tbody>\n",
       "    <tr>\n",
       "      <th>2</th>\n",
       "      <td>2010</td>\n",
       "      <td>GHG</td>\n",
       "      <td>Non-Agricultural Landuse</td>\n",
       "      <td>.csv</td>\n",
       "      <td>/home/docker_data/LUTO_DATA/2023_11_21__05_26_...</td>\n",
       "      <td>-107778.2</td>\n",
       "      <td>-0.107778</td>\n",
       "    </tr>\n",
       "    <tr>\n",
       "      <th>1</th>\n",
       "      <td>2010</td>\n",
       "      <td>GHG</td>\n",
       "      <td>Agricultural Management</td>\n",
       "      <td>.csv</td>\n",
       "      <td>/home/docker_data/LUTO_DATA/2023_11_21__05_26_...</td>\n",
       "      <td>0.0</td>\n",
       "      <td>0.000000</td>\n",
       "    </tr>\n",
       "    <tr>\n",
       "      <th>3</th>\n",
       "      <td>2010</td>\n",
       "      <td>GHG</td>\n",
       "      <td>Transition Penalty</td>\n",
       "      <td>.csv</td>\n",
       "      <td>/home/docker_data/LUTO_DATA/2023_11_21__05_26_...</td>\n",
       "      <td>0.0</td>\n",
       "      <td>0.000000</td>\n",
       "    </tr>\n",
       "  </tbody>\n",
       "</table>\n",
       "</div>"
      ],
      "text/plain": [
       "   year catetory                 base_name base_ext  \\\n",
       "2  2010      GHG  Non-Agricultural Landuse     .csv   \n",
       "1  2010      GHG   Agricultural Management     .csv   \n",
       "3  2010      GHG        Transition Penalty     .csv   \n",
       "\n",
       "                                                path  GHG_sum_t  GHG_sum_Mt  \n",
       "2  /home/docker_data/LUTO_DATA/2023_11_21__05_26_...  -107778.2   -0.107778  \n",
       "1  /home/docker_data/LUTO_DATA/2023_11_21__05_26_...        0.0    0.000000  \n",
       "3  /home/docker_data/LUTO_DATA/2023_11_21__05_26_...        0.0    0.000000  "
      ]
     },
     "execution_count": 24,
     "metadata": {},
     "output_type": "execute_result"
    }
   ],
   "source": [
    "# NO CODE\n",
    "# Get the GHG files\n",
    "GHG_files = get_GHG_file_df(files_selc)\n",
    "GHG_files = GHG_files.reset_index(drop=True).sort_values(['year','GHG_sum_t'])\n",
    "GHG_files['GHG_sum_Mt'] = GHG_files['GHG_sum_t'] / 1e6\n",
    "GHG_files.head(3)"
   ]
  },
  {
   "cell_type": "code",
   "execution_count": null,
   "metadata": {},
   "outputs": [],
   "source": []
  },
  {
   "cell_type": "markdown",
   "metadata": {},
   "source": [
    "Calculate the net emissions"
   ]
  },
  {
   "cell_type": "code",
   "execution_count": 49,
   "metadata": {
    "tags": [
     "remove-cell"
    ]
   },
   "outputs": [
    {
     "data": {
      "text/html": [
       "<div>\n",
       "<style scoped>\n",
       "    .dataframe tbody tr th:only-of-type {\n",
       "        vertical-align: middle;\n",
       "    }\n",
       "\n",
       "    .dataframe tbody tr th {\n",
       "        vertical-align: top;\n",
       "    }\n",
       "\n",
       "    .dataframe thead th {\n",
       "        text-align: right;\n",
       "    }\n",
       "</style>\n",
       "<table border=\"1\" class=\"dataframe\">\n",
       "  <thead>\n",
       "    <tr style=\"text-align: right;\">\n",
       "      <th></th>\n",
       "      <th>year</th>\n",
       "      <th>Net_emission</th>\n",
       "      <th>Net_emission_cum</th>\n",
       "    </tr>\n",
       "  </thead>\n",
       "  <tbody>\n",
       "    <tr>\n",
       "      <th>0</th>\n",
       "      <td>2010</td>\n",
       "      <td>90.404125</td>\n",
       "      <td>90.404125</td>\n",
       "    </tr>\n",
       "    <tr>\n",
       "      <th>1</th>\n",
       "      <td>2011</td>\n",
       "      <td>79.323406</td>\n",
       "      <td>169.727530</td>\n",
       "    </tr>\n",
       "    <tr>\n",
       "      <th>2</th>\n",
       "      <td>2012</td>\n",
       "      <td>68.648003</td>\n",
       "      <td>238.375533</td>\n",
       "    </tr>\n",
       "  </tbody>\n",
       "</table>\n",
       "</div>"
      ],
      "text/plain": [
       "   year  Net_emission  Net_emission_cum\n",
       "0  2010     90.404125         90.404125\n",
       "1  2011     79.323406        169.727530\n",
       "2  2012     68.648003        238.375533"
      ]
     },
     "execution_count": 49,
     "metadata": {},
     "output_type": "execute_result"
    }
   ],
   "source": [
    "# HIDDEN\n",
    "# Calculate the net emissions\n",
    "Net_emission = GHG_files.groupby('year')['GHG_sum_Mt'].sum(numeric_only = True).reset_index()\n",
    "Net_emission = Net_emission.rename(columns={'GHG_sum_Mt':'Net_emission'})\n",
    "\n",
    "Net_emission['Net_emission_cum'] = Net_emission['Net_emission'].cumsum()\n",
    "Net_emission.head(3)"
   ]
  },
  {
   "cell_type": "code",
   "execution_count": null,
   "metadata": {},
   "outputs": [],
   "source": []
  },
  {
   "cell_type": "markdown",
   "metadata": {
    "tags": []
   },
   "source": [
    "## Total GHG emissions across years"
   ]
  },
  {
   "cell_type": "code",
   "execution_count": null,
   "metadata": {},
   "outputs": [],
   "source": []
  },
  {
   "cell_type": "code",
   "execution_count": 121,
   "metadata": {
    "tags": [
     "hide-input"
    ]
   },
   "outputs": [
    {
     "data": {
      "text/html": [
       "\n",
       "<style>\n",
       "  #altair-viz-74e5be0ef50740b885ba224680fd9c48.vega-embed {\n",
       "    width: 100%;\n",
       "    display: flex;\n",
       "  }\n",
       "\n",
       "  #altair-viz-74e5be0ef50740b885ba224680fd9c48.vega-embed details,\n",
       "  #altair-viz-74e5be0ef50740b885ba224680fd9c48.vega-embed details summary {\n",
       "    position: relative;\n",
       "  }\n",
       "</style>\n",
       "<div id=\"altair-viz-74e5be0ef50740b885ba224680fd9c48\"></div>\n",
       "<script type=\"text/javascript\">\n",
       "  var VEGA_DEBUG = (typeof VEGA_DEBUG == \"undefined\") ? {} : VEGA_DEBUG;\n",
       "  (function(spec, embedOpt){\n",
       "    let outputDiv = document.currentScript.previousElementSibling;\n",
       "    if (outputDiv.id !== \"altair-viz-74e5be0ef50740b885ba224680fd9c48\") {\n",
       "      outputDiv = document.getElementById(\"altair-viz-74e5be0ef50740b885ba224680fd9c48\");\n",
       "    }\n",
       "    const paths = {\n",
       "      \"vega\": \"https://cdn.jsdelivr.net/npm/vega@5?noext\",\n",
       "      \"vega-lib\": \"https://cdn.jsdelivr.net/npm/vega-lib?noext\",\n",
       "      \"vega-lite\": \"https://cdn.jsdelivr.net/npm/vega-lite@5.15.1?noext\",\n",
       "      \"vega-embed\": \"https://cdn.jsdelivr.net/npm/vega-embed@6?noext\",\n",
       "    };\n",
       "\n",
       "    function maybeLoadScript(lib, version) {\n",
       "      var key = `${lib.replace(\"-\", \"\")}_version`;\n",
       "      return (VEGA_DEBUG[key] == version) ?\n",
       "        Promise.resolve(paths[lib]) :\n",
       "        new Promise(function(resolve, reject) {\n",
       "          var s = document.createElement('script');\n",
       "          document.getElementsByTagName(\"head\")[0].appendChild(s);\n",
       "          s.async = true;\n",
       "          s.onload = () => {\n",
       "            VEGA_DEBUG[key] = version;\n",
       "            return resolve(paths[lib]);\n",
       "          };\n",
       "          s.onerror = () => reject(`Error loading script: ${paths[lib]}`);\n",
       "          s.src = paths[lib];\n",
       "        });\n",
       "    }\n",
       "\n",
       "    function showError(err) {\n",
       "      outputDiv.innerHTML = `<div class=\"error\" style=\"color:red;\">${err}</div>`;\n",
       "      throw err;\n",
       "    }\n",
       "\n",
       "    function displayChart(vegaEmbed) {\n",
       "      vegaEmbed(outputDiv, spec, embedOpt)\n",
       "        .catch(err => showError(`Javascript Error: ${err.message}<br>This usually means there's a typo in your chart specification. See the javascript console for the full traceback.`));\n",
       "    }\n",
       "\n",
       "    if(typeof define === \"function\" && define.amd) {\n",
       "      requirejs.config({paths});\n",
       "      require([\"vega-embed\"], displayChart, err => showError(`Error loading script: ${err.message}`));\n",
       "    } else {\n",
       "      maybeLoadScript(\"vega\", \"5\")\n",
       "        .then(() => maybeLoadScript(\"vega-lite\", \"5.15.1\"))\n",
       "        .then(() => maybeLoadScript(\"vega-embed\", \"6\"))\n",
       "        .catch(showError)\n",
       "        .then(() => displayChart(vegaEmbed));\n",
       "    }\n",
       "  })({\"config\": {\"view\": {\"continuousWidth\": 300, \"continuousHeight\": 300}}, \"layer\": [{\"data\": {\"name\": \"data-4b6d0cb2f9784ad26ad0948327d7c43f\"}, \"mark\": {\"type\": \"bar\", \"color\": \"grey\", \"opacity\": 0.2}, \"encoding\": {\"color\": {\"field\": \"Cumulative_emissions\", \"legend\": {\"direction\": \"vertical\", \"legendX\": 810, \"legendY\": 270, \"orient\": \"none\", \"title\": null, \"titleAnchor\": \"middle\"}, \"scale\": {\"range\": [\"#181818\"]}, \"type\": \"nominal\"}, \"tooltip\": [{\"field\": \"Net_emission_cum\", \"title\": \"Cumulative Quantity (Mt CO2e)\", \"type\": \"quantitative\"}], \"x\": {\"field\": \"year\", \"type\": \"ordinal\"}, \"y\": {\"field\": \"Net_emission_cum\", \"title\": \"Emissions (Mt CO2e)\", \"type\": \"quantitative\"}}, \"transform\": [{\"calculate\": \"datum.year > 0 ? \\\"Cumulative emissions\\\" : \\\"Cumulative emissions\\\"\", \"as\": \"Cumulative_emissions\"}]}, {\"data\": {\"name\": \"data-f0d8317f349d1e46587e82832a7b3755\"}, \"mark\": {\"type\": \"bar\"}, \"encoding\": {\"color\": {\"field\": \"base_name\", \"legend\": {\"direction\": \"vertical\", \"legendX\": 810, \"legendY\": 200, \"orient\": \"none\", \"title\": null, \"titleAnchor\": \"middle\"}, \"type\": \"nominal\"}, \"tooltip\": [{\"field\": \"base_name\", \"title\": \"GHG Category\", \"type\": \"nominal\"}, {\"field\": \"GHG_sum_Mt\", \"title\": \"Emissions (Mt CO2e)\", \"type\": \"quantitative\"}], \"x\": {\"axis\": {\"labelAngle\": -90, \"title\": \"Year\"}, \"field\": \"year\", \"type\": \"ordinal\"}, \"y\": {\"field\": \"GHG_sum_Mt\", \"title\": \"Emissions (Mt CO2e)\", \"type\": \"quantitative\"}}}, {\"data\": {\"name\": \"data-4b6d0cb2f9784ad26ad0948327d7c43f\"}, \"mark\": {\"type\": \"line\", \"opacity\": 0.7}, \"encoding\": {\"color\": {\"field\": \"Net_emission_color\", \"legend\": {\"direction\": \"vertical\", \"legendX\": 810, \"legendY\": 290, \"orient\": \"none\", \"title\": null, \"titleAnchor\": \"middle\"}, \"type\": \"nominal\"}, \"tooltip\": [{\"field\": \"Net_emission\", \"title\": \"Net Quantity (Mt CO2e)\", \"type\": \"quantitative\"}], \"x\": {\"field\": \"year\", \"type\": \"ordinal\"}, \"y\": {\"field\": \"Net_emission\", \"title\": \"Emissions (Mt CO2e)\", \"type\": \"quantitative\"}}, \"transform\": [{\"calculate\": \"datum.year > 0 ? \\\"Net emissions\\\" : \\\"Net emissions\\\"\", \"as\": \"Net_emission_color\"}]}], \"height\": 450, \"resolve\": {\"scale\": {\"color\": \"independent\"}}, \"width\": 800, \"$schema\": \"https://vega.github.io/schema/vega-lite/v5.15.1.json\", \"datasets\": {\"data-4b6d0cb2f9784ad26ad0948327d7c43f\": [{\"year\": 2010, \"Net_emission\": 90.40412470334977, \"Net_emission_cum\": 90.40412470334977}, {\"year\": 2011, \"Net_emission\": 79.32340563313254, \"Net_emission_cum\": 169.7275303364823}, {\"year\": 2012, \"Net_emission\": 68.64800312662449, \"Net_emission_cum\": 238.37553346310676}, {\"year\": 2013, \"Net_emission\": 57.96252076086512, \"Net_emission_cum\": 296.3380542239719}, {\"year\": 2014, \"Net_emission\": 47.299759102258456, \"Net_emission_cum\": 343.63781332623034}, {\"year\": 2015, \"Net_emission\": 36.6228343785296, \"Net_emission_cum\": 380.26064770475995}, {\"year\": 2016, \"Net_emission\": 25.95000083021639, \"Net_emission_cum\": 406.2106485349763}, {\"year\": 2017, \"Net_emission\": 15.274145479112406, \"Net_emission_cum\": 421.4847940140887}, {\"year\": 2018, \"Net_emission\": 4.598194668198886, \"Net_emission_cum\": 426.0829886822876}, {\"year\": 2019, \"Net_emission\": -6.079420422368912, \"Net_emission_cum\": 420.00356825991867}, {\"year\": 2020, \"Net_emission\": -16.752530995403944, \"Net_emission_cum\": 403.2510372645147}, {\"year\": 2021, \"Net_emission\": -27.42722035969136, \"Net_emission_cum\": 375.82381690482333}, {\"year\": 2022, \"Net_emission\": -38.10219394765426, \"Net_emission_cum\": 337.7216229571691}, {\"year\": 2023, \"Net_emission\": -48.78082489911519, \"Net_emission_cum\": 288.9407980580539}, {\"year\": 2024, \"Net_emission\": -59.45612859597961, \"Net_emission_cum\": 229.48466946207427}, {\"year\": 2025, \"Net_emission\": -70.1262497160447, \"Net_emission_cum\": 159.35841974602957}, {\"year\": 2026, \"Net_emission\": -80.7999947007156, \"Net_emission_cum\": 78.55842504531397}, {\"year\": 2027, \"Net_emission\": -91.47546233233324, \"Net_emission_cum\": -12.91703728701927}, {\"year\": 2028, \"Net_emission\": -102.15897580400558, \"Net_emission_cum\": -115.07601309102485}, {\"year\": 2029, \"Net_emission\": -112.84147330232514, \"Net_emission_cum\": -227.91748639334998}, {\"year\": 2030, \"Net_emission\": -123.50185005926376, \"Net_emission_cum\": -351.4193364526137}, {\"year\": 2031, \"Net_emission\": -134.17725696910225, \"Net_emission_cum\": -485.59659342171597}, {\"year\": 2032, \"Net_emission\": -144.85142197860995, \"Net_emission_cum\": -630.4480154003259}, {\"year\": 2033, \"Net_emission\": -155.52649775605406, \"Net_emission_cum\": -785.9745131563799}, {\"year\": 2034, \"Net_emission\": -166.20108723087571, \"Net_emission_cum\": -952.1756003872556}, {\"year\": 2035, \"Net_emission\": -176.8792511318734, \"Net_emission_cum\": -1129.054851519129}, {\"year\": 2036, \"Net_emission\": -187.5550655497234, \"Net_emission_cum\": -1316.6099170688524}, {\"year\": 2037, \"Net_emission\": -198.22500875736972, \"Net_emission_cum\": -1514.8349258262222}, {\"year\": 2038, \"Net_emission\": -208.90108610868268, \"Net_emission_cum\": -1723.7360119349048}, {\"year\": 2039, \"Net_emission\": -219.58053185894588, \"Net_emission_cum\": -1943.3165437938508}, {\"year\": 2040, \"Net_emission\": -230.1851692501839, \"Net_emission_cum\": -2173.5017130440347}, {\"year\": 2041, \"Net_emission\": -240.8607589767014, \"Net_emission_cum\": -2414.3624720207363}, {\"year\": 2042, \"Net_emission\": -251.544309925223, \"Net_emission_cum\": -2665.906781945959}, {\"year\": 2043, \"Net_emission\": -262.21287873713703, \"Net_emission_cum\": -2928.1196606830963}, {\"year\": 2044, \"Net_emission\": -272.88975297683345, \"Net_emission_cum\": -3201.0094136599296}, {\"year\": 2045, \"Net_emission\": -283.5646719967681, \"Net_emission_cum\": -3484.5740856566977}, {\"year\": 2046, \"Net_emission\": -294.236036359045, \"Net_emission_cum\": -3778.8101220157428}, {\"year\": 2047, \"Net_emission\": -304.9182902208882, \"Net_emission_cum\": -4083.728412236631}, {\"year\": 2048, \"Net_emission\": -315.5884633121424, \"Net_emission_cum\": -4399.316875548773}, {\"year\": 2049, \"Net_emission\": -326.2690728020837, \"Net_emission_cum\": -4725.585948350857}, {\"year\": 2050, \"Net_emission\": -336.9499100396637, \"Net_emission_cum\": -5062.53585839052}], \"data-f0d8317f349d1e46587e82832a7b3755\": [{\"year\": 2010, \"catetory\": \"GHG\", \"base_name\": \"Non-Agricultural Landuse\", \"base_ext\": \".csv\", \"path\": \"/home/docker_data/LUTO_DATA/2023_11_21__05_26_04__hard_mincost_RF5_P1e5_2010-2050_timeseries_-337Mt/out_2010/GHG_emissions_separate_no_ag_reduction.csv\", \"GHG_sum_t\": -107778.2, \"GHG_sum_Mt\": -0.10777819999999999}, {\"year\": 2010, \"catetory\": \"GHG\", \"base_name\": \"Agricultural Management\", \"base_ext\": \".csv\", \"path\": \"/home/docker_data/LUTO_DATA/2023_11_21__05_26_04__hard_mincost_RF5_P1e5_2010-2050_timeseries_-337Mt/out_2010/GHG_emissions_separate_agricultural_management.csv\", \"GHG_sum_t\": 0.0, \"GHG_sum_Mt\": 0.0}, {\"year\": 2010, \"catetory\": \"GHG\", \"base_name\": \"Transition Penalty\", \"base_ext\": \".csv\", \"path\": \"/home/docker_data/LUTO_DATA/2023_11_21__05_26_04__hard_mincost_RF5_P1e5_2010-2050_timeseries_-337Mt/out_2010/GHG_emissions_separate_transition_penalty.csv\", \"GHG_sum_t\": 0.0, \"GHG_sum_Mt\": 0.0}, {\"year\": 2010, \"catetory\": \"GHG\", \"base_name\": \"Agricultural Landuse\", \"base_ext\": \".csv\", \"path\": \"/home/docker_data/LUTO_DATA/2023_11_21__05_26_04__hard_mincost_RF5_P1e5_2010-2050_timeseries_-337Mt/out_2010/GHG_emissions_separate_agricultural_landuse.csv\", \"GHG_sum_t\": 90511902.90334976, \"GHG_sum_Mt\": 90.51190290334976}, {\"year\": 2011, \"catetory\": \"GHG\", \"base_name\": \"Non-Agricultural Landuse\", \"base_ext\": \".csv\", \"path\": \"/home/docker_data/LUTO_DATA/2023_11_21__05_26_04__hard_mincost_RF5_P1e5_2010-2050_timeseries_-337Mt/out_2011/GHG_emissions_separate_no_ag_reduction.csv\", \"GHG_sum_t\": -8273422.0, \"GHG_sum_Mt\": -8.273422}, {\"year\": 2011, \"catetory\": \"GHG\", \"base_name\": \"Agricultural Management\", \"base_ext\": \".csv\", \"path\": \"/home/docker_data/LUTO_DATA/2023_11_21__05_26_04__hard_mincost_RF5_P1e5_2010-2050_timeseries_-337Mt/out_2011/GHG_emissions_separate_agricultural_management.csv\", \"GHG_sum_t\": -1737981.2, \"GHG_sum_Mt\": -1.7379812}, {\"year\": 2011, \"catetory\": \"GHG\", \"base_name\": \"Transition Penalty\", \"base_ext\": \".csv\", \"path\": \"/home/docker_data/LUTO_DATA/2023_11_21__05_26_04__hard_mincost_RF5_P1e5_2010-2050_timeseries_-337Mt/out_2011/GHG_emissions_separate_transition_penalty.csv\", \"GHG_sum_t\": 0.0, \"GHG_sum_Mt\": 0.0}, {\"year\": 2011, \"catetory\": \"GHG\", \"base_name\": \"Agricultural Landuse\", \"base_ext\": \".csv\", \"path\": \"/home/docker_data/LUTO_DATA/2023_11_21__05_26_04__hard_mincost_RF5_P1e5_2010-2050_timeseries_-337Mt/out_2011/GHG_emissions_separate_agricultural_landuse.csv\", \"GHG_sum_t\": 89334808.83313254, \"GHG_sum_Mt\": 89.33480883313254}, {\"year\": 2012, \"catetory\": \"GHG\", \"base_name\": \"Non-Agricultural Landuse\", \"base_ext\": \".csv\", \"path\": \"/home/docker_data/LUTO_DATA/2023_11_21__05_26_04__hard_mincost_RF5_P1e5_2010-2050_timeseries_-337Mt/out_2012/GHG_emissions_separate_no_ag_reduction.csv\", \"GHG_sum_t\": -18029216.0, \"GHG_sum_Mt\": -18.029216}, {\"year\": 2012, \"catetory\": \"GHG\", \"base_name\": \"Agricultural Management\", \"base_ext\": \".csv\", \"path\": \"/home/docker_data/LUTO_DATA/2023_11_21__05_26_04__hard_mincost_RF5_P1e5_2010-2050_timeseries_-337Mt/out_2012/GHG_emissions_separate_agricultural_management.csv\", \"GHG_sum_t\": -2679200.2, \"GHG_sum_Mt\": -2.6792002000000004}, {\"year\": 2012, \"catetory\": \"GHG\", \"base_name\": \"Transition Penalty\", \"base_ext\": \".csv\", \"path\": \"/home/docker_data/LUTO_DATA/2023_11_21__05_26_04__hard_mincost_RF5_P1e5_2010-2050_timeseries_-337Mt/out_2012/GHG_emissions_separate_transition_penalty.csv\", \"GHG_sum_t\": 0.0, \"GHG_sum_Mt\": 0.0}, {\"year\": 2012, \"catetory\": \"GHG\", \"base_name\": \"Agricultural Landuse\", \"base_ext\": \".csv\", \"path\": \"/home/docker_data/LUTO_DATA/2023_11_21__05_26_04__hard_mincost_RF5_P1e5_2010-2050_timeseries_-337Mt/out_2012/GHG_emissions_separate_agricultural_landuse.csv\", \"GHG_sum_t\": 89356419.32662448, \"GHG_sum_Mt\": 89.35641932662449}, {\"year\": 2013, \"catetory\": \"GHG\", \"base_name\": \"Non-Agricultural Landuse\", \"base_ext\": \".csv\", \"path\": \"/home/docker_data/LUTO_DATA/2023_11_21__05_26_04__hard_mincost_RF5_P1e5_2010-2050_timeseries_-337Mt/out_2013/GHG_emissions_separate_no_ag_reduction.csv\", \"GHG_sum_t\": -27828004.0, \"GHG_sum_Mt\": -27.828004}, {\"year\": 2013, \"catetory\": \"GHG\", \"base_name\": \"Agricultural Management\", \"base_ext\": \".csv\", \"path\": \"/home/docker_data/LUTO_DATA/2023_11_21__05_26_04__hard_mincost_RF5_P1e5_2010-2050_timeseries_-337Mt/out_2013/GHG_emissions_separate_agricultural_management.csv\", \"GHG_sum_t\": -3417735.2, \"GHG_sum_Mt\": -3.4177352}, {\"year\": 2013, \"catetory\": \"GHG\", \"base_name\": \"Transition Penalty\", \"base_ext\": \".csv\", \"path\": \"/home/docker_data/LUTO_DATA/2023_11_21__05_26_04__hard_mincost_RF5_P1e5_2010-2050_timeseries_-337Mt/out_2013/GHG_emissions_separate_transition_penalty.csv\", \"GHG_sum_t\": 0.0, \"GHG_sum_Mt\": 0.0}, {\"year\": 2013, \"catetory\": \"GHG\", \"base_name\": \"Agricultural Landuse\", \"base_ext\": \".csv\", \"path\": \"/home/docker_data/LUTO_DATA/2023_11_21__05_26_04__hard_mincost_RF5_P1e5_2010-2050_timeseries_-337Mt/out_2013/GHG_emissions_separate_agricultural_landuse.csv\", \"GHG_sum_t\": 89208259.96086513, \"GHG_sum_Mt\": 89.20825996086512}, {\"year\": 2014, \"catetory\": \"GHG\", \"base_name\": \"Non-Agricultural Landuse\", \"base_ext\": \".csv\", \"path\": \"/home/docker_data/LUTO_DATA/2023_11_21__05_26_04__hard_mincost_RF5_P1e5_2010-2050_timeseries_-337Mt/out_2014/GHG_emissions_separate_no_ag_reduction.csv\", \"GHG_sum_t\": -37684548.0, \"GHG_sum_Mt\": -37.684548}, {\"year\": 2014, \"catetory\": \"GHG\", \"base_name\": \"Agricultural Management\", \"base_ext\": \".csv\", \"path\": \"/home/docker_data/LUTO_DATA/2023_11_21__05_26_04__hard_mincost_RF5_P1e5_2010-2050_timeseries_-337Mt/out_2014/GHG_emissions_separate_agricultural_management.csv\", \"GHG_sum_t\": -4085506.2, \"GHG_sum_Mt\": -4.0855062}, {\"year\": 2014, \"catetory\": \"GHG\", \"base_name\": \"Transition Penalty\", \"base_ext\": \".csv\", \"path\": \"/home/docker_data/LUTO_DATA/2023_11_21__05_26_04__hard_mincost_RF5_P1e5_2010-2050_timeseries_-337Mt/out_2014/GHG_emissions_separate_transition_penalty.csv\", \"GHG_sum_t\": 0.0, \"GHG_sum_Mt\": 0.0}, {\"year\": 2014, \"catetory\": \"GHG\", \"base_name\": \"Agricultural Landuse\", \"base_ext\": \".csv\", \"path\": \"/home/docker_data/LUTO_DATA/2023_11_21__05_26_04__hard_mincost_RF5_P1e5_2010-2050_timeseries_-337Mt/out_2014/GHG_emissions_separate_agricultural_landuse.csv\", \"GHG_sum_t\": 89069813.30225845, \"GHG_sum_Mt\": 89.06981330225845}, {\"year\": 2015, \"catetory\": \"GHG\", \"base_name\": \"Non-Agricultural Landuse\", \"base_ext\": \".csv\", \"path\": \"/home/docker_data/LUTO_DATA/2023_11_21__05_26_04__hard_mincost_RF5_P1e5_2010-2050_timeseries_-337Mt/out_2015/GHG_emissions_separate_no_ag_reduction.csv\", \"GHG_sum_t\": -47690070.0, \"GHG_sum_Mt\": -47.69007}, {\"year\": 2015, \"catetory\": \"GHG\", \"base_name\": \"Agricultural Management\", \"base_ext\": \".csv\", \"path\": \"/home/docker_data/LUTO_DATA/2023_11_21__05_26_04__hard_mincost_RF5_P1e5_2010-2050_timeseries_-337Mt/out_2015/GHG_emissions_separate_agricultural_management.csv\", \"GHG_sum_t\": -4649849.0, \"GHG_sum_Mt\": -4.649849}, {\"year\": 2015, \"catetory\": \"GHG\", \"base_name\": \"Transition Penalty\", \"base_ext\": \".csv\", \"path\": \"/home/docker_data/LUTO_DATA/2023_11_21__05_26_04__hard_mincost_RF5_P1e5_2010-2050_timeseries_-337Mt/out_2015/GHG_emissions_separate_transition_penalty.csv\", \"GHG_sum_t\": 0.0, \"GHG_sum_Mt\": 0.0}, {\"year\": 2015, \"catetory\": \"GHG\", \"base_name\": \"Agricultural Landuse\", \"base_ext\": \".csv\", \"path\": \"/home/docker_data/LUTO_DATA/2023_11_21__05_26_04__hard_mincost_RF5_P1e5_2010-2050_timeseries_-337Mt/out_2015/GHG_emissions_separate_agricultural_landuse.csv\", \"GHG_sum_t\": 88962753.3785296, \"GHG_sum_Mt\": 88.9627533785296}, {\"year\": 2016, \"catetory\": \"GHG\", \"base_name\": \"Non-Agricultural Landuse\", \"base_ext\": \".csv\", \"path\": \"/home/docker_data/LUTO_DATA/2023_11_21__05_26_04__hard_mincost_RF5_P1e5_2010-2050_timeseries_-337Mt/out_2016/GHG_emissions_separate_no_ag_reduction.csv\", \"GHG_sum_t\": -57810372.0, \"GHG_sum_Mt\": -57.810372}, {\"year\": 2016, \"catetory\": \"GHG\", \"base_name\": \"Agricultural Management\", \"base_ext\": \".csv\", \"path\": \"/home/docker_data/LUTO_DATA/2023_11_21__05_26_04__hard_mincost_RF5_P1e5_2010-2050_timeseries_-337Mt/out_2016/GHG_emissions_separate_agricultural_management.csv\", \"GHG_sum_t\": -5055552.5, \"GHG_sum_Mt\": -5.0555525}, {\"year\": 2016, \"catetory\": \"GHG\", \"base_name\": \"Transition Penalty\", \"base_ext\": \".csv\", \"path\": \"/home/docker_data/LUTO_DATA/2023_11_21__05_26_04__hard_mincost_RF5_P1e5_2010-2050_timeseries_-337Mt/out_2016/GHG_emissions_separate_transition_penalty.csv\", \"GHG_sum_t\": 0.0, \"GHG_sum_Mt\": 0.0}, {\"year\": 2016, \"catetory\": \"GHG\", \"base_name\": \"Agricultural Landuse\", \"base_ext\": \".csv\", \"path\": \"/home/docker_data/LUTO_DATA/2023_11_21__05_26_04__hard_mincost_RF5_P1e5_2010-2050_timeseries_-337Mt/out_2016/GHG_emissions_separate_agricultural_landuse.csv\", \"GHG_sum_t\": 88815925.3302164, \"GHG_sum_Mt\": 88.81592533021639}, {\"year\": 2017, \"catetory\": \"GHG\", \"base_name\": \"Non-Agricultural Landuse\", \"base_ext\": \".csv\", \"path\": \"/home/docker_data/LUTO_DATA/2023_11_21__05_26_04__hard_mincost_RF5_P1e5_2010-2050_timeseries_-337Mt/out_2017/GHG_emissions_separate_no_ag_reduction.csv\", \"GHG_sum_t\": -68105496.0, \"GHG_sum_Mt\": -68.105496}, {\"year\": 2017, \"catetory\": \"GHG\", \"base_name\": \"Agricultural Management\", \"base_ext\": \".csv\", \"path\": \"/home/docker_data/LUTO_DATA/2023_11_21__05_26_04__hard_mincost_RF5_P1e5_2010-2050_timeseries_-337Mt/out_2017/GHG_emissions_separate_agricultural_management.csv\", \"GHG_sum_t\": -5213839.0, \"GHG_sum_Mt\": -5.213839}, {\"year\": 2017, \"catetory\": \"GHG\", \"base_name\": \"Transition Penalty\", \"base_ext\": \".csv\", \"path\": \"/home/docker_data/LUTO_DATA/2023_11_21__05_26_04__hard_mincost_RF5_P1e5_2010-2050_timeseries_-337Mt/out_2017/GHG_emissions_separate_transition_penalty.csv\", \"GHG_sum_t\": 0.0, \"GHG_sum_Mt\": 0.0}, {\"year\": 2017, \"catetory\": \"GHG\", \"base_name\": \"Agricultural Landuse\", \"base_ext\": \".csv\", \"path\": \"/home/docker_data/LUTO_DATA/2023_11_21__05_26_04__hard_mincost_RF5_P1e5_2010-2050_timeseries_-337Mt/out_2017/GHG_emissions_separate_agricultural_landuse.csv\", \"GHG_sum_t\": 88593480.47911242, \"GHG_sum_Mt\": 88.59348047911242}, {\"year\": 2018, \"catetory\": \"GHG\", \"base_name\": \"Non-Agricultural Landuse\", \"base_ext\": \".csv\", \"path\": \"/home/docker_data/LUTO_DATA/2023_11_21__05_26_04__hard_mincost_RF5_P1e5_2010-2050_timeseries_-337Mt/out_2018/GHG_emissions_separate_no_ag_reduction.csv\", \"GHG_sum_t\": -78365390.0, \"GHG_sum_Mt\": -78.36539}, {\"year\": 2018, \"catetory\": \"GHG\", \"base_name\": \"Agricultural Management\", \"base_ext\": \".csv\", \"path\": \"/home/docker_data/LUTO_DATA/2023_11_21__05_26_04__hard_mincost_RF5_P1e5_2010-2050_timeseries_-337Mt/out_2018/GHG_emissions_separate_agricultural_management.csv\", \"GHG_sum_t\": -5388347.0, \"GHG_sum_Mt\": -5.388347}, {\"year\": 2018, \"catetory\": \"GHG\", \"base_name\": \"Transition Penalty\", \"base_ext\": \".csv\", \"path\": \"/home/docker_data/LUTO_DATA/2023_11_21__05_26_04__hard_mincost_RF5_P1e5_2010-2050_timeseries_-337Mt/out_2018/GHG_emissions_separate_transition_penalty.csv\", \"GHG_sum_t\": 0.0, \"GHG_sum_Mt\": 0.0}, {\"year\": 2018, \"catetory\": \"GHG\", \"base_name\": \"Agricultural Landuse\", \"base_ext\": \".csv\", \"path\": \"/home/docker_data/LUTO_DATA/2023_11_21__05_26_04__hard_mincost_RF5_P1e5_2010-2050_timeseries_-337Mt/out_2018/GHG_emissions_separate_agricultural_landuse.csv\", \"GHG_sum_t\": 88351931.66819888, \"GHG_sum_Mt\": 88.35193166819889}, {\"year\": 2019, \"catetory\": \"GHG\", \"base_name\": \"Non-Agricultural Landuse\", \"base_ext\": \".csv\", \"path\": \"/home/docker_data/LUTO_DATA/2023_11_21__05_26_04__hard_mincost_RF5_P1e5_2010-2050_timeseries_-337Mt/out_2019/GHG_emissions_separate_no_ag_reduction.csv\", \"GHG_sum_t\": -88625050.0, \"GHG_sum_Mt\": -88.62505}, {\"year\": 2019, \"catetory\": \"GHG\", \"base_name\": \"Agricultural Management\", \"base_ext\": \".csv\", \"path\": \"/home/docker_data/LUTO_DATA/2023_11_21__05_26_04__hard_mincost_RF5_P1e5_2010-2050_timeseries_-337Mt/out_2019/GHG_emissions_separate_agricultural_management.csv\", \"GHG_sum_t\": -5560613.0, \"GHG_sum_Mt\": -5.560613}, {\"year\": 2019, \"catetory\": \"GHG\", \"base_name\": \"Transition Penalty\", \"base_ext\": \".csv\", \"path\": \"/home/docker_data/LUTO_DATA/2023_11_21__05_26_04__hard_mincost_RF5_P1e5_2010-2050_timeseries_-337Mt/out_2019/GHG_emissions_separate_transition_penalty.csv\", \"GHG_sum_t\": 0.0, \"GHG_sum_Mt\": 0.0}, {\"year\": 2019, \"catetory\": \"GHG\", \"base_name\": \"Agricultural Landuse\", \"base_ext\": \".csv\", \"path\": \"/home/docker_data/LUTO_DATA/2023_11_21__05_26_04__hard_mincost_RF5_P1e5_2010-2050_timeseries_-337Mt/out_2019/GHG_emissions_separate_agricultural_landuse.csv\", \"GHG_sum_t\": 88106242.57763109, \"GHG_sum_Mt\": 88.1062425776311}, {\"year\": 2020, \"catetory\": \"GHG\", \"base_name\": \"Non-Agricultural Landuse\", \"base_ext\": \".csv\", \"path\": \"/home/docker_data/LUTO_DATA/2023_11_21__05_26_04__hard_mincost_RF5_P1e5_2010-2050_timeseries_-337Mt/out_2020/GHG_emissions_separate_no_ag_reduction.csv\", \"GHG_sum_t\": -99037576.0, \"GHG_sum_Mt\": -99.037576}, {\"year\": 2020, \"catetory\": \"GHG\", \"base_name\": \"Agricultural Management\", \"base_ext\": \".csv\", \"path\": \"/home/docker_data/LUTO_DATA/2023_11_21__05_26_04__hard_mincost_RF5_P1e5_2010-2050_timeseries_-337Mt/out_2020/GHG_emissions_separate_agricultural_management.csv\", \"GHG_sum_t\": -5578097.5, \"GHG_sum_Mt\": -5.5780975}, {\"year\": 2020, \"catetory\": \"GHG\", \"base_name\": \"Transition Penalty\", \"base_ext\": \".csv\", \"path\": \"/home/docker_data/LUTO_DATA/2023_11_21__05_26_04__hard_mincost_RF5_P1e5_2010-2050_timeseries_-337Mt/out_2020/GHG_emissions_separate_transition_penalty.csv\", \"GHG_sum_t\": 0.0, \"GHG_sum_Mt\": 0.0}, {\"year\": 2020, \"catetory\": \"GHG\", \"base_name\": \"Agricultural Landuse\", \"base_ext\": \".csv\", \"path\": \"/home/docker_data/LUTO_DATA/2023_11_21__05_26_04__hard_mincost_RF5_P1e5_2010-2050_timeseries_-337Mt/out_2020/GHG_emissions_separate_agricultural_landuse.csv\", \"GHG_sum_t\": 87863142.50459605, \"GHG_sum_Mt\": 87.86314250459606}, {\"year\": 2021, \"catetory\": \"GHG\", \"base_name\": \"Non-Agricultural Landuse\", \"base_ext\": \".csv\", \"path\": \"/home/docker_data/LUTO_DATA/2023_11_21__05_26_04__hard_mincost_RF5_P1e5_2010-2050_timeseries_-337Mt/out_2021/GHG_emissions_separate_no_ag_reduction.csv\", \"GHG_sum_t\": -109391340.0, \"GHG_sum_Mt\": -109.39134}, {\"year\": 2021, \"catetory\": \"GHG\", \"base_name\": \"Agricultural Management\", \"base_ext\": \".csv\", \"path\": \"/home/docker_data/LUTO_DATA/2023_11_21__05_26_04__hard_mincost_RF5_P1e5_2010-2050_timeseries_-337Mt/out_2021/GHG_emissions_separate_agricultural_management.csv\", \"GHG_sum_t\": -5367368.0, \"GHG_sum_Mt\": -5.367368}, {\"year\": 2021, \"catetory\": \"GHG\", \"base_name\": \"Transition Penalty\", \"base_ext\": \".csv\", \"path\": \"/home/docker_data/LUTO_DATA/2023_11_21__05_26_04__hard_mincost_RF5_P1e5_2010-2050_timeseries_-337Mt/out_2021/GHG_emissions_separate_transition_penalty.csv\", \"GHG_sum_t\": 0.0, \"GHG_sum_Mt\": 0.0}, {\"year\": 2021, \"catetory\": \"GHG\", \"base_name\": \"Agricultural Landuse\", \"base_ext\": \".csv\", \"path\": \"/home/docker_data/LUTO_DATA/2023_11_21__05_26_04__hard_mincost_RF5_P1e5_2010-2050_timeseries_-337Mt/out_2021/GHG_emissions_separate_agricultural_landuse.csv\", \"GHG_sum_t\": 87331487.64030863, \"GHG_sum_Mt\": 87.33148764030864}, {\"year\": 2022, \"catetory\": \"GHG\", \"base_name\": \"Non-Agricultural Landuse\", \"base_ext\": \".csv\", \"path\": \"/home/docker_data/LUTO_DATA/2023_11_21__05_26_04__hard_mincost_RF5_P1e5_2010-2050_timeseries_-337Mt/out_2022/GHG_emissions_separate_no_ag_reduction.csv\", \"GHG_sum_t\": -119897830.0, \"GHG_sum_Mt\": -119.89783}, {\"year\": 2022, \"catetory\": \"GHG\", \"base_name\": \"Agricultural Management\", \"base_ext\": \".csv\", \"path\": \"/home/docker_data/LUTO_DATA/2023_11_21__05_26_04__hard_mincost_RF5_P1e5_2010-2050_timeseries_-337Mt/out_2022/GHG_emissions_separate_agricultural_management.csv\", \"GHG_sum_t\": -4993533.0, \"GHG_sum_Mt\": -4.993533}, {\"year\": 2022, \"catetory\": \"GHG\", \"base_name\": \"Transition Penalty\", \"base_ext\": \".csv\", \"path\": \"/home/docker_data/LUTO_DATA/2023_11_21__05_26_04__hard_mincost_RF5_P1e5_2010-2050_timeseries_-337Mt/out_2022/GHG_emissions_separate_transition_penalty.csv\", \"GHG_sum_t\": 0.0, \"GHG_sum_Mt\": 0.0}, {\"year\": 2022, \"catetory\": \"GHG\", \"base_name\": \"Agricultural Landuse\", \"base_ext\": \".csv\", \"path\": \"/home/docker_data/LUTO_DATA/2023_11_21__05_26_04__hard_mincost_RF5_P1e5_2010-2050_timeseries_-337Mt/out_2022/GHG_emissions_separate_agricultural_landuse.csv\", \"GHG_sum_t\": 86789169.05234574, \"GHG_sum_Mt\": 86.78916905234574}, {\"year\": 2023, \"catetory\": \"GHG\", \"base_name\": \"Non-Agricultural Landuse\", \"base_ext\": \".csv\", \"path\": \"/home/docker_data/LUTO_DATA/2023_11_21__05_26_04__hard_mincost_RF5_P1e5_2010-2050_timeseries_-337Mt/out_2023/GHG_emissions_separate_no_ag_reduction.csv\", \"GHG_sum_t\": -130345256.0, \"GHG_sum_Mt\": -130.345256}, {\"year\": 2023, \"catetory\": \"GHG\", \"base_name\": \"Agricultural Management\", \"base_ext\": \".csv\", \"path\": \"/home/docker_data/LUTO_DATA/2023_11_21__05_26_04__hard_mincost_RF5_P1e5_2010-2050_timeseries_-337Mt/out_2023/GHG_emissions_separate_agricultural_management.csv\", \"GHG_sum_t\": -4695318.5, \"GHG_sum_Mt\": -4.6953185}, {\"year\": 2023, \"catetory\": \"GHG\", \"base_name\": \"Transition Penalty\", \"base_ext\": \".csv\", \"path\": \"/home/docker_data/LUTO_DATA/2023_11_21__05_26_04__hard_mincost_RF5_P1e5_2010-2050_timeseries_-337Mt/out_2023/GHG_emissions_separate_transition_penalty.csv\", \"GHG_sum_t\": 0.0, \"GHG_sum_Mt\": 0.0}, {\"year\": 2023, \"catetory\": \"GHG\", \"base_name\": \"Agricultural Landuse\", \"base_ext\": \".csv\", \"path\": \"/home/docker_data/LUTO_DATA/2023_11_21__05_26_04__hard_mincost_RF5_P1e5_2010-2050_timeseries_-337Mt/out_2023/GHG_emissions_separate_agricultural_landuse.csv\", \"GHG_sum_t\": 86259749.60088481, \"GHG_sum_Mt\": 86.25974960088482}, {\"year\": 2024, \"catetory\": \"GHG\", \"base_name\": \"Non-Agricultural Landuse\", \"base_ext\": \".csv\", \"path\": \"/home/docker_data/LUTO_DATA/2023_11_21__05_26_04__hard_mincost_RF5_P1e5_2010-2050_timeseries_-337Mt/out_2024/GHG_emissions_separate_no_ag_reduction.csv\", \"GHG_sum_t\": -140333100.0, \"GHG_sum_Mt\": -140.3331}, {\"year\": 2024, \"catetory\": \"GHG\", \"base_name\": \"Agricultural Management\", \"base_ext\": \".csv\", \"path\": \"/home/docker_data/LUTO_DATA/2023_11_21__05_26_04__hard_mincost_RF5_P1e5_2010-2050_timeseries_-337Mt/out_2024/GHG_emissions_separate_agricultural_management.csv\", \"GHG_sum_t\": -4930902.0, \"GHG_sum_Mt\": -4.930902}, {\"year\": 2024, \"catetory\": \"GHG\", \"base_name\": \"Transition Penalty\", \"base_ext\": \".csv\", \"path\": \"/home/docker_data/LUTO_DATA/2023_11_21__05_26_04__hard_mincost_RF5_P1e5_2010-2050_timeseries_-337Mt/out_2024/GHG_emissions_separate_transition_penalty.csv\", \"GHG_sum_t\": 0.0, \"GHG_sum_Mt\": 0.0}, {\"year\": 2024, \"catetory\": \"GHG\", \"base_name\": \"Agricultural Landuse\", \"base_ext\": \".csv\", \"path\": \"/home/docker_data/LUTO_DATA/2023_11_21__05_26_04__hard_mincost_RF5_P1e5_2010-2050_timeseries_-337Mt/out_2024/GHG_emissions_separate_agricultural_landuse.csv\", \"GHG_sum_t\": 85807873.4040204, \"GHG_sum_Mt\": 85.8078734040204}, {\"year\": 2025, \"catetory\": \"GHG\", \"base_name\": \"Non-Agricultural Landuse\", \"base_ext\": \".csv\", \"path\": \"/home/docker_data/LUTO_DATA/2023_11_21__05_26_04__hard_mincost_RF5_P1e5_2010-2050_timeseries_-337Mt/out_2025/GHG_emissions_separate_no_ag_reduction.csv\", \"GHG_sum_t\": -150066720.0, \"GHG_sum_Mt\": -150.06672}, {\"year\": 2025, \"catetory\": \"GHG\", \"base_name\": \"Agricultural Management\", \"base_ext\": \".csv\", \"path\": \"/home/docker_data/LUTO_DATA/2023_11_21__05_26_04__hard_mincost_RF5_P1e5_2010-2050_timeseries_-337Mt/out_2025/GHG_emissions_separate_agricultural_management.csv\", \"GHG_sum_t\": -5474238.0, \"GHG_sum_Mt\": -5.474238}, {\"year\": 2025, \"catetory\": \"GHG\", \"base_name\": \"Transition Penalty\", \"base_ext\": \".csv\", \"path\": \"/home/docker_data/LUTO_DATA/2023_11_21__05_26_04__hard_mincost_RF5_P1e5_2010-2050_timeseries_-337Mt/out_2025/GHG_emissions_separate_transition_penalty.csv\", \"GHG_sum_t\": 0.0, \"GHG_sum_Mt\": 0.0}, {\"year\": 2025, \"catetory\": \"GHG\", \"base_name\": \"Agricultural Landuse\", \"base_ext\": \".csv\", \"path\": \"/home/docker_data/LUTO_DATA/2023_11_21__05_26_04__hard_mincost_RF5_P1e5_2010-2050_timeseries_-337Mt/out_2025/GHG_emissions_separate_agricultural_landuse.csv\", \"GHG_sum_t\": 85414708.2839553, \"GHG_sum_Mt\": 85.4147082839553}, {\"year\": 2026, \"catetory\": \"GHG\", \"base_name\": \"Non-Agricultural Landuse\", \"base_ext\": \".csv\", \"path\": \"/home/docker_data/LUTO_DATA/2023_11_21__05_26_04__hard_mincost_RF5_P1e5_2010-2050_timeseries_-337Mt/out_2026/GHG_emissions_separate_no_ag_reduction.csv\", \"GHG_sum_t\": -158273230.0, \"GHG_sum_Mt\": -158.27323}, {\"year\": 2026, \"catetory\": \"GHG\", \"base_name\": \"Agricultural Management\", \"base_ext\": \".csv\", \"path\": \"/home/docker_data/LUTO_DATA/2023_11_21__05_26_04__hard_mincost_RF5_P1e5_2010-2050_timeseries_-337Mt/out_2026/GHG_emissions_separate_agricultural_management.csv\", \"GHG_sum_t\": -7524961.5, \"GHG_sum_Mt\": -7.5249615}, {\"year\": 2026, \"catetory\": \"GHG\", \"base_name\": \"Transition Penalty\", \"base_ext\": \".csv\", \"path\": \"/home/docker_data/LUTO_DATA/2023_11_21__05_26_04__hard_mincost_RF5_P1e5_2010-2050_timeseries_-337Mt/out_2026/GHG_emissions_separate_transition_penalty.csv\", \"GHG_sum_t\": 0.0, \"GHG_sum_Mt\": 0.0}, {\"year\": 2026, \"catetory\": \"GHG\", \"base_name\": \"Agricultural Landuse\", \"base_ext\": \".csv\", \"path\": \"/home/docker_data/LUTO_DATA/2023_11_21__05_26_04__hard_mincost_RF5_P1e5_2010-2050_timeseries_-337Mt/out_2026/GHG_emissions_separate_agricultural_landuse.csv\", \"GHG_sum_t\": 84998196.79928441, \"GHG_sum_Mt\": 84.99819679928441}, {\"year\": 2027, \"catetory\": \"GHG\", \"base_name\": \"Non-Agricultural Landuse\", \"base_ext\": \".csv\", \"path\": \"/home/docker_data/LUTO_DATA/2023_11_21__05_26_04__hard_mincost_RF5_P1e5_2010-2050_timeseries_-337Mt/out_2027/GHG_emissions_separate_no_ag_reduction.csv\", \"GHG_sum_t\": -167213730.0, \"GHG_sum_Mt\": -167.21373}, {\"year\": 2027, \"catetory\": \"GHG\", \"base_name\": \"Agricultural Management\", \"base_ext\": \".csv\", \"path\": \"/home/docker_data/LUTO_DATA/2023_11_21__05_26_04__hard_mincost_RF5_P1e5_2010-2050_timeseries_-337Mt/out_2027/GHG_emissions_separate_agricultural_management.csv\", \"GHG_sum_t\": -8826015.0, \"GHG_sum_Mt\": -8.826015}, {\"year\": 2027, \"catetory\": \"GHG\", \"base_name\": \"Transition Penalty\", \"base_ext\": \".csv\", \"path\": \"/home/docker_data/LUTO_DATA/2023_11_21__05_26_04__hard_mincost_RF5_P1e5_2010-2050_timeseries_-337Mt/out_2027/GHG_emissions_separate_transition_penalty.csv\", \"GHG_sum_t\": 0.0, \"GHG_sum_Mt\": 0.0}, {\"year\": 2027, \"catetory\": \"GHG\", \"base_name\": \"Agricultural Landuse\", \"base_ext\": \".csv\", \"path\": \"/home/docker_data/LUTO_DATA/2023_11_21__05_26_04__hard_mincost_RF5_P1e5_2010-2050_timeseries_-337Mt/out_2027/GHG_emissions_separate_agricultural_landuse.csv\", \"GHG_sum_t\": 84564282.66766676, \"GHG_sum_Mt\": 84.56428266766676}, {\"year\": 2028, \"catetory\": \"GHG\", \"base_name\": \"Non-Agricultural Landuse\", \"base_ext\": \".csv\", \"path\": \"/home/docker_data/LUTO_DATA/2023_11_21__05_26_04__hard_mincost_RF5_P1e5_2010-2050_timeseries_-337Mt/out_2028/GHG_emissions_separate_no_ag_reduction.csv\", \"GHG_sum_t\": -175291800.0, \"GHG_sum_Mt\": -175.2918}, {\"year\": 2028, \"catetory\": \"GHG\", \"base_name\": \"Agricultural Management\", \"base_ext\": \".csv\", \"path\": \"/home/docker_data/LUTO_DATA/2023_11_21__05_26_04__hard_mincost_RF5_P1e5_2010-2050_timeseries_-337Mt/out_2028/GHG_emissions_separate_agricultural_management.csv\", \"GHG_sum_t\": -11038546.0, \"GHG_sum_Mt\": -11.038546}, {\"year\": 2028, \"catetory\": \"GHG\", \"base_name\": \"Transition Penalty\", \"base_ext\": \".csv\", \"path\": \"/home/docker_data/LUTO_DATA/2023_11_21__05_26_04__hard_mincost_RF5_P1e5_2010-2050_timeseries_-337Mt/out_2028/GHG_emissions_separate_transition_penalty.csv\", \"GHG_sum_t\": 0.0, \"GHG_sum_Mt\": 0.0}, {\"year\": 2028, \"catetory\": \"GHG\", \"base_name\": \"Agricultural Landuse\", \"base_ext\": \".csv\", \"path\": \"/home/docker_data/LUTO_DATA/2023_11_21__05_26_04__hard_mincost_RF5_P1e5_2010-2050_timeseries_-337Mt/out_2028/GHG_emissions_separate_agricultural_landuse.csv\", \"GHG_sum_t\": 84171370.1959944, \"GHG_sum_Mt\": 84.17137019599441}, {\"year\": 2029, \"catetory\": \"GHG\", \"base_name\": \"Non-Agricultural Landuse\", \"base_ext\": \".csv\", \"path\": \"/home/docker_data/LUTO_DATA/2023_11_21__05_26_04__hard_mincost_RF5_P1e5_2010-2050_timeseries_-337Mt/out_2029/GHG_emissions_separate_no_ag_reduction.csv\", \"GHG_sum_t\": -184780020.0, \"GHG_sum_Mt\": -184.78002}, {\"year\": 2029, \"catetory\": \"GHG\", \"base_name\": \"Agricultural Management\", \"base_ext\": \".csv\", \"path\": \"/home/docker_data/LUTO_DATA/2023_11_21__05_26_04__hard_mincost_RF5_P1e5_2010-2050_timeseries_-337Mt/out_2029/GHG_emissions_separate_agricultural_management.csv\", \"GHG_sum_t\": -11782188.0, \"GHG_sum_Mt\": -11.782188}, {\"year\": 2029, \"catetory\": \"GHG\", \"base_name\": \"Transition Penalty\", \"base_ext\": \".csv\", \"path\": \"/home/docker_data/LUTO_DATA/2023_11_21__05_26_04__hard_mincost_RF5_P1e5_2010-2050_timeseries_-337Mt/out_2029/GHG_emissions_separate_transition_penalty.csv\", \"GHG_sum_t\": 0.0, \"GHG_sum_Mt\": 0.0}, {\"year\": 2029, \"catetory\": \"GHG\", \"base_name\": \"Agricultural Landuse\", \"base_ext\": \".csv\", \"path\": \"/home/docker_data/LUTO_DATA/2023_11_21__05_26_04__hard_mincost_RF5_P1e5_2010-2050_timeseries_-337Mt/out_2029/GHG_emissions_separate_agricultural_landuse.csv\", \"GHG_sum_t\": 83720734.69767487, \"GHG_sum_Mt\": 83.72073469767487}, {\"year\": 2030, \"catetory\": \"GHG\", \"base_name\": \"Non-Agricultural Landuse\", \"base_ext\": \".csv\", \"path\": \"/home/docker_data/LUTO_DATA/2023_11_21__05_26_04__hard_mincost_RF5_P1e5_2010-2050_timeseries_-337Mt/out_2030/GHG_emissions_separate_no_ag_reduction.csv\", \"GHG_sum_t\": -193905330.0, \"GHG_sum_Mt\": -193.90533}, {\"year\": 2030, \"catetory\": \"GHG\", \"base_name\": \"Agricultural Management\", \"base_ext\": \".csv\", \"path\": \"/home/docker_data/LUTO_DATA/2023_11_21__05_26_04__hard_mincost_RF5_P1e5_2010-2050_timeseries_-337Mt/out_2030/GHG_emissions_separate_agricultural_management.csv\", \"GHG_sum_t\": -12983835.0, \"GHG_sum_Mt\": -12.983835}, {\"year\": 2030, \"catetory\": \"GHG\", \"base_name\": \"Transition Penalty\", \"base_ext\": \".csv\", \"path\": \"/home/docker_data/LUTO_DATA/2023_11_21__05_26_04__hard_mincost_RF5_P1e5_2010-2050_timeseries_-337Mt/out_2030/GHG_emissions_separate_transition_penalty.csv\", \"GHG_sum_t\": 0.0, \"GHG_sum_Mt\": 0.0}, {\"year\": 2030, \"catetory\": \"GHG\", \"base_name\": \"Agricultural Landuse\", \"base_ext\": \".csv\", \"path\": \"/home/docker_data/LUTO_DATA/2023_11_21__05_26_04__hard_mincost_RF5_P1e5_2010-2050_timeseries_-337Mt/out_2030/GHG_emissions_separate_agricultural_landuse.csv\", \"GHG_sum_t\": 83387314.94073623, \"GHG_sum_Mt\": 83.38731494073623}, {\"year\": 2031, \"catetory\": \"GHG\", \"base_name\": \"Non-Agricultural Landuse\", \"base_ext\": \".csv\", \"path\": \"/home/docker_data/LUTO_DATA/2023_11_21__05_26_04__hard_mincost_RF5_P1e5_2010-2050_timeseries_-337Mt/out_2031/GHG_emissions_separate_no_ag_reduction.csv\", \"GHG_sum_t\": -201612540.0, \"GHG_sum_Mt\": -201.61254}, {\"year\": 2031, \"catetory\": \"GHG\", \"base_name\": \"Agricultural Management\", \"base_ext\": \".csv\", \"path\": \"/home/docker_data/LUTO_DATA/2023_11_21__05_26_04__hard_mincost_RF5_P1e5_2010-2050_timeseries_-337Mt/out_2031/GHG_emissions_separate_agricultural_management.csv\", \"GHG_sum_t\": -15619055.0, \"GHG_sum_Mt\": -15.619055}, {\"year\": 2031, \"catetory\": \"GHG\", \"base_name\": \"Transition Penalty\", \"base_ext\": \".csv\", \"path\": \"/home/docker_data/LUTO_DATA/2023_11_21__05_26_04__hard_mincost_RF5_P1e5_2010-2050_timeseries_-337Mt/out_2031/GHG_emissions_separate_transition_penalty.csv\", \"GHG_sum_t\": 0.0, \"GHG_sum_Mt\": 0.0}, {\"year\": 2031, \"catetory\": \"GHG\", \"base_name\": \"Agricultural Landuse\", \"base_ext\": \".csv\", \"path\": \"/home/docker_data/LUTO_DATA/2023_11_21__05_26_04__hard_mincost_RF5_P1e5_2010-2050_timeseries_-337Mt/out_2031/GHG_emissions_separate_agricultural_landuse.csv\", \"GHG_sum_t\": 83054338.03089775, \"GHG_sum_Mt\": 83.05433803089775}, {\"year\": 2032, \"catetory\": \"GHG\", \"base_name\": \"Non-Agricultural Landuse\", \"base_ext\": \".csv\", \"path\": \"/home/docker_data/LUTO_DATA/2023_11_21__05_26_04__hard_mincost_RF5_P1e5_2010-2050_timeseries_-337Mt/out_2032/GHG_emissions_separate_no_ag_reduction.csv\", \"GHG_sum_t\": -211466780.0, \"GHG_sum_Mt\": -211.46678}, {\"year\": 2032, \"catetory\": \"GHG\", \"base_name\": \"Agricultural Management\", \"base_ext\": \".csv\", \"path\": \"/home/docker_data/LUTO_DATA/2023_11_21__05_26_04__hard_mincost_RF5_P1e5_2010-2050_timeseries_-337Mt/out_2032/GHG_emissions_separate_agricultural_management.csv\", \"GHG_sum_t\": -15880438.0, \"GHG_sum_Mt\": -15.880438}, {\"year\": 2032, \"catetory\": \"GHG\", \"base_name\": \"Transition Penalty\", \"base_ext\": \".csv\", \"path\": \"/home/docker_data/LUTO_DATA/2023_11_21__05_26_04__hard_mincost_RF5_P1e5_2010-2050_timeseries_-337Mt/out_2032/GHG_emissions_separate_transition_penalty.csv\", \"GHG_sum_t\": 0.0, \"GHG_sum_Mt\": 0.0}, {\"year\": 2032, \"catetory\": \"GHG\", \"base_name\": \"Agricultural Landuse\", \"base_ext\": \".csv\", \"path\": \"/home/docker_data/LUTO_DATA/2023_11_21__05_26_04__hard_mincost_RF5_P1e5_2010-2050_timeseries_-337Mt/out_2032/GHG_emissions_separate_agricultural_landuse.csv\", \"GHG_sum_t\": 82495796.02139005, \"GHG_sum_Mt\": 82.49579602139005}, {\"year\": 2033, \"catetory\": \"GHG\", \"base_name\": \"Non-Agricultural Landuse\", \"base_ext\": \".csv\", \"path\": \"/home/docker_data/LUTO_DATA/2023_11_21__05_26_04__hard_mincost_RF5_P1e5_2010-2050_timeseries_-337Mt/out_2033/GHG_emissions_separate_no_ag_reduction.csv\", \"GHG_sum_t\": -221420140.0, \"GHG_sum_Mt\": -221.42014}, {\"year\": 2033, \"catetory\": \"GHG\", \"base_name\": \"Agricultural Management\", \"base_ext\": \".csv\", \"path\": \"/home/docker_data/LUTO_DATA/2023_11_21__05_26_04__hard_mincost_RF5_P1e5_2010-2050_timeseries_-337Mt/out_2033/GHG_emissions_separate_agricultural_management.csv\", \"GHG_sum_t\": -16218746.0, \"GHG_sum_Mt\": -16.218746}, {\"year\": 2033, \"catetory\": \"GHG\", \"base_name\": \"Transition Penalty\", \"base_ext\": \".csv\", \"path\": \"/home/docker_data/LUTO_DATA/2023_11_21__05_26_04__hard_mincost_RF5_P1e5_2010-2050_timeseries_-337Mt/out_2033/GHG_emissions_separate_transition_penalty.csv\", \"GHG_sum_t\": 0.0, \"GHG_sum_Mt\": 0.0}, {\"year\": 2033, \"catetory\": \"GHG\", \"base_name\": \"Agricultural Landuse\", \"base_ext\": \".csv\", \"path\": \"/home/docker_data/LUTO_DATA/2023_11_21__05_26_04__hard_mincost_RF5_P1e5_2010-2050_timeseries_-337Mt/out_2033/GHG_emissions_separate_agricultural_landuse.csv\", \"GHG_sum_t\": 82112388.24394594, \"GHG_sum_Mt\": 82.11238824394594}, {\"year\": 2034, \"catetory\": \"GHG\", \"base_name\": \"Non-Agricultural Landuse\", \"base_ext\": \".csv\", \"path\": \"/home/docker_data/LUTO_DATA/2023_11_21__05_26_04__hard_mincost_RF5_P1e5_2010-2050_timeseries_-337Mt/out_2034/GHG_emissions_separate_no_ag_reduction.csv\", \"GHG_sum_t\": -231505070.0, \"GHG_sum_Mt\": -231.50507}, {\"year\": 2034, \"catetory\": \"GHG\", \"base_name\": \"Agricultural Management\", \"base_ext\": \".csv\", \"path\": \"/home/docker_data/LUTO_DATA/2023_11_21__05_26_04__hard_mincost_RF5_P1e5_2010-2050_timeseries_-337Mt/out_2034/GHG_emissions_separate_agricultural_management.csv\", \"GHG_sum_t\": -16300601.0, \"GHG_sum_Mt\": -16.300601}, {\"year\": 2034, \"catetory\": \"GHG\", \"base_name\": \"Transition Penalty\", \"base_ext\": \".csv\", \"path\": \"/home/docker_data/LUTO_DATA/2023_11_21__05_26_04__hard_mincost_RF5_P1e5_2010-2050_timeseries_-337Mt/out_2034/GHG_emissions_separate_transition_penalty.csv\", \"GHG_sum_t\": 0.0, \"GHG_sum_Mt\": 0.0}, {\"year\": 2034, \"catetory\": \"GHG\", \"base_name\": \"Agricultural Landuse\", \"base_ext\": \".csv\", \"path\": \"/home/docker_data/LUTO_DATA/2023_11_21__05_26_04__hard_mincost_RF5_P1e5_2010-2050_timeseries_-337Mt/out_2034/GHG_emissions_separate_agricultural_landuse.csv\", \"GHG_sum_t\": 81604583.76912428, \"GHG_sum_Mt\": 81.60458376912429}, {\"year\": 2035, \"catetory\": \"GHG\", \"base_name\": \"Non-Agricultural Landuse\", \"base_ext\": \".csv\", \"path\": \"/home/docker_data/LUTO_DATA/2023_11_21__05_26_04__hard_mincost_RF5_P1e5_2010-2050_timeseries_-337Mt/out_2035/GHG_emissions_separate_no_ag_reduction.csv\", \"GHG_sum_t\": -241769620.0, \"GHG_sum_Mt\": -241.76962}, {\"year\": 2035, \"catetory\": \"GHG\", \"base_name\": \"Agricultural Management\", \"base_ext\": \".csv\", \"path\": \"/home/docker_data/LUTO_DATA/2023_11_21__05_26_04__hard_mincost_RF5_P1e5_2010-2050_timeseries_-337Mt/out_2035/GHG_emissions_separate_agricultural_management.csv\", \"GHG_sum_t\": -16278186.0, \"GHG_sum_Mt\": -16.278186}, {\"year\": 2035, \"catetory\": \"GHG\", \"base_name\": \"Transition Penalty\", \"base_ext\": \".csv\", \"path\": \"/home/docker_data/LUTO_DATA/2023_11_21__05_26_04__hard_mincost_RF5_P1e5_2010-2050_timeseries_-337Mt/out_2035/GHG_emissions_separate_transition_penalty.csv\", \"GHG_sum_t\": 0.0, \"GHG_sum_Mt\": 0.0}, {\"year\": 2035, \"catetory\": \"GHG\", \"base_name\": \"Agricultural Landuse\", \"base_ext\": \".csv\", \"path\": \"/home/docker_data/LUTO_DATA/2023_11_21__05_26_04__hard_mincost_RF5_P1e5_2010-2050_timeseries_-337Mt/out_2035/GHG_emissions_separate_agricultural_landuse.csv\", \"GHG_sum_t\": 81168554.86812662, \"GHG_sum_Mt\": 81.16855486812662}, {\"year\": 2036, \"catetory\": \"GHG\", \"base_name\": \"Non-Agricultural Landuse\", \"base_ext\": \".csv\", \"path\": \"/home/docker_data/LUTO_DATA/2023_11_21__05_26_04__hard_mincost_RF5_P1e5_2010-2050_timeseries_-337Mt/out_2036/GHG_emissions_separate_no_ag_reduction.csv\", \"GHG_sum_t\": -252134100.0, \"GHG_sum_Mt\": -252.1341}, {\"year\": 2036, \"catetory\": \"GHG\", \"base_name\": \"Agricultural Management\", \"base_ext\": \".csv\", \"path\": \"/home/docker_data/LUTO_DATA/2023_11_21__05_26_04__hard_mincost_RF5_P1e5_2010-2050_timeseries_-337Mt/out_2036/GHG_emissions_separate_agricultural_management.csv\", \"GHG_sum_t\": -16032968.0, \"GHG_sum_Mt\": -16.032968}, {\"year\": 2036, \"catetory\": \"GHG\", \"base_name\": \"Transition Penalty\", \"base_ext\": \".csv\", \"path\": \"/home/docker_data/LUTO_DATA/2023_11_21__05_26_04__hard_mincost_RF5_P1e5_2010-2050_timeseries_-337Mt/out_2036/GHG_emissions_separate_transition_penalty.csv\", \"GHG_sum_t\": 0.0, \"GHG_sum_Mt\": 0.0}, {\"year\": 2036, \"catetory\": \"GHG\", \"base_name\": \"Agricultural Landuse\", \"base_ext\": \".csv\", \"path\": \"/home/docker_data/LUTO_DATA/2023_11_21__05_26_04__hard_mincost_RF5_P1e5_2010-2050_timeseries_-337Mt/out_2036/GHG_emissions_separate_agricultural_landuse.csv\", \"GHG_sum_t\": 80612002.4502766, \"GHG_sum_Mt\": 80.61200245027659}, {\"year\": 2037, \"catetory\": \"GHG\", \"base_name\": \"Non-Agricultural Landuse\", \"base_ext\": \".csv\", \"path\": \"/home/docker_data/LUTO_DATA/2023_11_21__05_26_04__hard_mincost_RF5_P1e5_2010-2050_timeseries_-337Mt/out_2037/GHG_emissions_separate_no_ag_reduction.csv\", \"GHG_sum_t\": -262265000.0, \"GHG_sum_Mt\": -262.265}, {\"year\": 2037, \"catetory\": \"GHG\", \"base_name\": \"Agricultural Management\", \"base_ext\": \".csv\", \"path\": \"/home/docker_data/LUTO_DATA/2023_11_21__05_26_04__hard_mincost_RF5_P1e5_2010-2050_timeseries_-337Mt/out_2037/GHG_emissions_separate_agricultural_management.csv\", \"GHG_sum_t\": -16101000.0, \"GHG_sum_Mt\": -16.101}, {\"year\": 2037, \"catetory\": \"GHG\", \"base_name\": \"Transition Penalty\", \"base_ext\": \".csv\", \"path\": \"/home/docker_data/LUTO_DATA/2023_11_21__05_26_04__hard_mincost_RF5_P1e5_2010-2050_timeseries_-337Mt/out_2037/GHG_emissions_separate_transition_penalty.csv\", \"GHG_sum_t\": 0.0, \"GHG_sum_Mt\": 0.0}, {\"year\": 2037, \"catetory\": \"GHG\", \"base_name\": \"Agricultural Landuse\", \"base_ext\": \".csv\", \"path\": \"/home/docker_data/LUTO_DATA/2023_11_21__05_26_04__hard_mincost_RF5_P1e5_2010-2050_timeseries_-337Mt/out_2037/GHG_emissions_separate_agricultural_landuse.csv\", \"GHG_sum_t\": 80140991.24263024, \"GHG_sum_Mt\": 80.14099124263025}, {\"year\": 2038, \"catetory\": \"GHG\", \"base_name\": \"Non-Agricultural Landuse\", \"base_ext\": \".csv\", \"path\": \"/home/docker_data/LUTO_DATA/2023_11_21__05_26_04__hard_mincost_RF5_P1e5_2010-2050_timeseries_-337Mt/out_2038/GHG_emissions_separate_no_ag_reduction.csv\", \"GHG_sum_t\": -272567580.0, \"GHG_sum_Mt\": -272.56758}, {\"year\": 2038, \"catetory\": \"GHG\", \"base_name\": \"Agricultural Management\", \"base_ext\": \".csv\", \"path\": \"/home/docker_data/LUTO_DATA/2023_11_21__05_26_04__hard_mincost_RF5_P1e5_2010-2050_timeseries_-337Mt/out_2038/GHG_emissions_separate_agricultural_management.csv\", \"GHG_sum_t\": -15890797.0, \"GHG_sum_Mt\": -15.890797}, {\"year\": 2038, \"catetory\": \"GHG\", \"base_name\": \"Transition Penalty\", \"base_ext\": \".csv\", \"path\": \"/home/docker_data/LUTO_DATA/2023_11_21__05_26_04__hard_mincost_RF5_P1e5_2010-2050_timeseries_-337Mt/out_2038/GHG_emissions_separate_transition_penalty.csv\", \"GHG_sum_t\": 0.0, \"GHG_sum_Mt\": 0.0}, {\"year\": 2038, \"catetory\": \"GHG\", \"base_name\": \"Agricultural Landuse\", \"base_ext\": \".csv\", \"path\": \"/home/docker_data/LUTO_DATA/2023_11_21__05_26_04__hard_mincost_RF5_P1e5_2010-2050_timeseries_-337Mt/out_2038/GHG_emissions_separate_agricultural_landuse.csv\", \"GHG_sum_t\": 79557290.89131735, \"GHG_sum_Mt\": 79.55729089131735}, {\"year\": 2039, \"catetory\": \"GHG\", \"base_name\": \"Non-Agricultural Landuse\", \"base_ext\": \".csv\", \"path\": \"/home/docker_data/LUTO_DATA/2023_11_21__05_26_04__hard_mincost_RF5_P1e5_2010-2050_timeseries_-337Mt/out_2039/GHG_emissions_separate_no_ag_reduction.csv\", \"GHG_sum_t\": -282584060.0, \"GHG_sum_Mt\": -282.58406}, {\"year\": 2039, \"catetory\": \"GHG\", \"base_name\": \"Agricultural Management\", \"base_ext\": \".csv\", \"path\": \"/home/docker_data/LUTO_DATA/2023_11_21__05_26_04__hard_mincost_RF5_P1e5_2010-2050_timeseries_-337Mt/out_2039/GHG_emissions_separate_agricultural_management.csv\", \"GHG_sum_t\": -15972685.0, \"GHG_sum_Mt\": -15.972685}, {\"year\": 2039, \"catetory\": \"GHG\", \"base_name\": \"Transition Penalty\", \"base_ext\": \".csv\", \"path\": \"/home/docker_data/LUTO_DATA/2023_11_21__05_26_04__hard_mincost_RF5_P1e5_2010-2050_timeseries_-337Mt/out_2039/GHG_emissions_separate_transition_penalty.csv\", \"GHG_sum_t\": 64509.12, \"GHG_sum_Mt\": 0.06450912}, {\"year\": 2039, \"catetory\": \"GHG\", \"base_name\": \"Agricultural Landuse\", \"base_ext\": \".csv\", \"path\": \"/home/docker_data/LUTO_DATA/2023_11_21__05_26_04__hard_mincost_RF5_P1e5_2010-2050_timeseries_-337Mt/out_2039/GHG_emissions_separate_agricultural_landuse.csv\", \"GHG_sum_t\": 78911704.02105415, \"GHG_sum_Mt\": 78.91170402105415}, {\"year\": 2040, \"catetory\": \"GHG\", \"base_name\": \"Non-Agricultural Landuse\", \"base_ext\": \".csv\", \"path\": \"/home/docker_data/LUTO_DATA/2023_11_21__05_26_04__hard_mincost_RF5_P1e5_2010-2050_timeseries_-337Mt/out_2040/GHG_emissions_separate_no_ag_reduction.csv\", \"GHG_sum_t\": -292187600.0, \"GHG_sum_Mt\": -292.1876}, {\"year\": 2040, \"catetory\": \"GHG\", \"base_name\": \"Agricultural Management\", \"base_ext\": \".csv\", \"path\": \"/home/docker_data/LUTO_DATA/2023_11_21__05_26_04__hard_mincost_RF5_P1e5_2010-2050_timeseries_-337Mt/out_2040/GHG_emissions_separate_agricultural_management.csv\", \"GHG_sum_t\": -16323800.0, \"GHG_sum_Mt\": -16.3238}, {\"year\": 2040, \"catetory\": \"GHG\", \"base_name\": \"Transition Penalty\", \"base_ext\": \".csv\", \"path\": \"/home/docker_data/LUTO_DATA/2023_11_21__05_26_04__hard_mincost_RF5_P1e5_2010-2050_timeseries_-337Mt/out_2040/GHG_emissions_separate_transition_penalty.csv\", \"GHG_sum_t\": 65385.156, \"GHG_sum_Mt\": 0.065385156}, {\"year\": 2040, \"catetory\": \"GHG\", \"base_name\": \"Agricultural Landuse\", \"base_ext\": \".csv\", \"path\": \"/home/docker_data/LUTO_DATA/2023_11_21__05_26_04__hard_mincost_RF5_P1e5_2010-2050_timeseries_-337Mt/out_2040/GHG_emissions_separate_agricultural_landuse.csv\", \"GHG_sum_t\": 78260845.59381607, \"GHG_sum_Mt\": 78.26084559381607}, {\"year\": 2041, \"catetory\": \"GHG\", \"base_name\": \"Non-Agricultural Landuse\", \"base_ext\": \".csv\", \"path\": \"/home/docker_data/LUTO_DATA/2023_11_21__05_26_04__hard_mincost_RF5_P1e5_2010-2050_timeseries_-337Mt/out_2041/GHG_emissions_separate_no_ag_reduction.csv\", \"GHG_sum_t\": -301748900.0, \"GHG_sum_Mt\": -301.7489}, {\"year\": 2041, \"catetory\": \"GHG\", \"base_name\": \"Agricultural Management\", \"base_ext\": \".csv\", \"path\": \"/home/docker_data/LUTO_DATA/2023_11_21__05_26_04__hard_mincost_RF5_P1e5_2010-2050_timeseries_-337Mt/out_2041/GHG_emissions_separate_agricultural_management.csv\", \"GHG_sum_t\": -16839840.0, \"GHG_sum_Mt\": -16.83984}, {\"year\": 2041, \"catetory\": \"GHG\", \"base_name\": \"Transition Penalty\", \"base_ext\": \".csv\", \"path\": \"/home/docker_data/LUTO_DATA/2023_11_21__05_26_04__hard_mincost_RF5_P1e5_2010-2050_timeseries_-337Mt/out_2041/GHG_emissions_separate_transition_penalty.csv\", \"GHG_sum_t\": 65385.156, \"GHG_sum_Mt\": 0.065385156}, {\"year\": 2041, \"catetory\": \"GHG\", \"base_name\": \"Agricultural Landuse\", \"base_ext\": \".csv\", \"path\": \"/home/docker_data/LUTO_DATA/2023_11_21__05_26_04__hard_mincost_RF5_P1e5_2010-2050_timeseries_-337Mt/out_2041/GHG_emissions_separate_agricultural_landuse.csv\", \"GHG_sum_t\": 77662595.86729859, \"GHG_sum_Mt\": 77.66259586729859}, {\"year\": 2042, \"catetory\": \"GHG\", \"base_name\": \"Non-Agricultural Landuse\", \"base_ext\": \".csv\", \"path\": \"/home/docker_data/LUTO_DATA/2023_11_21__05_26_04__hard_mincost_RF5_P1e5_2010-2050_timeseries_-337Mt/out_2042/GHG_emissions_separate_no_ag_reduction.csv\", \"GHG_sum_t\": -311152700.0, \"GHG_sum_Mt\": -311.1527}, {\"year\": 2042, \"catetory\": \"GHG\", \"base_name\": \"Agricultural Management\", \"base_ext\": \".csv\", \"path\": \"/home/docker_data/LUTO_DATA/2023_11_21__05_26_04__hard_mincost_RF5_P1e5_2010-2050_timeseries_-337Mt/out_2042/GHG_emissions_separate_agricultural_management.csv\", \"GHG_sum_t\": -17425834.0, \"GHG_sum_Mt\": -17.425834}, {\"year\": 2042, \"catetory\": \"GHG\", \"base_name\": \"Transition Penalty\", \"base_ext\": \".csv\", \"path\": \"/home/docker_data/LUTO_DATA/2023_11_21__05_26_04__hard_mincost_RF5_P1e5_2010-2050_timeseries_-337Mt/out_2042/GHG_emissions_separate_transition_penalty.csv\", \"GHG_sum_t\": 65385.156, \"GHG_sum_Mt\": 0.065385156}, {\"year\": 2042, \"catetory\": \"GHG\", \"base_name\": \"Agricultural Landuse\", \"base_ext\": \".csv\", \"path\": \"/home/docker_data/LUTO_DATA/2023_11_21__05_26_04__hard_mincost_RF5_P1e5_2010-2050_timeseries_-337Mt/out_2042/GHG_emissions_separate_agricultural_landuse.csv\", \"GHG_sum_t\": 76968838.918777, \"GHG_sum_Mt\": 76.96883891877701}, {\"year\": 2043, \"catetory\": \"GHG\", \"base_name\": \"Non-Agricultural Landuse\", \"base_ext\": \".csv\", \"path\": \"/home/docker_data/LUTO_DATA/2023_11_21__05_26_04__hard_mincost_RF5_P1e5_2010-2050_timeseries_-337Mt/out_2043/GHG_emissions_separate_no_ag_reduction.csv\", \"GHG_sum_t\": -320403970.0, \"GHG_sum_Mt\": -320.40397}, {\"year\": 2043, \"catetory\": \"GHG\", \"base_name\": \"Agricultural Management\", \"base_ext\": \".csv\", \"path\": \"/home/docker_data/LUTO_DATA/2023_11_21__05_26_04__hard_mincost_RF5_P1e5_2010-2050_timeseries_-337Mt/out_2043/GHG_emissions_separate_agricultural_management.csv\", \"GHG_sum_t\": -18223724.0, \"GHG_sum_Mt\": -18.223724}, {\"year\": 2043, \"catetory\": \"GHG\", \"base_name\": \"Transition Penalty\", \"base_ext\": \".csv\", \"path\": \"/home/docker_data/LUTO_DATA/2023_11_21__05_26_04__hard_mincost_RF5_P1e5_2010-2050_timeseries_-337Mt/out_2043/GHG_emissions_separate_transition_penalty.csv\", \"GHG_sum_t\": 65385.156, \"GHG_sum_Mt\": 0.065385156}, {\"year\": 2043, \"catetory\": \"GHG\", \"base_name\": \"Agricultural Landuse\", \"base_ext\": \".csv\", \"path\": \"/home/docker_data/LUTO_DATA/2023_11_21__05_26_04__hard_mincost_RF5_P1e5_2010-2050_timeseries_-337Mt/out_2043/GHG_emissions_separate_agricultural_landuse.csv\", \"GHG_sum_t\": 76349430.10686298, \"GHG_sum_Mt\": 76.34943010686298}, {\"year\": 2044, \"catetory\": \"GHG\", \"base_name\": \"Non-Agricultural Landuse\", \"base_ext\": \".csv\", \"path\": \"/home/docker_data/LUTO_DATA/2023_11_21__05_26_04__hard_mincost_RF5_P1e5_2010-2050_timeseries_-337Mt/out_2044/GHG_emissions_separate_no_ag_reduction.csv\", \"GHG_sum_t\": -330257760.0, \"GHG_sum_Mt\": -330.25776}, {\"year\": 2044, \"catetory\": \"GHG\", \"base_name\": \"Agricultural Management\", \"base_ext\": \".csv\", \"path\": \"/home/docker_data/LUTO_DATA/2023_11_21__05_26_04__hard_mincost_RF5_P1e5_2010-2050_timeseries_-337Mt/out_2044/GHG_emissions_separate_agricultural_management.csv\", \"GHG_sum_t\": -18407856.0, \"GHG_sum_Mt\": -18.407856}, {\"year\": 2044, \"catetory\": \"GHG\", \"base_name\": \"Transition Penalty\", \"base_ext\": \".csv\", \"path\": \"/home/docker_data/LUTO_DATA/2023_11_21__05_26_04__hard_mincost_RF5_P1e5_2010-2050_timeseries_-337Mt/out_2044/GHG_emissions_separate_transition_penalty.csv\", \"GHG_sum_t\": 65385.156, \"GHG_sum_Mt\": 0.065385156}, {\"year\": 2044, \"catetory\": \"GHG\", \"base_name\": \"Agricultural Landuse\", \"base_ext\": \".csv\", \"path\": \"/home/docker_data/LUTO_DATA/2023_11_21__05_26_04__hard_mincost_RF5_P1e5_2010-2050_timeseries_-337Mt/out_2044/GHG_emissions_separate_agricultural_landuse.csv\", \"GHG_sum_t\": 75710477.86716656, \"GHG_sum_Mt\": 75.71047786716656}, {\"year\": 2045, \"catetory\": \"GHG\", \"base_name\": \"Non-Agricultural Landuse\", \"base_ext\": \".csv\", \"path\": \"/home/docker_data/LUTO_DATA/2023_11_21__05_26_04__hard_mincost_RF5_P1e5_2010-2050_timeseries_-337Mt/out_2045/GHG_emissions_separate_no_ag_reduction.csv\", \"GHG_sum_t\": -340243000.0, \"GHG_sum_Mt\": -340.243}, {\"year\": 2045, \"catetory\": \"GHG\", \"base_name\": \"Agricultural Management\", \"base_ext\": \".csv\", \"path\": \"/home/docker_data/LUTO_DATA/2023_11_21__05_26_04__hard_mincost_RF5_P1e5_2010-2050_timeseries_-337Mt/out_2045/GHG_emissions_separate_agricultural_management.csv\", \"GHG_sum_t\": -18542536.0, \"GHG_sum_Mt\": -18.542536}, {\"year\": 2045, \"catetory\": \"GHG\", \"base_name\": \"Transition Penalty\", \"base_ext\": \".csv\", \"path\": \"/home/docker_data/LUTO_DATA/2023_11_21__05_26_04__hard_mincost_RF5_P1e5_2010-2050_timeseries_-337Mt/out_2045/GHG_emissions_separate_transition_penalty.csv\", \"GHG_sum_t\": 65385.156, \"GHG_sum_Mt\": 0.065385156}, {\"year\": 2045, \"catetory\": \"GHG\", \"base_name\": \"Agricultural Landuse\", \"base_ext\": \".csv\", \"path\": \"/home/docker_data/LUTO_DATA/2023_11_21__05_26_04__hard_mincost_RF5_P1e5_2010-2050_timeseries_-337Mt/out_2045/GHG_emissions_separate_agricultural_landuse.csv\", \"GHG_sum_t\": 75155478.84723188, \"GHG_sum_Mt\": 75.15547884723188}, {\"year\": 2046, \"catetory\": \"GHG\", \"base_name\": \"Non-Agricultural Landuse\", \"base_ext\": \".csv\", \"path\": \"/home/docker_data/LUTO_DATA/2023_11_21__05_26_04__hard_mincost_RF5_P1e5_2010-2050_timeseries_-337Mt/out_2046/GHG_emissions_separate_no_ag_reduction.csv\", \"GHG_sum_t\": -345379040.0, \"GHG_sum_Mt\": -345.37904}, {\"year\": 2046, \"catetory\": \"GHG\", \"base_name\": \"Agricultural Management\", \"base_ext\": \".csv\", \"path\": \"/home/docker_data/LUTO_DATA/2023_11_21__05_26_04__hard_mincost_RF5_P1e5_2010-2050_timeseries_-337Mt/out_2046/GHG_emissions_separate_agricultural_management.csv\", \"GHG_sum_t\": -23923156.0, \"GHG_sum_Mt\": -23.923156}, {\"year\": 2046, \"catetory\": \"GHG\", \"base_name\": \"Transition Penalty\", \"base_ext\": \".csv\", \"path\": \"/home/docker_data/LUTO_DATA/2023_11_21__05_26_04__hard_mincost_RF5_P1e5_2010-2050_timeseries_-337Mt/out_2046/GHG_emissions_separate_transition_penalty.csv\", \"GHG_sum_t\": 65385.156, \"GHG_sum_Mt\": 0.065385156}, {\"year\": 2046, \"catetory\": \"GHG\", \"base_name\": \"Agricultural Landuse\", \"base_ext\": \".csv\", \"path\": \"/home/docker_data/LUTO_DATA/2023_11_21__05_26_04__hard_mincost_RF5_P1e5_2010-2050_timeseries_-337Mt/out_2046/GHG_emissions_separate_agricultural_landuse.csv\", \"GHG_sum_t\": 75000774.484955, \"GHG_sum_Mt\": 75.000774484955}, {\"year\": 2047, \"catetory\": \"GHG\", \"base_name\": \"Non-Agricultural Landuse\", \"base_ext\": \".csv\", \"path\": \"/home/docker_data/LUTO_DATA/2023_11_21__05_26_04__hard_mincost_RF5_P1e5_2010-2050_timeseries_-337Mt/out_2047/GHG_emissions_separate_no_ag_reduction.csv\", \"GHG_sum_t\": -350024580.0, \"GHG_sum_Mt\": -350.02458}, {\"year\": 2047, \"catetory\": \"GHG\", \"base_name\": \"Agricultural Management\", \"base_ext\": \".csv\", \"path\": \"/home/docker_data/LUTO_DATA/2023_11_21__05_26_04__hard_mincost_RF5_P1e5_2010-2050_timeseries_-337Mt/out_2047/GHG_emissions_separate_agricultural_management.csv\", \"GHG_sum_t\": -29897764.0, \"GHG_sum_Mt\": -29.897764}, {\"year\": 2047, \"catetory\": \"GHG\", \"base_name\": \"Transition Penalty\", \"base_ext\": \".csv\", \"path\": \"/home/docker_data/LUTO_DATA/2023_11_21__05_26_04__hard_mincost_RF5_P1e5_2010-2050_timeseries_-337Mt/out_2047/GHG_emissions_separate_transition_penalty.csv\", \"GHG_sum_t\": 65385.156, \"GHG_sum_Mt\": 0.065385156}, {\"year\": 2047, \"catetory\": \"GHG\", \"base_name\": \"Agricultural Landuse\", \"base_ext\": \".csv\", \"path\": \"/home/docker_data/LUTO_DATA/2023_11_21__05_26_04__hard_mincost_RF5_P1e5_2010-2050_timeseries_-337Mt/out_2047/GHG_emissions_separate_agricultural_landuse.csv\", \"GHG_sum_t\": 74938668.62311181, \"GHG_sum_Mt\": 74.93866862311181}, {\"year\": 2048, \"catetory\": \"GHG\", \"base_name\": \"Non-Agricultural Landuse\", \"base_ext\": \".csv\", \"path\": \"/home/docker_data/LUTO_DATA/2023_11_21__05_26_04__hard_mincost_RF5_P1e5_2010-2050_timeseries_-337Mt/out_2048/GHG_emissions_separate_no_ag_reduction.csv\", \"GHG_sum_t\": -359300300.0, \"GHG_sum_Mt\": -359.3003}, {\"year\": 2048, \"catetory\": \"GHG\", \"base_name\": \"Agricultural Management\", \"base_ext\": \".csv\", \"path\": \"/home/docker_data/LUTO_DATA/2023_11_21__05_26_04__hard_mincost_RF5_P1e5_2010-2050_timeseries_-337Mt/out_2048/GHG_emissions_separate_agricultural_management.csv\", \"GHG_sum_t\": -31231440.0, \"GHG_sum_Mt\": -31.23144}, {\"year\": 2048, \"catetory\": \"GHG\", \"base_name\": \"Transition Penalty\", \"base_ext\": \".csv\", \"path\": \"/home/docker_data/LUTO_DATA/2023_11_21__05_26_04__hard_mincost_RF5_P1e5_2010-2050_timeseries_-337Mt/out_2048/GHG_emissions_separate_transition_penalty.csv\", \"GHG_sum_t\": 65385.156, \"GHG_sum_Mt\": 0.065385156}, {\"year\": 2048, \"catetory\": \"GHG\", \"base_name\": \"Agricultural Landuse\", \"base_ext\": \".csv\", \"path\": \"/home/docker_data/LUTO_DATA/2023_11_21__05_26_04__hard_mincost_RF5_P1e5_2010-2050_timeseries_-337Mt/out_2048/GHG_emissions_separate_agricultural_landuse.csv\", \"GHG_sum_t\": 74877891.53185764, \"GHG_sum_Mt\": 74.87789153185764}, {\"year\": 2049, \"catetory\": \"GHG\", \"base_name\": \"Non-Agricultural Landuse\", \"base_ext\": \".csv\", \"path\": \"/home/docker_data/LUTO_DATA/2023_11_21__05_26_04__hard_mincost_RF5_P1e5_2010-2050_timeseries_-337Mt/out_2049/GHG_emissions_separate_no_ag_reduction.csv\", \"GHG_sum_t\": -369427520.0, \"GHG_sum_Mt\": -369.42752}, {\"year\": 2049, \"catetory\": \"GHG\", \"base_name\": \"Agricultural Management\", \"base_ext\": \".csv\", \"path\": \"/home/docker_data/LUTO_DATA/2023_11_21__05_26_04__hard_mincost_RF5_P1e5_2010-2050_timeseries_-337Mt/out_2049/GHG_emissions_separate_agricultural_management.csv\", \"GHG_sum_t\": -32814244.0, \"GHG_sum_Mt\": -32.814244}, {\"year\": 2049, \"catetory\": \"GHG\", \"base_name\": \"Transition Penalty\", \"base_ext\": \".csv\", \"path\": \"/home/docker_data/LUTO_DATA/2023_11_21__05_26_04__hard_mincost_RF5_P1e5_2010-2050_timeseries_-337Mt/out_2049/GHG_emissions_separate_transition_penalty.csv\", \"GHG_sum_t\": 65385.156, \"GHG_sum_Mt\": 0.065385156}, {\"year\": 2049, \"catetory\": \"GHG\", \"base_name\": \"Agricultural Landuse\", \"base_ext\": \".csv\", \"path\": \"/home/docker_data/LUTO_DATA/2023_11_21__05_26_04__hard_mincost_RF5_P1e5_2010-2050_timeseries_-337Mt/out_2049/GHG_emissions_separate_agricultural_landuse.csv\", \"GHG_sum_t\": 75907306.04191628, \"GHG_sum_Mt\": 75.90730604191629}, {\"year\": 2050, \"catetory\": \"GHG\", \"base_name\": \"Non-Agricultural Landuse\", \"base_ext\": \".csv\", \"path\": \"/home/docker_data/LUTO_DATA/2023_11_21__05_26_04__hard_mincost_RF5_P1e5_2010-2050_timeseries_-337Mt/out_2050/GHG_emissions_separate_no_ag_reduction.csv\", \"GHG_sum_t\": -379990720.0, \"GHG_sum_Mt\": -379.99072}, {\"year\": 2050, \"catetory\": \"GHG\", \"base_name\": \"Agricultural Management\", \"base_ext\": \".csv\", \"path\": \"/home/docker_data/LUTO_DATA/2023_11_21__05_26_04__hard_mincost_RF5_P1e5_2010-2050_timeseries_-337Mt/out_2050/GHG_emissions_separate_agricultural_management.csv\", \"GHG_sum_t\": -34391990.0, \"GHG_sum_Mt\": -34.39199}, {\"year\": 2050, \"catetory\": \"GHG\", \"base_name\": \"Transition Penalty\", \"base_ext\": \".csv\", \"path\": \"/home/docker_data/LUTO_DATA/2023_11_21__05_26_04__hard_mincost_RF5_P1e5_2010-2050_timeseries_-337Mt/out_2050/GHG_emissions_separate_transition_penalty.csv\", \"GHG_sum_t\": 65385.156, \"GHG_sum_Mt\": 0.065385156}, {\"year\": 2050, \"catetory\": \"GHG\", \"base_name\": \"Agricultural Landuse\", \"base_ext\": \".csv\", \"path\": \"/home/docker_data/LUTO_DATA/2023_11_21__05_26_04__hard_mincost_RF5_P1e5_2010-2050_timeseries_-337Mt/out_2050/GHG_emissions_separate_agricultural_landuse.csv\", \"GHG_sum_t\": 77367414.80433634, \"GHG_sum_Mt\": 77.36741480433633}]}}, {\"mode\": \"vega-lite\"});\n",
       "</script>"
      ],
      "text/plain": [
       "alt.LayerChart(...)"
      ]
     },
     "execution_count": 121,
     "metadata": {},
     "output_type": "execute_result"
    }
   ],
   "source": [
    "# HIDE CODE\n",
    "\n",
    "# Create a base chart with the necessary transformations and encodings\n",
    "column_chart_individual = alt.Chart(\n",
    "    GHG_files\n",
    ").mark_bar().encode(\n",
    "    tooltip=[alt.Tooltip('base_name', title='GHG Category'),\n",
    "             alt.Tooltip('GHG_sum_Mt:Q', title='Emissions (Mt CO2e)')],\n",
    "    x=alt.X('year:O',axis=alt.Axis(title=\"Year\", labelAngle=-90)), \n",
    "    y=alt.Y('GHG_sum_Mt:Q',title='Emissions (Mt CO2e)'),  \n",
    "    color=alt.Color('base_name:N',legend=alt.Legend(\n",
    "                                            title=None,\n",
    "                                            orient='none',\n",
    "                                            legendX=810, legendY=200,\n",
    "                                            direction='vertical',\n",
    "                                            titleAnchor='middle')), \n",
    "    \n",
    ")\n",
    "\n",
    "\n",
    "\n",
    "# Create a column chart to show the cumsum emissions\n",
    "column_chart_cumsum = alt.Chart(\n",
    "    Net_emission\n",
    ").mark_bar(\n",
    "    color='grey',opacity=0.2\n",
    ").transform_calculate(\n",
    "    Cumulative_emissions =  'datum.year > 0 ? \"Cumulative emissions\" : \"Cumulative emissions\"'\n",
    ").encode(  \n",
    "    tooltip=[alt.Tooltip('Net_emission_cum:Q',title='Cumulative Quantity (Mt CO2e)')],\n",
    "    color=alt.Color('Cumulative_emissions:N',\n",
    "                    scale=alt.Scale(range=['#181818'])  ,\n",
    "                    legend=alt.Legend(title=None,\n",
    "                                      orient='none',\n",
    "                                      legendX=810, legendY=270,\n",
    "                                      direction='vertical',\n",
    "                                      titleAnchor='middle')),\n",
    "    x=alt.X('year:O'),\n",
    "    y=alt.Y('Net_emission_cum:Q',title='Emissions (Mt CO2e)'), \n",
    ")\n",
    "\n",
    "\n",
    "\n",
    "\n",
    "# Create a line chart for net emissions\n",
    "line_chart_net = alt.Chart(\n",
    "    Net_emission\n",
    ").transform_calculate(\n",
    "    Net_emission_color =  'datum.year > 0 ? \"Net emissions\" : \"Net emissions\"'\n",
    ").mark_line(\n",
    "    opacity=0.7\n",
    ").encode(\n",
    "    tooltip=[alt.Tooltip('Net_emission:Q',title='Net Quantity (Mt CO2e)')],\n",
    "    color=alt.Color('Net_emission_color:N',legend=alt.Legend(\n",
    "                                            title=None,\n",
    "                                            orient='none',\n",
    "                                            legendX=810, legendY=290,\n",
    "                                            direction='vertical',\n",
    "                                            titleAnchor='middle')),\n",
    "    x=alt.X('year:O'),\n",
    "    y=alt.Y('Net_emission:Q',title='Emissions (Mt CO2e)'))\n",
    "\n",
    "\n",
    "\n",
    "\n",
    "# Combine the layers into a final chart\n",
    "final_chart = alt.layer(\n",
    "    column_chart_cumsum,\n",
    "    column_chart_individual,\n",
    "    line_chart_net,\n",
    ").properties(\n",
    "    width=800,\n",
    "    height=450,\n",
    ").resolve_scale(\n",
    "    color='independent'\n",
    ")\n",
    "\n",
    "\n",
    "final_chart\n"
   ]
  },
  {
   "cell_type": "code",
   "execution_count": null,
   "metadata": {},
   "outputs": [],
   "source": []
  },
  {
   "cell_type": "code",
   "execution_count": null,
   "metadata": {},
   "outputs": [],
   "source": []
  },
  {
   "cell_type": "code",
   "execution_count": null,
   "metadata": {},
   "outputs": [],
   "source": []
  },
  {
   "cell_type": "markdown",
   "metadata": {},
   "source": [
    "## Agricultural Land use Emissions"
   ]
  },
  {
   "cell_type": "code",
   "execution_count": null,
   "metadata": {},
   "outputs": [],
   "source": []
  },
  {
   "cell_type": "markdown",
   "metadata": {},
   "source": [
    "Get the Agricultural land-use data"
   ]
  },
  {
   "cell_type": "code",
   "execution_count": 27,
   "metadata": {
    "tags": [
     "remove-cell"
    ]
   },
   "outputs": [],
   "source": [
    "# HIDDEN\n",
    "# Initialize the class\n",
    "ag_lucc_GHG = get_GHG_plots(GHG_files,'Agricultural Landuse','GHG emissions (Mt CO2e)')"
   ]
  },
  {
   "cell_type": "code",
   "execution_count": null,
   "metadata": {},
   "outputs": [],
   "source": []
  },
  {
   "cell_type": "markdown",
   "metadata": {},
   "source": [
    "### Emissions by Crops/Livestocks"
   ]
  },
  {
   "cell_type": "code",
   "execution_count": 28,
   "metadata": {
    "tags": [
     "hide-input"
    ]
   },
   "outputs": [
    {
     "data": {
      "text/html": [
       "\n",
       "<style>\n",
       "  #altair-viz-4fb79c73f9634e81bcf6eb2cd9cdb678.vega-embed {\n",
       "    width: 100%;\n",
       "    display: flex;\n",
       "  }\n",
       "\n",
       "  #altair-viz-4fb79c73f9634e81bcf6eb2cd9cdb678.vega-embed details,\n",
       "  #altair-viz-4fb79c73f9634e81bcf6eb2cd9cdb678.vega-embed details summary {\n",
       "    position: relative;\n",
       "  }\n",
       "</style>\n",
       "<div id=\"altair-viz-4fb79c73f9634e81bcf6eb2cd9cdb678\"></div>\n",
       "<script type=\"text/javascript\">\n",
       "  var VEGA_DEBUG = (typeof VEGA_DEBUG == \"undefined\") ? {} : VEGA_DEBUG;\n",
       "  (function(spec, embedOpt){\n",
       "    let outputDiv = document.currentScript.previousElementSibling;\n",
       "    if (outputDiv.id !== \"altair-viz-4fb79c73f9634e81bcf6eb2cd9cdb678\") {\n",
       "      outputDiv = document.getElementById(\"altair-viz-4fb79c73f9634e81bcf6eb2cd9cdb678\");\n",
       "    }\n",
       "    const paths = {\n",
       "      \"vega\": \"https://cdn.jsdelivr.net/npm/vega@5?noext\",\n",
       "      \"vega-lib\": \"https://cdn.jsdelivr.net/npm/vega-lib?noext\",\n",
       "      \"vega-lite\": \"https://cdn.jsdelivr.net/npm/vega-lite@5.15.1?noext\",\n",
       "      \"vega-embed\": \"https://cdn.jsdelivr.net/npm/vega-embed@6?noext\",\n",
       "    };\n",
       "\n",
       "    function maybeLoadScript(lib, version) {\n",
       "      var key = `${lib.replace(\"-\", \"\")}_version`;\n",
       "      return (VEGA_DEBUG[key] == version) ?\n",
       "        Promise.resolve(paths[lib]) :\n",
       "        new Promise(function(resolve, reject) {\n",
       "          var s = document.createElement('script');\n",
       "          document.getElementsByTagName(\"head\")[0].appendChild(s);\n",
       "          s.async = true;\n",
       "          s.onload = () => {\n",
       "            VEGA_DEBUG[key] = version;\n",
       "            return resolve(paths[lib]);\n",
       "          };\n",
       "          s.onerror = () => reject(`Error loading script: ${paths[lib]}`);\n",
       "          s.src = paths[lib];\n",
       "        });\n",
       "    }\n",
       "\n",
       "    function showError(err) {\n",
       "      outputDiv.innerHTML = `<div class=\"error\" style=\"color:red;\">${err}</div>`;\n",
       "      throw err;\n",
       "    }\n",
       "\n",
       "    function displayChart(vegaEmbed) {\n",
       "      vegaEmbed(outputDiv, spec, embedOpt)\n",
       "        .catch(err => showError(`Javascript Error: ${err.message}<br>This usually means there's a typo in your chart specification. See the javascript console for the full traceback.`));\n",
       "    }\n",
       "\n",
       "    if(typeof define === \"function\" && define.amd) {\n",
       "      requirejs.config({paths});\n",
       "      require([\"vega-embed\"], displayChart, err => showError(`Error loading script: ${err.message}`));\n",
       "    } else {\n",
       "      maybeLoadScript(\"vega\", \"5\")\n",
       "        .then(() => maybeLoadScript(\"vega-lite\", \"5.15.1\"))\n",
       "        .then(() => maybeLoadScript(\"vega-embed\", \"6\"))\n",
       "        .catch(showError)\n",
       "        .then(() => displayChart(vegaEmbed));\n",
       "    }\n",
       "  })({\"config\": {\"view\": {\"continuousWidth\": 300, \"continuousHeight\": 300}}, \"layer\": [{\"mark\": {\"type\": \"bar\"}, \"encoding\": {\"color\": {\"field\": \"Land use category\", \"legend\": {\"direction\": \"horizontal\", \"legendX\": 350, \"legendY\": -40, \"orient\": \"none\", \"title\": \"Landuse type\", \"titleAnchor\": \"middle\"}, \"type\": \"nominal\"}, \"tooltip\": [{\"field\": \"Land use category\", \"title\": \"Landuse type\", \"type\": \"ordinal\"}, {\"field\": \"Quantity (Mt CO2e)\", \"title\": \"GHG emissions (Mt CO2e)\", \"type\": \"quantitative\"}], \"x\": {\"axis\": {\"labelAngle\": -90, \"title\": \"Year\"}, \"field\": \"Year\", \"type\": \"ordinal\"}, \"y\": {\"field\": \"Quantity (Mt CO2e)\", \"scale\": {\"reverse\": false, \"zero\": false}, \"title\": \"GHG emissions (Mt CO2e) (Mt CO2e)\", \"type\": \"quantitative\"}}}], \"data\": {\"name\": \"data-c9558f8351ed1a3f9300ebfde6e1773b\"}, \"height\": 450, \"width\": 800, \"$schema\": \"https://vega.github.io/schema/vega-lite/v5.15.1.json\", \"datasets\": {\"data-c9558f8351ed1a3f9300ebfde6e1773b\": [{\"Year\": 2010, \"Land use category\": \"Crop\", \"Quantity (Mt CO2e)\": 14.227128074294038}, {\"Year\": 2010, \"Land use category\": \"Livestock\", \"Quantity (Mt CO2e)\": 76.2847748290557}, {\"Year\": 2011, \"Land use category\": \"Crop\", \"Quantity (Mt CO2e)\": 13.63422894826687}, {\"Year\": 2011, \"Land use category\": \"Livestock\", \"Quantity (Mt CO2e)\": 75.6857653726477}, {\"Year\": 2012, \"Land use category\": \"Crop\", \"Quantity (Mt CO2e)\": 13.660411789181104}, {\"Year\": 2012, \"Land use category\": \"Livestock\", \"Quantity (Mt CO2e)\": 75.68372188752996}, {\"Year\": 2013, \"Land use category\": \"Crop\", \"Quantity (Mt CO2e)\": 13.693107274852967}, {\"Year\": 2013, \"Land use category\": \"Livestock\", \"Quantity (Mt CO2e)\": 75.51124790904672}, {\"Year\": 2014, \"Land use category\": \"Crop\", \"Quantity (Mt CO2e)\": 13.688469795182904}, {\"Year\": 2014, \"Land use category\": \"Livestock\", \"Quantity (Mt CO2e)\": 75.37702865638803}, {\"Year\": 2015, \"Land use category\": \"Crop\", \"Quantity (Mt CO2e)\": 13.659463138975465}, {\"Year\": 2015, \"Land use category\": \"Livestock\", \"Quantity (Mt CO2e)\": 75.29805085647335}, {\"Year\": 2016, \"Land use category\": \"Crop\", \"Quantity (Mt CO2e)\": 13.661767355016204}, {\"Year\": 2016, \"Land use category\": \"Livestock\", \"Quantity (Mt CO2e)\": 75.15292210904106}, {\"Year\": 2017, \"Land use category\": \"Crop\", \"Quantity (Mt CO2e)\": 13.6248915004305}, {\"Year\": 2017, \"Land use category\": \"Livestock\", \"Quantity (Mt CO2e)\": 74.96629284081692}, {\"Year\": 2018, \"Land use category\": \"Crop\", \"Quantity (Mt CO2e)\": 13.564101251717238}, {\"Year\": 2018, \"Land use category\": \"Livestock\", \"Quantity (Mt CO2e)\": 74.78158673612306}, {\"Year\": 2019, \"Land use category\": \"Crop\", \"Quantity (Mt CO2e)\": 13.523379728123668}, {\"Year\": 2019, \"Land use category\": \"Livestock\", \"Quantity (Mt CO2e)\": 74.58165230993377}, {\"Year\": 2020, \"Land use category\": \"Crop\", \"Quantity (Mt CO2e)\": 13.505452842752174}, {\"Year\": 2020, \"Land use category\": \"Livestock\", \"Quantity (Mt CO2e)\": 74.35561406228952}, {\"Year\": 2021, \"Land use category\": \"Crop\", \"Quantity (Mt CO2e)\": 13.545219126996377}, {\"Year\": 2021, \"Land use category\": \"Livestock\", \"Quantity (Mt CO2e)\": 73.7840134245059}, {\"Year\": 2022, \"Land use category\": \"Crop\", \"Quantity (Mt CO2e)\": 13.576482114484033}, {\"Year\": 2022, \"Land use category\": \"Livestock\", \"Quantity (Mt CO2e)\": 73.2124356551418}, {\"Year\": 2023, \"Land use category\": \"Crop\", \"Quantity (Mt CO2e)\": 13.595860491451523}, {\"Year\": 2023, \"Land use category\": \"Livestock\", \"Quantity (Mt CO2e)\": 72.66149147477796}, {\"Year\": 2024, \"Land use category\": \"Crop\", \"Quantity (Mt CO2e)\": 13.63869886734126}, {\"Year\": 2024, \"Land use category\": \"Livestock\", \"Quantity (Mt CO2e)\": 72.1689225467927}, {\"Year\": 2025, \"Land use category\": \"Crop\", \"Quantity (Mt CO2e)\": 13.689692251686129}, {\"Year\": 2025, \"Land use category\": \"Livestock\", \"Quantity (Mt CO2e)\": 71.72443351127494}, {\"Year\": 2026, \"Land use category\": \"Crop\", \"Quantity (Mt CO2e)\": 13.687386369067333}, {\"Year\": 2026, \"Land use category\": \"Livestock\", \"Quantity (Mt CO2e)\": 71.31072507516703}, {\"Year\": 2027, \"Land use category\": \"Crop\", \"Quantity (Mt CO2e)\": 13.692614419540101}, {\"Year\": 2027, \"Land use category\": \"Livestock\", \"Quantity (Mt CO2e)\": 70.87072034329103}, {\"Year\": 2028, \"Land use category\": \"Crop\", \"Quantity (Mt CO2e)\": 13.721385143260218}, {\"Year\": 2028, \"Land use category\": \"Livestock\", \"Quantity (Mt CO2e)\": 70.44870555042263}, {\"Year\": 2029, \"Land use category\": \"Crop\", \"Quantity (Mt CO2e)\": 13.710167343439716}, {\"Year\": 2029, \"Land use category\": \"Livestock\", \"Quantity (Mt CO2e)\": 70.00950687808132}, {\"Year\": 2030, \"Land use category\": \"Crop\", \"Quantity (Mt CO2e)\": 13.7633869582536}, {\"Year\": 2030, \"Land use category\": \"Livestock\", \"Quantity (Mt CO2e)\": 69.62383966262362}, {\"Year\": 2031, \"Land use category\": \"Crop\", \"Quantity (Mt CO2e)\": 13.780829081579189}, {\"Year\": 2031, \"Land use category\": \"Livestock\", \"Quantity (Mt CO2e)\": 69.27331704408085}, {\"Year\": 2032, \"Land use category\": \"Crop\", \"Quantity (Mt CO2e)\": 13.749929960504469}, {\"Year\": 2032, \"Land use category\": \"Livestock\", \"Quantity (Mt CO2e)\": 68.74533655305181}, {\"Year\": 2033, \"Land use category\": \"Crop\", \"Quantity (Mt CO2e)\": 13.718675420041432}, {\"Year\": 2033, \"Land use category\": \"Livestock\", \"Quantity (Mt CO2e)\": 68.39360786750049}, {\"Year\": 2034, \"Land use category\": \"Crop\", \"Quantity (Mt CO2e)\": 13.621540781997494}, {\"Year\": 2034, \"Land use category\": \"Livestock\", \"Quantity (Mt CO2e)\": 67.98254729892211}, {\"Year\": 2035, \"Land use category\": \"Crop\", \"Quantity (Mt CO2e)\": 13.542638353184}, {\"Year\": 2035, \"Land use category\": \"Livestock\", \"Quantity (Mt CO2e)\": 67.62586334999659}, {\"Year\": 2036, \"Land use category\": \"Crop\", \"Quantity (Mt CO2e)\": 13.471818014061418}, {\"Year\": 2036, \"Land use category\": \"Livestock\", \"Quantity (Mt CO2e)\": 67.13943468224343}, {\"Year\": 2037, \"Land use category\": \"Crop\", \"Quantity (Mt CO2e)\": 13.409440657165145}, {\"Year\": 2037, \"Land use category\": \"Livestock\", \"Quantity (Mt CO2e)\": 66.7304896391351}, {\"Year\": 2038, \"Land use category\": \"Crop\", \"Quantity (Mt CO2e)\": 13.294673287309616}, {\"Year\": 2038, \"Land use category\": \"Livestock\", \"Quantity (Mt CO2e)\": 66.25590802852962}, {\"Year\": 2039, \"Land use category\": \"Crop\", \"Quantity (Mt CO2e)\": 13.05988488208785}, {\"Year\": 2039, \"Land use category\": \"Livestock\", \"Quantity (Mt CO2e)\": 65.84557242964499}, {\"Year\": 2040, \"Land use category\": \"Crop\", \"Quantity (Mt CO2e)\": 12.7529781104103}, {\"Year\": 2040, \"Land use category\": \"Livestock\", \"Quantity (Mt CO2e)\": 65.50147976577215}, {\"Year\": 2041, \"Land use category\": \"Crop\", \"Quantity (Mt CO2e)\": 12.489424194436312}, {\"Year\": 2041, \"Land use category\": \"Livestock\", \"Quantity (Mt CO2e)\": 65.16459362193521}, {\"Year\": 2042, \"Land use category\": \"Crop\", \"Quantity (Mt CO2e)\": 12.129536479134108}, {\"Year\": 2042, \"Land use category\": \"Livestock\", \"Quantity (Mt CO2e)\": 64.83930243964294}, {\"Year\": 2043, \"Land use category\": \"Crop\", \"Quantity (Mt CO2e)\": 11.875712929166202}, {\"Year\": 2043, \"Land use category\": \"Livestock\", \"Quantity (Mt CO2e)\": 64.4737171776968}, {\"Year\": 2044, \"Land use category\": \"Crop\", \"Quantity (Mt CO2e)\": 11.660347833904039}, {\"Year\": 2044, \"Land use category\": \"Livestock\", \"Quantity (Mt CO2e)\": 64.04969537915517}, {\"Year\": 2045, \"Land use category\": \"Crop\", \"Quantity (Mt CO2e)\": 11.44373996564885}, {\"Year\": 2045, \"Land use category\": \"Livestock\", \"Quantity (Mt CO2e)\": 63.711738881583024}, {\"Year\": 2046, \"Land use category\": \"Crop\", \"Quantity (Mt CO2e)\": 11.433519601873607}, {\"Year\": 2046, \"Land use category\": \"Livestock\", \"Quantity (Mt CO2e)\": 63.566168595594235}, {\"Year\": 2047, \"Land use category\": \"Crop\", \"Quantity (Mt CO2e)\": 11.42997360781643}, {\"Year\": 2047, \"Land use category\": \"Livestock\", \"Quantity (Mt CO2e)\": 63.508695015295395}, {\"Year\": 2048, \"Land use category\": \"Crop\", \"Quantity (Mt CO2e)\": 11.35155569155838}, {\"Year\": 2048, \"Land use category\": \"Livestock\", \"Quantity (Mt CO2e)\": 63.526271556454994}, {\"Year\": 2049, \"Land use category\": \"Crop\", \"Quantity (Mt CO2e)\": 11.274432530969712}, {\"Year\": 2049, \"Land use category\": \"Livestock\", \"Quantity (Mt CO2e)\": 64.63277690983521}, {\"Year\": 2050, \"Land use category\": \"Crop\", \"Quantity (Mt CO2e)\": 11.194754610825418}, {\"Year\": 2050, \"Land use category\": \"Livestock\", \"Quantity (Mt CO2e)\": 66.1726601935109}]}}, {\"mode\": \"vega-lite\"});\n",
       "</script>"
      ],
      "text/plain": [
       "alt.LayerChart(...)"
      ]
     },
     "execution_count": 28,
     "metadata": {},
     "output_type": "execute_result"
    }
   ],
   "source": [
    "# HIDE CODE\n",
    "# get the df and plot\n",
    "GHG_crop_lvstk_df,GHG_crop_lvstk_plot = ag_lucc_GHG.plot_GHG_crop_lvstk()\n",
    "GHG_crop_lvstk_plot"
   ]
  },
  {
   "cell_type": "code",
   "execution_count": null,
   "metadata": {},
   "outputs": [],
   "source": []
  },
  {
   "cell_type": "code",
   "execution_count": null,
   "metadata": {},
   "outputs": [],
   "source": []
  },
  {
   "cell_type": "markdown",
   "metadata": {},
   "source": [
    "### Emissions by differrnt irrigation system"
   ]
  },
  {
   "cell_type": "code",
   "execution_count": 29,
   "metadata": {
    "tags": [
     "hide-input"
    ]
   },
   "outputs": [
    {
     "data": {
      "text/html": [
       "\n",
       "<style>\n",
       "  #altair-viz-3ece47f0fbce4f1e8de2d9abd0ea58bc.vega-embed {\n",
       "    width: 100%;\n",
       "    display: flex;\n",
       "  }\n",
       "\n",
       "  #altair-viz-3ece47f0fbce4f1e8de2d9abd0ea58bc.vega-embed details,\n",
       "  #altair-viz-3ece47f0fbce4f1e8de2d9abd0ea58bc.vega-embed details summary {\n",
       "    position: relative;\n",
       "  }\n",
       "</style>\n",
       "<div id=\"altair-viz-3ece47f0fbce4f1e8de2d9abd0ea58bc\"></div>\n",
       "<script type=\"text/javascript\">\n",
       "  var VEGA_DEBUG = (typeof VEGA_DEBUG == \"undefined\") ? {} : VEGA_DEBUG;\n",
       "  (function(spec, embedOpt){\n",
       "    let outputDiv = document.currentScript.previousElementSibling;\n",
       "    if (outputDiv.id !== \"altair-viz-3ece47f0fbce4f1e8de2d9abd0ea58bc\") {\n",
       "      outputDiv = document.getElementById(\"altair-viz-3ece47f0fbce4f1e8de2d9abd0ea58bc\");\n",
       "    }\n",
       "    const paths = {\n",
       "      \"vega\": \"https://cdn.jsdelivr.net/npm/vega@5?noext\",\n",
       "      \"vega-lib\": \"https://cdn.jsdelivr.net/npm/vega-lib?noext\",\n",
       "      \"vega-lite\": \"https://cdn.jsdelivr.net/npm/vega-lite@5.15.1?noext\",\n",
       "      \"vega-embed\": \"https://cdn.jsdelivr.net/npm/vega-embed@6?noext\",\n",
       "    };\n",
       "\n",
       "    function maybeLoadScript(lib, version) {\n",
       "      var key = `${lib.replace(\"-\", \"\")}_version`;\n",
       "      return (VEGA_DEBUG[key] == version) ?\n",
       "        Promise.resolve(paths[lib]) :\n",
       "        new Promise(function(resolve, reject) {\n",
       "          var s = document.createElement('script');\n",
       "          document.getElementsByTagName(\"head\")[0].appendChild(s);\n",
       "          s.async = true;\n",
       "          s.onload = () => {\n",
       "            VEGA_DEBUG[key] = version;\n",
       "            return resolve(paths[lib]);\n",
       "          };\n",
       "          s.onerror = () => reject(`Error loading script: ${paths[lib]}`);\n",
       "          s.src = paths[lib];\n",
       "        });\n",
       "    }\n",
       "\n",
       "    function showError(err) {\n",
       "      outputDiv.innerHTML = `<div class=\"error\" style=\"color:red;\">${err}</div>`;\n",
       "      throw err;\n",
       "    }\n",
       "\n",
       "    function displayChart(vegaEmbed) {\n",
       "      vegaEmbed(outputDiv, spec, embedOpt)\n",
       "        .catch(err => showError(`Javascript Error: ${err.message}<br>This usually means there's a typo in your chart specification. See the javascript console for the full traceback.`));\n",
       "    }\n",
       "\n",
       "    if(typeof define === \"function\" && define.amd) {\n",
       "      requirejs.config({paths});\n",
       "      require([\"vega-embed\"], displayChart, err => showError(`Error loading script: ${err.message}`));\n",
       "    } else {\n",
       "      maybeLoadScript(\"vega\", \"5\")\n",
       "        .then(() => maybeLoadScript(\"vega-lite\", \"5.15.1\"))\n",
       "        .then(() => maybeLoadScript(\"vega-embed\", \"6\"))\n",
       "        .catch(showError)\n",
       "        .then(() => displayChart(vegaEmbed));\n",
       "    }\n",
       "  })({\"config\": {\"view\": {\"continuousWidth\": 300, \"continuousHeight\": 300}}, \"layer\": [{\"mark\": {\"type\": \"bar\"}, \"encoding\": {\"color\": {\"field\": \"Irrigation\", \"legend\": {\"direction\": \"horizontal\", \"legendX\": 350, \"legendY\": -40, \"orient\": \"none\", \"title\": \"Irrigation\", \"titleAnchor\": \"middle\"}, \"type\": \"nominal\"}, \"tooltip\": [{\"field\": \"Irrigation\", \"title\": \"Irrigation\", \"type\": \"nominal\"}, {\"field\": \"Quantity (Mt CO2e)\", \"title\": \"GHG emissions (Mt CO2e)\", \"type\": \"quantitative\"}], \"x\": {\"axis\": {\"labelAngle\": -90, \"title\": \"Year\"}, \"field\": \"Year\", \"type\": \"ordinal\"}, \"y\": {\"field\": \"Quantity (Mt CO2e)\", \"scale\": {\"reverse\": false}, \"title\": \"GHG emissions (Mt CO2e) (Mt CO2e)\", \"type\": \"quantitative\"}}}], \"data\": {\"name\": \"data-894fc9f1a08f38076416c5b4786499b4\"}, \"height\": 450, \"width\": 800, \"$schema\": \"https://vega.github.io/schema/vega-lite/v5.15.1.json\", \"datasets\": {\"data-894fc9f1a08f38076416c5b4786499b4\": [{\"Year\": 2010, \"Irrigation\": \"dry\", \"Quantity (Mt CO2e)\": 83.56158070647245}, {\"Year\": 2010, \"Irrigation\": \"irr\", \"Quantity (Mt CO2e)\": 6.950322196877289}, {\"Year\": 2011, \"Irrigation\": \"dry\", \"Quantity (Mt CO2e)\": 82.04872347817313}, {\"Year\": 2011, \"Irrigation\": \"irr\", \"Quantity (Mt CO2e)\": 7.271270842741436}, {\"Year\": 2012, \"Irrigation\": \"dry\", \"Quantity (Mt CO2e)\": 81.9181044242776}, {\"Year\": 2012, \"Irrigation\": \"irr\", \"Quantity (Mt CO2e)\": 7.4260292524334925}, {\"Year\": 2013, \"Irrigation\": \"dry\", \"Quantity (Mt CO2e)\": 81.36879609894447}, {\"Year\": 2013, \"Irrigation\": \"irr\", \"Quantity (Mt CO2e)\": 7.8355590849552}, {\"Year\": 2014, \"Irrigation\": \"dry\", \"Quantity (Mt CO2e)\": 80.89310354071692}, {\"Year\": 2014, \"Irrigation\": \"irr\", \"Quantity (Mt CO2e)\": 8.172394910854024}, {\"Year\": 2015, \"Irrigation\": \"dry\", \"Quantity (Mt CO2e)\": 80.29632794068094}, {\"Year\": 2015, \"Irrigation\": \"irr\", \"Quantity (Mt CO2e)\": 8.661186054767853}, {\"Year\": 2016, \"Irrigation\": \"dry\", \"Quantity (Mt CO2e)\": 79.84891850072295}, {\"Year\": 2016, \"Irrigation\": \"irr\", \"Quantity (Mt CO2e)\": 8.965770963334325}, {\"Year\": 2017, \"Irrigation\": \"dry\", \"Quantity (Mt CO2e)\": 79.48085353959618}, {\"Year\": 2017, \"Irrigation\": \"irr\", \"Quantity (Mt CO2e)\": 9.110330801651203}, {\"Year\": 2018, \"Irrigation\": \"dry\", \"Quantity (Mt CO2e)\": 79.0664281981421}, {\"Year\": 2018, \"Irrigation\": \"irr\", \"Quantity (Mt CO2e)\": 9.279259789698214}, {\"Year\": 2019, \"Irrigation\": \"dry\", \"Quantity (Mt CO2e)\": 78.69114082370395}, {\"Year\": 2019, \"Irrigation\": \"irr\", \"Quantity (Mt CO2e)\": 9.413891214353484}, {\"Year\": 2020, \"Irrigation\": \"dry\", \"Quantity (Mt CO2e)\": 78.29346985540577}, {\"Year\": 2020, \"Irrigation\": \"irr\", \"Quantity (Mt CO2e)\": 9.567597049635914}, {\"Year\": 2021, \"Irrigation\": \"dry\", \"Quantity (Mt CO2e)\": 77.70321722646356}, {\"Year\": 2021, \"Irrigation\": \"irr\", \"Quantity (Mt CO2e)\": 9.626015325038736}, {\"Year\": 2022, \"Irrigation\": \"dry\", \"Quantity (Mt CO2e)\": 77.09710091921421}, {\"Year\": 2022, \"Irrigation\": \"irr\", \"Quantity (Mt CO2e)\": 9.691816850411616}, {\"Year\": 2023, \"Irrigation\": \"dry\", \"Quantity (Mt CO2e)\": 76.49999016979804}, {\"Year\": 2023, \"Irrigation\": \"irr\", \"Quantity (Mt CO2e)\": 9.75736179643149}, {\"Year\": 2024, \"Irrigation\": \"dry\", \"Quantity (Mt CO2e)\": 75.91492424164693}, {\"Year\": 2024, \"Irrigation\": \"irr\", \"Quantity (Mt CO2e)\": 9.89269717248706}, {\"Year\": 2025, \"Irrigation\": \"dry\", \"Quantity (Mt CO2e)\": 75.42827656807383}, {\"Year\": 2025, \"Irrigation\": \"irr\", \"Quantity (Mt CO2e)\": 9.985849194887262}, {\"Year\": 2026, \"Irrigation\": \"dry\", \"Quantity (Mt CO2e)\": 74.91197925614685}, {\"Year\": 2026, \"Irrigation\": \"irr\", \"Quantity (Mt CO2e)\": 10.086132188087534}, {\"Year\": 2027, \"Irrigation\": \"dry\", \"Quantity (Mt CO2e)\": 74.43823465385248}, {\"Year\": 2027, \"Irrigation\": \"irr\", \"Quantity (Mt CO2e)\": 10.125100108978632}, {\"Year\": 2028, \"Irrigation\": \"dry\", \"Quantity (Mt CO2e)\": 73.97353126281061}, {\"Year\": 2028, \"Irrigation\": \"irr\", \"Quantity (Mt CO2e)\": 10.196559430872258}, {\"Year\": 2029, \"Irrigation\": \"dry\", \"Quantity (Mt CO2e)\": 73.45910494476817}, {\"Year\": 2029, \"Irrigation\": \"irr\", \"Quantity (Mt CO2e)\": 10.260569276752877}, {\"Year\": 2030, \"Irrigation\": \"dry\", \"Quantity (Mt CO2e)\": 73.06100107849782}, {\"Year\": 2030, \"Irrigation\": \"irr\", \"Quantity (Mt CO2e)\": 10.326225542379376}, {\"Year\": 2031, \"Irrigation\": \"dry\", \"Quantity (Mt CO2e)\": 72.69703622091295}, {\"Year\": 2031, \"Irrigation\": \"irr\", \"Quantity (Mt CO2e)\": 10.357109904747109}, {\"Year\": 2032, \"Irrigation\": \"dry\", \"Quantity (Mt CO2e)\": 71.99606988209626}, {\"Year\": 2032, \"Irrigation\": \"irr\", \"Quantity (Mt CO2e)\": 10.49919663146002}, {\"Year\": 2033, \"Irrigation\": \"dry\", \"Quantity (Mt CO2e)\": 71.52937427900139}, {\"Year\": 2033, \"Irrigation\": \"irr\", \"Quantity (Mt CO2e)\": 10.58290900854055}, {\"Year\": 2034, \"Irrigation\": \"dry\", \"Quantity (Mt CO2e)\": 70.79579410577428}, {\"Year\": 2034, \"Irrigation\": \"irr\", \"Quantity (Mt CO2e)\": 10.808293975145343}, {\"Year\": 2035, \"Irrigation\": \"dry\", \"Quantity (Mt CO2e)\": 70.23664226906548}, {\"Year\": 2035, \"Irrigation\": \"irr\", \"Quantity (Mt CO2e)\": 10.931859434115108}, {\"Year\": 2036, \"Irrigation\": \"dry\", \"Quantity (Mt CO2e)\": 69.5778304683814}, {\"Year\": 2036, \"Irrigation\": \"irr\", \"Quantity (Mt CO2e)\": 11.033422227923433}, {\"Year\": 2037, \"Irrigation\": \"dry\", \"Quantity (Mt CO2e)\": 68.93474807006419}, {\"Year\": 2037, \"Irrigation\": \"irr\", \"Quantity (Mt CO2e)\": 11.205182226236046}, {\"Year\": 2038, \"Irrigation\": \"dry\", \"Quantity (Mt CO2e)\": 68.12191413340639}, {\"Year\": 2038, \"Irrigation\": \"irr\", \"Quantity (Mt CO2e)\": 11.428667182432841}, {\"Year\": 2039, \"Irrigation\": \"dry\", \"Quantity (Mt CO2e)\": 67.43060490007618}, {\"Year\": 2039, \"Irrigation\": \"irr\", \"Quantity (Mt CO2e)\": 11.474852411656636}, {\"Year\": 2040, \"Irrigation\": \"dry\", \"Quantity (Mt CO2e)\": 66.73964290409945}, {\"Year\": 2040, \"Irrigation\": \"irr\", \"Quantity (Mt CO2e)\": 11.514814972082993}, {\"Year\": 2041, \"Irrigation\": \"dry\", \"Quantity (Mt CO2e)\": 66.14640189660567}, {\"Year\": 2041, \"Irrigation\": \"irr\", \"Quantity (Mt CO2e)\": 11.507615919765833}, {\"Year\": 2042, \"Irrigation\": \"dry\", \"Quantity (Mt CO2e)\": 65.39344997378284}, {\"Year\": 2042, \"Irrigation\": \"irr\", \"Quantity (Mt CO2e)\": 11.57538894499421}, {\"Year\": 2043, \"Irrigation\": \"dry\", \"Quantity (Mt CO2e)\": 64.83730730553658}, {\"Year\": 2043, \"Irrigation\": \"irr\", \"Quantity (Mt CO2e)\": 11.512122801326438}, {\"Year\": 2044, \"Irrigation\": \"dry\", \"Quantity (Mt CO2e)\": 64.1652832054469}, {\"Year\": 2044, \"Irrigation\": \"irr\", \"Quantity (Mt CO2e)\": 11.544760007612322}, {\"Year\": 2045, \"Irrigation\": \"dry\", \"Quantity (Mt CO2e)\": 63.760004084112886}, {\"Year\": 2045, \"Irrigation\": \"irr\", \"Quantity (Mt CO2e)\": 11.395474763118996}, {\"Year\": 2046, \"Irrigation\": \"dry\", \"Quantity (Mt CO2e)\": 63.5595047937088}, {\"Year\": 2046, \"Irrigation\": \"irr\", \"Quantity (Mt CO2e)\": 11.440183403759068}, {\"Year\": 2047, \"Irrigation\": \"dry\", \"Quantity (Mt CO2e)\": 63.55405882073698}, {\"Year\": 2047, \"Irrigation\": \"irr\", \"Quantity (Mt CO2e)\": 11.38460980237483}, {\"Year\": 2048, \"Irrigation\": \"dry\", \"Quantity (Mt CO2e)\": 63.92349262701214}, {\"Year\": 2048, \"Irrigation\": \"irr\", \"Quantity (Mt CO2e)\": 10.954334621001253}, {\"Year\": 2049, \"Irrigation\": \"dry\", \"Quantity (Mt CO2e)\": 65.91756556469608}, {\"Year\": 2049, \"Irrigation\": \"irr\", \"Quantity (Mt CO2e)\": 9.98964387610887}, {\"Year\": 2050, \"Irrigation\": \"dry\", \"Quantity (Mt CO2e)\": 68.6185393332004}, {\"Year\": 2050, \"Irrigation\": \"irr\", \"Quantity (Mt CO2e)\": 8.748875471135936}]}}, {\"mode\": \"vega-lite\"});\n",
       "</script>"
      ],
      "text/plain": [
       "alt.LayerChart(...)"
      ]
     },
     "execution_count": 29,
     "metadata": {},
     "output_type": "execute_result"
    }
   ],
   "source": [
    "# HIDE CODE\n",
    "# get the df and plot\n",
    "GHG_dry_irr_df,GHG_dry_irr_plot = ag_lucc_GHG.plot_GHG_dry_irr()\n",
    "GHG_dry_irr_plot"
   ]
  },
  {
   "cell_type": "code",
   "execution_count": null,
   "metadata": {},
   "outputs": [],
   "source": []
  },
  {
   "cell_type": "markdown",
   "metadata": {},
   "source": [
    "### Emissions by GHG category"
   ]
  },
  {
   "cell_type": "code",
   "execution_count": 30,
   "metadata": {
    "tags": [
     "hide-input"
    ]
   },
   "outputs": [
    {
     "data": {
      "text/html": [
       "\n",
       "<style>\n",
       "  #altair-viz-df8248e1e2e440dfb88e2d0c0eff6a60.vega-embed {\n",
       "    width: 100%;\n",
       "    display: flex;\n",
       "  }\n",
       "\n",
       "  #altair-viz-df8248e1e2e440dfb88e2d0c0eff6a60.vega-embed details,\n",
       "  #altair-viz-df8248e1e2e440dfb88e2d0c0eff6a60.vega-embed details summary {\n",
       "    position: relative;\n",
       "  }\n",
       "</style>\n",
       "<div id=\"altair-viz-df8248e1e2e440dfb88e2d0c0eff6a60\"></div>\n",
       "<script type=\"text/javascript\">\n",
       "  var VEGA_DEBUG = (typeof VEGA_DEBUG == \"undefined\") ? {} : VEGA_DEBUG;\n",
       "  (function(spec, embedOpt){\n",
       "    let outputDiv = document.currentScript.previousElementSibling;\n",
       "    if (outputDiv.id !== \"altair-viz-df8248e1e2e440dfb88e2d0c0eff6a60\") {\n",
       "      outputDiv = document.getElementById(\"altair-viz-df8248e1e2e440dfb88e2d0c0eff6a60\");\n",
       "    }\n",
       "    const paths = {\n",
       "      \"vega\": \"https://cdn.jsdelivr.net/npm/vega@5?noext\",\n",
       "      \"vega-lib\": \"https://cdn.jsdelivr.net/npm/vega-lib?noext\",\n",
       "      \"vega-lite\": \"https://cdn.jsdelivr.net/npm/vega-lite@5.15.1?noext\",\n",
       "      \"vega-embed\": \"https://cdn.jsdelivr.net/npm/vega-embed@6?noext\",\n",
       "    };\n",
       "\n",
       "    function maybeLoadScript(lib, version) {\n",
       "      var key = `${lib.replace(\"-\", \"\")}_version`;\n",
       "      return (VEGA_DEBUG[key] == version) ?\n",
       "        Promise.resolve(paths[lib]) :\n",
       "        new Promise(function(resolve, reject) {\n",
       "          var s = document.createElement('script');\n",
       "          document.getElementsByTagName(\"head\")[0].appendChild(s);\n",
       "          s.async = true;\n",
       "          s.onload = () => {\n",
       "            VEGA_DEBUG[key] = version;\n",
       "            return resolve(paths[lib]);\n",
       "          };\n",
       "          s.onerror = () => reject(`Error loading script: ${paths[lib]}`);\n",
       "          s.src = paths[lib];\n",
       "        });\n",
       "    }\n",
       "\n",
       "    function showError(err) {\n",
       "      outputDiv.innerHTML = `<div class=\"error\" style=\"color:red;\">${err}</div>`;\n",
       "      throw err;\n",
       "    }\n",
       "\n",
       "    function displayChart(vegaEmbed) {\n",
       "      vegaEmbed(outputDiv, spec, embedOpt)\n",
       "        .catch(err => showError(`Javascript Error: ${err.message}<br>This usually means there's a typo in your chart specification. See the javascript console for the full traceback.`));\n",
       "    }\n",
       "\n",
       "    if(typeof define === \"function\" && define.amd) {\n",
       "      requirejs.config({paths});\n",
       "      require([\"vega-embed\"], displayChart, err => showError(`Error loading script: ${err.message}`));\n",
       "    } else {\n",
       "      maybeLoadScript(\"vega\", \"5\")\n",
       "        .then(() => maybeLoadScript(\"vega-lite\", \"5.15.1\"))\n",
       "        .then(() => maybeLoadScript(\"vega-embed\", \"6\"))\n",
       "        .catch(showError)\n",
       "        .then(() => displayChart(vegaEmbed));\n",
       "    }\n",
       "  })({\"config\": {\"view\": {\"continuousWidth\": 300, \"continuousHeight\": 300}}, \"layer\": [{\"mark\": {\"type\": \"bar\"}, \"encoding\": {\"color\": {\"field\": \"GHG Category\", \"legend\": {\"direction\": \"horizontal\", \"legendX\": 320, \"legendY\": -30, \"orient\": \"none\", \"title\": \"GHG Category\", \"titleAnchor\": \"middle\"}, \"type\": \"nominal\"}, \"tooltip\": [{\"field\": \"GHG Category\", \"title\": \"GHG Category\", \"type\": \"nominal\"}, {\"field\": \"Quantity (Mt CO2e)\", \"title\": \"GHG emissions (Mt CO2e)\", \"type\": \"quantitative\"}], \"x\": {\"axis\": {\"labelAngle\": -90, \"title\": \"Year\"}, \"field\": \"Year\", \"type\": \"ordinal\"}, \"y\": {\"field\": \"Quantity (Mt CO2e)\", \"scale\": {\"reverse\": false}, \"title\": \"GHG emissions (Mt CO2e) (Mt CO2e)\", \"type\": \"quantitative\"}}}], \"data\": {\"name\": \"data-c8c211968620752b595ce1099f56f9f5\"}, \"height\": 450, \"width\": 800, \"$schema\": \"https://vega.github.io/schema/vega-lite/v5.15.1.json\", \"datasets\": {\"data-c8c211968620752b595ce1099f56f9f5\": [{\"Year\": 2010, \"GHG Category\": \"CH4\", \"Quantity (Mt CO2e)\": 57.741578064466474}, {\"Year\": 2010, \"GHG Category\": \"CO2\", \"Quantity (Mt CO2e)\": 30.02170895194999}, {\"Year\": 2010, \"GHG Category\": \"N2O\", \"Quantity (Mt CO2e)\": 2.7486158869332664}, {\"Year\": 2011, \"GHG Category\": \"CH4\", \"Quantity (Mt CO2e)\": 57.27443233773135}, {\"Year\": 2011, \"GHG Category\": \"CO2\", \"Quantity (Mt CO2e)\": 29.429279227411186}, {\"Year\": 2011, \"GHG Category\": \"N2O\", \"Quantity (Mt CO2e)\": 2.6162827557720383}, {\"Year\": 2012, \"GHG Category\": \"CH4\", \"Quantity (Mt CO2e)\": 57.289532699753096}, {\"Year\": 2012, \"GHG Category\": \"CO2\", \"Quantity (Mt CO2e)\": 29.41545369981644}, {\"Year\": 2012, \"GHG Category\": \"N2O\", \"Quantity (Mt CO2e)\": 2.63914727714156}, {\"Year\": 2013, \"GHG Category\": \"CH4\", \"Quantity (Mt CO2e)\": 57.12637086321789}, {\"Year\": 2013, \"GHG Category\": \"CO2\", \"Quantity (Mt CO2e)\": 29.39228532901472}, {\"Year\": 2013, \"GHG Category\": \"N2O\", \"Quantity (Mt CO2e)\": 2.685698991667037}, {\"Year\": 2014, \"GHG Category\": \"CH4\", \"Quantity (Mt CO2e)\": 57.02622460549048}, {\"Year\": 2014, \"GHG Category\": \"CO2\", \"Quantity (Mt CO2e)\": 29.32979243492811}, {\"Year\": 2014, \"GHG Category\": \"N2O\", \"Quantity (Mt CO2e)\": 2.7094814111523693}, {\"Year\": 2015, \"GHG Category\": \"CH4\", \"Quantity (Mt CO2e)\": 56.91859971500776}, {\"Year\": 2015, \"GHG Category\": \"CO2\", \"Quantity (Mt CO2e)\": 29.295942735142923}, {\"Year\": 2015, \"GHG Category\": \"N2O\", \"Quantity (Mt CO2e)\": 2.7429715452980776}, {\"Year\": 2016, \"GHG Category\": \"CH4\", \"Quantity (Mt CO2e)\": 56.79963800350348}, {\"Year\": 2016, \"GHG Category\": \"CO2\", \"Quantity (Mt CO2e)\": 29.233956915272625}, {\"Year\": 2016, \"GHG Category\": \"N2O\", \"Quantity (Mt CO2e)\": 2.781094545281157}, {\"Year\": 2017, \"GHG Category\": \"CH4\", \"Quantity (Mt CO2e)\": 56.64616730121962}, {\"Year\": 2017, \"GHG Category\": \"CO2\", \"Quantity (Mt CO2e)\": 29.144173152729515}, {\"Year\": 2017, \"GHG Category\": \"N2O\", \"Quantity (Mt CO2e)\": 2.8008438872982993}, {\"Year\": 2018, \"GHG Category\": \"CH4\", \"Quantity (Mt CO2e)\": 56.51348483685226}, {\"Year\": 2018, \"GHG Category\": \"CO2\", \"Quantity (Mt CO2e)\": 29.03508876017056}, {\"Year\": 2018, \"GHG Category\": \"N2O\", \"Quantity (Mt CO2e)\": 2.797114390817497}, {\"Year\": 2019, \"GHG Category\": \"CH4\", \"Quantity (Mt CO2e)\": 56.373623842685234}, {\"Year\": 2019, \"GHG Category\": \"CO2\", \"Quantity (Mt CO2e)\": 28.919862092167957}, {\"Year\": 2019, \"GHG Category\": \"N2O\", \"Quantity (Mt CO2e)\": 2.8115461032041997}, {\"Year\": 2020, \"GHG Category\": \"CH4\", \"Quantity (Mt CO2e)\": 56.22815683768469}, {\"Year\": 2020, \"GHG Category\": \"CO2\", \"Quantity (Mt CO2e)\": 28.809231972016864}, {\"Year\": 2020, \"GHG Category\": \"N2O\", \"Quantity (Mt CO2e)\": 2.823678095340123}, {\"Year\": 2021, \"GHG Category\": \"CH4\", \"Quantity (Mt CO2e)\": 55.75479071387818}, {\"Year\": 2021, \"GHG Category\": \"CO2\", \"Quantity (Mt CO2e)\": 28.752781602020132}, {\"Year\": 2021, \"GHG Category\": \"N2O\", \"Quantity (Mt CO2e)\": 2.8216602356039475}, {\"Year\": 2022, \"GHG Category\": \"CH4\", \"Quantity (Mt CO2e)\": 55.289422808604414}, {\"Year\": 2022, \"GHG Category\": \"CO2\", \"Quantity (Mt CO2e)\": 28.673482453820995}, {\"Year\": 2022, \"GHG Category\": \"N2O\", \"Quantity (Mt CO2e)\": 2.826012507200406}, {\"Year\": 2023, \"GHG Category\": \"CH4\", \"Quantity (Mt CO2e)\": 54.82831096238479}, {\"Year\": 2023, \"GHG Category\": \"CO2\", \"Quantity (Mt CO2e)\": 28.593996851058563}, {\"Year\": 2023, \"GHG Category\": \"N2O\", \"Quantity (Mt CO2e)\": 2.8350441527861694}, {\"Year\": 2024, \"GHG Category\": \"CH4\", \"Quantity (Mt CO2e)\": 54.40746736101495}, {\"Year\": 2024, \"GHG Category\": \"CO2\", \"Quantity (Mt CO2e)\": 28.544258842078023}, {\"Year\": 2024, \"GHG Category\": \"N2O\", \"Quantity (Mt CO2e)\": 2.8558952110410316}, {\"Year\": 2025, \"GHG Category\": \"CH4\", \"Quantity (Mt CO2e)\": 54.02713821481269}, {\"Year\": 2025, \"GHG Category\": \"CO2\", \"Quantity (Mt CO2e)\": 28.525998751734562}, {\"Year\": 2025, \"GHG Category\": \"N2O\", \"Quantity (Mt CO2e)\": 2.86098879641384}, {\"Year\": 2026, \"GHG Category\": \"CH4\", \"Quantity (Mt CO2e)\": 53.643505666294125}, {\"Year\": 2026, \"GHG Category\": \"CO2\", \"Quantity (Mt CO2e)\": 28.492117129389353}, {\"Year\": 2026, \"GHG Category\": \"N2O\", \"Quantity (Mt CO2e)\": 2.862488648550879}, {\"Year\": 2027, \"GHG Category\": \"CH4\", \"Quantity (Mt CO2e)\": 53.265786176257215}, {\"Year\": 2027, \"GHG Category\": \"CO2\", \"Quantity (Mt CO2e)\": 28.43215665691378}, {\"Year\": 2027, \"GHG Category\": \"N2O\", \"Quantity (Mt CO2e)\": 2.8653919296600905}, {\"Year\": 2028, \"GHG Category\": \"CH4\", \"Quantity (Mt CO2e)\": 52.92329305270919}, {\"Year\": 2028, \"GHG Category\": \"CO2\", \"Quantity (Mt CO2e)\": 28.38089234447575}, {\"Year\": 2028, \"GHG Category\": \"N2O\", \"Quantity (Mt CO2e)\": 2.8659052964979237}, {\"Year\": 2029, \"GHG Category\": \"CH4\", \"Quantity (Mt CO2e)\": 52.542777998801014}, {\"Year\": 2029, \"GHG Category\": \"CO2\", \"Quantity (Mt CO2e)\": 28.31038508604382}, {\"Year\": 2029, \"GHG Category\": \"N2O\", \"Quantity (Mt CO2e)\": 2.866511136676197}, {\"Year\": 2030, \"GHG Category\": \"CH4\", \"Quantity (Mt CO2e)\": 52.21872704186293}, {\"Year\": 2030, \"GHG Category\": \"CO2\", \"Quantity (Mt CO2e)\": 28.29571952587776}, {\"Year\": 2030, \"GHG Category\": \"N2O\", \"Quantity (Mt CO2e)\": 2.872780053136515}, {\"Year\": 2031, \"GHG Category\": \"CH4\", \"Quantity (Mt CO2e)\": 51.88730962773588}, {\"Year\": 2031, \"GHG Category\": \"CO2\", \"Quantity (Mt CO2e)\": 28.303865095432027}, {\"Year\": 2031, \"GHG Category\": \"N2O\", \"Quantity (Mt CO2e)\": 2.862971402492142}, {\"Year\": 2032, \"GHG Category\": \"CH4\", \"Quantity (Mt CO2e)\": 51.411419589448876}, {\"Year\": 2032, \"GHG Category\": \"CO2\", \"Quantity (Mt CO2e)\": 28.216099294155068}, {\"Year\": 2032, \"GHG Category\": \"N2O\", \"Quantity (Mt CO2e)\": 2.867747629952345}, {\"Year\": 2033, \"GHG Category\": \"CH4\", \"Quantity (Mt CO2e)\": 51.03001941311805}, {\"Year\": 2033, \"GHG Category\": \"CO2\", \"Quantity (Mt CO2e)\": 28.227798869880385}, {\"Year\": 2033, \"GHG Category\": \"N2O\", \"Quantity (Mt CO2e)\": 2.8544650045435054}, {\"Year\": 2034, \"GHG Category\": \"CH4\", \"Quantity (Mt CO2e)\": 50.6029516474663}, {\"Year\": 2034, \"GHG Category\": \"CO2\", \"Quantity (Mt CO2e)\": 28.136159057110035}, {\"Year\": 2034, \"GHG Category\": \"N2O\", \"Quantity (Mt CO2e)\": 2.864977376343295}, {\"Year\": 2035, \"GHG Category\": \"CH4\", \"Quantity (Mt CO2e)\": 50.22168846542372}, {\"Year\": 2035, \"GHG Category\": \"CO2\", \"Quantity (Mt CO2e)\": 28.082026164515963}, {\"Year\": 2035, \"GHG Category\": \"N2O\", \"Quantity (Mt CO2e)\": 2.8647870732408984}, {\"Year\": 2036, \"GHG Category\": \"CH4\", \"Quantity (Mt CO2e)\": 49.76638462570553}, {\"Year\": 2036, \"GHG Category\": \"CO2\", \"Quantity (Mt CO2e)\": 27.98302904081035}, {\"Year\": 2036, \"GHG Category\": \"N2O\", \"Quantity (Mt CO2e)\": 2.861839029788945}, {\"Year\": 2037, \"GHG Category\": \"CH4\", \"Quantity (Mt CO2e)\": 49.341779711525014}, {\"Year\": 2037, \"GHG Category\": \"CO2\", \"Quantity (Mt CO2e)\": 27.931888149197178}, {\"Year\": 2037, \"GHG Category\": \"N2O\", \"Quantity (Mt CO2e)\": 2.866262435578033}, {\"Year\": 2038, \"GHG Category\": \"CH4\", \"Quantity (Mt CO2e)\": 48.848603467724004}, {\"Year\": 2038, \"GHG Category\": \"CO2\", \"Quantity (Mt CO2e)\": 27.834025033801886}, {\"Year\": 2038, \"GHG Category\": \"N2O\", \"Quantity (Mt CO2e)\": 2.8679528143133486}, {\"Year\": 2039, \"GHG Category\": \"CH4\", \"Quantity (Mt CO2e)\": 48.42720188307221}, {\"Year\": 2039, \"GHG Category\": \"CO2\", \"Quantity (Mt CO2e)\": 27.635107099782793}, {\"Year\": 2039, \"GHG Category\": \"N2O\", \"Quantity (Mt CO2e)\": 2.8431483288778217}, {\"Year\": 2040, \"GHG Category\": \"CH4\", \"Quantity (Mt CO2e)\": 48.037857283439614}, {\"Year\": 2040, \"GHG Category\": \"CO2\", \"Quantity (Mt CO2e)\": 27.401990425157972}, {\"Year\": 2040, \"GHG Category\": \"N2O\", \"Quantity (Mt CO2e)\": 2.8146101675848527}, {\"Year\": 2041, \"GHG Category\": \"CH4\", \"Quantity (Mt CO2e)\": 47.70389361710008}, {\"Year\": 2041, \"GHG Category\": \"CO2\", \"Quantity (Mt CO2e)\": 27.162694958731485}, {\"Year\": 2041, \"GHG Category\": \"N2O\", \"Quantity (Mt CO2e)\": 2.7874292405399155}, {\"Year\": 2042, \"GHG Category\": \"CH4\", \"Quantity (Mt CO2e)\": 47.395062781594866}, {\"Year\": 2042, \"GHG Category\": \"CO2\", \"Quantity (Mt CO2e)\": 26.822993788871923}, {\"Year\": 2042, \"GHG Category\": \"N2O\", \"Quantity (Mt CO2e)\": 2.7507823483102585}, {\"Year\": 2043, \"GHG Category\": \"CH4\", \"Quantity (Mt CO2e)\": 47.05022926311106}, {\"Year\": 2043, \"GHG Category\": \"CO2\", \"Quantity (Mt CO2e)\": 26.579903815995525}, {\"Year\": 2043, \"GHG Category\": \"N2O\", \"Quantity (Mt CO2e)\": 2.719297027756415}, {\"Year\": 2044, \"GHG Category\": \"CH4\", \"Quantity (Mt CO2e)\": 46.59471395071343}, {\"Year\": 2044, \"GHG Category\": \"CO2\", \"Quantity (Mt CO2e)\": 26.4239787744332}, {\"Year\": 2044, \"GHG Category\": \"N2O\", \"Quantity (Mt CO2e)\": 2.6913504879125867}, {\"Year\": 2045, \"GHG Category\": \"CH4\", \"Quantity (Mt CO2e)\": 46.17544636944722}, {\"Year\": 2045, \"GHG Category\": \"CO2\", \"Quantity (Mt CO2e)\": 26.350231153743376}, {\"Year\": 2045, \"GHG Category\": \"N2O\", \"Quantity (Mt CO2e)\": 2.6298013240412677}, {\"Year\": 2046, \"GHG Category\": \"CH4\", \"Quantity (Mt CO2e)\": 45.95148580826764}, {\"Year\": 2046, \"GHG Category\": \"CO2\", \"Quantity (Mt CO2e)\": 26.444963422209206}, {\"Year\": 2046, \"GHG Category\": \"N2O\", \"Quantity (Mt CO2e)\": 2.6032389669910017}, {\"Year\": 2047, \"GHG Category\": \"CH4\", \"Quantity (Mt CO2e)\": 45.78818047494355}, {\"Year\": 2047, \"GHG Category\": \"CO2\", \"Quantity (Mt CO2e)\": 26.572115089274625}, {\"Year\": 2047, \"GHG Category\": \"N2O\", \"Quantity (Mt CO2e)\": 2.578373058893645}, {\"Year\": 2048, \"GHG Category\": \"CH4\", \"Quantity (Mt CO2e)\": 45.667883709365135}, {\"Year\": 2048, \"GHG Category\": \"CO2\", \"Quantity (Mt CO2e)\": 26.682568180248946}, {\"Year\": 2048, \"GHG Category\": \"N2O\", \"Quantity (Mt CO2e)\": 2.5273753583993064}, {\"Year\": 2049, \"GHG Category\": \"CH4\", \"Quantity (Mt CO2e)\": 46.71567113899025}, {\"Year\": 2049, \"GHG Category\": \"CO2\", \"Quantity (Mt CO2e)\": 26.757127437923725}, {\"Year\": 2049, \"GHG Category\": \"N2O\", \"Quantity (Mt CO2e)\": 2.4344108638909723}, {\"Year\": 2050, \"GHG Category\": \"CH4\", \"Quantity (Mt CO2e)\": 48.12300105331174}, {\"Year\": 2050, \"GHG Category\": \"CO2\", \"Quantity (Mt CO2e)\": 26.916879296166847}, {\"Year\": 2050, \"GHG Category\": \"N2O\", \"Quantity (Mt CO2e)\": 2.3275344548577626}]}}, {\"mode\": \"vega-lite\"});\n",
       "</script>"
      ],
      "text/plain": [
       "alt.LayerChart(...)"
      ]
     },
     "execution_count": 30,
     "metadata": {},
     "output_type": "execute_result"
    }
   ],
   "source": [
    "# HIDE CODE\n",
    "# get the df and plot\n",
    "GHG_catetory_df,GHG_atetory_plot = ag_lucc_GHG.plot_GHG_category()\n",
    "GHG_atetory_plot"
   ]
  },
  {
   "cell_type": "code",
   "execution_count": null,
   "metadata": {},
   "outputs": [],
   "source": []
  },
  {
   "cell_type": "markdown",
   "metadata": {},
   "source": [
    "### Emission by CO2 sources"
   ]
  },
  {
   "cell_type": "code",
   "execution_count": 31,
   "metadata": {
    "tags": [
     "hide-input"
    ]
   },
   "outputs": [
    {
     "data": {
      "text/html": [
       "\n",
       "<style>\n",
       "  #altair-viz-59f1fe8355354986b52414c10462e7e9.vega-embed {\n",
       "    width: 100%;\n",
       "    display: flex;\n",
       "  }\n",
       "\n",
       "  #altair-viz-59f1fe8355354986b52414c10462e7e9.vega-embed details,\n",
       "  #altair-viz-59f1fe8355354986b52414c10462e7e9.vega-embed details summary {\n",
       "    position: relative;\n",
       "  }\n",
       "</style>\n",
       "<div id=\"altair-viz-59f1fe8355354986b52414c10462e7e9\"></div>\n",
       "<script type=\"text/javascript\">\n",
       "  var VEGA_DEBUG = (typeof VEGA_DEBUG == \"undefined\") ? {} : VEGA_DEBUG;\n",
       "  (function(spec, embedOpt){\n",
       "    let outputDiv = document.currentScript.previousElementSibling;\n",
       "    if (outputDiv.id !== \"altair-viz-59f1fe8355354986b52414c10462e7e9\") {\n",
       "      outputDiv = document.getElementById(\"altair-viz-59f1fe8355354986b52414c10462e7e9\");\n",
       "    }\n",
       "    const paths = {\n",
       "      \"vega\": \"https://cdn.jsdelivr.net/npm/vega@5?noext\",\n",
       "      \"vega-lib\": \"https://cdn.jsdelivr.net/npm/vega-lib?noext\",\n",
       "      \"vega-lite\": \"https://cdn.jsdelivr.net/npm/vega-lite@5.15.1?noext\",\n",
       "      \"vega-embed\": \"https://cdn.jsdelivr.net/npm/vega-embed@6?noext\",\n",
       "    };\n",
       "\n",
       "    function maybeLoadScript(lib, version) {\n",
       "      var key = `${lib.replace(\"-\", \"\")}_version`;\n",
       "      return (VEGA_DEBUG[key] == version) ?\n",
       "        Promise.resolve(paths[lib]) :\n",
       "        new Promise(function(resolve, reject) {\n",
       "          var s = document.createElement('script');\n",
       "          document.getElementsByTagName(\"head\")[0].appendChild(s);\n",
       "          s.async = true;\n",
       "          s.onload = () => {\n",
       "            VEGA_DEBUG[key] = version;\n",
       "            return resolve(paths[lib]);\n",
       "          };\n",
       "          s.onerror = () => reject(`Error loading script: ${paths[lib]}`);\n",
       "          s.src = paths[lib];\n",
       "        });\n",
       "    }\n",
       "\n",
       "    function showError(err) {\n",
       "      outputDiv.innerHTML = `<div class=\"error\" style=\"color:red;\">${err}</div>`;\n",
       "      throw err;\n",
       "    }\n",
       "\n",
       "    function displayChart(vegaEmbed) {\n",
       "      vegaEmbed(outputDiv, spec, embedOpt)\n",
       "        .catch(err => showError(`Javascript Error: ${err.message}<br>This usually means there's a typo in your chart specification. See the javascript console for the full traceback.`));\n",
       "    }\n",
       "\n",
       "    if(typeof define === \"function\" && define.amd) {\n",
       "      requirejs.config({paths});\n",
       "      require([\"vega-embed\"], displayChart, err => showError(`Error loading script: ${err.message}`));\n",
       "    } else {\n",
       "      maybeLoadScript(\"vega\", \"5\")\n",
       "        .then(() => maybeLoadScript(\"vega-lite\", \"5.15.1\"))\n",
       "        .then(() => maybeLoadScript(\"vega-embed\", \"6\"))\n",
       "        .catch(showError)\n",
       "        .then(() => displayChart(vegaEmbed));\n",
       "    }\n",
       "  })({\"config\": {\"view\": {\"continuousWidth\": 300, \"continuousHeight\": 300}}, \"layer\": [{\"mark\": {\"type\": \"bar\"}, \"encoding\": {\"color\": {\"field\": \"Sources\", \"legend\": {\"direction\": \"horizontal\", \"legendX\": 320, \"legendY\": -30, \"orient\": \"none\", \"title\": \"GHG Sources\", \"titleAnchor\": \"middle\"}, \"type\": \"nominal\"}, \"tooltip\": [{\"field\": \"Sources\", \"title\": \"GHG Sources\", \"type\": \"nominal\"}, {\"field\": \"Quantity (Mt CO2e)\", \"title\": \"GHG emissions (Mt CO2e)\", \"type\": \"quantitative\"}], \"x\": {\"axis\": {\"labelAngle\": -90, \"title\": \"Year\"}, \"field\": \"Year\", \"type\": \"ordinal\"}, \"y\": {\"field\": \"Quantity (Mt CO2e)\", \"scale\": {\"reverse\": false}, \"title\": \"GHG emissions (Mt CO2e) (Mt CO2e)\", \"type\": \"quantitative\"}}}], \"data\": {\"name\": \"data-c527118a2a3367d34a177930279a4bdf\"}, \"height\": 450, \"width\": 800, \"$schema\": \"https://vega.github.io/schema/vega-lite/v5.15.1.json\", \"datasets\": {\"data-c527118a2a3367d34a177930279a4bdf\": [{\"Year\": 2010, \"Sources\": \"TCO2E_CHEM_APPL\", \"Quantity (Mt CO2e)\": 1.8637020013961796}, {\"Year\": 2010, \"Sources\": \"TCO2E_CROP_MGT\", \"Quantity (Mt CO2e)\": 0.03258934836706519}, {\"Year\": 2010, \"Sources\": \"TCO2E_CULTIV\", \"Quantity (Mt CO2e)\": 0.877268312080845}, {\"Year\": 2010, \"Sources\": \"TCO2E_DUNG_URINE\", \"Quantity (Mt CO2e)\": 4.433428700008393}, {\"Year\": 2010, \"Sources\": \"TCO2E_ELEC\", \"Quantity (Mt CO2e)\": 0.42419813347530366}, {\"Year\": 2010, \"Sources\": \"TCO2E_ENTERIC\", \"Quantity (Mt CO2e)\": 55.52486371446228}, {\"Year\": 2010, \"Sources\": \"TCO2E_FERT_PROD\", \"Quantity (Mt CO2e)\": 5.3500663423597805}, {\"Year\": 2010, \"Sources\": \"TCO2E_FODDER\", \"Quantity (Mt CO2e)\": 1.4573687149884944}, {\"Year\": 2010, \"Sources\": \"TCO2E_FUEL\", \"Quantity (Mt CO2e)\": 5.984283024066432}, {\"Year\": 2010, \"Sources\": \"TCO2E_HARVEST\", \"Quantity (Mt CO2e)\": 0.3760521283593476}, {\"Year\": 2010, \"Sources\": \"TCO2E_IND_LEACH_RUNOFF\", \"Quantity (Mt CO2e)\": 2.7155013232363463}, {\"Year\": 2010, \"Sources\": \"TCO2E_IRRIG\", \"Quantity (Mt CO2e)\": 0.27673083430004114}, {\"Year\": 2010, \"Sources\": \"TCO2E_MANURE_MGT\", \"Quantity (Mt CO2e)\": 0.32997065642377593}, {\"Year\": 2010, \"Sources\": \"TCO2E_PEST_PROD\", \"Quantity (Mt CO2e)\": 2.4779868948783874}, {\"Year\": 2010, \"Sources\": \"TCO2E_SEED\", \"Quantity (Mt CO2e)\": 4.675661380761691}, {\"Year\": 2010, \"Sources\": \"TCO2E_SOIL\", \"Quantity (Mt CO2e)\": 2.7486158869332664}, {\"Year\": 2010, \"Sources\": \"TCO2E_SOWING\", \"Quantity (Mt CO2e)\": 0.9636155072521269}, {\"Year\": 2011, \"Sources\": \"TCO2E_CHEM_APPL\", \"Quantity (Mt CO2e)\": 1.8124157712084088}, {\"Year\": 2011, \"Sources\": \"TCO2E_CROP_MGT\", \"Quantity (Mt CO2e)\": 0.028038596050719605}, {\"Year\": 2011, \"Sources\": \"TCO2E_CULTIV\", \"Quantity (Mt CO2e)\": 0.8394899861814866}, {\"Year\": 2011, \"Sources\": \"TCO2E_DUNG_URINE\", \"Quantity (Mt CO2e)\": 4.403146775187253}, {\"Year\": 2011, \"Sources\": \"TCO2E_ELEC\", \"Quantity (Mt CO2e)\": 0.420484047400515}, {\"Year\": 2011, \"Sources\": \"TCO2E_ENTERIC\", \"Quantity (Mt CO2e)\": 55.07285895013772}, {\"Year\": 2011, \"Sources\": \"TCO2E_FERT_PROD\", \"Quantity (Mt CO2e)\": 5.126903400328963}, {\"Year\": 2011, \"Sources\": \"TCO2E_FODDER\", \"Quantity (Mt CO2e)\": 1.4324748668845846}, {\"Year\": 2011, \"Sources\": \"TCO2E_FUEL\", \"Quantity (Mt CO2e)\": 5.968421756633911}, {\"Year\": 2011, \"Sources\": \"TCO2E_HARVEST\", \"Quantity (Mt CO2e)\": 0.36016535055331594}, {\"Year\": 2011, \"Sources\": \"TCO2E_IND_LEACH_RUNOFF\", \"Quantity (Mt CO2e)\": 2.6762759579034108}, {\"Year\": 2011, \"Sources\": \"TCO2E_IRRIG\", \"Quantity (Mt CO2e)\": 0.21484339013873371}, {\"Year\": 2011, \"Sources\": \"TCO2E_MANURE_MGT\", \"Quantity (Mt CO2e)\": 0.3239159167117672}, {\"Year\": 2011, \"Sources\": \"TCO2E_PEST_PROD\", \"Quantity (Mt CO2e)\": 2.3828381969702}, {\"Year\": 2011, \"Sources\": \"TCO2E_SEED\", \"Quantity (Mt CO2e)\": 4.689555002595948}, {\"Year\": 2011, \"Sources\": \"TCO2E_SOIL\", \"Quantity (Mt CO2e)\": 2.6162827557720383}, {\"Year\": 2011, \"Sources\": \"TCO2E_SOWING\", \"Quantity (Mt CO2e)\": 0.951883600255578}, {\"Year\": 2012, \"Sources\": \"TCO2E_CHEM_APPL\", \"Quantity (Mt CO2e)\": 1.8131707337491163}, {\"Year\": 2012, \"Sources\": \"TCO2E_CROP_MGT\", \"Quantity (Mt CO2e)\": 0.027844680399609335}, {\"Year\": 2012, \"Sources\": \"TCO2E_CULTIV\", \"Quantity (Mt CO2e)\": 0.8428890946084345}, {\"Year\": 2012, \"Sources\": \"TCO2E_DUNG_URINE\", \"Quantity (Mt CO2e)\": 4.402342300621271}, {\"Year\": 2012, \"Sources\": \"TCO2E_ELEC\", \"Quantity (Mt CO2e)\": 0.40922116180880475}, {\"Year\": 2012, \"Sources\": \"TCO2E_ENTERIC\", \"Quantity (Mt CO2e)\": 55.08836154944245}, {\"Year\": 2012, \"Sources\": \"TCO2E_FERT_PROD\", \"Quantity (Mt CO2e)\": 5.13124696232672}, {\"Year\": 2012, \"Sources\": \"TCO2E_FODDER\", \"Quantity (Mt CO2e)\": 1.4324344588181894}, {\"Year\": 2012, \"Sources\": \"TCO2E_FUEL\", \"Quantity (Mt CO2e)\": 5.9247009280306155}, {\"Year\": 2012, \"Sources\": \"TCO2E_HARVEST\", \"Quantity (Mt CO2e)\": 0.35989199092378044}, {\"Year\": 2012, \"Sources\": \"TCO2E_IND_LEACH_RUNOFF\", \"Quantity (Mt CO2e)\": 2.6750992478342215}, {\"Year\": 2012, \"Sources\": \"TCO2E_IRRIG\", \"Quantity (Mt CO2e)\": 0.21323809857088044}, {\"Year\": 2012, \"Sources\": \"TCO2E_MANURE_MGT\", \"Quantity (Mt CO2e)\": 0.3219344891060347}, {\"Year\": 2012, \"Sources\": \"TCO2E_PEST_PROD\", \"Quantity (Mt CO2e)\": 2.383400559827845}, {\"Year\": 2012, \"Sources\": \"TCO2E_SEED\", \"Quantity (Mt CO2e)\": 4.726346683742236}, {\"Year\": 2012, \"Sources\": \"TCO2E_SOIL\", \"Quantity (Mt CO2e)\": 2.63914727714156}, {\"Year\": 2012, \"Sources\": \"TCO2E_SOWING\", \"Quantity (Mt CO2e)\": 0.9528634597593136}, {\"Year\": 2013, \"Sources\": \"TCO2E_CHEM_APPL\", \"Quantity (Mt CO2e)\": 1.8153696603407288}, {\"Year\": 2013, \"Sources\": \"TCO2E_CROP_MGT\", \"Quantity (Mt CO2e)\": 0.027820337132976346}, {\"Year\": 2013, \"Sources\": \"TCO2E_CULTIV\", \"Quantity (Mt CO2e)\": 0.8481401937977775}, {\"Year\": 2013, \"Sources\": \"TCO2E_DUNG_URINE\", \"Quantity (Mt CO2e)\": 4.39203682333178}, {\"Year\": 2013, \"Sources\": \"TCO2E_ELEC\", \"Quantity (Mt CO2e)\": 0.3888050238697862}, {\"Year\": 2013, \"Sources\": \"TCO2E_ENTERIC\", \"Quantity (Mt CO2e)\": 54.930352451552004}, {\"Year\": 2013, \"Sources\": \"TCO2E_FERT_PROD\", \"Quantity (Mt CO2e)\": 5.146830441467942}, {\"Year\": 2013, \"Sources\": \"TCO2E_FODDER\", \"Quantity (Mt CO2e)\": 1.4340249461174315}, {\"Year\": 2013, \"Sources\": \"TCO2E_FUEL\", \"Quantity (Mt CO2e)\": 5.868187478590306}, {\"Year\": 2013, \"Sources\": \"TCO2E_HARVEST\", \"Quantity (Mt CO2e)\": 0.35969720421981877}, {\"Year\": 2013, \"Sources\": \"TCO2E_IND_LEACH_RUNOFF\", \"Quantity (Mt CO2e)\": 2.6755876070628766}, {\"Year\": 2013, \"Sources\": \"TCO2E_IRRIG\", \"Quantity (Mt CO2e)\": 0.21532271168105593}, {\"Year\": 2013, \"Sources\": \"TCO2E_MANURE_MGT\", \"Quantity (Mt CO2e)\": 0.31775951849160217}, {\"Year\": 2013, \"Sources\": \"TCO2E_PEST_PROD\", \"Quantity (Mt CO2e)\": 2.3848225579555815}, {\"Year\": 2013, \"Sources\": \"TCO2E_SEED\", \"Quantity (Mt CO2e)\": 4.759261523894081}, {\"Year\": 2013, \"Sources\": \"TCO2E_SOIL\", \"Quantity (Mt CO2e)\": 2.685698991667037}, {\"Year\": 2013, \"Sources\": \"TCO2E_SOWING\", \"Quantity (Mt CO2e)\": 0.95463771272687}, {\"Year\": 2014, \"Sources\": \"TCO2E_CHEM_APPL\", \"Quantity (Mt CO2e)\": 1.8172930319054657}, {\"Year\": 2014, \"Sources\": \"TCO2E_CROP_MGT\", \"Quantity (Mt CO2e)\": 0.027595774672008116}, {\"Year\": 2014, \"Sources\": \"TCO2E_CULTIV\", \"Quantity (Mt CO2e)\": 0.8461870646280598}, {\"Year\": 2014, \"Sources\": \"TCO2E_DUNG_URINE\", \"Quantity (Mt CO2e)\": 4.383833493070916}, {\"Year\": 2014, \"Sources\": \"TCO2E_ELEC\", \"Quantity (Mt CO2e)\": 0.35484059625799463}, {\"Year\": 2014, \"Sources\": \"TCO2E_ENTERIC\", \"Quantity (Mt CO2e)\": 54.834307858955015}, {\"Year\": 2014, \"Sources\": \"TCO2E_FERT_PROD\", \"Quantity (Mt CO2e)\": 5.14831621285172}, {\"Year\": 2014, \"Sources\": \"TCO2E_FODDER\", \"Quantity (Mt CO2e)\": 1.43846153960981}, {\"Year\": 2014, \"Sources\": \"TCO2E_FUEL\", \"Quantity (Mt CO2e)\": 5.8114640919055285}, {\"Year\": 2014, \"Sources\": \"TCO2E_HARVEST\", \"Quantity (Mt CO2e)\": 0.3592858319255382}, {\"Year\": 2014, \"Sources\": \"TCO2E_IND_LEACH_RUNOFF\", \"Quantity (Mt CO2e)\": 2.6743489582748197}, {\"Year\": 2014, \"Sources\": \"TCO2E_IRRIG\", \"Quantity (Mt CO2e)\": 0.2154857410546793}, {\"Year\": 2014, \"Sources\": \"TCO2E_MANURE_MGT\", \"Quantity (Mt CO2e)\": 0.3140270378614983}, {\"Year\": 2014, \"Sources\": \"TCO2E_PEST_PROD\", \"Quantity (Mt CO2e)\": 2.385354254666782}, {\"Year\": 2014, \"Sources\": \"TCO2E_SEED\", \"Quantity (Mt CO2e)\": 4.788325810382766}, {\"Year\": 2014, \"Sources\": \"TCO2E_SOIL\", \"Quantity (Mt CO2e)\": 2.7094814111523693}, {\"Year\": 2014, \"Sources\": \"TCO2E_SOWING\", \"Quantity (Mt CO2e)\": 0.95688974239598}, {\"Year\": 2015, \"Sources\": \"TCO2E_CHEM_APPL\", \"Quantity (Mt CO2e)\": 1.8185967704011867}, {\"Year\": 2015, \"Sources\": \"TCO2E_CROP_MGT\", \"Quantity (Mt CO2e)\": 0.027289061307932787}, {\"Year\": 2015, \"Sources\": \"TCO2E_CULTIV\", \"Quantity (Mt CO2e)\": 0.8439611556643551}, {\"Year\": 2015, \"Sources\": \"TCO2E_DUNG_URINE\", \"Quantity (Mt CO2e)\": 4.375131694020128}, {\"Year\": 2015, \"Sources\": \"TCO2E_ELEC\", \"Quantity (Mt CO2e)\": 0.3429970500641313}, {\"Year\": 2015, \"Sources\": \"TCO2E_ENTERIC\", \"Quantity (Mt CO2e)\": 54.73103386799771}, {\"Year\": 2015, \"Sources\": \"TCO2E_FERT_PROD\", \"Quantity (Mt CO2e)\": 5.1466497116076555}, {\"Year\": 2015, \"Sources\": \"TCO2E_FODDER\", \"Quantity (Mt CO2e)\": 1.4423240979541574}, {\"Year\": 2015, \"Sources\": \"TCO2E_FUEL\", \"Quantity (Mt CO2e)\": 5.781325021112274}, {\"Year\": 2015, \"Sources\": \"TCO2E_HARVEST\", \"Quantity (Mt CO2e)\": 0.3587202607251956}, {\"Year\": 2015, \"Sources\": \"TCO2E_IND_LEACH_RUNOFF\", \"Quantity (Mt CO2e)\": 2.672462759698836}, {\"Year\": 2015, \"Sources\": \"TCO2E_IRRIG\", \"Quantity (Mt CO2e)\": 0.21597511912796125}, {\"Year\": 2015, \"Sources\": \"TCO2E_MANURE_MGT\", \"Quantity (Mt CO2e)\": 0.3122013812853566}, {\"Year\": 2015, \"Sources\": \"TCO2E_PEST_PROD\", \"Quantity (Mt CO2e)\": 2.3822751752690046}, {\"Year\": 2015, \"Sources\": \"TCO2E_SEED\", \"Quantity (Mt CO2e)\": 4.804898466411054}, {\"Year\": 2015, \"Sources\": \"TCO2E_SOIL\", \"Quantity (Mt CO2e)\": 2.7429715452980776}, {\"Year\": 2015, \"Sources\": \"TCO2E_SOWING\", \"Quantity (Mt CO2e)\": 0.9587008575037888}, {\"Year\": 2016, \"Sources\": \"TCO2E_CHEM_APPL\", \"Quantity (Mt CO2e)\": 1.8175884721388784}, {\"Year\": 2016, \"Sources\": \"TCO2E_CROP_MGT\", \"Quantity (Mt CO2e)\": 0.027280816642771984}, {\"Year\": 2016, \"Sources\": \"TCO2E_CULTIV\", \"Quantity (Mt CO2e)\": 0.8416059273190034}, {\"Year\": 2016, \"Sources\": \"TCO2E_DUNG_URINE\", \"Quantity (Mt CO2e)\": 4.365493129159805}, {\"Year\": 2016, \"Sources\": \"TCO2E_ELEC\", \"Quantity (Mt CO2e)\": 0.3321350796670449}, {\"Year\": 2016, \"Sources\": \"TCO2E_ENTERIC\", \"Quantity (Mt CO2e)\": 54.616891438923574}, {\"Year\": 2016, \"Sources\": \"TCO2E_FERT_PROD\", \"Quantity (Mt CO2e)\": 5.14370793600389}, {\"Year\": 2016, \"Sources\": \"TCO2E_FODDER\", \"Quantity (Mt CO2e)\": 1.4423769541737672}, {\"Year\": 2016, \"Sources\": \"TCO2E_FUEL\", \"Quantity (Mt CO2e)\": 5.727751957037352}, {\"Year\": 2016, \"Sources\": \"TCO2E_HARVEST\", \"Quantity (Mt CO2e)\": 0.3580166425285565}, {\"Year\": 2016, \"Sources\": \"TCO2E_IND_LEACH_RUNOFF\", \"Quantity (Mt CO2e)\": 2.6663788534117026}, {\"Year\": 2016, \"Sources\": \"TCO2E_IRRIG\", \"Quantity (Mt CO2e)\": 0.21915819418820348}, {\"Year\": 2016, \"Sources\": \"TCO2E_MANURE_MGT\", \"Quantity (Mt CO2e)\": 0.30976993797969027}, {\"Year\": 2016, \"Sources\": \"TCO2E_PEST_PROD\", \"Quantity (Mt CO2e)\": 2.3782794753490517}, {\"Year\": 2016, \"Sources\": \"TCO2E_SEED\", \"Quantity (Mt CO2e)\": 4.828381605398008}, {\"Year\": 2016, \"Sources\": \"TCO2E_SOIL\", \"Quantity (Mt CO2e)\": 2.781094545281157}, {\"Year\": 2016, \"Sources\": \"TCO2E_SOWING\", \"Quantity (Mt CO2e)\": 0.9587784988548151}, {\"Year\": 2017, \"Sources\": \"TCO2E_CHEM_APPL\", \"Quantity (Mt CO2e)\": 1.8154867245227637}, {\"Year\": 2017, \"Sources\": \"TCO2E_CROP_MGT\", \"Quantity (Mt CO2e)\": 0.027115159447250348}, {\"Year\": 2017, \"Sources\": \"TCO2E_CULTIV\", \"Quantity (Mt CO2e)\": 0.835474343592732}, {\"Year\": 2017, \"Sources\": \"TCO2E_DUNG_URINE\", \"Quantity (Mt CO2e)\": 4.353688307557841}, {\"Year\": 2017, \"Sources\": \"TCO2E_ELEC\", \"Quantity (Mt CO2e)\": 0.3288704776352238}, {\"Year\": 2017, \"Sources\": \"TCO2E_ENTERIC\", \"Quantity (Mt CO2e)\": 54.46932314744069}, {\"Year\": 2017, \"Sources\": \"TCO2E_FERT_PROD\", \"Quantity (Mt CO2e)\": 5.12732615781547}, {\"Year\": 2017, \"Sources\": \"TCO2E_FODDER\", \"Quantity (Mt CO2e)\": 1.4425233726669575}, {\"Year\": 2017, \"Sources\": \"TCO2E_FUEL\", \"Quantity (Mt CO2e)\": 5.675894325136789}, {\"Year\": 2017, \"Sources\": \"TCO2E_HARVEST\", \"Quantity (Mt CO2e)\": 0.35706619175322907}, {\"Year\": 2017, \"Sources\": \"TCO2E_IND_LEACH_RUNOFF\", \"Quantity (Mt CO2e)\": 2.6614379350481503}, {\"Year\": 2017, \"Sources\": \"TCO2E_IRRIG\", \"Quantity (Mt CO2e)\": 0.21281426322828575}, {\"Year\": 2017, \"Sources\": \"TCO2E_MANURE_MGT\", \"Quantity (Mt CO2e)\": 0.30795781699356417}, {\"Year\": 2017, \"Sources\": \"TCO2E_PEST_PROD\", \"Quantity (Mt CO2e)\": 2.3702244979898754}, {\"Year\": 2017, \"Sources\": \"TCO2E_SEED\", \"Quantity (Mt CO2e)\": 4.847178437775014}, {\"Year\": 2017, \"Sources\": \"TCO2E_SOIL\", \"Quantity (Mt CO2e)\": 2.8008438872982993}, {\"Year\": 2017, \"Sources\": \"TCO2E_SOWING\", \"Quantity (Mt CO2e)\": 0.9579592953452757}, {\"Year\": 2018, \"Sources\": \"TCO2E_CHEM_APPL\", \"Quantity (Mt CO2e)\": 1.8128152627958045}, {\"Year\": 2018, \"Sources\": \"TCO2E_CROP_MGT\", \"Quantity (Mt CO2e)\": 0.026978405287311883}, {\"Year\": 2018, \"Sources\": \"TCO2E_CULTIV\", \"Quantity (Mt CO2e)\": 0.8282620632176729}, {\"Year\": 2018, \"Sources\": \"TCO2E_DUNG_URINE\", \"Quantity (Mt CO2e)\": 4.341917987368943}, {\"Year\": 2018, \"Sources\": \"TCO2E_ELEC\", \"Quantity (Mt CO2e)\": 0.31474078287521073}, {\"Year\": 2018, \"Sources\": \"TCO2E_ENTERIC\", \"Quantity (Mt CO2e)\": 54.34252584316778}, {\"Year\": 2018, \"Sources\": \"TCO2E_FERT_PROD\", \"Quantity (Mt CO2e)\": 5.11384224337303}, {\"Year\": 2018, \"Sources\": \"TCO2E_FODDER\", \"Quantity (Mt CO2e)\": 1.437827371937636}, {\"Year\": 2018, \"Sources\": \"TCO2E_FUEL\", \"Quantity (Mt CO2e)\": 5.617073905736659}, {\"Year\": 2018, \"Sources\": \"TCO2E_HARVEST\", \"Quantity (Mt CO2e)\": 0.3544981029225828}, {\"Year\": 2018, \"Sources\": \"TCO2E_IND_LEACH_RUNOFF\", \"Quantity (Mt CO2e)\": 2.6548966161920147}, {\"Year\": 2018, \"Sources\": \"TCO2E_IRRIG\", \"Quantity (Mt CO2e)\": 0.20815475542077727}, {\"Year\": 2018, \"Sources\": \"TCO2E_MANURE_MGT\", \"Quantity (Mt CO2e)\": 0.30372430736776773}, {\"Year\": 2018, \"Sources\": \"TCO2E_PEST_PROD\", \"Quantity (Mt CO2e)\": 2.360714587825643}, {\"Year\": 2018, \"Sources\": \"TCO2E_SEED\", \"Quantity (Mt CO2e)\": 4.873621472225949}, {\"Year\": 2018, \"Sources\": \"TCO2E_SOIL\", \"Quantity (Mt CO2e)\": 2.797114390817497}, {\"Year\": 2018, \"Sources\": \"TCO2E_SOWING\", \"Quantity (Mt CO2e)\": 0.9569798893080292}, {\"Year\": 2019, \"Sources\": \"TCO2E_CHEM_APPL\", \"Quantity (Mt CO2e)\": 1.8089458391367235}, {\"Year\": 2019, \"Sources\": \"TCO2E_CROP_MGT\", \"Quantity (Mt CO2e)\": 0.026660270297681695}, {\"Year\": 2019, \"Sources\": \"TCO2E_CULTIV\", \"Quantity (Mt CO2e)\": 0.8213215885619817}, {\"Year\": 2019, \"Sources\": \"TCO2E_DUNG_URINE\", \"Quantity (Mt CO2e)\": 4.329660223641859}, {\"Year\": 2019, \"Sources\": \"TCO2E_ELEC\", \"Quantity (Mt CO2e)\": 0.29952622435319426}, {\"Year\": 2019, \"Sources\": \"TCO2E_ENTERIC\", \"Quantity (Mt CO2e)\": 54.2087937308643}, {\"Year\": 2019, \"Sources\": \"TCO2E_FERT_PROD\", \"Quantity (Mt CO2e)\": 5.099455083961265}, {\"Year\": 2019, \"Sources\": \"TCO2E_FODDER\", \"Quantity (Mt CO2e)\": 1.4319129183006076}, {\"Year\": 2019, \"Sources\": \"TCO2E_FUEL\", \"Quantity (Mt CO2e)\": 5.57054774658178}, {\"Year\": 2019, \"Sources\": \"TCO2E_HARVEST\", \"Quantity (Mt CO2e)\": 0.3522551170195082}, {\"Year\": 2019, \"Sources\": \"TCO2E_IND_LEACH_RUNOFF\", \"Quantity (Mt CO2e)\": 2.6478177290446863}, {\"Year\": 2019, \"Sources\": \"TCO2E_IRRIG\", \"Quantity (Mt CO2e)\": 0.20472854286557232}, {\"Year\": 2019, \"Sources\": \"TCO2E_MANURE_MGT\", \"Quantity (Mt CO2e)\": 0.29969432894086995}, {\"Year\": 2019, \"Sources\": \"TCO2E_PEST_PROD\", \"Quantity (Mt CO2e)\": 2.351251510135211}, {\"Year\": 2019, \"Sources\": \"TCO2E_SEED\", \"Quantity (Mt CO2e)\": 4.8855091555830965}, {\"Year\": 2019, \"Sources\": \"TCO2E_SOIL\", \"Quantity (Mt CO2e)\": 2.8115461032041997}, {\"Year\": 2019, \"Sources\": \"TCO2E_SOWING\", \"Quantity (Mt CO2e)\": 0.9554059255649024}, {\"Year\": 2020, \"Sources\": \"TCO2E_CHEM_APPL\", \"Quantity (Mt CO2e)\": 1.801635291748877}, {\"Year\": 2020, \"Sources\": \"TCO2E_CROP_MGT\", \"Quantity (Mt CO2e)\": 0.026573828499678796}, {\"Year\": 2020, \"Sources\": \"TCO2E_CULTIV\", \"Quantity (Mt CO2e)\": 0.8171947165559926}, {\"Year\": 2020, \"Sources\": \"TCO2E_DUNG_URINE\", \"Quantity (Mt CO2e)\": 4.315493041948647}, {\"Year\": 2020, \"Sources\": \"TCO2E_ELEC\", \"Quantity (Mt CO2e)\": 0.2867899929427422}, {\"Year\": 2020, \"Sources\": \"TCO2E_ENTERIC\", \"Quantity (Mt CO2e)\": 54.07041031671037}, {\"Year\": 2020, \"Sources\": \"TCO2E_FERT_PROD\", \"Quantity (Mt CO2e)\": 5.099476973792771}, {\"Year\": 2020, \"Sources\": \"TCO2E_FODDER\", \"Quantity (Mt CO2e)\": 1.426423015680226}, {\"Year\": 2020, \"Sources\": \"TCO2E_FUEL\", \"Quantity (Mt CO2e)\": 5.5188709354258405}, {\"Year\": 2020, \"Sources\": \"TCO2E_HARVEST\", \"Quantity (Mt CO2e)\": 0.35068030553855606}, {\"Year\": 2020, \"Sources\": \"TCO2E_IND_LEACH_RUNOFF\", \"Quantity (Mt CO2e)\": 2.638725931220252}, {\"Year\": 2020, \"Sources\": \"TCO2E_IRRIG\", \"Quantity (Mt CO2e)\": 0.20093446978219992}, {\"Year\": 2020, \"Sources\": \"TCO2E_MANURE_MGT\", \"Quantity (Mt CO2e)\": 0.2964281374450237}, {\"Year\": 2020, \"Sources\": \"TCO2E_PEST_PROD\", \"Quantity (Mt CO2e)\": 2.3413043167313443}, {\"Year\": 2020, \"Sources\": \"TCO2E_SEED\", \"Quantity (Mt CO2e)\": 4.8950391072971104}, {\"Year\": 2020, \"Sources\": \"TCO2E_SOIL\", \"Quantity (Mt CO2e)\": 2.823678095340123}, {\"Year\": 2020, \"Sources\": \"TCO2E_SOWING\", \"Quantity (Mt CO2e)\": 0.951408428381932}, {\"Year\": 2021, \"Sources\": \"TCO2E_CHEM_APPL\", \"Quantity (Mt CO2e)\": 1.8078133700536283}, {\"Year\": 2021, \"Sources\": \"TCO2E_CROP_MGT\", \"Quantity (Mt CO2e)\": 0.02655651349752353}, {\"Year\": 2021, \"Sources\": \"TCO2E_CULTIV\", \"Quantity (Mt CO2e)\": 0.8227809264109508}, {\"Year\": 2021, \"Sources\": \"TCO2E_DUNG_URINE\", \"Quantity (Mt CO2e)\": 4.279050169365988}, {\"Year\": 2021, \"Sources\": \"TCO2E_ELEC\", \"Quantity (Mt CO2e)\": 0.28099996033131447}, {\"Year\": 2021, \"Sources\": \"TCO2E_ENTERIC\", \"Quantity (Mt CO2e)\": 53.61526562919519}, {\"Year\": 2021, \"Sources\": \"TCO2E_FERT_PROD\", \"Quantity (Mt CO2e)\": 5.1123676466594725}, {\"Year\": 2021, \"Sources\": \"TCO2E_FODDER\", \"Quantity (Mt CO2e)\": 1.4135318926310558}, {\"Year\": 2021, \"Sources\": \"TCO2E_FUEL\", \"Quantity (Mt CO2e)\": 5.509266674545172}, {\"Year\": 2021, \"Sources\": \"TCO2E_HARVEST\", \"Quantity (Mt CO2e)\": 0.35781139897498526}, {\"Year\": 2021, \"Sources\": \"TCO2E_IND_LEACH_RUNOFF\", \"Quantity (Mt CO2e)\": 2.6253916343452697}, {\"Year\": 2021, \"Sources\": \"TCO2E_IRRIG\", \"Quantity (Mt CO2e)\": 0.19809398180872026}, {\"Year\": 2021, \"Sources\": \"TCO2E_MANURE_MGT\", \"Quantity (Mt CO2e)\": 0.2944151816895232}, {\"Year\": 2021, \"Sources\": \"TCO2E_PEST_PROD\", \"Quantity (Mt CO2e)\": 2.3653393781920546}, {\"Year\": 2021, \"Sources\": \"TCO2E_SEED\", \"Quantity (Mt CO2e)\": 4.845749794809218}, {\"Year\": 2021, \"Sources\": \"TCO2E_SOIL\", \"Quantity (Mt CO2e)\": 2.8216602356039475}, {\"Year\": 2021, \"Sources\": \"TCO2E_SOWING\", \"Quantity (Mt CO2e)\": 0.953138163388267}, {\"Year\": 2022, \"Sources\": \"TCO2E_CHEM_APPL\", \"Quantity (Mt CO2e)\": 1.815150288455132}, {\"Year\": 2022, \"Sources\": \"TCO2E_CROP_MGT\", \"Quantity (Mt CO2e)\": 0.026560268022194262}, {\"Year\": 2022, \"Sources\": \"TCO2E_CULTIV\", \"Quantity (Mt CO2e)\": 0.8209035569834706}, {\"Year\": 2022, \"Sources\": \"TCO2E_DUNG_URINE\", \"Quantity (Mt CO2e)\": 4.241241829200442}, {\"Year\": 2022, \"Sources\": \"TCO2E_ELEC\", \"Quantity (Mt CO2e)\": 0.2782663218805619}, {\"Year\": 2022, \"Sources\": \"TCO2E_ENTERIC\", \"Quantity (Mt CO2e)\": 53.1688018940042}, {\"Year\": 2022, \"Sources\": \"TCO2E_FERT_PROD\", \"Quantity (Mt CO2e)\": 5.127299430708193}, {\"Year\": 2022, \"Sources\": \"TCO2E_FODDER\", \"Quantity (Mt CO2e)\": 1.3996177016829148}, {\"Year\": 2022, \"Sources\": \"TCO2E_FUEL\", \"Quantity (Mt CO2e)\": 5.4808061306614615}, {\"Year\": 2022, \"Sources\": \"TCO2E_HARVEST\", \"Quantity (Mt CO2e)\": 0.36254187507003127}, {\"Year\": 2022, \"Sources\": \"TCO2E_IND_LEACH_RUNOFF\", \"Quantity (Mt CO2e)\": 2.6096747949880577}, {\"Year\": 2022, \"Sources\": \"TCO2E_IRRIG\", \"Quantity (Mt CO2e)\": 0.19513036735056774}, {\"Year\": 2022, \"Sources\": \"TCO2E_MANURE_MGT\", \"Quantity (Mt CO2e)\": 0.2917383714477282}, {\"Year\": 2022, \"Sources\": \"TCO2E_PEST_PROD\", \"Quantity (Mt CO2e)\": 2.38124283959896}, {\"Year\": 2022, \"Sources\": \"TCO2E_SEED\", \"Quantity (Mt CO2e)\": 4.8078798399842455}, {\"Year\": 2022, \"Sources\": \"TCO2E_SOIL\", \"Quantity (Mt CO2e)\": 2.826012507200406}, {\"Year\": 2022, \"Sources\": \"TCO2E_SOWING\", \"Quantity (Mt CO2e)\": 0.9560497523872608}, {\"Year\": 2023, \"Sources\": \"TCO2E_CHEM_APPL\", \"Quantity (Mt CO2e)\": 1.818444311785233}, {\"Year\": 2023, \"Sources\": \"TCO2E_CROP_MGT\", \"Quantity (Mt CO2e)\": 0.02645309391216564}, {\"Year\": 2023, \"Sources\": \"TCO2E_CULTIV\", \"Quantity (Mt CO2e)\": 0.8167736905045362}, {\"Year\": 2023, \"Sources\": \"TCO2E_DUNG_URINE\", \"Quantity (Mt CO2e)\": 4.205007437005086}, {\"Year\": 2023, \"Sources\": \"TCO2E_ELEC\", \"Quantity (Mt CO2e)\": 0.27638089017842454}, {\"Year\": 2023, \"Sources\": \"TCO2E_ENTERIC\", \"Quantity (Mt CO2e)\": 52.72580724388225}, {\"Year\": 2023, \"Sources\": \"TCO2E_FERT_PROD\", \"Quantity (Mt CO2e)\": 5.151590876002386}, {\"Year\": 2023, \"Sources\": \"TCO2E_FODDER\", \"Quantity (Mt CO2e)\": 1.3859760372681005}, {\"Year\": 2023, \"Sources\": \"TCO2E_FUEL\", \"Quantity (Mt CO2e)\": 5.458772677384765}, {\"Year\": 2023, \"Sources\": \"TCO2E_HARVEST\", \"Quantity (Mt CO2e)\": 0.3637130852375713}, {\"Year\": 2023, \"Sources\": \"TCO2E_IND_LEACH_RUNOFF\", \"Quantity (Mt CO2e)\": 2.595483009887196}, {\"Year\": 2023, \"Sources\": \"TCO2E_IRRIG\", \"Quantity (Mt CO2e)\": 0.19175810395907145}, {\"Year\": 2023, \"Sources\": \"TCO2E_MANURE_MGT\", \"Quantity (Mt CO2e)\": 0.29024938869142325}, {\"Year\": 2023, \"Sources\": \"TCO2E_PEST_PROD\", \"Quantity (Mt CO2e)\": 2.3867217501940483}, {\"Year\": 2023, \"Sources\": \"TCO2E_SEED\", \"Quantity (Mt CO2e)\": 4.770702674734381}, {\"Year\": 2023, \"Sources\": \"TCO2E_SOIL\", \"Quantity (Mt CO2e)\": 2.8350441527861694}, {\"Year\": 2023, \"Sources\": \"TCO2E_SOWING\", \"Quantity (Mt CO2e)\": 0.9584735428167183}, {\"Year\": 2024, \"Sources\": \"TCO2E_CHEM_APPL\", \"Quantity (Mt CO2e)\": 1.8232358679133955}, {\"Year\": 2024, \"Sources\": \"TCO2E_CROP_MGT\", \"Quantity (Mt CO2e)\": 0.026485422311129027}, {\"Year\": 2024, \"Sources\": \"TCO2E_CULTIV\", \"Quantity (Mt CO2e)\": 0.8135672560422692}, {\"Year\": 2024, \"Sources\": \"TCO2E_DUNG_URINE\", \"Quantity (Mt CO2e)\": 4.170595181390266}, {\"Year\": 2024, \"Sources\": \"TCO2E_ELEC\", \"Quantity (Mt CO2e)\": 0.27347351498876127}, {\"Year\": 2024, \"Sources\": \"TCO2E_ENTERIC\", \"Quantity (Mt CO2e)\": 52.322169770319825}, {\"Year\": 2024, \"Sources\": \"TCO2E_FERT_PROD\", \"Quantity (Mt CO2e)\": 5.173054514615979}, {\"Year\": 2024, \"Sources\": \"TCO2E_FODDER\", \"Quantity (Mt CO2e)\": 1.373918482432878}, {\"Year\": 2024, \"Sources\": \"TCO2E_FUEL\", \"Quantity (Mt CO2e)\": 5.445760429077018}, {\"Year\": 2024, \"Sources\": \"TCO2E_HARVEST\", \"Quantity (Mt CO2e)\": 0.36458403665901984}, {\"Year\": 2024, \"Sources\": \"TCO2E_IND_LEACH_RUNOFF\", \"Quantity (Mt CO2e)\": 2.581888730843589}, {\"Year\": 2024, \"Sources\": \"TCO2E_IRRIG\", \"Quantity (Mt CO2e)\": 0.19413174435185693}, {\"Year\": 2024, \"Sources\": \"TCO2E_MANURE_MGT\", \"Quantity (Mt CO2e)\": 0.2879809143935612}, {\"Year\": 2024, \"Sources\": \"TCO2E_PEST_PROD\", \"Quantity (Mt CO2e)\": 2.3907925896423525}, {\"Year\": 2024, \"Sources\": \"TCO2E_SEED\", \"Quantity (Mt CO2e)\": 4.748110692051311}, {\"Year\": 2024, \"Sources\": \"TCO2E_SOIL\", \"Quantity (Mt CO2e)\": 2.8558952110410316}, {\"Year\": 2024, \"Sources\": \"TCO2E_SOWING\", \"Quantity (Mt CO2e)\": 0.9619770560597721}, {\"Year\": 2025, \"Sources\": \"TCO2E_CHEM_APPL\", \"Quantity (Mt CO2e)\": 1.8350083148454397}, {\"Year\": 2025, \"Sources\": \"TCO2E_CROP_MGT\", \"Quantity (Mt CO2e)\": 0.02632707825218359}, {\"Year\": 2025, \"Sources\": \"TCO2E_CULTIV\", \"Quantity (Mt CO2e)\": 0.812258006358927}, {\"Year\": 2025, \"Sources\": \"TCO2E_DUNG_URINE\", \"Quantity (Mt CO2e)\": 4.141626619555727}, {\"Year\": 2025, \"Sources\": \"TCO2E_ELEC\", \"Quantity (Mt CO2e)\": 0.2715705089458881}, {\"Year\": 2025, \"Sources\": \"TCO2E_ENTERIC\", \"Quantity (Mt CO2e)\": 51.95632490503481}, {\"Year\": 2025, \"Sources\": \"TCO2E_FERT_PROD\", \"Quantity (Mt CO2e)\": 5.196971520517416}, {\"Year\": 2025, \"Sources\": \"TCO2E_FODDER\", \"Quantity (Mt CO2e)\": 1.36418701806986}, {\"Year\": 2025, \"Sources\": \"TCO2E_FUEL\", \"Quantity (Mt CO2e)\": 5.438174800158845}, {\"Year\": 2025, \"Sources\": \"TCO2E_HARVEST\", \"Quantity (Mt CO2e)\": 0.36673756781611117}, {\"Year\": 2025, \"Sources\": \"TCO2E_IND_LEACH_RUNOFF\", \"Quantity (Mt CO2e)\": 2.5710818730292395}, {\"Year\": 2025, \"Sources\": \"TCO2E_IRRIG\", \"Quantity (Mt CO2e)\": 0.19332220336634814}, {\"Year\": 2025, \"Sources\": \"TCO2E_MANURE_MGT\", \"Quantity (Mt CO2e)\": 0.28735034652277286}, {\"Year\": 2025, \"Sources\": \"TCO2E_PEST_PROD\", \"Quantity (Mt CO2e)\": 2.403533477483411}, {\"Year\": 2025, \"Sources\": \"TCO2E_SEED\", \"Quantity (Mt CO2e)\": 4.719632078570873}, {\"Year\": 2025, \"Sources\": \"TCO2E_SOIL\", \"Quantity (Mt CO2e)\": 2.86098879641384}, {\"Year\": 2025, \"Sources\": \"TCO2E_SOWING\", \"Quantity (Mt CO2e)\": 0.969030648019377}, {\"Year\": 2026, \"Sources\": \"TCO2E_CHEM_APPL\", \"Quantity (Mt CO2e)\": 1.8400488392568783}, {\"Year\": 2026, \"Sources\": \"TCO2E_CROP_MGT\", \"Quantity (Mt CO2e)\": 0.026261683600515107}, {\"Year\": 2026, \"Sources\": \"TCO2E_CULTIV\", \"Quantity (Mt CO2e)\": 0.8078977187610817}, {\"Year\": 2026, \"Sources\": \"TCO2E_DUNG_URINE\", \"Quantity (Mt CO2e)\": 4.114105405324356}, {\"Year\": 2026, \"Sources\": \"TCO2E_ELEC\", \"Quantity (Mt CO2e)\": 0.2726677429290425}, {\"Year\": 2026, \"Sources\": \"TCO2E_ENTERIC\", \"Quantity (Mt CO2e)\": 51.58645296363196}, {\"Year\": 2026, \"Sources\": \"TCO2E_FERT_PROD\", \"Quantity (Mt CO2e)\": 5.210864828854596}, {\"Year\": 2026, \"Sources\": \"TCO2E_FODDER\", \"Quantity (Mt CO2e)\": 1.3566674531625347}, {\"Year\": 2026, \"Sources\": \"TCO2E_FUEL\", \"Quantity (Mt CO2e)\": 5.431403291172876}, {\"Year\": 2026, \"Sources\": \"TCO2E_HARVEST\", \"Quantity (Mt CO2e)\": 0.36751639452806784}, {\"Year\": 2026, \"Sources\": \"TCO2E_IND_LEACH_RUNOFF\", \"Quantity (Mt CO2e)\": 2.5623623364452977}, {\"Year\": 2026, \"Sources\": \"TCO2E_IRRIG\", \"Quantity (Mt CO2e)\": 0.19285207023244616}, {\"Year\": 2026, \"Sources\": \"TCO2E_MANURE_MGT\", \"Quantity (Mt CO2e)\": 0.2867321103287372}, {\"Year\": 2026, \"Sources\": \"TCO2E_PEST_PROD\", \"Quantity (Mt CO2e)\": 2.411087289860396}, {\"Year\": 2026, \"Sources\": \"TCO2E_SEED\", \"Quantity (Mt CO2e)\": 4.695567404587521}, {\"Year\": 2026, \"Sources\": \"TCO2E_SOIL\", \"Quantity (Mt CO2e)\": 2.862488648550879}, {\"Year\": 2026, \"Sources\": \"TCO2E_SOWING\", \"Quantity (Mt CO2e)\": 0.973135263007185}, {\"Year\": 2027, \"Sources\": \"TCO2E_CHEM_APPL\", \"Quantity (Mt CO2e)\": 1.8458883045073036}, {\"Year\": 2027, \"Sources\": \"TCO2E_CROP_MGT\", \"Quantity (Mt CO2e)\": 0.026346950413630943}, {\"Year\": 2027, \"Sources\": \"TCO2E_CULTIV\", \"Quantity (Mt CO2e)\": 0.7968227010451052}, {\"Year\": 2027, \"Sources\": \"TCO2E_DUNG_URINE\", \"Quantity (Mt CO2e)\": 4.086190109962646}, {\"Year\": 2027, \"Sources\": \"TCO2E_ELEC\", \"Quantity (Mt CO2e)\": 0.27097553494511206}, {\"Year\": 2027, \"Sources\": \"TCO2E_ENTERIC\", \"Quantity (Mt CO2e)\": 51.22269112127589}, {\"Year\": 2027, \"Sources\": \"TCO2E_FERT_PROD\", \"Quantity (Mt CO2e)\": 5.220876975007074}, {\"Year\": 2027, \"Sources\": \"TCO2E_FODDER\", \"Quantity (Mt CO2e)\": 1.3486895894684376}, {\"Year\": 2027, \"Sources\": \"TCO2E_FUEL\", \"Quantity (Mt CO2e)\": 5.412270659032422}, {\"Year\": 2027, \"Sources\": \"TCO2E_HARVEST\", \"Quantity (Mt CO2e)\": 0.3695366648441709}, {\"Year\": 2027, \"Sources\": \"TCO2E_IND_LEACH_RUNOFF\", \"Quantity (Mt CO2e)\": 2.5528687705784203}, {\"Year\": 2027, \"Sources\": \"TCO2E_IRRIG\", \"Quantity (Mt CO2e)\": 0.18985007101796278}, {\"Year\": 2027, \"Sources\": \"TCO2E_MANURE_MGT\", \"Quantity (Mt CO2e)\": 0.2863538739921985}, {\"Year\": 2027, \"Sources\": \"TCO2E_PEST_PROD\", \"Quantity (Mt CO2e)\": 2.4152832259941683}, {\"Year\": 2027, \"Sources\": \"TCO2E_SEED\", \"Quantity (Mt CO2e)\": 4.67721134314292}, {\"Year\": 2027, \"Sources\": \"TCO2E_SOIL\", \"Quantity (Mt CO2e)\": 2.8653919296600905}, {\"Year\": 2027, \"Sources\": \"TCO2E_SOWING\", \"Quantity (Mt CO2e)\": 0.9760869379435501}, {\"Year\": 2028, \"Sources\": \"TCO2E_CHEM_APPL\", \"Quantity (Mt CO2e)\": 1.8463363735117575}, {\"Year\": 2028, \"Sources\": \"TCO2E_CROP_MGT\", \"Quantity (Mt CO2e)\": 0.026437035972785287}, {\"Year\": 2028, \"Sources\": \"TCO2E_CULTIV\", \"Quantity (Mt CO2e)\": 0.7903813439787252}, {\"Year\": 2028, \"Sources\": \"TCO2E_DUNG_URINE\", \"Quantity (Mt CO2e)\": 4.058152256166735}, {\"Year\": 2028, \"Sources\": \"TCO2E_ELEC\", \"Quantity (Mt CO2e)\": 0.27057563723206024}, {\"Year\": 2028, \"Sources\": \"TCO2E_ENTERIC\", \"Quantity (Mt CO2e)\": 50.89421692462583}, {\"Year\": 2028, \"Sources\": \"TCO2E_FERT_PROD\", \"Quantity (Mt CO2e)\": 5.23553508807636}, {\"Year\": 2028, \"Sources\": \"TCO2E_FODDER\", \"Quantity (Mt CO2e)\": 1.3372552591150764}, {\"Year\": 2028, \"Sources\": \"TCO2E_FUEL\", \"Quantity (Mt CO2e)\": 5.40161765609808}, {\"Year\": 2028, \"Sources\": \"TCO2E_HARVEST\", \"Quantity (Mt CO2e)\": 0.3709796218271996}, {\"Year\": 2028, \"Sources\": \"TCO2E_IND_LEACH_RUNOFF\", \"Quantity (Mt CO2e)\": 2.5405768024738355}, {\"Year\": 2028, \"Sources\": \"TCO2E_IRRIG\", \"Quantity (Mt CO2e)\": 0.1885020844970303}, {\"Year\": 2028, \"Sources\": \"TCO2E_MANURE_MGT\", \"Quantity (Mt CO2e)\": 0.28327740222836295}, {\"Year\": 2028, \"Sources\": \"TCO2E_PEST_PROD\", \"Quantity (Mt CO2e)\": 2.4275676296156203}, {\"Year\": 2028, \"Sources\": \"TCO2E_SEED\", \"Quantity (Mt CO2e)\": 4.653310451109121}, {\"Year\": 2028, \"Sources\": \"TCO2E_SOIL\", \"Quantity (Mt CO2e)\": 2.8659052964979237}, {\"Year\": 2028, \"Sources\": \"TCO2E_SOWING\", \"Quantity (Mt CO2e)\": 0.9794638306563556}, {\"Year\": 2029, \"Sources\": \"TCO2E_CHEM_APPL\", \"Quantity (Mt CO2e)\": 1.84601771771582}, {\"Year\": 2029, \"Sources\": \"TCO2E_CROP_MGT\", \"Quantity (Mt CO2e)\": 0.026204630261821616}, {\"Year\": 2029, \"Sources\": \"TCO2E_CULTIV\", \"Quantity (Mt CO2e)\": 0.7833069798041284}, {\"Year\": 2029, \"Sources\": \"TCO2E_DUNG_URINE\", \"Quantity (Mt CO2e)\": 4.028257283216374}, {\"Year\": 2029, \"Sources\": \"TCO2E_ELEC\", \"Quantity (Mt CO2e)\": 0.27079288223596865}, {\"Year\": 2029, \"Sources\": \"TCO2E_ENTERIC\", \"Quantity (Mt CO2e)\": 50.52864935719283}, {\"Year\": 2029, \"Sources\": \"TCO2E_FERT_PROD\", \"Quantity (Mt CO2e)\": 5.230082182599655}, {\"Year\": 2029, \"Sources\": \"TCO2E_FODDER\", \"Quantity (Mt CO2e)\": 1.3300339308649907}, {\"Year\": 2029, \"Sources\": \"TCO2E_FUEL\", \"Quantity (Mt CO2e)\": 5.401914865041709}, {\"Year\": 2029, \"Sources\": \"TCO2E_HARVEST\", \"Quantity (Mt CO2e)\": 0.37266701477581166}, {\"Year\": 2029, \"Sources\": \"TCO2E_IND_LEACH_RUNOFF\", \"Quantity (Mt CO2e)\": 2.5298941689960763}, {\"Year\": 2029, \"Sources\": \"TCO2E_IRRIG\", \"Quantity (Mt CO2e)\": 0.18667915430119836}, {\"Year\": 2029, \"Sources\": \"TCO2E_MANURE_MGT\", \"Quantity (Mt CO2e)\": 0.28462048118349026}, {\"Year\": 2029, \"Sources\": \"TCO2E_PEST_PROD\", \"Quantity (Mt CO2e)\": 2.4323826933411166}, {\"Year\": 2029, \"Sources\": \"TCO2E_SEED\", \"Quantity (Mt CO2e)\": 4.620022282640255}, {\"Year\": 2029, \"Sources\": \"TCO2E_SOIL\", \"Quantity (Mt CO2e)\": 2.866511136676197}, {\"Year\": 2029, \"Sources\": \"TCO2E_SOWING\", \"Quantity (Mt CO2e)\": 0.9816374606735917}, {\"Year\": 2030, \"Sources\": \"TCO2E_CHEM_APPL\", \"Quantity (Mt CO2e)\": 1.8532321461641195}, {\"Year\": 2030, \"Sources\": \"TCO2E_CROP_MGT\", \"Quantity (Mt CO2e)\": 0.026405038320923807}, {\"Year\": 2030, \"Sources\": \"TCO2E_CULTIV\", \"Quantity (Mt CO2e)\": 0.7856871242280403}, {\"Year\": 2030, \"Sources\": \"TCO2E_DUNG_URINE\", \"Quantity (Mt CO2e)\": 4.002768818064344}, {\"Year\": 2030, \"Sources\": \"TCO2E_ELEC\", \"Quantity (Mt CO2e)\": 0.265692804544972}, {\"Year\": 2030, \"Sources\": \"TCO2E_ENTERIC\", \"Quantity (Mt CO2e)\": 50.21734263283076}, {\"Year\": 2030, \"Sources\": \"TCO2E_FERT_PROD\", \"Quantity (Mt CO2e)\": 5.242018555445562}, {\"Year\": 2030, \"Sources\": \"TCO2E_FODDER\", \"Quantity (Mt CO2e)\": 1.3214316116893277}, {\"Year\": 2030, \"Sources\": \"TCO2E_FUEL\", \"Quantity (Mt CO2e)\": 5.390799832310327}, {\"Year\": 2030, \"Sources\": \"TCO2E_HARVEST\", \"Quantity (Mt CO2e)\": 0.37925148340118786}, {\"Year\": 2030, \"Sources\": \"TCO2E_IND_LEACH_RUNOFF\", \"Quantity (Mt CO2e)\": 2.521183034707403}, {\"Year\": 2030, \"Sources\": \"TCO2E_IRRIG\", \"Quantity (Mt CO2e)\": 0.18415632400069373}, {\"Year\": 2030, \"Sources\": \"TCO2E_MANURE_MGT\", \"Quantity (Mt CO2e)\": 0.2812766666718372}, {\"Year\": 2030, \"Sources\": \"TCO2E_PEST_PROD\", \"Quantity (Mt CO2e)\": 2.461959774084691}, {\"Year\": 2030, \"Sources\": \"TCO2E_SEED\", \"Quantity (Mt CO2e)\": 4.596592457188044}, {\"Year\": 2030, \"Sources\": \"TCO2E_SOIL\", \"Quantity (Mt CO2e)\": 2.872780053136515}, {\"Year\": 2030, \"Sources\": \"TCO2E_SOWING\", \"Quantity (Mt CO2e)\": 0.9846482640884536}, {\"Year\": 2031, \"Sources\": \"TCO2E_CHEM_APPL\", \"Quantity (Mt CO2e)\": 1.8618401553189692}, {\"Year\": 2031, \"Sources\": \"TCO2E_CROP_MGT\", \"Quantity (Mt CO2e)\": 0.026123265495016423}, {\"Year\": 2031, \"Sources\": \"TCO2E_CULTIV\", \"Quantity (Mt CO2e)\": 0.7852554668877535}, {\"Year\": 2031, \"Sources\": \"TCO2E_DUNG_URINE\", \"Quantity (Mt CO2e)\": 3.977723266916433}, {\"Year\": 2031, \"Sources\": \"TCO2E_ELEC\", \"Quantity (Mt CO2e)\": 0.26946512589716076}, {\"Year\": 2031, \"Sources\": \"TCO2E_ENTERIC\", \"Quantity (Mt CO2e)\": 49.89844799427765}, {\"Year\": 2031, \"Sources\": \"TCO2E_FERT_PROD\", \"Quantity (Mt CO2e)\": 5.240494035083967}, {\"Year\": 2031, \"Sources\": \"TCO2E_FODDER\", \"Quantity (Mt CO2e)\": 1.3170914276618888}, {\"Year\": 2031, \"Sources\": \"TCO2E_FUEL\", \"Quantity (Mt CO2e)\": 5.398068801338034}, {\"Year\": 2031, \"Sources\": \"TCO2E_HARVEST\", \"Quantity (Mt CO2e)\": 0.38840783023071407}, {\"Year\": 2031, \"Sources\": \"TCO2E_IND_LEACH_RUNOFF\", \"Quantity (Mt CO2e)\": 2.5158683997731544}, {\"Year\": 2031, \"Sources\": \"TCO2E_IRRIG\", \"Quantity (Mt CO2e)\": 0.18193385821364716}, {\"Year\": 2031, \"Sources\": \"TCO2E_MANURE_MGT\", \"Quantity (Mt CO2e)\": 0.28344634649356987}, {\"Year\": 2031, \"Sources\": \"TCO2E_PEST_PROD\", \"Quantity (Mt CO2e)\": 2.4888309437789826}, {\"Year\": 2031, \"Sources\": \"TCO2E_SEED\", \"Quantity (Mt CO2e)\": 4.570383932974091}, {\"Year\": 2031, \"Sources\": \"TCO2E_SOIL\", \"Quantity (Mt CO2e)\": 2.862971402492142}, {\"Year\": 2031, \"Sources\": \"TCO2E_SOWING\", \"Quantity (Mt CO2e)\": 0.9877938728268767}, {\"Year\": 2032, \"Sources\": \"TCO2E_CHEM_APPL\", \"Quantity (Mt CO2e)\": 1.8573752574773186}, {\"Year\": 2032, \"Sources\": \"TCO2E_CROP_MGT\", \"Quantity (Mt CO2e)\": 0.025918168570680817}, {\"Year\": 2032, \"Sources\": \"TCO2E_CULTIV\", \"Quantity (Mt CO2e)\": 0.784475716270991}, {\"Year\": 2032, \"Sources\": \"TCO2E_DUNG_URINE\", \"Quantity (Mt CO2e)\": 3.9432431742187584}, {\"Year\": 2032, \"Sources\": \"TCO2E_ELEC\", \"Quantity (Mt CO2e)\": 0.2734023309109015}, {\"Year\": 2032, \"Sources\": \"TCO2E_ENTERIC\", \"Quantity (Mt CO2e)\": 49.4397980023395}, {\"Year\": 2032, \"Sources\": \"TCO2E_FERT_PROD\", \"Quantity (Mt CO2e)\": 5.2129798428830805}, {\"Year\": 2032, \"Sources\": \"TCO2E_FODDER\", \"Quantity (Mt CO2e)\": 1.3047306369626}, {\"Year\": 2032, \"Sources\": \"TCO2E_FUEL\", \"Quantity (Mt CO2e)\": 5.388506873896743}, {\"Year\": 2032, \"Sources\": \"TCO2E_HARVEST\", \"Quantity (Mt CO2e)\": 0.39815829497556093}, {\"Year\": 2032, \"Sources\": \"TCO2E_IND_LEACH_RUNOFF\", \"Quantity (Mt CO2e)\": 2.504836560518747}, {\"Year\": 2032, \"Sources\": \"TCO2E_IRRIG\", \"Quantity (Mt CO2e)\": 0.17994401789206493}, {\"Year\": 2032, \"Sources\": \"TCO2E_MANURE_MGT\", \"Quantity (Mt CO2e)\": 0.2802661839536859}, {\"Year\": 2032, \"Sources\": \"TCO2E_PEST_PROD\", \"Quantity (Mt CO2e)\": 2.5041067025189307}, {\"Year\": 2032, \"Sources\": \"TCO2E_SEED\", \"Quantity (Mt CO2e)\": 4.546776913059745}, {\"Year\": 2032, \"Sources\": \"TCO2E_SOIL\", \"Quantity (Mt CO2e)\": 2.867747629952345}, {\"Year\": 2032, \"Sources\": \"TCO2E_SOWING\", \"Quantity (Mt CO2e)\": 0.983000207154642}, {\"Year\": 2033, \"Sources\": \"TCO2E_CHEM_APPL\", \"Quantity (Mt CO2e)\": 1.8504716416785982}, {\"Year\": 2033, \"Sources\": \"TCO2E_CROP_MGT\", \"Quantity (Mt CO2e)\": 0.025593912995461054}, {\"Year\": 2033, \"Sources\": \"TCO2E_CULTIV\", \"Quantity (Mt CO2e)\": 0.7833804300564977}, {\"Year\": 2033, \"Sources\": \"TCO2E_DUNG_URINE\", \"Quantity (Mt CO2e)\": 3.915282843145441}, {\"Year\": 2033, \"Sources\": \"TCO2E_ELEC\", \"Quantity (Mt CO2e)\": 0.29331150330348965}, {\"Year\": 2033, \"Sources\": \"TCO2E_ENTERIC\", \"Quantity (Mt CO2e)\": 49.07237799154533}, {\"Year\": 2033, \"Sources\": \"TCO2E_FERT_PROD\", \"Quantity (Mt CO2e)\": 5.192089279999769}, {\"Year\": 2033, \"Sources\": \"TCO2E_FODDER\", \"Quantity (Mt CO2e)\": 1.2994789115523073}, {\"Year\": 2033, \"Sources\": \"TCO2E_FUEL\", \"Quantity (Mt CO2e)\": 5.417251912374279}, {\"Year\": 2033, \"Sources\": \"TCO2E_HARVEST\", \"Quantity (Mt CO2e)\": 0.40634965240184945}, {\"Year\": 2033, \"Sources\": \"TCO2E_IND_LEACH_RUNOFF\", \"Quantity (Mt CO2e)\": 2.4975670581846954}, {\"Year\": 2033, \"Sources\": \"TCO2E_IRRIG\", \"Quantity (Mt CO2e)\": 0.17782166543058642}, {\"Year\": 2033, \"Sources\": \"TCO2E_MANURE_MGT\", \"Quantity (Mt CO2e)\": 0.28579557200008354}, {\"Year\": 2033, \"Sources\": \"TCO2E_PEST_PROD\", \"Quantity (Mt CO2e)\": 2.530603382634061}, {\"Year\": 2033, \"Sources\": \"TCO2E_SEED\", \"Quantity (Mt CO2e)\": 4.53145455292189}, {\"Year\": 2033, \"Sources\": \"TCO2E_SOIL\", \"Quantity (Mt CO2e)\": 2.8544650045435054}, {\"Year\": 2033, \"Sources\": \"TCO2E_SOWING\", \"Quantity (Mt CO2e)\": 0.9789879727740879}, {\"Year\": 2034, \"Sources\": \"TCO2E_CHEM_APPL\", \"Quantity (Mt CO2e)\": 1.8352833232912396}, {\"Year\": 2034, \"Sources\": \"TCO2E_CROP_MGT\", \"Quantity (Mt CO2e)\": 0.025441511368936773}, {\"Year\": 2034, \"Sources\": \"TCO2E_CULTIV\", \"Quantity (Mt CO2e)\": 0.781961755078565}, {\"Year\": 2034, \"Sources\": \"TCO2E_DUNG_URINE\", \"Quantity (Mt CO2e)\": 3.8836603450679803}, {\"Year\": 2034, \"Sources\": \"TCO2E_ELEC\", \"Quantity (Mt CO2e)\": 0.31182571889417066}, {\"Year\": 2034, \"Sources\": \"TCO2E_ENTERIC\", \"Quantity (Mt CO2e)\": 48.66112147493231}, {\"Year\": 2034, \"Sources\": \"TCO2E_FERT_PROD\", \"Quantity (Mt CO2e)\": 5.146765640144059}, {\"Year\": 2034, \"Sources\": \"TCO2E_FODDER\", \"Quantity (Mt CO2e)\": 1.2914049156515173}, {\"Year\": 2034, \"Sources\": \"TCO2E_FUEL\", \"Quantity (Mt CO2e)\": 5.445888853162503}, {\"Year\": 2034, \"Sources\": \"TCO2E_HARVEST\", \"Quantity (Mt CO2e)\": 0.40854437429954393}, {\"Year\": 2034, \"Sources\": \"TCO2E_IND_LEACH_RUNOFF\", \"Quantity (Mt CO2e)\": 2.487667731209522}, {\"Year\": 2034, \"Sources\": \"TCO2E_IRRIG\", \"Quantity (Mt CO2e)\": 0.17501432615968268}, {\"Year\": 2034, \"Sources\": \"TCO2E_MANURE_MGT\", \"Quantity (Mt CO2e)\": 0.28655854311356066}, {\"Year\": 2034, \"Sources\": \"TCO2E_PEST_PROD\", \"Quantity (Mt CO2e)\": 2.522936346456356}, {\"Year\": 2034, \"Sources\": \"TCO2E_SEED\", \"Quantity (Mt CO2e)\": 4.503637348803576}, {\"Year\": 2034, \"Sources\": \"TCO2E_SOIL\", \"Quantity (Mt CO2e)\": 2.864977376343295}, {\"Year\": 2034, \"Sources\": \"TCO2E_SOWING\", \"Quantity (Mt CO2e)\": 0.971398496942801}, {\"Year\": 2035, \"Sources\": \"TCO2E_CHEM_APPL\", \"Quantity (Mt CO2e)\": 1.8219428284761228}, {\"Year\": 2035, \"Sources\": \"TCO2E_CROP_MGT\", \"Quantity (Mt CO2e)\": 0.025051986763935268}, {\"Year\": 2035, \"Sources\": \"TCO2E_CULTIV\", \"Quantity (Mt CO2e)\": 0.7887776295217318}, {\"Year\": 2035, \"Sources\": \"TCO2E_DUNG_URINE\", \"Quantity (Mt CO2e)\": 3.855922563698071}, {\"Year\": 2035, \"Sources\": \"TCO2E_ELEC\", \"Quantity (Mt CO2e)\": 0.32371953588251867}, {\"Year\": 2035, \"Sources\": \"TCO2E_ENTERIC\", \"Quantity (Mt CO2e)\": 48.29372718357468}, {\"Year\": 2035, \"Sources\": \"TCO2E_FERT_PROD\", \"Quantity (Mt CO2e)\": 5.131614462966663}, {\"Year\": 2035, \"Sources\": \"TCO2E_FODDER\", \"Quantity (Mt CO2e)\": 1.2848027284965406}, {\"Year\": 2035, \"Sources\": \"TCO2E_FUEL\", \"Quantity (Mt CO2e)\": 5.461965524907186}, {\"Year\": 2035, \"Sources\": \"TCO2E_HARVEST\", \"Quantity (Mt CO2e)\": 0.40940916885871176}, {\"Year\": 2035, \"Sources\": \"TCO2E_IND_LEACH_RUNOFF\", \"Quantity (Mt CO2e)\": 2.483657822823158}, {\"Year\": 2035, \"Sources\": \"TCO2E_IRRIG\", \"Quantity (Mt CO2e)\": 0.1718127799256148}, {\"Year\": 2035, \"Sources\": \"TCO2E_MANURE_MGT\", \"Quantity (Mt CO2e)\": 0.28933826961171505}, {\"Year\": 2035, \"Sources\": \"TCO2E_PEST_PROD\", \"Quantity (Mt CO2e)\": 2.5180607294095276}, {\"Year\": 2035, \"Sources\": \"TCO2E_SEED\", \"Quantity (Mt CO2e)\": 4.4764735798898005}, {\"Year\": 2035, \"Sources\": \"TCO2E_SOIL\", \"Quantity (Mt CO2e)\": 2.8647870732408984}, {\"Year\": 2035, \"Sources\": \"TCO2E_SOWING\", \"Quantity (Mt CO2e)\": 0.9674378351337223}, {\"Year\": 2036, \"Sources\": \"TCO2E_CHEM_APPL\", \"Quantity (Mt CO2e)\": 1.8039968004771212}, {\"Year\": 2036, \"Sources\": \"TCO2E_CROP_MGT\", \"Quantity (Mt CO2e)\": 0.024728306876453623}, {\"Year\": 2036, \"Sources\": \"TCO2E_CULTIV\", \"Quantity (Mt CO2e)\": 0.7912914518130519}, {\"Year\": 2036, \"Sources\": \"TCO2E_DUNG_URINE\", \"Quantity (Mt CO2e)\": 3.8208697523243296}, {\"Year\": 2036, \"Sources\": \"TCO2E_ELEC\", \"Quantity (Mt CO2e)\": 0.3393331965833949}, {\"Year\": 2036, \"Sources\": \"TCO2E_ENTERIC\", \"Quantity (Mt CO2e)\": 47.855949749543356}, {\"Year\": 2036, \"Sources\": \"TCO2E_FERT_PROD\", \"Quantity (Mt CO2e)\": 5.116584431890797}, {\"Year\": 2036, \"Sources\": \"TCO2E_FODDER\", \"Quantity (Mt CO2e)\": 1.277405160108393}, {\"Year\": 2036, \"Sources\": \"TCO2E_FUEL\", \"Quantity (Mt CO2e)\": 5.486366418648306}, {\"Year\": 2036, \"Sources\": \"TCO2E_HARVEST\", \"Quantity (Mt CO2e)\": 0.4083338008024242}, {\"Year\": 2036, \"Sources\": \"TCO2E_IND_LEACH_RUNOFF\", \"Quantity (Mt CO2e)\": 2.4704814236577755}, {\"Year\": 2036, \"Sources\": \"TCO2E_IRRIG\", \"Quantity (Mt CO2e)\": 0.16763228945365433}, {\"Year\": 2036, \"Sources\": \"TCO2E_MANURE_MGT\", \"Quantity (Mt CO2e)\": 0.2875088070112902}, {\"Year\": 2036, \"Sources\": \"TCO2E_PEST_PROD\", \"Quantity (Mt CO2e)\": 2.5124052782631945}, {\"Year\": 2036, \"Sources\": \"TCO2E_SEED\", \"Quantity (Mt CO2e)\": 4.425964179461553}, {\"Year\": 2036, \"Sources\": \"TCO2E_SOIL\", \"Quantity (Mt CO2e)\": 2.861839029788945}, {\"Year\": 2036, \"Sources\": \"TCO2E_SOWING\", \"Quantity (Mt CO2e)\": 0.9605626196007919}, {\"Year\": 2037, \"Sources\": \"TCO2E_CHEM_APPL\", \"Quantity (Mt CO2e)\": 1.7836357767591824}, {\"Year\": 2037, \"Sources\": \"TCO2E_CROP_MGT\", \"Quantity (Mt CO2e)\": 0.02487005253240372}, {\"Year\": 2037, \"Sources\": \"TCO2E_CULTIV\", \"Quantity (Mt CO2e)\": 0.7935977101709532}, {\"Year\": 2037, \"Sources\": \"TCO2E_DUNG_URINE\", \"Quantity (Mt CO2e)\": 3.7908882299850113}, {\"Year\": 2037, \"Sources\": \"TCO2E_ELEC\", \"Quantity (Mt CO2e)\": 0.3585712525234684}, {\"Year\": 2037, \"Sources\": \"TCO2E_ENTERIC\", \"Quantity (Mt CO2e)\": 47.44633559653251}, {\"Year\": 2037, \"Sources\": \"TCO2E_FERT_PROD\", \"Quantity (Mt CO2e)\": 5.1076005781547416}, {\"Year\": 2037, \"Sources\": \"TCO2E_FODDER\", \"Quantity (Mt CO2e)\": 1.2787735630658423}, {\"Year\": 2037, \"Sources\": \"TCO2E_FUEL\", \"Quantity (Mt CO2e)\": 5.5042563484932145}, {\"Year\": 2037, \"Sources\": \"TCO2E_HARVEST\", \"Quantity (Mt CO2e)\": 0.40832768921042484}, {\"Year\": 2037, \"Sources\": \"TCO2E_IND_LEACH_RUNOFF\", \"Quantity (Mt CO2e)\": 2.473563790051929}, {\"Year\": 2037, \"Sources\": \"TCO2E_IRRIG\", \"Quantity (Mt CO2e)\": 0.1657266133987094}, {\"Year\": 2037, \"Sources\": \"TCO2E_MANURE_MGT\", \"Quantity (Mt CO2e)\": 0.2975030083553377}, {\"Year\": 2037, \"Sources\": \"TCO2E_PEST_PROD\", \"Quantity (Mt CO2e)\": 2.506925577068767}, {\"Year\": 2037, \"Sources\": \"TCO2E_SEED\", \"Quantity (Mt CO2e)\": 4.3811719785461225}, {\"Year\": 2037, \"Sources\": \"TCO2E_SOIL\", \"Quantity (Mt CO2e)\": 2.866262435578033}, {\"Year\": 2037, \"Sources\": \"TCO2E_SOWING\", \"Quantity (Mt CO2e)\": 0.9519200958735943}, {\"Year\": 2038, \"Sources\": \"TCO2E_CHEM_APPL\", \"Quantity (Mt CO2e)\": 1.7573321046597894}, {\"Year\": 2038, \"Sources\": \"TCO2E_CROP_MGT\", \"Quantity (Mt CO2e)\": 0.02479180169363635}, {\"Year\": 2038, \"Sources\": \"TCO2E_CULTIV\", \"Quantity (Mt CO2e)\": 0.7922838349632672}, {\"Year\": 2038, \"Sources\": \"TCO2E_DUNG_URINE\", \"Quantity (Mt CO2e)\": 3.7580804385459583}, {\"Year\": 2038, \"Sources\": \"TCO2E_ELEC\", \"Quantity (Mt CO2e)\": 0.385900787736691}, {\"Year\": 2038, \"Sources\": \"TCO2E_ENTERIC\", \"Quantity (Mt CO2e)\": 46.96956324845103}, {\"Year\": 2038, \"Sources\": \"TCO2E_FERT_PROD\", \"Quantity (Mt CO2e)\": 5.066608680184023}, {\"Year\": 2038, \"Sources\": \"TCO2E_FODDER\", \"Quantity (Mt CO2e)\": 1.2738873260351002}, {\"Year\": 2038, \"Sources\": \"TCO2E_FUEL\", \"Quantity (Mt CO2e)\": 5.531778839645448}, {\"Year\": 2038, \"Sources\": \"TCO2E_HARVEST\", \"Quantity (Mt CO2e)\": 0.4087118190962035}, {\"Year\": 2038, \"Sources\": \"TCO2E_IND_LEACH_RUNOFF\", \"Quantity (Mt CO2e)\": 2.4718443618256827}, {\"Year\": 2038, \"Sources\": \"TCO2E_IRRIG\", \"Quantity (Mt CO2e)\": 0.1681691989779915}, {\"Year\": 2038, \"Sources\": \"TCO2E_MANURE_MGT\", \"Quantity (Mt CO2e)\": 0.3006118390696151}, {\"Year\": 2038, \"Sources\": \"TCO2E_PEST_PROD\", \"Quantity (Mt CO2e)\": 2.5034762604276217}, {\"Year\": 2038, \"Sources\": \"TCO2E_SEED\", \"Quantity (Mt CO2e)\": 4.331020138391321}, {\"Year\": 2038, \"Sources\": \"TCO2E_SOIL\", \"Quantity (Mt CO2e)\": 2.8679528143133486}, {\"Year\": 2038, \"Sources\": \"TCO2E_SOWING\", \"Quantity (Mt CO2e)\": 0.9385678218224939}, {\"Year\": 2039, \"Sources\": \"TCO2E_CHEM_APPL\", \"Quantity (Mt CO2e)\": 1.708127129277792}, {\"Year\": 2039, \"Sources\": \"TCO2E_CROP_MGT\", \"Quantity (Mt CO2e)\": 0.024609556350595377}, {\"Year\": 2039, \"Sources\": \"TCO2E_CULTIV\", \"Quantity (Mt CO2e)\": 0.7878844560657825}, {\"Year\": 2039, \"Sources\": \"TCO2E_DUNG_URINE\", \"Quantity (Mt CO2e)\": 3.7294766861267603}, {\"Year\": 2039, \"Sources\": \"TCO2E_ELEC\", \"Quantity (Mt CO2e)\": 0.40700404455784006}, {\"Year\": 2039, \"Sources\": \"TCO2E_ENTERIC\", \"Quantity (Mt CO2e)\": 46.56246354000883}, {\"Year\": 2039, \"Sources\": \"TCO2E_FERT_PROD\", \"Quantity (Mt CO2e)\": 4.99005401926957}, {\"Year\": 2039, \"Sources\": \"TCO2E_FODDER\", \"Quantity (Mt CO2e)\": 1.2774418753645052}, {\"Year\": 2039, \"Sources\": \"TCO2E_FUEL\", \"Quantity (Mt CO2e)\": 5.554256607283436}, {\"Year\": 2039, \"Sources\": \"TCO2E_HARVEST\", \"Quantity (Mt CO2e)\": 0.40506949532528325}, {\"Year\": 2039, \"Sources\": \"TCO2E_IND_LEACH_RUNOFF\", \"Quantity (Mt CO2e)\": 2.476550057372143}, {\"Year\": 2039, \"Sources\": \"TCO2E_IRRIG\", \"Quantity (Mt CO2e)\": 0.16767197192839833}, {\"Year\": 2039, \"Sources\": \"TCO2E_MANURE_MGT\", \"Quantity (Mt CO2e)\": 0.31065876081485644}, {\"Year\": 2039, \"Sources\": \"TCO2E_PEST_PROD\", \"Quantity (Mt CO2e)\": 2.479683895666617}, {\"Year\": 2039, \"Sources\": \"TCO2E_SEED\", \"Quantity (Mt CO2e)\": 4.264906158055265}, {\"Year\": 2039, \"Sources\": \"TCO2E_SOIL\", \"Quantity (Mt CO2e)\": 2.8431483288778217}, {\"Year\": 2039, \"Sources\": \"TCO2E_SOWING\", \"Quantity (Mt CO2e)\": 0.9164507293873209}, {\"Year\": 2040, \"Sources\": \"TCO2E_CHEM_APPL\", \"Quantity (Mt CO2e)\": 1.642247782450856}, {\"Year\": 2040, \"Sources\": \"TCO2E_CROP_MGT\", \"Quantity (Mt CO2e)\": 0.024412986934893757}, {\"Year\": 2040, \"Sources\": \"TCO2E_CULTIV\", \"Quantity (Mt CO2e)\": 0.7842172749990258}, {\"Year\": 2040, \"Sources\": \"TCO2E_DUNG_URINE\", \"Quantity (Mt CO2e)\": 3.7059637873965094}, {\"Year\": 2040, \"Sources\": \"TCO2E_ELEC\", \"Quantity (Mt CO2e)\": 0.4332480007739492}, {\"Year\": 2040, \"Sources\": \"TCO2E_ENTERIC\", \"Quantity (Mt CO2e)\": 46.184875389741364}, {\"Year\": 2040, \"Sources\": \"TCO2E_FERT_PROD\", \"Quantity (Mt CO2e)\": 4.876996815780613}, {\"Year\": 2040, \"Sources\": \"TCO2E_FODDER\", \"Quantity (Mt CO2e)\": 1.2771382855186464}, {\"Year\": 2040, \"Sources\": \"TCO2E_FUEL\", \"Quantity (Mt CO2e)\": 5.583410798860581}, {\"Year\": 2040, \"Sources\": \"TCO2E_HARVEST\", \"Quantity (Mt CO2e)\": 0.39795739443405154}, {\"Year\": 2040, \"Sources\": \"TCO2E_IND_LEACH_RUNOFF\", \"Quantity (Mt CO2e)\": 2.477544635809457}, {\"Year\": 2040, \"Sources\": \"TCO2E_IRRIG\", \"Quantity (Mt CO2e)\": 0.1664406079397406}, {\"Year\": 2040, \"Sources\": \"TCO2E_MANURE_MGT\", \"Quantity (Mt CO2e)\": 0.31625931486975684}, {\"Year\": 2040, \"Sources\": \"TCO2E_PEST_PROD\", \"Quantity (Mt CO2e)\": 2.4511610858610244}, {\"Year\": 2040, \"Sources\": \"TCO2E_SEED\", \"Quantity (Mt CO2e)\": 4.233028120131736}, {\"Year\": 2040, \"Sources\": \"TCO2E_SOIL\", \"Quantity (Mt CO2e)\": 2.8146101675848527}, {\"Year\": 2040, \"Sources\": \"TCO2E_SOWING\", \"Quantity (Mt CO2e)\": 0.8849454270953866}, {\"Year\": 2041, \"Sources\": \"TCO2E_CHEM_APPL\", \"Quantity (Mt CO2e)\": 1.564969411370298}, {\"Year\": 2041, \"Sources\": \"TCO2E_CROP_MGT\", \"Quantity (Mt CO2e)\": 0.02444605146464751}, {\"Year\": 2041, \"Sources\": \"TCO2E_CULTIV\", \"Quantity (Mt CO2e)\": 0.793975463283625}, {\"Year\": 2041, \"Sources\": \"TCO2E_DUNG_URINE\", \"Quantity (Mt CO2e)\": 3.6867726926093245}, {\"Year\": 2041, \"Sources\": \"TCO2E_ELEC\", \"Quantity (Mt CO2e)\": 0.4523605377414689}, {\"Year\": 2041, \"Sources\": \"TCO2E_ENTERIC\", \"Quantity (Mt CO2e)\": 45.86050727079542}, {\"Year\": 2041, \"Sources\": \"TCO2E_FERT_PROD\", \"Quantity (Mt CO2e)\": 4.764582428029349}, {\"Year\": 2041, \"Sources\": \"TCO2E_FODDER\", \"Quantity (Mt CO2e)\": 1.2817670275689963}, {\"Year\": 2041, \"Sources\": \"TCO2E_FUEL\", \"Quantity (Mt CO2e)\": 5.6060426404752866}, {\"Year\": 2041, \"Sources\": \"TCO2E_HARVEST\", \"Quantity (Mt CO2e)\": 0.3937326730462353}, {\"Year\": 2041, \"Sources\": \"TCO2E_IND_LEACH_RUNOFF\", \"Quantity (Mt CO2e)\": 2.4863421301308373}, {\"Year\": 2041, \"Sources\": \"TCO2E_IRRIG\", \"Quantity (Mt CO2e)\": 0.16438515286390137}, {\"Year\": 2041, \"Sources\": \"TCO2E_MANURE_MGT\", \"Quantity (Mt CO2e)\": 0.32582411740953654}, {\"Year\": 2041, \"Sources\": \"TCO2E_PEST_PROD\", \"Quantity (Mt CO2e)\": 2.438777005397017}, {\"Year\": 2041, \"Sources\": \"TCO2E_SEED\", \"Quantity (Mt CO2e)\": 4.176221249505546}, {\"Year\": 2041, \"Sources\": \"TCO2E_SOIL\", \"Quantity (Mt CO2e)\": 2.7874292405399155}, {\"Year\": 2041, \"Sources\": \"TCO2E_SOWING\", \"Quantity (Mt CO2e)\": 0.8458827241400981}, {\"Year\": 2042, \"Sources\": \"TCO2E_CHEM_APPL\", \"Quantity (Mt CO2e)\": 1.4887388616645256}, {\"Year\": 2042, \"Sources\": \"TCO2E_CROP_MGT\", \"Quantity (Mt CO2e)\": 0.024204850016541688}, {\"Year\": 2042, \"Sources\": \"TCO2E_CULTIV\", \"Quantity (Mt CO2e)\": 0.7834144977270043}, {\"Year\": 2042, \"Sources\": \"TCO2E_DUNG_URINE\", \"Quantity (Mt CO2e)\": 3.6688020408918467}, {\"Year\": 2042, \"Sources\": \"TCO2E_ELEC\", \"Quantity (Mt CO2e)\": 0.4766828134717609}, {\"Year\": 2042, \"Sources\": \"TCO2E_ENTERIC\", \"Quantity (Mt CO2e)\": 45.56066176114894}, {\"Year\": 2042, \"Sources\": \"TCO2E_FERT_PROD\", \"Quantity (Mt CO2e)\": 4.622464923983389}, {\"Year\": 2042, \"Sources\": \"TCO2E_FODDER\", \"Quantity (Mt CO2e)\": 1.2821014466619296}, {\"Year\": 2042, \"Sources\": \"TCO2E_FUEL\", \"Quantity (Mt CO2e)\": 5.626095949720127}, {\"Year\": 2042, \"Sources\": \"TCO2E_HARVEST\", \"Quantity (Mt CO2e)\": 0.38468829199770177}, {\"Year\": 2042, \"Sources\": \"TCO2E_IND_LEACH_RUNOFF\", \"Quantity (Mt CO2e)\": 2.485767737153575}, {\"Year\": 2042, \"Sources\": \"TCO2E_IRRIG\", \"Quantity (Mt CO2e)\": 0.166308766173801}, {\"Year\": 2042, \"Sources\": \"TCO2E_MANURE_MGT\", \"Quantity (Mt CO2e)\": 0.3290501607086451}, {\"Year\": 2042, \"Sources\": \"TCO2E_PEST_PROD\", \"Quantity (Mt CO2e)\": 2.3920790782524404}, {\"Year\": 2042, \"Sources\": \"TCO2E_SEED\", \"Quantity (Mt CO2e)\": 4.11920400973134}, {\"Year\": 2042, \"Sources\": \"TCO2E_SOIL\", \"Quantity (Mt CO2e)\": 2.7507823483102585}, {\"Year\": 2042, \"Sources\": \"TCO2E_SOWING\", \"Quantity (Mt CO2e)\": 0.8077913811632188}, {\"Year\": 2043, \"Sources\": \"TCO2E_CHEM_APPL\", \"Quantity (Mt CO2e)\": 1.4258936501512072}, {\"Year\": 2043, \"Sources\": \"TCO2E_CROP_MGT\", \"Quantity (Mt CO2e)\": 0.02375618337799993}, {\"Year\": 2043, \"Sources\": \"TCO2E_CULTIV\", \"Quantity (Mt CO2e)\": 0.7829647378244834}, {\"Year\": 2043, \"Sources\": \"TCO2E_DUNG_URINE\", \"Quantity (Mt CO2e)\": 3.6496747654219273}, {\"Year\": 2043, \"Sources\": \"TCO2E_ELEC\", \"Quantity (Mt CO2e)\": 0.5116047839826772}, {\"Year\": 2043, \"Sources\": \"TCO2E_ENTERIC\", \"Quantity (Mt CO2e)\": 45.225391880400096}, {\"Year\": 2043, \"Sources\": \"TCO2E_FERT_PROD\", \"Quantity (Mt CO2e)\": 4.529112712552479}, {\"Year\": 2043, \"Sources\": \"TCO2E_FODDER\", \"Quantity (Mt CO2e)\": 1.2913092650456015}, {\"Year\": 2043, \"Sources\": \"TCO2E_FUEL\", \"Quantity (Mt CO2e)\": 5.6315681235234045}, {\"Year\": 2043, \"Sources\": \"TCO2E_HARVEST\", \"Quantity (Mt CO2e)\": 0.38175305253951225}, {\"Year\": 2043, \"Sources\": \"TCO2E_IND_LEACH_RUNOFF\", \"Quantity (Mt CO2e)\": 2.495764399201135}, {\"Year\": 2043, \"Sources\": \"TCO2E_IRRIG\", \"Quantity (Mt CO2e)\": 0.16389998501446626}, {\"Year\": 2043, \"Sources\": \"TCO2E_MANURE_MGT\", \"Quantity (Mt CO2e)\": 0.3395972858857043}, {\"Year\": 2043, \"Sources\": \"TCO2E_PEST_PROD\", \"Quantity (Mt CO2e)\": 2.374898195606826}, {\"Year\": 2043, \"Sources\": \"TCO2E_SEED\", \"Quantity (Mt CO2e)\": 4.0280891359747075}, {\"Year\": 2043, \"Sources\": \"TCO2E_SOIL\", \"Quantity (Mt CO2e)\": 2.719297027756415}, {\"Year\": 2043, \"Sources\": \"TCO2E_SOWING\", \"Quantity (Mt CO2e)\": 0.7748549226043512}, {\"Year\": 2044, \"Sources\": \"TCO2E_CHEM_APPL\", \"Quantity (Mt CO2e)\": 1.3769554386596923}, {\"Year\": 2044, \"Sources\": \"TCO2E_CROP_MGT\", \"Quantity (Mt CO2e)\": 0.024169280214622238}, {\"Year\": 2044, \"Sources\": \"TCO2E_CULTIV\", \"Quantity (Mt CO2e)\": 0.786758828379122}, {\"Year\": 2044, \"Sources\": \"TCO2E_DUNG_URINE\", \"Quantity (Mt CO2e)\": 3.615110927272668}, {\"Year\": 2044, \"Sources\": \"TCO2E_ELEC\", \"Quantity (Mt CO2e)\": 0.5734349601853521}, {\"Year\": 2044, \"Sources\": \"TCO2E_ENTERIC\", \"Quantity (Mt CO2e)\": 44.78715848707711}, {\"Year\": 2044, \"Sources\": \"TCO2E_FERT_PROD\", \"Quantity (Mt CO2e)\": 4.456015509301821}, {\"Year\": 2044, \"Sources\": \"TCO2E_FODDER\", \"Quantity (Mt CO2e)\": 1.2955952594169655}, {\"Year\": 2044, \"Sources\": \"TCO2E_FUEL\", \"Quantity (Mt CO2e)\": 5.674822467725328}, {\"Year\": 2044, \"Sources\": \"TCO2E_HARVEST\", \"Quantity (Mt CO2e)\": 0.3804819820715259}, {\"Year\": 2044, \"Sources\": \"TCO2E_IND_LEACH_RUNOFF\", \"Quantity (Mt CO2e)\": 2.489092898675948}, {\"Year\": 2044, \"Sources\": \"TCO2E_IRRIG\", \"Quantity (Mt CO2e)\": 0.15822560190432378}, {\"Year\": 2044, \"Sources\": \"TCO2E_MANURE_MGT\", \"Quantity (Mt CO2e)\": 0.35073030834474295}, {\"Year\": 2044, \"Sources\": \"TCO2E_PEST_PROD\", \"Quantity (Mt CO2e)\": 2.371361644330473}, {\"Year\": 2044, \"Sources\": \"TCO2E_SEED\", \"Quantity (Mt CO2e)\": 3.932122887183881}, {\"Year\": 2044, \"Sources\": \"TCO2E_SOIL\", \"Quantity (Mt CO2e)\": 2.6913504879125867}, {\"Year\": 2044, \"Sources\": \"TCO2E_SOWING\", \"Quantity (Mt CO2e)\": 0.7466562444030724}, {\"Year\": 2045, \"Sources\": \"TCO2E_CHEM_APPL\", \"Quantity (Mt CO2e)\": 1.3268845641134448}, {\"Year\": 2045, \"Sources\": \"TCO2E_CROP_MGT\", \"Quantity (Mt CO2e)\": 0.02362919527314439}, {\"Year\": 2045, \"Sources\": \"TCO2E_CULTIV\", \"Quantity (Mt CO2e)\": 0.7958664920943576}, {\"Year\": 2045, \"Sources\": \"TCO2E_DUNG_URINE\", \"Quantity (Mt CO2e)\": 3.5846908007835654}, {\"Year\": 2045, \"Sources\": \"TCO2E_ELEC\", \"Quantity (Mt CO2e)\": 0.6458615342112254}, {\"Year\": 2045, \"Sources\": \"TCO2E_ENTERIC\", \"Quantity (Mt CO2e)\": 44.383100969055455}, {\"Year\": 2045, \"Sources\": \"TCO2E_FERT_PROD\", \"Quantity (Mt CO2e)\": 4.367316545625177}, {\"Year\": 2045, \"Sources\": \"TCO2E_FODDER\", \"Quantity (Mt CO2e)\": 1.3165840333582466}, {\"Year\": 2045, \"Sources\": \"TCO2E_FUEL\", \"Quantity (Mt CO2e)\": 5.732015229035264}, {\"Year\": 2045, \"Sources\": \"TCO2E_HARVEST\", \"Quantity (Mt CO2e)\": 0.3766784339215587}, {\"Year\": 2045, \"Sources\": \"TCO2E_IND_LEACH_RUNOFF\", \"Quantity (Mt CO2e)\": 2.4842945917474544}, {\"Year\": 2045, \"Sources\": \"TCO2E_IRRIG\", \"Quantity (Mt CO2e)\": 0.15294922996890745}, {\"Year\": 2045, \"Sources\": \"TCO2E_MANURE_MGT\", \"Quantity (Mt CO2e)\": 0.36803400431225486}, {\"Year\": 2045, \"Sources\": \"TCO2E_PEST_PROD\", \"Quantity (Mt CO2e)\": 2.355926316869441}, {\"Year\": 2045, \"Sources\": \"TCO2E_SEED\", \"Quantity (Mt CO2e)\": 3.8903933769030883}, {\"Year\": 2045, \"Sources\": \"TCO2E_SOIL\", \"Quantity (Mt CO2e)\": 2.6298013240412677}, {\"Year\": 2045, \"Sources\": \"TCO2E_SOWING\", \"Quantity (Mt CO2e)\": 0.7214522059180285}, {\"Year\": 2046, \"Sources\": \"TCO2E_CHEM_APPL\", \"Quantity (Mt CO2e)\": 1.3235508109558072}, {\"Year\": 2046, \"Sources\": \"TCO2E_CROP_MGT\", \"Quantity (Mt CO2e)\": 0.02321976880832639}, {\"Year\": 2046, \"Sources\": \"TCO2E_CULTIV\", \"Quantity (Mt CO2e)\": 0.8016912791655986}, {\"Year\": 2046, \"Sources\": \"TCO2E_DUNG_URINE\", \"Quantity (Mt CO2e)\": 3.573279670727021}, {\"Year\": 2046, \"Sources\": \"TCO2E_ELEC\", \"Quantity (Mt CO2e)\": 0.6751211609997606}, {\"Year\": 2046, \"Sources\": \"TCO2E_ENTERIC\", \"Quantity (Mt CO2e)\": 44.16484597290413}, {\"Year\": 2046, \"Sources\": \"TCO2E_FERT_PROD\", \"Quantity (Mt CO2e)\": 4.35831013642422}, {\"Year\": 2046, \"Sources\": \"TCO2E_FODDER\", \"Quantity (Mt CO2e)\": 1.3163261006558276}, {\"Year\": 2046, \"Sources\": \"TCO2E_FUEL\", \"Quantity (Mt CO2e)\": 5.744942708973525}, {\"Year\": 2046, \"Sources\": \"TCO2E_HARVEST\", \"Quantity (Mt CO2e)\": 0.38507000658689505}, {\"Year\": 2046, \"Sources\": \"TCO2E_IND_LEACH_RUNOFF\", \"Quantity (Mt CO2e)\": 2.479512361959386}, {\"Year\": 2046, \"Sources\": \"TCO2E_IRRIG\", \"Quantity (Mt CO2e)\": 0.15497436865591818}, {\"Year\": 2046, \"Sources\": \"TCO2E_MANURE_MGT\", \"Quantity (Mt CO2e)\": 0.3726593284235541}, {\"Year\": 2046, \"Sources\": \"TCO2E_PEST_PROD\", \"Quantity (Mt CO2e)\": 2.374062866385518}, {\"Year\": 2046, \"Sources\": \"TCO2E_SEED\", \"Quantity (Mt CO2e)\": 3.9309040821666064}, {\"Year\": 2046, \"Sources\": \"TCO2E_SOIL\", \"Quantity (Mt CO2e)\": 2.6032389669910017}, {\"Year\": 2046, \"Sources\": \"TCO2E_SOWING\", \"Quantity (Mt CO2e)\": 0.7179786066847532}, {\"Year\": 2047, \"Sources\": \"TCO2E_CHEM_APPL\", \"Quantity (Mt CO2e)\": 1.3212804742026323}, {\"Year\": 2047, \"Sources\": \"TCO2E_CROP_MGT\", \"Quantity (Mt CO2e)\": 0.022784193450516358}, {\"Year\": 2047, \"Sources\": \"TCO2E_CULTIV\", \"Quantity (Mt CO2e)\": 0.8077995141631378}, {\"Year\": 2047, \"Sources\": \"TCO2E_DUNG_URINE\", \"Quantity (Mt CO2e)\": 3.5682254165009497}, {\"Year\": 2047, \"Sources\": \"TCO2E_ELEC\", \"Quantity (Mt CO2e)\": 0.6868268768316811}, {\"Year\": 2047, \"Sources\": \"TCO2E_ENTERIC\", \"Quantity (Mt CO2e)\": 44.004067766693076}, {\"Year\": 2047, \"Sources\": \"TCO2E_FERT_PROD\", \"Quantity (Mt CO2e)\": 4.336164588184804}, {\"Year\": 2047, \"Sources\": \"TCO2E_FODDER\", \"Quantity (Mt CO2e)\": 1.3243557285536625}, {\"Year\": 2047, \"Sources\": \"TCO2E_FUEL\", \"Quantity (Mt CO2e)\": 5.7445500018330415}, {\"Year\": 2047, \"Sources\": \"TCO2E_HARVEST\", \"Quantity (Mt CO2e)\": 0.39118032831197075}, {\"Year\": 2047, \"Sources\": \"TCO2E_IND_LEACH_RUNOFF\", \"Quantity (Mt CO2e)\": 2.478199260096079}, {\"Year\": 2047, \"Sources\": \"TCO2E_IRRIG\", \"Quantity (Mt CO2e)\": 0.1534787257523571}, {\"Year\": 2047, \"Sources\": \"TCO2E_MANURE_MGT\", \"Quantity (Mt CO2e)\": 0.3773015359559688}, {\"Year\": 2047, \"Sources\": \"TCO2E_PEST_PROD\", \"Quantity (Mt CO2e)\": 2.4015698516629764}, {\"Year\": 2047, \"Sources\": \"TCO2E_SEED\", \"Quantity (Mt CO2e)\": 4.027194516366961}, {\"Year\": 2047, \"Sources\": \"TCO2E_SOIL\", \"Quantity (Mt CO2e)\": 2.578373058893645}, {\"Year\": 2047, \"Sources\": \"TCO2E_SOWING\", \"Quantity (Mt CO2e)\": 0.7153167856583529}, {\"Year\": 2048, \"Sources\": \"TCO2E_CHEM_APPL\", \"Quantity (Mt CO2e)\": 1.308130321829793}, {\"Year\": 2048, \"Sources\": \"TCO2E_CROP_MGT\", \"Quantity (Mt CO2e)\": 0.021874781728187076}, {\"Year\": 2048, \"Sources\": \"TCO2E_CULTIV\", \"Quantity (Mt CO2e)\": 0.8088411749744217}, {\"Year\": 2048, \"Sources\": \"TCO2E_DUNG_URINE\", \"Quantity (Mt CO2e)\": 3.5635640182057404}, {\"Year\": 2048, \"Sources\": \"TCO2E_ELEC\", \"Quantity (Mt CO2e)\": 0.6981049242468594}, {\"Year\": 2048, \"Sources\": \"TCO2E_ENTERIC\", \"Quantity (Mt CO2e)\": 43.886101700262266}, {\"Year\": 2048, \"Sources\": \"TCO2E_FERT_PROD\", \"Quantity (Mt CO2e)\": 4.2887062313148645}, {\"Year\": 2048, \"Sources\": \"TCO2E_FODDER\", \"Quantity (Mt CO2e)\": 1.346226249097707}, {\"Year\": 2048, \"Sources\": \"TCO2E_FUEL\", \"Quantity (Mt CO2e)\": 5.620307170325381}, {\"Year\": 2048, \"Sources\": \"TCO2E_HARVEST\", \"Quantity (Mt CO2e)\": 0.3901818038000004}, {\"Year\": 2048, \"Sources\": \"TCO2E_IND_LEACH_RUNOFF\", \"Quantity (Mt CO2e)\": 2.4755401653126556}, {\"Year\": 2048, \"Sources\": \"TCO2E_IRRIG\", \"Quantity (Mt CO2e)\": 0.14976984544187202}, {\"Year\": 2048, \"Sources\": \"TCO2E_MANURE_MGT\", \"Quantity (Mt CO2e)\": 0.37607269570288604}, {\"Year\": 2048, \"Sources\": \"TCO2E_PEST_PROD\", \"Quantity (Mt CO2e)\": 2.382187630015375}, {\"Year\": 2048, \"Sources\": \"TCO2E_SEED\", \"Quantity (Mt CO2e)\": 4.326641537092961}, {\"Year\": 2048, \"Sources\": \"TCO2E_SOIL\", \"Quantity (Mt CO2e)\": 2.5273753583993064}, {\"Year\": 2048, \"Sources\": \"TCO2E_SOWING\", \"Quantity (Mt CO2e)\": 0.7082016402631136}, {\"Year\": 2049, \"Sources\": \"TCO2E_CHEM_APPL\", \"Quantity (Mt CO2e)\": 1.2960024334393312}, {\"Year\": 2049, \"Sources\": \"TCO2E_CROP_MGT\", \"Quantity (Mt CO2e)\": 0.021619445324463814}, {\"Year\": 2049, \"Sources\": \"TCO2E_CULTIV\", \"Quantity (Mt CO2e)\": 0.7881287741623004}, {\"Year\": 2049, \"Sources\": \"TCO2E_DUNG_URINE\", \"Quantity (Mt CO2e)\": 3.625632340999317}, {\"Year\": 2049, \"Sources\": \"TCO2E_ELEC\", \"Quantity (Mt CO2e)\": 0.6661369785125624}, {\"Year\": 2049, \"Sources\": \"TCO2E_ENTERIC\", \"Quantity (Mt CO2e)\": 44.9028549684906}, {\"Year\": 2049, \"Sources\": \"TCO2E_FERT_PROD\", \"Quantity (Mt CO2e)\": 4.207077549711888}, {\"Year\": 2049, \"Sources\": \"TCO2E_FODDER\", \"Quantity (Mt CO2e)\": 1.40349408272974}, {\"Year\": 2049, \"Sources\": \"TCO2E_FUEL\", \"Quantity (Mt CO2e)\": 5.342018554715296}, {\"Year\": 2049, \"Sources\": \"TCO2E_HARVEST\", \"Quantity (Mt CO2e)\": 0.38618673453047686}, {\"Year\": 2049, \"Sources\": \"TCO2E_IND_LEACH_RUNOFF\", \"Quantity (Mt CO2e)\": 2.509818381867275}, {\"Year\": 2049, \"Sources\": \"TCO2E_IRRIG\", \"Quantity (Mt CO2e)\": 0.1546088181720278}, {\"Year\": 2049, \"Sources\": \"TCO2E_MANURE_MGT\", \"Quantity (Mt CO2e)\": 0.3774720664452782}, {\"Year\": 2049, \"Sources\": \"TCO2E_PEST_PROD\", \"Quantity (Mt CO2e)\": 2.3376702418663333}, {\"Year\": 2049, \"Sources\": \"TCO2E_SEED\", \"Quantity (Mt CO2e)\": 4.751513988443122}, {\"Year\": 2049, \"Sources\": \"TCO2E_SOIL\", \"Quantity (Mt CO2e)\": 2.4344108638909723}, {\"Year\": 2049, \"Sources\": \"TCO2E_SOWING\", \"Quantity (Mt CO2e)\": 0.7025632175039674}, {\"Year\": 2050, \"Sources\": \"TCO2E_CHEM_APPL\", \"Quantity (Mt CO2e)\": 1.2794122496342708}, {\"Year\": 2050, \"Sources\": \"TCO2E_CROP_MGT\", \"Quantity (Mt CO2e)\": 0.021468017461672585}, {\"Year\": 2050, \"Sources\": \"TCO2E_CULTIV\", \"Quantity (Mt CO2e)\": 0.7712146849069589}, {\"Year\": 2050, \"Sources\": \"TCO2E_DUNG_URINE\", \"Quantity (Mt CO2e)\": 3.703793904791297}, {\"Year\": 2050, \"Sources\": \"TCO2E_ELEC\", \"Quantity (Mt CO2e)\": 0.6287486271078208}, {\"Year\": 2050, \"Sources\": \"TCO2E_ENTERIC\", \"Quantity (Mt CO2e)\": 46.27110410091609}, {\"Year\": 2050, \"Sources\": \"TCO2E_FERT_PROD\", \"Quantity (Mt CO2e)\": 4.110373127884762}, {\"Year\": 2050, \"Sources\": \"TCO2E_FODDER\", \"Quantity (Mt CO2e)\": 1.4497812291614987}, {\"Year\": 2050, \"Sources\": \"TCO2E_FUEL\", \"Quantity (Mt CO2e)\": 5.019062703233166}, {\"Year\": 2050, \"Sources\": \"TCO2E_HARVEST\", \"Quantity (Mt CO2e)\": 0.3833612014436004}, {\"Year\": 2050, \"Sources\": \"TCO2E_IND_LEACH_RUNOFF\", \"Quantity (Mt CO2e)\": 2.544985246272325}, {\"Year\": 2050, \"Sources\": \"TCO2E_IRRIG\", \"Quantity (Mt CO2e)\": 0.15392221742341064}, {\"Year\": 2050, \"Sources\": \"TCO2E_MANURE_MGT\", \"Quantity (Mt CO2e)\": 0.3838775535957254}, {\"Year\": 2050, \"Sources\": \"TCO2E_PEST_PROD\", \"Quantity (Mt CO2e)\": 2.29320976082359}, {\"Year\": 2050, \"Sources\": \"TCO2E_SEED\", \"Quantity (Mt CO2e)\": 5.331183048683818}, {\"Year\": 2050, \"Sources\": \"TCO2E_SOIL\", \"Quantity (Mt CO2e)\": 2.3275344548577626}, {\"Year\": 2050, \"Sources\": \"TCO2E_SOWING\", \"Quantity (Mt CO2e)\": 0.6943826761385689}]}}, {\"mode\": \"vega-lite\"});\n",
       "</script>"
      ],
      "text/plain": [
       "alt.LayerChart(...)"
      ]
     },
     "execution_count": 31,
     "metadata": {},
     "output_type": "execute_result"
    }
   ],
   "source": [
    "# HIDE CODE\n",
    "# get the df and plot\n",
    "GHG_sources_df,GHG_sources_plot = ag_lucc_GHG.plot_GHG_sources()\n",
    "GHG_sources_plot"
   ]
  },
  {
   "cell_type": "code",
   "execution_count": null,
   "metadata": {},
   "outputs": [],
   "source": []
  },
  {
   "cell_type": "markdown",
   "metadata": {},
   "source": [
    "### Emissions by {land-use}-{irrigation} cmobined"
   ]
  },
  {
   "cell_type": "code",
   "execution_count": null,
   "metadata": {},
   "outputs": [],
   "source": []
  },
  {
   "cell_type": "code",
   "execution_count": 32,
   "metadata": {
    "tags": [
     "hide-input"
    ]
   },
   "outputs": [
    {
     "data": {
      "text/html": [
       "\n",
       "<style>\n",
       "  #altair-viz-a1ba5f8023204684a16c83b4f7ef527f.vega-embed {\n",
       "    width: 100%;\n",
       "    display: flex;\n",
       "  }\n",
       "\n",
       "  #altair-viz-a1ba5f8023204684a16c83b4f7ef527f.vega-embed details,\n",
       "  #altair-viz-a1ba5f8023204684a16c83b4f7ef527f.vega-embed details summary {\n",
       "    position: relative;\n",
       "  }\n",
       "</style>\n",
       "<div id=\"altair-viz-a1ba5f8023204684a16c83b4f7ef527f\"></div>\n",
       "<script type=\"text/javascript\">\n",
       "  var VEGA_DEBUG = (typeof VEGA_DEBUG == \"undefined\") ? {} : VEGA_DEBUG;\n",
       "  (function(spec, embedOpt){\n",
       "    let outputDiv = document.currentScript.previousElementSibling;\n",
       "    if (outputDiv.id !== \"altair-viz-a1ba5f8023204684a16c83b4f7ef527f\") {\n",
       "      outputDiv = document.getElementById(\"altair-viz-a1ba5f8023204684a16c83b4f7ef527f\");\n",
       "    }\n",
       "    const paths = {\n",
       "      \"vega\": \"https://cdn.jsdelivr.net/npm/vega@5?noext\",\n",
       "      \"vega-lib\": \"https://cdn.jsdelivr.net/npm/vega-lib?noext\",\n",
       "      \"vega-lite\": \"https://cdn.jsdelivr.net/npm/vega-lite@5.15.1?noext\",\n",
       "      \"vega-embed\": \"https://cdn.jsdelivr.net/npm/vega-embed@6?noext\",\n",
       "    };\n",
       "\n",
       "    function maybeLoadScript(lib, version) {\n",
       "      var key = `${lib.replace(\"-\", \"\")}_version`;\n",
       "      return (VEGA_DEBUG[key] == version) ?\n",
       "        Promise.resolve(paths[lib]) :\n",
       "        new Promise(function(resolve, reject) {\n",
       "          var s = document.createElement('script');\n",
       "          document.getElementsByTagName(\"head\")[0].appendChild(s);\n",
       "          s.async = true;\n",
       "          s.onload = () => {\n",
       "            VEGA_DEBUG[key] = version;\n",
       "            return resolve(paths[lib]);\n",
       "          };\n",
       "          s.onerror = () => reject(`Error loading script: ${paths[lib]}`);\n",
       "          s.src = paths[lib];\n",
       "        });\n",
       "    }\n",
       "\n",
       "    function showError(err) {\n",
       "      outputDiv.innerHTML = `<div class=\"error\" style=\"color:red;\">${err}</div>`;\n",
       "      throw err;\n",
       "    }\n",
       "\n",
       "    function displayChart(vegaEmbed) {\n",
       "      vegaEmbed(outputDiv, spec, embedOpt)\n",
       "        .catch(err => showError(`Javascript Error: ${err.message}<br>This usually means there's a typo in your chart specification. See the javascript console for the full traceback.`));\n",
       "    }\n",
       "\n",
       "    if(typeof define === \"function\" && define.amd) {\n",
       "      requirejs.config({paths});\n",
       "      require([\"vega-embed\"], displayChart, err => showError(`Error loading script: ${err.message}`));\n",
       "    } else {\n",
       "      maybeLoadScript(\"vega\", \"5\")\n",
       "        .then(() => maybeLoadScript(\"vega-lite\", \"5.15.1\"))\n",
       "        .then(() => maybeLoadScript(\"vega-embed\", \"6\"))\n",
       "        .catch(showError)\n",
       "        .then(() => displayChart(vegaEmbed));\n",
       "    }\n",
       "  })({\"config\": {\"view\": {\"continuousWidth\": 300, \"continuousHeight\": 300}}, \"data\": {\"name\": \"data-d788c9c172fcc48cd3364477ec3b8637\"}, \"mark\": {\"type\": \"bar\"}, \"encoding\": {\"color\": {\"field\": \"Irrigation\", \"type\": \"nominal\"}, \"tooltip\": [{\"field\": \"Land use\", \"title\": \"Landuse\", \"type\": \"ordinal\"}, {\"field\": \"Quantity (Mt CO2e)\", \"title\": \"GHG emissions (Mt CO2e)\", \"type\": \"quantitative\"}], \"x\": {\"field\": \"Quantity (Mt CO2e)\", \"type\": \"quantitative\"}, \"y\": {\"field\": \"Land use\", \"type\": \"ordinal\"}}, \"width\": 500, \"$schema\": \"https://vega.github.io/schema/vega-lite/v5.15.1.json\", \"datasets\": {\"data-d788c9c172fcc48cd3364477ec3b8637\": [{\"Year\": 2050, \"Land use category\": \"Crop\", \"Land use\": \"Apples\", \"Irrigation\": \"dry\", \"Quantity (Mt CO2e)\": 0.0009149871905539115}, {\"Year\": 2050, \"Land use category\": \"Crop\", \"Land use\": \"Apples\", \"Irrigation\": \"irr\", \"Quantity (Mt CO2e)\": 0.006645370302553598}, {\"Year\": 2050, \"Land use category\": \"Crop\", \"Land use\": \"Citrus\", \"Irrigation\": \"dry\", \"Quantity (Mt CO2e)\": 0.06585144291831174}, {\"Year\": 2050, \"Land use category\": \"Crop\", \"Land use\": \"Citrus\", \"Irrigation\": \"irr\", \"Quantity (Mt CO2e)\": 0.026737060165405276}, {\"Year\": 2050, \"Land use category\": \"Crop\", \"Land use\": \"Cotton\", \"Irrigation\": \"dry\", \"Quantity (Mt CO2e)\": 0.2677973087449498}, {\"Year\": 2050, \"Land use category\": \"Crop\", \"Land use\": \"Cotton\", \"Irrigation\": \"irr\", \"Quantity (Mt CO2e)\": 0.0053030456027984615}, {\"Year\": 2050, \"Land use category\": \"Crop\", \"Land use\": \"Grapes\", \"Irrigation\": \"dry\", \"Quantity (Mt CO2e)\": 0.2225754932770101}, {\"Year\": 2050, \"Land use category\": \"Crop\", \"Land use\": \"Grapes\", \"Irrigation\": \"irr\", \"Quantity (Mt CO2e)\": 0.0}, {\"Year\": 2050, \"Land use category\": \"Crop\", \"Land use\": \"Hay\", \"Irrigation\": \"dry\", \"Quantity (Mt CO2e)\": 0.26890873179244995}, {\"Year\": 2050, \"Land use category\": \"Crop\", \"Land use\": \"Hay\", \"Irrigation\": \"irr\", \"Quantity (Mt CO2e)\": 0.10770231254959106}, {\"Year\": 2050, \"Land use category\": \"Crop\", \"Land use\": \"Nuts\", \"Irrigation\": \"dry\", \"Quantity (Mt CO2e)\": 0.09467743187438735}, {\"Year\": 2050, \"Land use category\": \"Crop\", \"Land use\": \"Nuts\", \"Irrigation\": \"irr\", \"Quantity (Mt CO2e)\": 0.005948499069213867}, {\"Year\": 2050, \"Land use category\": \"Crop\", \"Land use\": \"Other non-cereal crops\", \"Irrigation\": \"dry\", \"Quantity (Mt CO2e)\": 0.019241004430061676}, {\"Year\": 2050, \"Land use category\": \"Crop\", \"Land use\": \"Other non-cereal crops\", \"Irrigation\": \"irr\", \"Quantity (Mt CO2e)\": 0.0}, {\"Year\": 2050, \"Land use category\": \"Crop\", \"Land use\": \"Pears\", \"Irrigation\": \"dry\", \"Quantity (Mt CO2e)\": 0.0}, {\"Year\": 2050, \"Land use category\": \"Crop\", \"Land use\": \"Pears\", \"Irrigation\": \"irr\", \"Quantity (Mt CO2e)\": 0.00577568815612793}, {\"Year\": 2050, \"Land use category\": \"Crop\", \"Land use\": \"Plantation fruit\", \"Irrigation\": \"dry\", \"Quantity (Mt CO2e)\": 0.08031206149291992}, {\"Year\": 2050, \"Land use category\": \"Crop\", \"Land use\": \"Plantation fruit\", \"Irrigation\": \"irr\", \"Quantity (Mt CO2e)\": 0.0836016442952156}, {\"Year\": 2050, \"Land use category\": \"Crop\", \"Land use\": \"Rice\", \"Irrigation\": \"dry\", \"Quantity (Mt CO2e)\": 0.0}, {\"Year\": 2050, \"Land use category\": \"Crop\", \"Land use\": \"Rice\", \"Irrigation\": \"irr\", \"Quantity (Mt CO2e)\": 0.09829575831511617}, {\"Year\": 2050, \"Land use category\": \"Crop\", \"Land use\": \"Stone fruit\", \"Irrigation\": \"dry\", \"Quantity (Mt CO2e)\": 0.0}, {\"Year\": 2050, \"Land use category\": \"Crop\", \"Land use\": \"Stone fruit\", \"Irrigation\": \"irr\", \"Quantity (Mt CO2e)\": 0.05398286172731055}, {\"Year\": 2050, \"Land use category\": \"Crop\", \"Land use\": \"Sugar\", \"Irrigation\": \"dry\", \"Quantity (Mt CO2e)\": 0.5495947509124575}, {\"Year\": 2050, \"Land use category\": \"Crop\", \"Land use\": \"Sugar\", \"Irrigation\": \"irr\", \"Quantity (Mt CO2e)\": 0.2766435730628968}, {\"Year\": 2050, \"Land use category\": \"Crop\", \"Land use\": \"Summer cereals\", \"Irrigation\": \"dry\", \"Quantity (Mt CO2e)\": 0.22674146448516844}, {\"Year\": 2050, \"Land use category\": \"Crop\", \"Land use\": \"Summer cereals\", \"Irrigation\": \"irr\", \"Quantity (Mt CO2e)\": 0.002397728349685669}, {\"Year\": 2050, \"Land use category\": \"Crop\", \"Land use\": \"Summer legumes\", \"Irrigation\": \"dry\", \"Quantity (Mt CO2e)\": 0.0}, {\"Year\": 2050, \"Land use category\": \"Crop\", \"Land use\": \"Summer legumes\", \"Irrigation\": \"irr\", \"Quantity (Mt CO2e)\": 0.011532623109817505}, {\"Year\": 2050, \"Land use category\": \"Crop\", \"Land use\": \"Summer oilseeds\", \"Irrigation\": \"dry\", \"Quantity (Mt CO2e)\": 0.014010310816049372}, {\"Year\": 2050, \"Land use category\": \"Crop\", \"Land use\": \"Summer oilseeds\", \"Irrigation\": \"irr\", \"Quantity (Mt CO2e)\": 0.0}, {\"Year\": 2050, \"Land use category\": \"Crop\", \"Land use\": \"Tropical stone fruit\", \"Irrigation\": \"dry\", \"Quantity (Mt CO2e)\": 0.0}, {\"Year\": 2050, \"Land use category\": \"Crop\", \"Land use\": \"Tropical stone fruit\", \"Irrigation\": \"irr\", \"Quantity (Mt CO2e)\": 0.01116668846511841}, {\"Year\": 2050, \"Land use category\": \"Crop\", \"Land use\": \"Vegetables\", \"Irrigation\": \"dry\", \"Quantity (Mt CO2e)\": 0.0}, {\"Year\": 2050, \"Land use category\": \"Crop\", \"Land use\": \"Vegetables\", \"Irrigation\": \"irr\", \"Quantity (Mt CO2e)\": 0.3269487217425357}, {\"Year\": 2050, \"Land use category\": \"Crop\", \"Land use\": \"Winter cereals\", \"Irrigation\": \"dry\", \"Quantity (Mt CO2e)\": 6.3610249733895525}, {\"Year\": 2050, \"Land use category\": \"Crop\", \"Land use\": \"Winter cereals\", \"Irrigation\": \"irr\", \"Quantity (Mt CO2e)\": 0.8131398123203667}, {\"Year\": 2050, \"Land use category\": \"Crop\", \"Land use\": \"Winter legumes\", \"Irrigation\": \"dry\", \"Quantity (Mt CO2e)\": 0.3977757182376171}, {\"Year\": 2050, \"Land use category\": \"Crop\", \"Land use\": \"Winter legumes\", \"Irrigation\": \"irr\", \"Quantity (Mt CO2e)\": 0.0}, {\"Year\": 2050, \"Land use category\": \"Crop\", \"Land use\": \"Winter oilseeds\", \"Irrigation\": \"dry\", \"Quantity (Mt CO2e)\": 0.7853649514932632}, {\"Year\": 2050, \"Land use category\": \"Crop\", \"Land use\": \"Winter oilseeds\", \"Irrigation\": \"irr\", \"Quantity (Mt CO2e)\": 0.00414259253692627}, {\"Year\": 2050, \"Land use category\": \"Livestock\", \"Land use\": \"Beef\", \"Irrigation\": \"dry\", \"Quantity (Mt CO2e)\": 30.66243483672347}, {\"Year\": 2050, \"Land use category\": \"Livestock\", \"Land use\": \"Beef\", \"Irrigation\": \"irr\", \"Quantity (Mt CO2e)\": 4.968724314751199}, {\"Year\": 2050, \"Land use category\": \"Livestock\", \"Land use\": \"Dairy\", \"Irrigation\": \"dry\", \"Quantity (Mt CO2e)\": 7.1940347671749}, {\"Year\": 2050, \"Land use category\": \"Livestock\", \"Land use\": \"Dairy\", \"Irrigation\": \"irr\", \"Quantity (Mt CO2e)\": 1.9385588345451357}, {\"Year\": 2050, \"Land use category\": \"Livestock\", \"Land use\": \"Sheep\", \"Irrigation\": \"dry\", \"Quantity (Mt CO2e)\": 21.407279098247276}, {\"Year\": 2050, \"Land use category\": \"Livestock\", \"Land use\": \"Sheep\", \"Irrigation\": \"irr\", \"Quantity (Mt CO2e)\": 0.0016283420689206223}]}}, {\"mode\": \"vega-lite\"});\n",
       "</script>"
      ],
      "text/plain": [
       "alt.Chart(...)"
      ]
     },
     "execution_count": 32,
     "metadata": {},
     "output_type": "execute_result"
    }
   ],
   "source": [
    "# HIDE CODE\n",
    "# get the df and plot\n",
    "GHG_lu_lm_df,GHG_lu_lm_plot = ag_lucc_GHG.plot_GHG_lu_lm(2050)\n",
    "GHG_lu_lm_plot"
   ]
  },
  {
   "cell_type": "code",
   "execution_count": null,
   "metadata": {},
   "outputs": [],
   "source": []
  },
  {
   "cell_type": "code",
   "execution_count": null,
   "metadata": {
    "tags": []
   },
   "outputs": [],
   "source": []
  },
  {
   "cell_type": "markdown",
   "metadata": {},
   "source": [
    "### Emissions by {land-use}-{GHG source} combined"
   ]
  },
  {
   "cell_type": "code",
   "execution_count": 33,
   "metadata": {
    "tags": [
     "hide-input"
    ]
   },
   "outputs": [
    {
     "data": {
      "text/html": [
       "\n",
       "<style>\n",
       "  #altair-viz-9a5fde79c45549b2b10b2552d013698c.vega-embed {\n",
       "    width: 100%;\n",
       "    display: flex;\n",
       "  }\n",
       "\n",
       "  #altair-viz-9a5fde79c45549b2b10b2552d013698c.vega-embed details,\n",
       "  #altair-viz-9a5fde79c45549b2b10b2552d013698c.vega-embed details summary {\n",
       "    position: relative;\n",
       "  }\n",
       "</style>\n",
       "<div id=\"altair-viz-9a5fde79c45549b2b10b2552d013698c\"></div>\n",
       "<script type=\"text/javascript\">\n",
       "  var VEGA_DEBUG = (typeof VEGA_DEBUG == \"undefined\") ? {} : VEGA_DEBUG;\n",
       "  (function(spec, embedOpt){\n",
       "    let outputDiv = document.currentScript.previousElementSibling;\n",
       "    if (outputDiv.id !== \"altair-viz-9a5fde79c45549b2b10b2552d013698c\") {\n",
       "      outputDiv = document.getElementById(\"altair-viz-9a5fde79c45549b2b10b2552d013698c\");\n",
       "    }\n",
       "    const paths = {\n",
       "      \"vega\": \"https://cdn.jsdelivr.net/npm/vega@5?noext\",\n",
       "      \"vega-lib\": \"https://cdn.jsdelivr.net/npm/vega-lib?noext\",\n",
       "      \"vega-lite\": \"https://cdn.jsdelivr.net/npm/vega-lite@5.15.1?noext\",\n",
       "      \"vega-embed\": \"https://cdn.jsdelivr.net/npm/vega-embed@6?noext\",\n",
       "    };\n",
       "\n",
       "    function maybeLoadScript(lib, version) {\n",
       "      var key = `${lib.replace(\"-\", \"\")}_version`;\n",
       "      return (VEGA_DEBUG[key] == version) ?\n",
       "        Promise.resolve(paths[lib]) :\n",
       "        new Promise(function(resolve, reject) {\n",
       "          var s = document.createElement('script');\n",
       "          document.getElementsByTagName(\"head\")[0].appendChild(s);\n",
       "          s.async = true;\n",
       "          s.onload = () => {\n",
       "            VEGA_DEBUG[key] = version;\n",
       "            return resolve(paths[lib]);\n",
       "          };\n",
       "          s.onerror = () => reject(`Error loading script: ${paths[lib]}`);\n",
       "          s.src = paths[lib];\n",
       "        });\n",
       "    }\n",
       "\n",
       "    function showError(err) {\n",
       "      outputDiv.innerHTML = `<div class=\"error\" style=\"color:red;\">${err}</div>`;\n",
       "      throw err;\n",
       "    }\n",
       "\n",
       "    function displayChart(vegaEmbed) {\n",
       "      vegaEmbed(outputDiv, spec, embedOpt)\n",
       "        .catch(err => showError(`Javascript Error: ${err.message}<br>This usually means there's a typo in your chart specification. See the javascript console for the full traceback.`));\n",
       "    }\n",
       "\n",
       "    if(typeof define === \"function\" && define.amd) {\n",
       "      requirejs.config({paths});\n",
       "      require([\"vega-embed\"], displayChart, err => showError(`Error loading script: ${err.message}`));\n",
       "    } else {\n",
       "      maybeLoadScript(\"vega\", \"5\")\n",
       "        .then(() => maybeLoadScript(\"vega-lite\", \"5.15.1\"))\n",
       "        .then(() => maybeLoadScript(\"vega-embed\", \"6\"))\n",
       "        .catch(showError)\n",
       "        .then(() => displayChart(vegaEmbed));\n",
       "    }\n",
       "  })({\"config\": {\"view\": {\"continuousWidth\": 300, \"continuousHeight\": 300}}, \"data\": {\"name\": \"data-6891a136dae803e8c95dbd13bf86a3e8\"}, \"mark\": {\"type\": \"circle\"}, \"encoding\": {\"color\": {\"field\": \"Irrigation\", \"type\": \"ordinal\"}, \"size\": {\"field\": \"Quantity (Mt CO2e)\", \"type\": \"quantitative\"}, \"tooltip\": [{\"field\": \"Land use\", \"title\": \"Landuse\", \"type\": \"ordinal\"}, {\"field\": \"Sources\", \"title\": \"GHG source\", \"type\": \"ordinal\"}, {\"field\": \"Quantity (Mt CO2e)\", \"title\": \"GHG emissions (Mt CO2e)\", \"type\": \"quantitative\"}], \"x\": {\"field\": \"Land use\", \"type\": \"ordinal\"}, \"y\": {\"field\": \"Sources\", \"type\": \"ordinal\"}}, \"width\": 500, \"$schema\": \"https://vega.github.io/schema/vega-lite/v5.15.1.json\", \"datasets\": {\"data-6891a136dae803e8c95dbd13bf86a3e8\": [{\"Year\": 2050, \"Land use\": \"Apples\", \"Irrigation\": \"dry\", \"Sources\": \"TCO2E_CHEM_APPL\", \"Quantity (Mt CO2e)\": 0.0}, {\"Year\": 2050, \"Land use\": \"Apples\", \"Irrigation\": \"dry\", \"Sources\": \"TCO2E_CROP_MGT\", \"Quantity (Mt CO2e)\": 0.0}, {\"Year\": 2050, \"Land use\": \"Apples\", \"Irrigation\": \"dry\", \"Sources\": \"TCO2E_CULTIV\", \"Quantity (Mt CO2e)\": 0.0}, {\"Year\": 2050, \"Land use\": \"Apples\", \"Irrigation\": \"dry\", \"Sources\": \"TCO2E_DUNG_URINE\", \"Quantity (Mt CO2e)\": 7.092778241193855e-05}, {\"Year\": 2050, \"Land use\": \"Apples\", \"Irrigation\": \"dry\", \"Sources\": \"TCO2E_ELEC\", \"Quantity (Mt CO2e)\": 6.1109232661249845e-06}, {\"Year\": 2050, \"Land use\": \"Apples\", \"Irrigation\": \"dry\", \"Sources\": \"TCO2E_ENTERIC\", \"Quantity (Mt CO2e)\": 0.0006501927062853792}, {\"Year\": 2050, \"Land use\": \"Apples\", \"Irrigation\": \"dry\", \"Sources\": \"TCO2E_FERT_PROD\", \"Quantity (Mt CO2e)\": 0.0}, {\"Year\": 2050, \"Land use\": \"Apples\", \"Irrigation\": \"dry\", \"Sources\": \"TCO2E_FODDER\", \"Quantity (Mt CO2e)\": 6.374126552153848e-05}, {\"Year\": 2050, \"Land use\": \"Apples\", \"Irrigation\": \"dry\", \"Sources\": \"TCO2E_FUEL\", \"Quantity (Mt CO2e)\": 2.2228815727195583e-06}, {\"Year\": 2050, \"Land use\": \"Apples\", \"Irrigation\": \"dry\", \"Sources\": \"TCO2E_HARVEST\", \"Quantity (Mt CO2e)\": 0.0}, {\"Year\": 2050, \"Land use\": \"Apples\", \"Irrigation\": \"dry\", \"Sources\": \"TCO2E_IND_LEACH_RUNOFF\", \"Quantity (Mt CO2e)\": 9.01614192531606e-05}, {\"Year\": 2050, \"Land use\": \"Apples\", \"Irrigation\": \"dry\", \"Sources\": \"TCO2E_IRRIG\", \"Quantity (Mt CO2e)\": 0.0}, {\"Year\": 2050, \"Land use\": \"Apples\", \"Irrigation\": \"dry\", \"Sources\": \"TCO2E_MANURE_MGT\", \"Quantity (Mt CO2e)\": 2.308798237673932e-05}, {\"Year\": 2050, \"Land use\": \"Apples\", \"Irrigation\": \"dry\", \"Sources\": \"TCO2E_PEST_PROD\", \"Quantity (Mt CO2e)\": 0.0}, {\"Year\": 2050, \"Land use\": \"Apples\", \"Irrigation\": \"dry\", \"Sources\": \"TCO2E_SEED\", \"Quantity (Mt CO2e)\": 8.54222986631089e-06}, {\"Year\": 2050, \"Land use\": \"Apples\", \"Irrigation\": \"dry\", \"Sources\": \"TCO2E_SOIL\", \"Quantity (Mt CO2e)\": 0.0}, {\"Year\": 2050, \"Land use\": \"Apples\", \"Irrigation\": \"dry\", \"Sources\": \"TCO2E_SOWING\", \"Quantity (Mt CO2e)\": 0.0}, {\"Year\": 2050, \"Land use\": \"Apples\", \"Irrigation\": \"irr\", \"Sources\": \"TCO2E_CHEM_APPL\", \"Quantity (Mt CO2e)\": 0.0009166553587552336}, {\"Year\": 2050, \"Land use\": \"Apples\", \"Irrigation\": \"irr\", \"Sources\": \"TCO2E_CROP_MGT\", \"Quantity (Mt CO2e)\": 0.0002643784556384553}, {\"Year\": 2050, \"Land use\": \"Apples\", \"Irrigation\": \"irr\", \"Sources\": \"TCO2E_CULTIV\", \"Quantity (Mt CO2e)\": 0.0005376277923889956}, {\"Year\": 2050, \"Land use\": \"Apples\", \"Irrigation\": \"irr\", \"Sources\": \"TCO2E_DUNG_URINE\", \"Quantity (Mt CO2e)\": 0.0}, {\"Year\": 2050, \"Land use\": \"Apples\", \"Irrigation\": \"irr\", \"Sources\": \"TCO2E_ELEC\", \"Quantity (Mt CO2e)\": 0.0}, {\"Year\": 2050, \"Land use\": \"Apples\", \"Irrigation\": \"irr\", \"Sources\": \"TCO2E_ENTERIC\", \"Quantity (Mt CO2e)\": 0.0}, {\"Year\": 2050, \"Land use\": \"Apples\", \"Irrigation\": \"irr\", \"Sources\": \"TCO2E_FERT_PROD\", \"Quantity (Mt CO2e)\": 0.0008721410544030241}, {\"Year\": 2050, \"Land use\": \"Apples\", \"Irrigation\": \"irr\", \"Sources\": \"TCO2E_FODDER\", \"Quantity (Mt CO2e)\": 0.0}, {\"Year\": 2050, \"Land use\": \"Apples\", \"Irrigation\": \"irr\", \"Sources\": \"TCO2E_FUEL\", \"Quantity (Mt CO2e)\": 0.0}, {\"Year\": 2050, \"Land use\": \"Apples\", \"Irrigation\": \"irr\", \"Sources\": \"TCO2E_HARVEST\", \"Quantity (Mt CO2e)\": 0.00035322144251235843}, {\"Year\": 2050, \"Land use\": \"Apples\", \"Irrigation\": \"irr\", \"Sources\": \"TCO2E_IND_LEACH_RUNOFF\", \"Quantity (Mt CO2e)\": 0.0}, {\"Year\": 2050, \"Land use\": \"Apples\", \"Irrigation\": \"irr\", \"Sources\": \"TCO2E_IRRIG\", \"Quantity (Mt CO2e)\": 0.0003844567393181906}, {\"Year\": 2050, \"Land use\": \"Apples\", \"Irrigation\": \"irr\", \"Sources\": \"TCO2E_MANURE_MGT\", \"Quantity (Mt CO2e)\": 0.0}, {\"Year\": 2050, \"Land use\": \"Apples\", \"Irrigation\": \"irr\", \"Sources\": \"TCO2E_PEST_PROD\", \"Quantity (Mt CO2e)\": 0.000674126960825508}, {\"Year\": 2050, \"Land use\": \"Apples\", \"Irrigation\": \"irr\", \"Sources\": \"TCO2E_SEED\", \"Quantity (Mt CO2e)\": 0.0}, {\"Year\": 2050, \"Land use\": \"Apples\", \"Irrigation\": \"irr\", \"Sources\": \"TCO2E_SOIL\", \"Quantity (Mt CO2e)\": 0.0026427624987118326}, {\"Year\": 2050, \"Land use\": \"Apples\", \"Irrigation\": \"irr\", \"Sources\": \"TCO2E_SOWING\", \"Quantity (Mt CO2e)\": 0.0}, {\"Year\": 2050, \"Land use\": \"Beef\", \"Irrigation\": \"dry\", \"Sources\": \"TCO2E_CHEM_APPL\", \"Quantity (Mt CO2e)\": 0.0}, {\"Year\": 2050, \"Land use\": \"Beef\", \"Irrigation\": \"dry\", \"Sources\": \"TCO2E_CROP_MGT\", \"Quantity (Mt CO2e)\": 0.0}, {\"Year\": 2050, \"Land use\": \"Beef\", \"Irrigation\": \"dry\", \"Sources\": \"TCO2E_CULTIV\", \"Quantity (Mt CO2e)\": 0.0}, {\"Year\": 2050, \"Land use\": \"Beef\", \"Irrigation\": \"dry\", \"Sources\": \"TCO2E_DUNG_URINE\", \"Quantity (Mt CO2e)\": 1.3954506642859847}, {\"Year\": 2050, \"Land use\": \"Beef\", \"Irrigation\": \"dry\", \"Sources\": \"TCO2E_ELEC\", \"Quantity (Mt CO2e)\": 0.0}, {\"Year\": 2050, \"Land use\": \"Beef\", \"Irrigation\": \"dry\", \"Sources\": \"TCO2E_ENTERIC\", \"Quantity (Mt CO2e)\": 23.012274421996988}, {\"Year\": 2050, \"Land use\": \"Beef\", \"Irrigation\": \"dry\", \"Sources\": \"TCO2E_FERT_PROD\", \"Quantity (Mt CO2e)\": 0.0}, {\"Year\": 2050, \"Land use\": \"Beef\", \"Irrigation\": \"dry\", \"Sources\": \"TCO2E_FODDER\", \"Quantity (Mt CO2e)\": 0.3112016149092759}, {\"Year\": 2050, \"Land use\": \"Beef\", \"Irrigation\": \"dry\", \"Sources\": \"TCO2E_FUEL\", \"Quantity (Mt CO2e)\": 0.6593017687714027}, {\"Year\": 2050, \"Land use\": \"Beef\", \"Irrigation\": \"dry\", \"Sources\": \"TCO2E_HARVEST\", \"Quantity (Mt CO2e)\": 0.0}, {\"Year\": 2050, \"Land use\": \"Beef\", \"Irrigation\": \"dry\", \"Sources\": \"TCO2E_IND_LEACH_RUNOFF\", \"Quantity (Mt CO2e)\": 0.8296820539992922}, {\"Year\": 2050, \"Land use\": \"Beef\", \"Irrigation\": \"dry\", \"Sources\": \"TCO2E_IRRIG\", \"Quantity (Mt CO2e)\": 0.0}, {\"Year\": 2050, \"Land use\": \"Beef\", \"Irrigation\": \"dry\", \"Sources\": \"TCO2E_MANURE_MGT\", \"Quantity (Mt CO2e)\": 0.01537610087811989}, {\"Year\": 2050, \"Land use\": \"Beef\", \"Irrigation\": \"dry\", \"Sources\": \"TCO2E_PEST_PROD\", \"Quantity (Mt CO2e)\": 0.0}, {\"Year\": 2050, \"Land use\": \"Beef\", \"Irrigation\": \"dry\", \"Sources\": \"TCO2E_SEED\", \"Quantity (Mt CO2e)\": 4.439148211882408}, {\"Year\": 2050, \"Land use\": \"Beef\", \"Irrigation\": \"dry\", \"Sources\": \"TCO2E_SOIL\", \"Quantity (Mt CO2e)\": 0.0}, {\"Year\": 2050, \"Land use\": \"Beef\", \"Irrigation\": \"dry\", \"Sources\": \"TCO2E_SOWING\", \"Quantity (Mt CO2e)\": 0.0}, {\"Year\": 2050, \"Land use\": \"Beef\", \"Irrigation\": \"irr\", \"Sources\": \"TCO2E_CHEM_APPL\", \"Quantity (Mt CO2e)\": 0.019612248009819266}, {\"Year\": 2050, \"Land use\": \"Beef\", \"Irrigation\": \"irr\", \"Sources\": \"TCO2E_CROP_MGT\", \"Quantity (Mt CO2e)\": 3.241408089305665e-05}, {\"Year\": 2050, \"Land use\": \"Beef\", \"Irrigation\": \"irr\", \"Sources\": \"TCO2E_CULTIV\", \"Quantity (Mt CO2e)\": 0.05057019936412802}, {\"Year\": 2050, \"Land use\": \"Beef\", \"Irrigation\": \"irr\", \"Sources\": \"TCO2E_DUNG_URINE\", \"Quantity (Mt CO2e)\": 0.2891281444404692}, {\"Year\": 2050, \"Land use\": \"Beef\", \"Irrigation\": \"irr\", \"Sources\": \"TCO2E_ELEC\", \"Quantity (Mt CO2e)\": 0.0}, {\"Year\": 2050, \"Land use\": \"Beef\", \"Irrigation\": \"irr\", \"Sources\": \"TCO2E_ENTERIC\", \"Quantity (Mt CO2e)\": 3.0519632606374136}, {\"Year\": 2050, \"Land use\": \"Beef\", \"Irrigation\": \"irr\", \"Sources\": \"TCO2E_FERT_PROD\", \"Quantity (Mt CO2e)\": 0.13751307793437179}, {\"Year\": 2050, \"Land use\": \"Beef\", \"Irrigation\": \"irr\", \"Sources\": \"TCO2E_FODDER\", \"Quantity (Mt CO2e)\": 0.048162275431503254}, {\"Year\": 2050, \"Land use\": \"Beef\", \"Irrigation\": \"irr\", \"Sources\": \"TCO2E_FUEL\", \"Quantity (Mt CO2e)\": 0.726063262764274}, {\"Year\": 2050, \"Land use\": \"Beef\", \"Irrigation\": \"irr\", \"Sources\": \"TCO2E_HARVEST\", \"Quantity (Mt CO2e)\": 4.1997063777339195e-05}, {\"Year\": 2050, \"Land use\": \"Beef\", \"Irrigation\": \"irr\", \"Sources\": \"TCO2E_IND_LEACH_RUNOFF\", \"Quantity (Mt CO2e)\": 0.285022762891778}, {\"Year\": 2050, \"Land use\": \"Beef\", \"Irrigation\": \"irr\", \"Sources\": \"TCO2E_IRRIG\", \"Quantity (Mt CO2e)\": 0.025998895292776728}, {\"Year\": 2050, \"Land use\": \"Beef\", \"Irrigation\": \"irr\", \"Sources\": \"TCO2E_MANURE_MGT\", \"Quantity (Mt CO2e)\": 0.0005153971530469109}, {\"Year\": 2050, \"Land use\": \"Beef\", \"Irrigation\": \"irr\", \"Sources\": \"TCO2E_PEST_PROD\", \"Quantity (Mt CO2e)\": 0.038112117799046684}, {\"Year\": 2050, \"Land use\": \"Beef\", \"Irrigation\": \"irr\", \"Sources\": \"TCO2E_SEED\", \"Quantity (Mt CO2e)\": 0.010734830925313982}, {\"Year\": 2050, \"Land use\": \"Beef\", \"Irrigation\": \"irr\", \"Sources\": \"TCO2E_SOIL\", \"Quantity (Mt CO2e)\": 0.2718925909622964}, {\"Year\": 2050, \"Land use\": \"Beef\", \"Irrigation\": \"irr\", \"Sources\": \"TCO2E_SOWING\", \"Quantity (Mt CO2e)\": 0.013360840000290556}, {\"Year\": 2050, \"Land use\": \"Citrus\", \"Irrigation\": \"dry\", \"Sources\": \"TCO2E_CHEM_APPL\", \"Quantity (Mt CO2e)\": 0.001765133814641713}, {\"Year\": 2050, \"Land use\": \"Citrus\", \"Irrigation\": \"dry\", \"Sources\": \"TCO2E_CROP_MGT\", \"Quantity (Mt CO2e)\": 0.0009000057047588934}, {\"Year\": 2050, \"Land use\": \"Citrus\", \"Irrigation\": \"dry\", \"Sources\": \"TCO2E_CULTIV\", \"Quantity (Mt CO2e)\": 0.0}, {\"Year\": 2050, \"Land use\": \"Citrus\", \"Irrigation\": \"dry\", \"Sources\": \"TCO2E_DUNG_URINE\", \"Quantity (Mt CO2e)\": 0.0}, {\"Year\": 2050, \"Land use\": \"Citrus\", \"Irrigation\": \"dry\", \"Sources\": \"TCO2E_ELEC\", \"Quantity (Mt CO2e)\": 0.0}, {\"Year\": 2050, \"Land use\": \"Citrus\", \"Irrigation\": \"dry\", \"Sources\": \"TCO2E_ENTERIC\", \"Quantity (Mt CO2e)\": 0.0}, {\"Year\": 2050, \"Land use\": \"Citrus\", \"Irrigation\": \"dry\", \"Sources\": \"TCO2E_FERT_PROD\", \"Quantity (Mt CO2e)\": 0.028701133764804022}, {\"Year\": 2050, \"Land use\": \"Citrus\", \"Irrigation\": \"dry\", \"Sources\": \"TCO2E_FODDER\", \"Quantity (Mt CO2e)\": 0.0}, {\"Year\": 2050, \"Land use\": \"Citrus\", \"Irrigation\": \"dry\", \"Sources\": \"TCO2E_FUEL\", \"Quantity (Mt CO2e)\": 0.0}, {\"Year\": 2050, \"Land use\": \"Citrus\", \"Irrigation\": \"dry\", \"Sources\": \"TCO2E_HARVEST\", \"Quantity (Mt CO2e)\": 0.0}, {\"Year\": 2050, \"Land use\": \"Citrus\", \"Irrigation\": \"dry\", \"Sources\": \"TCO2E_IND_LEACH_RUNOFF\", \"Quantity (Mt CO2e)\": 0.0}, {\"Year\": 2050, \"Land use\": \"Citrus\", \"Irrigation\": \"dry\", \"Sources\": \"TCO2E_IRRIG\", \"Quantity (Mt CO2e)\": 0.0}, {\"Year\": 2050, \"Land use\": \"Citrus\", \"Irrigation\": \"dry\", \"Sources\": \"TCO2E_MANURE_MGT\", \"Quantity (Mt CO2e)\": 0.0}, {\"Year\": 2050, \"Land use\": \"Citrus\", \"Irrigation\": \"dry\", \"Sources\": \"TCO2E_PEST_PROD\", \"Quantity (Mt CO2e)\": 0.007863049925304098}, {\"Year\": 2050, \"Land use\": \"Citrus\", \"Irrigation\": \"dry\", \"Sources\": \"TCO2E_SEED\", \"Quantity (Mt CO2e)\": 0.0}, {\"Year\": 2050, \"Land use\": \"Citrus\", \"Irrigation\": \"dry\", \"Sources\": \"TCO2E_SOIL\", \"Quantity (Mt CO2e)\": 0.026622119708803016}, {\"Year\": 2050, \"Land use\": \"Citrus\", \"Irrigation\": \"dry\", \"Sources\": \"TCO2E_SOWING\", \"Quantity (Mt CO2e)\": 0.0}, {\"Year\": 2050, \"Land use\": \"Citrus\", \"Irrigation\": \"irr\", \"Sources\": \"TCO2E_CHEM_APPL\", \"Quantity (Mt CO2e)\": 0.000802469970703125}, {\"Year\": 2050, \"Land use\": \"Citrus\", \"Irrigation\": \"irr\", \"Sources\": \"TCO2E_CROP_MGT\", \"Quantity (Mt CO2e)\": 0.00038744737243652337}, {\"Year\": 2050, \"Land use\": \"Citrus\", \"Irrigation\": \"irr\", \"Sources\": \"TCO2E_CULTIV\", \"Quantity (Mt CO2e)\": 0.0}, {\"Year\": 2050, \"Land use\": \"Citrus\", \"Irrigation\": \"irr\", \"Sources\": \"TCO2E_DUNG_URINE\", \"Quantity (Mt CO2e)\": 0.0}, {\"Year\": 2050, \"Land use\": \"Citrus\", \"Irrigation\": \"irr\", \"Sources\": \"TCO2E_ELEC\", \"Quantity (Mt CO2e)\": 0.0}, {\"Year\": 2050, \"Land use\": \"Citrus\", \"Irrigation\": \"irr\", \"Sources\": \"TCO2E_ENTERIC\", \"Quantity (Mt CO2e)\": 0.0}, {\"Year\": 2050, \"Land use\": \"Citrus\", \"Irrigation\": \"irr\", \"Sources\": \"TCO2E_FERT_PROD\", \"Quantity (Mt CO2e)\": 0.0109584873046875}, {\"Year\": 2050, \"Land use\": \"Citrus\", \"Irrigation\": \"irr\", \"Sources\": \"TCO2E_FODDER\", \"Quantity (Mt CO2e)\": 0.0}, {\"Year\": 2050, \"Land use\": \"Citrus\", \"Irrigation\": \"irr\", \"Sources\": \"TCO2E_FUEL\", \"Quantity (Mt CO2e)\": 0.0}, {\"Year\": 2050, \"Land use\": \"Citrus\", \"Irrigation\": \"irr\", \"Sources\": \"TCO2E_HARVEST\", \"Quantity (Mt CO2e)\": 0.0}, {\"Year\": 2050, \"Land use\": \"Citrus\", \"Irrigation\": \"irr\", \"Sources\": \"TCO2E_IND_LEACH_RUNOFF\", \"Quantity (Mt CO2e)\": 0.0}, {\"Year\": 2050, \"Land use\": \"Citrus\", \"Irrigation\": \"irr\", \"Sources\": \"TCO2E_IRRIG\", \"Quantity (Mt CO2e)\": 0.0014217440185546875}, {\"Year\": 2050, \"Land use\": \"Citrus\", \"Irrigation\": \"irr\", \"Sources\": \"TCO2E_MANURE_MGT\", \"Quantity (Mt CO2e)\": 0.0}, {\"Year\": 2050, \"Land use\": \"Citrus\", \"Irrigation\": \"irr\", \"Sources\": \"TCO2E_PEST_PROD\", \"Quantity (Mt CO2e)\": 0.0030022205810546873}, {\"Year\": 2050, \"Land use\": \"Citrus\", \"Irrigation\": \"irr\", \"Sources\": \"TCO2E_SEED\", \"Quantity (Mt CO2e)\": 0.0}, {\"Year\": 2050, \"Land use\": \"Citrus\", \"Irrigation\": \"irr\", \"Sources\": \"TCO2E_SOIL\", \"Quantity (Mt CO2e)\": 0.01016469091796875}, {\"Year\": 2050, \"Land use\": \"Citrus\", \"Irrigation\": \"irr\", \"Sources\": \"TCO2E_SOWING\", \"Quantity (Mt CO2e)\": 0.0}, {\"Year\": 2050, \"Land use\": \"Cotton\", \"Irrigation\": \"dry\", \"Sources\": \"TCO2E_CHEM_APPL\", \"Quantity (Mt CO2e)\": 0.034080413989484026}, {\"Year\": 2050, \"Land use\": \"Cotton\", \"Irrigation\": \"dry\", \"Sources\": \"TCO2E_CROP_MGT\", \"Quantity (Mt CO2e)\": 0.0}, {\"Year\": 2050, \"Land use\": \"Cotton\", \"Irrigation\": \"dry\", \"Sources\": \"TCO2E_CULTIV\", \"Quantity (Mt CO2e)\": 0.027583785309018467}, {\"Year\": 2050, \"Land use\": \"Cotton\", \"Irrigation\": \"dry\", \"Sources\": \"TCO2E_DUNG_URINE\", \"Quantity (Mt CO2e)\": 0.0}, {\"Year\": 2050, \"Land use\": \"Cotton\", \"Irrigation\": \"dry\", \"Sources\": \"TCO2E_ELEC\", \"Quantity (Mt CO2e)\": 0.0}, {\"Year\": 2050, \"Land use\": \"Cotton\", \"Irrigation\": \"dry\", \"Sources\": \"TCO2E_ENTERIC\", \"Quantity (Mt CO2e)\": 0.0}, {\"Year\": 2050, \"Land use\": \"Cotton\", \"Irrigation\": \"dry\", \"Sources\": \"TCO2E_FERT_PROD\", \"Quantity (Mt CO2e)\": 0.03764823963712423}, {\"Year\": 2050, \"Land use\": \"Cotton\", \"Irrigation\": \"dry\", \"Sources\": \"TCO2E_FODDER\", \"Quantity (Mt CO2e)\": 0.0}, {\"Year\": 2050, \"Land use\": \"Cotton\", \"Irrigation\": \"dry\", \"Sources\": \"TCO2E_FUEL\", \"Quantity (Mt CO2e)\": 0.0}, {\"Year\": 2050, \"Land use\": \"Cotton\", \"Irrigation\": \"dry\", \"Sources\": \"TCO2E_HARVEST\", \"Quantity (Mt CO2e)\": 0.049326161384084855}, {\"Year\": 2050, \"Land use\": \"Cotton\", \"Irrigation\": \"dry\", \"Sources\": \"TCO2E_IND_LEACH_RUNOFF\", \"Quantity (Mt CO2e)\": 0.0}, {\"Year\": 2050, \"Land use\": \"Cotton\", \"Irrigation\": \"dry\", \"Sources\": \"TCO2E_IRRIG\", \"Quantity (Mt CO2e)\": 0.0}, {\"Year\": 2050, \"Land use\": \"Cotton\", \"Irrigation\": \"dry\", \"Sources\": \"TCO2E_MANURE_MGT\", \"Quantity (Mt CO2e)\": 0.0}, {\"Year\": 2050, \"Land use\": \"Cotton\", \"Irrigation\": \"dry\", \"Sources\": \"TCO2E_PEST_PROD\", \"Quantity (Mt CO2e)\": 0.0708788563609156}, {\"Year\": 2050, \"Land use\": \"Cotton\", \"Irrigation\": \"dry\", \"Sources\": \"TCO2E_SEED\", \"Quantity (Mt CO2e)\": 0.0}, {\"Year\": 2050, \"Land use\": \"Cotton\", \"Irrigation\": \"dry\", \"Sources\": \"TCO2E_SOIL\", \"Quantity (Mt CO2e)\": 0.04228701244911265}, {\"Year\": 2050, \"Land use\": \"Cotton\", \"Irrigation\": \"dry\", \"Sources\": \"TCO2E_SOWING\", \"Quantity (Mt CO2e)\": 0.0059928396152099305}, {\"Year\": 2050, \"Land use\": \"Cotton\", \"Irrigation\": \"irr\", \"Sources\": \"TCO2E_CHEM_APPL\", \"Quantity (Mt CO2e)\": 0.0005217041015625}, {\"Year\": 2050, \"Land use\": \"Cotton\", \"Irrigation\": \"irr\", \"Sources\": \"TCO2E_CROP_MGT\", \"Quantity (Mt CO2e)\": 0.0}, {\"Year\": 2050, \"Land use\": \"Cotton\", \"Irrigation\": \"irr\", \"Sources\": \"TCO2E_CULTIV\", \"Quantity (Mt CO2e)\": 0.00033184451293945315}, {\"Year\": 2050, \"Land use\": \"Cotton\", \"Irrigation\": \"irr\", \"Sources\": \"TCO2E_DUNG_URINE\", \"Quantity (Mt CO2e)\": 0.0}, {\"Year\": 2050, \"Land use\": \"Cotton\", \"Irrigation\": \"irr\", \"Sources\": \"TCO2E_ELEC\", \"Quantity (Mt CO2e)\": 0.0}, {\"Year\": 2050, \"Land use\": \"Cotton\", \"Irrigation\": \"irr\", \"Sources\": \"TCO2E_ENTERIC\", \"Quantity (Mt CO2e)\": 0.0}, {\"Year\": 2050, \"Land use\": \"Cotton\", \"Irrigation\": \"irr\", \"Sources\": \"TCO2E_FERT_PROD\", \"Quantity (Mt CO2e)\": 0.001131499267578125}, {\"Year\": 2050, \"Land use\": \"Cotton\", \"Irrigation\": \"irr\", \"Sources\": \"TCO2E_FODDER\", \"Quantity (Mt CO2e)\": 0.0}, {\"Year\": 2050, \"Land use\": \"Cotton\", \"Irrigation\": \"irr\", \"Sources\": \"TCO2E_FUEL\", \"Quantity (Mt CO2e)\": 0.0}, {\"Year\": 2050, \"Land use\": \"Cotton\", \"Irrigation\": \"irr\", \"Sources\": \"TCO2E_HARVEST\", \"Quantity (Mt CO2e)\": 0.0003881726684570313}, {\"Year\": 2050, \"Land use\": \"Cotton\", \"Irrigation\": \"irr\", \"Sources\": \"TCO2E_IND_LEACH_RUNOFF\", \"Quantity (Mt CO2e)\": 0.0}, {\"Year\": 2050, \"Land use\": \"Cotton\", \"Irrigation\": \"irr\", \"Sources\": \"TCO2E_IRRIG\", \"Quantity (Mt CO2e)\": 0.00022145451354980468}, {\"Year\": 2050, \"Land use\": \"Cotton\", \"Irrigation\": \"irr\", \"Sources\": \"TCO2E_MANURE_MGT\", \"Quantity (Mt CO2e)\": 0.0}, {\"Year\": 2050, \"Land use\": \"Cotton\", \"Irrigation\": \"irr\", \"Sources\": \"TCO2E_PEST_PROD\", \"Quantity (Mt CO2e)\": 0.001176680908203125}, {\"Year\": 2050, \"Land use\": \"Cotton\", \"Irrigation\": \"irr\", \"Sources\": \"TCO2E_SEED\", \"Quantity (Mt CO2e)\": 0.0}, {\"Year\": 2050, \"Land use\": \"Cotton\", \"Irrigation\": \"irr\", \"Sources\": \"TCO2E_SOIL\", \"Quantity (Mt CO2e)\": 0.0015046900634765625}, {\"Year\": 2050, \"Land use\": \"Cotton\", \"Irrigation\": \"irr\", \"Sources\": \"TCO2E_SOWING\", \"Quantity (Mt CO2e)\": 2.6999567031860353e-05}, {\"Year\": 2050, \"Land use\": \"Dairy\", \"Irrigation\": \"dry\", \"Sources\": \"TCO2E_CHEM_APPL\", \"Quantity (Mt CO2e)\": 1.634916129188241e-05}, {\"Year\": 2050, \"Land use\": \"Dairy\", \"Irrigation\": \"dry\", \"Sources\": \"TCO2E_CROP_MGT\", \"Quantity (Mt CO2e)\": 0.0}, {\"Year\": 2050, \"Land use\": \"Dairy\", \"Irrigation\": \"dry\", \"Sources\": \"TCO2E_CULTIV\", \"Quantity (Mt CO2e)\": 3.602062000665569e-06}, {\"Year\": 2050, \"Land use\": \"Dairy\", \"Irrigation\": \"dry\", \"Sources\": \"TCO2E_DUNG_URINE\", \"Quantity (Mt CO2e)\": 0.44006443554825697}, {\"Year\": 2050, \"Land use\": \"Dairy\", \"Irrigation\": \"dry\", \"Sources\": \"TCO2E_ELEC\", \"Quantity (Mt CO2e)\": 0.5140066135909415}, {\"Year\": 2050, \"Land use\": \"Dairy\", \"Irrigation\": \"dry\", \"Sources\": \"TCO2E_ENTERIC\", \"Quantity (Mt CO2e)\": 4.058926441009962}, {\"Year\": 2050, \"Land use\": \"Dairy\", \"Irrigation\": \"dry\", \"Sources\": \"TCO2E_FERT_PROD\", \"Quantity (Mt CO2e)\": 7.00313168955563e-05}, {\"Year\": 2050, \"Land use\": \"Dairy\", \"Irrigation\": \"dry\", \"Sources\": \"TCO2E_FODDER\", \"Quantity (Mt CO2e)\": 0.6390848952891284}, {\"Year\": 2050, \"Land use\": \"Dairy\", \"Irrigation\": \"dry\", \"Sources\": \"TCO2E_FUEL\", \"Quantity (Mt CO2e)\": 0.35477792920357876}, {\"Year\": 2050, \"Land use\": \"Dairy\", \"Irrigation\": \"dry\", \"Sources\": \"TCO2E_HARVEST\", \"Quantity (Mt CO2e)\": 5.012336638819477e-06}, {\"Year\": 2050, \"Land use\": \"Dairy\", \"Irrigation\": \"dry\", \"Sources\": \"TCO2E_IND_LEACH_RUNOFF\", \"Quantity (Mt CO2e)\": 0.5715941195508857}, {\"Year\": 2050, \"Land use\": \"Dairy\", \"Irrigation\": \"dry\", \"Sources\": \"TCO2E_IRRIG\", \"Quantity (Mt CO2e)\": 0.0}, {\"Year\": 2050, \"Land use\": \"Dairy\", \"Irrigation\": \"dry\", \"Sources\": \"TCO2E_MANURE_MGT\", \"Quantity (Mt CO2e)\": 0.2982702964739318}, {\"Year\": 2050, \"Land use\": \"Dairy\", \"Irrigation\": \"dry\", \"Sources\": \"TCO2E_PEST_PROD\", \"Quantity (Mt CO2e)\": 3.8522837516172796e-05}, {\"Year\": 2050, \"Land use\": \"Dairy\", \"Irrigation\": \"dry\", \"Sources\": \"TCO2E_SEED\", \"Quantity (Mt CO2e)\": 0.31714630678159467}, {\"Year\": 2050, \"Land use\": \"Dairy\", \"Irrigation\": \"dry\", \"Sources\": \"TCO2E_SOIL\", \"Quantity (Mt CO2e)\": 1.7058715514897357e-05}, {\"Year\": 2050, \"Land use\": \"Dairy\", \"Irrigation\": \"dry\", \"Sources\": \"TCO2E_SOWING\", \"Quantity (Mt CO2e)\": 1.3153296763011896e-05}, {\"Year\": 2050, \"Land use\": \"Dairy\", \"Irrigation\": \"irr\", \"Sources\": \"TCO2E_CHEM_APPL\", \"Quantity (Mt CO2e)\": 0.00911480224609375}, {\"Year\": 2050, \"Land use\": \"Dairy\", \"Irrigation\": \"irr\", \"Sources\": \"TCO2E_CROP_MGT\", \"Quantity (Mt CO2e)\": 0.0}, {\"Year\": 2050, \"Land use\": \"Dairy\", \"Irrigation\": \"irr\", \"Sources\": \"TCO2E_CULTIV\", \"Quantity (Mt CO2e)\": 0.02292956898498535}, {\"Year\": 2050, \"Land use\": \"Dairy\", \"Irrigation\": \"irr\", \"Sources\": \"TCO2E_DUNG_URINE\", \"Quantity (Mt CO2e)\": 0.10395824963378907}, {\"Year\": 2050, \"Land use\": \"Dairy\", \"Irrigation\": \"irr\", \"Sources\": \"TCO2E_ELEC\", \"Quantity (Mt CO2e)\": 0.11473590259361269}, {\"Year\": 2050, \"Land use\": \"Dairy\", \"Irrigation\": \"irr\", \"Sources\": \"TCO2E_ENTERIC\", \"Quantity (Mt CO2e)\": 0.9509606318359376}, {\"Year\": 2050, \"Land use\": \"Dairy\", \"Irrigation\": \"irr\", \"Sources\": \"TCO2E_FERT_PROD\", \"Quantity (Mt CO2e)\": 0.0687752933959961}, {\"Year\": 2050, \"Land use\": \"Dairy\", \"Irrigation\": \"irr\", \"Sources\": \"TCO2E_FODDER\", \"Quantity (Mt CO2e)\": 0.1679637710571289}, {\"Year\": 2050, \"Land use\": \"Dairy\", \"Irrigation\": \"irr\", \"Sources\": \"TCO2E_FUEL\", \"Quantity (Mt CO2e)\": 0.07274447393989562}, {\"Year\": 2050, \"Land use\": \"Dairy\", \"Irrigation\": \"irr\", \"Sources\": \"TCO2E_HARVEST\", \"Quantity (Mt CO2e)\": 0.0}, {\"Year\": 2050, \"Land use\": \"Dairy\", \"Irrigation\": \"irr\", \"Sources\": \"TCO2E_IND_LEACH_RUNOFF\", \"Quantity (Mt CO2e)\": 0.13384590087890624}, {\"Year\": 2050, \"Land use\": \"Dairy\", \"Irrigation\": \"irr\", \"Sources\": \"TCO2E_IRRIG\", \"Quantity (Mt CO2e)\": 0.015443033882141112}, {\"Year\": 2050, \"Land use\": \"Dairy\", \"Irrigation\": \"irr\", \"Sources\": \"TCO2E_MANURE_MGT\", \"Quantity (Mt CO2e)\": 0.06436963333129883}, {\"Year\": 2050, \"Land use\": \"Dairy\", \"Irrigation\": \"irr\", \"Sources\": \"TCO2E_PEST_PROD\", \"Quantity (Mt CO2e)\": 0.017303738357543945}, {\"Year\": 2050, \"Land use\": \"Dairy\", \"Irrigation\": \"irr\", \"Sources\": \"TCO2E_SEED\", \"Quantity (Mt CO2e)\": 0.046433358413696287}, {\"Year\": 2050, \"Land use\": \"Dairy\", \"Irrigation\": \"irr\", \"Sources\": \"TCO2E_SOIL\", \"Quantity (Mt CO2e)\": 0.14462264831542967}, {\"Year\": 2050, \"Land use\": \"Dairy\", \"Irrigation\": \"irr\", \"Sources\": \"TCO2E_SOWING\", \"Quantity (Mt CO2e)\": 0.00535782767868042}, {\"Year\": 2050, \"Land use\": \"Grapes\", \"Irrigation\": \"dry\", \"Sources\": \"TCO2E_CHEM_APPL\", \"Quantity (Mt CO2e)\": 0.02583725688698125}, {\"Year\": 2050, \"Land use\": \"Grapes\", \"Irrigation\": \"dry\", \"Sources\": \"TCO2E_CROP_MGT\", \"Quantity (Mt CO2e)\": 0.010772879445307824}, {\"Year\": 2050, \"Land use\": \"Grapes\", \"Irrigation\": \"dry\", \"Sources\": \"TCO2E_CULTIV\", \"Quantity (Mt CO2e)\": 0.011055715273555925}, {\"Year\": 2050, \"Land use\": \"Grapes\", \"Irrigation\": \"dry\", \"Sources\": \"TCO2E_DUNG_URINE\", \"Quantity (Mt CO2e)\": 0.0}, {\"Year\": 2050, \"Land use\": \"Grapes\", \"Irrigation\": \"dry\", \"Sources\": \"TCO2E_ELEC\", \"Quantity (Mt CO2e)\": 0.0}, {\"Year\": 2050, \"Land use\": \"Grapes\", \"Irrigation\": \"dry\", \"Sources\": \"TCO2E_ENTERIC\", \"Quantity (Mt CO2e)\": 0.0}, {\"Year\": 2050, \"Land use\": \"Grapes\", \"Irrigation\": \"dry\", \"Sources\": \"TCO2E_FERT_PROD\", \"Quantity (Mt CO2e)\": 0.05659904896615759}, {\"Year\": 2050, \"Land use\": \"Grapes\", \"Irrigation\": \"dry\", \"Sources\": \"TCO2E_FODDER\", \"Quantity (Mt CO2e)\": 0.0}, {\"Year\": 2050, \"Land use\": \"Grapes\", \"Irrigation\": \"dry\", \"Sources\": \"TCO2E_FUEL\", \"Quantity (Mt CO2e)\": 0.0}, {\"Year\": 2050, \"Land use\": \"Grapes\", \"Irrigation\": \"dry\", \"Sources\": \"TCO2E_HARVEST\", \"Quantity (Mt CO2e)\": 0.0016580733646342704}, {\"Year\": 2050, \"Land use\": \"Grapes\", \"Irrigation\": \"dry\", \"Sources\": \"TCO2E_IND_LEACH_RUNOFF\", \"Quantity (Mt CO2e)\": 0.0}, {\"Year\": 2050, \"Land use\": \"Grapes\", \"Irrigation\": \"dry\", \"Sources\": \"TCO2E_IRRIG\", \"Quantity (Mt CO2e)\": 0.0}, {\"Year\": 2050, \"Land use\": \"Grapes\", \"Irrigation\": \"dry\", \"Sources\": \"TCO2E_MANURE_MGT\", \"Quantity (Mt CO2e)\": 0.0}, {\"Year\": 2050, \"Land use\": \"Grapes\", \"Irrigation\": \"dry\", \"Sources\": \"TCO2E_PEST_PROD\", \"Quantity (Mt CO2e)\": 0.04246674070167976}, {\"Year\": 2050, \"Land use\": \"Grapes\", \"Irrigation\": \"dry\", \"Sources\": \"TCO2E_SEED\", \"Quantity (Mt CO2e)\": 0.0}, {\"Year\": 2050, \"Land use\": \"Grapes\", \"Irrigation\": \"dry\", \"Sources\": \"TCO2E_SOIL\", \"Quantity (Mt CO2e)\": 0.07416076927029375}, {\"Year\": 2050, \"Land use\": \"Grapes\", \"Irrigation\": \"dry\", \"Sources\": \"TCO2E_SOWING\", \"Quantity (Mt CO2e)\": 2.5009368399732463e-05}, {\"Year\": 2050, \"Land use\": \"Grapes\", \"Irrigation\": \"irr\", \"Sources\": \"TCO2E_CHEM_APPL\", \"Quantity (Mt CO2e)\": 0.0}, {\"Year\": 2050, \"Land use\": \"Grapes\", \"Irrigation\": \"irr\", \"Sources\": \"TCO2E_CROP_MGT\", \"Quantity (Mt CO2e)\": 0.0}, {\"Year\": 2050, \"Land use\": \"Grapes\", \"Irrigation\": \"irr\", \"Sources\": \"TCO2E_CULTIV\", \"Quantity (Mt CO2e)\": 0.0}, {\"Year\": 2050, \"Land use\": \"Grapes\", \"Irrigation\": \"irr\", \"Sources\": \"TCO2E_DUNG_URINE\", \"Quantity (Mt CO2e)\": 0.0}, {\"Year\": 2050, \"Land use\": \"Grapes\", \"Irrigation\": \"irr\", \"Sources\": \"TCO2E_ELEC\", \"Quantity (Mt CO2e)\": 0.0}, {\"Year\": 2050, \"Land use\": \"Grapes\", \"Irrigation\": \"irr\", \"Sources\": \"TCO2E_ENTERIC\", \"Quantity (Mt CO2e)\": 0.0}, {\"Year\": 2050, \"Land use\": \"Grapes\", \"Irrigation\": \"irr\", \"Sources\": \"TCO2E_FERT_PROD\", \"Quantity (Mt CO2e)\": 0.0}, {\"Year\": 2050, \"Land use\": \"Grapes\", \"Irrigation\": \"irr\", \"Sources\": \"TCO2E_FODDER\", \"Quantity (Mt CO2e)\": 0.0}, {\"Year\": 2050, \"Land use\": \"Grapes\", \"Irrigation\": \"irr\", \"Sources\": \"TCO2E_FUEL\", \"Quantity (Mt CO2e)\": 0.0}, {\"Year\": 2050, \"Land use\": \"Grapes\", \"Irrigation\": \"irr\", \"Sources\": \"TCO2E_HARVEST\", \"Quantity (Mt CO2e)\": 0.0}, {\"Year\": 2050, \"Land use\": \"Grapes\", \"Irrigation\": \"irr\", \"Sources\": \"TCO2E_IND_LEACH_RUNOFF\", \"Quantity (Mt CO2e)\": 0.0}, {\"Year\": 2050, \"Land use\": \"Grapes\", \"Irrigation\": \"irr\", \"Sources\": \"TCO2E_IRRIG\", \"Quantity (Mt CO2e)\": 0.0}, {\"Year\": 2050, \"Land use\": \"Grapes\", \"Irrigation\": \"irr\", \"Sources\": \"TCO2E_MANURE_MGT\", \"Quantity (Mt CO2e)\": 0.0}, {\"Year\": 2050, \"Land use\": \"Grapes\", \"Irrigation\": \"irr\", \"Sources\": \"TCO2E_PEST_PROD\", \"Quantity (Mt CO2e)\": 0.0}, {\"Year\": 2050, \"Land use\": \"Grapes\", \"Irrigation\": \"irr\", \"Sources\": \"TCO2E_SEED\", \"Quantity (Mt CO2e)\": 0.0}, {\"Year\": 2050, \"Land use\": \"Grapes\", \"Irrigation\": \"irr\", \"Sources\": \"TCO2E_SOIL\", \"Quantity (Mt CO2e)\": 0.0}, {\"Year\": 2050, \"Land use\": \"Grapes\", \"Irrigation\": \"irr\", \"Sources\": \"TCO2E_SOWING\", \"Quantity (Mt CO2e)\": 0.0}, {\"Year\": 2050, \"Land use\": \"Hay\", \"Irrigation\": \"dry\", \"Sources\": \"TCO2E_CHEM_APPL\", \"Quantity (Mt CO2e)\": 0.003854336614608765}, {\"Year\": 2050, \"Land use\": \"Hay\", \"Irrigation\": \"dry\", \"Sources\": \"TCO2E_CROP_MGT\", \"Quantity (Mt CO2e)\": 0.0}, {\"Year\": 2050, \"Land use\": \"Hay\", \"Irrigation\": \"dry\", \"Sources\": \"TCO2E_CULTIV\", \"Quantity (Mt CO2e)\": 0.0673352619934082}, {\"Year\": 2050, \"Land use\": \"Hay\", \"Irrigation\": \"dry\", \"Sources\": \"TCO2E_DUNG_URINE\", \"Quantity (Mt CO2e)\": 0.0}, {\"Year\": 2050, \"Land use\": \"Hay\", \"Irrigation\": \"dry\", \"Sources\": \"TCO2E_ELEC\", \"Quantity (Mt CO2e)\": 0.0}, {\"Year\": 2050, \"Land use\": \"Hay\", \"Irrigation\": \"dry\", \"Sources\": \"TCO2E_ENTERIC\", \"Quantity (Mt CO2e)\": 0.0}, {\"Year\": 2050, \"Land use\": \"Hay\", \"Irrigation\": \"dry\", \"Sources\": \"TCO2E_FERT_PROD\", \"Quantity (Mt CO2e)\": 0.14356854901123048}, {\"Year\": 2050, \"Land use\": \"Hay\", \"Irrigation\": \"dry\", \"Sources\": \"TCO2E_FODDER\", \"Quantity (Mt CO2e)\": 0.0}, {\"Year\": 2050, \"Land use\": \"Hay\", \"Irrigation\": \"dry\", \"Sources\": \"TCO2E_FUEL\", \"Quantity (Mt CO2e)\": 0.0}, {\"Year\": 2050, \"Land use\": \"Hay\", \"Irrigation\": \"dry\", \"Sources\": \"TCO2E_HARVEST\", \"Quantity (Mt CO2e)\": 0.0}, {\"Year\": 2050, \"Land use\": \"Hay\", \"Irrigation\": \"dry\", \"Sources\": \"TCO2E_IND_LEACH_RUNOFF\", \"Quantity (Mt CO2e)\": 0.0}, {\"Year\": 2050, \"Land use\": \"Hay\", \"Irrigation\": \"dry\", \"Sources\": \"TCO2E_IRRIG\", \"Quantity (Mt CO2e)\": 0.0}, {\"Year\": 2050, \"Land use\": \"Hay\", \"Irrigation\": \"dry\", \"Sources\": \"TCO2E_MANURE_MGT\", \"Quantity (Mt CO2e)\": 0.0}, {\"Year\": 2050, \"Land use\": \"Hay\", \"Irrigation\": \"dry\", \"Sources\": \"TCO2E_PEST_PROD\", \"Quantity (Mt CO2e)\": 0.05029624755859375}, {\"Year\": 2050, \"Land use\": \"Hay\", \"Irrigation\": \"dry\", \"Sources\": \"TCO2E_SEED\", \"Quantity (Mt CO2e)\": 0.0}, {\"Year\": 2050, \"Land use\": \"Hay\", \"Irrigation\": \"dry\", \"Sources\": \"TCO2E_SOIL\", \"Quantity (Mt CO2e)\": 0.0}, {\"Year\": 2050, \"Land use\": \"Hay\", \"Irrigation\": \"dry\", \"Sources\": \"TCO2E_SOWING\", \"Quantity (Mt CO2e)\": 0.003854336614608765}, {\"Year\": 2050, \"Land use\": \"Hay\", \"Irrigation\": \"irr\", \"Sources\": \"TCO2E_CHEM_APPL\", \"Quantity (Mt CO2e)\": 0.001253515926361084}, {\"Year\": 2050, \"Land use\": \"Hay\", \"Irrigation\": \"irr\", \"Sources\": \"TCO2E_CROP_MGT\", \"Quantity (Mt CO2e)\": 0.0}, {\"Year\": 2050, \"Land use\": \"Hay\", \"Irrigation\": \"irr\", \"Sources\": \"TCO2E_CULTIV\", \"Quantity (Mt CO2e)\": 0.02189892367553711}, {\"Year\": 2050, \"Land use\": \"Hay\", \"Irrigation\": \"irr\", \"Sources\": \"TCO2E_DUNG_URINE\", \"Quantity (Mt CO2e)\": 0.0}, {\"Year\": 2050, \"Land use\": \"Hay\", \"Irrigation\": \"irr\", \"Sources\": \"TCO2E_ELEC\", \"Quantity (Mt CO2e)\": 0.0}, {\"Year\": 2050, \"Land use\": \"Hay\", \"Irrigation\": \"irr\", \"Sources\": \"TCO2E_ENTERIC\", \"Quantity (Mt CO2e)\": 0.0}, {\"Year\": 2050, \"Land use\": \"Hay\", \"Irrigation\": \"irr\", \"Sources\": \"TCO2E_FERT_PROD\", \"Quantity (Mt CO2e)\": 0.04669168292236328}, {\"Year\": 2050, \"Land use\": \"Hay\", \"Irrigation\": \"irr\", \"Sources\": \"TCO2E_FODDER\", \"Quantity (Mt CO2e)\": 0.0}, {\"Year\": 2050, \"Land use\": \"Hay\", \"Irrigation\": \"irr\", \"Sources\": \"TCO2E_FUEL\", \"Quantity (Mt CO2e)\": 0.0}, {\"Year\": 2050, \"Land use\": \"Hay\", \"Irrigation\": \"irr\", \"Sources\": \"TCO2E_HARVEST\", \"Quantity (Mt CO2e)\": 0.0}, {\"Year\": 2050, \"Land use\": \"Hay\", \"Irrigation\": \"irr\", \"Sources\": \"TCO2E_IND_LEACH_RUNOFF\", \"Quantity (Mt CO2e)\": 0.0}, {\"Year\": 2050, \"Land use\": \"Hay\", \"Irrigation\": \"irr\", \"Sources\": \"TCO2E_IRRIG\", \"Quantity (Mt CO2e)\": 0.020247216579437257}, {\"Year\": 2050, \"Land use\": \"Hay\", \"Irrigation\": \"irr\", \"Sources\": \"TCO2E_MANURE_MGT\", \"Quantity (Mt CO2e)\": 0.0}, {\"Year\": 2050, \"Land use\": \"Hay\", \"Irrigation\": \"irr\", \"Sources\": \"TCO2E_PEST_PROD\", \"Quantity (Mt CO2e)\": 0.01635745751953125}, {\"Year\": 2050, \"Land use\": \"Hay\", \"Irrigation\": \"irr\", \"Sources\": \"TCO2E_SEED\", \"Quantity (Mt CO2e)\": 0.0}, {\"Year\": 2050, \"Land use\": \"Hay\", \"Irrigation\": \"irr\", \"Sources\": \"TCO2E_SOIL\", \"Quantity (Mt CO2e)\": 0.0}, {\"Year\": 2050, \"Land use\": \"Hay\", \"Irrigation\": \"irr\", \"Sources\": \"TCO2E_SOWING\", \"Quantity (Mt CO2e)\": 0.001253515926361084}, {\"Year\": 2050, \"Land use\": \"Nuts\", \"Irrigation\": \"dry\", \"Sources\": \"TCO2E_CHEM_APPL\", \"Quantity (Mt CO2e)\": 0.00824869582767054}, {\"Year\": 2050, \"Land use\": \"Nuts\", \"Irrigation\": \"dry\", \"Sources\": \"TCO2E_CROP_MGT\", \"Quantity (Mt CO2e)\": 0.00229070781402712}, {\"Year\": 2050, \"Land use\": \"Nuts\", \"Irrigation\": \"dry\", \"Sources\": \"TCO2E_CULTIV\", \"Quantity (Mt CO2e)\": 0.005643555102665923}, {\"Year\": 2050, \"Land use\": \"Nuts\", \"Irrigation\": \"dry\", \"Sources\": \"TCO2E_DUNG_URINE\", \"Quantity (Mt CO2e)\": 0.0}, {\"Year\": 2050, \"Land use\": \"Nuts\", \"Irrigation\": \"dry\", \"Sources\": \"TCO2E_ELEC\", \"Quantity (Mt CO2e)\": 0.0}, {\"Year\": 2050, \"Land use\": \"Nuts\", \"Irrigation\": \"dry\", \"Sources\": \"TCO2E_ENTERIC\", \"Quantity (Mt CO2e)\": 0.0}, {\"Year\": 2050, \"Land use\": \"Nuts\", \"Irrigation\": \"dry\", \"Sources\": \"TCO2E_FERT_PROD\", \"Quantity (Mt CO2e)\": 0.03073705801917694}, {\"Year\": 2050, \"Land use\": \"Nuts\", \"Irrigation\": \"dry\", \"Sources\": \"TCO2E_FODDER\", \"Quantity (Mt CO2e)\": 0.0}, {\"Year\": 2050, \"Land use\": \"Nuts\", \"Irrigation\": \"dry\", \"Sources\": \"TCO2E_FUEL\", \"Quantity (Mt CO2e)\": 0.0}, {\"Year\": 2050, \"Land use\": \"Nuts\", \"Irrigation\": \"dry\", \"Sources\": \"TCO2E_HARVEST\", \"Quantity (Mt CO2e)\": 0.0026946506132006333}, {\"Year\": 2050, \"Land use\": \"Nuts\", \"Irrigation\": \"dry\", \"Sources\": \"TCO2E_IND_LEACH_RUNOFF\", \"Quantity (Mt CO2e)\": 0.0}, {\"Year\": 2050, \"Land use\": \"Nuts\", \"Irrigation\": \"dry\", \"Sources\": \"TCO2E_IRRIG\", \"Quantity (Mt CO2e)\": 0.0}, {\"Year\": 2050, \"Land use\": \"Nuts\", \"Irrigation\": \"dry\", \"Sources\": \"TCO2E_MANURE_MGT\", \"Quantity (Mt CO2e)\": 0.0}, {\"Year\": 2050, \"Land use\": \"Nuts\", \"Irrigation\": \"dry\", \"Sources\": \"TCO2E_PEST_PROD\", \"Quantity (Mt CO2e)\": 0.011801510003213974}, {\"Year\": 2050, \"Land use\": \"Nuts\", \"Irrigation\": \"dry\", \"Sources\": \"TCO2E_SEED\", \"Quantity (Mt CO2e)\": 0.0}, {\"Year\": 2050, \"Land use\": \"Nuts\", \"Irrigation\": \"dry\", \"Sources\": \"TCO2E_SOIL\", \"Quantity (Mt CO2e)\": 0.03285961110398178}, {\"Year\": 2050, \"Land use\": \"Nuts\", \"Irrigation\": \"dry\", \"Sources\": \"TCO2E_SOWING\", \"Quantity (Mt CO2e)\": 0.00040164339045043525}, {\"Year\": 2050, \"Land use\": \"Nuts\", \"Irrigation\": \"irr\", \"Sources\": \"TCO2E_CHEM_APPL\", \"Quantity (Mt CO2e)\": 0.0004618931579589844}, {\"Year\": 2050, \"Land use\": \"Nuts\", \"Irrigation\": \"irr\", \"Sources\": \"TCO2E_CROP_MGT\", \"Quantity (Mt CO2e)\": 0.0001420674591064453}, {\"Year\": 2050, \"Land use\": \"Nuts\", \"Irrigation\": \"irr\", \"Sources\": \"TCO2E_CULTIV\", \"Quantity (Mt CO2e)\": 0.00038729678344726564}, {\"Year\": 2050, \"Land use\": \"Nuts\", \"Irrigation\": \"irr\", \"Sources\": \"TCO2E_DUNG_URINE\", \"Quantity (Mt CO2e)\": 0.0}, {\"Year\": 2050, \"Land use\": \"Nuts\", \"Irrigation\": \"irr\", \"Sources\": \"TCO2E_ELEC\", \"Quantity (Mt CO2e)\": 0.0}, {\"Year\": 2050, \"Land use\": \"Nuts\", \"Irrigation\": \"irr\", \"Sources\": \"TCO2E_ENTERIC\", \"Quantity (Mt CO2e)\": 0.0}, {\"Year\": 2050, \"Land use\": \"Nuts\", \"Irrigation\": \"irr\", \"Sources\": \"TCO2E_FERT_PROD\", \"Quantity (Mt CO2e)\": 0.00159511572265625}, {\"Year\": 2050, \"Land use\": \"Nuts\", \"Irrigation\": \"irr\", \"Sources\": \"TCO2E_FODDER\", \"Quantity (Mt CO2e)\": 0.0}, {\"Year\": 2050, \"Land use\": \"Nuts\", \"Irrigation\": \"irr\", \"Sources\": \"TCO2E_FUEL\", \"Quantity (Mt CO2e)\": 0.0}, {\"Year\": 2050, \"Land use\": \"Nuts\", \"Irrigation\": \"irr\", \"Sources\": \"TCO2E_HARVEST\", \"Quantity (Mt CO2e)\": 0.00018406866455078125}, {\"Year\": 2050, \"Land use\": \"Nuts\", \"Irrigation\": \"irr\", \"Sources\": \"TCO2E_IND_LEACH_RUNOFF\", \"Quantity (Mt CO2e)\": 0.0}, {\"Year\": 2050, \"Land use\": \"Nuts\", \"Irrigation\": \"irr\", \"Sources\": \"TCO2E_IRRIG\", \"Quantity (Mt CO2e)\": 0.0002482489471435547}, {\"Year\": 2050, \"Land use\": \"Nuts\", \"Irrigation\": \"irr\", \"Sources\": \"TCO2E_MANURE_MGT\", \"Quantity (Mt CO2e)\": 0.0}, {\"Year\": 2050, \"Land use\": \"Nuts\", \"Irrigation\": \"irr\", \"Sources\": \"TCO2E_PEST_PROD\", \"Quantity (Mt CO2e)\": 0.0007408475341796875}, {\"Year\": 2050, \"Land use\": \"Nuts\", \"Irrigation\": \"irr\", \"Sources\": \"TCO2E_SEED\", \"Quantity (Mt CO2e)\": 0.0}, {\"Year\": 2050, \"Land use\": \"Nuts\", \"Irrigation\": \"irr\", \"Sources\": \"TCO2E_SOIL\", \"Quantity (Mt CO2e)\": 0.002166193359375}, {\"Year\": 2050, \"Land use\": \"Nuts\", \"Irrigation\": \"irr\", \"Sources\": \"TCO2E_SOWING\", \"Quantity (Mt CO2e)\": 2.276744079589844e-05}, {\"Year\": 2050, \"Land use\": \"Other non-cereal crops\", \"Irrigation\": \"dry\", \"Sources\": \"TCO2E_CHEM_APPL\", \"Quantity (Mt CO2e)\": 0.0022792714003925657}, {\"Year\": 2050, \"Land use\": \"Other non-cereal crops\", \"Irrigation\": \"dry\", \"Sources\": \"TCO2E_CROP_MGT\", \"Quantity (Mt CO2e)\": 0.0009800848485460943}, {\"Year\": 2050, \"Land use\": \"Other non-cereal crops\", \"Irrigation\": \"dry\", \"Sources\": \"TCO2E_CULTIV\", \"Quantity (Mt CO2e)\": 0.0020833382184779585}, {\"Year\": 2050, \"Land use\": \"Other non-cereal crops\", \"Irrigation\": \"dry\", \"Sources\": \"TCO2E_DUNG_URINE\", \"Quantity (Mt CO2e)\": 0.0}, {\"Year\": 2050, \"Land use\": \"Other non-cereal crops\", \"Irrigation\": \"dry\", \"Sources\": \"TCO2E_ELEC\", \"Quantity (Mt CO2e)\": 0.0}, {\"Year\": 2050, \"Land use\": \"Other non-cereal crops\", \"Irrigation\": \"dry\", \"Sources\": \"TCO2E_ENTERIC\", \"Quantity (Mt CO2e)\": 0.0}, {\"Year\": 2050, \"Land use\": \"Other non-cereal crops\", \"Irrigation\": \"dry\", \"Sources\": \"TCO2E_FERT_PROD\", \"Quantity (Mt CO2e)\": 0.00654548682359922}, {\"Year\": 2050, \"Land use\": \"Other non-cereal crops\", \"Irrigation\": \"dry\", \"Sources\": \"TCO2E_FODDER\", \"Quantity (Mt CO2e)\": 0.0}, {\"Year\": 2050, \"Land use\": \"Other non-cereal crops\", \"Irrigation\": \"dry\", \"Sources\": \"TCO2E_FUEL\", \"Quantity (Mt CO2e)\": 0.0}, {\"Year\": 2050, \"Land use\": \"Other non-cereal crops\", \"Irrigation\": \"dry\", \"Sources\": \"TCO2E_HARVEST\", \"Quantity (Mt CO2e)\": 0.0005664982331138952}, {\"Year\": 2050, \"Land use\": \"Other non-cereal crops\", \"Irrigation\": \"dry\", \"Sources\": \"TCO2E_IND_LEACH_RUNOFF\", \"Quantity (Mt CO2e)\": 0.0}, {\"Year\": 2050, \"Land use\": \"Other non-cereal crops\", \"Irrigation\": \"dry\", \"Sources\": \"TCO2E_IRRIG\", \"Quantity (Mt CO2e)\": 0.0}, {\"Year\": 2050, \"Land use\": \"Other non-cereal crops\", \"Irrigation\": \"dry\", \"Sources\": \"TCO2E_MANURE_MGT\", \"Quantity (Mt CO2e)\": 0.0}, {\"Year\": 2050, \"Land use\": \"Other non-cereal crops\", \"Irrigation\": \"dry\", \"Sources\": \"TCO2E_PEST_PROD\", \"Quantity (Mt CO2e)\": 0.0036552550964154165}, {\"Year\": 2050, \"Land use\": \"Other non-cereal crops\", \"Irrigation\": \"dry\", \"Sources\": \"TCO2E_SEED\", \"Quantity (Mt CO2e)\": 0.0}, {\"Year\": 2050, \"Land use\": \"Other non-cereal crops\", \"Irrigation\": \"dry\", \"Sources\": \"TCO2E_SOIL\", \"Quantity (Mt CO2e)\": 0.0018587520543454528}, {\"Year\": 2050, \"Land use\": \"Other non-cereal crops\", \"Irrigation\": \"dry\", \"Sources\": \"TCO2E_SOWING\", \"Quantity (Mt CO2e)\": 0.0012723177551710741}, {\"Year\": 2050, \"Land use\": \"Other non-cereal crops\", \"Irrigation\": \"irr\", \"Sources\": \"TCO2E_CHEM_APPL\", \"Quantity (Mt CO2e)\": 0.0}, {\"Year\": 2050, \"Land use\": \"Other non-cereal crops\", \"Irrigation\": \"irr\", \"Sources\": \"TCO2E_CROP_MGT\", \"Quantity (Mt CO2e)\": 0.0}, {\"Year\": 2050, \"Land use\": \"Other non-cereal crops\", \"Irrigation\": \"irr\", \"Sources\": \"TCO2E_CULTIV\", \"Quantity (Mt CO2e)\": 0.0}, {\"Year\": 2050, \"Land use\": \"Other non-cereal crops\", \"Irrigation\": \"irr\", \"Sources\": \"TCO2E_DUNG_URINE\", \"Quantity (Mt CO2e)\": 0.0}, {\"Year\": 2050, \"Land use\": \"Other non-cereal crops\", \"Irrigation\": \"irr\", \"Sources\": \"TCO2E_ELEC\", \"Quantity (Mt CO2e)\": 0.0}, {\"Year\": 2050, \"Land use\": \"Other non-cereal crops\", \"Irrigation\": \"irr\", \"Sources\": \"TCO2E_ENTERIC\", \"Quantity (Mt CO2e)\": 0.0}, {\"Year\": 2050, \"Land use\": \"Other non-cereal crops\", \"Irrigation\": \"irr\", \"Sources\": \"TCO2E_FERT_PROD\", \"Quantity (Mt CO2e)\": 0.0}, {\"Year\": 2050, \"Land use\": \"Other non-cereal crops\", \"Irrigation\": \"irr\", \"Sources\": \"TCO2E_FODDER\", \"Quantity (Mt CO2e)\": 0.0}, {\"Year\": 2050, \"Land use\": \"Other non-cereal crops\", \"Irrigation\": \"irr\", \"Sources\": \"TCO2E_FUEL\", \"Quantity (Mt CO2e)\": 0.0}, {\"Year\": 2050, \"Land use\": \"Other non-cereal crops\", \"Irrigation\": \"irr\", \"Sources\": \"TCO2E_HARVEST\", \"Quantity (Mt CO2e)\": 0.0}, {\"Year\": 2050, \"Land use\": \"Other non-cereal crops\", \"Irrigation\": \"irr\", \"Sources\": \"TCO2E_IND_LEACH_RUNOFF\", \"Quantity (Mt CO2e)\": 0.0}, {\"Year\": 2050, \"Land use\": \"Other non-cereal crops\", \"Irrigation\": \"irr\", \"Sources\": \"TCO2E_IRRIG\", \"Quantity (Mt CO2e)\": 0.0}, {\"Year\": 2050, \"Land use\": \"Other non-cereal crops\", \"Irrigation\": \"irr\", \"Sources\": \"TCO2E_MANURE_MGT\", \"Quantity (Mt CO2e)\": 0.0}, {\"Year\": 2050, \"Land use\": \"Other non-cereal crops\", \"Irrigation\": \"irr\", \"Sources\": \"TCO2E_PEST_PROD\", \"Quantity (Mt CO2e)\": 0.0}, {\"Year\": 2050, \"Land use\": \"Other non-cereal crops\", \"Irrigation\": \"irr\", \"Sources\": \"TCO2E_SEED\", \"Quantity (Mt CO2e)\": 0.0}, {\"Year\": 2050, \"Land use\": \"Other non-cereal crops\", \"Irrigation\": \"irr\", \"Sources\": \"TCO2E_SOIL\", \"Quantity (Mt CO2e)\": 0.0}, {\"Year\": 2050, \"Land use\": \"Other non-cereal crops\", \"Irrigation\": \"irr\", \"Sources\": \"TCO2E_SOWING\", \"Quantity (Mt CO2e)\": 0.0}, {\"Year\": 2050, \"Land use\": \"Pears\", \"Irrigation\": \"dry\", \"Sources\": \"TCO2E_CHEM_APPL\", \"Quantity (Mt CO2e)\": 0.0}, {\"Year\": 2050, \"Land use\": \"Pears\", \"Irrigation\": \"dry\", \"Sources\": \"TCO2E_CROP_MGT\", \"Quantity (Mt CO2e)\": 0.0}, {\"Year\": 2050, \"Land use\": \"Pears\", \"Irrigation\": \"dry\", \"Sources\": \"TCO2E_CULTIV\", \"Quantity (Mt CO2e)\": 0.0}, {\"Year\": 2050, \"Land use\": \"Pears\", \"Irrigation\": \"dry\", \"Sources\": \"TCO2E_DUNG_URINE\", \"Quantity (Mt CO2e)\": 0.0}, {\"Year\": 2050, \"Land use\": \"Pears\", \"Irrigation\": \"dry\", \"Sources\": \"TCO2E_ELEC\", \"Quantity (Mt CO2e)\": 0.0}, {\"Year\": 2050, \"Land use\": \"Pears\", \"Irrigation\": \"dry\", \"Sources\": \"TCO2E_ENTERIC\", \"Quantity (Mt CO2e)\": 0.0}, {\"Year\": 2050, \"Land use\": \"Pears\", \"Irrigation\": \"dry\", \"Sources\": \"TCO2E_FERT_PROD\", \"Quantity (Mt CO2e)\": 0.0}, {\"Year\": 2050, \"Land use\": \"Pears\", \"Irrigation\": \"dry\", \"Sources\": \"TCO2E_FODDER\", \"Quantity (Mt CO2e)\": 0.0}, {\"Year\": 2050, \"Land use\": \"Pears\", \"Irrigation\": \"dry\", \"Sources\": \"TCO2E_FUEL\", \"Quantity (Mt CO2e)\": 0.0}, {\"Year\": 2050, \"Land use\": \"Pears\", \"Irrigation\": \"dry\", \"Sources\": \"TCO2E_HARVEST\", \"Quantity (Mt CO2e)\": 0.0}, {\"Year\": 2050, \"Land use\": \"Pears\", \"Irrigation\": \"dry\", \"Sources\": \"TCO2E_IND_LEACH_RUNOFF\", \"Quantity (Mt CO2e)\": 0.0}, {\"Year\": 2050, \"Land use\": \"Pears\", \"Irrigation\": \"dry\", \"Sources\": \"TCO2E_IRRIG\", \"Quantity (Mt CO2e)\": 0.0}, {\"Year\": 2050, \"Land use\": \"Pears\", \"Irrigation\": \"dry\", \"Sources\": \"TCO2E_MANURE_MGT\", \"Quantity (Mt CO2e)\": 0.0}, {\"Year\": 2050, \"Land use\": \"Pears\", \"Irrigation\": \"dry\", \"Sources\": \"TCO2E_PEST_PROD\", \"Quantity (Mt CO2e)\": 0.0}, {\"Year\": 2050, \"Land use\": \"Pears\", \"Irrigation\": \"dry\", \"Sources\": \"TCO2E_SEED\", \"Quantity (Mt CO2e)\": 0.0}, {\"Year\": 2050, \"Land use\": \"Pears\", \"Irrigation\": \"dry\", \"Sources\": \"TCO2E_SOIL\", \"Quantity (Mt CO2e)\": 0.0}, {\"Year\": 2050, \"Land use\": \"Pears\", \"Irrigation\": \"dry\", \"Sources\": \"TCO2E_SOWING\", \"Quantity (Mt CO2e)\": 0.0}, {\"Year\": 2050, \"Land use\": \"Pears\", \"Irrigation\": \"irr\", \"Sources\": \"TCO2E_CHEM_APPL\", \"Quantity (Mt CO2e)\": 0.00042357437133789063}, {\"Year\": 2050, \"Land use\": \"Pears\", \"Irrigation\": \"irr\", \"Sources\": \"TCO2E_CROP_MGT\", \"Quantity (Mt CO2e)\": 0.00013028150939941406}, {\"Year\": 2050, \"Land use\": \"Pears\", \"Irrigation\": \"irr\", \"Sources\": \"TCO2E_CULTIV\", \"Quantity (Mt CO2e)\": 0.00035516653442382813}, {\"Year\": 2050, \"Land use\": \"Pears\", \"Irrigation\": \"irr\", \"Sources\": \"TCO2E_DUNG_URINE\", \"Quantity (Mt CO2e)\": 0.0}, {\"Year\": 2050, \"Land use\": \"Pears\", \"Irrigation\": \"irr\", \"Sources\": \"TCO2E_ELEC\", \"Quantity (Mt CO2e)\": 0.0}, {\"Year\": 2050, \"Land use\": \"Pears\", \"Irrigation\": \"irr\", \"Sources\": \"TCO2E_ENTERIC\", \"Quantity (Mt CO2e)\": 0.0}, {\"Year\": 2050, \"Land use\": \"Pears\", \"Irrigation\": \"irr\", \"Sources\": \"TCO2E_FERT_PROD\", \"Quantity (Mt CO2e)\": 0.001462784423828125}, {\"Year\": 2050, \"Land use\": \"Pears\", \"Irrigation\": \"irr\", \"Sources\": \"TCO2E_FODDER\", \"Quantity (Mt CO2e)\": 0.0}, {\"Year\": 2050, \"Land use\": \"Pears\", \"Irrigation\": \"irr\", \"Sources\": \"TCO2E_FUEL\", \"Quantity (Mt CO2e)\": 0.0}, {\"Year\": 2050, \"Land use\": \"Pears\", \"Irrigation\": \"irr\", \"Sources\": \"TCO2E_HARVEST\", \"Quantity (Mt CO2e)\": 0.00016879826354980468}, {\"Year\": 2050, \"Land use\": \"Pears\", \"Irrigation\": \"irr\", \"Sources\": \"TCO2E_IND_LEACH_RUNOFF\", \"Quantity (Mt CO2e)\": 0.0}, {\"Year\": 2050, \"Land use\": \"Pears\", \"Irrigation\": \"irr\", \"Sources\": \"TCO2E_IRRIG\", \"Quantity (Mt CO2e)\": 0.0005483324584960937}, {\"Year\": 2050, \"Land use\": \"Pears\", \"Irrigation\": \"irr\", \"Sources\": \"TCO2E_MANURE_MGT\", \"Quantity (Mt CO2e)\": 0.0}, {\"Year\": 2050, \"Land use\": \"Pears\", \"Irrigation\": \"irr\", \"Sources\": \"TCO2E_PEST_PROD\", \"Quantity (Mt CO2e)\": 0.0006793865966796875}, {\"Year\": 2050, \"Land use\": \"Pears\", \"Irrigation\": \"irr\", \"Sources\": \"TCO2E_SEED\", \"Quantity (Mt CO2e)\": 0.0}, {\"Year\": 2050, \"Land use\": \"Pears\", \"Irrigation\": \"irr\", \"Sources\": \"TCO2E_SOIL\", \"Quantity (Mt CO2e)\": 0.0019864853515625}, {\"Year\": 2050, \"Land use\": \"Pears\", \"Irrigation\": \"irr\", \"Sources\": \"TCO2E_SOWING\", \"Quantity (Mt CO2e)\": 2.0878646850585938e-05}, {\"Year\": 2050, \"Land use\": \"Plantation fruit\", \"Irrigation\": \"dry\", \"Sources\": \"TCO2E_CHEM_APPL\", \"Quantity (Mt CO2e)\": 0.005616163330078125}, {\"Year\": 2050, \"Land use\": \"Plantation fruit\", \"Irrigation\": \"dry\", \"Sources\": \"TCO2E_CROP_MGT\", \"Quantity (Mt CO2e)\": 0.0008514713745117187}, {\"Year\": 2050, \"Land use\": \"Plantation fruit\", \"Irrigation\": \"dry\", \"Sources\": \"TCO2E_CULTIV\", \"Quantity (Mt CO2e)\": 0.0015965087890625}, {\"Year\": 2050, \"Land use\": \"Plantation fruit\", \"Irrigation\": \"dry\", \"Sources\": \"TCO2E_DUNG_URINE\", \"Quantity (Mt CO2e)\": 0.0}, {\"Year\": 2050, \"Land use\": \"Plantation fruit\", \"Irrigation\": \"dry\", \"Sources\": \"TCO2E_ELEC\", \"Quantity (Mt CO2e)\": 0.0}, {\"Year\": 2050, \"Land use\": \"Plantation fruit\", \"Irrigation\": \"dry\", \"Sources\": \"TCO2E_ENTERIC\", \"Quantity (Mt CO2e)\": 0.0}, {\"Year\": 2050, \"Land use\": \"Plantation fruit\", \"Irrigation\": \"dry\", \"Sources\": \"TCO2E_FERT_PROD\", \"Quantity (Mt CO2e)\": 0.044061572265625}, {\"Year\": 2050, \"Land use\": \"Plantation fruit\", \"Irrigation\": \"dry\", \"Sources\": \"TCO2E_FODDER\", \"Quantity (Mt CO2e)\": 0.0}, {\"Year\": 2050, \"Land use\": \"Plantation fruit\", \"Irrigation\": \"dry\", \"Sources\": \"TCO2E_FUEL\", \"Quantity (Mt CO2e)\": 0.0}, {\"Year\": 2050, \"Land use\": \"Plantation fruit\", \"Irrigation\": \"dry\", \"Sources\": \"TCO2E_HARVEST\", \"Quantity (Mt CO2e)\": 7.76967658996582e-05}, {\"Year\": 2050, \"Land use\": \"Plantation fruit\", \"Irrigation\": \"dry\", \"Sources\": \"TCO2E_IND_LEACH_RUNOFF\", \"Quantity (Mt CO2e)\": 0.0}, {\"Year\": 2050, \"Land use\": \"Plantation fruit\", \"Irrigation\": \"dry\", \"Sources\": \"TCO2E_IRRIG\", \"Quantity (Mt CO2e)\": 0.0}, {\"Year\": 2050, \"Land use\": \"Plantation fruit\", \"Irrigation\": \"dry\", \"Sources\": \"TCO2E_MANURE_MGT\", \"Quantity (Mt CO2e)\": 0.0}, {\"Year\": 2050, \"Land use\": \"Plantation fruit\", \"Irrigation\": \"dry\", \"Sources\": \"TCO2E_PEST_PROD\", \"Quantity (Mt CO2e)\": 0.003483185913085937}, {\"Year\": 2050, \"Land use\": \"Plantation fruit\", \"Irrigation\": \"dry\", \"Sources\": \"TCO2E_SEED\", \"Quantity (Mt CO2e)\": 0.0}, {\"Year\": 2050, \"Land use\": \"Plantation fruit\", \"Irrigation\": \"dry\", \"Sources\": \"TCO2E_SOIL\", \"Quantity (Mt CO2e)\": 0.02457224609375}, {\"Year\": 2050, \"Land use\": \"Plantation fruit\", \"Irrigation\": \"dry\", \"Sources\": \"TCO2E_SOWING\", \"Quantity (Mt CO2e)\": 5.321696090698242e-05}, {\"Year\": 2050, \"Land use\": \"Plantation fruit\", \"Irrigation\": \"irr\", \"Sources\": \"TCO2E_CHEM_APPL\", \"Quantity (Mt CO2e)\": 0.0038729925537109374}, {\"Year\": 2050, \"Land use\": \"Plantation fruit\", \"Irrigation\": \"irr\", \"Sources\": \"TCO2E_CROP_MGT\", \"Quantity (Mt CO2e)\": 0.0007662105712890625}, {\"Year\": 2050, \"Land use\": \"Plantation fruit\", \"Irrigation\": \"irr\", \"Sources\": \"TCO2E_CULTIV\", \"Quantity (Mt CO2e)\": 0.0015055365295410157}, {\"Year\": 2050, \"Land use\": \"Plantation fruit\", \"Irrigation\": \"irr\", \"Sources\": \"TCO2E_DUNG_URINE\", \"Quantity (Mt CO2e)\": 0.0}, {\"Year\": 2050, \"Land use\": \"Plantation fruit\", \"Irrigation\": \"irr\", \"Sources\": \"TCO2E_ELEC\", \"Quantity (Mt CO2e)\": 0.0}, {\"Year\": 2050, \"Land use\": \"Plantation fruit\", \"Irrigation\": \"irr\", \"Sources\": \"TCO2E_ENTERIC\", \"Quantity (Mt CO2e)\": 0.0}, {\"Year\": 2050, \"Land use\": \"Plantation fruit\", \"Irrigation\": \"irr\", \"Sources\": \"TCO2E_FERT_PROD\", \"Quantity (Mt CO2e)\": 0.0453481826171875}, {\"Year\": 2050, \"Land use\": \"Plantation fruit\", \"Irrigation\": \"irr\", \"Sources\": \"TCO2E_FODDER\", \"Quantity (Mt CO2e)\": 0.0}, {\"Year\": 2050, \"Land use\": \"Plantation fruit\", \"Irrigation\": \"irr\", \"Sources\": \"TCO2E_FUEL\", \"Quantity (Mt CO2e)\": 0.0}, {\"Year\": 2050, \"Land use\": \"Plantation fruit\", \"Irrigation\": \"irr\", \"Sources\": \"TCO2E_HARVEST\", \"Quantity (Mt CO2e)\": 0.0}, {\"Year\": 2050, \"Land use\": \"Plantation fruit\", \"Irrigation\": \"irr\", \"Sources\": \"TCO2E_IND_LEACH_RUNOFF\", \"Quantity (Mt CO2e)\": 0.0}, {\"Year\": 2050, \"Land use\": \"Plantation fruit\", \"Irrigation\": \"irr\", \"Sources\": \"TCO2E_IRRIG\", \"Quantity (Mt CO2e)\": 0.0002144227681159973}, {\"Year\": 2050, \"Land use\": \"Plantation fruit\", \"Irrigation\": \"irr\", \"Sources\": \"TCO2E_MANURE_MGT\", \"Quantity (Mt CO2e)\": 0.0}, {\"Year\": 2050, \"Land use\": \"Plantation fruit\", \"Irrigation\": \"irr\", \"Sources\": \"TCO2E_PEST_PROD\", \"Quantity (Mt CO2e)\": 0.0009639652709960937}, {\"Year\": 2050, \"Land use\": \"Plantation fruit\", \"Irrigation\": \"irr\", \"Sources\": \"TCO2E_SEED\", \"Quantity (Mt CO2e)\": 0.0}, {\"Year\": 2050, \"Land use\": \"Plantation fruit\", \"Irrigation\": \"irr\", \"Sources\": \"TCO2E_SOIL\", \"Quantity (Mt CO2e)\": 0.030930333984375}, {\"Year\": 2050, \"Land use\": \"Plantation fruit\", \"Irrigation\": \"irr\", \"Sources\": \"TCO2E_SOWING\", \"Quantity (Mt CO2e)\": 0.0}, {\"Year\": 2050, \"Land use\": \"Rice\", \"Irrigation\": \"dry\", \"Sources\": \"TCO2E_CHEM_APPL\", \"Quantity (Mt CO2e)\": 0.0}, {\"Year\": 2050, \"Land use\": \"Rice\", \"Irrigation\": \"dry\", \"Sources\": \"TCO2E_CROP_MGT\", \"Quantity (Mt CO2e)\": 0.0}, {\"Year\": 2050, \"Land use\": \"Rice\", \"Irrigation\": \"dry\", \"Sources\": \"TCO2E_CULTIV\", \"Quantity (Mt CO2e)\": 0.0}, {\"Year\": 2050, \"Land use\": \"Rice\", \"Irrigation\": \"dry\", \"Sources\": \"TCO2E_DUNG_URINE\", \"Quantity (Mt CO2e)\": 0.0}, {\"Year\": 2050, \"Land use\": \"Rice\", \"Irrigation\": \"dry\", \"Sources\": \"TCO2E_ELEC\", \"Quantity (Mt CO2e)\": 0.0}, {\"Year\": 2050, \"Land use\": \"Rice\", \"Irrigation\": \"dry\", \"Sources\": \"TCO2E_ENTERIC\", \"Quantity (Mt CO2e)\": 0.0}, {\"Year\": 2050, \"Land use\": \"Rice\", \"Irrigation\": \"dry\", \"Sources\": \"TCO2E_FERT_PROD\", \"Quantity (Mt CO2e)\": 0.0}, {\"Year\": 2050, \"Land use\": \"Rice\", \"Irrigation\": \"dry\", \"Sources\": \"TCO2E_FODDER\", \"Quantity (Mt CO2e)\": 0.0}, {\"Year\": 2050, \"Land use\": \"Rice\", \"Irrigation\": \"dry\", \"Sources\": \"TCO2E_FUEL\", \"Quantity (Mt CO2e)\": 0.0}, {\"Year\": 2050, \"Land use\": \"Rice\", \"Irrigation\": \"dry\", \"Sources\": \"TCO2E_HARVEST\", \"Quantity (Mt CO2e)\": 0.0}, {\"Year\": 2050, \"Land use\": \"Rice\", \"Irrigation\": \"dry\", \"Sources\": \"TCO2E_IND_LEACH_RUNOFF\", \"Quantity (Mt CO2e)\": 0.0}, {\"Year\": 2050, \"Land use\": \"Rice\", \"Irrigation\": \"dry\", \"Sources\": \"TCO2E_IRRIG\", \"Quantity (Mt CO2e)\": 0.0}, {\"Year\": 2050, \"Land use\": \"Rice\", \"Irrigation\": \"dry\", \"Sources\": \"TCO2E_MANURE_MGT\", \"Quantity (Mt CO2e)\": 0.0}, {\"Year\": 2050, \"Land use\": \"Rice\", \"Irrigation\": \"dry\", \"Sources\": \"TCO2E_PEST_PROD\", \"Quantity (Mt CO2e)\": 0.0}, {\"Year\": 2050, \"Land use\": \"Rice\", \"Irrigation\": \"dry\", \"Sources\": \"TCO2E_SEED\", \"Quantity (Mt CO2e)\": 0.0}, {\"Year\": 2050, \"Land use\": \"Rice\", \"Irrigation\": \"dry\", \"Sources\": \"TCO2E_SOIL\", \"Quantity (Mt CO2e)\": 0.0}, {\"Year\": 2050, \"Land use\": \"Rice\", \"Irrigation\": \"dry\", \"Sources\": \"TCO2E_SOWING\", \"Quantity (Mt CO2e)\": 0.0}, {\"Year\": 2050, \"Land use\": \"Rice\", \"Irrigation\": \"irr\", \"Sources\": \"TCO2E_CHEM_APPL\", \"Quantity (Mt CO2e)\": 0.0010103465099334716}, {\"Year\": 2050, \"Land use\": \"Rice\", \"Irrigation\": \"irr\", \"Sources\": \"TCO2E_CROP_MGT\", \"Quantity (Mt CO2e)\": 7.729384452104568e-06}, {\"Year\": 2050, \"Land use\": \"Rice\", \"Irrigation\": \"irr\", \"Sources\": \"TCO2E_CULTIV\", \"Quantity (Mt CO2e)\": 0.004598453323364258}, {\"Year\": 2050, \"Land use\": \"Rice\", \"Irrigation\": \"irr\", \"Sources\": \"TCO2E_DUNG_URINE\", \"Quantity (Mt CO2e)\": 0.0}, {\"Year\": 2050, \"Land use\": \"Rice\", \"Irrigation\": \"irr\", \"Sources\": \"TCO2E_ELEC\", \"Quantity (Mt CO2e)\": 0.0}, {\"Year\": 2050, \"Land use\": \"Rice\", \"Irrigation\": \"irr\", \"Sources\": \"TCO2E_ENTERIC\", \"Quantity (Mt CO2e)\": 0.0}, {\"Year\": 2050, \"Land use\": \"Rice\", \"Irrigation\": \"irr\", \"Sources\": \"TCO2E_FERT_PROD\", \"Quantity (Mt CO2e)\": 0.023753327087402343}, {\"Year\": 2050, \"Land use\": \"Rice\", \"Irrigation\": \"irr\", \"Sources\": \"TCO2E_FODDER\", \"Quantity (Mt CO2e)\": 0.0}, {\"Year\": 2050, \"Land use\": \"Rice\", \"Irrigation\": \"irr\", \"Sources\": \"TCO2E_FUEL\", \"Quantity (Mt CO2e)\": 0.0}, {\"Year\": 2050, \"Land use\": \"Rice\", \"Irrigation\": \"irr\", \"Sources\": \"TCO2E_HARVEST\", \"Quantity (Mt CO2e)\": 0.0005893655548095704}, {\"Year\": 2050, \"Land use\": \"Rice\", \"Irrigation\": \"irr\", \"Sources\": \"TCO2E_IND_LEACH_RUNOFF\", \"Quantity (Mt CO2e)\": 0.0}, {\"Year\": 2050, \"Land use\": \"Rice\", \"Irrigation\": \"irr\", \"Sources\": \"TCO2E_IRRIG\", \"Quantity (Mt CO2e)\": 0.01333037808227539}, {\"Year\": 2050, \"Land use\": \"Rice\", \"Irrigation\": \"irr\", \"Sources\": \"TCO2E_MANURE_MGT\", \"Quantity (Mt CO2e)\": 0.0}, {\"Year\": 2050, \"Land use\": \"Rice\", \"Irrigation\": \"irr\", \"Sources\": \"TCO2E_PEST_PROD\", \"Quantity (Mt CO2e)\": 0.000678848747253418}, {\"Year\": 2050, \"Land use\": \"Rice\", \"Irrigation\": \"irr\", \"Sources\": \"TCO2E_SEED\", \"Quantity (Mt CO2e)\": 0.0}, {\"Year\": 2050, \"Land use\": \"Rice\", \"Irrigation\": \"irr\", \"Sources\": \"TCO2E_SOIL\", \"Quantity (Mt CO2e)\": 0.05356945849609375}, {\"Year\": 2050, \"Land use\": \"Rice\", \"Irrigation\": \"irr\", \"Sources\": \"TCO2E_SOWING\", \"Quantity (Mt CO2e)\": 0.0007578511295318603}, {\"Year\": 2050, \"Land use\": \"Sheep\", \"Irrigation\": \"dry\", \"Sources\": \"TCO2E_CHEM_APPL\", \"Quantity (Mt CO2e)\": 0.0}, {\"Year\": 2050, \"Land use\": \"Sheep\", \"Irrigation\": \"dry\", \"Sources\": \"TCO2E_CROP_MGT\", \"Quantity (Mt CO2e)\": 0.0}, {\"Year\": 2050, \"Land use\": \"Sheep\", \"Irrigation\": \"dry\", \"Sources\": \"TCO2E_CULTIV\", \"Quantity (Mt CO2e)\": 0.0}, {\"Year\": 2050, \"Land use\": \"Sheep\", \"Irrigation\": \"dry\", \"Sources\": \"TCO2E_DUNG_URINE\", \"Quantity (Mt CO2e)\": 1.4750338327335357}, {\"Year\": 2050, \"Land use\": \"Sheep\", \"Irrigation\": \"dry\", \"Sources\": \"TCO2E_ELEC\", \"Quantity (Mt CO2e)\": 5.311843223730227e-16}, {\"Year\": 2050, \"Land use\": \"Sheep\", \"Irrigation\": \"dry\", \"Sources\": \"TCO2E_ENTERIC\", \"Quantity (Mt CO2e)\": 15.195397886034549}, {\"Year\": 2050, \"Land use\": \"Sheep\", \"Irrigation\": \"dry\", \"Sources\": \"TCO2E_FERT_PROD\", \"Quantity (Mt CO2e)\": 0.0}, {\"Year\": 2050, \"Land use\": \"Sheep\", \"Irrigation\": \"dry\", \"Sources\": \"TCO2E_FODDER\", \"Quantity (Mt CO2e)\": 0.28327259125741294}, {\"Year\": 2050, \"Land use\": \"Sheep\", \"Irrigation\": \"dry\", \"Sources\": \"TCO2E_FUEL\", \"Quantity (Mt CO2e)\": 3.2059150818448066}, {\"Year\": 2050, \"Land use\": \"Sheep\", \"Irrigation\": \"dry\", \"Sources\": \"TCO2E_HARVEST\", \"Quantity (Mt CO2e)\": 0.0}, {\"Year\": 2050, \"Land use\": \"Sheep\", \"Irrigation\": \"dry\", \"Sources\": \"TCO2E_IND_LEACH_RUNOFF\", \"Quantity (Mt CO2e)\": 0.724630661113862}, {\"Year\": 2050, \"Land use\": \"Sheep\", \"Irrigation\": \"dry\", \"Sources\": \"TCO2E_IRRIG\", \"Quantity (Mt CO2e)\": 0.0}, {\"Year\": 2050, \"Land use\": \"Sheep\", \"Irrigation\": \"dry\", \"Sources\": \"TCO2E_MANURE_MGT\", \"Quantity (Mt CO2e)\": 0.005322879232026214}, {\"Year\": 2050, \"Land use\": \"Sheep\", \"Irrigation\": \"dry\", \"Sources\": \"TCO2E_PEST_PROD\", \"Quantity (Mt CO2e)\": 0.0}, {\"Year\": 2050, \"Land use\": \"Sheep\", \"Irrigation\": \"dry\", \"Sources\": \"TCO2E_SEED\", \"Quantity (Mt CO2e)\": 0.5177061660310838}, {\"Year\": 2050, \"Land use\": \"Sheep\", \"Irrigation\": \"dry\", \"Sources\": \"TCO2E_SOIL\", \"Quantity (Mt CO2e)\": 0.0}, {\"Year\": 2050, \"Land use\": \"Sheep\", \"Irrigation\": \"dry\", \"Sources\": \"TCO2E_SOWING\", \"Quantity (Mt CO2e)\": 0.0}, {\"Year\": 2050, \"Land use\": \"Sheep\", \"Irrigation\": \"irr\", \"Sources\": \"TCO2E_CHEM_APPL\", \"Quantity (Mt CO2e)\": 6.1030574886345336e-06}, {\"Year\": 2050, \"Land use\": \"Sheep\", \"Irrigation\": \"irr\", \"Sources\": \"TCO2E_CROP_MGT\", \"Quantity (Mt CO2e)\": 0.0}, {\"Year\": 2050, \"Land use\": \"Sheep\", \"Irrigation\": \"irr\", \"Sources\": \"TCO2E_CULTIV\", \"Quantity (Mt CO2e)\": 2.008096756921418e-05}, {\"Year\": 2050, \"Land use\": \"Sheep\", \"Irrigation\": \"irr\", \"Sources\": \"TCO2E_DUNG_URINE\", \"Quantity (Mt CO2e)\": 8.765036684990264e-05}, {\"Year\": 2050, \"Land use\": \"Sheep\", \"Irrigation\": \"irr\", \"Sources\": \"TCO2E_ELEC\", \"Quantity (Mt CO2e)\": 0.0}, {\"Year\": 2050, \"Land use\": \"Sheep\", \"Irrigation\": \"irr\", \"Sources\": \"TCO2E_ENTERIC\", \"Quantity (Mt CO2e)\": 0.0009312666949537744}, {\"Year\": 2050, \"Land use\": \"Sheep\", \"Irrigation\": \"irr\", \"Sources\": \"TCO2E_FERT_PROD\", \"Quantity (Mt CO2e)\": 4.722714215133692e-05}, {\"Year\": 2050, \"Land use\": \"Sheep\", \"Irrigation\": \"irr\", \"Sources\": \"TCO2E_FODDER\", \"Quantity (Mt CO2e)\": 3.233995152785951e-05}, {\"Year\": 2050, \"Land use\": \"Sheep\", \"Irrigation\": \"irr\", \"Sources\": \"TCO2E_FUEL\", \"Quantity (Mt CO2e)\": 0.00025796382763628573}, {\"Year\": 2050, \"Land use\": \"Sheep\", \"Irrigation\": \"irr\", \"Sources\": \"TCO2E_HARVEST\", \"Quantity (Mt CO2e)\": 0.0}, {\"Year\": 2050, \"Land use\": \"Sheep\", \"Irrigation\": \"irr\", \"Sources\": \"TCO2E_IND_LEACH_RUNOFF\", \"Quantity (Mt CO2e)\": 0.00011958641834794436}, {\"Year\": 2050, \"Land use\": \"Sheep\", \"Irrigation\": \"irr\", \"Sources\": \"TCO2E_IRRIG\", \"Quantity (Mt CO2e)\": 6.2372465182775724e-06}, {\"Year\": 2050, \"Land use\": \"Sheep\", \"Irrigation\": \"irr\", \"Sources\": \"TCO2E_MANURE_MGT\", \"Quantity (Mt CO2e)\": 1.585449249402959e-07}, {\"Year\": 2050, \"Land use\": \"Sheep\", \"Irrigation\": \"irr\", \"Sources\": \"TCO2E_PEST_PROD\", \"Quantity (Mt CO2e)\": 1.314382113569934e-05}, {\"Year\": 2050, \"Land use\": \"Sheep\", \"Irrigation\": \"irr\", \"Sources\": \"TCO2E_SEED\", \"Quantity (Mt CO2e)\": 5.63241985489924e-06}, {\"Year\": 2050, \"Land use\": \"Sheep\", \"Irrigation\": \"irr\", \"Sources\": \"TCO2E_SOIL\", \"Quantity (Mt CO2e)\": 9.650981647198478e-05}, {\"Year\": 2050, \"Land use\": \"Sheep\", \"Irrigation\": \"irr\", \"Sources\": \"TCO2E_SOWING\", \"Quantity (Mt CO2e)\": 4.441793489868928e-06}, {\"Year\": 2050, \"Land use\": \"Stone fruit\", \"Irrigation\": \"dry\", \"Sources\": \"TCO2E_CHEM_APPL\", \"Quantity (Mt CO2e)\": 0.0}, {\"Year\": 2050, \"Land use\": \"Stone fruit\", \"Irrigation\": \"dry\", \"Sources\": \"TCO2E_CROP_MGT\", \"Quantity (Mt CO2e)\": 0.0}, {\"Year\": 2050, \"Land use\": \"Stone fruit\", \"Irrigation\": \"dry\", \"Sources\": \"TCO2E_CULTIV\", \"Quantity (Mt CO2e)\": 0.0}, {\"Year\": 2050, \"Land use\": \"Stone fruit\", \"Irrigation\": \"dry\", \"Sources\": \"TCO2E_DUNG_URINE\", \"Quantity (Mt CO2e)\": 0.0}, {\"Year\": 2050, \"Land use\": \"Stone fruit\", \"Irrigation\": \"dry\", \"Sources\": \"TCO2E_ELEC\", \"Quantity (Mt CO2e)\": 0.0}, {\"Year\": 2050, \"Land use\": \"Stone fruit\", \"Irrigation\": \"dry\", \"Sources\": \"TCO2E_ENTERIC\", \"Quantity (Mt CO2e)\": 0.0}, {\"Year\": 2050, \"Land use\": \"Stone fruit\", \"Irrigation\": \"dry\", \"Sources\": \"TCO2E_FERT_PROD\", \"Quantity (Mt CO2e)\": 0.0}, {\"Year\": 2050, \"Land use\": \"Stone fruit\", \"Irrigation\": \"dry\", \"Sources\": \"TCO2E_FODDER\", \"Quantity (Mt CO2e)\": 0.0}, {\"Year\": 2050, \"Land use\": \"Stone fruit\", \"Irrigation\": \"dry\", \"Sources\": \"TCO2E_FUEL\", \"Quantity (Mt CO2e)\": 0.0}, {\"Year\": 2050, \"Land use\": \"Stone fruit\", \"Irrigation\": \"dry\", \"Sources\": \"TCO2E_HARVEST\", \"Quantity (Mt CO2e)\": 0.0}, {\"Year\": 2050, \"Land use\": \"Stone fruit\", \"Irrigation\": \"dry\", \"Sources\": \"TCO2E_IND_LEACH_RUNOFF\", \"Quantity (Mt CO2e)\": 0.0}, {\"Year\": 2050, \"Land use\": \"Stone fruit\", \"Irrigation\": \"dry\", \"Sources\": \"TCO2E_IRRIG\", \"Quantity (Mt CO2e)\": 0.0}, {\"Year\": 2050, \"Land use\": \"Stone fruit\", \"Irrigation\": \"dry\", \"Sources\": \"TCO2E_MANURE_MGT\", \"Quantity (Mt CO2e)\": 0.0}, {\"Year\": 2050, \"Land use\": \"Stone fruit\", \"Irrigation\": \"dry\", \"Sources\": \"TCO2E_PEST_PROD\", \"Quantity (Mt CO2e)\": 0.0}, {\"Year\": 2050, \"Land use\": \"Stone fruit\", \"Irrigation\": \"dry\", \"Sources\": \"TCO2E_SEED\", \"Quantity (Mt CO2e)\": 0.0}, {\"Year\": 2050, \"Land use\": \"Stone fruit\", \"Irrigation\": \"dry\", \"Sources\": \"TCO2E_SOIL\", \"Quantity (Mt CO2e)\": 0.0}, {\"Year\": 2050, \"Land use\": \"Stone fruit\", \"Irrigation\": \"dry\", \"Sources\": \"TCO2E_SOWING\", \"Quantity (Mt CO2e)\": 0.0}, {\"Year\": 2050, \"Land use\": \"Stone fruit\", \"Irrigation\": \"irr\", \"Sources\": \"TCO2E_CHEM_APPL\", \"Quantity (Mt CO2e)\": 0.005453221290657873}, {\"Year\": 2050, \"Land use\": \"Stone fruit\", \"Irrigation\": \"irr\", \"Sources\": \"TCO2E_CROP_MGT\", \"Quantity (Mt CO2e)\": 0.0015656777849143446}, {\"Year\": 2050, \"Land use\": \"Stone fruit\", \"Irrigation\": \"irr\", \"Sources\": \"TCO2E_CULTIV\", \"Quantity (Mt CO2e)\": 0.004563889042709432}, {\"Year\": 2050, \"Land use\": \"Stone fruit\", \"Irrigation\": \"irr\", \"Sources\": \"TCO2E_DUNG_URINE\", \"Quantity (Mt CO2e)\": 0.0}, {\"Year\": 2050, \"Land use\": \"Stone fruit\", \"Irrigation\": \"irr\", \"Sources\": \"TCO2E_ELEC\", \"Quantity (Mt CO2e)\": 0.0}, {\"Year\": 2050, \"Land use\": \"Stone fruit\", \"Irrigation\": \"irr\", \"Sources\": \"TCO2E_ENTERIC\", \"Quantity (Mt CO2e)\": 0.0}, {\"Year\": 2050, \"Land use\": \"Stone fruit\", \"Irrigation\": \"irr\", \"Sources\": \"TCO2E_FERT_PROD\", \"Quantity (Mt CO2e)\": 0.007793401773155412}, {\"Year\": 2050, \"Land use\": \"Stone fruit\", \"Irrigation\": \"irr\", \"Sources\": \"TCO2E_FODDER\", \"Quantity (Mt CO2e)\": 0.0}, {\"Year\": 2050, \"Land use\": \"Stone fruit\", \"Irrigation\": \"irr\", \"Sources\": \"TCO2E_FUEL\", \"Quantity (Mt CO2e)\": 0.0}, {\"Year\": 2050, \"Land use\": \"Stone fruit\", \"Irrigation\": \"irr\", \"Sources\": \"TCO2E_HARVEST\", \"Quantity (Mt CO2e)\": 0.001084570085918781}, {\"Year\": 2050, \"Land use\": \"Stone fruit\", \"Irrigation\": \"irr\", \"Sources\": \"TCO2E_IND_LEACH_RUNOFF\", \"Quantity (Mt CO2e)\": 0.0}, {\"Year\": 2050, \"Land use\": \"Stone fruit\", \"Irrigation\": \"irr\", \"Sources\": \"TCO2E_IRRIG\", \"Quantity (Mt CO2e)\": 0.001502188577944407}, {\"Year\": 2050, \"Land use\": \"Stone fruit\", \"Irrigation\": \"irr\", \"Sources\": \"TCO2E_MANURE_MGT\", \"Quantity (Mt CO2e)\": 0.0}, {\"Year\": 2050, \"Land use\": \"Stone fruit\", \"Irrigation\": \"irr\", \"Sources\": \"TCO2E_PEST_PROD\", \"Quantity (Mt CO2e)\": 0.008861155978141152}, {\"Year\": 2050, \"Land use\": \"Stone fruit\", \"Irrigation\": \"irr\", \"Sources\": \"TCO2E_SEED\", \"Quantity (Mt CO2e)\": 0.0}, {\"Year\": 2050, \"Land use\": \"Stone fruit\", \"Irrigation\": \"irr\", \"Sources\": \"TCO2E_SOIL\", \"Quantity (Mt CO2e)\": 0.023079474036162895}, {\"Year\": 2050, \"Land use\": \"Stone fruit\", \"Irrigation\": \"irr\", \"Sources\": \"TCO2E_SOWING\", \"Quantity (Mt CO2e)\": 7.928315770626068e-05}, {\"Year\": 2050, \"Land use\": \"Sugar\", \"Irrigation\": \"dry\", \"Sources\": \"TCO2E_CHEM_APPL\", \"Quantity (Mt CO2e)\": 0.013686723449092136}, {\"Year\": 2050, \"Land use\": \"Sugar\", \"Irrigation\": \"dry\", \"Sources\": \"TCO2E_CROP_MGT\", \"Quantity (Mt CO2e)\": 1.7805077154327137e-05}, {\"Year\": 2050, \"Land use\": \"Sugar\", \"Irrigation\": \"dry\", \"Sources\": \"TCO2E_CULTIV\", \"Quantity (Mt CO2e)\": 0.05025831645720604}, {\"Year\": 2050, \"Land use\": \"Sugar\", \"Irrigation\": \"dry\", \"Sources\": \"TCO2E_DUNG_URINE\", \"Quantity (Mt CO2e)\": 0.0}, {\"Year\": 2050, \"Land use\": \"Sugar\", \"Irrigation\": \"dry\", \"Sources\": \"TCO2E_ELEC\", \"Quantity (Mt CO2e)\": 0.0}, {\"Year\": 2050, \"Land use\": \"Sugar\", \"Irrigation\": \"dry\", \"Sources\": \"TCO2E_ENTERIC\", \"Quantity (Mt CO2e)\": 0.0}, {\"Year\": 2050, \"Land use\": \"Sugar\", \"Irrigation\": \"dry\", \"Sources\": \"TCO2E_FERT_PROD\", \"Quantity (Mt CO2e)\": 0.10162806585868837}, {\"Year\": 2050, \"Land use\": \"Sugar\", \"Irrigation\": \"dry\", \"Sources\": \"TCO2E_FODDER\", \"Quantity (Mt CO2e)\": 0.0}, {\"Year\": 2050, \"Land use\": \"Sugar\", \"Irrigation\": \"dry\", \"Sources\": \"TCO2E_FUEL\", \"Quantity (Mt CO2e)\": 0.0}, {\"Year\": 2050, \"Land use\": \"Sugar\", \"Irrigation\": \"dry\", \"Sources\": \"TCO2E_HARVEST\", \"Quantity (Mt CO2e)\": 0.002336084930771747}, {\"Year\": 2050, \"Land use\": \"Sugar\", \"Irrigation\": \"dry\", \"Sources\": \"TCO2E_IND_LEACH_RUNOFF\", \"Quantity (Mt CO2e)\": 0.0}, {\"Year\": 2050, \"Land use\": \"Sugar\", \"Irrigation\": \"dry\", \"Sources\": \"TCO2E_IRRIG\", \"Quantity (Mt CO2e)\": 0.0}, {\"Year\": 2050, \"Land use\": \"Sugar\", \"Irrigation\": \"dry\", \"Sources\": \"TCO2E_MANURE_MGT\", \"Quantity (Mt CO2e)\": 0.0}, {\"Year\": 2050, \"Land use\": \"Sugar\", \"Irrigation\": \"dry\", \"Sources\": \"TCO2E_PEST_PROD\", \"Quantity (Mt CO2e)\": 0.06341601678510048}, {\"Year\": 2050, \"Land use\": \"Sugar\", \"Irrigation\": \"dry\", \"Sources\": \"TCO2E_SEED\", \"Quantity (Mt CO2e)\": 0.0}, {\"Year\": 2050, \"Land use\": \"Sugar\", \"Irrigation\": \"dry\", \"Sources\": \"TCO2E_SOIL\", \"Quantity (Mt CO2e)\": 0.3062622458532153}, {\"Year\": 2050, \"Land use\": \"Sugar\", \"Irrigation\": \"dry\", \"Sources\": \"TCO2E_SOWING\", \"Quantity (Mt CO2e)\": 0.011989492501229047}, {\"Year\": 2050, \"Land use\": \"Sugar\", \"Irrigation\": \"irr\", \"Sources\": \"TCO2E_CHEM_APPL\", \"Quantity (Mt CO2e)\": 0.006047240814208985}, {\"Year\": 2050, \"Land use\": \"Sugar\", \"Irrigation\": \"irr\", \"Sources\": \"TCO2E_CROP_MGT\", \"Quantity (Mt CO2e)\": 0.0}, {\"Year\": 2050, \"Land use\": \"Sugar\", \"Irrigation\": \"irr\", \"Sources\": \"TCO2E_CULTIV\", \"Quantity (Mt CO2e)\": 0.021039555908203125}, {\"Year\": 2050, \"Land use\": \"Sugar\", \"Irrigation\": \"irr\", \"Sources\": \"TCO2E_DUNG_URINE\", \"Quantity (Mt CO2e)\": 0.0}, {\"Year\": 2050, \"Land use\": \"Sugar\", \"Irrigation\": \"irr\", \"Sources\": \"TCO2E_ELEC\", \"Quantity (Mt CO2e)\": 0.0}, {\"Year\": 2050, \"Land use\": \"Sugar\", \"Irrigation\": \"irr\", \"Sources\": \"TCO2E_ENTERIC\", \"Quantity (Mt CO2e)\": 0.0}, {\"Year\": 2050, \"Land use\": \"Sugar\", \"Irrigation\": \"irr\", \"Sources\": \"TCO2E_FERT_PROD\", \"Quantity (Mt CO2e)\": 0.04446448522949219}, {\"Year\": 2050, \"Land use\": \"Sugar\", \"Irrigation\": \"irr\", \"Sources\": \"TCO2E_FODDER\", \"Quantity (Mt CO2e)\": 0.0}, {\"Year\": 2050, \"Land use\": \"Sugar\", \"Irrigation\": \"irr\", \"Sources\": \"TCO2E_FUEL\", \"Quantity (Mt CO2e)\": 0.0}, {\"Year\": 2050, \"Land use\": \"Sugar\", \"Irrigation\": \"irr\", \"Sources\": \"TCO2E_HARVEST\", \"Quantity (Mt CO2e)\": 0.0009732319221496582}, {\"Year\": 2050, \"Land use\": \"Sugar\", \"Irrigation\": \"irr\", \"Sources\": \"TCO2E_IND_LEACH_RUNOFF\", \"Quantity (Mt CO2e)\": 0.0}, {\"Year\": 2050, \"Land use\": \"Sugar\", \"Irrigation\": \"irr\", \"Sources\": \"TCO2E_IRRIG\", \"Quantity (Mt CO2e)\": 0.020163765762329103}, {\"Year\": 2050, \"Land use\": \"Sugar\", \"Irrigation\": \"irr\", \"Sources\": \"TCO2E_MANURE_MGT\", \"Quantity (Mt CO2e)\": 0.0}, {\"Year\": 2050, \"Land use\": \"Sugar\", \"Irrigation\": \"irr\", \"Sources\": \"TCO2E_PEST_PROD\", \"Quantity (Mt CO2e)\": 0.030270782836914062}, {\"Year\": 2050, \"Land use\": \"Sugar\", \"Irrigation\": \"irr\", \"Sources\": \"TCO2E_SEED\", \"Quantity (Mt CO2e)\": 0.0}, {\"Year\": 2050, \"Land use\": \"Sugar\", \"Irrigation\": \"irr\", \"Sources\": \"TCO2E_SOIL\", \"Quantity (Mt CO2e)\": 0.1474045251464844}, {\"Year\": 2050, \"Land use\": \"Sugar\", \"Irrigation\": \"irr\", \"Sources\": \"TCO2E_SOWING\", \"Quantity (Mt CO2e)\": 0.006279985443115235}, {\"Year\": 2050, \"Land use\": \"Summer cereals\", \"Irrigation\": \"dry\", \"Sources\": \"TCO2E_CHEM_APPL\", \"Quantity (Mt CO2e)\": 0.01676859585571289}, {\"Year\": 2050, \"Land use\": \"Summer cereals\", \"Irrigation\": \"dry\", \"Sources\": \"TCO2E_CROP_MGT\", \"Quantity (Mt CO2e)\": 0.0}, {\"Year\": 2050, \"Land use\": \"Summer cereals\", \"Irrigation\": \"dry\", \"Sources\": \"TCO2E_CULTIV\", \"Quantity (Mt CO2e)\": 0.046663070892333985}, {\"Year\": 2050, \"Land use\": \"Summer cereals\", \"Irrigation\": \"dry\", \"Sources\": \"TCO2E_DUNG_URINE\", \"Quantity (Mt CO2e)\": 0.0}, {\"Year\": 2050, \"Land use\": \"Summer cereals\", \"Irrigation\": \"dry\", \"Sources\": \"TCO2E_ELEC\", \"Quantity (Mt CO2e)\": 0.0}, {\"Year\": 2050, \"Land use\": \"Summer cereals\", \"Irrigation\": \"dry\", \"Sources\": \"TCO2E_ENTERIC\", \"Quantity (Mt CO2e)\": 0.0}, {\"Year\": 2050, \"Land use\": \"Summer cereals\", \"Irrigation\": \"dry\", \"Sources\": \"TCO2E_FERT_PROD\", \"Quantity (Mt CO2e)\": 0.05372271801757812}, {\"Year\": 2050, \"Land use\": \"Summer cereals\", \"Irrigation\": \"dry\", \"Sources\": \"TCO2E_FODDER\", \"Quantity (Mt CO2e)\": 0.0}, {\"Year\": 2050, \"Land use\": \"Summer cereals\", \"Irrigation\": \"dry\", \"Sources\": \"TCO2E_FUEL\", \"Quantity (Mt CO2e)\": 0.0}, {\"Year\": 2050, \"Land use\": \"Summer cereals\", \"Irrigation\": \"dry\", \"Sources\": \"TCO2E_HARVEST\", \"Quantity (Mt CO2e)\": 0.009997279178619384}, {\"Year\": 2050, \"Land use\": \"Summer cereals\", \"Irrigation\": \"dry\", \"Sources\": \"TCO2E_IND_LEACH_RUNOFF\", \"Quantity (Mt CO2e)\": 0.0}, {\"Year\": 2050, \"Land use\": \"Summer cereals\", \"Irrigation\": \"dry\", \"Sources\": \"TCO2E_IRRIG\", \"Quantity (Mt CO2e)\": 0.0}, {\"Year\": 2050, \"Land use\": \"Summer cereals\", \"Irrigation\": \"dry\", \"Sources\": \"TCO2E_MANURE_MGT\", \"Quantity (Mt CO2e)\": 0.0}, {\"Year\": 2050, \"Land use\": \"Summer cereals\", \"Irrigation\": \"dry\", \"Sources\": \"TCO2E_PEST_PROD\", \"Quantity (Mt CO2e)\": 0.07427935647583007}, {\"Year\": 2050, \"Land use\": \"Summer cereals\", \"Irrigation\": \"dry\", \"Sources\": \"TCO2E_SEED\", \"Quantity (Mt CO2e)\": 0.0}, {\"Year\": 2050, \"Land use\": \"Summer cereals\", \"Irrigation\": \"dry\", \"Sources\": \"TCO2E_SOIL\", \"Quantity (Mt CO2e)\": 0.012974435386657717}, {\"Year\": 2050, \"Land use\": \"Summer cereals\", \"Irrigation\": \"dry\", \"Sources\": \"TCO2E_SOWING\", \"Quantity (Mt CO2e)\": 0.01233600867843628}, {\"Year\": 2050, \"Land use\": \"Summer cereals\", \"Irrigation\": \"irr\", \"Sources\": \"TCO2E_CHEM_APPL\", \"Quantity (Mt CO2e)\": 0.00014744435119628906}, {\"Year\": 2050, \"Land use\": \"Summer cereals\", \"Irrigation\": \"irr\", \"Sources\": \"TCO2E_CROP_MGT\", \"Quantity (Mt CO2e)\": 0.0}, {\"Year\": 2050, \"Land use\": \"Summer cereals\", \"Irrigation\": \"irr\", \"Sources\": \"TCO2E_CULTIV\", \"Quantity (Mt CO2e)\": 0.0004555457763671875}, {\"Year\": 2050, \"Land use\": \"Summer cereals\", \"Irrigation\": \"irr\", \"Sources\": \"TCO2E_DUNG_URINE\", \"Quantity (Mt CO2e)\": 0.0}, {\"Year\": 2050, \"Land use\": \"Summer cereals\", \"Irrigation\": \"irr\", \"Sources\": \"TCO2E_ELEC\", \"Quantity (Mt CO2e)\": 0.0}, {\"Year\": 2050, \"Land use\": \"Summer cereals\", \"Irrigation\": \"irr\", \"Sources\": \"TCO2E_ENTERIC\", \"Quantity (Mt CO2e)\": 0.0}, {\"Year\": 2050, \"Land use\": \"Summer cereals\", \"Irrigation\": \"irr\", \"Sources\": \"TCO2E_FERT_PROD\", \"Quantity (Mt CO2e)\": 0.0004205186157226562}, {\"Year\": 2050, \"Land use\": \"Summer cereals\", \"Irrigation\": \"irr\", \"Sources\": \"TCO2E_FODDER\", \"Quantity (Mt CO2e)\": 0.0}, {\"Year\": 2050, \"Land use\": \"Summer cereals\", \"Irrigation\": \"irr\", \"Sources\": \"TCO2E_FUEL\", \"Quantity (Mt CO2e)\": 0.0}, {\"Year\": 2050, \"Land use\": \"Summer cereals\", \"Irrigation\": \"irr\", \"Sources\": \"TCO2E_HARVEST\", \"Quantity (Mt CO2e)\": 3.047633171081543e-05}, {\"Year\": 2050, \"Land use\": \"Summer cereals\", \"Irrigation\": \"irr\", \"Sources\": \"TCO2E_IND_LEACH_RUNOFF\", \"Quantity (Mt CO2e)\": 0.0}, {\"Year\": 2050, \"Land use\": \"Summer cereals\", \"Irrigation\": \"irr\", \"Sources\": \"TCO2E_IRRIG\", \"Quantity (Mt CO2e)\": 0.0002212558135986328}, {\"Year\": 2050, \"Land use\": \"Summer cereals\", \"Irrigation\": \"irr\", \"Sources\": \"TCO2E_MANURE_MGT\", \"Quantity (Mt CO2e)\": 0.0}, {\"Year\": 2050, \"Land use\": \"Summer cereals\", \"Irrigation\": \"irr\", \"Sources\": \"TCO2E_PEST_PROD\", \"Quantity (Mt CO2e)\": 0.0004613658142089844}, {\"Year\": 2050, \"Land use\": \"Summer cereals\", \"Irrigation\": \"irr\", \"Sources\": \"TCO2E_SEED\", \"Quantity (Mt CO2e)\": 0.0}, {\"Year\": 2050, \"Land use\": \"Summer cereals\", \"Irrigation\": \"irr\", \"Sources\": \"TCO2E_SOIL\", \"Quantity (Mt CO2e)\": 0.0005999714965820313}, {\"Year\": 2050, \"Land use\": \"Summer cereals\", \"Irrigation\": \"irr\", \"Sources\": \"TCO2E_SOWING\", \"Quantity (Mt CO2e)\": 6.115015029907227e-05}, {\"Year\": 2050, \"Land use\": \"Summer legumes\", \"Irrigation\": \"dry\", \"Sources\": \"TCO2E_CHEM_APPL\", \"Quantity (Mt CO2e)\": 0.0}, {\"Year\": 2050, \"Land use\": \"Summer legumes\", \"Irrigation\": \"dry\", \"Sources\": \"TCO2E_CROP_MGT\", \"Quantity (Mt CO2e)\": 0.0}, {\"Year\": 2050, \"Land use\": \"Summer legumes\", \"Irrigation\": \"dry\", \"Sources\": \"TCO2E_CULTIV\", \"Quantity (Mt CO2e)\": 0.0}, {\"Year\": 2050, \"Land use\": \"Summer legumes\", \"Irrigation\": \"dry\", \"Sources\": \"TCO2E_DUNG_URINE\", \"Quantity (Mt CO2e)\": 0.0}, {\"Year\": 2050, \"Land use\": \"Summer legumes\", \"Irrigation\": \"dry\", \"Sources\": \"TCO2E_ELEC\", \"Quantity (Mt CO2e)\": 0.0}, {\"Year\": 2050, \"Land use\": \"Summer legumes\", \"Irrigation\": \"dry\", \"Sources\": \"TCO2E_ENTERIC\", \"Quantity (Mt CO2e)\": 0.0}, {\"Year\": 2050, \"Land use\": \"Summer legumes\", \"Irrigation\": \"dry\", \"Sources\": \"TCO2E_FERT_PROD\", \"Quantity (Mt CO2e)\": 0.0}, {\"Year\": 2050, \"Land use\": \"Summer legumes\", \"Irrigation\": \"dry\", \"Sources\": \"TCO2E_FODDER\", \"Quantity (Mt CO2e)\": 0.0}, {\"Year\": 2050, \"Land use\": \"Summer legumes\", \"Irrigation\": \"dry\", \"Sources\": \"TCO2E_FUEL\", \"Quantity (Mt CO2e)\": 0.0}, {\"Year\": 2050, \"Land use\": \"Summer legumes\", \"Irrigation\": \"dry\", \"Sources\": \"TCO2E_HARVEST\", \"Quantity (Mt CO2e)\": 0.0}, {\"Year\": 2050, \"Land use\": \"Summer legumes\", \"Irrigation\": \"dry\", \"Sources\": \"TCO2E_IND_LEACH_RUNOFF\", \"Quantity (Mt CO2e)\": 0.0}, {\"Year\": 2050, \"Land use\": \"Summer legumes\", \"Irrigation\": \"dry\", \"Sources\": \"TCO2E_IRRIG\", \"Quantity (Mt CO2e)\": 0.0}, {\"Year\": 2050, \"Land use\": \"Summer legumes\", \"Irrigation\": \"dry\", \"Sources\": \"TCO2E_MANURE_MGT\", \"Quantity (Mt CO2e)\": 0.0}, {\"Year\": 2050, \"Land use\": \"Summer legumes\", \"Irrigation\": \"dry\", \"Sources\": \"TCO2E_PEST_PROD\", \"Quantity (Mt CO2e)\": 0.0}, {\"Year\": 2050, \"Land use\": \"Summer legumes\", \"Irrigation\": \"dry\", \"Sources\": \"TCO2E_SEED\", \"Quantity (Mt CO2e)\": 0.0}, {\"Year\": 2050, \"Land use\": \"Summer legumes\", \"Irrigation\": \"dry\", \"Sources\": \"TCO2E_SOIL\", \"Quantity (Mt CO2e)\": 0.0}, {\"Year\": 2050, \"Land use\": \"Summer legumes\", \"Irrigation\": \"dry\", \"Sources\": \"TCO2E_SOWING\", \"Quantity (Mt CO2e)\": 0.0}, {\"Year\": 2050, \"Land use\": \"Summer legumes\", \"Irrigation\": \"irr\", \"Sources\": \"TCO2E_CHEM_APPL\", \"Quantity (Mt CO2e)\": 0.002357891845703125}, {\"Year\": 2050, \"Land use\": \"Summer legumes\", \"Irrigation\": \"irr\", \"Sources\": \"TCO2E_CROP_MGT\", \"Quantity (Mt CO2e)\": 0.00010278013801574708}, {\"Year\": 2050, \"Land use\": \"Summer legumes\", \"Irrigation\": \"irr\", \"Sources\": \"TCO2E_CULTIV\", \"Quantity (Mt CO2e)\": 0.003835549957275391}, {\"Year\": 2050, \"Land use\": \"Summer legumes\", \"Irrigation\": \"irr\", \"Sources\": \"TCO2E_DUNG_URINE\", \"Quantity (Mt CO2e)\": 0.0}, {\"Year\": 2050, \"Land use\": \"Summer legumes\", \"Irrigation\": \"irr\", \"Sources\": \"TCO2E_ELEC\", \"Quantity (Mt CO2e)\": 0.0}, {\"Year\": 2050, \"Land use\": \"Summer legumes\", \"Irrigation\": \"irr\", \"Sources\": \"TCO2E_ENTERIC\", \"Quantity (Mt CO2e)\": 0.0}, {\"Year\": 2050, \"Land use\": \"Summer legumes\", \"Irrigation\": \"irr\", \"Sources\": \"TCO2E_FERT_PROD\", \"Quantity (Mt CO2e)\": 0.0014424624557495115}, {\"Year\": 2050, \"Land use\": \"Summer legumes\", \"Irrigation\": \"irr\", \"Sources\": \"TCO2E_FODDER\", \"Quantity (Mt CO2e)\": 0.0}, {\"Year\": 2050, \"Land use\": \"Summer legumes\", \"Irrigation\": \"irr\", \"Sources\": \"TCO2E_FUEL\", \"Quantity (Mt CO2e)\": 0.0}, {\"Year\": 2050, \"Land use\": \"Summer legumes\", \"Irrigation\": \"irr\", \"Sources\": \"TCO2E_HARVEST\", \"Quantity (Mt CO2e)\": 0.0004772677764892578}, {\"Year\": 2050, \"Land use\": \"Summer legumes\", \"Irrigation\": \"irr\", \"Sources\": \"TCO2E_IND_LEACH_RUNOFF\", \"Quantity (Mt CO2e)\": 0.0}, {\"Year\": 2050, \"Land use\": \"Summer legumes\", \"Irrigation\": \"irr\", \"Sources\": \"TCO2E_IRRIG\", \"Quantity (Mt CO2e)\": 0.0012067926788330078}, {\"Year\": 2050, \"Land use\": \"Summer legumes\", \"Irrigation\": \"irr\", \"Sources\": \"TCO2E_MANURE_MGT\", \"Quantity (Mt CO2e)\": 0.0}, {\"Year\": 2050, \"Land use\": \"Summer legumes\", \"Irrigation\": \"irr\", \"Sources\": \"TCO2E_PEST_PROD\", \"Quantity (Mt CO2e)\": 0.001645260986328125}, {\"Year\": 2050, \"Land use\": \"Summer legumes\", \"Irrigation\": \"irr\", \"Sources\": \"TCO2E_SEED\", \"Quantity (Mt CO2e)\": 0.0}, {\"Year\": 2050, \"Land use\": \"Summer legumes\", \"Irrigation\": \"irr\", \"Sources\": \"TCO2E_SOIL\", \"Quantity (Mt CO2e)\": 0.0004646172714233398}, {\"Year\": 2050, \"Land use\": \"Summer legumes\", \"Irrigation\": \"irr\", \"Sources\": \"TCO2E_SOWING\", \"Quantity (Mt CO2e)\": 0.0}, {\"Year\": 2050, \"Land use\": \"Summer oilseeds\", \"Irrigation\": \"dry\", \"Sources\": \"TCO2E_CHEM_APPL\", \"Quantity (Mt CO2e)\": 0.0014379259370052929}, {\"Year\": 2050, \"Land use\": \"Summer oilseeds\", \"Irrigation\": \"dry\", \"Sources\": \"TCO2E_CROP_MGT\", \"Quantity (Mt CO2e)\": 0.0}, {\"Year\": 2050, \"Land use\": \"Summer oilseeds\", \"Irrigation\": \"dry\", \"Sources\": \"TCO2E_CULTIV\", \"Quantity (Mt CO2e)\": 0.0}, {\"Year\": 2050, \"Land use\": \"Summer oilseeds\", \"Irrigation\": \"dry\", \"Sources\": \"TCO2E_DUNG_URINE\", \"Quantity (Mt CO2e)\": 0.0}, {\"Year\": 2050, \"Land use\": \"Summer oilseeds\", \"Irrigation\": \"dry\", \"Sources\": \"TCO2E_ELEC\", \"Quantity (Mt CO2e)\": 0.0}, {\"Year\": 2050, \"Land use\": \"Summer oilseeds\", \"Irrigation\": \"dry\", \"Sources\": \"TCO2E_ENTERIC\", \"Quantity (Mt CO2e)\": 0.0}, {\"Year\": 2050, \"Land use\": \"Summer oilseeds\", \"Irrigation\": \"dry\", \"Sources\": \"TCO2E_FERT_PROD\", \"Quantity (Mt CO2e)\": 0.004803999566350436}, {\"Year\": 2050, \"Land use\": \"Summer oilseeds\", \"Irrigation\": \"dry\", \"Sources\": \"TCO2E_FODDER\", \"Quantity (Mt CO2e)\": 0.0}, {\"Year\": 2050, \"Land use\": \"Summer oilseeds\", \"Irrigation\": \"dry\", \"Sources\": \"TCO2E_FUEL\", \"Quantity (Mt CO2e)\": 0.0}, {\"Year\": 2050, \"Land use\": \"Summer oilseeds\", \"Irrigation\": \"dry\", \"Sources\": \"TCO2E_HARVEST\", \"Quantity (Mt CO2e)\": 0.0004358576940303885}, {\"Year\": 2050, \"Land use\": \"Summer oilseeds\", \"Irrigation\": \"dry\", \"Sources\": \"TCO2E_IND_LEACH_RUNOFF\", \"Quantity (Mt CO2e)\": 0.0}, {\"Year\": 2050, \"Land use\": \"Summer oilseeds\", \"Irrigation\": \"dry\", \"Sources\": \"TCO2E_IRRIG\", \"Quantity (Mt CO2e)\": 0.0}, {\"Year\": 2050, \"Land use\": \"Summer oilseeds\", \"Irrigation\": \"dry\", \"Sources\": \"TCO2E_MANURE_MGT\", \"Quantity (Mt CO2e)\": 0.0}, {\"Year\": 2050, \"Land use\": \"Summer oilseeds\", \"Irrigation\": \"dry\", \"Sources\": \"TCO2E_PEST_PROD\", \"Quantity (Mt CO2e)\": 0.0049366514194722376}, {\"Year\": 2050, \"Land use\": \"Summer oilseeds\", \"Irrigation\": \"dry\", \"Sources\": \"TCO2E_SEED\", \"Quantity (Mt CO2e)\": 0.0}, {\"Year\": 2050, \"Land use\": \"Summer oilseeds\", \"Irrigation\": \"dry\", \"Sources\": \"TCO2E_SOIL\", \"Quantity (Mt CO2e)\": 0.0011776975653395448}, {\"Year\": 2050, \"Land use\": \"Summer oilseeds\", \"Irrigation\": \"dry\", \"Sources\": \"TCO2E_SOWING\", \"Quantity (Mt CO2e)\": 0.0012181786338514725}, {\"Year\": 2050, \"Land use\": \"Summer oilseeds\", \"Irrigation\": \"irr\", \"Sources\": \"TCO2E_CHEM_APPL\", \"Quantity (Mt CO2e)\": 0.0}, {\"Year\": 2050, \"Land use\": \"Summer oilseeds\", \"Irrigation\": \"irr\", \"Sources\": \"TCO2E_CROP_MGT\", \"Quantity (Mt CO2e)\": 0.0}, {\"Year\": 2050, \"Land use\": \"Summer oilseeds\", \"Irrigation\": \"irr\", \"Sources\": \"TCO2E_CULTIV\", \"Quantity (Mt CO2e)\": 0.0}, {\"Year\": 2050, \"Land use\": \"Summer oilseeds\", \"Irrigation\": \"irr\", \"Sources\": \"TCO2E_DUNG_URINE\", \"Quantity (Mt CO2e)\": 0.0}, {\"Year\": 2050, \"Land use\": \"Summer oilseeds\", \"Irrigation\": \"irr\", \"Sources\": \"TCO2E_ELEC\", \"Quantity (Mt CO2e)\": 0.0}, {\"Year\": 2050, \"Land use\": \"Summer oilseeds\", \"Irrigation\": \"irr\", \"Sources\": \"TCO2E_ENTERIC\", \"Quantity (Mt CO2e)\": 0.0}, {\"Year\": 2050, \"Land use\": \"Summer oilseeds\", \"Irrigation\": \"irr\", \"Sources\": \"TCO2E_FERT_PROD\", \"Quantity (Mt CO2e)\": 0.0}, {\"Year\": 2050, \"Land use\": \"Summer oilseeds\", \"Irrigation\": \"irr\", \"Sources\": \"TCO2E_FODDER\", \"Quantity (Mt CO2e)\": 0.0}, {\"Year\": 2050, \"Land use\": \"Summer oilseeds\", \"Irrigation\": \"irr\", \"Sources\": \"TCO2E_FUEL\", \"Quantity (Mt CO2e)\": 0.0}, {\"Year\": 2050, \"Land use\": \"Summer oilseeds\", \"Irrigation\": \"irr\", \"Sources\": \"TCO2E_HARVEST\", \"Quantity (Mt CO2e)\": 0.0}, {\"Year\": 2050, \"Land use\": \"Summer oilseeds\", \"Irrigation\": \"irr\", \"Sources\": \"TCO2E_IND_LEACH_RUNOFF\", \"Quantity (Mt CO2e)\": 0.0}, {\"Year\": 2050, \"Land use\": \"Summer oilseeds\", \"Irrigation\": \"irr\", \"Sources\": \"TCO2E_IRRIG\", \"Quantity (Mt CO2e)\": 0.0}, {\"Year\": 2050, \"Land use\": \"Summer oilseeds\", \"Irrigation\": \"irr\", \"Sources\": \"TCO2E_MANURE_MGT\", \"Quantity (Mt CO2e)\": 0.0}, {\"Year\": 2050, \"Land use\": \"Summer oilseeds\", \"Irrigation\": \"irr\", \"Sources\": \"TCO2E_PEST_PROD\", \"Quantity (Mt CO2e)\": 0.0}, {\"Year\": 2050, \"Land use\": \"Summer oilseeds\", \"Irrigation\": \"irr\", \"Sources\": \"TCO2E_SEED\", \"Quantity (Mt CO2e)\": 0.0}, {\"Year\": 2050, \"Land use\": \"Summer oilseeds\", \"Irrigation\": \"irr\", \"Sources\": \"TCO2E_SOIL\", \"Quantity (Mt CO2e)\": 0.0}, {\"Year\": 2050, \"Land use\": \"Summer oilseeds\", \"Irrigation\": \"irr\", \"Sources\": \"TCO2E_SOWING\", \"Quantity (Mt CO2e)\": 0.0}, {\"Year\": 2050, \"Land use\": \"Tropical stone fruit\", \"Irrigation\": \"dry\", \"Sources\": \"TCO2E_CHEM_APPL\", \"Quantity (Mt CO2e)\": 0.0}, {\"Year\": 2050, \"Land use\": \"Tropical stone fruit\", \"Irrigation\": \"dry\", \"Sources\": \"TCO2E_CROP_MGT\", \"Quantity (Mt CO2e)\": 0.0}, {\"Year\": 2050, \"Land use\": \"Tropical stone fruit\", \"Irrigation\": \"dry\", \"Sources\": \"TCO2E_CULTIV\", \"Quantity (Mt CO2e)\": 0.0}, {\"Year\": 2050, \"Land use\": \"Tropical stone fruit\", \"Irrigation\": \"dry\", \"Sources\": \"TCO2E_DUNG_URINE\", \"Quantity (Mt CO2e)\": 0.0}, {\"Year\": 2050, \"Land use\": \"Tropical stone fruit\", \"Irrigation\": \"dry\", \"Sources\": \"TCO2E_ELEC\", \"Quantity (Mt CO2e)\": 0.0}, {\"Year\": 2050, \"Land use\": \"Tropical stone fruit\", \"Irrigation\": \"dry\", \"Sources\": \"TCO2E_ENTERIC\", \"Quantity (Mt CO2e)\": 0.0}, {\"Year\": 2050, \"Land use\": \"Tropical stone fruit\", \"Irrigation\": \"dry\", \"Sources\": \"TCO2E_FERT_PROD\", \"Quantity (Mt CO2e)\": 0.0}, {\"Year\": 2050, \"Land use\": \"Tropical stone fruit\", \"Irrigation\": \"dry\", \"Sources\": \"TCO2E_FODDER\", \"Quantity (Mt CO2e)\": 0.0}, {\"Year\": 2050, \"Land use\": \"Tropical stone fruit\", \"Irrigation\": \"dry\", \"Sources\": \"TCO2E_FUEL\", \"Quantity (Mt CO2e)\": 0.0}, {\"Year\": 2050, \"Land use\": \"Tropical stone fruit\", \"Irrigation\": \"dry\", \"Sources\": \"TCO2E_HARVEST\", \"Quantity (Mt CO2e)\": 0.0}, {\"Year\": 2050, \"Land use\": \"Tropical stone fruit\", \"Irrigation\": \"dry\", \"Sources\": \"TCO2E_IND_LEACH_RUNOFF\", \"Quantity (Mt CO2e)\": 0.0}, {\"Year\": 2050, \"Land use\": \"Tropical stone fruit\", \"Irrigation\": \"dry\", \"Sources\": \"TCO2E_IRRIG\", \"Quantity (Mt CO2e)\": 0.0}, {\"Year\": 2050, \"Land use\": \"Tropical stone fruit\", \"Irrigation\": \"dry\", \"Sources\": \"TCO2E_MANURE_MGT\", \"Quantity (Mt CO2e)\": 0.0}, {\"Year\": 2050, \"Land use\": \"Tropical stone fruit\", \"Irrigation\": \"dry\", \"Sources\": \"TCO2E_PEST_PROD\", \"Quantity (Mt CO2e)\": 0.0}, {\"Year\": 2050, \"Land use\": \"Tropical stone fruit\", \"Irrigation\": \"dry\", \"Sources\": \"TCO2E_SEED\", \"Quantity (Mt CO2e)\": 0.0}, {\"Year\": 2050, \"Land use\": \"Tropical stone fruit\", \"Irrigation\": \"dry\", \"Sources\": \"TCO2E_SOIL\", \"Quantity (Mt CO2e)\": 0.0}, {\"Year\": 2050, \"Land use\": \"Tropical stone fruit\", \"Irrigation\": \"dry\", \"Sources\": \"TCO2E_SOWING\", \"Quantity (Mt CO2e)\": 0.0}, {\"Year\": 2050, \"Land use\": \"Tropical stone fruit\", \"Irrigation\": \"irr\", \"Sources\": \"TCO2E_CHEM_APPL\", \"Quantity (Mt CO2e)\": 0.0008294107055664062}, {\"Year\": 2050, \"Land use\": \"Tropical stone fruit\", \"Irrigation\": \"irr\", \"Sources\": \"TCO2E_CROP_MGT\", \"Quantity (Mt CO2e)\": 0.0002551072158813477}, {\"Year\": 2050, \"Land use\": \"Tropical stone fruit\", \"Irrigation\": \"irr\", \"Sources\": \"TCO2E_CULTIV\", \"Quantity (Mt CO2e)\": 0.0006954597778320313}, {\"Year\": 2050, \"Land use\": \"Tropical stone fruit\", \"Irrigation\": \"irr\", \"Sources\": \"TCO2E_DUNG_URINE\", \"Quantity (Mt CO2e)\": 0.0}, {\"Year\": 2050, \"Land use\": \"Tropical stone fruit\", \"Irrigation\": \"irr\", \"Sources\": \"TCO2E_ELEC\", \"Quantity (Mt CO2e)\": 0.0}, {\"Year\": 2050, \"Land use\": \"Tropical stone fruit\", \"Irrigation\": \"irr\", \"Sources\": \"TCO2E_ENTERIC\", \"Quantity (Mt CO2e)\": 0.0}, {\"Year\": 2050, \"Land use\": \"Tropical stone fruit\", \"Irrigation\": \"irr\", \"Sources\": \"TCO2E_FERT_PROD\", \"Quantity (Mt CO2e)\": 0.00286431201171875}, {\"Year\": 2050, \"Land use\": \"Tropical stone fruit\", \"Irrigation\": \"irr\", \"Sources\": \"TCO2E_FODDER\", \"Quantity (Mt CO2e)\": 0.0}, {\"Year\": 2050, \"Land use\": \"Tropical stone fruit\", \"Irrigation\": \"irr\", \"Sources\": \"TCO2E_FUEL\", \"Quantity (Mt CO2e)\": 0.0}, {\"Year\": 2050, \"Land use\": \"Tropical stone fruit\", \"Irrigation\": \"irr\", \"Sources\": \"TCO2E_HARVEST\", \"Quantity (Mt CO2e)\": 0.0003305277862548828}, {\"Year\": 2050, \"Land use\": \"Tropical stone fruit\", \"Irrigation\": \"irr\", \"Sources\": \"TCO2E_IND_LEACH_RUNOFF\", \"Quantity (Mt CO2e)\": 0.0}, {\"Year\": 2050, \"Land use\": \"Tropical stone fruit\", \"Irrigation\": \"irr\", \"Sources\": \"TCO2E_IRRIG\", \"Quantity (Mt CO2e)\": 0.000930882781982422}, {\"Year\": 2050, \"Land use\": \"Tropical stone fruit\", \"Irrigation\": \"irr\", \"Sources\": \"TCO2E_MANURE_MGT\", \"Quantity (Mt CO2e)\": 0.0}, {\"Year\": 2050, \"Land use\": \"Tropical stone fruit\", \"Irrigation\": \"irr\", \"Sources\": \"TCO2E_PEST_PROD\", \"Quantity (Mt CO2e)\": 0.001330322509765625}, {\"Year\": 2050, \"Land use\": \"Tropical stone fruit\", \"Irrigation\": \"irr\", \"Sources\": \"TCO2E_SEED\", \"Quantity (Mt CO2e)\": 0.0}, {\"Year\": 2050, \"Land use\": \"Tropical stone fruit\", \"Irrigation\": \"irr\", \"Sources\": \"TCO2E_SOIL\", \"Quantity (Mt CO2e)\": 0.00388978271484375}, {\"Year\": 2050, \"Land use\": \"Tropical stone fruit\", \"Irrigation\": \"irr\", \"Sources\": \"TCO2E_SOWING\", \"Quantity (Mt CO2e)\": 4.088296127319336e-05}, {\"Year\": 2050, \"Land use\": \"Vegetables\", \"Irrigation\": \"dry\", \"Sources\": \"TCO2E_CHEM_APPL\", \"Quantity (Mt CO2e)\": 0.0}, {\"Year\": 2050, \"Land use\": \"Vegetables\", \"Irrigation\": \"dry\", \"Sources\": \"TCO2E_CROP_MGT\", \"Quantity (Mt CO2e)\": 0.0}, {\"Year\": 2050, \"Land use\": \"Vegetables\", \"Irrigation\": \"dry\", \"Sources\": \"TCO2E_CULTIV\", \"Quantity (Mt CO2e)\": 0.0}, {\"Year\": 2050, \"Land use\": \"Vegetables\", \"Irrigation\": \"dry\", \"Sources\": \"TCO2E_DUNG_URINE\", \"Quantity (Mt CO2e)\": 0.0}, {\"Year\": 2050, \"Land use\": \"Vegetables\", \"Irrigation\": \"dry\", \"Sources\": \"TCO2E_ELEC\", \"Quantity (Mt CO2e)\": 0.0}, {\"Year\": 2050, \"Land use\": \"Vegetables\", \"Irrigation\": \"dry\", \"Sources\": \"TCO2E_ENTERIC\", \"Quantity (Mt CO2e)\": 0.0}, {\"Year\": 2050, \"Land use\": \"Vegetables\", \"Irrigation\": \"dry\", \"Sources\": \"TCO2E_FERT_PROD\", \"Quantity (Mt CO2e)\": 0.0}, {\"Year\": 2050, \"Land use\": \"Vegetables\", \"Irrigation\": \"dry\", \"Sources\": \"TCO2E_FODDER\", \"Quantity (Mt CO2e)\": 0.0}, {\"Year\": 2050, \"Land use\": \"Vegetables\", \"Irrigation\": \"dry\", \"Sources\": \"TCO2E_FUEL\", \"Quantity (Mt CO2e)\": 0.0}, {\"Year\": 2050, \"Land use\": \"Vegetables\", \"Irrigation\": \"dry\", \"Sources\": \"TCO2E_HARVEST\", \"Quantity (Mt CO2e)\": 0.0}, {\"Year\": 2050, \"Land use\": \"Vegetables\", \"Irrigation\": \"dry\", \"Sources\": \"TCO2E_IND_LEACH_RUNOFF\", \"Quantity (Mt CO2e)\": 0.0}, {\"Year\": 2050, \"Land use\": \"Vegetables\", \"Irrigation\": \"dry\", \"Sources\": \"TCO2E_IRRIG\", \"Quantity (Mt CO2e)\": 0.0}, {\"Year\": 2050, \"Land use\": \"Vegetables\", \"Irrigation\": \"dry\", \"Sources\": \"TCO2E_MANURE_MGT\", \"Quantity (Mt CO2e)\": 0.0}, {\"Year\": 2050, \"Land use\": \"Vegetables\", \"Irrigation\": \"dry\", \"Sources\": \"TCO2E_PEST_PROD\", \"Quantity (Mt CO2e)\": 0.0}, {\"Year\": 2050, \"Land use\": \"Vegetables\", \"Irrigation\": \"dry\", \"Sources\": \"TCO2E_SEED\", \"Quantity (Mt CO2e)\": 0.0}, {\"Year\": 2050, \"Land use\": \"Vegetables\", \"Irrigation\": \"dry\", \"Sources\": \"TCO2E_SOIL\", \"Quantity (Mt CO2e)\": 0.0}, {\"Year\": 2050, \"Land use\": \"Vegetables\", \"Irrigation\": \"dry\", \"Sources\": \"TCO2E_SOWING\", \"Quantity (Mt CO2e)\": 0.0}, {\"Year\": 2050, \"Land use\": \"Vegetables\", \"Irrigation\": \"irr\", \"Sources\": \"TCO2E_CHEM_APPL\", \"Quantity (Mt CO2e)\": 0.010263551342113472}, {\"Year\": 2050, \"Land use\": \"Vegetables\", \"Irrigation\": \"irr\", \"Sources\": \"TCO2E_CROP_MGT\", \"Quantity (Mt CO2e)\": 0.0019417263030696232}, {\"Year\": 2050, \"Land use\": \"Vegetables\", \"Irrigation\": \"irr\", \"Sources\": \"TCO2E_CULTIV\", \"Quantity (Mt CO2e)\": 0.009152400288641453}, {\"Year\": 2050, \"Land use\": \"Vegetables\", \"Irrigation\": \"irr\", \"Sources\": \"TCO2E_DUNG_URINE\", \"Quantity (Mt CO2e)\": 0.0}, {\"Year\": 2050, \"Land use\": \"Vegetables\", \"Irrigation\": \"irr\", \"Sources\": \"TCO2E_ELEC\", \"Quantity (Mt CO2e)\": 0.0}, {\"Year\": 2050, \"Land use\": \"Vegetables\", \"Irrigation\": \"irr\", \"Sources\": \"TCO2E_ENTERIC\", \"Quantity (Mt CO2e)\": 0.0}, {\"Year\": 2050, \"Land use\": \"Vegetables\", \"Irrigation\": \"irr\", \"Sources\": \"TCO2E_FERT_PROD\", \"Quantity (Mt CO2e)\": 0.16427351543091434}, {\"Year\": 2050, \"Land use\": \"Vegetables\", \"Irrigation\": \"irr\", \"Sources\": \"TCO2E_FODDER\", \"Quantity (Mt CO2e)\": 0.0}, {\"Year\": 2050, \"Land use\": \"Vegetables\", \"Irrigation\": \"irr\", \"Sources\": \"TCO2E_FUEL\", \"Quantity (Mt CO2e)\": 0.0}, {\"Year\": 2050, \"Land use\": \"Vegetables\", \"Irrigation\": \"irr\", \"Sources\": \"TCO2E_HARVEST\", \"Quantity (Mt CO2e)\": 0.0011217865120836032}, {\"Year\": 2050, \"Land use\": \"Vegetables\", \"Irrigation\": \"irr\", \"Sources\": \"TCO2E_IND_LEACH_RUNOFF\", \"Quantity (Mt CO2e)\": 0.0}, {\"Year\": 2050, \"Land use\": \"Vegetables\", \"Irrigation\": \"irr\", \"Sources\": \"TCO2E_IRRIG\", \"Quantity (Mt CO2e)\": 0.008786147909387393}, {\"Year\": 2050, \"Land use\": \"Vegetables\", \"Irrigation\": \"irr\", \"Sources\": \"TCO2E_MANURE_MGT\", \"Quantity (Mt CO2e)\": 0.0}, {\"Year\": 2050, \"Land use\": \"Vegetables\", \"Irrigation\": \"irr\", \"Sources\": \"TCO2E_PEST_PROD\", \"Quantity (Mt CO2e)\": 0.006848620541308801}, {\"Year\": 2050, \"Land use\": \"Vegetables\", \"Irrigation\": \"irr\", \"Sources\": \"TCO2E_SEED\", \"Quantity (Mt CO2e)\": 0.0}, {\"Year\": 2050, \"Land use\": \"Vegetables\", \"Irrigation\": \"irr\", \"Sources\": \"TCO2E_SOIL\", \"Quantity (Mt CO2e)\": 0.12274298503654146}, {\"Year\": 2050, \"Land use\": \"Vegetables\", \"Irrigation\": \"irr\", \"Sources\": \"TCO2E_SOWING\", \"Quantity (Mt CO2e)\": 0.0018179883784755447}, {\"Year\": 2050, \"Land use\": \"Winter cereals\", \"Irrigation\": \"dry\", \"Sources\": \"TCO2E_CHEM_APPL\", \"Quantity (Mt CO2e)\": 0.8980197716044543}, {\"Year\": 2050, \"Land use\": \"Winter cereals\", \"Irrigation\": \"dry\", \"Sources\": \"TCO2E_CROP_MGT\", \"Quantity (Mt CO2e)\": 2.2544677801659532e-05}, {\"Year\": 2050, \"Land use\": \"Winter cereals\", \"Irrigation\": \"dry\", \"Sources\": \"TCO2E_CULTIV\", \"Quantity (Mt CO2e)\": 0.2560637952121876}, {\"Year\": 2050, \"Land use\": \"Winter cereals\", \"Irrigation\": \"dry\", \"Sources\": \"TCO2E_DUNG_URINE\", \"Quantity (Mt CO2e)\": 0.0}, {\"Year\": 2050, \"Land use\": \"Winter cereals\", \"Irrigation\": \"dry\", \"Sources\": \"TCO2E_ELEC\", \"Quantity (Mt CO2e)\": 0.0}, {\"Year\": 2050, \"Land use\": \"Winter cereals\", \"Irrigation\": \"dry\", \"Sources\": \"TCO2E_ENTERIC\", \"Quantity (Mt CO2e)\": 0.0}, {\"Year\": 2050, \"Land use\": \"Winter cereals\", \"Irrigation\": \"dry\", \"Sources\": \"TCO2E_FERT_PROD\", \"Quantity (Mt CO2e)\": 2.3336148374399484}, {\"Year\": 2050, \"Land use\": \"Winter cereals\", \"Irrigation\": \"dry\", \"Sources\": \"TCO2E_FODDER\", \"Quantity (Mt CO2e)\": 0.0}, {\"Year\": 2050, \"Land use\": \"Winter cereals\", \"Irrigation\": \"dry\", \"Sources\": \"TCO2E_FUEL\", \"Quantity (Mt CO2e)\": 0.0}, {\"Year\": 2050, \"Land use\": \"Winter cereals\", \"Irrigation\": \"dry\", \"Sources\": \"TCO2E_HARVEST\", \"Quantity (Mt CO2e)\": 0.2680443453899024}, {\"Year\": 2050, \"Land use\": \"Winter cereals\", \"Irrigation\": \"dry\", \"Sources\": \"TCO2E_IND_LEACH_RUNOFF\", \"Quantity (Mt CO2e)\": 0.0}, {\"Year\": 2050, \"Land use\": \"Winter cereals\", \"Irrigation\": \"dry\", \"Sources\": \"TCO2E_IRRIG\", \"Quantity (Mt CO2e)\": 0.0}, {\"Year\": 2050, \"Land use\": \"Winter cereals\", \"Irrigation\": \"dry\", \"Sources\": \"TCO2E_MANURE_MGT\", \"Quantity (Mt CO2e)\": 0.0}, {\"Year\": 2050, \"Land use\": \"Winter cereals\", \"Irrigation\": \"dry\", \"Sources\": \"TCO2E_PEST_PROD\", \"Quantity (Mt CO2e)\": 1.5506937089765498}, {\"Year\": 2050, \"Land use\": \"Winter cereals\", \"Irrigation\": \"dry\", \"Sources\": \"TCO2E_SEED\", \"Quantity (Mt CO2e)\": 0.0}, {\"Year\": 2050, \"Land use\": \"Winter cereals\", \"Irrigation\": \"dry\", \"Sources\": \"TCO2E_SOIL\", \"Quantity (Mt CO2e)\": 0.5378264093606425}, {\"Year\": 2050, \"Land use\": \"Winter cereals\", \"Irrigation\": \"dry\", \"Sources\": \"TCO2E_SOWING\", \"Quantity (Mt CO2e)\": 0.5167395607280663}, {\"Year\": 2050, \"Land use\": \"Winter cereals\", \"Irrigation\": \"irr\", \"Sources\": \"TCO2E_CHEM_APPL\", \"Quantity (Mt CO2e)\": 0.03035125133893049}, {\"Year\": 2050, \"Land use\": \"Winter cereals\", \"Irrigation\": \"irr\", \"Sources\": \"TCO2E_CROP_MGT\", \"Quantity (Mt CO2e)\": 3.669824446882459e-05}, {\"Year\": 2050, \"Land use\": \"Winter cereals\", \"Irrigation\": \"irr\", \"Sources\": \"TCO2E_CULTIV\", \"Quantity (Mt CO2e)\": 0.052953796667452764}, {\"Year\": 2050, \"Land use\": \"Winter cereals\", \"Irrigation\": \"irr\", \"Sources\": \"TCO2E_DUNG_URINE\", \"Quantity (Mt CO2e)\": 0.0}, {\"Year\": 2050, \"Land use\": \"Winter cereals\", \"Irrigation\": \"irr\", \"Sources\": \"TCO2E_ELEC\", \"Quantity (Mt CO2e)\": 0.0}, {\"Year\": 2050, \"Land use\": \"Winter cereals\", \"Irrigation\": \"irr\", \"Sources\": \"TCO2E_ENTERIC\", \"Quantity (Mt CO2e)\": 0.0}, {\"Year\": 2050, \"Land use\": \"Winter cereals\", \"Irrigation\": \"irr\", \"Sources\": \"TCO2E_FERT_PROD\", \"Quantity (Mt CO2e)\": 0.1947665673574143}, {\"Year\": 2050, \"Land use\": \"Winter cereals\", \"Irrigation\": \"irr\", \"Sources\": \"TCO2E_FODDER\", \"Quantity (Mt CO2e)\": 0.0}, {\"Year\": 2050, \"Land use\": \"Winter cereals\", \"Irrigation\": \"irr\", \"Sources\": \"TCO2E_FUEL\", \"Quantity (Mt CO2e)\": 0.0}, {\"Year\": 2050, \"Land use\": \"Winter cereals\", \"Irrigation\": \"irr\", \"Sources\": \"TCO2E_HARVEST\", \"Quantity (Mt CO2e)\": 0.008310430101469509}, {\"Year\": 2050, \"Land use\": \"Winter cereals\", \"Irrigation\": \"irr\", \"Sources\": \"TCO2E_IND_LEACH_RUNOFF\", \"Quantity (Mt CO2e)\": 0.0}, {\"Year\": 2050, \"Land use\": \"Winter cereals\", \"Irrigation\": \"irr\", \"Sources\": \"TCO2E_IRRIG\", \"Quantity (Mt CO2e)\": 0.04284045810367459}, {\"Year\": 2050, \"Land use\": \"Winter cereals\", \"Irrigation\": \"irr\", \"Sources\": \"TCO2E_MANURE_MGT\", \"Quantity (Mt CO2e)\": 0.0}, {\"Year\": 2050, \"Land use\": \"Winter cereals\", \"Irrigation\": \"irr\", \"Sources\": \"TCO2E_PEST_PROD\", \"Quantity (Mt CO2e)\": 0.0571910070433594}, {\"Year\": 2050, \"Land use\": \"Winter cereals\", \"Irrigation\": \"irr\", \"Sources\": \"TCO2E_SEED\", \"Quantity (Mt CO2e)\": 0.0}, {\"Year\": 2050, \"Land use\": \"Winter cereals\", \"Irrigation\": \"irr\", \"Sources\": \"TCO2E_SOIL\", \"Quantity (Mt CO2e)\": 0.4053717259012163}, {\"Year\": 2050, \"Land use\": \"Winter cereals\", \"Irrigation\": \"irr\", \"Sources\": \"TCO2E_SOWING\", \"Quantity (Mt CO2e)\": 0.021317877562380537}, {\"Year\": 2050, \"Land use\": \"Winter legumes\", \"Irrigation\": \"dry\", \"Sources\": \"TCO2E_CHEM_APPL\", \"Quantity (Mt CO2e)\": 0.10377701169155373}, {\"Year\": 2050, \"Land use\": \"Winter legumes\", \"Irrigation\": \"dry\", \"Sources\": \"TCO2E_CROP_MGT\", \"Quantity (Mt CO2e)\": 0.0}, {\"Year\": 2050, \"Land use\": \"Winter legumes\", \"Irrigation\": \"dry\", \"Sources\": \"TCO2E_CULTIV\", \"Quantity (Mt CO2e)\": 0.008382114040374755}, {\"Year\": 2050, \"Land use\": \"Winter legumes\", \"Irrigation\": \"dry\", \"Sources\": \"TCO2E_DUNG_URINE\", \"Quantity (Mt CO2e)\": 0.0}, {\"Year\": 2050, \"Land use\": \"Winter legumes\", \"Irrigation\": \"dry\", \"Sources\": \"TCO2E_ELEC\", \"Quantity (Mt CO2e)\": 0.0}, {\"Year\": 2050, \"Land use\": \"Winter legumes\", \"Irrigation\": \"dry\", \"Sources\": \"TCO2E_ENTERIC\", \"Quantity (Mt CO2e)\": 0.0}, {\"Year\": 2050, \"Land use\": \"Winter legumes\", \"Irrigation\": \"dry\", \"Sources\": \"TCO2E_FERT_PROD\", \"Quantity (Mt CO2e)\": 0.11318934336888176}, {\"Year\": 2050, \"Land use\": \"Winter legumes\", \"Irrigation\": \"dry\", \"Sources\": \"TCO2E_FODDER\", \"Quantity (Mt CO2e)\": 0.0}, {\"Year\": 2050, \"Land use\": \"Winter legumes\", \"Irrigation\": \"dry\", \"Sources\": \"TCO2E_FUEL\", \"Quantity (Mt CO2e)\": 0.0}, {\"Year\": 2050, \"Land use\": \"Winter legumes\", \"Irrigation\": \"dry\", \"Sources\": \"TCO2E_HARVEST\", \"Quantity (Mt CO2e)\": 0.005682020239383511}, {\"Year\": 2050, \"Land use\": \"Winter legumes\", \"Irrigation\": \"dry\", \"Sources\": \"TCO2E_IND_LEACH_RUNOFF\", \"Quantity (Mt CO2e)\": 0.0}, {\"Year\": 2050, \"Land use\": \"Winter legumes\", \"Irrigation\": \"dry\", \"Sources\": \"TCO2E_IRRIG\", \"Quantity (Mt CO2e)\": 0.0}, {\"Year\": 2050, \"Land use\": \"Winter legumes\", \"Irrigation\": \"dry\", \"Sources\": \"TCO2E_MANURE_MGT\", \"Quantity (Mt CO2e)\": 0.0}, {\"Year\": 2050, \"Land use\": \"Winter legumes\", \"Irrigation\": \"dry\", \"Sources\": \"TCO2E_PEST_PROD\", \"Quantity (Mt CO2e)\": 0.11476570220989547}, {\"Year\": 2050, \"Land use\": \"Winter legumes\", \"Irrigation\": \"dry\", \"Sources\": \"TCO2E_SEED\", \"Quantity (Mt CO2e)\": 0.0}, {\"Year\": 2050, \"Land use\": \"Winter legumes\", \"Irrigation\": \"dry\", \"Sources\": \"TCO2E_SOIL\", \"Quantity (Mt CO2e)\": 0.0008291900883683888}, {\"Year\": 2050, \"Land use\": \"Winter legumes\", \"Irrigation\": \"dry\", \"Sources\": \"TCO2E_SOWING\", \"Quantity (Mt CO2e)\": 0.05115033659915947}, {\"Year\": 2050, \"Land use\": \"Winter legumes\", \"Irrigation\": \"irr\", \"Sources\": \"TCO2E_CHEM_APPL\", \"Quantity (Mt CO2e)\": 0.0}, {\"Year\": 2050, \"Land use\": \"Winter legumes\", \"Irrigation\": \"irr\", \"Sources\": \"TCO2E_CROP_MGT\", \"Quantity (Mt CO2e)\": 0.0}, {\"Year\": 2050, \"Land use\": \"Winter legumes\", \"Irrigation\": \"irr\", \"Sources\": \"TCO2E_CULTIV\", \"Quantity (Mt CO2e)\": 0.0}, {\"Year\": 2050, \"Land use\": \"Winter legumes\", \"Irrigation\": \"irr\", \"Sources\": \"TCO2E_DUNG_URINE\", \"Quantity (Mt CO2e)\": 0.0}, {\"Year\": 2050, \"Land use\": \"Winter legumes\", \"Irrigation\": \"irr\", \"Sources\": \"TCO2E_ELEC\", \"Quantity (Mt CO2e)\": 0.0}, {\"Year\": 2050, \"Land use\": \"Winter legumes\", \"Irrigation\": \"irr\", \"Sources\": \"TCO2E_ENTERIC\", \"Quantity (Mt CO2e)\": 0.0}, {\"Year\": 2050, \"Land use\": \"Winter legumes\", \"Irrigation\": \"irr\", \"Sources\": \"TCO2E_FERT_PROD\", \"Quantity (Mt CO2e)\": 0.0}, {\"Year\": 2050, \"Land use\": \"Winter legumes\", \"Irrigation\": \"irr\", \"Sources\": \"TCO2E_FODDER\", \"Quantity (Mt CO2e)\": 0.0}, {\"Year\": 2050, \"Land use\": \"Winter legumes\", \"Irrigation\": \"irr\", \"Sources\": \"TCO2E_FUEL\", \"Quantity (Mt CO2e)\": 0.0}, {\"Year\": 2050, \"Land use\": \"Winter legumes\", \"Irrigation\": \"irr\", \"Sources\": \"TCO2E_HARVEST\", \"Quantity (Mt CO2e)\": 0.0}, {\"Year\": 2050, \"Land use\": \"Winter legumes\", \"Irrigation\": \"irr\", \"Sources\": \"TCO2E_IND_LEACH_RUNOFF\", \"Quantity (Mt CO2e)\": 0.0}, {\"Year\": 2050, \"Land use\": \"Winter legumes\", \"Irrigation\": \"irr\", \"Sources\": \"TCO2E_IRRIG\", \"Quantity (Mt CO2e)\": 0.0}, {\"Year\": 2050, \"Land use\": \"Winter legumes\", \"Irrigation\": \"irr\", \"Sources\": \"TCO2E_MANURE_MGT\", \"Quantity (Mt CO2e)\": 0.0}, {\"Year\": 2050, \"Land use\": \"Winter legumes\", \"Irrigation\": \"irr\", \"Sources\": \"TCO2E_PEST_PROD\", \"Quantity (Mt CO2e)\": 0.0}, {\"Year\": 2050, \"Land use\": \"Winter legumes\", \"Irrigation\": \"irr\", \"Sources\": \"TCO2E_SEED\", \"Quantity (Mt CO2e)\": 0.0}, {\"Year\": 2050, \"Land use\": \"Winter legumes\", \"Irrigation\": \"irr\", \"Sources\": \"TCO2E_SOIL\", \"Quantity (Mt CO2e)\": 0.0}, {\"Year\": 2050, \"Land use\": \"Winter legumes\", \"Irrigation\": \"irr\", \"Sources\": \"TCO2E_SOWING\", \"Quantity (Mt CO2e)\": 0.0}, {\"Year\": 2050, \"Land use\": \"Winter oilseeds\", \"Irrigation\": \"dry\", \"Sources\": \"TCO2E_CHEM_APPL\", \"Quantity (Mt CO2e)\": 0.07047400266265869}, {\"Year\": 2050, \"Land use\": \"Winter oilseeds\", \"Irrigation\": \"dry\", \"Sources\": \"TCO2E_CROP_MGT\", \"Quantity (Mt CO2e)\": 0.0}, {\"Year\": 2050, \"Land use\": \"Winter oilseeds\", \"Irrigation\": \"dry\", \"Sources\": \"TCO2E_CULTIV\", \"Quantity (Mt CO2e)\": 0.09862509935760498}, {\"Year\": 2050, \"Land use\": \"Winter oilseeds\", \"Irrigation\": \"dry\", \"Sources\": \"TCO2E_DUNG_URINE\", \"Quantity (Mt CO2e)\": 0.0}, {\"Year\": 2050, \"Land use\": \"Winter oilseeds\", \"Irrigation\": \"dry\", \"Sources\": \"TCO2E_ELEC\", \"Quantity (Mt CO2e)\": 0.0}, {\"Year\": 2050, \"Land use\": \"Winter oilseeds\", \"Irrigation\": \"dry\", \"Sources\": \"TCO2E_ENTERIC\", \"Quantity (Mt CO2e)\": 0.0}, {\"Year\": 2050, \"Land use\": \"Winter oilseeds\", \"Irrigation\": \"dry\", \"Sources\": \"TCO2E_FERT_PROD\", \"Quantity (Mt CO2e)\": 0.3989532613983154}, {\"Year\": 2050, \"Land use\": \"Winter oilseeds\", \"Irrigation\": \"dry\", \"Sources\": \"TCO2E_FODDER\", \"Quantity (Mt CO2e)\": 0.0}, {\"Year\": 2050, \"Land use\": \"Winter oilseeds\", \"Irrigation\": \"dry\", \"Sources\": \"TCO2E_FUEL\", \"Quantity (Mt CO2e)\": 0.0}, {\"Year\": 2050, \"Land use\": \"Winter oilseeds\", \"Irrigation\": \"dry\", \"Sources\": \"TCO2E_HARVEST\", \"Quantity (Mt CO2e)\": 0.028434834812164307}, {\"Year\": 2050, \"Land use\": \"Winter oilseeds\", \"Irrigation\": \"dry\", \"Sources\": \"TCO2E_IND_LEACH_RUNOFF\", \"Quantity (Mt CO2e)\": 0.0}, {\"Year\": 2050, \"Land use\": \"Winter oilseeds\", \"Irrigation\": \"dry\", \"Sources\": \"TCO2E_IRRIG\", \"Quantity (Mt CO2e)\": 0.0}, {\"Year\": 2050, \"Land use\": \"Winter oilseeds\", \"Irrigation\": \"dry\", \"Sources\": \"TCO2E_MANURE_MGT\", \"Quantity (Mt CO2e)\": 0.0}, {\"Year\": 2050, \"Land use\": \"Winter oilseeds\", \"Irrigation\": \"dry\", \"Sources\": \"TCO2E_PEST_PROD\", \"Quantity (Mt CO2e)\": 0.10830241062927246}, {\"Year\": 2050, \"Land use\": \"Winter oilseeds\", \"Irrigation\": \"dry\", \"Sources\": \"TCO2E_SEED\", \"Quantity (Mt CO2e)\": 0.0}, {\"Year\": 2050, \"Land use\": \"Winter oilseeds\", \"Irrigation\": \"dry\", \"Sources\": \"TCO2E_SOIL\", \"Quantity (Mt CO2e)\": 0.04168280986118317}, {\"Year\": 2050, \"Land use\": \"Winter oilseeds\", \"Irrigation\": \"dry\", \"Sources\": \"TCO2E_SOWING\", \"Quantity (Mt CO2e)\": 0.03889253277206421}, {\"Year\": 2050, \"Land use\": \"Winter oilseeds\", \"Irrigation\": \"irr\", \"Sources\": \"TCO2E_CHEM_APPL\", \"Quantity (Mt CO2e)\": 0.00010428045654296876}, {\"Year\": 2050, \"Land use\": \"Winter oilseeds\", \"Irrigation\": \"irr\", \"Sources\": \"TCO2E_CROP_MGT\", \"Quantity (Mt CO2e)\": 0.0}, {\"Year\": 2050, \"Land use\": \"Winter oilseeds\", \"Irrigation\": \"irr\", \"Sources\": \"TCO2E_CULTIV\", \"Quantity (Mt CO2e)\": 8.962631225585938e-05}, {\"Year\": 2050, \"Land use\": \"Winter oilseeds\", \"Irrigation\": \"irr\", \"Sources\": \"TCO2E_DUNG_URINE\", \"Quantity (Mt CO2e)\": 0.0}, {\"Year\": 2050, \"Land use\": \"Winter oilseeds\", \"Irrigation\": \"irr\", \"Sources\": \"TCO2E_ELEC\", \"Quantity (Mt CO2e)\": 0.0}, {\"Year\": 2050, \"Land use\": \"Winter oilseeds\", \"Irrigation\": \"irr\", \"Sources\": \"TCO2E_ENTERIC\", \"Quantity (Mt CO2e)\": 0.0}, {\"Year\": 2050, \"Land use\": \"Winter oilseeds\", \"Irrigation\": \"irr\", \"Sources\": \"TCO2E_FERT_PROD\", \"Quantity (Mt CO2e)\": 0.00235570068359375}, {\"Year\": 2050, \"Land use\": \"Winter oilseeds\", \"Irrigation\": \"irr\", \"Sources\": \"TCO2E_FODDER\", \"Quantity (Mt CO2e)\": 0.0}, {\"Year\": 2050, \"Land use\": \"Winter oilseeds\", \"Irrigation\": \"irr\", \"Sources\": \"TCO2E_FUEL\", \"Quantity (Mt CO2e)\": 0.0}, {\"Year\": 2050, \"Land use\": \"Winter oilseeds\", \"Irrigation\": \"irr\", \"Sources\": \"TCO2E_HARVEST\", \"Quantity (Mt CO2e)\": 4.87723274230957e-05}, {\"Year\": 2050, \"Land use\": \"Winter oilseeds\", \"Irrigation\": \"irr\", \"Sources\": \"TCO2E_IND_LEACH_RUNOFF\", \"Quantity (Mt CO2e)\": 0.0}, {\"Year\": 2050, \"Land use\": \"Winter oilseeds\", \"Irrigation\": \"irr\", \"Sources\": \"TCO2E_IRRIG\", \"Quantity (Mt CO2e)\": 0.0002063052673339844}, {\"Year\": 2050, \"Land use\": \"Winter oilseeds\", \"Irrigation\": \"irr\", \"Sources\": \"TCO2E_MANURE_MGT\", \"Quantity (Mt CO2e)\": 0.0}, {\"Year\": 2050, \"Land use\": \"Winter oilseeds\", \"Irrigation\": \"irr\", \"Sources\": \"TCO2E_PEST_PROD\", \"Quantity (Mt CO2e)\": 2.1496124267578126e-05}, {\"Year\": 2050, \"Land use\": \"Winter oilseeds\", \"Irrigation\": \"irr\", \"Sources\": \"TCO2E_SEED\", \"Quantity (Mt CO2e)\": 0.0}, {\"Year\": 2050, \"Land use\": \"Winter oilseeds\", \"Irrigation\": \"irr\", \"Sources\": \"TCO2E_SOIL\", \"Quantity (Mt CO2e)\": 0.0012746519775390624}, {\"Year\": 2050, \"Land use\": \"Winter oilseeds\", \"Irrigation\": \"irr\", \"Sources\": \"TCO2E_SOWING\", \"Quantity (Mt CO2e)\": 4.17593879699707e-05}]}}, {\"mode\": \"vega-lite\"});\n",
       "</script>"
      ],
      "text/plain": [
       "alt.Chart(...)"
      ]
     },
     "execution_count": 33,
     "metadata": {},
     "output_type": "execute_result"
    }
   ],
   "source": [
    "# HIDE CODE\n",
    "# get the df and plot\n",
    "GHG_lu_source_df,GHG_lu_source_plot = ag_lucc_GHG.plot_GHG_lu_source(2050)\n",
    "GHG_lu_source_plot"
   ]
  },
  {
   "cell_type": "code",
   "execution_count": null,
   "metadata": {},
   "outputs": [],
   "source": []
  },
  {
   "cell_type": "markdown",
   "metadata": {},
   "source": [
    "## Non-Agricultural Land-use GHG sequestrations"
   ]
  },
  {
   "cell_type": "code",
   "execution_count": null,
   "metadata": {},
   "outputs": [],
   "source": []
  },
  {
   "cell_type": "markdown",
   "metadata": {},
   "source": [
    "### Data preparation"
   ]
  },
  {
   "cell_type": "code",
   "execution_count": 34,
   "metadata": {
    "tags": [
     "remove-cell"
    ]
   },
   "outputs": [
    {
     "name": "stderr",
     "output_type": "stream",
     "text": [
      "/home/LUTO/VIS_LUTO/tools/Plot_GHG.py:178: FutureWarning: The behavior of DataFrame concatenation with empty or all-NA entries is deprecated. In a future version, this will no longer exclude empty or all-NA columns when determining the result dtypes. To retain the old behavior, exclude the relevant entries before the concat operation.\n",
      "  return pd.concat([GHG_CO2,GHG_nonCO2],axis=0).reset_index(drop=True)\n"
     ]
    }
   ],
   "source": [
    "# HIDDEN\n",
    "# Initialize the class\n",
    "non_ag_lucc_GHG = get_GHG_plots(GHG_files,'Non-Agricultural Landuse','GHG sequestration (Mt CO2e)')"
   ]
  },
  {
   "cell_type": "code",
   "execution_count": null,
   "metadata": {},
   "outputs": [],
   "source": []
  },
  {
   "cell_type": "code",
   "execution_count": null,
   "metadata": {},
   "outputs": [],
   "source": []
  },
  {
   "cell_type": "markdown",
   "metadata": {},
   "source": [
    "### Sequestrations in total"
   ]
  },
  {
   "cell_type": "code",
   "execution_count": 35,
   "metadata": {
    "tags": [
     "hide-input"
    ]
   },
   "outputs": [
    {
     "data": {
      "text/html": [
       "\n",
       "<style>\n",
       "  #altair-viz-b4487ca66ef44a638cb92c139f264fd9.vega-embed {\n",
       "    width: 100%;\n",
       "    display: flex;\n",
       "  }\n",
       "\n",
       "  #altair-viz-b4487ca66ef44a638cb92c139f264fd9.vega-embed details,\n",
       "  #altair-viz-b4487ca66ef44a638cb92c139f264fd9.vega-embed details summary {\n",
       "    position: relative;\n",
       "  }\n",
       "</style>\n",
       "<div id=\"altair-viz-b4487ca66ef44a638cb92c139f264fd9\"></div>\n",
       "<script type=\"text/javascript\">\n",
       "  var VEGA_DEBUG = (typeof VEGA_DEBUG == \"undefined\") ? {} : VEGA_DEBUG;\n",
       "  (function(spec, embedOpt){\n",
       "    let outputDiv = document.currentScript.previousElementSibling;\n",
       "    if (outputDiv.id !== \"altair-viz-b4487ca66ef44a638cb92c139f264fd9\") {\n",
       "      outputDiv = document.getElementById(\"altair-viz-b4487ca66ef44a638cb92c139f264fd9\");\n",
       "    }\n",
       "    const paths = {\n",
       "      \"vega\": \"https://cdn.jsdelivr.net/npm/vega@5?noext\",\n",
       "      \"vega-lib\": \"https://cdn.jsdelivr.net/npm/vega-lib?noext\",\n",
       "      \"vega-lite\": \"https://cdn.jsdelivr.net/npm/vega-lite@5.15.1?noext\",\n",
       "      \"vega-embed\": \"https://cdn.jsdelivr.net/npm/vega-embed@6?noext\",\n",
       "    };\n",
       "\n",
       "    function maybeLoadScript(lib, version) {\n",
       "      var key = `${lib.replace(\"-\", \"\")}_version`;\n",
       "      return (VEGA_DEBUG[key] == version) ?\n",
       "        Promise.resolve(paths[lib]) :\n",
       "        new Promise(function(resolve, reject) {\n",
       "          var s = document.createElement('script');\n",
       "          document.getElementsByTagName(\"head\")[0].appendChild(s);\n",
       "          s.async = true;\n",
       "          s.onload = () => {\n",
       "            VEGA_DEBUG[key] = version;\n",
       "            return resolve(paths[lib]);\n",
       "          };\n",
       "          s.onerror = () => reject(`Error loading script: ${paths[lib]}`);\n",
       "          s.src = paths[lib];\n",
       "        });\n",
       "    }\n",
       "\n",
       "    function showError(err) {\n",
       "      outputDiv.innerHTML = `<div class=\"error\" style=\"color:red;\">${err}</div>`;\n",
       "      throw err;\n",
       "    }\n",
       "\n",
       "    function displayChart(vegaEmbed) {\n",
       "      vegaEmbed(outputDiv, spec, embedOpt)\n",
       "        .catch(err => showError(`Javascript Error: ${err.message}<br>This usually means there's a typo in your chart specification. See the javascript console for the full traceback.`));\n",
       "    }\n",
       "\n",
       "    if(typeof define === \"function\" && define.amd) {\n",
       "      requirejs.config({paths});\n",
       "      require([\"vega-embed\"], displayChart, err => showError(`Error loading script: ${err.message}`));\n",
       "    } else {\n",
       "      maybeLoadScript(\"vega\", \"5\")\n",
       "        .then(() => maybeLoadScript(\"vega-lite\", \"5.15.1\"))\n",
       "        .then(() => maybeLoadScript(\"vega-embed\", \"6\"))\n",
       "        .catch(showError)\n",
       "        .then(() => displayChart(vegaEmbed));\n",
       "    }\n",
       "  })({\"config\": {\"view\": {\"continuousWidth\": 300, \"continuousHeight\": 300}}, \"layer\": [{\"mark\": {\"type\": \"line\"}, \"encoding\": {\"color\": {\"field\": \"Land use category\", \"legend\": {\"direction\": \"horizontal\", \"legendX\": 350, \"legendY\": -40, \"orient\": \"none\", \"title\": \"Landuse type\", \"titleAnchor\": \"middle\"}, \"type\": \"nominal\"}, \"tooltip\": [{\"field\": \"Land use category\", \"title\": \"Landuse type\", \"type\": \"ordinal\"}, {\"field\": \"Quantity (Mt CO2e)\", \"title\": \"GHG sequestration (Mt CO2e)\", \"type\": \"quantitative\"}], \"x\": {\"axis\": {\"labelAngle\": -90, \"title\": \"Year\"}, \"field\": \"Year\", \"type\": \"ordinal\"}, \"y\": {\"field\": \"Quantity (Mt CO2e)\", \"scale\": {\"reverse\": true}, \"title\": \"GHG sequestration (Mt CO2e) (Mt CO2e)\", \"type\": \"quantitative\"}}}], \"data\": {\"name\": \"data-495a7abc79b6b7cc4f6f3d8c719919b6\"}, \"height\": 450, \"width\": 800, \"$schema\": \"https://vega.github.io/schema/vega-lite/v5.15.1.json\", \"datasets\": {\"data-495a7abc79b6b7cc4f6f3d8c719919b6\": [{\"Year\": 2011, \"Land use category\": \"Non-Agricultural Landuse\", \"Quantity (Mt CO2e)\": -8.27342202}, {\"Year\": 2012, \"Land use category\": \"Non-Agricultural Landuse\", \"Quantity (Mt CO2e)\": -18.02921516}, {\"Year\": 2013, \"Land use category\": \"Non-Agricultural Landuse\", \"Quantity (Mt CO2e)\": -27.82520788}, {\"Year\": 2014, \"Land use category\": \"Non-Agricultural Landuse\", \"Quantity (Mt CO2e)\": -37.679173750000004}, {\"Year\": 2015, \"Land use category\": \"Non-Agricultural Landuse\", \"Quantity (Mt CO2e)\": -47.690072300000004}, {\"Year\": 2016, \"Land use category\": \"Non-Agricultural Landuse\", \"Quantity (Mt CO2e)\": -57.8080066}, {\"Year\": 2017, \"Land use category\": \"Non-Agricultural Landuse\", \"Quantity (Mt CO2e)\": -68.08855444}, {\"Year\": 2018, \"Land use category\": \"Non-Agricultural Landuse\", \"Quantity (Mt CO2e)\": -78.3506726}, {\"Year\": 2019, \"Land use category\": \"Non-Agricultural Landuse\", \"Quantity (Mt CO2e)\": -88.5983874}, {\"Year\": 2020, \"Land use category\": \"Non-Agricultural Landuse\", \"Quantity (Mt CO2e)\": -99.024714}, {\"Year\": 2021, \"Land use category\": \"Non-Agricultural Landuse\", \"Quantity (Mt CO2e)\": -109.3749812}, {\"Year\": 2022, \"Land use category\": \"Non-Agricultural Landuse\", \"Quantity (Mt CO2e)\": -119.856911}, {\"Year\": 2023, \"Land use category\": \"Non-Agricultural Landuse\", \"Quantity (Mt CO2e)\": -130.3329688}, {\"Year\": 2024, \"Land use category\": \"Non-Agricultural Landuse\", \"Quantity (Mt CO2e)\": -140.3210292}, {\"Year\": 2025, \"Land use category\": \"Non-Agricultural Landuse\", \"Quantity (Mt CO2e)\": -150.0397532}, {\"Year\": 2026, \"Land use category\": \"Non-Agricultural Landuse\", \"Quantity (Mt CO2e)\": -158.24848319999998}, {\"Year\": 2027, \"Land use category\": \"Non-Agricultural Landuse\", \"Quantity (Mt CO2e)\": -167.189164}, {\"Year\": 2028, \"Land use category\": \"Non-Agricultural Landuse\", \"Quantity (Mt CO2e)\": -175.28426950000002}, {\"Year\": 2029, \"Land use category\": \"Non-Agricultural Landuse\", \"Quantity (Mt CO2e)\": -184.7607908}, {\"Year\": 2030, \"Land use category\": \"Non-Agricultural Landuse\", \"Quantity (Mt CO2e)\": -193.89838650000002}, {\"Year\": 2031, \"Land use category\": \"Non-Agricultural Landuse\", \"Quantity (Mt CO2e)\": -201.5772635}, {\"Year\": 2032, \"Land use category\": \"Non-Agricultural Landuse\", \"Quantity (Mt CO2e)\": -211.437883}, {\"Year\": 2033, \"Land use category\": \"Non-Agricultural Landuse\", \"Quantity (Mt CO2e)\": -221.4113105}, {\"Year\": 2034, \"Land use category\": \"Non-Agricultural Landuse\", \"Quantity (Mt CO2e)\": -231.4743065}, {\"Year\": 2035, \"Land use category\": \"Non-Agricultural Landuse\", \"Quantity (Mt CO2e)\": -241.74676599999998}, {\"Year\": 2036, \"Land use category\": \"Non-Agricultural Landuse\", \"Quantity (Mt CO2e)\": -252.1187815}, {\"Year\": 2037, \"Land use category\": \"Non-Agricultural Landuse\", \"Quantity (Mt CO2e)\": -262.2380175}, {\"Year\": 2038, \"Land use category\": \"Non-Agricultural Landuse\", \"Quantity (Mt CO2e)\": -272.5249425}, {\"Year\": 2039, \"Land use category\": \"Non-Agricultural Landuse\", \"Quantity (Mt CO2e)\": -282.5271205}, {\"Year\": 2040, \"Land use category\": \"Non-Agricultural Landuse\", \"Quantity (Mt CO2e)\": -292.138354}, {\"Year\": 2041, \"Land use category\": \"Non-Agricultural Landuse\", \"Quantity (Mt CO2e)\": -301.695099}, {\"Year\": 2042, \"Land use category\": \"Non-Agricultural Landuse\", \"Quantity (Mt CO2e)\": -311.0847885}, {\"Year\": 2043, \"Land use category\": \"Non-Agricultural Landuse\", \"Quantity (Mt CO2e)\": -320.3719965}, {\"Year\": 2044, \"Land use category\": \"Non-Agricultural Landuse\", \"Quantity (Mt CO2e)\": -330.20714350000003}, {\"Year\": 2045, \"Land use category\": \"Non-Agricultural Landuse\", \"Quantity (Mt CO2e)\": -340.20431249999996}, {\"Year\": 2046, \"Land use category\": \"Non-Agricultural Landuse\", \"Quantity (Mt CO2e)\": -345.362182}, {\"Year\": 2047, \"Land use category\": \"Non-Agricultural Landuse\", \"Quantity (Mt CO2e)\": -349.998501}, {\"Year\": 2048, \"Land use category\": \"Non-Agricultural Landuse\", \"Quantity (Mt CO2e)\": -359.2646965}, {\"Year\": 2049, \"Land use category\": \"Non-Agricultural Landuse\", \"Quantity (Mt CO2e)\": -369.401635}, {\"Year\": 2050, \"Land use category\": \"Non-Agricultural Landuse\", \"Quantity (Mt CO2e)\": -379.969742}]}}, {\"mode\": \"vega-lite\"});\n",
       "</script>"
      ],
      "text/plain": [
       "alt.LayerChart(...)"
      ]
     },
     "execution_count": 35,
     "metadata": {},
     "output_type": "execute_result"
    }
   ],
   "source": [
    "# HIDE CODE\n",
    "# get the df and plot\n",
    "GHG_non_ag_crop_lvstk_df,GHG_non_ag_crop_lvstk_plot = non_ag_lucc_GHG.plot_GHG_crop_lvstk()\n",
    "GHG_non_ag_crop_lvstk_plot"
   ]
  },
  {
   "cell_type": "code",
   "execution_count": null,
   "metadata": {},
   "outputs": [],
   "source": []
  },
  {
   "cell_type": "markdown",
   "metadata": {},
   "source": [
    "### Sequestrations by irrigation system"
   ]
  },
  {
   "cell_type": "code",
   "execution_count": 36,
   "metadata": {
    "tags": [
     "hide-input"
    ]
   },
   "outputs": [
    {
     "data": {
      "text/html": [
       "\n",
       "<style>\n",
       "  #altair-viz-9fd57bccb7844a9c9836f5501505d415.vega-embed {\n",
       "    width: 100%;\n",
       "    display: flex;\n",
       "  }\n",
       "\n",
       "  #altair-viz-9fd57bccb7844a9c9836f5501505d415.vega-embed details,\n",
       "  #altair-viz-9fd57bccb7844a9c9836f5501505d415.vega-embed details summary {\n",
       "    position: relative;\n",
       "  }\n",
       "</style>\n",
       "<div id=\"altair-viz-9fd57bccb7844a9c9836f5501505d415\"></div>\n",
       "<script type=\"text/javascript\">\n",
       "  var VEGA_DEBUG = (typeof VEGA_DEBUG == \"undefined\") ? {} : VEGA_DEBUG;\n",
       "  (function(spec, embedOpt){\n",
       "    let outputDiv = document.currentScript.previousElementSibling;\n",
       "    if (outputDiv.id !== \"altair-viz-9fd57bccb7844a9c9836f5501505d415\") {\n",
       "      outputDiv = document.getElementById(\"altair-viz-9fd57bccb7844a9c9836f5501505d415\");\n",
       "    }\n",
       "    const paths = {\n",
       "      \"vega\": \"https://cdn.jsdelivr.net/npm/vega@5?noext\",\n",
       "      \"vega-lib\": \"https://cdn.jsdelivr.net/npm/vega-lib?noext\",\n",
       "      \"vega-lite\": \"https://cdn.jsdelivr.net/npm/vega-lite@5.15.1?noext\",\n",
       "      \"vega-embed\": \"https://cdn.jsdelivr.net/npm/vega-embed@6?noext\",\n",
       "    };\n",
       "\n",
       "    function maybeLoadScript(lib, version) {\n",
       "      var key = `${lib.replace(\"-\", \"\")}_version`;\n",
       "      return (VEGA_DEBUG[key] == version) ?\n",
       "        Promise.resolve(paths[lib]) :\n",
       "        new Promise(function(resolve, reject) {\n",
       "          var s = document.createElement('script');\n",
       "          document.getElementsByTagName(\"head\")[0].appendChild(s);\n",
       "          s.async = true;\n",
       "          s.onload = () => {\n",
       "            VEGA_DEBUG[key] = version;\n",
       "            return resolve(paths[lib]);\n",
       "          };\n",
       "          s.onerror = () => reject(`Error loading script: ${paths[lib]}`);\n",
       "          s.src = paths[lib];\n",
       "        });\n",
       "    }\n",
       "\n",
       "    function showError(err) {\n",
       "      outputDiv.innerHTML = `<div class=\"error\" style=\"color:red;\">${err}</div>`;\n",
       "      throw err;\n",
       "    }\n",
       "\n",
       "    function displayChart(vegaEmbed) {\n",
       "      vegaEmbed(outputDiv, spec, embedOpt)\n",
       "        .catch(err => showError(`Javascript Error: ${err.message}<br>This usually means there's a typo in your chart specification. See the javascript console for the full traceback.`));\n",
       "    }\n",
       "\n",
       "    if(typeof define === \"function\" && define.amd) {\n",
       "      requirejs.config({paths});\n",
       "      require([\"vega-embed\"], displayChart, err => showError(`Error loading script: ${err.message}`));\n",
       "    } else {\n",
       "      maybeLoadScript(\"vega\", \"5\")\n",
       "        .then(() => maybeLoadScript(\"vega-lite\", \"5.15.1\"))\n",
       "        .then(() => maybeLoadScript(\"vega-embed\", \"6\"))\n",
       "        .catch(showError)\n",
       "        .then(() => displayChart(vegaEmbed));\n",
       "    }\n",
       "  })({\"config\": {\"view\": {\"continuousWidth\": 300, \"continuousHeight\": 300}}, \"layer\": [{\"mark\": {\"type\": \"bar\"}, \"encoding\": {\"color\": {\"field\": \"Irrigation\", \"legend\": {\"direction\": \"horizontal\", \"legendX\": 350, \"legendY\": -40, \"orient\": \"none\", \"title\": \"Irrigation\", \"titleAnchor\": \"middle\"}, \"type\": \"nominal\"}, \"tooltip\": [{\"field\": \"Irrigation\", \"title\": \"Irrigation\", \"type\": \"nominal\"}, {\"field\": \"Quantity (Mt CO2e)\", \"title\": \"GHG sequestration (Mt CO2e)\", \"type\": \"quantitative\"}], \"x\": {\"axis\": {\"labelAngle\": -90, \"title\": \"Year\"}, \"field\": \"Year\", \"type\": \"ordinal\"}, \"y\": {\"field\": \"Quantity (Mt CO2e)\", \"scale\": {\"reverse\": true}, \"title\": \"GHG sequestration (Mt CO2e) (Mt CO2e)\", \"type\": \"quantitative\"}}}], \"data\": {\"name\": \"data-339523eb55c730194cf1cf98e63fc043\"}, \"height\": 450, \"width\": 800, \"$schema\": \"https://vega.github.io/schema/vega-lite/v5.15.1.json\", \"datasets\": {\"data-339523eb55c730194cf1cf98e63fc043\": [{\"Year\": 2011, \"Irrigation\": \"dry\", \"Quantity (Mt CO2e)\": -8.11368}, {\"Year\": 2011, \"Irrigation\": \"irr\", \"Quantity (Mt CO2e)\": -0.15974201999999998}, {\"Year\": 2012, \"Irrigation\": \"dry\", \"Quantity (Mt CO2e)\": -17.694736}, {\"Year\": 2012, \"Irrigation\": \"irr\", \"Quantity (Mt CO2e)\": -0.33447916}, {\"Year\": 2013, \"Irrigation\": \"dry\", \"Quantity (Mt CO2e)\": -27.362048}, {\"Year\": 2013, \"Irrigation\": \"irr\", \"Quantity (Mt CO2e)\": -0.46315988}, {\"Year\": 2014, \"Irrigation\": \"dry\", \"Quantity (Mt CO2e)\": -37.12337}, {\"Year\": 2014, \"Irrigation\": \"irr\", \"Quantity (Mt CO2e)\": -0.55580375}, {\"Year\": 2015, \"Irrigation\": \"dry\", \"Quantity (Mt CO2e)\": -46.952744}, {\"Year\": 2015, \"Irrigation\": \"irr\", \"Quantity (Mt CO2e)\": -0.7373283}, {\"Year\": 2016, \"Irrigation\": \"dry\", \"Quantity (Mt CO2e)\": -57.03777}, {\"Year\": 2016, \"Irrigation\": \"irr\", \"Quantity (Mt CO2e)\": -0.7702365999999999}, {\"Year\": 2017, \"Irrigation\": \"dry\", \"Quantity (Mt CO2e)\": -67.066452}, {\"Year\": 2017, \"Irrigation\": \"irr\", \"Quantity (Mt CO2e)\": -1.0221024399999998}, {\"Year\": 2018, \"Irrigation\": \"dry\", \"Quantity (Mt CO2e)\": -76.94502}, {\"Year\": 2018, \"Irrigation\": \"irr\", \"Quantity (Mt CO2e)\": -1.4056526}, {\"Year\": 2019, \"Irrigation\": \"dry\", \"Quantity (Mt CO2e)\": -86.99547}, {\"Year\": 2019, \"Irrigation\": \"irr\", \"Quantity (Mt CO2e)\": -1.6029174}, {\"Year\": 2020, \"Irrigation\": \"dry\", \"Quantity (Mt CO2e)\": -97.17176}, {\"Year\": 2020, \"Irrigation\": \"irr\", \"Quantity (Mt CO2e)\": -1.852954}, {\"Year\": 2021, \"Irrigation\": \"dry\", \"Quantity (Mt CO2e)\": -107.35543}, {\"Year\": 2021, \"Irrigation\": \"irr\", \"Quantity (Mt CO2e)\": -2.0195512}, {\"Year\": 2022, \"Irrigation\": \"dry\", \"Quantity (Mt CO2e)\": -117.60602}, {\"Year\": 2022, \"Irrigation\": \"irr\", \"Quantity (Mt CO2e)\": -2.250891}, {\"Year\": 2023, \"Irrigation\": \"dry\", \"Quantity (Mt CO2e)\": -127.81851}, {\"Year\": 2023, \"Irrigation\": \"irr\", \"Quantity (Mt CO2e)\": -2.5144588}, {\"Year\": 2024, \"Irrigation\": \"dry\", \"Quantity (Mt CO2e)\": -137.50213}, {\"Year\": 2024, \"Irrigation\": \"irr\", \"Quantity (Mt CO2e)\": -2.8188992}, {\"Year\": 2025, \"Irrigation\": \"dry\", \"Quantity (Mt CO2e)\": -146.96958}, {\"Year\": 2025, \"Irrigation\": \"irr\", \"Quantity (Mt CO2e)\": -3.0701732}, {\"Year\": 2026, \"Irrigation\": \"dry\", \"Quantity (Mt CO2e)\": -154.95851}, {\"Year\": 2026, \"Irrigation\": \"irr\", \"Quantity (Mt CO2e)\": -3.2899732000000004}, {\"Year\": 2027, \"Irrigation\": \"dry\", \"Quantity (Mt CO2e)\": -163.86536}, {\"Year\": 2027, \"Irrigation\": \"irr\", \"Quantity (Mt CO2e)\": -3.323804}, {\"Year\": 2028, \"Irrigation\": \"dry\", \"Quantity (Mt CO2e)\": -171.79811}, {\"Year\": 2028, \"Irrigation\": \"irr\", \"Quantity (Mt CO2e)\": -3.4861595}, {\"Year\": 2029, \"Irrigation\": \"dry\", \"Quantity (Mt CO2e)\": -181.17454}, {\"Year\": 2029, \"Irrigation\": \"irr\", \"Quantity (Mt CO2e)\": -3.5862507999999997}, {\"Year\": 2030, \"Irrigation\": \"dry\", \"Quantity (Mt CO2e)\": -190.23248}, {\"Year\": 2030, \"Irrigation\": \"irr\", \"Quantity (Mt CO2e)\": -3.6659065}, {\"Year\": 2031, \"Irrigation\": \"dry\", \"Quantity (Mt CO2e)\": -197.76341}, {\"Year\": 2031, \"Irrigation\": \"irr\", \"Quantity (Mt CO2e)\": -3.8138535}, {\"Year\": 2032, \"Irrigation\": \"dry\", \"Quantity (Mt CO2e)\": -207.57259}, {\"Year\": 2032, \"Irrigation\": \"irr\", \"Quantity (Mt CO2e)\": -3.865293}, {\"Year\": 2033, \"Irrigation\": \"dry\", \"Quantity (Mt CO2e)\": -217.38325}, {\"Year\": 2033, \"Irrigation\": \"irr\", \"Quantity (Mt CO2e)\": -4.0280605}, {\"Year\": 2034, \"Irrigation\": \"dry\", \"Quantity (Mt CO2e)\": -227.23347}, {\"Year\": 2034, \"Irrigation\": \"irr\", \"Quantity (Mt CO2e)\": -4.2408365}, {\"Year\": 2035, \"Irrigation\": \"dry\", \"Quantity (Mt CO2e)\": -237.27477}, {\"Year\": 2035, \"Irrigation\": \"irr\", \"Quantity (Mt CO2e)\": -4.471996}, {\"Year\": 2036, \"Irrigation\": \"dry\", \"Quantity (Mt CO2e)\": -247.35574}, {\"Year\": 2036, \"Irrigation\": \"irr\", \"Quantity (Mt CO2e)\": -4.7630415}, {\"Year\": 2037, \"Irrigation\": \"dry\", \"Quantity (Mt CO2e)\": -257.55173}, {\"Year\": 2037, \"Irrigation\": \"irr\", \"Quantity (Mt CO2e)\": -4.6862875}, {\"Year\": 2038, \"Irrigation\": \"dry\", \"Quantity (Mt CO2e)\": -267.52832}, {\"Year\": 2038, \"Irrigation\": \"irr\", \"Quantity (Mt CO2e)\": -4.9966225}, {\"Year\": 2039, \"Irrigation\": \"dry\", \"Quantity (Mt CO2e)\": -277.40125}, {\"Year\": 2039, \"Irrigation\": \"irr\", \"Quantity (Mt CO2e)\": -5.1258705}, {\"Year\": 2040, \"Irrigation\": \"dry\", \"Quantity (Mt CO2e)\": -286.52925}, {\"Year\": 2040, \"Irrigation\": \"irr\", \"Quantity (Mt CO2e)\": -5.609104}, {\"Year\": 2041, \"Irrigation\": \"dry\", \"Quantity (Mt CO2e)\": -296.01386}, {\"Year\": 2041, \"Irrigation\": \"irr\", \"Quantity (Mt CO2e)\": -5.681239}, {\"Year\": 2042, \"Irrigation\": \"dry\", \"Quantity (Mt CO2e)\": -305.0241}, {\"Year\": 2042, \"Irrigation\": \"irr\", \"Quantity (Mt CO2e)\": -6.0606885}, {\"Year\": 2043, \"Irrigation\": \"dry\", \"Quantity (Mt CO2e)\": -314.1734}, {\"Year\": 2043, \"Irrigation\": \"irr\", \"Quantity (Mt CO2e)\": -6.1985965}, {\"Year\": 2044, \"Irrigation\": \"dry\", \"Quantity (Mt CO2e)\": -323.6211}, {\"Year\": 2044, \"Irrigation\": \"irr\", \"Quantity (Mt CO2e)\": -6.5860435}, {\"Year\": 2045, \"Irrigation\": \"dry\", \"Quantity (Mt CO2e)\": -333.06368}, {\"Year\": 2045, \"Irrigation\": \"irr\", \"Quantity (Mt CO2e)\": -7.1406325}, {\"Year\": 2046, \"Irrigation\": \"dry\", \"Quantity (Mt CO2e)\": -337.84134}, {\"Year\": 2046, \"Irrigation\": \"irr\", \"Quantity (Mt CO2e)\": -7.520842}, {\"Year\": 2047, \"Irrigation\": \"dry\", \"Quantity (Mt CO2e)\": -342.26227}, {\"Year\": 2047, \"Irrigation\": \"irr\", \"Quantity (Mt CO2e)\": -7.736231}, {\"Year\": 2048, \"Irrigation\": \"dry\", \"Quantity (Mt CO2e)\": -350.9193}, {\"Year\": 2048, \"Irrigation\": \"irr\", \"Quantity (Mt CO2e)\": -8.3453965}, {\"Year\": 2049, \"Irrigation\": \"dry\", \"Quantity (Mt CO2e)\": -360.32304}, {\"Year\": 2049, \"Irrigation\": \"irr\", \"Quantity (Mt CO2e)\": -9.078595}, {\"Year\": 2050, \"Irrigation\": \"dry\", \"Quantity (Mt CO2e)\": -370.3438}, {\"Year\": 2050, \"Irrigation\": \"irr\", \"Quantity (Mt CO2e)\": -9.625942}]}}, {\"mode\": \"vega-lite\"});\n",
       "</script>"
      ],
      "text/plain": [
       "alt.LayerChart(...)"
      ]
     },
     "execution_count": 36,
     "metadata": {},
     "output_type": "execute_result"
    }
   ],
   "source": [
    "# HIDE CODE\n",
    "# get the df and plot\n",
    "GHG_non_ag_dry_irr_df,GHG_non_ag_dry_irr_plot = non_ag_lucc_GHG.plot_GHG_dry_irr()\n",
    "GHG_non_ag_dry_irr_plot"
   ]
  },
  {
   "cell_type": "code",
   "execution_count": null,
   "metadata": {},
   "outputs": [],
   "source": []
  },
  {
   "cell_type": "code",
   "execution_count": null,
   "metadata": {},
   "outputs": [],
   "source": []
  },
  {
   "cell_type": "markdown",
   "metadata": {},
   "source": [
    "## Agricultural Management GHG sequestrations"
   ]
  },
  {
   "cell_type": "code",
   "execution_count": null,
   "metadata": {},
   "outputs": [],
   "source": []
  },
  {
   "cell_type": "markdown",
   "metadata": {},
   "source": [
    "### Data preparation"
   ]
  },
  {
   "cell_type": "code",
   "execution_count": 37,
   "metadata": {
    "tags": [
     "remove-cell"
    ]
   },
   "outputs": [
    {
     "name": "stderr",
     "output_type": "stream",
     "text": [
      "/home/LUTO/VIS_LUTO/tools/Plot_GHG.py:178: FutureWarning: The behavior of DataFrame concatenation with empty or all-NA entries is deprecated. In a future version, this will no longer exclude empty or all-NA columns when determining the result dtypes. To retain the old behavior, exclude the relevant entries before the concat operation.\n",
      "  return pd.concat([GHG_CO2,GHG_nonCO2],axis=0).reset_index(drop=True)\n"
     ]
    }
   ],
   "source": [
    "# HIDDEN\n",
    "# Initialize the class\n",
    "ag_man_GHG = get_GHG_plots(GHG_files,'Agricultural Management','GHG sequestration (Mt CO2e)')"
   ]
  },
  {
   "cell_type": "code",
   "execution_count": 38,
   "metadata": {},
   "outputs": [
    {
     "data": {
      "text/html": [
       "<div>\n",
       "<style scoped>\n",
       "    .dataframe tbody tr th:only-of-type {\n",
       "        vertical-align: middle;\n",
       "    }\n",
       "\n",
       "    .dataframe tbody tr th {\n",
       "        vertical-align: top;\n",
       "    }\n",
       "\n",
       "    .dataframe thead th {\n",
       "        text-align: right;\n",
       "    }\n",
       "</style>\n",
       "<table border=\"1\" class=\"dataframe\">\n",
       "  <thead>\n",
       "    <tr style=\"text-align: right;\">\n",
       "      <th></th>\n",
       "      <th>Year</th>\n",
       "      <th>Land use category</th>\n",
       "      <th>Land use</th>\n",
       "      <th>Irrigation</th>\n",
       "      <th>Sources</th>\n",
       "      <th>Quantity (Mt CO2e)</th>\n",
       "      <th>GHG Category</th>\n",
       "    </tr>\n",
       "  </thead>\n",
       "  <tbody>\n",
       "    <tr>\n",
       "      <th>0</th>\n",
       "      <td>2010</td>\n",
       "      <td>Crop</td>\n",
       "      <td>Apples</td>\n",
       "      <td>dry</td>\n",
       "      <td>TCO2E_Asparagopsis taxiformis</td>\n",
       "      <td>0.0</td>\n",
       "      <td>CO2</td>\n",
       "    </tr>\n",
       "    <tr>\n",
       "      <th>1</th>\n",
       "      <td>2010</td>\n",
       "      <td>Crop</td>\n",
       "      <td>Citrus</td>\n",
       "      <td>dry</td>\n",
       "      <td>TCO2E_Asparagopsis taxiformis</td>\n",
       "      <td>0.0</td>\n",
       "      <td>CO2</td>\n",
       "    </tr>\n",
       "    <tr>\n",
       "      <th>2</th>\n",
       "      <td>2010</td>\n",
       "      <td>Crop</td>\n",
       "      <td>Cotton</td>\n",
       "      <td>dry</td>\n",
       "      <td>TCO2E_Asparagopsis taxiformis</td>\n",
       "      <td>0.0</td>\n",
       "      <td>CO2</td>\n",
       "    </tr>\n",
       "    <tr>\n",
       "      <th>3</th>\n",
       "      <td>2010</td>\n",
       "      <td>Crop</td>\n",
       "      <td>Grapes</td>\n",
       "      <td>dry</td>\n",
       "      <td>TCO2E_Asparagopsis taxiformis</td>\n",
       "      <td>0.0</td>\n",
       "      <td>CO2</td>\n",
       "    </tr>\n",
       "    <tr>\n",
       "      <th>4</th>\n",
       "      <td>2010</td>\n",
       "      <td>Crop</td>\n",
       "      <td>Hay</td>\n",
       "      <td>dry</td>\n",
       "      <td>TCO2E_Asparagopsis taxiformis</td>\n",
       "      <td>0.0</td>\n",
       "      <td>CO2</td>\n",
       "    </tr>\n",
       "    <tr>\n",
       "      <th>...</th>\n",
       "      <td>...</td>\n",
       "      <td>...</td>\n",
       "      <td>...</td>\n",
       "      <td>...</td>\n",
       "      <td>...</td>\n",
       "      <td>...</td>\n",
       "      <td>...</td>\n",
       "    </tr>\n",
       "    <tr>\n",
       "      <th>5623</th>\n",
       "      <td>2050</td>\n",
       "      <td>Crop</td>\n",
       "      <td>Winter legumes</td>\n",
       "      <td>irr</td>\n",
       "      <td>TCO2E_Ecological Grazing</td>\n",
       "      <td>0.0</td>\n",
       "      <td>CO2</td>\n",
       "    </tr>\n",
       "    <tr>\n",
       "      <th>5624</th>\n",
       "      <td>2050</td>\n",
       "      <td>Crop</td>\n",
       "      <td>Winter oilseeds</td>\n",
       "      <td>irr</td>\n",
       "      <td>TCO2E_Ecological Grazing</td>\n",
       "      <td>0.0</td>\n",
       "      <td>CO2</td>\n",
       "    </tr>\n",
       "    <tr>\n",
       "      <th>5625</th>\n",
       "      <td>2050</td>\n",
       "      <td>Livestock</td>\n",
       "      <td>Beef</td>\n",
       "      <td>irr</td>\n",
       "      <td>TCO2E_Ecological Grazing</td>\n",
       "      <td>0.0</td>\n",
       "      <td>CO2</td>\n",
       "    </tr>\n",
       "    <tr>\n",
       "      <th>5626</th>\n",
       "      <td>2050</td>\n",
       "      <td>Livestock</td>\n",
       "      <td>Dairy</td>\n",
       "      <td>irr</td>\n",
       "      <td>TCO2E_Ecological Grazing</td>\n",
       "      <td>0.0</td>\n",
       "      <td>CO2</td>\n",
       "    </tr>\n",
       "    <tr>\n",
       "      <th>5627</th>\n",
       "      <td>2050</td>\n",
       "      <td>Livestock</td>\n",
       "      <td>Sheep</td>\n",
       "      <td>irr</td>\n",
       "      <td>TCO2E_Ecological Grazing</td>\n",
       "      <td>0.0</td>\n",
       "      <td>CO2</td>\n",
       "    </tr>\n",
       "  </tbody>\n",
       "</table>\n",
       "<p>5628 rows × 7 columns</p>\n",
       "</div>"
      ],
      "text/plain": [
       "      Year Land use category         Land use Irrigation  \\\n",
       "0     2010              Crop           Apples        dry   \n",
       "1     2010              Crop           Citrus        dry   \n",
       "2     2010              Crop           Cotton        dry   \n",
       "3     2010              Crop           Grapes        dry   \n",
       "4     2010              Crop              Hay        dry   \n",
       "...    ...               ...              ...        ...   \n",
       "5623  2050              Crop   Winter legumes        irr   \n",
       "5624  2050              Crop  Winter oilseeds        irr   \n",
       "5625  2050         Livestock             Beef        irr   \n",
       "5626  2050         Livestock            Dairy        irr   \n",
       "5627  2050         Livestock            Sheep        irr   \n",
       "\n",
       "                            Sources  Quantity (Mt CO2e) GHG Category  \n",
       "0     TCO2E_Asparagopsis taxiformis                 0.0          CO2  \n",
       "1     TCO2E_Asparagopsis taxiformis                 0.0          CO2  \n",
       "2     TCO2E_Asparagopsis taxiformis                 0.0          CO2  \n",
       "3     TCO2E_Asparagopsis taxiformis                 0.0          CO2  \n",
       "4     TCO2E_Asparagopsis taxiformis                 0.0          CO2  \n",
       "...                             ...                 ...          ...  \n",
       "5623       TCO2E_Ecological Grazing                 0.0          CO2  \n",
       "5624       TCO2E_Ecological Grazing                 0.0          CO2  \n",
       "5625       TCO2E_Ecological Grazing                 0.0          CO2  \n",
       "5626       TCO2E_Ecological Grazing                 0.0          CO2  \n",
       "5627       TCO2E_Ecological Grazing                 0.0          CO2  \n",
       "\n",
       "[5628 rows x 7 columns]"
      ]
     },
     "execution_count": 38,
     "metadata": {},
     "output_type": "execute_result"
    }
   ],
   "source": [
    "ag_man_GHG.GHG_df_long"
   ]
  },
  {
   "cell_type": "code",
   "execution_count": null,
   "metadata": {},
   "outputs": [],
   "source": []
  },
  {
   "cell_type": "code",
   "execution_count": null,
   "metadata": {},
   "outputs": [],
   "source": []
  },
  {
   "cell_type": "markdown",
   "metadata": {},
   "source": [
    "### Sequestrations by Crops/Livestocks"
   ]
  },
  {
   "cell_type": "code",
   "execution_count": 39,
   "metadata": {
    "tags": [
     "hide-input"
    ]
   },
   "outputs": [
    {
     "data": {
      "text/html": [
       "\n",
       "<style>\n",
       "  #altair-viz-f4079c2894d64e919bcbeae129e8aada.vega-embed {\n",
       "    width: 100%;\n",
       "    display: flex;\n",
       "  }\n",
       "\n",
       "  #altair-viz-f4079c2894d64e919bcbeae129e8aada.vega-embed details,\n",
       "  #altair-viz-f4079c2894d64e919bcbeae129e8aada.vega-embed details summary {\n",
       "    position: relative;\n",
       "  }\n",
       "</style>\n",
       "<div id=\"altair-viz-f4079c2894d64e919bcbeae129e8aada\"></div>\n",
       "<script type=\"text/javascript\">\n",
       "  var VEGA_DEBUG = (typeof VEGA_DEBUG == \"undefined\") ? {} : VEGA_DEBUG;\n",
       "  (function(spec, embedOpt){\n",
       "    let outputDiv = document.currentScript.previousElementSibling;\n",
       "    if (outputDiv.id !== \"altair-viz-f4079c2894d64e919bcbeae129e8aada\") {\n",
       "      outputDiv = document.getElementById(\"altair-viz-f4079c2894d64e919bcbeae129e8aada\");\n",
       "    }\n",
       "    const paths = {\n",
       "      \"vega\": \"https://cdn.jsdelivr.net/npm/vega@5?noext\",\n",
       "      \"vega-lib\": \"https://cdn.jsdelivr.net/npm/vega-lib?noext\",\n",
       "      \"vega-lite\": \"https://cdn.jsdelivr.net/npm/vega-lite@5.15.1?noext\",\n",
       "      \"vega-embed\": \"https://cdn.jsdelivr.net/npm/vega-embed@6?noext\",\n",
       "    };\n",
       "\n",
       "    function maybeLoadScript(lib, version) {\n",
       "      var key = `${lib.replace(\"-\", \"\")}_version`;\n",
       "      return (VEGA_DEBUG[key] == version) ?\n",
       "        Promise.resolve(paths[lib]) :\n",
       "        new Promise(function(resolve, reject) {\n",
       "          var s = document.createElement('script');\n",
       "          document.getElementsByTagName(\"head\")[0].appendChild(s);\n",
       "          s.async = true;\n",
       "          s.onload = () => {\n",
       "            VEGA_DEBUG[key] = version;\n",
       "            return resolve(paths[lib]);\n",
       "          };\n",
       "          s.onerror = () => reject(`Error loading script: ${paths[lib]}`);\n",
       "          s.src = paths[lib];\n",
       "        });\n",
       "    }\n",
       "\n",
       "    function showError(err) {\n",
       "      outputDiv.innerHTML = `<div class=\"error\" style=\"color:red;\">${err}</div>`;\n",
       "      throw err;\n",
       "    }\n",
       "\n",
       "    function displayChart(vegaEmbed) {\n",
       "      vegaEmbed(outputDiv, spec, embedOpt)\n",
       "        .catch(err => showError(`Javascript Error: ${err.message}<br>This usually means there's a typo in your chart specification. See the javascript console for the full traceback.`));\n",
       "    }\n",
       "\n",
       "    if(typeof define === \"function\" && define.amd) {\n",
       "      requirejs.config({paths});\n",
       "      require([\"vega-embed\"], displayChart, err => showError(`Error loading script: ${err.message}`));\n",
       "    } else {\n",
       "      maybeLoadScript(\"vega\", \"5\")\n",
       "        .then(() => maybeLoadScript(\"vega-lite\", \"5.15.1\"))\n",
       "        .then(() => maybeLoadScript(\"vega-embed\", \"6\"))\n",
       "        .catch(showError)\n",
       "        .then(() => displayChart(vegaEmbed));\n",
       "    }\n",
       "  })({\"config\": {\"view\": {\"continuousWidth\": 300, \"continuousHeight\": 300}}, \"layer\": [{\"mark\": {\"type\": \"bar\"}, \"encoding\": {\"color\": {\"field\": \"Land use category\", \"legend\": {\"direction\": \"horizontal\", \"legendX\": 350, \"legendY\": -40, \"orient\": \"none\", \"title\": \"Landuse type\", \"titleAnchor\": \"middle\"}, \"type\": \"nominal\"}, \"tooltip\": [{\"field\": \"Land use category\", \"title\": \"Landuse type\", \"type\": \"ordinal\"}, {\"field\": \"Quantity (Mt CO2e)\", \"title\": \"GHG sequestration (Mt CO2e)\", \"type\": \"quantitative\"}], \"x\": {\"axis\": {\"labelAngle\": -90, \"title\": \"Year\"}, \"field\": \"Year\", \"type\": \"ordinal\"}, \"y\": {\"field\": \"Quantity (Mt CO2e)\", \"scale\": {\"reverse\": true, \"zero\": false}, \"title\": \"GHG sequestration (Mt CO2e) (Mt CO2e)\", \"type\": \"quantitative\"}}}], \"data\": {\"name\": \"data-1fd607b20f12c8d1baaf904967086f99\"}, \"height\": 450, \"width\": 800, \"$schema\": \"https://vega.github.io/schema/vega-lite/v5.15.1.json\", \"datasets\": {\"data-1fd607b20f12c8d1baaf904967086f99\": [{\"Year\": 2010, \"Land use category\": \"Crop\", \"Quantity (Mt CO2e)\": 0.0}, {\"Year\": 2010, \"Land use category\": \"Livestock\", \"Quantity (Mt CO2e)\": 0.0}, {\"Year\": 2011, \"Land use category\": \"Crop\", \"Quantity (Mt CO2e)\": -0.073471909084}, {\"Year\": 2011, \"Land use category\": \"Livestock\", \"Quantity (Mt CO2e)\": -1.6636725565}, {\"Year\": 2012, \"Land use category\": \"Crop\", \"Quantity (Mt CO2e)\": -0.07901897713}, {\"Year\": 2012, \"Land use category\": \"Livestock\", \"Quantity (Mt CO2e)\": -2.59989587081}, {\"Year\": 2013, \"Land use category\": \"Crop\", \"Quantity (Mt CO2e)\": -0.086316329538}, {\"Year\": 2013, \"Land use category\": \"Livestock\", \"Quantity (Mt CO2e)\": -3.3306749658400006}, {\"Year\": 2014, \"Land use category\": \"Crop\", \"Quantity (Mt CO2e)\": -0.08721462400999999}, {\"Year\": 2014, \"Land use category\": \"Livestock\", \"Quantity (Mt CO2e)\": -3.99808998363}, {\"Year\": 2015, \"Land use category\": \"Crop\", \"Quantity (Mt CO2e)\": -0.090560049803}, {\"Year\": 2015, \"Land use category\": \"Livestock\", \"Quantity (Mt CO2e)\": -4.5590262839}, {\"Year\": 2016, \"Land use category\": \"Crop\", \"Quantity (Mt CO2e)\": -0.091832050267}, {\"Year\": 2016, \"Land use category\": \"Livestock\", \"Quantity (Mt CO2e)\": -4.96366133693}, {\"Year\": 2017, \"Land use category\": \"Crop\", \"Quantity (Mt CO2e)\": -0.106084713154}, {\"Year\": 2017, \"Land use category\": \"Livestock\", \"Quantity (Mt CO2e)\": -5.10757004653}, {\"Year\": 2018, \"Land use category\": \"Crop\", \"Quantity (Mt CO2e)\": -0.11481971642700001}, {\"Year\": 2018, \"Land use category\": \"Livestock\", \"Quantity (Mt CO2e)\": -5.27352774643}, {\"Year\": 2019, \"Land use category\": \"Crop\", \"Quantity (Mt CO2e)\": -0.13597418082}, {\"Year\": 2019, \"Land use category\": \"Livestock\", \"Quantity (Mt CO2e)\": -5.42463888324}, {\"Year\": 2020, \"Land use category\": \"Crop\", \"Quantity (Mt CO2e)\": -0.139234161326}, {\"Year\": 2020, \"Land use category\": \"Livestock\", \"Quantity (Mt CO2e)\": -5.438756607259999}, {\"Year\": 2021, \"Land use category\": \"Crop\", \"Quantity (Mt CO2e)\": -0.15735444937999998}, {\"Year\": 2021, \"Land use category\": \"Livestock\", \"Quantity (Mt CO2e)\": -5.20993451922}, {\"Year\": 2022, \"Land use category\": \"Crop\", \"Quantity (Mt CO2e)\": -0.1780899759}, {\"Year\": 2022, \"Land use category\": \"Livestock\", \"Quantity (Mt CO2e)\": -4.815416347376}, {\"Year\": 2023, \"Land use category\": \"Crop\", \"Quantity (Mt CO2e)\": -0.20305880537}, {\"Year\": 2023, \"Land use category\": \"Livestock\", \"Quantity (Mt CO2e)\": -4.492250145686}, {\"Year\": 2024, \"Land use category\": \"Crop\", \"Quantity (Mt CO2e)\": -0.2392429616}, {\"Year\": 2024, \"Land use category\": \"Livestock\", \"Quantity (Mt CO2e)\": -4.69162878641}, {\"Year\": 2025, \"Land use category\": \"Crop\", \"Quantity (Mt CO2e)\": -0.26143200711000003}, {\"Year\": 2025, \"Land use category\": \"Livestock\", \"Quantity (Mt CO2e)\": -5.21276920809}, {\"Year\": 2026, \"Land use category\": \"Crop\", \"Quantity (Mt CO2e)\": -0.32033660495}, {\"Year\": 2026, \"Land use category\": \"Livestock\", \"Quantity (Mt CO2e)\": -7.2046255308500005}, {\"Year\": 2027, \"Land use category\": \"Crop\", \"Quantity (Mt CO2e)\": -0.36372145145999996}, {\"Year\": 2027, \"Land use category\": \"Livestock\", \"Quantity (Mt CO2e)\": -8.46229256176}, {\"Year\": 2028, \"Land use category\": \"Crop\", \"Quantity (Mt CO2e)\": -0.3797763592}, {\"Year\": 2028, \"Land use category\": \"Livestock\", \"Quantity (Mt CO2e)\": -10.655752351474}, {\"Year\": 2029, \"Land use category\": \"Crop\", \"Quantity (Mt CO2e)\": -0.41402202394}, {\"Year\": 2029, \"Land use category\": \"Livestock\", \"Quantity (Mt CO2e)\": -11.367903262293}, {\"Year\": 2030, \"Land use category\": \"Crop\", \"Quantity (Mt CO2e)\": -0.42365272426}, {\"Year\": 2030, \"Land use category\": \"Livestock\", \"Quantity (Mt CO2e)\": -12.55982901006}, {\"Year\": 2031, \"Land use category\": \"Crop\", \"Quantity (Mt CO2e)\": -0.43293583244}, {\"Year\": 2031, \"Land use category\": \"Livestock\", \"Quantity (Mt CO2e)\": -15.18527737628}, {\"Year\": 2032, \"Land use category\": \"Crop\", \"Quantity (Mt CO2e)\": -0.44305720249999997}, {\"Year\": 2032, \"Land use category\": \"Livestock\", \"Quantity (Mt CO2e)\": -15.43724133288}, {\"Year\": 2033, \"Land use category\": \"Crop\", \"Quantity (Mt CO2e)\": -0.4460531041}, {\"Year\": 2033, \"Land use category\": \"Livestock\", \"Quantity (Mt CO2e)\": -15.77243985142}, {\"Year\": 2034, \"Land use category\": \"Crop\", \"Quantity (Mt CO2e)\": -0.48770289235}, {\"Year\": 2034, \"Land use category\": \"Livestock\", \"Quantity (Mt CO2e)\": -15.81289792606}, {\"Year\": 2035, \"Land use category\": \"Crop\", \"Quantity (Mt CO2e)\": -0.49638421936}, {\"Year\": 2035, \"Land use category\": \"Livestock\", \"Quantity (Mt CO2e)\": -15.7805059593624}, {\"Year\": 2036, \"Land use category\": \"Crop\", \"Quantity (Mt CO2e)\": -0.508577240738}, {\"Year\": 2036, \"Land use category\": \"Livestock\", \"Quantity (Mt CO2e)\": -15.523204989196}, {\"Year\": 2037, \"Land use category\": \"Crop\", \"Quantity (Mt CO2e)\": -0.532302246113}, {\"Year\": 2037, \"Land use category\": \"Livestock\", \"Quantity (Mt CO2e)\": -15.56869801376}, {\"Year\": 2038, \"Land use category\": \"Crop\", \"Quantity (Mt CO2e)\": -0.57379940626}, {\"Year\": 2038, \"Land use category\": \"Livestock\", \"Quantity (Mt CO2e)\": -15.316279408733}, {\"Year\": 2039, \"Land use category\": \"Crop\", \"Quantity (Mt CO2e)\": -0.63183559863}, {\"Year\": 2039, \"Land use category\": \"Livestock\", \"Quantity (Mt CO2e)\": -15.340167256829}, {\"Year\": 2040, \"Land use category\": \"Crop\", \"Quantity (Mt CO2e)\": -0.73836407466}, {\"Year\": 2040, \"Land use category\": \"Livestock\", \"Quantity (Mt CO2e)\": -15.584631441216}, {\"Year\": 2041, \"Land use category\": \"Crop\", \"Quantity (Mt CO2e)\": -0.8396034354040001}, {\"Year\": 2041, \"Land use category\": \"Livestock\", \"Quantity (Mt CO2e)\": -15.99921093679}, {\"Year\": 2042, \"Land use category\": \"Crop\", \"Quantity (Mt CO2e)\": -1.022650609252}, {\"Year\": 2042, \"Land use category\": \"Livestock\", \"Quantity (Mt CO2e)\": -16.401891261983998}, {\"Year\": 2043, \"Land use category\": \"Crop\", \"Quantity (Mt CO2e)\": -1.1494324516249999}, {\"Year\": 2043, \"Land use category\": \"Livestock\", \"Quantity (Mt CO2e)\": -17.073843285837}, {\"Year\": 2044, \"Land use category\": \"Crop\", \"Quantity (Mt CO2e)\": -1.23301095603}, {\"Year\": 2044, \"Land use category\": \"Livestock\", \"Quantity (Mt CO2e)\": -17.174418476785}, {\"Year\": 2045, \"Land use category\": \"Crop\", \"Quantity (Mt CO2e)\": -1.368952034447}, {\"Year\": 2045, \"Land use category\": \"Livestock\", \"Quantity (Mt CO2e)\": -17.17313363537}, {\"Year\": 2046, \"Land use category\": \"Crop\", \"Quantity (Mt CO2e)\": -1.3758339028105}, {\"Year\": 2046, \"Land use category\": \"Livestock\", \"Quantity (Mt CO2e)\": -22.546731616888}, {\"Year\": 2047, \"Land use category\": \"Crop\", \"Quantity (Mt CO2e)\": -1.387309718703}, {\"Year\": 2047, \"Land use category\": \"Livestock\", \"Quantity (Mt CO2e)\": -28.5088849037466}, {\"Year\": 2048, \"Land use category\": \"Crop\", \"Quantity (Mt CO2e)\": -1.38973515937}, {\"Year\": 2048, \"Land use category\": \"Livestock\", \"Quantity (Mt CO2e)\": -29.841070059899998}, {\"Year\": 2049, \"Land use category\": \"Crop\", \"Quantity (Mt CO2e)\": -1.38781520704}, {\"Year\": 2049, \"Land use category\": \"Livestock\", \"Quantity (Mt CO2e)\": -31.42530289425}, {\"Year\": 2050, \"Land use category\": \"Crop\", \"Quantity (Mt CO2e)\": -1.38617425872}, {\"Year\": 2050, \"Land use category\": \"Livestock\", \"Quantity (Mt CO2e)\": -33.003536071001}]}}, {\"mode\": \"vega-lite\"});\n",
       "</script>"
      ],
      "text/plain": [
       "alt.LayerChart(...)"
      ]
     },
     "execution_count": 39,
     "metadata": {},
     "output_type": "execute_result"
    }
   ],
   "source": [
    "# HIDE CODE\n",
    "# get the df and plot\n",
    "GHG_ag_man_GHG_crop_lvstk_df,GHG_ag_man_GHG_crop_lvstk_plot = ag_man_GHG.plot_GHG_crop_lvstk()\n",
    "GHG_ag_man_GHG_crop_lvstk_plot"
   ]
  },
  {
   "cell_type": "code",
   "execution_count": null,
   "metadata": {},
   "outputs": [],
   "source": []
  },
  {
   "cell_type": "code",
   "execution_count": null,
   "metadata": {},
   "outputs": [],
   "source": []
  },
  {
   "cell_type": "markdown",
   "metadata": {},
   "source": [
    "### Sequestrations by irrigation system"
   ]
  },
  {
   "cell_type": "code",
   "execution_count": 40,
   "metadata": {
    "tags": [
     "hide-input"
    ]
   },
   "outputs": [
    {
     "data": {
      "text/html": [
       "\n",
       "<style>\n",
       "  #altair-viz-f555ab37aff64260b3c3b82153a2aa88.vega-embed {\n",
       "    width: 100%;\n",
       "    display: flex;\n",
       "  }\n",
       "\n",
       "  #altair-viz-f555ab37aff64260b3c3b82153a2aa88.vega-embed details,\n",
       "  #altair-viz-f555ab37aff64260b3c3b82153a2aa88.vega-embed details summary {\n",
       "    position: relative;\n",
       "  }\n",
       "</style>\n",
       "<div id=\"altair-viz-f555ab37aff64260b3c3b82153a2aa88\"></div>\n",
       "<script type=\"text/javascript\">\n",
       "  var VEGA_DEBUG = (typeof VEGA_DEBUG == \"undefined\") ? {} : VEGA_DEBUG;\n",
       "  (function(spec, embedOpt){\n",
       "    let outputDiv = document.currentScript.previousElementSibling;\n",
       "    if (outputDiv.id !== \"altair-viz-f555ab37aff64260b3c3b82153a2aa88\") {\n",
       "      outputDiv = document.getElementById(\"altair-viz-f555ab37aff64260b3c3b82153a2aa88\");\n",
       "    }\n",
       "    const paths = {\n",
       "      \"vega\": \"https://cdn.jsdelivr.net/npm/vega@5?noext\",\n",
       "      \"vega-lib\": \"https://cdn.jsdelivr.net/npm/vega-lib?noext\",\n",
       "      \"vega-lite\": \"https://cdn.jsdelivr.net/npm/vega-lite@5.15.1?noext\",\n",
       "      \"vega-embed\": \"https://cdn.jsdelivr.net/npm/vega-embed@6?noext\",\n",
       "    };\n",
       "\n",
       "    function maybeLoadScript(lib, version) {\n",
       "      var key = `${lib.replace(\"-\", \"\")}_version`;\n",
       "      return (VEGA_DEBUG[key] == version) ?\n",
       "        Promise.resolve(paths[lib]) :\n",
       "        new Promise(function(resolve, reject) {\n",
       "          var s = document.createElement('script');\n",
       "          document.getElementsByTagName(\"head\")[0].appendChild(s);\n",
       "          s.async = true;\n",
       "          s.onload = () => {\n",
       "            VEGA_DEBUG[key] = version;\n",
       "            return resolve(paths[lib]);\n",
       "          };\n",
       "          s.onerror = () => reject(`Error loading script: ${paths[lib]}`);\n",
       "          s.src = paths[lib];\n",
       "        });\n",
       "    }\n",
       "\n",
       "    function showError(err) {\n",
       "      outputDiv.innerHTML = `<div class=\"error\" style=\"color:red;\">${err}</div>`;\n",
       "      throw err;\n",
       "    }\n",
       "\n",
       "    function displayChart(vegaEmbed) {\n",
       "      vegaEmbed(outputDiv, spec, embedOpt)\n",
       "        .catch(err => showError(`Javascript Error: ${err.message}<br>This usually means there's a typo in your chart specification. See the javascript console for the full traceback.`));\n",
       "    }\n",
       "\n",
       "    if(typeof define === \"function\" && define.amd) {\n",
       "      requirejs.config({paths});\n",
       "      require([\"vega-embed\"], displayChart, err => showError(`Error loading script: ${err.message}`));\n",
       "    } else {\n",
       "      maybeLoadScript(\"vega\", \"5\")\n",
       "        .then(() => maybeLoadScript(\"vega-lite\", \"5.15.1\"))\n",
       "        .then(() => maybeLoadScript(\"vega-embed\", \"6\"))\n",
       "        .catch(showError)\n",
       "        .then(() => displayChart(vegaEmbed));\n",
       "    }\n",
       "  })({\"config\": {\"view\": {\"continuousWidth\": 300, \"continuousHeight\": 300}}, \"layer\": [{\"mark\": {\"type\": \"bar\"}, \"encoding\": {\"color\": {\"field\": \"Irrigation\", \"legend\": {\"direction\": \"horizontal\", \"legendX\": 350, \"legendY\": -40, \"orient\": \"none\", \"title\": \"Irrigation\", \"titleAnchor\": \"middle\"}, \"type\": \"nominal\"}, \"tooltip\": [{\"field\": \"Irrigation\", \"title\": \"Irrigation\", \"type\": \"nominal\"}, {\"field\": \"Quantity (Mt CO2e)\", \"title\": \"GHG sequestration (Mt CO2e)\", \"type\": \"quantitative\"}], \"x\": {\"axis\": {\"labelAngle\": -90, \"title\": \"Year\"}, \"field\": \"Year\", \"type\": \"ordinal\"}, \"y\": {\"field\": \"Quantity (Mt CO2e)\", \"scale\": {\"reverse\": true}, \"title\": \"GHG sequestration (Mt CO2e) (Mt CO2e)\", \"type\": \"quantitative\"}}}], \"data\": {\"name\": \"data-19c5951605aa1750091562893c63ef0c\"}, \"height\": 450, \"width\": 800, \"$schema\": \"https://vega.github.io/schema/vega-lite/v5.15.1.json\", \"datasets\": {\"data-19c5951605aa1750091562893c63ef0c\": [{\"Year\": 2010, \"Irrigation\": \"dry\", \"Quantity (Mt CO2e)\": 0.0}, {\"Year\": 2010, \"Irrigation\": \"irr\", \"Quantity (Mt CO2e)\": 0.0}, {\"Year\": 2011, \"Irrigation\": \"dry\", \"Quantity (Mt CO2e)\": -1.6883409239399998}, {\"Year\": 2011, \"Irrigation\": \"irr\", \"Quantity (Mt CO2e)\": -0.048803541644}, {\"Year\": 2012, \"Irrigation\": \"dry\", \"Quantity (Mt CO2e)\": -2.62562051145}, {\"Year\": 2012, \"Irrigation\": \"irr\", \"Quantity (Mt CO2e)\": -0.05329433649}, {\"Year\": 2013, \"Irrigation\": \"dry\", \"Quantity (Mt CO2e)\": -3.3615379592000005}, {\"Year\": 2013, \"Irrigation\": \"irr\", \"Quantity (Mt CO2e)\": -0.055453336178}, {\"Year\": 2014, \"Irrigation\": \"dry\", \"Quantity (Mt CO2e)\": -4.02689097484}, {\"Year\": 2014, \"Irrigation\": \"irr\", \"Quantity (Mt CO2e)\": -0.0584136328}, {\"Year\": 2015, \"Irrigation\": \"dry\", \"Quantity (Mt CO2e)\": -4.58094757737}, {\"Year\": 2015, \"Irrigation\": \"irr\", \"Quantity (Mt CO2e)\": -0.068638756333}, {\"Year\": 2016, \"Irrigation\": \"dry\", \"Quantity (Mt CO2e)\": -4.98663293374}, {\"Year\": 2016, \"Irrigation\": \"irr\", \"Quantity (Mt CO2e)\": -0.068860453457}, {\"Year\": 2017, \"Irrigation\": \"dry\", \"Quantity (Mt CO2e)\": -5.13832883529}, {\"Year\": 2017, \"Irrigation\": \"irr\", \"Quantity (Mt CO2e)\": -0.075325924394}, {\"Year\": 2018, \"Irrigation\": \"dry\", \"Quantity (Mt CO2e)\": -5.30931823996}, {\"Year\": 2018, \"Irrigation\": \"irr\", \"Quantity (Mt CO2e)\": -0.079029222897}, {\"Year\": 2019, \"Irrigation\": \"dry\", \"Quantity (Mt CO2e)\": -5.45837112535}, {\"Year\": 2019, \"Irrigation\": \"irr\", \"Quantity (Mt CO2e)\": -0.10224193871000001}, {\"Year\": 2020, \"Irrigation\": \"dry\", \"Quantity (Mt CO2e)\": -5.470877245485999}, {\"Year\": 2020, \"Irrigation\": \"irr\", \"Quantity (Mt CO2e)\": -0.1071135231}, {\"Year\": 2021, \"Irrigation\": \"dry\", \"Quantity (Mt CO2e)\": -5.2493234089800005}, {\"Year\": 2021, \"Irrigation\": \"irr\", \"Quantity (Mt CO2e)\": -0.11796555962000001}, {\"Year\": 2022, \"Irrigation\": \"dry\", \"Quantity (Mt CO2e)\": -4.86274558329}, {\"Year\": 2022, \"Irrigation\": \"irr\", \"Quantity (Mt CO2e)\": -0.130760739986}, {\"Year\": 2023, \"Irrigation\": \"dry\", \"Quantity (Mt CO2e)\": -4.54273304019}, {\"Year\": 2023, \"Irrigation\": \"irr\", \"Quantity (Mt CO2e)\": -0.152575910866}, {\"Year\": 2024, \"Irrigation\": \"dry\", \"Quantity (Mt CO2e)\": -4.77316924}, {\"Year\": 2024, \"Irrigation\": \"irr\", \"Quantity (Mt CO2e)\": -0.15770250801}, {\"Year\": 2025, \"Irrigation\": \"dry\", \"Quantity (Mt CO2e)\": -5.30946090076}, {\"Year\": 2025, \"Irrigation\": \"irr\", \"Quantity (Mt CO2e)\": -0.16474031444}, {\"Year\": 2026, \"Irrigation\": \"dry\", \"Quantity (Mt CO2e)\": -7.33961830642}, {\"Year\": 2026, \"Irrigation\": \"irr\", \"Quantity (Mt CO2e)\": -0.18534382938}, {\"Year\": 2027, \"Irrigation\": \"dry\", \"Quantity (Mt CO2e)\": -8.626347434700001}, {\"Year\": 2027, \"Irrigation\": \"irr\", \"Quantity (Mt CO2e)\": -0.19966657852}, {\"Year\": 2028, \"Irrigation\": \"dry\", \"Quantity (Mt CO2e)\": -10.822342838394}, {\"Year\": 2028, \"Irrigation\": \"irr\", \"Quantity (Mt CO2e)\": -0.21318587228}, {\"Year\": 2029, \"Irrigation\": \"dry\", \"Quantity (Mt CO2e)\": -11.54169693346}, {\"Year\": 2029, \"Irrigation\": \"irr\", \"Quantity (Mt CO2e)\": -0.24022835277299998}, {\"Year\": 2030, \"Irrigation\": \"dry\", \"Quantity (Mt CO2e)\": -12.73864418062}, {\"Year\": 2030, \"Irrigation\": \"irr\", \"Quantity (Mt CO2e)\": -0.24483755370000002}, {\"Year\": 2031, \"Irrigation\": \"dry\", \"Quantity (Mt CO2e)\": -15.36777339684}, {\"Year\": 2031, \"Irrigation\": \"irr\", \"Quantity (Mt CO2e)\": -0.25043981188}, {\"Year\": 2032, \"Irrigation\": \"dry\", \"Quantity (Mt CO2e)\": -15.6264083568}, {\"Year\": 2032, \"Irrigation\": \"irr\", \"Quantity (Mt CO2e)\": -0.25389017858}, {\"Year\": 2033, \"Irrigation\": \"dry\", \"Quantity (Mt CO2e)\": -15.96532446639}, {\"Year\": 2033, \"Irrigation\": \"irr\", \"Quantity (Mt CO2e)\": -0.25316848913}, {\"Year\": 2034, \"Irrigation\": \"dry\", \"Quantity (Mt CO2e)\": -16.022181952489998}, {\"Year\": 2034, \"Irrigation\": \"irr\", \"Quantity (Mt CO2e)\": -0.27841886592}, {\"Year\": 2035, \"Irrigation\": \"dry\", \"Quantity (Mt CO2e)\": -16.014232775405}, {\"Year\": 2035, \"Irrigation\": \"irr\", \"Quantity (Mt CO2e)\": -0.2626574033174}, {\"Year\": 2036, \"Irrigation\": \"dry\", \"Quantity (Mt CO2e)\": -15.775242712278}, {\"Year\": 2036, \"Irrigation\": \"irr\", \"Quantity (Mt CO2e)\": -0.256539517656}, {\"Year\": 2037, \"Irrigation\": \"dry\", \"Quantity (Mt CO2e)\": -15.842639188023002}, {\"Year\": 2037, \"Irrigation\": \"irr\", \"Quantity (Mt CO2e)\": -0.25836107185}, {\"Year\": 2038, \"Irrigation\": \"dry\", \"Quantity (Mt CO2e)\": -15.623871928182998}, {\"Year\": 2038, \"Irrigation\": \"irr\", \"Quantity (Mt CO2e)\": -0.26620688681}, {\"Year\": 2039, \"Irrigation\": \"dry\", \"Quantity (Mt CO2e)\": -15.666010954589}, {\"Year\": 2039, \"Irrigation\": \"irr\", \"Quantity (Mt CO2e)\": -0.30599190087}, {\"Year\": 2040, \"Irrigation\": \"dry\", \"Quantity (Mt CO2e)\": -15.911398344845999}, {\"Year\": 2040, \"Irrigation\": \"irr\", \"Quantity (Mt CO2e)\": -0.41159717103}, {\"Year\": 2041, \"Irrigation\": \"dry\", \"Quantity (Mt CO2e)\": -16.19850851892}, {\"Year\": 2041, \"Irrigation\": \"irr\", \"Quantity (Mt CO2e)\": -0.6403058532739999}, {\"Year\": 2042, \"Irrigation\": \"dry\", \"Quantity (Mt CO2e)\": -16.544571740232}, {\"Year\": 2042, \"Irrigation\": \"irr\", \"Quantity (Mt CO2e)\": -0.8799701310039999}, {\"Year\": 2043, \"Irrigation\": \"dry\", \"Quantity (Mt CO2e)\": -16.968307667957}, {\"Year\": 2043, \"Irrigation\": \"irr\", \"Quantity (Mt CO2e)\": -1.2549680695049998}, {\"Year\": 2044, \"Irrigation\": \"dry\", \"Quantity (Mt CO2e)\": -17.071780885345}, {\"Year\": 2044, \"Irrigation\": \"irr\", \"Quantity (Mt CO2e)\": -1.33564854747}, {\"Year\": 2045, \"Irrigation\": \"dry\", \"Quantity (Mt CO2e)\": -17.192947664347}, {\"Year\": 2045, \"Irrigation\": \"irr\", \"Quantity (Mt CO2e)\": -1.34913800547}, {\"Year\": 2046, \"Irrigation\": \"dry\", \"Quantity (Mt CO2e)\": -22.5302005820285}, {\"Year\": 2046, \"Irrigation\": \"irr\", \"Quantity (Mt CO2e)\": -1.39236493767}, {\"Year\": 2047, \"Irrigation\": \"dry\", \"Quantity (Mt CO2e)\": -28.4820429474196}, {\"Year\": 2047, \"Irrigation\": \"irr\", \"Quantity (Mt CO2e)\": -1.4141516750299998}, {\"Year\": 2048, \"Irrigation\": \"dry\", \"Quantity (Mt CO2e)\": -29.84066685022}, {\"Year\": 2048, \"Irrigation\": \"irr\", \"Quantity (Mt CO2e)\": -1.39013836905}, {\"Year\": 2049, \"Irrigation\": \"dry\", \"Quantity (Mt CO2e)\": -31.51740401588}, {\"Year\": 2049, \"Irrigation\": \"irr\", \"Quantity (Mt CO2e)\": -1.29571408541}, {\"Year\": 2050, \"Irrigation\": \"dry\", \"Quantity (Mt CO2e)\": -33.215175876901}, {\"Year\": 2050, \"Irrigation\": \"irr\", \"Quantity (Mt CO2e)\": -1.17453445282}]}}, {\"mode\": \"vega-lite\"});\n",
       "</script>"
      ],
      "text/plain": [
       "alt.LayerChart(...)"
      ]
     },
     "execution_count": 40,
     "metadata": {},
     "output_type": "execute_result"
    }
   ],
   "source": [
    "# HIDE CODE\n",
    "# get the df and plot\n",
    "GHG_ag_man_dry_irr_df,GHG_ag_man_dry_irr_plot = ag_man_GHG.plot_GHG_dry_irr()\n",
    "GHG_ag_man_dry_irr_plot"
   ]
  },
  {
   "cell_type": "code",
   "execution_count": null,
   "metadata": {},
   "outputs": [],
   "source": []
  },
  {
   "cell_type": "markdown",
   "metadata": {},
   "source": [
    "### Sequestrations by GHG category"
   ]
  },
  {
   "cell_type": "code",
   "execution_count": 41,
   "metadata": {
    "tags": [
     "hide-input"
    ]
   },
   "outputs": [
    {
     "data": {
      "text/html": [
       "\n",
       "<style>\n",
       "  #altair-viz-7bf53ab518b0408f8d169a50cef683b9.vega-embed {\n",
       "    width: 100%;\n",
       "    display: flex;\n",
       "  }\n",
       "\n",
       "  #altair-viz-7bf53ab518b0408f8d169a50cef683b9.vega-embed details,\n",
       "  #altair-viz-7bf53ab518b0408f8d169a50cef683b9.vega-embed details summary {\n",
       "    position: relative;\n",
       "  }\n",
       "</style>\n",
       "<div id=\"altair-viz-7bf53ab518b0408f8d169a50cef683b9\"></div>\n",
       "<script type=\"text/javascript\">\n",
       "  var VEGA_DEBUG = (typeof VEGA_DEBUG == \"undefined\") ? {} : VEGA_DEBUG;\n",
       "  (function(spec, embedOpt){\n",
       "    let outputDiv = document.currentScript.previousElementSibling;\n",
       "    if (outputDiv.id !== \"altair-viz-7bf53ab518b0408f8d169a50cef683b9\") {\n",
       "      outputDiv = document.getElementById(\"altair-viz-7bf53ab518b0408f8d169a50cef683b9\");\n",
       "    }\n",
       "    const paths = {\n",
       "      \"vega\": \"https://cdn.jsdelivr.net/npm/vega@5?noext\",\n",
       "      \"vega-lib\": \"https://cdn.jsdelivr.net/npm/vega-lib?noext\",\n",
       "      \"vega-lite\": \"https://cdn.jsdelivr.net/npm/vega-lite@5.15.1?noext\",\n",
       "      \"vega-embed\": \"https://cdn.jsdelivr.net/npm/vega-embed@6?noext\",\n",
       "    };\n",
       "\n",
       "    function maybeLoadScript(lib, version) {\n",
       "      var key = `${lib.replace(\"-\", \"\")}_version`;\n",
       "      return (VEGA_DEBUG[key] == version) ?\n",
       "        Promise.resolve(paths[lib]) :\n",
       "        new Promise(function(resolve, reject) {\n",
       "          var s = document.createElement('script');\n",
       "          document.getElementsByTagName(\"head\")[0].appendChild(s);\n",
       "          s.async = true;\n",
       "          s.onload = () => {\n",
       "            VEGA_DEBUG[key] = version;\n",
       "            return resolve(paths[lib]);\n",
       "          };\n",
       "          s.onerror = () => reject(`Error loading script: ${paths[lib]}`);\n",
       "          s.src = paths[lib];\n",
       "        });\n",
       "    }\n",
       "\n",
       "    function showError(err) {\n",
       "      outputDiv.innerHTML = `<div class=\"error\" style=\"color:red;\">${err}</div>`;\n",
       "      throw err;\n",
       "    }\n",
       "\n",
       "    function displayChart(vegaEmbed) {\n",
       "      vegaEmbed(outputDiv, spec, embedOpt)\n",
       "        .catch(err => showError(`Javascript Error: ${err.message}<br>This usually means there's a typo in your chart specification. See the javascript console for the full traceback.`));\n",
       "    }\n",
       "\n",
       "    if(typeof define === \"function\" && define.amd) {\n",
       "      requirejs.config({paths});\n",
       "      require([\"vega-embed\"], displayChart, err => showError(`Error loading script: ${err.message}`));\n",
       "    } else {\n",
       "      maybeLoadScript(\"vega\", \"5\")\n",
       "        .then(() => maybeLoadScript(\"vega-lite\", \"5.15.1\"))\n",
       "        .then(() => maybeLoadScript(\"vega-embed\", \"6\"))\n",
       "        .catch(showError)\n",
       "        .then(() => displayChart(vegaEmbed));\n",
       "    }\n",
       "  })({\"config\": {\"view\": {\"continuousWidth\": 300, \"continuousHeight\": 300}}, \"layer\": [{\"mark\": {\"type\": \"bar\"}, \"encoding\": {\"color\": {\"field\": \"GHG Category\", \"legend\": {\"direction\": \"horizontal\", \"legendX\": 320, \"legendY\": -30, \"orient\": \"none\", \"title\": \"GHG Category\", \"titleAnchor\": \"middle\"}, \"type\": \"nominal\"}, \"tooltip\": [{\"field\": \"GHG Category\", \"title\": \"GHG Category\", \"type\": \"nominal\"}, {\"field\": \"Quantity (Mt CO2e)\", \"title\": \"GHG sequestration (Mt CO2e)\", \"type\": \"quantitative\"}], \"x\": {\"axis\": {\"labelAngle\": -90, \"title\": \"Year\"}, \"field\": \"Year\", \"type\": \"ordinal\"}, \"y\": {\"field\": \"Quantity (Mt CO2e)\", \"scale\": {\"reverse\": true}, \"title\": \"GHG sequestration (Mt CO2e) (Mt CO2e)\", \"type\": \"quantitative\"}}}], \"data\": {\"name\": \"data-d0f31985750d68289b2cfa56963c9da6\"}, \"height\": 450, \"width\": 800, \"$schema\": \"https://vega.github.io/schema/vega-lite/v5.15.1.json\", \"datasets\": {\"data-d0f31985750d68289b2cfa56963c9da6\": [{\"Year\": 2010, \"GHG Category\": \"CO2\", \"Quantity (Mt CO2e)\": 0.0}, {\"Year\": 2011, \"GHG Category\": \"CO2\", \"Quantity (Mt CO2e)\": -1.7371444655839998}, {\"Year\": 2012, \"GHG Category\": \"CO2\", \"Quantity (Mt CO2e)\": -2.67891484794}, {\"Year\": 2013, \"GHG Category\": \"CO2\", \"Quantity (Mt CO2e)\": -3.416991295378}, {\"Year\": 2014, \"GHG Category\": \"CO2\", \"Quantity (Mt CO2e)\": -4.0853046076399995}, {\"Year\": 2015, \"GHG Category\": \"CO2\", \"Quantity (Mt CO2e)\": -4.649586333703}, {\"Year\": 2016, \"GHG Category\": \"CO2\", \"Quantity (Mt CO2e)\": -5.055493387197}, {\"Year\": 2017, \"GHG Category\": \"CO2\", \"Quantity (Mt CO2e)\": -5.213654759684}, {\"Year\": 2018, \"GHG Category\": \"CO2\", \"Quantity (Mt CO2e)\": -5.388347462857}, {\"Year\": 2019, \"GHG Category\": \"CO2\", \"Quantity (Mt CO2e)\": -5.56061306406}, {\"Year\": 2020, \"GHG Category\": \"CO2\", \"Quantity (Mt CO2e)\": -5.577990768586}, {\"Year\": 2021, \"GHG Category\": \"CO2\", \"Quantity (Mt CO2e)\": -5.3672889686000005}, {\"Year\": 2022, \"GHG Category\": \"CO2\", \"Quantity (Mt CO2e)\": -4.993506323276}, {\"Year\": 2023, \"GHG Category\": \"CO2\", \"Quantity (Mt CO2e)\": -4.695308951056}, {\"Year\": 2024, \"GHG Category\": \"CO2\", \"Quantity (Mt CO2e)\": -4.9308717480099995}, {\"Year\": 2025, \"GHG Category\": \"CO2\", \"Quantity (Mt CO2e)\": -5.4742012152}, {\"Year\": 2026, \"GHG Category\": \"CO2\", \"Quantity (Mt CO2e)\": -7.5249621358}, {\"Year\": 2027, \"GHG Category\": \"CO2\", \"Quantity (Mt CO2e)\": -8.82601401322}, {\"Year\": 2028, \"GHG Category\": \"CO2\", \"Quantity (Mt CO2e)\": -11.035528710674}, {\"Year\": 2029, \"GHG Category\": \"CO2\", \"Quantity (Mt CO2e)\": -11.781925286233001}, {\"Year\": 2030, \"GHG Category\": \"CO2\", \"Quantity (Mt CO2e)\": -12.98348173432}, {\"Year\": 2031, \"GHG Category\": \"CO2\", \"Quantity (Mt CO2e)\": -15.61821320872}, {\"Year\": 2032, \"GHG Category\": \"CO2\", \"Quantity (Mt CO2e)\": -15.880298535380001}, {\"Year\": 2033, \"GHG Category\": \"CO2\", \"Quantity (Mt CO2e)\": -16.21849295552}, {\"Year\": 2034, \"GHG Category\": \"CO2\", \"Quantity (Mt CO2e)\": -16.30060081841}, {\"Year\": 2035, \"GHG Category\": \"CO2\", \"Quantity (Mt CO2e)\": -16.2768901787224}, {\"Year\": 2036, \"GHG Category\": \"CO2\", \"Quantity (Mt CO2e)\": -16.031782229934002}, {\"Year\": 2037, \"GHG Category\": \"CO2\", \"Quantity (Mt CO2e)\": -16.101000259873}, {\"Year\": 2038, \"GHG Category\": \"CO2\", \"Quantity (Mt CO2e)\": -15.890078814992998}, {\"Year\": 2039, \"GHG Category\": \"CO2\", \"Quantity (Mt CO2e)\": -15.972002855459001}, {\"Year\": 2040, \"GHG Category\": \"CO2\", \"Quantity (Mt CO2e)\": -16.322995515876}, {\"Year\": 2041, \"GHG Category\": \"CO2\", \"Quantity (Mt CO2e)\": -16.838814372194}, {\"Year\": 2042, \"GHG Category\": \"CO2\", \"Quantity (Mt CO2e)\": -17.424541871236}, {\"Year\": 2043, \"GHG Category\": \"CO2\", \"Quantity (Mt CO2e)\": -18.223275737462}, {\"Year\": 2044, \"GHG Category\": \"CO2\", \"Quantity (Mt CO2e)\": -18.407429432815}, {\"Year\": 2045, \"GHG Category\": \"CO2\", \"Quantity (Mt CO2e)\": -18.542085669817}, {\"Year\": 2046, \"GHG Category\": \"CO2\", \"Quantity (Mt CO2e)\": -23.922565519698498}, {\"Year\": 2047, \"GHG Category\": \"CO2\", \"Quantity (Mt CO2e)\": -29.8961946224496}, {\"Year\": 2048, \"GHG Category\": \"CO2\", \"Quantity (Mt CO2e)\": -31.23080521927}, {\"Year\": 2049, \"GHG Category\": \"CO2\", \"Quantity (Mt CO2e)\": -32.81311810129}, {\"Year\": 2050, \"GHG Category\": \"CO2\", \"Quantity (Mt CO2e)\": -34.389710329721}]}}, {\"mode\": \"vega-lite\"});\n",
       "</script>"
      ],
      "text/plain": [
       "alt.LayerChart(...)"
      ]
     },
     "execution_count": 41,
     "metadata": {},
     "output_type": "execute_result"
    }
   ],
   "source": [
    "# HIDE CODE\n",
    "# get the df and plot\n",
    "GHG_ag_man_df,GHG_ag_man_plot = ag_man_GHG.plot_GHG_category()\n",
    "GHG_ag_man_plot"
   ]
  },
  {
   "cell_type": "code",
   "execution_count": null,
   "metadata": {},
   "outputs": [],
   "source": []
  },
  {
   "cell_type": "code",
   "execution_count": null,
   "metadata": {},
   "outputs": [],
   "source": []
  },
  {
   "cell_type": "code",
   "execution_count": null,
   "metadata": {},
   "outputs": [],
   "source": []
  },
  {
   "cell_type": "code",
   "execution_count": null,
   "metadata": {},
   "outputs": [],
   "source": []
  },
  {
   "cell_type": "code",
   "execution_count": null,
   "metadata": {},
   "outputs": [],
   "source": []
  },
  {
   "cell_type": "code",
   "execution_count": null,
   "metadata": {},
   "outputs": [],
   "source": []
  },
  {
   "cell_type": "code",
   "execution_count": null,
   "metadata": {},
   "outputs": [],
   "source": []
  },
  {
   "cell_type": "code",
   "execution_count": null,
   "metadata": {},
   "outputs": [],
   "source": []
  },
  {
   "cell_type": "code",
   "execution_count": null,
   "metadata": {},
   "outputs": [],
   "source": []
  }
 ],
 "metadata": {
  "celltoolbar": "Tags",
  "kernelspec": {
   "display_name": "Python 3 (ipykernel)",
   "language": "python",
   "name": "python3"
  },
  "language_info": {
   "codemirror_mode": {
    "name": "ipython",
    "version": 3
   },
   "file_extension": ".py",
   "mimetype": "text/x-python",
   "name": "python",
   "nbconvert_exporter": "python",
   "pygments_lexer": "ipython3",
   "version": "3.12.0"
  },
  "toc-autonumbering": false,
  "toc-showmarkdowntxt": false
 },
 "nbformat": 4,
 "nbformat_minor": 4
}
