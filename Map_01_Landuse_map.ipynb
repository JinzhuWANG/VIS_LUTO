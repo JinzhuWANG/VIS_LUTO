{
 "cells": [
  {
   "cell_type": "code",
   "execution_count": 1,
   "metadata": {},
   "outputs": [],
   "source": [
    "import os\n",
    "import requests\n",
    "from folium import Map, TileLayer"
   ]
  },
  {
   "cell_type": "code",
   "execution_count": null,
   "metadata": {},
   "outputs": [],
   "source": []
  },
  {
   "cell_type": "code",
   "execution_count": 2,
   "metadata": {},
   "outputs": [],
   "source": [
    "def submit_request(BASE_URL, endpoint, url):\n",
    "    r = requests.get(\n",
    "        f\"{BASE_URL}/{endpoint}\",\n",
    "        params = {\n",
    "            \"url\": url,\n",
    "        }\n",
    "    ).json()\n",
    "    return r"
   ]
  },
  {
   "cell_type": "code",
   "execution_count": null,
   "metadata": {},
   "outputs": [],
   "source": []
  },
  {
   "cell_type": "code",
   "execution_count": 3,
   "metadata": {},
   "outputs": [
    {
     "data": {
      "text/plain": [
       "<folium.raster_layers.TileLayer at 0x17e85a2d090>"
      ]
     },
     "execution_count": 3,
     "metadata": {},
     "output_type": "execute_result"
    }
   ],
   "source": [
    "# Add the GeoTIFF overlay\n",
    "titiler_endpoint = \"http://127.0.0.1:8000\" \n",
    "\n",
    "# the tif cloud storage url\n",
    "# incase the user does not select any map, use the default map\n",
    "tif_url = 'http://localhost:8000/out_2030/lumap.tiff'\n",
    "\n",
    "\n",
    "# instantiate the map\n",
    "map = Map(location=[-24.162,132.847], \n",
    "         zoom_start=5)\n",
    "\n",
    "# base map layer\n",
    "base_layer = TileLayer(\n",
    "        tiles = 'https://server.arcgisonline.com/ArcGIS/rest/services/World_Imagery/MapServer/tile/{z}/{y}/{x}',\n",
    "        attr = 'Esri',\n",
    "        name = 'Esri Satellite',\n",
    "        overlay = False,\n",
    "        control = True\n",
    "       ).add_to(map)\n",
    "\n",
    "base_layer.add_to(map)"
   ]
  },
  {
   "cell_type": "code",
   "execution_count": null,
   "metadata": {},
   "outputs": [],
   "source": []
  },
  {
   "cell_type": "code",
   "execution_count": 6,
   "metadata": {},
   "outputs": [
    {
     "ename": "KeyError",
     "evalue": "'tiles'",
     "output_type": "error",
     "traceback": [
      "\u001b[1;31m---------------------------------------------------------------------------\u001b[0m",
      "\u001b[1;31mKeyError\u001b[0m                                  Traceback (most recent call last)",
      "\u001b[1;32md:\\LUTO\\VIS_LUTO\\Map_01_Landuse_map.ipynb Cell 7\u001b[0m line \u001b[0;36m3\n\u001b[0;32m      <a href='vscode-notebook-cell:/d%3A/LUTO/VIS_LUTO/Map_01_Landuse_map.ipynb#W6sZmlsZQ%3D%3D?line=0'>1</a>\u001b[0m \u001b[39m# get tile data from titiler\u001b[39;00m\n\u001b[0;32m      <a href='vscode-notebook-cell:/d%3A/LUTO/VIS_LUTO/Map_01_Landuse_map.ipynb#W6sZmlsZQ%3D%3D?line=1'>2</a>\u001b[0m tile_json_analytic \u001b[39m=\u001b[39m submit_request(titiler_endpoint, \u001b[39m\"\u001b[39m\u001b[39mcog/tilejson.json\u001b[39m\u001b[39m\"\u001b[39m, tif_url)\n\u001b[1;32m----> <a href='vscode-notebook-cell:/d%3A/LUTO/VIS_LUTO/Map_01_Landuse_map.ipynb#W6sZmlsZQ%3D%3D?line=2'>3</a>\u001b[0m tileset \u001b[39m=\u001b[39m tile_json_analytic[\u001b[39m\"\u001b[39;49m\u001b[39mtiles\u001b[39;49m\u001b[39m\"\u001b[39;49m][\u001b[39m0\u001b[39m]\n",
      "\u001b[1;31mKeyError\u001b[0m: 'tiles'"
     ]
    }
   ],
   "source": [
    "# get tile data from titiler\n",
    "tile_json_analytic = submit_request(titiler_endpoint, \"cog/tilejson.json\", tif_url)\n",
    "tileset = tile_json_analytic[\"tiles\"][0]"
   ]
  },
  {
   "cell_type": "code",
   "execution_count": 5,
   "metadata": {},
   "outputs": [
    {
     "data": {
      "text/plain": [
       "{'detail': 'HTTP response code: 404'}"
      ]
     },
     "execution_count": 5,
     "metadata": {},
     "output_type": "execute_result"
    }
   ],
   "source": [
    "tile_json_analytic"
   ]
  },
  {
   "cell_type": "code",
   "execution_count": null,
   "metadata": {},
   "outputs": [],
   "source": []
  },
  {
   "cell_type": "code",
   "execution_count": null,
   "metadata": {},
   "outputs": [],
   "source": []
  },
  {
   "cell_type": "code",
   "execution_count": null,
   "metadata": {},
   "outputs": [],
   "source": [
    "\n",
    "\n",
    "\n",
    "tile_layer = TileLayer(\n",
    "    tiles= tileset,\n",
    "    attr=\"LUTO Land Use Map\",\n",
    ")\n",
    "\n",
    "tile_layer.add_to(map)"
   ]
  },
  {
   "cell_type": "code",
   "execution_count": null,
   "metadata": {},
   "outputs": [],
   "source": []
  },
  {
   "cell_type": "code",
   "execution_count": null,
   "metadata": {},
   "outputs": [],
   "source": []
  },
  {
   "cell_type": "code",
   "execution_count": null,
   "metadata": {},
   "outputs": [],
   "source": []
  },
  {
   "cell_type": "code",
   "execution_count": null,
   "metadata": {},
   "outputs": [],
   "source": []
  },
  {
   "cell_type": "code",
   "execution_count": null,
   "metadata": {},
   "outputs": [],
   "source": []
  },
  {
   "cell_type": "code",
   "execution_count": null,
   "metadata": {},
   "outputs": [],
   "source": []
  },
  {
   "cell_type": "code",
   "execution_count": null,
   "metadata": {},
   "outputs": [],
   "source": []
  },
  {
   "cell_type": "code",
   "execution_count": null,
   "metadata": {},
   "outputs": [],
   "source": []
  },
  {
   "cell_type": "code",
   "execution_count": null,
   "metadata": {},
   "outputs": [],
   "source": []
  }
 ],
 "metadata": {
  "kernelspec": {
   "display_name": "jbook",
   "language": "python",
   "name": "python3"
  },
  "language_info": {
   "codemirror_mode": {
    "name": "ipython",
    "version": 3
   },
   "file_extension": ".py",
   "mimetype": "text/x-python",
   "name": "python",
   "nbconvert_exporter": "python",
   "pygments_lexer": "ipython3",
   "version": "3.10.9"
  }
 },
 "nbformat": 4,
 "nbformat_minor": 2
}
