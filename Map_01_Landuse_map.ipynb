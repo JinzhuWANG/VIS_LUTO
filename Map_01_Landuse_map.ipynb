{
 "cells": [
  {
   "cell_type": "code",
   "execution_count": null,
   "metadata": {},
   "outputs": [],
   "source": []
  },
  {
   "cell_type": "markdown",
   "metadata": {},
   "source": [
    "# Geospatial maps"
   ]
  },
  {
   "cell_type": "code",
   "execution_count": 13,
   "metadata": {
    "tags": [
     "hide-input",
     "remove-cell"
    ]
   },
   "outputs": [],
   "source": [
    "# HIDDEN\n",
    "import folium\n",
    "from folium import Map, TileLayer\n",
    "import leafmap\n",
    "import pandas as pd\n",
    "\n",
    "from tools import get_all_files\n",
    "from PARAMETERS import DATA_ROOT\n",
    "from tools import get_range_tif_request"
   ]
  },
  {
   "cell_type": "code",
   "execution_count": 11,
   "metadata": {
    "tags": [
     "hide-input",
     "remove-cell"
    ]
   },
   "outputs": [],
   "source": [
    "# HIDDEN\n",
    "# Set the endpoint for the TiTiler server\n",
    "titiler_endpoint = \"http://170.64.253.130:8000\" "
   ]
  },
  {
   "cell_type": "code",
   "execution_count": 14,
   "metadata": {},
   "outputs": [],
   "source": [
    "# Get all output files\n",
    "files = get_all_files(DATA_ROOT)"
   ]
  },
  {
   "cell_type": "code",
   "execution_count": 26,
   "metadata": {},
   "outputs": [],
   "source": [
    "maps = files.query('catetory.str.contains(\"map\") and base_ext == \".tiff\" and base_name.str.contains(\"color\") and year_types == \"single_year\"').reset_index(drop=True)"
   ]
  },
  {
   "cell_type": "code",
   "execution_count": 49,
   "metadata": {},
   "outputs": [
    {
     "data": {
      "text/html": [
       "<div>\n",
       "<style scoped>\n",
       "    .dataframe tbody tr th:only-of-type {\n",
       "        vertical-align: middle;\n",
       "    }\n",
       "\n",
       "    .dataframe tbody tr th {\n",
       "        vertical-align: top;\n",
       "    }\n",
       "\n",
       "    .dataframe thead th {\n",
       "        text-align: right;\n",
       "    }\n",
       "</style>\n",
       "<table border=\"1\" class=\"dataframe\">\n",
       "  <thead>\n",
       "    <tr style=\"text-align: right;\">\n",
       "      <th></th>\n",
       "      <th>year</th>\n",
       "      <th>year_types</th>\n",
       "      <th>catetory</th>\n",
       "      <th>base_name</th>\n",
       "      <th>base_ext</th>\n",
       "      <th>path</th>\n",
       "    </tr>\n",
       "  </thead>\n",
       "  <tbody>\n",
       "    <tr>\n",
       "      <th>0</th>\n",
       "      <td>2010</td>\n",
       "      <td>single_year</td>\n",
       "      <td>ammap</td>\n",
       "      <td>ammap_asparagopsis_taxiformis_color4band</td>\n",
       "      <td>.tiff</td>\n",
       "      <td>/home/jinzhu/docker_data/LUTO_DATA/2023_12_12_...</td>\n",
       "    </tr>\n",
       "    <tr>\n",
       "      <th>1</th>\n",
       "      <td>2010</td>\n",
       "      <td>single_year</td>\n",
       "      <td>ammap</td>\n",
       "      <td>ammap_ecological_grazing_color4band</td>\n",
       "      <td>.tiff</td>\n",
       "      <td>/home/jinzhu/docker_data/LUTO_DATA/2023_12_12_...</td>\n",
       "    </tr>\n",
       "    <tr>\n",
       "      <th>2</th>\n",
       "      <td>2010</td>\n",
       "      <td>single_year</td>\n",
       "      <td>ammap</td>\n",
       "      <td>ammap_precision_agriculture_color4band</td>\n",
       "      <td>.tiff</td>\n",
       "      <td>/home/jinzhu/docker_data/LUTO_DATA/2023_12_12_...</td>\n",
       "    </tr>\n",
       "    <tr>\n",
       "      <th>3</th>\n",
       "      <td>2010</td>\n",
       "      <td>single_year</td>\n",
       "      <td>lmmap</td>\n",
       "      <td>lmmap_color4band</td>\n",
       "      <td>.tiff</td>\n",
       "      <td>/home/jinzhu/docker_data/LUTO_DATA/2023_12_12_...</td>\n",
       "    </tr>\n",
       "    <tr>\n",
       "      <th>4</th>\n",
       "      <td>2010</td>\n",
       "      <td>single_year</td>\n",
       "      <td>lumap</td>\n",
       "      <td>lumap_color4band</td>\n",
       "      <td>.tiff</td>\n",
       "      <td>/home/jinzhu/docker_data/LUTO_DATA/2023_12_12_...</td>\n",
       "    </tr>\n",
       "    <tr>\n",
       "      <th>...</th>\n",
       "      <td>...</td>\n",
       "      <td>...</td>\n",
       "      <td>...</td>\n",
       "      <td>...</td>\n",
       "      <td>...</td>\n",
       "      <td>...</td>\n",
       "    </tr>\n",
       "    <tr>\n",
       "      <th>1360</th>\n",
       "      <td>2050</td>\n",
       "      <td>single_year</td>\n",
       "      <td>lumap_separate_Agricultural Land-use</td>\n",
       "      <td>Agricultural Land-use_25_Winter cereals_color4...</td>\n",
       "      <td>.tiff</td>\n",
       "      <td>/home/jinzhu/docker_data/LUTO_DATA/2023_12_12_...</td>\n",
       "    </tr>\n",
       "    <tr>\n",
       "      <th>1361</th>\n",
       "      <td>2050</td>\n",
       "      <td>single_year</td>\n",
       "      <td>lumap_separate_Agricultural Land-use</td>\n",
       "      <td>Agricultural Land-use_26_Winter legumes_color4...</td>\n",
       "      <td>.tiff</td>\n",
       "      <td>/home/jinzhu/docker_data/LUTO_DATA/2023_12_12_...</td>\n",
       "    </tr>\n",
       "    <tr>\n",
       "      <th>1362</th>\n",
       "      <td>2050</td>\n",
       "      <td>single_year</td>\n",
       "      <td>lumap_separate_Agricultural Land-use</td>\n",
       "      <td>Agricultural Land-use_27_Winter oilseeds_color...</td>\n",
       "      <td>.tiff</td>\n",
       "      <td>/home/jinzhu/docker_data/LUTO_DATA/2023_12_12_...</td>\n",
       "    </tr>\n",
       "    <tr>\n",
       "      <th>1363</th>\n",
       "      <td>2050</td>\n",
       "      <td>single_year</td>\n",
       "      <td>lumap_separate_Non-Agricultural Land-use</td>\n",
       "      <td>Non-Agricultural Land-use_00_Environmental Pla...</td>\n",
       "      <td>.tiff</td>\n",
       "      <td>/home/jinzhu/docker_data/LUTO_DATA/2023_12_12_...</td>\n",
       "    </tr>\n",
       "    <tr>\n",
       "      <th>1364</th>\n",
       "      <td>2050</td>\n",
       "      <td>single_year</td>\n",
       "      <td>lumap</td>\n",
       "      <td>lumap_color4band</td>\n",
       "      <td>.tiff</td>\n",
       "      <td>/home/jinzhu/docker_data/LUTO_DATA/2023_12_12_...</td>\n",
       "    </tr>\n",
       "  </tbody>\n",
       "</table>\n",
       "<p>1365 rows × 6 columns</p>\n",
       "</div>"
      ],
      "text/plain": [
       "      year   year_types                                  catetory  \\\n",
       "0     2010  single_year                                     ammap   \n",
       "1     2010  single_year                                     ammap   \n",
       "2     2010  single_year                                     ammap   \n",
       "3     2010  single_year                                     lmmap   \n",
       "4     2010  single_year                                     lumap   \n",
       "...    ...          ...                                       ...   \n",
       "1360  2050  single_year      lumap_separate_Agricultural Land-use   \n",
       "1361  2050  single_year      lumap_separate_Agricultural Land-use   \n",
       "1362  2050  single_year      lumap_separate_Agricultural Land-use   \n",
       "1363  2050  single_year  lumap_separate_Non-Agricultural Land-use   \n",
       "1364  2050  single_year                                     lumap   \n",
       "\n",
       "                                              base_name base_ext  \\\n",
       "0              ammap_asparagopsis_taxiformis_color4band    .tiff   \n",
       "1                   ammap_ecological_grazing_color4band    .tiff   \n",
       "2                ammap_precision_agriculture_color4band    .tiff   \n",
       "3                                      lmmap_color4band    .tiff   \n",
       "4                                      lumap_color4band    .tiff   \n",
       "...                                                 ...      ...   \n",
       "1360  Agricultural Land-use_25_Winter cereals_color4...    .tiff   \n",
       "1361  Agricultural Land-use_26_Winter legumes_color4...    .tiff   \n",
       "1362  Agricultural Land-use_27_Winter oilseeds_color...    .tiff   \n",
       "1363  Non-Agricultural Land-use_00_Environmental Pla...    .tiff   \n",
       "1364                                   lumap_color4band    .tiff   \n",
       "\n",
       "                                                   path  \n",
       "0     /home/jinzhu/docker_data/LUTO_DATA/2023_12_12_...  \n",
       "1     /home/jinzhu/docker_data/LUTO_DATA/2023_12_12_...  \n",
       "2     /home/jinzhu/docker_data/LUTO_DATA/2023_12_12_...  \n",
       "3     /home/jinzhu/docker_data/LUTO_DATA/2023_12_12_...  \n",
       "4     /home/jinzhu/docker_data/LUTO_DATA/2023_12_12_...  \n",
       "...                                                 ...  \n",
       "1360  /home/jinzhu/docker_data/LUTO_DATA/2023_12_12_...  \n",
       "1361  /home/jinzhu/docker_data/LUTO_DATA/2023_12_12_...  \n",
       "1362  /home/jinzhu/docker_data/LUTO_DATA/2023_12_12_...  \n",
       "1363  /home/jinzhu/docker_data/LUTO_DATA/2023_12_12_...  \n",
       "1364  /home/jinzhu/docker_data/LUTO_DATA/2023_12_12_...  \n",
       "\n",
       "[1365 rows x 6 columns]"
      ]
     },
     "execution_count": 49,
     "metadata": {},
     "output_type": "execute_result"
    }
   ],
   "source": [
    "maps"
   ]
  },
  {
   "cell_type": "code",
   "execution_count": null,
   "metadata": {},
   "outputs": [],
   "source": []
  },
  {
   "cell_type": "code",
   "execution_count": null,
   "metadata": {},
   "outputs": [],
   "source": []
  },
  {
   "cell_type": "code",
   "execution_count": 31,
   "metadata": {},
   "outputs": [],
   "source": [
    "category2name = {'lumap': 'Agricultural Land-use all category',\n",
    "                'lumap_separate_Agricultural Land-use': 'Agricultural Land-use single category',\n",
    "                'ammap': 'Agriculture Management',\n",
    "                'lumap_separate_Non-Agricultural Land-use': 'Non-Agricultural Land-use ',\n",
    "                'lmmap': 'Dry and Irrigated Land-use'}"
   ]
  },
  {
   "cell_type": "code",
   "execution_count": 48,
   "metadata": {},
   "outputs": [],
   "source": [
    "base2name = {'Agricultural Land-use_00_Apples_color4band': 'Apples',\n",
    "            'Agricultural Land-use_01_Beef - modified land_color4band': 'Beef - modified land',\n",
    "            'Agricultural Land-use_02_Beef - natural land_color4band': 'Beef - natural land',\n",
    "            'Agricultural Land-use_03_Citrus_color4band': 'Citrus',\n",
    "            'Agricultural Land-use_04_Cotton_color4band': 'Cotton',\n",
    "            'Agricultural Land-use_05_Dairy - modified land_color4band': 'Dairy - modified land',\n",
    "            'Agricultural Land-use_06_Dairy - natural land_color4band': 'Dairy - natural land',\n",
    "            'Agricultural Land-use_07_Grapes_color4band': 'Grapes',\n",
    "            'Agricultural Land-use_08_Hay_color4band': 'Hay',\n",
    "            'Agricultural Land-use_09_Nuts_color4band': 'Nuts',\n",
    "            'Agricultural Land-use_10_Other non-cereal crops_color4band': 'Other non-cereal crops',\n",
    "            'Agricultural Land-use_11_Pears_color4band': 'Pears',\n",
    "            'Agricultural Land-use_12_Plantation fruit_color4band': 'Plantation fruit',\n",
    "            'Agricultural Land-use_13_Rice_color4band': 'Rice',\n",
    "            'Agricultural Land-use_14_Sheep - modified land_color4band': 'Sheep - modified land',\n",
    "            'Agricultural Land-use_15_Sheep - natural land_color4band': 'Sheep - natural land',\n",
    "            'Agricultural Land-use_16_Stone fruit_color4band': 'Stone fruit',\n",
    "            'Agricultural Land-use_17_Sugar_color4band': 'Sugar',\n",
    "            'Agricultural Land-use_18_Summer cereals_color4band': 'Summer cereals',\n",
    "            'Agricultural Land-use_19_Summer legumes_color4band': 'Summer legumes',\n",
    "            'Agricultural Land-use_20_Summer oilseeds_color4band': 'Summer oilseeds',\n",
    "            'Agricultural Land-use_21_Tropical stone fruit_color4band': 'Tropical stone fruit',\n",
    "            'Agricultural Land-use_22_Unallocated - modified land_color4band': 'Unallocated - modified land',\n",
    "            'Agricultural Land-use_23_Unallocated - natural land_color4band': 'Unallocated - natural land',\n",
    "            'Agricultural Land-use_24_Vegetables_color4band': 'Vegetables',\n",
    "            'Agricultural Land-use_25_Winter cereals_color4band': 'Winter cereals',\n",
    "            'Agricultural Land-use_26_Winter legumes_color4band': 'Winter legumes',\n",
    "            'Agricultural Land-use_27_Winter oilseeds_color4band': 'Winter oilseeds',\n",
    "            'Non-Agricultural Land-use_00_Environmental Plantings_color4band': 'Environmental Plantings',\n",
    "            'lumap_color4band': 'Land-use Map',\n",
    "            'lmmap_color4band': 'Dry Irriagted Land-use Map'}"
   ]
  },
  {
   "cell_type": "code",
   "execution_count": null,
   "metadata": {},
   "outputs": [],
   "source": []
  },
  {
   "cell_type": "code",
   "execution_count": null,
   "metadata": {},
   "outputs": [],
   "source": []
  },
  {
   "cell_type": "markdown",
   "metadata": {},
   "source": [
    "## Land use map"
   ]
  },
  {
   "cell_type": "code",
   "execution_count": null,
   "metadata": {
    "tags": [
     "hide-input",
     "remove-cell"
    ]
   },
   "outputs": [],
   "source": [
    "# HIDDEN\n",
    "\n",
    "# Get the TIF files from a RANGE_HTTP server\n",
    "tif_url = 'http://170.64.253.130:8080/LUTO_DATA/CWC15_2023_11_23__07_48_38_hard_mincost_RF5_P1e5_2010-2050_timeseries_-265Mt/out_2030/lumap__color4band.tiff'\n",
    "\n",
    "# Get tile data from titiler\n",
    "tile_json_analytic = get_range_tif_request(titiler_endpoint, \"cog/tilejson.json\", tif_url)\n",
    "tileset = tile_json_analytic[\"tiles\"][0]"
   ]
  },
  {
   "cell_type": "code",
   "execution_count": null,
   "metadata": {
    "tags": [
     "hide-input",
     "remove-cell"
    ]
   },
   "outputs": [],
   "source": [
    "# HIDDEN\n",
    "\n",
    "# get the metadata from the legend of land use classes\n",
    "color_csvs = pd.read_csv('tools/color_map.csv')\n",
    "legend_dict = dict(color_csvs[['lu_desc','color_HEX']].values)"
   ]
  },
  {
   "cell_type": "code",
   "execution_count": null,
   "metadata": {},
   "outputs": [],
   "source": []
  },
  {
   "cell_type": "code",
   "execution_count": null,
   "metadata": {
    "tags": [
     "hide-input",
     "remove-cell"
    ]
   },
   "outputs": [
    {
     "data": {
      "application/vnd.jupyter.widget-view+json": {
       "model_id": "ad900ed4d3674d3b82d6de8cfa6acf36",
       "version_major": 2,
       "version_minor": 0
      },
      "text/plain": [
       "Map(center=[-27, 134], controls=(AttributionControl(options=['position', 'prefix'], position='bottomright'), Z…"
      ]
     },
     "execution_count": 8,
     "metadata": {},
     "output_type": "execute_result"
    }
   ],
   "source": [
    "# HIDDEN\n",
    "map = leafmap.Map(center=(-27, 134),\n",
    "                  zoom=4,\n",
    "                  draw_control=False,\n",
    "                  measure_control=False,\n",
    "                #   fullscreen_control=False,\n",
    "                  attribution_control=True)\n",
    "\n",
    "map.add_tile_layer(\n",
    "    url='https://server.arcgisonline.com/ArcGIS/rest/services/World_Imagery/MapServer/tile/{z}/{y}/{x}',\n",
    "    name=\"ESRI Satellite\",\n",
    "    attribution=\"Google\",\n",
    ")\n",
    "\n",
    "map.add_tile_layer(\n",
    "    tileset,\n",
    "    layers=\"LUTO\",\n",
    "    name=\"LUTO\",\n",
    "    format=\"image/png\",\n",
    "    transparent=True,\n",
    "    attribution='LUTO'\n",
    ")\n",
    "\n",
    "map.add_legend(title=\"LUTO Classification\", legend_dict=legend_dict)\n",
    "map"
   ]
  },
  {
   "cell_type": "code",
   "execution_count": null,
   "metadata": {},
   "outputs": [],
   "source": []
  },
  {
   "cell_type": "code",
   "execution_count": null,
   "metadata": {},
   "outputs": [],
   "source": [
    "\n"
   ]
  },
  {
   "cell_type": "code",
   "execution_count": null,
   "metadata": {},
   "outputs": [],
   "source": []
  },
  {
   "cell_type": "code",
   "execution_count": null,
   "metadata": {
    "tags": [
     "hide-input",
     "remove-cell"
    ]
   },
   "outputs": [
    {
     "data": {
      "text/plain": [
       "<folium.raster_layers.TileLayer at 0x7f41d9035cd0>"
      ]
     },
     "execution_count": 6,
     "metadata": {},
     "output_type": "execute_result"
    }
   ],
   "source": [
    "# HIDDEN\n",
    "m = Map(\n",
    "    location=(-27, 134),\n",
    "    zoom_start=4,\n",
    "    tiles=\"Stamen Terrain\",\n",
    "    attr=\"LUTO 2.0\",\n",
    ")\n",
    "\n",
    "base_layer = TileLayer(\n",
    "        tiles = 'https://server.arcgisonline.com/ArcGIS/rest/services/World_Imagery/MapServer/tile/{z}/{y}/{x}',\n",
    "        attr = 'Esri',\n",
    "        name = 'Esri Satellite',\n",
    "        overlay = False,\n",
    "        control = True,\n",
    "       ).add_to(m)\n",
    "\n",
    "tile_layer = TileLayer(\n",
    "    tiles= tileset,\n",
    "    attr=\"LUTO 2.0\",\n",
    ")\n",
    "\n",
    "tile_layer.add_to(m)"
   ]
  },
  {
   "cell_type": "code",
   "execution_count": null,
   "metadata": {},
   "outputs": [],
   "source": []
  },
  {
   "cell_type": "code",
   "execution_count": null,
   "metadata": {
    "tags": [
     "hide-input"
    ]
   },
   "outputs": [
    {
     "data": {
      "text/html": [
       "<iframe srcdoc=\"&lt;!DOCTYPE html&gt;\n",
       "&lt;html&gt;\n",
       "&lt;head&gt;\n",
       "    \n",
       "    &lt;meta http-equiv=&quot;content-type&quot; content=&quot;text/html; charset=UTF-8&quot; /&gt;\n",
       "    \n",
       "        &lt;script&gt;\n",
       "            L_NO_TOUCH = false;\n",
       "            L_DISABLE_3D = false;\n",
       "        &lt;/script&gt;\n",
       "    \n",
       "    &lt;style&gt;html, body {width: 100%;height: 100%;margin: 0;padding: 0;}&lt;/style&gt;\n",
       "    &lt;style&gt;#map {position:absolute;top:0;bottom:0;right:0;left:0;}&lt;/style&gt;\n",
       "    &lt;script src=&quot;https://cdn.jsdelivr.net/npm/leaflet@1.9.3/dist/leaflet.js&quot;&gt;&lt;/script&gt;\n",
       "    &lt;script src=&quot;https://code.jquery.com/jquery-3.7.1.min.js&quot;&gt;&lt;/script&gt;\n",
       "    &lt;script src=&quot;https://cdn.jsdelivr.net/npm/bootstrap@5.2.2/dist/js/bootstrap.bundle.min.js&quot;&gt;&lt;/script&gt;\n",
       "    &lt;script src=&quot;https://cdnjs.cloudflare.com/ajax/libs/Leaflet.awesome-markers/2.0.2/leaflet.awesome-markers.js&quot;&gt;&lt;/script&gt;\n",
       "    &lt;link rel=&quot;stylesheet&quot; href=&quot;https://cdn.jsdelivr.net/npm/leaflet@1.9.3/dist/leaflet.css&quot;/&gt;\n",
       "    &lt;link rel=&quot;stylesheet&quot; href=&quot;https://cdn.jsdelivr.net/npm/bootstrap@5.2.2/dist/css/bootstrap.min.css&quot;/&gt;\n",
       "    &lt;link rel=&quot;stylesheet&quot; href=&quot;https://netdna.bootstrapcdn.com/bootstrap/3.0.0/css/bootstrap.min.css&quot;/&gt;\n",
       "    &lt;link rel=&quot;stylesheet&quot; href=&quot;https://cdn.jsdelivr.net/npm/@fortawesome/fontawesome-free@6.2.0/css/all.min.css&quot;/&gt;\n",
       "    &lt;link rel=&quot;stylesheet&quot; href=&quot;https://cdnjs.cloudflare.com/ajax/libs/Leaflet.awesome-markers/2.0.2/leaflet.awesome-markers.css&quot;/&gt;\n",
       "    &lt;link rel=&quot;stylesheet&quot; href=&quot;https://cdn.jsdelivr.net/gh/python-visualization/folium/folium/templates/leaflet.awesome.rotate.min.css&quot;/&gt;\n",
       "    \n",
       "            &lt;meta name=&quot;viewport&quot; content=&quot;width=device-width,\n",
       "                initial-scale=1.0, maximum-scale=1.0, user-scalable=no&quot; /&gt;\n",
       "            &lt;style&gt;\n",
       "                #map_2b9a39a567ceab7d055f5fe17b55ad59 {\n",
       "                    position: relative;\n",
       "                    width: 100.0%;\n",
       "                    height: 100.0%;\n",
       "                    left: 0.0%;\n",
       "                    top: 0.0%;\n",
       "                }\n",
       "                .leaflet-container { font-size: 1rem; }\n",
       "            &lt;/style&gt;\n",
       "        \n",
       "&lt;/head&gt;\n",
       "&lt;body&gt;\n",
       "    \n",
       "    \n",
       "            &lt;div class=&quot;folium-map&quot; id=&quot;map_2b9a39a567ceab7d055f5fe17b55ad59&quot; &gt;&lt;/div&gt;\n",
       "        \n",
       "&lt;/body&gt;\n",
       "&lt;script&gt;\n",
       "    \n",
       "    \n",
       "            var map_2b9a39a567ceab7d055f5fe17b55ad59 = L.map(\n",
       "                &quot;map_2b9a39a567ceab7d055f5fe17b55ad59&quot;,\n",
       "                {\n",
       "                    center: [-27.0, 134.0],\n",
       "                    crs: L.CRS.EPSG3857,\n",
       "                    zoom: 4,\n",
       "                    zoomControl: true,\n",
       "                    preferCanvas: false,\n",
       "                }\n",
       "            );\n",
       "\n",
       "            \n",
       "\n",
       "        \n",
       "    \n",
       "            var tile_layer_a0fbd8835fa0d2bf7b65dffe0063a7b9 = L.tileLayer(\n",
       "                &quot;Stamen Terrain&quot;,\n",
       "                {&quot;attribution&quot;: &quot;LUTO 2.0&quot;, &quot;detectRetina&quot;: false, &quot;maxNativeZoom&quot;: 18, &quot;maxZoom&quot;: 18, &quot;minZoom&quot;: 0, &quot;noWrap&quot;: false, &quot;opacity&quot;: 1, &quot;subdomains&quot;: &quot;abc&quot;, &quot;tms&quot;: false}\n",
       "            );\n",
       "        \n",
       "    \n",
       "                tile_layer_a0fbd8835fa0d2bf7b65dffe0063a7b9.addTo(map_2b9a39a567ceab7d055f5fe17b55ad59);\n",
       "    \n",
       "            var tile_layer_7489d356e568933ce4b5e512490be7c5 = L.tileLayer(\n",
       "                &quot;https://server.arcgisonline.com/ArcGIS/rest/services/World_Imagery/MapServer/tile/{z}/{y}/{x}&quot;,\n",
       "                {&quot;attribution&quot;: &quot;Esri&quot;, &quot;detectRetina&quot;: false, &quot;maxNativeZoom&quot;: 18, &quot;maxZoom&quot;: 18, &quot;minZoom&quot;: 0, &quot;noWrap&quot;: false, &quot;opacity&quot;: 1, &quot;subdomains&quot;: &quot;abc&quot;, &quot;tms&quot;: false}\n",
       "            );\n",
       "        \n",
       "    \n",
       "                tile_layer_7489d356e568933ce4b5e512490be7c5.addTo(map_2b9a39a567ceab7d055f5fe17b55ad59);\n",
       "    \n",
       "            var tile_layer_4ce91aafae7f219ee1ad6b3f5a2e961c = L.tileLayer(\n",
       "                &quot;http://170.64.253.130:8000/cog/tiles/WebMercatorQuad/{z}/{x}/{y}@1x?url=http%3A%2F%2F170.64.253.130%3A8080%2FLUTO_DATA%2FCWC15_2023_11_23__07_48_38_hard_mincost_RF5_P1e5_2010-2050_timeseries_-265Mt%2Fout_2030%2Flumap__color4band.tiff&quot;,\n",
       "                {&quot;attribution&quot;: &quot;LUTO 2.0&quot;, &quot;detectRetina&quot;: false, &quot;maxNativeZoom&quot;: 18, &quot;maxZoom&quot;: 18, &quot;minZoom&quot;: 0, &quot;noWrap&quot;: false, &quot;opacity&quot;: 1, &quot;subdomains&quot;: &quot;abc&quot;, &quot;tms&quot;: false}\n",
       "            );\n",
       "        \n",
       "    \n",
       "                tile_layer_4ce91aafae7f219ee1ad6b3f5a2e961c.addTo(map_2b9a39a567ceab7d055f5fe17b55ad59);\n",
       "&lt;/script&gt;\n",
       "&lt;/html&gt;\" width=\"800\" height=\"600\"style=\"border:none !important;\" \"allowfullscreen\" \"webkitallowfullscreen\" \"mozallowfullscreen\"></iframe>"
      ],
      "text/plain": [
       "<branca.element.Figure at 0x7f41d909f170>"
      ]
     },
     "execution_count": 7,
     "metadata": {},
     "output_type": "execute_result"
    }
   ],
   "source": [
    "# HIDE CODE\n",
    "from branca.element import Figure\n",
    "fig = Figure(width=800, height=600)\n",
    "fig.add_child(m)"
   ]
  },
  {
   "cell_type": "code",
   "execution_count": null,
   "metadata": {},
   "outputs": [],
   "source": []
  },
  {
   "cell_type": "code",
   "execution_count": null,
   "metadata": {},
   "outputs": [],
   "source": []
  },
  {
   "cell_type": "code",
   "execution_count": null,
   "metadata": {},
   "outputs": [],
   "source": []
  },
  {
   "cell_type": "code",
   "execution_count": null,
   "metadata": {},
   "outputs": [],
   "source": []
  }
 ],
 "metadata": {
  "kernelspec": {
   "display_name": "jbook",
   "language": "python",
   "name": "python3"
  },
  "language_info": {
   "codemirror_mode": {
    "name": "ipython",
    "version": 3
   },
   "file_extension": ".py",
   "mimetype": "text/x-python",
   "name": "python",
   "nbconvert_exporter": "python",
   "pygments_lexer": "ipython3",
   "version": "3.12.0"
  }
 },
 "nbformat": 4,
 "nbformat_minor": 2
}
