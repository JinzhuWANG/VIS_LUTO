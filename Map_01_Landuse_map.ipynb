{
 "cells": [
  {
   "cell_type": "code",
   "execution_count": 1,
   "metadata": {},
   "outputs": [],
   "source": [
    "from folium import Map, TileLayer\n",
    "from tools import get_range_tif_request\n",
    "import leafmap\n",
    "import pandas as pd"
   ]
  },
  {
   "cell_type": "code",
   "execution_count": null,
   "metadata": {},
   "outputs": [],
   "source": []
  },
  {
   "cell_type": "code",
   "execution_count": 2,
   "metadata": {},
   "outputs": [],
   "source": [
    "# Set the endpoint for the TiTiler server\n",
    "titiler_endpoint = \"http://170.64.253.130:8000\" \n",
    "\n",
    "# Get the TIF files from a RANGE_HTTP server\n",
    "tif_url = 'http://170.64.253.130:8080/LUTO_DATA/CWC15_2023_11_23__07_48_38_hard_mincost_RF5_P1e5_2010-2050_timeseries_-265Mt/out_2030/lumap__color4band.tiff'\n",
    "\n",
    "# Get tile data from titiler\n",
    "tile_json_analytic = get_range_tif_request(titiler_endpoint, \"cog/tilejson.json\", tif_url)\n",
    "tileset = tile_json_analytic[\"tiles\"][0]"
   ]
  },
  {
   "cell_type": "code",
   "execution_count": null,
   "metadata": {},
   "outputs": [],
   "source": []
  },
  {
   "cell_type": "code",
   "execution_count": 3,
   "metadata": {},
   "outputs": [],
   "source": [
    "color_csvs = pd.read_csv('tools/color_map.csv')\n",
    "legend_dict = dict(color_csvs[['lu_desc','color_HEX']].values)"
   ]
  },
  {
   "cell_type": "code",
   "execution_count": null,
   "metadata": {},
   "outputs": [],
   "source": []
  },
  {
   "cell_type": "code",
   "execution_count": null,
   "metadata": {},
   "outputs": [],
   "source": []
  },
  {
   "cell_type": "code",
   "execution_count": 9,
   "metadata": {},
   "outputs": [
    {
     "data": {
      "application/vnd.jupyter.widget-view+json": {
       "model_id": "a2a8cd23c2234cfa8eaa397fd6be706b",
       "version_major": 2,
       "version_minor": 0
      },
      "text/plain": [
       "Map(center=[-27, 134], controls=(AttributionControl(options=['position', 'prefix'], position='bottomright'), Z…"
      ]
     },
     "execution_count": 9,
     "metadata": {},
     "output_type": "execute_result"
    }
   ],
   "source": [
    "Map = leafmap.Map(center=(-27, 134), \n",
    "                  zoom=4,\n",
    "                  draw_control=False,\n",
    "                  measure_control=False,\n",
    "                  fullscreen_control=False,\n",
    "                  attribution_control=True)\n",
    "\n",
    "Map.add_tile_layer(\n",
    "    url=\"https://mt1.google.com/vt/lyrs=y&x={x}&y={y}&z={z}\",\n",
    "    name=\"Google Satellite\",\n",
    "    attribution=\"Google\",\n",
    ")\n",
    "\n",
    "Map.add_tile_layer(\n",
    "    tileset,\n",
    "    layers=\"LUTO\",\n",
    "    name=\"LUTO\",\n",
    "    format=\"image/png\",\n",
    "    transparent=True,\n",
    "    attribution='LUTO'\n",
    ")\n",
    "\n",
    "Map.add_legend(title=\"LUTO Classification\", legend_dict=legend_dict)\n",
    "Map"
   ]
  },
  {
   "cell_type": "code",
   "execution_count": null,
   "metadata": {},
   "outputs": [],
   "source": []
  },
  {
   "cell_type": "code",
   "execution_count": null,
   "metadata": {},
   "outputs": [],
   "source": []
  },
  {
   "cell_type": "code",
   "execution_count": 5,
   "metadata": {},
   "outputs": [
    {
     "data": {
      "application/vnd.jupyter.widget-view+json": {
       "model_id": "eab449b62cfe4c829edaadaaff174b5c",
       "version_major": 2,
       "version_minor": 0
      },
      "text/plain": [
       "Map(center=[-27, 134], controls=(AttributionControl(options=['position', 'prefix'], position='bottomright'), Z…"
      ]
     },
     "execution_count": 5,
     "metadata": {},
     "output_type": "execute_result"
    }
   ],
   "source": [
    "\n",
    "\n",
    "\n",
    "\n",
    "\n",
    "\n",
    "Map.add_legend(builtin_legend='NLCD')\n",
    "\n",
    "Map"
   ]
  },
  {
   "cell_type": "code",
   "execution_count": null,
   "metadata": {},
   "outputs": [],
   "source": []
  },
  {
   "cell_type": "code",
   "execution_count": 6,
   "metadata": {},
   "outputs": [
    {
     "data": {
      "application/vnd.jupyter.widget-view+json": {
       "model_id": "0996f70e2dfb472c89421d38a8470530",
       "version_major": 2,
       "version_minor": 0
      },
      "text/plain": [
       "Map(center=[40, -100], controls=(ZoomControl(options=['position', 'zoom_in_text', 'zoom_in_title', 'zoom_out_t…"
      ]
     },
     "execution_count": 6,
     "metadata": {},
     "output_type": "execute_result"
    }
   ],
   "source": [
    "m = leafmap.Map(center=(40, -100), zoom=4)\n",
    "m"
   ]
  },
  {
   "cell_type": "code",
   "execution_count": null,
   "metadata": {},
   "outputs": [],
   "source": []
  },
  {
   "cell_type": "code",
   "execution_count": 7,
   "metadata": {},
   "outputs": [
    {
     "data": {
      "application/vnd.jupyter.widget-view+json": {
       "model_id": "eab449b62cfe4c829edaadaaff174b5c",
       "version_major": 2,
       "version_minor": 0
      },
      "text/plain": [
       "Map(bottom=2617.0, center=[-27, 134], controls=(AttributionControl(options=['position', 'prefix'], position='b…"
      ]
     },
     "execution_count": 7,
     "metadata": {},
     "output_type": "execute_result"
    }
   ],
   "source": [
    "# Add the GeoTIFF overlay\n",
    "\n",
    "\n",
    "# Set the endpoint for the TiTiler server\n",
    "titiler_endpoint = \"http://170.64.253.130:8000\" \n",
    "\n",
    "# Get the TIF files from a RANGE_HTTP server\n",
    "tif_url = 'http://170.64.253.130:8080/LUTO_DATA/CWC15_2023_11_23__07_48_38_hard_mincost_RF5_P1e5_2010-2050_timeseries_-265Mt/out_2030/lumap__color4band.tiff'\n",
    "\n",
    "\n",
    "# Instantiate the map\n",
    "map = leafmap.Map(location=[-24.162,132.847], \n",
    "                  zoom_start=5,\n",
    "                  draw_control=False,\n",
    "                  measure_control=False,\n",
    "                  fullscreen_control=False,\n",
    "                  attribution_control=True)\n",
    "\n",
    "# # Get base map layer\n",
    "# base_layer = TileLayer(\n",
    "#         tiles = 'https://server.arcgisonline.com/ArcGIS/rest/services/World_Imagery/MapServer/tile/{z}/{y}/{x}',\n",
    "#         attr = 'Esri',\n",
    "#         name = 'Esri Satellite',\n",
    "#         overlay = False,\n",
    "#         control = True\n",
    "#        ).add_to(map)\n",
    "\n",
    "# base_layer.add_to(map)\n",
    "\n",
    "\n",
    "\n",
    "\n",
    "# Get tile data from titiler\n",
    "tile_json_analytic = get_range_tif_request(titiler_endpoint, \"cog/tilejson.json\", tif_url)\n",
    "tileset = tile_json_analytic[\"tiles\"][0]\n",
    "\n",
    "# Add the tile layer to the map\n",
    "Map.add_wms_layer(\n",
    "    tif_url,\n",
    "    layers=\"NLCD_2016_Land_Cover_L48\",\n",
    "    name=\"NLCD 2016 CONUS Land Cover\",\n",
    "    format=\"image/png\",\n",
    "    transparent=True,\n",
    ")\n",
    "Map.add_legend(builtin_legend='NLCD')\n",
    "\n",
    "Map\n",
    "\n",
    "\n",
    "\n",
    "\n",
    "\n",
    "# # Add the tile layer to the map\n",
    "# tile_layer = TileLayer(\n",
    "#     tiles= tileset,\n",
    "#     attr=\"LUTO Land Use Map\",\n",
    "# )\n",
    "\n",
    "# tile_layer.add_to(map)"
   ]
  },
  {
   "cell_type": "code",
   "execution_count": null,
   "metadata": {},
   "outputs": [],
   "source": []
  },
  {
   "cell_type": "code",
   "execution_count": 8,
   "metadata": {},
   "outputs": [
    {
     "data": {
      "application/vnd.jupyter.widget-view+json": {
       "model_id": "cc1ca2545a4d498ea0dc80387b991a66",
       "version_major": 2,
       "version_minor": 0
      },
      "text/plain": [
       "Map(center=[20, 0], controls=(AttributionControl(options=['position', 'prefix'], position='bottomright'), Zoom…"
      ]
     },
     "execution_count": 8,
     "metadata": {},
     "output_type": "execute_result"
    }
   ],
   "source": [
    "map"
   ]
  },
  {
   "cell_type": "code",
   "execution_count": null,
   "metadata": {},
   "outputs": [],
   "source": []
  },
  {
   "cell_type": "code",
   "execution_count": null,
   "metadata": {},
   "outputs": [],
   "source": []
  },
  {
   "cell_type": "code",
   "execution_count": null,
   "metadata": {},
   "outputs": [],
   "source": []
  },
  {
   "cell_type": "code",
   "execution_count": null,
   "metadata": {},
   "outputs": [],
   "source": []
  },
  {
   "cell_type": "code",
   "execution_count": null,
   "metadata": {},
   "outputs": [],
   "source": []
  },
  {
   "cell_type": "code",
   "execution_count": null,
   "metadata": {},
   "outputs": [],
   "source": []
  },
  {
   "cell_type": "code",
   "execution_count": null,
   "metadata": {},
   "outputs": [],
   "source": []
  },
  {
   "cell_type": "code",
   "execution_count": null,
   "metadata": {},
   "outputs": [],
   "source": []
  }
 ],
 "metadata": {
  "kernelspec": {
   "display_name": "jbook",
   "language": "python",
   "name": "python3"
  },
  "language_info": {
   "codemirror_mode": {
    "name": "ipython",
    "version": 3
   },
   "file_extension": ".py",
   "mimetype": "text/x-python",
   "name": "python",
   "nbconvert_exporter": "python",
   "pygments_lexer": "ipython3",
   "version": "3.12.0"
  }
 },
 "nbformat": 4,
 "nbformat_minor": 2
}
