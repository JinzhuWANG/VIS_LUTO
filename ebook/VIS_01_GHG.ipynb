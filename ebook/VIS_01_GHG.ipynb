{
 "cells": [
  {
   "cell_type": "code",
   "execution_count": null,
   "metadata": {},
   "outputs": [],
   "source": []
  },
  {
   "cell_type": "markdown",
   "metadata": {},
   "source": [
    "# The Greenhouse Gas (GHS) emissions"
   ]
  },
  {
   "cell_type": "code",
   "execution_count": 2,
   "metadata": {
    "tags": [
     "remove-cell"
    ]
   },
   "outputs": [],
   "source": [
    "# HIDDEN\n",
    "%load_ext autoreload\n",
    "%autoreload 2"
   ]
  },
  {
   "cell_type": "code",
   "execution_count": null,
   "metadata": {},
   "outputs": [],
   "source": []
  },
  {
   "cell_type": "markdown",
   "metadata": {},
   "source": [
    "## Get GHG emission from agricultural land-use"
   ]
  },
  {
   "cell_type": "code",
   "execution_count": 3,
   "metadata": {
    "tags": [
     "remove-cell"
    ]
   },
   "outputs": [],
   "source": [
    "# HIDDEN\n",
    "import altair as alt\n",
    "\n",
    "from tools import get_all_files, get_GHG_file_df\n",
    "from tools.Plot_GHG import get_GHG_plots"
   ]
  },
  {
   "cell_type": "code",
   "execution_count": null,
   "metadata": {},
   "outputs": [],
   "source": []
  },
  {
   "cell_type": "markdown",
   "metadata": {},
   "source": [
    "## Data preparing"
   ]
  },
  {
   "cell_type": "code",
   "execution_count": 4,
   "metadata": {
    "tags": [
     "remove-cell",
     "hide-input"
    ]
   },
   "outputs": [
    {
     "name": "stdout",
     "output_type": "stream",
     "text": [
      "['GHG' 'dvar' 'ammap' 'lmmap' 'lumap' 'water' 'cross_table' 'quantity'] \n",
      "\n"
     ]
    }
   ],
   "source": [
    "# HIDE CODE\n",
    "# Get all output files\n",
    "from PARAMETERS import DATA_ROOT\n",
    "files = get_all_files(DATA_ROOT)\n",
    "\n",
    "\n",
    "# Select files based on criteria\n",
    "files_selc = files.query('year <= 2050')\n",
    "print(files_selc['catetory'].unique(),'\\n')"
   ]
  },
  {
   "cell_type": "code",
   "execution_count": null,
   "metadata": {},
   "outputs": [],
   "source": []
  },
  {
   "cell_type": "markdown",
   "metadata": {},
   "source": [
    "Filter the GHG data"
   ]
  },
  {
   "cell_type": "code",
   "execution_count": 5,
   "metadata": {
    "tags": [
     "remove-input"
    ]
   },
   "outputs": [
    {
     "data": {
      "text/html": [
       "<div>\n",
       "<style scoped>\n",
       "    .dataframe tbody tr th:only-of-type {\n",
       "        vertical-align: middle;\n",
       "    }\n",
       "\n",
       "    .dataframe tbody tr th {\n",
       "        vertical-align: top;\n",
       "    }\n",
       "\n",
       "    .dataframe thead th {\n",
       "        text-align: right;\n",
       "    }\n",
       "</style>\n",
       "<table border=\"1\" class=\"dataframe\">\n",
       "  <thead>\n",
       "    <tr style=\"text-align: right;\">\n",
       "      <th></th>\n",
       "      <th>year</th>\n",
       "      <th>catetory</th>\n",
       "      <th>base_name</th>\n",
       "      <th>base_ext</th>\n",
       "      <th>path</th>\n",
       "      <th>GHG_sum_t</th>\n",
       "      <th>GHG_sum_Mt</th>\n",
       "    </tr>\n",
       "  </thead>\n",
       "  <tbody>\n",
       "    <tr>\n",
       "      <th>2</th>\n",
       "      <td>2010</td>\n",
       "      <td>GHG</td>\n",
       "      <td>Non-Agricultural Landuse</td>\n",
       "      <td>.csv</td>\n",
       "      <td>../2023_11_20__01_27_24_hard_mincost_RF5_P1e8_...</td>\n",
       "      <td>-107778.2</td>\n",
       "      <td>-0.107778</td>\n",
       "    </tr>\n",
       "    <tr>\n",
       "      <th>1</th>\n",
       "      <td>2010</td>\n",
       "      <td>GHG</td>\n",
       "      <td>Agricultural Management</td>\n",
       "      <td>.csv</td>\n",
       "      <td>../2023_11_20__01_27_24_hard_mincost_RF5_P1e8_...</td>\n",
       "      <td>0.0</td>\n",
       "      <td>0.000000</td>\n",
       "    </tr>\n",
       "    <tr>\n",
       "      <th>3</th>\n",
       "      <td>2010</td>\n",
       "      <td>GHG</td>\n",
       "      <td>Transition Penalty</td>\n",
       "      <td>.csv</td>\n",
       "      <td>../2023_11_20__01_27_24_hard_mincost_RF5_P1e8_...</td>\n",
       "      <td>0.0</td>\n",
       "      <td>0.000000</td>\n",
       "    </tr>\n",
       "  </tbody>\n",
       "</table>\n",
       "</div>"
      ],
      "text/plain": [
       "   year catetory                 base_name base_ext  \\\n",
       "2  2010      GHG  Non-Agricultural Landuse     .csv   \n",
       "1  2010      GHG   Agricultural Management     .csv   \n",
       "3  2010      GHG        Transition Penalty     .csv   \n",
       "\n",
       "                                                path  GHG_sum_t  GHG_sum_Mt  \n",
       "2  ../2023_11_20__01_27_24_hard_mincost_RF5_P1e8_...  -107778.2   -0.107778  \n",
       "1  ../2023_11_20__01_27_24_hard_mincost_RF5_P1e8_...        0.0    0.000000  \n",
       "3  ../2023_11_20__01_27_24_hard_mincost_RF5_P1e8_...        0.0    0.000000  "
      ]
     },
     "execution_count": 5,
     "metadata": {},
     "output_type": "execute_result"
    }
   ],
   "source": [
    "# NO CODE\n",
    "# Get the GHG files\n",
    "GHG_files = get_GHG_file_df(files_selc)\n",
    "GHG_files = GHG_files.reset_index(drop=True).sort_values(['year','GHG_sum_t'])\n",
    "GHG_files['GHG_sum_Mt'] = GHG_files['GHG_sum_t'] / 1e6\n",
    "GHG_files.head(3)"
   ]
  },
  {
   "cell_type": "code",
   "execution_count": null,
   "metadata": {},
   "outputs": [],
   "source": []
  },
  {
   "cell_type": "markdown",
   "metadata": {},
   "source": [
    "Calculate the net emissions"
   ]
  },
  {
   "cell_type": "code",
   "execution_count": 6,
   "metadata": {
    "tags": [
     "remove-cell"
    ]
   },
   "outputs": [
    {
     "data": {
      "text/html": [
       "<div>\n",
       "<style scoped>\n",
       "    .dataframe tbody tr th:only-of-type {\n",
       "        vertical-align: middle;\n",
       "    }\n",
       "\n",
       "    .dataframe tbody tr th {\n",
       "        vertical-align: top;\n",
       "    }\n",
       "\n",
       "    .dataframe thead th {\n",
       "        text-align: right;\n",
       "    }\n",
       "</style>\n",
       "<table border=\"1\" class=\"dataframe\">\n",
       "  <thead>\n",
       "    <tr style=\"text-align: right;\">\n",
       "      <th></th>\n",
       "      <th>year</th>\n",
       "      <th>Net_emission</th>\n",
       "    </tr>\n",
       "  </thead>\n",
       "  <tbody>\n",
       "    <tr>\n",
       "      <th>0</th>\n",
       "      <td>2010</td>\n",
       "      <td>90.404125</td>\n",
       "    </tr>\n",
       "    <tr>\n",
       "      <th>1</th>\n",
       "      <td>2011</td>\n",
       "      <td>86.000000</td>\n",
       "    </tr>\n",
       "    <tr>\n",
       "      <th>2</th>\n",
       "      <td>2012</td>\n",
       "      <td>81.999831</td>\n",
       "    </tr>\n",
       "  </tbody>\n",
       "</table>\n",
       "</div>"
      ],
      "text/plain": [
       "   year  Net_emission\n",
       "0  2010     90.404125\n",
       "1  2011     86.000000\n",
       "2  2012     81.999831"
      ]
     },
     "execution_count": 6,
     "metadata": {},
     "output_type": "execute_result"
    }
   ],
   "source": [
    "# HIDDEN\n",
    "# Calculate the net emissions\n",
    "Net_emission = GHG_files.groupby('year')['GHG_sum_Mt'].sum(numeric_only = True).reset_index()\n",
    "Net_emission = Net_emission.rename(columns={'GHG_sum_Mt':'Net_emission'})\n",
    "Net_emission.head(3)"
   ]
  },
  {
   "cell_type": "code",
   "execution_count": null,
   "metadata": {},
   "outputs": [],
   "source": []
  },
  {
   "cell_type": "markdown",
   "metadata": {
    "tags": []
   },
   "source": [
    "## Total GHG emissions across years"
   ]
  },
  {
   "cell_type": "code",
   "execution_count": null,
   "metadata": {},
   "outputs": [],
   "source": []
  },
  {
   "cell_type": "code",
   "execution_count": 7,
   "metadata": {
    "tags": [
     "hide-input"
    ]
   },
   "outputs": [
    {
     "data": {
      "text/html": [
       "\n",
       "<style>\n",
       "  #altair-viz-f0bd94d9d9814745b85d966c7697e73f.vega-embed {\n",
       "    width: 100%;\n",
       "    display: flex;\n",
       "  }\n",
       "\n",
       "  #altair-viz-f0bd94d9d9814745b85d966c7697e73f.vega-embed details,\n",
       "  #altair-viz-f0bd94d9d9814745b85d966c7697e73f.vega-embed details summary {\n",
       "    position: relative;\n",
       "  }\n",
       "</style>\n",
       "<div id=\"altair-viz-f0bd94d9d9814745b85d966c7697e73f\"></div>\n",
       "<script type=\"text/javascript\">\n",
       "  var VEGA_DEBUG = (typeof VEGA_DEBUG == \"undefined\") ? {} : VEGA_DEBUG;\n",
       "  (function(spec, embedOpt){\n",
       "    let outputDiv = document.currentScript.previousElementSibling;\n",
       "    if (outputDiv.id !== \"altair-viz-f0bd94d9d9814745b85d966c7697e73f\") {\n",
       "      outputDiv = document.getElementById(\"altair-viz-f0bd94d9d9814745b85d966c7697e73f\");\n",
       "    }\n",
       "    const paths = {\n",
       "      \"vega\": \"https://cdn.jsdelivr.net/npm/vega@5?noext\",\n",
       "      \"vega-lib\": \"https://cdn.jsdelivr.net/npm/vega-lib?noext\",\n",
       "      \"vega-lite\": \"https://cdn.jsdelivr.net/npm/vega-lite@5.15.1?noext\",\n",
       "      \"vega-embed\": \"https://cdn.jsdelivr.net/npm/vega-embed@6?noext\",\n",
       "    };\n",
       "\n",
       "    function maybeLoadScript(lib, version) {\n",
       "      var key = `${lib.replace(\"-\", \"\")}_version`;\n",
       "      return (VEGA_DEBUG[key] == version) ?\n",
       "        Promise.resolve(paths[lib]) :\n",
       "        new Promise(function(resolve, reject) {\n",
       "          var s = document.createElement('script');\n",
       "          document.getElementsByTagName(\"head\")[0].appendChild(s);\n",
       "          s.async = true;\n",
       "          s.onload = () => {\n",
       "            VEGA_DEBUG[key] = version;\n",
       "            return resolve(paths[lib]);\n",
       "          };\n",
       "          s.onerror = () => reject(`Error loading script: ${paths[lib]}`);\n",
       "          s.src = paths[lib];\n",
       "        });\n",
       "    }\n",
       "\n",
       "    function showError(err) {\n",
       "      outputDiv.innerHTML = `<div class=\"error\" style=\"color:red;\">${err}</div>`;\n",
       "      throw err;\n",
       "    }\n",
       "\n",
       "    function displayChart(vegaEmbed) {\n",
       "      vegaEmbed(outputDiv, spec, embedOpt)\n",
       "        .catch(err => showError(`Javascript Error: ${err.message}<br>This usually means there's a typo in your chart specification. See the javascript console for the full traceback.`));\n",
       "    }\n",
       "\n",
       "    if(typeof define === \"function\" && define.amd) {\n",
       "      requirejs.config({paths});\n",
       "      require([\"vega-embed\"], displayChart, err => showError(`Error loading script: ${err.message}`));\n",
       "    } else {\n",
       "      maybeLoadScript(\"vega\", \"5\")\n",
       "        .then(() => maybeLoadScript(\"vega-lite\", \"5.15.1\"))\n",
       "        .then(() => maybeLoadScript(\"vega-embed\", \"6\"))\n",
       "        .catch(showError)\n",
       "        .then(() => displayChart(vegaEmbed));\n",
       "    }\n",
       "  })({\"config\": {\"view\": {\"continuousWidth\": 300, \"continuousHeight\": 300}}, \"layer\": [{\"data\": {\"name\": \"data-e3905b8f929c34903451b7703812a3ed\"}, \"mark\": {\"type\": \"bar\"}, \"encoding\": {\"color\": {\"field\": \"base_name\", \"legend\": {\"direction\": \"horizontal\", \"legendX\": 130, \"legendY\": -40, \"orient\": \"none\", \"title\": \"GHG Category\", \"titleAnchor\": \"middle\"}, \"type\": \"nominal\"}, \"tooltip\": [{\"field\": \"base_name\", \"title\": \"GHG Category\", \"type\": \"nominal\"}, {\"field\": \"GHG_sum_Mt\", \"title\": \"Emissions (Mt CO2e)\", \"type\": \"quantitative\"}], \"x\": {\"axis\": {\"labelAngle\": -90, \"title\": \"Year\"}, \"field\": \"year\", \"type\": \"ordinal\"}, \"y\": {\"field\": \"GHG_sum_Mt\", \"title\": \"Emissions (Mt CO2e)\", \"type\": \"quantitative\"}}, \"transform\": [{\"calculate\": \"datum.GHG_sum_t/1000000\", \"as\": \"GHG_sum_Mt\"}]}, {\"data\": {\"name\": \"data-d8f446532f52ad6c7e7f6dddecec1a54\"}, \"mark\": {\"type\": \"line\", \"color\": \"black\"}, \"encoding\": {\"tooltip\": [{\"field\": \"Net_emission\", \"title\": \"Net Quantity (Mt CO2e)\", \"type\": \"quantitative\"}], \"x\": {\"field\": \"year\", \"type\": \"ordinal\"}, \"y\": {\"field\": \"Net_emission\", \"title\": \"Net Quantity (Mt CO2e)\", \"type\": \"quantitative\"}}}], \"height\": 450, \"width\": 800, \"$schema\": \"https://vega.github.io/schema/vega-lite/v5.15.1.json\", \"datasets\": {\"data-e3905b8f929c34903451b7703812a3ed\": [{\"year\": 2010, \"catetory\": \"GHG\", \"base_name\": \"Non-Agricultural Landuse\", \"base_ext\": \".csv\", \"path\": \"../2023_11_20__01_27_24_hard_mincost_RF5_P1e8_Won_Gon\\\\out_2010\\\\GHG_emissions_separate_no_ag_reduction.csv\", \"GHG_sum_t\": -107778.2, \"GHG_sum_Mt\": -0.10777819999999999}, {\"year\": 2010, \"catetory\": \"GHG\", \"base_name\": \"Agricultural Management\", \"base_ext\": \".csv\", \"path\": \"../2023_11_20__01_27_24_hard_mincost_RF5_P1e8_Won_Gon\\\\out_2010\\\\GHG_emissions_separate_agricultural_management.csv\", \"GHG_sum_t\": 0.0, \"GHG_sum_Mt\": 0.0}, {\"year\": 2010, \"catetory\": \"GHG\", \"base_name\": \"Transition Penalty\", \"base_ext\": \".csv\", \"path\": \"../2023_11_20__01_27_24_hard_mincost_RF5_P1e8_Won_Gon\\\\out_2010\\\\GHG_emissions_separate_transition_penalty.csv\", \"GHG_sum_t\": 0.0, \"GHG_sum_Mt\": 0.0}, {\"year\": 2010, \"catetory\": \"GHG\", \"base_name\": \"Agricultural Landuse\", \"base_ext\": \".csv\", \"path\": \"../2023_11_20__01_27_24_hard_mincost_RF5_P1e8_Won_Gon\\\\out_2010\\\\GHG_emissions_separate_agricultural_landuse.csv\", \"GHG_sum_t\": 90511902.90334976, \"GHG_sum_Mt\": 90.51190290334976}, {\"year\": 2011, \"catetory\": \"GHG\", \"base_name\": \"Non-Agricultural Landuse\", \"base_ext\": \".csv\", \"path\": \"../2023_11_20__01_27_24_hard_mincost_RF5_P1e8_Won_Gon\\\\out_2011\\\\GHG_emissions_separate_no_ag_reduction.csv\", \"GHG_sum_t\": -2234265.0, \"GHG_sum_Mt\": -2.234265}, {\"year\": 2011, \"catetory\": \"GHG\", \"base_name\": \"Agricultural Management\", \"base_ext\": \".csv\", \"path\": \"../2023_11_20__01_27_24_hard_mincost_RF5_P1e8_Won_Gon\\\\out_2011\\\\GHG_emissions_separate_agricultural_management.csv\", \"GHG_sum_t\": -1141965.8, \"GHG_sum_Mt\": -1.1419658000000001}, {\"year\": 2011, \"catetory\": \"GHG\", \"base_name\": \"Transition Penalty\", \"base_ext\": \".csv\", \"path\": \"../2023_11_20__01_27_24_hard_mincost_RF5_P1e8_Won_Gon\\\\out_2011\\\\GHG_emissions_separate_transition_penalty.csv\", \"GHG_sum_t\": 0.0, \"GHG_sum_Mt\": 0.0}, {\"year\": 2011, \"catetory\": \"GHG\", \"base_name\": \"Agricultural Landuse\", \"base_ext\": \".csv\", \"path\": \"../2023_11_20__01_27_24_hard_mincost_RF5_P1e8_Won_Gon\\\\out_2011\\\\GHG_emissions_separate_agricultural_landuse.csv\", \"GHG_sum_t\": 89376230.58347371, \"GHG_sum_Mt\": 89.37623058347371}, {\"year\": 2012, \"catetory\": \"GHG\", \"base_name\": \"Non-Agricultural Landuse\", \"base_ext\": \".csv\", \"path\": \"../2023_11_20__01_27_24_hard_mincost_RF5_P1e8_Won_Gon\\\\out_2012\\\\GHG_emissions_separate_no_ag_reduction.csv\", \"GHG_sum_t\": -5840859.0, \"GHG_sum_Mt\": -5.840859}, {\"year\": 2012, \"catetory\": \"GHG\", \"base_name\": \"Agricultural Management\", \"base_ext\": \".csv\", \"path\": \"../2023_11_20__01_27_24_hard_mincost_RF5_P1e8_Won_Gon\\\\out_2012\\\\GHG_emissions_separate_agricultural_management.csv\", \"GHG_sum_t\": -1599621.9, \"GHG_sum_Mt\": -1.5996218999999998}, {\"year\": 2012, \"catetory\": \"GHG\", \"base_name\": \"Transition Penalty\", \"base_ext\": \".csv\", \"path\": \"../2023_11_20__01_27_24_hard_mincost_RF5_P1e8_Won_Gon\\\\out_2012\\\\GHG_emissions_separate_transition_penalty.csv\", \"GHG_sum_t\": 0.0, \"GHG_sum_Mt\": 0.0}, {\"year\": 2012, \"catetory\": \"GHG\", \"base_name\": \"Agricultural Landuse\", \"base_ext\": \".csv\", \"path\": \"../2023_11_20__01_27_24_hard_mincost_RF5_P1e8_Won_Gon\\\\out_2012\\\\GHG_emissions_separate_agricultural_landuse.csv\", \"GHG_sum_t\": 89440311.92037518, \"GHG_sum_Mt\": 89.44031192037518}, {\"year\": 2013, \"catetory\": \"GHG\", \"base_name\": \"Non-Agricultural Landuse\", \"base_ext\": \".csv\", \"path\": \"../2023_11_20__01_27_24_hard_mincost_RF5_P1e8_Won_Gon\\\\out_2013\\\\GHG_emissions_separate_no_ag_reduction.csv\", \"GHG_sum_t\": -9670719.0, \"GHG_sum_Mt\": -9.670719}, {\"year\": 2013, \"catetory\": \"GHG\", \"base_name\": \"Agricultural Management\", \"base_ext\": \".csv\", \"path\": \"../2023_11_20__01_27_24_hard_mincost_RF5_P1e8_Won_Gon\\\\out_2013\\\\GHG_emissions_separate_agricultural_management.csv\", \"GHG_sum_t\": -1947090.5, \"GHG_sum_Mt\": -1.9470905}, {\"year\": 2013, \"catetory\": \"GHG\", \"base_name\": \"Transition Penalty\", \"base_ext\": \".csv\", \"path\": \"../2023_11_20__01_27_24_hard_mincost_RF5_P1e8_Won_Gon\\\\out_2013\\\\GHG_emissions_separate_transition_penalty.csv\", \"GHG_sum_t\": 0.0, \"GHG_sum_Mt\": 0.0}, {\"year\": 2013, \"catetory\": \"GHG\", \"base_name\": \"Agricultural Landuse\", \"base_ext\": \".csv\", \"path\": \"../2023_11_20__01_27_24_hard_mincost_RF5_P1e8_Won_Gon\\\\out_2013\\\\GHG_emissions_separate_agricultural_landuse.csv\", \"GHG_sum_t\": 89617808.52900057, \"GHG_sum_Mt\": 89.61780852900057}, {\"year\": 2014, \"catetory\": \"GHG\", \"base_name\": \"Non-Agricultural Landuse\", \"base_ext\": \".csv\", \"path\": \"../2023_11_20__01_27_24_hard_mincost_RF5_P1e8_Won_Gon\\\\out_2014\\\\GHG_emissions_separate_no_ag_reduction.csv\", \"GHG_sum_t\": -13536060.0, \"GHG_sum_Mt\": -13.53606}, {\"year\": 2014, \"catetory\": \"GHG\", \"base_name\": \"Agricultural Management\", \"base_ext\": \".csv\", \"path\": \"../2023_11_20__01_27_24_hard_mincost_RF5_P1e8_Won_Gon\\\\out_2014\\\\GHG_emissions_separate_agricultural_management.csv\", \"GHG_sum_t\": -2140517.5, \"GHG_sum_Mt\": -2.1405175}, {\"year\": 2014, \"catetory\": \"GHG\", \"base_name\": \"Transition Penalty\", \"base_ext\": \".csv\", \"path\": \"../2023_11_20__01_27_24_hard_mincost_RF5_P1e8_Won_Gon\\\\out_2014\\\\GHG_emissions_separate_transition_penalty.csv\", \"GHG_sum_t\": 0.0, \"GHG_sum_Mt\": 0.0}, {\"year\": 2014, \"catetory\": \"GHG\", \"base_name\": \"Agricultural Landuse\", \"base_ext\": \".csv\", \"path\": \"../2023_11_20__01_27_24_hard_mincost_RF5_P1e8_Won_Gon\\\\out_2014\\\\GHG_emissions_separate_agricultural_landuse.csv\", \"GHG_sum_t\": 89676578.04581605, \"GHG_sum_Mt\": 89.67657804581604}, {\"year\": 2015, \"catetory\": \"GHG\", \"base_name\": \"Non-Agricultural Landuse\", \"base_ext\": \".csv\", \"path\": \"../2023_11_20__01_27_24_hard_mincost_RF5_P1e8_Won_Gon\\\\out_2015\\\\GHG_emissions_separate_no_ag_reduction.csv\", \"GHG_sum_t\": -17300306.0, \"GHG_sum_Mt\": -17.300306}, {\"year\": 2015, \"catetory\": \"GHG\", \"base_name\": \"Agricultural Management\", \"base_ext\": \".csv\", \"path\": \"../2023_11_20__01_27_24_hard_mincost_RF5_P1e8_Won_Gon\\\\out_2015\\\\GHG_emissions_separate_agricultural_management.csv\", \"GHG_sum_t\": -2432769.5, \"GHG_sum_Mt\": -2.4327695}, {\"year\": 2015, \"catetory\": \"GHG\", \"base_name\": \"Transition Penalty\", \"base_ext\": \".csv\", \"path\": \"../2023_11_20__01_27_24_hard_mincost_RF5_P1e8_Won_Gon\\\\out_2015\\\\GHG_emissions_separate_transition_penalty.csv\", \"GHG_sum_t\": 0.0, \"GHG_sum_Mt\": 0.0}, {\"year\": 2015, \"catetory\": \"GHG\", \"base_name\": \"Agricultural Landuse\", \"base_ext\": \".csv\", \"path\": \"../2023_11_20__01_27_24_hard_mincost_RF5_P1e8_Won_Gon\\\\out_2015\\\\GHG_emissions_separate_agricultural_landuse.csv\", \"GHG_sum_t\": 89732578.88367109, \"GHG_sum_Mt\": 89.7325788836711}, {\"year\": 2016, \"catetory\": \"GHG\", \"base_name\": \"Non-Agricultural Landuse\", \"base_ext\": \".csv\", \"path\": \"../2023_11_20__01_27_24_hard_mincost_RF5_P1e8_Won_Gon\\\\out_2016\\\\GHG_emissions_separate_no_ag_reduction.csv\", \"GHG_sum_t\": -21009996.0, \"GHG_sum_Mt\": -21.009996}, {\"year\": 2016, \"catetory\": \"GHG\", \"base_name\": \"Agricultural Management\", \"base_ext\": \".csv\", \"path\": \"../2023_11_20__01_27_24_hard_mincost_RF5_P1e8_Won_Gon\\\\out_2016\\\\GHG_emissions_separate_agricultural_management.csv\", \"GHG_sum_t\": -2728551.8, \"GHG_sum_Mt\": -2.7285518}, {\"year\": 2016, \"catetory\": \"GHG\", \"base_name\": \"Transition Penalty\", \"base_ext\": \".csv\", \"path\": \"../2023_11_20__01_27_24_hard_mincost_RF5_P1e8_Won_Gon\\\\out_2016\\\\GHG_emissions_separate_transition_penalty.csv\", \"GHG_sum_t\": 0.0, \"GHG_sum_Mt\": 0.0}, {\"year\": 2016, \"catetory\": \"GHG\", \"base_name\": \"Agricultural Landuse\", \"base_ext\": \".csv\", \"path\": \"../2023_11_20__01_27_24_hard_mincost_RF5_P1e8_Won_Gon\\\\out_2016\\\\GHG_emissions_separate_agricultural_landuse.csv\", \"GHG_sum_t\": 89738548.1010763, \"GHG_sum_Mt\": 89.7385481010763}, {\"year\": 2017, \"catetory\": \"GHG\", \"base_name\": \"Non-Agricultural Landuse\", \"base_ext\": \".csv\", \"path\": \"../2023_11_20__01_27_24_hard_mincost_RF5_P1e8_Won_Gon\\\\out_2017\\\\GHG_emissions_separate_no_ag_reduction.csv\", \"GHG_sum_t\": -24758754.0, \"GHG_sum_Mt\": -24.758754}, {\"year\": 2017, \"catetory\": \"GHG\", \"base_name\": \"Agricultural Management\", \"base_ext\": \".csv\", \"path\": \"../2023_11_20__01_27_24_hard_mincost_RF5_P1e8_Won_Gon\\\\out_2017\\\\GHG_emissions_separate_agricultural_management.csv\", \"GHG_sum_t\": -2944346.8, \"GHG_sum_Mt\": -2.9443468}, {\"year\": 2017, \"catetory\": \"GHG\", \"base_name\": \"Transition Penalty\", \"base_ext\": \".csv\", \"path\": \"../2023_11_20__01_27_24_hard_mincost_RF5_P1e8_Won_Gon\\\\out_2017\\\\GHG_emissions_separate_transition_penalty.csv\", \"GHG_sum_t\": 0.0, \"GHG_sum_Mt\": 0.0}, {\"year\": 2017, \"catetory\": \"GHG\", \"base_name\": \"Agricultural Landuse\", \"base_ext\": \".csv\", \"path\": \"../2023_11_20__01_27_24_hard_mincost_RF5_P1e8_Won_Gon\\\\out_2017\\\\GHG_emissions_separate_agricultural_landuse.csv\", \"GHG_sum_t\": 89699852.53499721, \"GHG_sum_Mt\": 89.6998525349972}, {\"year\": 2018, \"catetory\": \"GHG\", \"base_name\": \"Non-Agricultural Landuse\", \"base_ext\": \".csv\", \"path\": \"../2023_11_20__01_27_24_hard_mincost_RF5_P1e8_Won_Gon\\\\out_2018\\\\GHG_emissions_separate_no_ag_reduction.csv\", \"GHG_sum_t\": -28565532.0, \"GHG_sum_Mt\": -28.565532}, {\"year\": 2018, \"catetory\": \"GHG\", \"base_name\": \"Agricultural Management\", \"base_ext\": \".csv\", \"path\": \"../2023_11_20__01_27_24_hard_mincost_RF5_P1e8_Won_Gon\\\\out_2018\\\\GHG_emissions_separate_agricultural_management.csv\", \"GHG_sum_t\": -3123891.2, \"GHG_sum_Mt\": -3.1238912}, {\"year\": 2018, \"catetory\": \"GHG\", \"base_name\": \"Transition Penalty\", \"base_ext\": \".csv\", \"path\": \"../2023_11_20__01_27_24_hard_mincost_RF5_P1e8_Won_Gon\\\\out_2018\\\\GHG_emissions_separate_transition_penalty.csv\", \"GHG_sum_t\": 0.0, \"GHG_sum_Mt\": 0.0}, {\"year\": 2018, \"catetory\": \"GHG\", \"base_name\": \"Agricultural Landuse\", \"base_ext\": \".csv\", \"path\": \"../2023_11_20__01_27_24_hard_mincost_RF5_P1e8_Won_Gon\\\\out_2018\\\\GHG_emissions_separate_agricultural_landuse.csv\", \"GHG_sum_t\": 89689240.38707611, \"GHG_sum_Mt\": 89.68924038707611}, {\"year\": 2019, \"catetory\": \"GHG\", \"base_name\": \"Non-Agricultural Landuse\", \"base_ext\": \".csv\", \"path\": \"../2023_11_20__01_27_24_hard_mincost_RF5_P1e8_Won_Gon\\\\out_2019\\\\GHG_emissions_separate_no_ag_reduction.csv\", \"GHG_sum_t\": -32362058.0, \"GHG_sum_Mt\": -32.362058}, {\"year\": 2019, \"catetory\": \"GHG\", \"base_name\": \"Agricultural Management\", \"base_ext\": \".csv\", \"path\": \"../2023_11_20__01_27_24_hard_mincost_RF5_P1e8_Won_Gon\\\\out_2019\\\\GHG_emissions_separate_agricultural_management.csv\", \"GHG_sum_t\": -3344061.0, \"GHG_sum_Mt\": -3.344061}, {\"year\": 2019, \"catetory\": \"GHG\", \"base_name\": \"Transition Penalty\", \"base_ext\": \".csv\", \"path\": \"../2023_11_20__01_27_24_hard_mincost_RF5_P1e8_Won_Gon\\\\out_2019\\\\GHG_emissions_separate_transition_penalty.csv\", \"GHG_sum_t\": 0.0, \"GHG_sum_Mt\": 0.0}, {\"year\": 2019, \"catetory\": \"GHG\", \"base_name\": \"Agricultural Landuse\", \"base_ext\": \".csv\", \"path\": \"../2023_11_20__01_27_24_hard_mincost_RF5_P1e8_Won_Gon\\\\out_2019\\\\GHG_emissions_separate_agricultural_landuse.csv\", \"GHG_sum_t\": 89705757.75169429, \"GHG_sum_Mt\": 89.70575775169429}, {\"year\": 2020, \"catetory\": \"GHG\", \"base_name\": \"Non-Agricultural Landuse\", \"base_ext\": \".csv\", \"path\": \"../2023_11_20__01_27_24_hard_mincost_RF5_P1e8_Won_Gon\\\\out_2020\\\\GHG_emissions_separate_no_ag_reduction.csv\", \"GHG_sum_t\": -36189140.0, \"GHG_sum_Mt\": -36.18914}, {\"year\": 2020, \"catetory\": \"GHG\", \"base_name\": \"Agricultural Management\", \"base_ext\": \".csv\", \"path\": \"../2023_11_20__01_27_24_hard_mincost_RF5_P1e8_Won_Gon\\\\out_2020\\\\GHG_emissions_separate_agricultural_management.csv\", \"GHG_sum_t\": -3520406.5, \"GHG_sum_Mt\": -3.5204065}, {\"year\": 2020, \"catetory\": \"GHG\", \"base_name\": \"Transition Penalty\", \"base_ext\": \".csv\", \"path\": \"../2023_11_20__01_27_24_hard_mincost_RF5_P1e8_Won_Gon\\\\out_2020\\\\GHG_emissions_separate_transition_penalty.csv\", \"GHG_sum_t\": 0.0, \"GHG_sum_Mt\": 0.0}, {\"year\": 2020, \"catetory\": \"GHG\", \"base_name\": \"Agricultural Landuse\", \"base_ext\": \".csv\", \"path\": \"../2023_11_20__01_27_24_hard_mincost_RF5_P1e8_Won_Gon\\\\out_2020\\\\GHG_emissions_separate_agricultural_landuse.csv\", \"GHG_sum_t\": 89709546.36748098, \"GHG_sum_Mt\": 89.70954636748098}, {\"year\": 2021, \"catetory\": \"GHG\", \"base_name\": \"Non-Agricultural Landuse\", \"base_ext\": \".csv\", \"path\": \"../2023_11_20__01_27_24_hard_mincost_RF5_P1e8_Won_Gon\\\\out_2021\\\\GHG_emissions_separate_no_ag_reduction.csv\", \"GHG_sum_t\": -39794440.0, \"GHG_sum_Mt\": -39.79444}, {\"year\": 2021, \"catetory\": \"GHG\", \"base_name\": \"Agricultural Management\", \"base_ext\": \".csv\", \"path\": \"../2023_11_20__01_27_24_hard_mincost_RF5_P1e8_Won_Gon\\\\out_2021\\\\GHG_emissions_separate_agricultural_management.csv\", \"GHG_sum_t\": -3728529.5, \"GHG_sum_Mt\": -3.7285295}, {\"year\": 2021, \"catetory\": \"GHG\", \"base_name\": \"Transition Penalty\", \"base_ext\": \".csv\", \"path\": \"../2023_11_20__01_27_24_hard_mincost_RF5_P1e8_Won_Gon\\\\out_2021\\\\GHG_emissions_separate_transition_penalty.csv\", \"GHG_sum_t\": 0.0, \"GHG_sum_Mt\": 0.0}, {\"year\": 2021, \"catetory\": \"GHG\", \"base_name\": \"Agricultural Landuse\", \"base_ext\": \".csv\", \"path\": \"../2023_11_20__01_27_24_hard_mincost_RF5_P1e8_Won_Gon\\\\out_2021\\\\GHG_emissions_separate_agricultural_landuse.csv\", \"GHG_sum_t\": 89519957.32223794, \"GHG_sum_Mt\": 89.51995732223794}, {\"year\": 2022, \"catetory\": \"GHG\", \"base_name\": \"Non-Agricultural Landuse\", \"base_ext\": \".csv\", \"path\": \"../2023_11_20__01_27_24_hard_mincost_RF5_P1e8_Won_Gon\\\\out_2022\\\\GHG_emissions_separate_no_ag_reduction.csv\", \"GHG_sum_t\": -43481252.0, \"GHG_sum_Mt\": -43.481252}, {\"year\": 2022, \"catetory\": \"GHG\", \"base_name\": \"Agricultural Management\", \"base_ext\": \".csv\", \"path\": \"../2023_11_20__01_27_24_hard_mincost_RF5_P1e8_Won_Gon\\\\out_2022\\\\GHG_emissions_separate_agricultural_management.csv\", \"GHG_sum_t\": -3899401.2, \"GHG_sum_Mt\": -3.8994012000000002}, {\"year\": 2022, \"catetory\": \"GHG\", \"base_name\": \"Transition Penalty\", \"base_ext\": \".csv\", \"path\": \"../2023_11_20__01_27_24_hard_mincost_RF5_P1e8_Won_Gon\\\\out_2022\\\\GHG_emissions_separate_transition_penalty.csv\", \"GHG_sum_t\": 0.0, \"GHG_sum_Mt\": 0.0}, {\"year\": 2022, \"catetory\": \"GHG\", \"base_name\": \"Agricultural Landuse\", \"base_ext\": \".csv\", \"path\": \"../2023_11_20__01_27_24_hard_mincost_RF5_P1e8_Won_Gon\\\\out_2022\\\\GHG_emissions_separate_agricultural_landuse.csv\", \"GHG_sum_t\": 89380656.20183697, \"GHG_sum_Mt\": 89.38065620183697}, {\"year\": 2023, \"catetory\": \"GHG\", \"base_name\": \"Non-Agricultural Landuse\", \"base_ext\": \".csv\", \"path\": \"../2023_11_20__01_27_24_hard_mincost_RF5_P1e8_Won_Gon\\\\out_2023\\\\GHG_emissions_separate_no_ag_reduction.csv\", \"GHG_sum_t\": -47140830.0, \"GHG_sum_Mt\": -47.14083}, {\"year\": 2023, \"catetory\": \"GHG\", \"base_name\": \"Agricultural Management\", \"base_ext\": \".csv\", \"path\": \"../2023_11_20__01_27_24_hard_mincost_RF5_P1e8_Won_Gon\\\\out_2023\\\\GHG_emissions_separate_agricultural_management.csv\", \"GHG_sum_t\": -4124986.0, \"GHG_sum_Mt\": -4.124986}, {\"year\": 2023, \"catetory\": \"GHG\", \"base_name\": \"Transition Penalty\", \"base_ext\": \".csv\", \"path\": \"../2023_11_20__01_27_24_hard_mincost_RF5_P1e8_Won_Gon\\\\out_2023\\\\GHG_emissions_separate_transition_penalty.csv\", \"GHG_sum_t\": 0.0, \"GHG_sum_Mt\": 0.0}, {\"year\": 2023, \"catetory\": \"GHG\", \"base_name\": \"Agricultural Landuse\", \"base_ext\": \".csv\", \"path\": \"../2023_11_20__01_27_24_hard_mincost_RF5_P1e8_Won_Gon\\\\out_2023\\\\GHG_emissions_separate_agricultural_landuse.csv\", \"GHG_sum_t\": 89264767.04326548, \"GHG_sum_Mt\": 89.26476704326548}, {\"year\": 2024, \"catetory\": \"GHG\", \"base_name\": \"Non-Agricultural Landuse\", \"base_ext\": \".csv\", \"path\": \"../2023_11_20__01_27_24_hard_mincost_RF5_P1e8_Won_Gon\\\\out_2024\\\\GHG_emissions_separate_no_ag_reduction.csv\", \"GHG_sum_t\": -50816016.0, \"GHG_sum_Mt\": -50.816016}, {\"year\": 2024, \"catetory\": \"GHG\", \"base_name\": \"Agricultural Management\", \"base_ext\": \".csv\", \"path\": \"../2023_11_20__01_27_24_hard_mincost_RF5_P1e8_Won_Gon\\\\out_2024\\\\GHG_emissions_separate_agricultural_management.csv\", \"GHG_sum_t\": -4294888.0, \"GHG_sum_Mt\": -4.294888}, {\"year\": 2024, \"catetory\": \"GHG\", \"base_name\": \"Transition Penalty\", \"base_ext\": \".csv\", \"path\": \"../2023_11_20__01_27_24_hard_mincost_RF5_P1e8_Won_Gon\\\\out_2024\\\\GHG_emissions_separate_transition_penalty.csv\", \"GHG_sum_t\": 0.0, \"GHG_sum_Mt\": 0.0}, {\"year\": 2024, \"catetory\": \"GHG\", \"base_name\": \"Agricultural Landuse\", \"base_ext\": \".csv\", \"path\": \"../2023_11_20__01_27_24_hard_mincost_RF5_P1e8_Won_Gon\\\\out_2024\\\\GHG_emissions_separate_agricultural_landuse.csv\", \"GHG_sum_t\": 89106729.4886499, \"GHG_sum_Mt\": 89.1067294886499}, {\"year\": 2025, \"catetory\": \"GHG\", \"base_name\": \"Non-Agricultural Landuse\", \"base_ext\": \".csv\", \"path\": \"../2023_11_20__01_27_24_hard_mincost_RF5_P1e8_Won_Gon\\\\out_2025\\\\GHG_emissions_separate_no_ag_reduction.csv\", \"GHG_sum_t\": -54418004.0, \"GHG_sum_Mt\": -54.418004}, {\"year\": 2025, \"catetory\": \"GHG\", \"base_name\": \"Agricultural Management\", \"base_ext\": \".csv\", \"path\": \"../2023_11_20__01_27_24_hard_mincost_RF5_P1e8_Won_Gon\\\\out_2025\\\\GHG_emissions_separate_agricultural_management.csv\", \"GHG_sum_t\": -4500395.0, \"GHG_sum_Mt\": -4.500395}, {\"year\": 2025, \"catetory\": \"GHG\", \"base_name\": \"Transition Penalty\", \"base_ext\": \".csv\", \"path\": \"../2023_11_20__01_27_24_hard_mincost_RF5_P1e8_Won_Gon\\\\out_2025\\\\GHG_emissions_separate_transition_penalty.csv\", \"GHG_sum_t\": 0.0, \"GHG_sum_Mt\": 0.0}, {\"year\": 2025, \"catetory\": \"GHG\", \"base_name\": \"Agricultural Landuse\", \"base_ext\": \".csv\", \"path\": \"../2023_11_20__01_27_24_hard_mincost_RF5_P1e8_Won_Gon\\\\out_2025\\\\GHG_emissions_separate_agricultural_landuse.csv\", \"GHG_sum_t\": 88916993.5483059, \"GHG_sum_Mt\": 88.9169935483059}, {\"year\": 2026, \"catetory\": \"GHG\", \"base_name\": \"Non-Agricultural Landuse\", \"base_ext\": \".csv\", \"path\": \"../2023_11_20__01_27_24_hard_mincost_RF5_P1e8_Won_Gon\\\\out_2026\\\\GHG_emissions_separate_no_ag_reduction.csv\", \"GHG_sum_t\": -58123900.0, \"GHG_sum_Mt\": -58.1239}, {\"year\": 2026, \"catetory\": \"GHG\", \"base_name\": \"Agricultural Management\", \"base_ext\": \".csv\", \"path\": \"../2023_11_20__01_27_24_hard_mincost_RF5_P1e8_Won_Gon\\\\out_2026\\\\GHG_emissions_separate_agricultural_management.csv\", \"GHG_sum_t\": -4610803.5, \"GHG_sum_Mt\": -4.6108035}, {\"year\": 2026, \"catetory\": \"GHG\", \"base_name\": \"Transition Penalty\", \"base_ext\": \".csv\", \"path\": \"../2023_11_20__01_27_24_hard_mincost_RF5_P1e8_Won_Gon\\\\out_2026\\\\GHG_emissions_separate_transition_penalty.csv\", \"GHG_sum_t\": 0.0, \"GHG_sum_Mt\": 0.0}, {\"year\": 2026, \"catetory\": \"GHG\", \"base_name\": \"Agricultural Landuse\", \"base_ext\": \".csv\", \"path\": \"../2023_11_20__01_27_24_hard_mincost_RF5_P1e8_Won_Gon\\\\out_2026\\\\GHG_emissions_separate_agricultural_landuse.csv\", \"GHG_sum_t\": 88733788.080854, \"GHG_sum_Mt\": 88.733788080854}, {\"year\": 2027, \"catetory\": \"GHG\", \"base_name\": \"Non-Agricultural Landuse\", \"base_ext\": \".csv\", \"path\": \"../2023_11_20__01_27_24_hard_mincost_RF5_P1e8_Won_Gon\\\\out_2027\\\\GHG_emissions_separate_no_ag_reduction.csv\", \"GHG_sum_t\": -61816852.0, \"GHG_sum_Mt\": -61.816852}, {\"year\": 2027, \"catetory\": \"GHG\", \"base_name\": \"Agricultural Management\", \"base_ext\": \".csv\", \"path\": \"../2023_11_20__01_27_24_hard_mincost_RF5_P1e8_Won_Gon\\\\out_2027\\\\GHG_emissions_separate_agricultural_management.csv\", \"GHG_sum_t\": -4769642.5, \"GHG_sum_Mt\": -4.7696425}, {\"year\": 2027, \"catetory\": \"GHG\", \"base_name\": \"Transition Penalty\", \"base_ext\": \".csv\", \"path\": \"../2023_11_20__01_27_24_hard_mincost_RF5_P1e8_Won_Gon\\\\out_2027\\\\GHG_emissions_separate_transition_penalty.csv\", \"GHG_sum_t\": 0.0, \"GHG_sum_Mt\": 0.0}, {\"year\": 2027, \"catetory\": \"GHG\", \"base_name\": \"Agricultural Landuse\", \"base_ext\": \".csv\", \"path\": \"../2023_11_20__01_27_24_hard_mincost_RF5_P1e8_Won_Gon\\\\out_2027\\\\GHG_emissions_separate_agricultural_landuse.csv\", \"GHG_sum_t\": 88586479.85896732, \"GHG_sum_Mt\": 88.58647985896732}, {\"year\": 2028, \"catetory\": \"GHG\", \"base_name\": \"Non-Agricultural Landuse\", \"base_ext\": \".csv\", \"path\": \"../2023_11_20__01_27_24_hard_mincost_RF5_P1e8_Won_Gon\\\\out_2028\\\\GHG_emissions_separate_no_ag_reduction.csv\", \"GHG_sum_t\": -65586536.0, \"GHG_sum_Mt\": -65.586536}, {\"year\": 2028, \"catetory\": \"GHG\", \"base_name\": \"Agricultural Management\", \"base_ext\": \".csv\", \"path\": \"../2023_11_20__01_27_24_hard_mincost_RF5_P1e8_Won_Gon\\\\out_2028\\\\GHG_emissions_separate_agricultural_management.csv\", \"GHG_sum_t\": -4905463.0, \"GHG_sum_Mt\": -4.905463}, {\"year\": 2028, \"catetory\": \"GHG\", \"base_name\": \"Transition Penalty\", \"base_ext\": \".csv\", \"path\": \"../2023_11_20__01_27_24_hard_mincost_RF5_P1e8_Won_Gon\\\\out_2028\\\\GHG_emissions_separate_transition_penalty.csv\", \"GHG_sum_t\": 0.0, \"GHG_sum_Mt\": 0.0}, {\"year\": 2028, \"catetory\": \"GHG\", \"base_name\": \"Agricultural Landuse\", \"base_ext\": \".csv\", \"path\": \"../2023_11_20__01_27_24_hard_mincost_RF5_P1e8_Won_Gon\\\\out_2028\\\\GHG_emissions_separate_agricultural_landuse.csv\", \"GHG_sum_t\": 88491071.2339876, \"GHG_sum_Mt\": 88.4910712339876}, {\"year\": 2029, \"catetory\": \"GHG\", \"base_name\": \"Non-Agricultural Landuse\", \"base_ext\": \".csv\", \"path\": \"../2023_11_20__01_27_24_hard_mincost_RF5_P1e8_Won_Gon\\\\out_2029\\\\GHG_emissions_separate_no_ag_reduction.csv\", \"GHG_sum_t\": -69342870.0, \"GHG_sum_Mt\": -69.34287}, {\"year\": 2029, \"catetory\": \"GHG\", \"base_name\": \"Agricultural Management\", \"base_ext\": \".csv\", \"path\": \"../2023_11_20__01_27_24_hard_mincost_RF5_P1e8_Won_Gon\\\\out_2029\\\\GHG_emissions_separate_agricultural_management.csv\", \"GHG_sum_t\": -4959639.5, \"GHG_sum_Mt\": -4.9596395}, {\"year\": 2029, \"catetory\": \"GHG\", \"base_name\": \"Transition Penalty\", \"base_ext\": \".csv\", \"path\": \"../2023_11_20__01_27_24_hard_mincost_RF5_P1e8_Won_Gon\\\\out_2029\\\\GHG_emissions_separate_transition_penalty.csv\", \"GHG_sum_t\": 0.0, \"GHG_sum_Mt\": 0.0}, {\"year\": 2029, \"catetory\": \"GHG\", \"base_name\": \"Agricultural Landuse\", \"base_ext\": \".csv\", \"path\": \"../2023_11_20__01_27_24_hard_mincost_RF5_P1e8_Won_Gon\\\\out_2029\\\\GHG_emissions_separate_agricultural_landuse.csv\", \"GHG_sum_t\": 88302421.33026525, \"GHG_sum_Mt\": 88.30242133026525}, {\"year\": 2030, \"catetory\": \"GHG\", \"base_name\": \"Non-Agricultural Landuse\", \"base_ext\": \".csv\", \"path\": \"../2023_11_20__01_27_24_hard_mincost_RF5_P1e8_Won_Gon\\\\out_2030\\\\GHG_emissions_separate_no_ag_reduction.csv\", \"GHG_sum_t\": -73101080.0, \"GHG_sum_Mt\": -73.10108}, {\"year\": 2030, \"catetory\": \"GHG\", \"base_name\": \"Agricultural Management\", \"base_ext\": \".csv\", \"path\": \"../2023_11_20__01_27_24_hard_mincost_RF5_P1e8_Won_Gon\\\\out_2030\\\\GHG_emissions_separate_agricultural_management.csv\", \"GHG_sum_t\": -5134446.5, \"GHG_sum_Mt\": -5.1344465}, {\"year\": 2030, \"catetory\": \"GHG\", \"base_name\": \"Transition Penalty\", \"base_ext\": \".csv\", \"path\": \"../2023_11_20__01_27_24_hard_mincost_RF5_P1e8_Won_Gon\\\\out_2030\\\\GHG_emissions_separate_transition_penalty.csv\", \"GHG_sum_t\": 0.0, \"GHG_sum_Mt\": 0.0}, {\"year\": 2030, \"catetory\": \"GHG\", \"base_name\": \"Agricultural Landuse\", \"base_ext\": \".csv\", \"path\": \"../2023_11_20__01_27_24_hard_mincost_RF5_P1e8_Won_Gon\\\\out_2030\\\\GHG_emissions_separate_agricultural_landuse.csv\", \"GHG_sum_t\": 88231793.43973456, \"GHG_sum_Mt\": 88.23179343973456}, {\"year\": 2031, \"catetory\": \"GHG\", \"base_name\": \"Non-Agricultural Landuse\", \"base_ext\": \".csv\", \"path\": \"../2023_11_20__01_27_24_hard_mincost_RF5_P1e8_Won_Gon\\\\out_2031\\\\GHG_emissions_separate_no_ag_reduction.csv\", \"GHG_sum_t\": -75894950.0, \"GHG_sum_Mt\": -75.89495}, {\"year\": 2031, \"catetory\": \"GHG\", \"base_name\": \"Agricultural Management\", \"base_ext\": \".csv\", \"path\": \"../2023_11_20__01_27_24_hard_mincost_RF5_P1e8_Won_Gon\\\\out_2031\\\\GHG_emissions_separate_agricultural_management.csv\", \"GHG_sum_t\": -6209031.0, \"GHG_sum_Mt\": -6.209031}, {\"year\": 2031, \"catetory\": \"GHG\", \"base_name\": \"Transition Penalty\", \"base_ext\": \".csv\", \"path\": \"../2023_11_20__01_27_24_hard_mincost_RF5_P1e8_Won_Gon\\\\out_2031\\\\GHG_emissions_separate_transition_penalty.csv\", \"GHG_sum_t\": 0.0, \"GHG_sum_Mt\": 0.0}, {\"year\": 2031, \"catetory\": \"GHG\", \"base_name\": \"Agricultural Landuse\", \"base_ext\": \".csv\", \"path\": \"../2023_11_20__01_27_24_hard_mincost_RF5_P1e8_Won_Gon\\\\out_2031\\\\GHG_emissions_separate_agricultural_landuse.csv\", \"GHG_sum_t\": 88102401.61673132, \"GHG_sum_Mt\": 88.10240161673131}, {\"year\": 2032, \"catetory\": \"GHG\", \"base_name\": \"Non-Agricultural Landuse\", \"base_ext\": \".csv\", \"path\": \"../2023_11_20__01_27_24_hard_mincost_RF5_P1e8_Won_Gon\\\\out_2032\\\\GHG_emissions_separate_no_ag_reduction.csv\", \"GHG_sum_t\": -77462810.0, \"GHG_sum_Mt\": -77.46281}, {\"year\": 2032, \"catetory\": \"GHG\", \"base_name\": \"Agricultural Management\", \"base_ext\": \".csv\", \"path\": \"../2023_11_20__01_27_24_hard_mincost_RF5_P1e8_Won_Gon\\\\out_2032\\\\GHG_emissions_separate_agricultural_management.csv\", \"GHG_sum_t\": -8538839.0, \"GHG_sum_Mt\": -8.538839}, {\"year\": 2032, \"catetory\": \"GHG\", \"base_name\": \"Transition Penalty\", \"base_ext\": \".csv\", \"path\": \"../2023_11_20__01_27_24_hard_mincost_RF5_P1e8_Won_Gon\\\\out_2032\\\\GHG_emissions_separate_transition_penalty.csv\", \"GHG_sum_t\": 0.0, \"GHG_sum_Mt\": 0.0}, {\"year\": 2032, \"catetory\": \"GHG\", \"base_name\": \"Agricultural Landuse\", \"base_ext\": \".csv\", \"path\": \"../2023_11_20__01_27_24_hard_mincost_RF5_P1e8_Won_Gon\\\\out_2032\\\\GHG_emissions_separate_agricultural_landuse.csv\", \"GHG_sum_t\": 87999282.6785289, \"GHG_sum_Mt\": 87.9992826785289}, {\"year\": 2033, \"catetory\": \"GHG\", \"base_name\": \"Non-Agricultural Landuse\", \"base_ext\": \".csv\", \"path\": \"../2023_11_20__01_27_24_hard_mincost_RF5_P1e8_Won_Gon\\\\out_2033\\\\GHG_emissions_separate_no_ag_reduction.csv\", \"GHG_sum_t\": -77372670.0, \"GHG_sum_Mt\": -77.37267}, {\"year\": 2033, \"catetory\": \"GHG\", \"base_name\": \"Agricultural Management\", \"base_ext\": \".csv\", \"path\": \"../2023_11_20__01_27_24_hard_mincost_RF5_P1e8_Won_Gon\\\\out_2033\\\\GHG_emissions_separate_agricultural_management.csv\", \"GHG_sum_t\": -12549913.0, \"GHG_sum_Mt\": -12.549913}, {\"year\": 2033, \"catetory\": \"GHG\", \"base_name\": \"Transition Penalty\", \"base_ext\": \".csv\", \"path\": \"../2023_11_20__01_27_24_hard_mincost_RF5_P1e8_Won_Gon\\\\out_2033\\\\GHG_emissions_separate_transition_penalty.csv\", \"GHG_sum_t\": 0.0, \"GHG_sum_Mt\": 0.0}, {\"year\": 2033, \"catetory\": \"GHG\", \"base_name\": \"Agricultural Landuse\", \"base_ext\": \".csv\", \"path\": \"../2023_11_20__01_27_24_hard_mincost_RF5_P1e8_Won_Gon\\\\out_2033\\\\GHG_emissions_separate_agricultural_landuse.csv\", \"GHG_sum_t\": 87922000.05409738, \"GHG_sum_Mt\": 87.92200005409738}, {\"year\": 2034, \"catetory\": \"GHG\", \"base_name\": \"Non-Agricultural Landuse\", \"base_ext\": \".csv\", \"path\": \"../2023_11_20__01_27_24_hard_mincost_RF5_P1e8_Won_Gon\\\\out_2034\\\\GHG_emissions_separate_no_ag_reduction.csv\", \"GHG_sum_t\": -78107800.0, \"GHG_sum_Mt\": -78.1078}, {\"year\": 2034, \"catetory\": \"GHG\", \"base_name\": \"Agricultural Management\", \"base_ext\": \".csv\", \"path\": \"../2023_11_20__01_27_24_hard_mincost_RF5_P1e8_Won_Gon\\\\out_2034\\\\GHG_emissions_separate_agricultural_management.csv\", \"GHG_sum_t\": -15785264.0, \"GHG_sum_Mt\": -15.785264}, {\"year\": 2034, \"catetory\": \"GHG\", \"base_name\": \"Transition Penalty\", \"base_ext\": \".csv\", \"path\": \"../2023_11_20__01_27_24_hard_mincost_RF5_P1e8_Won_Gon\\\\out_2034\\\\GHG_emissions_separate_transition_penalty.csv\", \"GHG_sum_t\": 0.0, \"GHG_sum_Mt\": 0.0}, {\"year\": 2034, \"catetory\": \"GHG\", \"base_name\": \"Agricultural Landuse\", \"base_ext\": \".csv\", \"path\": \"../2023_11_20__01_27_24_hard_mincost_RF5_P1e8_Won_Gon\\\\out_2034\\\\GHG_emissions_separate_agricultural_landuse.csv\", \"GHG_sum_t\": 87874863.6298993, \"GHG_sum_Mt\": 87.8748636298993}, {\"year\": 2035, \"catetory\": \"GHG\", \"base_name\": \"Non-Agricultural Landuse\", \"base_ext\": \".csv\", \"path\": \"../2023_11_20__01_27_24_hard_mincost_RF5_P1e8_Won_Gon\\\\out_2035\\\\GHG_emissions_separate_no_ag_reduction.csv\", \"GHG_sum_t\": -82228050.0, \"GHG_sum_Mt\": -82.22805}, {\"year\": 2035, \"catetory\": \"GHG\", \"base_name\": \"Agricultural Management\", \"base_ext\": \".csv\", \"path\": \"../2023_11_20__01_27_24_hard_mincost_RF5_P1e8_Won_Gon\\\\out_2035\\\\GHG_emissions_separate_agricultural_management.csv\", \"GHG_sum_t\": -15424822.0, \"GHG_sum_Mt\": -15.424822}, {\"year\": 2035, \"catetory\": \"GHG\", \"base_name\": \"Transition Penalty\", \"base_ext\": \".csv\", \"path\": \"../2023_11_20__01_27_24_hard_mincost_RF5_P1e8_Won_Gon\\\\out_2035\\\\GHG_emissions_separate_transition_penalty.csv\", \"GHG_sum_t\": 0.0, \"GHG_sum_Mt\": 0.0}, {\"year\": 2035, \"catetory\": \"GHG\", \"base_name\": \"Agricultural Landuse\", \"base_ext\": \".csv\", \"path\": \"../2023_11_20__01_27_24_hard_mincost_RF5_P1e8_Won_Gon\\\\out_2035\\\\GHG_emissions_separate_agricultural_landuse.csv\", \"GHG_sum_t\": 87650741.13326852, \"GHG_sum_Mt\": 87.65074113326853}, {\"year\": 2036, \"catetory\": \"GHG\", \"base_name\": \"Non-Agricultural Landuse\", \"base_ext\": \".csv\", \"path\": \"../2023_11_20__01_27_24_hard_mincost_RF5_P1e8_Won_Gon\\\\out_2036\\\\GHG_emissions_separate_no_ag_reduction.csv\", \"GHG_sum_t\": -88861600.0, \"GHG_sum_Mt\": -88.8616}, {\"year\": 2036, \"catetory\": \"GHG\", \"base_name\": \"Agricultural Management\", \"base_ext\": \".csv\", \"path\": \"../2023_11_20__01_27_24_hard_mincost_RF5_P1e8_Won_Gon\\\\out_2036\\\\GHG_emissions_separate_agricultural_management.csv\", \"GHG_sum_t\": -12490273.0, \"GHG_sum_Mt\": -12.490273}, {\"year\": 2036, \"catetory\": \"GHG\", \"base_name\": \"Transition Penalty\", \"base_ext\": \".csv\", \"path\": \"../2023_11_20__01_27_24_hard_mincost_RF5_P1e8_Won_Gon\\\\out_2036\\\\GHG_emissions_separate_transition_penalty.csv\", \"GHG_sum_t\": 0.0, \"GHG_sum_Mt\": 0.0}, {\"year\": 2036, \"catetory\": \"GHG\", \"base_name\": \"Agricultural Landuse\", \"base_ext\": \".csv\", \"path\": \"../2023_11_20__01_27_24_hard_mincost_RF5_P1e8_Won_Gon\\\\out_2036\\\\GHG_emissions_separate_agricultural_landuse.csv\", \"GHG_sum_t\": 87349252.52732478, \"GHG_sum_Mt\": 87.34925252732478}, {\"year\": 2037, \"catetory\": \"GHG\", \"base_name\": \"Non-Agricultural Landuse\", \"base_ext\": \".csv\", \"path\": \"../2023_11_20__01_27_24_hard_mincost_RF5_P1e8_Won_Gon\\\\out_2037\\\\GHG_emissions_separate_no_ag_reduction.csv\", \"GHG_sum_t\": -94007390.0, \"GHG_sum_Mt\": -94.00739}, {\"year\": 2037, \"catetory\": \"GHG\", \"base_name\": \"Agricultural Management\", \"base_ext\": \".csv\", \"path\": \"../2023_11_20__01_27_24_hard_mincost_RF5_P1e8_Won_Gon\\\\out_2037\\\\GHG_emissions_separate_agricultural_management.csv\", \"GHG_sum_t\": -11081882.0, \"GHG_sum_Mt\": -11.081882}, {\"year\": 2037, \"catetory\": \"GHG\", \"base_name\": \"Transition Penalty\", \"base_ext\": \".csv\", \"path\": \"../2023_11_20__01_27_24_hard_mincost_RF5_P1e8_Won_Gon\\\\out_2037\\\\GHG_emissions_separate_transition_penalty.csv\", \"GHG_sum_t\": 0.0, \"GHG_sum_Mt\": 0.0}, {\"year\": 2037, \"catetory\": \"GHG\", \"base_name\": \"Agricultural Landuse\", \"base_ext\": \".csv\", \"path\": \"../2023_11_20__01_27_24_hard_mincost_RF5_P1e8_Won_Gon\\\\out_2037\\\\GHG_emissions_separate_agricultural_landuse.csv\", \"GHG_sum_t\": 87087195.10437126, \"GHG_sum_Mt\": 87.08719510437126}, {\"year\": 2038, \"catetory\": \"GHG\", \"base_name\": \"Non-Agricultural Landuse\", \"base_ext\": \".csv\", \"path\": \"../2023_11_20__01_27_24_hard_mincost_RF5_P1e8_Won_Gon\\\\out_2038\\\\GHG_emissions_separate_no_ag_reduction.csv\", \"GHG_sum_t\": -98195390.0, \"GHG_sum_Mt\": -98.19539}, {\"year\": 2038, \"catetory\": \"GHG\", \"base_name\": \"Agricultural Management\", \"base_ext\": \".csv\", \"path\": \"../2023_11_20__01_27_24_hard_mincost_RF5_P1e8_Won_Gon\\\\out_2038\\\\GHG_emissions_separate_agricultural_management.csv\", \"GHG_sum_t\": -10626988.0, \"GHG_sum_Mt\": -10.626988}, {\"year\": 2038, \"catetory\": \"GHG\", \"base_name\": \"Transition Penalty\", \"base_ext\": \".csv\", \"path\": \"../2023_11_20__01_27_24_hard_mincost_RF5_P1e8_Won_Gon\\\\out_2038\\\\GHG_emissions_separate_transition_penalty.csv\", \"GHG_sum_t\": 0.0, \"GHG_sum_Mt\": 0.0}, {\"year\": 2038, \"catetory\": \"GHG\", \"base_name\": \"Agricultural Landuse\", \"base_ext\": \".csv\", \"path\": \"../2023_11_20__01_27_24_hard_mincost_RF5_P1e8_Won_Gon\\\\out_2038\\\\GHG_emissions_separate_agricultural_landuse.csv\", \"GHG_sum_t\": 86822376.812941, \"GHG_sum_Mt\": 86.822376812941}, {\"year\": 2039, \"catetory\": \"GHG\", \"base_name\": \"Non-Agricultural Landuse\", \"base_ext\": \".csv\", \"path\": \"../2023_11_20__01_27_24_hard_mincost_RF5_P1e8_Won_Gon\\\\out_2039\\\\GHG_emissions_separate_no_ag_reduction.csv\", \"GHG_sum_t\": -101076780.0, \"GHG_sum_Mt\": -101.07678}, {\"year\": 2039, \"catetory\": \"GHG\", \"base_name\": \"Agricultural Management\", \"base_ext\": \".csv\", \"path\": \"../2023_11_20__01_27_24_hard_mincost_RF5_P1e8_Won_Gon\\\\out_2039\\\\GHG_emissions_separate_agricultural_management.csv\", \"GHG_sum_t\": -11571589.0, \"GHG_sum_Mt\": -11.571589}, {\"year\": 2039, \"catetory\": \"GHG\", \"base_name\": \"Transition Penalty\", \"base_ext\": \".csv\", \"path\": \"../2023_11_20__01_27_24_hard_mincost_RF5_P1e8_Won_Gon\\\\out_2039\\\\GHG_emissions_separate_transition_penalty.csv\", \"GHG_sum_t\": 0.0, \"GHG_sum_Mt\": 0.0}, {\"year\": 2039, \"catetory\": \"GHG\", \"base_name\": \"Agricultural Landuse\", \"base_ext\": \".csv\", \"path\": \"../2023_11_20__01_27_24_hard_mincost_RF5_P1e8_Won_Gon\\\\out_2039\\\\GHG_emissions_separate_agricultural_landuse.csv\", \"GHG_sum_t\": 86641391.7513159, \"GHG_sum_Mt\": 86.64139175131591}, {\"year\": 2040, \"catetory\": \"GHG\", \"base_name\": \"Non-Agricultural Landuse\", \"base_ext\": \".csv\", \"path\": \"../2023_11_20__01_27_24_hard_mincost_RF5_P1e8_Won_Gon\\\\out_2040\\\\GHG_emissions_separate_no_ag_reduction.csv\", \"GHG_sum_t\": -102005464.0, \"GHG_sum_Mt\": -102.005464}, {\"year\": 2040, \"catetory\": \"GHG\", \"base_name\": \"Agricultural Management\", \"base_ext\": \".csv\", \"path\": \"../2023_11_20__01_27_24_hard_mincost_RF5_P1e8_Won_Gon\\\\out_2040\\\\GHG_emissions_separate_agricultural_management.csv\", \"GHG_sum_t\": -14550480.0, \"GHG_sum_Mt\": -14.55048}, {\"year\": 2040, \"catetory\": \"GHG\", \"base_name\": \"Transition Penalty\", \"base_ext\": \".csv\", \"path\": \"../2023_11_20__01_27_24_hard_mincost_RF5_P1e8_Won_Gon\\\\out_2040\\\\GHG_emissions_separate_transition_penalty.csv\", \"GHG_sum_t\": 0.0, \"GHG_sum_Mt\": 0.0}, {\"year\": 2040, \"catetory\": \"GHG\", \"base_name\": \"Agricultural Landuse\", \"base_ext\": \".csv\", \"path\": \"../2023_11_20__01_27_24_hard_mincost_RF5_P1e8_Won_Gon\\\\out_2040\\\\GHG_emissions_separate_agricultural_landuse.csv\", \"GHG_sum_t\": 86553347.43244894, \"GHG_sum_Mt\": 86.55334743244894}, {\"year\": 2041, \"catetory\": \"GHG\", \"base_name\": \"Non-Agricultural Landuse\", \"base_ext\": \".csv\", \"path\": \"../2023_11_20__01_27_24_hard_mincost_RF5_P1e8_Won_Gon\\\\out_2041\\\\GHG_emissions_separate_no_ag_reduction.csv\", \"GHG_sum_t\": -104126740.0, \"GHG_sum_Mt\": -104.12674}, {\"year\": 2041, \"catetory\": \"GHG\", \"base_name\": \"Agricultural Management\", \"base_ext\": \".csv\", \"path\": \"../2023_11_20__01_27_24_hard_mincost_RF5_P1e8_Won_Gon\\\\out_2041\\\\GHG_emissions_separate_agricultural_management.csv\", \"GHG_sum_t\": -16288775.0, \"GHG_sum_Mt\": -16.288775}, {\"year\": 2041, \"catetory\": \"GHG\", \"base_name\": \"Transition Penalty\", \"base_ext\": \".csv\", \"path\": \"../2023_11_20__01_27_24_hard_mincost_RF5_P1e8_Won_Gon\\\\out_2041\\\\GHG_emissions_separate_transition_penalty.csv\", \"GHG_sum_t\": 0.0, \"GHG_sum_Mt\": 0.0}, {\"year\": 2041, \"catetory\": \"GHG\", \"base_name\": \"Agricultural Landuse\", \"base_ext\": \".csv\", \"path\": \"../2023_11_20__01_27_24_hard_mincost_RF5_P1e8_Won_Gon\\\\out_2041\\\\GHG_emissions_separate_agricultural_landuse.csv\", \"GHG_sum_t\": 86415512.71664661, \"GHG_sum_Mt\": 86.41551271664662}, {\"year\": 2042, \"catetory\": \"GHG\", \"base_name\": \"Non-Agricultural Landuse\", \"base_ext\": \".csv\", \"path\": \"../2023_11_20__01_27_24_hard_mincost_RF5_P1e8_Won_Gon\\\\out_2042\\\\GHG_emissions_separate_no_ag_reduction.csv\", \"GHG_sum_t\": -107169990.0, \"GHG_sum_Mt\": -107.16999}, {\"year\": 2042, \"catetory\": \"GHG\", \"base_name\": \"Agricultural Management\", \"base_ext\": \".csv\", \"path\": \"../2023_11_20__01_27_24_hard_mincost_RF5_P1e8_Won_Gon\\\\out_2042\\\\GHG_emissions_separate_agricultural_management.csv\", \"GHG_sum_t\": -17102042.0, \"GHG_sum_Mt\": -17.102042}, {\"year\": 2042, \"catetory\": \"GHG\", \"base_name\": \"Transition Penalty\", \"base_ext\": \".csv\", \"path\": \"../2023_11_20__01_27_24_hard_mincost_RF5_P1e8_Won_Gon\\\\out_2042\\\\GHG_emissions_separate_transition_penalty.csv\", \"GHG_sum_t\": 0.0, \"GHG_sum_Mt\": 0.0}, {\"year\": 2042, \"catetory\": \"GHG\", \"base_name\": \"Agricultural Landuse\", \"base_ext\": \".csv\", \"path\": \"../2023_11_20__01_27_24_hard_mincost_RF5_P1e8_Won_Gon\\\\out_2042\\\\GHG_emissions_separate_agricultural_landuse.csv\", \"GHG_sum_t\": 86267794.24309984, \"GHG_sum_Mt\": 86.26779424309984}, {\"year\": 2043, \"catetory\": \"GHG\", \"base_name\": \"Non-Agricultural Landuse\", \"base_ext\": \".csv\", \"path\": \"../2023_11_20__01_27_24_hard_mincost_RF5_P1e8_Won_Gon\\\\out_2043\\\\GHG_emissions_separate_no_ag_reduction.csv\", \"GHG_sum_t\": -110729750.0, \"GHG_sum_Mt\": -110.72975}, {\"year\": 2043, \"catetory\": \"GHG\", \"base_name\": \"Agricultural Management\", \"base_ext\": \".csv\", \"path\": \"../2023_11_20__01_27_24_hard_mincost_RF5_P1e8_Won_Gon\\\\out_2043\\\\GHG_emissions_separate_agricultural_management.csv\", \"GHG_sum_t\": -17369972.0, \"GHG_sum_Mt\": -17.369972}, {\"year\": 2043, \"catetory\": \"GHG\", \"base_name\": \"Transition Penalty\", \"base_ext\": \".csv\", \"path\": \"../2023_11_20__01_27_24_hard_mincost_RF5_P1e8_Won_Gon\\\\out_2043\\\\GHG_emissions_separate_transition_penalty.csv\", \"GHG_sum_t\": 0.0, \"GHG_sum_Mt\": 0.0}, {\"year\": 2043, \"catetory\": \"GHG\", \"base_name\": \"Agricultural Landuse\", \"base_ext\": \".csv\", \"path\": \"../2023_11_20__01_27_24_hard_mincost_RF5_P1e8_Won_Gon\\\\out_2043\\\\GHG_emissions_separate_agricultural_landuse.csv\", \"GHG_sum_t\": 86099600.02268417, \"GHG_sum_Mt\": 86.09960002268417}, {\"year\": 2044, \"catetory\": \"GHG\", \"base_name\": \"Non-Agricultural Landuse\", \"base_ext\": \".csv\", \"path\": \"../2023_11_20__01_27_24_hard_mincost_RF5_P1e8_Won_Gon\\\\out_2044\\\\GHG_emissions_separate_no_ag_reduction.csv\", \"GHG_sum_t\": -112967840.0, \"GHG_sum_Mt\": -112.96784}, {\"year\": 2044, \"catetory\": \"GHG\", \"base_name\": \"Agricultural Management\", \"base_ext\": \".csv\", \"path\": \"../2023_11_20__01_27_24_hard_mincost_RF5_P1e8_Won_Gon\\\\out_2044\\\\GHG_emissions_separate_agricultural_management.csv\", \"GHG_sum_t\": -19021830.0, \"GHG_sum_Mt\": -19.02183}, {\"year\": 2044, \"catetory\": \"GHG\", \"base_name\": \"Transition Penalty\", \"base_ext\": \".csv\", \"path\": \"../2023_11_20__01_27_24_hard_mincost_RF5_P1e8_Won_Gon\\\\out_2044\\\\GHG_emissions_separate_transition_penalty.csv\", \"GHG_sum_t\": 0.0, \"GHG_sum_Mt\": 0.0}, {\"year\": 2044, \"catetory\": \"GHG\", \"base_name\": \"Agricultural Landuse\", \"base_ext\": \".csv\", \"path\": \"../2023_11_20__01_27_24_hard_mincost_RF5_P1e8_Won_Gon\\\\out_2044\\\\GHG_emissions_separate_agricultural_landuse.csv\", \"GHG_sum_t\": 85987985.45477332, \"GHG_sum_Mt\": 85.98798545477332}, {\"year\": 2045, \"catetory\": \"GHG\", \"base_name\": \"Non-Agricultural Landuse\", \"base_ext\": \".csv\", \"path\": \"../2023_11_20__01_27_24_hard_mincost_RF5_P1e8_Won_Gon\\\\out_2045\\\\GHG_emissions_separate_no_ag_reduction.csv\", \"GHG_sum_t\": -113000024.0, \"GHG_sum_Mt\": -113.000024}, {\"year\": 2045, \"catetory\": \"GHG\", \"base_name\": \"Agricultural Management\", \"base_ext\": \".csv\", \"path\": \"../2023_11_20__01_27_24_hard_mincost_RF5_P1e8_Won_Gon\\\\out_2045\\\\GHG_emissions_separate_agricultural_management.csv\", \"GHG_sum_t\": -22965616.0, \"GHG_sum_Mt\": -22.965616}, {\"year\": 2045, \"catetory\": \"GHG\", \"base_name\": \"Transition Penalty\", \"base_ext\": \".csv\", \"path\": \"../2023_11_20__01_27_24_hard_mincost_RF5_P1e8_Won_Gon\\\\out_2045\\\\GHG_emissions_separate_transition_penalty.csv\", \"GHG_sum_t\": 0.0, \"GHG_sum_Mt\": 0.0}, {\"year\": 2045, \"catetory\": \"GHG\", \"base_name\": \"Agricultural Landuse\", \"base_ext\": \".csv\", \"path\": \"../2023_11_20__01_27_24_hard_mincost_RF5_P1e8_Won_Gon\\\\out_2045\\\\GHG_emissions_separate_agricultural_landuse.csv\", \"GHG_sum_t\": 85961375.22457276, \"GHG_sum_Mt\": 85.96137522457276}, {\"year\": 2046, \"catetory\": \"GHG\", \"base_name\": \"Non-Agricultural Landuse\", \"base_ext\": \".csv\", \"path\": \"../2023_11_20__01_27_24_hard_mincost_RF5_P1e8_Won_Gon\\\\out_2046\\\\GHG_emissions_separate_no_ag_reduction.csv\", \"GHG_sum_t\": -114323096.0, \"GHG_sum_Mt\": -114.323096}, {\"year\": 2046, \"catetory\": \"GHG\", \"base_name\": \"Agricultural Management\", \"base_ext\": \".csv\", \"path\": \"../2023_11_20__01_27_24_hard_mincost_RF5_P1e8_Won_Gon\\\\out_2046\\\\GHG_emissions_separate_agricultural_management.csv\", \"GHG_sum_t\": -25606646.0, \"GHG_sum_Mt\": -25.606646}, {\"year\": 2046, \"catetory\": \"GHG\", \"base_name\": \"Transition Penalty\", \"base_ext\": \".csv\", \"path\": \"../2023_11_20__01_27_24_hard_mincost_RF5_P1e8_Won_Gon\\\\out_2046\\\\GHG_emissions_separate_transition_penalty.csv\", \"GHG_sum_t\": 0.0, \"GHG_sum_Mt\": 0.0}, {\"year\": 2046, \"catetory\": \"GHG\", \"base_name\": \"Agricultural Landuse\", \"base_ext\": \".csv\", \"path\": \"../2023_11_20__01_27_24_hard_mincost_RF5_P1e8_Won_Gon\\\\out_2046\\\\GHG_emissions_separate_agricultural_landuse.csv\", \"GHG_sum_t\": 85929151.44428174, \"GHG_sum_Mt\": 85.92915144428174}, {\"year\": 2047, \"catetory\": \"GHG\", \"base_name\": \"Non-Agricultural Landuse\", \"base_ext\": \".csv\", \"path\": \"../2023_11_20__01_27_24_hard_mincost_RF5_P1e8_Won_Gon\\\\out_2047\\\\GHG_emissions_separate_no_ag_reduction.csv\", \"GHG_sum_t\": -116884000.0, \"GHG_sum_Mt\": -116.884}, {\"year\": 2047, \"catetory\": \"GHG\", \"base_name\": \"Agricultural Management\", \"base_ext\": \".csv\", \"path\": \"../2023_11_20__01_27_24_hard_mincost_RF5_P1e8_Won_Gon\\\\out_2047\\\\GHG_emissions_separate_agricultural_management.csv\", \"GHG_sum_t\": -26889850.0, \"GHG_sum_Mt\": -26.88985}, {\"year\": 2047, \"catetory\": \"GHG\", \"base_name\": \"Transition Penalty\", \"base_ext\": \".csv\", \"path\": \"../2023_11_20__01_27_24_hard_mincost_RF5_P1e8_Won_Gon\\\\out_2047\\\\GHG_emissions_separate_transition_penalty.csv\", \"GHG_sum_t\": 0.0, \"GHG_sum_Mt\": 0.0}, {\"year\": 2047, \"catetory\": \"GHG\", \"base_name\": \"Agricultural Landuse\", \"base_ext\": \".csv\", \"path\": \"../2023_11_20__01_27_24_hard_mincost_RF5_P1e8_Won_Gon\\\\out_2047\\\\GHG_emissions_separate_agricultural_landuse.csv\", \"GHG_sum_t\": 85773841.50622024, \"GHG_sum_Mt\": 85.77384150622024}, {\"year\": 2048, \"catetory\": \"GHG\", \"base_name\": \"Non-Agricultural Landuse\", \"base_ext\": \".csv\", \"path\": \"../2023_11_20__01_27_24_hard_mincost_RF5_P1e8_Won_Gon\\\\out_2048\\\\GHG_emissions_separate_no_ag_reduction.csv\", \"GHG_sum_t\": -120303040.0, \"GHG_sum_Mt\": -120.30304}, {\"year\": 2048, \"catetory\": \"GHG\", \"base_name\": \"Agricultural Management\", \"base_ext\": \".csv\", \"path\": \"../2023_11_20__01_27_24_hard_mincost_RF5_P1e8_Won_Gon\\\\out_2048\\\\GHG_emissions_separate_agricultural_management.csv\", \"GHG_sum_t\": -27325184.0, \"GHG_sum_Mt\": -27.325184}, {\"year\": 2048, \"catetory\": \"GHG\", \"base_name\": \"Transition Penalty\", \"base_ext\": \".csv\", \"path\": \"../2023_11_20__01_27_24_hard_mincost_RF5_P1e8_Won_Gon\\\\out_2048\\\\GHG_emissions_separate_transition_penalty.csv\", \"GHG_sum_t\": 0.0, \"GHG_sum_Mt\": 0.0}, {\"year\": 2048, \"catetory\": \"GHG\", \"base_name\": \"Agricultural Landuse\", \"base_ext\": \".csv\", \"path\": \"../2023_11_20__01_27_24_hard_mincost_RF5_P1e8_Won_Gon\\\\out_2048\\\\GHG_emissions_separate_agricultural_landuse.csv\", \"GHG_sum_t\": 85628173.42703165, \"GHG_sum_Mt\": 85.62817342703165}, {\"year\": 2049, \"catetory\": \"GHG\", \"base_name\": \"Non-Agricultural Landuse\", \"base_ext\": \".csv\", \"path\": \"../2023_11_20__01_27_24_hard_mincost_RF5_P1e8_Won_Gon\\\\out_2049\\\\GHG_emissions_separate_no_ag_reduction.csv\", \"GHG_sum_t\": -123659850.0, \"GHG_sum_Mt\": -123.65985}, {\"year\": 2049, \"catetory\": \"GHG\", \"base_name\": \"Agricultural Management\", \"base_ext\": \".csv\", \"path\": \"../2023_11_20__01_27_24_hard_mincost_RF5_P1e8_Won_Gon\\\\out_2049\\\\GHG_emissions_separate_agricultural_management.csv\", \"GHG_sum_t\": -27809738.0, \"GHG_sum_Mt\": -27.809738}, {\"year\": 2049, \"catetory\": \"GHG\", \"base_name\": \"Transition Penalty\", \"base_ext\": \".csv\", \"path\": \"../2023_11_20__01_27_24_hard_mincost_RF5_P1e8_Won_Gon\\\\out_2049\\\\GHG_emissions_separate_transition_penalty.csv\", \"GHG_sum_t\": 0.0, \"GHG_sum_Mt\": 0.0}, {\"year\": 2049, \"catetory\": \"GHG\", \"base_name\": \"Agricultural Landuse\", \"base_ext\": \".csv\", \"path\": \"../2023_11_20__01_27_24_hard_mincost_RF5_P1e8_Won_Gon\\\\out_2049\\\\GHG_emissions_separate_agricultural_landuse.csv\", \"GHG_sum_t\": 85465538.30629271, \"GHG_sum_Mt\": 85.46553830629271}, {\"year\": 2050, \"catetory\": \"GHG\", \"base_name\": \"Non-Agricultural Landuse\", \"base_ext\": \".csv\", \"path\": \"../2023_11_20__01_27_24_hard_mincost_RF5_P1e8_Won_Gon\\\\out_2050\\\\GHG_emissions_separate_no_ag_reduction.csv\", \"GHG_sum_t\": -126608440.0, \"GHG_sum_Mt\": -126.60844}, {\"year\": 2050, \"catetory\": \"GHG\", \"base_name\": \"Agricultural Management\", \"base_ext\": \".csv\", \"path\": \"../2023_11_20__01_27_24_hard_mincost_RF5_P1e8_Won_Gon\\\\out_2050\\\\GHG_emissions_separate_agricultural_management.csv\", \"GHG_sum_t\": -28738866.0, \"GHG_sum_Mt\": -28.738866}, {\"year\": 2050, \"catetory\": \"GHG\", \"base_name\": \"Transition Penalty\", \"base_ext\": \".csv\", \"path\": \"../2023_11_20__01_27_24_hard_mincost_RF5_P1e8_Won_Gon\\\\out_2050\\\\GHG_emissions_separate_transition_penalty.csv\", \"GHG_sum_t\": 0.0, \"GHG_sum_Mt\": 0.0}, {\"year\": 2050, \"catetory\": \"GHG\", \"base_name\": \"Agricultural Landuse\", \"base_ext\": \".csv\", \"path\": \"../2023_11_20__01_27_24_hard_mincost_RF5_P1e8_Won_Gon\\\\out_2050\\\\GHG_emissions_separate_agricultural_landuse.csv\", \"GHG_sum_t\": 85346925.41806075, \"GHG_sum_Mt\": 85.34692541806075}], \"data-d8f446532f52ad6c7e7f6dddecec1a54\": [{\"year\": 2010, \"Net_emission\": 90.40412470334977}, {\"year\": 2011, \"Net_emission\": 85.99999978347371}, {\"year\": 2012, \"Net_emission\": 81.99983102037518}, {\"year\": 2013, \"Net_emission\": 77.99999902900058}, {\"year\": 2014, \"Net_emission\": 74.00000054581605}, {\"year\": 2015, \"Net_emission\": 69.9995033836711}, {\"year\": 2016, \"Net_emission\": 66.00000030107631}, {\"year\": 2017, \"Net_emission\": 61.996751734997204}, {\"year\": 2018, \"Net_emission\": 57.99981718707611}, {\"year\": 2019, \"Net_emission\": 53.99963875169429}, {\"year\": 2020, \"Net_emission\": 49.99999986748098}, {\"year\": 2021, \"Net_emission\": 45.99698782223794}, {\"year\": 2022, \"Net_emission\": 42.00000300183697}, {\"year\": 2023, \"Net_emission\": 37.99895104326548}, {\"year\": 2024, \"Net_emission\": 33.995825488649906}, {\"year\": 2025, \"Net_emission\": 29.998594548305896}, {\"year\": 2026, \"Net_emission\": 25.999084580853996}, {\"year\": 2027, \"Net_emission\": 21.999985358967322}, {\"year\": 2028, \"Net_emission\": 17.999072233987604}, {\"year\": 2029, \"Net_emission\": 13.999911830265248}, {\"year\": 2030, \"Net_emission\": 9.996266939734568}, {\"year\": 2031, \"Net_emission\": 5.998420616731323}, {\"year\": 2032, \"Net_emission\": 1.9976336785288993}, {\"year\": 2033, \"Net_emission\": -2.0005829459026216}, {\"year\": 2034, \"Net_emission\": -6.0182003701007005}, {\"year\": 2035, \"Net_emission\": -10.002130866731477}, {\"year\": 2036, \"Net_emission\": -14.002620472675218}, {\"year\": 2037, \"Net_emission\": -18.002076895628733}, {\"year\": 2038, \"Net_emission\": -22.000001187059}, {\"year\": 2039, \"Net_emission\": -26.006977248684095}, {\"year\": 2040, \"Net_emission\": -30.002596567551052}, {\"year\": 2041, \"Net_emission\": -34.00000228335338}, {\"year\": 2042, \"Net_emission\": -38.00423775690015}, {\"year\": 2043, \"Net_emission\": -42.00012197731583}, {\"year\": 2044, \"Net_emission\": -46.00168454522668}, {\"year\": 2045, \"Net_emission\": -50.00426477542723}, {\"year\": 2046, \"Net_emission\": -54.00059055571826}, {\"year\": 2047, \"Net_emission\": -58.00000849377976}, {\"year\": 2048, \"Net_emission\": -62.00005057296835}, {\"year\": 2049, \"Net_emission\": -66.00404969370729}, {\"year\": 2050, \"Net_emission\": -70.00038058193925}]}}, {\"mode\": \"vega-lite\"});\n",
       "</script>"
      ],
      "text/plain": [
       "alt.LayerChart(...)"
      ]
     },
     "execution_count": 7,
     "metadata": {},
     "output_type": "execute_result"
    }
   ],
   "source": [
    "# HIDE CODE\n",
    "# Create a base chart with the necessary transformations and encodings\n",
    "base_chart = alt.Chart(GHG_files).transform_calculate(\n",
    "    GHG_sum_Mt = \"datum.GHG_sum_t/1000000\"\n",
    ").encode(\n",
    "    x=alt.X('year:O',axis=alt.Axis(title=\"Year\", labelAngle=-90)),  # Treat year as an ordinal data type\n",
    "    tooltip=[alt.Tooltip('base_name', title='GHG Category'),\n",
    "             alt.Tooltip('GHG_sum_Mt:Q', title='Emissions (Mt CO2e)')]\n",
    ").properties(\n",
    "    width=600,\n",
    "    height=400\n",
    ")\n",
    "\n",
    "\n",
    "\n",
    "# Create a column chart with the base chart\n",
    "column_chart = base_chart.mark_bar().encode(\n",
    "    color=alt.Color('base_name:N',legend=alt.Legend(\n",
    "                                            title=\"GHG Category\",\n",
    "                                            orient='none',\n",
    "                                            legendX=130, legendY=-40,\n",
    "                                            direction='horizontal',\n",
    "                                            titleAnchor='start')),  \n",
    "    y=alt.Y('GHG_sum_Mt:Q',title='Emissions (Mt CO2e)'),  # Treat GHA_accumulative as a quantitative field\n",
    ")\n",
    "\n",
    "# Create a column chart with the base chart\n",
    "line_chart = alt.Chart(Net_emission).mark_line(color='black').encode(\n",
    "    tooltip=[alt.Tooltip('Net_emission:Q',title='Net Quantity (Mt CO2e)')],\n",
    "    x=alt.X('year:O'),\n",
    "    y=alt.Y('Net_emission:Q',title='Net Quantity (Mt CO2e)'))\n",
    "\n",
    "\n",
    "# Combine the layers into a final chart\n",
    "final_chart = alt.layer(\n",
    "    column_chart,\n",
    "    line_chart,\n",
    ").properties(\n",
    "    width=800,\n",
    "    height=450\n",
    ")\n",
    "\n",
    "\n",
    "final_chart\n"
   ]
  },
  {
   "cell_type": "code",
   "execution_count": null,
   "metadata": {},
   "outputs": [],
   "source": []
  },
  {
   "cell_type": "markdown",
   "metadata": {},
   "source": [
    "## Agricultural Land use Emissions"
   ]
  },
  {
   "cell_type": "code",
   "execution_count": null,
   "metadata": {},
   "outputs": [],
   "source": []
  },
  {
   "cell_type": "markdown",
   "metadata": {},
   "source": [
    "Get the Agricultural land-use data"
   ]
  },
  {
   "cell_type": "code",
   "execution_count": 8,
   "metadata": {
    "tags": [
     "remove-cell"
    ]
   },
   "outputs": [
    {
     "data": {
      "application/vnd.jupyter.widget-view+json": {
       "model_id": "c5dc4822d4d4422a958d6332b4f98d9c",
       "version_major": 2,
       "version_minor": 0
      },
      "text/plain": [
       "  0%|          | 0/41 [00:00<?, ?it/s]"
      ]
     },
     "metadata": {},
     "output_type": "display_data"
    }
   ],
   "source": [
    "# HIDDEN\n",
    "# Initialize the class\n",
    "ag_lucc_GHG = get_GHG_plots(GHG_files,'Agricultural Landuse','GHG emissions (Mt CO2e)')"
   ]
  },
  {
   "cell_type": "code",
   "execution_count": null,
   "metadata": {},
   "outputs": [],
   "source": []
  },
  {
   "cell_type": "markdown",
   "metadata": {},
   "source": [
    "### Emissions by Crops/Livestocks"
   ]
  },
  {
   "cell_type": "code",
   "execution_count": 9,
   "metadata": {
    "tags": [
     "hide-input"
    ]
   },
   "outputs": [
    {
     "data": {
      "text/html": [
       "\n",
       "<style>\n",
       "  #altair-viz-b355ef7276504af3b089304aa0694fbb.vega-embed {\n",
       "    width: 100%;\n",
       "    display: flex;\n",
       "  }\n",
       "\n",
       "  #altair-viz-b355ef7276504af3b089304aa0694fbb.vega-embed details,\n",
       "  #altair-viz-b355ef7276504af3b089304aa0694fbb.vega-embed details summary {\n",
       "    position: relative;\n",
       "  }\n",
       "</style>\n",
       "<div id=\"altair-viz-b355ef7276504af3b089304aa0694fbb\"></div>\n",
       "<script type=\"text/javascript\">\n",
       "  var VEGA_DEBUG = (typeof VEGA_DEBUG == \"undefined\") ? {} : VEGA_DEBUG;\n",
       "  (function(spec, embedOpt){\n",
       "    let outputDiv = document.currentScript.previousElementSibling;\n",
       "    if (outputDiv.id !== \"altair-viz-b355ef7276504af3b089304aa0694fbb\") {\n",
       "      outputDiv = document.getElementById(\"altair-viz-b355ef7276504af3b089304aa0694fbb\");\n",
       "    }\n",
       "    const paths = {\n",
       "      \"vega\": \"https://cdn.jsdelivr.net/npm/vega@5?noext\",\n",
       "      \"vega-lib\": \"https://cdn.jsdelivr.net/npm/vega-lib?noext\",\n",
       "      \"vega-lite\": \"https://cdn.jsdelivr.net/npm/vega-lite@5.15.1?noext\",\n",
       "      \"vega-embed\": \"https://cdn.jsdelivr.net/npm/vega-embed@6?noext\",\n",
       "    };\n",
       "\n",
       "    function maybeLoadScript(lib, version) {\n",
       "      var key = `${lib.replace(\"-\", \"\")}_version`;\n",
       "      return (VEGA_DEBUG[key] == version) ?\n",
       "        Promise.resolve(paths[lib]) :\n",
       "        new Promise(function(resolve, reject) {\n",
       "          var s = document.createElement('script');\n",
       "          document.getElementsByTagName(\"head\")[0].appendChild(s);\n",
       "          s.async = true;\n",
       "          s.onload = () => {\n",
       "            VEGA_DEBUG[key] = version;\n",
       "            return resolve(paths[lib]);\n",
       "          };\n",
       "          s.onerror = () => reject(`Error loading script: ${paths[lib]}`);\n",
       "          s.src = paths[lib];\n",
       "        });\n",
       "    }\n",
       "\n",
       "    function showError(err) {\n",
       "      outputDiv.innerHTML = `<div class=\"error\" style=\"color:red;\">${err}</div>`;\n",
       "      throw err;\n",
       "    }\n",
       "\n",
       "    function displayChart(vegaEmbed) {\n",
       "      vegaEmbed(outputDiv, spec, embedOpt)\n",
       "        .catch(err => showError(`Javascript Error: ${err.message}<br>This usually means there's a typo in your chart specification. See the javascript console for the full traceback.`));\n",
       "    }\n",
       "\n",
       "    if(typeof define === \"function\" && define.amd) {\n",
       "      requirejs.config({paths});\n",
       "      require([\"vega-embed\"], displayChart, err => showError(`Error loading script: ${err.message}`));\n",
       "    } else {\n",
       "      maybeLoadScript(\"vega\", \"5\")\n",
       "        .then(() => maybeLoadScript(\"vega-lite\", \"5.15.1\"))\n",
       "        .then(() => maybeLoadScript(\"vega-embed\", \"6\"))\n",
       "        .catch(showError)\n",
       "        .then(() => displayChart(vegaEmbed));\n",
       "    }\n",
       "  })({\"config\": {\"view\": {\"continuousWidth\": 300, \"continuousHeight\": 300}}, \"layer\": [{\"mark\": {\"type\": \"bar\"}, \"encoding\": {\"color\": {\"field\": \"Land use category\", \"legend\": {\"direction\": \"horizontal\", \"legendX\": 350, \"legendY\": -40, \"orient\": \"none\", \"title\": \"Landuse type\", \"titleAnchor\": \"middle\"}, \"type\": \"nominal\"}, \"tooltip\": [{\"field\": \"Land use category\", \"title\": \"Landuse type\", \"type\": \"ordinal\"}, {\"field\": \"Quantity (Mt CO2e)\", \"title\": \"GHG emissions (Mt CO2e)\", \"type\": \"quantitative\"}], \"x\": {\"axis\": {\"labelAngle\": -90, \"title\": \"Year\"}, \"field\": \"Year\", \"type\": \"ordinal\"}, \"y\": {\"field\": \"Quantity (Mt CO2e)\", \"scale\": {\"reverse\": false, \"zero\": false}, \"title\": \"GHG emissions (Mt CO2e) (Mt CO2e)\", \"type\": \"quantitative\"}}}], \"data\": {\"name\": \"data-cde830489a0bf04d3ec9a99154b1c581\"}, \"height\": 450, \"width\": 800, \"$schema\": \"https://vega.github.io/schema/vega-lite/v5.15.1.json\", \"datasets\": {\"data-cde830489a0bf04d3ec9a99154b1c581\": [{\"Year\": 2010, \"Land use category\": \"Crop\", \"Quantity (Mt CO2e)\": 14.227128074294038}, {\"Year\": 2010, \"Land use category\": \"Livestock\", \"Quantity (Mt CO2e)\": 76.2847748290557}, {\"Year\": 2011, \"Land use category\": \"Crop\", \"Quantity (Mt CO2e)\": 13.646523457099386}, {\"Year\": 2011, \"Land use category\": \"Livestock\", \"Quantity (Mt CO2e)\": 75.71901901483767}, {\"Year\": 2012, \"Land use category\": \"Crop\", \"Quantity (Mt CO2e)\": 13.674885462924212}, {\"Year\": 2012, \"Land use category\": \"Livestock\", \"Quantity (Mt CO2e)\": 75.75677914754424}, {\"Year\": 2013, \"Land use category\": \"Crop\", \"Quantity (Mt CO2e)\": 13.71768991575191}, {\"Year\": 2013, \"Land use category\": \"Livestock\", \"Quantity (Mt CO2e)\": 75.89324745974758}, {\"Year\": 2014, \"Land use category\": \"Crop\", \"Quantity (Mt CO2e)\": 13.732897603098104}, {\"Year\": 2014, \"Land use category\": \"Livestock\", \"Quantity (Mt CO2e)\": 75.93657920653912}, {\"Year\": 2015, \"Land use category\": \"Crop\", \"Quantity (Mt CO2e)\": 13.741392295333767}, {\"Year\": 2015, \"Land use category\": \"Livestock\", \"Quantity (Mt CO2e)\": 75.98347390730103}, {\"Year\": 2016, \"Land use category\": \"Crop\", \"Quantity (Mt CO2e)\": 13.773051544199811}, {\"Year\": 2016, \"Land use category\": \"Livestock\", \"Quantity (Mt CO2e)\": 75.95954874173297}, {\"Year\": 2017, \"Land use category\": \"Crop\", \"Quantity (Mt CO2e)\": 13.778630739255881}, {\"Year\": 2017, \"Land use category\": \"Livestock\", \"Quantity (Mt CO2e)\": 75.90696324557405}, {\"Year\": 2018, \"Land use category\": \"Crop\", \"Quantity (Mt CO2e)\": 13.76010177619764}, {\"Year\": 2018, \"Land use category\": \"Livestock\", \"Quantity (Mt CO2e)\": 75.91642737725876}, {\"Year\": 2019, \"Land use category\": \"Crop\", \"Quantity (Mt CO2e)\": 13.77501188143238}, {\"Year\": 2019, \"Land use category\": \"Livestock\", \"Quantity (Mt CO2e)\": 75.92802898753361}, {\"Year\": 2020, \"Land use category\": \"Crop\", \"Quantity (Mt CO2e)\": 13.776293146227575}, {\"Year\": 2020, \"Land use category\": \"Livestock\", \"Quantity (Mt CO2e)\": 75.91943775879967}, {\"Year\": 2021, \"Land use category\": \"Crop\", \"Quantity (Mt CO2e)\": 13.835890989000893}, {\"Year\": 2021, \"Land use category\": \"Livestock\", \"Quantity (Mt CO2e)\": 75.6781612862484}, {\"Year\": 2022, \"Land use category\": \"Crop\", \"Quantity (Mt CO2e)\": 13.912221910697331}, {\"Year\": 2022, \"Land use category\": \"Livestock\", \"Quantity (Mt CO2e)\": 75.4656619707492}, {\"Year\": 2023, \"Land use category\": \"Crop\", \"Quantity (Mt CO2e)\": 14.02808366958291}, {\"Year\": 2023, \"Land use category\": \"Livestock\", \"Quantity (Mt CO2e)\": 75.23524097557673}, {\"Year\": 2024, \"Land use category\": \"Crop\", \"Quantity (Mt CO2e)\": 14.113993204435456}, {\"Year\": 2024, \"Land use category\": \"Livestock\", \"Quantity (Mt CO2e)\": 74.99246418932586}, {\"Year\": 2025, \"Land use category\": \"Crop\", \"Quantity (Mt CO2e)\": 14.191721610183935}, {\"Year\": 2025, \"Land use category\": \"Livestock\", \"Quantity (Mt CO2e)\": 74.72376628942713}, {\"Year\": 2026, \"Land use category\": \"Crop\", \"Quantity (Mt CO2e)\": 14.242634555482654}, {\"Year\": 2026, \"Land use category\": \"Livestock\", \"Quantity (Mt CO2e)\": 74.48751988438408}, {\"Year\": 2027, \"Land use category\": \"Crop\", \"Quantity (Mt CO2e)\": 14.31682078322214}, {\"Year\": 2027, \"Land use category\": \"Livestock\", \"Quantity (Mt CO2e)\": 74.26760350889502}, {\"Year\": 2028, \"Land use category\": \"Crop\", \"Quantity (Mt CO2e)\": 14.406657528309395}, {\"Year\": 2028, \"Land use category\": \"Livestock\", \"Quantity (Mt CO2e)\": 74.08361491276526}, {\"Year\": 2029, \"Land use category\": \"Crop\", \"Quantity (Mt CO2e)\": 14.450853850409423}, {\"Year\": 2029, \"Land use category\": \"Livestock\", \"Quantity (Mt CO2e)\": 73.85080234318329}, {\"Year\": 2030, \"Land use category\": \"Crop\", \"Quantity (Mt CO2e)\": 14.526867180632406}, {\"Year\": 2030, \"Land use category\": \"Livestock\", \"Quantity (Mt CO2e)\": 73.70390194582394}, {\"Year\": 2031, \"Land use category\": \"Crop\", \"Quantity (Mt CO2e)\": 14.613075996601202}, {\"Year\": 2031, \"Land use category\": \"Livestock\", \"Quantity (Mt CO2e)\": 73.48722070226745}, {\"Year\": 2032, \"Land use category\": \"Crop\", \"Quantity (Mt CO2e)\": 14.65625222659765}, {\"Year\": 2032, \"Land use category\": \"Livestock\", \"Quantity (Mt CO2e)\": 73.34216789400641}, {\"Year\": 2033, \"Land use category\": \"Crop\", \"Quantity (Mt CO2e)\": 14.704923107304786}, {\"Year\": 2033, \"Land use category\": \"Livestock\", \"Quantity (Mt CO2e)\": 73.20681735259356}, {\"Year\": 2034, \"Land use category\": \"Crop\", \"Quantity (Mt CO2e)\": 14.70456897404414}, {\"Year\": 2034, \"Land use category\": \"Livestock\", \"Quantity (Mt CO2e)\": 73.16903937425123}, {\"Year\": 2035, \"Land use category\": \"Crop\", \"Quantity (Mt CO2e)\": 14.702526523378}, {\"Year\": 2035, \"Land use category\": \"Livestock\", \"Quantity (Mt CO2e)\": 72.94706004600656}, {\"Year\": 2036, \"Land use category\": \"Crop\", \"Quantity (Mt CO2e)\": 14.68606610503345}, {\"Year\": 2036, \"Land use category\": \"Livestock\", \"Quantity (Mt CO2e)\": 72.6607500842647}, {\"Year\": 2037, \"Land use category\": \"Crop\", \"Quantity (Mt CO2e)\": 14.690600206497754}, {\"Year\": 2037, \"Land use category\": \"Livestock\", \"Quantity (Mt CO2e)\": 72.39536906345732}, {\"Year\": 2038, \"Land use category\": \"Crop\", \"Quantity (Mt CO2e)\": 14.704100251441103}, {\"Year\": 2038, \"Land use category\": \"Livestock\", \"Quantity (Mt CO2e)\": 72.11709539063227}, {\"Year\": 2039, \"Land use category\": \"Crop\", \"Quantity (Mt CO2e)\": 14.677003093101467}, {\"Year\": 2039, \"Land use category\": \"Livestock\", \"Quantity (Mt CO2e)\": 71.96226630598336}, {\"Year\": 2040, \"Land use category\": \"Crop\", \"Quantity (Mt CO2e)\": 14.702082236330035}, {\"Year\": 2040, \"Land use category\": \"Livestock\", \"Quantity (Mt CO2e)\": 71.85000642933518}, {\"Year\": 2041, \"Land use category\": \"Crop\", \"Quantity (Mt CO2e)\": 14.700090831759168}, {\"Year\": 2041, \"Land use category\": \"Livestock\", \"Quantity (Mt CO2e)\": 71.71367478593177}, {\"Year\": 2042, \"Land use category\": \"Crop\", \"Quantity (Mt CO2e)\": 14.719765077514948}, {\"Year\": 2042, \"Land use category\": \"Livestock\", \"Quantity (Mt CO2e)\": 71.5455091041276}, {\"Year\": 2043, \"Land use category\": \"Crop\", \"Quantity (Mt CO2e)\": 14.732912209097226}, {\"Year\": 2043, \"Land use category\": \"Livestock\", \"Quantity (Mt CO2e)\": 71.36465546873691}, {\"Year\": 2044, \"Land use category\": \"Crop\", \"Quantity (Mt CO2e)\": 14.746149717570301}, {\"Year\": 2044, \"Land use category\": \"Livestock\", \"Quantity (Mt CO2e)\": 71.2415230785234}, {\"Year\": 2045, \"Land use category\": \"Crop\", \"Quantity (Mt CO2e)\": 14.760751132986439}, {\"Year\": 2045, \"Land use category\": \"Livestock\", \"Quantity (Mt CO2e)\": 71.19940450724563}, {\"Year\": 2046, \"Land use category\": \"Crop\", \"Quantity (Mt CO2e)\": 14.792813501002042}, {\"Year\": 2046, \"Land use category\": \"Livestock\", \"Quantity (Mt CO2e)\": 71.13625089170385}, {\"Year\": 2047, \"Land use category\": \"Crop\", \"Quantity (Mt CO2e)\": 14.796970773417272}, {\"Year\": 2047, \"Land use category\": \"Livestock\", \"Quantity (Mt CO2e)\": 70.97685195267755}, {\"Year\": 2048, \"Land use category\": \"Crop\", \"Quantity (Mt CO2e)\": 14.789147307964926}, {\"Year\": 2048, \"Land use category\": \"Livestock\", \"Quantity (Mt CO2e)\": 70.83820488659973}, {\"Year\": 2049, \"Land use category\": \"Crop\", \"Quantity (Mt CO2e)\": 14.788720496310836}, {\"Year\": 2049, \"Land use category\": \"Livestock\", \"Quantity (Mt CO2e)\": 70.6768178099819}, {\"Year\": 2050, \"Land use category\": \"Crop\", \"Quantity (Mt CO2e)\": 14.758768950325772}, {\"Year\": 2050, \"Land use category\": \"Livestock\", \"Quantity (Mt CO2e)\": 70.58715193416286}]}}, {\"mode\": \"vega-lite\"});\n",
       "</script>"
      ],
      "text/plain": [
       "alt.LayerChart(...)"
      ]
     },
     "execution_count": 9,
     "metadata": {},
     "output_type": "execute_result"
    }
   ],
   "source": [
    "# HIDE CODE\n",
    "# get the df and plot\n",
    "GHG_crop_lvstk_df,GHG_crop_lvstk_plot = ag_lucc_GHG.plot_GHG_crop_lvstk()\n",
    "GHG_crop_lvstk_plot"
   ]
  },
  {
   "cell_type": "code",
   "execution_count": null,
   "metadata": {},
   "outputs": [],
   "source": []
  },
  {
   "cell_type": "code",
   "execution_count": null,
   "metadata": {},
   "outputs": [],
   "source": []
  },
  {
   "cell_type": "markdown",
   "metadata": {},
   "source": [
    "### Emissions by differrnt irrigation system"
   ]
  },
  {
   "cell_type": "code",
   "execution_count": 10,
   "metadata": {
    "tags": [
     "hide-input"
    ]
   },
   "outputs": [
    {
     "data": {
      "text/html": [
       "\n",
       "<style>\n",
       "  #altair-viz-c343105c0f13485ba4d3dbea85ffdc22.vega-embed {\n",
       "    width: 100%;\n",
       "    display: flex;\n",
       "  }\n",
       "\n",
       "  #altair-viz-c343105c0f13485ba4d3dbea85ffdc22.vega-embed details,\n",
       "  #altair-viz-c343105c0f13485ba4d3dbea85ffdc22.vega-embed details summary {\n",
       "    position: relative;\n",
       "  }\n",
       "</style>\n",
       "<div id=\"altair-viz-c343105c0f13485ba4d3dbea85ffdc22\"></div>\n",
       "<script type=\"text/javascript\">\n",
       "  var VEGA_DEBUG = (typeof VEGA_DEBUG == \"undefined\") ? {} : VEGA_DEBUG;\n",
       "  (function(spec, embedOpt){\n",
       "    let outputDiv = document.currentScript.previousElementSibling;\n",
       "    if (outputDiv.id !== \"altair-viz-c343105c0f13485ba4d3dbea85ffdc22\") {\n",
       "      outputDiv = document.getElementById(\"altair-viz-c343105c0f13485ba4d3dbea85ffdc22\");\n",
       "    }\n",
       "    const paths = {\n",
       "      \"vega\": \"https://cdn.jsdelivr.net/npm/vega@5?noext\",\n",
       "      \"vega-lib\": \"https://cdn.jsdelivr.net/npm/vega-lib?noext\",\n",
       "      \"vega-lite\": \"https://cdn.jsdelivr.net/npm/vega-lite@5.15.1?noext\",\n",
       "      \"vega-embed\": \"https://cdn.jsdelivr.net/npm/vega-embed@6?noext\",\n",
       "    };\n",
       "\n",
       "    function maybeLoadScript(lib, version) {\n",
       "      var key = `${lib.replace(\"-\", \"\")}_version`;\n",
       "      return (VEGA_DEBUG[key] == version) ?\n",
       "        Promise.resolve(paths[lib]) :\n",
       "        new Promise(function(resolve, reject) {\n",
       "          var s = document.createElement('script');\n",
       "          document.getElementsByTagName(\"head\")[0].appendChild(s);\n",
       "          s.async = true;\n",
       "          s.onload = () => {\n",
       "            VEGA_DEBUG[key] = version;\n",
       "            return resolve(paths[lib]);\n",
       "          };\n",
       "          s.onerror = () => reject(`Error loading script: ${paths[lib]}`);\n",
       "          s.src = paths[lib];\n",
       "        });\n",
       "    }\n",
       "\n",
       "    function showError(err) {\n",
       "      outputDiv.innerHTML = `<div class=\"error\" style=\"color:red;\">${err}</div>`;\n",
       "      throw err;\n",
       "    }\n",
       "\n",
       "    function displayChart(vegaEmbed) {\n",
       "      vegaEmbed(outputDiv, spec, embedOpt)\n",
       "        .catch(err => showError(`Javascript Error: ${err.message}<br>This usually means there's a typo in your chart specification. See the javascript console for the full traceback.`));\n",
       "    }\n",
       "\n",
       "    if(typeof define === \"function\" && define.amd) {\n",
       "      requirejs.config({paths});\n",
       "      require([\"vega-embed\"], displayChart, err => showError(`Error loading script: ${err.message}`));\n",
       "    } else {\n",
       "      maybeLoadScript(\"vega\", \"5\")\n",
       "        .then(() => maybeLoadScript(\"vega-lite\", \"5.15.1\"))\n",
       "        .then(() => maybeLoadScript(\"vega-embed\", \"6\"))\n",
       "        .catch(showError)\n",
       "        .then(() => displayChart(vegaEmbed));\n",
       "    }\n",
       "  })({\"config\": {\"view\": {\"continuousWidth\": 300, \"continuousHeight\": 300}}, \"layer\": [{\"mark\": {\"type\": \"bar\"}, \"encoding\": {\"color\": {\"field\": \"Irrigation\", \"legend\": {\"direction\": \"horizontal\", \"legendX\": 350, \"legendY\": -40, \"orient\": \"none\", \"title\": \"Irrigation\", \"titleAnchor\": \"middle\"}, \"type\": \"nominal\"}, \"tooltip\": [{\"field\": \"Irrigation\", \"title\": \"Irrigation\", \"type\": \"nominal\"}, {\"field\": \"Quantity (Mt CO2e)\", \"title\": \"GHG emissions (Mt CO2e)\", \"type\": \"quantitative\"}], \"x\": {\"axis\": {\"labelAngle\": -90, \"title\": \"Year\"}, \"field\": \"Year\", \"type\": \"ordinal\"}, \"y\": {\"field\": \"Quantity (Mt CO2e)\", \"scale\": {\"reverse\": false}, \"title\": \"GHG emissions (Mt CO2e) (Mt CO2e)\", \"type\": \"quantitative\"}}}], \"data\": {\"name\": \"data-1ebdf3981275dcda9c03685438035bc2\"}, \"height\": 450, \"width\": 800, \"$schema\": \"https://vega.github.io/schema/vega-lite/v5.15.1.json\", \"datasets\": {\"data-1ebdf3981275dcda9c03685438035bc2\": [{\"Year\": 2010, \"Irrigation\": \"dry\", \"Quantity (Mt CO2e)\": 83.56158070647245}, {\"Year\": 2010, \"Irrigation\": \"irr\", \"Quantity (Mt CO2e)\": 6.950322196877289}, {\"Year\": 2011, \"Irrigation\": \"dry\", \"Quantity (Mt CO2e)\": 82.26401155216189}, {\"Year\": 2011, \"Irrigation\": \"irr\", \"Quantity (Mt CO2e)\": 7.10153091977519}, {\"Year\": 2012, \"Irrigation\": \"dry\", \"Quantity (Mt CO2e)\": 82.18587200533148}, {\"Year\": 2012, \"Irrigation\": \"irr\", \"Quantity (Mt CO2e)\": 7.24579260513695}, {\"Year\": 2013, \"Irrigation\": \"dry\", \"Quantity (Mt CO2e)\": 82.25496456120636}, {\"Year\": 2013, \"Irrigation\": \"irr\", \"Quantity (Mt CO2e)\": 7.355972814293112}, {\"Year\": 2014, \"Irrigation\": \"dry\", \"Quantity (Mt CO2e)\": 82.16681392001817}, {\"Year\": 2014, \"Irrigation\": \"irr\", \"Quantity (Mt CO2e)\": 7.502662889619022}, {\"Year\": 2015, \"Irrigation\": \"dry\", \"Quantity (Mt CO2e)\": 82.02717697803722}, {\"Year\": 2015, \"Irrigation\": \"irr\", \"Quantity (Mt CO2e)\": 7.697689224597604}, {\"Year\": 2016, \"Irrigation\": \"dry\", \"Quantity (Mt CO2e)\": 81.83966044519458}, {\"Year\": 2016, \"Irrigation\": \"irr\", \"Quantity (Mt CO2e)\": 7.892939840738199}, {\"Year\": 2017, \"Irrigation\": \"dry\", \"Quantity (Mt CO2e)\": 81.66453648675072}, {\"Year\": 2017, \"Irrigation\": \"irr\", \"Quantity (Mt CO2e)\": 8.021057498079195}, {\"Year\": 2018, \"Irrigation\": \"dry\", \"Quantity (Mt CO2e)\": 81.59651995148772}, {\"Year\": 2018, \"Irrigation\": \"irr\", \"Quantity (Mt CO2e)\": 8.080009201968702}, {\"Year\": 2019, \"Irrigation\": \"dry\", \"Quantity (Mt CO2e)\": 81.53038376424693}, {\"Year\": 2019, \"Irrigation\": \"irr\", \"Quantity (Mt CO2e)\": 8.172657104719029}, {\"Year\": 2020, \"Irrigation\": \"dry\", \"Quantity (Mt CO2e)\": 81.41499749119438}, {\"Year\": 2020, \"Irrigation\": \"irr\", \"Quantity (Mt CO2e)\": 8.28073341383285}, {\"Year\": 2021, \"Irrigation\": \"dry\", \"Quantity (Mt CO2e)\": 81.00214951566706}, {\"Year\": 2021, \"Irrigation\": \"irr\", \"Quantity (Mt CO2e)\": 8.511902759582227}, {\"Year\": 2022, \"Irrigation\": \"dry\", \"Quantity (Mt CO2e)\": 80.74944598518151}, {\"Year\": 2022, \"Irrigation\": \"irr\", \"Quantity (Mt CO2e)\": 8.62843789626503}, {\"Year\": 2023, \"Irrigation\": \"dry\", \"Quantity (Mt CO2e)\": 80.35442713683618}, {\"Year\": 2023, \"Irrigation\": \"irr\", \"Quantity (Mt CO2e)\": 8.908897508323463}, {\"Year\": 2024, \"Irrigation\": \"dry\", \"Quantity (Mt CO2e)\": 79.96879641871439}, {\"Year\": 2024, \"Irrigation\": \"irr\", \"Quantity (Mt CO2e)\": 9.137660975046964}, {\"Year\": 2025, \"Irrigation\": \"dry\", \"Quantity (Mt CO2e)\": 79.62834457500105}, {\"Year\": 2025, \"Irrigation\": \"irr\", \"Quantity (Mt CO2e)\": 9.287143324610017}, {\"Year\": 2026, \"Irrigation\": \"dry\", \"Quantity (Mt CO2e)\": 79.32851212958627}, {\"Year\": 2026, \"Irrigation\": \"irr\", \"Quantity (Mt CO2e)\": 9.401642310280483}, {\"Year\": 2027, \"Irrigation\": \"dry\", \"Quantity (Mt CO2e)\": 78.93262650520562}, {\"Year\": 2027, \"Irrigation\": \"irr\", \"Quantity (Mt CO2e)\": 9.651797786911535}, {\"Year\": 2028, \"Irrigation\": \"dry\", \"Quantity (Mt CO2e)\": 78.77214196738635}, {\"Year\": 2028, \"Irrigation\": \"irr\", \"Quantity (Mt CO2e)\": 9.718130473688305}, {\"Year\": 2029, \"Irrigation\": \"dry\", \"Quantity (Mt CO2e)\": 78.49790251943334}, {\"Year\": 2029, \"Irrigation\": \"irr\", \"Quantity (Mt CO2e)\": 9.80375367415941}, {\"Year\": 2030, \"Irrigation\": \"dry\", \"Quantity (Mt CO2e)\": 78.38120678345561}, {\"Year\": 2030, \"Irrigation\": \"irr\", \"Quantity (Mt CO2e)\": 9.849562343000706}, {\"Year\": 2031, \"Irrigation\": \"dry\", \"Quantity (Mt CO2e)\": 78.21094165809517}, {\"Year\": 2031, \"Irrigation\": \"irr\", \"Quantity (Mt CO2e)\": 9.889355040773475}, {\"Year\": 2032, \"Irrigation\": \"dry\", \"Quantity (Mt CO2e)\": 78.03891996661974}, {\"Year\": 2032, \"Irrigation\": \"irr\", \"Quantity (Mt CO2e)\": 9.959500153984298}, {\"Year\": 2033, \"Irrigation\": \"dry\", \"Quantity (Mt CO2e)\": 77.91576263113069}, {\"Year\": 2033, \"Irrigation\": \"irr\", \"Quantity (Mt CO2e)\": 9.995977828767629}, {\"Year\": 2034, \"Irrigation\": \"dry\", \"Quantity (Mt CO2e)\": 77.79906959421183}, {\"Year\": 2034, \"Irrigation\": \"irr\", \"Quantity (Mt CO2e)\": 10.07453875408349}, {\"Year\": 2035, \"Irrigation\": \"dry\", \"Quantity (Mt CO2e)\": 77.4917301425507}, {\"Year\": 2035, \"Irrigation\": \"irr\", \"Quantity (Mt CO2e)\": 10.157856426833856}, {\"Year\": 2036, \"Irrigation\": \"dry\", \"Quantity (Mt CO2e)\": 77.10135291806364}, {\"Year\": 2036, \"Irrigation\": \"irr\", \"Quantity (Mt CO2e)\": 10.245463271234517}, {\"Year\": 2037, \"Irrigation\": \"dry\", \"Quantity (Mt CO2e)\": 76.78576342783067}, {\"Year\": 2037, \"Irrigation\": \"irr\", \"Quantity (Mt CO2e)\": 10.300205842124422}, {\"Year\": 2038, \"Irrigation\": \"dry\", \"Quantity (Mt CO2e)\": 76.47846546043061}, {\"Year\": 2038, \"Irrigation\": \"irr\", \"Quantity (Mt CO2e)\": 10.342730181642727}, {\"Year\": 2039, \"Irrigation\": \"dry\", \"Quantity (Mt CO2e)\": 76.2281923959676}, {\"Year\": 2039, \"Irrigation\": \"irr\", \"Quantity (Mt CO2e)\": 10.411077003117239}, {\"Year\": 2040, \"Irrigation\": \"dry\", \"Quantity (Mt CO2e)\": 76.06712654595532}, {\"Year\": 2040, \"Irrigation\": \"irr\", \"Quantity (Mt CO2e)\": 10.484962119709873}, {\"Year\": 2041, \"Irrigation\": \"dry\", \"Quantity (Mt CO2e)\": 75.85071733303015}, {\"Year\": 2041, \"Irrigation\": \"irr\", \"Quantity (Mt CO2e)\": 10.563048284660795}, {\"Year\": 2042, \"Irrigation\": \"dry\", \"Quantity (Mt CO2e)\": 75.67317497235044}, {\"Year\": 2042, \"Irrigation\": \"irr\", \"Quantity (Mt CO2e)\": 10.592099209292103}, {\"Year\": 2043, \"Irrigation\": \"dry\", \"Quantity (Mt CO2e)\": 75.4732331688262}, {\"Year\": 2043, \"Irrigation\": \"irr\", \"Quantity (Mt CO2e)\": 10.624334509007932}, {\"Year\": 2044, \"Irrigation\": \"dry\", \"Quantity (Mt CO2e)\": 75.33671700953414}, {\"Year\": 2044, \"Irrigation\": \"irr\", \"Quantity (Mt CO2e)\": 10.650955786559553}, {\"Year\": 2045, \"Irrigation\": \"dry\", \"Quantity (Mt CO2e)\": 75.30068444577415}, {\"Year\": 2045, \"Irrigation\": \"irr\", \"Quantity (Mt CO2e)\": 10.659471194457897}, {\"Year\": 2046, \"Irrigation\": \"dry\", \"Quantity (Mt CO2e)\": 75.27021329328458}, {\"Year\": 2046, \"Irrigation\": \"irr\", \"Quantity (Mt CO2e)\": 10.65885109942132}, {\"Year\": 2047, \"Irrigation\": \"dry\", \"Quantity (Mt CO2e)\": 75.13494314677732}, {\"Year\": 2047, \"Irrigation\": \"irr\", \"Quantity (Mt CO2e)\": 10.63887957931751}, {\"Year\": 2048, \"Irrigation\": \"dry\", \"Quantity (Mt CO2e)\": 74.99436957884434}, {\"Year\": 2048, \"Irrigation\": \"irr\", \"Quantity (Mt CO2e)\": 10.632982615720264}, {\"Year\": 2049, \"Irrigation\": \"dry\", \"Quantity (Mt CO2e)\": 74.84830285107051}, {\"Year\": 2049, \"Irrigation\": \"irr\", \"Quantity (Mt CO2e)\": 10.617235455222199}, {\"Year\": 2050, \"Irrigation\": \"dry\", \"Quantity (Mt CO2e)\": 74.76015784576067}, {\"Year\": 2050, \"Irrigation\": \"irr\", \"Quantity (Mt CO2e)\": 10.585763038727972}]}}, {\"mode\": \"vega-lite\"});\n",
       "</script>"
      ],
      "text/plain": [
       "alt.LayerChart(...)"
      ]
     },
     "execution_count": 10,
     "metadata": {},
     "output_type": "execute_result"
    }
   ],
   "source": [
    "# HIDE CODE\n",
    "# get the df and plot\n",
    "GHG_dry_irr_df,GHG_dry_irr_plot = ag_lucc_GHG.plot_GHG_dry_irr()\n",
    "GHG_dry_irr_plot"
   ]
  },
  {
   "cell_type": "code",
   "execution_count": null,
   "metadata": {},
   "outputs": [],
   "source": []
  },
  {
   "cell_type": "markdown",
   "metadata": {},
   "source": [
    "### Emissions by GHG category"
   ]
  },
  {
   "cell_type": "code",
   "execution_count": 11,
   "metadata": {
    "tags": [
     "hide-input"
    ]
   },
   "outputs": [
    {
     "data": {
      "text/html": [
       "\n",
       "<style>\n",
       "  #altair-viz-d3641c3f42e54293afc4168e5a801d28.vega-embed {\n",
       "    width: 100%;\n",
       "    display: flex;\n",
       "  }\n",
       "\n",
       "  #altair-viz-d3641c3f42e54293afc4168e5a801d28.vega-embed details,\n",
       "  #altair-viz-d3641c3f42e54293afc4168e5a801d28.vega-embed details summary {\n",
       "    position: relative;\n",
       "  }\n",
       "</style>\n",
       "<div id=\"altair-viz-d3641c3f42e54293afc4168e5a801d28\"></div>\n",
       "<script type=\"text/javascript\">\n",
       "  var VEGA_DEBUG = (typeof VEGA_DEBUG == \"undefined\") ? {} : VEGA_DEBUG;\n",
       "  (function(spec, embedOpt){\n",
       "    let outputDiv = document.currentScript.previousElementSibling;\n",
       "    if (outputDiv.id !== \"altair-viz-d3641c3f42e54293afc4168e5a801d28\") {\n",
       "      outputDiv = document.getElementById(\"altair-viz-d3641c3f42e54293afc4168e5a801d28\");\n",
       "    }\n",
       "    const paths = {\n",
       "      \"vega\": \"https://cdn.jsdelivr.net/npm/vega@5?noext\",\n",
       "      \"vega-lib\": \"https://cdn.jsdelivr.net/npm/vega-lib?noext\",\n",
       "      \"vega-lite\": \"https://cdn.jsdelivr.net/npm/vega-lite@5.15.1?noext\",\n",
       "      \"vega-embed\": \"https://cdn.jsdelivr.net/npm/vega-embed@6?noext\",\n",
       "    };\n",
       "\n",
       "    function maybeLoadScript(lib, version) {\n",
       "      var key = `${lib.replace(\"-\", \"\")}_version`;\n",
       "      return (VEGA_DEBUG[key] == version) ?\n",
       "        Promise.resolve(paths[lib]) :\n",
       "        new Promise(function(resolve, reject) {\n",
       "          var s = document.createElement('script');\n",
       "          document.getElementsByTagName(\"head\")[0].appendChild(s);\n",
       "          s.async = true;\n",
       "          s.onload = () => {\n",
       "            VEGA_DEBUG[key] = version;\n",
       "            return resolve(paths[lib]);\n",
       "          };\n",
       "          s.onerror = () => reject(`Error loading script: ${paths[lib]}`);\n",
       "          s.src = paths[lib];\n",
       "        });\n",
       "    }\n",
       "\n",
       "    function showError(err) {\n",
       "      outputDiv.innerHTML = `<div class=\"error\" style=\"color:red;\">${err}</div>`;\n",
       "      throw err;\n",
       "    }\n",
       "\n",
       "    function displayChart(vegaEmbed) {\n",
       "      vegaEmbed(outputDiv, spec, embedOpt)\n",
       "        .catch(err => showError(`Javascript Error: ${err.message}<br>This usually means there's a typo in your chart specification. See the javascript console for the full traceback.`));\n",
       "    }\n",
       "\n",
       "    if(typeof define === \"function\" && define.amd) {\n",
       "      requirejs.config({paths});\n",
       "      require([\"vega-embed\"], displayChart, err => showError(`Error loading script: ${err.message}`));\n",
       "    } else {\n",
       "      maybeLoadScript(\"vega\", \"5\")\n",
       "        .then(() => maybeLoadScript(\"vega-lite\", \"5.15.1\"))\n",
       "        .then(() => maybeLoadScript(\"vega-embed\", \"6\"))\n",
       "        .catch(showError)\n",
       "        .then(() => displayChart(vegaEmbed));\n",
       "    }\n",
       "  })({\"config\": {\"view\": {\"continuousWidth\": 300, \"continuousHeight\": 300}}, \"layer\": [{\"mark\": {\"type\": \"bar\"}, \"encoding\": {\"color\": {\"field\": \"GHG Category\", \"legend\": {\"direction\": \"horizontal\", \"legendX\": 320, \"legendY\": -30, \"orient\": \"none\", \"title\": \"GHG Category\", \"titleAnchor\": \"middle\"}, \"type\": \"nominal\"}, \"tooltip\": [{\"field\": \"GHG Category\", \"title\": \"GHG Category\", \"type\": \"nominal\"}, {\"field\": \"Quantity (Mt CO2e)\", \"title\": \"GHG emissions (Mt CO2e)\", \"type\": \"quantitative\"}], \"x\": {\"axis\": {\"labelAngle\": -90, \"title\": \"Year\"}, \"field\": \"Year\", \"type\": \"ordinal\"}, \"y\": {\"field\": \"Quantity (Mt CO2e)\", \"scale\": {\"reverse\": false}, \"title\": \"GHG emissions (Mt CO2e) (Mt CO2e)\", \"type\": \"quantitative\"}}}], \"data\": {\"name\": \"data-1e56153792164ca3205847b7078e6253\"}, \"height\": 450, \"width\": 800, \"$schema\": \"https://vega.github.io/schema/vega-lite/v5.15.1.json\", \"datasets\": {\"data-1e56153792164ca3205847b7078e6253\": [{\"Year\": 2010, \"GHG Category\": \"CH4\", \"Quantity (Mt CO2e)\": 57.741578064466474}, {\"Year\": 2010, \"GHG Category\": \"CO2\", \"Quantity (Mt CO2e)\": 30.02170895194999}, {\"Year\": 2010, \"GHG Category\": \"N2O\", \"Quantity (Mt CO2e)\": 2.7486158869332664}, {\"Year\": 2011, \"GHG Category\": \"CH4\", \"Quantity (Mt CO2e)\": 57.33026339478985}, {\"Year\": 2011, \"GHG Category\": \"CO2\", \"Quantity (Mt CO2e)\": 29.42723043449716}, {\"Year\": 2011, \"GHG Category\": \"N2O\", \"Quantity (Mt CO2e)\": 2.6080486426500538}, {\"Year\": 2012, \"GHG Category\": \"CH4\", \"Quantity (Mt CO2e)\": 57.347666278067955}, {\"Year\": 2012, \"GHG Category\": \"CO2\", \"Quantity (Mt CO2e)\": 29.45076492501117}, {\"Year\": 2012, \"GHG Category\": \"N2O\", \"Quantity (Mt CO2e)\": 2.633233407389285}, {\"Year\": 2013, \"GHG Category\": \"CH4\", \"Quantity (Mt CO2e)\": 57.47986750276948}, {\"Year\": 2013, \"GHG Category\": \"CO2\", \"Quantity (Mt CO2e)\": 29.470932216509464}, {\"Year\": 2013, \"GHG Category\": \"N2O\", \"Quantity (Mt CO2e)\": 2.66013765622051}, {\"Year\": 2014, \"GHG Category\": \"CH4\", \"Quantity (Mt CO2e)\": 57.55559803106862}, {\"Year\": 2014, \"GHG Category\": \"CO2\", \"Quantity (Mt CO2e)\": 29.44140421828398}, {\"Year\": 2014, \"GHG Category\": \"N2O\", \"Quantity (Mt CO2e)\": 2.6724745602846074}, {\"Year\": 2015, \"GHG Category\": \"CH4\", \"Quantity (Mt CO2e)\": 57.60828601629139}, {\"Year\": 2015, \"GHG Category\": \"CO2\", \"Quantity (Mt CO2e)\": 29.428228520268302}, {\"Year\": 2015, \"GHG Category\": \"N2O\", \"Quantity (Mt CO2e)\": 2.6883516660751035}, {\"Year\": 2016, \"GHG Category\": \"CH4\", \"Quantity (Mt CO2e)\": 57.615537110277124}, {\"Year\": 2016, \"GHG Category\": \"CO2\", \"Quantity (Mt CO2e)\": 29.39770812131167}, {\"Year\": 2016, \"GHG Category\": \"N2O\", \"Quantity (Mt CO2e)\": 2.7193550543439704}, {\"Year\": 2017, \"GHG Category\": \"CH4\", \"Quantity (Mt CO2e)\": 57.595375150540775}, {\"Year\": 2017, \"GHG Category\": \"CO2\", \"Quantity (Mt CO2e)\": 29.35469163331852}, {\"Year\": 2017, \"GHG Category\": \"N2O\", \"Quantity (Mt CO2e)\": 2.7355272009705978}, {\"Year\": 2018, \"GHG Category\": \"CH4\", \"Quantity (Mt CO2e)\": 57.61100004559746}, {\"Year\": 2018, \"GHG Category\": \"CO2\", \"Quantity (Mt CO2e)\": 29.32838494664303}, {\"Year\": 2018, \"GHG Category\": \"N2O\", \"Quantity (Mt CO2e)\": 2.7371441612159337}, {\"Year\": 2019, \"GHG Category\": \"CH4\", \"Quantity (Mt CO2e)\": 57.63646991953768}, {\"Year\": 2019, \"GHG Category\": \"CO2\", \"Quantity (Mt CO2e)\": 29.316049561085887}, {\"Year\": 2019, \"GHG Category\": \"N2O\", \"Quantity (Mt CO2e)\": 2.7505213883424084}, {\"Year\": 2020, \"GHG Category\": \"CH4\", \"Quantity (Mt CO2e)\": 57.660808003074855}, {\"Year\": 2020, \"GHG Category\": \"CO2\", \"Quantity (Mt CO2e)\": 29.279305853548145}, {\"Year\": 2020, \"GHG Category\": \"N2O\", \"Quantity (Mt CO2e)\": 2.7556170484042433}, {\"Year\": 2021, \"GHG Category\": \"CH4\", \"Quantity (Mt CO2e)\": 57.46818598669693}, {\"Year\": 2021, \"GHG Category\": \"CO2\", \"Quantity (Mt CO2e)\": 29.245453682407007}, {\"Year\": 2021, \"GHG Category\": \"N2O\", \"Quantity (Mt CO2e)\": 2.8004126061453403}, {\"Year\": 2022, \"GHG Category\": \"CH4\", \"Quantity (Mt CO2e)\": 57.286892258435614}, {\"Year\": 2022, \"GHG Category\": \"CO2\", \"Quantity (Mt CO2e)\": 29.253263818709264}, {\"Year\": 2022, \"GHG Category\": \"N2O\", \"Quantity (Mt CO2e)\": 2.8377278043016485}, {\"Year\": 2023, \"GHG Category\": \"CH4\", \"Quantity (Mt CO2e)\": 57.072340522563806}, {\"Year\": 2023, \"GHG Category\": \"CO2\", \"Quantity (Mt CO2e)\": 29.28503067397124}, {\"Year\": 2023, \"GHG Category\": \"N2O\", \"Quantity (Mt CO2e)\": 2.905953448624585}, {\"Year\": 2024, \"GHG Category\": \"CH4\", \"Quantity (Mt CO2e)\": 56.87149365376671}, {\"Year\": 2024, \"GHG Category\": \"CO2\", \"Quantity (Mt CO2e)\": 29.28313642363954}, {\"Year\": 2024, \"GHG Category\": \"N2O\", \"Quantity (Mt CO2e)\": 2.951827316355104}, {\"Year\": 2025, \"GHG Category\": \"CH4\", \"Quantity (Mt CO2e)\": 56.65634777792908}, {\"Year\": 2025, \"GHG Category\": \"CO2\", \"Quantity (Mt CO2e)\": 29.29638941133424}, {\"Year\": 2025, \"GHG Category\": \"N2O\", \"Quantity (Mt CO2e)\": 2.9627507103477515}, {\"Year\": 2026, \"GHG Category\": \"CH4\", \"Quantity (Mt CO2e)\": 56.46697880793447}, {\"Year\": 2026, \"GHG Category\": \"CO2\", \"Quantity (Mt CO2e)\": 29.28760313724551}, {\"Year\": 2026, \"GHG Category\": \"N2O\", \"Quantity (Mt CO2e)\": 2.9755724946867566}, {\"Year\": 2027, \"GHG Category\": \"CH4\", \"Quantity (Mt CO2e)\": 56.25541405558108}, {\"Year\": 2027, \"GHG Category\": \"CO2\", \"Quantity (Mt CO2e)\": 29.313977758522594}, {\"Year\": 2027, \"GHG Category\": \"N2O\", \"Quantity (Mt CO2e)\": 3.0150324780134605}, {\"Year\": 2028, \"GHG Category\": \"CH4\", \"Quantity (Mt CO2e)\": 56.108781000279976}, {\"Year\": 2028, \"GHG Category\": \"CO2\", \"Quantity (Mt CO2e)\": 29.339729365494527}, {\"Year\": 2028, \"GHG Category\": \"N2O\", \"Quantity (Mt CO2e)\": 3.0417620753001615}, {\"Year\": 2029, \"GHG Category\": \"CH4\", \"Quantity (Mt CO2e)\": 55.912370967346305}, {\"Year\": 2029, \"GHG Category\": \"CO2\", \"Quantity (Mt CO2e)\": 29.33373701491004}, {\"Year\": 2029, \"GHG Category\": \"N2O\", \"Quantity (Mt CO2e)\": 3.0555482113363963}, {\"Year\": 2030, \"GHG Category\": \"CH4\", \"Quantity (Mt CO2e)\": 55.780701060943336}, {\"Year\": 2030, \"GHG Category\": \"CO2\", \"Quantity (Mt CO2e)\": 29.381017171581266}, {\"Year\": 2030, \"GHG Category\": \"N2O\", \"Quantity (Mt CO2e)\": 3.0690508939317094}, {\"Year\": 2031, \"GHG Category\": \"CH4\", \"Quantity (Mt CO2e)\": 55.61476605256442}, {\"Year\": 2031, \"GHG Category\": \"CO2\", \"Quantity (Mt CO2e)\": 29.400623733588578}, {\"Year\": 2031, \"GHG Category\": \"N2O\", \"Quantity (Mt CO2e)\": 3.0849069127156383}, {\"Year\": 2032, \"GHG Category\": \"CH4\", \"Quantity (Mt CO2e)\": 55.50686300175094}, {\"Year\": 2032, \"GHG Category\": \"CO2\", \"Quantity (Mt CO2e)\": 29.40062670077874}, {\"Year\": 2032, \"GHG Category\": \"N2O\", \"Quantity (Mt CO2e)\": 3.0909304180743398}, {\"Year\": 2033, \"GHG Category\": \"CH4\", \"Quantity (Mt CO2e)\": 55.388529288326815}, {\"Year\": 2033, \"GHG Category\": \"CO2\", \"Quantity (Mt CO2e)\": 29.42346348700255}, {\"Year\": 2033, \"GHG Category\": \"N2O\", \"Quantity (Mt CO2e)\": 3.0997476845689578}, {\"Year\": 2034, \"GHG Category\": \"CH4\", \"Quantity (Mt CO2e)\": 55.32398493053054}, {\"Year\": 2034, \"GHG Category\": \"CO2\", \"Quantity (Mt CO2e)\": 29.44057847672228}, {\"Year\": 2034, \"GHG Category\": \"N2O\", \"Quantity (Mt CO2e)\": 3.109044941042502}, {\"Year\": 2035, \"GHG Category\": \"CH4\", \"Quantity (Mt CO2e)\": 55.133702482085326}, {\"Year\": 2035, \"GHG Category\": \"CO2\", \"Quantity (Mt CO2e)\": 29.39954518558095}, {\"Year\": 2035, \"GHG Category\": \"N2O\", \"Quantity (Mt CO2e)\": 3.116338901718263}, {\"Year\": 2036, \"GHG Category\": \"CH4\", \"Quantity (Mt CO2e)\": 54.895202347731605}, {\"Year\": 2036, \"GHG Category\": \"CO2\", \"Quantity (Mt CO2e)\": 29.336538595302592}, {\"Year\": 2036, \"GHG Category\": \"N2O\", \"Quantity (Mt CO2e)\": 3.115075246263945}, {\"Year\": 2037, \"GHG Category\": \"CH4\", \"Quantity (Mt CO2e)\": 54.668768732250136}, {\"Year\": 2037, \"GHG Category\": \"CO2\", \"Quantity (Mt CO2e)\": 29.303120313522914}, {\"Year\": 2037, \"GHG Category\": \"N2O\", \"Quantity (Mt CO2e)\": 3.1140802241820422}, {\"Year\": 2038, \"GHG Category\": \"CH4\", \"Quantity (Mt CO2e)\": 54.437943971052896}, {\"Year\": 2038, \"GHG Category\": \"CO2\", \"Quantity (Mt CO2e)\": 29.269822106747824}, {\"Year\": 2038, \"GHG Category\": \"N2O\", \"Quantity (Mt CO2e)\": 3.113429564272629}, {\"Year\": 2039, \"GHG Category\": \"CH4\", \"Quantity (Mt CO2e)\": 54.29206107137458}, {\"Year\": 2039, \"GHG Category\": \"CO2\", \"Quantity (Mt CO2e)\": 29.23634955134842}, {\"Year\": 2039, \"GHG Category\": \"N2O\", \"Quantity (Mt CO2e)\": 3.1108587763618174}, {\"Year\": 2040, \"GHG Category\": \"CH4\", \"Quantity (Mt CO2e)\": 54.16559489782048}, {\"Year\": 2040, \"GHG Category\": \"CO2\", \"Quantity (Mt CO2e)\": 29.26993322478061}, {\"Year\": 2040, \"GHG Category\": \"N2O\", \"Quantity (Mt CO2e)\": 3.1165605430640695}, {\"Year\": 2041, \"GHG Category\": \"CH4\", \"Quantity (Mt CO2e)\": 54.028231836583174}, {\"Year\": 2041, \"GHG Category\": \"CO2\", \"Quantity (Mt CO2e)\": 29.263527953697714}, {\"Year\": 2041, \"GHG Category\": \"N2O\", \"Quantity (Mt CO2e)\": 3.1220058274100415}, {\"Year\": 2042, \"GHG Category\": \"CH4\", \"Quantity (Mt CO2e)\": 53.89020869103371}, {\"Year\": 2042, \"GHG Category\": \"CO2\", \"Quantity (Mt CO2e)\": 29.25160995117232}, {\"Year\": 2042, \"GHG Category\": \"N2O\", \"Quantity (Mt CO2e)\": 3.1234555394364865}, {\"Year\": 2043, \"GHG Category\": \"CH4\", \"Quantity (Mt CO2e)\": 53.73132085846808}, {\"Year\": 2043, \"GHG Category\": \"CO2\", \"Quantity (Mt CO2e)\": 29.232140364110503}, {\"Year\": 2043, \"GHG Category\": \"N2O\", \"Quantity (Mt CO2e)\": 3.1341064552555133}, {\"Year\": 2044, \"GHG Category\": \"CH4\", \"Quantity (Mt CO2e)\": 53.6323891126318}, {\"Year\": 2044, \"GHG Category\": \"CO2\", \"Quantity (Mt CO2e)\": 29.211753635043404}, {\"Year\": 2044, \"GHG Category\": \"N2O\", \"Quantity (Mt CO2e)\": 3.143530048418472}, {\"Year\": 2045, \"GHG Category\": \"CH4\", \"Quantity (Mt CO2e)\": 53.60139122961294}, {\"Year\": 2045, \"GHG Category\": \"CO2\", \"Quantity (Mt CO2e)\": 29.214276172908754}, {\"Year\": 2045, \"GHG Category\": \"N2O\", \"Quantity (Mt CO2e)\": 3.1444882377103585}, {\"Year\": 2046, \"GHG Category\": \"CH4\", \"Quantity (Mt CO2e)\": 53.54844644600877}, {\"Year\": 2046, \"GHG Category\": \"CO2\", \"Quantity (Mt CO2e)\": 29.233760687951182}, {\"Year\": 2046, \"GHG Category\": \"N2O\", \"Quantity (Mt CO2e)\": 3.146857258745935}, {\"Year\": 2047, \"GHG Category\": \"CH4\", \"Quantity (Mt CO2e)\": 53.440559969314066}, {\"Year\": 2047, \"GHG Category\": \"CO2\", \"Quantity (Mt CO2e)\": 29.190834218757253}, {\"Year\": 2047, \"GHG Category\": \"N2O\", \"Quantity (Mt CO2e)\": 3.1424285380235006}, {\"Year\": 2048, \"GHG Category\": \"CH4\", \"Quantity (Mt CO2e)\": 53.32738492950057}, {\"Year\": 2048, \"GHG Category\": \"CO2\", \"Quantity (Mt CO2e)\": 29.15711325770262}, {\"Year\": 2048, \"GHG Category\": \"N2O\", \"Quantity (Mt CO2e)\": 3.142854007361397}, {\"Year\": 2049, \"GHG Category\": \"CH4\", \"Quantity (Mt CO2e)\": 53.21098193884632}, {\"Year\": 2049, \"GHG Category\": \"CO2\", \"Quantity (Mt CO2e)\": 29.117813460944035}, {\"Year\": 2049, \"GHG Category\": \"N2O\", \"Quantity (Mt CO2e)\": 3.136742906502341}, {\"Year\": 2050, \"GHG Category\": \"CH4\", \"Quantity (Mt CO2e)\": 53.137246777393415}, {\"Year\": 2050, \"GHG Category\": \"CO2\", \"Quantity (Mt CO2e)\": 29.07569417914268}, {\"Year\": 2050, \"GHG Category\": \"N2O\", \"Quantity (Mt CO2e)\": 3.132979927952553}]}}, {\"mode\": \"vega-lite\"});\n",
       "</script>"
      ],
      "text/plain": [
       "alt.LayerChart(...)"
      ]
     },
     "execution_count": 11,
     "metadata": {},
     "output_type": "execute_result"
    }
   ],
   "source": [
    "# HIDE CODE\n",
    "# get the df and plot\n",
    "GHG_catetory_df,GHG_atetory_plot = ag_lucc_GHG.plot_GHG_category()\n",
    "GHG_atetory_plot"
   ]
  },
  {
   "cell_type": "code",
   "execution_count": null,
   "metadata": {},
   "outputs": [],
   "source": []
  },
  {
   "cell_type": "markdown",
   "metadata": {},
   "source": [
    "### Emission by CO2 sources"
   ]
  },
  {
   "cell_type": "code",
   "execution_count": 12,
   "metadata": {
    "tags": [
     "hide-input"
    ]
   },
   "outputs": [
    {
     "data": {
      "text/html": [
       "\n",
       "<style>\n",
       "  #altair-viz-fc63e0d087a24690a54e974a37683a24.vega-embed {\n",
       "    width: 100%;\n",
       "    display: flex;\n",
       "  }\n",
       "\n",
       "  #altair-viz-fc63e0d087a24690a54e974a37683a24.vega-embed details,\n",
       "  #altair-viz-fc63e0d087a24690a54e974a37683a24.vega-embed details summary {\n",
       "    position: relative;\n",
       "  }\n",
       "</style>\n",
       "<div id=\"altair-viz-fc63e0d087a24690a54e974a37683a24\"></div>\n",
       "<script type=\"text/javascript\">\n",
       "  var VEGA_DEBUG = (typeof VEGA_DEBUG == \"undefined\") ? {} : VEGA_DEBUG;\n",
       "  (function(spec, embedOpt){\n",
       "    let outputDiv = document.currentScript.previousElementSibling;\n",
       "    if (outputDiv.id !== \"altair-viz-fc63e0d087a24690a54e974a37683a24\") {\n",
       "      outputDiv = document.getElementById(\"altair-viz-fc63e0d087a24690a54e974a37683a24\");\n",
       "    }\n",
       "    const paths = {\n",
       "      \"vega\": \"https://cdn.jsdelivr.net/npm/vega@5?noext\",\n",
       "      \"vega-lib\": \"https://cdn.jsdelivr.net/npm/vega-lib?noext\",\n",
       "      \"vega-lite\": \"https://cdn.jsdelivr.net/npm/vega-lite@5.15.1?noext\",\n",
       "      \"vega-embed\": \"https://cdn.jsdelivr.net/npm/vega-embed@6?noext\",\n",
       "    };\n",
       "\n",
       "    function maybeLoadScript(lib, version) {\n",
       "      var key = `${lib.replace(\"-\", \"\")}_version`;\n",
       "      return (VEGA_DEBUG[key] == version) ?\n",
       "        Promise.resolve(paths[lib]) :\n",
       "        new Promise(function(resolve, reject) {\n",
       "          var s = document.createElement('script');\n",
       "          document.getElementsByTagName(\"head\")[0].appendChild(s);\n",
       "          s.async = true;\n",
       "          s.onload = () => {\n",
       "            VEGA_DEBUG[key] = version;\n",
       "            return resolve(paths[lib]);\n",
       "          };\n",
       "          s.onerror = () => reject(`Error loading script: ${paths[lib]}`);\n",
       "          s.src = paths[lib];\n",
       "        });\n",
       "    }\n",
       "\n",
       "    function showError(err) {\n",
       "      outputDiv.innerHTML = `<div class=\"error\" style=\"color:red;\">${err}</div>`;\n",
       "      throw err;\n",
       "    }\n",
       "\n",
       "    function displayChart(vegaEmbed) {\n",
       "      vegaEmbed(outputDiv, spec, embedOpt)\n",
       "        .catch(err => showError(`Javascript Error: ${err.message}<br>This usually means there's a typo in your chart specification. See the javascript console for the full traceback.`));\n",
       "    }\n",
       "\n",
       "    if(typeof define === \"function\" && define.amd) {\n",
       "      requirejs.config({paths});\n",
       "      require([\"vega-embed\"], displayChart, err => showError(`Error loading script: ${err.message}`));\n",
       "    } else {\n",
       "      maybeLoadScript(\"vega\", \"5\")\n",
       "        .then(() => maybeLoadScript(\"vega-lite\", \"5.15.1\"))\n",
       "        .then(() => maybeLoadScript(\"vega-embed\", \"6\"))\n",
       "        .catch(showError)\n",
       "        .then(() => displayChart(vegaEmbed));\n",
       "    }\n",
       "  })({\"config\": {\"view\": {\"continuousWidth\": 300, \"continuousHeight\": 300}}, \"layer\": [{\"mark\": {\"type\": \"bar\"}, \"encoding\": {\"color\": {\"field\": \"Sources\", \"legend\": {\"direction\": \"horizontal\", \"legendX\": 320, \"legendY\": -30, \"orient\": \"none\", \"title\": \"GHG Sources\", \"titleAnchor\": \"middle\"}, \"type\": \"nominal\"}, \"tooltip\": [{\"field\": \"Sources\", \"title\": \"GHG Sources\", \"type\": \"nominal\"}, {\"field\": \"Quantity (Mt CO2e)\", \"title\": \"GHG emissions (Mt CO2e)\", \"type\": \"quantitative\"}], \"x\": {\"axis\": {\"labelAngle\": -90, \"title\": \"Year\"}, \"field\": \"Year\", \"type\": \"ordinal\"}, \"y\": {\"field\": \"Quantity (Mt CO2e)\", \"scale\": {\"reverse\": false}, \"title\": \"GHG emissions (Mt CO2e) (Mt CO2e)\", \"type\": \"quantitative\"}}}], \"data\": {\"name\": \"data-7e76e3d6e6c78ed2a64b9f573a45f7d9\"}, \"height\": 450, \"width\": 800, \"$schema\": \"https://vega.github.io/schema/vega-lite/v5.15.1.json\", \"datasets\": {\"data-7e76e3d6e6c78ed2a64b9f573a45f7d9\": [{\"Year\": 2010, \"Sources\": \"TCO2E_CHEM_APPL\", \"Quantity (Mt CO2e)\": 1.8637020013961796}, {\"Year\": 2010, \"Sources\": \"TCO2E_CROP_MGT\", \"Quantity (Mt CO2e)\": 0.03258934836706519}, {\"Year\": 2010, \"Sources\": \"TCO2E_CULTIV\", \"Quantity (Mt CO2e)\": 0.877268312080845}, {\"Year\": 2010, \"Sources\": \"TCO2E_DUNG_URINE\", \"Quantity (Mt CO2e)\": 4.433428700008393}, {\"Year\": 2010, \"Sources\": \"TCO2E_ELEC\", \"Quantity (Mt CO2e)\": 0.42419813347530366}, {\"Year\": 2010, \"Sources\": \"TCO2E_ENTERIC\", \"Quantity (Mt CO2e)\": 55.52486371446228}, {\"Year\": 2010, \"Sources\": \"TCO2E_FERT_PROD\", \"Quantity (Mt CO2e)\": 5.3500663423597805}, {\"Year\": 2010, \"Sources\": \"TCO2E_FODDER\", \"Quantity (Mt CO2e)\": 1.4573687149884944}, {\"Year\": 2010, \"Sources\": \"TCO2E_FUEL\", \"Quantity (Mt CO2e)\": 5.984283024066432}, {\"Year\": 2010, \"Sources\": \"TCO2E_HARVEST\", \"Quantity (Mt CO2e)\": 0.3760521283593476}, {\"Year\": 2010, \"Sources\": \"TCO2E_IND_LEACH_RUNOFF\", \"Quantity (Mt CO2e)\": 2.7155013232363463}, {\"Year\": 2010, \"Sources\": \"TCO2E_IRRIG\", \"Quantity (Mt CO2e)\": 0.27673083430004114}, {\"Year\": 2010, \"Sources\": \"TCO2E_MANURE_MGT\", \"Quantity (Mt CO2e)\": 0.32997065642377593}, {\"Year\": 2010, \"Sources\": \"TCO2E_PEST_PROD\", \"Quantity (Mt CO2e)\": 2.4779868948783874}, {\"Year\": 2010, \"Sources\": \"TCO2E_SEED\", \"Quantity (Mt CO2e)\": 4.675661380761691}, {\"Year\": 2010, \"Sources\": \"TCO2E_SOIL\", \"Quantity (Mt CO2e)\": 2.7486158869332664}, {\"Year\": 2010, \"Sources\": \"TCO2E_SOWING\", \"Quantity (Mt CO2e)\": 0.9636155072521269}, {\"Year\": 2011, \"Sources\": \"TCO2E_CHEM_APPL\", \"Quantity (Mt CO2e)\": 1.812197742329924}, {\"Year\": 2011, \"Sources\": \"TCO2E_CROP_MGT\", \"Quantity (Mt CO2e)\": 0.02805068894734069}, {\"Year\": 2011, \"Sources\": \"TCO2E_CULTIV\", \"Quantity (Mt CO2e)\": 0.839161674855666}, {\"Year\": 2011, \"Sources\": \"TCO2E_DUNG_URINE\", \"Quantity (Mt CO2e)\": 4.405191001626528}, {\"Year\": 2011, \"Sources\": \"TCO2E_ELEC\", \"Quantity (Mt CO2e)\": 0.4230751211769786}, {\"Year\": 2011, \"Sources\": \"TCO2E_ENTERIC\", \"Quantity (Mt CO2e)\": 55.127667893976586}, {\"Year\": 2011, \"Sources\": \"TCO2E_FERT_PROD\", \"Quantity (Mt CO2e)\": 5.127234504992078}, {\"Year\": 2011, \"Sources\": \"TCO2E_FODDER\", \"Quantity (Mt CO2e)\": 1.432132924815414}, {\"Year\": 2011, \"Sources\": \"TCO2E_FUEL\", \"Quantity (Mt CO2e)\": 5.966822973448825}, {\"Year\": 2011, \"Sources\": \"TCO2E_HARVEST\", \"Quantity (Mt CO2e)\": 0.3602366795248757}, {\"Year\": 2011, \"Sources\": \"TCO2E_IND_LEACH_RUNOFF\", \"Quantity (Mt CO2e)\": 2.6706739404181055}, {\"Year\": 2011, \"Sources\": \"TCO2E_IRRIG\", \"Quantity (Mt CO2e)\": 0.21271883883516032}, {\"Year\": 2011, \"Sources\": \"TCO2E_MANURE_MGT\", \"Quantity (Mt CO2e)\": 0.32460385922928425}, {\"Year\": 2011, \"Sources\": \"TCO2E_PEST_PROD\", \"Quantity (Mt CO2e)\": 2.3827957819015864}, {\"Year\": 2011, \"Sources\": \"TCO2E_SEED\", \"Quantity (Mt CO2e)\": 4.693188368750719}, {\"Year\": 2011, \"Sources\": \"TCO2E_SOIL\", \"Quantity (Mt CO2e)\": 2.6080486426500538}, {\"Year\": 2011, \"Sources\": \"TCO2E_SOWING\", \"Quantity (Mt CO2e)\": 0.9517418344579497}, {\"Year\": 2012, \"Sources\": \"TCO2E_CHEM_APPL\", \"Quantity (Mt CO2e)\": 1.813113372744735}, {\"Year\": 2012, \"Sources\": \"TCO2E_CROP_MGT\", \"Quantity (Mt CO2e)\": 0.027857194377593108}, {\"Year\": 2012, \"Sources\": \"TCO2E_CULTIV\", \"Quantity (Mt CO2e)\": 0.8435729938172963}, {\"Year\": 2012, \"Sources\": \"TCO2E_DUNG_URINE\", \"Quantity (Mt CO2e)\": 4.406880434915141}, {\"Year\": 2012, \"Sources\": \"TCO2E_ELEC\", \"Quantity (Mt CO2e)\": 0.4249480846658434}, {\"Year\": 2012, \"Sources\": \"TCO2E_ENTERIC\", \"Quantity (Mt CO2e)\": 55.144226060610386}, {\"Year\": 2012, \"Sources\": \"TCO2E_FERT_PROD\", \"Quantity (Mt CO2e)\": 5.134371296844716}, {\"Year\": 2012, \"Sources\": \"TCO2E_FODDER\", \"Quantity (Mt CO2e)\": 1.432913826026816}, {\"Year\": 2012, \"Sources\": \"TCO2E_FUEL\", \"Quantity (Mt CO2e)\": 5.9364605091395655}, {\"Year\": 2012, \"Sources\": \"TCO2E_HARVEST\", \"Quantity (Mt CO2e)\": 0.36006663357605045}, {\"Year\": 2012, \"Sources\": \"TCO2E_IND_LEACH_RUNOFF\", \"Quantity (Mt CO2e)\": 2.6680422583426635}, {\"Year\": 2012, \"Sources\": \"TCO2E_IRRIG\", \"Quantity (Mt CO2e)\": 0.21164031108570885}, {\"Year\": 2012, \"Sources\": \"TCO2E_MANURE_MGT\", \"Quantity (Mt CO2e)\": 0.3248458909324303}, {\"Year\": 2012, \"Sources\": \"TCO2E_PEST_PROD\", \"Quantity (Mt CO2e)\": 2.3840386427011064}, {\"Year\": 2012, \"Sources\": \"TCO2E_SEED\", \"Quantity (Mt CO2e)\": 4.732768382524997}, {\"Year\": 2012, \"Sources\": \"TCO2E_SOIL\", \"Quantity (Mt CO2e)\": 2.633233407389285}, {\"Year\": 2012, \"Sources\": \"TCO2E_SOWING\", \"Quantity (Mt CO2e)\": 0.9526853107741011}, {\"Year\": 2013, \"Sources\": \"TCO2E_CHEM_APPL\", \"Quantity (Mt CO2e)\": 1.8144140467779284}, {\"Year\": 2013, \"Sources\": \"TCO2E_CROP_MGT\", \"Quantity (Mt CO2e)\": 0.027832681888838324}, {\"Year\": 2013, \"Sources\": \"TCO2E_CULTIV\", \"Quantity (Mt CO2e)\": 0.8459915071871517}, {\"Year\": 2013, \"Sources\": \"TCO2E_DUNG_URINE\", \"Quantity (Mt CO2e)\": 4.4110498587047235}, {\"Year\": 2013, \"Sources\": \"TCO2E_ELEC\", \"Quantity (Mt CO2e)\": 0.4229021876703681}, {\"Year\": 2013, \"Sources\": \"TCO2E_ENTERIC\", \"Quantity (Mt CO2e)\": 55.27434257341712}, {\"Year\": 2013, \"Sources\": \"TCO2E_FERT_PROD\", \"Quantity (Mt CO2e)\": 5.142849745574813}, {\"Year\": 2013, \"Sources\": \"TCO2E_FODDER\", \"Quantity (Mt CO2e)\": 1.4384453212218178}, {\"Year\": 2013, \"Sources\": \"TCO2E_FUEL\", \"Quantity (Mt CO2e)\": 5.904558538031124}, {\"Year\": 2013, \"Sources\": \"TCO2E_HARVEST\", \"Quantity (Mt CO2e)\": 0.359903467610014}, {\"Year\": 2013, \"Sources\": \"TCO2E_IND_LEACH_RUNOFF\", \"Quantity (Mt CO2e)\": 2.6620904156495357}, {\"Year\": 2013, \"Sources\": \"TCO2E_IRRIG\", \"Quantity (Mt CO2e)\": 0.21231116549620255}, {\"Year\": 2013, \"Sources\": \"TCO2E_MANURE_MGT\", \"Quantity (Mt CO2e)\": 0.32454549113836184}, {\"Year\": 2013, \"Sources\": \"TCO2E_PEST_PROD\", \"Quantity (Mt CO2e)\": 2.3844020042307275}, {\"Year\": 2013, \"Sources\": \"TCO2E_SEED\", \"Quantity (Mt CO2e)\": 4.771395007964666}, {\"Year\": 2013, \"Sources\": \"TCO2E_SOIL\", \"Quantity (Mt CO2e)\": 2.66013765622051}, {\"Year\": 2013, \"Sources\": \"TCO2E_SOWING\", \"Quantity (Mt CO2e)\": 0.9537657067155614}, {\"Year\": 2014, \"Sources\": \"TCO2E_CHEM_APPL\", \"Quantity (Mt CO2e)\": 1.8158930129739899}, {\"Year\": 2014, \"Sources\": \"TCO2E_CROP_MGT\", \"Quantity (Mt CO2e)\": 0.02760698529258688}, {\"Year\": 2014, \"Sources\": \"TCO2E_CULTIV\", \"Quantity (Mt CO2e)\": 0.8450351674084406}, {\"Year\": 2014, \"Sources\": \"TCO2E_DUNG_URINE\", \"Quantity (Mt CO2e)\": 4.412171231593639}, {\"Year\": 2014, \"Sources\": \"TCO2E_ELEC\", \"Quantity (Mt CO2e)\": 0.40615433379052923}, {\"Year\": 2014, \"Sources\": \"TCO2E_ENTERIC\", \"Quantity (Mt CO2e)\": 55.34951241527179}, {\"Year\": 2014, \"Sources\": \"TCO2E_FERT_PROD\", \"Quantity (Mt CO2e)\": 5.146534983044944}, {\"Year\": 2014, \"Sources\": \"TCO2E_FODDER\", \"Quantity (Mt CO2e)\": 1.4405737771089755}, {\"Year\": 2014, \"Sources\": \"TCO2E_FUEL\", \"Quantity (Mt CO2e)\": 5.854662172980837}, {\"Year\": 2014, \"Sources\": \"TCO2E_HARVEST\", \"Quantity (Mt CO2e)\": 0.3595734383718535}, {\"Year\": 2014, \"Sources\": \"TCO2E_IND_LEACH_RUNOFF\", \"Quantity (Mt CO2e)\": 2.655902608935575}, {\"Year\": 2014, \"Sources\": \"TCO2E_IRRIG\", \"Quantity (Mt CO2e)\": 0.2112163503522553}, {\"Year\": 2014, \"Sources\": \"TCO2E_MANURE_MGT\", \"Quantity (Mt CO2e)\": 0.32120603619668303}, {\"Year\": 2014, \"Sources\": \"TCO2E_PEST_PROD\", \"Quantity (Mt CO2e)\": 2.386143624556961}, {\"Year\": 2014, \"Sources\": \"TCO2E_SEED\", \"Quantity (Mt CO2e)\": 4.809123346746775}, {\"Year\": 2014, \"Sources\": \"TCO2E_SOIL\", \"Quantity (Mt CO2e)\": 2.6724745602846074}, {\"Year\": 2014, \"Sources\": \"TCO2E_SOWING\", \"Quantity (Mt CO2e)\": 0.955692764726757}, {\"Year\": 2015, \"Sources\": \"TCO2E_CHEM_APPL\", \"Quantity (Mt CO2e)\": 1.8178019421965654}, {\"Year\": 2015, \"Sources\": \"TCO2E_CROP_MGT\", \"Quantity (Mt CO2e)\": 0.02746084306908518}, {\"Year\": 2015, \"Sources\": \"TCO2E_CULTIV\", \"Quantity (Mt CO2e)\": 0.8451961564292966}, {\"Year\": 2015, \"Sources\": \"TCO2E_DUNG_URINE\", \"Quantity (Mt CO2e)\": 4.412513329270028}, {\"Year\": 2015, \"Sources\": \"TCO2E_ELEC\", \"Quantity (Mt CO2e)\": 0.39277366052358575}, {\"Year\": 2015, \"Sources\": \"TCO2E_ENTERIC\", \"Quantity (Mt CO2e)\": 55.402029351656374}, {\"Year\": 2015, \"Sources\": \"TCO2E_FERT_PROD\", \"Quantity (Mt CO2e)\": 5.151023909267424}, {\"Year\": 2015, \"Sources\": \"TCO2E_FODDER\", \"Quantity (Mt CO2e)\": 1.444216013160459}, {\"Year\": 2015, \"Sources\": \"TCO2E_FUEL\", \"Quantity (Mt CO2e)\": 5.809389293030233}, {\"Year\": 2015, \"Sources\": \"TCO2E_HARVEST\", \"Quantity (Mt CO2e)\": 0.35945643465287763}, {\"Year\": 2015, \"Sources\": \"TCO2E_IND_LEACH_RUNOFF\", \"Quantity (Mt CO2e)\": 2.651185533499541}, {\"Year\": 2015, \"Sources\": \"TCO2E_IRRIG\", \"Quantity (Mt CO2e)\": 0.21046235192543278}, {\"Year\": 2015, \"Sources\": \"TCO2E_MANURE_MGT\", \"Quantity (Mt CO2e)\": 0.3190025709927968}, {\"Year\": 2015, \"Sources\": \"TCO2E_PEST_PROD\", \"Quantity (Mt CO2e)\": 2.389004393696449}, {\"Year\": 2015, \"Sources\": \"TCO2E_SEED\", \"Quantity (Mt CO2e)\": 4.847277922025598}, {\"Year\": 2015, \"Sources\": \"TCO2E_SOIL\", \"Quantity (Mt CO2e)\": 2.6883516660751035}, {\"Year\": 2015, \"Sources\": \"TCO2E_SOWING\", \"Quantity (Mt CO2e)\": 0.957720831163963}, {\"Year\": 2016, \"Sources\": \"TCO2E_CHEM_APPL\", \"Quantity (Mt CO2e)\": 1.8199337377824403}, {\"Year\": 2016, \"Sources\": \"TCO2E_CROP_MGT\", \"Quantity (Mt CO2e)\": 0.027338262149173218}, {\"Year\": 2016, \"Sources\": \"TCO2E_CULTIV\", \"Quantity (Mt CO2e)\": 0.8497148884368774}, {\"Year\": 2016, \"Sources\": \"TCO2E_DUNG_URINE\", \"Quantity (Mt CO2e)\": 4.410575665842413}, {\"Year\": 2016, \"Sources\": \"TCO2E_ELEC\", \"Quantity (Mt CO2e)\": 0.36322591408556804}, {\"Year\": 2016, \"Sources\": \"TCO2E_ENTERIC\", \"Quantity (Mt CO2e)\": 55.41024927735592}, {\"Year\": 2016, \"Sources\": \"TCO2E_FERT_PROD\", \"Quantity (Mt CO2e)\": 5.1643386606681965}, {\"Year\": 2016, \"Sources\": \"TCO2E_FODDER\", \"Quantity (Mt CO2e)\": 1.4458130643273113}, {\"Year\": 2016, \"Sources\": \"TCO2E_FUEL\", \"Quantity (Mt CO2e)\": 5.757257392392395}, {\"Year\": 2016, \"Sources\": \"TCO2E_HARVEST\", \"Quantity (Mt CO2e)\": 0.3592272559628635}, {\"Year\": 2016, \"Sources\": \"TCO2E_IND_LEACH_RUNOFF\", \"Quantity (Mt CO2e)\": 2.643269255703}, {\"Year\": 2016, \"Sources\": \"TCO2E_IRRIG\", \"Quantity (Mt CO2e)\": 0.21137716544427246}, {\"Year\": 2016, \"Sources\": \"TCO2E_MANURE_MGT\", \"Quantity (Mt CO2e)\": 0.31548769024107925}, {\"Year\": 2016, \"Sources\": \"TCO2E_PEST_PROD\", \"Quantity (Mt CO2e)\": 2.3915184170001735}, {\"Year\": 2016, \"Sources\": \"TCO2E_SEED\", \"Quantity (Mt CO2e)\": 4.884364146212159}, {\"Year\": 2016, \"Sources\": \"TCO2E_SOIL\", \"Quantity (Mt CO2e)\": 2.7193550543439704}, {\"Year\": 2016, \"Sources\": \"TCO2E_SOWING\", \"Quantity (Mt CO2e)\": 0.9595544379849624}, {\"Year\": 2017, \"Sources\": \"TCO2E_CHEM_APPL\", \"Quantity (Mt CO2e)\": 1.821219631931494}, {\"Year\": 2017, \"Sources\": \"TCO2E_CROP_MGT\", \"Quantity (Mt CO2e)\": 0.027012953833745707}, {\"Year\": 2017, \"Sources\": \"TCO2E_CULTIV\", \"Quantity (Mt CO2e)\": 0.8511802109557866}, {\"Year\": 2017, \"Sources\": \"TCO2E_DUNG_URINE\", \"Quantity (Mt CO2e)\": 4.407869940051917}, {\"Year\": 2017, \"Sources\": \"TCO2E_ELEC\", \"Quantity (Mt CO2e)\": 0.34883135459184644}, {\"Year\": 2017, \"Sources\": \"TCO2E_ENTERIC\", \"Quantity (Mt CO2e)\": 55.39144018051482}, {\"Year\": 2017, \"Sources\": \"TCO2E_FERT_PROD\", \"Quantity (Mt CO2e)\": 5.168129651149875}, {\"Year\": 2017, \"Sources\": \"TCO2E_FODDER\", \"Quantity (Mt CO2e)\": 1.4432757030884686}, {\"Year\": 2017, \"Sources\": \"TCO2E_FUEL\", \"Quantity (Mt CO2e)\": 5.707268538208865}, {\"Year\": 2017, \"Sources\": \"TCO2E_HARVEST\", \"Quantity (Mt CO2e)\": 0.35877382044906453}, {\"Year\": 2017, \"Sources\": \"TCO2E_IND_LEACH_RUNOFF\", \"Quantity (Mt CO2e)\": 2.6329217601014956}, {\"Year\": 2017, \"Sources\": \"TCO2E_IRRIG\", \"Quantity (Mt CO2e)\": 0.21056452689156493}, {\"Year\": 2017, \"Sources\": \"TCO2E_MANURE_MGT\", \"Quantity (Mt CO2e)\": 0.31242094409687415}, {\"Year\": 2017, \"Sources\": \"TCO2E_PEST_PROD\", \"Quantity (Mt CO2e)\": 2.390445428511809}, {\"Year\": 2017, \"Sources\": \"TCO2E_SEED\", \"Quantity (Mt CO2e)\": 4.917628433167449}, {\"Year\": 2017, \"Sources\": \"TCO2E_SOIL\", \"Quantity (Mt CO2e)\": 2.7355272009705978}, {\"Year\": 2017, \"Sources\": \"TCO2E_SOWING\", \"Quantity (Mt CO2e)\": 0.9610837063142408}, {\"Year\": 2018, \"Sources\": \"TCO2E_CHEM_APPL\", \"Quantity (Mt CO2e)\": 1.8215442038535226}, {\"Year\": 2018, \"Sources\": \"TCO2E_CROP_MGT\", \"Quantity (Mt CO2e)\": 0.02650222764427759}, {\"Year\": 2018, \"Sources\": \"TCO2E_CULTIV\", \"Quantity (Mt CO2e)\": 0.8475601493982607}, {\"Year\": 2018, \"Sources\": \"TCO2E_DUNG_URINE\", \"Quantity (Mt CO2e)\": 4.407601848711148}, {\"Year\": 2018, \"Sources\": \"TCO2E_ELEC\", \"Quantity (Mt CO2e)\": 0.33996220860633325}, {\"Year\": 2018, \"Sources\": \"TCO2E_ENTERIC\", \"Quantity (Mt CO2e)\": 55.40719912124189}, {\"Year\": 2018, \"Sources\": \"TCO2E_FERT_PROD\", \"Quantity (Mt CO2e)\": 5.162226457402991}, {\"Year\": 2018, \"Sources\": \"TCO2E_FODDER\", \"Quantity (Mt CO2e)\": 1.44339947415172}, {\"Year\": 2018, \"Sources\": \"TCO2E_FUEL\", \"Quantity (Mt CO2e)\": 5.6756831773915355}, {\"Year\": 2018, \"Sources\": \"TCO2E_HARVEST\", \"Quantity (Mt CO2e)\": 0.35788052879419163}, {\"Year\": 2018, \"Sources\": \"TCO2E_IND_LEACH_RUNOFF\", \"Quantity (Mt CO2e)\": 2.627710024599927}, {\"Year\": 2018, \"Sources\": \"TCO2E_IRRIG\", \"Quantity (Mt CO2e)\": 0.2081254568198184}, {\"Year\": 2018, \"Sources\": \"TCO2E_MANURE_MGT\", \"Quantity (Mt CO2e)\": 0.3126571806507165}, {\"Year\": 2018, \"Sources\": \"TCO2E_PEST_PROD\", \"Quantity (Mt CO2e)\": 2.387288950951701}, {\"Year\": 2018, \"Sources\": \"TCO2E_SEED\", \"Quantity (Mt CO2e)\": 4.951675664269999}, {\"Year\": 2018, \"Sources\": \"TCO2E_SOIL\", \"Quantity (Mt CO2e)\": 2.7371441612159337}, {\"Year\": 2018, \"Sources\": \"TCO2E_SOWING\", \"Quantity (Mt CO2e)\": 0.9623683177524607}, {\"Year\": 2019, \"Sources\": \"TCO2E_CHEM_APPL\", \"Quantity (Mt CO2e)\": 1.8243267360686302}, {\"Year\": 2019, \"Sources\": \"TCO2E_CROP_MGT\", \"Quantity (Mt CO2e)\": 0.02635659180479815}, {\"Year\": 2019, \"Sources\": \"TCO2E_CULTIV\", \"Quantity (Mt CO2e)\": 0.8464496626881837}, {\"Year\": 2019, \"Sources\": \"TCO2E_DUNG_URINE\", \"Quantity (Mt CO2e)\": 4.406836371737337}, {\"Year\": 2019, \"Sources\": \"TCO2E_ELEC\", \"Quantity (Mt CO2e)\": 0.3311579886057078}, {\"Year\": 2019, \"Sources\": \"TCO2E_ENTERIC\", \"Quantity (Mt CO2e)\": 55.43305173366902}, {\"Year\": 2019, \"Sources\": \"TCO2E_FERT_PROD\", \"Quantity (Mt CO2e)\": 5.168374198251325}, {\"Year\": 2019, \"Sources\": \"TCO2E_FODDER\", \"Quantity (Mt CO2e)\": 1.4463781233813133}, {\"Year\": 2019, \"Sources\": \"TCO2E_FUEL\", \"Quantity (Mt CO2e)\": 5.637138092960674}, {\"Year\": 2019, \"Sources\": \"TCO2E_HARVEST\", \"Quantity (Mt CO2e)\": 0.3577439941476019}, {\"Year\": 2019, \"Sources\": \"TCO2E_IND_LEACH_RUNOFF\", \"Quantity (Mt CO2e)\": 2.6189063579335006}, {\"Year\": 2019, \"Sources\": \"TCO2E_IRRIG\", \"Quantity (Mt CO2e)\": 0.20849356935478225}, {\"Year\": 2019, \"Sources\": \"TCO2E_MANURE_MGT\", \"Quantity (Mt CO2e)\": 0.31119476061928264}, {\"Year\": 2019, \"Sources\": \"TCO2E_PEST_PROD\", \"Quantity (Mt CO2e)\": 2.3882561727267966}, {\"Year\": 2019, \"Sources\": \"TCO2E_SEED\", \"Quantity (Mt CO2e)\": 4.984158710583215}, {\"Year\": 2019, \"Sources\": \"TCO2E_SOIL\", \"Quantity (Mt CO2e)\": 2.7505213883424084}, {\"Year\": 2019, \"Sources\": \"TCO2E_SOWING\", \"Quantity (Mt CO2e)\": 0.9636964160913931}, {\"Year\": 2020, \"Sources\": \"TCO2E_CHEM_APPL\", \"Quantity (Mt CO2e)\": 1.825623268315088}, {\"Year\": 2020, \"Sources\": \"TCO2E_CROP_MGT\", \"Quantity (Mt CO2e)\": 0.026035730378879247}, {\"Year\": 2020, \"Sources\": \"TCO2E_CULTIV\", \"Quantity (Mt CO2e)\": 0.8449332829309353}, {\"Year\": 2020, \"Sources\": \"TCO2E_DUNG_URINE\", \"Quantity (Mt CO2e)\": 4.406111900194177}, {\"Year\": 2020, \"Sources\": \"TCO2E_ELEC\", \"Quantity (Mt CO2e)\": 0.3178514147165704}, {\"Year\": 2020, \"Sources\": \"TCO2E_ENTERIC\", \"Quantity (Mt CO2e)\": 55.457752052977774}, {\"Year\": 2020, \"Sources\": \"TCO2E_FERT_PROD\", \"Quantity (Mt CO2e)\": 5.166525294309766}, {\"Year\": 2020, \"Sources\": \"TCO2E_FODDER\", \"Quantity (Mt CO2e)\": 1.4485926387464072}, {\"Year\": 2020, \"Sources\": \"TCO2E_FUEL\", \"Quantity (Mt CO2e)\": 5.591569691428317}, {\"Year\": 2020, \"Sources\": \"TCO2E_HARVEST\", \"Quantity (Mt CO2e)\": 0.35723487670532084}, {\"Year\": 2020, \"Sources\": \"TCO2E_IND_LEACH_RUNOFF\", \"Quantity (Mt CO2e)\": 2.6107697520702877}, {\"Year\": 2020, \"Sources\": \"TCO2E_IRRIG\", \"Quantity (Mt CO2e)\": 0.20700436821319654}, {\"Year\": 2020, \"Sources\": \"TCO2E_MANURE_MGT\", \"Quantity (Mt CO2e)\": 0.30989819726736434}, {\"Year\": 2020, \"Sources\": \"TCO2E_PEST_PROD\", \"Quantity (Mt CO2e)\": 2.3871918899944773}, {\"Year\": 2020, \"Sources\": \"TCO2E_SEED\", \"Quantity (Mt CO2e)\": 5.017947452215141}, {\"Year\": 2020, \"Sources\": \"TCO2E_SOIL\", \"Quantity (Mt CO2e)\": 2.7556170484042433}, {\"Year\": 2020, \"Sources\": \"TCO2E_SOWING\", \"Quantity (Mt CO2e)\": 0.9650720461592931}, {\"Year\": 2021, \"Sources\": \"TCO2E_CHEM_APPL\", \"Quantity (Mt CO2e)\": 1.8319319060050274}, {\"Year\": 2021, \"Sources\": \"TCO2E_CROP_MGT\", \"Quantity (Mt CO2e)\": 0.025709136319362478}, {\"Year\": 2021, \"Sources\": \"TCO2E_CULTIV\", \"Quantity (Mt CO2e)\": 0.8433356627762266}, {\"Year\": 2021, \"Sources\": \"TCO2E_DUNG_URINE\", \"Quantity (Mt CO2e)\": 4.391899403796908}, {\"Year\": 2021, \"Sources\": \"TCO2E_ELEC\", \"Quantity (Mt CO2e)\": 0.3080384289143011}, {\"Year\": 2021, \"Sources\": \"TCO2E_ENTERIC\", \"Quantity (Mt CO2e)\": 55.272236284798474}, {\"Year\": 2021, \"Sources\": \"TCO2E_FERT_PROD\", \"Quantity (Mt CO2e)\": 5.17851000746592}, {\"Year\": 2021, \"Sources\": \"TCO2E_FODDER\", \"Quantity (Mt CO2e)\": 1.4417614762982334}, {\"Year\": 2021, \"Sources\": \"TCO2E_FUEL\", \"Quantity (Mt CO2e)\": 5.572491909492468}, {\"Year\": 2021, \"Sources\": \"TCO2E_HARVEST\", \"Quantity (Mt CO2e)\": 0.35772817859159084}, {\"Year\": 2021, \"Sources\": \"TCO2E_IND_LEACH_RUNOFF\", \"Quantity (Mt CO2e)\": 2.6022282784102457}, {\"Year\": 2021, \"Sources\": \"TCO2E_IRRIG\", \"Quantity (Mt CO2e)\": 0.2080974133961815}, {\"Year\": 2021, \"Sources\": \"TCO2E_MANURE_MGT\", \"Quantity (Mt CO2e)\": 0.30516040854274035}, {\"Year\": 2021, \"Sources\": \"TCO2E_PEST_PROD\", \"Quantity (Mt CO2e)\": 2.3905612460513224}, {\"Year\": 2021, \"Sources\": \"TCO2E_SEED\", \"Quantity (Mt CO2e)\": 5.013904923482746}, {\"Year\": 2021, \"Sources\": \"TCO2E_SOIL\", \"Quantity (Mt CO2e)\": 2.8004126061453403}, {\"Year\": 2021, \"Sources\": \"TCO2E_SOWING\", \"Quantity (Mt CO2e)\": 0.9700450047621919}, {\"Year\": 2022, \"Sources\": \"TCO2E_CHEM_APPL\", \"Quantity (Mt CO2e)\": 1.8408107651372132}, {\"Year\": 2022, \"Sources\": \"TCO2E_CROP_MGT\", \"Quantity (Mt CO2e)\": 0.025725665236687924}, {\"Year\": 2022, \"Sources\": \"TCO2E_CULTIV\", \"Quantity (Mt CO2e)\": 0.845055715465464}, {\"Year\": 2022, \"Sources\": \"TCO2E_DUNG_URINE\", \"Quantity (Mt CO2e)\": 4.376339886697231}, {\"Year\": 2022, \"Sources\": \"TCO2E_ELEC\", \"Quantity (Mt CO2e)\": 0.3033663271686094}, {\"Year\": 2022, \"Sources\": \"TCO2E_ENTERIC\", \"Quantity (Mt CO2e)\": 55.098722315086995}, {\"Year\": 2022, \"Sources\": \"TCO2E_FERT_PROD\", \"Quantity (Mt CO2e)\": 5.205153801506773}, {\"Year\": 2022, \"Sources\": \"TCO2E_FODDER\", \"Quantity (Mt CO2e)\": 1.437365743080194}, {\"Year\": 2022, \"Sources\": \"TCO2E_FUEL\", \"Quantity (Mt CO2e)\": 5.560711799281182}, {\"Year\": 2022, \"Sources\": \"TCO2E_HARVEST\", \"Quantity (Mt CO2e)\": 0.35912286103733226}, {\"Year\": 2022, \"Sources\": \"TCO2E_IND_LEACH_RUNOFF\", \"Quantity (Mt CO2e)\": 2.591272933786333}, {\"Year\": 2022, \"Sources\": \"TCO2E_IRRIG\", \"Quantity (Mt CO2e)\": 0.21023814509757788}, {\"Year\": 2022, \"Sources\": \"TCO2E_MANURE_MGT\", \"Quantity (Mt CO2e)\": 0.3033490396501894}, {\"Year\": 2022, \"Sources\": \"TCO2E_PEST_PROD\", \"Quantity (Mt CO2e)\": 2.398872619896941}, {\"Year\": 2022, \"Sources\": \"TCO2E_SEED\", \"Quantity (Mt CO2e)\": 5.008816393644232}, {\"Year\": 2022, \"Sources\": \"TCO2E_SOIL\", \"Quantity (Mt CO2e)\": 2.8377278043016485}, {\"Year\": 2022, \"Sources\": \"TCO2E_SOWING\", \"Quantity (Mt CO2e)\": 0.9752320653719256}, {\"Year\": 2023, \"Sources\": \"TCO2E_CHEM_APPL\", \"Quantity (Mt CO2e)\": 1.846326853627943}, {\"Year\": 2023, \"Sources\": \"TCO2E_CROP_MGT\", \"Quantity (Mt CO2e)\": 0.02563811687918313}, {\"Year\": 2023, \"Sources\": \"TCO2E_CULTIV\", \"Quantity (Mt CO2e)\": 0.8510877108783899}, {\"Year\": 2023, \"Sources\": \"TCO2E_DUNG_URINE\", \"Quantity (Mt CO2e)\": 4.362050417934586}, {\"Year\": 2023, \"Sources\": \"TCO2E_ELEC\", \"Quantity (Mt CO2e)\": 0.3031818551048363}, {\"Year\": 2023, \"Sources\": \"TCO2E_ENTERIC\", \"Quantity (Mt CO2e)\": 54.89131531359651}, {\"Year\": 2023, \"Sources\": \"TCO2E_FERT_PROD\", \"Quantity (Mt CO2e)\": 5.234839226967262}, {\"Year\": 2023, \"Sources\": \"TCO2E_FODDER\", \"Quantity (Mt CO2e)\": 1.4307011281366027}, {\"Year\": 2023, \"Sources\": \"TCO2E_FUEL\", \"Quantity (Mt CO2e)\": 5.553937180806796}, {\"Year\": 2023, \"Sources\": \"TCO2E_HARVEST\", \"Quantity (Mt CO2e)\": 0.36018717773386233}, {\"Year\": 2023, \"Sources\": \"TCO2E_IND_LEACH_RUNOFF\", \"Quantity (Mt CO2e)\": 2.584895205034485}, {\"Year\": 2023, \"Sources\": \"TCO2E_IRRIG\", \"Quantity (Mt CO2e)\": 0.2189230909851574}, {\"Year\": 2023, \"Sources\": \"TCO2E_MANURE_MGT\", \"Quantity (Mt CO2e)\": 0.3016154412778613}, {\"Year\": 2023, \"Sources\": \"TCO2E_PEST_PROD\", \"Quantity (Mt CO2e)\": 2.4068464455848875}, {\"Year\": 2023, \"Sources\": \"TCO2E_SEED\", \"Quantity (Mt CO2e)\": 5.00639778551468}, {\"Year\": 2023, \"Sources\": \"TCO2E_SOIL\", \"Quantity (Mt CO2e)\": 2.905953448624585}, {\"Year\": 2023, \"Sources\": \"TCO2E_SOWING\", \"Quantity (Mt CO2e)\": 0.9794282464720185}, {\"Year\": 2024, \"Sources\": \"TCO2E_CHEM_APPL\", \"Quantity (Mt CO2e)\": 1.8531497529690943}, {\"Year\": 2024, \"Sources\": \"TCO2E_CROP_MGT\", \"Quantity (Mt CO2e)\": 0.025521591360490863}, {\"Year\": 2024, \"Sources\": \"TCO2E_CULTIV\", \"Quantity (Mt CO2e)\": 0.854646489488784}, {\"Year\": 2024, \"Sources\": \"TCO2E_DUNG_URINE\", \"Quantity (Mt CO2e)\": 4.347608262074923}, {\"Year\": 2024, \"Sources\": \"TCO2E_ELEC\", \"Quantity (Mt CO2e)\": 0.29492993208911533}, {\"Year\": 2024, \"Sources\": \"TCO2E_ENTERIC\", \"Quantity (Mt CO2e)\": 54.69768952272925}, {\"Year\": 2024, \"Sources\": \"TCO2E_FERT_PROD\", \"Quantity (Mt CO2e)\": 5.259283753100403}, {\"Year\": 2024, \"Sources\": \"TCO2E_FODDER\", \"Quantity (Mt CO2e)\": 1.422793981477137}, {\"Year\": 2024, \"Sources\": \"TCO2E_FUEL\", \"Quantity (Mt CO2e)\": 5.532435795711989}, {\"Year\": 2024, \"Sources\": \"TCO2E_HARVEST\", \"Quantity (Mt CO2e)\": 0.3621457467457022}, {\"Year\": 2024, \"Sources\": \"TCO2E_IND_LEACH_RUNOFF\", \"Quantity (Mt CO2e)\": 2.5764496443907987}, {\"Year\": 2024, \"Sources\": \"TCO2E_IRRIG\", \"Quantity (Mt CO2e)\": 0.2253273298121927}, {\"Year\": 2024, \"Sources\": \"TCO2E_MANURE_MGT\", \"Quantity (Mt CO2e)\": 0.2978425827628247}, {\"Year\": 2024, \"Sources\": \"TCO2E_PEST_PROD\", \"Quantity (Mt CO2e)\": 2.4182274063414373}, {\"Year\": 2024, \"Sources\": \"TCO2E_SEED\", \"Quantity (Mt CO2e)\": 5.002058337376058}, {\"Year\": 2024, \"Sources\": \"TCO2E_SOIL\", \"Quantity (Mt CO2e)\": 2.951827316355104}, {\"Year\": 2024, \"Sources\": \"TCO2E_SOWING\", \"Quantity (Mt CO2e)\": 0.9845199489760625}, {\"Year\": 2025, \"Sources\": \"TCO2E_CHEM_APPL\", \"Quantity (Mt CO2e)\": 1.8636457863812603}, {\"Year\": 2025, \"Sources\": \"TCO2E_CROP_MGT\", \"Quantity (Mt CO2e)\": 0.02540180783558056}, {\"Year\": 2025, \"Sources\": \"TCO2E_CULTIV\", \"Quantity (Mt CO2e)\": 0.8616404859238274}, {\"Year\": 2025, \"Sources\": \"TCO2E_DUNG_URINE\", \"Quantity (Mt CO2e)\": 4.331871655957972}, {\"Year\": 2025, \"Sources\": \"TCO2E_ELEC\", \"Quantity (Mt CO2e)\": 0.28963416189017277}, {\"Year\": 2025, \"Sources\": \"TCO2E_ENTERIC\", \"Quantity (Mt CO2e)\": 54.49041194995009}, {\"Year\": 2025, \"Sources\": \"TCO2E_FERT_PROD\", \"Quantity (Mt CO2e)\": 5.275032072585154}, {\"Year\": 2025, \"Sources\": \"TCO2E_FODDER\", \"Quantity (Mt CO2e)\": 1.4162416933290936}, {\"Year\": 2025, \"Sources\": \"TCO2E_FUEL\", \"Quantity (Mt CO2e)\": 5.5250113018181946}, {\"Year\": 2025, \"Sources\": \"TCO2E_HARVEST\", \"Quantity (Mt CO2e)\": 0.37097088768484965}, {\"Year\": 2025, \"Sources\": \"TCO2E_IND_LEACH_RUNOFF\", \"Quantity (Mt CO2e)\": 2.5688427806659084}, {\"Year\": 2025, \"Sources\": \"TCO2E_IRRIG\", \"Quantity (Mt CO2e)\": 0.22624347995266592}, {\"Year\": 2025, \"Sources\": \"TCO2E_MANURE_MGT\", \"Quantity (Mt CO2e)\": 0.29539957308924314}, {\"Year\": 2025, \"Sources\": \"TCO2E_PEST_PROD\", \"Quantity (Mt CO2e)\": 2.4481999891962682}, {\"Year\": 2025, \"Sources\": \"TCO2E_SEED\", \"Quantity (Mt CO2e)\": 4.976388491104858}, {\"Year\": 2025, \"Sources\": \"TCO2E_SOIL\", \"Quantity (Mt CO2e)\": 2.9627507103477515}, {\"Year\": 2025, \"Sources\": \"TCO2E_SOWING\", \"Quantity (Mt CO2e)\": 0.9878010718981693}, {\"Year\": 2026, \"Sources\": \"TCO2E_CHEM_APPL\", \"Quantity (Mt CO2e)\": 1.8718267711172243}, {\"Year\": 2026, \"Sources\": \"TCO2E_CROP_MGT\", \"Quantity (Mt CO2e)\": 0.0251491054260466}, {\"Year\": 2026, \"Sources\": \"TCO2E_CULTIV\", \"Quantity (Mt CO2e)\": 0.8635259244267994}, {\"Year\": 2026, \"Sources\": \"TCO2E_DUNG_URINE\", \"Quantity (Mt CO2e)\": 4.318613648265709}, {\"Year\": 2026, \"Sources\": \"TCO2E_ELEC\", \"Quantity (Mt CO2e)\": 0.28093592990379257}, {\"Year\": 2026, \"Sources\": \"TCO2E_ENTERIC\", \"Quantity (Mt CO2e)\": 54.307671983801605}, {\"Year\": 2026, \"Sources\": \"TCO2E_FERT_PROD\", \"Quantity (Mt CO2e)\": 5.299172679046369}, {\"Year\": 2026, \"Sources\": \"TCO2E_FODDER\", \"Quantity (Mt CO2e)\": 1.4076542900270335}, {\"Year\": 2026, \"Sources\": \"TCO2E_FUEL\", \"Quantity (Mt CO2e)\": 5.500076546669923}, {\"Year\": 2026, \"Sources\": \"TCO2E_HARVEST\", \"Quantity (Mt CO2e)\": 0.37479027187051606}, {\"Year\": 2026, \"Sources\": \"TCO2E_IND_LEACH_RUNOFF\", \"Quantity (Mt CO2e)\": 2.561206858738493}, {\"Year\": 2026, \"Sources\": \"TCO2E_IRRIG\", \"Quantity (Mt CO2e)\": 0.2260793020860816}, {\"Year\": 2026, \"Sources\": \"TCO2E_MANURE_MGT\", \"Quantity (Mt CO2e)\": 0.29101979279542317}, {\"Year\": 2026, \"Sources\": \"TCO2E_PEST_PROD\", \"Quantity (Mt CO2e)\": 2.466754606085629}, {\"Year\": 2026, \"Sources\": \"TCO2E_SEED\", \"Quantity (Mt CO2e)\": 4.967056540454635}, {\"Year\": 2026, \"Sources\": \"TCO2E_SOIL\", \"Quantity (Mt CO2e)\": 2.9755724946867566}, {\"Year\": 2026, \"Sources\": \"TCO2E_SOWING\", \"Quantity (Mt CO2e)\": 0.9930476944647136}, {\"Year\": 2027, \"Sources\": \"TCO2E_CHEM_APPL\", \"Quantity (Mt CO2e)\": 1.8783208789143557}, {\"Year\": 2027, \"Sources\": \"TCO2E_CROP_MGT\", \"Quantity (Mt CO2e)\": 0.025071827721786916}, {\"Year\": 2027, \"Sources\": \"TCO2E_CULTIV\", \"Quantity (Mt CO2e)\": 0.8631904384604271}, {\"Year\": 2027, \"Sources\": \"TCO2E_DUNG_URINE\", \"Quantity (Mt CO2e)\": 4.306856846643474}, {\"Year\": 2027, \"Sources\": \"TCO2E_ELEC\", \"Quantity (Mt CO2e)\": 0.2869982312088642}, {\"Year\": 2027, \"Sources\": \"TCO2E_ENTERIC\", \"Quantity (Mt CO2e)\": 54.10198563225934}, {\"Year\": 2027, \"Sources\": \"TCO2E_FERT_PROD\", \"Quantity (Mt CO2e)\": 5.329240906758524}, {\"Year\": 2027, \"Sources\": \"TCO2E_FODDER\", \"Quantity (Mt CO2e)\": 1.4001068319416086}, {\"Year\": 2027, \"Sources\": \"TCO2E_FUEL\", \"Quantity (Mt CO2e)\": 5.486567290225198}, {\"Year\": 2027, \"Sources\": \"TCO2E_HARVEST\", \"Quantity (Mt CO2e)\": 0.3757384293018059}, {\"Year\": 2027, \"Sources\": \"TCO2E_IND_LEACH_RUNOFF\", \"Quantity (Mt CO2e)\": 2.557091054939612}, {\"Year\": 2027, \"Sources\": \"TCO2E_IRRIG\", \"Quantity (Mt CO2e)\": 0.2281186336379603}, {\"Year\": 2027, \"Sources\": \"TCO2E_MANURE_MGT\", \"Quantity (Mt CO2e)\": 0.28845809088255137}, {\"Year\": 2027, \"Sources\": \"TCO2E_PEST_PROD\", \"Quantity (Mt CO2e)\": 2.4775715336642596}, {\"Year\": 2027, \"Sources\": \"TCO2E_SEED\", \"Quantity (Mt CO2e)\": 4.965335149278163}, {\"Year\": 2027, \"Sources\": \"TCO2E_SOIL\", \"Quantity (Mt CO2e)\": 3.0150324780134605}, {\"Year\": 2027, \"Sources\": \"TCO2E_SOWING\", \"Quantity (Mt CO2e)\": 0.9987400382657561}, {\"Year\": 2028, \"Sources\": \"TCO2E_CHEM_APPL\", \"Quantity (Mt CO2e)\": 1.8845135997320455}, {\"Year\": 2028, \"Sources\": \"TCO2E_CROP_MGT\", \"Quantity (Mt CO2e)\": 0.02503355389941847}, {\"Year\": 2028, \"Sources\": \"TCO2E_CULTIV\", \"Quantity (Mt CO2e)\": 0.8664726870520667}, {\"Year\": 2028, \"Sources\": \"TCO2E_DUNG_URINE\", \"Quantity (Mt CO2e)\": 4.296552111495929}, {\"Year\": 2028, \"Sources\": \"TCO2E_ELEC\", \"Quantity (Mt CO2e)\": 0.2834758955716372}, {\"Year\": 2028, \"Sources\": \"TCO2E_ENTERIC\", \"Quantity (Mt CO2e)\": 53.96050494453201}, {\"Year\": 2028, \"Sources\": \"TCO2E_FERT_PROD\", \"Quantity (Mt CO2e)\": 5.356485695648769}, {\"Year\": 2028, \"Sources\": \"TCO2E_FODDER\", \"Quantity (Mt CO2e)\": 1.3946483432094794}, {\"Year\": 2028, \"Sources\": \"TCO2E_FUEL\", \"Quantity (Mt CO2e)\": 5.482092442877114}, {\"Year\": 2028, \"Sources\": \"TCO2E_HARVEST\", \"Quantity (Mt CO2e)\": 0.37618945560386013}, {\"Year\": 2028, \"Sources\": \"TCO2E_IND_LEACH_RUNOFF\", \"Quantity (Mt CO2e)\": 2.5515465787283214}, {\"Year\": 2028, \"Sources\": \"TCO2E_IRRIG\", \"Quantity (Mt CO2e)\": 0.23000719056556368}, {\"Year\": 2028, \"Sources\": \"TCO2E_MANURE_MGT\", \"Quantity (Mt CO2e)\": 0.28735014851973867}, {\"Year\": 2028, \"Sources\": \"TCO2E_PEST_PROD\", \"Quantity (Mt CO2e)\": 2.484730513592924}, {\"Year\": 2028, \"Sources\": \"TCO2E_SEED\", \"Quantity (Mt CO2e)\": 4.965218663976796}, {\"Year\": 2028, \"Sources\": \"TCO2E_SOIL\", \"Quantity (Mt CO2e)\": 3.0417620753001615}, {\"Year\": 2028, \"Sources\": \"TCO2E_SOWING\", \"Quantity (Mt CO2e)\": 1.0036885407688223}, {\"Year\": 2029, \"Sources\": \"TCO2E_CHEM_APPL\", \"Quantity (Mt CO2e)\": 1.8917462126565716}, {\"Year\": 2029, \"Sources\": \"TCO2E_CROP_MGT\", \"Quantity (Mt CO2e)\": 0.02480680401347908}, {\"Year\": 2029, \"Sources\": \"TCO2E_CULTIV\", \"Quantity (Mt CO2e)\": 0.8621759532138566}, {\"Year\": 2029, \"Sources\": \"TCO2E_DUNG_URINE\", \"Quantity (Mt CO2e)\": 4.284066423402378}, {\"Year\": 2029, \"Sources\": \"TCO2E_ELEC\", \"Quantity (Mt CO2e)\": 0.2775821081996643}, {\"Year\": 2029, \"Sources\": \"TCO2E_ENTERIC\", \"Quantity (Mt CO2e)\": 53.770337755645116}, {\"Year\": 2029, \"Sources\": \"TCO2E_FERT_PROD\", \"Quantity (Mt CO2e)\": 5.375331190299021}, {\"Year\": 2029, \"Sources\": \"TCO2E_FODDER\", \"Quantity (Mt CO2e)\": 1.3871397678014994}, {\"Year\": 2029, \"Sources\": \"TCO2E_FUEL\", \"Quantity (Mt CO2e)\": 5.469876303276966}, {\"Year\": 2029, \"Sources\": \"TCO2E_HARVEST\", \"Quantity (Mt CO2e)\": 0.3780631823643689}, {\"Year\": 2029, \"Sources\": \"TCO2E_IND_LEACH_RUNOFF\", \"Quantity (Mt CO2e)\": 2.5459813397868727}, {\"Year\": 2029, \"Sources\": \"TCO2E_IRRIG\", \"Quantity (Mt CO2e)\": 0.23009008072193338}, {\"Year\": 2029, \"Sources\": \"TCO2E_MANURE_MGT\", \"Quantity (Mt CO2e)\": 0.28378980010013216}, {\"Year\": 2029, \"Sources\": \"TCO2E_PEST_PROD\", \"Quantity (Mt CO2e)\": 2.4941083896176353}, {\"Year\": 2029, \"Sources\": \"TCO2E_SEED\", \"Quantity (Mt CO2e)\": 4.961498366778958}, {\"Year\": 2029, \"Sources\": \"TCO2E_SOIL\", \"Quantity (Mt CO2e)\": 3.0555482113363963}, {\"Year\": 2029, \"Sources\": \"TCO2E_SOWING\", \"Quantity (Mt CO2e)\": 1.0095143043778894}, {\"Year\": 2030, \"Sources\": \"TCO2E_CHEM_APPL\", \"Quantity (Mt CO2e)\": 1.9012149593598864}, {\"Year\": 2030, \"Sources\": \"TCO2E_CROP_MGT\", \"Quantity (Mt CO2e)\": 0.024804711787285785}, {\"Year\": 2030, \"Sources\": \"TCO2E_CULTIV\", \"Quantity (Mt CO2e)\": 0.865937610928569}, {\"Year\": 2030, \"Sources\": \"TCO2E_DUNG_URINE\", \"Quantity (Mt CO2e)\": 4.274391963031587}, {\"Year\": 2030, \"Sources\": \"TCO2E_ELEC\", \"Quantity (Mt CO2e)\": 0.27640951605523784}, {\"Year\": 2030, \"Sources\": \"TCO2E_ENTERIC\", \"Quantity (Mt CO2e)\": 53.64350507942755}, {\"Year\": 2030, \"Sources\": \"TCO2E_FERT_PROD\", \"Quantity (Mt CO2e)\": 5.406157662007444}, {\"Year\": 2030, \"Sources\": \"TCO2E_FODDER\", \"Quantity (Mt CO2e)\": 1.3864641702056713}, {\"Year\": 2030, \"Sources\": \"TCO2E_FUEL\", \"Quantity (Mt CO2e)\": 5.473355677825554}, {\"Year\": 2030, \"Sources\": \"TCO2E_HARVEST\", \"Quantity (Mt CO2e)\": 0.3798540836487152}, {\"Year\": 2030, \"Sources\": \"TCO2E_IND_LEACH_RUNOFF\", \"Quantity (Mt CO2e)\": 2.5414877580932487}, {\"Year\": 2030, \"Sources\": \"TCO2E_IRRIG\", \"Quantity (Mt CO2e)\": 0.2297990124601388}, {\"Year\": 2030, \"Sources\": \"TCO2E_MANURE_MGT\", \"Quantity (Mt CO2e)\": 0.28284724296455693}, {\"Year\": 2030, \"Sources\": \"TCO2E_PEST_PROD\", \"Quantity (Mt CO2e)\": 2.506176216087806}, {\"Year\": 2030, \"Sources\": \"TCO2E_SEED\", \"Quantity (Mt CO2e)\": 4.9535056723172906}, {\"Year\": 2030, \"Sources\": \"TCO2E_SOIL\", \"Quantity (Mt CO2e)\": 3.0690508939317094}, {\"Year\": 2030, \"Sources\": \"TCO2E_SOWING\", \"Quantity (Mt CO2e)\": 1.0158068963240647}, {\"Year\": 2031, \"Sources\": \"TCO2E_CHEM_APPL\", \"Quantity (Mt CO2e)\": 1.9089634894555385}, {\"Year\": 2031, \"Sources\": \"TCO2E_CROP_MGT\", \"Quantity (Mt CO2e)\": 0.024860676112647327}, {\"Year\": 2031, \"Sources\": \"TCO2E_CULTIV\", \"Quantity (Mt CO2e)\": 0.8674623125822128}, {\"Year\": 2031, \"Sources\": \"TCO2E_DUNG_URINE\", \"Quantity (Mt CO2e)\": 4.261841291205846}, {\"Year\": 2031, \"Sources\": \"TCO2E_ELEC\", \"Quantity (Mt CO2e)\": 0.27264961467423265}, {\"Year\": 2031, \"Sources\": \"TCO2E_ENTERIC\", \"Quantity (Mt CO2e)\": 53.483845406961485}, {\"Year\": 2031, \"Sources\": \"TCO2E_FERT_PROD\", \"Quantity (Mt CO2e)\": 5.43675316030175}, {\"Year\": 2031, \"Sources\": \"TCO2E_FODDER\", \"Quantity (Mt CO2e)\": 1.3808382585424217}, {\"Year\": 2031, \"Sources\": \"TCO2E_FUEL\", \"Quantity (Mt CO2e)\": 5.474829235630185}, {\"Year\": 2031, \"Sources\": \"TCO2E_HARVEST\", \"Quantity (Mt CO2e)\": 0.3821973390857096}, {\"Year\": 2031, \"Sources\": \"TCO2E_IND_LEACH_RUNOFF\", \"Quantity (Mt CO2e)\": 2.5353205238895846}, {\"Year\": 2031, \"Sources\": \"TCO2E_IRRIG\", \"Quantity (Mt CO2e)\": 0.22937290269934896}, {\"Year\": 2031, \"Sources\": \"TCO2E_MANURE_MGT\", \"Quantity (Mt CO2e)\": 0.2816867317642899}, {\"Year\": 2031, \"Sources\": \"TCO2E_PEST_PROD\", \"Quantity (Mt CO2e)\": 2.5235376117174697}, {\"Year\": 2031, \"Sources\": \"TCO2E_SEED\", \"Quantity (Mt CO2e)\": 4.929634935660576}, {\"Year\": 2031, \"Sources\": \"TCO2E_SOIL\", \"Quantity (Mt CO2e)\": 3.0849069127156383}, {\"Year\": 2031, \"Sources\": \"TCO2E_SOWING\", \"Quantity (Mt CO2e)\": 1.0215962958696942}, {\"Year\": 2032, \"Sources\": \"TCO2E_CHEM_APPL\", \"Quantity (Mt CO2e)\": 1.912964967184646}, {\"Year\": 2032, \"Sources\": \"TCO2E_CROP_MGT\", \"Quantity (Mt CO2e)\": 0.024779063912406286}, {\"Year\": 2032, \"Sources\": \"TCO2E_CULTIV\", \"Quantity (Mt CO2e)\": 0.8672347276082353}, {\"Year\": 2032, \"Sources\": \"TCO2E_DUNG_URINE\", \"Quantity (Mt CO2e)\": 4.251235573737524}, {\"Year\": 2032, \"Sources\": \"TCO2E_ELEC\", \"Quantity (Mt CO2e)\": 0.272426684643996}, {\"Year\": 2032, \"Sources\": \"TCO2E_ENTERIC\", \"Quantity (Mt CO2e)\": 53.38124521488219}, {\"Year\": 2032, \"Sources\": \"TCO2E_FERT_PROD\", \"Quantity (Mt CO2e)\": 5.450624599540778}, {\"Year\": 2032, \"Sources\": \"TCO2E_FODDER\", \"Quantity (Mt CO2e)\": 1.3746749488995504}, {\"Year\": 2032, \"Sources\": \"TCO2E_FUEL\", \"Quantity (Mt CO2e)\": 5.478547275587687}, {\"Year\": 2032, \"Sources\": \"TCO2E_HARVEST\", \"Quantity (Mt CO2e)\": 0.38332411829629354}, {\"Year\": 2032, \"Sources\": \"TCO2E_IND_LEACH_RUNOFF\", \"Quantity (Mt CO2e)\": 2.5245183391420065}, {\"Year\": 2032, \"Sources\": \"TCO2E_IRRIG\", \"Quantity (Mt CO2e)\": 0.22897673263093238}, {\"Year\": 2032, \"Sources\": \"TCO2E_MANURE_MGT\", \"Quantity (Mt CO2e)\": 0.2797384593880444}, {\"Year\": 2032, \"Sources\": \"TCO2E_PEST_PROD\", \"Quantity (Mt CO2e)\": 2.530288740272827}, {\"Year\": 2032, \"Sources\": \"TCO2E_SEED\", \"Quantity (Mt CO2e)\": 4.922299668017024}, {\"Year\": 2032, \"Sources\": \"TCO2E_SOIL\", \"Quantity (Mt CO2e)\": 3.0909304180743398}, {\"Year\": 2032, \"Sources\": \"TCO2E_SOWING\", \"Quantity (Mt CO2e)\": 1.0246105887855634}, {\"Year\": 2033, \"Sources\": \"TCO2E_CHEM_APPL\", \"Quantity (Mt CO2e)\": 1.9177442984982753}, {\"Year\": 2033, \"Sources\": \"TCO2E_CROP_MGT\", \"Quantity (Mt CO2e)\": 0.02470185786072114}, {\"Year\": 2033, \"Sources\": \"TCO2E_CULTIV\", \"Quantity (Mt CO2e)\": 0.8679897919934336}, {\"Year\": 2033, \"Sources\": \"TCO2E_DUNG_URINE\", \"Quantity (Mt CO2e)\": 4.241310864999177}, {\"Year\": 2033, \"Sources\": \"TCO2E_ELEC\", \"Quantity (Mt CO2e)\": 0.2732753286304209}, {\"Year\": 2033, \"Sources\": \"TCO2E_ENTERIC\", \"Quantity (Mt CO2e)\": 53.26787385582723}, {\"Year\": 2033, \"Sources\": \"TCO2E_FERT_PROD\", \"Quantity (Mt CO2e)\": 5.464047860846619}, {\"Year\": 2033, \"Sources\": \"TCO2E_FODDER\", \"Quantity (Mt CO2e)\": 1.370760717060335}, {\"Year\": 2033, \"Sources\": \"TCO2E_FUEL\", \"Quantity (Mt CO2e)\": 5.486212533104763}, {\"Year\": 2033, \"Sources\": \"TCO2E_HARVEST\", \"Quantity (Mt CO2e)\": 0.38474337507021034}, {\"Year\": 2033, \"Sources\": \"TCO2E_IND_LEACH_RUNOFF\", \"Quantity (Mt CO2e)\": 2.5149569017471487}, {\"Year\": 2033, \"Sources\": \"TCO2E_IRRIG\", \"Quantity (Mt CO2e)\": 0.22795348759848805}, {\"Year\": 2033, \"Sources\": \"TCO2E_MANURE_MGT\", \"Quantity (Mt CO2e)\": 0.2794922749893742}, {\"Year\": 2033, \"Sources\": \"TCO2E_PEST_PROD\", \"Quantity (Mt CO2e)\": 2.5389179567754567}, {\"Year\": 2033, \"Sources\": \"TCO2E_SEED\", \"Quantity (Mt CO2e)\": 4.923928169609014}, {\"Year\": 2033, \"Sources\": \"TCO2E_SOIL\", \"Quantity (Mt CO2e)\": 3.0997476845689578}, {\"Year\": 2033, \"Sources\": \"TCO2E_SOWING\", \"Quantity (Mt CO2e)\": 1.0280835007187055}, {\"Year\": 2034, \"Sources\": \"TCO2E_CHEM_APPL\", \"Quantity (Mt CO2e)\": 1.92245610968673}, {\"Year\": 2034, \"Sources\": \"TCO2E_CROP_MGT\", \"Quantity (Mt CO2e)\": 0.024441109283211887}, {\"Year\": 2034, \"Sources\": \"TCO2E_CULTIV\", \"Quantity (Mt CO2e)\": 0.8687939695640777}, {\"Year\": 2034, \"Sources\": \"TCO2E_DUNG_URINE\", \"Quantity (Mt CO2e)\": 4.2339518081120255}, {\"Year\": 2034, \"Sources\": \"TCO2E_ELEC\", \"Quantity (Mt CO2e)\": 0.2739004204092127}, {\"Year\": 2034, \"Sources\": \"TCO2E_ENTERIC\", \"Quantity (Mt CO2e)\": 53.20700902647452}, {\"Year\": 2034, \"Sources\": \"TCO2E_FERT_PROD\", \"Quantity (Mt CO2e)\": 5.471054212615085}, {\"Year\": 2034, \"Sources\": \"TCO2E_FODDER\", \"Quantity (Mt CO2e)\": 1.3670914150953926}, {\"Year\": 2034, \"Sources\": \"TCO2E_FUEL\", \"Quantity (Mt CO2e)\": 5.494974530578768}, {\"Year\": 2034, \"Sources\": \"TCO2E_HARVEST\", \"Quantity (Mt CO2e)\": 0.38576316692264234}, {\"Year\": 2034, \"Sources\": \"TCO2E_IND_LEACH_RUNOFF\", \"Quantity (Mt CO2e)\": 2.505029767738457}, {\"Year\": 2034, \"Sources\": \"TCO2E_IRRIG\", \"Quantity (Mt CO2e)\": 0.22826447934086447}, {\"Year\": 2034, \"Sources\": \"TCO2E_MANURE_MGT\", \"Quantity (Mt CO2e)\": 0.2780108821361015}, {\"Year\": 2034, \"Sources\": \"TCO2E_PEST_PROD\", \"Quantity (Mt CO2e)\": 2.5441449331220527}, {\"Year\": 2034, \"Sources\": \"TCO2E_SEED\", \"Quantity (Mt CO2e)\": 4.92814252241818}, {\"Year\": 2034, \"Sources\": \"TCO2E_SOIL\", \"Quantity (Mt CO2e)\": 3.109044941042502}, {\"Year\": 2034, \"Sources\": \"TCO2E_SOWING\", \"Quantity (Mt CO2e)\": 1.0315350537554842}, {\"Year\": 2035, \"Sources\": \"TCO2E_CHEM_APPL\", \"Quantity (Mt CO2e)\": 1.9247584469230035}, {\"Year\": 2035, \"Sources\": \"TCO2E_CROP_MGT\", \"Quantity (Mt CO2e)\": 0.024407444891236765}, {\"Year\": 2035, \"Sources\": \"TCO2E_CULTIV\", \"Quantity (Mt CO2e)\": 0.8632269782187545}, {\"Year\": 2035, \"Sources\": \"TCO2E_DUNG_URINE\", \"Quantity (Mt CO2e)\": 4.219863013430898}, {\"Year\": 2035, \"Sources\": \"TCO2E_ELEC\", \"Quantity (Mt CO2e)\": 0.27181960478052986}, {\"Year\": 2035, \"Sources\": \"TCO2E_ENTERIC\", \"Quantity (Mt CO2e)\": 53.023770975369885}, {\"Year\": 2035, \"Sources\": \"TCO2E_FERT_PROD\", \"Quantity (Mt CO2e)\": 5.468093905487947}, {\"Year\": 2035, \"Sources\": \"TCO2E_FODDER\", \"Quantity (Mt CO2e)\": 1.3592339176584862}, {\"Year\": 2035, \"Sources\": \"TCO2E_FUEL\", \"Quantity (Mt CO2e)\": 5.496387096728365}, {\"Year\": 2035, \"Sources\": \"TCO2E_HARVEST\", \"Quantity (Mt CO2e)\": 0.3866594401371754}, {\"Year\": 2035, \"Sources\": \"TCO2E_IND_LEACH_RUNOFF\", \"Quantity (Mt CO2e)\": 2.4966078131421594}, {\"Year\": 2035, \"Sources\": \"TCO2E_IRRIG\", \"Quantity (Mt CO2e)\": 0.22698275715415936}, {\"Year\": 2035, \"Sources\": \"TCO2E_MANURE_MGT\", \"Quantity (Mt CO2e)\": 0.27599994536336764}, {\"Year\": 2035, \"Sources\": \"TCO2E_PEST_PROD\", \"Quantity (Mt CO2e)\": 2.542295720752386}, {\"Year\": 2035, \"Sources\": \"TCO2E_SEED\", \"Quantity (Mt CO2e)\": 4.920275637969691}, {\"Year\": 2035, \"Sources\": \"TCO2E_SOIL\", \"Quantity (Mt CO2e)\": 3.116338901718263}, {\"Year\": 2035, \"Sources\": \"TCO2E_SOWING\", \"Quantity (Mt CO2e)\": 1.0328649696582444}, {\"Year\": 2036, \"Sources\": \"TCO2E_CHEM_APPL\", \"Quantity (Mt CO2e)\": 1.922465477275347}, {\"Year\": 2036, \"Sources\": \"TCO2E_CROP_MGT\", \"Quantity (Mt CO2e)\": 0.024310034522762078}, {\"Year\": 2036, \"Sources\": \"TCO2E_CULTIV\", \"Quantity (Mt CO2e)\": 0.8624154989505312}, {\"Year\": 2036, \"Sources\": \"TCO2E_DUNG_URINE\", \"Quantity (Mt CO2e)\": 4.20035670768782}, {\"Year\": 2036, \"Sources\": \"TCO2E_ELEC\", \"Quantity (Mt CO2e)\": 0.268666828783631}, {\"Year\": 2036, \"Sources\": \"TCO2E_ENTERIC\", \"Quantity (Mt CO2e)\": 52.79502399388769}, {\"Year\": 2036, \"Sources\": \"TCO2E_FERT_PROD\", \"Quantity (Mt CO2e)\": 5.46929266590065}, {\"Year\": 2036, \"Sources\": \"TCO2E_FODDER\", \"Quantity (Mt CO2e)\": 1.3502148578259452}, {\"Year\": 2036, \"Sources\": \"TCO2E_FUEL\", \"Quantity (Mt CO2e)\": 5.489517806099567}, {\"Year\": 2036, \"Sources\": \"TCO2E_HARVEST\", \"Quantity (Mt CO2e)\": 0.3868958903001352}, {\"Year\": 2036, \"Sources\": \"TCO2E_IND_LEACH_RUNOFF\", \"Quantity (Mt CO2e)\": 2.4852408444972394}, {\"Year\": 2036, \"Sources\": \"TCO2E_IRRIG\", \"Quantity (Mt CO2e)\": 0.22718293626360173}, {\"Year\": 2036, \"Sources\": \"TCO2E_MANURE_MGT\", \"Quantity (Mt CO2e)\": 0.2738668104135692}, {\"Year\": 2036, \"Sources\": \"TCO2E_PEST_PROD\", \"Quantity (Mt CO2e)\": 2.5376690869405265}, {\"Year\": 2036, \"Sources\": \"TCO2E_SEED\", \"Quantity (Mt CO2e)\": 4.906882969130865}, {\"Year\": 2036, \"Sources\": \"TCO2E_SOIL\", \"Quantity (Mt CO2e)\": 3.115075246263945}, {\"Year\": 2036, \"Sources\": \"TCO2E_SOWING\", \"Quantity (Mt CO2e)\": 1.031738534554312}, {\"Year\": 2037, \"Sources\": \"TCO2E_CHEM_APPL\", \"Quantity (Mt CO2e)\": 1.9247134978673481}, {\"Year\": 2037, \"Sources\": \"TCO2E_CROP_MGT\", \"Quantity (Mt CO2e)\": 0.024281209153451316}, {\"Year\": 2037, \"Sources\": \"TCO2E_CULTIV\", \"Quantity (Mt CO2e)\": 0.858836307958263}, {\"Year\": 2037, \"Sources\": \"TCO2E_DUNG_URINE\", \"Quantity (Mt CO2e)\": 4.181969679013365}, {\"Year\": 2037, \"Sources\": \"TCO2E_ELEC\", \"Quantity (Mt CO2e)\": 0.2735427832537797}, {\"Year\": 2037, \"Sources\": \"TCO2E_ENTERIC\", \"Quantity (Mt CO2e)\": 52.57778389274345}, {\"Year\": 2037, \"Sources\": \"TCO2E_FERT_PROD\", \"Quantity (Mt CO2e)\": 5.474099086618015}, {\"Year\": 2037, \"Sources\": \"TCO2E_FODDER\", \"Quantity (Mt CO2e)\": 1.3427102576379122}, {\"Year\": 2037, \"Sources\": \"TCO2E_FUEL\", \"Quantity (Mt CO2e)\": 5.486731966222203}, {\"Year\": 2037, \"Sources\": \"TCO2E_HARVEST\", \"Quantity (Mt CO2e)\": 0.3879430374068458}, {\"Year\": 2037, \"Sources\": \"TCO2E_IND_LEACH_RUNOFF\", \"Quantity (Mt CO2e)\": 2.4743067122544553}, {\"Year\": 2037, \"Sources\": \"TCO2E_IRRIG\", \"Quantity (Mt CO2e)\": 0.22590222014931777}, {\"Year\": 2037, \"Sources\": \"TCO2E_MANURE_MGT\", \"Quantity (Mt CO2e)\": 0.2728905094456441}, {\"Year\": 2037, \"Sources\": \"TCO2E_PEST_PROD\", \"Quantity (Mt CO2e)\": 2.5387880979408886}, {\"Year\": 2037, \"Sources\": \"TCO2E_SEED\", \"Quantity (Mt CO2e)\": 4.893967100588323}, {\"Year\": 2037, \"Sources\": \"TCO2E_SOIL\", \"Quantity (Mt CO2e)\": 3.1140802241820422}, {\"Year\": 2037, \"Sources\": \"TCO2E_SOWING\", \"Quantity (Mt CO2e)\": 1.0334226875197812}, {\"Year\": 2038, \"Sources\": \"TCO2E_CHEM_APPL\", \"Quantity (Mt CO2e)\": 1.9250017957808565}, {\"Year\": 2038, \"Sources\": \"TCO2E_CROP_MGT\", \"Quantity (Mt CO2e)\": 0.02426818682063126}, {\"Year\": 2038, \"Sources\": \"TCO2E_CULTIV\", \"Quantity (Mt CO2e)\": 0.858014561038964}, {\"Year\": 2038, \"Sources\": \"TCO2E_DUNG_URINE\", \"Quantity (Mt CO2e)\": 4.16348824154154}, {\"Year\": 2038, \"Sources\": \"TCO2E_ELEC\", \"Quantity (Mt CO2e)\": 0.27278789057585917}, {\"Year\": 2038, \"Sources\": \"TCO2E_ENTERIC\", \"Quantity (Mt CO2e)\": 52.35619985028212}, {\"Year\": 2038, \"Sources\": \"TCO2E_FERT_PROD\", \"Quantity (Mt CO2e)\": 5.486053719101217}, {\"Year\": 2038, \"Sources\": \"TCO2E_FODDER\", \"Quantity (Mt CO2e)\": 1.3340476451098329}, {\"Year\": 2038, \"Sources\": \"TCO2E_FUEL\", \"Quantity (Mt CO2e)\": 5.477992602520398}, {\"Year\": 2038, \"Sources\": \"TCO2E_HARVEST\", \"Quantity (Mt CO2e)\": 0.38886617565703685}, {\"Year\": 2038, \"Sources\": \"TCO2E_IND_LEACH_RUNOFF\", \"Quantity (Mt CO2e)\": 2.463042037619604}, {\"Year\": 2038, \"Sources\": \"TCO2E_IRRIG\", \"Quantity (Mt CO2e)\": 0.22454840321008962}, {\"Year\": 2038, \"Sources\": \"TCO2E_MANURE_MGT\", \"Quantity (Mt CO2e)\": 0.27139663650919055}, {\"Year\": 2038, \"Sources\": \"TCO2E_PEST_PROD\", \"Quantity (Mt CO2e)\": 2.541216977040667}, {\"Year\": 2038, \"Sources\": \"TCO2E_SEED\", \"Quantity (Mt CO2e)\": 4.886436021364487}, {\"Year\": 2038, \"Sources\": \"TCO2E_SOIL\", \"Quantity (Mt CO2e)\": 3.113429564272629}, {\"Year\": 2038, \"Sources\": \"TCO2E_SOWING\", \"Quantity (Mt CO2e)\": 1.0344053336282344}, {\"Year\": 2039, \"Sources\": \"TCO2E_CHEM_APPL\", \"Quantity (Mt CO2e)\": 1.9226032111448377}, {\"Year\": 2039, \"Sources\": \"TCO2E_CROP_MGT\", \"Quantity (Mt CO2e)\": 0.024116447042848183}, {\"Year\": 2039, \"Sources\": \"TCO2E_CULTIV\", \"Quantity (Mt CO2e)\": 0.8540756624900392}, {\"Year\": 2039, \"Sources\": \"TCO2E_DUNG_URINE\", \"Quantity (Mt CO2e)\": 4.152705787087232}, {\"Year\": 2039, \"Sources\": \"TCO2E_ELEC\", \"Quantity (Mt CO2e)\": 0.2778475266026091}, {\"Year\": 2039, \"Sources\": \"TCO2E_ENTERIC\", \"Quantity (Mt CO2e)\": 52.21570817783096}, {\"Year\": 2039, \"Sources\": \"TCO2E_FERT_PROD\", \"Quantity (Mt CO2e)\": 5.475872942608625}, {\"Year\": 2039, \"Sources\": \"TCO2E_FODDER\", \"Quantity (Mt CO2e)\": 1.3281484750008143}, {\"Year\": 2039, \"Sources\": \"TCO2E_FUEL\", \"Quantity (Mt CO2e)\": 5.481705365094265}, {\"Year\": 2039, \"Sources\": \"TCO2E_HARVEST\", \"Quantity (Mt CO2e)\": 0.3885596202690532}, {\"Year\": 2039, \"Sources\": \"TCO2E_IND_LEACH_RUNOFF\", \"Quantity (Mt CO2e)\": 2.4566372147829094}, {\"Year\": 2039, \"Sources\": \"TCO2E_IRRIG\", \"Quantity (Mt CO2e)\": 0.22494824331632063}, {\"Year\": 2039, \"Sources\": \"TCO2E_MANURE_MGT\", \"Quantity (Mt CO2e)\": 0.2708855402562706}, {\"Year\": 2039, \"Sources\": \"TCO2E_PEST_PROD\", \"Quantity (Mt CO2e)\": 2.535711839685119}, {\"Year\": 2039, \"Sources\": \"TCO2E_SEED\", \"Quantity (Mt CO2e)\": 4.885715959723686}, {\"Year\": 2039, \"Sources\": \"TCO2E_SOIL\", \"Quantity (Mt CO2e)\": 3.1108587763618174}, {\"Year\": 2039, \"Sources\": \"TCO2E_SOWING\", \"Quantity (Mt CO2e)\": 1.0331686097874235}, {\"Year\": 2040, \"Sources\": \"TCO2E_CHEM_APPL\", \"Quantity (Mt CO2e)\": 1.9257161836629908}, {\"Year\": 2040, \"Sources\": \"TCO2E_CROP_MGT\", \"Quantity (Mt CO2e)\": 0.024074861677572855}, {\"Year\": 2040, \"Sources\": \"TCO2E_CULTIV\", \"Quantity (Mt CO2e)\": 0.8536254024464514}, {\"Year\": 2040, \"Sources\": \"TCO2E_DUNG_URINE\", \"Quantity (Mt CO2e)\": 4.143268852695767}, {\"Year\": 2040, \"Sources\": \"TCO2E_ELEC\", \"Quantity (Mt CO2e)\": 0.2818022607518504}, {\"Year\": 2040, \"Sources\": \"TCO2E_ENTERIC\", \"Quantity (Mt CO2e)\": 52.0939604714726}, {\"Year\": 2040, \"Sources\": \"TCO2E_FERT_PROD\", \"Quantity (Mt CO2e)\": 5.486876006278064}, {\"Year\": 2040, \"Sources\": \"TCO2E_FODDER\", \"Quantity (Mt CO2e)\": 1.3258935241364276}, {\"Year\": 2040, \"Sources\": \"TCO2E_FUEL\", \"Quantity (Mt CO2e)\": 5.498659661232204}, {\"Year\": 2040, \"Sources\": \"TCO2E_HARVEST\", \"Quantity (Mt CO2e)\": 0.38967368141493325}, {\"Year\": 2040, \"Sources\": \"TCO2E_IND_LEACH_RUNOFF\", \"Quantity (Mt CO2e)\": 2.449252505283271}, {\"Year\": 2040, \"Sources\": \"TCO2E_IRRIG\", \"Quantity (Mt CO2e)\": 0.22570393582429604}, {\"Year\": 2040, \"Sources\": \"TCO2E_MANURE_MGT\", \"Quantity (Mt CO2e)\": 0.2724661463532896}, {\"Year\": 2040, \"Sources\": \"TCO2E_PEST_PROD\", \"Quantity (Mt CO2e)\": 2.5411373140130253}, {\"Year\": 2040, \"Sources\": \"TCO2E_SEED\", \"Quantity (Mt CO2e)\": 4.887444405596223}, {\"Year\": 2040, \"Sources\": \"TCO2E_SOIL\", \"Quantity (Mt CO2e)\": 3.1165605430640695}, {\"Year\": 2040, \"Sources\": \"TCO2E_SOWING\", \"Quantity (Mt CO2e)\": 1.035972909762152}, {\"Year\": 2041, \"Sources\": \"TCO2E_CHEM_APPL\", \"Quantity (Mt CO2e)\": 1.9270214415172124}, {\"Year\": 2041, \"Sources\": \"TCO2E_CROP_MGT\", \"Quantity (Mt CO2e)\": 0.023963033554974693}, {\"Year\": 2041, \"Sources\": \"TCO2E_CULTIV\", \"Quantity (Mt CO2e)\": 0.8505022438492325}, {\"Year\": 2041, \"Sources\": \"TCO2E_DUNG_URINE\", \"Quantity (Mt CO2e)\": 4.131840572559316}, {\"Year\": 2041, \"Sources\": \"TCO2E_ELEC\", \"Quantity (Mt CO2e)\": 0.2828926788952871}, {\"Year\": 2041, \"Sources\": \"TCO2E_ENTERIC\", \"Quantity (Mt CO2e)\": 51.96231155030351}, {\"Year\": 2041, \"Sources\": \"TCO2E_FERT_PROD\", \"Quantity (Mt CO2e)\": 5.49151688159655}, {\"Year\": 2041, \"Sources\": \"TCO2E_FODDER\", \"Quantity (Mt CO2e)\": 1.3203004702199352}, {\"Year\": 2041, \"Sources\": \"TCO2E_FUEL\", \"Quantity (Mt CO2e)\": 5.506878147323392}, {\"Year\": 2041, \"Sources\": \"TCO2E_HARVEST\", \"Quantity (Mt CO2e)\": 0.3904146938883418}, {\"Year\": 2041, \"Sources\": \"TCO2E_IND_LEACH_RUNOFF\", \"Quantity (Mt CO2e)\": 2.4400539722614765}, {\"Year\": 2041, \"Sources\": \"TCO2E_IRRIG\", \"Quantity (Mt CO2e)\": 0.22617412229099784}, {\"Year\": 2041, \"Sources\": \"TCO2E_MANURE_MGT\", \"Quantity (Mt CO2e)\": 0.27217635671146134}, {\"Year\": 2041, \"Sources\": \"TCO2E_PEST_PROD\", \"Quantity (Mt CO2e)\": 2.5420771873378394}, {\"Year\": 2041, \"Sources\": \"TCO2E_SEED\", \"Quantity (Mt CO2e)\": 4.886145915144008}, {\"Year\": 2041, \"Sources\": \"TCO2E_SOIL\", \"Quantity (Mt CO2e)\": 3.1220058274100415}, {\"Year\": 2041, \"Sources\": \"TCO2E_SOWING\", \"Quantity (Mt CO2e)\": 1.0374905228273577}, {\"Year\": 2042, \"Sources\": \"TCO2E_CHEM_APPL\", \"Quantity (Mt CO2e)\": 1.928789560825491}, {\"Year\": 2042, \"Sources\": \"TCO2E_CROP_MGT\", \"Quantity (Mt CO2e)\": 0.023817306122225837}, {\"Year\": 2042, \"Sources\": \"TCO2E_CULTIV\", \"Quantity (Mt CO2e)\": 0.8487951219670632}, {\"Year\": 2042, \"Sources\": \"TCO2E_DUNG_URINE\", \"Quantity (Mt CO2e)\": 4.120388294648212}, {\"Year\": 2042, \"Sources\": \"TCO2E_ELEC\", \"Quantity (Mt CO2e)\": 0.28384045240013006}, {\"Year\": 2042, \"Sources\": \"TCO2E_ENTERIC\", \"Quantity (Mt CO2e)\": 51.8300145437096}, {\"Year\": 2042, \"Sources\": \"TCO2E_FERT_PROD\", \"Quantity (Mt CO2e)\": 5.498567960819585}, {\"Year\": 2042, \"Sources\": \"TCO2E_FODDER\", \"Quantity (Mt CO2e)\": 1.3141254206446384}, {\"Year\": 2042, \"Sources\": \"TCO2E_FUEL\", \"Quantity (Mt CO2e)\": 5.509101840118863}, {\"Year\": 2042, \"Sources\": \"TCO2E_HARVEST\", \"Quantity (Mt CO2e)\": 0.3914641332292777}, {\"Year\": 2042, \"Sources\": \"TCO2E_IND_LEACH_RUNOFF\", \"Quantity (Mt CO2e)\": 2.4310467151650665}, {\"Year\": 2042, \"Sources\": \"TCO2E_IRRIG\", \"Quantity (Mt CO2e)\": 0.22597479126645548}, {\"Year\": 2042, \"Sources\": \"TCO2E_MANURE_MGT\", \"Quantity (Mt CO2e)\": 0.2711324620223501}, {\"Year\": 2042, \"Sources\": \"TCO2E_PEST_PROD\", \"Quantity (Mt CO2e)\": 2.544496484432881}, {\"Year\": 2042, \"Sources\": \"TCO2E_SEED\", \"Quantity (Mt CO2e)\": 4.881092825862542}, {\"Year\": 2042, \"Sources\": \"TCO2E_SOIL\", \"Quantity (Mt CO2e)\": 3.1234555394364865}, {\"Year\": 2042, \"Sources\": \"TCO2E_SOWING\", \"Quantity (Mt CO2e)\": 1.039170728971666}, {\"Year\": 2043, \"Sources\": \"TCO2E_CHEM_APPL\", \"Quantity (Mt CO2e)\": 1.9307764454872987}, {\"Year\": 2043, \"Sources\": \"TCO2E_CROP_MGT\", \"Quantity (Mt CO2e)\": 0.02390091501875905}, {\"Year\": 2043, \"Sources\": \"TCO2E_CULTIV\", \"Quantity (Mt CO2e)\": 0.8443849177111262}, {\"Year\": 2043, \"Sources\": \"TCO2E_DUNG_URINE\", \"Quantity (Mt CO2e)\": 4.10728003632172}, {\"Year\": 2043, \"Sources\": \"TCO2E_ELEC\", \"Quantity (Mt CO2e)\": 0.2827245240262531}, {\"Year\": 2043, \"Sources\": \"TCO2E_ENTERIC\", \"Quantity (Mt CO2e)\": 51.677680840307225}, {\"Year\": 2043, \"Sources\": \"TCO2E_FERT_PROD\", \"Quantity (Mt CO2e)\": 5.5020341645090705}, {\"Year\": 2043, \"Sources\": \"TCO2E_FODDER\", \"Quantity (Mt CO2e)\": 1.307948950405718}, {\"Year\": 2043, \"Sources\": \"TCO2E_FUEL\", \"Quantity (Mt CO2e)\": 5.512989843954017}, {\"Year\": 2043, \"Sources\": \"TCO2E_HARVEST\", \"Quantity (Mt CO2e)\": 0.3922720491388406}, {\"Year\": 2043, \"Sources\": \"TCO2E_IND_LEACH_RUNOFF\", \"Quantity (Mt CO2e)\": 2.422388949911423}, {\"Year\": 2043, \"Sources\": \"TCO2E_IRRIG\", \"Quantity (Mt CO2e)\": 0.2273038133372415}, {\"Year\": 2043, \"Sources\": \"TCO2E_MANURE_MGT\", \"Quantity (Mt CO2e)\": 0.27003033821959765}, {\"Year\": 2043, \"Sources\": \"TCO2E_PEST_PROD\", \"Quantity (Mt CO2e)\": 2.546740421943565}, {\"Year\": 2043, \"Sources\": \"TCO2E_SEED\", \"Quantity (Mt CO2e)\": 4.874645033710016}, {\"Year\": 2043, \"Sources\": \"TCO2E_SOIL\", \"Quantity (Mt CO2e)\": 3.1341064552555133}, {\"Year\": 2043, \"Sources\": \"TCO2E_SOWING\", \"Quantity (Mt CO2e)\": 1.04035997857673}, {\"Year\": 2044, \"Sources\": \"TCO2E_CHEM_APPL\", \"Quantity (Mt CO2e)\": 1.9300945884964884}, {\"Year\": 2044, \"Sources\": \"TCO2E_CROP_MGT\", \"Quantity (Mt CO2e)\": 0.023962114263836307}, {\"Year\": 2044, \"Sources\": \"TCO2E_CULTIV\", \"Quantity (Mt CO2e)\": 0.8442638537432677}, {\"Year\": 2044, \"Sources\": \"TCO2E_DUNG_URINE\", \"Quantity (Mt CO2e)\": 4.099579718425482}, {\"Year\": 2044, \"Sources\": \"TCO2E_ELEC\", \"Quantity (Mt CO2e)\": 0.28172564401937317}, {\"Year\": 2044, \"Sources\": \"TCO2E_ENTERIC\", \"Quantity (Mt CO2e)\": 51.58259925341906}, {\"Year\": 2044, \"Sources\": \"TCO2E_FERT_PROD\", \"Quantity (Mt CO2e)\": 5.5015882120387145}, {\"Year\": 2044, \"Sources\": \"TCO2E_FODDER\", \"Quantity (Mt CO2e)\": 1.303452709140205}, {\"Year\": 2044, \"Sources\": \"TCO2E_FUEL\", \"Quantity (Mt CO2e)\": 5.52047639796089}, {\"Year\": 2044, \"Sources\": \"TCO2E_HARVEST\", \"Quantity (Mt CO2e)\": 0.3924153874652813}, {\"Year\": 2044, \"Sources\": \"TCO2E_IND_LEACH_RUNOFF\", \"Quantity (Mt CO2e)\": 2.4158601275317007}, {\"Year\": 2044, \"Sources\": \"TCO2E_IRRIG\", \"Quantity (Mt CO2e)\": 0.22826982841198323}, {\"Year\": 2044, \"Sources\": \"TCO2E_MANURE_MGT\", \"Quantity (Mt CO2e)\": 0.26886130044724743}, {\"Year\": 2044, \"Sources\": \"TCO2E_PEST_PROD\", \"Quantity (Mt CO2e)\": 2.5454581583287017}, {\"Year\": 2044, \"Sources\": \"TCO2E_SEED\", \"Quantity (Mt CO2e)\": 4.865375209997001}, {\"Year\": 2044, \"Sources\": \"TCO2E_SOIL\", \"Quantity (Mt CO2e)\": 3.143530048418472}, {\"Year\": 2044, \"Sources\": \"TCO2E_SOWING\", \"Quantity (Mt CO2e)\": 1.0401602439859903}, {\"Year\": 2045, \"Sources\": \"TCO2E_CHEM_APPL\", \"Quantity (Mt CO2e)\": 1.9358490533095087}, {\"Year\": 2045, \"Sources\": \"TCO2E_CROP_MGT\", \"Quantity (Mt CO2e)\": 0.023975293187297533}, {\"Year\": 2045, \"Sources\": \"TCO2E_CULTIV\", \"Quantity (Mt CO2e)\": 0.8415202105498365}, {\"Year\": 2045, \"Sources\": \"TCO2E_DUNG_URINE\", \"Quantity (Mt CO2e)\": 4.096137574105886}, {\"Year\": 2045, \"Sources\": \"TCO2E_ELEC\", \"Quantity (Mt CO2e)\": 0.2790247798230349}, {\"Year\": 2045, \"Sources\": \"TCO2E_ENTERIC\", \"Quantity (Mt CO2e)\": 51.55332244256}, {\"Year\": 2045, \"Sources\": \"TCO2E_FERT_PROD\", \"Quantity (Mt CO2e)\": 5.506708549582225}, {\"Year\": 2045, \"Sources\": \"TCO2E_FODDER\", \"Quantity (Mt CO2e)\": 1.3000291373098056}, {\"Year\": 2045, \"Sources\": \"TCO2E_FUEL\", \"Quantity (Mt CO2e)\": 5.518676294380593}, {\"Year\": 2045, \"Sources\": \"TCO2E_HARVEST\", \"Quantity (Mt CO2e)\": 0.393509399368194}, {\"Year\": 2045, \"Sources\": \"TCO2E_IND_LEACH_RUNOFF\", \"Quantity (Mt CO2e)\": 2.409592024923203}, {\"Year\": 2045, \"Sources\": \"TCO2E_IRRIG\", \"Quantity (Mt CO2e)\": 0.2276896863164222}, {\"Year\": 2045, \"Sources\": \"TCO2E_MANURE_MGT\", \"Quantity (Mt CO2e)\": 0.2675442916136376}, {\"Year\": 2045, \"Sources\": \"TCO2E_PEST_PROD\", \"Quantity (Mt CO2e)\": 2.5481089179445244}, {\"Year\": 2045, \"Sources\": \"TCO2E_SEED\", \"Quantity (Mt CO2e)\": 4.870654585797518}, {\"Year\": 2045, \"Sources\": \"TCO2E_SOIL\", \"Quantity (Mt CO2e)\": 3.1444882377103585}, {\"Year\": 2045, \"Sources\": \"TCO2E_SOWING\", \"Quantity (Mt CO2e)\": 1.0433251617500174}, {\"Year\": 2046, \"Sources\": \"TCO2E_CHEM_APPL\", \"Quantity (Mt CO2e)\": 1.9417441140206029}, {\"Year\": 2046, \"Sources\": \"TCO2E_CROP_MGT\", \"Quantity (Mt CO2e)\": 0.0240858161104145}, {\"Year\": 2046, \"Sources\": \"TCO2E_CULTIV\", \"Quantity (Mt CO2e)\": 0.8420330856442524}, {\"Year\": 2046, \"Sources\": \"TCO2E_DUNG_URINE\", \"Quantity (Mt CO2e)\": 4.090682941585223}, {\"Year\": 2046, \"Sources\": \"TCO2E_ELEC\", \"Quantity (Mt CO2e)\": 0.2791817007297744}, {\"Year\": 2046, \"Sources\": \"TCO2E_ENTERIC\", \"Quantity (Mt CO2e)\": 51.50310497521616}, {\"Year\": 2046, \"Sources\": \"TCO2E_FERT_PROD\", \"Quantity (Mt CO2e)\": 5.51678860749902}, {\"Year\": 2046, \"Sources\": \"TCO2E_FODDER\", \"Quantity (Mt CO2e)\": 1.2959141589841607}, {\"Year\": 2046, \"Sources\": \"TCO2E_FUEL\", \"Quantity (Mt CO2e)\": 5.5288524128504}, {\"Year\": 2046, \"Sources\": \"TCO2E_HARVEST\", \"Quantity (Mt CO2e)\": 0.3949385987226499}, {\"Year\": 2046, \"Sources\": \"TCO2E_IND_LEACH_RUNOFF\", \"Quantity (Mt CO2e)\": 2.4026567023836667}, {\"Year\": 2046, \"Sources\": \"TCO2E_IRRIG\", \"Quantity (Mt CO2e)\": 0.22721629802868787}, {\"Year\": 2046, \"Sources\": \"TCO2E_MANURE_MGT\", \"Quantity (Mt CO2e)\": 0.2658773831053634}, {\"Year\": 2046, \"Sources\": \"TCO2E_PEST_PROD\", \"Quantity (Mt CO2e)\": 2.553096021142103}, {\"Year\": 2046, \"Sources\": \"TCO2E_SEED\", \"Quantity (Mt CO2e)\": 4.869745114271851}, {\"Year\": 2046, \"Sources\": \"TCO2E_SOIL\", \"Quantity (Mt CO2e)\": 3.146857258745935}, {\"Year\": 2046, \"Sources\": \"TCO2E_SOWING\", \"Quantity (Mt CO2e)\": 1.0462892036656364}, {\"Year\": 2047, \"Sources\": \"TCO2E_CHEM_APPL\", \"Quantity (Mt CO2e)\": 1.9431822556776894}, {\"Year\": 2047, \"Sources\": \"TCO2E_CROP_MGT\", \"Quantity (Mt CO2e)\": 0.023949195757898507}, {\"Year\": 2047, \"Sources\": \"TCO2E_CULTIV\", \"Quantity (Mt CO2e)\": 0.8394887051957185}, {\"Year\": 2047, \"Sources\": \"TCO2E_DUNG_URINE\", \"Quantity (Mt CO2e)\": 4.081830203154517}, {\"Year\": 2047, \"Sources\": \"TCO2E_ELEC\", \"Quantity (Mt CO2e)\": 0.2708107480473046}, {\"Year\": 2047, \"Sources\": \"TCO2E_ENTERIC\", \"Quantity (Mt CO2e)\": 51.399644867736804}, {\"Year\": 2047, \"Sources\": \"TCO2E_FERT_PROD\", \"Quantity (Mt CO2e)\": 5.517653001617923}, {\"Year\": 2047, \"Sources\": \"TCO2E_FODDER\", \"Quantity (Mt CO2e)\": 1.2869381592012492}, {\"Year\": 2047, \"Sources\": \"TCO2E_FUEL\", \"Quantity (Mt CO2e)\": 5.516791142389169}, {\"Year\": 2047, \"Sources\": \"TCO2E_HARVEST\", \"Quantity (Mt CO2e)\": 0.3960277005102974}, {\"Year\": 2047, \"Sources\": \"TCO2E_IND_LEACH_RUNOFF\", \"Quantity (Mt CO2e)\": 2.3959792246004383}, {\"Year\": 2047, \"Sources\": \"TCO2E_IRRIG\", \"Quantity (Mt CO2e)\": 0.22663014962469508}, {\"Year\": 2047, \"Sources\": \"TCO2E_MANURE_MGT\", \"Quantity (Mt CO2e)\": 0.2614441520576349}, {\"Year\": 2047, \"Sources\": \"TCO2E_PEST_PROD\", \"Quantity (Mt CO2e)\": 2.5564083499006505}, {\"Year\": 2047, \"Sources\": \"TCO2E_SEED\", \"Quantity (Mt CO2e)\": 4.867104188379594}, {\"Year\": 2047, \"Sources\": \"TCO2E_SOIL\", \"Quantity (Mt CO2e)\": 3.1424285380235006}, {\"Year\": 2047, \"Sources\": \"TCO2E_SOWING\", \"Quantity (Mt CO2e)\": 1.0475121442197501}, {\"Year\": 2048, \"Sources\": \"TCO2E_CHEM_APPL\", \"Quantity (Mt CO2e)\": 1.9437896186607229}, {\"Year\": 2048, \"Sources\": \"TCO2E_CROP_MGT\", \"Quantity (Mt CO2e)\": 0.023816235694520165}, {\"Year\": 2048, \"Sources\": \"TCO2E_CULTIV\", \"Quantity (Mt CO2e)\": 0.8340919424348439}, {\"Year\": 2048, \"Sources\": \"TCO2E_DUNG_URINE\", \"Quantity (Mt CO2e)\": 4.0720451912625135}, {\"Year\": 2048, \"Sources\": \"TCO2E_ELEC\", \"Quantity (Mt CO2e)\": 0.270256647892737}, {\"Year\": 2048, \"Sources\": \"TCO2E_ENTERIC\", \"Quantity (Mt CO2e)\": 51.291362333869316}, {\"Year\": 2048, \"Sources\": \"TCO2E_FERT_PROD\", \"Quantity (Mt CO2e)\": 5.512083473621974}, {\"Year\": 2048, \"Sources\": \"TCO2E_FODDER\", \"Quantity (Mt CO2e)\": 1.2816932164336032}, {\"Year\": 2048, \"Sources\": \"TCO2E_FUEL\", \"Quantity (Mt CO2e)\": 5.517549788799531}, {\"Year\": 2048, \"Sources\": \"TCO2E_HARVEST\", \"Quantity (Mt CO2e)\": 0.3965829642353275}, {\"Year\": 2048, \"Sources\": \"TCO2E_IND_LEACH_RUNOFF\", \"Quantity (Mt CO2e)\": 2.387917554509212}, {\"Year\": 2048, \"Sources\": \"TCO2E_IRRIG\", \"Quantity (Mt CO2e)\": 0.2259639796509424}, {\"Year\": 2048, \"Sources\": \"TCO2E_MANURE_MGT\", \"Quantity (Mt CO2e)\": 0.2605091922979535}, {\"Year\": 2048, \"Sources\": \"TCO2E_PEST_PROD\", \"Quantity (Mt CO2e)\": 2.5536104346420614}, {\"Year\": 2048, \"Sources\": \"TCO2E_SEED\", \"Quantity (Mt CO2e)\": 4.865429565353682}, {\"Year\": 2048, \"Sources\": \"TCO2E_SOIL\", \"Quantity (Mt CO2e)\": 3.142854007361397}, {\"Year\": 2048, \"Sources\": \"TCO2E_SOWING\", \"Quantity (Mt CO2e)\": 1.0477960478442718}, {\"Year\": 2049, \"Sources\": \"TCO2E_CHEM_APPL\", \"Quantity (Mt CO2e)\": 1.9453544293365421}, {\"Year\": 2049, \"Sources\": \"TCO2E_CROP_MGT\", \"Quantity (Mt CO2e)\": 0.023697307490168462}, {\"Year\": 2049, \"Sources\": \"TCO2E_CULTIV\", \"Quantity (Mt CO2e)\": 0.8285395057283063}, {\"Year\": 2049, \"Sources\": \"TCO2E_DUNG_URINE\", \"Quantity (Mt CO2e)\": 4.061091972019938}, {\"Year\": 2049, \"Sources\": \"TCO2E_ELEC\", \"Quantity (Mt CO2e)\": 0.2670384508837915}, {\"Year\": 2049, \"Sources\": \"TCO2E_ENTERIC\", \"Quantity (Mt CO2e)\": 51.18043595283635}, {\"Year\": 2049, \"Sources\": \"TCO2E_FERT_PROD\", \"Quantity (Mt CO2e)\": 5.510335961568216}, {\"Year\": 2049, \"Sources\": \"TCO2E_FODDER\", \"Quantity (Mt CO2e)\": 1.2736605668533427}, {\"Year\": 2049, \"Sources\": \"TCO2E_FUEL\", \"Quantity (Mt CO2e)\": 5.515437654013059}, {\"Year\": 2049, \"Sources\": \"TCO2E_HARVEST\", \"Quantity (Mt CO2e)\": 0.39734941188023337}, {\"Year\": 2049, \"Sources\": \"TCO2E_IND_LEACH_RUNOFF\", \"Quantity (Mt CO2e)\": 2.379072739113007}, {\"Year\": 2049, \"Sources\": \"TCO2E_IRRIG\", \"Quantity (Mt CO2e)\": 0.22485284071733252}, {\"Year\": 2049, \"Sources\": \"TCO2E_MANURE_MGT\", \"Quantity (Mt CO2e)\": 0.25721006628543025}, {\"Year\": 2049, \"Sources\": \"TCO2E_PEST_PROD\", \"Quantity (Mt CO2e)\": 2.5533313527489696}, {\"Year\": 2049, \"Sources\": \"TCO2E_SEED\", \"Quantity (Mt CO2e)\": 4.862142721660668}, {\"Year\": 2049, \"Sources\": \"TCO2E_SOIL\", \"Quantity (Mt CO2e)\": 3.136742906502341}, {\"Year\": 2049, \"Sources\": \"TCO2E_SOWING\", \"Quantity (Mt CO2e)\": 1.0492444666550358}, {\"Year\": 2050, \"Sources\": \"TCO2E_CHEM_APPL\", \"Quantity (Mt CO2e)\": 1.9436621450547649}, {\"Year\": 2050, \"Sources\": \"TCO2E_CROP_MGT\", \"Quantity (Mt CO2e)\": 0.023551158693349793}, {\"Year\": 2050, \"Sources\": \"TCO2E_CULTIV\", \"Quantity (Mt CO2e)\": 0.822313682619041}, {\"Year\": 2050, \"Sources\": \"TCO2E_DUNG_URINE\", \"Quantity (Mt CO2e)\": 4.05436192784141}, {\"Year\": 2050, \"Sources\": \"TCO2E_ELEC\", \"Quantity (Mt CO2e)\": 0.2654162934534367}, {\"Year\": 2050, \"Sources\": \"TCO2E_ENTERIC\", \"Quantity (Mt CO2e)\": 51.1100658134727}, {\"Year\": 2050, \"Sources\": \"TCO2E_FERT_PROD\", \"Quantity (Mt CO2e)\": 5.492963022780256}, {\"Year\": 2050, \"Sources\": \"TCO2E_FODDER\", \"Quantity (Mt CO2e)\": 1.2688883600657386}, {\"Year\": 2050, \"Sources\": \"TCO2E_FUEL\", \"Quantity (Mt CO2e)\": 5.523761345284139}, {\"Year\": 2050, \"Sources\": \"TCO2E_HARVEST\", \"Quantity (Mt CO2e)\": 0.39760416084974903}, {\"Year\": 2050, \"Sources\": \"TCO2E_IND_LEACH_RUNOFF\", \"Quantity (Mt CO2e)\": 2.37352716124714}, {\"Year\": 2050, \"Sources\": \"TCO2E_IRRIG\", \"Quantity (Mt CO2e)\": 0.22365047693740686}, {\"Year\": 2050, \"Sources\": \"TCO2E_MANURE_MGT\", \"Quantity (Mt CO2e)\": 0.256707953024644}, {\"Year\": 2050, \"Sources\": \"TCO2E_PEST_PROD\", \"Quantity (Mt CO2e)\": 2.5486097591390537}, {\"Year\": 2050, \"Sources\": \"TCO2E_SEED\", \"Quantity (Mt CO2e)\": 4.8594243840973315}, {\"Year\": 2050, \"Sources\": \"TCO2E_SOIL\", \"Quantity (Mt CO2e)\": 3.132979927952553}, {\"Year\": 2050, \"Sources\": \"TCO2E_SOWING\", \"Quantity (Mt CO2e)\": 1.0484333119759406}]}}, {\"mode\": \"vega-lite\"});\n",
       "</script>"
      ],
      "text/plain": [
       "alt.LayerChart(...)"
      ]
     },
     "execution_count": 12,
     "metadata": {},
     "output_type": "execute_result"
    }
   ],
   "source": [
    "# HIDE CODE\n",
    "# get the df and plot\n",
    "GHG_sources_df,GHG_sources_plot = ag_lucc_GHG.plot_GHG_sources()\n",
    "GHG_sources_plot"
   ]
  },
  {
   "cell_type": "code",
   "execution_count": null,
   "metadata": {},
   "outputs": [],
   "source": []
  },
  {
   "cell_type": "markdown",
   "metadata": {},
   "source": [
    "### Emissions by {land-use}-{irrigation} cmobined"
   ]
  },
  {
   "cell_type": "code",
   "execution_count": null,
   "metadata": {},
   "outputs": [],
   "source": []
  },
  {
   "cell_type": "code",
   "execution_count": 13,
   "metadata": {
    "tags": [
     "hide-input"
    ]
   },
   "outputs": [
    {
     "data": {
      "text/html": [
       "\n",
       "<style>\n",
       "  #altair-viz-6d06e3c405b54465bedc313884e7645f.vega-embed {\n",
       "    width: 100%;\n",
       "    display: flex;\n",
       "  }\n",
       "\n",
       "  #altair-viz-6d06e3c405b54465bedc313884e7645f.vega-embed details,\n",
       "  #altair-viz-6d06e3c405b54465bedc313884e7645f.vega-embed details summary {\n",
       "    position: relative;\n",
       "  }\n",
       "</style>\n",
       "<div id=\"altair-viz-6d06e3c405b54465bedc313884e7645f\"></div>\n",
       "<script type=\"text/javascript\">\n",
       "  var VEGA_DEBUG = (typeof VEGA_DEBUG == \"undefined\") ? {} : VEGA_DEBUG;\n",
       "  (function(spec, embedOpt){\n",
       "    let outputDiv = document.currentScript.previousElementSibling;\n",
       "    if (outputDiv.id !== \"altair-viz-6d06e3c405b54465bedc313884e7645f\") {\n",
       "      outputDiv = document.getElementById(\"altair-viz-6d06e3c405b54465bedc313884e7645f\");\n",
       "    }\n",
       "    const paths = {\n",
       "      \"vega\": \"https://cdn.jsdelivr.net/npm/vega@5?noext\",\n",
       "      \"vega-lib\": \"https://cdn.jsdelivr.net/npm/vega-lib?noext\",\n",
       "      \"vega-lite\": \"https://cdn.jsdelivr.net/npm/vega-lite@5.15.1?noext\",\n",
       "      \"vega-embed\": \"https://cdn.jsdelivr.net/npm/vega-embed@6?noext\",\n",
       "    };\n",
       "\n",
       "    function maybeLoadScript(lib, version) {\n",
       "      var key = `${lib.replace(\"-\", \"\")}_version`;\n",
       "      return (VEGA_DEBUG[key] == version) ?\n",
       "        Promise.resolve(paths[lib]) :\n",
       "        new Promise(function(resolve, reject) {\n",
       "          var s = document.createElement('script');\n",
       "          document.getElementsByTagName(\"head\")[0].appendChild(s);\n",
       "          s.async = true;\n",
       "          s.onload = () => {\n",
       "            VEGA_DEBUG[key] = version;\n",
       "            return resolve(paths[lib]);\n",
       "          };\n",
       "          s.onerror = () => reject(`Error loading script: ${paths[lib]}`);\n",
       "          s.src = paths[lib];\n",
       "        });\n",
       "    }\n",
       "\n",
       "    function showError(err) {\n",
       "      outputDiv.innerHTML = `<div class=\"error\" style=\"color:red;\">${err}</div>`;\n",
       "      throw err;\n",
       "    }\n",
       "\n",
       "    function displayChart(vegaEmbed) {\n",
       "      vegaEmbed(outputDiv, spec, embedOpt)\n",
       "        .catch(err => showError(`Javascript Error: ${err.message}<br>This usually means there's a typo in your chart specification. See the javascript console for the full traceback.`));\n",
       "    }\n",
       "\n",
       "    if(typeof define === \"function\" && define.amd) {\n",
       "      requirejs.config({paths});\n",
       "      require([\"vega-embed\"], displayChart, err => showError(`Error loading script: ${err.message}`));\n",
       "    } else {\n",
       "      maybeLoadScript(\"vega\", \"5\")\n",
       "        .then(() => maybeLoadScript(\"vega-lite\", \"5.15.1\"))\n",
       "        .then(() => maybeLoadScript(\"vega-embed\", \"6\"))\n",
       "        .catch(showError)\n",
       "        .then(() => displayChart(vegaEmbed));\n",
       "    }\n",
       "  })({\"config\": {\"view\": {\"continuousWidth\": 300, \"continuousHeight\": 300}}, \"data\": {\"name\": \"data-3c9b9f4595e3a20157534e89ab07abe6\"}, \"mark\": {\"type\": \"bar\"}, \"encoding\": {\"color\": {\"field\": \"Irrigation\", \"type\": \"nominal\"}, \"tooltip\": [{\"field\": \"Land use\", \"title\": \"Landuse\", \"type\": \"ordinal\"}, {\"field\": \"Quantity (Mt CO2e)\", \"title\": \"GHG emissions (Mt CO2e)\", \"type\": \"quantitative\"}], \"x\": {\"field\": \"Quantity (Mt CO2e)\", \"type\": \"quantitative\"}, \"y\": {\"field\": \"Land use\", \"type\": \"ordinal\"}}, \"width\": 500, \"$schema\": \"https://vega.github.io/schema/vega-lite/v5.15.1.json\", \"datasets\": {\"data-3c9b9f4595e3a20157534e89ab07abe6\": [{\"Year\": 2050, \"Land use category\": \"Crop\", \"Land use\": \"Apples\", \"Irrigation\": \"dry\", \"Quantity (Mt CO2e)\": 0.0}, {\"Year\": 2050, \"Land use category\": \"Crop\", \"Land use\": \"Apples\", \"Irrigation\": \"irr\", \"Quantity (Mt CO2e)\": 0.004040249755859375}, {\"Year\": 2050, \"Land use category\": \"Crop\", \"Land use\": \"Citrus\", \"Irrigation\": \"dry\", \"Quantity (Mt CO2e)\": 0.05789150315082392}, {\"Year\": 2050, \"Land use category\": \"Crop\", \"Land use\": \"Citrus\", \"Irrigation\": \"irr\", \"Quantity (Mt CO2e)\": 0.04373764675704914}, {\"Year\": 2050, \"Land use category\": \"Crop\", \"Land use\": \"Cotton\", \"Irrigation\": \"dry\", \"Quantity (Mt CO2e)\": 0.2029965906308451}, {\"Year\": 2050, \"Land use category\": \"Crop\", \"Land use\": \"Cotton\", \"Irrigation\": \"irr\", \"Quantity (Mt CO2e)\": 0.36657227827180994}, {\"Year\": 2050, \"Land use category\": \"Crop\", \"Land use\": \"Grapes\", \"Irrigation\": \"dry\", \"Quantity (Mt CO2e)\": 0.08806573007583618}, {\"Year\": 2050, \"Land use category\": \"Crop\", \"Land use\": \"Grapes\", \"Irrigation\": \"irr\", \"Quantity (Mt CO2e)\": 0.12259893011093141}, {\"Year\": 2050, \"Land use category\": \"Crop\", \"Land use\": \"Hay\", \"Irrigation\": \"dry\", \"Quantity (Mt CO2e)\": 0.6199280712159043}, {\"Year\": 2050, \"Land use category\": \"Crop\", \"Land use\": \"Hay\", \"Irrigation\": \"irr\", \"Quantity (Mt CO2e)\": 0.05032174906921387}, {\"Year\": 2050, \"Land use category\": \"Crop\", \"Land use\": \"Nuts\", \"Irrigation\": \"dry\", \"Quantity (Mt CO2e)\": 0.09068945051002503}, {\"Year\": 2050, \"Land use category\": \"Crop\", \"Land use\": \"Nuts\", \"Irrigation\": \"irr\", \"Quantity (Mt CO2e)\": 0.023120656539916996}, {\"Year\": 2050, \"Land use category\": \"Crop\", \"Land use\": \"Other non-cereal crops\", \"Irrigation\": \"dry\", \"Quantity (Mt CO2e)\": 0.002358305284393817}, {\"Year\": 2050, \"Land use category\": \"Crop\", \"Land use\": \"Other non-cereal crops\", \"Irrigation\": \"irr\", \"Quantity (Mt CO2e)\": 0.17025061814163134}, {\"Year\": 2050, \"Land use category\": \"Crop\", \"Land use\": \"Plantation fruit\", \"Irrigation\": \"dry\", \"Quantity (Mt CO2e)\": 0.08031206149291992}, {\"Year\": 2050, \"Land use category\": \"Crop\", \"Land use\": \"Plantation fruit\", \"Irrigation\": \"irr\", \"Quantity (Mt CO2e)\": 0.10895074491882324}, {\"Year\": 2050, \"Land use category\": \"Crop\", \"Land use\": \"Rice\", \"Irrigation\": \"dry\", \"Quantity (Mt CO2e)\": 0.0}, {\"Year\": 2050, \"Land use category\": \"Crop\", \"Land use\": \"Rice\", \"Irrigation\": \"irr\", \"Quantity (Mt CO2e)\": 0.09070337731339354}, {\"Year\": 2050, \"Land use category\": \"Crop\", \"Land use\": \"Stone fruit\", \"Irrigation\": \"dry\", \"Quantity (Mt CO2e)\": 0.0}, {\"Year\": 2050, \"Land use category\": \"Crop\", \"Land use\": \"Stone fruit\", \"Irrigation\": \"irr\", \"Quantity (Mt CO2e)\": 0.05893738574526006}, {\"Year\": 2050, \"Land use category\": \"Crop\", \"Land use\": \"Sugar\", \"Irrigation\": \"dry\", \"Quantity (Mt CO2e)\": 0.9400163513498692}, {\"Year\": 2050, \"Land use category\": \"Crop\", \"Land use\": \"Sugar\", \"Irrigation\": \"irr\", \"Quantity (Mt CO2e)\": 0.05971753542762526}, {\"Year\": 2050, \"Land use category\": \"Crop\", \"Land use\": \"Summer cereals\", \"Irrigation\": \"dry\", \"Quantity (Mt CO2e)\": 0.28938015529632566}, {\"Year\": 2050, \"Land use category\": \"Crop\", \"Land use\": \"Summer cereals\", \"Irrigation\": \"irr\", \"Quantity (Mt CO2e)\": 0.027216402200698854}, {\"Year\": 2050, \"Land use category\": \"Crop\", \"Land use\": \"Summer legumes\", \"Irrigation\": \"dry\", \"Quantity (Mt CO2e)\": 0.012217874926537774}, {\"Year\": 2050, \"Land use category\": \"Crop\", \"Land use\": \"Summer legumes\", \"Irrigation\": \"irr\", \"Quantity (Mt CO2e)\": 0.009959989160537721}, {\"Year\": 2050, \"Land use category\": \"Crop\", \"Land use\": \"Summer oilseeds\", \"Irrigation\": \"dry\", \"Quantity (Mt CO2e)\": 0.00856474800491333}, {\"Year\": 2050, \"Land use category\": \"Crop\", \"Land use\": \"Summer oilseeds\", \"Irrigation\": \"irr\", \"Quantity (Mt CO2e)\": 0.008280014675140382}, {\"Year\": 2050, \"Land use category\": \"Crop\", \"Land use\": \"Tropical stone fruit\", \"Irrigation\": \"dry\", \"Quantity (Mt CO2e)\": 0.0}, {\"Year\": 2050, \"Land use category\": \"Crop\", \"Land use\": \"Tropical stone fruit\", \"Irrigation\": \"irr\", \"Quantity (Mt CO2e)\": 0.01116668846511841}, {\"Year\": 2050, \"Land use category\": \"Crop\", \"Land use\": \"Vegetables\", \"Irrigation\": \"dry\", \"Quantity (Mt CO2e)\": 0.0}, {\"Year\": 2050, \"Land use category\": \"Crop\", \"Land use\": \"Vegetables\", \"Irrigation\": \"irr\", \"Quantity (Mt CO2e)\": 0.3073079350357055}, {\"Year\": 2050, \"Land use category\": \"Crop\", \"Land use\": \"Winter cereals\", \"Irrigation\": \"dry\", \"Quantity (Mt CO2e)\": 7.69109805113853}, {\"Year\": 2050, \"Land use category\": \"Crop\", \"Land use\": \"Winter cereals\", \"Irrigation\": \"irr\", \"Quantity (Mt CO2e)\": 1.4960633899121938}, {\"Year\": 2050, \"Land use category\": \"Crop\", \"Land use\": \"Winter legumes\", \"Irrigation\": \"dry\", \"Quantity (Mt CO2e)\": 0.6001201821936546}, {\"Year\": 2050, \"Land use category\": \"Crop\", \"Land use\": \"Winter legumes\", \"Irrigation\": \"irr\", \"Quantity (Mt CO2e)\": 0.018261922835350036}, {\"Year\": 2050, \"Land use category\": \"Crop\", \"Land use\": \"Winter oilseeds\", \"Irrigation\": \"dry\", \"Quantity (Mt CO2e)\": 1.090369980517599}, {\"Year\": 2050, \"Land use category\": \"Crop\", \"Land use\": \"Winter oilseeds\", \"Irrigation\": \"irr\", \"Quantity (Mt CO2e)\": 0.007552380201339722}, {\"Year\": 2050, \"Land use category\": \"Livestock\", \"Land use\": \"Beef\", \"Irrigation\": \"dry\", \"Quantity (Mt CO2e)\": 37.69500069422896}, {\"Year\": 2050, \"Land use category\": \"Livestock\", \"Land use\": \"Beef\", \"Irrigation\": \"irr\", \"Quantity (Mt CO2e)\": 2.5969460022041506}, {\"Year\": 2050, \"Land use category\": \"Livestock\", \"Land use\": \"Dairy\", \"Irrigation\": \"dry\", \"Quantity (Mt CO2e)\": 2.199895713592417}, {\"Year\": 2050, \"Land use category\": \"Livestock\", \"Land use\": \"Dairy\", \"Irrigation\": \"irr\", \"Quantity (Mt CO2e)\": 5.002618520347621}, {\"Year\": 2050, \"Land use category\": \"Livestock\", \"Land use\": \"Sheep\", \"Irrigation\": \"dry\", \"Quantity (Mt CO2e)\": 23.091252382151126}, {\"Year\": 2050, \"Land use category\": \"Livestock\", \"Land use\": \"Sheep\", \"Irrigation\": \"irr\", \"Quantity (Mt CO2e)\": 0.0014386216385995475}]}}, {\"mode\": \"vega-lite\"});\n",
       "</script>"
      ],
      "text/plain": [
       "alt.Chart(...)"
      ]
     },
     "execution_count": 13,
     "metadata": {},
     "output_type": "execute_result"
    }
   ],
   "source": [
    "# HIDE CODE\n",
    "# get the df and plot\n",
    "GHG_lu_lm_df,GHG_lu_lm_plot = ag_lucc_GHG.plot_GHG_lu_lm(2050)\n",
    "GHG_lu_lm_plot"
   ]
  },
  {
   "cell_type": "code",
   "execution_count": null,
   "metadata": {},
   "outputs": [],
   "source": []
  },
  {
   "cell_type": "code",
   "execution_count": null,
   "metadata": {
    "tags": []
   },
   "outputs": [],
   "source": []
  },
  {
   "cell_type": "markdown",
   "metadata": {},
   "source": [
    "### Emissions by {land-use}-{GHG source} combined"
   ]
  },
  {
   "cell_type": "code",
   "execution_count": 14,
   "metadata": {
    "tags": [
     "hide-input"
    ]
   },
   "outputs": [
    {
     "data": {
      "text/html": [
       "\n",
       "<style>\n",
       "  #altair-viz-436d1af90db94d2da3b37f885b3545d8.vega-embed {\n",
       "    width: 100%;\n",
       "    display: flex;\n",
       "  }\n",
       "\n",
       "  #altair-viz-436d1af90db94d2da3b37f885b3545d8.vega-embed details,\n",
       "  #altair-viz-436d1af90db94d2da3b37f885b3545d8.vega-embed details summary {\n",
       "    position: relative;\n",
       "  }\n",
       "</style>\n",
       "<div id=\"altair-viz-436d1af90db94d2da3b37f885b3545d8\"></div>\n",
       "<script type=\"text/javascript\">\n",
       "  var VEGA_DEBUG = (typeof VEGA_DEBUG == \"undefined\") ? {} : VEGA_DEBUG;\n",
       "  (function(spec, embedOpt){\n",
       "    let outputDiv = document.currentScript.previousElementSibling;\n",
       "    if (outputDiv.id !== \"altair-viz-436d1af90db94d2da3b37f885b3545d8\") {\n",
       "      outputDiv = document.getElementById(\"altair-viz-436d1af90db94d2da3b37f885b3545d8\");\n",
       "    }\n",
       "    const paths = {\n",
       "      \"vega\": \"https://cdn.jsdelivr.net/npm/vega@5?noext\",\n",
       "      \"vega-lib\": \"https://cdn.jsdelivr.net/npm/vega-lib?noext\",\n",
       "      \"vega-lite\": \"https://cdn.jsdelivr.net/npm/vega-lite@5.15.1?noext\",\n",
       "      \"vega-embed\": \"https://cdn.jsdelivr.net/npm/vega-embed@6?noext\",\n",
       "    };\n",
       "\n",
       "    function maybeLoadScript(lib, version) {\n",
       "      var key = `${lib.replace(\"-\", \"\")}_version`;\n",
       "      return (VEGA_DEBUG[key] == version) ?\n",
       "        Promise.resolve(paths[lib]) :\n",
       "        new Promise(function(resolve, reject) {\n",
       "          var s = document.createElement('script');\n",
       "          document.getElementsByTagName(\"head\")[0].appendChild(s);\n",
       "          s.async = true;\n",
       "          s.onload = () => {\n",
       "            VEGA_DEBUG[key] = version;\n",
       "            return resolve(paths[lib]);\n",
       "          };\n",
       "          s.onerror = () => reject(`Error loading script: ${paths[lib]}`);\n",
       "          s.src = paths[lib];\n",
       "        });\n",
       "    }\n",
       "\n",
       "    function showError(err) {\n",
       "      outputDiv.innerHTML = `<div class=\"error\" style=\"color:red;\">${err}</div>`;\n",
       "      throw err;\n",
       "    }\n",
       "\n",
       "    function displayChart(vegaEmbed) {\n",
       "      vegaEmbed(outputDiv, spec, embedOpt)\n",
       "        .catch(err => showError(`Javascript Error: ${err.message}<br>This usually means there's a typo in your chart specification. See the javascript console for the full traceback.`));\n",
       "    }\n",
       "\n",
       "    if(typeof define === \"function\" && define.amd) {\n",
       "      requirejs.config({paths});\n",
       "      require([\"vega-embed\"], displayChart, err => showError(`Error loading script: ${err.message}`));\n",
       "    } else {\n",
       "      maybeLoadScript(\"vega\", \"5\")\n",
       "        .then(() => maybeLoadScript(\"vega-lite\", \"5.15.1\"))\n",
       "        .then(() => maybeLoadScript(\"vega-embed\", \"6\"))\n",
       "        .catch(showError)\n",
       "        .then(() => displayChart(vegaEmbed));\n",
       "    }\n",
       "  })({\"config\": {\"view\": {\"continuousWidth\": 300, \"continuousHeight\": 300}}, \"data\": {\"name\": \"data-14fa249bf82bb4c0b504de6953ec3f8c\"}, \"mark\": {\"type\": \"circle\"}, \"encoding\": {\"color\": {\"field\": \"Irrigation\", \"type\": \"ordinal\"}, \"size\": {\"field\": \"Quantity (Mt CO2e)\", \"type\": \"quantitative\"}, \"tooltip\": [{\"field\": \"Land use\", \"title\": \"Landuse\", \"type\": \"ordinal\"}, {\"field\": \"Sources\", \"title\": \"GHG source\", \"type\": \"ordinal\"}, {\"field\": \"Quantity (Mt CO2e)\", \"title\": \"GHG emissions (Mt CO2e)\", \"type\": \"quantitative\"}], \"x\": {\"field\": \"Land use\", \"type\": \"ordinal\"}, \"y\": {\"field\": \"Sources\", \"type\": \"ordinal\"}}, \"width\": 500, \"$schema\": \"https://vega.github.io/schema/vega-lite/v5.15.1.json\", \"datasets\": {\"data-14fa249bf82bb4c0b504de6953ec3f8c\": [{\"Year\": 2050, \"Land use\": \"Apples\", \"Irrigation\": \"dry\", \"Sources\": \"TCO2E_CHEM_APPL\", \"Quantity (Mt CO2e)\": 0.0}, {\"Year\": 2050, \"Land use\": \"Apples\", \"Irrigation\": \"dry\", \"Sources\": \"TCO2E_CROP_MGT\", \"Quantity (Mt CO2e)\": 0.0}, {\"Year\": 2050, \"Land use\": \"Apples\", \"Irrigation\": \"dry\", \"Sources\": \"TCO2E_CULTIV\", \"Quantity (Mt CO2e)\": 0.0}, {\"Year\": 2050, \"Land use\": \"Apples\", \"Irrigation\": \"dry\", \"Sources\": \"TCO2E_DUNG_URINE\", \"Quantity (Mt CO2e)\": 0.0}, {\"Year\": 2050, \"Land use\": \"Apples\", \"Irrigation\": \"dry\", \"Sources\": \"TCO2E_ELEC\", \"Quantity (Mt CO2e)\": 0.0}, {\"Year\": 2050, \"Land use\": \"Apples\", \"Irrigation\": \"dry\", \"Sources\": \"TCO2E_ENTERIC\", \"Quantity (Mt CO2e)\": 0.0}, {\"Year\": 2050, \"Land use\": \"Apples\", \"Irrigation\": \"dry\", \"Sources\": \"TCO2E_FERT_PROD\", \"Quantity (Mt CO2e)\": 0.0}, {\"Year\": 2050, \"Land use\": \"Apples\", \"Irrigation\": \"dry\", \"Sources\": \"TCO2E_FODDER\", \"Quantity (Mt CO2e)\": 0.0}, {\"Year\": 2050, \"Land use\": \"Apples\", \"Irrigation\": \"dry\", \"Sources\": \"TCO2E_FUEL\", \"Quantity (Mt CO2e)\": 0.0}, {\"Year\": 2050, \"Land use\": \"Apples\", \"Irrigation\": \"dry\", \"Sources\": \"TCO2E_HARVEST\", \"Quantity (Mt CO2e)\": 0.0}, {\"Year\": 2050, \"Land use\": \"Apples\", \"Irrigation\": \"dry\", \"Sources\": \"TCO2E_IND_LEACH_RUNOFF\", \"Quantity (Mt CO2e)\": 0.0}, {\"Year\": 2050, \"Land use\": \"Apples\", \"Irrigation\": \"dry\", \"Sources\": \"TCO2E_IRRIG\", \"Quantity (Mt CO2e)\": 0.0}, {\"Year\": 2050, \"Land use\": \"Apples\", \"Irrigation\": \"dry\", \"Sources\": \"TCO2E_MANURE_MGT\", \"Quantity (Mt CO2e)\": 0.0}, {\"Year\": 2050, \"Land use\": \"Apples\", \"Irrigation\": \"dry\", \"Sources\": \"TCO2E_PEST_PROD\", \"Quantity (Mt CO2e)\": 0.0}, {\"Year\": 2050, \"Land use\": \"Apples\", \"Irrigation\": \"dry\", \"Sources\": \"TCO2E_SEED\", \"Quantity (Mt CO2e)\": 0.0}, {\"Year\": 2050, \"Land use\": \"Apples\", \"Irrigation\": \"dry\", \"Sources\": \"TCO2E_SOIL\", \"Quantity (Mt CO2e)\": 0.0}, {\"Year\": 2050, \"Land use\": \"Apples\", \"Irrigation\": \"dry\", \"Sources\": \"TCO2E_SOWING\", \"Quantity (Mt CO2e)\": 0.0}, {\"Year\": 2050, \"Land use\": \"Apples\", \"Irrigation\": \"irr\", \"Sources\": \"TCO2E_CHEM_APPL\", \"Quantity (Mt CO2e)\": 0.0005479201049804688}, {\"Year\": 2050, \"Land use\": \"Apples\", \"Irrigation\": \"irr\", \"Sources\": \"TCO2E_CROP_MGT\", \"Quantity (Mt CO2e)\": 0.00015802915954589843}, {\"Year\": 2050, \"Land use\": \"Apples\", \"Irrigation\": \"irr\", \"Sources\": \"TCO2E_CULTIV\", \"Quantity (Mt CO2e)\": 0.0003213607788085937}, {\"Year\": 2050, \"Land use\": \"Apples\", \"Irrigation\": \"irr\", \"Sources\": \"TCO2E_DUNG_URINE\", \"Quantity (Mt CO2e)\": 0.0}, {\"Year\": 2050, \"Land use\": \"Apples\", \"Irrigation\": \"irr\", \"Sources\": \"TCO2E_ELEC\", \"Quantity (Mt CO2e)\": 0.0}, {\"Year\": 2050, \"Land use\": \"Apples\", \"Irrigation\": \"irr\", \"Sources\": \"TCO2E_ENTERIC\", \"Quantity (Mt CO2e)\": 0.0}, {\"Year\": 2050, \"Land use\": \"Apples\", \"Irrigation\": \"irr\", \"Sources\": \"TCO2E_FERT_PROD\", \"Quantity (Mt CO2e)\": 0.0005213121948242187}, {\"Year\": 2050, \"Land use\": \"Apples\", \"Irrigation\": \"irr\", \"Sources\": \"TCO2E_FODDER\", \"Quantity (Mt CO2e)\": 0.0}, {\"Year\": 2050, \"Land use\": \"Apples\", \"Irrigation\": \"irr\", \"Sources\": \"TCO2E_FUEL\", \"Quantity (Mt CO2e)\": 0.0}, {\"Year\": 2050, \"Land use\": \"Apples\", \"Irrigation\": \"irr\", \"Sources\": \"TCO2E_HARVEST\", \"Quantity (Mt CO2e)\": 0.00021113401794433596}, {\"Year\": 2050, \"Land use\": \"Apples\", \"Irrigation\": \"irr\", \"Sources\": \"TCO2E_IND_LEACH_RUNOFF\", \"Quantity (Mt CO2e)\": 0.0}, {\"Year\": 2050, \"Land use\": \"Apples\", \"Irrigation\": \"irr\", \"Sources\": \"TCO2E_IRRIG\", \"Quantity (Mt CO2e)\": 0.0002978612670898437}, {\"Year\": 2050, \"Land use\": \"Apples\", \"Irrigation\": \"irr\", \"Sources\": \"TCO2E_MANURE_MGT\", \"Quantity (Mt CO2e)\": 0.0}, {\"Year\": 2050, \"Land use\": \"Apples\", \"Irrigation\": \"irr\", \"Sources\": \"TCO2E_PEST_PROD\", \"Quantity (Mt CO2e)\": 0.00040295156860351564}, {\"Year\": 2050, \"Land use\": \"Apples\", \"Irrigation\": \"irr\", \"Sources\": \"TCO2E_SEED\", \"Quantity (Mt CO2e)\": 0.0}, {\"Year\": 2050, \"Land use\": \"Apples\", \"Irrigation\": \"irr\", \"Sources\": \"TCO2E_SOIL\", \"Quantity (Mt CO2e)\": 0.0015796806640625}, {\"Year\": 2050, \"Land use\": \"Apples\", \"Irrigation\": \"irr\", \"Sources\": \"TCO2E_SOWING\", \"Quantity (Mt CO2e)\": 0.0}, {\"Year\": 2050, \"Land use\": \"Beef\", \"Irrigation\": \"dry\", \"Sources\": \"TCO2E_CHEM_APPL\", \"Quantity (Mt CO2e)\": 0.00024046005110159375}, {\"Year\": 2050, \"Land use\": \"Beef\", \"Irrigation\": \"dry\", \"Sources\": \"TCO2E_CROP_MGT\", \"Quantity (Mt CO2e)\": 6.613160159788958e-05}, {\"Year\": 2050, \"Land use\": \"Beef\", \"Irrigation\": \"dry\", \"Sources\": \"TCO2E_CULTIV\", \"Quantity (Mt CO2e)\": 0.00016292665275456238}, {\"Year\": 2050, \"Land use\": \"Beef\", \"Irrigation\": \"dry\", \"Sources\": \"TCO2E_DUNG_URINE\", \"Quantity (Mt CO2e)\": 1.9085709451836017}, {\"Year\": 2050, \"Land use\": \"Beef\", \"Irrigation\": \"dry\", \"Sources\": \"TCO2E_ELEC\", \"Quantity (Mt CO2e)\": 0.0}, {\"Year\": 2050, \"Land use\": \"Beef\", \"Irrigation\": \"dry\", \"Sources\": \"TCO2E_ENTERIC\", \"Quantity (Mt CO2e)\": 29.4593111707472}, {\"Year\": 2050, \"Land use\": \"Beef\", \"Irrigation\": \"dry\", \"Sources\": \"TCO2E_FERT_PROD\", \"Quantity (Mt CO2e)\": 0.0008949061288215526}, {\"Year\": 2050, \"Land use\": \"Beef\", \"Irrigation\": \"dry\", \"Sources\": \"TCO2E_FODDER\", \"Quantity (Mt CO2e)\": 0.4890386721049738}, {\"Year\": 2050, \"Land use\": \"Beef\", \"Irrigation\": \"dry\", \"Sources\": \"TCO2E_FUEL\", \"Quantity (Mt CO2e)\": 1.3512257535841237}, {\"Year\": 2050, \"Land use\": \"Beef\", \"Irrigation\": \"dry\", \"Sources\": \"TCO2E_HARVEST\", \"Quantity (Mt CO2e)\": 7.845760194071732e-05}, {\"Year\": 2050, \"Land use\": \"Beef\", \"Irrigation\": \"dry\", \"Sources\": \"TCO2E_IND_LEACH_RUNOFF\", \"Quantity (Mt CO2e)\": 0.9147280832930118}, {\"Year\": 2050, \"Land use\": \"Beef\", \"Irrigation\": \"dry\", \"Sources\": \"TCO2E_IRRIG\", \"Quantity (Mt CO2e)\": 0.0}, {\"Year\": 2050, \"Land use\": \"Beef\", \"Irrigation\": \"dry\", \"Sources\": \"TCO2E_MANURE_MGT\", \"Quantity (Mt CO2e)\": 0.017489263832380586}, {\"Year\": 2050, \"Land use\": \"Beef\", \"Irrigation\": \"dry\", \"Sources\": \"TCO2E_PEST_PROD\", \"Quantity (Mt CO2e)\": 0.0003485977244816668}, {\"Year\": 2050, \"Land use\": \"Beef\", \"Irrigation\": \"dry\", \"Sources\": \"TCO2E_SEED\", \"Quantity (Mt CO2e)\": 3.551881386684331}, {\"Year\": 2050, \"Land use\": \"Beef\", \"Irrigation\": \"dry\", \"Sources\": \"TCO2E_SOIL\", \"Quantity (Mt CO2e)\": 0.0009505883825997764}, {\"Year\": 2050, \"Land use\": \"Beef\", \"Irrigation\": \"dry\", \"Sources\": \"TCO2E_SOWING\", \"Quantity (Mt CO2e)\": 1.3350656039916145e-05}, {\"Year\": 2050, \"Land use\": \"Beef\", \"Irrigation\": \"irr\", \"Sources\": \"TCO2E_CHEM_APPL\", \"Quantity (Mt CO2e)\": 0.010572986153565377}, {\"Year\": 2050, \"Land use\": \"Beef\", \"Irrigation\": \"irr\", \"Sources\": \"TCO2E_CROP_MGT\", \"Quantity (Mt CO2e)\": 1.6845042377161549e-06}, {\"Year\": 2050, \"Land use\": \"Beef\", \"Irrigation\": \"irr\", \"Sources\": \"TCO2E_CULTIV\", \"Quantity (Mt CO2e)\": 0.029038554303175736}, {\"Year\": 2050, \"Land use\": \"Beef\", \"Irrigation\": \"irr\", \"Sources\": \"TCO2E_DUNG_URINE\", \"Quantity (Mt CO2e)\": 0.1516401061553955}, {\"Year\": 2050, \"Land use\": \"Beef\", \"Irrigation\": \"irr\", \"Sources\": \"TCO2E_ELEC\", \"Quantity (Mt CO2e)\": 0.0}, {\"Year\": 2050, \"Land use\": \"Beef\", \"Irrigation\": \"irr\", \"Sources\": \"TCO2E_ENTERIC\", \"Quantity (Mt CO2e)\": 1.59949791796875}, {\"Year\": 2050, \"Land use\": \"Beef\", \"Irrigation\": \"irr\", \"Sources\": \"TCO2E_FERT_PROD\", \"Quantity (Mt CO2e)\": 0.07718711530725861}, {\"Year\": 2050, \"Land use\": \"Beef\", \"Irrigation\": \"irr\", \"Sources\": \"TCO2E_FODDER\", \"Quantity (Mt CO2e)\": 0.01782005409705639}, {\"Year\": 2050, \"Land use\": \"Beef\", \"Irrigation\": \"irr\", \"Sources\": \"TCO2E_FUEL\", \"Quantity (Mt CO2e)\": 0.37258862178897856}, {\"Year\": 2050, \"Land use\": \"Beef\", \"Irrigation\": \"irr\", \"Sources\": \"TCO2E_HARVEST\", \"Quantity (Mt CO2e)\": 2.18251555605741e-06}, {\"Year\": 2050, \"Land use\": \"Beef\", \"Irrigation\": \"irr\", \"Sources\": \"TCO2E_IND_LEACH_RUNOFF\", \"Quantity (Mt CO2e)\": 0.1345366752011776}, {\"Year\": 2050, \"Land use\": \"Beef\", \"Irrigation\": \"irr\", \"Sources\": \"TCO2E_IRRIG\", \"Quantity (Mt CO2e)\": 0.014692348425052515}, {\"Year\": 2050, \"Land use\": \"Beef\", \"Irrigation\": \"irr\", \"Sources\": \"TCO2E_MANURE_MGT\", \"Quantity (Mt CO2e)\": 0.0002707217124700546}, {\"Year\": 2050, \"Land use\": \"Beef\", \"Irrigation\": \"irr\", \"Sources\": \"TCO2E_PEST_PROD\", \"Quantity (Mt CO2e)\": 0.02109296026290717}, {\"Year\": 2050, \"Land use\": \"Beef\", \"Irrigation\": \"irr\", \"Sources\": \"TCO2E_SEED\", \"Quantity (Mt CO2e)\": 0.004683153240680695}, {\"Year\": 2050, \"Land use\": \"Beef\", \"Irrigation\": \"irr\", \"Sources\": \"TCO2E_SOIL\", \"Quantity (Mt CO2e)\": 0.15612802577671295}, {\"Year\": 2050, \"Land use\": \"Beef\", \"Irrigation\": \"irr\", \"Sources\": \"TCO2E_SOWING\", \"Quantity (Mt CO2e)\": 0.007192894791175653}, {\"Year\": 2050, \"Land use\": \"Citrus\", \"Irrigation\": \"dry\", \"Sources\": \"TCO2E_CHEM_APPL\", \"Quantity (Mt CO2e)\": 0.0015895270430256424}, {\"Year\": 2050, \"Land use\": \"Citrus\", \"Irrigation\": \"dry\", \"Sources\": \"TCO2E_CROP_MGT\", \"Quantity (Mt CO2e)\": 0.0007846651000976562}, {\"Year\": 2050, \"Land use\": \"Citrus\", \"Irrigation\": \"dry\", \"Sources\": \"TCO2E_CULTIV\", \"Quantity (Mt CO2e)\": 0.0}, {\"Year\": 2050, \"Land use\": \"Citrus\", \"Irrigation\": \"dry\", \"Sources\": \"TCO2E_DUNG_URINE\", \"Quantity (Mt CO2e)\": 0.0}, {\"Year\": 2050, \"Land use\": \"Citrus\", \"Irrigation\": \"dry\", \"Sources\": \"TCO2E_ELEC\", \"Quantity (Mt CO2e)\": 0.0}, {\"Year\": 2050, \"Land use\": \"Citrus\", \"Irrigation\": \"dry\", \"Sources\": \"TCO2E_ENTERIC\", \"Quantity (Mt CO2e)\": 0.0}, {\"Year\": 2050, \"Land use\": \"Citrus\", \"Irrigation\": \"dry\", \"Sources\": \"TCO2E_FERT_PROD\", \"Quantity (Mt CO2e)\": 0.02520005308356844}, {\"Year\": 2050, \"Land use\": \"Citrus\", \"Irrigation\": \"dry\", \"Sources\": \"TCO2E_FODDER\", \"Quantity (Mt CO2e)\": 0.0}, {\"Year\": 2050, \"Land use\": \"Citrus\", \"Irrigation\": \"dry\", \"Sources\": \"TCO2E_FUEL\", \"Quantity (Mt CO2e)\": 0.0}, {\"Year\": 2050, \"Land use\": \"Citrus\", \"Irrigation\": \"dry\", \"Sources\": \"TCO2E_HARVEST\", \"Quantity (Mt CO2e)\": 0.0}, {\"Year\": 2050, \"Land use\": \"Citrus\", \"Irrigation\": \"dry\", \"Sources\": \"TCO2E_IND_LEACH_RUNOFF\", \"Quantity (Mt CO2e)\": 0.0}, {\"Year\": 2050, \"Land use\": \"Citrus\", \"Irrigation\": \"dry\", \"Sources\": \"TCO2E_IRRIG\", \"Quantity (Mt CO2e)\": 0.0}, {\"Year\": 2050, \"Land use\": \"Citrus\", \"Irrigation\": \"dry\", \"Sources\": \"TCO2E_MANURE_MGT\", \"Quantity (Mt CO2e)\": 0.0}, {\"Year\": 2050, \"Land use\": \"Citrus\", \"Irrigation\": \"dry\", \"Sources\": \"TCO2E_PEST_PROD\", \"Quantity (Mt CO2e)\": 0.00692704862851042}, {\"Year\": 2050, \"Land use\": \"Citrus\", \"Irrigation\": \"dry\", \"Sources\": \"TCO2E_SEED\", \"Quantity (Mt CO2e)\": 0.0}, {\"Year\": 2050, \"Land use\": \"Citrus\", \"Irrigation\": \"dry\", \"Sources\": \"TCO2E_SOIL\", \"Quantity (Mt CO2e)\": 0.0233612138671875}, {\"Year\": 2050, \"Land use\": \"Citrus\", \"Irrigation\": \"dry\", \"Sources\": \"TCO2E_SOWING\", \"Quantity (Mt CO2e)\": 2.8995428434257746e-05}, {\"Year\": 2050, \"Land use\": \"Citrus\", \"Irrigation\": \"irr\", \"Sources\": \"TCO2E_CHEM_APPL\", \"Quantity (Mt CO2e)\": 0.0011066396716034796}, {\"Year\": 2050, \"Land use\": \"Citrus\", \"Irrigation\": \"irr\", \"Sources\": \"TCO2E_CROP_MGT\", \"Quantity (Mt CO2e)\": 0.0005666075158751591}, {\"Year\": 2050, \"Land use\": \"Citrus\", \"Irrigation\": \"irr\", \"Sources\": \"TCO2E_CULTIV\", \"Quantity (Mt CO2e)\": 0.0}, {\"Year\": 2050, \"Land use\": \"Citrus\", \"Irrigation\": \"irr\", \"Sources\": \"TCO2E_DUNG_URINE\", \"Quantity (Mt CO2e)\": 0.0}, {\"Year\": 2050, \"Land use\": \"Citrus\", \"Irrigation\": \"irr\", \"Sources\": \"TCO2E_ELEC\", \"Quantity (Mt CO2e)\": 0.0}, {\"Year\": 2050, \"Land use\": \"Citrus\", \"Irrigation\": \"irr\", \"Sources\": \"TCO2E_ENTERIC\", \"Quantity (Mt CO2e)\": 0.0}, {\"Year\": 2050, \"Land use\": \"Citrus\", \"Irrigation\": \"irr\", \"Sources\": \"TCO2E_FERT_PROD\", \"Quantity (Mt CO2e)\": 0.01822057499994023}, {\"Year\": 2050, \"Land use\": \"Citrus\", \"Irrigation\": \"irr\", \"Sources\": \"TCO2E_FODDER\", \"Quantity (Mt CO2e)\": 0.0}, {\"Year\": 2050, \"Land use\": \"Citrus\", \"Irrigation\": \"irr\", \"Sources\": \"TCO2E_FUEL\", \"Quantity (Mt CO2e)\": 0.0}, {\"Year\": 2050, \"Land use\": \"Citrus\", \"Irrigation\": \"irr\", \"Sources\": \"TCO2E_HARVEST\", \"Quantity (Mt CO2e)\": 0.0}, {\"Year\": 2050, \"Land use\": \"Citrus\", \"Irrigation\": \"irr\", \"Sources\": \"TCO2E_IND_LEACH_RUNOFF\", \"Quantity (Mt CO2e)\": 0.0}, {\"Year\": 2050, \"Land use\": \"Citrus\", \"Irrigation\": \"irr\", \"Sources\": \"TCO2E_IRRIG\", \"Quantity (Mt CO2e)\": 0.001951323363464122}, {\"Year\": 2050, \"Land use\": \"Citrus\", \"Irrigation\": \"irr\", \"Sources\": \"TCO2E_MANURE_MGT\", \"Quantity (Mt CO2e)\": 0.0}, {\"Year\": 2050, \"Land use\": \"Citrus\", \"Irrigation\": \"irr\", \"Sources\": \"TCO2E_PEST_PROD\", \"Quantity (Mt CO2e)\": 0.004991764103264926}, {\"Year\": 2050, \"Land use\": \"Citrus\", \"Irrigation\": \"irr\", \"Sources\": \"TCO2E_SEED\", \"Quantity (Mt CO2e)\": 0.0}, {\"Year\": 2050, \"Land use\": \"Citrus\", \"Irrigation\": \"irr\", \"Sources\": \"TCO2E_SOIL\", \"Quantity (Mt CO2e)\": 0.016900737102901214}, {\"Year\": 2050, \"Land use\": \"Citrus\", \"Irrigation\": \"irr\", \"Sources\": \"TCO2E_SOWING\", \"Quantity (Mt CO2e)\": 0.0}, {\"Year\": 2050, \"Land use\": \"Cotton\", \"Irrigation\": \"dry\", \"Sources\": \"TCO2E_CHEM_APPL\", \"Quantity (Mt CO2e)\": 0.027216226752014065}, {\"Year\": 2050, \"Land use\": \"Cotton\", \"Irrigation\": \"dry\", \"Sources\": \"TCO2E_CROP_MGT\", \"Quantity (Mt CO2e)\": 0.0}, {\"Year\": 2050, \"Land use\": \"Cotton\", \"Irrigation\": \"dry\", \"Sources\": \"TCO2E_CULTIV\", \"Quantity (Mt CO2e)\": 0.02691193982191729}, {\"Year\": 2050, \"Land use\": \"Cotton\", \"Irrigation\": \"dry\", \"Sources\": \"TCO2E_DUNG_URINE\", \"Quantity (Mt CO2e)\": 0.0}, {\"Year\": 2050, \"Land use\": \"Cotton\", \"Irrigation\": \"dry\", \"Sources\": \"TCO2E_ELEC\", \"Quantity (Mt CO2e)\": 0.0}, {\"Year\": 2050, \"Land use\": \"Cotton\", \"Irrigation\": \"dry\", \"Sources\": \"TCO2E_ENTERIC\", \"Quantity (Mt CO2e)\": 0.0}, {\"Year\": 2050, \"Land use\": \"Cotton\", \"Irrigation\": \"dry\", \"Sources\": \"TCO2E_FERT_PROD\", \"Quantity (Mt CO2e)\": 0.026655108910654274}, {\"Year\": 2050, \"Land use\": \"Cotton\", \"Irrigation\": \"dry\", \"Sources\": \"TCO2E_FODDER\", \"Quantity (Mt CO2e)\": 0.0}, {\"Year\": 2050, \"Land use\": \"Cotton\", \"Irrigation\": \"dry\", \"Sources\": \"TCO2E_FUEL\", \"Quantity (Mt CO2e)\": 0.0}, {\"Year\": 2050, \"Land use\": \"Cotton\", \"Irrigation\": \"dry\", \"Sources\": \"TCO2E_HARVEST\", \"Quantity (Mt CO2e)\": 0.03314360894527422}, {\"Year\": 2050, \"Land use\": \"Cotton\", \"Irrigation\": \"dry\", \"Sources\": \"TCO2E_IND_LEACH_RUNOFF\", \"Quantity (Mt CO2e)\": 0.0}, {\"Year\": 2050, \"Land use\": \"Cotton\", \"Irrigation\": \"dry\", \"Sources\": \"TCO2E_IRRIG\", \"Quantity (Mt CO2e)\": 0.0}, {\"Year\": 2050, \"Land use\": \"Cotton\", \"Irrigation\": \"dry\", \"Sources\": \"TCO2E_MANURE_MGT\", \"Quantity (Mt CO2e)\": 0.0}, {\"Year\": 2050, \"Land use\": \"Cotton\", \"Irrigation\": \"dry\", \"Sources\": \"TCO2E_PEST_PROD\", \"Quantity (Mt CO2e)\": 0.05689608633010885}, {\"Year\": 2050, \"Land use\": \"Cotton\", \"Irrigation\": \"dry\", \"Sources\": \"TCO2E_SEED\", \"Quantity (Mt CO2e)\": 0.0}, {\"Year\": 2050, \"Land use\": \"Cotton\", \"Irrigation\": \"dry\", \"Sources\": \"TCO2E_SOIL\", \"Quantity (Mt CO2e)\": 0.027931887005049342}, {\"Year\": 2050, \"Land use\": \"Cotton\", \"Irrigation\": \"dry\", \"Sources\": \"TCO2E_SOWING\", \"Quantity (Mt CO2e)\": 0.004241732865827067}, {\"Year\": 2050, \"Land use\": \"Cotton\", \"Irrigation\": \"irr\", \"Sources\": \"TCO2E_CHEM_APPL\", \"Quantity (Mt CO2e)\": 0.027583234932190698}, {\"Year\": 2050, \"Land use\": \"Cotton\", \"Irrigation\": \"irr\", \"Sources\": \"TCO2E_CROP_MGT\", \"Quantity (Mt CO2e)\": 0.0}, {\"Year\": 2050, \"Land use\": \"Cotton\", \"Irrigation\": \"irr\", \"Sources\": \"TCO2E_CULTIV\", \"Quantity (Mt CO2e)\": 0.02404255320260506}, {\"Year\": 2050, \"Land use\": \"Cotton\", \"Irrigation\": \"irr\", \"Sources\": \"TCO2E_DUNG_URINE\", \"Quantity (Mt CO2e)\": 0.0}, {\"Year\": 2050, \"Land use\": \"Cotton\", \"Irrigation\": \"irr\", \"Sources\": \"TCO2E_ELEC\", \"Quantity (Mt CO2e)\": 0.0}, {\"Year\": 2050, \"Land use\": \"Cotton\", \"Irrigation\": \"irr\", \"Sources\": \"TCO2E_ENTERIC\", \"Quantity (Mt CO2e)\": 0.0}, {\"Year\": 2050, \"Land use\": \"Cotton\", \"Irrigation\": \"irr\", \"Sources\": \"TCO2E_FERT_PROD\", \"Quantity (Mt CO2e)\": 0.08890196841521764}, {\"Year\": 2050, \"Land use\": \"Cotton\", \"Irrigation\": \"irr\", \"Sources\": \"TCO2E_FODDER\", \"Quantity (Mt CO2e)\": 0.0}, {\"Year\": 2050, \"Land use\": \"Cotton\", \"Irrigation\": \"irr\", \"Sources\": \"TCO2E_FUEL\", \"Quantity (Mt CO2e)\": 0.0}, {\"Year\": 2050, \"Land use\": \"Cotton\", \"Irrigation\": \"irr\", \"Sources\": \"TCO2E_HARVEST\", \"Quantity (Mt CO2e)\": 0.03006681531376874}, {\"Year\": 2050, \"Land use\": \"Cotton\", \"Irrigation\": \"irr\", \"Sources\": \"TCO2E_IND_LEACH_RUNOFF\", \"Quantity (Mt CO2e)\": 0.0}, {\"Year\": 2050, \"Land use\": \"Cotton\", \"Irrigation\": \"irr\", \"Sources\": \"TCO2E_IRRIG\", \"Quantity (Mt CO2e)\": 0.01873802276841414}, {\"Year\": 2050, \"Land use\": \"Cotton\", \"Irrigation\": \"irr\", \"Sources\": \"TCO2E_MANURE_MGT\", \"Quantity (Mt CO2e)\": 0.0}, {\"Year\": 2050, \"Land use\": \"Cotton\", \"Irrigation\": \"irr\", \"Sources\": \"TCO2E_PEST_PROD\", \"Quantity (Mt CO2e)\": 0.055555667517770184}, {\"Year\": 2050, \"Land use\": \"Cotton\", \"Irrigation\": \"irr\", \"Sources\": \"TCO2E_SEED\", \"Quantity (Mt CO2e)\": 0.0}, {\"Year\": 2050, \"Land use\": \"Cotton\", \"Irrigation\": \"irr\", \"Sources\": \"TCO2E_SOIL\", \"Quantity (Mt CO2e)\": 0.11881217213552375}, {\"Year\": 2050, \"Land use\": \"Cotton\", \"Irrigation\": \"irr\", \"Sources\": \"TCO2E_SOWING\", \"Quantity (Mt CO2e)\": 0.002871843986319742}, {\"Year\": 2050, \"Land use\": \"Dairy\", \"Irrigation\": \"dry\", \"Sources\": \"TCO2E_CHEM_APPL\", \"Quantity (Mt CO2e)\": 0.0}, {\"Year\": 2050, \"Land use\": \"Dairy\", \"Irrigation\": \"dry\", \"Sources\": \"TCO2E_CROP_MGT\", \"Quantity (Mt CO2e)\": 0.0}, {\"Year\": 2050, \"Land use\": \"Dairy\", \"Irrigation\": \"dry\", \"Sources\": \"TCO2E_CULTIV\", \"Quantity (Mt CO2e)\": 0.0}, {\"Year\": 2050, \"Land use\": \"Dairy\", \"Irrigation\": \"dry\", \"Sources\": \"TCO2E_DUNG_URINE\", \"Quantity (Mt CO2e)\": 0.14120975447740075}, {\"Year\": 2050, \"Land use\": \"Dairy\", \"Irrigation\": \"dry\", \"Sources\": \"TCO2E_ELEC\", \"Quantity (Mt CO2e)\": 0.08562600516475587}, {\"Year\": 2050, \"Land use\": \"Dairy\", \"Irrigation\": \"dry\", \"Sources\": \"TCO2E_ENTERIC\", \"Quantity (Mt CO2e)\": 1.3379697691403987}, {\"Year\": 2050, \"Land use\": \"Dairy\", \"Irrigation\": \"dry\", \"Sources\": \"TCO2E_FERT_PROD\", \"Quantity (Mt CO2e)\": 0.0}, {\"Year\": 2050, \"Land use\": \"Dairy\", \"Irrigation\": \"dry\", \"Sources\": \"TCO2E_FODDER\", \"Quantity (Mt CO2e)\": 0.1653715657115053}, {\"Year\": 2050, \"Land use\": \"Dairy\", \"Irrigation\": \"dry\", \"Sources\": \"TCO2E_FUEL\", \"Quantity (Mt CO2e)\": 0.1423640067796925}, {\"Year\": 2050, \"Land use\": \"Dairy\", \"Irrigation\": \"dry\", \"Sources\": \"TCO2E_HARVEST\", \"Quantity (Mt CO2e)\": 0.0}, {\"Year\": 2050, \"Land use\": \"Dairy\", \"Irrigation\": \"dry\", \"Sources\": \"TCO2E_IND_LEACH_RUNOFF\", \"Quantity (Mt CO2e)\": 0.18286623163026808}, {\"Year\": 2050, \"Land use\": \"Dairy\", \"Irrigation\": \"dry\", \"Sources\": \"TCO2E_IRRIG\", \"Quantity (Mt CO2e)\": 0.0}, {\"Year\": 2050, \"Land use\": \"Dairy\", \"Irrigation\": \"dry\", \"Sources\": \"TCO2E_MANURE_MGT\", \"Quantity (Mt CO2e)\": 0.0914871322785138}, {\"Year\": 2050, \"Land use\": \"Dairy\", \"Irrigation\": \"dry\", \"Sources\": \"TCO2E_PEST_PROD\", \"Quantity (Mt CO2e)\": 0.0}, {\"Year\": 2050, \"Land use\": \"Dairy\", \"Irrigation\": \"dry\", \"Sources\": \"TCO2E_SEED\", \"Quantity (Mt CO2e)\": 0.05300124840988208}, {\"Year\": 2050, \"Land use\": \"Dairy\", \"Irrigation\": \"dry\", \"Sources\": \"TCO2E_SOIL\", \"Quantity (Mt CO2e)\": 0.0}, {\"Year\": 2050, \"Land use\": \"Dairy\", \"Irrigation\": \"dry\", \"Sources\": \"TCO2E_SOWING\", \"Quantity (Mt CO2e)\": 0.0}, {\"Year\": 2050, \"Land use\": \"Dairy\", \"Irrigation\": \"irr\", \"Sources\": \"TCO2E_CHEM_APPL\", \"Quantity (Mt CO2e)\": 0.01907855241683392}, {\"Year\": 2050, \"Land use\": \"Dairy\", \"Irrigation\": \"irr\", \"Sources\": \"TCO2E_CROP_MGT\", \"Quantity (Mt CO2e)\": 1.0669168641421151e-05}, {\"Year\": 2050, \"Land use\": \"Dairy\", \"Irrigation\": \"irr\", \"Sources\": \"TCO2E_CULTIV\", \"Quantity (Mt CO2e)\": 0.04941707104667344}, {\"Year\": 2050, \"Land use\": \"Dairy\", \"Irrigation\": \"irr\", \"Sources\": \"TCO2E_DUNG_URINE\", \"Quantity (Mt CO2e)\": 0.30641481749932387}, {\"Year\": 2050, \"Land use\": \"Dairy\", \"Irrigation\": \"irr\", \"Sources\": \"TCO2E_ELEC\", \"Quantity (Mt CO2e)\": 0.17979028828868085}, {\"Year\": 2050, \"Land use\": \"Dairy\", \"Irrigation\": \"irr\", \"Sources\": \"TCO2E_ENTERIC\", \"Quantity (Mt CO2e)\": 2.8357511979298016}, {\"Year\": 2050, \"Land use\": \"Dairy\", \"Irrigation\": \"irr\", \"Sources\": \"TCO2E_FERT_PROD\", \"Quantity (Mt CO2e)\": 0.13728667096847302}, {\"Year\": 2050, \"Land use\": \"Dairy\", \"Irrigation\": \"irr\", \"Sources\": \"TCO2E_FODDER\", \"Quantity (Mt CO2e)\": 0.3302874527432579}, {\"Year\": 2050, \"Land use\": \"Dairy\", \"Irrigation\": \"irr\", \"Sources\": \"TCO2E_FUEL\", \"Quantity (Mt CO2e)\": 0.19346471688702804}, {\"Year\": 2050, \"Land use\": \"Dairy\", \"Irrigation\": \"irr\", \"Sources\": \"TCO2E_HARVEST\", \"Quantity (Mt CO2e)\": 1.604626148349752e-05}, {\"Year\": 2050, \"Land use\": \"Dairy\", \"Irrigation\": \"irr\", \"Sources\": \"TCO2E_IND_LEACH_RUNOFF\", \"Quantity (Mt CO2e)\": 0.39140693780435026}, {\"Year\": 2050, \"Land use\": \"Dairy\", \"Irrigation\": \"irr\", \"Sources\": \"TCO2E_IRRIG\", \"Quantity (Mt CO2e)\": 0.02717658904732321}, {\"Year\": 2050, \"Land use\": \"Dairy\", \"Irrigation\": \"irr\", \"Sources\": \"TCO2E_MANURE_MGT\", \"Quantity (Mt CO2e)\": 0.14087619837837637}, {\"Year\": 2050, \"Land use\": \"Dairy\", \"Irrigation\": \"irr\", \"Sources\": \"TCO2E_PEST_PROD\", \"Quantity (Mt CO2e)\": 0.03708616617055777}, {\"Year\": 2050, \"Land use\": \"Dairy\", \"Irrigation\": \"irr\", \"Sources\": \"TCO2E_SEED\", \"Quantity (Mt CO2e)\": 0.06533606076321734}, {\"Year\": 2050, \"Land use\": \"Dairy\", \"Irrigation\": \"irr\", \"Sources\": \"TCO2E_SOIL\", \"Quantity (Mt CO2e)\": 0.27625467882266364}, {\"Year\": 2050, \"Land use\": \"Dairy\", \"Irrigation\": \"irr\", \"Sources\": \"TCO2E_SOWING\", \"Quantity (Mt CO2e)\": 0.012964406150935553}, {\"Year\": 2050, \"Land use\": \"Grapes\", \"Irrigation\": \"dry\", \"Sources\": \"TCO2E_CHEM_APPL\", \"Quantity (Mt CO2e)\": 0.01021575323486328}, {\"Year\": 2050, \"Land use\": \"Grapes\", \"Irrigation\": \"dry\", \"Sources\": \"TCO2E_CROP_MGT\", \"Quantity (Mt CO2e)\": 0.004264967269897461}, {\"Year\": 2050, \"Land use\": \"Grapes\", \"Irrigation\": \"dry\", \"Sources\": \"TCO2E_CULTIV\", \"Quantity (Mt CO2e)\": 0.0043769415283203125}, {\"Year\": 2050, \"Land use\": \"Grapes\", \"Irrigation\": \"dry\", \"Sources\": \"TCO2E_DUNG_URINE\", \"Quantity (Mt CO2e)\": 0.0}, {\"Year\": 2050, \"Land use\": \"Grapes\", \"Irrigation\": \"dry\", \"Sources\": \"TCO2E_ELEC\", \"Quantity (Mt CO2e)\": 0.0}, {\"Year\": 2050, \"Land use\": \"Grapes\", \"Irrigation\": \"dry\", \"Sources\": \"TCO2E_ENTERIC\", \"Quantity (Mt CO2e)\": 0.0}, {\"Year\": 2050, \"Land use\": \"Grapes\", \"Irrigation\": \"dry\", \"Sources\": \"TCO2E_FERT_PROD\", \"Quantity (Mt CO2e)\": 0.02238858459472656}, {\"Year\": 2050, \"Land use\": \"Grapes\", \"Irrigation\": \"dry\", \"Sources\": \"TCO2E_FODDER\", \"Quantity (Mt CO2e)\": 0.0}, {\"Year\": 2050, \"Land use\": \"Grapes\", \"Irrigation\": \"dry\", \"Sources\": \"TCO2E_FUEL\", \"Quantity (Mt CO2e)\": 0.0}, {\"Year\": 2050, \"Land use\": \"Grapes\", \"Irrigation\": \"dry\", \"Sources\": \"TCO2E_HARVEST\", \"Quantity (Mt CO2e)\": 0.0006564288215637207}, {\"Year\": 2050, \"Land use\": \"Grapes\", \"Irrigation\": \"dry\", \"Sources\": \"TCO2E_IND_LEACH_RUNOFF\", \"Quantity (Mt CO2e)\": 0.0}, {\"Year\": 2050, \"Land use\": \"Grapes\", \"Irrigation\": \"dry\", \"Sources\": \"TCO2E_IRRIG\", \"Quantity (Mt CO2e)\": 0.0}, {\"Year\": 2050, \"Land use\": \"Grapes\", \"Irrigation\": \"dry\", \"Sources\": \"TCO2E_MANURE_MGT\", \"Quantity (Mt CO2e)\": 0.0}, {\"Year\": 2050, \"Land use\": \"Grapes\", \"Irrigation\": \"dry\", \"Sources\": \"TCO2E_PEST_PROD\", \"Quantity (Mt CO2e)\": 0.016804963562011718}, {\"Year\": 2050, \"Land use\": \"Grapes\", \"Irrigation\": \"dry\", \"Sources\": \"TCO2E_SEED\", \"Quantity (Mt CO2e)\": 0.0}, {\"Year\": 2050, \"Land use\": \"Grapes\", \"Irrigation\": \"dry\", \"Sources\": \"TCO2E_SOIL\", \"Quantity (Mt CO2e)\": 0.029358091064453126}, {\"Year\": 2050, \"Land use\": \"Grapes\", \"Irrigation\": \"dry\", \"Sources\": \"TCO2E_SOWING\", \"Quantity (Mt CO2e)\": 0.0}, {\"Year\": 2050, \"Land use\": \"Grapes\", \"Irrigation\": \"irr\", \"Sources\": \"TCO2E_CHEM_APPL\", \"Quantity (Mt CO2e)\": 0.007191752853393555}, {\"Year\": 2050, \"Land use\": \"Grapes\", \"Irrigation\": \"irr\", \"Sources\": \"TCO2E_CROP_MGT\", \"Quantity (Mt CO2e)\": 0.006014779968261719}, {\"Year\": 2050, \"Land use\": \"Grapes\", \"Irrigation\": \"irr\", \"Sources\": \"TCO2E_CULTIV\", \"Quantity (Mt CO2e)\": 0.008693382507324219}, {\"Year\": 2050, \"Land use\": \"Grapes\", \"Irrigation\": \"irr\", \"Sources\": \"TCO2E_DUNG_URINE\", \"Quantity (Mt CO2e)\": 0.0}, {\"Year\": 2050, \"Land use\": \"Grapes\", \"Irrigation\": \"irr\", \"Sources\": \"TCO2E_ELEC\", \"Quantity (Mt CO2e)\": 0.0}, {\"Year\": 2050, \"Land use\": \"Grapes\", \"Irrigation\": \"irr\", \"Sources\": \"TCO2E_ENTERIC\", \"Quantity (Mt CO2e)\": 0.0}, {\"Year\": 2050, \"Land use\": \"Grapes\", \"Irrigation\": \"irr\", \"Sources\": \"TCO2E_FERT_PROD\", \"Quantity (Mt CO2e)\": 0.029347329040527344}, {\"Year\": 2050, \"Land use\": \"Grapes\", \"Irrigation\": \"irr\", \"Sources\": \"TCO2E_FODDER\", \"Quantity (Mt CO2e)\": 0.0}, {\"Year\": 2050, \"Land use\": \"Grapes\", \"Irrigation\": \"irr\", \"Sources\": \"TCO2E_FUEL\", \"Quantity (Mt CO2e)\": 0.0}, {\"Year\": 2050, \"Land use\": \"Grapes\", \"Irrigation\": \"irr\", \"Sources\": \"TCO2E_HARVEST\", \"Quantity (Mt CO2e)\": 0.001303784107208252}, {\"Year\": 2050, \"Land use\": \"Grapes\", \"Irrigation\": \"irr\", \"Sources\": \"TCO2E_IND_LEACH_RUNOFF\", \"Quantity (Mt CO2e)\": 0.0}, {\"Year\": 2050, \"Land use\": \"Grapes\", \"Irrigation\": \"irr\", \"Sources\": \"TCO2E_IRRIG\", \"Quantity (Mt CO2e)\": 0.014938663414001465}, {\"Year\": 2050, \"Land use\": \"Grapes\", \"Irrigation\": \"irr\", \"Sources\": \"TCO2E_MANURE_MGT\", \"Quantity (Mt CO2e)\": 0.0}, {\"Year\": 2050, \"Land use\": \"Grapes\", \"Irrigation\": \"irr\", \"Sources\": \"TCO2E_PEST_PROD\", \"Quantity (Mt CO2e)\": 0.011264554138183594}, {\"Year\": 2050, \"Land use\": \"Grapes\", \"Irrigation\": \"irr\", \"Sources\": \"TCO2E_SEED\", \"Quantity (Mt CO2e)\": 0.0}, {\"Year\": 2050, \"Land use\": \"Grapes\", \"Irrigation\": \"irr\", \"Sources\": \"TCO2E_SOIL\", \"Quantity (Mt CO2e)\": 0.04384468408203125}, {\"Year\": 2050, \"Land use\": \"Grapes\", \"Irrigation\": \"irr\", \"Sources\": \"TCO2E_SOWING\", \"Quantity (Mt CO2e)\": 0.0}, {\"Year\": 2050, \"Land use\": \"Hay\", \"Irrigation\": \"dry\", \"Sources\": \"TCO2E_CHEM_APPL\", \"Quantity (Mt CO2e)\": 0.008876003949319861}, {\"Year\": 2050, \"Land use\": \"Hay\", \"Irrigation\": \"dry\", \"Sources\": \"TCO2E_CROP_MGT\", \"Quantity (Mt CO2e)\": 0.0}, {\"Year\": 2050, \"Land use\": \"Hay\", \"Irrigation\": \"dry\", \"Sources\": \"TCO2E_CULTIV\", \"Quantity (Mt CO2e)\": 0.1550637920731882}, {\"Year\": 2050, \"Land use\": \"Hay\", \"Irrigation\": \"dry\", \"Sources\": \"TCO2E_DUNG_URINE\", \"Quantity (Mt CO2e)\": 3.618904788519558e-05}, {\"Year\": 2050, \"Land use\": \"Hay\", \"Irrigation\": \"dry\", \"Sources\": \"TCO2E_ELEC\", \"Quantity (Mt CO2e)\": 0.0}, {\"Year\": 2050, \"Land use\": \"Hay\", \"Irrigation\": \"dry\", \"Sources\": \"TCO2E_ENTERIC\", \"Quantity (Mt CO2e)\": 0.0004264231703500991}, {\"Year\": 2050, \"Land use\": \"Hay\", \"Irrigation\": \"dry\", \"Sources\": \"TCO2E_FERT_PROD\", \"Quantity (Mt CO2e)\": 0.3306185036207578}, {\"Year\": 2050, \"Land use\": \"Hay\", \"Irrigation\": \"dry\", \"Sources\": \"TCO2E_FODDER\", \"Quantity (Mt CO2e)\": 6.5428267720119495e-06}, {\"Year\": 2050, \"Land use\": \"Hay\", \"Irrigation\": \"dry\", \"Sources\": \"TCO2E_FUEL\", \"Quantity (Mt CO2e)\": 0.00017751335507093245}, {\"Year\": 2050, \"Land use\": \"Hay\", \"Irrigation\": \"dry\", \"Sources\": \"TCO2E_HARVEST\", \"Quantity (Mt CO2e)\": 0.0}, {\"Year\": 2050, \"Land use\": \"Hay\", \"Irrigation\": \"dry\", \"Sources\": \"TCO2E_IND_LEACH_RUNOFF\", \"Quantity (Mt CO2e)\": 1.6839366540291394e-05}, {\"Year\": 2050, \"Land use\": \"Hay\", \"Irrigation\": \"dry\", \"Sources\": \"TCO2E_IRRIG\", \"Quantity (Mt CO2e)\": 0.0}, {\"Year\": 2050, \"Land use\": \"Hay\", \"Irrigation\": \"dry\", \"Sources\": \"TCO2E_MANURE_MGT\", \"Quantity (Mt CO2e)\": 1.063098862175593e-07}, {\"Year\": 2050, \"Land use\": \"Hay\", \"Irrigation\": \"dry\", \"Sources\": \"TCO2E_PEST_PROD\", \"Quantity (Mt CO2e)\": 0.11582529960152088}, {\"Year\": 2050, \"Land use\": \"Hay\", \"Irrigation\": \"dry\", \"Sources\": \"TCO2E_SEED\", \"Quantity (Mt CO2e)\": 4.853945292799153e-06}, {\"Year\": 2050, \"Land use\": \"Hay\", \"Irrigation\": \"dry\", \"Sources\": \"TCO2E_SOIL\", \"Quantity (Mt CO2e)\": 0.0}, {\"Year\": 2050, \"Land use\": \"Hay\", \"Irrigation\": \"dry\", \"Sources\": \"TCO2E_SOWING\", \"Quantity (Mt CO2e)\": 0.008876003949319861}, {\"Year\": 2050, \"Land use\": \"Hay\", \"Irrigation\": \"irr\", \"Sources\": \"TCO2E_CHEM_APPL\", \"Quantity (Mt CO2e)\": 0.0006174043350219726}, {\"Year\": 2050, \"Land use\": \"Hay\", \"Irrigation\": \"irr\", \"Sources\": \"TCO2E_CROP_MGT\", \"Quantity (Mt CO2e)\": 0.0}, {\"Year\": 2050, \"Land use\": \"Hay\", \"Irrigation\": \"irr\", \"Sources\": \"TCO2E_CULTIV\", \"Quantity (Mt CO2e)\": 0.010786053924560548}, {\"Year\": 2050, \"Land use\": \"Hay\", \"Irrigation\": \"irr\", \"Sources\": \"TCO2E_DUNG_URINE\", \"Quantity (Mt CO2e)\": 0.0}, {\"Year\": 2050, \"Land use\": \"Hay\", \"Irrigation\": \"irr\", \"Sources\": \"TCO2E_ELEC\", \"Quantity (Mt CO2e)\": 0.0}, {\"Year\": 2050, \"Land use\": \"Hay\", \"Irrigation\": \"irr\", \"Sources\": \"TCO2E_ENTERIC\", \"Quantity (Mt CO2e)\": 0.0}, {\"Year\": 2050, \"Land use\": \"Hay\", \"Irrigation\": \"irr\", \"Sources\": \"TCO2E_FERT_PROD\", \"Quantity (Mt CO2e)\": 0.02299743212890625}, {\"Year\": 2050, \"Land use\": \"Hay\", \"Irrigation\": \"irr\", \"Sources\": \"TCO2E_FODDER\", \"Quantity (Mt CO2e)\": 0.0}, {\"Year\": 2050, \"Land use\": \"Hay\", \"Irrigation\": \"irr\", \"Sources\": \"TCO2E_FUEL\", \"Quantity (Mt CO2e)\": 0.0}, {\"Year\": 2050, \"Land use\": \"Hay\", \"Irrigation\": \"irr\", \"Sources\": \"TCO2E_HARVEST\", \"Quantity (Mt CO2e)\": 0.0}, {\"Year\": 2050, \"Land use\": \"Hay\", \"Irrigation\": \"irr\", \"Sources\": \"TCO2E_IND_LEACH_RUNOFF\", \"Quantity (Mt CO2e)\": 0.0}, {\"Year\": 2050, \"Land use\": \"Hay\", \"Irrigation\": \"irr\", \"Sources\": \"TCO2E_IRRIG\", \"Quantity (Mt CO2e)\": 0.007246783508300781}, {\"Year\": 2050, \"Land use\": \"Hay\", \"Irrigation\": \"irr\", \"Sources\": \"TCO2E_MANURE_MGT\", \"Quantity (Mt CO2e)\": 0.0}, {\"Year\": 2050, \"Land use\": \"Hay\", \"Irrigation\": \"irr\", \"Sources\": \"TCO2E_PEST_PROD\", \"Quantity (Mt CO2e)\": 0.008056670837402344}, {\"Year\": 2050, \"Land use\": \"Hay\", \"Irrigation\": \"irr\", \"Sources\": \"TCO2E_SEED\", \"Quantity (Mt CO2e)\": 0.0}, {\"Year\": 2050, \"Land use\": \"Hay\", \"Irrigation\": \"irr\", \"Sources\": \"TCO2E_SOIL\", \"Quantity (Mt CO2e)\": 0.0}, {\"Year\": 2050, \"Land use\": \"Hay\", \"Irrigation\": \"irr\", \"Sources\": \"TCO2E_SOWING\", \"Quantity (Mt CO2e)\": 0.0006174043350219726}, {\"Year\": 2050, \"Land use\": \"Nuts\", \"Irrigation\": \"dry\", \"Sources\": \"TCO2E_CHEM_APPL\", \"Quantity (Mt CO2e)\": 0.00790124609375}, {\"Year\": 2050, \"Land use\": \"Nuts\", \"Irrigation\": \"dry\", \"Sources\": \"TCO2E_CROP_MGT\", \"Quantity (Mt CO2e)\": 0.002194219116210937}, {\"Year\": 2050, \"Land use\": \"Nuts\", \"Irrigation\": \"dry\", \"Sources\": \"TCO2E_CULTIV\", \"Quantity (Mt CO2e)\": 0.005405838623046875}, {\"Year\": 2050, \"Land use\": \"Nuts\", \"Irrigation\": \"dry\", \"Sources\": \"TCO2E_DUNG_URINE\", \"Quantity (Mt CO2e)\": 0.0}, {\"Year\": 2050, \"Land use\": \"Nuts\", \"Irrigation\": \"dry\", \"Sources\": \"TCO2E_ELEC\", \"Quantity (Mt CO2e)\": 0.0}, {\"Year\": 2050, \"Land use\": \"Nuts\", \"Irrigation\": \"dry\", \"Sources\": \"TCO2E_ENTERIC\", \"Quantity (Mt CO2e)\": 0.0}, {\"Year\": 2050, \"Land use\": \"Nuts\", \"Irrigation\": \"dry\", \"Sources\": \"TCO2E_FERT_PROD\", \"Quantity (Mt CO2e)\": 0.02944235876464844}, {\"Year\": 2050, \"Land use\": \"Nuts\", \"Irrigation\": \"dry\", \"Sources\": \"TCO2E_FODDER\", \"Quantity (Mt CO2e)\": 0.0}, {\"Year\": 2050, \"Land use\": \"Nuts\", \"Irrigation\": \"dry\", \"Sources\": \"TCO2E_FUEL\", \"Quantity (Mt CO2e)\": 0.0}, {\"Year\": 2050, \"Land use\": \"Nuts\", \"Irrigation\": \"dry\", \"Sources\": \"TCO2E_HARVEST\", \"Quantity (Mt CO2e)\": 0.002581147109985352}, {\"Year\": 2050, \"Land use\": \"Nuts\", \"Irrigation\": \"dry\", \"Sources\": \"TCO2E_IND_LEACH_RUNOFF\", \"Quantity (Mt CO2e)\": 0.0}, {\"Year\": 2050, \"Land use\": \"Nuts\", \"Irrigation\": \"dry\", \"Sources\": \"TCO2E_IRRIG\", \"Quantity (Mt CO2e)\": 0.0}, {\"Year\": 2050, \"Land use\": \"Nuts\", \"Irrigation\": \"dry\", \"Sources\": \"TCO2E_MANURE_MGT\", \"Quantity (Mt CO2e)\": 0.0}, {\"Year\": 2050, \"Land use\": \"Nuts\", \"Irrigation\": \"dry\", \"Sources\": \"TCO2E_PEST_PROD\", \"Quantity (Mt CO2e)\": 0.01130440948486328}, {\"Year\": 2050, \"Land use\": \"Nuts\", \"Irrigation\": \"dry\", \"Sources\": \"TCO2E_SEED\", \"Quantity (Mt CO2e)\": 0.0}, {\"Year\": 2050, \"Land use\": \"Nuts\", \"Irrigation\": \"dry\", \"Sources\": \"TCO2E_SOIL\", \"Quantity (Mt CO2e)\": 0.031475505859375}, {\"Year\": 2050, \"Land use\": \"Nuts\", \"Irrigation\": \"dry\", \"Sources\": \"TCO2E_SOWING\", \"Quantity (Mt CO2e)\": 0.0003847254581451416}, {\"Year\": 2050, \"Land use\": \"Nuts\", \"Irrigation\": \"irr\", \"Sources\": \"TCO2E_CHEM_APPL\", \"Quantity (Mt CO2e)\": 0.0018052612609863279}, {\"Year\": 2050, \"Land use\": \"Nuts\", \"Irrigation\": \"irr\", \"Sources\": \"TCO2E_CROP_MGT\", \"Quantity (Mt CO2e)\": 0.0005552558746337891}, {\"Year\": 2050, \"Land use\": \"Nuts\", \"Irrigation\": \"irr\", \"Sources\": \"TCO2E_CULTIV\", \"Quantity (Mt CO2e)\": 0.0015137091064453124}, {\"Year\": 2050, \"Land use\": \"Nuts\", \"Irrigation\": \"irr\", \"Sources\": \"TCO2E_DUNG_URINE\", \"Quantity (Mt CO2e)\": 0.0}, {\"Year\": 2050, \"Land use\": \"Nuts\", \"Irrigation\": \"irr\", \"Sources\": \"TCO2E_ELEC\", \"Quantity (Mt CO2e)\": 0.0}, {\"Year\": 2050, \"Land use\": \"Nuts\", \"Irrigation\": \"irr\", \"Sources\": \"TCO2E_ENTERIC\", \"Quantity (Mt CO2e)\": 0.0}, {\"Year\": 2050, \"Land use\": \"Nuts\", \"Irrigation\": \"irr\", \"Sources\": \"TCO2E_FERT_PROD\", \"Quantity (Mt CO2e)\": 0.00623434375}, {\"Year\": 2050, \"Land use\": \"Nuts\", \"Irrigation\": \"irr\", \"Sources\": \"TCO2E_FODDER\", \"Quantity (Mt CO2e)\": 0.0}, {\"Year\": 2050, \"Land use\": \"Nuts\", \"Irrigation\": \"irr\", \"Sources\": \"TCO2E_FUEL\", \"Quantity (Mt CO2e)\": 0.0}, {\"Year\": 2050, \"Land use\": \"Nuts\", \"Irrigation\": \"irr\", \"Sources\": \"TCO2E_HARVEST\", \"Quantity (Mt CO2e)\": 0.0007194131774902343}, {\"Year\": 2050, \"Land use\": \"Nuts\", \"Irrigation\": \"irr\", \"Sources\": \"TCO2E_IND_LEACH_RUNOFF\", \"Quantity (Mt CO2e)\": 0.0}, {\"Year\": 2050, \"Land use\": \"Nuts\", \"Irrigation\": \"irr\", \"Sources\": \"TCO2E_IRRIG\", \"Quantity (Mt CO2e)\": 0.0008418227386474609}, {\"Year\": 2050, \"Land use\": \"Nuts\", \"Irrigation\": \"irr\", \"Sources\": \"TCO2E_MANURE_MGT\", \"Quantity (Mt CO2e)\": 0.0}, {\"Year\": 2050, \"Land use\": \"Nuts\", \"Irrigation\": \"irr\", \"Sources\": \"TCO2E_PEST_PROD\", \"Quantity (Mt CO2e)\": 0.002895525390625}, {\"Year\": 2050, \"Land use\": \"Nuts\", \"Irrigation\": \"irr\", \"Sources\": \"TCO2E_SEED\", \"Quantity (Mt CO2e)\": 0.0}, {\"Year\": 2050, \"Land use\": \"Nuts\", \"Irrigation\": \"irr\", \"Sources\": \"TCO2E_SOIL\", \"Quantity (Mt CO2e)\": 0.008466341064453126}, {\"Year\": 2050, \"Land use\": \"Nuts\", \"Irrigation\": \"irr\", \"Sources\": \"TCO2E_SOWING\", \"Quantity (Mt CO2e)\": 8.89841766357422e-05}, {\"Year\": 2050, \"Land use\": \"Other non-cereal crops\", \"Irrigation\": \"dry\", \"Sources\": \"TCO2E_CHEM_APPL\", \"Quantity (Mt CO2e)\": 0.00013708648681640625}, {\"Year\": 2050, \"Land use\": \"Other non-cereal crops\", \"Irrigation\": \"dry\", \"Sources\": \"TCO2E_CROP_MGT\", \"Quantity (Mt CO2e)\": 5.9481002807617185e-05}, {\"Year\": 2050, \"Land use\": \"Other non-cereal crops\", \"Irrigation\": \"dry\", \"Sources\": \"TCO2E_CULTIV\", \"Quantity (Mt CO2e)\": 0.0001264370574951172}, {\"Year\": 2050, \"Land use\": \"Other non-cereal crops\", \"Irrigation\": \"dry\", \"Sources\": \"TCO2E_DUNG_URINE\", \"Quantity (Mt CO2e)\": 6.472097659776864e-05}, {\"Year\": 2050, \"Land use\": \"Other non-cereal crops\", \"Irrigation\": \"dry\", \"Sources\": \"TCO2E_ELEC\", \"Quantity (Mt CO2e)\": 0.0}, {\"Year\": 2050, \"Land use\": \"Other non-cereal crops\", \"Irrigation\": \"dry\", \"Sources\": \"TCO2E_ENTERIC\", \"Quantity (Mt CO2e)\": 0.0007626208199288958}, {\"Year\": 2050, \"Land use\": \"Other non-cereal crops\", \"Irrigation\": \"dry\", \"Sources\": \"TCO2E_FERT_PROD\", \"Quantity (Mt CO2e)\": 0.00039535198974609373}, {\"Year\": 2050, \"Land use\": \"Other non-cereal crops\", \"Irrigation\": \"dry\", \"Sources\": \"TCO2E_FODDER\", \"Quantity (Mt CO2e)\": 1.1701276684022104e-05}, {\"Year\": 2050, \"Land use\": \"Other non-cereal crops\", \"Irrigation\": \"dry\", \"Sources\": \"TCO2E_FUEL\", \"Quantity (Mt CO2e)\": 0.00031746724641605763}, {\"Year\": 2050, \"Land use\": \"Other non-cereal crops\", \"Irrigation\": \"dry\", \"Sources\": \"TCO2E_HARVEST\", \"Quantity (Mt CO2e)\": 3.4380577087402346e-05}, {\"Year\": 2050, \"Land use\": \"Other non-cereal crops\", \"Irrigation\": \"dry\", \"Sources\": \"TCO2E_IND_LEACH_RUNOFF\", \"Quantity (Mt CO2e)\": 3.0115744463201737e-05}, {\"Year\": 2050, \"Land use\": \"Other non-cereal crops\", \"Irrigation\": \"dry\", \"Sources\": \"TCO2E_IRRIG\", \"Quantity (Mt CO2e)\": 0.0}, {\"Year\": 2050, \"Land use\": \"Other non-cereal crops\", \"Irrigation\": \"dry\", \"Sources\": \"TCO2E_MANURE_MGT\", \"Quantity (Mt CO2e)\": 1.9012601331458252e-07}, {\"Year\": 2050, \"Land use\": \"Other non-cereal crops\", \"Irrigation\": \"dry\", \"Sources\": \"TCO2E_PEST_PROD\", \"Quantity (Mt CO2e)\": 0.0002211441650390625}, {\"Year\": 2050, \"Land use\": \"Other non-cereal crops\", \"Irrigation\": \"dry\", \"Sources\": \"TCO2E_SEED\", \"Quantity (Mt CO2e)\": 8.680859122099377e-06}, {\"Year\": 2050, \"Land use\": \"Other non-cereal crops\", \"Irrigation\": \"dry\", \"Sources\": \"TCO2E_SOIL\", \"Quantity (Mt CO2e)\": 0.00011261896514892578}, {\"Year\": 2050, \"Land use\": \"Other non-cereal crops\", \"Irrigation\": \"dry\", \"Sources\": \"TCO2E_SOWING\", \"Quantity (Mt CO2e)\": 7.630799102783204e-05}, {\"Year\": 2050, \"Land use\": \"Other non-cereal crops\", \"Irrigation\": \"irr\", \"Sources\": \"TCO2E_CHEM_APPL\", \"Quantity (Mt CO2e)\": 0.007184629968437356}, {\"Year\": 2050, \"Land use\": \"Other non-cereal crops\", \"Irrigation\": \"irr\", \"Sources\": \"TCO2E_CROP_MGT\", \"Quantity (Mt CO2e)\": 0.003234760132580934}, {\"Year\": 2050, \"Land use\": \"Other non-cereal crops\", \"Irrigation\": \"irr\", \"Sources\": \"TCO2E_CULTIV\", \"Quantity (Mt CO2e)\": 0.013301250041812708}, {\"Year\": 2050, \"Land use\": \"Other non-cereal crops\", \"Irrigation\": \"irr\", \"Sources\": \"TCO2E_DUNG_URINE\", \"Quantity (Mt CO2e)\": 0.0}, {\"Year\": 2050, \"Land use\": \"Other non-cereal crops\", \"Irrigation\": \"irr\", \"Sources\": \"TCO2E_ELEC\", \"Quantity (Mt CO2e)\": 0.0}, {\"Year\": 2050, \"Land use\": \"Other non-cereal crops\", \"Irrigation\": \"irr\", \"Sources\": \"TCO2E_ENTERIC\", \"Quantity (Mt CO2e)\": 0.0}, {\"Year\": 2050, \"Land use\": \"Other non-cereal crops\", \"Irrigation\": \"irr\", \"Sources\": \"TCO2E_FERT_PROD\", \"Quantity (Mt CO2e)\": 0.06076090386799054}, {\"Year\": 2050, \"Land use\": \"Other non-cereal crops\", \"Irrigation\": \"irr\", \"Sources\": \"TCO2E_FODDER\", \"Quantity (Mt CO2e)\": 0.0}, {\"Year\": 2050, \"Land use\": \"Other non-cereal crops\", \"Irrigation\": \"irr\", \"Sources\": \"TCO2E_FUEL\", \"Quantity (Mt CO2e)\": 0.0}, {\"Year\": 2050, \"Land use\": \"Other non-cereal crops\", \"Irrigation\": \"irr\", \"Sources\": \"TCO2E_HARVEST\", \"Quantity (Mt CO2e)\": 0.0020269792288343247}, {\"Year\": 2050, \"Land use\": \"Other non-cereal crops\", \"Irrigation\": \"irr\", \"Sources\": \"TCO2E_IND_LEACH_RUNOFF\", \"Quantity (Mt CO2e)\": 0.0}, {\"Year\": 2050, \"Land use\": \"Other non-cereal crops\", \"Irrigation\": \"irr\", \"Sources\": \"TCO2E_IRRIG\", \"Quantity (Mt CO2e)\": 0.014007894314677931}, {\"Year\": 2050, \"Land use\": \"Other non-cereal crops\", \"Irrigation\": \"irr\", \"Sources\": \"TCO2E_MANURE_MGT\", \"Quantity (Mt CO2e)\": 0.0}, {\"Year\": 2050, \"Land use\": \"Other non-cereal crops\", \"Irrigation\": \"irr\", \"Sources\": \"TCO2E_PEST_PROD\", \"Quantity (Mt CO2e)\": 0.013225966087433915}, {\"Year\": 2050, \"Land use\": \"Other non-cereal crops\", \"Irrigation\": \"irr\", \"Sources\": \"TCO2E_SEED\", \"Quantity (Mt CO2e)\": 0.0}, {\"Year\": 2050, \"Land use\": \"Other non-cereal crops\", \"Irrigation\": \"irr\", \"Sources\": \"TCO2E_SOIL\", \"Quantity (Mt CO2e)\": 0.053872736079100494}, {\"Year\": 2050, \"Land use\": \"Other non-cereal crops\", \"Irrigation\": \"irr\", \"Sources\": \"TCO2E_SOWING\", \"Quantity (Mt CO2e)\": 0.0026354984207631496}, {\"Year\": 2050, \"Land use\": \"Plantation fruit\", \"Irrigation\": \"dry\", \"Sources\": \"TCO2E_CHEM_APPL\", \"Quantity (Mt CO2e)\": 0.005616163330078125}, {\"Year\": 2050, \"Land use\": \"Plantation fruit\", \"Irrigation\": \"dry\", \"Sources\": \"TCO2E_CROP_MGT\", \"Quantity (Mt CO2e)\": 0.0008514713745117187}, {\"Year\": 2050, \"Land use\": \"Plantation fruit\", \"Irrigation\": \"dry\", \"Sources\": \"TCO2E_CULTIV\", \"Quantity (Mt CO2e)\": 0.0015965087890625}, {\"Year\": 2050, \"Land use\": \"Plantation fruit\", \"Irrigation\": \"dry\", \"Sources\": \"TCO2E_DUNG_URINE\", \"Quantity (Mt CO2e)\": 0.0}, {\"Year\": 2050, \"Land use\": \"Plantation fruit\", \"Irrigation\": \"dry\", \"Sources\": \"TCO2E_ELEC\", \"Quantity (Mt CO2e)\": 0.0}, {\"Year\": 2050, \"Land use\": \"Plantation fruit\", \"Irrigation\": \"dry\", \"Sources\": \"TCO2E_ENTERIC\", \"Quantity (Mt CO2e)\": 0.0}, {\"Year\": 2050, \"Land use\": \"Plantation fruit\", \"Irrigation\": \"dry\", \"Sources\": \"TCO2E_FERT_PROD\", \"Quantity (Mt CO2e)\": 0.044061572265625}, {\"Year\": 2050, \"Land use\": \"Plantation fruit\", \"Irrigation\": \"dry\", \"Sources\": \"TCO2E_FODDER\", \"Quantity (Mt CO2e)\": 0.0}, {\"Year\": 2050, \"Land use\": \"Plantation fruit\", \"Irrigation\": \"dry\", \"Sources\": \"TCO2E_FUEL\", \"Quantity (Mt CO2e)\": 0.0}, {\"Year\": 2050, \"Land use\": \"Plantation fruit\", \"Irrigation\": \"dry\", \"Sources\": \"TCO2E_HARVEST\", \"Quantity (Mt CO2e)\": 7.76967658996582e-05}, {\"Year\": 2050, \"Land use\": \"Plantation fruit\", \"Irrigation\": \"dry\", \"Sources\": \"TCO2E_IND_LEACH_RUNOFF\", \"Quantity (Mt CO2e)\": 0.0}, {\"Year\": 2050, \"Land use\": \"Plantation fruit\", \"Irrigation\": \"dry\", \"Sources\": \"TCO2E_IRRIG\", \"Quantity (Mt CO2e)\": 0.0}, {\"Year\": 2050, \"Land use\": \"Plantation fruit\", \"Irrigation\": \"dry\", \"Sources\": \"TCO2E_MANURE_MGT\", \"Quantity (Mt CO2e)\": 0.0}, {\"Year\": 2050, \"Land use\": \"Plantation fruit\", \"Irrigation\": \"dry\", \"Sources\": \"TCO2E_PEST_PROD\", \"Quantity (Mt CO2e)\": 0.003483185913085937}, {\"Year\": 2050, \"Land use\": \"Plantation fruit\", \"Irrigation\": \"dry\", \"Sources\": \"TCO2E_SEED\", \"Quantity (Mt CO2e)\": 0.0}, {\"Year\": 2050, \"Land use\": \"Plantation fruit\", \"Irrigation\": \"dry\", \"Sources\": \"TCO2E_SOIL\", \"Quantity (Mt CO2e)\": 0.02457224609375}, {\"Year\": 2050, \"Land use\": \"Plantation fruit\", \"Irrigation\": \"dry\", \"Sources\": \"TCO2E_SOWING\", \"Quantity (Mt CO2e)\": 5.321696090698242e-05}, {\"Year\": 2050, \"Land use\": \"Plantation fruit\", \"Irrigation\": \"irr\", \"Sources\": \"TCO2E_CHEM_APPL\", \"Quantity (Mt CO2e)\": 0.005044978271484375}, {\"Year\": 2050, \"Land use\": \"Plantation fruit\", \"Irrigation\": \"irr\", \"Sources\": \"TCO2E_CROP_MGT\", \"Quantity (Mt CO2e)\": 0.0009980694885253906}, {\"Year\": 2050, \"Land use\": \"Plantation fruit\", \"Irrigation\": \"irr\", \"Sources\": \"TCO2E_CULTIV\", \"Quantity (Mt CO2e)\": 0.001961118896484375}, {\"Year\": 2050, \"Land use\": \"Plantation fruit\", \"Irrigation\": \"irr\", \"Sources\": \"TCO2E_DUNG_URINE\", \"Quantity (Mt CO2e)\": 0.0}, {\"Year\": 2050, \"Land use\": \"Plantation fruit\", \"Irrigation\": \"irr\", \"Sources\": \"TCO2E_ELEC\", \"Quantity (Mt CO2e)\": 0.0}, {\"Year\": 2050, \"Land use\": \"Plantation fruit\", \"Irrigation\": \"irr\", \"Sources\": \"TCO2E_ENTERIC\", \"Quantity (Mt CO2e)\": 0.0}, {\"Year\": 2050, \"Land use\": \"Plantation fruit\", \"Irrigation\": \"irr\", \"Sources\": \"TCO2E_FERT_PROD\", \"Quantity (Mt CO2e)\": 0.0590707548828125}, {\"Year\": 2050, \"Land use\": \"Plantation fruit\", \"Irrigation\": \"irr\", \"Sources\": \"TCO2E_FODDER\", \"Quantity (Mt CO2e)\": 0.0}, {\"Year\": 2050, \"Land use\": \"Plantation fruit\", \"Irrigation\": \"irr\", \"Sources\": \"TCO2E_FUEL\", \"Quantity (Mt CO2e)\": 0.0}, {\"Year\": 2050, \"Land use\": \"Plantation fruit\", \"Irrigation\": \"irr\", \"Sources\": \"TCO2E_HARVEST\", \"Quantity (Mt CO2e)\": 0.0}, {\"Year\": 2050, \"Land use\": \"Plantation fruit\", \"Irrigation\": \"irr\", \"Sources\": \"TCO2E_IND_LEACH_RUNOFF\", \"Quantity (Mt CO2e)\": 0.0}, {\"Year\": 2050, \"Land use\": \"Plantation fruit\", \"Irrigation\": \"irr\", \"Sources\": \"TCO2E_IRRIG\", \"Quantity (Mt CO2e)\": 0.00033016062927246093}, {\"Year\": 2050, \"Land use\": \"Plantation fruit\", \"Irrigation\": \"irr\", \"Sources\": \"TCO2E_MANURE_MGT\", \"Quantity (Mt CO2e)\": 0.0}, {\"Year\": 2050, \"Land use\": \"Plantation fruit\", \"Irrigation\": \"irr\", \"Sources\": \"TCO2E_PEST_PROD\", \"Quantity (Mt CO2e)\": 0.0012556656799316407}, {\"Year\": 2050, \"Land use\": \"Plantation fruit\", \"Irrigation\": \"irr\", \"Sources\": \"TCO2E_SEED\", \"Quantity (Mt CO2e)\": 0.0}, {\"Year\": 2050, \"Land use\": \"Plantation fruit\", \"Irrigation\": \"irr\", \"Sources\": \"TCO2E_SOIL\", \"Quantity (Mt CO2e)\": 0.0402899970703125}, {\"Year\": 2050, \"Land use\": \"Plantation fruit\", \"Irrigation\": \"irr\", \"Sources\": \"TCO2E_SOWING\", \"Quantity (Mt CO2e)\": 0.0}, {\"Year\": 2050, \"Land use\": \"Rice\", \"Irrigation\": \"dry\", \"Sources\": \"TCO2E_CHEM_APPL\", \"Quantity (Mt CO2e)\": 0.0}, {\"Year\": 2050, \"Land use\": \"Rice\", \"Irrigation\": \"dry\", \"Sources\": \"TCO2E_CROP_MGT\", \"Quantity (Mt CO2e)\": 0.0}, {\"Year\": 2050, \"Land use\": \"Rice\", \"Irrigation\": \"dry\", \"Sources\": \"TCO2E_CULTIV\", \"Quantity (Mt CO2e)\": 0.0}, {\"Year\": 2050, \"Land use\": \"Rice\", \"Irrigation\": \"dry\", \"Sources\": \"TCO2E_DUNG_URINE\", \"Quantity (Mt CO2e)\": 0.0}, {\"Year\": 2050, \"Land use\": \"Rice\", \"Irrigation\": \"dry\", \"Sources\": \"TCO2E_ELEC\", \"Quantity (Mt CO2e)\": 0.0}, {\"Year\": 2050, \"Land use\": \"Rice\", \"Irrigation\": \"dry\", \"Sources\": \"TCO2E_ENTERIC\", \"Quantity (Mt CO2e)\": 0.0}, {\"Year\": 2050, \"Land use\": \"Rice\", \"Irrigation\": \"dry\", \"Sources\": \"TCO2E_FERT_PROD\", \"Quantity (Mt CO2e)\": 0.0}, {\"Year\": 2050, \"Land use\": \"Rice\", \"Irrigation\": \"dry\", \"Sources\": \"TCO2E_FODDER\", \"Quantity (Mt CO2e)\": 0.0}, {\"Year\": 2050, \"Land use\": \"Rice\", \"Irrigation\": \"dry\", \"Sources\": \"TCO2E_FUEL\", \"Quantity (Mt CO2e)\": 0.0}, {\"Year\": 2050, \"Land use\": \"Rice\", \"Irrigation\": \"dry\", \"Sources\": \"TCO2E_HARVEST\", \"Quantity (Mt CO2e)\": 0.0}, {\"Year\": 2050, \"Land use\": \"Rice\", \"Irrigation\": \"dry\", \"Sources\": \"TCO2E_IND_LEACH_RUNOFF\", \"Quantity (Mt CO2e)\": 0.0}, {\"Year\": 2050, \"Land use\": \"Rice\", \"Irrigation\": \"dry\", \"Sources\": \"TCO2E_IRRIG\", \"Quantity (Mt CO2e)\": 0.0}, {\"Year\": 2050, \"Land use\": \"Rice\", \"Irrigation\": \"dry\", \"Sources\": \"TCO2E_MANURE_MGT\", \"Quantity (Mt CO2e)\": 0.0}, {\"Year\": 2050, \"Land use\": \"Rice\", \"Irrigation\": \"dry\", \"Sources\": \"TCO2E_PEST_PROD\", \"Quantity (Mt CO2e)\": 0.0}, {\"Year\": 2050, \"Land use\": \"Rice\", \"Irrigation\": \"dry\", \"Sources\": \"TCO2E_SEED\", \"Quantity (Mt CO2e)\": 0.0}, {\"Year\": 2050, \"Land use\": \"Rice\", \"Irrigation\": \"dry\", \"Sources\": \"TCO2E_SOIL\", \"Quantity (Mt CO2e)\": 0.0}, {\"Year\": 2050, \"Land use\": \"Rice\", \"Irrigation\": \"dry\", \"Sources\": \"TCO2E_SOWING\", \"Quantity (Mt CO2e)\": 0.0}, {\"Year\": 2050, \"Land use\": \"Rice\", \"Irrigation\": \"irr\", \"Sources\": \"TCO2E_CHEM_APPL\", \"Quantity (Mt CO2e)\": 0.0010034471458167772}, {\"Year\": 2050, \"Land use\": \"Rice\", \"Irrigation\": \"irr\", \"Sources\": \"TCO2E_CROP_MGT\", \"Quantity (Mt CO2e)\": 7.113602144713908e-06}, {\"Year\": 2050, \"Land use\": \"Rice\", \"Irrigation\": \"irr\", \"Sources\": \"TCO2E_CULTIV\", \"Quantity (Mt CO2e)\": 0.003839618491769285}, {\"Year\": 2050, \"Land use\": \"Rice\", \"Irrigation\": \"irr\", \"Sources\": \"TCO2E_DUNG_URINE\", \"Quantity (Mt CO2e)\": 0.0}, {\"Year\": 2050, \"Land use\": \"Rice\", \"Irrigation\": \"irr\", \"Sources\": \"TCO2E_ELEC\", \"Quantity (Mt CO2e)\": 0.0}, {\"Year\": 2050, \"Land use\": \"Rice\", \"Irrigation\": \"irr\", \"Sources\": \"TCO2E_ENTERIC\", \"Quantity (Mt CO2e)\": 0.0}, {\"Year\": 2050, \"Land use\": \"Rice\", \"Irrigation\": \"irr\", \"Sources\": \"TCO2E_FERT_PROD\", \"Quantity (Mt CO2e)\": 0.02176168536757784}, {\"Year\": 2050, \"Land use\": \"Rice\", \"Irrigation\": \"irr\", \"Sources\": \"TCO2E_FODDER\", \"Quantity (Mt CO2e)\": 0.0}, {\"Year\": 2050, \"Land use\": \"Rice\", \"Irrigation\": \"irr\", \"Sources\": \"TCO2E_FUEL\", \"Quantity (Mt CO2e)\": 0.0}, {\"Year\": 2050, \"Land use\": \"Rice\", \"Irrigation\": \"irr\", \"Sources\": \"TCO2E_HARVEST\", \"Quantity (Mt CO2e)\": 0.0005519971942901611}, {\"Year\": 2050, \"Land use\": \"Rice\", \"Irrigation\": \"irr\", \"Sources\": \"TCO2E_IND_LEACH_RUNOFF\", \"Quantity (Mt CO2e)\": 0.0}, {\"Year\": 2050, \"Land use\": \"Rice\", \"Irrigation\": \"irr\", \"Sources\": \"TCO2E_IRRIG\", \"Quantity (Mt CO2e)\": 0.012856251726387827}, {\"Year\": 2050, \"Land use\": \"Rice\", \"Irrigation\": \"irr\", \"Sources\": \"TCO2E_MANURE_MGT\", \"Quantity (Mt CO2e)\": 0.0}, {\"Year\": 2050, \"Land use\": \"Rice\", \"Irrigation\": \"irr\", \"Sources\": \"TCO2E_PEST_PROD\", \"Quantity (Mt CO2e)\": 0.0006628189308626913}, {\"Year\": 2050, \"Land use\": \"Rice\", \"Irrigation\": \"irr\", \"Sources\": \"TCO2E_SEED\", \"Quantity (Mt CO2e)\": 0.0}, {\"Year\": 2050, \"Land use\": \"Rice\", \"Irrigation\": \"irr\", \"Sources\": \"TCO2E_SOIL\", \"Quantity (Mt CO2e)\": 0.04928595515638954}, {\"Year\": 2050, \"Land use\": \"Rice\", \"Irrigation\": \"irr\", \"Sources\": \"TCO2E_SOWING\", \"Quantity (Mt CO2e)\": 0.0007344896981547056}, {\"Year\": 2050, \"Land use\": \"Sheep\", \"Irrigation\": \"dry\", \"Sources\": \"TCO2E_CHEM_APPL\", \"Quantity (Mt CO2e)\": 0.0}, {\"Year\": 2050, \"Land use\": \"Sheep\", \"Irrigation\": \"dry\", \"Sources\": \"TCO2E_CROP_MGT\", \"Quantity (Mt CO2e)\": 0.0}, {\"Year\": 2050, \"Land use\": \"Sheep\", \"Irrigation\": \"dry\", \"Sources\": \"TCO2E_CULTIV\", \"Quantity (Mt CO2e)\": 0.0}, {\"Year\": 2050, \"Land use\": \"Sheep\", \"Irrigation\": \"dry\", \"Sources\": \"TCO2E_DUNG_URINE\", \"Quantity (Mt CO2e)\": 1.5462707578356836}, {\"Year\": 2050, \"Land use\": \"Sheep\", \"Irrigation\": \"dry\", \"Sources\": \"TCO2E_ELEC\", \"Quantity (Mt CO2e)\": 0.0}, {\"Year\": 2050, \"Land use\": \"Sheep\", \"Irrigation\": \"dry\", \"Sources\": \"TCO2E_ENTERIC\", \"Quantity (Mt CO2e)\": 15.8747037317553}, {\"Year\": 2050, \"Land use\": \"Sheep\", \"Irrigation\": \"dry\", \"Sources\": \"TCO2E_FERT_PROD\", \"Quantity (Mt CO2e)\": 0.0}, {\"Year\": 2050, \"Land use\": \"Sheep\", \"Irrigation\": \"dry\", \"Sources\": \"TCO2E_FODDER\", \"Quantity (Mt CO2e)\": 0.26629531572688114}, {\"Year\": 2050, \"Land use\": \"Sheep\", \"Irrigation\": \"dry\", \"Sources\": \"TCO2E_FUEL\", \"Quantity (Mt CO2e)\": 3.4631681543959836}, {\"Year\": 2050, \"Land use\": \"Sheep\", \"Irrigation\": \"dry\", \"Sources\": \"TCO2E_HARVEST\", \"Quantity (Mt CO2e)\": 0.0}, {\"Year\": 2050, \"Land use\": \"Sheep\", \"Irrigation\": \"dry\", \"Sources\": \"TCO2E_IND_LEACH_RUNOFF\", \"Quantity (Mt CO2e)\": 0.7497312985329386}, {\"Year\": 2050, \"Land use\": \"Sheep\", \"Irrigation\": \"dry\", \"Sources\": \"TCO2E_IRRIG\", \"Quantity (Mt CO2e)\": 0.0}, {\"Year\": 2050, \"Land use\": \"Sheep\", \"Irrigation\": \"dry\", \"Sources\": \"TCO2E_MANURE_MGT\", \"Quantity (Mt CO2e)\": 0.006584060674991115}, {\"Year\": 2050, \"Land use\": \"Sheep\", \"Irrigation\": \"dry\", \"Sources\": \"TCO2E_PEST_PROD\", \"Quantity (Mt CO2e)\": 0.0}, {\"Year\": 2050, \"Land use\": \"Sheep\", \"Irrigation\": \"dry\", \"Sources\": \"TCO2E_SEED\", \"Quantity (Mt CO2e)\": 1.1844990632293448}, {\"Year\": 2050, \"Land use\": \"Sheep\", \"Irrigation\": \"dry\", \"Sources\": \"TCO2E_SOIL\", \"Quantity (Mt CO2e)\": 0.0}, {\"Year\": 2050, \"Land use\": \"Sheep\", \"Irrigation\": \"dry\", \"Sources\": \"TCO2E_SOWING\", \"Quantity (Mt CO2e)\": 0.0}, {\"Year\": 2050, \"Land use\": \"Sheep\", \"Irrigation\": \"irr\", \"Sources\": \"TCO2E_CHEM_APPL\", \"Quantity (Mt CO2e)\": 0.00010279402507605482}, {\"Year\": 2050, \"Land use\": \"Sheep\", \"Irrigation\": \"irr\", \"Sources\": \"TCO2E_CROP_MGT\", \"Quantity (Mt CO2e)\": 3.1617022232994714e-05}, {\"Year\": 2050, \"Land use\": \"Sheep\", \"Irrigation\": \"irr\", \"Sources\": \"TCO2E_CULTIV\", \"Quantity (Mt CO2e)\": 8.619265133678482e-05}, {\"Year\": 2050, \"Land use\": \"Sheep\", \"Irrigation\": \"irr\", \"Sources\": \"TCO2E_DUNG_URINE\", \"Quantity (Mt CO2e)\": 0.0}, {\"Year\": 2050, \"Land use\": \"Sheep\", \"Irrigation\": \"irr\", \"Sources\": \"TCO2E_ELEC\", \"Quantity (Mt CO2e)\": 0.0}, {\"Year\": 2050, \"Land use\": \"Sheep\", \"Irrigation\": \"irr\", \"Sources\": \"TCO2E_ENTERIC\", \"Quantity (Mt CO2e)\": 0.0}, {\"Year\": 2050, \"Land use\": \"Sheep\", \"Irrigation\": \"irr\", \"Sources\": \"TCO2E_FERT_PROD\", \"Quantity (Mt CO2e)\": 0.0003549919694174423}, {\"Year\": 2050, \"Land use\": \"Sheep\", \"Irrigation\": \"irr\", \"Sources\": \"TCO2E_FODDER\", \"Quantity (Mt CO2e)\": 0.0}, {\"Year\": 2050, \"Land use\": \"Sheep\", \"Irrigation\": \"irr\", \"Sources\": \"TCO2E_FUEL\", \"Quantity (Mt CO2e)\": 0.0}, {\"Year\": 2050, \"Land use\": \"Sheep\", \"Irrigation\": \"irr\", \"Sources\": \"TCO2E_HARVEST\", \"Quantity (Mt CO2e)\": 4.0964362057258085e-05}, {\"Year\": 2050, \"Land use\": \"Sheep\", \"Irrigation\": \"irr\", \"Sources\": \"TCO2E_IND_LEACH_RUNOFF\", \"Quantity (Mt CO2e)\": 0.0}, {\"Year\": 2050, \"Land use\": \"Sheep\", \"Irrigation\": \"irr\", \"Sources\": \"TCO2E_IRRIG\", \"Quantity (Mt CO2e)\": 0.00017003466475232017}, {\"Year\": 2050, \"Land use\": \"Sheep\", \"Irrigation\": \"irr\", \"Sources\": \"TCO2E_MANURE_MGT\", \"Quantity (Mt CO2e)\": 0.0}, {\"Year\": 2050, \"Land use\": \"Sheep\", \"Irrigation\": \"irr\", \"Sources\": \"TCO2E_PEST_PROD\", \"Quantity (Mt CO2e)\": 0.0001648751361053428}, {\"Year\": 2050, \"Land use\": \"Sheep\", \"Irrigation\": \"irr\", \"Sources\": \"TCO2E_SEED\", \"Quantity (Mt CO2e)\": 0.0}, {\"Year\": 2050, \"Land use\": \"Sheep\", \"Irrigation\": \"irr\", \"Sources\": \"TCO2E_SOIL\", \"Quantity (Mt CO2e)\": 0.00048208492802964426}, {\"Year\": 2050, \"Land use\": \"Sheep\", \"Irrigation\": \"irr\", \"Sources\": \"TCO2E_SOWING\", \"Quantity (Mt CO2e)\": 5.066879591705488e-06}, {\"Year\": 2050, \"Land use\": \"Stone fruit\", \"Irrigation\": \"dry\", \"Sources\": \"TCO2E_CHEM_APPL\", \"Quantity (Mt CO2e)\": 0.0}, {\"Year\": 2050, \"Land use\": \"Stone fruit\", \"Irrigation\": \"dry\", \"Sources\": \"TCO2E_CROP_MGT\", \"Quantity (Mt CO2e)\": 0.0}, {\"Year\": 2050, \"Land use\": \"Stone fruit\", \"Irrigation\": \"dry\", \"Sources\": \"TCO2E_CULTIV\", \"Quantity (Mt CO2e)\": 0.0}, {\"Year\": 2050, \"Land use\": \"Stone fruit\", \"Irrigation\": \"dry\", \"Sources\": \"TCO2E_DUNG_URINE\", \"Quantity (Mt CO2e)\": 0.0}, {\"Year\": 2050, \"Land use\": \"Stone fruit\", \"Irrigation\": \"dry\", \"Sources\": \"TCO2E_ELEC\", \"Quantity (Mt CO2e)\": 0.0}, {\"Year\": 2050, \"Land use\": \"Stone fruit\", \"Irrigation\": \"dry\", \"Sources\": \"TCO2E_ENTERIC\", \"Quantity (Mt CO2e)\": 0.0}, {\"Year\": 2050, \"Land use\": \"Stone fruit\", \"Irrigation\": \"dry\", \"Sources\": \"TCO2E_FERT_PROD\", \"Quantity (Mt CO2e)\": 0.0}, {\"Year\": 2050, \"Land use\": \"Stone fruit\", \"Irrigation\": \"dry\", \"Sources\": \"TCO2E_FODDER\", \"Quantity (Mt CO2e)\": 0.0}, {\"Year\": 2050, \"Land use\": \"Stone fruit\", \"Irrigation\": \"dry\", \"Sources\": \"TCO2E_FUEL\", \"Quantity (Mt CO2e)\": 0.0}, {\"Year\": 2050, \"Land use\": \"Stone fruit\", \"Irrigation\": \"dry\", \"Sources\": \"TCO2E_HARVEST\", \"Quantity (Mt CO2e)\": 0.0}, {\"Year\": 2050, \"Land use\": \"Stone fruit\", \"Irrigation\": \"dry\", \"Sources\": \"TCO2E_IND_LEACH_RUNOFF\", \"Quantity (Mt CO2e)\": 0.0}, {\"Year\": 2050, \"Land use\": \"Stone fruit\", \"Irrigation\": \"dry\", \"Sources\": \"TCO2E_IRRIG\", \"Quantity (Mt CO2e)\": 0.0}, {\"Year\": 2050, \"Land use\": \"Stone fruit\", \"Irrigation\": \"dry\", \"Sources\": \"TCO2E_MANURE_MGT\", \"Quantity (Mt CO2e)\": 0.0}, {\"Year\": 2050, \"Land use\": \"Stone fruit\", \"Irrigation\": \"dry\", \"Sources\": \"TCO2E_PEST_PROD\", \"Quantity (Mt CO2e)\": 0.0}, {\"Year\": 2050, \"Land use\": \"Stone fruit\", \"Irrigation\": \"dry\", \"Sources\": \"TCO2E_SEED\", \"Quantity (Mt CO2e)\": 0.0}, {\"Year\": 2050, \"Land use\": \"Stone fruit\", \"Irrigation\": \"dry\", \"Sources\": \"TCO2E_SOIL\", \"Quantity (Mt CO2e)\": 0.0}, {\"Year\": 2050, \"Land use\": \"Stone fruit\", \"Irrigation\": \"dry\", \"Sources\": \"TCO2E_SOWING\", \"Quantity (Mt CO2e)\": 0.0}, {\"Year\": 2050, \"Land use\": \"Stone fruit\", \"Irrigation\": \"irr\", \"Sources\": \"TCO2E_CHEM_APPL\", \"Quantity (Mt CO2e)\": 0.006779712737536378}, {\"Year\": 2050, \"Land use\": \"Stone fruit\", \"Irrigation\": \"irr\", \"Sources\": \"TCO2E_CROP_MGT\", \"Quantity (Mt CO2e)\": 0.0013777159697835922}, {\"Year\": 2050, \"Land use\": \"Stone fruit\", \"Irrigation\": \"irr\", \"Sources\": \"TCO2E_CULTIV\", \"Quantity (Mt CO2e)\": 0.0053957813730781965}, {\"Year\": 2050, \"Land use\": \"Stone fruit\", \"Irrigation\": \"irr\", \"Sources\": \"TCO2E_DUNG_URINE\", \"Quantity (Mt CO2e)\": 0.0}, {\"Year\": 2050, \"Land use\": \"Stone fruit\", \"Irrigation\": \"irr\", \"Sources\": \"TCO2E_ELEC\", \"Quantity (Mt CO2e)\": 0.0}, {\"Year\": 2050, \"Land use\": \"Stone fruit\", \"Irrigation\": \"irr\", \"Sources\": \"TCO2E_ENTERIC\", \"Quantity (Mt CO2e)\": 0.0}, {\"Year\": 2050, \"Land use\": \"Stone fruit\", \"Irrigation\": \"irr\", \"Sources\": \"TCO2E_FERT_PROD\", \"Quantity (Mt CO2e)\": 0.006745465674875908}, {\"Year\": 2050, \"Land use\": \"Stone fruit\", \"Irrigation\": \"irr\", \"Sources\": \"TCO2E_FODDER\", \"Quantity (Mt CO2e)\": 0.0}, {\"Year\": 2050, \"Land use\": \"Stone fruit\", \"Irrigation\": \"irr\", \"Sources\": \"TCO2E_FUEL\", \"Quantity (Mt CO2e)\": 0.0}, {\"Year\": 2050, \"Land use\": \"Stone fruit\", \"Irrigation\": \"irr\", \"Sources\": \"TCO2E_HARVEST\", \"Quantity (Mt CO2e)\": 0.0016901904147809059}, {\"Year\": 2050, \"Land use\": \"Stone fruit\", \"Irrigation\": \"irr\", \"Sources\": \"TCO2E_IND_LEACH_RUNOFF\", \"Quantity (Mt CO2e)\": 0.0}, {\"Year\": 2050, \"Land use\": \"Stone fruit\", \"Irrigation\": \"irr\", \"Sources\": \"TCO2E_IRRIG\", \"Quantity (Mt CO2e)\": 0.00375840710407764}, {\"Year\": 2050, \"Land use\": \"Stone fruit\", \"Irrigation\": \"irr\", \"Sources\": \"TCO2E_MANURE_MGT\", \"Quantity (Mt CO2e)\": 0.0}, {\"Year\": 2050, \"Land use\": \"Stone fruit\", \"Irrigation\": \"irr\", \"Sources\": \"TCO2E_PEST_PROD\", \"Quantity (Mt CO2e)\": 0.01302905298207051}, {\"Year\": 2050, \"Land use\": \"Stone fruit\", \"Irrigation\": \"irr\", \"Sources\": \"TCO2E_SEED\", \"Quantity (Mt CO2e)\": 0.0}, {\"Year\": 2050, \"Land use\": \"Stone fruit\", \"Irrigation\": \"irr\", \"Sources\": \"TCO2E_SOIL\", \"Quantity (Mt CO2e)\": 0.019976103860259522}, {\"Year\": 2050, \"Land use\": \"Stone fruit\", \"Irrigation\": \"irr\", \"Sources\": \"TCO2E_SOWING\", \"Quantity (Mt CO2e)\": 0.00018495562879741192}, {\"Year\": 2050, \"Land use\": \"Sugar\", \"Irrigation\": \"dry\", \"Sources\": \"TCO2E_CHEM_APPL\", \"Quantity (Mt CO2e)\": 0.023339374077143038}, {\"Year\": 2050, \"Land use\": \"Sugar\", \"Irrigation\": \"dry\", \"Sources\": \"TCO2E_CROP_MGT\", \"Quantity (Mt CO2e)\": 0.0}, {\"Year\": 2050, \"Land use\": \"Sugar\", \"Irrigation\": \"dry\", \"Sources\": \"TCO2E_CULTIV\", \"Quantity (Mt CO2e)\": 0.08590723123203743}, {\"Year\": 2050, \"Land use\": \"Sugar\", \"Irrigation\": \"dry\", \"Sources\": \"TCO2E_DUNG_URINE\", \"Quantity (Mt CO2e)\": 0.0}, {\"Year\": 2050, \"Land use\": \"Sugar\", \"Irrigation\": \"dry\", \"Sources\": \"TCO2E_ELEC\", \"Quantity (Mt CO2e)\": 0.0}, {\"Year\": 2050, \"Land use\": \"Sugar\", \"Irrigation\": \"dry\", \"Sources\": \"TCO2E_ENTERIC\", \"Quantity (Mt CO2e)\": 0.0}, {\"Year\": 2050, \"Land use\": \"Sugar\", \"Irrigation\": \"dry\", \"Sources\": \"TCO2E_FERT_PROD\", \"Quantity (Mt CO2e)\": 0.17389376203517767}, {\"Year\": 2050, \"Land use\": \"Sugar\", \"Irrigation\": \"dry\", \"Sources\": \"TCO2E_FODDER\", \"Quantity (Mt CO2e)\": 0.0}, {\"Year\": 2050, \"Land use\": \"Sugar\", \"Irrigation\": \"dry\", \"Sources\": \"TCO2E_FUEL\", \"Quantity (Mt CO2e)\": 0.0}, {\"Year\": 2050, \"Land use\": \"Sugar\", \"Irrigation\": \"dry\", \"Sources\": \"TCO2E_HARVEST\", \"Quantity (Mt CO2e)\": 0.0038772734114799704}, {\"Year\": 2050, \"Land use\": \"Sugar\", \"Irrigation\": \"dry\", \"Sources\": \"TCO2E_IND_LEACH_RUNOFF\", \"Quantity (Mt CO2e)\": 0.0}, {\"Year\": 2050, \"Land use\": \"Sugar\", \"Irrigation\": \"dry\", \"Sources\": \"TCO2E_IRRIG\", \"Quantity (Mt CO2e)\": 0.0}, {\"Year\": 2050, \"Land use\": \"Sugar\", \"Irrigation\": \"dry\", \"Sources\": \"TCO2E_MANURE_MGT\", \"Quantity (Mt CO2e)\": 0.0}, {\"Year\": 2050, \"Land use\": \"Sugar\", \"Irrigation\": \"dry\", \"Sources\": \"TCO2E_PEST_PROD\", \"Quantity (Mt CO2e)\": 0.1084290855169573}, {\"Year\": 2050, \"Land use\": \"Sugar\", \"Irrigation\": \"dry\", \"Sources\": \"TCO2E_SEED\", \"Quantity (Mt CO2e)\": 0.0}, {\"Year\": 2050, \"Land use\": \"Sugar\", \"Irrigation\": \"dry\", \"Sources\": \"TCO2E_SOIL\", \"Quantity (Mt CO2e)\": 0.5240540206623266}, {\"Year\": 2050, \"Land use\": \"Sugar\", \"Irrigation\": \"dry\", \"Sources\": \"TCO2E_SOWING\", \"Quantity (Mt CO2e)\": 0.02051560441474715}, {\"Year\": 2050, \"Land use\": \"Sugar\", \"Irrigation\": \"irr\", \"Sources\": \"TCO2E_CHEM_APPL\", \"Quantity (Mt CO2e)\": 0.0013175898998893354}, {\"Year\": 2050, \"Land use\": \"Sugar\", \"Irrigation\": \"irr\", \"Sources\": \"TCO2E_CROP_MGT\", \"Quantity (Mt CO2e)\": 1.5097740671545807e-05}, {\"Year\": 2050, \"Land use\": \"Sugar\", \"Irrigation\": \"irr\", \"Sources\": \"TCO2E_CULTIV\", \"Quantity (Mt CO2e)\": 0.004000618616318679}, {\"Year\": 2050, \"Land use\": \"Sugar\", \"Irrigation\": \"irr\", \"Sources\": \"TCO2E_DUNG_URINE\", \"Quantity (Mt CO2e)\": 0.0}, {\"Year\": 2050, \"Land use\": \"Sugar\", \"Irrigation\": \"irr\", \"Sources\": \"TCO2E_ELEC\", \"Quantity (Mt CO2e)\": 0.0}, {\"Year\": 2050, \"Land use\": \"Sugar\", \"Irrigation\": \"irr\", \"Sources\": \"TCO2E_ENTERIC\", \"Quantity (Mt CO2e)\": 0.0}, {\"Year\": 2050, \"Land use\": \"Sugar\", \"Irrigation\": \"irr\", \"Sources\": \"TCO2E_FERT_PROD\", \"Quantity (Mt CO2e)\": 0.009851781787877791}, {\"Year\": 2050, \"Land use\": \"Sugar\", \"Irrigation\": \"irr\", \"Sources\": \"TCO2E_FODDER\", \"Quantity (Mt CO2e)\": 0.0}, {\"Year\": 2050, \"Land use\": \"Sugar\", \"Irrigation\": \"irr\", \"Sources\": \"TCO2E_FUEL\", \"Quantity (Mt CO2e)\": 0.0}, {\"Year\": 2050, \"Land use\": \"Sugar\", \"Irrigation\": \"irr\", \"Sources\": \"TCO2E_HARVEST\", \"Quantity (Mt CO2e)\": 0.00019082097053527833}, {\"Year\": 2050, \"Land use\": \"Sugar\", \"Irrigation\": \"irr\", \"Sources\": \"TCO2E_IND_LEACH_RUNOFF\", \"Quantity (Mt CO2e)\": 0.0}, {\"Year\": 2050, \"Land use\": \"Sugar\", \"Irrigation\": \"irr\", \"Sources\": \"TCO2E_IRRIG\", \"Quantity (Mt CO2e)\": 0.0017432896770254497}, {\"Year\": 2050, \"Land use\": \"Sugar\", \"Irrigation\": \"irr\", \"Sources\": \"TCO2E_MANURE_MGT\", \"Quantity (Mt CO2e)\": 0.0}, {\"Year\": 2050, \"Land use\": \"Sugar\", \"Irrigation\": \"irr\", \"Sources\": \"TCO2E_PEST_PROD\", \"Quantity (Mt CO2e)\": 0.006853313780630125}, {\"Year\": 2050, \"Land use\": \"Sugar\", \"Irrigation\": \"irr\", \"Sources\": \"TCO2E_SEED\", \"Quantity (Mt CO2e)\": 0.0}, {\"Year\": 2050, \"Land use\": \"Sugar\", \"Irrigation\": \"irr\", \"Sources\": \"TCO2E_SOIL\", \"Quantity (Mt CO2e)\": 0.03418091666195244}, {\"Year\": 2050, \"Land use\": \"Sugar\", \"Irrigation\": \"irr\", \"Sources\": \"TCO2E_SOWING\", \"Quantity (Mt CO2e)\": 0.0015641062927246093}, {\"Year\": 2050, \"Land use\": \"Summer cereals\", \"Irrigation\": \"dry\", \"Sources\": \"TCO2E_CHEM_APPL\", \"Quantity (Mt CO2e)\": 0.02187892427825928}, {\"Year\": 2050, \"Land use\": \"Summer cereals\", \"Irrigation\": \"dry\", \"Sources\": \"TCO2E_CROP_MGT\", \"Quantity (Mt CO2e)\": 0.0}, {\"Year\": 2050, \"Land use\": \"Summer cereals\", \"Irrigation\": \"dry\", \"Sources\": \"TCO2E_CULTIV\", \"Quantity (Mt CO2e)\": 0.03848791793823242}, {\"Year\": 2050, \"Land use\": \"Summer cereals\", \"Irrigation\": \"dry\", \"Sources\": \"TCO2E_DUNG_URINE\", \"Quantity (Mt CO2e)\": 0.0}, {\"Year\": 2050, \"Land use\": \"Summer cereals\", \"Irrigation\": \"dry\", \"Sources\": \"TCO2E_ELEC\", \"Quantity (Mt CO2e)\": 0.0}, {\"Year\": 2050, \"Land use\": \"Summer cereals\", \"Irrigation\": \"dry\", \"Sources\": \"TCO2E_ENTERIC\", \"Quantity (Mt CO2e)\": 0.0}, {\"Year\": 2050, \"Land use\": \"Summer cereals\", \"Irrigation\": \"dry\", \"Sources\": \"TCO2E_FERT_PROD\", \"Quantity (Mt CO2e)\": 0.07963449798583984}, {\"Year\": 2050, \"Land use\": \"Summer cereals\", \"Irrigation\": \"dry\", \"Sources\": \"TCO2E_FODDER\", \"Quantity (Mt CO2e)\": 0.0}, {\"Year\": 2050, \"Land use\": \"Summer cereals\", \"Irrigation\": \"dry\", \"Sources\": \"TCO2E_FUEL\", \"Quantity (Mt CO2e)\": 0.0}, {\"Year\": 2050, \"Land use\": \"Summer cereals\", \"Irrigation\": \"dry\", \"Sources\": \"TCO2E_HARVEST\", \"Quantity (Mt CO2e)\": 0.02072627141952514}, {\"Year\": 2050, \"Land use\": \"Summer cereals\", \"Irrigation\": \"dry\", \"Sources\": \"TCO2E_IND_LEACH_RUNOFF\", \"Quantity (Mt CO2e)\": 0.0}, {\"Year\": 2050, \"Land use\": \"Summer cereals\", \"Irrigation\": \"dry\", \"Sources\": \"TCO2E_IRRIG\", \"Quantity (Mt CO2e)\": 0.0}, {\"Year\": 2050, \"Land use\": \"Summer cereals\", \"Irrigation\": \"dry\", \"Sources\": \"TCO2E_MANURE_MGT\", \"Quantity (Mt CO2e)\": 0.0}, {\"Year\": 2050, \"Land use\": \"Summer cereals\", \"Irrigation\": \"dry\", \"Sources\": \"TCO2E_PEST_PROD\", \"Quantity (Mt CO2e)\": 0.0974298406677246}, {\"Year\": 2050, \"Land use\": \"Summer cereals\", \"Irrigation\": \"dry\", \"Sources\": \"TCO2E_SEED\", \"Quantity (Mt CO2e)\": 0.0}, {\"Year\": 2050, \"Land use\": \"Summer cereals\", \"Irrigation\": \"dry\", \"Sources\": \"TCO2E_SOIL\", \"Quantity (Mt CO2e)\": 0.019304886383056642}, {\"Year\": 2050, \"Land use\": \"Summer cereals\", \"Irrigation\": \"dry\", \"Sources\": \"TCO2E_SOWING\", \"Quantity (Mt CO2e)\": 0.011917816623687743}, {\"Year\": 2050, \"Land use\": \"Summer cereals\", \"Irrigation\": \"irr\", \"Sources\": \"TCO2E_CHEM_APPL\", \"Quantity (Mt CO2e)\": 0.0015682897644042969}, {\"Year\": 2050, \"Land use\": \"Summer cereals\", \"Irrigation\": \"irr\", \"Sources\": \"TCO2E_CROP_MGT\", \"Quantity (Mt CO2e)\": 0.0}, {\"Year\": 2050, \"Land use\": \"Summer cereals\", \"Irrigation\": \"irr\", \"Sources\": \"TCO2E_CULTIV\", \"Quantity (Mt CO2e)\": 0.006202660552978516}, {\"Year\": 2050, \"Land use\": \"Summer cereals\", \"Irrigation\": \"irr\", \"Sources\": \"TCO2E_DUNG_URINE\", \"Quantity (Mt CO2e)\": 0.0}, {\"Year\": 2050, \"Land use\": \"Summer cereals\", \"Irrigation\": \"irr\", \"Sources\": \"TCO2E_ELEC\", \"Quantity (Mt CO2e)\": 0.0}, {\"Year\": 2050, \"Land use\": \"Summer cereals\", \"Irrigation\": \"irr\", \"Sources\": \"TCO2E_ENTERIC\", \"Quantity (Mt CO2e)\": 0.0}, {\"Year\": 2050, \"Land use\": \"Summer cereals\", \"Irrigation\": \"irr\", \"Sources\": \"TCO2E_FERT_PROD\", \"Quantity (Mt CO2e)\": 0.004754573516845703}, {\"Year\": 2050, \"Land use\": \"Summer cereals\", \"Irrigation\": \"irr\", \"Sources\": \"TCO2E_FODDER\", \"Quantity (Mt CO2e)\": 0.0}, {\"Year\": 2050, \"Land use\": \"Summer cereals\", \"Irrigation\": \"irr\", \"Sources\": \"TCO2E_FUEL\", \"Quantity (Mt CO2e)\": 0.0}, {\"Year\": 2050, \"Land use\": \"Summer cereals\", \"Irrigation\": \"irr\", \"Sources\": \"TCO2E_HARVEST\", \"Quantity (Mt CO2e)\": 0.0003979933567047119}, {\"Year\": 2050, \"Land use\": \"Summer cereals\", \"Irrigation\": \"irr\", \"Sources\": \"TCO2E_IND_LEACH_RUNOFF\", \"Quantity (Mt CO2e)\": 0.0}, {\"Year\": 2050, \"Land use\": \"Summer cereals\", \"Irrigation\": \"irr\", \"Sources\": \"TCO2E_IRRIG\", \"Quantity (Mt CO2e)\": 0.0021564424285888673}, {\"Year\": 2050, \"Land use\": \"Summer cereals\", \"Irrigation\": \"irr\", \"Sources\": \"TCO2E_MANURE_MGT\", \"Quantity (Mt CO2e)\": 0.0}, {\"Year\": 2050, \"Land use\": \"Summer cereals\", \"Irrigation\": \"irr\", \"Sources\": \"TCO2E_PEST_PROD\", \"Quantity (Mt CO2e)\": 0.006395898803710938}, {\"Year\": 2050, \"Land use\": \"Summer cereals\", \"Irrigation\": \"irr\", \"Sources\": \"TCO2E_SEED\", \"Quantity (Mt CO2e)\": 0.0}, {\"Year\": 2050, \"Land use\": \"Summer cereals\", \"Irrigation\": \"irr\", \"Sources\": \"TCO2E_SOIL\", \"Quantity (Mt CO2e)\": 0.005205285446166992}, {\"Year\": 2050, \"Land use\": \"Summer cereals\", \"Irrigation\": \"irr\", \"Sources\": \"TCO2E_SOWING\", \"Quantity (Mt CO2e)\": 0.0005352583312988282}, {\"Year\": 2050, \"Land use\": \"Summer legumes\", \"Irrigation\": \"dry\", \"Sources\": \"TCO2E_CHEM_APPL\", \"Quantity (Mt CO2e)\": 0.0013353399265574062}, {\"Year\": 2050, \"Land use\": \"Summer legumes\", \"Irrigation\": \"dry\", \"Sources\": \"TCO2E_CROP_MGT\", \"Quantity (Mt CO2e)\": 5.129009740204151e-05}, {\"Year\": 2050, \"Land use\": \"Summer legumes\", \"Irrigation\": \"dry\", \"Sources\": \"TCO2E_CULTIV\", \"Quantity (Mt CO2e)\": 0.002196178378063756}, {\"Year\": 2050, \"Land use\": \"Summer legumes\", \"Irrigation\": \"dry\", \"Sources\": \"TCO2E_DUNG_URINE\", \"Quantity (Mt CO2e)\": 0.0}, {\"Year\": 2050, \"Land use\": \"Summer legumes\", \"Irrigation\": \"dry\", \"Sources\": \"TCO2E_ELEC\", \"Quantity (Mt CO2e)\": 0.0}, {\"Year\": 2050, \"Land use\": \"Summer legumes\", \"Irrigation\": \"dry\", \"Sources\": \"TCO2E_ENTERIC\", \"Quantity (Mt CO2e)\": 0.0}, {\"Year\": 2050, \"Land use\": \"Summer legumes\", \"Irrigation\": \"dry\", \"Sources\": \"TCO2E_FERT_PROD\", \"Quantity (Mt CO2e)\": 0.006754044734173392}, {\"Year\": 2050, \"Land use\": \"Summer legumes\", \"Irrigation\": \"dry\", \"Sources\": \"TCO2E_FODDER\", \"Quantity (Mt CO2e)\": 0.0}, {\"Year\": 2050, \"Land use\": \"Summer legumes\", \"Irrigation\": \"dry\", \"Sources\": \"TCO2E_FUEL\", \"Quantity (Mt CO2e)\": 0.0}, {\"Year\": 2050, \"Land use\": \"Summer legumes\", \"Irrigation\": \"dry\", \"Sources\": \"TCO2E_HARVEST\", \"Quantity (Mt CO2e)\": 0.00023925995532829758}, {\"Year\": 2050, \"Land use\": \"Summer legumes\", \"Irrigation\": \"dry\", \"Sources\": \"TCO2E_IND_LEACH_RUNOFF\", \"Quantity (Mt CO2e)\": 0.0}, {\"Year\": 2050, \"Land use\": \"Summer legumes\", \"Irrigation\": \"dry\", \"Sources\": \"TCO2E_IRRIG\", \"Quantity (Mt CO2e)\": 0.0}, {\"Year\": 2050, \"Land use\": \"Summer legumes\", \"Irrigation\": \"dry\", \"Sources\": \"TCO2E_MANURE_MGT\", \"Quantity (Mt CO2e)\": 0.0}, {\"Year\": 2050, \"Land use\": \"Summer legumes\", \"Irrigation\": \"dry\", \"Sources\": \"TCO2E_PEST_PROD\", \"Quantity (Mt CO2e)\": 0.0006869427701471013}, {\"Year\": 2050, \"Land use\": \"Summer legumes\", \"Irrigation\": \"dry\", \"Sources\": \"TCO2E_SEED\", \"Quantity (Mt CO2e)\": 0.0}, {\"Year\": 2050, \"Land use\": \"Summer legumes\", \"Irrigation\": \"dry\", \"Sources\": \"TCO2E_SOIL\", \"Quantity (Mt CO2e)\": 0.0006328741988562638}, {\"Year\": 2050, \"Land use\": \"Summer legumes\", \"Irrigation\": \"dry\", \"Sources\": \"TCO2E_SOWING\", \"Quantity (Mt CO2e)\": 0.0003219448660095145}, {\"Year\": 2050, \"Land use\": \"Summer legumes\", \"Irrigation\": \"irr\", \"Sources\": \"TCO2E_CHEM_APPL\", \"Quantity (Mt CO2e)\": 0.0020402223510742187}, {\"Year\": 2050, \"Land use\": \"Summer legumes\", \"Irrigation\": \"irr\", \"Sources\": \"TCO2E_CROP_MGT\", \"Quantity (Mt CO2e)\": 8.580893516540527e-05}, {\"Year\": 2050, \"Land use\": \"Summer legumes\", \"Irrigation\": \"irr\", \"Sources\": \"TCO2E_CULTIV\", \"Quantity (Mt CO2e)\": 0.0033877146301269532}, {\"Year\": 2050, \"Land use\": \"Summer legumes\", \"Irrigation\": \"irr\", \"Sources\": \"TCO2E_DUNG_URINE\", \"Quantity (Mt CO2e)\": 0.0}, {\"Year\": 2050, \"Land use\": \"Summer legumes\", \"Irrigation\": \"irr\", \"Sources\": \"TCO2E_ELEC\", \"Quantity (Mt CO2e)\": 0.0}, {\"Year\": 2050, \"Land use\": \"Summer legumes\", \"Irrigation\": \"irr\", \"Sources\": \"TCO2E_ENTERIC\", \"Quantity (Mt CO2e)\": 0.0}, {\"Year\": 2050, \"Land use\": \"Summer legumes\", \"Irrigation\": \"irr\", \"Sources\": \"TCO2E_FERT_PROD\", \"Quantity (Mt CO2e)\": 0.001321039794921875}, {\"Year\": 2050, \"Land use\": \"Summer legumes\", \"Irrigation\": \"irr\", \"Sources\": \"TCO2E_FODDER\", \"Quantity (Mt CO2e)\": 0.0}, {\"Year\": 2050, \"Land use\": \"Summer legumes\", \"Irrigation\": \"irr\", \"Sources\": \"TCO2E_FUEL\", \"Quantity (Mt CO2e)\": 0.0}, {\"Year\": 2050, \"Land use\": \"Summer legumes\", \"Irrigation\": \"irr\", \"Sources\": \"TCO2E_HARVEST\", \"Quantity (Mt CO2e)\": 0.00042417716217041016}, {\"Year\": 2050, \"Land use\": \"Summer legumes\", \"Irrigation\": \"irr\", \"Sources\": \"TCO2E_IND_LEACH_RUNOFF\", \"Quantity (Mt CO2e)\": 0.0}, {\"Year\": 2050, \"Land use\": \"Summer legumes\", \"Irrigation\": \"irr\", \"Sources\": \"TCO2E_IRRIG\", \"Quantity (Mt CO2e)\": 0.0008525214157104492}, {\"Year\": 2050, \"Land use\": \"Summer legumes\", \"Irrigation\": \"irr\", \"Sources\": \"TCO2E_MANURE_MGT\", \"Quantity (Mt CO2e)\": 0.0}, {\"Year\": 2050, \"Land use\": \"Summer legumes\", \"Irrigation\": \"irr\", \"Sources\": \"TCO2E_PEST_PROD\", \"Quantity (Mt CO2e)\": 0.0014160692901611328}, {\"Year\": 2050, \"Land use\": \"Summer legumes\", \"Irrigation\": \"irr\", \"Sources\": \"TCO2E_SEED\", \"Quantity (Mt CO2e)\": 0.0}, {\"Year\": 2050, \"Land use\": \"Summer legumes\", \"Irrigation\": \"irr\", \"Sources\": \"TCO2E_SOIL\", \"Quantity (Mt CO2e)\": 0.0004324355812072754}, {\"Year\": 2050, \"Land use\": \"Summer legumes\", \"Irrigation\": \"irr\", \"Sources\": \"TCO2E_SOWING\", \"Quantity (Mt CO2e)\": 0.0}, {\"Year\": 2050, \"Land use\": \"Summer oilseeds\", \"Irrigation\": \"dry\", \"Sources\": \"TCO2E_CHEM_APPL\", \"Quantity (Mt CO2e)\": 0.0009121874084472657}, {\"Year\": 2050, \"Land use\": \"Summer oilseeds\", \"Irrigation\": \"dry\", \"Sources\": \"TCO2E_CROP_MGT\", \"Quantity (Mt CO2e)\": 0.0}, {\"Year\": 2050, \"Land use\": \"Summer oilseeds\", \"Irrigation\": \"dry\", \"Sources\": \"TCO2E_CULTIV\", \"Quantity (Mt CO2e)\": 0.0}, {\"Year\": 2050, \"Land use\": \"Summer oilseeds\", \"Irrigation\": \"dry\", \"Sources\": \"TCO2E_DUNG_URINE\", \"Quantity (Mt CO2e)\": 0.0}, {\"Year\": 2050, \"Land use\": \"Summer oilseeds\", \"Irrigation\": \"dry\", \"Sources\": \"TCO2E_ELEC\", \"Quantity (Mt CO2e)\": 0.0}, {\"Year\": 2050, \"Land use\": \"Summer oilseeds\", \"Irrigation\": \"dry\", \"Sources\": \"TCO2E_ENTERIC\", \"Quantity (Mt CO2e)\": 0.0}, {\"Year\": 2050, \"Land use\": \"Summer oilseeds\", \"Irrigation\": \"dry\", \"Sources\": \"TCO2E_FERT_PROD\", \"Quantity (Mt CO2e)\": 0.0029532079467773443}, {\"Year\": 2050, \"Land use\": \"Summer oilseeds\", \"Irrigation\": \"dry\", \"Sources\": \"TCO2E_FODDER\", \"Quantity (Mt CO2e)\": 0.0}, {\"Year\": 2050, \"Land use\": \"Summer oilseeds\", \"Irrigation\": \"dry\", \"Sources\": \"TCO2E_FUEL\", \"Quantity (Mt CO2e)\": 0.0}, {\"Year\": 2050, \"Land use\": \"Summer oilseeds\", \"Irrigation\": \"dry\", \"Sources\": \"TCO2E_HARVEST\", \"Quantity (Mt CO2e)\": 0.0002498009033203125}, {\"Year\": 2050, \"Land use\": \"Summer oilseeds\", \"Irrigation\": \"dry\", \"Sources\": \"TCO2E_IND_LEACH_RUNOFF\", \"Quantity (Mt CO2e)\": 0.0}, {\"Year\": 2050, \"Land use\": \"Summer oilseeds\", \"Irrigation\": \"dry\", \"Sources\": \"TCO2E_IRRIG\", \"Quantity (Mt CO2e)\": 0.0}, {\"Year\": 2050, \"Land use\": \"Summer oilseeds\", \"Irrigation\": \"dry\", \"Sources\": \"TCO2E_MANURE_MGT\", \"Quantity (Mt CO2e)\": 0.0}, {\"Year\": 2050, \"Land use\": \"Summer oilseeds\", \"Irrigation\": \"dry\", \"Sources\": \"TCO2E_PEST_PROD\", \"Quantity (Mt CO2e)\": 0.003050320129394531}, {\"Year\": 2050, \"Land use\": \"Summer oilseeds\", \"Irrigation\": \"dry\", \"Sources\": \"TCO2E_SEED\", \"Quantity (Mt CO2e)\": 0.0}, {\"Year\": 2050, \"Land use\": \"Summer oilseeds\", \"Irrigation\": \"dry\", \"Sources\": \"TCO2E_SOIL\", \"Quantity (Mt CO2e)\": 0.000779791015625}, {\"Year\": 2050, \"Land use\": \"Summer oilseeds\", \"Irrigation\": \"dry\", \"Sources\": \"TCO2E_SOWING\", \"Quantity (Mt CO2e)\": 0.0006194406013488769}, {\"Year\": 2050, \"Land use\": \"Summer oilseeds\", \"Irrigation\": \"irr\", \"Sources\": \"TCO2E_CHEM_APPL\", \"Quantity (Mt CO2e)\": 0.0005516142120361328}, {\"Year\": 2050, \"Land use\": \"Summer oilseeds\", \"Irrigation\": \"irr\", \"Sources\": \"TCO2E_CROP_MGT\", \"Quantity (Mt CO2e)\": 0.0}, {\"Year\": 2050, \"Land use\": \"Summer oilseeds\", \"Irrigation\": \"irr\", \"Sources\": \"TCO2E_CULTIV\", \"Quantity (Mt CO2e)\": 0.0009456595458984376}, {\"Year\": 2050, \"Land use\": \"Summer oilseeds\", \"Irrigation\": \"irr\", \"Sources\": \"TCO2E_DUNG_URINE\", \"Quantity (Mt CO2e)\": 0.0}, {\"Year\": 2050, \"Land use\": \"Summer oilseeds\", \"Irrigation\": \"irr\", \"Sources\": \"TCO2E_ELEC\", \"Quantity (Mt CO2e)\": 0.0}, {\"Year\": 2050, \"Land use\": \"Summer oilseeds\", \"Irrigation\": \"irr\", \"Sources\": \"TCO2E_ENTERIC\", \"Quantity (Mt CO2e)\": 0.0}, {\"Year\": 2050, \"Land use\": \"Summer oilseeds\", \"Irrigation\": \"irr\", \"Sources\": \"TCO2E_FERT_PROD\", \"Quantity (Mt CO2e)\": 0.00170767529296875}, {\"Year\": 2050, \"Land use\": \"Summer oilseeds\", \"Irrigation\": \"irr\", \"Sources\": \"TCO2E_FODDER\", \"Quantity (Mt CO2e)\": 0.0}, {\"Year\": 2050, \"Land use\": \"Summer oilseeds\", \"Irrigation\": \"irr\", \"Sources\": \"TCO2E_FUEL\", \"Quantity (Mt CO2e)\": 0.0}, {\"Year\": 2050, \"Land use\": \"Summer oilseeds\", \"Irrigation\": \"irr\", \"Sources\": \"TCO2E_HARVEST\", \"Quantity (Mt CO2e)\": 0.0}, {\"Year\": 2050, \"Land use\": \"Summer oilseeds\", \"Irrigation\": \"irr\", \"Sources\": \"TCO2E_IND_LEACH_RUNOFF\", \"Quantity (Mt CO2e)\": 0.0}, {\"Year\": 2050, \"Land use\": \"Summer oilseeds\", \"Irrigation\": \"irr\", \"Sources\": \"TCO2E_IRRIG\", \"Quantity (Mt CO2e)\": 0.0007083227844238281}, {\"Year\": 2050, \"Land use\": \"Summer oilseeds\", \"Irrigation\": \"irr\", \"Sources\": \"TCO2E_MANURE_MGT\", \"Quantity (Mt CO2e)\": 0.0}, {\"Year\": 2050, \"Land use\": \"Summer oilseeds\", \"Irrigation\": \"irr\", \"Sources\": \"TCO2E_PEST_PROD\", \"Quantity (Mt CO2e)\": 0.0003228022384643555}, {\"Year\": 2050, \"Land use\": \"Summer oilseeds\", \"Irrigation\": \"irr\", \"Sources\": \"TCO2E_SEED\", \"Quantity (Mt CO2e)\": 0.0}, {\"Year\": 2050, \"Land use\": \"Summer oilseeds\", \"Irrigation\": \"irr\", \"Sources\": \"TCO2E_SOIL\", \"Quantity (Mt CO2e)\": 0.003966999755859375}, {\"Year\": 2050, \"Land use\": \"Summer oilseeds\", \"Irrigation\": \"irr\", \"Sources\": \"TCO2E_SOWING\", \"Quantity (Mt CO2e)\": 7.694084548950196e-05}, {\"Year\": 2050, \"Land use\": \"Tropical stone fruit\", \"Irrigation\": \"dry\", \"Sources\": \"TCO2E_CHEM_APPL\", \"Quantity (Mt CO2e)\": 0.0}, {\"Year\": 2050, \"Land use\": \"Tropical stone fruit\", \"Irrigation\": \"dry\", \"Sources\": \"TCO2E_CROP_MGT\", \"Quantity (Mt CO2e)\": 0.0}, {\"Year\": 2050, \"Land use\": \"Tropical stone fruit\", \"Irrigation\": \"dry\", \"Sources\": \"TCO2E_CULTIV\", \"Quantity (Mt CO2e)\": 0.0}, {\"Year\": 2050, \"Land use\": \"Tropical stone fruit\", \"Irrigation\": \"dry\", \"Sources\": \"TCO2E_DUNG_URINE\", \"Quantity (Mt CO2e)\": 0.0}, {\"Year\": 2050, \"Land use\": \"Tropical stone fruit\", \"Irrigation\": \"dry\", \"Sources\": \"TCO2E_ELEC\", \"Quantity (Mt CO2e)\": 0.0}, {\"Year\": 2050, \"Land use\": \"Tropical stone fruit\", \"Irrigation\": \"dry\", \"Sources\": \"TCO2E_ENTERIC\", \"Quantity (Mt CO2e)\": 0.0}, {\"Year\": 2050, \"Land use\": \"Tropical stone fruit\", \"Irrigation\": \"dry\", \"Sources\": \"TCO2E_FERT_PROD\", \"Quantity (Mt CO2e)\": 0.0}, {\"Year\": 2050, \"Land use\": \"Tropical stone fruit\", \"Irrigation\": \"dry\", \"Sources\": \"TCO2E_FODDER\", \"Quantity (Mt CO2e)\": 0.0}, {\"Year\": 2050, \"Land use\": \"Tropical stone fruit\", \"Irrigation\": \"dry\", \"Sources\": \"TCO2E_FUEL\", \"Quantity (Mt CO2e)\": 0.0}, {\"Year\": 2050, \"Land use\": \"Tropical stone fruit\", \"Irrigation\": \"dry\", \"Sources\": \"TCO2E_HARVEST\", \"Quantity (Mt CO2e)\": 0.0}, {\"Year\": 2050, \"Land use\": \"Tropical stone fruit\", \"Irrigation\": \"dry\", \"Sources\": \"TCO2E_IND_LEACH_RUNOFF\", \"Quantity (Mt CO2e)\": 0.0}, {\"Year\": 2050, \"Land use\": \"Tropical stone fruit\", \"Irrigation\": \"dry\", \"Sources\": \"TCO2E_IRRIG\", \"Quantity (Mt CO2e)\": 0.0}, {\"Year\": 2050, \"Land use\": \"Tropical stone fruit\", \"Irrigation\": \"dry\", \"Sources\": \"TCO2E_MANURE_MGT\", \"Quantity (Mt CO2e)\": 0.0}, {\"Year\": 2050, \"Land use\": \"Tropical stone fruit\", \"Irrigation\": \"dry\", \"Sources\": \"TCO2E_PEST_PROD\", \"Quantity (Mt CO2e)\": 0.0}, {\"Year\": 2050, \"Land use\": \"Tropical stone fruit\", \"Irrigation\": \"dry\", \"Sources\": \"TCO2E_SEED\", \"Quantity (Mt CO2e)\": 0.0}, {\"Year\": 2050, \"Land use\": \"Tropical stone fruit\", \"Irrigation\": \"dry\", \"Sources\": \"TCO2E_SOIL\", \"Quantity (Mt CO2e)\": 0.0}, {\"Year\": 2050, \"Land use\": \"Tropical stone fruit\", \"Irrigation\": \"dry\", \"Sources\": \"TCO2E_SOWING\", \"Quantity (Mt CO2e)\": 0.0}, {\"Year\": 2050, \"Land use\": \"Tropical stone fruit\", \"Irrigation\": \"irr\", \"Sources\": \"TCO2E_CHEM_APPL\", \"Quantity (Mt CO2e)\": 0.0008294107055664062}, {\"Year\": 2050, \"Land use\": \"Tropical stone fruit\", \"Irrigation\": \"irr\", \"Sources\": \"TCO2E_CROP_MGT\", \"Quantity (Mt CO2e)\": 0.0002551072158813477}, {\"Year\": 2050, \"Land use\": \"Tropical stone fruit\", \"Irrigation\": \"irr\", \"Sources\": \"TCO2E_CULTIV\", \"Quantity (Mt CO2e)\": 0.0006954597778320313}, {\"Year\": 2050, \"Land use\": \"Tropical stone fruit\", \"Irrigation\": \"irr\", \"Sources\": \"TCO2E_DUNG_URINE\", \"Quantity (Mt CO2e)\": 0.0}, {\"Year\": 2050, \"Land use\": \"Tropical stone fruit\", \"Irrigation\": \"irr\", \"Sources\": \"TCO2E_ELEC\", \"Quantity (Mt CO2e)\": 0.0}, {\"Year\": 2050, \"Land use\": \"Tropical stone fruit\", \"Irrigation\": \"irr\", \"Sources\": \"TCO2E_ENTERIC\", \"Quantity (Mt CO2e)\": 0.0}, {\"Year\": 2050, \"Land use\": \"Tropical stone fruit\", \"Irrigation\": \"irr\", \"Sources\": \"TCO2E_FERT_PROD\", \"Quantity (Mt CO2e)\": 0.00286431201171875}, {\"Year\": 2050, \"Land use\": \"Tropical stone fruit\", \"Irrigation\": \"irr\", \"Sources\": \"TCO2E_FODDER\", \"Quantity (Mt CO2e)\": 0.0}, {\"Year\": 2050, \"Land use\": \"Tropical stone fruit\", \"Irrigation\": \"irr\", \"Sources\": \"TCO2E_FUEL\", \"Quantity (Mt CO2e)\": 0.0}, {\"Year\": 2050, \"Land use\": \"Tropical stone fruit\", \"Irrigation\": \"irr\", \"Sources\": \"TCO2E_HARVEST\", \"Quantity (Mt CO2e)\": 0.0003305277862548828}, {\"Year\": 2050, \"Land use\": \"Tropical stone fruit\", \"Irrigation\": \"irr\", \"Sources\": \"TCO2E_IND_LEACH_RUNOFF\", \"Quantity (Mt CO2e)\": 0.0}, {\"Year\": 2050, \"Land use\": \"Tropical stone fruit\", \"Irrigation\": \"irr\", \"Sources\": \"TCO2E_IRRIG\", \"Quantity (Mt CO2e)\": 0.000930882781982422}, {\"Year\": 2050, \"Land use\": \"Tropical stone fruit\", \"Irrigation\": \"irr\", \"Sources\": \"TCO2E_MANURE_MGT\", \"Quantity (Mt CO2e)\": 0.0}, {\"Year\": 2050, \"Land use\": \"Tropical stone fruit\", \"Irrigation\": \"irr\", \"Sources\": \"TCO2E_PEST_PROD\", \"Quantity (Mt CO2e)\": 0.001330322509765625}, {\"Year\": 2050, \"Land use\": \"Tropical stone fruit\", \"Irrigation\": \"irr\", \"Sources\": \"TCO2E_SEED\", \"Quantity (Mt CO2e)\": 0.0}, {\"Year\": 2050, \"Land use\": \"Tropical stone fruit\", \"Irrigation\": \"irr\", \"Sources\": \"TCO2E_SOIL\", \"Quantity (Mt CO2e)\": 0.00388978271484375}, {\"Year\": 2050, \"Land use\": \"Tropical stone fruit\", \"Irrigation\": \"irr\", \"Sources\": \"TCO2E_SOWING\", \"Quantity (Mt CO2e)\": 4.088296127319336e-05}, {\"Year\": 2050, \"Land use\": \"Vegetables\", \"Irrigation\": \"dry\", \"Sources\": \"TCO2E_CHEM_APPL\", \"Quantity (Mt CO2e)\": 0.0}, {\"Year\": 2050, \"Land use\": \"Vegetables\", \"Irrigation\": \"dry\", \"Sources\": \"TCO2E_CROP_MGT\", \"Quantity (Mt CO2e)\": 0.0}, {\"Year\": 2050, \"Land use\": \"Vegetables\", \"Irrigation\": \"dry\", \"Sources\": \"TCO2E_CULTIV\", \"Quantity (Mt CO2e)\": 0.0}, {\"Year\": 2050, \"Land use\": \"Vegetables\", \"Irrigation\": \"dry\", \"Sources\": \"TCO2E_DUNG_URINE\", \"Quantity (Mt CO2e)\": 0.0}, {\"Year\": 2050, \"Land use\": \"Vegetables\", \"Irrigation\": \"dry\", \"Sources\": \"TCO2E_ELEC\", \"Quantity (Mt CO2e)\": 0.0}, {\"Year\": 2050, \"Land use\": \"Vegetables\", \"Irrigation\": \"dry\", \"Sources\": \"TCO2E_ENTERIC\", \"Quantity (Mt CO2e)\": 0.0}, {\"Year\": 2050, \"Land use\": \"Vegetables\", \"Irrigation\": \"dry\", \"Sources\": \"TCO2E_FERT_PROD\", \"Quantity (Mt CO2e)\": 0.0}, {\"Year\": 2050, \"Land use\": \"Vegetables\", \"Irrigation\": \"dry\", \"Sources\": \"TCO2E_FODDER\", \"Quantity (Mt CO2e)\": 0.0}, {\"Year\": 2050, \"Land use\": \"Vegetables\", \"Irrigation\": \"dry\", \"Sources\": \"TCO2E_FUEL\", \"Quantity (Mt CO2e)\": 0.0}, {\"Year\": 2050, \"Land use\": \"Vegetables\", \"Irrigation\": \"dry\", \"Sources\": \"TCO2E_HARVEST\", \"Quantity (Mt CO2e)\": 0.0}, {\"Year\": 2050, \"Land use\": \"Vegetables\", \"Irrigation\": \"dry\", \"Sources\": \"TCO2E_IND_LEACH_RUNOFF\", \"Quantity (Mt CO2e)\": 0.0}, {\"Year\": 2050, \"Land use\": \"Vegetables\", \"Irrigation\": \"dry\", \"Sources\": \"TCO2E_IRRIG\", \"Quantity (Mt CO2e)\": 0.0}, {\"Year\": 2050, \"Land use\": \"Vegetables\", \"Irrigation\": \"dry\", \"Sources\": \"TCO2E_MANURE_MGT\", \"Quantity (Mt CO2e)\": 0.0}, {\"Year\": 2050, \"Land use\": \"Vegetables\", \"Irrigation\": \"dry\", \"Sources\": \"TCO2E_PEST_PROD\", \"Quantity (Mt CO2e)\": 0.0}, {\"Year\": 2050, \"Land use\": \"Vegetables\", \"Irrigation\": \"dry\", \"Sources\": \"TCO2E_SEED\", \"Quantity (Mt CO2e)\": 0.0}, {\"Year\": 2050, \"Land use\": \"Vegetables\", \"Irrigation\": \"dry\", \"Sources\": \"TCO2E_SOIL\", \"Quantity (Mt CO2e)\": 0.0}, {\"Year\": 2050, \"Land use\": \"Vegetables\", \"Irrigation\": \"dry\", \"Sources\": \"TCO2E_SOWING\", \"Quantity (Mt CO2e)\": 0.0}, {\"Year\": 2050, \"Land use\": \"Vegetables\", \"Irrigation\": \"irr\", \"Sources\": \"TCO2E_CHEM_APPL\", \"Quantity (Mt CO2e)\": 0.00966677212524414}, {\"Year\": 2050, \"Land use\": \"Vegetables\", \"Irrigation\": \"irr\", \"Sources\": \"TCO2E_CROP_MGT\", \"Quantity (Mt CO2e)\": 0.0018274797668457032}, {\"Year\": 2050, \"Land use\": \"Vegetables\", \"Irrigation\": \"irr\", \"Sources\": \"TCO2E_CULTIV\", \"Quantity (Mt CO2e)\": 0.008563377410888673}, {\"Year\": 2050, \"Land use\": \"Vegetables\", \"Irrigation\": \"irr\", \"Sources\": \"TCO2E_DUNG_URINE\", \"Quantity (Mt CO2e)\": 0.0}, {\"Year\": 2050, \"Land use\": \"Vegetables\", \"Irrigation\": \"irr\", \"Sources\": \"TCO2E_ELEC\", \"Quantity (Mt CO2e)\": 0.0}, {\"Year\": 2050, \"Land use\": \"Vegetables\", \"Irrigation\": \"irr\", \"Sources\": \"TCO2E_ENTERIC\", \"Quantity (Mt CO2e)\": 0.0}, {\"Year\": 2050, \"Land use\": \"Vegetables\", \"Irrigation\": \"irr\", \"Sources\": \"TCO2E_FERT_PROD\", \"Quantity (Mt CO2e)\": 0.15435262451171874}, {\"Year\": 2050, \"Land use\": \"Vegetables\", \"Irrigation\": \"irr\", \"Sources\": \"TCO2E_FODDER\", \"Quantity (Mt CO2e)\": 0.0}, {\"Year\": 2050, \"Land use\": \"Vegetables\", \"Irrigation\": \"irr\", \"Sources\": \"TCO2E_FUEL\", \"Quantity (Mt CO2e)\": 0.0}, {\"Year\": 2050, \"Land use\": \"Vegetables\", \"Irrigation\": \"irr\", \"Sources\": \"TCO2E_HARVEST\", \"Quantity (Mt CO2e)\": 0.001053262680053711}, {\"Year\": 2050, \"Land use\": \"Vegetables\", \"Irrigation\": \"irr\", \"Sources\": \"TCO2E_IND_LEACH_RUNOFF\", \"Quantity (Mt CO2e)\": 0.0}, {\"Year\": 2050, \"Land use\": \"Vegetables\", \"Irrigation\": \"irr\", \"Sources\": \"TCO2E_IRRIG\", \"Quantity (Mt CO2e)\": 0.008995770080566406}, {\"Year\": 2050, \"Land use\": \"Vegetables\", \"Irrigation\": \"irr\", \"Sources\": \"TCO2E_MANURE_MGT\", \"Quantity (Mt CO2e)\": 0.0}, {\"Year\": 2050, \"Land use\": \"Vegetables\", \"Irrigation\": \"irr\", \"Sources\": \"TCO2E_PEST_PROD\", \"Quantity (Mt CO2e)\": 0.006440592971801758}, {\"Year\": 2050, \"Land use\": \"Vegetables\", \"Irrigation\": \"irr\", \"Sources\": \"TCO2E_SEED\", \"Quantity (Mt CO2e)\": 0.0}, {\"Year\": 2050, \"Land use\": \"Vegetables\", \"Irrigation\": \"irr\", \"Sources\": \"TCO2E_SOIL\", \"Quantity (Mt CO2e)\": 0.11470354248046877}, {\"Year\": 2050, \"Land use\": \"Vegetables\", \"Irrigation\": \"irr\", \"Sources\": \"TCO2E_SOWING\", \"Quantity (Mt CO2e)\": 0.0017045130081176758}, {\"Year\": 2050, \"Land use\": \"Winter cereals\", \"Irrigation\": \"dry\", \"Sources\": \"TCO2E_CHEM_APPL\", \"Quantity (Mt CO2e)\": 1.3704713953512895}, {\"Year\": 2050, \"Land use\": \"Winter cereals\", \"Irrigation\": \"dry\", \"Sources\": \"TCO2E_CROP_MGT\", \"Quantity (Mt CO2e)\": 0.0}, {\"Year\": 2050, \"Land use\": \"Winter cereals\", \"Irrigation\": \"dry\", \"Sources\": \"TCO2E_CULTIV\", \"Quantity (Mt CO2e)\": 0.1845960114836121}, {\"Year\": 2050, \"Land use\": \"Winter cereals\", \"Irrigation\": \"dry\", \"Sources\": \"TCO2E_DUNG_URINE\", \"Quantity (Mt CO2e)\": 0.0}, {\"Year\": 2050, \"Land use\": \"Winter cereals\", \"Irrigation\": \"dry\", \"Sources\": \"TCO2E_ELEC\", \"Quantity (Mt CO2e)\": 0.0}, {\"Year\": 2050, \"Land use\": \"Winter cereals\", \"Irrigation\": \"dry\", \"Sources\": \"TCO2E_ENTERIC\", \"Quantity (Mt CO2e)\": 0.0}, {\"Year\": 2050, \"Land use\": \"Winter cereals\", \"Irrigation\": \"dry\", \"Sources\": \"TCO2E_FERT_PROD\", \"Quantity (Mt CO2e)\": 3.0075605731782766}, {\"Year\": 2050, \"Land use\": \"Winter cereals\", \"Irrigation\": \"dry\", \"Sources\": \"TCO2E_FODDER\", \"Quantity (Mt CO2e)\": 0.0}, {\"Year\": 2050, \"Land use\": \"Winter cereals\", \"Irrigation\": \"dry\", \"Sources\": \"TCO2E_FUEL\", \"Quantity (Mt CO2e)\": 0.0}, {\"Year\": 2050, \"Land use\": \"Winter cereals\", \"Irrigation\": \"dry\", \"Sources\": \"TCO2E_HARVEST\", \"Quantity (Mt CO2e)\": 0.22633098916987252}, {\"Year\": 2050, \"Land use\": \"Winter cereals\", \"Irrigation\": \"dry\", \"Sources\": \"TCO2E_IND_LEACH_RUNOFF\", \"Quantity (Mt CO2e)\": 0.0}, {\"Year\": 2050, \"Land use\": \"Winter cereals\", \"Irrigation\": \"dry\", \"Sources\": \"TCO2E_IRRIG\", \"Quantity (Mt CO2e)\": 0.0}, {\"Year\": 2050, \"Land use\": \"Winter cereals\", \"Irrigation\": \"dry\", \"Sources\": \"TCO2E_MANURE_MGT\", \"Quantity (Mt CO2e)\": 0.0}, {\"Year\": 2050, \"Land use\": \"Winter cereals\", \"Irrigation\": \"dry\", \"Sources\": \"TCO2E_PEST_PROD\", \"Quantity (Mt CO2e)\": 1.4460750124005857}, {\"Year\": 2050, \"Land use\": \"Winter cereals\", \"Irrigation\": \"dry\", \"Sources\": \"TCO2E_SEED\", \"Quantity (Mt CO2e)\": 0.0}, {\"Year\": 2050, \"Land use\": \"Winter cereals\", \"Irrigation\": \"dry\", \"Sources\": \"TCO2E_SOIL\", \"Quantity (Mt CO2e)\": 0.6901260153140203}, {\"Year\": 2050, \"Land use\": \"Winter cereals\", \"Irrigation\": \"dry\", \"Sources\": \"TCO2E_SOWING\", \"Quantity (Mt CO2e)\": 0.7659380542408732}, {\"Year\": 2050, \"Land use\": \"Winter cereals\", \"Irrigation\": \"irr\", \"Sources\": \"TCO2E_CHEM_APPL\", \"Quantity (Mt CO2e)\": 0.05605815810342483}, {\"Year\": 2050, \"Land use\": \"Winter cereals\", \"Irrigation\": \"irr\", \"Sources\": \"TCO2E_CROP_MGT\", \"Quantity (Mt CO2e)\": 0.00013913706579713925}, {\"Year\": 2050, \"Land use\": \"Winter cereals\", \"Irrigation\": \"irr\", \"Sources\": \"TCO2E_CULTIV\", \"Quantity (Mt CO2e)\": 0.10402730183219373}, {\"Year\": 2050, \"Land use\": \"Winter cereals\", \"Irrigation\": \"irr\", \"Sources\": \"TCO2E_DUNG_URINE\", \"Quantity (Mt CO2e)\": 0.00015463666552126233}, {\"Year\": 2050, \"Land use\": \"Winter cereals\", \"Irrigation\": \"irr\", \"Sources\": \"TCO2E_ELEC\", \"Quantity (Mt CO2e)\": 0.0}, {\"Year\": 2050, \"Land use\": \"Winter cereals\", \"Irrigation\": \"irr\", \"Sources\": \"TCO2E_ENTERIC\", \"Quantity (Mt CO2e)\": 0.0016429819409651972}, {\"Year\": 2050, \"Land use\": \"Winter cereals\", \"Irrigation\": \"irr\", \"Sources\": \"TCO2E_FERT_PROD\", \"Quantity (Mt CO2e)\": 0.3560528276635183}, {\"Year\": 2050, \"Land use\": \"Winter cereals\", \"Irrigation\": \"irr\", \"Sources\": \"TCO2E_FODDER\", \"Quantity (Mt CO2e)\": 5.705557860815952e-05}, {\"Year\": 2050, \"Land use\": \"Winter cereals\", \"Irrigation\": \"irr\", \"Sources\": \"TCO2E_FUEL\", \"Quantity (Mt CO2e)\": 0.0004551112468448264}, {\"Year\": 2050, \"Land use\": \"Winter cereals\", \"Irrigation\": \"irr\", \"Sources\": \"TCO2E_HARVEST\", \"Quantity (Mt CO2e)\": 0.01601093235547153}, {\"Year\": 2050, \"Land use\": \"Winter cereals\", \"Irrigation\": \"irr\", \"Sources\": \"TCO2E_IND_LEACH_RUNOFF\", \"Quantity (Mt CO2e)\": 0.000210979674389695}, {\"Year\": 2050, \"Land use\": \"Winter cereals\", \"Irrigation\": \"irr\", \"Sources\": \"TCO2E_IRRIG\", \"Quantity (Mt CO2e)\": 0.08751751730993107}, {\"Year\": 2050, \"Land use\": \"Winter cereals\", \"Irrigation\": \"irr\", \"Sources\": \"TCO2E_MANURE_MGT\", \"Quantity (Mt CO2e)\": 2.79712012552693e-07}, {\"Year\": 2050, \"Land use\": \"Winter cereals\", \"Irrigation\": \"irr\", \"Sources\": \"TCO2E_PEST_PROD\", \"Quantity (Mt CO2e)\": 0.10332343364907393}, {\"Year\": 2050, \"Land use\": \"Winter cereals\", \"Irrigation\": \"irr\", \"Sources\": \"TCO2E_SEED\", \"Quantity (Mt CO2e)\": 9.93696546085539e-06}, {\"Year\": 2050, \"Land use\": \"Winter cereals\", \"Irrigation\": \"irr\", \"Sources\": \"TCO2E_SOIL\", \"Quantity (Mt CO2e)\": 0.7282458132237417}, {\"Year\": 2050, \"Land use\": \"Winter cereals\", \"Irrigation\": \"irr\", \"Sources\": \"TCO2E_SOWING\", \"Quantity (Mt CO2e)\": 0.04215728692523905}, {\"Year\": 2050, \"Land use\": \"Winter legumes\", \"Irrigation\": \"dry\", \"Sources\": \"TCO2E_CHEM_APPL\", \"Quantity (Mt CO2e)\": 0.15366851492423533}, {\"Year\": 2050, \"Land use\": \"Winter legumes\", \"Irrigation\": \"dry\", \"Sources\": \"TCO2E_CROP_MGT\", \"Quantity (Mt CO2e)\": 0.0}, {\"Year\": 2050, \"Land use\": \"Winter legumes\", \"Irrigation\": \"dry\", \"Sources\": \"TCO2E_CULTIV\", \"Quantity (Mt CO2e)\": 0.010187244506425212}, {\"Year\": 2050, \"Land use\": \"Winter legumes\", \"Irrigation\": \"dry\", \"Sources\": \"TCO2E_DUNG_URINE\", \"Quantity (Mt CO2e)\": 0.0}, {\"Year\": 2050, \"Land use\": \"Winter legumes\", \"Irrigation\": \"dry\", \"Sources\": \"TCO2E_ELEC\", \"Quantity (Mt CO2e)\": 0.0}, {\"Year\": 2050, \"Land use\": \"Winter legumes\", \"Irrigation\": \"dry\", \"Sources\": \"TCO2E_ENTERIC\", \"Quantity (Mt CO2e)\": 0.0}, {\"Year\": 2050, \"Land use\": \"Winter legumes\", \"Irrigation\": \"dry\", \"Sources\": \"TCO2E_FERT_PROD\", \"Quantity (Mt CO2e)\": 0.13018540787663163}, {\"Year\": 2050, \"Land use\": \"Winter legumes\", \"Irrigation\": \"dry\", \"Sources\": \"TCO2E_FODDER\", \"Quantity (Mt CO2e)\": 0.0}, {\"Year\": 2050, \"Land use\": \"Winter legumes\", \"Irrigation\": \"dry\", \"Sources\": \"TCO2E_FUEL\", \"Quantity (Mt CO2e)\": 0.0}, {\"Year\": 2050, \"Land use\": \"Winter legumes\", \"Irrigation\": \"dry\", \"Sources\": \"TCO2E_HARVEST\", \"Quantity (Mt CO2e)\": 0.018342484840435866}, {\"Year\": 2050, \"Land use\": \"Winter legumes\", \"Irrigation\": \"dry\", \"Sources\": \"TCO2E_IND_LEACH_RUNOFF\", \"Quantity (Mt CO2e)\": 0.0}, {\"Year\": 2050, \"Land use\": \"Winter legumes\", \"Irrigation\": \"dry\", \"Sources\": \"TCO2E_IRRIG\", \"Quantity (Mt CO2e)\": 0.0}, {\"Year\": 2050, \"Land use\": \"Winter legumes\", \"Irrigation\": \"dry\", \"Sources\": \"TCO2E_MANURE_MGT\", \"Quantity (Mt CO2e)\": 0.0}, {\"Year\": 2050, \"Land use\": \"Winter legumes\", \"Irrigation\": \"dry\", \"Sources\": \"TCO2E_PEST_PROD\", \"Quantity (Mt CO2e)\": 0.1952103982272667}, {\"Year\": 2050, \"Land use\": \"Winter legumes\", \"Irrigation\": \"dry\", \"Sources\": \"TCO2E_SEED\", \"Quantity (Mt CO2e)\": 0.0}, {\"Year\": 2050, \"Land use\": \"Winter legumes\", \"Irrigation\": \"dry\", \"Sources\": \"TCO2E_SOIL\", \"Quantity (Mt CO2e)\": 0.004677226092245398}, {\"Year\": 2050, \"Land use\": \"Winter legumes\", \"Irrigation\": \"dry\", \"Sources\": \"TCO2E_SOWING\", \"Quantity (Mt CO2e)\": 0.08784890572641449}, {\"Year\": 2050, \"Land use\": \"Winter legumes\", \"Irrigation\": \"irr\", \"Sources\": \"TCO2E_CHEM_APPL\", \"Quantity (Mt CO2e)\": 0.003199143539428711}, {\"Year\": 2050, \"Land use\": \"Winter legumes\", \"Irrigation\": \"irr\", \"Sources\": \"TCO2E_CROP_MGT\", \"Quantity (Mt CO2e)\": 0.0}, {\"Year\": 2050, \"Land use\": \"Winter legumes\", \"Irrigation\": \"irr\", \"Sources\": \"TCO2E_CULTIV\", \"Quantity (Mt CO2e)\": 0.0012678870391845704}, {\"Year\": 2050, \"Land use\": \"Winter legumes\", \"Irrigation\": \"irr\", \"Sources\": \"TCO2E_DUNG_URINE\", \"Quantity (Mt CO2e)\": 0.0}, {\"Year\": 2050, \"Land use\": \"Winter legumes\", \"Irrigation\": \"irr\", \"Sources\": \"TCO2E_ELEC\", \"Quantity (Mt CO2e)\": 0.0}, {\"Year\": 2050, \"Land use\": \"Winter legumes\", \"Irrigation\": \"irr\", \"Sources\": \"TCO2E_ENTERIC\", \"Quantity (Mt CO2e)\": 0.0}, {\"Year\": 2050, \"Land use\": \"Winter legumes\", \"Irrigation\": \"irr\", \"Sources\": \"TCO2E_FERT_PROD\", \"Quantity (Mt CO2e)\": 0.0032514765319824218}, {\"Year\": 2050, \"Land use\": \"Winter legumes\", \"Irrigation\": \"irr\", \"Sources\": \"TCO2E_FODDER\", \"Quantity (Mt CO2e)\": 0.0}, {\"Year\": 2050, \"Land use\": \"Winter legumes\", \"Irrigation\": \"irr\", \"Sources\": \"TCO2E_FUEL\", \"Quantity (Mt CO2e)\": 0.0}, {\"Year\": 2050, \"Land use\": \"Winter legumes\", \"Irrigation\": \"irr\", \"Sources\": \"TCO2E_HARVEST\", \"Quantity (Mt CO2e)\": 0.0005330240325927734}, {\"Year\": 2050, \"Land use\": \"Winter legumes\", \"Irrigation\": \"irr\", \"Sources\": \"TCO2E_IND_LEACH_RUNOFF\", \"Quantity (Mt CO2e)\": 0.0}, {\"Year\": 2050, \"Land use\": \"Winter legumes\", \"Irrigation\": \"irr\", \"Sources\": \"TCO2E_IRRIG\", \"Quantity (Mt CO2e)\": 0.0035168661651611326}, {\"Year\": 2050, \"Land use\": \"Winter legumes\", \"Irrigation\": \"irr\", \"Sources\": \"TCO2E_MANURE_MGT\", \"Quantity (Mt CO2e)\": 0.0}, {\"Year\": 2050, \"Land use\": \"Winter legumes\", \"Irrigation\": \"irr\", \"Sources\": \"TCO2E_PEST_PROD\", \"Quantity (Mt CO2e)\": 0.004203265121459961}, {\"Year\": 2050, \"Land use\": \"Winter legumes\", \"Irrigation\": \"irr\", \"Sources\": \"TCO2E_SEED\", \"Quantity (Mt CO2e)\": 0.0}, {\"Year\": 2050, \"Land use\": \"Winter legumes\", \"Irrigation\": \"irr\", \"Sources\": \"TCO2E_SOIL\", \"Quantity (Mt CO2e)\": 0.00022243778896331788}, {\"Year\": 2050, \"Land use\": \"Winter legumes\", \"Irrigation\": \"irr\", \"Sources\": \"TCO2E_SOWING\", \"Quantity (Mt CO2e)\": 0.0020678226165771483}, {\"Year\": 2050, \"Land use\": \"Winter oilseeds\", \"Irrigation\": \"dry\", \"Sources\": \"TCO2E_CHEM_APPL\", \"Quantity (Mt CO2e)\": 0.14619249184751837}, {\"Year\": 2050, \"Land use\": \"Winter oilseeds\", \"Irrigation\": \"dry\", \"Sources\": \"TCO2E_CROP_MGT\", \"Quantity (Mt CO2e)\": 0.0}, {\"Year\": 2050, \"Land use\": \"Winter oilseeds\", \"Irrigation\": \"dry\", \"Sources\": \"TCO2E_CULTIV\", \"Quantity (Mt CO2e)\": 0.029588016597747804}, {\"Year\": 2050, \"Land use\": \"Winter oilseeds\", \"Irrigation\": \"dry\", \"Sources\": \"TCO2E_DUNG_URINE\", \"Quantity (Mt CO2e)\": 0.0}, {\"Year\": 2050, \"Land use\": \"Winter oilseeds\", \"Irrigation\": \"dry\", \"Sources\": \"TCO2E_ELEC\", \"Quantity (Mt CO2e)\": 0.0}, {\"Year\": 2050, \"Land use\": \"Winter oilseeds\", \"Irrigation\": \"dry\", \"Sources\": \"TCO2E_ENTERIC\", \"Quantity (Mt CO2e)\": 0.0}, {\"Year\": 2050, \"Land use\": \"Winter oilseeds\", \"Irrigation\": \"dry\", \"Sources\": \"TCO2E_FERT_PROD\", \"Quantity (Mt CO2e)\": 0.5447201202442468}, {\"Year\": 2050, \"Land use\": \"Winter oilseeds\", \"Irrigation\": \"dry\", \"Sources\": \"TCO2E_FODDER\", \"Quantity (Mt CO2e)\": 0.0}, {\"Year\": 2050, \"Land use\": \"Winter oilseeds\", \"Irrigation\": \"dry\", \"Sources\": \"TCO2E_FUEL\", \"Quantity (Mt CO2e)\": 0.0}, {\"Year\": 2050, \"Land use\": \"Winter oilseeds\", \"Irrigation\": \"dry\", \"Sources\": \"TCO2E_HARVEST\", \"Quantity (Mt CO2e)\": 0.035598172020569}, {\"Year\": 2050, \"Land use\": \"Winter oilseeds\", \"Irrigation\": \"dry\", \"Sources\": \"TCO2E_IND_LEACH_RUNOFF\", \"Quantity (Mt CO2e)\": 0.0}, {\"Year\": 2050, \"Land use\": \"Winter oilseeds\", \"Irrigation\": \"dry\", \"Sources\": \"TCO2E_IRRIG\", \"Quantity (Mt CO2e)\": 0.0}, {\"Year\": 2050, \"Land use\": \"Winter oilseeds\", \"Irrigation\": \"dry\", \"Sources\": \"TCO2E_MANURE_MGT\", \"Quantity (Mt CO2e)\": 0.0}, {\"Year\": 2050, \"Land use\": \"Winter oilseeds\", \"Irrigation\": \"dry\", \"Sources\": \"TCO2E_PEST_PROD\", \"Quantity (Mt CO2e)\": 0.185879606106976}, {\"Year\": 2050, \"Land use\": \"Winter oilseeds\", \"Irrigation\": \"dry\", \"Sources\": \"TCO2E_SEED\", \"Quantity (Mt CO2e)\": 0.0}, {\"Year\": 2050, \"Land use\": \"Winter oilseeds\", \"Irrigation\": \"dry\", \"Sources\": \"TCO2E_SOIL\", \"Quantity (Mt CO2e)\": 0.07632726615419198}, {\"Year\": 2050, \"Land use\": \"Winter oilseeds\", \"Irrigation\": \"dry\", \"Sources\": \"TCO2E_SOWING\", \"Quantity (Mt CO2e)\": 0.07206430754634911}, {\"Year\": 2050, \"Land use\": \"Winter oilseeds\", \"Irrigation\": \"irr\", \"Sources\": \"TCO2E_CHEM_APPL\", \"Quantity (Mt CO2e)\": 0.00022093572235107426}, {\"Year\": 2050, \"Land use\": \"Winter oilseeds\", \"Irrigation\": \"irr\", \"Sources\": \"TCO2E_CROP_MGT\", \"Quantity (Mt CO2e)\": 0.0}, {\"Year\": 2050, \"Land use\": \"Winter oilseeds\", \"Irrigation\": \"irr\", \"Sources\": \"TCO2E_CULTIV\", \"Quantity (Mt CO2e)\": 0.0002193722076416016}, {\"Year\": 2050, \"Land use\": \"Winter oilseeds\", \"Irrigation\": \"irr\", \"Sources\": \"TCO2E_DUNG_URINE\", \"Quantity (Mt CO2e)\": 0.0}, {\"Year\": 2050, \"Land use\": \"Winter oilseeds\", \"Irrigation\": \"irr\", \"Sources\": \"TCO2E_ELEC\", \"Quantity (Mt CO2e)\": 0.0}, {\"Year\": 2050, \"Land use\": \"Winter oilseeds\", \"Irrigation\": \"irr\", \"Sources\": \"TCO2E_ENTERIC\", \"Quantity (Mt CO2e)\": 0.0}, {\"Year\": 2050, \"Land use\": \"Winter oilseeds\", \"Irrigation\": \"irr\", \"Sources\": \"TCO2E_FERT_PROD\", \"Quantity (Mt CO2e)\": 0.004058109741210937}, {\"Year\": 2050, \"Land use\": \"Winter oilseeds\", \"Irrigation\": \"irr\", \"Sources\": \"TCO2E_FODDER\", \"Quantity (Mt CO2e)\": 0.0}, {\"Year\": 2050, \"Land use\": \"Winter oilseeds\", \"Irrigation\": \"irr\", \"Sources\": \"TCO2E_FUEL\", \"Quantity (Mt CO2e)\": 0.0}, {\"Year\": 2050, \"Land use\": \"Winter oilseeds\", \"Irrigation\": \"irr\", \"Sources\": \"TCO2E_HARVEST\", \"Quantity (Mt CO2e)\": 9.794437026977541e-05}, {\"Year\": 2050, \"Land use\": \"Winter oilseeds\", \"Irrigation\": \"irr\", \"Sources\": \"TCO2E_IND_LEACH_RUNOFF\", \"Quantity (Mt CO2e)\": 0.0}, {\"Year\": 2050, \"Land use\": \"Winter oilseeds\", \"Irrigation\": \"irr\", \"Sources\": \"TCO2E_IRRIG\", \"Quantity (Mt CO2e)\": 0.000222701322555542}, {\"Year\": 2050, \"Land use\": \"Winter oilseeds\", \"Irrigation\": \"irr\", \"Sources\": \"TCO2E_MANURE_MGT\", \"Quantity (Mt CO2e)\": 0.0}, {\"Year\": 2050, \"Land use\": \"Winter oilseeds\", \"Irrigation\": \"irr\", \"Sources\": \"TCO2E_PEST_PROD\", \"Quantity (Mt CO2e)\": 6.748073959350586e-05}, {\"Year\": 2050, \"Land use\": \"Winter oilseeds\", \"Irrigation\": \"irr\", \"Sources\": \"TCO2E_SEED\", \"Quantity (Mt CO2e)\": 0.0}, {\"Year\": 2050, \"Land use\": \"Winter oilseeds\", \"Irrigation\": \"irr\", \"Sources\": \"TCO2E_SOIL\", \"Quantity (Mt CO2e)\": 0.002575286499023437}, {\"Year\": 2050, \"Land use\": \"Winter oilseeds\", \"Irrigation\": \"irr\", \"Sources\": \"TCO2E_SOWING\", \"Quantity (Mt CO2e)\": 9.054959869384766e-05}]}}, {\"mode\": \"vega-lite\"});\n",
       "</script>"
      ],
      "text/plain": [
       "alt.Chart(...)"
      ]
     },
     "execution_count": 14,
     "metadata": {},
     "output_type": "execute_result"
    }
   ],
   "source": [
    "# HIDE CODE\n",
    "# get the df and plot\n",
    "GHG_lu_source_df,GHG_lu_source_plot = ag_lucc_GHG.plot_GHG_lu_source(2050)\n",
    "GHG_lu_source_plot"
   ]
  },
  {
   "cell_type": "code",
   "execution_count": null,
   "metadata": {},
   "outputs": [],
   "source": []
  },
  {
   "cell_type": "markdown",
   "metadata": {},
   "source": [
    "## Non-Agricultural Land-use GHG sequestrations"
   ]
  },
  {
   "cell_type": "code",
   "execution_count": null,
   "metadata": {},
   "outputs": [],
   "source": []
  },
  {
   "cell_type": "markdown",
   "metadata": {},
   "source": [
    "### Data preparation"
   ]
  },
  {
   "cell_type": "code",
   "execution_count": 15,
   "metadata": {
    "tags": [
     "remove-cell"
    ]
   },
   "outputs": [
    {
     "data": {
      "application/vnd.jupyter.widget-view+json": {
       "model_id": "167c21446d5d4a5fac0d6c50056115b6",
       "version_major": 2,
       "version_minor": 0
      },
      "text/plain": [
       "  0%|          | 0/41 [00:00<?, ?it/s]"
      ]
     },
     "metadata": {},
     "output_type": "display_data"
    }
   ],
   "source": [
    "# HIDDEN\n",
    "# Initialize the class\n",
    "non_ag_lucc_GHG = get_GHG_plots(GHG_files,'Non-Agricultural Landuse','GHG sequestration (Mt CO2e)')"
   ]
  },
  {
   "cell_type": "code",
   "execution_count": null,
   "metadata": {},
   "outputs": [],
   "source": []
  },
  {
   "cell_type": "code",
   "execution_count": null,
   "metadata": {},
   "outputs": [],
   "source": []
  },
  {
   "cell_type": "markdown",
   "metadata": {},
   "source": [
    "### Sequestrations in total"
   ]
  },
  {
   "cell_type": "code",
   "execution_count": 16,
   "metadata": {
    "tags": [
     "hide-input"
    ]
   },
   "outputs": [
    {
     "name": "stderr",
     "output_type": "stream",
     "text": [
      "d:\\LUTO\\VIS_LUTO\\tools\\Plot_GHG.py:189: FutureWarning: The default value of numeric_only in DataFrameGroupBy.sum is deprecated. In a future version, numeric_only will default to False. Either specify numeric_only or select only columns which should be valid for the function.\n",
      "  GHG_crop_lvstk_total = self.GHG_df_long.groupby(['Year','Land use category']).sum()['Quantity (Mt CO2e)'].reset_index()\n"
     ]
    },
    {
     "data": {
      "text/html": [
       "\n",
       "<style>\n",
       "  #altair-viz-f015b9fe9acd4d4a9bc91852fda2d826.vega-embed {\n",
       "    width: 100%;\n",
       "    display: flex;\n",
       "  }\n",
       "\n",
       "  #altair-viz-f015b9fe9acd4d4a9bc91852fda2d826.vega-embed details,\n",
       "  #altair-viz-f015b9fe9acd4d4a9bc91852fda2d826.vega-embed details summary {\n",
       "    position: relative;\n",
       "  }\n",
       "</style>\n",
       "<div id=\"altair-viz-f015b9fe9acd4d4a9bc91852fda2d826\"></div>\n",
       "<script type=\"text/javascript\">\n",
       "  var VEGA_DEBUG = (typeof VEGA_DEBUG == \"undefined\") ? {} : VEGA_DEBUG;\n",
       "  (function(spec, embedOpt){\n",
       "    let outputDiv = document.currentScript.previousElementSibling;\n",
       "    if (outputDiv.id !== \"altair-viz-f015b9fe9acd4d4a9bc91852fda2d826\") {\n",
       "      outputDiv = document.getElementById(\"altair-viz-f015b9fe9acd4d4a9bc91852fda2d826\");\n",
       "    }\n",
       "    const paths = {\n",
       "      \"vega\": \"https://cdn.jsdelivr.net/npm/vega@5?noext\",\n",
       "      \"vega-lib\": \"https://cdn.jsdelivr.net/npm/vega-lib?noext\",\n",
       "      \"vega-lite\": \"https://cdn.jsdelivr.net/npm/vega-lite@5.15.1?noext\",\n",
       "      \"vega-embed\": \"https://cdn.jsdelivr.net/npm/vega-embed@6?noext\",\n",
       "    };\n",
       "\n",
       "    function maybeLoadScript(lib, version) {\n",
       "      var key = `${lib.replace(\"-\", \"\")}_version`;\n",
       "      return (VEGA_DEBUG[key] == version) ?\n",
       "        Promise.resolve(paths[lib]) :\n",
       "        new Promise(function(resolve, reject) {\n",
       "          var s = document.createElement('script');\n",
       "          document.getElementsByTagName(\"head\")[0].appendChild(s);\n",
       "          s.async = true;\n",
       "          s.onload = () => {\n",
       "            VEGA_DEBUG[key] = version;\n",
       "            return resolve(paths[lib]);\n",
       "          };\n",
       "          s.onerror = () => reject(`Error loading script: ${paths[lib]}`);\n",
       "          s.src = paths[lib];\n",
       "        });\n",
       "    }\n",
       "\n",
       "    function showError(err) {\n",
       "      outputDiv.innerHTML = `<div class=\"error\" style=\"color:red;\">${err}</div>`;\n",
       "      throw err;\n",
       "    }\n",
       "\n",
       "    function displayChart(vegaEmbed) {\n",
       "      vegaEmbed(outputDiv, spec, embedOpt)\n",
       "        .catch(err => showError(`Javascript Error: ${err.message}<br>This usually means there's a typo in your chart specification. See the javascript console for the full traceback.`));\n",
       "    }\n",
       "\n",
       "    if(typeof define === \"function\" && define.amd) {\n",
       "      requirejs.config({paths});\n",
       "      require([\"vega-embed\"], displayChart, err => showError(`Error loading script: ${err.message}`));\n",
       "    } else {\n",
       "      maybeLoadScript(\"vega\", \"5\")\n",
       "        .then(() => maybeLoadScript(\"vega-lite\", \"5.15.1\"))\n",
       "        .then(() => maybeLoadScript(\"vega-embed\", \"6\"))\n",
       "        .catch(showError)\n",
       "        .then(() => displayChart(vegaEmbed));\n",
       "    }\n",
       "  })({\"config\": {\"view\": {\"continuousWidth\": 300, \"continuousHeight\": 300}}, \"layer\": [{\"mark\": {\"type\": \"line\"}, \"encoding\": {\"color\": {\"field\": \"Land use category\", \"legend\": {\"direction\": \"horizontal\", \"legendX\": 350, \"legendY\": -40, \"orient\": \"none\", \"title\": \"Landuse type\", \"titleAnchor\": \"middle\"}, \"type\": \"nominal\"}, \"tooltip\": [{\"field\": \"Land use category\", \"title\": \"Landuse type\", \"type\": \"ordinal\"}, {\"field\": \"Quantity (Mt CO2e)\", \"title\": \"GHG sequestration (Mt CO2e)\", \"type\": \"quantitative\"}], \"x\": {\"axis\": {\"labelAngle\": -90, \"title\": \"Year\"}, \"field\": \"Year\", \"type\": \"ordinal\"}, \"y\": {\"field\": \"Quantity (Mt CO2e)\", \"scale\": {\"reverse\": true}, \"title\": \"GHG sequestration (Mt CO2e) (Mt CO2e)\", \"type\": \"quantitative\"}}}], \"data\": {\"name\": \"data-b03f060b39c334e5378afb70e11f4ca5\"}, \"height\": 450, \"width\": 800, \"$schema\": \"https://vega.github.io/schema/vega-lite/v5.15.1.json\", \"datasets\": {\"data-b03f060b39c334e5378afb70e11f4ca5\": [{\"Year\": 2011, \"Land use category\": \"Non-Agricultural Landuse\", \"Quantity (Mt CO2e)\": -2.1942012}, {\"Year\": 2012, \"Land use category\": \"Non-Agricultural Landuse\", \"Quantity (Mt CO2e)\": -5.840859020000001}, {\"Year\": 2013, \"Land use category\": \"Non-Agricultural Landuse\", \"Quantity (Mt CO2e)\": -9.640114019999999}, {\"Year\": 2014, \"Land use category\": \"Non-Agricultural Landuse\", \"Quantity (Mt CO2e)\": -13.525310379999999}, {\"Year\": 2015, \"Land use category\": \"Non-Agricultural Landuse\", \"Quantity (Mt CO2e)\": -17.30030638}, {\"Year\": 2016, \"Land use category\": \"Non-Agricultural Landuse\", \"Quantity (Mt CO2e)\": -20.98946238}, {\"Year\": 2017, \"Land use category\": \"Non-Agricultural Landuse\", \"Quantity (Mt CO2e)\": -24.741722900000003}, {\"Year\": 2018, \"Land use category\": \"Non-Agricultural Landuse\", \"Quantity (Mt CO2e)\": -28.552817100000002}, {\"Year\": 2019, \"Land use category\": \"Non-Agricultural Landuse\", \"Quantity (Mt CO2e)\": -32.3580511}, {\"Year\": 2020, \"Land use category\": \"Non-Agricultural Landuse\", \"Quantity (Mt CO2e)\": -36.169601}, {\"Year\": 2021, \"Land use category\": \"Non-Agricultural Landuse\", \"Quantity (Mt CO2e)\": -39.7884858}, {\"Year\": 2022, \"Land use category\": \"Non-Agricultural Landuse\", \"Quantity (Mt CO2e)\": -43.474984899999995}, {\"Year\": 2023, \"Land use category\": \"Non-Agricultural Landuse\", \"Quantity (Mt CO2e)\": -47.1408334}, {\"Year\": 2024, \"Land use category\": \"Non-Agricultural Landuse\", \"Quantity (Mt CO2e)\": -50.806059940000004}, {\"Year\": 2025, \"Land use category\": \"Non-Agricultural Landuse\", \"Quantity (Mt CO2e)\": -54.41289194}, {\"Year\": 2026, \"Land use category\": \"Non-Agricultural Landuse\", \"Quantity (Mt CO2e)\": -58.1188357}, {\"Year\": 2027, \"Land use category\": \"Non-Agricultural Landuse\", \"Quantity (Mt CO2e)\": -61.81685206}, {\"Year\": 2028, \"Land use category\": \"Non-Agricultural Landuse\", \"Quantity (Mt CO2e)\": -65.58001094}, {\"Year\": 2029, \"Land use category\": \"Non-Agricultural Landuse\", \"Quantity (Mt CO2e)\": -69.2896688}, {\"Year\": 2030, \"Land use category\": \"Non-Agricultural Landuse\", \"Quantity (Mt CO2e)\": -73.0825201}, {\"Year\": 2031, \"Land use category\": \"Non-Agricultural Landuse\", \"Quantity (Mt CO2e)\": -75.8753185}, {\"Year\": 2032, \"Land use category\": \"Non-Agricultural Landuse\", \"Quantity (Mt CO2e)\": -77.44554299999999}, {\"Year\": 2033, \"Land use category\": \"Non-Agricultural Landuse\", \"Quantity (Mt CO2e)\": -77.36221699999999}, {\"Year\": 2034, \"Land use category\": \"Non-Agricultural Landuse\", \"Quantity (Mt CO2e)\": -78.08611699999999}, {\"Year\": 2035, \"Land use category\": \"Non-Agricultural Landuse\", \"Quantity (Mt CO2e)\": -82.217311}, {\"Year\": 2036, \"Land use category\": \"Non-Agricultural Landuse\", \"Quantity (Mt CO2e)\": -88.84398680000001}, {\"Year\": 2037, \"Land use category\": \"Non-Agricultural Landuse\", \"Quantity (Mt CO2e)\": -93.9812269}, {\"Year\": 2038, \"Land use category\": \"Non-Agricultural Landuse\", \"Quantity (Mt CO2e)\": -98.14600279999999}, {\"Year\": 2039, \"Land use category\": \"Non-Agricultural Landuse\", \"Quantity (Mt CO2e)\": -101.0478554}, {\"Year\": 2040, \"Land use category\": \"Non-Agricultural Landuse\", \"Quantity (Mt CO2e)\": -101.9919674}, {\"Year\": 2041, \"Land use category\": \"Non-Agricultural Landuse\", \"Quantity (Mt CO2e)\": -104.0955422}, {\"Year\": 2042, \"Land use category\": \"Non-Agricultural Landuse\", \"Quantity (Mt CO2e)\": -107.155391}, {\"Year\": 2043, \"Land use category\": \"Non-Agricultural Landuse\", \"Quantity (Mt CO2e)\": -110.6955585}, {\"Year\": 2044, \"Land use category\": \"Non-Agricultural Landuse\", \"Quantity (Mt CO2e)\": -112.9405572}, {\"Year\": 2045, \"Land use category\": \"Non-Agricultural Landuse\", \"Quantity (Mt CO2e)\": -112.9780222}, {\"Year\": 2046, \"Land use category\": \"Non-Agricultural Landuse\", \"Quantity (Mt CO2e)\": -114.3204808}, {\"Year\": 2047, \"Land use category\": \"Non-Agricultural Landuse\", \"Quantity (Mt CO2e)\": -116.86551800000001}, {\"Year\": 2048, \"Land use category\": \"Non-Agricultural Landuse\", \"Quantity (Mt CO2e)\": -120.2876105}, {\"Year\": 2049, \"Land use category\": \"Non-Agricultural Landuse\", \"Quantity (Mt CO2e)\": -123.6458235}, {\"Year\": 2050, \"Land use category\": \"Non-Agricultural Landuse\", \"Quantity (Mt CO2e)\": -126.57229550000001}]}}, {\"mode\": \"vega-lite\"});\n",
       "</script>"
      ],
      "text/plain": [
       "alt.LayerChart(...)"
      ]
     },
     "execution_count": 16,
     "metadata": {},
     "output_type": "execute_result"
    }
   ],
   "source": [
    "# HIDE CODE\n",
    "# get the df and plot\n",
    "GHG_non_ag_crop_lvstk_df,GHG_non_ag_crop_lvstk_plot = non_ag_lucc_GHG.plot_GHG_crop_lvstk()\n",
    "GHG_non_ag_crop_lvstk_plot"
   ]
  },
  {
   "cell_type": "code",
   "execution_count": null,
   "metadata": {},
   "outputs": [],
   "source": []
  },
  {
   "cell_type": "markdown",
   "metadata": {},
   "source": [
    "### Sequestrations by irrigation system"
   ]
  },
  {
   "cell_type": "code",
   "execution_count": 17,
   "metadata": {
    "tags": [
     "hide-input"
    ]
   },
   "outputs": [
    {
     "name": "stderr",
     "output_type": "stream",
     "text": [
      "d:\\LUTO\\VIS_LUTO\\tools\\Plot_GHG.py:242: FutureWarning: The default value of numeric_only in DataFrameGroupBy.sum is deprecated. In a future version, numeric_only will default to False. Either specify numeric_only or select only columns which should be valid for the function.\n",
      "  GHG_lm_total = self.GHG_df_long.groupby(['Year','Irrigation']).sum()['Quantity (Mt CO2e)'].reset_index()\n"
     ]
    },
    {
     "data": {
      "text/html": [
       "\n",
       "<style>\n",
       "  #altair-viz-1438f03ff7c942648f2afe884d7f64ea.vega-embed {\n",
       "    width: 100%;\n",
       "    display: flex;\n",
       "  }\n",
       "\n",
       "  #altair-viz-1438f03ff7c942648f2afe884d7f64ea.vega-embed details,\n",
       "  #altair-viz-1438f03ff7c942648f2afe884d7f64ea.vega-embed details summary {\n",
       "    position: relative;\n",
       "  }\n",
       "</style>\n",
       "<div id=\"altair-viz-1438f03ff7c942648f2afe884d7f64ea\"></div>\n",
       "<script type=\"text/javascript\">\n",
       "  var VEGA_DEBUG = (typeof VEGA_DEBUG == \"undefined\") ? {} : VEGA_DEBUG;\n",
       "  (function(spec, embedOpt){\n",
       "    let outputDiv = document.currentScript.previousElementSibling;\n",
       "    if (outputDiv.id !== \"altair-viz-1438f03ff7c942648f2afe884d7f64ea\") {\n",
       "      outputDiv = document.getElementById(\"altair-viz-1438f03ff7c942648f2afe884d7f64ea\");\n",
       "    }\n",
       "    const paths = {\n",
       "      \"vega\": \"https://cdn.jsdelivr.net/npm/vega@5?noext\",\n",
       "      \"vega-lib\": \"https://cdn.jsdelivr.net/npm/vega-lib?noext\",\n",
       "      \"vega-lite\": \"https://cdn.jsdelivr.net/npm/vega-lite@5.15.1?noext\",\n",
       "      \"vega-embed\": \"https://cdn.jsdelivr.net/npm/vega-embed@6?noext\",\n",
       "    };\n",
       "\n",
       "    function maybeLoadScript(lib, version) {\n",
       "      var key = `${lib.replace(\"-\", \"\")}_version`;\n",
       "      return (VEGA_DEBUG[key] == version) ?\n",
       "        Promise.resolve(paths[lib]) :\n",
       "        new Promise(function(resolve, reject) {\n",
       "          var s = document.createElement('script');\n",
       "          document.getElementsByTagName(\"head\")[0].appendChild(s);\n",
       "          s.async = true;\n",
       "          s.onload = () => {\n",
       "            VEGA_DEBUG[key] = version;\n",
       "            return resolve(paths[lib]);\n",
       "          };\n",
       "          s.onerror = () => reject(`Error loading script: ${paths[lib]}`);\n",
       "          s.src = paths[lib];\n",
       "        });\n",
       "    }\n",
       "\n",
       "    function showError(err) {\n",
       "      outputDiv.innerHTML = `<div class=\"error\" style=\"color:red;\">${err}</div>`;\n",
       "      throw err;\n",
       "    }\n",
       "\n",
       "    function displayChart(vegaEmbed) {\n",
       "      vegaEmbed(outputDiv, spec, embedOpt)\n",
       "        .catch(err => showError(`Javascript Error: ${err.message}<br>This usually means there's a typo in your chart specification. See the javascript console for the full traceback.`));\n",
       "    }\n",
       "\n",
       "    if(typeof define === \"function\" && define.amd) {\n",
       "      requirejs.config({paths});\n",
       "      require([\"vega-embed\"], displayChart, err => showError(`Error loading script: ${err.message}`));\n",
       "    } else {\n",
       "      maybeLoadScript(\"vega\", \"5\")\n",
       "        .then(() => maybeLoadScript(\"vega-lite\", \"5.15.1\"))\n",
       "        .then(() => maybeLoadScript(\"vega-embed\", \"6\"))\n",
       "        .catch(showError)\n",
       "        .then(() => displayChart(vegaEmbed));\n",
       "    }\n",
       "  })({\"config\": {\"view\": {\"continuousWidth\": 300, \"continuousHeight\": 300}}, \"layer\": [{\"mark\": {\"type\": \"bar\"}, \"encoding\": {\"color\": {\"field\": \"Irrigation\", \"legend\": {\"direction\": \"horizontal\", \"legendX\": 350, \"legendY\": -40, \"orient\": \"none\", \"title\": \"Irrigation\", \"titleAnchor\": \"middle\"}, \"type\": \"nominal\"}, \"tooltip\": [{\"field\": \"Irrigation\", \"title\": \"Irrigation\", \"type\": \"nominal\"}, {\"field\": \"Quantity (Mt CO2e)\", \"title\": \"GHG sequestration (Mt CO2e)\", \"type\": \"quantitative\"}], \"x\": {\"axis\": {\"labelAngle\": -90, \"title\": \"Year\"}, \"field\": \"Year\", \"type\": \"ordinal\"}, \"y\": {\"field\": \"Quantity (Mt CO2e)\", \"scale\": {\"reverse\": true}, \"title\": \"GHG sequestration (Mt CO2e) (Mt CO2e)\", \"type\": \"quantitative\"}}}], \"data\": {\"name\": \"data-e2660f71053b2e1e734c77071d4e9848\"}, \"height\": 450, \"width\": 800, \"$schema\": \"https://vega.github.io/schema/vega-lite/v5.15.1.json\", \"datasets\": {\"data-e2660f71053b2e1e734c77071d4e9848\": [{\"Year\": 2011, \"Irrigation\": \"dry\", \"Quantity (Mt CO2e)\": -2.1942012}, {\"Year\": 2011, \"Irrigation\": \"irr\", \"Quantity (Mt CO2e)\": 0.0}, {\"Year\": 2012, \"Irrigation\": \"dry\", \"Quantity (Mt CO2e)\": -5.681117}, {\"Year\": 2012, \"Irrigation\": \"irr\", \"Quantity (Mt CO2e)\": -0.15974201999999998}, {\"Year\": 2013, \"Irrigation\": \"dry\", \"Quantity (Mt CO2e)\": -9.480372}, {\"Year\": 2013, \"Irrigation\": \"irr\", \"Quantity (Mt CO2e)\": -0.15974201999999998}, {\"Year\": 2014, \"Irrigation\": \"dry\", \"Quantity (Mt CO2e)\": -13.230094}, {\"Year\": 2014, \"Irrigation\": \"irr\", \"Quantity (Mt CO2e)\": -0.29521638}, {\"Year\": 2015, \"Irrigation\": \"dry\", \"Quantity (Mt CO2e)\": -17.00509}, {\"Year\": 2015, \"Irrigation\": \"irr\", \"Quantity (Mt CO2e)\": -0.29521638}, {\"Year\": 2016, \"Irrigation\": \"dry\", \"Quantity (Mt CO2e)\": -20.694246}, {\"Year\": 2016, \"Irrigation\": \"irr\", \"Quantity (Mt CO2e)\": -0.29521638}, {\"Year\": 2017, \"Irrigation\": \"dry\", \"Quantity (Mt CO2e)\": -24.41241}, {\"Year\": 2017, \"Irrigation\": \"irr\", \"Quantity (Mt CO2e)\": -0.3293129}, {\"Year\": 2018, \"Irrigation\": \"dry\", \"Quantity (Mt CO2e)\": -28.12892}, {\"Year\": 2018, \"Irrigation\": \"irr\", \"Quantity (Mt CO2e)\": -0.42389709999999997}, {\"Year\": 2019, \"Irrigation\": \"dry\", \"Quantity (Mt CO2e)\": -31.934154}, {\"Year\": 2019, \"Irrigation\": \"irr\", \"Quantity (Mt CO2e)\": -0.42389709999999997}, {\"Year\": 2020, \"Irrigation\": \"dry\", \"Quantity (Mt CO2e)\": -35.65306}, {\"Year\": 2020, \"Irrigation\": \"irr\", \"Quantity (Mt CO2e)\": -0.516541}, {\"Year\": 2021, \"Irrigation\": \"dry\", \"Quantity (Mt CO2e)\": -39.25626}, {\"Year\": 2021, \"Irrigation\": \"irr\", \"Quantity (Mt CO2e)\": -0.5322258000000001}, {\"Year\": 2022, \"Irrigation\": \"dry\", \"Quantity (Mt CO2e)\": -42.875116}, {\"Year\": 2022, \"Irrigation\": \"irr\", \"Quantity (Mt CO2e)\": -0.5998689}, {\"Year\": 2023, \"Irrigation\": \"dry\", \"Quantity (Mt CO2e)\": -46.35944}, {\"Year\": 2023, \"Irrigation\": \"irr\", \"Quantity (Mt CO2e)\": -0.7813934}, {\"Year\": 2024, \"Irrigation\": \"dry\", \"Quantity (Mt CO2e)\": -49.967668}, {\"Year\": 2024, \"Irrigation\": \"irr\", \"Quantity (Mt CO2e)\": -0.83839194}, {\"Year\": 2025, \"Irrigation\": \"dry\", \"Quantity (Mt CO2e)\": -53.5745}, {\"Year\": 2025, \"Irrigation\": \"irr\", \"Quantity (Mt CO2e)\": -0.83839194}, {\"Year\": 2026, \"Irrigation\": \"dry\", \"Quantity (Mt CO2e)\": -57.225864}, {\"Year\": 2026, \"Irrigation\": \"irr\", \"Quantity (Mt CO2e)\": -0.8929716999999999}, {\"Year\": 2027, \"Irrigation\": \"dry\", \"Quantity (Mt CO2e)\": -60.83374}, {\"Year\": 2027, \"Irrigation\": \"irr\", \"Quantity (Mt CO2e)\": -0.9831120600000001}, {\"Year\": 2028, \"Irrigation\": \"dry\", \"Quantity (Mt CO2e)\": -64.54448}, {\"Year\": 2028, \"Irrigation\": \"irr\", \"Quantity (Mt CO2e)\": -1.03553094}, {\"Year\": 2029, \"Irrigation\": \"dry\", \"Quantity (Mt CO2e)\": -68.16801}, {\"Year\": 2029, \"Irrigation\": \"irr\", \"Quantity (Mt CO2e)\": -1.1216588}, {\"Year\": 2030, \"Irrigation\": \"dry\", \"Quantity (Mt CO2e)\": -71.76563}, {\"Year\": 2030, \"Irrigation\": \"irr\", \"Quantity (Mt CO2e)\": -1.3168901000000002}, {\"Year\": 2031, \"Irrigation\": \"dry\", \"Quantity (Mt CO2e)\": -74.46706}, {\"Year\": 2031, \"Irrigation\": \"irr\", \"Quantity (Mt CO2e)\": -1.4082585}, {\"Year\": 2032, \"Irrigation\": \"dry\", \"Quantity (Mt CO2e)\": -75.992376}, {\"Year\": 2032, \"Irrigation\": \"irr\", \"Quantity (Mt CO2e)\": -1.453167}, {\"Year\": 2033, \"Irrigation\": \"dry\", \"Quantity (Mt CO2e)\": -75.90905}, {\"Year\": 2033, \"Irrigation\": \"irr\", \"Quantity (Mt CO2e)\": -1.453167}, {\"Year\": 2034, \"Irrigation\": \"dry\", \"Quantity (Mt CO2e)\": -76.63295}, {\"Year\": 2034, \"Irrigation\": \"irr\", \"Quantity (Mt CO2e)\": -1.453167}, {\"Year\": 2035, \"Irrigation\": \"dry\", \"Quantity (Mt CO2e)\": -80.60744}, {\"Year\": 2035, \"Irrigation\": \"irr\", \"Quantity (Mt CO2e)\": -1.609871}, {\"Year\": 2036, \"Irrigation\": \"dry\", \"Quantity (Mt CO2e)\": -87.165816}, {\"Year\": 2036, \"Irrigation\": \"irr\", \"Quantity (Mt CO2e)\": -1.6781708}, {\"Year\": 2037, \"Irrigation\": \"dry\", \"Quantity (Mt CO2e)\": -92.20669}, {\"Year\": 2037, \"Irrigation\": \"irr\", \"Quantity (Mt CO2e)\": -1.7745369}, {\"Year\": 2038, \"Irrigation\": \"dry\", \"Quantity (Mt CO2e)\": -96.28128}, {\"Year\": 2038, \"Irrigation\": \"irr\", \"Quantity (Mt CO2e)\": -1.8647228}, {\"Year\": 2039, \"Irrigation\": \"dry\", \"Quantity (Mt CO2e)\": -99.155944}, {\"Year\": 2039, \"Irrigation\": \"irr\", \"Quantity (Mt CO2e)\": -1.8919114}, {\"Year\": 2040, \"Irrigation\": \"dry\", \"Quantity (Mt CO2e)\": -100.100056}, {\"Year\": 2040, \"Irrigation\": \"irr\", \"Quantity (Mt CO2e)\": -1.8919114}, {\"Year\": 2041, \"Irrigation\": \"dry\", \"Quantity (Mt CO2e)\": -102.183336}, {\"Year\": 2041, \"Irrigation\": \"irr\", \"Quantity (Mt CO2e)\": -1.9122062}, {\"Year\": 2042, \"Irrigation\": \"dry\", \"Quantity (Mt CO2e)\": -105.113576}, {\"Year\": 2042, \"Irrigation\": \"irr\", \"Quantity (Mt CO2e)\": -2.041815}, {\"Year\": 2043, \"Irrigation\": \"dry\", \"Quantity (Mt CO2e)\": -108.64557}, {\"Year\": 2043, \"Irrigation\": \"irr\", \"Quantity (Mt CO2e)\": -2.0499885}, {\"Year\": 2044, \"Irrigation\": \"dry\", \"Quantity (Mt CO2e)\": -110.78163}, {\"Year\": 2044, \"Irrigation\": \"irr\", \"Quantity (Mt CO2e)\": -2.1589272000000004}, {\"Year\": 2045, \"Irrigation\": \"dry\", \"Quantity (Mt CO2e)\": -110.83308}, {\"Year\": 2045, \"Irrigation\": \"irr\", \"Quantity (Mt CO2e)\": -2.1449422}, {\"Year\": 2046, \"Irrigation\": \"dry\", \"Quantity (Mt CO2e)\": -112.12916}, {\"Year\": 2046, \"Irrigation\": \"irr\", \"Quantity (Mt CO2e)\": -2.1913207999999997}, {\"Year\": 2047, \"Irrigation\": \"dry\", \"Quantity (Mt CO2e)\": -114.62993}, {\"Year\": 2047, \"Irrigation\": \"irr\", \"Quantity (Mt CO2e)\": -2.235588}, {\"Year\": 2048, \"Irrigation\": \"dry\", \"Quantity (Mt CO2e)\": -117.91948}, {\"Year\": 2048, \"Irrigation\": \"irr\", \"Quantity (Mt CO2e)\": -2.3681305}, {\"Year\": 2049, \"Irrigation\": \"dry\", \"Quantity (Mt CO2e)\": -121.25305}, {\"Year\": 2049, \"Irrigation\": \"irr\", \"Quantity (Mt CO2e)\": -2.3927735}, {\"Year\": 2050, \"Irrigation\": \"dry\", \"Quantity (Mt CO2e)\": -123.96205}, {\"Year\": 2050, \"Irrigation\": \"irr\", \"Quantity (Mt CO2e)\": -2.6102455}]}}, {\"mode\": \"vega-lite\"});\n",
       "</script>"
      ],
      "text/plain": [
       "alt.LayerChart(...)"
      ]
     },
     "execution_count": 17,
     "metadata": {},
     "output_type": "execute_result"
    }
   ],
   "source": [
    "# HIDE CODE\n",
    "# get the df and plot\n",
    "GHG_non_ag_dry_irr_df,GHG_non_ag_dry_irr_plot = non_ag_lucc_GHG.plot_GHG_dry_irr()\n",
    "GHG_non_ag_dry_irr_plot"
   ]
  },
  {
   "cell_type": "code",
   "execution_count": null,
   "metadata": {},
   "outputs": [],
   "source": []
  },
  {
   "cell_type": "code",
   "execution_count": null,
   "metadata": {},
   "outputs": [],
   "source": []
  },
  {
   "cell_type": "markdown",
   "metadata": {},
   "source": [
    "## Agricultural Management GHG sequestrations"
   ]
  },
  {
   "cell_type": "code",
   "execution_count": null,
   "metadata": {},
   "outputs": [],
   "source": []
  },
  {
   "cell_type": "markdown",
   "metadata": {},
   "source": [
    "### Data preparation"
   ]
  },
  {
   "cell_type": "code",
   "execution_count": 18,
   "metadata": {
    "tags": [
     "remove-cell"
    ]
   },
   "outputs": [
    {
     "data": {
      "application/vnd.jupyter.widget-view+json": {
       "model_id": "241f54ede605442aaf6a93b21376cade",
       "version_major": 2,
       "version_minor": 0
      },
      "text/plain": [
       "  0%|          | 0/41 [00:00<?, ?it/s]"
      ]
     },
     "metadata": {},
     "output_type": "display_data"
    }
   ],
   "source": [
    "# HIDDEN\n",
    "# Initialize the class\n",
    "ag_man_GHG = get_GHG_plots(GHG_files,'Agricultural Management','GHG sequestration (Mt CO2e)')"
   ]
  },
  {
   "cell_type": "code",
   "execution_count": 19,
   "metadata": {},
   "outputs": [
    {
     "data": {
      "text/html": [
       "<div>\n",
       "<style scoped>\n",
       "    .dataframe tbody tr th:only-of-type {\n",
       "        vertical-align: middle;\n",
       "    }\n",
       "\n",
       "    .dataframe tbody tr th {\n",
       "        vertical-align: top;\n",
       "    }\n",
       "\n",
       "    .dataframe thead th {\n",
       "        text-align: right;\n",
       "    }\n",
       "</style>\n",
       "<table border=\"1\" class=\"dataframe\">\n",
       "  <thead>\n",
       "    <tr style=\"text-align: right;\">\n",
       "      <th></th>\n",
       "      <th>Year</th>\n",
       "      <th>Land use category</th>\n",
       "      <th>Land use</th>\n",
       "      <th>Irrigation</th>\n",
       "      <th>Sources</th>\n",
       "      <th>Quantity (Mt CO2e)</th>\n",
       "      <th>GHG Category</th>\n",
       "    </tr>\n",
       "  </thead>\n",
       "  <tbody>\n",
       "    <tr>\n",
       "      <th>0</th>\n",
       "      <td>2010</td>\n",
       "      <td>Crop</td>\n",
       "      <td>Apples</td>\n",
       "      <td>dry</td>\n",
       "      <td>TCO2E_Asparagopsis taxiformis</td>\n",
       "      <td>0.000000</td>\n",
       "      <td>CO2</td>\n",
       "    </tr>\n",
       "    <tr>\n",
       "      <th>1</th>\n",
       "      <td>2010</td>\n",
       "      <td>Crop</td>\n",
       "      <td>Citrus</td>\n",
       "      <td>dry</td>\n",
       "      <td>TCO2E_Asparagopsis taxiformis</td>\n",
       "      <td>0.000000</td>\n",
       "      <td>CO2</td>\n",
       "    </tr>\n",
       "    <tr>\n",
       "      <th>2</th>\n",
       "      <td>2010</td>\n",
       "      <td>Crop</td>\n",
       "      <td>Cotton</td>\n",
       "      <td>dry</td>\n",
       "      <td>TCO2E_Asparagopsis taxiformis</td>\n",
       "      <td>0.000000</td>\n",
       "      <td>CO2</td>\n",
       "    </tr>\n",
       "    <tr>\n",
       "      <th>3</th>\n",
       "      <td>2010</td>\n",
       "      <td>Crop</td>\n",
       "      <td>Grapes</td>\n",
       "      <td>dry</td>\n",
       "      <td>TCO2E_Asparagopsis taxiformis</td>\n",
       "      <td>0.000000</td>\n",
       "      <td>CO2</td>\n",
       "    </tr>\n",
       "    <tr>\n",
       "      <th>4</th>\n",
       "      <td>2010</td>\n",
       "      <td>Crop</td>\n",
       "      <td>Hay</td>\n",
       "      <td>dry</td>\n",
       "      <td>TCO2E_Asparagopsis taxiformis</td>\n",
       "      <td>0.000000</td>\n",
       "      <td>CO2</td>\n",
       "    </tr>\n",
       "    <tr>\n",
       "      <th>...</th>\n",
       "      <td>...</td>\n",
       "      <td>...</td>\n",
       "      <td>...</td>\n",
       "      <td>...</td>\n",
       "      <td>...</td>\n",
       "      <td>...</td>\n",
       "      <td>...</td>\n",
       "    </tr>\n",
       "    <tr>\n",
       "      <th>5413</th>\n",
       "      <td>2050</td>\n",
       "      <td>Crop</td>\n",
       "      <td>Winter legumes</td>\n",
       "      <td>irr</td>\n",
       "      <td>TCO2E_Ecological Grazing</td>\n",
       "      <td>0.000000</td>\n",
       "      <td>CO2</td>\n",
       "    </tr>\n",
       "    <tr>\n",
       "      <th>5414</th>\n",
       "      <td>2050</td>\n",
       "      <td>Crop</td>\n",
       "      <td>Winter oilseeds</td>\n",
       "      <td>irr</td>\n",
       "      <td>TCO2E_Ecological Grazing</td>\n",
       "      <td>0.000000</td>\n",
       "      <td>CO2</td>\n",
       "    </tr>\n",
       "    <tr>\n",
       "      <th>5415</th>\n",
       "      <td>2050</td>\n",
       "      <td>Livestock</td>\n",
       "      <td>Beef</td>\n",
       "      <td>irr</td>\n",
       "      <td>TCO2E_Ecological Grazing</td>\n",
       "      <td>-0.000762</td>\n",
       "      <td>CO2</td>\n",
       "    </tr>\n",
       "    <tr>\n",
       "      <th>5416</th>\n",
       "      <td>2050</td>\n",
       "      <td>Livestock</td>\n",
       "      <td>Dairy</td>\n",
       "      <td>irr</td>\n",
       "      <td>TCO2E_Ecological Grazing</td>\n",
       "      <td>0.000000</td>\n",
       "      <td>CO2</td>\n",
       "    </tr>\n",
       "    <tr>\n",
       "      <th>5417</th>\n",
       "      <td>2050</td>\n",
       "      <td>Livestock</td>\n",
       "      <td>Sheep</td>\n",
       "      <td>irr</td>\n",
       "      <td>TCO2E_Ecological Grazing</td>\n",
       "      <td>0.000000</td>\n",
       "      <td>CO2</td>\n",
       "    </tr>\n",
       "  </tbody>\n",
       "</table>\n",
       "<p>5418 rows × 7 columns</p>\n",
       "</div>"
      ],
      "text/plain": [
       "      Year Land use category         Land use Irrigation  \\\n",
       "0     2010              Crop           Apples        dry   \n",
       "1     2010              Crop           Citrus        dry   \n",
       "2     2010              Crop           Cotton        dry   \n",
       "3     2010              Crop           Grapes        dry   \n",
       "4     2010              Crop              Hay        dry   \n",
       "...    ...               ...              ...        ...   \n",
       "5413  2050              Crop   Winter legumes        irr   \n",
       "5414  2050              Crop  Winter oilseeds        irr   \n",
       "5415  2050         Livestock             Beef        irr   \n",
       "5416  2050         Livestock            Dairy        irr   \n",
       "5417  2050         Livestock            Sheep        irr   \n",
       "\n",
       "                            Sources  Quantity (Mt CO2e) GHG Category  \n",
       "0     TCO2E_Asparagopsis taxiformis            0.000000          CO2  \n",
       "1     TCO2E_Asparagopsis taxiformis            0.000000          CO2  \n",
       "2     TCO2E_Asparagopsis taxiformis            0.000000          CO2  \n",
       "3     TCO2E_Asparagopsis taxiformis            0.000000          CO2  \n",
       "4     TCO2E_Asparagopsis taxiformis            0.000000          CO2  \n",
       "...                             ...                 ...          ...  \n",
       "5413       TCO2E_Ecological Grazing            0.000000          CO2  \n",
       "5414       TCO2E_Ecological Grazing            0.000000          CO2  \n",
       "5415       TCO2E_Ecological Grazing           -0.000762          CO2  \n",
       "5416       TCO2E_Ecological Grazing            0.000000          CO2  \n",
       "5417       TCO2E_Ecological Grazing            0.000000          CO2  \n",
       "\n",
       "[5418 rows x 7 columns]"
      ]
     },
     "execution_count": 19,
     "metadata": {},
     "output_type": "execute_result"
    }
   ],
   "source": [
    "ag_man_GHG.GHG_df_long"
   ]
  },
  {
   "cell_type": "code",
   "execution_count": null,
   "metadata": {},
   "outputs": [],
   "source": []
  },
  {
   "cell_type": "code",
   "execution_count": null,
   "metadata": {},
   "outputs": [],
   "source": []
  },
  {
   "cell_type": "markdown",
   "metadata": {},
   "source": [
    "### Sequestrations by Crops/Livestocks"
   ]
  },
  {
   "cell_type": "code",
   "execution_count": 20,
   "metadata": {
    "tags": [
     "hide-input"
    ]
   },
   "outputs": [
    {
     "name": "stderr",
     "output_type": "stream",
     "text": [
      "d:\\LUTO\\VIS_LUTO\\tools\\Plot_GHG.py:189: FutureWarning: The default value of numeric_only in DataFrameGroupBy.sum is deprecated. In a future version, numeric_only will default to False. Either specify numeric_only or select only columns which should be valid for the function.\n",
      "  GHG_crop_lvstk_total = self.GHG_df_long.groupby(['Year','Land use category']).sum()['Quantity (Mt CO2e)'].reset_index()\n"
     ]
    },
    {
     "data": {
      "text/html": [
       "\n",
       "<style>\n",
       "  #altair-viz-28a09f86d30a46e6a21ea8054ad77fea.vega-embed {\n",
       "    width: 100%;\n",
       "    display: flex;\n",
       "  }\n",
       "\n",
       "  #altair-viz-28a09f86d30a46e6a21ea8054ad77fea.vega-embed details,\n",
       "  #altair-viz-28a09f86d30a46e6a21ea8054ad77fea.vega-embed details summary {\n",
       "    position: relative;\n",
       "  }\n",
       "</style>\n",
       "<div id=\"altair-viz-28a09f86d30a46e6a21ea8054ad77fea\"></div>\n",
       "<script type=\"text/javascript\">\n",
       "  var VEGA_DEBUG = (typeof VEGA_DEBUG == \"undefined\") ? {} : VEGA_DEBUG;\n",
       "  (function(spec, embedOpt){\n",
       "    let outputDiv = document.currentScript.previousElementSibling;\n",
       "    if (outputDiv.id !== \"altair-viz-28a09f86d30a46e6a21ea8054ad77fea\") {\n",
       "      outputDiv = document.getElementById(\"altair-viz-28a09f86d30a46e6a21ea8054ad77fea\");\n",
       "    }\n",
       "    const paths = {\n",
       "      \"vega\": \"https://cdn.jsdelivr.net/npm/vega@5?noext\",\n",
       "      \"vega-lib\": \"https://cdn.jsdelivr.net/npm/vega-lib?noext\",\n",
       "      \"vega-lite\": \"https://cdn.jsdelivr.net/npm/vega-lite@5.15.1?noext\",\n",
       "      \"vega-embed\": \"https://cdn.jsdelivr.net/npm/vega-embed@6?noext\",\n",
       "    };\n",
       "\n",
       "    function maybeLoadScript(lib, version) {\n",
       "      var key = `${lib.replace(\"-\", \"\")}_version`;\n",
       "      return (VEGA_DEBUG[key] == version) ?\n",
       "        Promise.resolve(paths[lib]) :\n",
       "        new Promise(function(resolve, reject) {\n",
       "          var s = document.createElement('script');\n",
       "          document.getElementsByTagName(\"head\")[0].appendChild(s);\n",
       "          s.async = true;\n",
       "          s.onload = () => {\n",
       "            VEGA_DEBUG[key] = version;\n",
       "            return resolve(paths[lib]);\n",
       "          };\n",
       "          s.onerror = () => reject(`Error loading script: ${paths[lib]}`);\n",
       "          s.src = paths[lib];\n",
       "        });\n",
       "    }\n",
       "\n",
       "    function showError(err) {\n",
       "      outputDiv.innerHTML = `<div class=\"error\" style=\"color:red;\">${err}</div>`;\n",
       "      throw err;\n",
       "    }\n",
       "\n",
       "    function displayChart(vegaEmbed) {\n",
       "      vegaEmbed(outputDiv, spec, embedOpt)\n",
       "        .catch(err => showError(`Javascript Error: ${err.message}<br>This usually means there's a typo in your chart specification. See the javascript console for the full traceback.`));\n",
       "    }\n",
       "\n",
       "    if(typeof define === \"function\" && define.amd) {\n",
       "      requirejs.config({paths});\n",
       "      require([\"vega-embed\"], displayChart, err => showError(`Error loading script: ${err.message}`));\n",
       "    } else {\n",
       "      maybeLoadScript(\"vega\", \"5\")\n",
       "        .then(() => maybeLoadScript(\"vega-lite\", \"5.15.1\"))\n",
       "        .then(() => maybeLoadScript(\"vega-embed\", \"6\"))\n",
       "        .catch(showError)\n",
       "        .then(() => displayChart(vegaEmbed));\n",
       "    }\n",
       "  })({\"config\": {\"view\": {\"continuousWidth\": 300, \"continuousHeight\": 300}}, \"layer\": [{\"mark\": {\"type\": \"bar\"}, \"encoding\": {\"color\": {\"field\": \"Land use category\", \"legend\": {\"direction\": \"horizontal\", \"legendX\": 350, \"legendY\": -40, \"orient\": \"none\", \"title\": \"Landuse type\", \"titleAnchor\": \"middle\"}, \"type\": \"nominal\"}, \"tooltip\": [{\"field\": \"Land use category\", \"title\": \"Landuse type\", \"type\": \"ordinal\"}, {\"field\": \"Quantity (Mt CO2e)\", \"title\": \"GHG sequestration (Mt CO2e)\", \"type\": \"quantitative\"}], \"x\": {\"axis\": {\"labelAngle\": -90, \"title\": \"Year\"}, \"field\": \"Year\", \"type\": \"ordinal\"}, \"y\": {\"field\": \"Quantity (Mt CO2e)\", \"scale\": {\"reverse\": true, \"zero\": false}, \"title\": \"GHG sequestration (Mt CO2e) (Mt CO2e)\", \"type\": \"quantitative\"}}}], \"data\": {\"name\": \"data-dd856dfd01301786977b5b55e6096f47\"}, \"height\": 450, \"width\": 800, \"$schema\": \"https://vega.github.io/schema/vega-lite/v5.15.1.json\", \"datasets\": {\"data-dd856dfd01301786977b5b55e6096f47\": [{\"Year\": 2010, \"Land use category\": \"Crop\", \"Quantity (Mt CO2e)\": 0.0}, {\"Year\": 2010, \"Land use category\": \"Livestock\", \"Quantity (Mt CO2e)\": 0.0}, {\"Year\": 2011, \"Land use category\": \"Crop\", \"Quantity (Mt CO2e)\": -0.066758407784}, {\"Year\": 2011, \"Land use category\": \"Livestock\", \"Quantity (Mt CO2e)\": -1.0744760901000001}, {\"Year\": 2012, \"Land use category\": \"Crop\", \"Quantity (Mt CO2e)\": -0.06694030525}, {\"Year\": 2012, \"Land use category\": \"Livestock\", \"Quantity (Mt CO2e)\": -1.5323962667200002}, {\"Year\": 2013, \"Land use category\": \"Crop\", \"Quantity (Mt CO2e)\": -0.073058677228}, {\"Year\": 2013, \"Land use category\": \"Livestock\", \"Quantity (Mt CO2e)\": -1.8739550568999999}, {\"Year\": 2014, \"Land use category\": \"Crop\", \"Quantity (Mt CO2e)\": -0.07400567313}, {\"Year\": 2014, \"Land use category\": \"Livestock\", \"Quantity (Mt CO2e)\": -2.0664346711399997}, {\"Year\": 2015, \"Land use category\": \"Crop\", \"Quantity (Mt CO2e)\": -0.07887580611}, {\"Year\": 2015, \"Land use category\": \"Livestock\", \"Quantity (Mt CO2e)\": -2.35328668793}, {\"Year\": 2016, \"Land use category\": \"Crop\", \"Quantity (Mt CO2e)\": -0.08355684888}, {\"Year\": 2016, \"Land use category\": \"Livestock\", \"Quantity (Mt CO2e)\": -2.6449098769800004}, {\"Year\": 2017, \"Land use category\": \"Crop\", \"Quantity (Mt CO2e)\": -0.0878393244}, {\"Year\": 2017, \"Land use category\": \"Livestock\", \"Quantity (Mt CO2e)\": -2.85641862554}, {\"Year\": 2018, \"Land use category\": \"Crop\", \"Quantity (Mt CO2e)\": -0.08701534004}, {\"Year\": 2018, \"Land use category\": \"Livestock\", \"Quantity (Mt CO2e)\": -3.0365046978}, {\"Year\": 2019, \"Land use category\": \"Crop\", \"Quantity (Mt CO2e)\": -0.087376754327}, {\"Year\": 2019, \"Land use category\": \"Livestock\", \"Quantity (Mt CO2e)\": -3.2563850052000003}, {\"Year\": 2020, \"Land use category\": \"Crop\", \"Quantity (Mt CO2e)\": -0.08866934764}, {\"Year\": 2020, \"Land use category\": \"Livestock\", \"Quantity (Mt CO2e)\": -3.4316427037999997}, {\"Year\": 2021, \"Land use category\": \"Crop\", \"Quantity (Mt CO2e)\": -0.09770725916}, {\"Year\": 2021, \"Land use category\": \"Livestock\", \"Quantity (Mt CO2e)\": -3.630715474786}, {\"Year\": 2022, \"Land use category\": \"Crop\", \"Quantity (Mt CO2e)\": -0.11341147488}, {\"Year\": 2022, \"Land use category\": \"Livestock\", \"Quantity (Mt CO2e)\": -3.78598945851}, {\"Year\": 2023, \"Land use category\": \"Crop\", \"Quantity (Mt CO2e)\": -0.12369728863}, {\"Year\": 2023, \"Land use category\": \"Livestock\", \"Quantity (Mt CO2e)\": -4.00127885868}, {\"Year\": 2024, \"Land use category\": \"Crop\", \"Quantity (Mt CO2e)\": -0.13391795823}, {\"Year\": 2024, \"Land use category\": \"Livestock\", \"Quantity (Mt CO2e)\": -4.160810162325}, {\"Year\": 2025, \"Land use category\": \"Crop\", \"Quantity (Mt CO2e)\": -0.14242078047}, {\"Year\": 2025, \"Land use category\": \"Livestock\", \"Quantity (Mt CO2e)\": -4.35776003442}, {\"Year\": 2026, \"Land use category\": \"Crop\", \"Quantity (Mt CO2e)\": -0.15298510949}, {\"Year\": 2026, \"Land use category\": \"Livestock\", \"Quantity (Mt CO2e)\": -4.457775359719999}, {\"Year\": 2027, \"Land use category\": \"Crop\", \"Quantity (Mt CO2e)\": -0.17461904037999998}, {\"Year\": 2027, \"Land use category\": \"Livestock\", \"Quantity (Mt CO2e)\": -4.59496529004}, {\"Year\": 2028, \"Land use category\": \"Crop\", \"Quantity (Mt CO2e)\": -0.20042259074}, {\"Year\": 2028, \"Land use category\": \"Livestock\", \"Quantity (Mt CO2e)\": -4.70498965509}, {\"Year\": 2029, \"Land use category\": \"Crop\", \"Quantity (Mt CO2e)\": -0.21175277736}, {\"Year\": 2029, \"Land use category\": \"Livestock\", \"Quantity (Mt CO2e)\": -4.74779611562}, {\"Year\": 2030, \"Land use category\": \"Crop\", \"Quantity (Mt CO2e)\": -0.2252508741}, {\"Year\": 2030, \"Land use category\": \"Livestock\", \"Quantity (Mt CO2e)\": -4.9091428729499995}, {\"Year\": 2031, \"Land use category\": \"Crop\", \"Quantity (Mt CO2e)\": -0.24051966168}, {\"Year\": 2031, \"Land use category\": \"Livestock\", \"Quantity (Mt CO2e)\": -5.96845965153}, {\"Year\": 2032, \"Land use category\": \"Crop\", \"Quantity (Mt CO2e)\": -0.2649142727014}, {\"Year\": 2032, \"Land use category\": \"Livestock\", \"Quantity (Mt CO2e)\": -8.27357230153}, {\"Year\": 2033, \"Land use category\": \"Crop\", \"Quantity (Mt CO2e)\": -0.28040192164}, {\"Year\": 2033, \"Land use category\": \"Livestock\", \"Quantity (Mt CO2e)\": -12.2686452666}, {\"Year\": 2034, \"Land use category\": \"Crop\", \"Quantity (Mt CO2e)\": -0.30220544584000003}, {\"Year\": 2034, \"Land use category\": \"Livestock\", \"Quantity (Mt CO2e)\": -15.482936888000001}, {\"Year\": 2035, \"Land use category\": \"Crop\", \"Quantity (Mt CO2e)\": -0.34716086682999997}, {\"Year\": 2035, \"Land use category\": \"Livestock\", \"Quantity (Mt CO2e)\": -15.07696300179}, {\"Year\": 2036, \"Land use category\": \"Crop\", \"Quantity (Mt CO2e)\": -0.4084387287}, {\"Year\": 2036, \"Land use category\": \"Livestock\", \"Quantity (Mt CO2e)\": -12.08124589575}, {\"Year\": 2037, \"Land use category\": \"Crop\", \"Quantity (Mt CO2e)\": -0.42924386612}, {\"Year\": 2037, \"Land use category\": \"Livestock\", \"Quantity (Mt CO2e)\": -10.65228723385}, {\"Year\": 2038, \"Land use category\": \"Crop\", \"Quantity (Mt CO2e)\": -0.44798112665}, {\"Year\": 2038, \"Land use category\": \"Livestock\", \"Quantity (Mt CO2e)\": -10.17881298211}, {\"Year\": 2039, \"Land use category\": \"Crop\", \"Quantity (Mt CO2e)\": -0.51750500921}, {\"Year\": 2039, \"Land use category\": \"Livestock\", \"Quantity (Mt CO2e)\": -11.0535422948932}, {\"Year\": 2040, \"Land use category\": \"Crop\", \"Quantity (Mt CO2e)\": -0.5339558130600001}, {\"Year\": 2040, \"Land use category\": \"Livestock\", \"Quantity (Mt CO2e)\": -14.014976873928}, {\"Year\": 2041, \"Land use category\": \"Crop\", \"Quantity (Mt CO2e)\": -0.57064836246}, {\"Year\": 2041, \"Land use category\": \"Livestock\", \"Quantity (Mt CO2e)\": -15.71800201625}, {\"Year\": 2042, \"Land use category\": \"Crop\", \"Quantity (Mt CO2e)\": -0.5816282110500001}, {\"Year\": 2042, \"Land use category\": \"Livestock\", \"Quantity (Mt CO2e)\": -16.5182567076}, {\"Year\": 2043, \"Land use category\": \"Crop\", \"Quantity (Mt CO2e)\": -0.59302666589}, {\"Year\": 2043, \"Land use category\": \"Livestock\", \"Quantity (Mt CO2e)\": -16.776726866803}, {\"Year\": 2044, \"Land use category\": \"Crop\", \"Quantity (Mt CO2e)\": -0.61191872209}, {\"Year\": 2044, \"Land use category\": \"Livestock\", \"Quantity (Mt CO2e)\": -18.409852638685}, {\"Year\": 2045, \"Land use category\": \"Crop\", \"Quantity (Mt CO2e)\": -0.62160420071}, {\"Year\": 2045, \"Land use category\": \"Livestock\", \"Quantity (Mt CO2e)\": -22.342438980614}, {\"Year\": 2046, \"Land use category\": \"Crop\", \"Quantity (Mt CO2e)\": -0.63795825324}, {\"Year\": 2046, \"Land use category\": \"Livestock\", \"Quantity (Mt CO2e)\": -24.968580717323}, {\"Year\": 2047, \"Land use category\": \"Crop\", \"Quantity (Mt CO2e)\": -0.645271233883}, {\"Year\": 2047, \"Land use category\": \"Livestock\", \"Quantity (Mt CO2e)\": -26.244577993474}, {\"Year\": 2048, \"Land use category\": \"Crop\", \"Quantity (Mt CO2e)\": -0.65871809605}, {\"Year\": 2048, \"Land use category\": \"Livestock\", \"Quantity (Mt CO2e)\": -26.666465971079997}, {\"Year\": 2049, \"Land use category\": \"Crop\", \"Quantity (Mt CO2e)\": -0.66528521858}, {\"Year\": 2049, \"Land use category\": \"Livestock\", \"Quantity (Mt CO2e)\": -27.14295486542}, {\"Year\": 2050, \"Land use category\": \"Crop\", \"Quantity (Mt CO2e)\": -0.69034613234}, {\"Year\": 2050, \"Land use category\": \"Livestock\", \"Quantity (Mt CO2e)\": -28.048433061154}]}}, {\"mode\": \"vega-lite\"});\n",
       "</script>"
      ],
      "text/plain": [
       "alt.LayerChart(...)"
      ]
     },
     "execution_count": 20,
     "metadata": {},
     "output_type": "execute_result"
    }
   ],
   "source": [
    "# HIDE CODE\n",
    "# get the df and plot\n",
    "GHG_ag_man_GHG_crop_lvstk_df,GHG_ag_man_GHG_crop_lvstk_plot = ag_man_GHG.plot_GHG_crop_lvstk()\n",
    "GHG_ag_man_GHG_crop_lvstk_plot"
   ]
  },
  {
   "cell_type": "code",
   "execution_count": null,
   "metadata": {},
   "outputs": [],
   "source": []
  },
  {
   "cell_type": "code",
   "execution_count": null,
   "metadata": {},
   "outputs": [],
   "source": []
  },
  {
   "cell_type": "markdown",
   "metadata": {},
   "source": [
    "### Sequestrations by irrigation system"
   ]
  },
  {
   "cell_type": "code",
   "execution_count": 21,
   "metadata": {
    "tags": [
     "hide-input"
    ]
   },
   "outputs": [
    {
     "name": "stderr",
     "output_type": "stream",
     "text": [
      "d:\\LUTO\\VIS_LUTO\\tools\\Plot_GHG.py:242: FutureWarning: The default value of numeric_only in DataFrameGroupBy.sum is deprecated. In a future version, numeric_only will default to False. Either specify numeric_only or select only columns which should be valid for the function.\n",
      "  GHG_lm_total = self.GHG_df_long.groupby(['Year','Irrigation']).sum()['Quantity (Mt CO2e)'].reset_index()\n"
     ]
    },
    {
     "data": {
      "text/html": [
       "\n",
       "<style>\n",
       "  #altair-viz-6b2ebf1dd9794cc19bc5023f075fd61b.vega-embed {\n",
       "    width: 100%;\n",
       "    display: flex;\n",
       "  }\n",
       "\n",
       "  #altair-viz-6b2ebf1dd9794cc19bc5023f075fd61b.vega-embed details,\n",
       "  #altair-viz-6b2ebf1dd9794cc19bc5023f075fd61b.vega-embed details summary {\n",
       "    position: relative;\n",
       "  }\n",
       "</style>\n",
       "<div id=\"altair-viz-6b2ebf1dd9794cc19bc5023f075fd61b\"></div>\n",
       "<script type=\"text/javascript\">\n",
       "  var VEGA_DEBUG = (typeof VEGA_DEBUG == \"undefined\") ? {} : VEGA_DEBUG;\n",
       "  (function(spec, embedOpt){\n",
       "    let outputDiv = document.currentScript.previousElementSibling;\n",
       "    if (outputDiv.id !== \"altair-viz-6b2ebf1dd9794cc19bc5023f075fd61b\") {\n",
       "      outputDiv = document.getElementById(\"altair-viz-6b2ebf1dd9794cc19bc5023f075fd61b\");\n",
       "    }\n",
       "    const paths = {\n",
       "      \"vega\": \"https://cdn.jsdelivr.net/npm/vega@5?noext\",\n",
       "      \"vega-lib\": \"https://cdn.jsdelivr.net/npm/vega-lib?noext\",\n",
       "      \"vega-lite\": \"https://cdn.jsdelivr.net/npm/vega-lite@5.15.1?noext\",\n",
       "      \"vega-embed\": \"https://cdn.jsdelivr.net/npm/vega-embed@6?noext\",\n",
       "    };\n",
       "\n",
       "    function maybeLoadScript(lib, version) {\n",
       "      var key = `${lib.replace(\"-\", \"\")}_version`;\n",
       "      return (VEGA_DEBUG[key] == version) ?\n",
       "        Promise.resolve(paths[lib]) :\n",
       "        new Promise(function(resolve, reject) {\n",
       "          var s = document.createElement('script');\n",
       "          document.getElementsByTagName(\"head\")[0].appendChild(s);\n",
       "          s.async = true;\n",
       "          s.onload = () => {\n",
       "            VEGA_DEBUG[key] = version;\n",
       "            return resolve(paths[lib]);\n",
       "          };\n",
       "          s.onerror = () => reject(`Error loading script: ${paths[lib]}`);\n",
       "          s.src = paths[lib];\n",
       "        });\n",
       "    }\n",
       "\n",
       "    function showError(err) {\n",
       "      outputDiv.innerHTML = `<div class=\"error\" style=\"color:red;\">${err}</div>`;\n",
       "      throw err;\n",
       "    }\n",
       "\n",
       "    function displayChart(vegaEmbed) {\n",
       "      vegaEmbed(outputDiv, spec, embedOpt)\n",
       "        .catch(err => showError(`Javascript Error: ${err.message}<br>This usually means there's a typo in your chart specification. See the javascript console for the full traceback.`));\n",
       "    }\n",
       "\n",
       "    if(typeof define === \"function\" && define.amd) {\n",
       "      requirejs.config({paths});\n",
       "      require([\"vega-embed\"], displayChart, err => showError(`Error loading script: ${err.message}`));\n",
       "    } else {\n",
       "      maybeLoadScript(\"vega\", \"5\")\n",
       "        .then(() => maybeLoadScript(\"vega-lite\", \"5.15.1\"))\n",
       "        .then(() => maybeLoadScript(\"vega-embed\", \"6\"))\n",
       "        .catch(showError)\n",
       "        .then(() => displayChart(vegaEmbed));\n",
       "    }\n",
       "  })({\"config\": {\"view\": {\"continuousWidth\": 300, \"continuousHeight\": 300}}, \"layer\": [{\"mark\": {\"type\": \"bar\"}, \"encoding\": {\"color\": {\"field\": \"Irrigation\", \"legend\": {\"direction\": \"horizontal\", \"legendX\": 350, \"legendY\": -40, \"orient\": \"none\", \"title\": \"Irrigation\", \"titleAnchor\": \"middle\"}, \"type\": \"nominal\"}, \"tooltip\": [{\"field\": \"Irrigation\", \"title\": \"Irrigation\", \"type\": \"nominal\"}, {\"field\": \"Quantity (Mt CO2e)\", \"title\": \"GHG sequestration (Mt CO2e)\", \"type\": \"quantitative\"}], \"x\": {\"axis\": {\"labelAngle\": -90, \"title\": \"Year\"}, \"field\": \"Year\", \"type\": \"ordinal\"}, \"y\": {\"field\": \"Quantity (Mt CO2e)\", \"scale\": {\"reverse\": true}, \"title\": \"GHG sequestration (Mt CO2e) (Mt CO2e)\", \"type\": \"quantitative\"}}}], \"data\": {\"name\": \"data-2e4b653971b0c5615dd68420334bf180\"}, \"height\": 450, \"width\": 800, \"$schema\": \"https://vega.github.io/schema/vega-lite/v5.15.1.json\", \"datasets\": {\"data-2e4b653971b0c5615dd68420334bf180\": [{\"Year\": 2010, \"Irrigation\": \"dry\", \"Quantity (Mt CO2e)\": 0.0}, {\"Year\": 2010, \"Irrigation\": \"irr\", \"Quantity (Mt CO2e)\": 0.0}, {\"Year\": 2011, \"Irrigation\": \"dry\", \"Quantity (Mt CO2e)\": -1.0956663823400001}, {\"Year\": 2011, \"Irrigation\": \"irr\", \"Quantity (Mt CO2e)\": -0.045568115544}, {\"Year\": 2012, \"Irrigation\": \"dry\", \"Quantity (Mt CO2e)\": -1.5500133739000002}, {\"Year\": 2012, \"Irrigation\": \"irr\", \"Quantity (Mt CO2e)\": -0.049323198070000004}, {\"Year\": 2013, \"Irrigation\": \"dry\", \"Quantity (Mt CO2e)\": -1.8927146881999999}, {\"Year\": 2013, \"Irrigation\": \"irr\", \"Quantity (Mt CO2e)\": -0.054299045928}, {\"Year\": 2014, \"Irrigation\": \"dry\", \"Quantity (Mt CO2e)\": -2.08698548435}, {\"Year\": 2014, \"Irrigation\": \"irr\", \"Quantity (Mt CO2e)\": -0.05345485992}, {\"Year\": 2015, \"Irrigation\": \"dry\", \"Quantity (Mt CO2e)\": -2.3747718534}, {\"Year\": 2015, \"Irrigation\": \"irr\", \"Quantity (Mt CO2e)\": -0.057390640640000004}, {\"Year\": 2016, \"Irrigation\": \"dry\", \"Quantity (Mt CO2e)\": -2.6678355010500003}, {\"Year\": 2016, \"Irrigation\": \"irr\", \"Quantity (Mt CO2e)\": -0.06063122481}, {\"Year\": 2017, \"Irrigation\": \"dry\", \"Quantity (Mt CO2e)\": -2.88057505843}, {\"Year\": 2017, \"Irrigation\": \"irr\", \"Quantity (Mt CO2e)\": -0.06368289151}, {\"Year\": 2018, \"Irrigation\": \"dry\", \"Quantity (Mt CO2e)\": -3.05703023309}, {\"Year\": 2018, \"Irrigation\": \"irr\", \"Quantity (Mt CO2e)\": -0.06648980475}, {\"Year\": 2019, \"Irrigation\": \"dry\", \"Quantity (Mt CO2e)\": -3.2757124772270005}, {\"Year\": 2019, \"Irrigation\": \"irr\", \"Quantity (Mt CO2e)\": -0.0680492823}, {\"Year\": 2020, \"Irrigation\": \"dry\", \"Quantity (Mt CO2e)\": -3.45022356783}, {\"Year\": 2020, \"Irrigation\": \"irr\", \"Quantity (Mt CO2e)\": -0.07008848361}, {\"Year\": 2021, \"Irrigation\": \"dry\", \"Quantity (Mt CO2e)\": -3.6541298164400002}, {\"Year\": 2021, \"Irrigation\": \"irr\", \"Quantity (Mt CO2e)\": -0.074292917506}, {\"Year\": 2022, \"Irrigation\": \"dry\", \"Quantity (Mt CO2e)\": -3.8125005145400004}, {\"Year\": 2022, \"Irrigation\": \"irr\", \"Quantity (Mt CO2e)\": -0.08690041885000001}, {\"Year\": 2023, \"Irrigation\": \"dry\", \"Quantity (Mt CO2e)\": -4.03364725054}, {\"Year\": 2023, \"Irrigation\": \"irr\", \"Quantity (Mt CO2e)\": -0.09132889677}, {\"Year\": 2024, \"Irrigation\": \"dry\", \"Quantity (Mt CO2e)\": -4.197262757900001}, {\"Year\": 2024, \"Irrigation\": \"irr\", \"Quantity (Mt CO2e)\": -0.097465362655}, {\"Year\": 2025, \"Irrigation\": \"dry\", \"Quantity (Mt CO2e)\": -4.39973352643}, {\"Year\": 2025, \"Irrigation\": \"irr\", \"Quantity (Mt CO2e)\": -0.10044728846}, {\"Year\": 2026, \"Irrigation\": \"dry\", \"Quantity (Mt CO2e)\": -4.50294132304}, {\"Year\": 2026, \"Irrigation\": \"irr\", \"Quantity (Mt CO2e)\": -0.10781914617}, {\"Year\": 2027, \"Irrigation\": \"dry\", \"Quantity (Mt CO2e)\": -4.641001083680001}, {\"Year\": 2027, \"Irrigation\": \"irr\", \"Quantity (Mt CO2e)\": -0.12858324674}, {\"Year\": 2028, \"Irrigation\": \"dry\", \"Quantity (Mt CO2e)\": -4.755145868730001}, {\"Year\": 2028, \"Irrigation\": \"irr\", \"Quantity (Mt CO2e)\": -0.1502663771}, {\"Year\": 2029, \"Irrigation\": \"dry\", \"Quantity (Mt CO2e)\": -4.79949839266}, {\"Year\": 2029, \"Irrigation\": \"irr\", \"Quantity (Mt CO2e)\": -0.16005050032}, {\"Year\": 2030, \"Irrigation\": \"dry\", \"Quantity (Mt CO2e)\": -4.97048596413}, {\"Year\": 2030, \"Irrigation\": \"irr\", \"Quantity (Mt CO2e)\": -0.16390778292}, {\"Year\": 2031, \"Irrigation\": \"dry\", \"Quantity (Mt CO2e)\": -6.03583706905}, {\"Year\": 2031, \"Irrigation\": \"irr\", \"Quantity (Mt CO2e)\": -0.17314224416000001}, {\"Year\": 2032, \"Irrigation\": \"dry\", \"Quantity (Mt CO2e)\": -8.3597368653914}, {\"Year\": 2032, \"Irrigation\": \"irr\", \"Quantity (Mt CO2e)\": -0.17874970884}, {\"Year\": 2033, \"Irrigation\": \"dry\", \"Quantity (Mt CO2e)\": -12.35730247068}, {\"Year\": 2033, \"Irrigation\": \"irr\", \"Quantity (Mt CO2e)\": -0.19174471756}, {\"Year\": 2034, \"Irrigation\": \"dry\", \"Quantity (Mt CO2e)\": -15.58200155567}, {\"Year\": 2034, \"Irrigation\": \"irr\", \"Quantity (Mt CO2e)\": -0.20314077817}, {\"Year\": 2035, \"Irrigation\": \"dry\", \"Quantity (Mt CO2e)\": -15.19230463805}, {\"Year\": 2035, \"Irrigation\": \"irr\", \"Quantity (Mt CO2e)\": -0.23181923057}, {\"Year\": 2036, \"Irrigation\": \"dry\", \"Quantity (Mt CO2e)\": -12.22350377407}, {\"Year\": 2036, \"Irrigation\": \"irr\", \"Quantity (Mt CO2e)\": -0.26618085038}, {\"Year\": 2037, \"Irrigation\": \"dry\", \"Quantity (Mt CO2e)\": -10.802407574210001}, {\"Year\": 2037, \"Irrigation\": \"irr\", \"Quantity (Mt CO2e)\": -0.27912352576}, {\"Year\": 2038, \"Irrigation\": \"dry\", \"Quantity (Mt CO2e)\": -10.335315288105}, {\"Year\": 2038, \"Irrigation\": \"irr\", \"Quantity (Mt CO2e)\": -0.291478820655}, {\"Year\": 2039, \"Irrigation\": \"dry\", \"Quantity (Mt CO2e)\": -11.23482833067}, {\"Year\": 2039, \"Irrigation\": \"irr\", \"Quantity (Mt CO2e)\": -0.3362189734332}, {\"Year\": 2040, \"Irrigation\": \"dry\", \"Quantity (Mt CO2e)\": -14.20243113419}, {\"Year\": 2040, \"Irrigation\": \"irr\", \"Quantity (Mt CO2e)\": -0.346501552798}, {\"Year\": 2041, \"Irrigation\": \"dry\", \"Quantity (Mt CO2e)\": -15.90883119739}, {\"Year\": 2041, \"Irrigation\": \"irr\", \"Quantity (Mt CO2e)\": -0.37981918132000003}, {\"Year\": 2042, \"Irrigation\": \"dry\", \"Quantity (Mt CO2e)\": -16.71392216024}, {\"Year\": 2042, \"Irrigation\": \"irr\", \"Quantity (Mt CO2e)\": -0.38596275841}, {\"Year\": 2043, \"Irrigation\": \"dry\", \"Quantity (Mt CO2e)\": -16.97695751059}, {\"Year\": 2043, \"Irrigation\": \"irr\", \"Quantity (Mt CO2e)\": -0.39279602210299996}, {\"Year\": 2044, \"Irrigation\": \"dry\", \"Quantity (Mt CO2e)\": -18.61736943646}, {\"Year\": 2044, \"Irrigation\": \"irr\", \"Quantity (Mt CO2e)\": -0.404401924315}, {\"Year\": 2045, \"Irrigation\": \"dry\", \"Quantity (Mt CO2e)\": -22.55663860671}, {\"Year\": 2045, \"Irrigation\": \"irr\", \"Quantity (Mt CO2e)\": -0.407404574614}, {\"Year\": 2046, \"Irrigation\": \"dry\", \"Quantity (Mt CO2e)\": -25.191217624780002}, {\"Year\": 2046, \"Irrigation\": \"irr\", \"Quantity (Mt CO2e)\": -0.415321345783}, {\"Year\": 2047, \"Irrigation\": \"dry\", \"Quantity (Mt CO2e)\": -26.471551531082998}, {\"Year\": 2047, \"Irrigation\": \"irr\", \"Quantity (Mt CO2e)\": -0.418297696274}, {\"Year\": 2048, \"Irrigation\": \"dry\", \"Quantity (Mt CO2e)\": -26.90193427198}, {\"Year\": 2048, \"Irrigation\": \"irr\", \"Quantity (Mt CO2e)\": -0.42324979515}, {\"Year\": 2049, \"Irrigation\": \"dry\", \"Quantity (Mt CO2e)\": -27.3678663369}, {\"Year\": 2049, \"Irrigation\": \"irr\", \"Quantity (Mt CO2e)\": -0.4403737471}, {\"Year\": 2050, \"Irrigation\": \"dry\", \"Quantity (Mt CO2e)\": -27.99252654192}, {\"Year\": 2050, \"Irrigation\": \"irr\", \"Quantity (Mt CO2e)\": -0.746252651574}]}}, {\"mode\": \"vega-lite\"});\n",
       "</script>"
      ],
      "text/plain": [
       "alt.LayerChart(...)"
      ]
     },
     "execution_count": 21,
     "metadata": {},
     "output_type": "execute_result"
    }
   ],
   "source": [
    "# HIDE CODE\n",
    "# get the df and plot\n",
    "GHG_ag_man_dry_irr_df,GHG_ag_man_dry_irr_plot = ag_man_GHG.plot_GHG_dry_irr()\n",
    "GHG_ag_man_dry_irr_plot"
   ]
  },
  {
   "cell_type": "code",
   "execution_count": null,
   "metadata": {},
   "outputs": [],
   "source": []
  },
  {
   "cell_type": "markdown",
   "metadata": {},
   "source": [
    "### Sequestrations by GHG category"
   ]
  },
  {
   "cell_type": "code",
   "execution_count": 22,
   "metadata": {
    "tags": [
     "hide-input"
    ]
   },
   "outputs": [
    {
     "name": "stderr",
     "output_type": "stream",
     "text": [
      "d:\\LUTO\\VIS_LUTO\\tools\\Plot_GHG.py:284: FutureWarning: The default value of numeric_only in DataFrameGroupBy.sum is deprecated. In a future version, numeric_only will default to False. Either specify numeric_only or select only columns which should be valid for the function.\n",
      "  GHG_category_total = self.GHG_df_long.groupby(['Year','GHG Category']).sum()['Quantity (Mt CO2e)'].reset_index()\n"
     ]
    },
    {
     "data": {
      "text/html": [
       "\n",
       "<style>\n",
       "  #altair-viz-046ee68984ee4778b0b48ae06bc43950.vega-embed {\n",
       "    width: 100%;\n",
       "    display: flex;\n",
       "  }\n",
       "\n",
       "  #altair-viz-046ee68984ee4778b0b48ae06bc43950.vega-embed details,\n",
       "  #altair-viz-046ee68984ee4778b0b48ae06bc43950.vega-embed details summary {\n",
       "    position: relative;\n",
       "  }\n",
       "</style>\n",
       "<div id=\"altair-viz-046ee68984ee4778b0b48ae06bc43950\"></div>\n",
       "<script type=\"text/javascript\">\n",
       "  var VEGA_DEBUG = (typeof VEGA_DEBUG == \"undefined\") ? {} : VEGA_DEBUG;\n",
       "  (function(spec, embedOpt){\n",
       "    let outputDiv = document.currentScript.previousElementSibling;\n",
       "    if (outputDiv.id !== \"altair-viz-046ee68984ee4778b0b48ae06bc43950\") {\n",
       "      outputDiv = document.getElementById(\"altair-viz-046ee68984ee4778b0b48ae06bc43950\");\n",
       "    }\n",
       "    const paths = {\n",
       "      \"vega\": \"https://cdn.jsdelivr.net/npm/vega@5?noext\",\n",
       "      \"vega-lib\": \"https://cdn.jsdelivr.net/npm/vega-lib?noext\",\n",
       "      \"vega-lite\": \"https://cdn.jsdelivr.net/npm/vega-lite@5.15.1?noext\",\n",
       "      \"vega-embed\": \"https://cdn.jsdelivr.net/npm/vega-embed@6?noext\",\n",
       "    };\n",
       "\n",
       "    function maybeLoadScript(lib, version) {\n",
       "      var key = `${lib.replace(\"-\", \"\")}_version`;\n",
       "      return (VEGA_DEBUG[key] == version) ?\n",
       "        Promise.resolve(paths[lib]) :\n",
       "        new Promise(function(resolve, reject) {\n",
       "          var s = document.createElement('script');\n",
       "          document.getElementsByTagName(\"head\")[0].appendChild(s);\n",
       "          s.async = true;\n",
       "          s.onload = () => {\n",
       "            VEGA_DEBUG[key] = version;\n",
       "            return resolve(paths[lib]);\n",
       "          };\n",
       "          s.onerror = () => reject(`Error loading script: ${paths[lib]}`);\n",
       "          s.src = paths[lib];\n",
       "        });\n",
       "    }\n",
       "\n",
       "    function showError(err) {\n",
       "      outputDiv.innerHTML = `<div class=\"error\" style=\"color:red;\">${err}</div>`;\n",
       "      throw err;\n",
       "    }\n",
       "\n",
       "    function displayChart(vegaEmbed) {\n",
       "      vegaEmbed(outputDiv, spec, embedOpt)\n",
       "        .catch(err => showError(`Javascript Error: ${err.message}<br>This usually means there's a typo in your chart specification. See the javascript console for the full traceback.`));\n",
       "    }\n",
       "\n",
       "    if(typeof define === \"function\" && define.amd) {\n",
       "      requirejs.config({paths});\n",
       "      require([\"vega-embed\"], displayChart, err => showError(`Error loading script: ${err.message}`));\n",
       "    } else {\n",
       "      maybeLoadScript(\"vega\", \"5\")\n",
       "        .then(() => maybeLoadScript(\"vega-lite\", \"5.15.1\"))\n",
       "        .then(() => maybeLoadScript(\"vega-embed\", \"6\"))\n",
       "        .catch(showError)\n",
       "        .then(() => displayChart(vegaEmbed));\n",
       "    }\n",
       "  })({\"config\": {\"view\": {\"continuousWidth\": 300, \"continuousHeight\": 300}}, \"layer\": [{\"mark\": {\"type\": \"bar\"}, \"encoding\": {\"color\": {\"field\": \"GHG Category\", \"legend\": {\"direction\": \"horizontal\", \"legendX\": 320, \"legendY\": -30, \"orient\": \"none\", \"title\": \"GHG Category\", \"titleAnchor\": \"middle\"}, \"type\": \"nominal\"}, \"tooltip\": [{\"field\": \"GHG Category\", \"title\": \"GHG Category\", \"type\": \"nominal\"}, {\"field\": \"Quantity (Mt CO2e)\", \"title\": \"GHG sequestration (Mt CO2e)\", \"type\": \"quantitative\"}], \"x\": {\"axis\": {\"labelAngle\": -90, \"title\": \"Year\"}, \"field\": \"Year\", \"type\": \"ordinal\"}, \"y\": {\"field\": \"Quantity (Mt CO2e)\", \"scale\": {\"reverse\": true}, \"title\": \"GHG sequestration (Mt CO2e) (Mt CO2e)\", \"type\": \"quantitative\"}}}], \"data\": {\"name\": \"data-2ec081cfd652c13bf4e7001de00a565a\"}, \"height\": 450, \"width\": 800, \"$schema\": \"https://vega.github.io/schema/vega-lite/v5.15.1.json\", \"datasets\": {\"data-2ec081cfd652c13bf4e7001de00a565a\": [{\"Year\": 2010, \"GHG Category\": \"CO2\", \"Quantity (Mt CO2e)\": 0.0}, {\"Year\": 2011, \"GHG Category\": \"CO2\", \"Quantity (Mt CO2e)\": -1.141234497884}, {\"Year\": 2012, \"GHG Category\": \"CO2\", \"Quantity (Mt CO2e)\": -1.5993365719700001}, {\"Year\": 2013, \"GHG Category\": \"CO2\", \"Quantity (Mt CO2e)\": -1.9470137341279998}, {\"Year\": 2014, \"GHG Category\": \"CO2\", \"Quantity (Mt CO2e)\": -2.14044034427}, {\"Year\": 2015, \"GHG Category\": \"CO2\", \"Quantity (Mt CO2e)\": -2.43216249404}, {\"Year\": 2016, \"GHG Category\": \"CO2\", \"Quantity (Mt CO2e)\": -2.72846672586}, {\"Year\": 2017, \"GHG Category\": \"CO2\", \"Quantity (Mt CO2e)\": -2.94425794994}, {\"Year\": 2018, \"GHG Category\": \"CO2\", \"Quantity (Mt CO2e)\": -3.12352003784}, {\"Year\": 2019, \"GHG Category\": \"CO2\", \"Quantity (Mt CO2e)\": -3.343761759527}, {\"Year\": 2020, \"GHG Category\": \"CO2\", \"Quantity (Mt CO2e)\": -3.52031205144}, {\"Year\": 2021, \"GHG Category\": \"CO2\", \"Quantity (Mt CO2e)\": -3.728422733946}, {\"Year\": 2022, \"GHG Category\": \"CO2\", \"Quantity (Mt CO2e)\": -3.8994009333900004}, {\"Year\": 2023, \"GHG Category\": \"CO2\", \"Quantity (Mt CO2e)\": -4.12497614731}, {\"Year\": 2024, \"GHG Category\": \"CO2\", \"Quantity (Mt CO2e)\": -4.294728120555001}, {\"Year\": 2025, \"GHG Category\": \"CO2\", \"Quantity (Mt CO2e)\": -4.50018081489}, {\"Year\": 2026, \"GHG Category\": \"CO2\", \"Quantity (Mt CO2e)\": -4.61076046921}, {\"Year\": 2027, \"GHG Category\": \"CO2\", \"Quantity (Mt CO2e)\": -4.769584330420001}, {\"Year\": 2028, \"GHG Category\": \"CO2\", \"Quantity (Mt CO2e)\": -4.90541224583}, {\"Year\": 2029, \"GHG Category\": \"CO2\", \"Quantity (Mt CO2e)\": -4.95954889298}, {\"Year\": 2030, \"GHG Category\": \"CO2\", \"Quantity (Mt CO2e)\": -5.13439374705}, {\"Year\": 2031, \"GHG Category\": \"CO2\", \"Quantity (Mt CO2e)\": -6.2089793132099995}, {\"Year\": 2032, \"GHG Category\": \"CO2\", \"Quantity (Mt CO2e)\": -8.5384865742314}, {\"Year\": 2033, \"GHG Category\": \"CO2\", \"Quantity (Mt CO2e)\": -12.54904718824}, {\"Year\": 2034, \"GHG Category\": \"CO2\", \"Quantity (Mt CO2e)\": -15.78514233384}, {\"Year\": 2035, \"GHG Category\": \"CO2\", \"Quantity (Mt CO2e)\": -15.42412386862}, {\"Year\": 2036, \"GHG Category\": \"CO2\", \"Quantity (Mt CO2e)\": -12.48968462445}, {\"Year\": 2037, \"GHG Category\": \"CO2\", \"Quantity (Mt CO2e)\": -11.08153109997}, {\"Year\": 2038, \"GHG Category\": \"CO2\", \"Quantity (Mt CO2e)\": -10.62679410876}, {\"Year\": 2039, \"GHG Category\": \"CO2\", \"Quantity (Mt CO2e)\": -11.5710473041032}, {\"Year\": 2040, \"GHG Category\": \"CO2\", \"Quantity (Mt CO2e)\": -14.548932686988}, {\"Year\": 2041, \"GHG Category\": \"CO2\", \"Quantity (Mt CO2e)\": -16.28865037871}, {\"Year\": 2042, \"GHG Category\": \"CO2\", \"Quantity (Mt CO2e)\": -17.09988491865}, {\"Year\": 2043, \"GHG Category\": \"CO2\", \"Quantity (Mt CO2e)\": -17.369753532693}, {\"Year\": 2044, \"GHG Category\": \"CO2\", \"Quantity (Mt CO2e)\": -19.021771360775}, {\"Year\": 2045, \"GHG Category\": \"CO2\", \"Quantity (Mt CO2e)\": -22.964043181323998}, {\"Year\": 2046, \"GHG Category\": \"CO2\", \"Quantity (Mt CO2e)\": -25.606538970563}, {\"Year\": 2047, \"GHG Category\": \"CO2\", \"Quantity (Mt CO2e)\": -26.889849227357}, {\"Year\": 2048, \"GHG Category\": \"CO2\", \"Quantity (Mt CO2e)\": -27.32518406713}, {\"Year\": 2049, \"GHG Category\": \"CO2\", \"Quantity (Mt CO2e)\": -27.808240084}, {\"Year\": 2050, \"GHG Category\": \"CO2\", \"Quantity (Mt CO2e)\": -28.738779193493997}]}}, {\"mode\": \"vega-lite\"});\n",
       "</script>"
      ],
      "text/plain": [
       "alt.LayerChart(...)"
      ]
     },
     "execution_count": 22,
     "metadata": {},
     "output_type": "execute_result"
    }
   ],
   "source": [
    "# HIDE CODE\n",
    "# get the df and plot\n",
    "GHG_ag_man_df,GHG_ag_man_plot = ag_man_GHG.plot_GHG_category()\n",
    "GHG_ag_man_plot"
   ]
  },
  {
   "cell_type": "code",
   "execution_count": null,
   "metadata": {},
   "outputs": [],
   "source": []
  },
  {
   "cell_type": "code",
   "execution_count": null,
   "metadata": {},
   "outputs": [],
   "source": []
  },
  {
   "cell_type": "code",
   "execution_count": null,
   "metadata": {},
   "outputs": [],
   "source": []
  },
  {
   "cell_type": "code",
   "execution_count": null,
   "metadata": {},
   "outputs": [],
   "source": []
  },
  {
   "cell_type": "code",
   "execution_count": null,
   "metadata": {},
   "outputs": [],
   "source": []
  },
  {
   "cell_type": "code",
   "execution_count": null,
   "metadata": {},
   "outputs": [],
   "source": []
  },
  {
   "cell_type": "code",
   "execution_count": null,
   "metadata": {},
   "outputs": [],
   "source": []
  },
  {
   "cell_type": "code",
   "execution_count": null,
   "metadata": {},
   "outputs": [],
   "source": []
  },
  {
   "cell_type": "code",
   "execution_count": null,
   "metadata": {},
   "outputs": [],
   "source": []
  }
 ],
 "metadata": {
  "celltoolbar": "Tags",
  "kernelspec": {
   "display_name": "Python 3 (ipykernel)",
   "language": "python",
   "name": "python3"
  },
  "language_info": {
   "codemirror_mode": {
    "name": "ipython",
    "version": 3
   },
   "file_extension": ".py",
   "mimetype": "text/x-python",
   "name": "python",
   "nbconvert_exporter": "python",
   "pygments_lexer": "ipython3",
   "version": "3.10.9"
  },
  "toc-autonumbering": false,
  "toc-showmarkdowntxt": false
 },
 "nbformat": 4,
 "nbformat_minor": 4
}
